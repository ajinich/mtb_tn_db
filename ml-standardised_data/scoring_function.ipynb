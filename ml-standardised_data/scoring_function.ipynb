{
 "cells": [
  {
   "cell_type": "code",
   "execution_count": 10,
   "id": "43d32077-1d54-4576-9a5d-1bb7044e252f",
   "metadata": {},
   "outputs": [],
   "source": [
    "import seaborn as sns\n",
    "import os"
   ]
  },
  {
   "cell_type": "code",
   "execution_count": 5,
   "id": "2c70baf5-17bf-4f67-91c7-9d269d903501",
   "metadata": {},
   "outputs": [
    {
     "data": {
      "text/html": [
       "<svg  width=\"550\" height=\"55\"><rect x=\"0\" y=\"0\" width=\"55\" height=\"55\" style=\"fill:#0173b2;stroke-width:2;stroke:rgb(255,255,255)\"/><rect x=\"55\" y=\"0\" width=\"55\" height=\"55\" style=\"fill:#de8f05;stroke-width:2;stroke:rgb(255,255,255)\"/><rect x=\"110\" y=\"0\" width=\"55\" height=\"55\" style=\"fill:#029e73;stroke-width:2;stroke:rgb(255,255,255)\"/><rect x=\"165\" y=\"0\" width=\"55\" height=\"55\" style=\"fill:#d55e00;stroke-width:2;stroke:rgb(255,255,255)\"/><rect x=\"220\" y=\"0\" width=\"55\" height=\"55\" style=\"fill:#cc78bc;stroke-width:2;stroke:rgb(255,255,255)\"/><rect x=\"275\" y=\"0\" width=\"55\" height=\"55\" style=\"fill:#ca9161;stroke-width:2;stroke:rgb(255,255,255)\"/><rect x=\"330\" y=\"0\" width=\"55\" height=\"55\" style=\"fill:#fbafe4;stroke-width:2;stroke:rgb(255,255,255)\"/><rect x=\"385\" y=\"0\" width=\"55\" height=\"55\" style=\"fill:#949494;stroke-width:2;stroke:rgb(255,255,255)\"/><rect x=\"440\" y=\"0\" width=\"55\" height=\"55\" style=\"fill:#ece133;stroke-width:2;stroke:rgb(255,255,255)\"/><rect x=\"495\" y=\"0\" width=\"55\" height=\"55\" style=\"fill:#56b4e9;stroke-width:2;stroke:rgb(255,255,255)\"/></svg>"
      ],
      "text/plain": [
       "[(0.00392156862745098, 0.45098039215686275, 0.6980392156862745),\n",
       " (0.8705882352941177, 0.5607843137254902, 0.0196078431372549),\n",
       " (0.00784313725490196, 0.6196078431372549, 0.45098039215686275),\n",
       " (0.8352941176470589, 0.3686274509803922, 0.0),\n",
       " (0.8, 0.47058823529411764, 0.7372549019607844),\n",
       " (0.792156862745098, 0.5686274509803921, 0.3803921568627451),\n",
       " (0.984313725490196, 0.6862745098039216, 0.8941176470588236),\n",
       " (0.5803921568627451, 0.5803921568627451, 0.5803921568627451),\n",
       " (0.9254901960784314, 0.8823529411764706, 0.2),\n",
       " (0.33725490196078434, 0.7058823529411765, 0.9137254901960784)]"
      ]
     },
     "execution_count": 5,
     "metadata": {},
     "output_type": "execute_result"
    }
   ],
   "source": [
    "colors_sns = sns.color_palette('colorblind')\n",
    "colors_sns"
   ]
  },
  {
   "cell_type": "code",
   "execution_count": 4,
   "id": "b5af6ae3-b093-44fa-846d-b6bf785e9e23",
   "metadata": {},
   "outputs": [],
   "source": [
    "def get_pdockq(fn_pdb, fn_plddt):\n",
    "    chain_coords = read_pdb(fn_pdb)\n",
    "    #Check chains\n",
    "    if len(chain_coords.keys())<2:\n",
    "        print('Only one chain in pdbfile', args.pdbfile[0])\n",
    "\n",
    "    #Get plDDT\n",
    "    dict_scores = json.load(open(fn_plddt,'r'))\n",
    "    plddt = np.array(dict_scores['plddt'])\n",
    "\n",
    "    #Calculate pdockq\n",
    "    t=8 #Distance threshold, set to 8 Å\n",
    "    pdockq, ppv = calc_pdockq(chain_coords, plddt, t)\n",
    "#     print('pDockQ =',np.round(pdockq,3),'for',fn_pdb.split('/')[-1])\n",
    "#     print('This corresponds to a PPV of at least', ppv)\n",
    "    return np.round(pdockq,3), ppv\n"
   ]
  },
  {
   "cell_type": "code",
   "execution_count": 6,
   "id": "2cbb338f-734a-4910-aac1-e3dbc7f8a1d1",
   "metadata": {},
   "outputs": [],
   "source": [
    "def get_pdb_plddt_files(path_data):\n",
    "    list_dir = [os.path.join(path_data, dir_temp) for dir_temp in os.listdir(path_data)]\n",
    "    list_fn_pdb = [os.path.join(dir_temp, fn) for dir_temp in list_dir for fn in os.listdir(dir_temp) if '.pdb' in fn and 'rank_1' in fn]\n",
    "    list_fn_plddt = [os.path.join(dir_temp, fn) for dir_temp in list_dir for fn in os.listdir(dir_temp) if '.json' in fn and 'rank_1' in fn]\n",
    "    return list_fn_pdb, list_fn_plddt"
   ]
  },
  {
   "cell_type": "code",
   "execution_count": 7,
   "id": "c6b5d062-e99a-48dc-9edc-d91c12d1e20a",
   "metadata": {},
   "outputs": [],
   "source": [
    "def get_scores(list_fn_pdb, list_fn_plddt, first_alpha=False):\n",
    "    list_pdockq = []\n",
    "    list_ppv = []\n",
    "    list_entry_pair = []\n",
    "    \n",
    "    for i in range(len(list_fn_pdb)):\n",
    "        \n",
    "        fn_pdb = list_fn_pdb[i]\n",
    "        fn_plddt = list_fn_plddt[i]\n",
    "        fn_only = fn_pdb.split('/')[-1]\n",
    "        if first_alpha==False:\n",
    "            if 'MSMEG' in fn_only and 'Rv' in fn_only:\n",
    "                entry_pair = '_'.join(fn_only.split('_')[:4])\n",
    "            elif 'MSMEG' in fn_only and not 'Rv' in fn_only:\n",
    "                entry_pair = '_'.join(fn_only.split('_')[:5])\n",
    "            else:\n",
    "                entry_pair = '_'.join(fn_only.split('_')[:3])\n",
    "        \n",
    "        else:\n",
    "            if 'MSMEG' in fn_only:\n",
    "                entry_pair = '_'.join(fn_only.split('_')[1:6])              \n",
    "            else:\n",
    "                entry_pair = '_'.join(fn_only.split('_')[1:4])\n",
    "            \n",
    "            \n",
    "        pdockq, ppv = get_pdockq(fn_pdb, fn_plddt)\n",
    "        list_pdockq.append(pdockq)\n",
    "        list_ppv.append(ppv)\n",
    "        list_entry_pair.append(entry_pair)\n",
    "    \n",
    "    df_scores = pd.DataFrame()\n",
    "    df_scores['Entry_pairs'] = list_entry_pair\n",
    "    df_scores['pdockq'] = list_pdockq\n",
    "    df_scores['ppv'] = list_ppv\n",
    "    df_scores.sort_values(by = 'pdockq', ascending=False, inplace=True)\n",
    "    df_scores.reset_index(inplace=True, drop=True)\n",
    "    return df_scores"
   ]
  },
  {
   "cell_type": "markdown",
   "id": "14ba492b-2fbf-43bc-8088-315bfc8d7a30",
   "metadata": {},
   "source": [
    "# Clean up folders from large files: "
   ]
  },
  {
   "cell_type": "code",
   "execution_count": 11,
   "id": "c37b3f2d-9427-48ea-a1b4-771abec198c7",
   "metadata": {},
   "outputs": [],
   "source": [
    "mother_dir = '/home/ajinich/Dropbox/KyuRhee/unknown_function/unknown_redox/data/GLS_TnSeq_v2/AF_pairs/AF2_complexes/'\n",
    "\n",
    "# traverse root directory, and list directories as dirs and files as files\n",
    "list_fn_a3m = []\n",
    "for root, dirs, files in os.walk(mother_dir):\n",
    "    path = root.split(os.sep)\n",
    "    for file in files:\n",
    "        if \".a3m\" in file:\n",
    "            list_fn_a3m.append(os.path.join(root, file))"
   ]
  },
  {
   "cell_type": "code",
   "execution_count": 13,
   "id": "b3f20138-baf0-4e8e-bbc5-e929d5f1238d",
   "metadata": {},
   "outputs": [],
   "source": [
    "for fn in list_fn_a3m:\n",
    "    os.remove(fn)"
   ]
  },
  {
   "cell_type": "markdown",
   "id": "f5e5a6ac-9374-49b8-b8df-4d2e0fc56f0b",
   "metadata": {},
   "source": [
    "[I'm confused]: Remove from \"pending\" to \"done\" directories"
   ]
  },
  {
   "cell_type": "code",
   "execution_count": 15,
   "id": "df67a450-b132-4c33-a9bd-371274bc59a0",
   "metadata": {},
   "outputs": [],
   "source": [
    "source_dir = '/home/ajinich/Dropbox/KyuRhee/unknown_function/unknown_redox/data/GLS_TnSeq_v2/AF_pairs/PENDING/' # this is where the pending fasta files are. \n",
    "target_dir = '/home/ajinich/Dropbox/KyuRhee/unknown_function/unknown_redox/data/GLS_TnSeq_v2/AF_pairs/DONE/' # this is where the processed fasta files are moved\n",
    "results_dir = '/home/ajinich/Dropbox/KyuRhee/unknown_function/unknown_redox/data/GLS_TnSeq_v2/AF_pairs/AF2_complexes/' # this is where the AF2 results are kept\n",
    "\n",
    "list_source_fn = [fn.split('.')[0] for fn in os.listdir(source_dir)]\n",
    "list_result_dir = [d.split('.')[0] for d in os.listdir(results_dir)]\n",
    "\n",
    "list_to_move_src = [os.path.join(source_dir, fn+'.fasta') for fn in list_source_fn if fn in list_result_dir]\n",
    "list_to_move_target = [os.path.join(target_dir, fn+'.fasta') for fn in list_source_fn if fn in list_result_dir]"
   ]
  },
  {
   "cell_type": "code",
   "execution_count": 16,
   "id": "b881b4a9-f853-4a2f-88fb-bd55bedc5e23",
   "metadata": {},
   "outputs": [
    {
     "data": {
      "text/plain": [
       "[]"
      ]
     },
     "execution_count": 16,
     "metadata": {},
     "output_type": "execute_result"
    }
   ],
   "source": [
    "list_to_move_target"
   ]
  },
  {
   "cell_type": "code",
   "execution_count": null,
   "id": "ca47b4d8-2eac-43d5-aeee-00b0d0e43d0e",
   "metadata": {},
   "outputs": [],
   "source": []
  }
 ],
 "metadata": {
  "kernelspec": {
   "display_name": "Python 3 (ipykernel)",
   "language": "python",
   "name": "python3"
  },
  "language_info": {
   "codemirror_mode": {
    "name": "ipython",
    "version": 3
   },
   "file_extension": ".py",
   "mimetype": "text/x-python",
   "name": "python",
   "nbconvert_exporter": "python",
   "pygments_lexer": "ipython3",
   "version": "3.8.10"
  }
 },
 "nbformat": 4,
 "nbformat_minor": 5
}
