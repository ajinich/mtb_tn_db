{
 "cells": [
  {
   "cell_type": "code",
   "execution_count": 52,
   "id": "43d32077-1d54-4576-9a5d-1bb7044e252f",
   "metadata": {},
   "outputs": [],
   "source": [
    "import seaborn as sns\n",
    "import os\n",
    "import shutil\n",
    "from pdockq import *\n",
    "import json\n",
    "import matplotlib.pyplot as plt"
   ]
  },
  {
   "cell_type": "code",
   "execution_count": 53,
   "id": "2c70baf5-17bf-4f67-91c7-9d269d903501",
   "metadata": {},
   "outputs": [
    {
     "data": {
      "text/html": [
       "<svg  width=\"550\" height=\"55\"><rect x=\"0\" y=\"0\" width=\"55\" height=\"55\" style=\"fill:#0173b2;stroke-width:2;stroke:rgb(255,255,255)\"/><rect x=\"55\" y=\"0\" width=\"55\" height=\"55\" style=\"fill:#de8f05;stroke-width:2;stroke:rgb(255,255,255)\"/><rect x=\"110\" y=\"0\" width=\"55\" height=\"55\" style=\"fill:#029e73;stroke-width:2;stroke:rgb(255,255,255)\"/><rect x=\"165\" y=\"0\" width=\"55\" height=\"55\" style=\"fill:#d55e00;stroke-width:2;stroke:rgb(255,255,255)\"/><rect x=\"220\" y=\"0\" width=\"55\" height=\"55\" style=\"fill:#cc78bc;stroke-width:2;stroke:rgb(255,255,255)\"/><rect x=\"275\" y=\"0\" width=\"55\" height=\"55\" style=\"fill:#ca9161;stroke-width:2;stroke:rgb(255,255,255)\"/><rect x=\"330\" y=\"0\" width=\"55\" height=\"55\" style=\"fill:#fbafe4;stroke-width:2;stroke:rgb(255,255,255)\"/><rect x=\"385\" y=\"0\" width=\"55\" height=\"55\" style=\"fill:#949494;stroke-width:2;stroke:rgb(255,255,255)\"/><rect x=\"440\" y=\"0\" width=\"55\" height=\"55\" style=\"fill:#ece133;stroke-width:2;stroke:rgb(255,255,255)\"/><rect x=\"495\" y=\"0\" width=\"55\" height=\"55\" style=\"fill:#56b4e9;stroke-width:2;stroke:rgb(255,255,255)\"/></svg>"
      ],
      "text/plain": [
       "[(0.00392156862745098, 0.45098039215686275, 0.6980392156862745),\n",
       " (0.8705882352941177, 0.5607843137254902, 0.0196078431372549),\n",
       " (0.00784313725490196, 0.6196078431372549, 0.45098039215686275),\n",
       " (0.8352941176470589, 0.3686274509803922, 0.0),\n",
       " (0.8, 0.47058823529411764, 0.7372549019607844),\n",
       " (0.792156862745098, 0.5686274509803921, 0.3803921568627451),\n",
       " (0.984313725490196, 0.6862745098039216, 0.8941176470588236),\n",
       " (0.5803921568627451, 0.5803921568627451, 0.5803921568627451),\n",
       " (0.9254901960784314, 0.8823529411764706, 0.2),\n",
       " (0.33725490196078434, 0.7058823529411765, 0.9137254901960784)]"
      ]
     },
     "execution_count": 53,
     "metadata": {},
     "output_type": "execute_result"
    }
   ],
   "source": [
    "colors_sns = sns.color_palette('colorblind')\n",
    "colors_sns"
   ]
  },
  {
   "cell_type": "code",
   "execution_count": 54,
   "id": "b5af6ae3-b093-44fa-846d-b6bf785e9e23",
   "metadata": {},
   "outputs": [],
   "source": [
    "def get_pdockq(fn_pdb, fn_plddt):\n",
    "    chain_coords = read_pdb(fn_pdb)\n",
    "    #Check chains\n",
    "    if len(chain_coords.keys())<2:\n",
    "        print('Only one chain in pdbfile', args.pdbfile[0])\n",
    "\n",
    "    #Get plDDT\n",
    "    dict_scores = json.load(open(fn_plddt,'r'))\n",
    "    plddt = np.array(dict_scores['plddt'])\n",
    "\n",
    "    #Calculate pdockq\n",
    "    t=8 #Distance threshold, set to 8 Å\n",
    "    pdockq, ppv = calc_pdockq(chain_coords, plddt, t)\n",
    "#     print('pDockQ =',np.round(pdockq,3),'for',fn_pdb.split('/')[-1])\n",
    "#     print('This corresponds to a PPV of at least', ppv)\n",
    "    return np.round(pdockq,3), ppv\n"
   ]
  },
  {
   "cell_type": "code",
   "execution_count": 55,
   "id": "2cbb338f-734a-4910-aac1-e3dbc7f8a1d1",
   "metadata": {},
   "outputs": [],
   "source": [
    "def get_pdb_plddt_files(path_data):\n",
    "    list_dir = [os.path.join(path_data, dir_temp) for dir_temp in os.listdir(path_data)]\n",
    "    list_fn_pdb = [os.path.join(dir_temp, fn) for dir_temp in list_dir for fn in os.listdir(dir_temp) if '.pdb' in fn and 'rank_1' in fn]\n",
    "    list_fn_plddt = [os.path.join(dir_temp, fn) for dir_temp in list_dir for fn in os.listdir(dir_temp) if '.json' in fn and 'rank_1' in fn]\n",
    "    return list_fn_pdb, list_fn_plddt"
   ]
  },
  {
   "cell_type": "code",
   "execution_count": 56,
   "id": "c6b5d062-e99a-48dc-9edc-d91c12d1e20a",
   "metadata": {},
   "outputs": [],
   "source": [
    "def get_scores(list_fn_pdb, list_fn_plddt, first_alpha=False):\n",
    "    list_pdockq = []\n",
    "    list_ppv = []\n",
    "    list_entry_pair = []\n",
    "    \n",
    "    for i in range(len(list_fn_pdb)):\n",
    "        \n",
    "        fn_pdb = list_fn_pdb[i]\n",
    "        fn_plddt = list_fn_plddt[i]\n",
    "        fn_only = fn_pdb.split('/')[-1]\n",
    "        if first_alpha==False:\n",
    "            if 'MSMEG' in fn_only and 'Rv' in fn_only:\n",
    "                entry_pair = '_'.join(fn_only.split('_')[:4])\n",
    "            elif 'MSMEG' in fn_only and not 'Rv' in fn_only:\n",
    "                entry_pair = '_'.join(fn_only.split('_')[:5])\n",
    "            else:\n",
    "                entry_pair = '_'.join(fn_only.split('_')[:3])\n",
    "        \n",
    "        else:\n",
    "            if 'MSMEG' in fn_only:\n",
    "                entry_pair = '_'.join(fn_only.split('_')[1:6])              \n",
    "            else:\n",
    "                entry_pair = '_'.join(fn_only.split('_')[1:4])\n",
    "            \n",
    "            \n",
    "        pdockq, ppv = get_pdockq(fn_pdb, fn_plddt)\n",
    "        list_pdockq.append(pdockq)\n",
    "        list_ppv.append(ppv)\n",
    "        list_entry_pair.append(entry_pair)\n",
    "    \n",
    "    df_scores = pd.DataFrame()\n",
    "    df_scores['Entry_pairs'] = list_entry_pair\n",
    "    df_scores['pdockq'] = list_pdockq\n",
    "    df_scores['ppv'] = list_ppv\n",
    "    df_scores.sort_values(by = 'pdockq', ascending=False, inplace=True)\n",
    "    df_scores.reset_index(inplace=True, drop=True)\n",
    "    return df_scores"
   ]
  },
  {
   "cell_type": "markdown",
   "id": "1d2052f5-e8e3-4294-bb9f-39dc07cb7a61",
   "metadata": {},
   "source": [
    "# Get scores for protein pair candidates:"
   ]
  },
  {
   "cell_type": "markdown",
   "id": "381f6b27-4b6b-4a05-b826-1851e977f695",
   "metadata": {},
   "source": [
    "List of test pairs from TnSeq correlations: "
   ]
  },
  {
   "cell_type": "code",
   "execution_count": 57,
   "id": "4dac07ce-aefd-42e5-b157-fc6e37e3df6d",
   "metadata": {},
   "outputs": [
    {
     "data": {
      "text/plain": [
       "(85, 3)"
      ]
     },
     "execution_count": 57,
     "metadata": {},
     "output_type": "execute_result"
    }
   ],
   "source": [
    "path_tests = '/home/ajinich/Dropbox/KyuRhee/unknown_function/unknown_redox/data/GLS_TnSeq_v2/AF_pairs/AF2_complexes/'\n",
    "list_fn_pdb, list_fn_plddt = get_pdb_plddt_files(path_tests)\n",
    "df_tests = get_scores(list_fn_pdb, list_fn_plddt)\n",
    "df_tests.shape"
   ]
  },
  {
   "cell_type": "markdown",
   "id": "a3adc83b-f754-4321-8306-e52baa632aa1",
   "metadata": {},
   "source": [
    "List of randomized control of protein pairs:\n"
   ]
  },
  {
   "cell_type": "code",
   "execution_count": 58,
   "id": "5f8b4c63-c836-4ad6-bc33-002d410ee325",
   "metadata": {},
   "outputs": [],
   "source": [
    "path_GLS_rand = '/home/ajinich/Dropbox/KyuRhee/misc_code/saurabh/data/AF_complex_downloads_batch/random_v2/'\n",
    "list_fn_pdb, list_fn_plddt = get_pdb_plddt_files(path_GLS_rand)\n",
    "df_GLS_rand = get_scores(list_fn_pdb, list_fn_plddt)"
   ]
  },
  {
   "cell_type": "markdown",
   "id": "cc6d5764-2128-4b66-8892-501036dd3e00",
   "metadata": {},
   "source": [
    "Positive controls: "
   ]
  },
  {
   "cell_type": "code",
   "execution_count": null,
   "id": "705f098d-92b4-4d73-b5af-8927339b2cdd",
   "metadata": {},
   "outputs": [],
   "source": [
    "# Optional"
   ]
  },
  {
   "cell_type": "markdown",
   "id": "cef558e2-f054-42a6-ab4f-8da4ce90354f",
   "metadata": {},
   "source": [
    "## Plotting pDockQ scores: "
   ]
  },
  {
   "cell_type": "code",
   "execution_count": 59,
   "id": "fcaae017-e7e9-492e-ada5-a25c46315e86",
   "metadata": {},
   "outputs": [],
   "source": [
    "w_param = 0.3\n",
    "x_val = 1\n",
    "x_rand = [x_val + w_param*(np.random.uniform() - 0.5) for i in range(df_GLS_rand.shape[0])]\n",
    "x_val = 2\n",
    "x_tests = [x_val + w_param*(np.random.uniform() - 0.5) for i in range(df_tests.shape[0])] "
   ]
  },
  {
   "cell_type": "code",
   "execution_count": 60,
   "id": "74d6a55f-25c1-438d-a7ad-857522cc7516",
   "metadata": {},
   "outputs": [
    {
     "data": {
      "image/png": "[encoded data removed]",
      "text/plain": [
       "<Figure size 504x432 with 1 Axes>"
      ]
     },
     "metadata": {
      "needs_background": "light"
     },
     "output_type": "display_data"
    }
   ],
   "source": [
    "plt.figure(figsize = (7,6) )\n",
    "\n",
    "plt.scatter(x_rand, df_GLS_rand.pdockq.values, s = 100, edgecolors='k', alpha = 0.65)\n",
    "plt.scatter(x_tests, df_tests.pdockq.values, s = 100, edgecolors='k', alpha = 0.65)\n",
    "\n",
    "plt.xlim(0, 3)\n",
    "plt.ylim(-0.1, 0.9)\n",
    "plt.yticks(fontsize = 14)\n",
    "plt.xticks([1, 2], ['random\\nprotein pairs', 'TnSeq correlation\\nPPI candidates'], rotation=0, fontsize=18)\n",
    "# plt.xticks([1, 2], ['big-small\\nrandom\\npairs', ''], rotation=0, fontsize=18)\n",
    "\n",
    "plt.ylabel('pDockQ score', fontsize = 20)\n",
    "\n",
    "plt.tight_layout()\n",
    "\n",
    "path_fig = '../figures/AF2_complex/pdockq_comparison_092122.png'\n",
    "plt.savefig(path_fig, dpi = 300)"
   ]
  },
  {
   "cell_type": "markdown",
   "id": "40dcac98-85d7-4426-8e49-b39e82589c16",
   "metadata": {},
   "source": [
    "Who are the top scoring pairs?: "
   ]
  },
  {
   "cell_type": "code",
   "execution_count": 61,
   "id": "763cbfbf-b8a0-415d-8226-5938d2264193",
   "metadata": {},
   "outputs": [
    {
     "name": "stdout",
     "output_type": "stream",
     "text": [
      "0.485\n"
     ]
    },
    {
     "data": {
      "text/html": [
       "<div>\n",
       "<style scoped>\n",
       "    .dataframe tbody tr th:only-of-type {\n",
       "        vertical-align: middle;\n",
       "    }\n",
       "\n",
       "    .dataframe tbody tr th {\n",
       "        vertical-align: top;\n",
       "    }\n",
       "\n",
       "    .dataframe thead th {\n",
       "        text-align: right;\n",
       "    }\n",
       "</style>\n",
       "<table border=\"1\" class=\"dataframe\">\n",
       "  <thead>\n",
       "    <tr style=\"text-align: right;\">\n",
       "      <th></th>\n",
       "      <th>Entry_pairs</th>\n",
       "      <th>pdockq</th>\n",
       "      <th>ppv</th>\n",
       "    </tr>\n",
       "  </thead>\n",
       "  <tbody>\n",
       "    <tr>\n",
       "      <th>0</th>\n",
       "      <td>Rv0170_and_Rv0173</td>\n",
       "      <td>0.718</td>\n",
       "      <td>0.981280</td>\n",
       "    </tr>\n",
       "    <tr>\n",
       "      <th>1</th>\n",
       "      <td>Rv1823_and_Rv1825</td>\n",
       "      <td>0.714</td>\n",
       "      <td>0.981280</td>\n",
       "    </tr>\n",
       "    <tr>\n",
       "      <th>2</th>\n",
       "      <td>Rv1765c_and_Rv2015c</td>\n",
       "      <td>0.664</td>\n",
       "      <td>0.981280</td>\n",
       "    </tr>\n",
       "    <tr>\n",
       "      <th>3</th>\n",
       "      <td>Rv2936_and_Rv2937</td>\n",
       "      <td>0.608</td>\n",
       "      <td>0.940019</td>\n",
       "    </tr>\n",
       "    <tr>\n",
       "      <th>4</th>\n",
       "      <td>Rv2936_and_Rv2938</td>\n",
       "      <td>0.583</td>\n",
       "      <td>0.924203</td>\n",
       "    </tr>\n",
       "    <tr>\n",
       "      <th>5</th>\n",
       "      <td>Rv3279c_and_Rv3281</td>\n",
       "      <td>0.548</td>\n",
       "      <td>0.916299</td>\n",
       "    </tr>\n",
       "    <tr>\n",
       "      <th>6</th>\n",
       "      <td>Rv1037c_and_Rv3619c</td>\n",
       "      <td>0.499</td>\n",
       "      <td>0.900431</td>\n",
       "    </tr>\n",
       "  </tbody>\n",
       "</table>\n",
       "</div>"
      ],
      "text/plain": [
       "           Entry_pairs  pdockq       ppv\n",
       "0    Rv0170_and_Rv0173   0.718  0.981280\n",
       "1    Rv1823_and_Rv1825   0.714  0.981280\n",
       "2  Rv1765c_and_Rv2015c   0.664  0.981280\n",
       "3    Rv2936_and_Rv2937   0.608  0.940019\n",
       "4    Rv2936_and_Rv2938   0.583  0.924203\n",
       "5   Rv3279c_and_Rv3281   0.548  0.916299\n",
       "6  Rv1037c_and_Rv3619c   0.499  0.900431"
      ]
     },
     "execution_count": 61,
     "metadata": {},
     "output_type": "execute_result"
    }
   ],
   "source": [
    "th_pdockq = df_GLS_rand.pdockq.max()\n",
    "print(th_pdockq)\n",
    "df_tests[df_tests.pdockq>th_pdockq]"
   ]
  },
  {
   "cell_type": "markdown",
   "id": "14ba492b-2fbf-43bc-8088-315bfc8d7a30",
   "metadata": {},
   "source": [
    "# Clean up folders from large files: "
   ]
  },
  {
   "cell_type": "code",
   "execution_count": 62,
   "id": "c37b3f2d-9427-48ea-a1b4-771abec198c7",
   "metadata": {},
   "outputs": [],
   "source": [
    "mother_dir = '/home/ajinich/Dropbox/KyuRhee/unknown_function/unknown_redox/data/GLS_TnSeq_v2/AF_pairs/AF2_complexes/'\n",
    "\n",
    "# traverse root directory, and list directories as dirs and files as files\n",
    "list_fn_a3m = []\n",
    "for root, dirs, files in os.walk(mother_dir):\n",
    "    path = root.split(os.sep)\n",
    "    for file in files:\n",
    "        if \".a3m\" in file:\n",
    "            list_fn_a3m.append(os.path.join(root, file))"
   ]
  },
  {
   "cell_type": "code",
   "execution_count": 63,
   "id": "b3f20138-baf0-4e8e-bbc5-e929d5f1238d",
   "metadata": {},
   "outputs": [],
   "source": [
    "for fn in list_fn_a3m:\n",
    "    os.remove(fn)"
   ]
  },
  {
   "cell_type": "markdown",
   "id": "f5e5a6ac-9374-49b8-b8df-4d2e0fc56f0b",
   "metadata": {},
   "source": [
    "#### Remove from \"pending\" to \"done\" directories"
   ]
  },
  {
   "cell_type": "code",
   "execution_count": 64,
   "id": "df67a450-b132-4c33-a9bd-371274bc59a0",
   "metadata": {},
   "outputs": [
    {
     "data": {
      "text/plain": [
       "40"
      ]
     },
     "execution_count": 64,
     "metadata": {},
     "output_type": "execute_result"
    }
   ],
   "source": [
    "source_dir = '/home/ajinich/Dropbox/KyuRhee/unknown_function/unknown_redox/data/GLS_TnSeq_v2/AF_pairs/PENDING/' # this is where the pending fasta files are. \n",
    "target_dir = '/home/ajinich/Dropbox/KyuRhee/unknown_function/unknown_redox/data/GLS_TnSeq_v2/AF_pairs/DONE/' # this is where the processed fasta files are moved\n",
    "results_dir = '/home/ajinich/Dropbox/KyuRhee/unknown_function/unknown_redox/data/GLS_TnSeq_v2/AF_pairs/AF2_complexes/' # this is where the AF2 results are kept\n",
    "\n",
    "list_source_fn = [fn.split('.')[0] for fn in os.listdir(source_dir)]\n",
    "list_result_dir = [d.split('.')[0] for d in os.listdir(results_dir)]\n",
    "\n",
    "list_to_move_src = [os.path.join(source_dir, fn+'.fasta') for fn in list_source_fn if fn in list_result_dir]\n",
    "list_to_move_target = [os.path.join(target_dir, fn+'.fasta') for fn in list_source_fn if fn in list_result_dir]\n",
    "\n",
    "len(list_to_move_target)"
   ]
  },
  {
   "cell_type": "code",
   "execution_count": 65,
   "id": "b881b4a9-f853-4a2f-88fb-bd55bedc5e23",
   "metadata": {},
   "outputs": [],
   "source": [
    "for i in range(len(list_to_move_src)):\n",
    "    shutil.move( list_to_move_src[i], list_to_move_target[i] )"
   ]
  },
  {
   "cell_type": "code",
   "execution_count": null,
   "id": "ca47b4d8-2eac-43d5-aeee-00b0d0e43d0e",
   "metadata": {},
   "outputs": [],
   "source": []
  }
 ],
 "metadata": {
  "kernelspec": {
   "display_name": "Python 3 (ipykernel)",
   "language": "python",
   "name": "python3"
  },
  "language_info": {
   "codemirror_mode": {
    "name": "ipython",
    "version": 3
   },
   "file_extension": ".py",
   "mimetype": "text/x-python",
   "name": "python",
   "nbconvert_exporter": "python",
   "pygments_lexer": "ipython3",
   "version": "3.8.10"
  }
 },
 "nbformat": 4,
 "nbformat_minor": 5
}
