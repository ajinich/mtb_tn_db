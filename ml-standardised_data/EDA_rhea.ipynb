{
 "cells": [
  {
   "cell_type": "markdown",
   "metadata": {},
   "source": [
    "# Objective: \n",
    "Given a protein family dataframe (obtained from UniProt), fetch Rhea identifiers. "
   ]
  },
  {
   "cell_type": "code",
   "execution_count": 10,
   "metadata": {},
   "outputs": [],
   "source": [
    "import pandas as pd\n",
    "import os\n",
    "import re\n",
    "import seaborn as sns\n",
    "import numpy as np"
   ]
  },
  {
   "cell_type": "code",
   "execution_count": 2,
   "metadata": {},
   "outputs": [],
   "source": [
    "file_in = '../data/annotations/uniprot-proteome_UP000001584.tab'\n",
    "df = pd.read_csv(file_in, sep = '\\t')"
   ]
  },
  {
   "cell_type": "code",
   "execution_count": 4,
   "metadata": {},
   "outputs": [
    {
     "data": {
      "text/html": [
       "<div>\n",
       "<style scoped>\n",
       "    .dataframe tbody tr th:only-of-type {\n",
       "        vertical-align: middle;\n",
       "    }\n",
       "\n",
       "    .dataframe tbody tr th {\n",
       "        vertical-align: top;\n",
       "    }\n",
       "\n",
       "    .dataframe thead th {\n",
       "        text-align: right;\n",
       "    }\n",
       "</style>\n",
       "<table border=\"1\" class=\"dataframe\">\n",
       "  <thead>\n",
       "    <tr style=\"text-align: right;\">\n",
       "      <th></th>\n",
       "      <th>Entry</th>\n",
       "      <th>Entry name</th>\n",
       "      <th>Status</th>\n",
       "      <th>Protein names</th>\n",
       "      <th>Gene names</th>\n",
       "      <th>Organism</th>\n",
       "      <th>Length</th>\n",
       "      <th>Annotation</th>\n",
       "      <th>Rhea ID</th>\n",
       "      <th>EC number</th>\n",
       "      <th>Catalytic activity</th>\n",
       "      <th>ChEBI</th>\n",
       "      <th>Sequence</th>\n",
       "      <th>Function [CC]</th>\n",
       "    </tr>\n",
       "  </thead>\n",
       "  <tbody>\n",
       "    <tr>\n",
       "      <th>0</th>\n",
       "      <td>L7N6B4</td>\n",
       "      <td>MOAD_MYCTU</td>\n",
       "      <td>reviewed</td>\n",
       "      <td>Molybdopterin synthase sulfur carrier subunit</td>\n",
       "      <td>moaD1 Rv3112 LH57_16990</td>\n",
       "      <td>Mycobacterium tuberculosis (strain ATCC 25618 ...</td>\n",
       "      <td>83</td>\n",
       "      <td>2 out of 5</td>\n",
       "      <td>NaN</td>\n",
       "      <td>NaN</td>\n",
       "      <td>NaN</td>\n",
       "      <td>NaN</td>\n",
       "      <td>MIKVNVLYFGAVREACDETPREEVEVQNGTDVGNLVDQLQQKYPRL...</td>\n",
       "      <td>FUNCTION: Involved in sulfur transfer in the c...</td>\n",
       "    </tr>\n",
       "    <tr>\n",
       "      <th>1</th>\n",
       "      <td>P9WJM5</td>\n",
       "      <td>MSRA_MYCTU</td>\n",
       "      <td>reviewed</td>\n",
       "      <td>Peptide methionine sulfoxide reductase MsrA (P...</td>\n",
       "      <td>msrA Rv0137c MTCI5.11c</td>\n",
       "      <td>Mycobacterium tuberculosis (strain ATCC 25618 ...</td>\n",
       "      <td>182</td>\n",
       "      <td>4 out of 5</td>\n",
       "      <td>RHEA:14217; RHEA:19993</td>\n",
       "      <td>1.8.4.11</td>\n",
       "      <td>CATALYTIC ACTIVITY: Reaction=[thioredoxin]-dis...</td>\n",
       "      <td>H2O [CHEBI:15377]; L-methionine [CHEBI:57844];...</td>\n",
       "      <td>MTSNQKAILAGGCFWGLQDLIRNQPGVVSTRVGYSGGNIPNATYRN...</td>\n",
       "      <td>FUNCTION: Has an important function as a repai...</td>\n",
       "    </tr>\n",
       "  </tbody>\n",
       "</table>\n",
       "</div>"
      ],
      "text/plain": [
       "    Entry  Entry name    Status  \\\n",
       "0  L7N6B4  MOAD_MYCTU  reviewed   \n",
       "1  P9WJM5  MSRA_MYCTU  reviewed   \n",
       "\n",
       "                                       Protein names               Gene names  \\\n",
       "0      Molybdopterin synthase sulfur carrier subunit  moaD1 Rv3112 LH57_16990   \n",
       "1  Peptide methionine sulfoxide reductase MsrA (P...   msrA Rv0137c MTCI5.11c   \n",
       "\n",
       "                                            Organism  Length  Annotation  \\\n",
       "0  Mycobacterium tuberculosis (strain ATCC 25618 ...      83  2 out of 5   \n",
       "1  Mycobacterium tuberculosis (strain ATCC 25618 ...     182  4 out of 5   \n",
       "\n",
       "                  Rhea ID EC number  \\\n",
       "0                     NaN       NaN   \n",
       "1  RHEA:14217; RHEA:19993  1.8.4.11   \n",
       "\n",
       "                                  Catalytic activity  \\\n",
       "0                                                NaN   \n",
       "1  CATALYTIC ACTIVITY: Reaction=[thioredoxin]-dis...   \n",
       "\n",
       "                                               ChEBI  \\\n",
       "0                                                NaN   \n",
       "1  H2O [CHEBI:15377]; L-methionine [CHEBI:57844];...   \n",
       "\n",
       "                                            Sequence  \\\n",
       "0  MIKVNVLYFGAVREACDETPREEVEVQNGTDVGNLVDQLQQKYPRL...   \n",
       "1  MTSNQKAILAGGCFWGLQDLIRNQPGVVSTRVGYSGGNIPNATYRN...   \n",
       "\n",
       "                                       Function [CC]  \n",
       "0  FUNCTION: Involved in sulfur transfer in the c...  \n",
       "1  FUNCTION: Has an important function as a repai...  "
      ]
     },
     "execution_count": 4,
     "metadata": {},
     "output_type": "execute_result"
    }
   ],
   "source": [
    "df.head(2)"
   ]
  },
  {
   "cell_type": "markdown",
   "metadata": {},
   "source": [
    "Creating a data frame with only proteins with RHea IDs"
   ]
  },
  {
   "cell_type": "code",
   "execution_count": 18,
   "metadata": {},
   "outputs": [],
   "source": [
    "df_no_null = df[~df[\"Rhea ID\"].isnull()].copy()"
   ]
  },
  {
   "cell_type": "markdown",
   "metadata": {},
   "source": [
    "### Fetching Rhea IDs: "
   ]
  },
  {
   "cell_type": "code",
   "execution_count": 16,
   "metadata": {},
   "outputs": [
    {
     "data": {
      "text/plain": [
       "(862, 14)"
      ]
     },
     "execution_count": 19,
     "metadata": {},
     "output_type": "execute_result"
    }
   ],
   "source": [
    "df_no_null.shape"
   ]
  },
  {
   "cell_type": "code",
   "execution_count": 22,
   "metadata": {},
   "outputs": [],
   "source": [
    "list_up_entry = []\n",
    "list_rhea_ids = []\n",
    "\n",
    "for index, row in df_Rhea.iterrows():\n",
    "    up_entry = row['Entry']\n",
    "    rhea_ids = row['Rhea ID'].split(';')\n",
    "    rhea_ids = [rid.split(':')[1] for rid in rhea_ids]\n",
    "    list_rhea_ids+=rhea_ids\n",
    "    list_up_entry+=len(rhea_ids)*[up_entry]\n",
    "\n",
    "df_UP_rhea = pd.DataFrame()\n",
    "df_UP_rhea['Entry'] = list_up_entry\n",
    "df_UP_rhea['RheaID'] = list_rhea_ids"
   ]
  },
  {
   "cell_type": "code",
   "execution_count": 25,
   "metadata": {},
   "outputs": [
    {
     "data": {
      "text/plain": [
       "(1825, 2)"
      ]
     },
     "execution_count": 25,
     "metadata": {},
     "output_type": "execute_result"
    }
   ],
   "source": [
    "df_up_rhea.shape"
   ]
  },
  {
   "cell_type": "code",
   "execution_count": 23,
   "metadata": {},
   "outputs": [
    {
     "ename": "NameError",
     "evalue": "name 'df_45_l_rhea' is not defined",
     "output_type": "error",
     "traceback": [
      "\u001b[0;31m---------------------------------------------------------------------------\u001b[0m",
      "\u001b[0;31mNameError\u001b[0m                                 Traceback (most recent call last)",
      "\u001b[0;32m/tmp/ipykernel_7210/4228709374.py\u001b[0m in \u001b[0;36m<module>\u001b[0;34m\u001b[0m\n\u001b[1;32m      1\u001b[0m \u001b[0mfile_out\u001b[0m \u001b[0;34m=\u001b[0m \u001b[0;34m'../../data/mohammed/rhea_test/up_to_rhea_SAM_45.csv'\u001b[0m\u001b[0;34m\u001b[0m\u001b[0;34m\u001b[0m\u001b[0m\n\u001b[0;32m----> 2\u001b[0;31m \u001b[0mdf_45_l_rhea\u001b[0m\u001b[0;34m.\u001b[0m\u001b[0mto_csv\u001b[0m\u001b[0;34m(\u001b[0m\u001b[0mfile_out\u001b[0m\u001b[0;34m,\u001b[0m \u001b[0mindex\u001b[0m \u001b[0;34m=\u001b[0m \u001b[0;32mFalse\u001b[0m\u001b[0;34m)\u001b[0m\u001b[0;34m\u001b[0m\u001b[0;34m\u001b[0m\u001b[0m\n\u001b[0m",
      "\u001b[0;31mNameError\u001b[0m: name 'df_45_l_rhea' is not defined"
     ]
    }
   ],
   "source": [
    "file_out = '../data/up_to_rhea.csv'\n",
    "df_up_rhea.to_csv(file_out, index = False)"
   ]
  },
  {
   "cell_type": "code",
   "execution_count": 30,
   "metadata": {},
   "outputs": [
    {
     "data": {

      "text/html": [
       "<div>\n",
       "<style scoped>\n",
       "    .dataframe tbody tr th:only-of-type {\n",
       "        vertical-align: middle;\n",
       "    }\n",
       "\n",
       "    .dataframe tbody tr th {\n",
       "        vertical-align: top;\n",
       "    }\n",
       "\n",
       "    .dataframe thead th {\n",
       "        text-align: right;\n",
       "    }\n",
       "</style>\n",
       "<table border=\"1\" class=\"dataframe\">\n",
       "  <thead>\n",
       "    <tr style=\"text-align: right;\">\n",
       "      <th></th>\n",
       "      <th>Entry</th>\n",
       "      <th>RheaID</th>\n",
       "    </tr>\n",
       "  </thead>\n",
       "  <tbody>\n",
       "    <tr>\n",
       "      <th>0</th>\n",
       "      <td>P9WJM5</td>\n",
       "      <td>14217</td>\n",
       "    </tr>\n",
       "    <tr>\n",
       "      <th>1</th>\n",
       "      <td>P9WJM5</td>\n",
       "      <td>19993</td>\n",
       "    </tr>\n",
       "    <tr>\n",
       "      <th>2</th>\n",
       "      <td>P9WHM9</td>\n",
       "      <td>17453</td>\n",
       "    </tr>\n",
       "    <tr>\n",
       "      <th>3</th>\n",
       "      <td>P9WGE9</td>\n",
       "      <td>20696</td>\n",
       "    </tr>\n",
       "    <tr>\n",
       "      <th>4</th>\n",
       "      <td>P9WG79</td>\n",
       "      <td>24840</td>\n",
       "    </tr>\n",
       "  </tbody>\n",
       "</table>\n",
       "</div>"
      ],
      "text/plain": [
       "    Entry RheaID\n",
       "0  P9WJM5  14217\n",
       "1  P9WJM5  19993\n",
       "2  P9WHM9  17453\n",
       "3  P9WGE9  20696\n",
       "4  P9WG79  24840"
      ]
     },
     "execution_count": 22,
     "metadata": {},
     "output_type": "execute_result"
    }
   ],
   "source": [
    "df_up_rhea.head()\n",
    "df_up_rhea[df_up_rhea.RheaID == \"10868\"].Entry.unique()\n"
   ]
  },
  {
   "cell_type": "code",
   "execution_count": 27,
   "metadata": {},
   "outputs": [
    {
     "data": {
      "text/plain": [
       "10868    19\n",
       "13065    18\n",
       "47348    17\n",
       "57888    15\n",
       "47356    14\n",
       "12957    13\n",
       "17989    12\n",
       "46608    12\n",
       "45780    11\n",
       "47364    11\n",
       "45781    11\n",
       "20724    10\n",
       "16105    10\n",
       "47360     9\n",
       "47388     9\n",
       "59388     8\n",
       "43712     8\n",
       "43713     8\n",
       "26526     7\n",
       "47352     7\n",
       "39663     7\n",
       "22508     7\n",
       "47392     6\n",
       "30752     6\n",
       "30751     6\n",
       "33624     6\n",
       "33623     6\n",
       "15421     6\n",
       "43709     5\n",
       "10740     5\n",
       "Name: RheaID, dtype: int64"
      ]
     },
     "execution_count": 27,
     "metadata": {},
     "output_type": "execute_result"
    }
   ],
   "source": [
    "df_UP_rhea.RheaID.value_counts().head(10)"
   ]
  },
  {
   "cell_type": "code",
   "execution_count": 35,
   "metadata": {},
   "outputs": [
    {
     "name": "stdout",
     "output_type": "stream",
     "text": [
      "FUNCTION: Lipase that displays broad substrate specificity and preferentially hydrolyzes p-nitrophenyl myristate in vitro. Also shows significant activity with pNP-butyrate (68%), pNP-octanoate (82%), pNP-decanoate (90%), and pNP-laurate (74%). Is probably involved in lipid catabolism. Is active at low pH, and might play some important role in mycobacterial biology in macrophages where the bacteria encounters acidic stress. {ECO:0000269|PubMed:24234750}. \n",
      "\n",
      "FUNCTION: Esterase that shows preference for short chain fatty acids (PubMed:26398213, PubMed:28164792, PubMed:28327423). Contributes to the growth of M.tuberculosis during the nutritive stress (PubMed:28164792). Elicits strong humoral response in both extrapulmonary and relapsed cases of tuberculosis patients (PubMed:28327423). {ECO:0000269|PubMed:26398213, ECO:0000269|PubMed:28164792, ECO:0000269|PubMed:28327423}. \n",
      "\n",
      "FUNCTION: Non specific carboxylic ester hydrolase. Hydrolyzes various pNP-esters, with a preference for short carbon chain substrates. Can also hydrolyze tributyrin to di- and monobutyrin and 4-hydroxyphenylacetate to hydroquinone. {ECO:0000269|PubMed:26212120}. \n",
      "\n",
      "FUNCTION: Esterase that can hydrolyze short-chain esters with the carbon chain containing 2 to 12 carbon atoms. In vitro, pNP-butyrate is the preferred substrate. {ECO:0000269|PubMed:27154903}. \n",
      "\n",
      "FUNCTION: Hydrolyzes ester substrates carbon chain lengths ranging from C2 to C14 (PubMed:25224799). In vitro, acetate (C2), butyrate (C4) and caprylate (C6) are hydrolyzed with high efficiency. Has lower activity against laurate (C12), myristate (C14) and caproate (C8), and weak activity against palmitate (C16) (PubMed:25224799). {ECO:0000269|PubMed:25224799}. \n",
      "\n",
      "FUNCTION: Shows esterase and phospholipase A activities (PubMed:19169353, PubMed:19225166, PubMed:20656688, PubMed:29247008). May be involved in cell wall biosynthesis and/or maintenance (PubMed:19169353, PubMed:19225166, PubMed:20656688). Can hydrolyze various substrates, including pNP-laurate (C12), pNP-myristate (C14), pNP-palmitate (C16), pNP-stearate (C18), pNP-butyrate (C4), phosphatidylcholine, phosphatidylethanolamine, phosphatidylserine, 4-methylumbelliferyl heptanoate and palmitic acid and arachidonic acid containing phospholipids (PubMed:19169353, PubMed:19225166, PubMed:20656688). Does not exhibit cutinase activity (PubMed:19225166). {ECO:0000269|PubMed:19169353, ECO:0000269|PubMed:19225166, ECO:0000269|PubMed:20656688, ECO:0000269|PubMed:29247008}. \n",
      "\n",
      "FUNCTION: Shows esterase activity, with a preference for short- and medium-chain fatty acids (PubMed:19225166, PubMed:20103719, PubMed:16716602, PubMed:23843969). Has also weak lipase activity, but does not exhibit cutinase activity (PubMed:19225166, PubMed:23843969). Hydrolyzes various esters, including pNP-butyrate (C4), pNP-valerate (C5), pNP-hexanoate (C6), pNP-octanoate (C8) and pNP-decanoate (C10) (PubMed:19225166, PubMed:20103719, PubMed:16716602). Can use pNP-laurate (C12) and pNP-myristate (C14), with lower efficiency (PubMed:19225166). Can also hydrolyze monocaprylin and triolein, with a slow turnover (PubMed:20103719). {ECO:0000269|PubMed:16716602, ECO:0000269|PubMed:19225166, ECO:0000269|PubMed:20103719, ECO:0000269|PubMed:23843969}.; FUNCTION: Induces a strong delayed-type hypersensitivity (DTH) response in animal model of tuberculosis, cellular and humoral immune responses (PubMed:9673225, PubMed:10076913, PubMed:16716602). Induces interferon-gamma (IFN-gamma) release in animal models and in human TB patients (PubMed:9673225, PubMed:10076913, PubMed:16716602). Also induces IL-12 responses in mouse model (PubMed:16716602). {ECO:0000269|PubMed:10076913, ECO:0000269|PubMed:16716602, ECO:0000269|PubMed:9673225}. \n",
      "\n",
      "FUNCTION: Exhibits lipolytic activity with medium chain length esters as optimum substrates (PubMed:30560095). In vitro, pNP-caprylate (C8) is the optimum substrate followed by pNP-capricate (C10) (PubMed:30560095). May modulate the cell wall lipids to favor the survival of bacteria under stress conditions (PubMed:30560095). {ECO:0000269|PubMed:30560095}. \n",
      "\n",
      "FUNCTION: Catalyzes the hydrolysis of both intracellular and extracellular triacylglycerol (TAG) (PubMed:16354661, PubMed:17938218, PubMed:21471225, PubMed:29986895, PubMed:31034693). In vitro, can also hydrolyze p-nitrophenyl (pNP) esters with various chain lengths, including pNP-acetate (C2), pNP-butyrate (C4), pNP-caproate (C6), pNP-caprylate (C8), pNP-laurate (C12), pNP-myristate (C14), pNP-palmitate (C16) and pNP-stearate (C18) (PubMed:23684389, PubMed:26398213). Also hydrolyzes monobutyrin, tributyrin and trioctanoin (PubMed:29986895). Overexpression results in increase of virulence characterized by reduced survival of infected mouse and increased burden of bacilli in the lungs (PubMed:24631199). Hydrolyzes internal or host-derived TAG depending on its localization (PubMed:29986895). {ECO:0000269|PubMed:16354661, ECO:0000269|PubMed:17938218, ECO:0000269|PubMed:21471225, ECO:0000269|PubMed:23684389, ECO:0000269|PubMed:24631199, ECO:0000269|PubMed:26398213, ECO:0000269|PubMed:29986895, ECO:0000269|PubMed:31034693}.; FUNCTION: [Cytosolic triacylglycerol lipase]: Hydrolyzes TAG that accumulates within mycobacterial intracytosolic lipid inclusions (ILI) (PubMed:29986895). Probably responsible for the utilization of stored long-chain TAG during the dormancy and reactivation stages of the pathogen (PubMed:16354661). {ECO:0000269|PubMed:16354661, ECO:0000269|PubMed:29986895}.; FUNCTION: [Extracellular triacylglycerol lipase]: Hydrolyzes host-derived TAG. {ECO:0000269|PubMed:29986895}. \n",
      "\n",
      "FUNCTION: Shows both esterase and beta-lactamase activities, with a much higher activity against phenyl esters than against beta-lactams (PubMed:26398213, PubMed:26672466). Shows esterase activity against both long-chain and short-chain p-nitrophenol (pNP) esters, with a preference for shorter chain esters (PubMed:26398213, PubMed:26672466). Hydrolyzes substrates containing beta-lactam ring such as nitrocefin and ampicillin (PubMed:26672466). Functions as an immunogen that activates both humoral and cell-mediated responses (PubMed:26398213). {ECO:0000269|PubMed:26398213, ECO:0000269|PubMed:26672466}. \n",
      "\n",
      "FUNCTION: GDSL lipase that catalyzes the hydrolysis of p-nitrophenyl (pNP) esters. pNP-decanoate (C10) is the preferred substrate. It can also use pNP-octanoate (C8), pNP-dodecanoate (C12) and pNP-tetradecanoate (C14). Has lower activity with pNP-butyrate (C4), pNP-palmitate (C16) and pNP-stearate (C18) (PubMed:31125644). Does not show phospholipase A1 activity (PubMed:31125644). Might help bacteria to utilize available lipids for its growth as well as provide resistance to various intracellular stresses by cell wall modulation resulting in enhanced intracellular survival (PubMed:31125644). {ECO:0000269|PubMed:31125644}. \n",
      "\n"
     ]
    }
   ],
   "source": [
    "list_UP = df_UP_rhea[df_UP_rhea.RheaID=='47364'].Entry.unique()\n",
    "for func in df[df.Entry.isin(list_UP)]['Function [CC]'].tolist():\n",
    "    print(func,'\\n')"
   ]
  },
  {
   "cell_type": "code",
   "execution_count": null,
   "metadata": {},
   "outputs": [],
   "source": []
  }
 ],
 "metadata": {
  "kernelspec": {
   "display_name": "Python 3 (ipykernel)",
   "language": "python",
   "name": "python3"
  },
  "language_info": {
   "codemirror_mode": {
    "name": "ipython",
    "version": 3
   },
   "file_extension": ".py",
   "mimetype": "text/x-python",
   "name": "python",
   "nbconvert_exporter": "python",
   "pygments_lexer": "ipython3",
   "version": "3.8.10"
  }
 },
 "nbformat": 4,
 "nbformat_minor": 4
}
