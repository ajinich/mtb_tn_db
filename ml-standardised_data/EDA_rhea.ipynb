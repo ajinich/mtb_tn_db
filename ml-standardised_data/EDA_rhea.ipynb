{
 "cells": [
  {
   "cell_type": "markdown",
   "metadata": {},
   "source": [
    "# Objective: \n",
    "Given a protein family dataframe (obtained from UniProt), fetch Rhea identifiers. "
   ]
  },
  {
   "cell_type": "code",
   "execution_count": 10,
   "metadata": {},
   "outputs": [],
   "source": [
    "import pandas as pd\n",
    "import os\n",
    "import re\n",
    "import seaborn as sns\n",
    "import numpy as np"
   ]
  },
  {
   "cell_type": "code",
   "execution_count": 2,
   "metadata": {},
   "outputs": [],
   "source": [
    "file_in = '../data/annotations/uniprot-proteome_UP000001584.tab'\n",
    "df = pd.read_csv(file_in, sep = '\\t')"
   ]
  },
  {
   "cell_type": "code",
   "execution_count": 4,
   "metadata": {},
   "outputs": [
    {
     "data": {
      "text/html": [
       "<div>\n",
       "<style scoped>\n",
       "    .dataframe tbody tr th:only-of-type {\n",
       "        vertical-align: middle;\n",
       "    }\n",
       "\n",
       "    .dataframe tbody tr th {\n",
       "        vertical-align: top;\n",
       "    }\n",
       "\n",
       "    .dataframe thead th {\n",
       "        text-align: right;\n",
       "    }\n",
       "</style>\n",
       "<table border=\"1\" class=\"dataframe\">\n",
       "  <thead>\n",
       "    <tr style=\"text-align: right;\">\n",
       "      <th></th>\n",
       "      <th>Entry</th>\n",
       "      <th>Entry name</th>\n",
       "      <th>Status</th>\n",
       "      <th>Protein names</th>\n",
       "      <th>Gene names</th>\n",
       "      <th>Organism</th>\n",
       "      <th>Length</th>\n",
       "      <th>Annotation</th>\n",
       "      <th>Rhea ID</th>\n",
       "      <th>EC number</th>\n",
       "      <th>Catalytic activity</th>\n",
       "      <th>ChEBI</th>\n",
       "      <th>Sequence</th>\n",
       "      <th>Function [CC]</th>\n",
       "    </tr>\n",
       "  </thead>\n",
       "  <tbody>\n",
       "    <tr>\n",
       "      <th>0</th>\n",
       "      <td>L7N6B4</td>\n",
       "      <td>MOAD_MYCTU</td>\n",
       "      <td>reviewed</td>\n",
       "      <td>Molybdopterin synthase sulfur carrier subunit</td>\n",
       "      <td>moaD1 Rv3112 LH57_16990</td>\n",
       "      <td>Mycobacterium tuberculosis (strain ATCC 25618 ...</td>\n",
       "      <td>83</td>\n",
       "      <td>2 out of 5</td>\n",
       "      <td>NaN</td>\n",
       "      <td>NaN</td>\n",
       "      <td>NaN</td>\n",
       "      <td>NaN</td>\n",
       "      <td>MIKVNVLYFGAVREACDETPREEVEVQNGTDVGNLVDQLQQKYPRL...</td>\n",
       "      <td>FUNCTION: Involved in sulfur transfer in the c...</td>\n",
       "    </tr>\n",
       "    <tr>\n",
       "      <th>1</th>\n",
       "      <td>P9WJM5</td>\n",
       "      <td>MSRA_MYCTU</td>\n",
       "      <td>reviewed</td>\n",
       "      <td>Peptide methionine sulfoxide reductase MsrA (P...</td>\n",
       "      <td>msrA Rv0137c MTCI5.11c</td>\n",
       "      <td>Mycobacterium tuberculosis (strain ATCC 25618 ...</td>\n",
       "      <td>182</td>\n",
       "      <td>4 out of 5</td>\n",
       "      <td>RHEA:14217; RHEA:19993</td>\n",
       "      <td>1.8.4.11</td>\n",
       "      <td>CATALYTIC ACTIVITY: Reaction=[thioredoxin]-dis...</td>\n",
       "      <td>H2O [CHEBI:15377]; L-methionine [CHEBI:57844];...</td>\n",
       "      <td>MTSNQKAILAGGCFWGLQDLIRNQPGVVSTRVGYSGGNIPNATYRN...</td>\n",
       "      <td>FUNCTION: Has an important function as a repai...</td>\n",
       "    </tr>\n",
       "  </tbody>\n",
       "</table>\n",
       "</div>"
      ],
      "text/plain": [
       "    Entry  Entry name    Status  \\\n",
       "0  L7N6B4  MOAD_MYCTU  reviewed   \n",
       "1  P9WJM5  MSRA_MYCTU  reviewed   \n",
       "\n",
       "                                       Protein names               Gene names  \\\n",
       "0      Molybdopterin synthase sulfur carrier subunit  moaD1 Rv3112 LH57_16990   \n",
       "1  Peptide methionine sulfoxide reductase MsrA (P...   msrA Rv0137c MTCI5.11c   \n",
       "\n",
       "                                            Organism  Length  Annotation  \\\n",
       "0  Mycobacterium tuberculosis (strain ATCC 25618 ...      83  2 out of 5   \n",
       "1  Mycobacterium tuberculosis (strain ATCC 25618 ...     182  4 out of 5   \n",
       "\n",
       "                  Rhea ID EC number  \\\n",
       "0                     NaN       NaN   \n",
       "1  RHEA:14217; RHEA:19993  1.8.4.11   \n",
       "\n",
       "                                  Catalytic activity  \\\n",
       "0                                                NaN   \n",
       "1  CATALYTIC ACTIVITY: Reaction=[thioredoxin]-dis...   \n",
       "\n",
       "                                               ChEBI  \\\n",
       "0                                                NaN   \n",
       "1  H2O [CHEBI:15377]; L-methionine [CHEBI:57844];...   \n",
       "\n",
       "                                            Sequence  \\\n",
       "0  MIKVNVLYFGAVREACDETPREEVEVQNGTDVGNLVDQLQQKYPRL...   \n",
       "1  MTSNQKAILAGGCFWGLQDLIRNQPGVVSTRVGYSGGNIPNATYRN...   \n",
       "\n",
       "                                       Function [CC]  \n",
       "0  FUNCTION: Involved in sulfur transfer in the c...  \n",
       "1  FUNCTION: Has an important function as a repai...  "
      ]
     },
     "execution_count": 4,
     "metadata": {},
     "output_type": "execute_result"
    }
   ],
   "source": [
    "df.head(2)"
   ]
  },
  {
   "cell_type": "markdown",
   "metadata": {},
   "source": [
    "Creating a data frame with only proteins with RHea IDs"
   ]
  },
  {
   "cell_type": "code",
   "execution_count": 18,
   "metadata": {},
   "outputs": [],
   "source": [
    "df_no_null = df[~df[\"Rhea ID\"].isnull()].copy()"
   ]
  },
  {
   "cell_type": "markdown",
   "metadata": {},
   "source": [
    "### Fetching Rhea IDs: "
   ]
  },
  {
   "cell_type": "code",
   "execution_count": 19,
   "metadata": {},
   "outputs": [
    {
     "data": {
      "text/plain": [
       "(862, 14)"
      ]
     },
     "execution_count": 19,
     "metadata": {},
     "output_type": "execute_result"
    }
   ],
   "source": [
    "df_no_null.shape"
   ]
  },
  {
   "cell_type": "code",
   "execution_count": 22,
   "metadata": {},
   "outputs": [],
   "source": [
    "list_up_entry = []\n",
    "list_rhea_ids = []\n",
    "for index, row in df_no_null.iterrows():\n",
    "    up_entry = row['Entry']\n",
    "    rhea_ids = row['Rhea ID'].split(';')\n",
    "    rhea_ids = [rid.split(':')[1] for rid in rhea_ids]\n",
    "    list_rhea_ids+=rhea_ids\n",
    "    list_up_entry+=len(rhea_ids)*[up_entry]\n",
    "\n",
    "df_up_rhea = pd.DataFrame()\n",
    "df_up_rhea['Entry'] = list_up_entry\n",
    "df_up_rhea['RheaID'] = list_rhea_ids"
   ]
  },
  {
   "cell_type": "code",
   "execution_count": 25,
   "metadata": {},
   "outputs": [
    {
     "data": {
      "text/plain": [
       "(1825, 2)"
      ]
     },
     "execution_count": 25,
     "metadata": {},
     "output_type": "execute_result"
    }
   ],
   "source": [
    "df_up_rhea.shape"
   ]
  },
  {
   "cell_type": "code",
   "execution_count": 23,
   "metadata": {},
   "outputs": [
    {
     "ename": "NameError",
     "evalue": "name 'df_45_l_rhea' is not defined",
     "output_type": "error",
     "traceback": [
      "\u001b[0;31m---------------------------------------------------------------------------\u001b[0m",
      "\u001b[0;31mNameError\u001b[0m                                 Traceback (most recent call last)",
      "\u001b[0;32m/tmp/ipykernel_7210/4228709374.py\u001b[0m in \u001b[0;36m<module>\u001b[0;34m\u001b[0m\n\u001b[1;32m      1\u001b[0m \u001b[0mfile_out\u001b[0m \u001b[0;34m=\u001b[0m \u001b[0;34m'../../data/mohammed/rhea_test/up_to_rhea_SAM_45.csv'\u001b[0m\u001b[0;34m\u001b[0m\u001b[0;34m\u001b[0m\u001b[0m\n\u001b[0;32m----> 2\u001b[0;31m \u001b[0mdf_45_l_rhea\u001b[0m\u001b[0;34m.\u001b[0m\u001b[0mto_csv\u001b[0m\u001b[0;34m(\u001b[0m\u001b[0mfile_out\u001b[0m\u001b[0;34m,\u001b[0m \u001b[0mindex\u001b[0m \u001b[0;34m=\u001b[0m \u001b[0;32mFalse\u001b[0m\u001b[0;34m)\u001b[0m\u001b[0;34m\u001b[0m\u001b[0;34m\u001b[0m\u001b[0m\n\u001b[0m",
      "\u001b[0;31mNameError\u001b[0m: name 'df_45_l_rhea' is not defined"
     ]
    }
   ],
   "source": [
    "file_out = '../data/up_to_rhea.csv'\n",
    "df_up_rhea.to_csv(file_out, index = False)"
   ]
  },
  {
   "cell_type": "code",
   "execution_count": 30,
   "metadata": {},
   "outputs": [
    {
     "data": {
      "text/plain": [
       "array(['P9WKC5', 'P9WKC9', 'P9WKA7', 'P9WKB3', 'P9WKA3', 'P9WKC3',\n",
       "       'P9WKB7', 'P9WKC7', 'P9WQN9', 'P9WQP3', 'P9WQP1', 'P9WKA5',\n",
       "       'P9WKB1', 'P9WKB5', 'P9WKC1', 'P9WKA9', 'P9WKB9', 'I6Y8R4',\n",
       "       'O33364'], dtype=object)"
      ]
     },
     "execution_count": 30,
     "metadata": {},
     "output_type": "execute_result"
    }
   ],
   "source": [
    "df_up_rhea.head()\n",
    "df_up_rhea[df_up_rhea.RheaID == \"10868\"].Entry.unique()\n"
   ]
  },
  {
   "cell_type": "code",
   "execution_count": 27,
   "metadata": {},
   "outputs": [
    {
     "data": {
      "text/plain": [
       "10868    19\n",
       "13065    18\n",
       "47348    17\n",
       "57888    15\n",
       "47356    14\n",
       "12957    13\n",
       "17989    12\n",
       "46608    12\n",
       "45780    11\n",
       "47364    11\n",
       "45781    11\n",
       "20724    10\n",
       "16105    10\n",
       "47360     9\n",
       "47388     9\n",
       "59388     8\n",
       "43712     8\n",
       "43713     8\n",
       "26526     7\n",
       "47352     7\n",
       "39663     7\n",
       "22508     7\n",
       "47392     6\n",
       "30752     6\n",
       "30751     6\n",
       "33624     6\n",
       "33623     6\n",
       "15421     6\n",
       "43709     5\n",
       "10740     5\n",
       "Name: RheaID, dtype: int64"
      ]
     },
     "execution_count": 27,
     "metadata": {},
     "output_type": "execute_result"
    }
   ],
   "source": [
    "df_up_rhea.RheaID.value_counts().head(30)"
   ]
  },
  {
   "cell_type": "code",
   "execution_count": null,
   "metadata": {},
   "outputs": [],
   "source": []
  }
 ],
 "metadata": {
  "kernelspec": {
   "display_name": "Python 3 (ipykernel)",
   "language": "python",
   "name": "python3"
  },
  "language_info": {
   "codemirror_mode": {
    "name": "ipython",
    "version": 3
   },
   "file_extension": ".py",
   "mimetype": "text/x-python",
   "name": "python",
   "nbconvert_exporter": "python",
   "pygments_lexer": "ipython3",
   "version": "3.8.10"
  }
 },
 "nbformat": 4,
 "nbformat_minor": 4
}
