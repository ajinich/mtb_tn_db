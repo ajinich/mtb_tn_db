{
 "cells": [
  {
   "cell_type": "markdown",
   "metadata": {},
   "source": [
    "# Objective: \n",
    "Given a protein family dataframe (obtained from UniProt), fetch Rhea identifiers. "
   ]
  },
  {
   "cell_type": "code",
   "execution_count": 1,
   "metadata": {},
   "outputs": [],
   "source": [
    "import pandas as pd\n",
    "import os\n",
    "import re\n",
    "import seaborn as sns\n",
    "import numpy as np"
   ]
  },
  {
   "cell_type": "code",
   "execution_count": 2,
   "metadata": {},
   "outputs": [],
   "source": [
    "# file_in = '../../data/mohammed/rhea_test/uniprot-ipr002347.tab'\n",
    "# file_in = '../../data/mohammed/uniprot-ipr002347_annot345.csv'\n",
    "file_in = '../../data/mohammed/uniprot-ipr029063_reviewed.tab'\n",
    "df = pd.read_csv(file_in, sep = '\\t')"
   ]
  },
  {
   "cell_type": "code",
   "execution_count": 3,
   "metadata": {},
   "outputs": [
    {
     "data": {
      "text/plain": [
       "Index(['Entry', 'Entry name', 'Status', 'Protein names', 'Gene names',\n",
       "       'Organism', 'Length', 'Annotation', 'Rhea ID', 'EC number',\n",
       "       'Catalytic activity', 'ChEBI', 'Sequence'],\n",
       "      dtype='object')"
      ]
     },
     "execution_count": 3,
     "metadata": {},
     "output_type": "execute_result"
    }
   ],
   "source": [
    "df.columns"
   ]
  },
  {
   "cell_type": "code",
   "execution_count": 4,
   "metadata": {},
   "outputs": [
    {
     "name": "stdout",
     "output_type": "stream",
     "text": [
      "(1252, 13)\n",
      "(5348, 13)\n"
     ]
    }
   ],
   "source": [
    "df_45 = df[(df.Annotation.values == '4 out of 5') | (df.Annotation.values == '5 out of 5')].copy()\n",
    "print(df_45.shape)\n",
    "\n",
    "df_345 = df[(df.Annotation.values == '4 out of 5') | (df.Annotation.values == '5 out of 5') | (df.Annotation.values == '3 out of 5')].copy()\n",
    "print(df_345.shape)"
   ]
  },
  {
   "cell_type": "code",
   "execution_count": 5,
   "metadata": {},
   "outputs": [
    {
     "name": "stdout",
     "output_type": "stream",
     "text": [
      "(832, 13)\n",
      "(4590, 13)\n"
     ]
    }
   ],
   "source": [
    "l_cutoff = 500\n",
    "\n",
    "df_45_l = df_45[df_45.Length.values <= l_cutoff].copy()\n",
    "print(df_45_l.shape)\n",
    "\n",
    "df_345_l = df_345[df_345.Length.values <= l_cutoff].copy()\n",
    "print(df_345_l.shape)"
   ]
  },
  {
   "cell_type": "code",
   "execution_count": 6,
   "metadata": {},
   "outputs": [
    {
     "name": "stdout",
     "output_type": "stream",
     "text": [
      "(16, 13)\n",
      "(80, 13)\n"
     ]
    }
   ],
   "source": [
    "print(df_45_l[df_45_l.Organism.str.contains('tuberculosis')].shape)\n",
    "print(df_345_l[df_345_l.Organism.str.contains('tuberculosis')].shape)"
   ]
  },
  {
   "cell_type": "markdown",
   "metadata": {},
   "source": [
    "### Fetching Rhea IDs: "
   ]
  },
  {
   "cell_type": "code",
   "execution_count": 7,
   "metadata": {},
   "outputs": [
    {
     "data": {
      "text/plain": [
       "(832, 13)"
      ]
     },
     "execution_count": 7,
     "metadata": {},
     "output_type": "execute_result"
    }
   ],
   "source": [
    "df_45_l.shape"
   ]
  },
  {
   "cell_type": "code",
   "execution_count": 8,
   "metadata": {},
   "outputs": [],
   "source": [
    "df_45_l.fillna({'Rhea ID': 'no_ID'}, inplace=True)"
   ]
  },
  {
   "cell_type": "code",
   "execution_count": 9,
   "metadata": {},
   "outputs": [
    {
     "data": {
      "text/plain": [
       "(82, 13)"
      ]
     },
     "execution_count": 9,
     "metadata": {},
     "output_type": "execute_result"
    }
   ],
   "source": [
    "df_45_l[df_45_l['Rhea ID'].values == 'no_ID'].shape"
   ]
  },
  {
   "cell_type": "code",
   "execution_count": 10,
   "metadata": {},
   "outputs": [],
   "source": [
    "list_up_entry = []\n",
    "list_rhea_ids = []\n",
    "for index, row in df_45_l.iterrows():\n",
    "    up_entry = row['Entry']\n",
    "    if row['Rhea ID'] == 'no_ID':\n",
    "        rhea_ids = ['no_ID']\n",
    "    else:\n",
    "        rhea_ids = row['Rhea ID'].split(';')\n",
    "        rhea_ids = [rid.split(':')[1] for rid in rhea_ids]\n",
    "    list_rhea_ids+=rhea_ids\n",
    "    list_up_entry+=len(rhea_ids)*[up_entry]\n",
    "\n",
    "df_45_l_rhea = pd.DataFrame()\n",
    "df_45_l_rhea['Entry'] = list_up_entry\n",
    "df_45_l_rhea['RheaID'] = list_rhea_ids"
   ]
  },
  {
   "cell_type": "code",
   "execution_count": 11,
   "metadata": {},
   "outputs": [],
   "source": [
    "file_out = '../../data/mohammed/rhea_test/up_to_rhea_SAM_45.csv'\n",
    "df_45_l_rhea.to_csv(file_out, index = False)"
   ]
  },
  {
   "cell_type": "code",
   "execution_count": 12,
   "metadata": {},
   "outputs": [
    {
     "data": {
      "text/html": [
       "<div>\n",
       "<style scoped>\n",
       "    .dataframe tbody tr th:only-of-type {\n",
       "        vertical-align: middle;\n",
       "    }\n",
       "\n",
       "    .dataframe tbody tr th {\n",
       "        vertical-align: top;\n",
       "    }\n",
       "\n",
       "    .dataframe thead th {\n",
       "        text-align: right;\n",
       "    }\n",
       "</style>\n",
       "<table border=\"1\" class=\"dataframe\">\n",
       "  <thead>\n",
       "    <tr style=\"text-align: right;\">\n",
       "      <th></th>\n",
       "      <th>Entry</th>\n",
       "      <th>RheaID</th>\n",
       "    </tr>\n",
       "  </thead>\n",
       "  <tbody>\n",
       "    <tr>\n",
       "      <th>0</th>\n",
       "      <td>P21964</td>\n",
       "      <td>17877</td>\n",
       "    </tr>\n",
       "    <tr>\n",
       "      <th>1</th>\n",
       "      <td>P21964</td>\n",
       "      <td>17878</td>\n",
       "    </tr>\n",
       "    <tr>\n",
       "      <th>2</th>\n",
       "      <td>P21964</td>\n",
       "      <td>53108</td>\n",
       "    </tr>\n",
       "    <tr>\n",
       "      <th>3</th>\n",
       "      <td>P21964</td>\n",
       "      <td>53109</td>\n",
       "    </tr>\n",
       "    <tr>\n",
       "      <th>4</th>\n",
       "      <td>P21964</td>\n",
       "      <td>53104</td>\n",
       "    </tr>\n",
       "  </tbody>\n",
       "</table>\n",
       "</div>"
      ],
      "text/plain": [
       "    Entry RheaID\n",
       "0  P21964  17877\n",
       "1  P21964  17878\n",
       "2  P21964  53108\n",
       "3  P21964  53109\n",
       "4  P21964  53104"
      ]
     },
     "execution_count": 12,
     "metadata": {},
     "output_type": "execute_result"
    }
   ],
   "source": [
    "df_45_l_rhea.head()"
   ]
  },
  {
   "cell_type": "code",
   "execution_count": 14,
   "metadata": {},
   "outputs": [
    {
     "data": {
      "text/plain": [
       "28286    250\n",
       "42640    246\n",
       "no_ID     82\n",
       "48096     23\n",
       "17877     16\n",
       "12721     16\n",
       "42708     13\n",
       "24604     12\n",
       "24605     12\n",
       "54712     11\n",
       "54736     11\n",
       "54724     11\n",
       "67008     10\n",
       "12705     10\n",
       "15573     10\n",
       "20225     10\n",
       "60560      9\n",
       "60561      9\n",
       "50904      9\n",
       "36899      9\n",
       "43152      9\n",
       "44380      8\n",
       "16925      7\n",
       "11988      7\n",
       "20945      7\n",
       "44452      7\n",
       "20944      7\n",
       "10281      7\n",
       "10280      7\n",
       "53108      6\n",
       "Name: RheaID, dtype: int64"
      ]
     },
     "execution_count": 14,
     "metadata": {},
     "output_type": "execute_result"
    }
   ],
   "source": [
    "df_45_l_rhea.RheaID.value_counts().head(30)"
   ]
  },
  {
   "cell_type": "code",
   "execution_count": null,
   "metadata": {},
   "outputs": [],
   "source": []
  }
 ],
 "metadata": {
  "kernelspec": {
   "display_name": "Python 3",
   "language": "python",
   "name": "python3"
  },
  "language_info": {
   "codemirror_mode": {
    "name": "ipython",
    "version": 3
   },
   "file_extension": ".py",
   "mimetype": "text/x-python",
   "name": "python",
   "nbconvert_exporter": "python",
   "pygments_lexer": "ipython3",
   "version": "3.6.6"
  }
 },
 "nbformat": 4,
 "nbformat_minor": 4
}
