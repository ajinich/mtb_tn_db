{
 "cells": [
  {
   "cell_type": "markdown",
   "id": "eca1b9df-2213-4dbd-bc16-04fa7f08a24c",
   "metadata": {},
   "source": [
    "# Exercise: What is the classifier picking up on with the top-2 results? "
   ]
  },
  {
   "cell_type": "code",
   "execution_count": 52,
   "id": "bcab0864-e930-43a7-862c-deae481cbf4f",
   "metadata": {},
   "outputs": [],
   "source": [
    "import pandas as pd\n",
    "import numpy as np\n",
    "import matplotlib.pyplot as plt\n",
    "import seaborn as sns\n",
    "import os\n",
    "import random\n",
    "\n",
    "from sklearn.linear_model import LogisticRegression, LogisticRegressionCV\n",
    "from sklearn.model_selection import StratifiedKFold\n",
    "from imblearn.over_sampling import SMOTE\n",
    "\n",
    "import sklearn\n",
    "from sklearn.inspection import permutation_importance\n"
   ]
  },
  {
   "cell_type": "code",
   "execution_count": 78,
   "id": "a52084a1-d6a1-499f-bef5-06e949542f14",
   "metadata": {},
   "outputs": [],
   "source": [
    "# version = 'old'\n",
    "version = 'clare_basis'\n",
    "# version = 'clare_all'\n"
   ]
  },
  {
   "cell_type": "code",
   "execution_count": 79,
   "id": "b9874ba3-ce7a-45b2-88a9-c12f5688ae12",
   "metadata": {},
   "outputs": [
    {
     "data": {
      "text/plain": [
       "(2937, 130)"
      ]
     },
     "execution_count": 79,
     "metadata": {},
     "output_type": "execute_result"
    }
   ],
   "source": [
    "if version == 'old':\n",
    "    fn = 'lfc_mb_filt_OLD.csv' ## data set without Claire's screens\n",
    "elif version == 'clare_all':\n",
    "    fn = 'lfc_mb_filt.csv' ## data set with all of Claire's pairwise combinations\n",
    "elif version == 'clare_basis':\n",
    "    fn = 'lfc_mb_filt_BASIS.csv' ## data set only Claire's mutant vs. wildtype screens\n",
    "\n",
    "path = '../data/standardized_data/cleaned_ML/'\n",
    "df_lfc = pd.read_csv(os.path.join(path, fn))\n",
    "df_lfc.shape"
   ]
  },
  {
   "cell_type": "code",
   "execution_count": 80,
   "id": "0a96b208-1451-41bd-8fc9-191348a21552",
   "metadata": {},
   "outputs": [
    {
     "name": "stdout",
     "output_type": "stream",
     "text": [
      "(2937, 128)\n"
     ]
    },
    {
     "data": {
      "text/plain": [
       "['information pathways',\n",
       " 'cell wall and cell processes',\n",
       " 'intermediary metabolism and respiration',\n",
       " 'regulatory proteins',\n",
       " 'virulence, detoxification, adaptation',\n",
       " 'insertion seqs and phages',\n",
       " 'lipid metabolism',\n",
       " 'PE/PPE']"
      ]
     },
     "execution_count": 80,
     "metadata": {},
     "output_type": "execute_result"
    }
   ],
   "source": [
    "# X and y\n",
    "cols_data = df_lfc.columns[1:-1]\n",
    "X = df_lfc[cols_data].to_numpy()\n",
    "print(X.shape)\n",
    "\n",
    "list_categories = df_lfc.Functional_Category.unique().tolist()\n",
    "list_categories\n"
   ]
  },
  {
   "cell_type": "code",
   "execution_count": 81,
   "id": "9d0739ca-95a1-4684-8ed0-93e6d75154b2",
   "metadata": {},
   "outputs": [],
   "source": [
    "model = 'logreg'\n",
    "# model = 'xgbc'"
   ]
  },
  {
   "cell_type": "code",
   "execution_count": 121,
   "id": "ba911a5d-5fb4-4d3d-8773-8d707e42bdf2",
   "metadata": {},
   "outputs": [],
   "source": [
    "n_splits = 5\n",
    "n_classes = 2\n",
    "shuffle = False\n",
    "\n",
    "category = 'PE/PPE' # 'insertion seqs and phages' # 'insertion seqs and phages' \n",
    "y = np.zeros(df_lfc.shape[0])\n",
    "ind_ones = [i for i in range(df_lfc.shape[0]) if df_lfc.iloc[i].Functional_Category == category]\n",
    "y[ind_ones] = 1\n",
    "\n",
    "if shuffle: # shuffle y vector.\n",
    "    random.shuffle(y)\n",
    "\n",
    "if model == 'logreg':\n",
    "    reg_param_temp = 1e-1\n",
    "    clf = LogisticRegression(penalty='l1', solver='liblinear', multi_class='ovr', C=reg_param_temp)\n",
    "elif model == 'xgbc':\n",
    "    clf = XGBClassifier(gamma = reg_param_temp, reg_alpha=1, reg_lambda=1)\n",
    "\n",
    "skf = StratifiedKFold(n_splits=n_splits, shuffle=True)\n",
    "for train_index, test_index in skf.split(X, y):\n",
    "    X_train, X_test = X[train_index], X[test_index]\n",
    "    y_train, y_test = y[train_index], y[test_index]\n",
    "    X_train, y_train = SMOTE().fit_resample(X_train, y_train) # understand this step. \n",
    "    # fit model\n",
    "    clf.fit(X_train, y_train)"
   ]
  },
  {
   "cell_type": "markdown",
   "id": "2d3e0b11-4d53-46ac-930c-326d816c204c",
   "metadata": {},
   "source": [
    "Version 1: inspecting coefficients: "
   ]
  },
  {
   "cell_type": "code",
   "execution_count": 124,
   "id": "a47e6400-2f95-49f8-b995-3044a3279001",
   "metadata": {},
   "outputs": [
    {
     "data": {
      "text/plain": [
       "(-1.5, 1.5)"
      ]
     },
     "execution_count": 124,
     "metadata": {},
     "output_type": "execute_result"
    },
    {
     "data": {
      "image/png": "[encoded data removed]",
      "text/plain": [
       "<Figure size 864x288 with 1 Axes>"
      ]
     },
     "metadata": {
      "needs_background": "light"
     },
     "output_type": "display_data"
    }
   ],
   "source": [
    "importance = clf.coef_[0]\n",
    "plt.figure(figsize=(12, 4))\n",
    "plt.bar([x for x in range(len(importance))], importance)\n",
    "plt.xlabel('feature (TnSeq screen)', fontsize=14)\n",
    "yl = plt.ylabel('coefficient', fontsize=14)\n",
    "plt.ylim(-1.5, 1.5)"
   ]
  },
  {
   "cell_type": "code",
   "execution_count": 97,
   "id": "9bf96fb2-bc70-4fbd-8cb4-6c1a4260d9bb",
   "metadata": {},
   "outputs": [
    {
     "data": {
      "text/plain": [
       "(-0.5, 0.5)"
      ]
     },
     "execution_count": 100,
     "metadata": {},
     "output_type": "execute_result"
    },
    {
     "data": {
      "image/png": "[encoded data removed]",
      "text/plain": [
       "<Figure size 864x288 with 1 Axes>"
      ]
     },
     "metadata": {
      "needs_background": "light"
     },
     "output_type": "display_data"
    }
   ],
   "source": [
    "importance = clf.coef_[0]\n",
    "plt.figure(figsize=(12, 4))\n",
    "plt.bar([x for x in range(len(importance))], importance)\n",
    "plt.xlabel('feature (TnSeq screen)', fontsize=14)\n",
    "yl = plt.ylabel('coefficient', fontsize=14)\n",
    "plt.ylim(-1, 1)"
   ]
  },
  {
   "cell_type": "code",
   "execution_count": 125,
   "id": "103546c3-5319-4e93-8e7c-daf2a2eaeb36",
   "metadata": {},
   "outputs": [
    {
     "data": {
      "text/plain": [
       "Index(['CC003.Unc_vs_C57BL.6J', 'Rv0950c_KO_vs_CB_WT', 'CC057.Unc_vs_C57BL.6J',\n",
       "       'Rv1096_KO_vs_CB_WT', 'CC017.Unc_vs_C57BL.6J', 'carey_631_vs_carey_rv',\n",
       "       'CC024.GeniUnc_vs_C57BL.6J', 'in_vitro_vs_C57BL.6J',\n",
       "       'xu_rif_4_vs_xu_rif_0', 'xu_emb_2.5_vs_xu_emb_0'],\n",
       "      dtype='object')"
      ]
     },
     "execution_count": 125,
     "metadata": {},
     "output_type": "execute_result"
    }
   ],
   "source": [
    "ind_top10 = np.argsort(np.abs(importance))[-10:]\n",
    "cols_data[ind_top10[::-1]]"
   ]
  },
  {
   "cell_type": "markdown",
   "id": "bec84278-ed68-457b-a4bf-2e8ef50c6e75",
   "metadata": {},
   "source": [
    "Version 2: permutation importance: "
   ]
  },
  {
   "cell_type": "code",
   "execution_count": 85,
   "id": "ea9aea1f-c655-47e9-9b41-b93582b0f665",
   "metadata": {},
   "outputs": [
    {
     "data": {
      "image/png": "[encoded data removed]",
      "text/plain": [
       "<Figure size 864x288 with 1 Axes>"
      ]
     },
     "metadata": {
      "needs_background": "light"
     },
     "output_type": "display_data"
    }
   ],
   "source": [
    "results = permutation_importance(clf, X, y, scoring='accuracy') # scoring = 'neg_log_loss'\n",
    "importance_perm = results.importances_mean\n",
    "plt.figure(figsize=(12, 4))\n",
    "plt.bar([x for x in range(len(importance_perm))], importance_perm)\n",
    "plt.xlabel('feature (TnSeq screen)', fontsize=14)\n",
    "yl = plt.ylabel('permutation importance', fontsize=14)"
   ]
  },
  {
   "cell_type": "code",
   "execution_count": 86,
   "id": "acff6371-9022-4a18-a7ab-cc00465c0520",
   "metadata": {},
   "outputs": [
    {
     "data": {
      "text/plain": [
       "Index(['in_vitro_vs_C57BL.6J', 'CC002.Unc_vs_C57BL.6J',\n",
       "       'C57BL.6J_vs_129s1.SvImJ', 'carey_662_vs_carey_rv',\n",
       "       'kieser_dPonA1_vs_mbio_H37Rv', 'CC047.Unc_vs_C57BL.6J',\n",
       "       '129s1.SvImJ_vs_C57BL.6J', 'IFNG_vs_C57BL.6J',\n",
       "       'zhang_wt_mouse_d10_vs_zhang_input_library', 'PWK.PhJ_vs_C57BL.6J'],\n",
       "      dtype='object')"
      ]
     },
     "execution_count": 86,
     "metadata": {},
     "output_type": "execute_result"
    }
   ],
   "source": [
    "ind_top10 = np.argsort(np.abs(importance_perm))[-10:]\n",
    "cols_data[ind_top10[::-1]]"
   ]
  },
  {
   "cell_type": "code",
   "execution_count": null,
   "id": "09adce6f-371e-464e-aef5-94cb3e05a463",
   "metadata": {},
   "outputs": [],
   "source": []
  }
 ],
 "metadata": {
  "kernelspec": {
   "display_name": "Python 3 (ipykernel)",
   "language": "python",
   "name": "python3"
  },
  "language_info": {
   "codemirror_mode": {
    "name": "ipython",
    "version": 3
   },
   "file_extension": ".py",
   "mimetype": "text/x-python",
   "name": "python",
   "nbconvert_exporter": "python",
   "pygments_lexer": "ipython3",
   "version": "3.8.10"
  }
 },
 "nbformat": 4,
 "nbformat_minor": 5
}
