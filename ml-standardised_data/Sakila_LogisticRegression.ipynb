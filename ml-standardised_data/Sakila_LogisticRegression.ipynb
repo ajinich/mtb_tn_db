{
 "cells": [
  {
   "cell_type": "markdown",
   "id": "fd225475-da7c-4ea0-ad25-c5dd33434eca",
   "metadata": {},
   "source": [
    "Importing libraries"
   ]
  },
  {
   "cell_type": "code",
   "execution_count": 1,
   "id": "0273ff2a-3314-4d63-9976-24fb6917b2db",
   "metadata": {},
   "outputs": [],
   "source": [
    "import pandas as pd\n",
    "from sklearn.linear_model import LogisticRegression\n",
    "from sklearn.metrics import accuracy_score, confusion_matrix, log_loss\n",
    "from sklearn.model_selection import StratifiedKFold\n",
    "from sklearn.preprocessing import normalize\n",
    "import numpy as np\n",
    "import matplotlib.pyplot as plt\n",
    "import seaborn as sns\n",
    "from imblearn.over_sampling import SMOTE\n",
    "from xgboost import XGBClassifier\n",
    "import os\n",
    "import random\n",
    "os.environ['KMP_DUPLICATE_LIB_OK']='True'"
   ]
  },
  {
   "cell_type": "code",
   "execution_count": 2,
   "id": "6cc677a3-047e-4572-9bf1-befb26a6e29c",
   "metadata": {},
   "outputs": [
    {
     "data": {
      "text/html": [
       "<div>\n",
       "<style scoped>\n",
       "    .dataframe tbody tr th:only-of-type {\n",
       "        vertical-align: middle;\n",
       "    }\n",
       "\n",
       "    .dataframe tbody tr th {\n",
       "        vertical-align: top;\n",
       "    }\n",
       "\n",
       "    .dataframe thead th {\n",
       "        text-align: right;\n",
       "    }\n",
       "</style>\n",
       "<table border=\"1\" class=\"dataframe\">\n",
       "  <thead>\n",
       "    <tr style=\"text-align: right;\">\n",
       "      <th></th>\n",
       "      <th>Rv_ID</th>\n",
       "      <th>129s1.SvImJ_vs_C57BL.6J</th>\n",
       "      <th>129s1.SvImJ_vs_mbio_H37Rv</th>\n",
       "      <th>A.J_vs_129s1.SvImJ</th>\n",
       "      <th>A.J_vs_C57BL.6J</th>\n",
       "      <th>A.J_vs_mbio_H37Rv</th>\n",
       "      <th>C57BL.6J_vs_129s1.SvImJ</th>\n",
       "      <th>C57BL.6J_vs_A.J</th>\n",
       "      <th>C57BL.6J_vs_C57BL.6J</th>\n",
       "      <th>C57BL.6J_vs_mbio_H37Rv</th>\n",
       "      <th>...</th>\n",
       "      <th>zhang_DETA-NO_pH_7.0_vs_zhang_pH_7.0_no_NO_control</th>\n",
       "      <th>zhang_Fe_1.5mM_vs_zhang_Fe_450uM</th>\n",
       "      <th>zhang_Trp_Rescue_vs_zhang_in_vitro_control_Rescue</th>\n",
       "      <th>zhang_Tyloxapol_pH_6.5_vs_zhang_Tyloxapol_pH_4.5</th>\n",
       "      <th>zhang_Tyloxapol_pH_6.5_vs_zhang_pcit_pH_4.5</th>\n",
       "      <th>zhang_mhcii_mouse_d10_vs_zhang_wt_mouse_d10</th>\n",
       "      <th>zhang_mhcii_mouse_d45_vs_zhang_wt_mouse_d45</th>\n",
       "      <th>zhang_wt_mouse_d10_vs_zhang_input_library</th>\n",
       "      <th>zhang_wt_mouse_d45_vs_zhang_input_library</th>\n",
       "      <th>Functional_Category</th>\n",
       "    </tr>\n",
       "  </thead>\n",
       "  <tbody>\n",
       "    <tr>\n",
       "      <th>0</th>\n",
       "      <td>Rv0001</td>\n",
       "      <td>0.00</td>\n",
       "      <td>-0.18</td>\n",
       "      <td>0.00</td>\n",
       "      <td>0.00</td>\n",
       "      <td>-0.18</td>\n",
       "      <td>0.00</td>\n",
       "      <td>0.00</td>\n",
       "      <td>0.0</td>\n",
       "      <td>-0.18</td>\n",
       "      <td>...</td>\n",
       "      <td>0.00</td>\n",
       "      <td>0.00</td>\n",
       "      <td>0.00</td>\n",
       "      <td>0.00</td>\n",
       "      <td>0.00</td>\n",
       "      <td>0.00</td>\n",
       "      <td>0.00</td>\n",
       "      <td>0.00</td>\n",
       "      <td>0.00</td>\n",
       "      <td>information pathways</td>\n",
       "    </tr>\n",
       "    <tr>\n",
       "      <th>1</th>\n",
       "      <td>Rv0002</td>\n",
       "      <td>0.00</td>\n",
       "      <td>-0.07</td>\n",
       "      <td>0.00</td>\n",
       "      <td>0.00</td>\n",
       "      <td>-0.07</td>\n",
       "      <td>0.00</td>\n",
       "      <td>0.00</td>\n",
       "      <td>0.0</td>\n",
       "      <td>-0.07</td>\n",
       "      <td>...</td>\n",
       "      <td>0.00</td>\n",
       "      <td>0.00</td>\n",
       "      <td>0.00</td>\n",
       "      <td>0.00</td>\n",
       "      <td>0.00</td>\n",
       "      <td>0.00</td>\n",
       "      <td>0.00</td>\n",
       "      <td>0.00</td>\n",
       "      <td>0.00</td>\n",
       "      <td>information pathways</td>\n",
       "    </tr>\n",
       "    <tr>\n",
       "      <th>2</th>\n",
       "      <td>Rv0003</td>\n",
       "      <td>1.54</td>\n",
       "      <td>-1.86</td>\n",
       "      <td>-0.99</td>\n",
       "      <td>0.56</td>\n",
       "      <td>-2.85</td>\n",
       "      <td>-1.54</td>\n",
       "      <td>-0.56</td>\n",
       "      <td>0.0</td>\n",
       "      <td>-3.41</td>\n",
       "      <td>...</td>\n",
       "      <td>-0.31</td>\n",
       "      <td>1.09</td>\n",
       "      <td>-2.13</td>\n",
       "      <td>0.51</td>\n",
       "      <td>0.41</td>\n",
       "      <td>1.30</td>\n",
       "      <td>-0.49</td>\n",
       "      <td>-1.26</td>\n",
       "      <td>-2.25</td>\n",
       "      <td>information pathways</td>\n",
       "    </tr>\n",
       "    <tr>\n",
       "      <th>3</th>\n",
       "      <td>Rv0005</td>\n",
       "      <td>-0.56</td>\n",
       "      <td>-0.58</td>\n",
       "      <td>-0.08</td>\n",
       "      <td>-0.64</td>\n",
       "      <td>-0.65</td>\n",
       "      <td>0.56</td>\n",
       "      <td>0.64</td>\n",
       "      <td>0.0</td>\n",
       "      <td>-0.02</td>\n",
       "      <td>...</td>\n",
       "      <td>-0.89</td>\n",
       "      <td>-2.36</td>\n",
       "      <td>-1.89</td>\n",
       "      <td>2.90</td>\n",
       "      <td>2.20</td>\n",
       "      <td>-4.05</td>\n",
       "      <td>0.30</td>\n",
       "      <td>0.69</td>\n",
       "      <td>-3.55</td>\n",
       "      <td>information pathways</td>\n",
       "    </tr>\n",
       "    <tr>\n",
       "      <th>4</th>\n",
       "      <td>Rv0006</td>\n",
       "      <td>0.78</td>\n",
       "      <td>2.77</td>\n",
       "      <td>-0.55</td>\n",
       "      <td>0.23</td>\n",
       "      <td>2.22</td>\n",
       "      <td>-0.78</td>\n",
       "      <td>-0.23</td>\n",
       "      <td>0.0</td>\n",
       "      <td>1.99</td>\n",
       "      <td>...</td>\n",
       "      <td>0.23</td>\n",
       "      <td>-1.51</td>\n",
       "      <td>4.80</td>\n",
       "      <td>-2.90</td>\n",
       "      <td>-2.05</td>\n",
       "      <td>-2.93</td>\n",
       "      <td>0.87</td>\n",
       "      <td>3.70</td>\n",
       "      <td>3.67</td>\n",
       "      <td>information pathways</td>\n",
       "    </tr>\n",
       "  </tbody>\n",
       "</table>\n",
       "<p>5 rows × 1963 columns</p>\n",
       "</div>"
      ],
      "text/plain": [
       "    Rv_ID  129s1.SvImJ_vs_C57BL.6J  129s1.SvImJ_vs_mbio_H37Rv  \\\n",
       "0  Rv0001                     0.00                      -0.18   \n",
       "1  Rv0002                     0.00                      -0.07   \n",
       "2  Rv0003                     1.54                      -1.86   \n",
       "3  Rv0005                    -0.56                      -0.58   \n",
       "4  Rv0006                     0.78                       2.77   \n",
       "\n",
       "   A.J_vs_129s1.SvImJ  A.J_vs_C57BL.6J  A.J_vs_mbio_H37Rv  \\\n",
       "0                0.00             0.00              -0.18   \n",
       "1                0.00             0.00              -0.07   \n",
       "2               -0.99             0.56              -2.85   \n",
       "3               -0.08            -0.64              -0.65   \n",
       "4               -0.55             0.23               2.22   \n",
       "\n",
       "   C57BL.6J_vs_129s1.SvImJ  C57BL.6J_vs_A.J  C57BL.6J_vs_C57BL.6J  \\\n",
       "0                     0.00             0.00                   0.0   \n",
       "1                     0.00             0.00                   0.0   \n",
       "2                    -1.54            -0.56                   0.0   \n",
       "3                     0.56             0.64                   0.0   \n",
       "4                    -0.78            -0.23                   0.0   \n",
       "\n",
       "   C57BL.6J_vs_mbio_H37Rv  ...  \\\n",
       "0                   -0.18  ...   \n",
       "1                   -0.07  ...   \n",
       "2                   -3.41  ...   \n",
       "3                   -0.02  ...   \n",
       "4                    1.99  ...   \n",
       "\n",
       "   zhang_DETA-NO_pH_7.0_vs_zhang_pH_7.0_no_NO_control  \\\n",
       "0                                               0.00    \n",
       "1                                               0.00    \n",
       "2                                              -0.31    \n",
       "3                                              -0.89    \n",
       "4                                               0.23    \n",
       "\n",
       "   zhang_Fe_1.5mM_vs_zhang_Fe_450uM  \\\n",
       "0                              0.00   \n",
       "1                              0.00   \n",
       "2                              1.09   \n",
       "3                             -2.36   \n",
       "4                             -1.51   \n",
       "\n",
       "   zhang_Trp_Rescue_vs_zhang_in_vitro_control_Rescue  \\\n",
       "0                                               0.00   \n",
       "1                                               0.00   \n",
       "2                                              -2.13   \n",
       "3                                              -1.89   \n",
       "4                                               4.80   \n",
       "\n",
       "   zhang_Tyloxapol_pH_6.5_vs_zhang_Tyloxapol_pH_4.5  \\\n",
       "0                                              0.00   \n",
       "1                                              0.00   \n",
       "2                                              0.51   \n",
       "3                                              2.90   \n",
       "4                                             -2.90   \n",
       "\n",
       "   zhang_Tyloxapol_pH_6.5_vs_zhang_pcit_pH_4.5  \\\n",
       "0                                         0.00   \n",
       "1                                         0.00   \n",
       "2                                         0.41   \n",
       "3                                         2.20   \n",
       "4                                        -2.05   \n",
       "\n",
       "   zhang_mhcii_mouse_d10_vs_zhang_wt_mouse_d10  \\\n",
       "0                                         0.00   \n",
       "1                                         0.00   \n",
       "2                                         1.30   \n",
       "3                                        -4.05   \n",
       "4                                        -2.93   \n",
       "\n",
       "   zhang_mhcii_mouse_d45_vs_zhang_wt_mouse_d45  \\\n",
       "0                                         0.00   \n",
       "1                                         0.00   \n",
       "2                                        -0.49   \n",
       "3                                         0.30   \n",
       "4                                         0.87   \n",
       "\n",
       "   zhang_wt_mouse_d10_vs_zhang_input_library  \\\n",
       "0                                       0.00   \n",
       "1                                       0.00   \n",
       "2                                      -1.26   \n",
       "3                                       0.69   \n",
       "4                                       3.70   \n",
       "\n",
       "   zhang_wt_mouse_d45_vs_zhang_input_library   Functional_Category  \n",
       "0                                       0.00  information pathways  \n",
       "1                                       0.00  information pathways  \n",
       "2                                      -2.25  information pathways  \n",
       "3                                      -3.55  information pathways  \n",
       "4                                       3.67  information pathways  \n",
       "\n",
       "[5 rows x 1963 columns]"
      ]
     },
     "execution_count": 2,
     "metadata": {},
     "output_type": "execute_result"
    }
   ],
   "source": [
    "new_lfc = pd.read_csv('~/Documents/repos/mtb_tn_db/data/standardized_data/cleaned_ML/lfc_mb_filt.csv')\n",
    "new_lfc.head()"
   ]
  },
  {
   "cell_type": "markdown",
   "id": "192cc175-66e6-446b-b966-10239ab6cd2c",
   "metadata": {},
   "source": [
    "Creating a Y Vector"
   ]
  },
  {
   "cell_type": "code",
   "execution_count": 34,
   "id": "69f50b0b-7659-4c06-9891-76f38839103e",
   "metadata": {},
   "outputs": [
    {
     "data": {
      "text/plain": [
       "array([0, 0, 0, 0, 0, 0, 0, 0, 0, 0, 0, 0, 0, 0, 0, 0, 0, 0, 0, 0, 0, 0,\n",
       "       0, 0, 0, 0, 0, 0, 0, 0, 0, 0, 0, 0, 0, 0, 0, 0, 0, 0, 0, 0, 0, 0,\n",
       "       0, 0, 0, 0, 0, 0, 0, 0, 0, 0, 0, 0, 0, 0, 0, 0, 0, 0, 0, 0, 0, 0,\n",
       "       0, 0, 0, 0, 0, 0, 0, 0, 1, 0, 0, 0, 0, 0, 0, 0, 0, 1, 0, 0, 0, 0,\n",
       "       0, 0, 0, 0, 0, 0, 0, 1, 0, 0, 0, 0])"
      ]
     },
     "execution_count": 34,
     "metadata": {},
     "output_type": "execute_result"
    }
   ],
   "source": [
    "y_list = []\n",
    "i = 0\n",
    "for gene in new_lfc.Functional_Category:\n",
    "    if gene == \"PE/PPE\":\n",
    "        y_list.append(1)\n",
    "    else:\n",
    "        y_list.append(0)\n",
    "    i+=1\n",
    "\n",
    "y = np.array(y_list)\n",
    "y[:100]"
   ]
  },
  {
   "cell_type": "markdown",
   "id": "51060af4-5899-47eb-9501-61cc05ff29b7",
   "metadata": {},
   "source": [
    "Creating the x vector as a 2D array"
   ]
  },
  {
   "cell_type": "code",
   "execution_count": 35,
   "id": "d780ccaf-c9a1-4f93-a07c-922be85e84cc",
   "metadata": {},
   "outputs": [
    {
     "data": {
      "text/plain": [
       "array([[ 0.  , -0.18,  0.  , ...,  0.  ,  0.  ,  0.  ],\n",
       "       [ 0.  , -0.07,  0.  , ...,  0.  ,  0.  ,  0.  ],\n",
       "       [ 1.54, -1.86, -0.99, ..., -0.49, -1.26, -2.25],\n",
       "       ...,\n",
       "       [ 0.41, -1.54, -1.67, ..., -0.93, -2.15, -2.06],\n",
       "       [-1.68, -2.47,  1.42, ...,  1.6 , -3.8 , -3.8 ],\n",
       "       [ 0.  ,  0.  ,  0.  , ...,  0.  ,  0.  ,  0.  ]])"
      ]
     },
     "execution_count": 35,
     "metadata": {},
     "output_type": "execute_result"
    }
   ],
   "source": [
    "raw_x= new_lfc.drop([\"Rv_ID\", \"Functional_Category\"], axis = 1)\n",
    "X = raw_x.to_numpy()\n",
    "X"
   ]
  },
  {
   "cell_type": "code",
   "execution_count": 38,
   "id": "2a4b6b7a-8e27-4c42-9a65-a0d580a4a5da",
   "metadata": {},
   "outputs": [],
   "source": [
    "#Step 1: Create Logistic REgression Classifier.\n",
    "C_temp = 1\n",
    "#clf = XGBClassifier()\n",
    "clf = LogisticRegression(penalty='l1', solver='liblinear', multi_class='ovr', C=C_temp, random_state=42)\n",
    "#Step 2: Split samples into training and test sets using STratifiedKFOld\n",
    "n_splits_Temp = 5\n",
    "n_classes = 2\n",
    "skf = StratifiedKFold(n_splits=n_splits_Temp, shuffle=True, random_state=42)"
   ]
  },
  {
   "cell_type": "code",
   "execution_count": 10,
   "id": "016790f0-cb1a-44d0-a5b1-ff6d5ca4c96a",
   "metadata": {},
   "outputs": [
    {
     "ename": "NameError",
     "evalue": "name 'n_classes' is not defined",
     "output_type": "error",
     "traceback": [
      "\u001b[0;31m---------------------------------------------------------------------------\u001b[0m",
      "\u001b[0;31mNameError\u001b[0m                                 Traceback (most recent call last)",
      "\u001b[0;32m/tmp/ipykernel_2708/1285988942.py\u001b[0m in \u001b[0;36m<module>\u001b[0;34m\u001b[0m\n\u001b[0;32m----> 1\u001b[0;31m \u001b[0mconfusion\u001b[0m \u001b[0;34m=\u001b[0m \u001b[0mnp\u001b[0m\u001b[0;34m.\u001b[0m\u001b[0mzeros\u001b[0m\u001b[0;34m(\u001b[0m\u001b[0;34m(\u001b[0m\u001b[0mn_classes\u001b[0m\u001b[0;34m,\u001b[0m \u001b[0mn_classes\u001b[0m\u001b[0;34m)\u001b[0m\u001b[0;34m)\u001b[0m\u001b[0;34m\u001b[0m\u001b[0;34m\u001b[0m\u001b[0m\n\u001b[0m\u001b[1;32m      2\u001b[0m \u001b[0;31m#Step 3: ITerate thru each training/test set.\u001b[0m\u001b[0;34m\u001b[0m\u001b[0;34m\u001b[0m\u001b[0;34m\u001b[0m\u001b[0m\n\u001b[1;32m      3\u001b[0m \u001b[0;34m\u001b[0m\u001b[0m\n\u001b[1;32m      4\u001b[0m \u001b[0mlog_loss_var\u001b[0m \u001b[0;34m=\u001b[0m \u001b[0;34m[\u001b[0m\u001b[0;34m]\u001b[0m\u001b[0;34m\u001b[0m\u001b[0;34m\u001b[0m\u001b[0m\n\u001b[1;32m      5\u001b[0m \u001b[0;34m\u001b[0m\u001b[0m\n",
      "\u001b[0;31mNameError\u001b[0m: name 'n_classes' is not defined"
     ]
    }
   ],
   "source": [
    "confusion = np.zeros((n_classes, n_classes))\n",
    "#Step 3: ITerate thru each training/test set.\n",
    "\n",
    "log_loss_var = []\n",
    "\n",
    "for train_index, test_index in skf.split(X, y):\n",
    "    X_train, X_test = X[train_index], X[test_index]\n",
    "    y_train, y_test = y[train_index], y[test_index] \n",
    "    X_train, y_train = SMOTE().fit_resample(X_train, y_train) \n",
    "    #Step 4: Fit the logistic regression to the training data. \n",
    "    clf.fit(X_train, y_train)\n",
    "    #Step 5: Predict the values of the testing data. \n",
    "    y_hat = clf.predict(X_test)\n",
    "    confusion += confusion_matrix(y_test, y_hat)\n",
    "    y_pred = clf.predict_proba(X_test)\n",
    "    log_loss_var.append(log_loss(y_test, y_pred))\n",
    "average_logloss = sum(log_loss_var)/len(log_loss_var)\n",
    "    \n",
    "confusion = normalize(confusion, axis=1, norm='l1')\n",
    "\n",
    "log_loss_var\n"
   ]
  },
  {
   "cell_type": "code",
   "execution_count": 41,
   "id": "13b1d81e-3757-457d-b24b-09dca8b0d7cc",
   "metadata": {},
   "outputs": [
    {
     "data": {
      "text/plain": [
       "0.5276504922913097"
      ]
     },
     "execution_count": 41,
     "metadata": {},
     "output_type": "execute_result"
    }
   ],
   "source": [
    "average_logloss"
   ]
  },
  {
   "cell_type": "code",
   "execution_count": 8,
   "id": "2e077c8a-69cd-4895-ac18-0e9b328195fe",
   "metadata": {},
   "outputs": [
    {
     "data": {
      "text/plain": [
       "array([[0.98594595, 0.01405405],\n",
       "       [0.62962963, 0.37037037]])"
      ]
     },
     "execution_count": 8,
     "metadata": {},
     "output_type": "execute_result"
    }
   ],
   "source": [
    "confusion"
   ]
  },
  {
   "cell_type": "code",
   "execution_count": 9,
   "id": "6c1c21d8-be64-4600-a1bf-d73454a8d5f1",
   "metadata": {},
   "outputs": [
    {
     "data": {
      "text/plain": [
       "array([0, 1])"
      ]
     },
     "execution_count": 9,
     "metadata": {},
     "output_type": "execute_result"
    }
   ],
   "source": [
    "clf.classes_"
   ]
  },
  {
   "cell_type": "code",
   "execution_count": 12,
   "id": "c0d7a3c6-7ee8-4def-9bbf-2f194d94782e",
   "metadata": {},
   "outputs": [
    {
     "data": {
      "image/png": "[encoded data removed]",
      "text/plain": [
       "<Figure size 864x864 with 2 Axes>"
      ]
     },
     "metadata": {},
     "output_type": "display_data"
    }
   ],
   "source": [
    "col_names = list(clf.classes_)\n",
    "df_confusion = pd.DataFrame(confusion, columns=col_names, index=col_names)\n",
    "\n",
    "plt.figure(figsize=(12,12))\n",
    "rc = {'xtick.labelsize': 22, 'ytick.labelsize': 22, 'axes.labelsize': 22}\n",
    "sns.set(rc=rc)\n",
    "heat = sns.heatmap(df_confusion, annot=True, linewidths=2, fmt='1.2f', square=True, annot_kws={\"fontsize\":12})\n",
    "filename = \"PE_PPE,1.png\"\n",
    "plt.savefig(filename)"
   ]
  },
  {
   "cell_type": "code",
   "execution_count": 14,
   "id": "e10df3db-45cc-4212-b2de-e4cc729f3d65",
   "metadata": {},
   "outputs": [
    {
     "name": "stdout",
     "output_type": "stream",
     "text": [
      "[0.21747839034034094, 0.20802537252752376, 0.21649470144004784, 0.1524316223680568, 0.18154488428882595]\n"
     ]
    }
   ],
   "source": [
    "print(log_loss_var)"
   ]
  },
  {
   "cell_type": "code",
   "execution_count": 13,
   "id": "51ec36ad-7fdd-4b27-977a-740373a19dcc",
   "metadata": {},
   "outputs": [
    {
     "data": {
      "text/plain": [
       "<Figure size 432x288 with 0 Axes>"
      ]
     },
     "metadata": {},
     "output_type": "display_data"
    }
   ],
   "source": [
    "plt.savefig(\"test.png\")"
   ]
  },
  {
   "cell_type": "code",
   "execution_count": null,
   "id": "6dc00e34-bc2b-4cfc-8112-5408603c96c9",
   "metadata": {},
   "outputs": [],
   "source": []
  },
  {
   "cell_type": "markdown",
   "id": "5a0a3d1d-3541-457b-98ec-eec586a134c7",
   "metadata": {},
   "source": [
    "Predicting Essentiality for Cell Wall "
   ]
  },
  {
   "cell_type": "code",
   "execution_count": 4,
   "id": "51470713-ce09-41ae-b099-80663d553a24",
   "metadata": {},
   "outputs": [],
   "source": [
    "def accuracy_matrix(classname, C_temp, shuffle):\n",
    "    #Creating the y variable. \n",
    "    y_list = []\n",
    "    i = 0\n",
    "    for gene in new_lfc.Functional_Category:\n",
    "        if gene == classname:\n",
    "            y_list.append(1)\n",
    "        else:\n",
    "            y_list.append(0)\n",
    "        i+=1\n",
    "    y = np.array(y_list)\n",
    "    \n",
    "    #Shuffling the y matrix. \n",
    "    if shuffle == True:\n",
    "            random.shuffle(y)\n",
    "            \n",
    "    #Creating the x variable.\n",
    "    raw_x= new_lfc.drop([\"Rv_ID\", \"Functional_Category\"], axis = 1)\n",
    "    X = raw_x.to_numpy()\n",
    "\n",
    "    #Step 1: Create Logistic REgression Classifier.\n",
    "    clf = LogisticRegression(penalty='l1', solver='liblinear', multi_class='ovr', C=C_temp, random_state=42)\n",
    "    #Step 2: Split samples into training and test sets using STratifiedKFOld\n",
    "    n_splits_Temp = 5\n",
    "    n_classes = 2\n",
    "    skf = StratifiedKFold(n_splits=n_splits_Temp, shuffle=True, random_state=42)\n",
    "    confusion = np.zeros((n_classes, n_classes))\n",
    "    log_loss_var = []\n",
    "    #Step 3: ITerate thru each training/test set.\n",
    "    for train_index, test_index in skf.split(X, y):\n",
    "        X_train, X_test = X[train_index], X[test_index]\n",
    "        y_train, y_test = y[train_index], y[test_index] \n",
    "        X_train, y_train = SMOTE().fit_resample(X_train, y_train)\n",
    "        #Step 4: Fit the logistic regression to the training data. \n",
    "        clf.fit(X_train, y_train)\n",
    "        #clf = XGBClassifier()\n",
    "        clf.fit(X_train, y_train)\n",
    "        #Step 5: Predict the values of the testing data. \n",
    "        y_hat = clf.predict(X_test)\n",
    "        confusion += confusion_matrix(y_test, y_hat)\n",
    "        #Create a list of all the accuracy matrixes.\n",
    "        y_pred = clf.predict_proba(X_test)\n",
    "        log_loss_var.append(log_loss(y_test, y_pred))\n",
    "    average_logloss = sum(log_loss_var)/len(log_loss_var)\n",
    "\n",
    "    confusion = normalize(confusion, axis=1, norm='l1')\n",
    "\n",
    "    col_names = list(clf.classes_)\n",
    "    df_confusion = pd.DataFrame(confusion, columns=col_names, index=col_names)\n",
    "\n",
    "    #plt.figure(figsize=(12,12))\n",
    "    \n",
    "    #rc = {'xtick.labelsize': 22, 'ytick.labelsize': 22, 'axes.labelsize': 22}\n",
    "    #sns.set(rc=rc)\n",
    "    #heat = sns.heatmap(df_confusion, annot=True, linewidths=2, fmt='1.2f', square=True, annot_kws={\"fontsize\":12})\n",
    "    #if \"/\" in classname:\n",
    "        #classname = classname.split(\"/\")\n",
    "    #if shuffle == True:\n",
    "        #filename = str(classname)+\",\"+str(C_temp)+\"_shuffle\"+\".png\"\n",
    "    #elif shuffle == False:\n",
    "        #filename = str(classname)+\",\"+str(C_temp)+\"_real\"+\".png\"\n",
    "    #plt.savefig(filename)\n",
    "    return average_logloss\n"
   ]
  },
  {
   "cell_type": "code",
   "execution_count": 22,
   "id": "70f57587-d036-43be-aeb2-7a37535e8670",
   "metadata": {},
   "outputs": [
    {
     "data": {
      "text/plain": [
       "<AxesSubplot:>"
      ]
     },
     "execution_count": 22,
     "metadata": {},
     "output_type": "execute_result"
    },
    {
     "data": {
      "image/png": "[encoded data removed]",
      "text/plain": [
       "<Figure size 864x864 with 2 Axes>"
      ]
     },
     "metadata": {},
     "output_type": "display_data"
    }
   ],
   "source": [
    "accuracy_matrix(\"intermediary metabolism and respiration\", 0.01)"
   ]
  },
  {
   "cell_type": "markdown",
   "id": "51a329f1-ab9d-4174-9548-6e5df8864ff7",
   "metadata": {},
   "source": [
    "Creating a matrix with combination of classifier and C values"
   ]
  },
  {
   "cell_type": "code",
   "execution_count": 5,
   "id": "9fc2f0c0-0147-4050-a349-c96763f5f5fa",
   "metadata": {},
   "outputs": [
    {
     "name": "stdout",
     "output_type": "stream",
     "text": [
      "[['information pathways', 0.001, True], ['information pathways', 0.001, False], ['information pathways', 0.01, True], ['information pathways', 0.01, False], ['information pathways', 0.1, True], ['information pathways', 0.1, False], ['information pathways', 1, True], ['information pathways', 1, False], ['cell wall and cell processes', 0.001, True], ['cell wall and cell processes', 0.001, False], ['cell wall and cell processes', 0.01, True], ['cell wall and cell processes', 0.01, False], ['cell wall and cell processes', 0.1, True], ['cell wall and cell processes', 0.1, False], ['cell wall and cell processes', 1, True], ['cell wall and cell processes', 1, False], ['intermediary metabolism and respiration', 0.001, True], ['intermediary metabolism and respiration', 0.001, False], ['intermediary metabolism and respiration', 0.01, True], ['intermediary metabolism and respiration', 0.01, False], ['intermediary metabolism and respiration', 0.1, True], ['intermediary metabolism and respiration', 0.1, False], ['intermediary metabolism and respiration', 1, True], ['intermediary metabolism and respiration', 1, False], ['regulatory proteins', 0.001, True], ['regulatory proteins', 0.001, False], ['regulatory proteins', 0.01, True], ['regulatory proteins', 0.01, False], ['regulatory proteins', 0.1, True], ['regulatory proteins', 0.1, False], ['regulatory proteins', 1, True], ['regulatory proteins', 1, False], ['virulence, detoxification, adaptation', 0.001, True], ['virulence, detoxification, adaptation', 0.001, False], ['virulence, detoxification, adaptation', 0.01, True], ['virulence, detoxification, adaptation', 0.01, False], ['virulence, detoxification, adaptation', 0.1, True], ['virulence, detoxification, adaptation', 0.1, False], ['virulence, detoxification, adaptation', 1, True], ['virulence, detoxification, adaptation', 1, False], ['insertion seqs and phages', 0.001, True], ['insertion seqs and phages', 0.001, False], ['insertion seqs and phages', 0.01, True], ['insertion seqs and phages', 0.01, False], ['insertion seqs and phages', 0.1, True], ['insertion seqs and phages', 0.1, False], ['insertion seqs and phages', 1, True], ['insertion seqs and phages', 1, False], ['lipid metabolism', 0.001, True], ['lipid metabolism', 0.001, False], ['lipid metabolism', 0.01, True], ['lipid metabolism', 0.01, False], ['lipid metabolism', 0.1, True], ['lipid metabolism', 0.1, False], ['lipid metabolism', 1, True], ['lipid metabolism', 1, False], ['PE/PPE', 0.001, True], ['PE/PPE', 0.001, False], ['PE/PPE', 0.01, True], ['PE/PPE', 0.01, False], ['PE/PPE', 0.1, True], ['PE/PPE', 0.1, False], ['PE/PPE', 1, True], ['PE/PPE', 1, False]]\n"
     ]
    }
   ],
   "source": [
    "Fxnal_Categories = list(new_lfc.Functional_Category.unique())\n",
    "C_values =[0.001, 0.01, 0.1, 1]\n",
    "Bool = [True, False]\n",
    "\n",
    "Possible_Matrices = []\n",
    "for Category in Fxnal_Categories:\n",
    "    for C in C_values:\n",
    "        for val in Bool:\n",
    "            Combo =[]\n",
    "            Combo.extend([Category,C,val])\n",
    "            Possible_Matrices.append(Combo)\n",
    "\n",
    "print(Possible_Matrices)"
   ]
  },
  {
   "cell_type": "code",
   "execution_count": 6,
   "id": "7b1441aa-b658-407a-8599-02431eba2ff9",
   "metadata": {},
   "outputs": [],
   "source": [
    "ReallogLoss = []\n",
    "Shufflelogloss = []\n",
    "\n",
    "for matrix in Possible_Matrices:\n",
    "    average_logloss = accuracy_matrix(matrix[0], matrix[1], matrix[2])\n",
    "    if matrix[2] == False:\n",
    "        ReallogLoss.append(average_logloss)\n",
    "    elif matrix[2] == True:\n",
    "        Shufflelogloss.append(average_logloss)\n"
   ]
  },
  {
   "cell_type": "markdown",
   "id": "90cae0ca-3909-4c4f-9433-7f56ad7e4202",
   "metadata": {},
   "source": [
    "Creating a Data Frame of LogLoss Values for each C "
   ]
  },
  {
   "cell_type": "code",
   "execution_count": 7,
   "id": "6f9a1e61-6e3b-4490-92a0-c92d708c62e1",
   "metadata": {},
   "outputs": [
    {
     "data": {
      "text/html": [
       "<div>\n",
       "<style scoped>\n",
       "    .dataframe tbody tr th:only-of-type {\n",
       "        vertical-align: middle;\n",
       "    }\n",
       "\n",
       "    .dataframe tbody tr th {\n",
       "        vertical-align: top;\n",
       "    }\n",
       "\n",
       "    .dataframe thead th {\n",
       "        text-align: right;\n",
       "    }\n",
       "</style>\n",
       "<table border=\"1\" class=\"dataframe\">\n",
       "  <thead>\n",
       "    <tr style=\"text-align: right;\">\n",
       "      <th></th>\n",
       "      <th>c</th>\n",
       "      <th>Real_Data</th>\n",
       "      <th>Shuffle_Data</th>\n",
       "    </tr>\n",
       "  </thead>\n",
       "  <tbody>\n",
       "    <tr>\n",
       "      <th>information pathways</th>\n",
       "      <td>0.001</td>\n",
       "      <td>0.693147</td>\n",
       "      <td>0.693147</td>\n",
       "    </tr>\n",
       "    <tr>\n",
       "      <th>information pathways</th>\n",
       "      <td>0.010</td>\n",
       "      <td>0.637329</td>\n",
       "      <td>0.639399</td>\n",
       "    </tr>\n",
       "    <tr>\n",
       "      <th>information pathways</th>\n",
       "      <td>0.100</td>\n",
       "      <td>0.616617</td>\n",
       "      <td>0.673231</td>\n",
       "    </tr>\n",
       "    <tr>\n",
       "      <th>information pathways</th>\n",
       "      <td>1.000</td>\n",
       "      <td>0.638193</td>\n",
       "      <td>0.725515</td>\n",
       "    </tr>\n",
       "    <tr>\n",
       "      <th>cell wall and cell processes</th>\n",
       "      <td>0.001</td>\n",
       "      <td>0.693147</td>\n",
       "      <td>0.693147</td>\n",
       "    </tr>\n",
       "    <tr>\n",
       "      <th>cell wall and cell processes</th>\n",
       "      <td>0.010</td>\n",
       "      <td>0.681504</td>\n",
       "      <td>0.690413</td>\n",
       "    </tr>\n",
       "    <tr>\n",
       "      <th>cell wall and cell processes</th>\n",
       "      <td>0.100</td>\n",
       "      <td>0.680335</td>\n",
       "      <td>0.714988</td>\n",
       "    </tr>\n",
       "    <tr>\n",
       "      <th>cell wall and cell processes</th>\n",
       "      <td>1.000</td>\n",
       "      <td>0.705641</td>\n",
       "      <td>0.733085</td>\n",
       "    </tr>\n",
       "    <tr>\n",
       "      <th>intermediary metabolism and respiration</th>\n",
       "      <td>0.001</td>\n",
       "      <td>0.693147</td>\n",
       "      <td>0.693147</td>\n",
       "    </tr>\n",
       "    <tr>\n",
       "      <th>intermediary metabolism and respiration</th>\n",
       "      <td>0.010</td>\n",
       "      <td>0.662490</td>\n",
       "      <td>0.687683</td>\n",
       "    </tr>\n",
       "    <tr>\n",
       "      <th>intermediary metabolism and respiration</th>\n",
       "      <td>0.100</td>\n",
       "      <td>0.680980</td>\n",
       "      <td>0.715375</td>\n",
       "    </tr>\n",
       "    <tr>\n",
       "      <th>intermediary metabolism and respiration</th>\n",
       "      <td>1.000</td>\n",
       "      <td>0.698422</td>\n",
       "      <td>0.730934</td>\n",
       "    </tr>\n",
       "    <tr>\n",
       "      <th>regulatory proteins</th>\n",
       "      <td>0.001</td>\n",
       "      <td>0.693147</td>\n",
       "      <td>0.693147</td>\n",
       "    </tr>\n",
       "    <tr>\n",
       "      <th>regulatory proteins</th>\n",
       "      <td>0.010</td>\n",
       "      <td>0.683648</td>\n",
       "      <td>0.646963</td>\n",
       "    </tr>\n",
       "    <tr>\n",
       "      <th>regulatory proteins</th>\n",
       "      <td>0.100</td>\n",
       "      <td>0.651821</td>\n",
       "      <td>0.698636</td>\n",
       "    </tr>\n",
       "    <tr>\n",
       "      <th>regulatory proteins</th>\n",
       "      <td>1.000</td>\n",
       "      <td>0.675316</td>\n",
       "      <td>0.688192</td>\n",
       "    </tr>\n",
       "    <tr>\n",
       "      <th>virulence, detoxification, adaptation</th>\n",
       "      <td>0.001</td>\n",
       "      <td>0.693147</td>\n",
       "      <td>0.693147</td>\n",
       "    </tr>\n",
       "    <tr>\n",
       "      <th>virulence, detoxification, adaptation</th>\n",
       "      <td>0.010</td>\n",
       "      <td>0.675629</td>\n",
       "      <td>0.644182</td>\n",
       "    </tr>\n",
       "    <tr>\n",
       "      <th>virulence, detoxification, adaptation</th>\n",
       "      <td>0.100</td>\n",
       "      <td>0.646879</td>\n",
       "      <td>0.675755</td>\n",
       "    </tr>\n",
       "    <tr>\n",
       "      <th>virulence, detoxification, adaptation</th>\n",
       "      <td>1.000</td>\n",
       "      <td>0.677919</td>\n",
       "      <td>0.702515</td>\n",
       "    </tr>\n",
       "    <tr>\n",
       "      <th>insertion seqs and phages</th>\n",
       "      <td>0.001</td>\n",
       "      <td>0.659488</td>\n",
       "      <td>0.693147</td>\n",
       "    </tr>\n",
       "    <tr>\n",
       "      <th>insertion seqs and phages</th>\n",
       "      <td>0.010</td>\n",
       "      <td>0.478740</td>\n",
       "      <td>0.657945</td>\n",
       "    </tr>\n",
       "    <tr>\n",
       "      <th>insertion seqs and phages</th>\n",
       "      <td>0.100</td>\n",
       "      <td>0.425573</td>\n",
       "      <td>0.626123</td>\n",
       "    </tr>\n",
       "    <tr>\n",
       "      <th>insertion seqs and phages</th>\n",
       "      <td>1.000</td>\n",
       "      <td>0.484884</td>\n",
       "      <td>0.688139</td>\n",
       "    </tr>\n",
       "    <tr>\n",
       "      <th>lipid metabolism</th>\n",
       "      <td>0.001</td>\n",
       "      <td>0.693147</td>\n",
       "      <td>0.693147</td>\n",
       "    </tr>\n",
       "    <tr>\n",
       "      <th>lipid metabolism</th>\n",
       "      <td>0.010</td>\n",
       "      <td>0.665281</td>\n",
       "      <td>0.653526</td>\n",
       "    </tr>\n",
       "    <tr>\n",
       "      <th>lipid metabolism</th>\n",
       "      <td>0.100</td>\n",
       "      <td>0.668504</td>\n",
       "      <td>0.697464</td>\n",
       "    </tr>\n",
       "    <tr>\n",
       "      <th>lipid metabolism</th>\n",
       "      <td>1.000</td>\n",
       "      <td>0.700076</td>\n",
       "      <td>0.711184</td>\n",
       "    </tr>\n",
       "    <tr>\n",
       "      <th>PE/PPE</th>\n",
       "      <td>0.001</td>\n",
       "      <td>0.693147</td>\n",
       "      <td>0.693147</td>\n",
       "    </tr>\n",
       "    <tr>\n",
       "      <th>PE/PPE</th>\n",
       "      <td>0.010</td>\n",
       "      <td>0.562718</td>\n",
       "      <td>0.638394</td>\n",
       "    </tr>\n",
       "    <tr>\n",
       "      <th>PE/PPE</th>\n",
       "      <td>0.100</td>\n",
       "      <td>0.490297</td>\n",
       "      <td>0.670006</td>\n",
       "    </tr>\n",
       "    <tr>\n",
       "      <th>PE/PPE</th>\n",
       "      <td>1.000</td>\n",
       "      <td>0.529512</td>\n",
       "      <td>0.696163</td>\n",
       "    </tr>\n",
       "  </tbody>\n",
       "</table>\n",
       "</div>"
      ],
      "text/plain": [
       "                                             c  Real_Data  Shuffle_Data\n",
       "information pathways                     0.001   0.693147      0.693147\n",
       "information pathways                     0.010   0.637329      0.639399\n",
       "information pathways                     0.100   0.616617      0.673231\n",
       "information pathways                     1.000   0.638193      0.725515\n",
       "cell wall and cell processes             0.001   0.693147      0.693147\n",
       "cell wall and cell processes             0.010   0.681504      0.690413\n",
       "cell wall and cell processes             0.100   0.680335      0.714988\n",
       "cell wall and cell processes             1.000   0.705641      0.733085\n",
       "intermediary metabolism and respiration  0.001   0.693147      0.693147\n",
       "intermediary metabolism and respiration  0.010   0.662490      0.687683\n",
       "intermediary metabolism and respiration  0.100   0.680980      0.715375\n",
       "intermediary metabolism and respiration  1.000   0.698422      0.730934\n",
       "regulatory proteins                      0.001   0.693147      0.693147\n",
       "regulatory proteins                      0.010   0.683648      0.646963\n",
       "regulatory proteins                      0.100   0.651821      0.698636\n",
       "regulatory proteins                      1.000   0.675316      0.688192\n",
       "virulence, detoxification, adaptation    0.001   0.693147      0.693147\n",
       "virulence, detoxification, adaptation    0.010   0.675629      0.644182\n",
       "virulence, detoxification, adaptation    0.100   0.646879      0.675755\n",
       "virulence, detoxification, adaptation    1.000   0.677919      0.702515\n",
       "insertion seqs and phages                0.001   0.659488      0.693147\n",
       "insertion seqs and phages                0.010   0.478740      0.657945\n",
       "insertion seqs and phages                0.100   0.425573      0.626123\n",
       "insertion seqs and phages                1.000   0.484884      0.688139\n",
       "lipid metabolism                         0.001   0.693147      0.693147\n",
       "lipid metabolism                         0.010   0.665281      0.653526\n",
       "lipid metabolism                         0.100   0.668504      0.697464\n",
       "lipid metabolism                         1.000   0.700076      0.711184\n",
       "PE/PPE                                   0.001   0.693147      0.693147\n",
       "PE/PPE                                   0.010   0.562718      0.638394\n",
       "PE/PPE                                   0.100   0.490297      0.670006\n",
       "PE/PPE                                   1.000   0.529512      0.696163"
      ]
     },
     "execution_count": 7,
     "metadata": {},
     "output_type": "execute_result"
    }
   ],
   "source": [
    "Categories = []\n",
    "C_parameters = []\n",
    "for matrix in Possible_Matrices:\n",
    "    if matrix[2] == True:\n",
    "        Categories.append(matrix[0])\n",
    "        C_parameters.append(matrix[1])\n",
    "data= {'c':C_parameters,'Real_Data':ReallogLoss, 'Shuffle_Data':Shufflelogloss} #Creating a data frame with all the C values.\n",
    "df_LogLoss = pd.DataFrame(data,index = [Categories])\n",
    "df_COOO1 = df_LogLoss[df_LogLoss.c == 0.001] #Making a data frame for each c value.\n",
    "df_COO1 = df_LogLoss[df_LogLoss.c == 0.01]\n",
    "df_CO1 = df_LogLoss[df_LogLoss.c == 0.1]\n",
    "df_C1 = df_LogLoss[df_LogLoss.c == 1]\n",
    "df_list = [df_COOO1, df_COO1, df_CO1, df_C1]\n",
    "df_LogLoss"
   ]
  },
  {
   "cell_type": "code",
   "execution_count": 8,
   "id": "51c56d8f-7d80-441b-b779-039d0e4443c5",
   "metadata": {},
   "outputs": [
    {
     "data": {
      "text/html": [
       "<div>\n",
       "<style scoped>\n",
       "    .dataframe tbody tr th:only-of-type {\n",
       "        vertical-align: middle;\n",
       "    }\n",
       "\n",
       "    .dataframe tbody tr th {\n",
       "        vertical-align: top;\n",
       "    }\n",
       "\n",
       "    .dataframe thead th {\n",
       "        text-align: right;\n",
       "    }\n",
       "</style>\n",
       "<table border=\"1\" class=\"dataframe\">\n",
       "  <thead>\n",
       "    <tr style=\"text-align: right;\">\n",
       "      <th></th>\n",
       "      <th>c</th>\n",
       "      <th>Real_Data</th>\n",
       "      <th>Shuffle_Data</th>\n",
       "    </tr>\n",
       "  </thead>\n",
       "  <tbody>\n",
       "    <tr>\n",
       "      <th>information pathways</th>\n",
       "      <td>0.1</td>\n",
       "      <td>0.616617</td>\n",
       "      <td>0.673231</td>\n",
       "    </tr>\n",
       "    <tr>\n",
       "      <th>cell wall and cell processes</th>\n",
       "      <td>0.1</td>\n",
       "      <td>0.680335</td>\n",
       "      <td>0.714988</td>\n",
       "    </tr>\n",
       "    <tr>\n",
       "      <th>intermediary metabolism and respiration</th>\n",
       "      <td>0.1</td>\n",
       "      <td>0.680980</td>\n",
       "      <td>0.715375</td>\n",
       "    </tr>\n",
       "    <tr>\n",
       "      <th>regulatory proteins</th>\n",
       "      <td>0.1</td>\n",
       "      <td>0.651821</td>\n",
       "      <td>0.698636</td>\n",
       "    </tr>\n",
       "    <tr>\n",
       "      <th>virulence, detoxification, adaptation</th>\n",
       "      <td>0.1</td>\n",
       "      <td>0.646879</td>\n",
       "      <td>0.675755</td>\n",
       "    </tr>\n",
       "    <tr>\n",
       "      <th>insertion seqs and phages</th>\n",
       "      <td>0.1</td>\n",
       "      <td>0.425573</td>\n",
       "      <td>0.626123</td>\n",
       "    </tr>\n",
       "    <tr>\n",
       "      <th>lipid metabolism</th>\n",
       "      <td>0.1</td>\n",
       "      <td>0.668504</td>\n",
       "      <td>0.697464</td>\n",
       "    </tr>\n",
       "    <tr>\n",
       "      <th>PE/PPE</th>\n",
       "      <td>0.1</td>\n",
       "      <td>0.490297</td>\n",
       "      <td>0.670006</td>\n",
       "    </tr>\n",
       "  </tbody>\n",
       "</table>\n",
       "</div>"
      ],
      "text/plain": [
       "                                           c  Real_Data  Shuffle_Data\n",
       "information pathways                     0.1   0.616617      0.673231\n",
       "cell wall and cell processes             0.1   0.680335      0.714988\n",
       "intermediary metabolism and respiration  0.1   0.680980      0.715375\n",
       "regulatory proteins                      0.1   0.651821      0.698636\n",
       "virulence, detoxification, adaptation    0.1   0.646879      0.675755\n",
       "insertion seqs and phages                0.1   0.425573      0.626123\n",
       "lipid metabolism                         0.1   0.668504      0.697464\n",
       "PE/PPE                                   0.1   0.490297      0.670006"
      ]
     },
     "execution_count": 8,
     "metadata": {},
     "output_type": "execute_result"
    }
   ],
   "source": [
    "df_CO1"
   ]
  },
  {
   "cell_type": "code",
   "execution_count": 9,
   "id": "f516132a-95d8-4d38-9027-e5e95c39e712",
   "metadata": {},
   "outputs": [],
   "source": [
    "def logloss_scatter(df):\n",
    "    plt.scatter(df.Real_Data, df.Shuffle_Data)"
   ]
  },
  {
   "cell_type": "code",
   "execution_count": 25,
   "id": "a1c4c1f8-8e82-4fbd-bbde-162cf69e87e2",
   "metadata": {},
   "outputs": [
    {
     "data": {
      "image/png": "[encoded data removed]",
      "text/plain": [
       "<Figure size 432x288 with 1 Axes>"
      ]
     },
     "metadata": {},
     "output_type": "display_data"
    }
   ],
   "source": [
    "for df in df_list:\n",
    "    logloss_scatter(df)"
   ]
  },
  {
   "cell_type": "code",
   "execution_count": 21,
   "id": "d75e2f80-871d-4c87-ba33-3fd815352b73",
   "metadata": {},
   "outputs": [
    {
     "data": {
      "text/html": [
       "<div>\n",
       "<style scoped>\n",
       "    .dataframe tbody tr th:only-of-type {\n",
       "        vertical-align: middle;\n",
       "    }\n",
       "\n",
       "    .dataframe tbody tr th {\n",
       "        vertical-align: top;\n",
       "    }\n",
       "\n",
       "    .dataframe thead th {\n",
       "        text-align: right;\n",
       "    }\n",
       "</style>\n",
       "<table border=\"1\" class=\"dataframe\">\n",
       "  <thead>\n",
       "    <tr style=\"text-align: right;\">\n",
       "      <th></th>\n",
       "      <th>c</th>\n",
       "      <th>Real_Data</th>\n",
       "      <th>Shuffle_Data</th>\n",
       "    </tr>\n",
       "  </thead>\n",
       "  <tbody>\n",
       "    <tr>\n",
       "      <th>information pathways</th>\n",
       "      <td>0.001</td>\n",
       "      <td>0.693147</td>\n",
       "      <td>0.693147</td>\n",
       "    </tr>\n",
       "    <tr>\n",
       "      <th>cell wall and cell processes</th>\n",
       "      <td>0.001</td>\n",
       "      <td>0.693147</td>\n",
       "      <td>0.693147</td>\n",
       "    </tr>\n",
       "    <tr>\n",
       "      <th>intermediary metabolism and respiration</th>\n",
       "      <td>0.001</td>\n",
       "      <td>0.693147</td>\n",
       "      <td>0.693147</td>\n",
       "    </tr>\n",
       "    <tr>\n",
       "      <th>regulatory proteins</th>\n",
       "      <td>0.001</td>\n",
       "      <td>0.693147</td>\n",
       "      <td>0.693147</td>\n",
       "    </tr>\n",
       "    <tr>\n",
       "      <th>virulence, detoxification, adaptation</th>\n",
       "      <td>0.001</td>\n",
       "      <td>0.693147</td>\n",
       "      <td>0.693147</td>\n",
       "    </tr>\n",
       "    <tr>\n",
       "      <th>insertion seqs and phages</th>\n",
       "      <td>0.001</td>\n",
       "      <td>0.660548</td>\n",
       "      <td>0.693147</td>\n",
       "    </tr>\n",
       "    <tr>\n",
       "      <th>lipid metabolism</th>\n",
       "      <td>0.001</td>\n",
       "      <td>0.693147</td>\n",
       "      <td>0.693147</td>\n",
       "    </tr>\n",
       "    <tr>\n",
       "      <th>PE/PPE</th>\n",
       "      <td>0.001</td>\n",
       "      <td>0.693147</td>\n",
       "      <td>0.693147</td>\n",
       "    </tr>\n",
       "  </tbody>\n",
       "</table>\n",
       "</div>"
      ],
      "text/plain": [
       "                                             c  Real_Data  Shuffle_Data\n",
       "information pathways                     0.001   0.693147      0.693147\n",
       "cell wall and cell processes             0.001   0.693147      0.693147\n",
       "intermediary metabolism and respiration  0.001   0.693147      0.693147\n",
       "regulatory proteins                      0.001   0.693147      0.693147\n",
       "virulence, detoxification, adaptation    0.001   0.693147      0.693147\n",
       "insertion seqs and phages                0.001   0.660548      0.693147\n",
       "lipid metabolism                         0.001   0.693147      0.693147\n",
       "PE/PPE                                   0.001   0.693147      0.693147"
      ]
     },
     "execution_count": 21,
     "metadata": {},
     "output_type": "execute_result"
    }
   ],
   "source": [
    "df_COOO1"
   ]
  },
  {
   "cell_type": "code",
   "execution_count": 32,
   "id": "d5a5d84d-d45e-40e8-b231-29d26d101c14",
   "metadata": {},
   "outputs": [
    {
     "name": "stdout",
     "output_type": "stream",
     "text": [
      "[0.3        0.30505051 0.31010101 0.31515152 0.32020202 0.32525253\n",
      " 0.33030303 0.33535354 0.34040404 0.34545455 0.35050505 0.35555556\n",
      " 0.36060606 0.36565657 0.37070707 0.37575758 0.38080808 0.38585859\n",
      " 0.39090909 0.3959596  0.4010101  0.40606061 0.41111111 0.41616162\n",
      " 0.42121212 0.42626263 0.43131313 0.43636364 0.44141414 0.44646465\n",
      " 0.45151515 0.45656566 0.46161616 0.46666667 0.47171717 0.47676768\n",
      " 0.48181818 0.48686869 0.49191919 0.4969697  0.5020202  0.50707071\n",
      " 0.51212121 0.51717172 0.52222222 0.52727273 0.53232323 0.53737374\n",
      " 0.54242424 0.54747475 0.55252525 0.55757576 0.56262626 0.56767677\n",
      " 0.57272727 0.57777778 0.58282828 0.58787879 0.59292929 0.5979798\n",
      " 0.6030303  0.60808081 0.61313131 0.61818182 0.62323232 0.62828283\n",
      " 0.63333333 0.63838384 0.64343434 0.64848485 0.65353535 0.65858586\n",
      " 0.66363636 0.66868687 0.67373737 0.67878788 0.68383838 0.68888889\n",
      " 0.69393939 0.6989899  0.7040404  0.70909091 0.71414141 0.71919192\n",
      " 0.72424242 0.72929293 0.73434343 0.73939394 0.74444444 0.74949495\n",
      " 0.75454545 0.75959596 0.76464646 0.76969697 0.77474747 0.77979798\n",
      " 0.78484848 0.78989899 0.79494949 0.8       ]\n"
     ]
    }
   ],
   "source": [
    "print(xyline)"
   ]
  },
  {
   "cell_type": "code",
   "execution_count": 10,
   "id": "f6c7ef5f-0be2-4d1f-bb33-411a6908bd62",
   "metadata": {},
   "outputs": [
    {
     "data": {
      "image/png": "[encoded data removed]",
      "text/plain": [
       "<Figure size 432x432 with 1 Axes>"
      ]
     },
     "metadata": {
      "needs_background": "light"
     },
     "output_type": "display_data"
    }
   ],
   "source": [
    "plt.figure(figsize = (6,6))\n",
    "plt.scatter(df_CO1.Real_Data, df_CO1.Shuffle_Data)\n",
    "plt.xlim(0.3,0.8)\n",
    "plt.ylim(0.3,0.8)\n",
    "xyline = np.linspace(0.3,0.8,20)\n",
    "plt.plot(xyline, xyline)\n",
    "plt.xlabel('logloss real data', fontsize = 22)\n",
    "plt.ylabel('logloss shuffled data', fontsize = 22)\n",
    "xt = plt.xticks(fontsize = 14)\n",
    "yt = plt.yticks(fontsize = 14)\n",
    "plt.errorbar(x, y, yerr=e, fmt='o')"
   ]
  },
  {
   "cell_type": "markdown",
   "id": "94914c01-5993-4627-aaea-ec9cf054858e",
   "metadata": {},
   "source": [
    "### "
   ]
  }
 ],
 "metadata": {
  "kernelspec": {
   "display_name": "Python 3 (ipykernel)",
   "language": "python",
   "name": "python3"
  },
  "language_info": {
   "codemirror_mode": {
    "name": "ipython",
    "version": 3
   },
   "file_extension": ".py",
   "mimetype": "text/x-python",
   "name": "python",
   "nbconvert_exporter": "python",
   "pygments_lexer": "ipython3",
   "version": "3.8.10"
  }
 },
 "nbformat": 4,
 "nbformat_minor": 5
}
