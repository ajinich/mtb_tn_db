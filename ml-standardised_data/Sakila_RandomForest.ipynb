{
 "cells": [
  {
   "cell_type": "code",
   "execution_count": null,
   "id": "ba54b752-fb1f-403b-bd37-7b3923b55584",
   "metadata": {},
   "outputs": [],
   "source": [
    "import pandas as pd\n",
    "from sklearn.linear_model import LogisticRegression\n",
    "from sklearn.metrics import accuracy_score, confusion_matrix\n",
    "from sklearn.model_selection import StratifiedKFold\n",
    "from sklearn.preprocessing import normalize\n",
    "import numpy as np\n",
    "import matplotlib.pyplot as plt\n",
    "import seaborn as sns\n",
    "from imblearn.over_sampling import SMOTE\n",
    "from xgboost import XGBClassifier\n",
    "import os\n",
    "os.environ['KMP_DUPLICATE_LIB_OK']='True'"
   ]
  },
  {
   "cell_type": "code",
   "execution_count": 1,
   "id": "96d743e7-b5d7-4899-8437-3851e24698ae",
   "metadata": {},
   "outputs": [
    {
     "ename": "NameError",
     "evalue": "name 'pd' is not defined",
     "output_type": "error",
     "traceback": [
      "\u001b[0;31m---------------------------------------------------------------------------\u001b[0m",
      "\u001b[0;31mNameError\u001b[0m                                 Traceback (most recent call last)",
      "\u001b[0;32m/tmp/ipykernel_12977/106594821.py\u001b[0m in \u001b[0;36m<module>\u001b[0;34m\u001b[0m\n\u001b[0;32m----> 1\u001b[0;31m \u001b[0mnew_lfc\u001b[0m \u001b[0;34m=\u001b[0m \u001b[0mpd\u001b[0m\u001b[0;34m.\u001b[0m\u001b[0mread_csv\u001b[0m\u001b[0;34m(\u001b[0m\u001b[0;34m'~/Documents/repos/mtb_tn_db/data/standardized_data/cleaned_ML/lfc_mb_filt.csv'\u001b[0m\u001b[0;34m)\u001b[0m\u001b[0;34m\u001b[0m\u001b[0;34m\u001b[0m\u001b[0m\n\u001b[0m\u001b[1;32m      2\u001b[0m \u001b[0;32mdef\u001b[0m \u001b[0maccuracy_matrix\u001b[0m\u001b[0;34m(\u001b[0m\u001b[0mclassname\u001b[0m\u001b[0;34m,\u001b[0m \u001b[0mC_temp\u001b[0m\u001b[0;34m)\u001b[0m\u001b[0;34m:\u001b[0m\u001b[0;34m\u001b[0m\u001b[0;34m\u001b[0m\u001b[0m\n\u001b[1;32m      3\u001b[0m     \u001b[0;31m#Creating the y variable.\u001b[0m\u001b[0;34m\u001b[0m\u001b[0;34m\u001b[0m\u001b[0;34m\u001b[0m\u001b[0m\n\u001b[1;32m      4\u001b[0m     \u001b[0my_list\u001b[0m \u001b[0;34m=\u001b[0m \u001b[0;34m[\u001b[0m\u001b[0;34m]\u001b[0m\u001b[0;34m\u001b[0m\u001b[0;34m\u001b[0m\u001b[0m\n\u001b[1;32m      5\u001b[0m     \u001b[0mi\u001b[0m \u001b[0;34m=\u001b[0m \u001b[0;36m0\u001b[0m\u001b[0;34m\u001b[0m\u001b[0;34m\u001b[0m\u001b[0m\n",
      "\u001b[0;31mNameError\u001b[0m: name 'pd' is not defined"
     ]
    }
   ],
   "source": [
    "new_lfc = pd.read_csv('~/Documents/repos/mtb_tn_db/data/standardized_data/cleaned_ML/lfc_mb_filt.csv')\n",
    "\n",
    "def accuracy_matrix(classname, C_temp):\n",
    "    #Creating the y variable. \n",
    "    y_list = []\n",
    "    i = 0\n",
    "    for gene in new_lfc.Functional_Category:\n",
    "        if gene == classname:\n",
    "            y_list.append(1)\n",
    "        else:\n",
    "            y_list.append(0)\n",
    "        i+=1\n",
    "    y = np.array(y_list)\n",
    "    #Creating the x variable.\n",
    "    raw_x= new_lfc.drop([\"Rv_ID\", \"Functional_Category\"], axis = 1)\n",
    "    X = raw_x.to_numpy()\n",
    "\n",
    "    #Step 1: Create Logistic REgression Classifier.\n",
    "    clf = LogisticRegression(penalty='l1', solver='liblinear', multi_class='ovr', C=C_temp, random_state=42)\n",
    "    #Step 2: Split samples into training and test sets using STratifiedKFOld\n",
    "    n_splits_Temp = 5\n",
    "    n_classes = 2\n",
    "    skf = StratifiedKFold(n_splits=n_splits_Temp, shuffle=True, random_state=42)\n",
    "    confusion = np.zeros((n_classes, n_classes))\n",
    "    #Step 3: ITerate thru each training/test set.\n",
    "    for train_index, test_index in skf.split(X, y):\n",
    "        X_train, X_test = X[train_index], X[test_index]\n",
    "        y_train, y_test = y[train_index], y[test_index] \n",
    "        X_train, y_train = SMOTE().fit_resample(X_train, y_train)\n",
    "        #Step 4: Fit the logistic regression to the training data. \n",
    "        #clf.fit(X_train, y_train)\n",
    "        clf = XGBClassifier()\n",
    "        clf.fit(X_train, y_train)\n",
    "        #Step 5: Predict the values of the testing data. \n",
    "        y_hat = clf.predict(X_test)\n",
    "        confusion += confusion_matrix(y_test, y_hat)\n",
    "\n",
    "    confusion = normalize(confusion, axis=1, norm='l1')\n",
    "\n",
    "    col_names = list(clf.classes_)\n",
    "    df_confusion = pd.DataFrame(confusion, columns=col_names, index=col_names)\n",
    "\n",
    "    plt.figure(figsize=(12,12))\n",
    "    rc = {'xtick.labelsize': 22, 'ytick.labelsize': 22, 'axes.labelsize': 22}\n",
    "    sns.set(rc=rc)\n",
    "    heat = sns.heatmap(df_confusion, annot=True, linewidths=2, fmt='1.2f', square=True, annot_kws={\"fontsize\":12})\n",
    "    classname = classname.strip(\"/\")\n",
    "    filename = str(classname)+\",\"+str(C_temp)+\".png\"\n",
    "    plt.savefig(filename)\n",
    "    return heat\n"
   ]
  }
 ],
 "metadata": {
  "kernelspec": {
   "display_name": "Python 3 (ipykernel)",
   "language": "python",
   "name": "python3"
  },
  "language_info": {
   "codemirror_mode": {
    "name": "ipython",
    "version": 3
   },
   "file_extension": ".py",
   "mimetype": "text/x-python",
   "name": "python",
   "nbconvert_exporter": "python",
   "pygments_lexer": "ipython3",
   "version": "3.8.10"
  }
 },
 "nbformat": 4,
 "nbformat_minor": 5
}
