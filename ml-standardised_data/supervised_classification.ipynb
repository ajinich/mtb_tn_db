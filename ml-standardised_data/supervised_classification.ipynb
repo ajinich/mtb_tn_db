{
 "cells": [
  {
   "cell_type": "code",
   "execution_count": 1,
   "metadata": {},
   "outputs": [],
   "source": [
    "import matplotlib.pyplot as plt\n",
    "import numpy as np\n",
    "import pandas as pd\n",
    "import seaborn as sns\n",
    "import os\n",
    "import torch\n",
    "import random\n",
    "import re\n",
    "\n",
    "%matplotlib inline"
   ]
  },
  {
   "cell_type": "markdown",
   "metadata": {},
   "source": [
    "# Machine learning imports: \n",
    "(NOTE: much of this is based on Anisha's code for the TnSeq project)"
   ]
  },
  {
   "cell_type": "code",
   "execution_count": 2,
   "metadata": {},
   "outputs": [],
   "source": [
    "from imblearn.over_sampling import SMOTE\n",
    "from sklearn.linear_model import LogisticRegression\n",
    "from sklearn.metrics import accuracy_score, log_loss\n",
    "from sklearn.model_selection import StratifiedKFold\n",
    "from sklearn.metrics import accuracy_score, confusion_matrix, roc_auc_score\n",
    "from sklearn.preprocessing import normalize\n",
    "from xgboost import XGBClassifier"
   ]
  },
  {
   "cell_type": "markdown",
   "metadata": {},
   "source": [
    "Setting paths"
   ]
  },
  {
   "cell_type": "code",
   "execution_count": 3,
   "metadata": {},
   "outputs": [],
   "source": [
    "EMB_PATH = '/home/ajinich/Dropbox/KyuRhee/unknown_function/unknown_redox/data/mohammed/sdr_reprs_45'\n",
    "# EMB_PATH = '/Users/ajinich/Dropbox (Personal)/KyuRhee/unknown_function/unknown_redox/data/mohammed/sdr_reprs_345'\n",
    "EMB_LAYER = 33"
   ]
  },
  {
   "cell_type": "code",
   "execution_count": 4,
   "metadata": {},
   "outputs": [],
   "source": [
    "cols = sns.color_palette(\"tab10\")"
   ]
  },
  {
   "cell_type": "markdown",
   "metadata": {},
   "source": [
    "# Functions: "
   ]
  },
  {
   "cell_type": "code",
   "execution_count": 5,
   "metadata": {},
   "outputs": [],
   "source": [
    "# Credit to Anisha Zaveri\n",
    "def log_regression(X, y, n_classes=2, n_splits=5, norm_method='SMOTE', C=1):\n",
    "    \n",
    "    accuracy = []\n",
    "    log_loss_var = []\n",
    "    confusion = np.zeros((n_classes, n_classes))\n",
    "\n",
    "    skf = StratifiedKFold(n_splits=n_splits, shuffle=True)\n",
    "\n",
    "    for train_index, test_index in skf.split(X, y):\n",
    "\n",
    "        X_train, X_test = X[train_index], X[test_index]\n",
    "        y_train, y_test = y[train_index], y[test_index]\n",
    "\n",
    "        # REVIEW THIS: What is this, SMOTE? \n",
    "        if norm_method == 'SMOTE':\n",
    "            X_train, y_train = SMOTE().fit_resample(X_train, y_train)\n",
    "            clf = LogisticRegression(penalty='l1', solver='liblinear', multi_class='ovr', C=C, random_state=13)\n",
    "\n",
    "        elif norm_method == 'bal_weights':\n",
    "            clf = LogisticRegression(penalty='l1', solver='liblinear', multi_class='ovr', C=C, class_weight='balanced', random_state=13)\n",
    "\n",
    "        elif norm_method == None:\n",
    "            clf = LogisticRegression(penalty='l1', solver='liblinear', multi_class='ovr', C=C, random_state=13)\n",
    "\n",
    "        clf.fit(X_train, y_train)\n",
    "        y_hat = clf.predict(X_test)\n",
    "        confusion += confusion_matrix(y_test, y_hat)\n",
    "        accuracy.append(accuracy_score(y_test, y_hat))        \n",
    "        y_pred = clf.predict_proba(X_test)\n",
    "        log_loss_var.append(log_loss(y_test, y_pred))\n",
    "\n",
    "    confusion = normalize(confusion, axis=1, norm='l1')\n",
    "    \n",
    "    return accuracy, confusion, log_loss_var, clf"
   ]
  },
  {
   "cell_type": "code",
   "execution_count": 6,
   "metadata": {
    "scrolled": true,
    "tags": []
   },
   "outputs": [],
   "source": [
    "# Credit to Anisha Zaveri\n",
    "def xgbc_tree(X, y, n_classes=2, n_splits=5, reg_param=10):\n",
    "    \n",
    "    accuracy = []\n",
    "    log_loss_var = []\n",
    "    confusion = np.zeros((n_classes, n_classes))\n",
    "\n",
    "    skf = StratifiedKFold(n_splits=n_splits, shuffle=True)\n",
    "\n",
    "    for train_index, test_index in skf.split(X, y):\n",
    "\n",
    "        X_train, X_test = X[train_index], X[test_index]\n",
    "        y_train, y_test = y[train_index], y[test_index]\n",
    "\n",
    "        # norm_method == 'SMOTE':\n",
    "        X_train, y_train = SMOTE().fit_resample(X_train, y_train)\n",
    "        clf = XGBClassifier(gamma = reg_param, reg_alpha=1, reg_lambda=1)\n",
    "\n",
    "        clf.fit(X_train, y_train)\n",
    "        y_hat = clf.predict(X_test)\n",
    "        confusion += confusion_matrix(y_test, y_hat)\n",
    "        accuracy.append(accuracy_score(y_test, y_hat))        \n",
    "        y_pred = clf.predict_proba(X_test)\n",
    "        log_loss_var.append(log_loss(y_test, y_pred))\n",
    "\n",
    "    confusion = normalize(confusion, axis=1, norm='l1')\n",
    "    return accuracy, confusion, log_loss_var, clf"
   ]
  },
  {
   "cell_type": "code",
   "execution_count": 7,
   "metadata": {},
   "outputs": [],
   "source": [
    "def plot_logloss_acc(C_list, list_accuracy, list_log_loss, title_str, file_name, ymax):\n",
    "    plt.figure(figsize = (10,6))\n",
    "    plt.plot(np.log10(C_list), list_accuracy, '-o')\n",
    "    plt.ylim(0, 1)\n",
    "    plt.xlabel('accuracy', fontsize = 20)\n",
    "    # yl = plt.ylabel('cross entropy', fontsize = 20)\n",
    "\n",
    "    plt.plot(np.log10(C_list), list_log_loss, '-o')\n",
    "    plt.xticks(np.log10(C_list))\n",
    "    plt.ylim(0, ymax)\n",
    "    plt.xlabel('log10 inverse\\nregularization param. (C)', fontsize = 20)\n",
    "    yl = plt.ylabel('error metric', fontsize = 20)\n",
    "    leg = plt.legend(['Accuracy', 'LogLoss'], fontsize = 14)\n",
    "    plt.title(title_str, fontsize = 20)\n",
    "    plt.tight_layout()\n",
    "    plt.savefig(os.path.join(path_fig, file_name), dpi=250)"
   ]
  },
  {
   "cell_type": "code",
   "execution_count": 8,
   "metadata": {},
   "outputs": [],
   "source": [
    "def strat_by_SSN(thresh, clus_train, df_data_class, X, Y):\n",
    "\n",
    "    # Load SSN cluster mapping file: \n",
    "    path = '../../data/mohammed/EFI_SSN_clusters/EFI_SSN_SDR_45/'\n",
    "    file_name = 'SDR_45_score_thresh_'+str(thresh)+'_ssn_cluster_mapping.txt'\n",
    "    file_ssn = os.path.join(path, file_name)\n",
    "    df_ssn = pd.read_csv(file_ssn, sep='\\t')\n",
    "    df_ssn.rename(columns={'UniProt ID':'Entry', 'Cluster Number':'ClusterNum'}, inplace=True)\n",
    "\n",
    "    # Set the remainder of the clusters as \"test\" clusters. \n",
    "    clus_test = [c for c in df_ssn.ClusterNum.unique().tolist() if c not in clus_train]\n",
    "    # what fraction of SDRs are in the training set? \n",
    "    list_train = df_ssn[df_ssn.ClusterNum.isin(clus_train)].Entry.tolist()\n",
    "    # list_test = df_ssn[df_ssn.ClusterNum.isin(clus_test)].Entry.tolist()\n",
    "    # alternative: get the remainder/complement of entries: \n",
    "    list_test = df_data_class[~df_data_class.Entry.isin(list_train)].Entry.tolist()\n",
    "\n",
    "    # Get indices for test and training sets: \n",
    "    train_index = df_data_class[df_data_class.Entry.isin(list_train)].index.tolist()\n",
    "    test_index = df_data_class[df_data_class.Entry.isin(list_test)].index.tolist()\n",
    "\n",
    "    X_train, X_test = X[train_index], X[test_index]\n",
    "    y_train, y_test = Y[train_index], Y[test_index]\n",
    "\n",
    "    print('fraction of enzymes in the training set:')\n",
    "    print( np.round(len(train_index) / df_data_class.shape[0],2))\n",
    "    print('\\nfraction of enzymes in True category in the test set:') \n",
    "    print(np.round(len([y for y in y_test if y==1])/len(y_test),2))\n",
    "\n",
    "    return X_train, X_test, y_train, y_test\n"
   ]
  },
  {
   "cell_type": "code",
   "execution_count": 9,
   "metadata": {},
   "outputs": [],
   "source": [
    "def plot_real_vs_shuffled_metric(df_accuracy, list_df_accuracy_SHFL, C, metric, model, cols, xymin = 0.35, xymax = 0.85, title_str = 'NAD_NADP'):\n",
    "    \n",
    "    metric_true = df_accuracy[df_accuracy.C_reg==C][metric].values\n",
    "    list_metric_shfl = [ df[df.C_reg == C][metric].values for df in list_df_accuracy_SHFL ]\n",
    "    # error bars: \n",
    "    metric_shfl_pc95 = np.array([np.percentile([ll[i] for ll in list_metric_shfl], 95) for i in range(len(list_metric_shfl[0]))])\n",
    "    metric_shfl_pc5 = np.array([np.percentile([ll[i] for ll in list_metric_shfl], 5) for i in range(len(list_metric_shfl[0]))])\n",
    "    metric_shfl_mean = np.array([np.median([ll[i] for ll in list_metric_shfl]) for i in range(len(list_metric_shfl[0]))])\n",
    "\n",
    "    plt.figure(figsize=(7,7))\n",
    "    plt.scatter(metric_true, metric_shfl_mean, color = cols[-3], s=100, edgecolors='k', linewidths=2)\n",
    "    plt.errorbar(metric_true, metric_shfl_mean, yerr = [metric_shfl_mean-metric_shfl_pc5, metric_shfl_pc95-metric_shfl_mean], \n",
    "                 fmt = '.', markersize=1, capsize=5, ecolor='k')\n",
    "\n",
    "    xyline = np.linspace(xymin, xymax, 100)\n",
    "    plt.xlim(xymin, xymax)\n",
    "    plt.ylim(xymin, xymax)\n",
    "    plt.plot(xyline, xyline, 'k--')\n",
    "\n",
    "    if metric == 'roc_auc':\n",
    "        plt.xlabel('classification score (ROC)', fontsize = 22)\n",
    "        plt.ylabel('classification score (ROC)\\nrandomized', fontsize = 22)\n",
    "\n",
    "    xt = plt.xticks(fontsize = 14)\n",
    "    yt = plt.yticks(fontsize = 14)\n",
    "    plt.tight_layout()\n",
    "    \n",
    "    # save to file: \n",
    "    path_fig = '../../figs/mohammed/'\n",
    "    fn_fig = title_str+'_true_vs_shuffle_'+metric+'_'+model+'_C_'+str(C)+'.png'\n",
    "    plt.savefig(os.path.join(path_fig, fn_fig), dpi = 250)"
   ]
  },
  {
   "cell_type": "markdown",
   "metadata": {},
   "source": [
    "## Loading SDR UniProt and UniProt:Rhea:ChEBI:smiles dataframes"
   ]
  },
  {
   "cell_type": "markdown",
   "metadata": {},
   "source": [
    "##### UniProt:Rhea:ChEBI:smiles dataframes"
   ]
  },
  {
   "cell_type": "code",
   "execution_count": 10,
   "metadata": {},
   "outputs": [
    {
     "data": {
      "text/html": [
       "<div>\n",
       "<style scoped>\n",
       "    .dataframe tbody tr th:only-of-type {\n",
       "        vertical-align: middle;\n",
       "    }\n",
       "\n",
       "    .dataframe tbody tr th {\n",
       "        vertical-align: top;\n",
       "    }\n",
       "\n",
       "    .dataframe thead th {\n",
       "        text-align: right;\n",
       "    }\n",
       "</style>\n",
       "<table border=\"1\" class=\"dataframe\">\n",
       "  <thead>\n",
       "    <tr style=\"text-align: right;\">\n",
       "      <th></th>\n",
       "      <th>Entry</th>\n",
       "      <th>RheaID</th>\n",
       "      <th>type</th>\n",
       "      <th>ChEBI</th>\n",
       "      <th>smiles</th>\n",
       "    </tr>\n",
       "  </thead>\n",
       "  <tbody>\n",
       "    <tr>\n",
       "      <th>0</th>\n",
       "      <td>A0A024R7X6</td>\n",
       "      <td>25033</td>\n",
       "      <td>LEFT</td>\n",
       "      <td>CHEBI_58349</td>\n",
       "      <td>NC(=O)c1ccc[n+](c1)[C@@H]1O[C@H](COP([O-])(=O)...</td>\n",
       "    </tr>\n",
       "    <tr>\n",
       "      <th>1</th>\n",
       "      <td>A0A024R7X6</td>\n",
       "      <td>25033</td>\n",
       "      <td>LEFT</td>\n",
       "      <td>CHEBI_17336</td>\n",
       "      <td>CC(\\C=C\\C=C(C)\\C=C\\C1=C(C)CCCC1(C)C)=C/CO</td>\n",
       "    </tr>\n",
       "  </tbody>\n",
       "</table>\n",
       "</div>"
      ],
      "text/plain": [
       "        Entry  RheaID  type        ChEBI  \\\n",
       "0  A0A024R7X6   25033  LEFT  CHEBI_58349   \n",
       "1  A0A024R7X6   25033  LEFT  CHEBI_17336   \n",
       "\n",
       "                                              smiles  \n",
       "0  NC(=O)c1ccc[n+](c1)[C@@H]1O[C@H](COP([O-])(=O)...  \n",
       "1          CC(\\C=C\\C=C(C)\\C=C\\C1=C(C)CCCC1(C)C)=C/CO  "
      ]
     },
     "execution_count": 10,
     "metadata": {},
     "output_type": "execute_result"
    }
   ],
   "source": [
    "file_in = '../../data/mohammed/UP45_Rhea_ChEBI_smiles.csv'\n",
    "df_45_l_rhea_chebi_smiles = pd.read_csv( file_in )\n",
    "df_45_l_rhea_chebi_smiles.Entry.unique().shape\n",
    "df_45_l_rhea_chebi_smiles.head(2)"
   ]
  },
  {
   "cell_type": "markdown",
   "metadata": {},
   "source": [
    "##### SDR UniProt (annotation score 4&5) dataframe: "
   ]
  },
  {
   "cell_type": "code",
   "execution_count": 11,
   "metadata": {},
   "outputs": [
    {
     "name": "stdout",
     "output_type": "stream",
     "text": [
      "(398, 10)\n"
     ]
    },
    {
     "data": {
      "text/html": [
       "<div>\n",
       "<style scoped>\n",
       "    .dataframe tbody tr th:only-of-type {\n",
       "        vertical-align: middle;\n",
       "    }\n",
       "\n",
       "    .dataframe tbody tr th {\n",
       "        vertical-align: top;\n",
       "    }\n",
       "\n",
       "    .dataframe thead th {\n",
       "        text-align: right;\n",
       "    }\n",
       "</style>\n",
       "<table border=\"1\" class=\"dataframe\">\n",
       "  <thead>\n",
       "    <tr style=\"text-align: right;\">\n",
       "      <th></th>\n",
       "      <th>Entry</th>\n",
       "      <th>Entry name</th>\n",
       "      <th>Status</th>\n",
       "      <th>Protein names</th>\n",
       "      <th>Gene names</th>\n",
       "      <th>Organism</th>\n",
       "      <th>Length</th>\n",
       "      <th>Annotation</th>\n",
       "      <th>Sequence</th>\n",
       "      <th>EC_list</th>\n",
       "    </tr>\n",
       "  </thead>\n",
       "  <tbody>\n",
       "    <tr>\n",
       "      <th>0</th>\n",
       "      <td>Q9NZC7</td>\n",
       "      <td>WWOX_HUMAN</td>\n",
       "      <td>reviewed</td>\n",
       "      <td>WW domain-containing oxidoreductase (EC 1.1.1....</td>\n",
       "      <td>WWOX FOR SDR41C1 WOX1</td>\n",
       "      <td>Homo sapiens (Human)</td>\n",
       "      <td>414</td>\n",
       "      <td>5 out of 5</td>\n",
       "      <td>MAALRYAGLDDTDSEDELPPGWEERTTKDGWVYYANHTEEKTQWEH...</td>\n",
       "      <td>1.1.1.-</td>\n",
       "    </tr>\n",
       "  </tbody>\n",
       "</table>\n",
       "</div>"
      ],
      "text/plain": [
       "    Entry  Entry name    Status  \\\n",
       "0  Q9NZC7  WWOX_HUMAN  reviewed   \n",
       "\n",
       "                                       Protein names             Gene names  \\\n",
       "0  WW domain-containing oxidoreductase (EC 1.1.1....  WWOX FOR SDR41C1 WOX1   \n",
       "\n",
       "               Organism  Length  Annotation  \\\n",
       "0  Homo sapiens (Human)     414  5 out of 5   \n",
       "\n",
       "                                            Sequence  EC_list  \n",
       "0  MAALRYAGLDDTDSEDELPPGWEERTTKDGWVYYANHTEEKTQWEH...  1.1.1.-  "
      ]
     },
     "execution_count": 11,
     "metadata": {},
     "output_type": "execute_result"
    }
   ],
   "source": [
    "file_in = '../../data/mohammed/uniprot-ipr002347_annot45.csv'\n",
    "# file_in = '../../data/mohammed/uniprot-ipr002347_annot345.csv'\n",
    "df_45 = pd.read_csv(file_in)\n",
    "print(df_45.shape)\n",
    "df_45.head(1)"
   ]
  },
  {
   "cell_type": "markdown",
   "metadata": {},
   "source": [
    "##### [COMMENT]: 348 out of 398 rows in the dataframe of SDRs with 4&5 annotation scores appear in the UniProt/Rhea/ChEBI/SMILES dataframe.\n",
    "Where are the rest? "
   ]
  },
  {
   "cell_type": "code",
   "execution_count": 12,
   "metadata": {},
   "outputs": [
    {
     "data": {
      "text/plain": [
       "(348, 10)"
      ]
     },
     "execution_count": 12,
     "metadata": {},
     "output_type": "execute_result"
    }
   ],
   "source": [
    "df_45[df_45.Entry.isin(df_45_l_rhea_chebi_smiles.Entry.values)].shape"
   ]
  },
  {
   "cell_type": "markdown",
   "metadata": {},
   "source": [
    "[COMMENT]: This is less clear to interpret... "
   ]
  },
  {
   "cell_type": "code",
   "execution_count": 13,
   "metadata": {},
   "outputs": [
    {
     "data": {
      "text/plain": [
       "(5018, 5)"
      ]
     },
     "execution_count": 13,
     "metadata": {},
     "output_type": "execute_result"
    }
   ],
   "source": [
    "df_45_l_rhea_chebi_smiles[df_45_l_rhea_chebi_smiles.Entry.isin(df_45.Entry.values)].shape"
   ]
  },
  {
   "cell_type": "markdown",
   "metadata": {},
   "source": [
    "# Exercise 1: NAD vs. NADP"
   ]
  },
  {
   "cell_type": "markdown",
   "metadata": {},
   "source": [
    "Partition into NAD-and-NADP, NAD-only, NADP-only"
   ]
  },
  {
   "cell_type": "code",
   "execution_count": 14,
   "metadata": {},
   "outputs": [],
   "source": [
    "nad_nadh = ['CHEBI_57540', 'CHEBI_57945']\n",
    "nadp_nadph = ['CHEBI_58349', 'CHEBI_57783']\n",
    "all_list = nad_nadh + nadp_nadph"
   ]
  },
  {
   "cell_type": "markdown",
   "metadata": {
    "tags": []
   },
   "source": [
    "PENDING: Comment"
   ]
  },
  {
   "cell_type": "code",
   "execution_count": 15,
   "metadata": {},
   "outputs": [],
   "source": [
    "# NAD/NADH OR NADP/NADPH:\n",
    "df_45_l_rhea_chebi_smiles_NAD_NADP = df_45_l_rhea_chebi_smiles[df_45_l_rhea_chebi_smiles.ChEBI.isin(all_list)].copy()\n",
    "\n",
    "# NAD/NADH: \n",
    "df_45_l_rhea_chebi_smiles_NAD = df_45_l_rhea_chebi_smiles[df_45_l_rhea_chebi_smiles.ChEBI.isin(nad_nadh)].copy()\n",
    "list_UP_NAD = df_45_l_rhea_chebi_smiles_NAD.Entry.unique()\n",
    "\n",
    "# NADP/NADPH: \n",
    "df_45_l_rhea_chebi_smiles_NADP = df_45_l_rhea_chebi_smiles[df_45_l_rhea_chebi_smiles.ChEBI.isin(nadp_nadph)].copy()\n",
    "list_UP_NADP = df_45_l_rhea_chebi_smiles_NADP.Entry.unique()\n",
    "\n",
    "list_ALL = list(df_45_l_rhea_chebi_smiles_NAD_NADP.Entry.unique())\n",
    "# UP_enzymes that can use both cofactors: \n",
    "list_UP_NAD_NADP = list(set(list_UP_NAD).intersection(set(list_UP_NADP)))\n",
    "# using only NAD\n",
    "list_UP_NAD_only = list(set(list_UP_NAD) - set(list_UP_NADP))\n",
    "# using only NADP\n",
    "list_UP_NADP_only = list(set(list_UP_NADP) - set(list_UP_NAD))"
   ]
  },
  {
   "cell_type": "code",
   "execution_count": 16,
   "metadata": {},
   "outputs": [
    {
     "data": {
      "text/plain": [
       "(354, 51, 98, 205)"
      ]
     },
     "execution_count": 16,
     "metadata": {},
     "output_type": "execute_result"
    }
   ],
   "source": [
    "len(list_ALL), len(list_UP_NAD_NADP), len(list_UP_NAD_only), len(list_UP_NADP_only)"
   ]
  },
  {
   "cell_type": "markdown",
   "metadata": {},
   "source": [
    "### Creating dataframe that classifies enzymes into NAD/NADP categories: "
   ]
  },
  {
   "cell_type": "code",
   "execution_count": null,
   "metadata": {},
   "outputs": [],
   "source": [
    "df_UP_NAD_NADH = pd.DataFrame()\n",
    "df_UP_NAD_NADH['Entry'] = list_ALL\n",
    "\n",
    "# 0:=NAD, 1:=NADP\n",
    "df_UP_NAD_NADH.loc[df_UP_NAD_NADH.Entry.isin(list_UP_NAD_only), 'cofactor'] = 0\n",
    "df_UP_NAD_NADH.loc[df_UP_NAD_NADH.Entry.isin(list_UP_NADP_only), 'cofactor'] = 1\n",
    "df_UP_NAD_NADH.loc[df_UP_NAD_NADH.Entry.isin(list_UP_NAD_NADP), 'cofactor'] = 2\n",
    "print('Value counts before manual editing')\n",
    "print(df_UP_NAD_NADH.shape)\n",
    "print(df_UP_NAD_NADH.cofactor.value_counts(), '\\n')\n",
    "\n",
    "#### Manual editing: manually searched UniProt to resolve as many two-cofactor cases into a single cofactor \n",
    "#(See SDR_45_NAD_NADP_manual.xlsx)\n",
    "\n",
    "file_in = '../../data/mohammed/SDR_45_NAD_NADP_manual.xlsx'\n",
    "df_manual = pd.read_excel(file_in)\n",
    "df_manual = df_manual[~df_manual.cofactor.isna()]\n",
    "\n",
    "for index, row in df_manual.iterrows():\n",
    "    entry = row['Entry']\n",
    "    cofactor = row['cofactor']\n",
    "    df_UP_NAD_NADH.loc[df_UP_NAD_NADH.Entry.values == entry, 'cofactor'] = cofactor\n",
    "    \n",
    "\n",
    "# Keep only data for enzymes that either use NAD *OR* NADP, but not both: \n",
    "df_UP_NAD_NADH_01 = df_UP_NAD_NADH[df_UP_NAD_NADH.cofactor.values<=1]\n",
    "df_UP_NAD_NADH_01.reset_index(inplace=True, drop=True)\n",
    "\n",
    "print('Value counts after manual editing:')\n",
    "print(df_UP_NAD_NADH.shape)\n",
    "print(df_UP_NAD_NADH.cofactor.value_counts(),'\\n')\n",
    "print('Value counts after keeping enzymes that either use NAD *OR* NADP, but not both:')\n",
    "print(df_UP_NAD_NADH_01.shape)\n",
    "print(df_UP_NAD_NADH_01.cofactor.value_counts(),'\\n')"
   ]
  },
  {
   "cell_type": "markdown",
   "metadata": {},
   "source": [
    "### Loading ESM-b1 embeddings: "
   ]
  },
  {
   "cell_type": "code",
   "execution_count": 18,
   "metadata": {},
   "outputs": [],
   "source": [
    "Xs_list = []\n",
    "list_err = []\n",
    "for entry in df_UP_NAD_NADH_01.Entry.tolist(): #for every enzyme in the NAD/NADP categorization: \n",
    "    fn_full = os.path.join(EMB_PATH, entry+'.pt')\n",
    "    try:\n",
    "        embs = torch.load(fn_full)\n",
    "        Xs_list.append(embs['mean_representations'][EMB_LAYER])\n",
    "    except:\n",
    "        list_err.append(entry)\n",
    "X = torch.stack(Xs_list, dim=0).numpy()"
   ]
  },
  {
   "cell_type": "code",
   "execution_count": 22,
   "metadata": {},
   "outputs": [
    {
     "data": {
      "image/png": "[encoded data removed]",
      "text/plain": [
       "<Figure size 1152x432 with 1 Axes>"
      ]
     },
     "metadata": {
      "needs_background": "light"
     },
     "output_type": "display_data"
    }
   ],
   "source": [
    "fig, ax = plt.subplots(figsize = (16, 6))\n",
    "\n",
    "shw = ax.matshow(X, aspect='auto', cmap=plt.cm.Blues)\n",
    "# plt.colorbar(shw)\n",
    "xl = plt.xlabel('embedding coordinate', fontsize = 18)\n",
    "xl = plt.ylabel('annotated SDR genes', fontsize = 18)"
   ]
  },
  {
   "cell_type": "code",
   "execution_count": 23,
   "metadata": {},
   "outputs": [
    {
     "name": "stdout",
     "output_type": "stream",
     "text": [
      "[]\n",
      "(338, 1280) (338,)\n"
     ]
    }
   ],
   "source": [
    "# These are the Y-values (classification values): \n",
    "y = df_UP_NAD_NADH_01.cofactor.values\n",
    "print(list_err)\n",
    "print(X.shape, y.shape)"
   ]
  },
  {
   "cell_type": "markdown",
   "metadata": {
    "tags": []
   },
   "source": [
    "# EXERCISE 1:\n",
    "## A classifier that predicts NAD(H) vs. NADP(H) cofactor usage."
   ]
  },
  {
   "cell_type": "markdown",
   "metadata": {
    "tags": []
   },
   "source": [
    "#### [ACTION ITEM]: automate and organize computing both shuffled and non-shuffled classification scores"
   ]
  },
  {
   "cell_type": "code",
   "execution_count": 24,
   "metadata": {},
   "outputs": [],
   "source": [
    "def classifier(X, y, model, shuffle):\n",
    "\n",
    "    n_splits = 5\n",
    "    n_classes = 2\n",
    "    list_roc_auc = [] # store median roc_auc for each regularization parameter\n",
    "    \n",
    "    if model == 'logreg':\n",
    "        reg_param_list = np.array([1e-2, 1e-1, 1e0, 1e1]) # l1 regularization\n",
    "    elif model == 'xgbc':\n",
    "        reg_param_list = np.array([10, 100])\n",
    "    \n",
    "    # shuffle or don't shuffle y\n",
    "    y_shfl = y.copy()\n",
    "    if shuffle: \n",
    "        random.shuffle(y_shfl)\n",
    "    else:\n",
    "        y_shfl = y.copy()\n",
    "\n",
    "    for reg_param_temp in reg_param_list:   # For each regularization parameter: \n",
    "        roc_auc = [] #store auc_roc for each fold\n",
    "\n",
    "        if model == 'logreg':\n",
    "            clf = LogisticRegression(penalty='l1', solver='liblinear', multi_class='ovr', C=reg_param_temp)\n",
    "            # clf = LogisticRegression(penalty='elasticnet', solver='saga', l1_ratio=reg_param_temp)\n",
    "        elif model == 'xgbc':\n",
    "            clf = XGBClassifier(gamma = reg_param_temp, reg_alpha=1, reg_lambda=1, eval_metric='logloss', use_label_encoder=False)\n",
    "\n",
    "        skf = StratifiedKFold(n_splits=n_splits, shuffle=True)\n",
    "        for train_index, test_index in skf.split(X, y):\n",
    "            X_train, X_test = X[train_index], X[test_index]\n",
    "            y_train, y_test = y_shfl[train_index], y_shfl[test_index]\n",
    "            X_train, y_train = SMOTE().fit_resample(X_train, y_train) # understand this step. \n",
    "            # fit model\n",
    "            clf.fit(X_train, y_train)\n",
    "            # predict on test set\n",
    "            y_hat = clf.predict(X_test)\n",
    "            # evalute classification score using AU-ROC   \n",
    "            y_pred = clf.predict_proba(X_test)\n",
    "            roc_auc.append(roc_auc_score(y_test, y_pred[:, 1]))\n",
    "\n",
    "        list_roc_auc.append( np.median(roc_auc) )\n",
    "            \n",
    "    df_accuracy = pd.DataFrame()\n",
    "    df_accuracy['C_reg'] = reg_param_list\n",
    "    df_accuracy['roc_auc'] = list_roc_auc\n",
    "\n",
    "    return df_accuracy"
   ]
  },
  {
   "cell_type": "markdown",
   "metadata": {},
   "source": [
    "True accuracies: "
   ]
  },
  {
   "cell_type": "code",
   "execution_count": 25,
   "metadata": {},
   "outputs": [
    {
     "name": "stdout",
     "output_type": "stream",
     "text": [
      "0 out of 10\n"
     ]
    },
    {
     "name": "stderr",
     "output_type": "stream",
     "text": [
      "/home/ajinich/miniconda3/lib/python3.8/site-packages/sklearn/svm/_base.py:985: ConvergenceWarning: Liblinear failed to converge, increase the number of iterations.\n",
      "  warnings.warn(\"Liblinear failed to converge, increase \"\n"
     ]
    },
    {
     "name": "stdout",
     "output_type": "stream",
     "text": [
      "1 out of 10\n",
      "2 out of 10\n",
      "3 out of 10\n",
      "4 out of 10\n",
      "5 out of 10\n",
      "6 out of 10\n",
      "7 out of 10\n"
     ]
    },
    {
     "name": "stderr",
     "output_type": "stream",
     "text": [
      "/home/ajinich/miniconda3/lib/python3.8/site-packages/sklearn/svm/_base.py:985: ConvergenceWarning: Liblinear failed to converge, increase the number of iterations.\n",
      "  warnings.warn(\"Liblinear failed to converge, increase \"\n"
     ]
    },
    {
     "name": "stdout",
     "output_type": "stream",
     "text": [
      "8 out of 10\n"
     ]
    },
    {
     "name": "stderr",
     "output_type": "stream",
     "text": [
      "/home/ajinich/miniconda3/lib/python3.8/site-packages/sklearn/svm/_base.py:985: ConvergenceWarning: Liblinear failed to converge, increase the number of iterations.\n",
      "  warnings.warn(\"Liblinear failed to converge, increase \"\n"
     ]
    },
    {
     "name": "stdout",
     "output_type": "stream",
     "text": [
      "9 out of 10\n"
     ]
    }
   ],
   "source": [
    "model = 'logreg'\n",
    "\n",
    "# true accuracy\n",
    "shuffle = False \n",
    "df_accuracy = classifier( X, y, model, shuffle )\n",
    "\n",
    "# accuracy after permutation\n",
    "shuffle = True \n",
    "num_iter = 10\n",
    "list_df_accuracy_SHFL = []\n",
    "for ii in range(num_iter):\n",
    "    print(ii, 'out of', num_iter)\n",
    "    df_accuracy_SHFL = classifier(X, y, model, shuffle)\n",
    "    list_df_accuracy_SHFL.append(df_accuracy_SHFL)"
   ]
  },
  {
   "cell_type": "markdown",
   "metadata": {},
   "source": [
    "[PENDING]: Save results: "
   ]
  },
  {
   "cell_type": "markdown",
   "metadata": {},
   "source": [
    "Plot true data vs. shuffled accuracies plots: "
   ]
  },
  {
   "cell_type": "code",
   "execution_count": null,
   "metadata": {},
   "outputs": [],
   "source": [
    "metric = 'roc_auc'\n",
    "model =  'log_reg' #'xgbc'\n",
    "for C in df_accuracy.C_reg.unique():\n",
    "    plot_real_vs_shuffled_metric(df_accuracy, list_df_accuracy_SHFL, C, metric, model, cols, xymin = 0, xymax = 1.1)"
   ]
  },
  {
   "cell_type": "markdown",
   "metadata": {},
   "source": [
    "# Running predictions on unannotatd SDR proteins: "
   ]
  },
  {
   "cell_type": "code",
   "execution_count": 33,
   "metadata": {},
   "outputs": [
    {
     "name": "stdout",
     "output_type": "stream",
     "text": [
      "(46, 10)\n"
     ]
    },
    {
     "data": {
      "text/html": [
       "<div>\n",
       "<style scoped>\n",
       "    .dataframe tbody tr th:only-of-type {\n",
       "        vertical-align: middle;\n",
       "    }\n",
       "\n",
       "    .dataframe tbody tr th {\n",
       "        vertical-align: top;\n",
       "    }\n",
       "\n",
       "    .dataframe thead th {\n",
       "        text-align: right;\n",
       "    }\n",
       "</style>\n",
       "<table border=\"1\" class=\"dataframe\">\n",
       "  <thead>\n",
       "    <tr style=\"text-align: right;\">\n",
       "      <th></th>\n",
       "      <th>Entry</th>\n",
       "      <th>Entry name</th>\n",
       "      <th>Status</th>\n",
       "      <th>Protein names</th>\n",
       "      <th>Gene names</th>\n",
       "      <th>Organism</th>\n",
       "      <th>Length</th>\n",
       "      <th>Annotation</th>\n",
       "      <th>Sequence</th>\n",
       "      <th>Rv_ID</th>\n",
       "    </tr>\n",
       "  </thead>\n",
       "  <tbody>\n",
       "    <tr>\n",
       "      <th>12</th>\n",
       "      <td>P9WGT3</td>\n",
       "      <td>MABA_MYCTU</td>\n",
       "      <td>reviewed</td>\n",
       "      <td>3-oxoacyl-[acyl-carrier-protein] reductase Mab...</td>\n",
       "      <td>mabA fabG1 Rv1483 MTCY277.04</td>\n",
       "      <td>Mycobacterium tuberculosis (strain ATCC 25618 ...</td>\n",
       "      <td>247</td>\n",
       "      <td>5 out of 5</td>\n",
       "      <td>MTATATEGAKPPFVSRSVLVTGGNRGIGLAIAQRLAADGHKVAVTH...</td>\n",
       "      <td>Rv1483</td>\n",
       "    </tr>\n",
       "  </tbody>\n",
       "</table>\n",
       "</div>"
      ],
      "text/plain": [
       "     Entry  Entry name    Status  \\\n",
       "12  P9WGT3  MABA_MYCTU  reviewed   \n",
       "\n",
       "                                        Protein names  \\\n",
       "12  3-oxoacyl-[acyl-carrier-protein] reductase Mab...   \n",
       "\n",
       "                      Gene names  \\\n",
       "12  mabA fabG1 Rv1483 MTCY277.04   \n",
       "\n",
       "                                             Organism  Length  Annotation  \\\n",
       "12  Mycobacterium tuberculosis (strain ATCC 25618 ...     247  5 out of 5   \n",
       "\n",
       "                                             Sequence   Rv_ID  \n",
       "12  MTATATEGAKPPFVSRSVLVTGGNRGIGLAIAQRLAADGHKVAVTH...  Rv1483  "
      ]
     },
     "execution_count": 33,
     "metadata": {},
     "output_type": "execute_result"
    }
   ],
   "source": [
    "file_in = '../../data/mohammed/uniprot-ipr002347.tab'\n",
    "df_all = pd.read_csv(file_in, sep = '\\t')\n",
    "df_sdr_mtb = df_all[df_all.Organism.str.contains('H37Rv')].copy()\n",
    "\n",
    "str_query = 'Rv\\d\\d\\d\\d[c]*'\n",
    "list_rvid = [re.findall(str_query, g)[0] for g in df_sdr_mtb['Gene names'].tolist()]\n",
    "df_sdr_mtb['Rv_ID'] = list_rvid\n",
    "\n",
    "print(df_sdr_mtb.shape)\n",
    "df_sdr_mtb.head(1)"
   ]
  },
  {
   "cell_type": "markdown",
   "metadata": {},
   "source": [
    "Add one extra one: "
   ]
  },
  {
   "cell_type": "code",
   "execution_count": 34,
   "metadata": {},
   "outputs": [],
   "source": [
    "list_mtb_sdr = df_sdr_mtb.Entry.tolist()\n",
    "# list_mtb_sdr.append('P9WQP7')"
   ]
  },
  {
   "cell_type": "markdown",
   "metadata": {},
   "source": [
    "#### Load their embeddings: "
   ]
  },
  {
   "cell_type": "code",
   "execution_count": 57,
   "metadata": {},
   "outputs": [
    {
     "data": {
      "text/plain": [
       "(46, 1280)"
      ]
     },
     "execution_count": 57,
     "metadata": {},
     "output_type": "execute_result"
    }
   ],
   "source": [
    "EMB_PATH_Mtb = '/home/ajinich/Dropbox/KyuRhee/unknown_function/unknown_redox/data/mohammed/sdr_reprs_Mtb'\n",
    "Xs_list = []\n",
    "list_err = []\n",
    "for entry in list_mtb_sdr:\n",
    "    fn_full = os.path.join(EMB_PATH_Mtb, entry+'.pt')\n",
    "    try:\n",
    "        embs = torch.load(fn_full)\n",
    "        Xs_list.append(embs['mean_representations'][EMB_LAYER])\n",
    "    except:\n",
    "        list_err.append(entry)\n",
    "X_mtb = torch.stack(Xs_list, dim=0).numpy().copy()\n",
    "X_mtb.shape"
   ]
  },
  {
   "cell_type": "markdown",
   "metadata": {},
   "source": [
    "#### Run them through the classifier: "
   ]
  },
  {
   "cell_type": "code",
   "execution_count": 36,
   "metadata": {},
   "outputs": [
    {
     "data": {
      "text/plain": [
       "LogisticRegression(multi_class='ovr', penalty='l1', solver='liblinear')"
      ]
     },
     "execution_count": 36,
     "metadata": {},
     "output_type": "execute_result"
    }
   ],
   "source": [
    "reg_param_temp = 1e0\n",
    "clf = LogisticRegression(penalty='l1', solver='liblinear', multi_class='ovr', C=reg_param_temp)\n",
    "X_train, y_train = SMOTE().fit_resample(X, y) # I guess you also use SMOTE when you train with all the data? \n",
    "clf.fit(X_train, y_train)"
   ]
  },
  {
   "cell_type": "code",
   "execution_count": 37,
   "metadata": {},
   "outputs": [
    {
     "data": {
      "text/plain": [
       "0.0    24\n",
       "1.0    22\n",
       "Name: NAD_NADP, dtype: int64"
      ]
     },
     "execution_count": 37,
     "metadata": {},
     "output_type": "execute_result"
    }
   ],
   "source": [
    "y_mtb = clf.predict(X_mtb)\n",
    "df_sdr_mtb['NAD_NADP'] = y_mtb\n",
    "df_sdr_mtb.NAD_NADP.value_counts()"
   ]
  },
  {
   "cell_type": "code",
   "execution_count": 38,
   "metadata": {},
   "outputs": [],
   "source": [
    "# 0:=NAD, 1:=NADP\n",
    "fn_out = '../../data/mohammed/SDR_Mtb_predictions.csv'\n",
    "columns = ['Entry', 'Rv_ID', 'Annotation', 'Length', 'NAD_NADP']\n",
    "df_sdr_mtb_v1 = df_sdr_mtb.sort_values(by='Rv_ID')[columns].copy()\n",
    "df_sdr_mtb_v1.to_csv(fn_out, index = False)"
   ]
  },
  {
   "cell_type": "markdown",
   "metadata": {},
   "source": [
    "### [PENDING]: Repeat for M. smeg and compare the ratios of NAD vs. NADP enzymes"
   ]
  },
  {
   "cell_type": "code",
   "execution_count": null,
   "metadata": {},
   "outputs": [],
   "source": []
  },
  {
   "cell_type": "markdown",
   "metadata": {},
   "source": [
    "# EXERCISE 2: \n",
    "\n",
    "## A classifier that predicts whether substrate is of a particular molecular structural class. "
   ]
  },
  {
   "cell_type": "markdown",
   "metadata": {},
   "source": [
    "[COMMENT]: Where does the input file below come from?"
   ]
  },
  {
   "cell_type": "code",
   "execution_count": 113,
   "metadata": {},
   "outputs": [],
   "source": [
    "def plot_real_vs_shuffled_metric_many(df_true_vs_shlf, list_df_accuracy_SHFL, C, model, cols, xymin = 0.35, xymax = 0.85):\n",
    "\n",
    "    df_C = df_true_vs_shlf[df_true_vs_shlf.C_reg == C]\n",
    "    plt.figure(figsize=(7,7))\n",
    "    plt.scatter(df_C.metric_true, df_C.metric_shfl_mean, color = cols[-3], s=100, edgecolors='k', linewidths=2)\n",
    "    plt.errorbar(df_C.metric_true, df_C.metric_shfl_mean, \n",
    "                 yerr = [df_C.metric_shfl_mean-df_C.metric_shfl_pc5, df_C.metric_shfl_pc95-df_C.metric_shfl_mean], \n",
    "                 fmt = '.', markersize=1, capsize=5, ecolor='k')\n",
    "\n",
    "    xyline = np.linspace(xymin, xymax, 100)\n",
    "    plt.xlim(xymin, xymax)\n",
    "    plt.ylim(xymin, xymax)\n",
    "    plt.plot(xyline, xyline, 'k--')\n",
    "\n",
    "    plt.xlabel('classification score (ROC)', fontsize = 22)\n",
    "    plt.ylabel('classification score (ROC)\\nrandomized', fontsize = 22)\n",
    "\n",
    "    xt = plt.xticks(fontsize = 14)\n",
    "    yt = plt.yticks(fontsize = 14)\n",
    "    plt.tight_layout()\n",
    "    # save to file: \n",
    "    path_fig = '../figures/Adrian_classification/'\n",
    "    fn_fig = 'true_vs_shuffle_MANY'+metric+'_'+model+'_C_'+str(C)+'_'+version+'.png'\n",
    "    plt.savefig(os.path.join(path_fig, fn_fig), dpi = 250)"
   ]
  },
  {
   "cell_type": "code",
   "execution_count": 116,
   "metadata": {},
   "outputs": [],
   "source": [
    "path_in = '../../data/mohammed/'\n",
    "list_mol_class = ['beta_keto_AA', 'sterol', 'sugar', 'x_acyl_coA', 'retinol', 'fabG', 'coA']\n",
    "model = 'logreg'\n",
    "df_true_vs_shlf = pd.DataFrame()"
   ]
  },
  {
   "cell_type": "code",
   "execution_count": 117,
   "metadata": {},
   "outputs": [
    {
     "name": "stdout",
     "output_type": "stream",
     "text": [
      "molecular class: beta_keto_AA iteration: 0 out of 5\n"
     ]
    },
    {
     "name": "stderr",
     "output_type": "stream",
     "text": [
      "/home/ajinich/miniconda3/lib/python3.8/site-packages/sklearn/svm/_base.py:985: ConvergenceWarning: Liblinear failed to converge, increase the number of iterations.\n",
      "  warnings.warn(\"Liblinear failed to converge, increase \"\n",
      "/home/ajinich/miniconda3/lib/python3.8/site-packages/sklearn/svm/_base.py:985: ConvergenceWarning: Liblinear failed to converge, increase the number of iterations.\n",
      "  warnings.warn(\"Liblinear failed to converge, increase \"\n"
     ]
    },
    {
     "name": "stdout",
     "output_type": "stream",
     "text": [
      "molecular class: beta_keto_AA iteration: 1 out of 5\n",
      "molecular class: beta_keto_AA iteration: 2 out of 5\n"
     ]
    },
    {
     "name": "stderr",
     "output_type": "stream",
     "text": [
      "/home/ajinich/miniconda3/lib/python3.8/site-packages/sklearn/svm/_base.py:985: ConvergenceWarning: Liblinear failed to converge, increase the number of iterations.\n",
      "  warnings.warn(\"Liblinear failed to converge, increase \"\n"
     ]
    },
    {
     "name": "stdout",
     "output_type": "stream",
     "text": [
      "molecular class: beta_keto_AA iteration: 3 out of 5\n",
      "molecular class: beta_keto_AA iteration: 4 out of 5\n",
      "molecular class: sterol iteration: 0 out of 5\n",
      "molecular class: sterol iteration: 1 out of 5\n"
     ]
    },
    {
     "name": "stderr",
     "output_type": "stream",
     "text": [
      "/home/ajinich/miniconda3/lib/python3.8/site-packages/sklearn/svm/_base.py:985: ConvergenceWarning: Liblinear failed to converge, increase the number of iterations.\n",
      "  warnings.warn(\"Liblinear failed to converge, increase \"\n",
      "/home/ajinich/miniconda3/lib/python3.8/site-packages/sklearn/svm/_base.py:985: ConvergenceWarning: Liblinear failed to converge, increase the number of iterations.\n",
      "  warnings.warn(\"Liblinear failed to converge, increase \"\n"
     ]
    },
    {
     "name": "stdout",
     "output_type": "stream",
     "text": [
      "molecular class: sterol iteration: 2 out of 5\n",
      "molecular class: sterol iteration: 3 out of 5\n"
     ]
    },
    {
     "name": "stderr",
     "output_type": "stream",
     "text": [
      "/home/ajinich/miniconda3/lib/python3.8/site-packages/sklearn/svm/_base.py:985: ConvergenceWarning: Liblinear failed to converge, increase the number of iterations.\n",
      "  warnings.warn(\"Liblinear failed to converge, increase \"\n"
     ]
    },
    {
     "name": "stdout",
     "output_type": "stream",
     "text": [
      "molecular class: sterol iteration: 4 out of 5\n"
     ]
    },
    {
     "name": "stderr",
     "output_type": "stream",
     "text": [
      "/home/ajinich/miniconda3/lib/python3.8/site-packages/sklearn/svm/_base.py:985: ConvergenceWarning: Liblinear failed to converge, increase the number of iterations.\n",
      "  warnings.warn(\"Liblinear failed to converge, increase \"\n"
     ]
    },
    {
     "name": "stdout",
     "output_type": "stream",
     "text": [
      "molecular class: sugar iteration: 0 out of 5\n"
     ]
    },
    {
     "ename": "ValueError",
     "evalue": "Only one class present in y_true. ROC AUC score is not defined in that case.",
     "output_type": "error",
     "traceback": [
      "\u001b[0;31m---------------------------------------------------------------------------\u001b[0m",
      "\u001b[0;31mValueError\u001b[0m                                Traceback (most recent call last)",
      "\u001b[0;32m/tmp/ipykernel_1063250/2271790211.py\u001b[0m in \u001b[0;36m<module>\u001b[0;34m\u001b[0m\n\u001b[1;32m     29\u001b[0m     \u001b[0;32mfor\u001b[0m \u001b[0mii\u001b[0m \u001b[0;32min\u001b[0m \u001b[0mrange\u001b[0m\u001b[0;34m(\u001b[0m\u001b[0mnum_iter\u001b[0m\u001b[0;34m)\u001b[0m\u001b[0;34m:\u001b[0m\u001b[0;34m\u001b[0m\u001b[0;34m\u001b[0m\u001b[0m\n\u001b[1;32m     30\u001b[0m         \u001b[0mprint\u001b[0m\u001b[0;34m(\u001b[0m\u001b[0;34m'molecular class:'\u001b[0m\u001b[0;34m,\u001b[0m \u001b[0mmol_class\u001b[0m\u001b[0;34m,\u001b[0m \u001b[0;34m'iteration:'\u001b[0m\u001b[0;34m,\u001b[0m \u001b[0mii\u001b[0m\u001b[0;34m,\u001b[0m \u001b[0;34m'out of'\u001b[0m\u001b[0;34m,\u001b[0m \u001b[0mnum_iter\u001b[0m\u001b[0;34m)\u001b[0m\u001b[0;34m\u001b[0m\u001b[0;34m\u001b[0m\u001b[0m\n\u001b[0;32m---> 31\u001b[0;31m         \u001b[0mdf_accuracy_SHFL\u001b[0m \u001b[0;34m=\u001b[0m \u001b[0mclassifier\u001b[0m\u001b[0;34m(\u001b[0m\u001b[0mX\u001b[0m\u001b[0;34m,\u001b[0m \u001b[0my\u001b[0m\u001b[0;34m,\u001b[0m \u001b[0mmodel\u001b[0m\u001b[0;34m,\u001b[0m \u001b[0mshuffle\u001b[0m\u001b[0;34m)\u001b[0m\u001b[0;34m\u001b[0m\u001b[0;34m\u001b[0m\u001b[0m\n\u001b[0m\u001b[1;32m     32\u001b[0m         \u001b[0mlist_df_accuracy_SHFL\u001b[0m\u001b[0;34m.\u001b[0m\u001b[0mappend\u001b[0m\u001b[0;34m(\u001b[0m\u001b[0mdf_accuracy_SHFL\u001b[0m\u001b[0;34m)\u001b[0m\u001b[0;34m\u001b[0m\u001b[0;34m\u001b[0m\u001b[0m\n\u001b[1;32m     33\u001b[0m \u001b[0;34m\u001b[0m\u001b[0m\n",
      "\u001b[0;32m/tmp/ipykernel_1063250/4180342411.py\u001b[0m in \u001b[0;36mclassifier\u001b[0;34m(X, y, model, shuffle)\u001b[0m\n\u001b[1;32m     37\u001b[0m             \u001b[0;31m# evalute classification score using AU-ROC\u001b[0m\u001b[0;34m\u001b[0m\u001b[0;34m\u001b[0m\u001b[0;34m\u001b[0m\u001b[0m\n\u001b[1;32m     38\u001b[0m             \u001b[0my_pred\u001b[0m \u001b[0;34m=\u001b[0m \u001b[0mclf\u001b[0m\u001b[0;34m.\u001b[0m\u001b[0mpredict_proba\u001b[0m\u001b[0;34m(\u001b[0m\u001b[0mX_test\u001b[0m\u001b[0;34m)\u001b[0m\u001b[0;34m\u001b[0m\u001b[0;34m\u001b[0m\u001b[0m\n\u001b[0;32m---> 39\u001b[0;31m             \u001b[0mroc_auc\u001b[0m\u001b[0;34m.\u001b[0m\u001b[0mappend\u001b[0m\u001b[0;34m(\u001b[0m\u001b[0mroc_auc_score\u001b[0m\u001b[0;34m(\u001b[0m\u001b[0my_test\u001b[0m\u001b[0;34m,\u001b[0m \u001b[0my_pred\u001b[0m\u001b[0;34m[\u001b[0m\u001b[0;34m:\u001b[0m\u001b[0;34m,\u001b[0m \u001b[0;36m1\u001b[0m\u001b[0;34m]\u001b[0m\u001b[0;34m)\u001b[0m\u001b[0;34m)\u001b[0m\u001b[0;34m\u001b[0m\u001b[0;34m\u001b[0m\u001b[0m\n\u001b[0m\u001b[1;32m     40\u001b[0m \u001b[0;34m\u001b[0m\u001b[0m\n\u001b[1;32m     41\u001b[0m         \u001b[0mlist_roc_auc\u001b[0m\u001b[0;34m.\u001b[0m\u001b[0mappend\u001b[0m\u001b[0;34m(\u001b[0m \u001b[0mnp\u001b[0m\u001b[0;34m.\u001b[0m\u001b[0mmedian\u001b[0m\u001b[0;34m(\u001b[0m\u001b[0mroc_auc\u001b[0m\u001b[0;34m)\u001b[0m \u001b[0;34m)\u001b[0m\u001b[0;34m\u001b[0m\u001b[0;34m\u001b[0m\u001b[0m\n",
      "\u001b[0;32m~/miniconda3/lib/python3.8/site-packages/sklearn/utils/validation.py\u001b[0m in \u001b[0;36minner_f\u001b[0;34m(*args, **kwargs)\u001b[0m\n\u001b[1;32m     61\u001b[0m             \u001b[0mextra_args\u001b[0m \u001b[0;34m=\u001b[0m \u001b[0mlen\u001b[0m\u001b[0;34m(\u001b[0m\u001b[0margs\u001b[0m\u001b[0;34m)\u001b[0m \u001b[0;34m-\u001b[0m \u001b[0mlen\u001b[0m\u001b[0;34m(\u001b[0m\u001b[0mall_args\u001b[0m\u001b[0;34m)\u001b[0m\u001b[0;34m\u001b[0m\u001b[0;34m\u001b[0m\u001b[0m\n\u001b[1;32m     62\u001b[0m             \u001b[0;32mif\u001b[0m \u001b[0mextra_args\u001b[0m \u001b[0;34m<=\u001b[0m \u001b[0;36m0\u001b[0m\u001b[0;34m:\u001b[0m\u001b[0;34m\u001b[0m\u001b[0;34m\u001b[0m\u001b[0m\n\u001b[0;32m---> 63\u001b[0;31m                 \u001b[0;32mreturn\u001b[0m \u001b[0mf\u001b[0m\u001b[0;34m(\u001b[0m\u001b[0;34m*\u001b[0m\u001b[0margs\u001b[0m\u001b[0;34m,\u001b[0m \u001b[0;34m**\u001b[0m\u001b[0mkwargs\u001b[0m\u001b[0;34m)\u001b[0m\u001b[0;34m\u001b[0m\u001b[0;34m\u001b[0m\u001b[0m\n\u001b[0m\u001b[1;32m     64\u001b[0m \u001b[0;34m\u001b[0m\u001b[0m\n\u001b[1;32m     65\u001b[0m             \u001b[0;31m# extra_args > 0\u001b[0m\u001b[0;34m\u001b[0m\u001b[0;34m\u001b[0m\u001b[0;34m\u001b[0m\u001b[0m\n",
      "\u001b[0;32m~/miniconda3/lib/python3.8/site-packages/sklearn/metrics/_ranking.py\u001b[0m in \u001b[0;36mroc_auc_score\u001b[0;34m(y_true, y_score, average, sample_weight, max_fpr, multi_class, labels)\u001b[0m\n\u001b[1;32m    540\u001b[0m         \u001b[0mlabels\u001b[0m \u001b[0;34m=\u001b[0m \u001b[0mnp\u001b[0m\u001b[0;34m.\u001b[0m\u001b[0munique\u001b[0m\u001b[0;34m(\u001b[0m\u001b[0my_true\u001b[0m\u001b[0;34m)\u001b[0m\u001b[0;34m\u001b[0m\u001b[0;34m\u001b[0m\u001b[0m\n\u001b[1;32m    541\u001b[0m         \u001b[0my_true\u001b[0m \u001b[0;34m=\u001b[0m \u001b[0mlabel_binarize\u001b[0m\u001b[0;34m(\u001b[0m\u001b[0my_true\u001b[0m\u001b[0;34m,\u001b[0m \u001b[0mclasses\u001b[0m\u001b[0;34m=\u001b[0m\u001b[0mlabels\u001b[0m\u001b[0;34m)\u001b[0m\u001b[0;34m[\u001b[0m\u001b[0;34m:\u001b[0m\u001b[0;34m,\u001b[0m \u001b[0;36m0\u001b[0m\u001b[0;34m]\u001b[0m\u001b[0;34m\u001b[0m\u001b[0;34m\u001b[0m\u001b[0m\n\u001b[0;32m--> 542\u001b[0;31m         return _average_binary_score(partial(_binary_roc_auc_score,\n\u001b[0m\u001b[1;32m    543\u001b[0m                                              max_fpr=max_fpr),\n\u001b[1;32m    544\u001b[0m                                      \u001b[0my_true\u001b[0m\u001b[0;34m,\u001b[0m \u001b[0my_score\u001b[0m\u001b[0;34m,\u001b[0m \u001b[0maverage\u001b[0m\u001b[0;34m,\u001b[0m\u001b[0;34m\u001b[0m\u001b[0;34m\u001b[0m\u001b[0m\n",
      "\u001b[0;32m~/miniconda3/lib/python3.8/site-packages/sklearn/metrics/_base.py\u001b[0m in \u001b[0;36m_average_binary_score\u001b[0;34m(binary_metric, y_true, y_score, average, sample_weight)\u001b[0m\n\u001b[1;32m     75\u001b[0m \u001b[0;34m\u001b[0m\u001b[0m\n\u001b[1;32m     76\u001b[0m     \u001b[0;32mif\u001b[0m \u001b[0my_type\u001b[0m \u001b[0;34m==\u001b[0m \u001b[0;34m\"binary\"\u001b[0m\u001b[0;34m:\u001b[0m\u001b[0;34m\u001b[0m\u001b[0;34m\u001b[0m\u001b[0m\n\u001b[0;32m---> 77\u001b[0;31m         \u001b[0;32mreturn\u001b[0m \u001b[0mbinary_metric\u001b[0m\u001b[0;34m(\u001b[0m\u001b[0my_true\u001b[0m\u001b[0;34m,\u001b[0m \u001b[0my_score\u001b[0m\u001b[0;34m,\u001b[0m \u001b[0msample_weight\u001b[0m\u001b[0;34m=\u001b[0m\u001b[0msample_weight\u001b[0m\u001b[0;34m)\u001b[0m\u001b[0;34m\u001b[0m\u001b[0;34m\u001b[0m\u001b[0m\n\u001b[0m\u001b[1;32m     78\u001b[0m \u001b[0;34m\u001b[0m\u001b[0m\n\u001b[1;32m     79\u001b[0m     \u001b[0mcheck_consistent_length\u001b[0m\u001b[0;34m(\u001b[0m\u001b[0my_true\u001b[0m\u001b[0;34m,\u001b[0m \u001b[0my_score\u001b[0m\u001b[0;34m,\u001b[0m \u001b[0msample_weight\u001b[0m\u001b[0;34m)\u001b[0m\u001b[0;34m\u001b[0m\u001b[0;34m\u001b[0m\u001b[0m\n",
      "\u001b[0;32m~/miniconda3/lib/python3.8/site-packages/sklearn/metrics/_ranking.py\u001b[0m in \u001b[0;36m_binary_roc_auc_score\u001b[0;34m(y_true, y_score, sample_weight, max_fpr)\u001b[0m\n\u001b[1;32m    325\u001b[0m     \u001b[0;34m\"\"\"Binary roc auc score.\"\"\"\u001b[0m\u001b[0;34m\u001b[0m\u001b[0;34m\u001b[0m\u001b[0m\n\u001b[1;32m    326\u001b[0m     \u001b[0;32mif\u001b[0m \u001b[0mlen\u001b[0m\u001b[0;34m(\u001b[0m\u001b[0mnp\u001b[0m\u001b[0;34m.\u001b[0m\u001b[0munique\u001b[0m\u001b[0;34m(\u001b[0m\u001b[0my_true\u001b[0m\u001b[0;34m)\u001b[0m\u001b[0;34m)\u001b[0m \u001b[0;34m!=\u001b[0m \u001b[0;36m2\u001b[0m\u001b[0;34m:\u001b[0m\u001b[0;34m\u001b[0m\u001b[0;34m\u001b[0m\u001b[0m\n\u001b[0;32m--> 327\u001b[0;31m         raise ValueError(\"Only one class present in y_true. ROC AUC score \"\n\u001b[0m\u001b[1;32m    328\u001b[0m                          \"is not defined in that case.\")\n\u001b[1;32m    329\u001b[0m \u001b[0;34m\u001b[0m\u001b[0m\n",
      "\u001b[0;31mValueError\u001b[0m: Only one class present in y_true. ROC AUC score is not defined in that case."
     ]
    }
   ],
   "source": [
    "for mol_class in list_mol_class:\n",
    "    \n",
    "    fn = mol_class + '_cluster_classify.csv'\n",
    "    file_in = os.path.join( path_in, fn )\n",
    "    df_cluster_classify = pd.read_csv(file_in)\n",
    "\n",
    "    # Load embeddings: \n",
    "    Xs_list = []\n",
    "    list_err = []\n",
    "    for entry in df_cluster_classify.Entry.values:\n",
    "        fn_full = os.path.join(EMB_PATH, entry+'.pt')\n",
    "        try:\n",
    "            embs = torch.load(fn_full)\n",
    "            Xs_list.append(embs['mean_representations'][EMB_LAYER])\n",
    "        except:\n",
    "            list_err.append(entry)\n",
    "    X = torch.stack(Xs_list, dim=0).numpy()\n",
    "    y = df_cluster_classify.compound_cluster.values\n",
    "\n",
    "\n",
    "    # true accuracy\n",
    "    shuffle = False \n",
    "    df_accuracy = classifier( X, y, model, shuffle )\n",
    "\n",
    "    # accuracy after permutation\n",
    "    shuffle = True \n",
    "    num_iter = 5\n",
    "    list_df_accuracy_SHFL = []\n",
    "    for ii in range(num_iter):\n",
    "        print('molecular class:', mol_class, 'iteration:', ii, 'out of', num_iter)\n",
    "        df_accuracy_SHFL = classifier(X, y, model, shuffle)\n",
    "        list_df_accuracy_SHFL.append(df_accuracy_SHFL)\n",
    "\n",
    "    # Store accuracies of true and shuffled datasets: \n",
    "    list_metric_true = []\n",
    "    list_metric_shfl_pc95 = []\n",
    "    list_metric_shfl_pc5 = []\n",
    "    list_metric_shfl_mean = []\n",
    "\n",
    "    list_C = df_accuracy.C_reg.unique()\n",
    "    for C in list_C:\n",
    "        metric_true = df_accuracy[df_accuracy.C_reg==C][metric].values[0]\n",
    "        list_metric_shfl = [ df[df.C_reg == C][metric].values[0] for df in list_df_accuracy_SHFL ]\n",
    "        # error bars: \n",
    "        metric_shfl_pc95 = np.percentile(list_metric_shfl, 95)\n",
    "        metric_shfl_pc5 = np.percentile(list_metric_shfl, 5)\n",
    "        metric_shfl_mean = np.median(list_metric_shfl)\n",
    "        list_metric_true.append(metric_true)\n",
    "        list_metric_shfl_pc95.append(metric_shfl_pc95)\n",
    "        list_metric_shfl_pc5.append(metric_shfl_pc5)\n",
    "        list_metric_shfl_mean.append(metric_shfl_mean)\n",
    "\n",
    "    df_true_vs_shfl_temp = pd.DataFrame()\n",
    "    df_true_vs_shfl_temp['mol_class'] = [mol_class]*len(list_metric_true)\n",
    "    df_true_vs_shfl_temp['model'] = [model]*len(list_metric_true)\n",
    "    df_true_vs_shfl_temp['C_reg'] = list_C\n",
    "    df_true_vs_shfl_temp['metric_true'] = list_metric_true\n",
    "    df_true_vs_shfl_temp['metric_shfl_pc95'] = list_metric_shfl_pc95\n",
    "    df_true_vs_shfl_temp['metric_shfl_pc5'] = list_metric_shfl_pc5\n",
    "    df_true_vs_shfl_temp['metric_shfl_mean'] = list_metric_shfl_mean\n",
    "\n",
    "    df_true_vs_shlf = pd.concat([df_true_vs_shlf, df_true_vs_shfl_temp], axis=0)\n"
   ]
  },
  {
   "cell_type": "code",
   "execution_count": 118,
   "metadata": {},
   "outputs": [
    {
     "data": {
      "text/html": [
       "<div>\n",
       "<style scoped>\n",
       "    .dataframe tbody tr th:only-of-type {\n",
       "        vertical-align: middle;\n",
       "    }\n",
       "\n",
       "    .dataframe tbody tr th {\n",
       "        vertical-align: top;\n",
       "    }\n",
       "\n",
       "    .dataframe thead th {\n",
       "        text-align: right;\n",
       "    }\n",
       "</style>\n",
       "<table border=\"1\" class=\"dataframe\">\n",
       "  <thead>\n",
       "    <tr style=\"text-align: right;\">\n",
       "      <th></th>\n",
       "      <th>mol_class</th>\n",
       "      <th>model</th>\n",
       "      <th>C_reg</th>\n",
       "      <th>metric_true</th>\n",
       "      <th>metric_shfl_pc95</th>\n",
       "      <th>metric_shfl_pc5</th>\n",
       "      <th>metric_shfl_mean</th>\n",
       "    </tr>\n",
       "  </thead>\n",
       "  <tbody>\n",
       "    <tr>\n",
       "      <th>0</th>\n",
       "      <td>beta_keto_AA</td>\n",
       "      <td>logreg</td>\n",
       "      <td>0.01</td>\n",
       "      <td>0.500000</td>\n",
       "      <td>0.500000</td>\n",
       "      <td>0.500000</td>\n",
       "      <td>0.500000</td>\n",
       "    </tr>\n",
       "    <tr>\n",
       "      <th>1</th>\n",
       "      <td>beta_keto_AA</td>\n",
       "      <td>logreg</td>\n",
       "      <td>0.10</td>\n",
       "      <td>0.667660</td>\n",
       "      <td>0.500000</td>\n",
       "      <td>0.500000</td>\n",
       "      <td>0.500000</td>\n",
       "    </tr>\n",
       "    <tr>\n",
       "      <th>2</th>\n",
       "      <td>beta_keto_AA</td>\n",
       "      <td>logreg</td>\n",
       "      <td>1.00</td>\n",
       "      <td>0.983871</td>\n",
       "      <td>0.558032</td>\n",
       "      <td>0.412524</td>\n",
       "      <td>0.500000</td>\n",
       "    </tr>\n",
       "    <tr>\n",
       "      <th>3</th>\n",
       "      <td>beta_keto_AA</td>\n",
       "      <td>logreg</td>\n",
       "      <td>10.00</td>\n",
       "      <td>0.991058</td>\n",
       "      <td>0.509594</td>\n",
       "      <td>0.444849</td>\n",
       "      <td>0.470665</td>\n",
       "    </tr>\n",
       "    <tr>\n",
       "      <th>0</th>\n",
       "      <td>sterol</td>\n",
       "      <td>logreg</td>\n",
       "      <td>0.01</td>\n",
       "      <td>0.500000</td>\n",
       "      <td>0.500000</td>\n",
       "      <td>0.500000</td>\n",
       "      <td>0.500000</td>\n",
       "    </tr>\n",
       "    <tr>\n",
       "      <th>1</th>\n",
       "      <td>sterol</td>\n",
       "      <td>logreg</td>\n",
       "      <td>0.10</td>\n",
       "      <td>0.715021</td>\n",
       "      <td>0.500000</td>\n",
       "      <td>0.500000</td>\n",
       "      <td>0.500000</td>\n",
       "    </tr>\n",
       "    <tr>\n",
       "      <th>2</th>\n",
       "      <td>sterol</td>\n",
       "      <td>logreg</td>\n",
       "      <td>1.00</td>\n",
       "      <td>0.901235</td>\n",
       "      <td>0.535437</td>\n",
       "      <td>0.446587</td>\n",
       "      <td>0.489091</td>\n",
       "    </tr>\n",
       "    <tr>\n",
       "      <th>3</th>\n",
       "      <td>sterol</td>\n",
       "      <td>logreg</td>\n",
       "      <td>10.00</td>\n",
       "      <td>0.955761</td>\n",
       "      <td>0.537937</td>\n",
       "      <td>0.455284</td>\n",
       "      <td>0.500535</td>\n",
       "    </tr>\n",
       "  </tbody>\n",
       "</table>\n",
       "</div>"
      ],
      "text/plain": [
       "      mol_class   model  C_reg  metric_true  metric_shfl_pc95  \\\n",
       "0  beta_keto_AA  logreg   0.01     0.500000          0.500000   \n",
       "1  beta_keto_AA  logreg   0.10     0.667660          0.500000   \n",
       "2  beta_keto_AA  logreg   1.00     0.983871          0.558032   \n",
       "3  beta_keto_AA  logreg  10.00     0.991058          0.509594   \n",
       "0        sterol  logreg   0.01     0.500000          0.500000   \n",
       "1        sterol  logreg   0.10     0.715021          0.500000   \n",
       "2        sterol  logreg   1.00     0.901235          0.535437   \n",
       "3        sterol  logreg  10.00     0.955761          0.537937   \n",
       "\n",
       "   metric_shfl_pc5  metric_shfl_mean  \n",
       "0         0.500000          0.500000  \n",
       "1         0.500000          0.500000  \n",
       "2         0.412524          0.500000  \n",
       "3         0.444849          0.470665  \n",
       "0         0.500000          0.500000  \n",
       "1         0.500000          0.500000  \n",
       "2         0.446587          0.489091  \n",
       "3         0.455284          0.500535  "
      ]
     },
     "execution_count": 118,
     "metadata": {},
     "output_type": "execute_result"
    }
   ],
   "source": [
    "df_true_vs_shlf"
   ]
  },
  {
   "cell_type": "code",
   "execution_count": 114,
   "metadata": {},
   "outputs": [
    {
     "ename": "AttributeError",
     "evalue": "'DataFrame' object has no attribute 'C_reg'",
     "output_type": "error",
     "traceback": [
      "\u001b[0;31m---------------------------------------------------------------------------\u001b[0m",
      "\u001b[0;31mAttributeError\u001b[0m                            Traceback (most recent call last)",
      "\u001b[0;32m/tmp/ipykernel_1063250/2021197418.py\u001b[0m in \u001b[0;36m<module>\u001b[0;34m\u001b[0m\n\u001b[0;32m----> 1\u001b[0;31m \u001b[0;32mfor\u001b[0m \u001b[0mC\u001b[0m \u001b[0;32min\u001b[0m \u001b[0mdf_true_vs_shlf\u001b[0m\u001b[0;34m.\u001b[0m\u001b[0mC_reg\u001b[0m\u001b[0;34m.\u001b[0m\u001b[0munique\u001b[0m\u001b[0;34m(\u001b[0m\u001b[0;34m)\u001b[0m\u001b[0;34m:\u001b[0m\u001b[0;34m\u001b[0m\u001b[0;34m\u001b[0m\u001b[0m\n\u001b[0m\u001b[1;32m      2\u001b[0m     \u001b[0mplot_real_vs_shuffled_metric_many\u001b[0m\u001b[0;34m(\u001b[0m\u001b[0mdf_true_vs_shlf\u001b[0m\u001b[0;34m,\u001b[0m \u001b[0mlist_df_accuracy_SHFL\u001b[0m\u001b[0;34m,\u001b[0m \u001b[0mC\u001b[0m\u001b[0;34m,\u001b[0m \u001b[0mmodel\u001b[0m\u001b[0;34m,\u001b[0m \u001b[0mcols\u001b[0m\u001b[0;34m,\u001b[0m \u001b[0mxymin\u001b[0m \u001b[0;34m=\u001b[0m \u001b[0;36m0.3\u001b[0m\u001b[0;34m,\u001b[0m \u001b[0mxymax\u001b[0m \u001b[0;34m=\u001b[0m \u001b[0;36m1.05\u001b[0m\u001b[0;34m)\u001b[0m\u001b[0;34m\u001b[0m\u001b[0;34m\u001b[0m\u001b[0m\n",
      "\u001b[0;32m~/miniconda3/lib/python3.8/site-packages/pandas/core/generic.py\u001b[0m in \u001b[0;36m__getattr__\u001b[0;34m(self, name)\u001b[0m\n\u001b[1;32m   5476\u001b[0m         ):\n\u001b[1;32m   5477\u001b[0m             \u001b[0;32mreturn\u001b[0m \u001b[0mself\u001b[0m\u001b[0;34m[\u001b[0m\u001b[0mname\u001b[0m\u001b[0;34m]\u001b[0m\u001b[0;34m\u001b[0m\u001b[0;34m\u001b[0m\u001b[0m\n\u001b[0;32m-> 5478\u001b[0;31m         \u001b[0;32mreturn\u001b[0m \u001b[0mobject\u001b[0m\u001b[0;34m.\u001b[0m\u001b[0m__getattribute__\u001b[0m\u001b[0;34m(\u001b[0m\u001b[0mself\u001b[0m\u001b[0;34m,\u001b[0m \u001b[0mname\u001b[0m\u001b[0;34m)\u001b[0m\u001b[0;34m\u001b[0m\u001b[0;34m\u001b[0m\u001b[0m\n\u001b[0m\u001b[1;32m   5479\u001b[0m \u001b[0;34m\u001b[0m\u001b[0m\n\u001b[1;32m   5480\u001b[0m     \u001b[0;32mdef\u001b[0m \u001b[0m__setattr__\u001b[0m\u001b[0;34m(\u001b[0m\u001b[0mself\u001b[0m\u001b[0;34m,\u001b[0m \u001b[0mname\u001b[0m\u001b[0;34m:\u001b[0m \u001b[0mstr\u001b[0m\u001b[0;34m,\u001b[0m \u001b[0mvalue\u001b[0m\u001b[0;34m)\u001b[0m \u001b[0;34m->\u001b[0m \u001b[0;32mNone\u001b[0m\u001b[0;34m:\u001b[0m\u001b[0;34m\u001b[0m\u001b[0;34m\u001b[0m\u001b[0m\n",
      "\u001b[0;31mAttributeError\u001b[0m: 'DataFrame' object has no attribute 'C_reg'"
     ]
    }
   ],
   "source": [
    "for C in df_true_vs_shlf.C_reg.unique():\n",
    "    plot_real_vs_shuffled_metric_many(df_true_vs_shlf, list_df_accuracy_SHFL, C, model, cols, xymin = 0.3, xymax = 1.05)"
   ]
  },
  {
   "cell_type": "code",
   "execution_count": null,
   "metadata": {},
   "outputs": [],
   "source": [
    "metric = 'roc_auc'\n",
    "model = 'logreg' # log_reg\n",
    "for C in df_accuracy.C_reg.unique():\n",
    "    plot_real_vs_shuffled_metric(df_accuracy, list_df_accuracy_SHFL, C, metric, model, cols, xymin = 0, xymax = 1.1)"
   ]
  },
  {
   "cell_type": "markdown",
   "metadata": {},
   "source": [
    "# Run the classifier on the Mtb SDRs for all structural classes: "
   ]
  },
  {
   "cell_type": "code",
   "execution_count": 73,
   "metadata": {},
   "outputs": [],
   "source": [
    "path_in = '../../data/mohammed/'\n",
    "reg_param_temp = 1e1\n",
    "list_mol_class = ['sterol', 'sugar', 'x_acyl_coA', 'retinol', 'fabG', 'coA']"
   ]
  },
  {
   "cell_type": "code",
   "execution_count": 74,
   "metadata": {},
   "outputs": [
    {
     "name": "stdout",
     "output_type": "stream",
     "text": [
      "sterol []\n",
      "sugar []\n",
      "x_acyl_coA []\n",
      "retinol []\n",
      "fabG []\n",
      "coA []\n"
     ]
    }
   ],
   "source": [
    "# mol_class = list_mol_class[0]\n",
    "for mol_class in list_mol_class:\n",
    "    \n",
    "    fn = mol_class + '_cluster_classify.csv'\n",
    "    file_in = os.path.join( path_in, fn )\n",
    "    df_cluster_classify = pd.read_csv(file_in)\n",
    "\n",
    "    # Load embeddings: \n",
    "    Xs_list = []\n",
    "    list_err = []\n",
    "    for entry in df_cluster_classify.Entry.values:\n",
    "        fn_full = os.path.join(EMB_PATH, entry+'.pt')\n",
    "        try:\n",
    "            embs = torch.load(fn_full)\n",
    "            Xs_list.append(embs['mean_representations'][EMB_LAYER])\n",
    "        except:\n",
    "            list_err.append(entry)\n",
    "    print(mol_class, list_err)\n",
    "    X = torch.stack(Xs_list, dim=0).numpy()\n",
    "    y = df_cluster_classify.compound_cluster.values.copy()\n",
    "\n",
    "    clf = LogisticRegression(penalty='l1', solver='liblinear', multi_class='ovr', C=reg_param_temp)\n",
    "    X_train, y_train = SMOTE().fit_resample(X, y) # I guess you also use SMOTE when you train with all the data?????\n",
    "    clf.fit(X_train, y_train)\n",
    "#     clf.fit(X, y)\n",
    "    y_mtb = clf.predict(X_mtb)\n",
    "    df_sdr_mtb_v1[mol_class] = y_mtb"
   ]
  },
  {
   "cell_type": "code",
   "execution_count": 99,
   "metadata": {},
   "outputs": [
    {
     "data": {
      "text/plain": [
       "'/home/ajinich/Dropbox/KyuRhee/unknown_function/unknown_redox/data/mohammed/sdr_reprs_45'"
      ]
     },
     "execution_count": 99,
     "metadata": {},
     "output_type": "execute_result"
    }
   ],
   "source": [
    "EMB_PATH"
   ]
  },
  {
   "cell_type": "code",
   "execution_count": 94,
   "metadata": {},
   "outputs": [
    {
     "name": "stdout",
     "output_type": "stream",
     "text": [
      "beta_keto_AA []\n"
     ]
    }
   ],
   "source": [
    "mol_class = 'beta_keto_AA'\n",
    "fn = mol_class + '_cluster_classify.csv'\n",
    "file_in = os.path.join( path_in, fn )\n",
    "df_cluster_classify = pd.read_csv(file_in)\n",
    "\n",
    "# Load embeddings: \n",
    "Xs_list = []\n",
    "list_err = []\n",
    "for entry in df_cluster_classify.Entry.values:\n",
    "    fn_full = os.path.join(EMB_PATH, entry+'.pt')\n",
    "    try:\n",
    "        embs = torch.load(fn_full)\n",
    "        Xs_list.append(embs['mean_representations'][EMB_LAYER])\n",
    "    except:\n",
    "        list_err.append(entry)\n",
    "print(mol_class, list_err)\n",
    "X = torch.stack(Xs_list, dim=0).numpy()\n",
    "y = df_cluster_classify.compound_cluster.values.copy()\n",
    "\n",
    "clf = LogisticRegression(penalty='l1', solver='liblinear', multi_class='ovr', C=reg_param_temp)\n",
    "X_train, y_train = SMOTE().fit_resample(X, y) # I guess you also use SMOTE when you train with all the data?????\n",
    "clf.fit(X_train, y_train)\n",
    "#     clf.fit(X, y)\n",
    "y_mtb = clf.predict(X_mtb)\n",
    "df_sdr_mtb_v1[mol_class] = y_mtb"
   ]
  },
  {
   "cell_type": "code",
   "execution_count": 111,
   "metadata": {},
   "outputs": [
    {
     "data": {
      "text/html": [
       "<div>\n",
       "<style scoped>\n",
       "    .dataframe tbody tr th:only-of-type {\n",
       "        vertical-align: middle;\n",
       "    }\n",
       "\n",
       "    .dataframe tbody tr th {\n",
       "        vertical-align: top;\n",
       "    }\n",
       "\n",
       "    .dataframe thead th {\n",
       "        text-align: right;\n",
       "    }\n",
       "</style>\n",
       "<table border=\"1\" class=\"dataframe\">\n",
       "  <thead>\n",
       "    <tr style=\"text-align: right;\">\n",
       "      <th></th>\n",
       "      <th>Entry</th>\n",
       "      <th>compound_cluster</th>\n",
       "    </tr>\n",
       "  </thead>\n",
       "  <tbody>\n",
       "    <tr>\n",
       "      <th>77</th>\n",
       "      <td>I6Y778</td>\n",
       "      <td>0.0</td>\n",
       "    </tr>\n",
       "    <tr>\n",
       "      <th>195</th>\n",
       "      <td>P9WGS9</td>\n",
       "      <td>0.0</td>\n",
       "    </tr>\n",
       "    <tr>\n",
       "      <th>196</th>\n",
       "      <td>P9WGT1</td>\n",
       "      <td>1.0</td>\n",
       "    </tr>\n",
       "    <tr>\n",
       "      <th>198</th>\n",
       "      <td>P9WGT3</td>\n",
       "      <td>0.0</td>\n",
       "    </tr>\n",
       "  </tbody>\n",
       "</table>\n",
       "</div>"
      ],
      "text/plain": [
       "      Entry  compound_cluster\n",
       "77   I6Y778               0.0\n",
       "195  P9WGS9               0.0\n",
       "196  P9WGT1               1.0\n",
       "198  P9WGT3               0.0"
      ]
     },
     "execution_count": 111,
     "metadata": {},
     "output_type": "execute_result"
    }
   ],
   "source": [
    "# mol_class = 'beta_keto_AA'\n",
    "mol_class = 'sterol'\n",
    "fn = mol_class + '_cluster_classify.csv'\n",
    "file_in = os.path.join( path_in, fn )\n",
    "df_cluster_classify = pd.read_csv(file_in)\n",
    "df_cluster_classify[df_cluster_classify.Entry.isin(df_sdr_mtb_v1.Entry)]"
   ]
  },
  {
   "cell_type": "code",
   "execution_count": 112,
   "metadata": {},
   "outputs": [
    {
     "data": {
      "text/html": [
       "<div>\n",
       "<style scoped>\n",
       "    .dataframe tbody tr th:only-of-type {\n",
       "        vertical-align: middle;\n",
       "    }\n",
       "\n",
       "    .dataframe tbody tr th {\n",
       "        vertical-align: top;\n",
       "    }\n",
       "\n",
       "    .dataframe thead th {\n",
       "        text-align: right;\n",
       "    }\n",
       "</style>\n",
       "<table border=\"1\" class=\"dataframe\">\n",
       "  <thead>\n",
       "    <tr style=\"text-align: right;\">\n",
       "      <th></th>\n",
       "      <th>Entry</th>\n",
       "      <th>Rv_ID</th>\n",
       "      <th>Annotation</th>\n",
       "      <th>Length</th>\n",
       "      <th>NAD_NADP</th>\n",
       "      <th>sterol</th>\n",
       "      <th>sugar</th>\n",
       "      <th>x_acyl_coA</th>\n",
       "      <th>retinol</th>\n",
       "      <th>fabG</th>\n",
       "      <th>coA</th>\n",
       "      <th>sterol_p0</th>\n",
       "      <th>sterol_p1</th>\n",
       "      <th>beta_keto_AA</th>\n",
       "    </tr>\n",
       "  </thead>\n",
       "  <tbody>\n",
       "    <tr>\n",
       "      <th>227</th>\n",
       "      <td>P9WGS9</td>\n",
       "      <td>Rv3791</td>\n",
       "      <td>5 out of 5</td>\n",
       "      <td>254</td>\n",
       "      <td>1.0</td>\n",
       "      <td>0.0</td>\n",
       "      <td>0.0</td>\n",
       "      <td>0.0</td>\n",
       "      <td>0.0</td>\n",
       "      <td>0.0</td>\n",
       "      <td>0.0</td>\n",
       "      <td>0.891492</td>\n",
       "      <td>0.108508</td>\n",
       "      <td>0.0</td>\n",
       "    </tr>\n",
       "    <tr>\n",
       "      <th>128</th>\n",
       "      <td>P9WGT1</td>\n",
       "      <td>Rv2002</td>\n",
       "      <td>5 out of 5</td>\n",
       "      <td>260</td>\n",
       "      <td>0.0</td>\n",
       "      <td>0.0</td>\n",
       "      <td>0.0</td>\n",
       "      <td>1.0</td>\n",
       "      <td>0.0</td>\n",
       "      <td>0.0</td>\n",
       "      <td>1.0</td>\n",
       "      <td>0.953760</td>\n",
       "      <td>0.046240</td>\n",
       "      <td>1.0</td>\n",
       "    </tr>\n",
       "    <tr>\n",
       "      <th>129</th>\n",
       "      <td>I6Y778</td>\n",
       "      <td>Rv0242c</td>\n",
       "      <td>5 out of 5</td>\n",
       "      <td>454</td>\n",
       "      <td>0.0</td>\n",
       "      <td>0.0</td>\n",
       "      <td>0.0</td>\n",
       "      <td>1.0</td>\n",
       "      <td>0.0</td>\n",
       "      <td>1.0</td>\n",
       "      <td>1.0</td>\n",
       "      <td>0.998386</td>\n",
       "      <td>0.001614</td>\n",
       "      <td>1.0</td>\n",
       "    </tr>\n",
       "    <tr>\n",
       "      <th>12</th>\n",
       "      <td>P9WGT3</td>\n",
       "      <td>Rv1483</td>\n",
       "      <td>5 out of 5</td>\n",
       "      <td>247</td>\n",
       "      <td>1.0</td>\n",
       "      <td>0.0</td>\n",
       "      <td>0.0</td>\n",
       "      <td>0.0</td>\n",
       "      <td>0.0</td>\n",
       "      <td>0.0</td>\n",
       "      <td>0.0</td>\n",
       "      <td>0.957890</td>\n",
       "      <td>0.042110</td>\n",
       "      <td>0.0</td>\n",
       "    </tr>\n",
       "    <tr>\n",
       "      <th>1115</th>\n",
       "      <td>P9WGP9</td>\n",
       "      <td>Rv3085</td>\n",
       "      <td>3 out of 5</td>\n",
       "      <td>276</td>\n",
       "      <td>0.0</td>\n",
       "      <td>0.0</td>\n",
       "      <td>0.0</td>\n",
       "      <td>0.0</td>\n",
       "      <td>0.0</td>\n",
       "      <td>0.0</td>\n",
       "      <td>0.0</td>\n",
       "      <td>0.999906</td>\n",
       "      <td>0.000094</td>\n",
       "      <td>0.0</td>\n",
       "    </tr>\n",
       "    <tr>\n",
       "      <th>1529</th>\n",
       "      <td>P96825</td>\n",
       "      <td>Rv0148</td>\n",
       "      <td>3 out of 5</td>\n",
       "      <td>286</td>\n",
       "      <td>0.0</td>\n",
       "      <td>1.0</td>\n",
       "      <td>0.0</td>\n",
       "      <td>0.0</td>\n",
       "      <td>0.0</td>\n",
       "      <td>0.0</td>\n",
       "      <td>0.0</td>\n",
       "      <td>0.105826</td>\n",
       "      <td>0.894174</td>\n",
       "      <td>0.0</td>\n",
       "    </tr>\n",
       "    <tr>\n",
       "      <th>58666</th>\n",
       "      <td>P9WGS7</td>\n",
       "      <td>Rv0687</td>\n",
       "      <td>2 out of 5</td>\n",
       "      <td>275</td>\n",
       "      <td>0.0</td>\n",
       "      <td>0.0</td>\n",
       "      <td>0.0</td>\n",
       "      <td>0.0</td>\n",
       "      <td>0.0</td>\n",
       "      <td>0.0</td>\n",
       "      <td>0.0</td>\n",
       "      <td>0.667336</td>\n",
       "      <td>0.332664</td>\n",
       "      <td>0.0</td>\n",
       "    </tr>\n",
       "    <tr>\n",
       "      <th>58731</th>\n",
       "      <td>P9WGR3</td>\n",
       "      <td>Rv2073c</td>\n",
       "      <td>2 out of 5</td>\n",
       "      <td>249</td>\n",
       "      <td>1.0</td>\n",
       "      <td>0.0</td>\n",
       "      <td>0.0</td>\n",
       "      <td>1.0</td>\n",
       "      <td>0.0</td>\n",
       "      <td>0.0</td>\n",
       "      <td>0.0</td>\n",
       "      <td>0.941418</td>\n",
       "      <td>0.058582</td>\n",
       "      <td>0.0</td>\n",
       "    </tr>\n",
       "    <tr>\n",
       "      <th>51781</th>\n",
       "      <td>P9WGQ9</td>\n",
       "      <td>Rv0769</td>\n",
       "      <td>2 out of 5</td>\n",
       "      <td>248</td>\n",
       "      <td>0.0</td>\n",
       "      <td>1.0</td>\n",
       "      <td>0.0</td>\n",
       "      <td>0.0</td>\n",
       "      <td>0.0</td>\n",
       "      <td>0.0</td>\n",
       "      <td>0.0</td>\n",
       "      <td>0.367266</td>\n",
       "      <td>0.632734</td>\n",
       "      <td>0.0</td>\n",
       "    </tr>\n",
       "    <tr>\n",
       "      <th>55284</th>\n",
       "      <td>P9WGR5</td>\n",
       "      <td>Rv0484c</td>\n",
       "      <td>2 out of 5</td>\n",
       "      <td>251</td>\n",
       "      <td>1.0</td>\n",
       "      <td>0.0</td>\n",
       "      <td>0.0</td>\n",
       "      <td>1.0</td>\n",
       "      <td>0.0</td>\n",
       "      <td>0.0</td>\n",
       "      <td>1.0</td>\n",
       "      <td>0.936941</td>\n",
       "      <td>0.063059</td>\n",
       "      <td>1.0</td>\n",
       "    </tr>\n",
       "    <tr>\n",
       "      <th>61128</th>\n",
       "      <td>P9WGR7</td>\n",
       "      <td>Rv0945</td>\n",
       "      <td>2 out of 5</td>\n",
       "      <td>253</td>\n",
       "      <td>1.0</td>\n",
       "      <td>0.0</td>\n",
       "      <td>1.0</td>\n",
       "      <td>0.0</td>\n",
       "      <td>0.0</td>\n",
       "      <td>0.0</td>\n",
       "      <td>0.0</td>\n",
       "      <td>0.831674</td>\n",
       "      <td>0.168326</td>\n",
       "      <td>0.0</td>\n",
       "    </tr>\n",
       "    <tr>\n",
       "      <th>5298</th>\n",
       "      <td>P9WGS3</td>\n",
       "      <td>Rv2214c</td>\n",
       "      <td>2 out of 5</td>\n",
       "      <td>592</td>\n",
       "      <td>1.0</td>\n",
       "      <td>0.0</td>\n",
       "      <td>0.0</td>\n",
       "      <td>0.0</td>\n",
       "      <td>0.0</td>\n",
       "      <td>0.0</td>\n",
       "      <td>0.0</td>\n",
       "      <td>0.942366</td>\n",
       "      <td>0.057634</td>\n",
       "      <td>0.0</td>\n",
       "    </tr>\n",
       "    <tr>\n",
       "      <th>51467</th>\n",
       "      <td>P9WGQ7</td>\n",
       "      <td>Rv1144</td>\n",
       "      <td>2 out of 5</td>\n",
       "      <td>250</td>\n",
       "      <td>0.0</td>\n",
       "      <td>0.0</td>\n",
       "      <td>0.0</td>\n",
       "      <td>0.0</td>\n",
       "      <td>0.0</td>\n",
       "      <td>0.0</td>\n",
       "      <td>0.0</td>\n",
       "      <td>0.893868</td>\n",
       "      <td>0.106132</td>\n",
       "      <td>0.0</td>\n",
       "    </tr>\n",
       "    <tr>\n",
       "      <th>58665</th>\n",
       "      <td>P9WGS5</td>\n",
       "      <td>Rv2750</td>\n",
       "      <td>2 out of 5</td>\n",
       "      <td>272</td>\n",
       "      <td>0.0</td>\n",
       "      <td>0.0</td>\n",
       "      <td>0.0</td>\n",
       "      <td>0.0</td>\n",
       "      <td>0.0</td>\n",
       "      <td>0.0</td>\n",
       "      <td>0.0</td>\n",
       "      <td>0.824821</td>\n",
       "      <td>0.175179</td>\n",
       "      <td>0.0</td>\n",
       "    </tr>\n",
       "    <tr>\n",
       "      <th>52694</th>\n",
       "      <td>P9WGR9</td>\n",
       "      <td>Rv1350</td>\n",
       "      <td>2 out of 5</td>\n",
       "      <td>247</td>\n",
       "      <td>0.0</td>\n",
       "      <td>0.0</td>\n",
       "      <td>0.0</td>\n",
       "      <td>1.0</td>\n",
       "      <td>0.0</td>\n",
       "      <td>0.0</td>\n",
       "      <td>0.0</td>\n",
       "      <td>0.993541</td>\n",
       "      <td>0.006459</td>\n",
       "      <td>0.0</td>\n",
       "    </tr>\n",
       "    <tr>\n",
       "      <th>52692</th>\n",
       "      <td>P9WGS1</td>\n",
       "      <td>Rv1543</td>\n",
       "      <td>2 out of 5</td>\n",
       "      <td>341</td>\n",
       "      <td>1.0</td>\n",
       "      <td>0.0</td>\n",
       "      <td>0.0</td>\n",
       "      <td>0.0</td>\n",
       "      <td>0.0</td>\n",
       "      <td>0.0</td>\n",
       "      <td>0.0</td>\n",
       "      <td>0.846301</td>\n",
       "      <td>0.153699</td>\n",
       "      <td>0.0</td>\n",
       "    </tr>\n",
       "    <tr>\n",
       "      <th>62744</th>\n",
       "      <td>Q10782</td>\n",
       "      <td>Rv1544</td>\n",
       "      <td>2 out of 5</td>\n",
       "      <td>267</td>\n",
       "      <td>1.0</td>\n",
       "      <td>0.0</td>\n",
       "      <td>0.0</td>\n",
       "      <td>0.0</td>\n",
       "      <td>0.0</td>\n",
       "      <td>0.0</td>\n",
       "      <td>0.0</td>\n",
       "      <td>0.988414</td>\n",
       "      <td>0.011586</td>\n",
       "      <td>0.0</td>\n",
       "    </tr>\n",
       "    <tr>\n",
       "      <th>54871</th>\n",
       "      <td>P9WGQ3</td>\n",
       "      <td>Rv1714</td>\n",
       "      <td>2 out of 5</td>\n",
       "      <td>270</td>\n",
       "      <td>0.0</td>\n",
       "      <td>0.0</td>\n",
       "      <td>0.0</td>\n",
       "      <td>0.0</td>\n",
       "      <td>0.0</td>\n",
       "      <td>0.0</td>\n",
       "      <td>0.0</td>\n",
       "      <td>0.736022</td>\n",
       "      <td>0.263978</td>\n",
       "      <td>0.0</td>\n",
       "    </tr>\n",
       "    <tr>\n",
       "      <th>49546</th>\n",
       "      <td>P9WGQ5</td>\n",
       "      <td>Rv0927c</td>\n",
       "      <td>2 out of 5</td>\n",
       "      <td>263</td>\n",
       "      <td>0.0</td>\n",
       "      <td>0.0</td>\n",
       "      <td>0.0</td>\n",
       "      <td>0.0</td>\n",
       "      <td>0.0</td>\n",
       "      <td>0.0</td>\n",
       "      <td>0.0</td>\n",
       "      <td>0.956412</td>\n",
       "      <td>0.043588</td>\n",
       "      <td>0.0</td>\n",
       "    </tr>\n",
       "    <tr>\n",
       "      <th>256343</th>\n",
       "      <td>I6YB11</td>\n",
       "      <td>Rv3057c</td>\n",
       "      <td>1 out of 5</td>\n",
       "      <td>287</td>\n",
       "      <td>0.0</td>\n",
       "      <td>1.0</td>\n",
       "      <td>0.0</td>\n",
       "      <td>0.0</td>\n",
       "      <td>0.0</td>\n",
       "      <td>0.0</td>\n",
       "      <td>0.0</td>\n",
       "      <td>0.353076</td>\n",
       "      <td>0.646924</td>\n",
       "      <td>0.0</td>\n",
       "    </tr>\n",
       "    <tr>\n",
       "      <th>259623</th>\n",
       "      <td>O53324</td>\n",
       "      <td>Rv3174</td>\n",
       "      <td>1 out of 5</td>\n",
       "      <td>235</td>\n",
       "      <td>1.0</td>\n",
       "      <td>1.0</td>\n",
       "      <td>0.0</td>\n",
       "      <td>0.0</td>\n",
       "      <td>0.0</td>\n",
       "      <td>0.0</td>\n",
       "      <td>0.0</td>\n",
       "      <td>0.371134</td>\n",
       "      <td>0.628866</td>\n",
       "      <td>0.0</td>\n",
       "    </tr>\n",
       "    <tr>\n",
       "      <th>607970</th>\n",
       "      <td>I6Y1W3</td>\n",
       "      <td>Rv2857c</td>\n",
       "      <td>1 out of 5</td>\n",
       "      <td>258</td>\n",
       "      <td>0.0</td>\n",
       "      <td>0.0</td>\n",
       "      <td>0.0</td>\n",
       "      <td>0.0</td>\n",
       "      <td>0.0</td>\n",
       "      <td>0.0</td>\n",
       "      <td>0.0</td>\n",
       "      <td>0.795433</td>\n",
       "      <td>0.204567</td>\n",
       "      <td>0.0</td>\n",
       "    </tr>\n",
       "    <tr>\n",
       "      <th>132525</th>\n",
       "      <td>O50417</td>\n",
       "      <td>Rv3391</td>\n",
       "      <td>1 out of 5</td>\n",
       "      <td>650</td>\n",
       "      <td>1.0</td>\n",
       "      <td>1.0</td>\n",
       "      <td>0.0</td>\n",
       "      <td>0.0</td>\n",
       "      <td>0.0</td>\n",
       "      <td>0.0</td>\n",
       "      <td>0.0</td>\n",
       "      <td>0.202864</td>\n",
       "      <td>0.797136</td>\n",
       "      <td>0.0</td>\n",
       "    </tr>\n",
       "    <tr>\n",
       "      <th>72321</th>\n",
       "      <td>O05842</td>\n",
       "      <td>Rv3224</td>\n",
       "      <td>1 out of 5</td>\n",
       "      <td>282</td>\n",
       "      <td>0.0</td>\n",
       "      <td>0.0</td>\n",
       "      <td>1.0</td>\n",
       "      <td>0.0</td>\n",
       "      <td>0.0</td>\n",
       "      <td>0.0</td>\n",
       "      <td>0.0</td>\n",
       "      <td>0.938920</td>\n",
       "      <td>0.061080</td>\n",
       "      <td>0.0</td>\n",
       "    </tr>\n",
       "    <tr>\n",
       "      <th>259625</th>\n",
       "      <td>O06348</td>\n",
       "      <td>Rv3485c</td>\n",
       "      <td>1 out of 5</td>\n",
       "      <td>314</td>\n",
       "      <td>0.0</td>\n",
       "      <td>0.0</td>\n",
       "      <td>0.0</td>\n",
       "      <td>0.0</td>\n",
       "      <td>0.0</td>\n",
       "      <td>0.0</td>\n",
       "      <td>0.0</td>\n",
       "      <td>0.989501</td>\n",
       "      <td>0.010499</td>\n",
       "      <td>0.0</td>\n",
       "    </tr>\n",
       "    <tr>\n",
       "      <th>257346</th>\n",
       "      <td>O53547</td>\n",
       "      <td>Rv3502c</td>\n",
       "      <td>1 out of 5</td>\n",
       "      <td>317</td>\n",
       "      <td>0.0</td>\n",
       "      <td>0.0</td>\n",
       "      <td>0.0</td>\n",
       "      <td>0.0</td>\n",
       "      <td>0.0</td>\n",
       "      <td>0.0</td>\n",
       "      <td>0.0</td>\n",
       "      <td>0.880848</td>\n",
       "      <td>0.119152</td>\n",
       "      <td>0.0</td>\n",
       "    </tr>\n",
       "    <tr>\n",
       "      <th>613758</th>\n",
       "      <td>I6Y3S9</td>\n",
       "      <td>Rv3530c</td>\n",
       "      <td>1 out of 5</td>\n",
       "      <td>260</td>\n",
       "      <td>0.0</td>\n",
       "      <td>0.0</td>\n",
       "      <td>0.0</td>\n",
       "      <td>0.0</td>\n",
       "      <td>0.0</td>\n",
       "      <td>0.0</td>\n",
       "      <td>0.0</td>\n",
       "      <td>0.942983</td>\n",
       "      <td>0.057017</td>\n",
       "      <td>0.0</td>\n",
       "    </tr>\n",
       "    <tr>\n",
       "      <th>125491</th>\n",
       "      <td>P71853</td>\n",
       "      <td>Rv3548c</td>\n",
       "      <td>1 out of 5</td>\n",
       "      <td>304</td>\n",
       "      <td>0.0</td>\n",
       "      <td>1.0</td>\n",
       "      <td>0.0</td>\n",
       "      <td>1.0</td>\n",
       "      <td>0.0</td>\n",
       "      <td>0.0</td>\n",
       "      <td>0.0</td>\n",
       "      <td>0.446991</td>\n",
       "      <td>0.553009</td>\n",
       "      <td>0.0</td>\n",
       "    </tr>\n",
       "    <tr>\n",
       "      <th>608708</th>\n",
       "      <td>I6YCE1</td>\n",
       "      <td>Rv3549c</td>\n",
       "      <td>1 out of 5</td>\n",
       "      <td>259</td>\n",
       "      <td>1.0</td>\n",
       "      <td>0.0</td>\n",
       "      <td>1.0</td>\n",
       "      <td>0.0</td>\n",
       "      <td>0.0</td>\n",
       "      <td>0.0</td>\n",
       "      <td>0.0</td>\n",
       "      <td>0.692124</td>\n",
       "      <td>0.307876</td>\n",
       "      <td>0.0</td>\n",
       "    </tr>\n",
       "    <tr>\n",
       "      <th>356705</th>\n",
       "      <td>I6YCF0</td>\n",
       "      <td>Rv3559c</td>\n",
       "      <td>1 out of 5</td>\n",
       "      <td>262</td>\n",
       "      <td>0.0</td>\n",
       "      <td>0.0</td>\n",
       "      <td>0.0</td>\n",
       "      <td>0.0</td>\n",
       "      <td>0.0</td>\n",
       "      <td>0.0</td>\n",
       "      <td>0.0</td>\n",
       "      <td>0.840299</td>\n",
       "      <td>0.159701</td>\n",
       "      <td>0.0</td>\n",
       "    </tr>\n",
       "    <tr>\n",
       "      <th>607971</th>\n",
       "      <td>I6YEB6</td>\n",
       "      <td>Rv2766c</td>\n",
       "      <td>1 out of 5</td>\n",
       "      <td>260</td>\n",
       "      <td>1.0</td>\n",
       "      <td>0.0</td>\n",
       "      <td>0.0</td>\n",
       "      <td>1.0</td>\n",
       "      <td>0.0</td>\n",
       "      <td>0.0</td>\n",
       "      <td>1.0</td>\n",
       "      <td>0.992045</td>\n",
       "      <td>0.007955</td>\n",
       "      <td>1.0</td>\n",
       "    </tr>\n",
       "    <tr>\n",
       "      <th>155851</th>\n",
       "      <td>O53613</td>\n",
       "      <td>Rv0068</td>\n",
       "      <td>1 out of 5</td>\n",
       "      <td>303</td>\n",
       "      <td>1.0</td>\n",
       "      <td>0.0</td>\n",
       "      <td>0.0</td>\n",
       "      <td>1.0</td>\n",
       "      <td>0.0</td>\n",
       "      <td>1.0</td>\n",
       "      <td>1.0</td>\n",
       "      <td>0.999619</td>\n",
       "      <td>0.000381</td>\n",
       "      <td>1.0</td>\n",
       "    </tr>\n",
       "    <tr>\n",
       "      <th>607975</th>\n",
       "      <td>I6Y9I3</td>\n",
       "      <td>Rv2509</td>\n",
       "      <td>1 out of 5</td>\n",
       "      <td>268</td>\n",
       "      <td>1.0</td>\n",
       "      <td>0.0</td>\n",
       "      <td>0.0</td>\n",
       "      <td>0.0</td>\n",
       "      <td>0.0</td>\n",
       "      <td>0.0</td>\n",
       "      <td>0.0</td>\n",
       "      <td>0.978654</td>\n",
       "      <td>0.021346</td>\n",
       "      <td>0.0</td>\n",
       "    </tr>\n",
       "    <tr>\n",
       "      <th>257341</th>\n",
       "      <td>O53537</td>\n",
       "      <td>Rv2263</td>\n",
       "      <td>1 out of 5</td>\n",
       "      <td>317</td>\n",
       "      <td>1.0</td>\n",
       "      <td>0.0</td>\n",
       "      <td>0.0</td>\n",
       "      <td>0.0</td>\n",
       "      <td>0.0</td>\n",
       "      <td>0.0</td>\n",
       "      <td>0.0</td>\n",
       "      <td>0.997359</td>\n",
       "      <td>0.002641</td>\n",
       "      <td>0.0</td>\n",
       "    </tr>\n",
       "    <tr>\n",
       "      <th>72843</th>\n",
       "      <td>O33263</td>\n",
       "      <td>Rv2129c</td>\n",
       "      <td>1 out of 5</td>\n",
       "      <td>293</td>\n",
       "      <td>1.0</td>\n",
       "      <td>0.0</td>\n",
       "      <td>0.0</td>\n",
       "      <td>0.0</td>\n",
       "      <td>0.0</td>\n",
       "      <td>0.0</td>\n",
       "      <td>0.0</td>\n",
       "      <td>0.994460</td>\n",
       "      <td>0.005540</td>\n",
       "      <td>0.0</td>\n",
       "    </tr>\n",
       "    <tr>\n",
       "      <th>569960</th>\n",
       "      <td>I6XZC4</td>\n",
       "      <td>Rv1941</td>\n",
       "      <td>1 out of 5</td>\n",
       "      <td>256</td>\n",
       "      <td>0.0</td>\n",
       "      <td>0.0</td>\n",
       "      <td>0.0</td>\n",
       "      <td>0.0</td>\n",
       "      <td>0.0</td>\n",
       "      <td>0.0</td>\n",
       "      <td>1.0</td>\n",
       "      <td>0.999917</td>\n",
       "      <td>0.000083</td>\n",
       "      <td>1.0</td>\n",
       "    </tr>\n",
       "    <tr>\n",
       "      <th>150996</th>\n",
       "      <td>O07749</td>\n",
       "      <td>Rv1882c</td>\n",
       "      <td>1 out of 5</td>\n",
       "      <td>277</td>\n",
       "      <td>0.0</td>\n",
       "      <td>0.0</td>\n",
       "      <td>0.0</td>\n",
       "      <td>0.0</td>\n",
       "      <td>0.0</td>\n",
       "      <td>0.0</td>\n",
       "      <td>0.0</td>\n",
       "      <td>0.987655</td>\n",
       "      <td>0.012345</td>\n",
       "      <td>0.0</td>\n",
       "    </tr>\n",
       "    <tr>\n",
       "      <th>150989</th>\n",
       "      <td>P95150</td>\n",
       "      <td>Rv1865c</td>\n",
       "      <td>1 out of 5</td>\n",
       "      <td>286</td>\n",
       "      <td>1.0</td>\n",
       "      <td>0.0</td>\n",
       "      <td>0.0</td>\n",
       "      <td>0.0</td>\n",
       "      <td>1.0</td>\n",
       "      <td>0.0</td>\n",
       "      <td>0.0</td>\n",
       "      <td>0.720447</td>\n",
       "      <td>0.279553</td>\n",
       "      <td>0.0</td>\n",
       "    </tr>\n",
       "    <tr>\n",
       "      <th>88801</th>\n",
       "      <td>O50460</td>\n",
       "      <td>Rv1245c</td>\n",
       "      <td>1 out of 5</td>\n",
       "      <td>276</td>\n",
       "      <td>0.0</td>\n",
       "      <td>0.0</td>\n",
       "      <td>0.0</td>\n",
       "      <td>0.0</td>\n",
       "      <td>0.0</td>\n",
       "      <td>0.0</td>\n",
       "      <td>0.0</td>\n",
       "      <td>0.996092</td>\n",
       "      <td>0.003908</td>\n",
       "      <td>0.0</td>\n",
       "    </tr>\n",
       "    <tr>\n",
       "      <th>80017</th>\n",
       "      <td>O53398</td>\n",
       "      <td>Rv1050</td>\n",
       "      <td>1 out of 5</td>\n",
       "      <td>301</td>\n",
       "      <td>1.0</td>\n",
       "      <td>0.0</td>\n",
       "      <td>0.0</td>\n",
       "      <td>0.0</td>\n",
       "      <td>0.0</td>\n",
       "      <td>0.0</td>\n",
       "      <td>0.0</td>\n",
       "      <td>0.930081</td>\n",
       "      <td>0.069919</td>\n",
       "      <td>0.0</td>\n",
       "    </tr>\n",
       "    <tr>\n",
       "      <th>155742</th>\n",
       "      <td>O53863</td>\n",
       "      <td>Rv0851c</td>\n",
       "      <td>1 out of 5</td>\n",
       "      <td>275</td>\n",
       "      <td>0.0</td>\n",
       "      <td>0.0</td>\n",
       "      <td>0.0</td>\n",
       "      <td>1.0</td>\n",
       "      <td>0.0</td>\n",
       "      <td>1.0</td>\n",
       "      <td>1.0</td>\n",
       "      <td>0.985775</td>\n",
       "      <td>0.014225</td>\n",
       "      <td>1.0</td>\n",
       "    </tr>\n",
       "    <tr>\n",
       "      <th>607972</th>\n",
       "      <td>I6WZD9</td>\n",
       "      <td>Rv0765c</td>\n",
       "      <td>1 out of 5</td>\n",
       "      <td>275</td>\n",
       "      <td>1.0</td>\n",
       "      <td>1.0</td>\n",
       "      <td>0.0</td>\n",
       "      <td>1.0</td>\n",
       "      <td>0.0</td>\n",
       "      <td>0.0</td>\n",
       "      <td>1.0</td>\n",
       "      <td>0.255868</td>\n",
       "      <td>0.744132</td>\n",
       "      <td>1.0</td>\n",
       "    </tr>\n",
       "    <tr>\n",
       "      <th>257347</th>\n",
       "      <td>O06413</td>\n",
       "      <td>Rv0547c</td>\n",
       "      <td>1 out of 5</td>\n",
       "      <td>294</td>\n",
       "      <td>1.0</td>\n",
       "      <td>0.0</td>\n",
       "      <td>0.0</td>\n",
       "      <td>1.0</td>\n",
       "      <td>0.0</td>\n",
       "      <td>0.0</td>\n",
       "      <td>1.0</td>\n",
       "      <td>0.981303</td>\n",
       "      <td>0.018697</td>\n",
       "      <td>1.0</td>\n",
       "    </tr>\n",
       "    <tr>\n",
       "      <th>178595</th>\n",
       "      <td>O53726</td>\n",
       "      <td>Rv0439c</td>\n",
       "      <td>1 out of 5</td>\n",
       "      <td>311</td>\n",
       "      <td>1.0</td>\n",
       "      <td>0.0</td>\n",
       "      <td>0.0</td>\n",
       "      <td>0.0</td>\n",
       "      <td>0.0</td>\n",
       "      <td>0.0</td>\n",
       "      <td>0.0</td>\n",
       "      <td>0.958448</td>\n",
       "      <td>0.041552</td>\n",
       "      <td>0.0</td>\n",
       "    </tr>\n",
       "    <tr>\n",
       "      <th>607973</th>\n",
       "      <td>O07230</td>\n",
       "      <td>Rv0303</td>\n",
       "      <td>1 out of 5</td>\n",
       "      <td>302</td>\n",
       "      <td>1.0</td>\n",
       "      <td>0.0</td>\n",
       "      <td>0.0</td>\n",
       "      <td>0.0</td>\n",
       "      <td>0.0</td>\n",
       "      <td>0.0</td>\n",
       "      <td>0.0</td>\n",
       "      <td>0.955233</td>\n",
       "      <td>0.044767</td>\n",
       "      <td>0.0</td>\n",
       "    </tr>\n",
       "    <tr>\n",
       "      <th>608707</th>\n",
       "      <td>P95286</td>\n",
       "      <td>Rv1928c</td>\n",
       "      <td>1 out of 5</td>\n",
       "      <td>255</td>\n",
       "      <td>0.0</td>\n",
       "      <td>0.0</td>\n",
       "      <td>0.0</td>\n",
       "      <td>1.0</td>\n",
       "      <td>0.0</td>\n",
       "      <td>0.0</td>\n",
       "      <td>1.0</td>\n",
       "      <td>0.984204</td>\n",
       "      <td>0.015796</td>\n",
       "      <td>1.0</td>\n",
       "    </tr>\n",
       "  </tbody>\n",
       "</table>\n",
       "</div>"
      ],
      "text/plain": [
       "         Entry    Rv_ID  Annotation  Length  NAD_NADP  sterol  sugar  \\\n",
       "227     P9WGS9   Rv3791  5 out of 5     254       1.0     0.0    0.0   \n",
       "128     P9WGT1   Rv2002  5 out of 5     260       0.0     0.0    0.0   \n",
       "129     I6Y778  Rv0242c  5 out of 5     454       0.0     0.0    0.0   \n",
       "12      P9WGT3   Rv1483  5 out of 5     247       1.0     0.0    0.0   \n",
       "1115    P9WGP9   Rv3085  3 out of 5     276       0.0     0.0    0.0   \n",
       "1529    P96825   Rv0148  3 out of 5     286       0.0     1.0    0.0   \n",
       "58666   P9WGS7   Rv0687  2 out of 5     275       0.0     0.0    0.0   \n",
       "58731   P9WGR3  Rv2073c  2 out of 5     249       1.0     0.0    0.0   \n",
       "51781   P9WGQ9   Rv0769  2 out of 5     248       0.0     1.0    0.0   \n",
       "55284   P9WGR5  Rv0484c  2 out of 5     251       1.0     0.0    0.0   \n",
       "61128   P9WGR7   Rv0945  2 out of 5     253       1.0     0.0    1.0   \n",
       "5298    P9WGS3  Rv2214c  2 out of 5     592       1.0     0.0    0.0   \n",
       "51467   P9WGQ7   Rv1144  2 out of 5     250       0.0     0.0    0.0   \n",
       "58665   P9WGS5   Rv2750  2 out of 5     272       0.0     0.0    0.0   \n",
       "52694   P9WGR9   Rv1350  2 out of 5     247       0.0     0.0    0.0   \n",
       "52692   P9WGS1   Rv1543  2 out of 5     341       1.0     0.0    0.0   \n",
       "62744   Q10782   Rv1544  2 out of 5     267       1.0     0.0    0.0   \n",
       "54871   P9WGQ3   Rv1714  2 out of 5     270       0.0     0.0    0.0   \n",
       "49546   P9WGQ5  Rv0927c  2 out of 5     263       0.0     0.0    0.0   \n",
       "256343  I6YB11  Rv3057c  1 out of 5     287       0.0     1.0    0.0   \n",
       "259623  O53324   Rv3174  1 out of 5     235       1.0     1.0    0.0   \n",
       "607970  I6Y1W3  Rv2857c  1 out of 5     258       0.0     0.0    0.0   \n",
       "132525  O50417   Rv3391  1 out of 5     650       1.0     1.0    0.0   \n",
       "72321   O05842   Rv3224  1 out of 5     282       0.0     0.0    1.0   \n",
       "259625  O06348  Rv3485c  1 out of 5     314       0.0     0.0    0.0   \n",
       "257346  O53547  Rv3502c  1 out of 5     317       0.0     0.0    0.0   \n",
       "613758  I6Y3S9  Rv3530c  1 out of 5     260       0.0     0.0    0.0   \n",
       "125491  P71853  Rv3548c  1 out of 5     304       0.0     1.0    0.0   \n",
       "608708  I6YCE1  Rv3549c  1 out of 5     259       1.0     0.0    1.0   \n",
       "356705  I6YCF0  Rv3559c  1 out of 5     262       0.0     0.0    0.0   \n",
       "607971  I6YEB6  Rv2766c  1 out of 5     260       1.0     0.0    0.0   \n",
       "155851  O53613   Rv0068  1 out of 5     303       1.0     0.0    0.0   \n",
       "607975  I6Y9I3   Rv2509  1 out of 5     268       1.0     0.0    0.0   \n",
       "257341  O53537   Rv2263  1 out of 5     317       1.0     0.0    0.0   \n",
       "72843   O33263  Rv2129c  1 out of 5     293       1.0     0.0    0.0   \n",
       "569960  I6XZC4   Rv1941  1 out of 5     256       0.0     0.0    0.0   \n",
       "150996  O07749  Rv1882c  1 out of 5     277       0.0     0.0    0.0   \n",
       "150989  P95150  Rv1865c  1 out of 5     286       1.0     0.0    0.0   \n",
       "88801   O50460  Rv1245c  1 out of 5     276       0.0     0.0    0.0   \n",
       "80017   O53398   Rv1050  1 out of 5     301       1.0     0.0    0.0   \n",
       "155742  O53863  Rv0851c  1 out of 5     275       0.0     0.0    0.0   \n",
       "607972  I6WZD9  Rv0765c  1 out of 5     275       1.0     1.0    0.0   \n",
       "257347  O06413  Rv0547c  1 out of 5     294       1.0     0.0    0.0   \n",
       "178595  O53726  Rv0439c  1 out of 5     311       1.0     0.0    0.0   \n",
       "607973  O07230   Rv0303  1 out of 5     302       1.0     0.0    0.0   \n",
       "608707  P95286  Rv1928c  1 out of 5     255       0.0     0.0    0.0   \n",
       "\n",
       "        x_acyl_coA  retinol  fabG  coA  sterol_p0  sterol_p1  beta_keto_AA  \n",
       "227            0.0      0.0   0.0  0.0   0.891492   0.108508           0.0  \n",
       "128            1.0      0.0   0.0  1.0   0.953760   0.046240           1.0  \n",
       "129            1.0      0.0   1.0  1.0   0.998386   0.001614           1.0  \n",
       "12             0.0      0.0   0.0  0.0   0.957890   0.042110           0.0  \n",
       "1115           0.0      0.0   0.0  0.0   0.999906   0.000094           0.0  \n",
       "1529           0.0      0.0   0.0  0.0   0.105826   0.894174           0.0  \n",
       "58666          0.0      0.0   0.0  0.0   0.667336   0.332664           0.0  \n",
       "58731          1.0      0.0   0.0  0.0   0.941418   0.058582           0.0  \n",
       "51781          0.0      0.0   0.0  0.0   0.367266   0.632734           0.0  \n",
       "55284          1.0      0.0   0.0  1.0   0.936941   0.063059           1.0  \n",
       "61128          0.0      0.0   0.0  0.0   0.831674   0.168326           0.0  \n",
       "5298           0.0      0.0   0.0  0.0   0.942366   0.057634           0.0  \n",
       "51467          0.0      0.0   0.0  0.0   0.893868   0.106132           0.0  \n",
       "58665          0.0      0.0   0.0  0.0   0.824821   0.175179           0.0  \n",
       "52694          1.0      0.0   0.0  0.0   0.993541   0.006459           0.0  \n",
       "52692          0.0      0.0   0.0  0.0   0.846301   0.153699           0.0  \n",
       "62744          0.0      0.0   0.0  0.0   0.988414   0.011586           0.0  \n",
       "54871          0.0      0.0   0.0  0.0   0.736022   0.263978           0.0  \n",
       "49546          0.0      0.0   0.0  0.0   0.956412   0.043588           0.0  \n",
       "256343         0.0      0.0   0.0  0.0   0.353076   0.646924           0.0  \n",
       "259623         0.0      0.0   0.0  0.0   0.371134   0.628866           0.0  \n",
       "607970         0.0      0.0   0.0  0.0   0.795433   0.204567           0.0  \n",
       "132525         0.0      0.0   0.0  0.0   0.202864   0.797136           0.0  \n",
       "72321          0.0      0.0   0.0  0.0   0.938920   0.061080           0.0  \n",
       "259625         0.0      0.0   0.0  0.0   0.989501   0.010499           0.0  \n",
       "257346         0.0      0.0   0.0  0.0   0.880848   0.119152           0.0  \n",
       "613758         0.0      0.0   0.0  0.0   0.942983   0.057017           0.0  \n",
       "125491         1.0      0.0   0.0  0.0   0.446991   0.553009           0.0  \n",
       "608708         0.0      0.0   0.0  0.0   0.692124   0.307876           0.0  \n",
       "356705         0.0      0.0   0.0  0.0   0.840299   0.159701           0.0  \n",
       "607971         1.0      0.0   0.0  1.0   0.992045   0.007955           1.0  \n",
       "155851         1.0      0.0   1.0  1.0   0.999619   0.000381           1.0  \n",
       "607975         0.0      0.0   0.0  0.0   0.978654   0.021346           0.0  \n",
       "257341         0.0      0.0   0.0  0.0   0.997359   0.002641           0.0  \n",
       "72843          0.0      0.0   0.0  0.0   0.994460   0.005540           0.0  \n",
       "569960         0.0      0.0   0.0  1.0   0.999917   0.000083           1.0  \n",
       "150996         0.0      0.0   0.0  0.0   0.987655   0.012345           0.0  \n",
       "150989         0.0      1.0   0.0  0.0   0.720447   0.279553           0.0  \n",
       "88801          0.0      0.0   0.0  0.0   0.996092   0.003908           0.0  \n",
       "80017          0.0      0.0   0.0  0.0   0.930081   0.069919           0.0  \n",
       "155742         1.0      0.0   1.0  1.0   0.985775   0.014225           1.0  \n",
       "607972         1.0      0.0   0.0  1.0   0.255868   0.744132           1.0  \n",
       "257347         1.0      0.0   0.0  1.0   0.981303   0.018697           1.0  \n",
       "178595         0.0      0.0   0.0  0.0   0.958448   0.041552           0.0  \n",
       "607973         0.0      0.0   0.0  0.0   0.955233   0.044767           0.0  \n",
       "608707         1.0      0.0   0.0  1.0   0.984204   0.015796           1.0  "
      ]
     },
     "execution_count": 112,
     "metadata": {},
     "output_type": "execute_result"
    }
   ],
   "source": [
    "df_sdr_mtb_v1.sort_values(by = 'Annotation', ascending=False)"
   ]
  },
  {
   "cell_type": "code",
   "execution_count": 98,
   "metadata": {},
   "outputs": [
    {
     "data": {
      "text/html": [
       "<div>\n",
       "<style scoped>\n",
       "    .dataframe tbody tr th:only-of-type {\n",
       "        vertical-align: middle;\n",
       "    }\n",
       "\n",
       "    .dataframe tbody tr th {\n",
       "        vertical-align: top;\n",
       "    }\n",
       "\n",
       "    .dataframe thead th {\n",
       "        text-align: right;\n",
       "    }\n",
       "</style>\n",
       "<table border=\"1\" class=\"dataframe\">\n",
       "  <thead>\n",
       "    <tr style=\"text-align: right;\">\n",
       "      <th></th>\n",
       "      <th>Entry</th>\n",
       "      <th>Rv_ID</th>\n",
       "      <th>Annotation</th>\n",
       "      <th>Length</th>\n",
       "      <th>NAD_NADP</th>\n",
       "      <th>beta_keto_AA</th>\n",
       "    </tr>\n",
       "  </thead>\n",
       "  <tbody>\n",
       "    <tr>\n",
       "      <th>227</th>\n",
       "      <td>P9WGS9</td>\n",
       "      <td>Rv3791</td>\n",
       "      <td>5 out of 5</td>\n",
       "      <td>254</td>\n",
       "      <td>1.0</td>\n",
       "      <td>0.0</td>\n",
       "    </tr>\n",
       "    <tr>\n",
       "      <th>128</th>\n",
       "      <td>P9WGT1</td>\n",
       "      <td>Rv2002</td>\n",
       "      <td>5 out of 5</td>\n",
       "      <td>260</td>\n",
       "      <td>0.0</td>\n",
       "      <td>1.0</td>\n",
       "    </tr>\n",
       "    <tr>\n",
       "      <th>129</th>\n",
       "      <td>I6Y778</td>\n",
       "      <td>Rv0242c</td>\n",
       "      <td>5 out of 5</td>\n",
       "      <td>454</td>\n",
       "      <td>0.0</td>\n",
       "      <td>1.0</td>\n",
       "    </tr>\n",
       "    <tr>\n",
       "      <th>12</th>\n",
       "      <td>P9WGT3</td>\n",
       "      <td>Rv1483</td>\n",
       "      <td>5 out of 5</td>\n",
       "      <td>247</td>\n",
       "      <td>1.0</td>\n",
       "      <td>0.0</td>\n",
       "    </tr>\n",
       "    <tr>\n",
       "      <th>1115</th>\n",
       "      <td>P9WGP9</td>\n",
       "      <td>Rv3085</td>\n",
       "      <td>3 out of 5</td>\n",
       "      <td>276</td>\n",
       "      <td>0.0</td>\n",
       "      <td>0.0</td>\n",
       "    </tr>\n",
       "    <tr>\n",
       "      <th>1529</th>\n",
       "      <td>P96825</td>\n",
       "      <td>Rv0148</td>\n",
       "      <td>3 out of 5</td>\n",
       "      <td>286</td>\n",
       "      <td>0.0</td>\n",
       "      <td>0.0</td>\n",
       "    </tr>\n",
       "    <tr>\n",
       "      <th>58666</th>\n",
       "      <td>P9WGS7</td>\n",
       "      <td>Rv0687</td>\n",
       "      <td>2 out of 5</td>\n",
       "      <td>275</td>\n",
       "      <td>0.0</td>\n",
       "      <td>0.0</td>\n",
       "    </tr>\n",
       "    <tr>\n",
       "      <th>58731</th>\n",
       "      <td>P9WGR3</td>\n",
       "      <td>Rv2073c</td>\n",
       "      <td>2 out of 5</td>\n",
       "      <td>249</td>\n",
       "      <td>1.0</td>\n",
       "      <td>0.0</td>\n",
       "    </tr>\n",
       "  </tbody>\n",
       "</table>\n",
       "</div>"
      ],
      "text/plain": [
       "        Entry    Rv_ID  Annotation  Length  NAD_NADP  beta_keto_AA\n",
       "227    P9WGS9   Rv3791  5 out of 5     254       1.0           0.0\n",
       "128    P9WGT1   Rv2002  5 out of 5     260       0.0           1.0\n",
       "129    I6Y778  Rv0242c  5 out of 5     454       0.0           1.0\n",
       "12     P9WGT3   Rv1483  5 out of 5     247       1.0           0.0\n",
       "1115   P9WGP9   Rv3085  3 out of 5     276       0.0           0.0\n",
       "1529   P96825   Rv0148  3 out of 5     286       0.0           0.0\n",
       "58666  P9WGS7   Rv0687  2 out of 5     275       0.0           0.0\n",
       "58731  P9WGR3  Rv2073c  2 out of 5     249       1.0           0.0"
      ]
     },
     "execution_count": 98,
     "metadata": {},
     "output_type": "execute_result"
    }
   ],
   "source": [
    "df_sdr_mtb_v1.sort_values(by = 'Annotation', ascending=False)[['Entry', 'Rv_ID', 'Annotation', 'Length', 'NAD_NADP', mol_class]].head(8)"
   ]
  },
  {
   "cell_type": "code",
   "execution_count": 109,
   "metadata": {},
   "outputs": [],
   "source": [
    "fn_out = '../../data/mohammed/SDR_Mtb_predictions_101221.csv'\n",
    "df_sdr_mtb_v1.to_csv(fn_out, index=False)"
   ]
  },
  {
   "cell_type": "code",
   "execution_count": 108,
   "metadata": {},
   "outputs": [],
   "source": [
    "# 0:=NAD, 1:=NADP\n",
    "columns = ['Entry', 'Rv_ID', 'Annotation', 'Length', 'fabG', 'acylCoA', 'sugar', 'sterol', 'NAD_NADP']"
   ]
  },
  {
   "cell_type": "code",
   "execution_count": 109,
   "metadata": {},
   "outputs": [
    {
     "data": {
      "text/html": [
       "<div>\n",
       "<style scoped>\n",
       "    .dataframe tbody tr th:only-of-type {\n",
       "        vertical-align: middle;\n",
       "    }\n",
       "\n",
       "    .dataframe tbody tr th {\n",
       "        vertical-align: top;\n",
       "    }\n",
       "\n",
       "    .dataframe thead th {\n",
       "        text-align: right;\n",
       "    }\n",
       "</style>\n",
       "<table border=\"1\" class=\"dataframe\">\n",
       "  <thead>\n",
       "    <tr style=\"text-align: right;\">\n",
       "      <th></th>\n",
       "      <th>Entry</th>\n",
       "      <th>Rv_ID</th>\n",
       "      <th>Annotation</th>\n",
       "      <th>Length</th>\n",
       "      <th>fabG</th>\n",
       "      <th>acylCoA</th>\n",
       "      <th>sugar</th>\n",
       "      <th>sterol</th>\n",
       "      <th>NAD_NADP</th>\n",
       "    </tr>\n",
       "  </thead>\n",
       "  <tbody>\n",
       "    <tr>\n",
       "      <th>129</th>\n",
       "      <td>I6Y778</td>\n",
       "      <td>Rv0242c</td>\n",
       "      <td>5 out of 5</td>\n",
       "      <td>454</td>\n",
       "      <td>0.0</td>\n",
       "      <td>1.0</td>\n",
       "      <td>0.0</td>\n",
       "      <td>0.0</td>\n",
       "      <td>0.0</td>\n",
       "    </tr>\n",
       "    <tr>\n",
       "      <th>1529</th>\n",
       "      <td>P96825</td>\n",
       "      <td>Rv0148</td>\n",
       "      <td>3 out of 5</td>\n",
       "      <td>286</td>\n",
       "      <td>0.0</td>\n",
       "      <td>1.0</td>\n",
       "      <td>0.0</td>\n",
       "      <td>0.0</td>\n",
       "      <td>0.0</td>\n",
       "    </tr>\n",
       "    <tr>\n",
       "      <th>51467</th>\n",
       "      <td>P9WGQ7</td>\n",
       "      <td>Rv1144</td>\n",
       "      <td>2 out of 5</td>\n",
       "      <td>250</td>\n",
       "      <td>0.0</td>\n",
       "      <td>1.0</td>\n",
       "      <td>0.0</td>\n",
       "      <td>0.0</td>\n",
       "      <td>0.0</td>\n",
       "    </tr>\n",
       "    <tr>\n",
       "      <th>52694</th>\n",
       "      <td>P9WGR9</td>\n",
       "      <td>Rv1350</td>\n",
       "      <td>2 out of 5</td>\n",
       "      <td>247</td>\n",
       "      <td>1.0</td>\n",
       "      <td>0.0</td>\n",
       "      <td>0.0</td>\n",
       "      <td>0.0</td>\n",
       "      <td>0.0</td>\n",
       "    </tr>\n",
       "    <tr>\n",
       "      <th>72321</th>\n",
       "      <td>O05842</td>\n",
       "      <td>Rv3224</td>\n",
       "      <td>1 out of 5</td>\n",
       "      <td>282</td>\n",
       "      <td>0.0</td>\n",
       "      <td>1.0</td>\n",
       "      <td>0.0</td>\n",
       "      <td>0.0</td>\n",
       "      <td>0.0</td>\n",
       "    </tr>\n",
       "    <tr>\n",
       "      <th>125491</th>\n",
       "      <td>P71853</td>\n",
       "      <td>Rv3548c</td>\n",
       "      <td>1 out of 5</td>\n",
       "      <td>304</td>\n",
       "      <td>0.0</td>\n",
       "      <td>1.0</td>\n",
       "      <td>0.0</td>\n",
       "      <td>0.0</td>\n",
       "      <td>0.0</td>\n",
       "    </tr>\n",
       "    <tr>\n",
       "      <th>256343</th>\n",
       "      <td>I6YB11</td>\n",
       "      <td>Rv3057c</td>\n",
       "      <td>1 out of 5</td>\n",
       "      <td>287</td>\n",
       "      <td>0.0</td>\n",
       "      <td>1.0</td>\n",
       "      <td>1.0</td>\n",
       "      <td>0.0</td>\n",
       "      <td>0.0</td>\n",
       "    </tr>\n",
       "    <tr>\n",
       "      <th>257346</th>\n",
       "      <td>O53547</td>\n",
       "      <td>Rv3502c</td>\n",
       "      <td>1 out of 5</td>\n",
       "      <td>317</td>\n",
       "      <td>0.0</td>\n",
       "      <td>1.0</td>\n",
       "      <td>0.0</td>\n",
       "      <td>0.0</td>\n",
       "      <td>0.0</td>\n",
       "    </tr>\n",
       "  </tbody>\n",
       "</table>\n",
       "</div>"
      ],
      "text/plain": [
       "         Entry    Rv_ID  Annotation  Length  fabG  acylCoA  sugar  sterol  \\\n",
       "129     I6Y778  Rv0242c  5 out of 5     454   0.0      1.0    0.0     0.0   \n",
       "1529    P96825   Rv0148  3 out of 5     286   0.0      1.0    0.0     0.0   \n",
       "51467   P9WGQ7   Rv1144  2 out of 5     250   0.0      1.0    0.0     0.0   \n",
       "52694   P9WGR9   Rv1350  2 out of 5     247   1.0      0.0    0.0     0.0   \n",
       "72321   O05842   Rv3224  1 out of 5     282   0.0      1.0    0.0     0.0   \n",
       "125491  P71853  Rv3548c  1 out of 5     304   0.0      1.0    0.0     0.0   \n",
       "256343  I6YB11  Rv3057c  1 out of 5     287   0.0      1.0    1.0     0.0   \n",
       "257346  O53547  Rv3502c  1 out of 5     317   0.0      1.0    0.0     0.0   \n",
       "\n",
       "        NAD_NADP  \n",
       "129          0.0  \n",
       "1529         0.0  \n",
       "51467        0.0  \n",
       "52694        0.0  \n",
       "72321        0.0  \n",
       "125491       0.0  \n",
       "256343       0.0  \n",
       "257346       0.0  "
      ]
     },
     "execution_count": 109,
     "metadata": {},
     "output_type": "execute_result"
    }
   ],
   "source": [
    "df_sdr_mtb[ ((df_sdr_mtb.fabG.values==1) | (df_sdr_mtb.acylCoA.values==1)) & (df_sdr_mtb.NAD_NADP.values==0)][columns]"
   ]
  },
  {
   "cell_type": "code",
   "execution_count": null,
   "metadata": {},
   "outputs": [],
   "source": [
    "df_sdr_mtb[ (df_sdr_mtb.fabG.values==1) | (df_sdr_mtb.acylCoA.values==1) \n",
    "           | (df_sdr_mtb.sugar.values==1) | (df_sdr_mtb.sterol.values==1)][columns].sort_values(by=['acylCoA', 'fabG', 'Rv_ID'], ascending=False)"
   ]
  },
  {
   "cell_type": "code",
   "execution_count": null,
   "metadata": {},
   "outputs": [],
   "source": [
    "# df_sdr_mtb[df_sdr_mtb.sugar.values==1][columns]\n",
    "df_sdr_mtb[columns].sort_values(by='Rv_ID', ascending=True)"
   ]
  },
  {
   "cell_type": "code",
   "execution_count": null,
   "metadata": {},
   "outputs": [],
   "source": []
  },
  {
   "cell_type": "code",
   "execution_count": null,
   "metadata": {},
   "outputs": [],
   "source": []
  },
  {
   "cell_type": "markdown",
   "metadata": {},
   "source": [
    "# OTHER: "
   ]
  },
  {
   "cell_type": "markdown",
   "metadata": {
    "tags": []
   },
   "source": [
    "# EXERCISE 1B: \n",
    "## Repeat the above, but with training and test sets stratified by sequence similarity: "
   ]
  },
  {
   "cell_type": "markdown",
   "metadata": {},
   "source": [
    "Created a function called \"strat_by_SSN\" that takes in the set of clusters for the training set: "
   ]
  },
  {
   "cell_type": "code",
   "execution_count": 350,
   "metadata": {},
   "outputs": [
    {
     "name": "stdout",
     "output_type": "stream",
     "text": [
      "fraction of enzymes in the training set:\n",
      "0.66\n",
      "\n",
      "fraction of enzymes in True category in the test set:\n",
      "0.65\n"
     ]
    }
   ],
   "source": [
    "thresh = 90\n",
    "# clus_train = [1, 2, 3, 4, 5, 6, 7, 8, 9, 10, 11] #used for the 35% datafile\n",
    "# clus_train = list(np.arange(1, 60))\n",
    "clus_train = random.sample(list(np.arange(1,64)), 55)\n",
    "X_train, X_test, y_train, y_test = strat_by_SSN(thresh, clus_train, df_UP_NAD_NADH_01, X, Y)"
   ]
  },
  {
   "cell_type": "code",
   "execution_count": null,
   "metadata": {},
   "outputs": [],
   "source": [
    "C_list = [1e-1,1e0,1e1,1e2,1e3]\n",
    "list_accuracy = []\n",
    "list_log_loss = []\n",
    "counter = 0\n",
    "for C in C_list:  \n",
    "    # C=1\n",
    "    X_train, y_train = SMOTE().fit_resample(X_train, y_train)\n",
    "    clf = LogisticRegression(penalty='l1', solver='liblinear', multi_class='ovr', C=C, random_state=13)\n",
    "    clf.fit(X_train, y_train)\n",
    "    y_hat = clf.predict(X_test)\n",
    "    confusion = confusion_matrix(y_test, y_hat)\n",
    "    confusion = normalize(confusion, axis=1, norm='l1')\n",
    "    \n",
    "    y_pred = clf.predict_proba(X_test)\n",
    "    list_log_loss.append(log_loss(y_test, y_pred))\n",
    "    list_accuracy.append(accuracy_score(y_test, y_hat))\n",
    "\n",
    "    col_names = ['NAD', 'NADP']\n",
    "    df_confusion = pd.DataFrame(confusion, columns=col_names, index=col_names)\n",
    "\n",
    "    plt.figure(figsize=(7,7))\n",
    "    rc = {'xtick.labelsize': 22, 'ytick.labelsize': 22, 'axes.labelsize': 22}\n",
    "    sns.set(rc=rc)\n",
    "    heat = sns.heatmap(df_confusion, annot=True, linewidths=2, fmt='1.2f', square=True, annot_kws={\"fontsize\":34})\n",
    "    txt = heat.set(xlabel='PREDICTED CLASS', ylabel='TRUE CLASS')\n",
    "    plt.tight_layout()\n",
    "    plt.savefig(os.path.join(path_fig, 'NAD_NADP_conf_SSN_strat_th'+str(thresh)+'_'+str(counter)+'.png'), dpi=250)\n",
    "    counter += 1\n"
   ]
  },
  {
   "cell_type": "code",
   "execution_count": null,
   "metadata": {},
   "outputs": [],
   "source": [
    "title_str = 'NAD/NADP classifier\\nSSN stratification (thresh. '+str(thresh)+'%)'\n",
    "file_name = 'NAD_NADP_acc_ll_SSN_th'+str(thresh)+'.png'\n",
    "ymax = 1\n",
    "plot_logloss_acc(C_list, list_accuracy, list_log_loss, title_str, file_name, ymax)"
   ]
  },
  {
   "cell_type": "markdown",
   "metadata": {},
   "source": [
    "# EXERCISE 2B:\n",
    "## Repeat the above, but with training and test sets stratified by sequence similarity: "
   ]
  },
  {
   "cell_type": "markdown",
   "metadata": {},
   "source": [
    "##### Load EFI-SSN clusters: "
   ]
  },
  {
   "cell_type": "code",
   "execution_count": 335,
   "metadata": {},
   "outputs": [
    {
     "name": "stdout",
     "output_type": "stream",
     "text": [
      "fraction of enzymes in the training set:\n",
      "0.61\n",
      "\n",
      "fraction of enzymes in True category in the test set:\n",
      "0.21\n"
     ]
    }
   ],
   "source": [
    "thresh = 90\n",
    "\n",
    "hand_picked = 0\n",
    "if hand_picked:\n",
    "    clus_train = [1, 2, 4, 8, 9, 11, 12, 13, 14, 15]\n",
    "else:\n",
    "    clus_train = random.sample(list(np.arange(1,64)), 50)\n",
    "X_train, X_test, y_train, y_test = strat_by_SSN(thresh, clus_train, df_cluster_classify, X, Y)"
   ]
  },
  {
   "cell_type": "code",
   "execution_count": null,
   "metadata": {},
   "outputs": [],
   "source": [
    "C_list = [1e-1,1e0,1e1,1e2,1e3]\n",
    "list_accuracy = []\n",
    "list_log_loss = []\n",
    "counter = 0\n",
    "for C in C_list:  \n",
    "    # C=1\n",
    "    X_train, y_train = SMOTE().fit_resample(X_train, y_train)\n",
    "    clf = LogisticRegression(penalty='l1', solver='liblinear', multi_class='ovr', C=C, random_state=13)\n",
    "    clf.fit(X_train, y_train)\n",
    "    y_hat = clf.predict(X_test)\n",
    "    confusion = confusion_matrix(y_test, y_hat)\n",
    "    confusion = normalize(confusion, axis=1, norm='l1')\n",
    "    \n",
    "    y_pred = clf.predict_proba(X_test)\n",
    "    list_log_loss.append(log_loss(y_test, y_pred))\n",
    "    list_accuracy.append(accuracy_score(y_test, y_hat))\n",
    "\n",
    "    col_names = ['no sterol\\nsubstrate', 'sterol\\nsubstrate']\n",
    "    df_confusion = pd.DataFrame(confusion, columns=col_names, index=col_names)\n",
    "\n",
    "    plt.figure(figsize=(7,7))\n",
    "    rc = {'xtick.labelsize': 22, 'ytick.labelsize': 22, 'axes.labelsize': 22}\n",
    "    sns.set(rc=rc)\n",
    "    heat = sns.heatmap(df_confusion, annot=True, linewidths=2, fmt='1.2f', square=True, annot_kws={\"fontsize\":34})\n",
    "    txt = heat.set(xlabel='PREDICTED CLASS', ylabel='TRUE CLASS')\n",
    "    plt.tight_layout()\n",
    "    if hand_picked:\n",
    "        plt.savefig(os.path.join(path_fig, 'sterol_conf_SSN_strat_th'+str(thresh)+'_'+str(counter)+'_PICKED.png'), dpi=250)\n",
    "    else:\n",
    "        plt.savefig(os.path.join(path_fig, 'sterol_conf_SSN_strat_th'+str(thresh)+'_'+str(counter)+'.png'), dpi=250)\n",
    "    counter += 1"
   ]
  },
  {
   "cell_type": "code",
   "execution_count": 338,
   "metadata": {},
   "outputs": [
    {
     "data": {
      "image/png": "[encoded data removed]",
      "text/plain": [
       "<Figure size 720x432 with 1 Axes>"
      ]
     },
     "metadata": {},
     "output_type": "display_data"
    }
   ],
   "source": [
    "if hand_picked:\n",
    "    title_str = 'sterol classifier\\nSSN stratification (thresh. '+str(thresh)+'%)\\nhand-picked clusters'\n",
    "    file_name = 'sterol_acc_ll_SSN_th'+str(thresh)+'_PICKED.png'\n",
    "else:\n",
    "    title_str = 'sterol classifier\\nSSN stratification (thresh. '+str(thresh)+'%)'\n",
    "    file_name = 'sterol_acc_ll_SSN_th'+str(thresh)+'.png'\n",
    "ymax = 1.5\n",
    "\n",
    "plot_logloss_acc(C_list, list_accuracy, list_log_loss, title_str, file_name, ymax)"
   ]
  },
  {
   "cell_type": "markdown",
   "metadata": {},
   "source": [
    "### alternative way to select clusters:"
   ]
  },
  {
   "cell_type": "code",
   "execution_count": 656,
   "metadata": {},
   "outputs": [],
   "source": [
    "# Pick proteins in num_clus clusters to train on, and validate on proteins in the remainder of the clusters:\n",
    "num_clus = 2\n",
    "clus_train = np.arange(1, num_clus)\n",
    "clus_test = np.arange(num_clus, df_ssn.ClusterNum.max()+1)"
   ]
  },
  {
   "cell_type": "markdown",
   "metadata": {},
   "source": [
    "### alternative way to randomly pick from the cluster IDs: \n"
   ]
  },
  {
   "cell_type": "markdown",
   "metadata": {},
   "source": [
    "You need to find a smarter way to do this... partition the clusters such that you get the right number of proteins in the training / validation sets."
   ]
  },
  {
   "cell_type": "code",
   "execution_count": 654,
   "metadata": {},
   "outputs": [
    {
     "name": "stdout",
     "output_type": "stream",
     "text": [
      "0.07650273224043716\n"
     ]
    },
    {
     "data": {
      "text/plain": [
       "(113, 28)"
      ]
     },
     "execution_count": 654,
     "metadata": {},
     "output_type": "execute_result"
    }
   ],
   "source": [
    "num_clus = df_ssn.ClusterNum.max()+1\n",
    "list_num_clus = list(np.arange(1, num_clus))\n",
    "num_to_sample = 8\n",
    "clus_list_1 = random.sample(list_num_clus, 7)\n",
    "clus_list_2 = [c for c in list_num_clus if c not in clus_train]\n",
    "\n",
    "print(df_ssn[df_ssn['ClusterNum'].isin(clus_list_1)].shape[0] / df_ssn.shape[0])\n",
    "\n",
    "list_train = df_ssn[df_ssn.ClusterNum.isin(clus_list_2)].Entry.tolist()\n",
    "list_test = df_ssn[df_ssn.ClusterNum.isin(clus_list_1)].Entry.tolist()\n",
    "len(list_train), len(list_test)"
   ]
  },
  {
   "cell_type": "markdown",
   "metadata": {},
   "source": [
    "### Saving list of proteins with sterol substrates:"
   ]
  },
  {
   "cell_type": "code",
   "execution_count": null,
   "metadata": {},
   "outputs": [],
   "source": [
    "df_sterol = df_cluster_classify[df_cluster_classify.compound_cluster.values == 1][['Entry']]\n",
    "file_out = '../../data/mohammed/EFI_SSN_clusters/EFI_SSN_SDR_45/sterol.csv'\n",
    "df_sterol.to_csv(file_out, index = False)"
   ]
  },
  {
   "cell_type": "markdown",
   "metadata": {},
   "source": [
    "### Saving lists of genes in specific clusters: "
   ]
  },
  {
   "cell_type": "code",
   "execution_count": null,
   "metadata": {},
   "outputs": [],
   "source": [
    "clus_list = [1, 2, 3, 4, 8, 9, 11]\n",
    "file_name = ''.join([str(c) for c in clus_list])\n",
    "file_out = '../../data/mohammed/EFI_SSN_clusters/EFI_SSN_SDR_45/thresh_35_cluster_'+file_name+'.csv'\n",
    "df_test = df_ssn[df_ssn.ClusterNum.isin(clus_list)][['Entry']]\n",
    "df_test.to_csv(file_out, index = False)"
   ]
  },
  {
   "cell_type": "code",
   "execution_count": null,
   "metadata": {},
   "outputs": [],
   "source": [
    "for i in range(1,18):\n",
    "    clus_list = [i]\n",
    "    file_name = ''.join([str(c) for c in clus_list])\n",
    "    file_out = '../../data/mohammed/EFI_SSN_clusters/EFI_SSN_SDR_45/thresh_35_cluster_'+file_name+'.csv'\n",
    "    df_test = df_ssn[df_ssn.ClusterNum.isin(clus_list)][['Entry']]\n",
    "    df_test.to_csv(file_out, index = False)"
   ]
  },
  {
   "cell_type": "markdown",
   "metadata": {},
   "source": [
    "## Understanding the structure of the EFI-SSN clusters: "
   ]
  },
  {
   "cell_type": "code",
   "execution_count": 395,
   "metadata": {},
   "outputs": [
    {
     "data": {
      "text/plain": [
       "1    117\n",
       "2     56\n",
       "3     28\n",
       "4     27\n",
       "5     19\n",
       "Name: ClusterNum, dtype: int64"
      ]
     },
     "execution_count": 395,
     "metadata": {},
     "output_type": "execute_result"
    }
   ],
   "source": [
    "df_ssn.ClusterNum.value_counts().head(5)"
   ]
  },
  {
   "cell_type": "code",
   "execution_count": 383,
   "metadata": {},
   "outputs": [
    {
     "data": {
      "text/html": [
       "<div>\n",
       "<style scoped>\n",
       "    .dataframe tbody tr th:only-of-type {\n",
       "        vertical-align: middle;\n",
       "    }\n",
       "\n",
       "    .dataframe tbody tr th {\n",
       "        vertical-align: top;\n",
       "    }\n",
       "\n",
       "    .dataframe thead th {\n",
       "        text-align: right;\n",
       "    }\n",
       "</style>\n",
       "<table border=\"1\" class=\"dataframe\">\n",
       "  <thead>\n",
       "    <tr style=\"text-align: right;\">\n",
       "      <th></th>\n",
       "      <th>Entry</th>\n",
       "      <th>ClusterNum</th>\n",
       "      <th>Cluster Color</th>\n",
       "      <th>Taxonomy ID</th>\n",
       "      <th>Species</th>\n",
       "    </tr>\n",
       "  </thead>\n",
       "  <tbody>\n",
       "    <tr>\n",
       "      <th>0</th>\n",
       "      <td>A0A1A9TAK5</td>\n",
       "      <td>1</td>\n",
       "      <td>#FF0000</td>\n",
       "      <td>39639</td>\n",
       "      <td>Narcissus pseudonarcissus</td>\n",
       "    </tr>\n",
       "    <tr>\n",
       "      <th>1</th>\n",
       "      <td>A0A3Q8GL18</td>\n",
       "      <td>1</td>\n",
       "      <td>#FF0000</td>\n",
       "      <td>54731</td>\n",
       "      <td>Nepeta racemosa</td>\n",
       "    </tr>\n",
       "  </tbody>\n",
       "</table>\n",
       "</div>"
      ],
      "text/plain": [
       "        Entry  ClusterNum Cluster Color  Taxonomy ID  \\\n",
       "0  A0A1A9TAK5           1       #FF0000        39639   \n",
       "1  A0A3Q8GL18           1       #FF0000        54731   \n",
       "\n",
       "                      Species  \n",
       "0  Narcissus pseudonarcissus   \n",
       "1            Nepeta racemosa   "
      ]
     },
     "execution_count": 383,
     "metadata": {},
     "output_type": "execute_result"
    }
   ],
   "source": [
    "df_ssn.head(2)"
   ]
  },
  {
   "cell_type": "code",
   "execution_count": 423,
   "metadata": {},
   "outputs": [
    {
     "data": {
      "text/plain": [
       "['O54939',\n",
       " 'O57314',\n",
       " 'O70503',\n",
       " 'P37058',\n",
       " 'P70385',\n",
       " 'Q28IU1',\n",
       " 'Q4R5G7',\n",
       " 'Q53GQ0',\n",
       " 'Q5E9H7',\n",
       " 'Q5XG41',\n",
       " 'Q6P3L6',\n",
       " 'Q6P7R8',\n",
       " 'Q6QA32',\n",
       " 'Q6QA33',\n",
       " 'Q8AVY8']"
      ]
     },
     "execution_count": 423,
     "metadata": {},
     "output_type": "execute_result"
    }
   ],
   "source": [
    "sterol_entries = df_sterol.Entry.tolist()\n",
    "df_ssn[ (df_ssn.ClusterNum.values == 4) & (df_ssn.Entry.isin(sterol_entries))].Entry.tolist()"
   ]
  },
  {
   "cell_type": "code",
   "execution_count": null,
   "metadata": {},
   "outputs": [],
   "source": [
    "clus_num = 1\n",
    "list_prots_in_clus = df_ssn[df_ssn.ClusterNum.values==clus_num].Entry.tolist()\n",
    "df_45[df_45.Entry.isin(list_prots_in_clus)]['EC_list'].value_counts()"
   ]
  },
  {
   "cell_type": "markdown",
   "metadata": {},
   "source": [
    "## Digging deeper into the NAD/NADP double binding cases. Do they really use either cofactor? "
   ]
  },
  {
   "cell_type": "code",
   "execution_count": 106,
   "metadata": {},
   "outputs": [],
   "source": [
    "list_num_nad = []\n",
    "list_num_nadp = []\n",
    "for entry in list_UP_NAD_NADP:\n",
    "#     entry = 'O14756'\n",
    "    df_entry = df_45_l_rhea_chebi_smiles[df_45_l_rhea_chebi_smiles.Entry.values == entry]\n",
    "    num_nad = df_entry[df_entry.ChEBI.isin(nad_nadh)].shape[0]\n",
    "    num_nadp = df_entry[df_entry.ChEBI.isin(nadp_nadph)].shape[0]\n",
    "    list_num_nad.append(num_nad)\n",
    "    list_num_nadp.append(num_nadp)\n",
    "    \n",
    "df_num_nad_nadp = pd.DataFrame()\n",
    "df_num_nad_nadp['Entry'] = list_UP_NAD_NADP\n",
    "df_num_nad_nadp['num_nad'] = list_num_nad\n",
    "df_num_nad_nadp['num_nadp'] = list_num_nadp\n",
    "\n",
    "df_num_nad_nadp['frac_nad'] = np.array(list_num_nad) / (np.array(list_num_nad) + np.array(list_num_nadp))\n",
    "df_num_nad_nadp['frac_nadp'] = np.array(list_num_nadp) / (np.array(list_num_nad) + np.array(list_num_nadp))"
   ]
  },
  {
   "cell_type": "code",
   "execution_count": 118,
   "metadata": {},
   "outputs": [],
   "source": [
    "file_out = '../../data/mohammed/SDR_45_NAD_NADP.xlsx'\n",
    "df_num_nad_nadp.to_excel(file_out, index = False)"
   ]
  },
  {
   "cell_type": "markdown",
   "metadata": {},
   "source": [
    "### [QUICK FIX]: Generate embedding files for these sequences: "
   ]
  },
  {
   "cell_type": "code",
   "execution_count": 50,
   "metadata": {},
   "outputs": [],
   "source": [
    "file_in = '../../data/mohammed/rhea_test/uniprot-ipr002347.tab'\n",
    "# file_in = '../../data/mohammed/uniprot-ipr002347_annot345.csv'\n",
    "df = pd.read_csv(file_in, sep = '\\t')"
   ]
  },
  {
   "cell_type": "code",
   "execution_count": 55,
   "metadata": {},
   "outputs": [],
   "source": [
    "def df_to_fasta(df, file_out):\n",
    "    with open(file_out, 'w') as fout: \n",
    "        for index, row in df.iterrows():\n",
    "            fout.write('>'+row['Entry']+'\\n')\n",
    "            fout.write(row['Sequence']+'\\n')"
   ]
  },
  {
   "cell_type": "code",
   "execution_count": 56,
   "metadata": {},
   "outputs": [],
   "source": [
    "df_missing = df[df.Entry.isin(list_err)]\n",
    "file_out = '../../data/mohammed/missing_sdr_45.fasta'\n",
    "df_to_fasta(df_missing, file_out)"
   ]
  },
  {
   "cell_type": "markdown",
   "metadata": {},
   "source": [
    "# Legacy:"
   ]
  },
  {
   "cell_type": "code",
   "execution_count": null,
   "metadata": {},
   "outputs": [],
   "source": [
    "C_list = [1e-1,1e0,1e1,1e2,1e3]\n",
    "list_accuracy = []\n",
    "list_log_loss = []\n",
    "path_fig = '../../figs/mohammed/'\n",
    "\n",
    "counter = 0\n",
    "for C_temp in C_list:\n",
    "\n",
    "    # Train model, get accuracy, log-loss, and confusion matrix: \n",
    "    accuracy, confusion, log_loss_var, clf = log_regression(X, Y, n_classes=2, n_splits=5, norm_method='SMOTE', C=C_temp)\n",
    "    list_accuracy.append(np.median(accuracy))\n",
    "    list_log_loss.append(np.median(log_loss_var))\n",
    "\n",
    "    # Plotting confusion matrix: \n",
    "    col_names = ['NAD', 'NADP']\n",
    "    df_confusion = pd.DataFrame(confusion, columns=col_names, index=col_names)\n",
    "\n",
    "    plt.figure(figsize=(7,7))\n",
    "    rc = {'xtick.labelsize': 22, 'ytick.labelsize': 22, 'axes.labelsize': 22}\n",
    "    sns.set(rc=rc)\n",
    "    heat = sns.heatmap(df_confusion, annot=True, linewidths=2, fmt='1.2f', square=True, annot_kws={\"fontsize\":34})\n",
    "    txt = heat.set(xlabel='PREDICTED CLASS', ylabel='TRUE CLASS')\n",
    "    plt.tight_layout()\n",
    "    plt.savefig(os.path.join(path_fig, 'NAD_NADP_conf_RAND_Y_'+str(counter)+'.png'), dpi=250)\n",
    "    counter += 1"
   ]
  },
  {
   "cell_type": "code",
   "execution_count": null,
   "metadata": {},
   "outputs": [],
   "source": [
    "title_str = 'NAD/NADP classifier\\nrandom stratification'\n",
    "file_name = 'NAD_NADP_acc_ll_random.png'\n",
    "ymax = 1\n",
    "plot_logloss_acc(C_list, list_accuracy, list_log_loss, title_str, file_name, ymax)"
   ]
  },
  {
   "cell_type": "code",
   "execution_count": null,
   "metadata": {
    "tags": []
   },
   "outputs": [],
   "source": [
    "C_list = [1e-1,1e0,1e1,1e2,1e3]\n",
    "list_accuracy = []\n",
    "list_log_loss = []\n",
    "path_fig = '../../figs/mohammed/'\n",
    "\n",
    "counter = 0\n",
    "for C_temp in C_list:\n",
    "    \n",
    "    accuracy, confusion, log_loss_var, clf = log_regression(X, Y, n_classes=2, n_splits=5, norm_method='SMOTE', C=C_temp)\n",
    "    list_accuracy.append(np.median(accuracy))\n",
    "    list_log_loss.append(np.median(log_loss_var))\n",
    "    \n",
    "    col_names = ['no sterol\\nsubstrate', 'sterol\\nsubstrate']\n",
    "    df_confusion = pd.DataFrame(confusion, columns=col_names, index=col_names)\n",
    "\n",
    "    plt.figure(figsize=(7,7))\n",
    "    rc = {'xtick.labelsize': 22, 'ytick.labelsize': 22, 'axes.labelsize': 22}\n",
    "    sns.set(rc=rc)\n",
    "    heat = sns.heatmap(df_confusion, annot=True, linewidths=2, fmt='1.2f', square=True, annot_kws={\"fontsize\":34})\n",
    "    txt = heat.set(xlabel='PREDICTED CLASS', ylabel='TRUE CLASS')\n",
    "    plt.tight_layout()\n",
    "    plt.savefig(os.path.join(path_fig, 'sterol_conf_rand_'+str(counter)+'.png'), dpi=250)\n",
    "    counter += 1\n",
    "    "
   ]
  },
  {
   "cell_type": "code",
   "execution_count": 91,
   "metadata": {},
   "outputs": [
    {
     "data": {
      "image/png": "[encoded data removed]",
      "text/plain": [
       "<Figure size 720x432 with 1 Axes>"
      ]
     },
     "metadata": {},
     "output_type": "display_data"
    }
   ],
   "source": [
    "title_str = 'sterol classifier\\n random stratification'\n",
    "file_name = 'sterol_acc_ll_random.png'\n",
    "ymax = 1\n",
    "plot_logloss_acc(C_list, list_accuracy, list_log_loss, title_str, file_name, ymax)"
   ]
  },
  {
   "cell_type": "code",
   "execution_count": null,
   "metadata": {},
   "outputs": [],
   "source": []
  }
 ],
 "metadata": {
  "kernelspec": {
   "display_name": "Python 3 (ipykernel)",
   "language": "python",
   "name": "python3"
  },
  "language_info": {
   "codemirror_mode": {
    "name": "ipython",
    "version": 3
   },
   "file_extension": ".py",
   "mimetype": "text/x-python",
   "name": "python",
   "nbconvert_exporter": "python",
   "pygments_lexer": "ipython3",
   "version": "3.8.10"
  }
 },
 "nbformat": 4,
 "nbformat_minor": 4
}
