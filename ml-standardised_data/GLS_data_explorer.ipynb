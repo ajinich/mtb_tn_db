{
 "cells": [
  {
   "cell_type": "markdown",
   "id": "cffc5703-23ad-4a34-8331-c28e35191b03",
   "metadata": {},
   "source": [
    "Testing different ways to interact with the GLS-based dataset and generate visualiations: "
   ]
  },
  {
   "cell_type": "code",
   "execution_count": 114,
   "id": "1a83e360-98d9-4651-bfe8-4dfc94660690",
   "metadata": {},
   "outputs": [],
   "source": [
    "import pandas as pd\n",
    "import os\n",
    "import numpy as np\n",
    "from statsmodels.stats.multitest import fdrcorrection\n",
    "import re"
   ]
  },
  {
   "cell_type": "code",
   "execution_count": 2,
   "id": "e4b4439c-3b12-4ff7-9e00-40c87e5f3198",
   "metadata": {},
   "outputs": [],
   "source": [
    "path_data = '/home/ajinich/Dropbox/KyuRhee/unknown_function/unknown_redox/data/GLS_TnSeq/'"
   ]
  },
  {
   "cell_type": "markdown",
   "id": "69d8f32f-fb7d-49de-9e28-78b6dcfbb786",
   "metadata": {},
   "source": [
    "## [Exercise 1]: Generate the equivalent of SI_Data-1 from the Nat. Genet. paper: "
   ]
  },
  {
   "cell_type": "markdown",
   "id": "039075d2-0fd8-4116-ae1e-8e8759fed2a7",
   "metadata": {},
   "source": [
    "Load Bonferroni-corrected p-values: "
   ]
  },
  {
   "cell_type": "code",
   "execution_count": 9,
   "id": "2dba9339-b841-43ca-9a25-6a1994fca5a2",
   "metadata": {},
   "outputs": [],
   "source": [
    "fn_p = 'GLS_p_AJ.npy'\n",
    "fn_p_path = os.path.join(path_data, fn)\n",
    "fn_genes = 'genes_AJ.txt'\n",
    "fn_genes_path = os.path.join(path_data, fn_genes)\n",
    "\n",
    "genes = pd.read_csv( fn_genes_path, header=None, squeeze=True)\n",
    "GLS_p = pd.DataFrame( np.load(fn_path), columns=genes, index=genes)\n"
   ]
  },
  {
   "cell_type": "code",
   "execution_count": 56,
   "id": "824c0609-7b31-4fa1-894a-1af62651e009",
   "metadata": {},
   "outputs": [],
   "source": [
    "# Compute and save weights for ClusterONE\n",
    "stacked_p = GLS_p.stack()\n",
    "stacked_p = stacked_p[stacked_p.index.get_level_values(0) < stacked_p.index.get_level_values(1)]\n",
    "# Bonferroni-corrected p-values: \n",
    "fdr = pd.Series(fdrcorrection(stacked_p)[1], index=stacked_p.index)"
   ]
  },
  {
   "cell_type": "markdown",
   "id": "549fda70-fa8c-46c8-8016-9311092bca07",
   "metadata": {},
   "source": [
    "Query fdr:"
   ]
  },
  {
   "cell_type": "code",
   "execution_count": 76,
   "id": "d7d1e288-fe5f-4f78-84c8-a505a3588867",
   "metadata": {},
   "outputs": [],
   "source": [
    "th = 0.001\n",
    "fdr_th = fdr[fdr.values<=th].copy()"
   ]
  },
  {
   "cell_type": "code",
   "execution_count": 63,
   "id": "e09e48d7-03f9-45d5-84c2-b4eae0830fe3",
   "metadata": {},
   "outputs": [
    {
     "data": {
      "text/plain": [
       "[('Rv0554', 'Rv2808'),\n",
       " ('Rv2808', 'Rv2930'),\n",
       " ('Rv2808', 'Rv2932'),\n",
       " ('Rv2808', 'Rv2933'),\n",
       " ('Rv2808', 'Rv2934'),\n",
       " ('Rv2808', 'Rv2939'),\n",
       " ('Rv2808', 'Rv2941'),\n",
       " ('Rv2808', 'Rv3386')]"
      ]
     },
     "execution_count": 63,
     "metadata": {},
     "output_type": "execute_result"
    }
   ],
   "source": [
    "rvid = 'Rv2808'\n",
    "[val for val in fdr_th.index.tolist() if val[0]==rvid or val[1]==rvid]"
   ]
  },
  {
   "cell_type": "markdown",
   "id": "2b644bac-f031-4d22-a366-f5f1b367c4d7",
   "metadata": {},
   "source": [
    "[WARNING]: This is probably not the right way to do it: for a given RvID_x, shows as pairs genes with RvID_y > RvID_x\n",
    "\n",
    "How do I fix that? "
   ]
  },
  {
   "cell_type": "code",
   "execution_count": null,
   "id": "fa9a4f70-f2ee-4255-9f6c-82ea25122939",
   "metadata": {},
   "outputs": [],
   "source": [
    "rvid = 'Rv2939'\n",
    "rvid_pair = [ind for ind in fdr_th.index if ind[0]==rvid or ind[1]==rvid]\n",
    "fdr_th[rvid_pair].values.tolist()"
   ]
  },
  {
   "cell_type": "code",
   "execution_count": 77,
   "id": "7db1d50b-085f-4189-99df-da751f0410a0",
   "metadata": {},
   "outputs": [],
   "source": [
    "list_lead_gene = []\n",
    "list_partner_gene = []\n",
    "list_p_fdr = []\n",
    "# rvid = 'Rv2940c'\n",
    "for rvid in genes.values.tolist():\n",
    "    rvid_pair = [ind for ind in fdr_th.index if ind[0]==rvid or ind[1]==rvid]\n",
    "    # how do I fetch the p-value for the interaction?\n",
    "    p_fdr = fdr_th[rvid_pair].values.tolist()\n",
    "    rvid_pair_sort = [(rv[0], rv[1]) if rv[0]==rvid else (rv[1], rv[0]) for rv in rvid_pair ]\n",
    "\n",
    "    lead_gene = [ rvid_pair_sort[i][0] if i==0 else '' for i in range(len(rvid_pair_sort))]\n",
    "    partner_gene = [rvid[1] for rvid in rvid_pair_sort]\n",
    "\n",
    "    list_lead_gene+=lead_gene\n",
    "    list_partner_gene+=partner_gene\n",
    "    list_p_fdr+=p_fdr"
   ]
  },
  {
   "cell_type": "code",
   "execution_count": 78,
   "id": "58722833-e5a9-4dba-b596-537bf6abc907",
   "metadata": {},
   "outputs": [],
   "source": [
    "df_interact = pd.DataFrame()\n",
    "df_interact['lead_gene'] = list_lead_gene\n",
    "df_interact['partner_gene'] = list_partner_gene\n",
    "df_interact['p_value_FDR'] = list_p_fdr\n"
   ]
  },
  {
   "cell_type": "markdown",
   "id": "2344f0b2-0a15-41bd-af20-d61ee52e073e",
   "metadata": {},
   "source": [
    "Adding more columns to this data: "
   ]
  },
  {
   "cell_type": "code",
   "execution_count": 79,
   "id": "804096f9-5efd-4fcd-a7cd-6ca72cb4b02e",
   "metadata": {},
   "outputs": [],
   "source": [
    "fn_out = 'test_SI_data_1_fdr.001.xlsx'\n",
    "fn_out_path = os.path.join(path_data, fn_out)\n",
    "df_interact.to_excel(fn_out_path, index=False)"
   ]
  },
  {
   "cell_type": "markdown",
   "id": "1ca4a869-2720-4eb7-933e-8136e43ca9bf",
   "metadata": {},
   "source": [
    "## [Exercise 2]: Generate the equivalent of SI_Data-2 from the Nat. Genet. paper: "
   ]
  },
  {
   "cell_type": "code",
   "execution_count": 106,
   "id": "2d8e2578-8a73-4899-ba2f-8875d446dd32",
   "metadata": {},
   "outputs": [
    {
     "name": "stdout",
     "output_type": "stream",
     "text": [
      "0.2 (164, 4)\n",
      "0.5 (850, 4)\n",
      "0.9 (328, 4)\n"
     ]
    }
   ],
   "source": [
    "cols = ['Cluster', 'Density', 'Size', 'Members']\n",
    "list_d = [0.2, 0.5, 0.9]\n",
    "df_cone_all = pd.DataFrame()\n",
    "for d in list_d:\n",
    "    fn = f'modules_d_{d}.csv'\n",
    "    df_cone = pd.read_csv(os.path.join(path_data, fn))[cols]\n",
    "    df_cone\n",
    "    print(d, df_cone.shape)\n",
    "    df_cone_all = pd.concat([df_cone_all, df_cone], axis=0)\n",
    "df_cone_all.reset_index(inplace = True, drop=True)\n",
    "df_cone_all['Cluster'] = range(1, df_cone_all.shape[0]+1)"
   ]
  },
  {
   "cell_type": "code",
   "execution_count": 108,
   "id": "2cbfcd0e-57c7-4a8f-a006-78f047135e06",
   "metadata": {},
   "outputs": [],
   "source": [
    "df_cone_all.drop_duplicates(subset='Members', inplace=True)"
   ]
  },
  {
   "cell_type": "markdown",
   "id": "97f00446-3764-465f-bf5c-cc053382d5a4",
   "metadata": {},
   "source": [
    "#### [PENDING]: You need to remove duplicate Clusters (different d-values)"
   ]
  },
  {
   "cell_type": "markdown",
   "id": "cff8f25c-a29e-4542-89d2-de2744add160",
   "metadata": {},
   "source": [
    "Write to file: "
   ]
  },
  {
   "cell_type": "code",
   "execution_count": 109,
   "id": "b7ac9ede-576d-4d2a-b7af-bddbcaefdbe6",
   "metadata": {},
   "outputs": [],
   "source": [
    "fn_out = 'test_SI_data_2_clustOne.xlsx'\n",
    "fn_out_path = os.path.join(path_data, fn_out)\n",
    "df_cone_all.to_excel(fn_out_path, index=False)"
   ]
  },
  {
   "cell_type": "markdown",
   "id": "1e1d9993-de16-4cda-abec-6db830061456",
   "metadata": {},
   "source": [
    "## [Exercise 3]: Given a query gene, return dataframe with genes in its cluster(s)"
   ]
  },
  {
   "cell_type": "code",
   "execution_count": 124,
   "id": "f2e726f1-7d88-406d-9b5e-fc54d86c3cc0",
   "metadata": {},
   "outputs": [],
   "source": [
    "fn_up_func = '../data/tests/uniprot-proteome_UP000001584.xlsx'\n",
    "df_up_func = pd.read_excel(fn_up_func)\n",
    "re_str = 'Rv\\d\\d\\d\\dc?'\n",
    "list_rvids = [re.findall(re_str, str_temp)[0] for str_temp in df_up_func['Gene names']]\n",
    "df_up_func['Rv_ID'] = list_rvids\n",
    "df_up_func.sort_values(by = 'Rv_ID', inplace=True)\n",
    "df_up_func['annot_int'] = [int(annot.split()[0]) for annot in df_up_func.Annotation]\n",
    "cols = ['Rv_ID', 'Gene names', 'Protein names', 'Annotation', 'Function [CC]']\n",
    "df_up_func = df_up_func[cols]\n",
    "df_up_func.reset_index(inplace = True, drop=True)"
   ]
  },
  {
   "cell_type": "code",
   "execution_count": 126,
   "id": "88ada162-7f5e-485f-bfd3-8f8eece10bc2",
   "metadata": {},
   "outputs": [
    {
     "data": {
      "text/html": [
       "<div>\n",
       "<style scoped>\n",
       "    .dataframe tbody tr th:only-of-type {\n",
       "        vertical-align: middle;\n",
       "    }\n",
       "\n",
       "    .dataframe tbody tr th {\n",
       "        vertical-align: top;\n",
       "    }\n",
       "\n",
       "    .dataframe thead th {\n",
       "        text-align: right;\n",
       "    }\n",
       "</style>\n",
       "<table border=\"1\" class=\"dataframe\">\n",
       "  <thead>\n",
       "    <tr style=\"text-align: right;\">\n",
       "      <th></th>\n",
       "      <th>Rv_ID</th>\n",
       "      <th>Gene names</th>\n",
       "      <th>Protein names</th>\n",
       "      <th>Annotation</th>\n",
       "      <th>Function [CC]</th>\n",
       "    </tr>\n",
       "  </thead>\n",
       "  <tbody>\n",
       "    <tr>\n",
       "      <th>0</th>\n",
       "      <td>Rv0001</td>\n",
       "      <td>dnaA Rv0001 MTV029.01</td>\n",
       "      <td>Chromosomal replication initiator protein DnaA</td>\n",
       "      <td>4 out of 5</td>\n",
       "      <td>FUNCTION: Plays an important role in the initi...</td>\n",
       "    </tr>\n",
       "    <tr>\n",
       "      <th>1</th>\n",
       "      <td>Rv0002</td>\n",
       "      <td>dnaN Rv0002 MTCY10H4.0 MTV029.02</td>\n",
       "      <td>Beta sliding clamp (Beta clamp) (Sliding clamp...</td>\n",
       "      <td>4 out of 5</td>\n",
       "      <td>FUNCTION: Confers DNA tethering and processivi...</td>\n",
       "    </tr>\n",
       "    <tr>\n",
       "      <th>2</th>\n",
       "      <td>Rv0003</td>\n",
       "      <td>recF Rv0003 MTCY10H4.01</td>\n",
       "      <td>DNA replication and repair protein RecF</td>\n",
       "      <td>2 out of 5</td>\n",
       "      <td>FUNCTION: The RecF protein is involved in DNA ...</td>\n",
       "    </tr>\n",
       "  </tbody>\n",
       "</table>\n",
       "</div>"
      ],
      "text/plain": [
       "    Rv_ID                        Gene names  \\\n",
       "0  Rv0001             dnaA Rv0001 MTV029.01   \n",
       "1  Rv0002  dnaN Rv0002 MTCY10H4.0 MTV029.02   \n",
       "2  Rv0003           recF Rv0003 MTCY10H4.01   \n",
       "\n",
       "                                       Protein names  Annotation  \\\n",
       "0     Chromosomal replication initiator protein DnaA  4 out of 5   \n",
       "1  Beta sliding clamp (Beta clamp) (Sliding clamp...  4 out of 5   \n",
       "2            DNA replication and repair protein RecF  2 out of 5   \n",
       "\n",
       "                                       Function [CC]  \n",
       "0  FUNCTION: Plays an important role in the initi...  \n",
       "1  FUNCTION: Confers DNA tethering and processivi...  \n",
       "2  FUNCTION: The RecF protein is involved in DNA ...  "
      ]
     },
     "execution_count": 126,
     "metadata": {},
     "output_type": "execute_result"
    }
   ],
   "source": [
    "df_up_func.head(3)"
   ]
  },
  {
   "cell_type": "code",
   "execution_count": 130,
   "id": "41bcd0fd-09d6-4185-b6ac-366e63a41a28",
   "metadata": {},
   "outputs": [],
   "source": [
    "query = 'Rv3502c'\n"
   ]
  },
  {
   "cell_type": "code",
   "execution_count": 134,
   "id": "f1d31c03-7c61-44b1-9330-5d3cd7ef1c28",
   "metadata": {},
   "outputs": [
    {
     "data": {
      "text/html": [
       "<div>\n",
       "<style scoped>\n",
       "    .dataframe tbody tr th:only-of-type {\n",
       "        vertical-align: middle;\n",
       "    }\n",
       "\n",
       "    .dataframe tbody tr th {\n",
       "        vertical-align: top;\n",
       "    }\n",
       "\n",
       "    .dataframe thead th {\n",
       "        text-align: right;\n",
       "    }\n",
       "</style>\n",
       "<table border=\"1\" class=\"dataframe\">\n",
       "  <thead>\n",
       "    <tr style=\"text-align: right;\">\n",
       "      <th></th>\n",
       "      <th>Cluster</th>\n",
       "      <th>Density</th>\n",
       "      <th>Size</th>\n",
       "      <th>Members</th>\n",
       "    </tr>\n",
       "  </thead>\n",
       "  <tbody>\n",
       "    <tr>\n",
       "      <th>6</th>\n",
       "      <td>7</td>\n",
       "      <td>0.1783</td>\n",
       "      <td>141</td>\n",
       "      <td>Rv0069c Rv0096 Rv0097 Rv0098 Rv0099 Rv0100 Rv0...</td>\n",
       "    </tr>\n",
       "  </tbody>\n",
       "</table>\n",
       "</div>"
      ],
      "text/plain": [
       "   Cluster  Density  Size                                            Members\n",
       "6        7   0.1783   141  Rv0069c Rv0096 Rv0097 Rv0098 Rv0099 Rv0100 Rv0..."
      ]
     },
     "execution_count": 134,
     "metadata": {},
     "output_type": "execute_result"
    }
   ],
   "source": [
    "df_query.head(1)"
   ]
  },
  {
   "cell_type": "code",
   "execution_count": 153,
   "id": "28775da8-d305-4aeb-8797-8f952c910200",
   "metadata": {},
   "outputs": [],
   "source": [
    "path_out = os.path.join(path_data, 'Rv_ID_clusters')\n",
    "\n",
    "\n",
    "for query in df_up_func.Rv_ID.tolist():\n",
    "\n",
    "    fn_out = query+'_clusters.xlsx'\n",
    "    fn_out_path = os.path.join(path_out, fn_out)\n",
    "    df_query = df_cone_all[df_cone_all.Members.str.contains(query)].copy()\n",
    "    \n",
    "    with pd.ExcelWriter(fn_out_path) as writer:  \n",
    "\n",
    "        for index, row in df_query.iterrows():\n",
    "            df_temp = pd.DataFrame()\n",
    "            list_members = row.Members.split()\n",
    "            list_cluster = [row.Cluster]*len(list_members)\n",
    "            df_temp['Cluster'] = list_cluster\n",
    "            df_temp['Rv_ID'] = list_members\n",
    "            # Add UniProt annotation info:\n",
    "            df_temp_func = df_temp.merge(df_up_func, how = 'left', on = 'Rv_ID').sort_values(by = 'Annotation', ascending=False)\n",
    "            df_temp_func.reset_index(inplace=True, drop=True)\n",
    "            df_temp_func.to_excel(writer, sheet_name='cluster_'+str(row.Cluster), index=False)\n"
   ]
  },
  {
   "cell_type": "code",
   "execution_count": null,
   "id": "e4cc686a-dd42-4848-a087-cd3f273f521e",
   "metadata": {},
   "outputs": [],
   "source": []
  }
 ],
 "metadata": {
  "kernelspec": {
   "display_name": "Python 3 (ipykernel)",
   "language": "python",
   "name": "python3"
  },
  "language_info": {
   "codemirror_mode": {
    "name": "ipython",
    "version": 3
   },
   "file_extension": ".py",
   "mimetype": "text/x-python",
   "name": "python",
   "nbconvert_exporter": "python",
   "pygments_lexer": "ipython3",
   "version": "3.8.10"
  }
 },
 "nbformat": 4,
 "nbformat_minor": 5
}
