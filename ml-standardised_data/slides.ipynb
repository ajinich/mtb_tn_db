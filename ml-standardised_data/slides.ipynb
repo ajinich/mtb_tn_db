{
 "cells": [
  {
   "cell_type": "code",
   "execution_count": 8,
   "id": "3da02729-019d-4bc5-91be-9001b871310f",
   "metadata": {},
   "outputs": [
    {
     "data": {
      "text/html": [
       "<iframe src=\"https://transformer.huggingface.co/doc/gpt2-large\" width=\"1500\" height=\"500\"></iframe>\n"
      ],
      "text/plain": [
       "<IPython.core.display.HTML object>"
      ]
     },
     "metadata": {},
     "output_type": "display_data"
    }
   ],
   "source": [
    "%%html\n",
    "<iframe src=\"https://transformer.huggingface.co/doc/gpt2-large\" width=\"1500\" height=\"500\"></iframe>"
   ]
  },
  {
   "cell_type": "code",
   "execution_count": null,
   "id": "8880bf49-bb1c-4043-bb7b-b04c04fad2ea",
   "metadata": {},
   "outputs": [],
   "source": []
  }
 ],
 "metadata": {
  "kernelspec": {
   "display_name": "Python 3 (ipykernel)",
   "language": "python",
   "name": "python3"
  },
  "language_info": {
   "codemirror_mode": {
    "name": "ipython",
    "version": 3
   },
   "file_extension": ".py",
   "mimetype": "text/x-python",
   "name": "python",
   "nbconvert_exporter": "python",
   "pygments_lexer": "ipython3",
   "version": "3.8.10"
  }
 },
 "nbformat": 4,
 "nbformat_minor": 5
}
