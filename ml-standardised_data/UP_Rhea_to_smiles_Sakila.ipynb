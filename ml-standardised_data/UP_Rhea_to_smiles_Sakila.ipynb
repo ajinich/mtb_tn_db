{
 "cells": [
  {
   "cell_type": "markdown",
   "metadata": {},
   "source": [
    "# Imports: "
   ]
  },
  {
   "cell_type": "code",
   "execution_count": 1,
   "metadata": {},
   "outputs": [
    {
     "ename": "ModuleNotFoundError",
     "evalue": "No module named 'rdflib'",
     "output_type": "error",
     "traceback": [
      "\u001b[0;31m---------------------------------------------------------------------------\u001b[0m",
      "\u001b[0;31mModuleNotFoundError\u001b[0m                       Traceback (most recent call last)",
      "\u001b[0;32m/tmp/ipykernel_43361/3084908420.py\u001b[0m in \u001b[0;36m<module>\u001b[0;34m\u001b[0m\n\u001b[1;32m      1\u001b[0m \u001b[0;32mimport\u001b[0m \u001b[0mpandas\u001b[0m \u001b[0;32mas\u001b[0m \u001b[0mpd\u001b[0m\u001b[0;34m\u001b[0m\u001b[0;34m\u001b[0m\u001b[0m\n\u001b[0;32m----> 2\u001b[0;31m \u001b[0;32mimport\u001b[0m \u001b[0mrdflib\u001b[0m\u001b[0;34m\u001b[0m\u001b[0;34m\u001b[0m\u001b[0m\n\u001b[0m\u001b[1;32m      3\u001b[0m \u001b[0;32mimport\u001b[0m \u001b[0mos\u001b[0m\u001b[0;34m\u001b[0m\u001b[0;34m\u001b[0m\u001b[0m\n",
      "\u001b[0;31mModuleNotFoundError\u001b[0m: No module named 'rdflib'"
     ]
    }
   ],
   "source": [
    "import pandas as pd\n",
    "import rdflib\n",
    "import os"
   ]
  },
  {
   "cell_type": "code",
   "execution_count": 3,
   "metadata": {},
   "outputs": [],
   "source": [
    "from rdflib import Graph, Literal, RDF, URIRef\n",
    "from rdflib.namespace import FOAF, XSD"
   ]
  },
  {
   "cell_type": "markdown",
   "metadata": {},
   "source": [
    "This script is to take the MTb proteome and fetch the RheaID for each gene. We then use the rhea_Test to fetch the ChebiID and the smiles string from the Rhea ID for each. "
   ]
  },
  {
   "cell_type": "markdown",
   "metadata": {},
   "source": [
    "# Functions: "
   ]
  },
  {
   "cell_type": "code",
   "execution_count": 4,
   "metadata": {},
   "outputs": [],
   "source": [
    "def get_chebi_side_rxn(rxn_id_side): \n",
    "    \n",
    "    list_part_comps = []\n",
    "    for obj in g.objects(rxn_id_side, contains_pred):\n",
    "        list_part_comps.append(obj)\n",
    "\n",
    "    list_comps = []\n",
    "    for part_comp in list_part_comps:\n",
    "        for obj in g.objects(part_comp, compound_pred):\n",
    "            list_comps.append(obj)\n",
    "\n",
    "#     list_chebi = []\n",
    "#     for comp in list_comps:\n",
    "#         for obj in g.objects(comp, accession_pred):\n",
    "#             list_chebi.append(obj)\n",
    "\n",
    "    list_chebi = []\n",
    "    for comp in list_comps:\n",
    "        for obj in g.objects(comp, accession_pred):\n",
    "\n",
    "            if (str(obj).split(':')[0] == 'GENERIC'):\n",
    "                print('WARNING: generic compound')\n",
    "\n",
    "                list_reactive = []\n",
    "                for obj in g.objects(comp, reactive_part_pred):\n",
    "                    list_reactive.append(obj)\n",
    "\n",
    "                for reactive in list_reactive:\n",
    "                    for obj in g.objects(reactive, chebi_pred):\n",
    "                          list_chebi.append(str(obj).split('/')[-1])\n",
    "\n",
    "            else:\n",
    "                list_chebi.append( '_'.join(str(obj).split(':')) )\n",
    "    \n",
    "    return list_chebi"
   ]
  },
  {
   "cell_type": "code",
   "execution_count": 5,
   "metadata": {},
   "outputs": [],
   "source": [
    "def get_chebi_from_rhea_ID(RHEA_id):\n",
    "\n",
    "    rxn_id = URIRef(rh+RHEA_id)\n",
    "    rxn_id_L = URIRef(rh+RHEA_id+'_L')\n",
    "    rxn_id_R = URIRef(rh+RHEA_id+'_R')\n",
    "\n",
    "    list_chebi_L = get_chebi_side_rxn(rxn_id_L)\n",
    "    list_chebi_R = get_chebi_side_rxn(rxn_id_R)\n",
    "            \n",
    "    return list_chebi_L, list_chebi_R"
   ]
  },
  {
   "cell_type": "markdown",
   "metadata": {},
   "source": [
    "# Parameters: "
   ]
  },
  {
   "cell_type": "code",
   "execution_count": 6,
   "metadata": {},
   "outputs": [],
   "source": [
    "rh = 'http://rdf.rhea-db.org/'\n",
    "# predicates: \n",
    "substrates_pred = URIRef(rh+'substrates')\n",
    "contains_pred = URIRef(rh+'contains')\n",
    "contains1_pred = URIRef(rh+'contains1')\n",
    "accession_pred = URIRef(rh+'accession')\n",
    "compound_pred = URIRef(rh+'compound')\n",
    "side_pred = URIRef(rh+'side')\n",
    "directional_pred = URIRef(rh+'directionalReaction')\n",
    "\n",
    "reactive_part_pred = URIRef(rh+'reactivePart')\n",
    "chebi_pred = URIRef(rh+'chebi')"
   ]
  },
  {
   "cell_type": "code",
   "execution_count": 7,
   "metadata": {},
   "outputs": [],
   "source": [
    "# CHEBI:16526 = CO2\n",
    "# 'CHEBI_57945' = , 'CHEBI_15378' = , 'CHEBI_57540' = , 'CHEBI_58349' = , 'CHEBI_57783 = '\n",
    "cofactor_IDS = ['CHEBI_57945', 'CHEBI_15378', 'CHEBI_57540', 'CHEBI_58349', 'CHEBI_57783', 'CHEBI_16526']"
   ]
  },
  {
   "cell_type": "markdown",
   "metadata": {},
   "source": [
    "# Read in files: "
   ]
  },
  {
   "cell_type": "markdown",
   "metadata": {},
   "source": [
    "#### Rhea database: "
   ]
  },
  {
   "cell_type": "code",
   "execution_count": 8,
   "metadata": {},
   "outputs": [
    {
     "name": "stdout",
     "output_type": "stream",
     "text": [
      "1327346\n"
     ]
    }
   ],
   "source": [
    "path = '../../data/mohammed/rhea_test/'\n",
    "file_in = os.path.join(path, 'rhea.rdf') \n",
    "\n",
    "# create a Graph\n",
    "g = rdflib.Graph()\n",
    "result = g.parse(file_in)\n",
    "\n",
    "print(len(g))"
   ]
  },
  {
   "cell_type": "markdown",
   "metadata": {},
   "source": [
    "#### ChEBI-to-SMILES database: "
   ]
  },
  {
   "cell_type": "code",
   "execution_count": 22,
   "metadata": {},
   "outputs": [
    {
     "data": {
      "text/plain": [
       "2340334"
      ]
     },
     "execution_count": 22,
     "metadata": {},
     "output_type": "execute_result"
    }
   ],
   "source": [
    "file_chebi = os.path.join(path, 'chebi.owl')\n",
    "# create a Graph\n",
    "g_chebi = rdflib.Graph()\n",
    "result_chebi = g_chebi.parse(file_chebi)\n",
    "\n",
    "len(g_chebi)"
   ]
  },
  {
   "cell_type": "markdown",
   "metadata": {},
   "source": [
    "#### UniProt-to-Rhea dataset:\n",
    "This was generated in the notebook \"EDA_rhea.ipynb\"\n",
    "\n",
    "This dataframe has the UniProt ID's for all proteins with:\n",
    "1. annotation score 4 or 5, and \n",
    "2. length <= 500 residues"
   ]
  },
  {
   "cell_type": "code",
   "execution_count": 9,
   "metadata": {},
   "outputs": [
    {
     "data": {
      "text/html": [
       "<div>\n",
       "<style scoped>\n",
       "    .dataframe tbody tr th:only-of-type {\n",
       "        vertical-align: middle;\n",
       "    }\n",
       "\n",
       "    .dataframe tbody tr th {\n",
       "        vertical-align: top;\n",
       "    }\n",
       "\n",
       "    .dataframe thead th {\n",
       "        text-align: right;\n",
       "    }\n",
       "</style>\n",
       "<table border=\"1\" class=\"dataframe\">\n",
       "  <thead>\n",
       "    <tr style=\"text-align: right;\">\n",
       "      <th></th>\n",
       "      <th>Entry</th>\n",
       "      <th>RheaID</th>\n",
       "    </tr>\n",
       "  </thead>\n",
       "  <tbody>\n",
       "    <tr>\n",
       "      <th>0</th>\n",
       "      <td>P21964</td>\n",
       "      <td>17877</td>\n",
       "    </tr>\n",
       "    <tr>\n",
       "      <th>1</th>\n",
       "      <td>P21964</td>\n",
       "      <td>17878</td>\n",
       "    </tr>\n",
       "  </tbody>\n",
       "</table>\n",
       "</div>"
      ],
      "text/plain": [
       "    Entry RheaID\n",
       "0  P21964  17877\n",
       "1  P21964  17878"
      ]
     },
     "execution_count": 9,
     "metadata": {},
     "output_type": "execute_result"
    }
   ],
   "source": [
    "# file_in = '../../data/mohammed/rhea_test/up_to_rhea_sdr_45.csv'\n",
    "file_in = '../../data/mohammed/rhea_test/up_to_rhea_SAM_45.csv'\n",
    "df_45_l_rhea = pd.read_csv(file_in)\n",
    "df_45_l_rhea.head(2)"
   ]
  },
  {
   "cell_type": "markdown",
   "metadata": {},
   "source": [
    "# Part I: Mapping Rhea-to-ChEBI: "
   ]
  },
  {
   "cell_type": "markdown",
   "metadata": {},
   "source": [
    "##### Get unique Rhea reaction IDs:"
   ]
  },
  {
   "cell_type": "code",
   "execution_count": 10,
   "metadata": {},
   "outputs": [
    {
     "data": {
      "text/plain": [
       "361"
      ]
     },
     "execution_count": 10,
     "metadata": {},
     "output_type": "execute_result"
    }
   ],
   "source": [
    "list_rhea_IDs = df_45_l_rhea.RheaID.unique().tolist()\n",
    "len(list_rhea_IDs)"
   ]
  },
  {
   "cell_type": "markdown",
   "metadata": {},
   "source": [
    "##### Map Rhea reaction ID's to ChEBI substrate/product ID's: "
   ]
  },
  {
   "cell_type": "markdown",
   "metadata": {},
   "source": [
    "[QUESTION]: What does the \"generic compound\" WARNING mean? "
   ]
  },
  {
   "cell_type": "code",
   "execution_count": 11,
   "metadata": {
    "collapsed": true,
    "jupyter": {
     "outputs_hidden": true
    },
    "tags": []
   },
   "outputs": [
    {
     "name": "stdout",
     "output_type": "stream",
     "text": [
      "WARNING: generic compound\n",
      "WARNING: generic compound\n",
      "WARNING: generic compound\n",
      "WARNING: generic compound\n",
      "WARNING: generic compound\n",
      "WARNING: generic compound\n",
      "WARNING: generic compound\n",
      "WARNING: generic compound\n",
      "WARNING: generic compound\n",
      "WARNING: generic compound\n",
      "WARNING: generic compound\n",
      "WARNING: generic compound\n",
      "WARNING: generic compound\n",
      "WARNING: generic compound\n",
      "WARNING: generic compound\n",
      "WARNING: generic compound\n",
      "WARNING: generic compound\n",
      "WARNING: generic compound\n",
      "WARNING: generic compound\n",
      "WARNING: generic compound\n",
      "WARNING: generic compound\n",
      "WARNING: generic compound\n",
      "WARNING: generic compound\n",
      "WARNING: generic compound\n",
      "WARNING: generic compound\n",
      "WARNING: generic compound\n",
      "WARNING: generic compound\n",
      "WARNING: generic compound\n",
      "WARNING: generic compound\n",
      "WARNING: generic compound\n",
      "WARNING: generic compound\n",
      "WARNING: generic compound\n",
      "WARNING: generic compound\n",
      "WARNING: generic compound\n",
      "WARNING: generic compound\n",
      "WARNING: generic compound\n",
      "WARNING: generic compound\n",
      "WARNING: generic compound\n",
      "WARNING: generic compound\n",
      "WARNING: generic compound\n",
      "WARNING: generic compound\n",
      "WARNING: generic compound\n",
      "WARNING: generic compound\n",
      "WARNING: generic compound\n",
      "WARNING: generic compound\n",
      "WARNING: generic compound\n",
      "WARNING: generic compound\n",
      "WARNING: generic compound\n",
      "WARNING: generic compound\n",
      "WARNING: generic compound\n",
      "WARNING: generic compound\n",
      "WARNING: generic compound\n",
      "WARNING: generic compound\n",
      "WARNING: generic compound\n",
      "WARNING: generic compound\n",
      "WARNING: generic compound\n",
      "WARNING: generic compound\n",
      "WARNING: generic compound\n",
      "WARNING: generic compound\n",
      "WARNING: generic compound\n",
      "WARNING: generic compound\n",
      "WARNING: generic compound\n",
      "WARNING: generic compound\n",
      "WARNING: generic compound\n",
      "WARNING: generic compound\n",
      "WARNING: generic compound\n",
      "WARNING: generic compound\n",
      "WARNING: generic compound\n",
      "WARNING: generic compound\n",
      "WARNING: generic compound\n",
      "WARNING: generic compound\n",
      "WARNING: generic compound\n",
      "WARNING: generic compound\n",
      "WARNING: generic compound\n",
      "WARNING: generic compound\n",
      "WARNING: generic compound\n",
      "WARNING: generic compound\n",
      "WARNING: generic compound\n",
      "WARNING: generic compound\n",
      "WARNING: generic compound\n",
      "WARNING: generic compound\n",
      "WARNING: generic compound\n",
      "WARNING: generic compound\n",
      "WARNING: generic compound\n",
      "WARNING: generic compound\n",
      "WARNING: generic compound\n",
      "WARNING: generic compound\n",
      "WARNING: generic compound\n",
      "WARNING: generic compound\n",
      "WARNING: generic compound\n",
      "WARNING: generic compound\n",
      "WARNING: generic compound\n",
      "WARNING: generic compound\n",
      "WARNING: generic compound\n",
      "WARNING: generic compound\n",
      "WARNING: generic compound\n",
      "WARNING: generic compound\n",
      "WARNING: generic compound\n",
      "WARNING: generic compound\n",
      "WARNING: generic compound\n",
      "WARNING: generic compound\n",
      "WARNING: generic compound\n",
      "WARNING: generic compound\n",
      "WARNING: generic compound\n",
      "WARNING: generic compound\n",
      "WARNING: generic compound\n",
      "WARNING: generic compound\n",
      "WARNING: generic compound\n",
      "WARNING: generic compound\n",
      "WARNING: generic compound\n",
      "WARNING: generic compound\n",
      "WARNING: generic compound\n",
      "WARNING: generic compound\n",
      "WARNING: generic compound\n",
      "WARNING: generic compound\n",
      "WARNING: generic compound\n",
      "WARNING: generic compound\n",
      "WARNING: generic compound\n",
      "WARNING: generic compound\n",
      "WARNING: generic compound\n",
      "WARNING: generic compound\n",
      "WARNING: generic compound\n",
      "WARNING: generic compound\n",
      "WARNING: generic compound\n",
      "WARNING: generic compound\n",
      "WARNING: generic compound\n",
      "WARNING: generic compound\n",
      "WARNING: generic compound\n",
      "WARNING: generic compound\n",
      "WARNING: generic compound\n",
      "WARNING: generic compound\n",
      "WARNING: generic compound\n",
      "WARNING: generic compound\n",
      "WARNING: generic compound\n",
      "WARNING: generic compound\n",
      "WARNING: generic compound\n",
      "WARNING: generic compound\n",
      "WARNING: generic compound\n",
      "WARNING: generic compound\n",
      "WARNING: generic compound\n",
      "WARNING: generic compound\n",
      "WARNING: generic compound\n",
      "WARNING: generic compound\n",
      "WARNING: generic compound\n",
      "WARNING: generic compound\n",
      "WARNING: generic compound\n",
      "WARNING: generic compound\n",
      "WARNING: generic compound\n",
      "WARNING: generic compound\n",
      "WARNING: generic compound\n",
      "WARNING: generic compound\n",
      "WARNING: generic compound\n",
      "WARNING: generic compound\n",
      "WARNING: generic compound\n",
      "WARNING: generic compound\n",
      "WARNING: generic compound\n",
      "WARNING: generic compound\n",
      "WARNING: generic compound\n",
      "WARNING: generic compound\n",
      "WARNING: generic compound\n",
      "WARNING: generic compound\n",
      "WARNING: generic compound\n",
      "WARNING: generic compound\n",
      "WARNING: generic compound\n",
      "WARNING: generic compound\n",
      "WARNING: generic compound\n",
      "WARNING: generic compound\n",
      "WARNING: generic compound\n",
      "WARNING: generic compound\n",
      "WARNING: generic compound\n",
      "WARNING: generic compound\n",
      "WARNING: generic compound\n",
      "WARNING: generic compound\n",
      "WARNING: generic compound\n",
      "WARNING: generic compound\n",
      "WARNING: generic compound\n",
      "WARNING: generic compound\n",
      "WARNING: generic compound\n",
      "WARNING: generic compound\n",
      "WARNING: generic compound\n",
      "WARNING: generic compound\n",
      "WARNING: generic compound\n",
      "WARNING: generic compound\n",
      "WARNING: generic compound\n",
      "WARNING: generic compound\n",
      "WARNING: generic compound\n",
      "WARNING: generic compound\n",
      "WARNING: generic compound\n",
      "WARNING: generic compound\n",
      "WARNING: generic compound\n",
      "WARNING: generic compound\n",
      "WARNING: generic compound\n",
      "WARNING: generic compound\n",
      "WARNING: generic compound\n",
      "WARNING: generic compound\n",
      "WARNING: generic compound\n",
      "WARNING: generic compound\n",
      "WARNING: generic compound\n",
      "WARNING: generic compound\n",
      "WARNING: generic compound\n",
      "WARNING: generic compound\n",
      "WARNING: generic compound\n",
      "WARNING: generic compound\n",
      "WARNING: generic compound\n",
      "WARNING: generic compound\n",
      "WARNING: generic compound\n",
      "WARNING: generic compound\n",
      "WARNING: generic compound\n",
      "WARNING: generic compound\n",
      "WARNING: generic compound\n",
      "WARNING: generic compound\n",
      "WARNING: generic compound\n",
      "WARNING: generic compound\n",
      "WARNING: generic compound\n",
      "WARNING: generic compound\n",
      "WARNING: generic compound\n",
      "WARNING: generic compound\n",
      "WARNING: generic compound\n",
      "WARNING: generic compound\n",
      "WARNING: generic compound\n",
      "WARNING: generic compound\n",
      "WARNING: generic compound\n",
      "WARNING: generic compound\n",
      "WARNING: generic compound\n",
      "WARNING: generic compound\n",
      "WARNING: generic compound\n"
     ]
    }
   ],
   "source": [
    "list_chebi_LR_ALL = []\n",
    "list_rhea_IDs_ALL = []\n",
    "list_type_ALL = []\n",
    "\n",
    "for RHEA_id in list_rhea_IDs: # for each Rhea reaction ID: \n",
    "    list_chebi_L, list_chebi_R = get_chebi_from_rhea_ID(RHEA_id) # Get left and right compounds\n",
    "#     list_chebi_L = ['_'.join(str(chebi).split(':')) for chebi in list_chebi_L if str(chebi) not in cofactor_IDS]\n",
    "#     list_chebi_R = ['_'.join(str(chebi).split(':')) for chebi in list_chebi_R if str(chebi) not in cofactor_IDS]\n",
    "    # In this version, we don't discard the cofactors --> this might be important information to \"learn\" from the protein sequences. \n",
    "    list_chebi_L = ['_'.join(str(chebi).split(':')) for chebi in list_chebi_L ]\n",
    "    list_chebi_R = ['_'.join(str(chebi).split(':')) for chebi in list_chebi_R ]\n",
    "    \n",
    "    list_chebi_LR_ALL += list_chebi_L\n",
    "    list_chebi_LR_ALL += list_chebi_R\n",
    "    \n",
    "    list_rhea_IDs_ALL += [RHEA_id]*len(list_chebi_L)\n",
    "    list_rhea_IDs_ALL += [RHEA_id]*len(list_chebi_R)\n",
    "    \n",
    "    list_type_ALL += ['LEFT']*len(list_chebi_L)\n",
    "    list_type_ALL += ['RIGHT']*len(list_chebi_R)\n"
   ]
  },
  {
   "cell_type": "markdown",
   "metadata": {},
   "source": [
    "Store in dataframe: "
   ]
  },
  {
   "cell_type": "code",
   "execution_count": 12,
   "metadata": {},
   "outputs": [],
   "source": [
    "df_Rhea_ChEBI = pd.DataFrame()\n",
    "df_Rhea_ChEBI['RheaID'] = list_rhea_IDs_ALL\n",
    "df_Rhea_ChEBI['type'] = list_type_ALL\n",
    "df_Rhea_ChEBI['ChEBI'] = list_chebi_LR_ALL"
   ]
  },
  {
   "cell_type": "code",
   "execution_count": 13,
   "metadata": {},
   "outputs": [
    {
     "data": {
      "text/plain": [
       "(1384, 3)"
      ]
     },
     "execution_count": 13,
     "metadata": {},
     "output_type": "execute_result"
    }
   ],
   "source": [
    "df_Rhea_ChEBI.shape"
   ]
  },
  {
   "cell_type": "markdown",
   "metadata": {},
   "source": [
    "#### Merging the two dataframes? \n",
    "1. The UniProt to RheaID mappings (\"df_45_l_rhea\"), with\n",
    "2. The RheaID to ChEBI compound ID mappings: "
   ]
  },
  {
   "cell_type": "code",
   "execution_count": 16,
   "metadata": {},
   "outputs": [
    {
     "name": "stdout",
     "output_type": "stream",
     "text": [
      "(6036, 4)\n"
     ]
    },
    {
     "data": {
      "text/html": [
       "<div>\n",
       "<style scoped>\n",
       "    .dataframe tbody tr th:only-of-type {\n",
       "        vertical-align: middle;\n",
       "    }\n",
       "\n",
       "    .dataframe tbody tr th {\n",
       "        vertical-align: top;\n",
       "    }\n",
       "\n",
       "    .dataframe thead th {\n",
       "        text-align: right;\n",
       "    }\n",
       "</style>\n",
       "<table border=\"1\" class=\"dataframe\">\n",
       "  <thead>\n",
       "    <tr style=\"text-align: right;\">\n",
       "      <th></th>\n",
       "      <th>Entry</th>\n",
       "      <th>RheaID</th>\n",
       "      <th>type</th>\n",
       "      <th>ChEBI</th>\n",
       "    </tr>\n",
       "  </thead>\n",
       "  <tbody>\n",
       "    <tr>\n",
       "      <th>0</th>\n",
       "      <td>P21964</td>\n",
       "      <td>17877</td>\n",
       "      <td>LEFT</td>\n",
       "      <td>CHEBI_33566</td>\n",
       "    </tr>\n",
       "    <tr>\n",
       "      <th>1</th>\n",
       "      <td>P21964</td>\n",
       "      <td>17877</td>\n",
       "      <td>LEFT</td>\n",
       "      <td>CHEBI_59789</td>\n",
       "    </tr>\n",
       "    <tr>\n",
       "      <th>2</th>\n",
       "      <td>P21964</td>\n",
       "      <td>17877</td>\n",
       "      <td>RIGHT</td>\n",
       "      <td>CHEBI_134251</td>\n",
       "    </tr>\n",
       "    <tr>\n",
       "      <th>3</th>\n",
       "      <td>P21964</td>\n",
       "      <td>17877</td>\n",
       "      <td>RIGHT</td>\n",
       "      <td>CHEBI_15378</td>\n",
       "    </tr>\n",
       "    <tr>\n",
       "      <th>4</th>\n",
       "      <td>P21964</td>\n",
       "      <td>17877</td>\n",
       "      <td>RIGHT</td>\n",
       "      <td>CHEBI_57856</td>\n",
       "    </tr>\n",
       "  </tbody>\n",
       "</table>\n",
       "</div>"
      ],
      "text/plain": [
       "    Entry RheaID   type         ChEBI\n",
       "0  P21964  17877   LEFT   CHEBI_33566\n",
       "1  P21964  17877   LEFT   CHEBI_59789\n",
       "2  P21964  17877  RIGHT  CHEBI_134251\n",
       "3  P21964  17877  RIGHT   CHEBI_15378\n",
       "4  P21964  17877  RIGHT   CHEBI_57856"
      ]
     },
     "execution_count": 16,
     "metadata": {},
     "output_type": "execute_result"
    }
   ],
   "source": [
    "df_45_l_rhea_chebi = df_45_l_rhea.merge(df_Rhea_ChEBI, on = 'RheaID', how = 'inner')\n",
    "print(df_45_l_rhea_chebi.shape)\n",
    "df_45_l_rhea_chebi.head(5)"
   ]
  },
  {
   "cell_type": "markdown",
   "metadata": {},
   "source": [
    "#### Mini-excercise: \n",
    "These are the Rhea reactions in the database, ranked by how often they appear? \n",
    "What can we learn from this? "
   ]
  },
  {
   "cell_type": "code",
   "execution_count": 18,
   "metadata": {},
   "outputs": [
    {
     "data": {
      "text/plain": [
       "28286    1250\n",
       "42640    1230\n",
       "48096     115\n",
       "12721      80\n",
       "17877      80\n",
       "24604      60\n",
       "54724      55\n",
       "54712      55\n",
       "54736      55\n",
       "42708      52\n",
       "20225      50\n",
       "15573      50\n",
       "50904      45\n",
       "43152      45\n",
       "36899      45\n",
       "Name: RheaID, dtype: int64"
      ]
     },
     "execution_count": 18,
     "metadata": {},
     "output_type": "execute_result"
    }
   ],
   "source": [
    "df_45_l_rhea_chebi.RheaID.value_counts().head(15)"
   ]
  },
  {
   "cell_type": "markdown",
   "metadata": {},
   "source": [
    "### ChEBI compound ID's to SMILES: "
   ]
  },
  {
   "cell_type": "code",
   "execution_count": 19,
   "metadata": {},
   "outputs": [],
   "source": [
    "uri = 'http://purl.obolibrary.org/obo/'\n",
    "\n",
    "# rdf relevant predicates: \n",
    "smiles_pred = URIRef(uri+'chebi/smiles')"
   ]
  },
  {
   "cell_type": "code",
   "execution_count": 443,
   "metadata": {},
   "outputs": [],
   "source": [
    "chebi_id = 'CHEBI_58349'\n",
    "chebi_id_uri = URIRef(uri+chebi_id)\n",
    "list_smiles = []\n",
    "for obj in g_chebi.objects(chebi_id_uri, smiles_pred):\n",
    "    list_smiles.append(str(obj)) "
   ]
  },
  {
   "cell_type": "code",
   "execution_count": 444,
   "metadata": {},
   "outputs": [
    {
     "data": {
      "text/plain": [
       "['NC(=O)c1ccc[n+](c1)[C@@H]1O[C@H](COP([O-])(=O)OP([O-])(=O)OC[C@H]2O[C@H]([C@H](OP([O-])([O-])=O)[C@@H]2O)n2cnc3c(N)ncnc23)[C@@H](O)[C@H]1O']"
      ]
     },
     "execution_count": 444,
     "metadata": {},
     "output_type": "execute_result"
    }
   ],
   "source": [
    "list_smiles"
   ]
  },
  {
   "cell_type": "code",
   "execution_count": 25,
   "metadata": {},
   "outputs": [
    {
     "data": {
      "text/plain": [
       "399"
      ]
     },
     "execution_count": 25,
     "metadata": {},
     "output_type": "execute_result"
    }
   ],
   "source": [
    "list_chebi = df_45_l_rhea_chebi.ChEBI.unique().tolist()\n",
    "len(list_chebi)"
   ]
  },
  {
   "cell_type": "code",
   "execution_count": 30,
   "metadata": {},
   "outputs": [
    {
     "name": "stdout",
     "output_type": "stream",
     "text": [
      "POLYMER_10930 zero smiles\n",
      "POLYMER_10931 zero smiles\n",
      "POLYMER_10914 zero smiles\n",
      "POLYMER_9566 zero smiles\n",
      "POLYMER_9550 zero smiles\n",
      "POLYMER_9551 zero smiles\n",
      "POLYMER_10858 zero smiles\n",
      "POLYMER_10859 zero smiles\n",
      "POLYMER_9563 zero smiles\n",
      "POLYMER_9539 zero smiles\n"
     ]
    }
   ],
   "source": [
    "list_smiles_ALL = []\n",
    "for chebi_id in list_chebi:\n",
    "    \n",
    "    chebi_id_uri = URIRef(uri+chebi_id)\n",
    "\n",
    "    list_smiles = []\n",
    "    for obj in g_chebi.objects(chebi_id_uri, smiles_pred):\n",
    "        list_smiles.append(str(obj)) \n",
    "\n",
    "    if len(list_smiles)==0:\n",
    "        print(chebi_id, 'zero smiles')\n",
    "        list_smiles.append('NaN')\n",
    "    if len(list_smiles)>1:\n",
    "        print(chebi_id, 'more than 1 smiles')\n",
    "        \n",
    "    list_smiles_ALL+=list_smiles\n",
    "        "
   ]
  },
  {
   "cell_type": "code",
   "execution_count": 29,
   "metadata": {},
   "outputs": [
    {
     "data": {
      "text/plain": [
       "['OC1=C(O)C(*)=C(*)C(*)=C1*',\n",
       " 'C[S+](CC[C@H]([NH3+])C([O-])=O)C[C@H]1O[C@H]([C@H](O)[C@@H]1O)n1cnc2c(N)ncnc12',\n",
       " 'C1(=C(C(=C(C(=C1*)*)*)OC)O)*',\n",
       " '[H+]',\n",
       " 'Nc1ncnc2n(cnc12)[C@@H]1O[C@H](CSCC[C@H]([NH3+])C([O-])=O)[C@@H](O)[C@H]1O']"
      ]
     },
     "execution_count": 29,
     "metadata": {},
     "output_type": "execute_result"
    }
   ],
   "source": [
    "list_smiles_ALL[:5]"
   ]
  },
  {
   "cell_type": "code",
   "execution_count": 31,
   "metadata": {},
   "outputs": [
    {
     "data": {
      "text/html": [
       "<div>\n",
       "<style scoped>\n",
       "    .dataframe tbody tr th:only-of-type {\n",
       "        vertical-align: middle;\n",
       "    }\n",
       "\n",
       "    .dataframe tbody tr th {\n",
       "        vertical-align: top;\n",
       "    }\n",
       "\n",
       "    .dataframe thead th {\n",
       "        text-align: right;\n",
       "    }\n",
       "</style>\n",
       "<table border=\"1\" class=\"dataframe\">\n",
       "  <thead>\n",
       "    <tr style=\"text-align: right;\">\n",
       "      <th></th>\n",
       "      <th>ChEBI</th>\n",
       "      <th>smiles</th>\n",
       "    </tr>\n",
       "  </thead>\n",
       "  <tbody>\n",
       "    <tr>\n",
       "      <th>0</th>\n",
       "      <td>CHEBI_33566</td>\n",
       "      <td>OC1=C(O)C(*)=C(*)C(*)=C1*</td>\n",
       "    </tr>\n",
       "    <tr>\n",
       "      <th>1</th>\n",
       "      <td>CHEBI_59789</td>\n",
       "      <td>C[S+](CC[C@H]([NH3+])C([O-])=O)C[C@H]1O[C@H]([...</td>\n",
       "    </tr>\n",
       "  </tbody>\n",
       "</table>\n",
       "</div>"
      ],
      "text/plain": [
       "         ChEBI                                             smiles\n",
       "0  CHEBI_33566                          OC1=C(O)C(*)=C(*)C(*)=C1*\n",
       "1  CHEBI_59789  C[S+](CC[C@H]([NH3+])C([O-])=O)C[C@H]1O[C@H]([..."
      ]
     },
     "execution_count": 31,
     "metadata": {},
     "output_type": "execute_result"
    }
   ],
   "source": [
    "df_chebi_smiles = pd.DataFrame()\n",
    "df_chebi_smiles['ChEBI'] = list_chebi\n",
    "df_chebi_smiles['smiles'] = list_smiles_ALL\n",
    "df_chebi_smiles.head(2)"
   ]
  },
  {
   "cell_type": "code",
   "execution_count": 32,
   "metadata": {},
   "outputs": [
    {
     "data": {
      "text/plain": [
       "(399, 2)"
      ]
     },
     "execution_count": 32,
     "metadata": {},
     "output_type": "execute_result"
    }
   ],
   "source": [
    "df_chebi_smiles.shape"
   ]
  },
  {
   "cell_type": "markdown",
   "metadata": {},
   "source": [
    "#### One final merge: "
   ]
  },
  {
   "cell_type": "code",
   "execution_count": 33,
   "metadata": {},
   "outputs": [],
   "source": [
    "df_45_l_rhea_chebi_smiles = df_45_l_rhea_chebi.merge(df_chebi_smiles, on = 'ChEBI', how = 'inner')"
   ]
  },
  {
   "cell_type": "code",
   "execution_count": 34,
   "metadata": {},
   "outputs": [],
   "source": [
    "df_45_l_rhea_chebi_smiles.sort_values(by = ['Entry', 'RheaID', 'type'], inplace=True)\n",
    "df_45_l_rhea_chebi_smiles.reset_index(drop=True, inplace=True)"
   ]
  },
  {
   "cell_type": "code",
   "execution_count": 35,
   "metadata": {},
   "outputs": [
    {
     "data": {
      "text/plain": [
       "(6036, 5)"
      ]
     },
     "execution_count": 35,
     "metadata": {},
     "output_type": "execute_result"
    }
   ],
   "source": [
    "df_45_l_rhea_chebi_smiles.shape"
   ]
  },
  {
   "cell_type": "code",
   "execution_count": 37,
   "metadata": {},
   "outputs": [
    {
     "data": {
      "text/html": [
       "<div>\n",
       "<style scoped>\n",
       "    .dataframe tbody tr th:only-of-type {\n",
       "        vertical-align: middle;\n",
       "    }\n",
       "\n",
       "    .dataframe tbody tr th {\n",
       "        vertical-align: top;\n",
       "    }\n",
       "\n",
       "    .dataframe thead th {\n",
       "        text-align: right;\n",
       "    }\n",
       "</style>\n",
       "<table border=\"1\" class=\"dataframe\">\n",
       "  <thead>\n",
       "    <tr style=\"text-align: right;\">\n",
       "      <th></th>\n",
       "      <th>Entry</th>\n",
       "      <th>RheaID</th>\n",
       "      <th>type</th>\n",
       "      <th>ChEBI</th>\n",
       "      <th>smiles</th>\n",
       "    </tr>\n",
       "  </thead>\n",
       "  <tbody>\n",
       "    <tr>\n",
       "      <th>0</th>\n",
       "      <td>A0A077EWA5</td>\n",
       "      <td>51268</td>\n",
       "      <td>LEFT</td>\n",
       "      <td>CHEBI_59789</td>\n",
       "      <td>C[S+](CC[C@H]([NH3+])C([O-])=O)C[C@H]1O[C@H]([...</td>\n",
       "    </tr>\n",
       "    <tr>\n",
       "      <th>1</th>\n",
       "      <td>A0A077EWA5</td>\n",
       "      <td>51268</td>\n",
       "      <td>LEFT</td>\n",
       "      <td>CHEBI_134001</td>\n",
       "      <td>C1(=C(C=C(C=C1)C[NH2+]CCC2=CC=C(C=C2)O)O)O</td>\n",
       "    </tr>\n",
       "    <tr>\n",
       "      <th>2</th>\n",
       "      <td>A0A077EWA5</td>\n",
       "      <td>51268</td>\n",
       "      <td>RIGHT</td>\n",
       "      <td>CHEBI_15378</td>\n",
       "      <td>[H+]</td>\n",
       "    </tr>\n",
       "  </tbody>\n",
       "</table>\n",
       "</div>"
      ],
      "text/plain": [
       "        Entry RheaID   type         ChEBI  \\\n",
       "0  A0A077EWA5  51268   LEFT   CHEBI_59789   \n",
       "1  A0A077EWA5  51268   LEFT  CHEBI_134001   \n",
       "2  A0A077EWA5  51268  RIGHT   CHEBI_15378   \n",
       "\n",
       "                                              smiles  \n",
       "0  C[S+](CC[C@H]([NH3+])C([O-])=O)C[C@H]1O[C@H]([...  \n",
       "1         C1(=C(C=C(C=C1)C[NH2+]CCC2=CC=C(C=C2)O)O)O  \n",
       "2                                               [H+]  "
      ]
     },
     "execution_count": 37,
     "metadata": {},
     "output_type": "execute_result"
    }
   ],
   "source": [
    "df_45_l_rhea_chebi_smiles.head(3)"
   ]
  },
  {
   "cell_type": "code",
   "execution_count": 38,
   "metadata": {},
   "outputs": [],
   "source": [
    "file_out = '../../data/mohammed/SAM_UP45_Rhea_ChEBI_smiles.csv'\n",
    "df_45_l_rhea_chebi_smiles.to_csv(file_out, index = False)"
   ]
  },
  {
   "cell_type": "markdown",
   "metadata": {},
   "source": [
    "### Same database above, but discarding NAD(H), NADP(H), CO2, H+, (others?)"
   ]
  },
  {
   "cell_type": "code",
   "execution_count": null,
   "metadata": {},
   "outputs": [],
   "source": [
    "cofactor_IDS = ['CHEBI_57945', 'CHEBI_15378', 'CHEBI_57540', 'CHEBI_58349', 'CHEBI_57783', 'CHEBI_16526']"
   ]
  },
  {
   "cell_type": "code",
   "execution_count": 473,
   "metadata": {},
   "outputs": [],
   "source": [
    "df_45_l_rhea_chebi_smiles_noCF = df_45_l_rhea_chebi_smiles[~df_45_l_rhea_chebi_smiles.ChEBI.isin(cofactor_IDS)].copy()\n",
    "df_45_l_rhea_chebi_smiles_noCF.reset_index(inplace=True, drop=True)"
   ]
  },
  {
   "cell_type": "code",
   "execution_count": 482,
   "metadata": {},
   "outputs": [
    {
     "data": {
      "text/plain": [
       "425"
      ]
     },
     "execution_count": 482,
     "metadata": {},
     "output_type": "execute_result"
    }
   ],
   "source": [
    "len(df_45_l_rhea_chebi_smiles_noCF['ChEBI'].unique().tolist())"
   ]
  },
  {
   "cell_type": "code",
   "execution_count": 480,
   "metadata": {},
   "outputs": [
    {
     "data": {
      "text/plain": [
       "421"
      ]
     },
     "execution_count": 480,
     "metadata": {},
     "output_type": "execute_result"
    }
   ],
   "source": [
    "len(df_45_l_rhea_chebi_smiles_noCF['smiles'].unique().tolist())"
   ]
  },
  {
   "cell_type": "code",
   "execution_count": 475,
   "metadata": {},
   "outputs": [
    {
     "data": {
      "text/html": [
       "<div>\n",
       "<style scoped>\n",
       "    .dataframe tbody tr th:only-of-type {\n",
       "        vertical-align: middle;\n",
       "    }\n",
       "\n",
       "    .dataframe tbody tr th {\n",
       "        vertical-align: top;\n",
       "    }\n",
       "\n",
       "    .dataframe thead th {\n",
       "        text-align: right;\n",
       "    }\n",
       "</style>\n",
       "<table border=\"1\" class=\"dataframe\">\n",
       "  <thead>\n",
       "    <tr style=\"text-align: right;\">\n",
       "      <th></th>\n",
       "      <th>Entry</th>\n",
       "      <th>RheaID</th>\n",
       "      <th>type</th>\n",
       "      <th>ChEBI</th>\n",
       "      <th>smiles</th>\n",
       "    </tr>\n",
       "  </thead>\n",
       "  <tbody>\n",
       "    <tr>\n",
       "      <th>0</th>\n",
       "      <td>A0A024R7X6</td>\n",
       "      <td>25033</td>\n",
       "      <td>LEFT</td>\n",
       "      <td>CHEBI_17336</td>\n",
       "      <td>CC(\\C=C\\C=C(C)\\C=C\\C1=C(C)CCCC1(C)C)=C/CO</td>\n",
       "    </tr>\n",
       "    <tr>\n",
       "      <th>1</th>\n",
       "      <td>A0A024R7X6</td>\n",
       "      <td>25033</td>\n",
       "      <td>RIGHT</td>\n",
       "      <td>CHEBI_17898</td>\n",
       "      <td>[H]C(=O)\\C=C(C)\\C=C\\C=C(C)\\C=C\\C1=C(C)CCCC1(C)C</td>\n",
       "    </tr>\n",
       "    <tr>\n",
       "      <th>2</th>\n",
       "      <td>A0A075TRB3</td>\n",
       "      <td>62216</td>\n",
       "      <td>LEFT</td>\n",
       "      <td>CHEBI_145109</td>\n",
       "      <td>C1(C(=C[C@@H]([C@@H]2[C@H]1O2)O)CO)=O</td>\n",
       "    </tr>\n",
       "    <tr>\n",
       "      <th>3</th>\n",
       "      <td>A0A075TRB3</td>\n",
       "      <td>62216</td>\n",
       "      <td>RIGHT</td>\n",
       "      <td>CHEBI_145110</td>\n",
       "      <td>C1(C(=CC([C@@H]2[C@H]1O2)=O)CO)=O</td>\n",
       "    </tr>\n",
       "    <tr>\n",
       "      <th>4</th>\n",
       "      <td>A0A096NEU8</td>\n",
       "      <td>25033</td>\n",
       "      <td>LEFT</td>\n",
       "      <td>CHEBI_17336</td>\n",
       "      <td>CC(\\C=C\\C=C(C)\\C=C\\C1=C(C)CCCC1(C)C)=C/CO</td>\n",
       "    </tr>\n",
       "    <tr>\n",
       "      <th>5</th>\n",
       "      <td>A0A096NEU8</td>\n",
       "      <td>25033</td>\n",
       "      <td>RIGHT</td>\n",
       "      <td>CHEBI_17898</td>\n",
       "      <td>[H]C(=O)\\C=C(C)\\C=C\\C=C(C)\\C=C\\C1=C(C)CCCC1(C)C</td>\n",
       "    </tr>\n",
       "    <tr>\n",
       "      <th>6</th>\n",
       "      <td>A0A0D9RMB0</td>\n",
       "      <td>25033</td>\n",
       "      <td>LEFT</td>\n",
       "      <td>CHEBI_17336</td>\n",
       "      <td>CC(\\C=C\\C=C(C)\\C=C\\C1=C(C)CCCC1(C)C)=C/CO</td>\n",
       "    </tr>\n",
       "    <tr>\n",
       "      <th>7</th>\n",
       "      <td>A0A0D9RMB0</td>\n",
       "      <td>25033</td>\n",
       "      <td>RIGHT</td>\n",
       "      <td>CHEBI_17898</td>\n",
       "      <td>[H]C(=O)\\C=C(C)\\C=C\\C=C(C)\\C=C\\C1=C(C)CCCC1(C)C</td>\n",
       "    </tr>\n",
       "    <tr>\n",
       "      <th>8</th>\n",
       "      <td>A0A0L8VV04</td>\n",
       "      <td>48680</td>\n",
       "      <td>LEFT</td>\n",
       "      <td>CHEBI_85440</td>\n",
       "      <td>CC(C)(COP([O-])(=O)OP([O-])(=O)OC[C@H]1O[C@H](...</td>\n",
       "    </tr>\n",
       "    <tr>\n",
       "      <th>9</th>\n",
       "      <td>A0A0L8VV04</td>\n",
       "      <td>48680</td>\n",
       "      <td>RIGHT</td>\n",
       "      <td>CHEBI_90725</td>\n",
       "      <td>[C@@H]1(N2C3=C(C(=NC=N3)N)N=C2)O[C@H](COP(OP(O...</td>\n",
       "    </tr>\n",
       "  </tbody>\n",
       "</table>\n",
       "</div>"
      ],
      "text/plain": [
       "        Entry RheaID   type         ChEBI  \\\n",
       "0  A0A024R7X6  25033   LEFT   CHEBI_17336   \n",
       "1  A0A024R7X6  25033  RIGHT   CHEBI_17898   \n",
       "2  A0A075TRB3  62216   LEFT  CHEBI_145109   \n",
       "3  A0A075TRB3  62216  RIGHT  CHEBI_145110   \n",
       "4  A0A096NEU8  25033   LEFT   CHEBI_17336   \n",
       "5  A0A096NEU8  25033  RIGHT   CHEBI_17898   \n",
       "6  A0A0D9RMB0  25033   LEFT   CHEBI_17336   \n",
       "7  A0A0D9RMB0  25033  RIGHT   CHEBI_17898   \n",
       "8  A0A0L8VV04  48680   LEFT   CHEBI_85440   \n",
       "9  A0A0L8VV04  48680  RIGHT   CHEBI_90725   \n",
       "\n",
       "                                              smiles  \n",
       "0          CC(\\C=C\\C=C(C)\\C=C\\C1=C(C)CCCC1(C)C)=C/CO  \n",
       "1    [H]C(=O)\\C=C(C)\\C=C\\C=C(C)\\C=C\\C1=C(C)CCCC1(C)C  \n",
       "2              C1(C(=C[C@@H]([C@@H]2[C@H]1O2)O)CO)=O  \n",
       "3                  C1(C(=CC([C@@H]2[C@H]1O2)=O)CO)=O  \n",
       "4          CC(\\C=C\\C=C(C)\\C=C\\C1=C(C)CCCC1(C)C)=C/CO  \n",
       "5    [H]C(=O)\\C=C(C)\\C=C\\C=C(C)\\C=C\\C1=C(C)CCCC1(C)C  \n",
       "6          CC(\\C=C\\C=C(C)\\C=C\\C1=C(C)CCCC1(C)C)=C/CO  \n",
       "7    [H]C(=O)\\C=C(C)\\C=C\\C=C(C)\\C=C\\C1=C(C)CCCC1(C)C  \n",
       "8  CC(C)(COP([O-])(=O)OP([O-])(=O)OC[C@H]1O[C@H](...  \n",
       "9  [C@@H]1(N2C3=C(C(=NC=N3)N)N=C2)O[C@H](COP(OP(O...  "
      ]
     },
     "execution_count": 475,
     "metadata": {},
     "output_type": "execute_result"
    }
   ],
   "source": [
    "df_45_l_rhea_chebi_smiles_noCF.head(10)"
   ]
  },
  {
   "cell_type": "markdown",
   "metadata": {},
   "source": [
    "## Exercise 1: NAD vs. NADP:"
   ]
  },
  {
   "cell_type": "code",
   "execution_count": null,
   "metadata": {},
   "outputs": [],
   "source": []
  },
  {
   "cell_type": "markdown",
   "metadata": {},
   "source": [
    "## Exercise 2: Reactions involving CO2"
   ]
  },
  {
   "cell_type": "code",
   "execution_count": null,
   "metadata": {},
   "outputs": [],
   "source": []
  },
  {
   "cell_type": "markdown",
   "metadata": {},
   "source": [
    "# Dig a bit into this: \n",
    "\n",
    "You might need to discard some of these (decide on a case-by-case basis):"
   ]
  },
  {
   "cell_type": "code",
   "execution_count": 310,
   "metadata": {},
   "outputs": [
    {
     "data": {
      "text/plain": [
       "19397    6\n",
       "15805    5\n",
       "38575    4\n",
       "12044    4\n",
       "12456    4\n",
       "18833    3\n",
       "14981    2\n",
       "Name: RheaID, dtype: int64"
      ]
     },
     "execution_count": 310,
     "metadata": {},
     "output_type": "execute_result"
    }
   ],
   "source": [
    "df_Rhea_ChEBI.RheaID.value_counts().head(7)"
   ]
  },
  {
   "cell_type": "code",
   "execution_count": 311,
   "metadata": {},
   "outputs": [
    {
     "data": {
      "text/html": [
       "<div>\n",
       "<style scoped>\n",
       "    .dataframe tbody tr th:only-of-type {\n",
       "        vertical-align: middle;\n",
       "    }\n",
       "\n",
       "    .dataframe tbody tr th {\n",
       "        vertical-align: top;\n",
       "    }\n",
       "\n",
       "    .dataframe thead th {\n",
       "        text-align: right;\n",
       "    }\n",
       "</style>\n",
       "<table border=\"1\" class=\"dataframe\">\n",
       "  <thead>\n",
       "    <tr style=\"text-align: right;\">\n",
       "      <th></th>\n",
       "      <th>Entry</th>\n",
       "      <th>RheaID</th>\n",
       "    </tr>\n",
       "  </thead>\n",
       "  <tbody>\n",
       "    <tr>\n",
       "      <th>241</th>\n",
       "      <td>Q09851</td>\n",
       "      <td>12044</td>\n",
       "    </tr>\n",
       "    <tr>\n",
       "      <th>1098</th>\n",
       "      <td>P40471</td>\n",
       "      <td>12044</td>\n",
       "    </tr>\n",
       "  </tbody>\n",
       "</table>\n",
       "</div>"
      ],
      "text/plain": [
       "       Entry RheaID\n",
       "241   Q09851  12044\n",
       "1098  P40471  12044"
      ]
     },
     "execution_count": 311,
     "metadata": {},
     "output_type": "execute_result"
    }
   ],
   "source": [
    "df_45_l_rhea[df_45_l_rhea.RheaID.values == '12044']"
   ]
  },
  {
   "cell_type": "markdown",
   "metadata": {},
   "source": [
    "And what exactly is the meaning and what are the consequences of this? "
   ]
  },
  {
   "cell_type": "code",
   "execution_count": 315,
   "metadata": {},
   "outputs": [
    {
     "data": {
      "text/html": [
       "<div>\n",
       "<style scoped>\n",
       "    .dataframe tbody tr th:only-of-type {\n",
       "        vertical-align: middle;\n",
       "    }\n",
       "\n",
       "    .dataframe tbody tr th {\n",
       "        vertical-align: top;\n",
       "    }\n",
       "\n",
       "    .dataframe thead th {\n",
       "        text-align: right;\n",
       "    }\n",
       "</style>\n",
       "<table border=\"1\" class=\"dataframe\">\n",
       "  <thead>\n",
       "    <tr style=\"text-align: right;\">\n",
       "      <th></th>\n",
       "      <th>RheaID</th>\n",
       "      <th>type</th>\n",
       "      <th>ChEBI</th>\n",
       "    </tr>\n",
       "  </thead>\n",
       "  <tbody>\n",
       "    <tr>\n",
       "      <th>10</th>\n",
       "      <td>48488</td>\n",
       "      <td>LEFT</td>\n",
       "      <td>GENERIC_14428</td>\n",
       "    </tr>\n",
       "    <tr>\n",
       "      <th>11</th>\n",
       "      <td>48488</td>\n",
       "      <td>RIGHT</td>\n",
       "      <td>GENERIC_14430</td>\n",
       "    </tr>\n",
       "    <tr>\n",
       "      <th>187</th>\n",
       "      <td>17397</td>\n",
       "      <td>LEFT</td>\n",
       "      <td>GENERIC_9945</td>\n",
       "    </tr>\n",
       "    <tr>\n",
       "      <th>188</th>\n",
       "      <td>17397</td>\n",
       "      <td>RIGHT</td>\n",
       "      <td>GENERIC_9916</td>\n",
       "    </tr>\n",
       "    <tr>\n",
       "      <th>316</th>\n",
       "      <td>22564</td>\n",
       "      <td>LEFT</td>\n",
       "      <td>GENERIC_9926</td>\n",
       "    </tr>\n",
       "  </tbody>\n",
       "</table>\n",
       "</div>"
      ],
      "text/plain": [
       "    RheaID   type          ChEBI\n",
       "10   48488   LEFT  GENERIC_14428\n",
       "11   48488  RIGHT  GENERIC_14430\n",
       "187  17397   LEFT   GENERIC_9945\n",
       "188  17397  RIGHT   GENERIC_9916\n",
       "316  22564   LEFT   GENERIC_9926"
      ]
     },
     "execution_count": 315,
     "metadata": {},
     "output_type": "execute_result"
    }
   ],
   "source": [
    "df_Rhea_ChEBI[df_Rhea_ChEBI.ChEBI.str.contains('GENERIC')].head(5)"
   ]
  },
  {
   "cell_type": "code",
   "execution_count": 325,
   "metadata": {},
   "outputs": [],
   "source": [
    "RHEA_id = '48488'"
   ]
  },
  {
   "cell_type": "code",
   "execution_count": 326,
   "metadata": {},
   "outputs": [
    {
     "data": {
      "text/html": [
       "<div>\n",
       "<style scoped>\n",
       "    .dataframe tbody tr th:only-of-type {\n",
       "        vertical-align: middle;\n",
       "    }\n",
       "\n",
       "    .dataframe tbody tr th {\n",
       "        vertical-align: top;\n",
       "    }\n",
       "\n",
       "    .dataframe thead th {\n",
       "        text-align: right;\n",
       "    }\n",
       "</style>\n",
       "<table border=\"1\" class=\"dataframe\">\n",
       "  <thead>\n",
       "    <tr style=\"text-align: right;\">\n",
       "      <th></th>\n",
       "      <th>RheaID</th>\n",
       "      <th>type</th>\n",
       "      <th>ChEBI</th>\n",
       "    </tr>\n",
       "  </thead>\n",
       "  <tbody>\n",
       "    <tr>\n",
       "      <th>10</th>\n",
       "      <td>48488</td>\n",
       "      <td>LEFT</td>\n",
       "      <td>GENERIC_14428</td>\n",
       "    </tr>\n",
       "    <tr>\n",
       "      <th>11</th>\n",
       "      <td>48488</td>\n",
       "      <td>RIGHT</td>\n",
       "      <td>GENERIC_14430</td>\n",
       "    </tr>\n",
       "  </tbody>\n",
       "</table>\n",
       "</div>"
      ],
      "text/plain": [
       "   RheaID   type          ChEBI\n",
       "10  48488   LEFT  GENERIC_14428\n",
       "11  48488  RIGHT  GENERIC_14430"
      ]
     },
     "execution_count": 326,
     "metadata": {},
     "output_type": "execute_result"
    }
   ],
   "source": [
    "df_Rhea_ChEBI[df_Rhea_ChEBI.RheaID.values == RHEA_id]"
   ]
  },
  {
   "cell_type": "code",
   "execution_count": 320,
   "metadata": {},
   "outputs": [
    {
     "data": {
      "text/html": [
       "<div>\n",
       "<style scoped>\n",
       "    .dataframe tbody tr th:only-of-type {\n",
       "        vertical-align: middle;\n",
       "    }\n",
       "\n",
       "    .dataframe tbody tr th {\n",
       "        vertical-align: top;\n",
       "    }\n",
       "\n",
       "    .dataframe thead th {\n",
       "        text-align: right;\n",
       "    }\n",
       "</style>\n",
       "<table border=\"1\" class=\"dataframe\">\n",
       "  <thead>\n",
       "    <tr style=\"text-align: right;\">\n",
       "      <th></th>\n",
       "      <th>Entry</th>\n",
       "      <th>RheaID</th>\n",
       "    </tr>\n",
       "  </thead>\n",
       "  <tbody>\n",
       "    <tr>\n",
       "      <th>7</th>\n",
       "      <td>O54753</td>\n",
       "      <td>48488</td>\n",
       "    </tr>\n",
       "    <tr>\n",
       "      <th>37</th>\n",
       "      <td>O54909</td>\n",
       "      <td>48488</td>\n",
       "    </tr>\n",
       "  </tbody>\n",
       "</table>\n",
       "</div>"
      ],
      "text/plain": [
       "     Entry RheaID\n",
       "7   O54753  48488\n",
       "37  O54909  48488"
      ]
     },
     "execution_count": 320,
     "metadata": {},
     "output_type": "execute_result"
    }
   ],
   "source": [
    "df_45_l_rhea[df_45_l_rhea.RheaID.values == rid].head(2)"
   ]
  },
  {
   "cell_type": "code",
   "execution_count": 321,
   "metadata": {},
   "outputs": [],
   "source": [
    "rxn_id = URIRef(rh+RHEA_id)\n",
    "rxn_id_L = URIRef(rh+RHEA_id+'_L')\n",
    "rxn_id_R = URIRef(rh+RHEA_id+'_R')"
   ]
  },
  {
   "cell_type": "code",
   "execution_count": 368,
   "metadata": {},
   "outputs": [],
   "source": [
    "reactive_part_pred = URIRef(rh+'reactivePart')\n",
    "chebi_pred = URIRef(rh+'chebi')"
   ]
  },
  {
   "cell_type": "code",
   "execution_count": 385,
   "metadata": {},
   "outputs": [],
   "source": [
    "rxn_id_side = rxn_id_R"
   ]
  },
  {
   "cell_type": "code",
   "execution_count": 386,
   "metadata": {},
   "outputs": [
    {
     "name": "stdout",
     "output_type": "stream",
     "text": [
      "WARNING: generic compound\n"
     ]
    }
   ],
   "source": [
    "list_part_comps = []\n",
    "for obj in g.objects(rxn_id_side, contains_pred):\n",
    "    list_part_comps.append(obj)\n",
    "\n",
    "list_comps = []\n",
    "for part_comp in list_part_comps:\n",
    "    for obj in g.objects(part_comp, compound_pred):\n",
    "        list_comps.append(obj)\n",
    "        \n",
    "list_chebi = []\n",
    "for comp in list_comps:\n",
    "    for obj in g.objects(comp, accession_pred):\n",
    "        \n",
    "        if (str(obj).split(':')[0] == 'GENERIC'):\n",
    "            print('WARNING: generic compound')\n",
    "            \n",
    "            list_reactive = []\n",
    "            for obj in g.objects(comp, reactive_part_pred):\n",
    "                list_reactive.append(obj)\n",
    "            \n",
    "            for reactive in list_reactive:\n",
    "                for obj in g.objects(reactive, chebi_pred):\n",
    "                      list_chebi.append(str(obj).split('/')[-1])\n",
    "                 \n",
    "        else:\n",
    "            list_chebi.append( '_'.join(str(obj).split(':')) )"
   ]
  },
  {
   "cell_type": "code",
   "execution_count": 387,
   "metadata": {},
   "outputs": [
    {
     "data": {
      "text/plain": [
       "[rdflib.term.URIRef('http://rdf.rhea-db.org/Participant_48488_compound_3249'),\n",
       " rdflib.term.URIRef('http://rdf.rhea-db.org/Participant_48488_compound_1650'),\n",
       " rdflib.term.URIRef('http://rdf.rhea-db.org/Participant_48488_compound_14430')]"
      ]
     },
     "execution_count": 387,
     "metadata": {},
     "output_type": "execute_result"
    }
   ],
   "source": [
    "list_part_comps"
   ]
  },
  {
   "cell_type": "code",
   "execution_count": 388,
   "metadata": {},
   "outputs": [
    {
     "data": {
      "text/plain": [
       "[rdflib.term.URIRef('http://rdf.rhea-db.org/Compound_3249'),\n",
       " rdflib.term.URIRef('http://rdf.rhea-db.org/Compound_1650'),\n",
       " rdflib.term.URIRef('http://rdf.rhea-db.org/Compound_14430')]"
      ]
     },
     "execution_count": 388,
     "metadata": {},
     "output_type": "execute_result"
    }
   ],
   "source": [
    "list_comps"
   ]
  },
  {
   "cell_type": "code",
   "execution_count": 389,
   "metadata": {},
   "outputs": [
    {
     "data": {
      "text/plain": [
       "['CHEBI_15378', 'CHEBI_57945', 'CHEBI_83228', 'CHEBI_17898']"
      ]
     },
     "execution_count": 389,
     "metadata": {},
     "output_type": "execute_result"
    }
   ],
   "source": [
    "list_chebi"
   ]
  },
  {
   "cell_type": "code",
   "execution_count": 357,
   "metadata": {},
   "outputs": [
    {
     "name": "stdout",
     "output_type": "stream",
     "text": [
      "(rdflib.term.URIRef('http://rdf.rhea-db.org/id'), rdflib.term.Literal('14428', datatype=rdflib.term.URIRef('http://www.w3.org/2001/XMLSchema#long')))\n",
      "(rdflib.term.URIRef('http://rdf.rhea-db.org/reactivePart'), rdflib.term.URIRef('http://rdf.rhea-db.org/Compound_14428_rp2'))\n",
      "(rdflib.term.URIRef('http://rdf.rhea-db.org/htmlName'), rdflib.term.Literal('<i>all</i>-<i>trans</i>-retinol--[retinol-binding protein]'))\n",
      "(rdflib.term.URIRef('http://www.w3.org/2000/01/rdf-schema#subClassOf'), rdflib.term.URIRef('http://rdf.rhea-db.org/GenericPolypeptide'))\n",
      "(rdflib.term.URIRef('http://rdf.rhea-db.org/accession'), rdflib.term.Literal('GENERIC:14428'))\n",
      "(rdflib.term.URIRef('http://rdf.rhea-db.org/reactivePart'), rdflib.term.URIRef('http://rdf.rhea-db.org/Compound_14428_rp1'))\n",
      "(rdflib.term.URIRef('http://rdf.rhea-db.org/name'), rdflib.term.Literal('all-trans-retinol--[retinol-binding protein]'))\n"
     ]
    }
   ],
   "source": [
    "for pred_obj in g.predicate_objects(list_comps[1]):\n",
    "    print(pred_obj)"
   ]
  },
  {
   "cell_type": "markdown",
   "metadata": {},
   "source": [
    "This is what you eventually need to fetch (if you run into a compound that's only returning \"generic\")"
   ]
  },
  {
   "cell_type": "code",
   "execution_count": 349,
   "metadata": {},
   "outputs": [
    {
     "name": "stdout",
     "output_type": "stream",
     "text": [
      "http://rdf.rhea-db.org/Compound_14428_rp2\n",
      "http://rdf.rhea-db.org/Compound_14428_rp1\n"
     ]
    }
   ],
   "source": [
    "for obj in g.objects(comp, reactive_part_pred):\n",
    "    print(obj)"
   ]
  },
  {
   "cell_type": "code",
   "execution_count": 363,
   "metadata": {},
   "outputs": [
    {
     "name": "stdout",
     "output_type": "stream",
     "text": [
      "(rdflib.term.URIRef('http://www.w3.org/2000/01/rdf-schema#subClassOf'), rdflib.term.URIRef('http://rdf.rhea-db.org/ReactivePart'))\n",
      "(rdflib.term.URIRef('http://rdf.rhea-db.org/name'), rdflib.term.Literal('all-trans-retinol'))\n",
      "(rdflib.term.URIRef('http://www.w3.org/2000/01/rdf-schema#subClassOf'), rdflib.term.URIRef('http://purl.obolibrary.org/obo/CHEBI_17336'))\n",
      "(rdflib.term.URIRef('http://rdf.rhea-db.org/formula'), rdflib.term.Literal('C20H30O'))\n",
      "(rdflib.term.URIRef('http://rdf.rhea-db.org/htmlName'), rdflib.term.Literal('<i>all</i>-<i>trans</i>-retinol'))\n",
      "(rdflib.term.URIRef('http://rdf.rhea-db.org/charge'), rdflib.term.Literal('0'))\n",
      "(rdflib.term.URIRef('http://rdf.rhea-db.org/chebi'), rdflib.term.URIRef('http://purl.obolibrary.org/obo/CHEBI_17336'))\n"
     ]
    }
   ],
   "source": [
    "cid = URIRef('http://rdf.rhea-db.org/Compound_14428_rp1')\n",
    "for pred_obj in g.predicate_objects(cid):\n",
    "    print(pred_obj)"
   ]
  },
  {
   "cell_type": "markdown",
   "metadata": {},
   "source": [
    "# Misc: "
   ]
  },
  {
   "cell_type": "code",
   "execution_count": null,
   "metadata": {},
   "outputs": [],
   "source": [
    "for pred_obj in g_chebi.predicate_objects(chebi_id_uri):\n",
    "    print(pred_obj)"
   ]
  },
  {
   "cell_type": "code",
   "execution_count": null,
   "metadata": {},
   "outputs": [],
   "source": []
  }
 ],
 "metadata": {
  "kernelspec": {
   "display_name": "Python 3 (ipykernel)",
   "language": "python",
   "name": "python3"
  },
  "language_info": {
   "codemirror_mode": {
    "name": "ipython",
    "version": 3
   },
   "file_extension": ".py",
   "mimetype": "text/x-python",
   "name": "python",
   "nbconvert_exporter": "python",
   "pygments_lexer": "ipython3",
   "version": "3.8.10"
  }
 },
 "nbformat": 4,
 "nbformat_minor": 4
}
