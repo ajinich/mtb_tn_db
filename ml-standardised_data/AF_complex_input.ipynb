{
 "cells": [
  {
   "cell_type": "code",
   "execution_count": 43,
   "id": "e20d8aa2-b8f0-413d-8d03-6856057cae85",
   "metadata": {},
   "outputs": [],
   "source": [
    "import pandas as pd\n",
    "import os"
   ]
  },
  {
   "cell_type": "code",
   "execution_count": 50,
   "id": "d59cace0-0c6a-4ff5-baba-df53b160e444",
   "metadata": {},
   "outputs": [],
   "source": [
    "def rvid_pairs_to_complex_fasta(row, df_rvid_to_seq):\n",
    "    rvid_1 = row['Rv_ID_1']\n",
    "    rvid_2 = row['Rv_ID_2']\n",
    "    try:\n",
    "        seq_1 = df_rvid_to_seq[df_rvid_to_seq['Gene Names'].str.contains(rvid_1)].Sequence.values[0]\n",
    "        seq_2 = df_rvid_to_seq[df_rvid_to_seq['Gene Names'].str.contains(rvid_2)].Sequence.values[0]    \n",
    "        seq_complex = seq_1 + ':' + seq_2\n",
    "\n",
    "    except:\n",
    "        seq_complex = 'FIX_MANUALLY'\n",
    "    \n",
    "    return seq_complex"
   ]
  },
  {
   "cell_type": "markdown",
   "id": "5aab6f5c-36f8-4831-a84a-2d247bb12d13",
   "metadata": {},
   "source": [
    "### Load file with RvID-to-sequence mapping: "
   ]
  },
  {
   "cell_type": "code",
   "execution_count": 51,
   "id": "c5725d96-e6d3-4d8c-8ab2-214b982073b3",
   "metadata": {},
   "outputs": [
    {
     "data": {
      "text/html": [
       "<div>\n",
       "<style scoped>\n",
       "    .dataframe tbody tr th:only-of-type {\n",
       "        vertical-align: middle;\n",
       "    }\n",
       "\n",
       "    .dataframe tbody tr th {\n",
       "        vertical-align: top;\n",
       "    }\n",
       "\n",
       "    .dataframe thead th {\n",
       "        text-align: right;\n",
       "    }\n",
       "</style>\n",
       "<table border=\"1\" class=\"dataframe\">\n",
       "  <thead>\n",
       "    <tr style=\"text-align: right;\">\n",
       "      <th></th>\n",
       "      <th>Entry</th>\n",
       "      <th>Entry Name</th>\n",
       "      <th>Protein names</th>\n",
       "      <th>Gene Names</th>\n",
       "      <th>Organism</th>\n",
       "      <th>Length</th>\n",
       "      <th>Sequence</th>\n",
       "      <th>Annotation</th>\n",
       "    </tr>\n",
       "  </thead>\n",
       "  <tbody>\n",
       "    <tr>\n",
       "      <th>0</th>\n",
       "      <td>A0A089QRB9</td>\n",
       "      <td>MSL3_MYCTU</td>\n",
       "      <td>Mycolipanoate synthase (EC 2.3.1.252) (Mycocer...</td>\n",
       "      <td>msl3 pks3 pks4 Rv1180/Rv1181</td>\n",
       "      <td>Mycobacterium tuberculosis (strain ATCC 25618 ...</td>\n",
       "      <td>2085</td>\n",
       "      <td>MRTATATSVAVIGMACRLPGGIDSPQRLWEALLRGDDLVGEIPADR...</td>\n",
       "      <td>5.0</td>\n",
       "    </tr>\n",
       "    <tr>\n",
       "      <th>1</th>\n",
       "      <td>I6WXK4</td>\n",
       "      <td>PTPB_MYCTU</td>\n",
       "      <td>Triple specificity protein phosphatase PtpB (E...</td>\n",
       "      <td>ptpB mptpB Rv0153c</td>\n",
       "      <td>Mycobacterium tuberculosis (strain ATCC 25618 ...</td>\n",
       "      <td>276</td>\n",
       "      <td>MAVRELPGAWNFRDVADTATALRPGRLFRSSELSRLDDAGRATLRR...</td>\n",
       "      <td>5.0</td>\n",
       "    </tr>\n",
       "  </tbody>\n",
       "</table>\n",
       "</div>"
      ],
      "text/plain": [
       "        Entry  Entry Name                                      Protein names  \\\n",
       "0  A0A089QRB9  MSL3_MYCTU  Mycolipanoate synthase (EC 2.3.1.252) (Mycocer...   \n",
       "1      I6WXK4  PTPB_MYCTU  Triple specificity protein phosphatase PtpB (E...   \n",
       "\n",
       "                     Gene Names  \\\n",
       "0  msl3 pks3 pks4 Rv1180/Rv1181   \n",
       "1            ptpB mptpB Rv0153c   \n",
       "\n",
       "                                            Organism  Length  \\\n",
       "0  Mycobacterium tuberculosis (strain ATCC 25618 ...    2085   \n",
       "1  Mycobacterium tuberculosis (strain ATCC 25618 ...     276   \n",
       "\n",
       "                                            Sequence  Annotation  \n",
       "0  MRTATATSVAVIGMACRLPGGIDSPQRLWEALLRGDDLVGEIPADR...         5.0  \n",
       "1  MAVRELPGAWNFRDVADTATALRPGRLFRSSELSRLDDAGRATLRR...         5.0  "
      ]
     },
     "execution_count": 51,
     "metadata": {},
     "output_type": "execute_result"
    }
   ],
   "source": [
    "fn_in = '../data/annotations/uniprot_mtb_092022.tsv'\n",
    "df_rvid_to_seq = pd.read_csv(fn_in, sep = '\\t')\n",
    "df_rvid_to_seq['Gene Names'] = df_rvid_to_seq['Gene Names'].fillna('')\n",
    "df_rvid_to_seq.head(2)"
   ]
  },
  {
   "cell_type": "markdown",
   "id": "dd05c5ea-b322-4e0b-a63c-060ef8cd3942",
   "metadata": {},
   "source": [
    "### Load pairs of interacting candidates:"
   ]
  },
  {
   "cell_type": "markdown",
   "id": "d1226431-248e-444f-a413-b99df40e9be4",
   "metadata": {},
   "source": [
    "##### Batches run so far: \n",
    "* ../data/AF_TnSeq_complex_keep_042822_300.xlsx"
   ]
  },
  {
   "cell_type": "code",
   "execution_count": 82,
   "id": "81d43e13-76ce-49ee-91b0-f4f397f34791",
   "metadata": {},
   "outputs": [
    {
     "data": {
      "text/html": [
       "<div>\n",
       "<style scoped>\n",
       "    .dataframe tbody tr th:only-of-type {\n",
       "        vertical-align: middle;\n",
       "    }\n",
       "\n",
       "    .dataframe tbody tr th {\n",
       "        vertical-align: top;\n",
       "    }\n",
       "\n",
       "    .dataframe thead th {\n",
       "        text-align: right;\n",
       "    }\n",
       "</style>\n",
       "<table border=\"1\" class=\"dataframe\">\n",
       "  <thead>\n",
       "    <tr style=\"text-align: right;\">\n",
       "      <th></th>\n",
       "      <th>Rv_ID_1</th>\n",
       "      <th>Rv_ID_2</th>\n",
       "    </tr>\n",
       "  </thead>\n",
       "  <tbody>\n",
       "    <tr>\n",
       "      <th>0</th>\n",
       "      <td>Rv2379c</td>\n",
       "      <td>Rv2383c</td>\n",
       "    </tr>\n",
       "    <tr>\n",
       "      <th>1</th>\n",
       "      <td>Rv2572c</td>\n",
       "      <td>Rv3029c</td>\n",
       "    </tr>\n",
       "  </tbody>\n",
       "</table>\n",
       "</div>"
      ],
      "text/plain": [
       "   Rv_ID_1  Rv_ID_2\n",
       "0  Rv2379c  Rv2383c\n",
       "1  Rv2572c  Rv3029c"
      ]
     },
     "execution_count": 82,
     "metadata": {},
     "output_type": "execute_result"
    }
   ],
   "source": [
    "fn = '../data/AF_TnSeq_complex_keep_042822_900.xlsx'\n",
    "df_pair = pd.read_excel(fn)\n",
    "df_pair.head(2)"
   ]
  },
  {
   "cell_type": "code",
   "execution_count": 83,
   "id": "592bd11b-56f0-4ccd-9b86-99c7b4223d81",
   "metadata": {},
   "outputs": [],
   "source": [
    "df_pair['seq_complex'] = df_pair.apply(rvid_pairs_to_complex_fasta, axis=1, args=[df_rvid_to_seq])\n",
    "df_pair['len_seq_complex'] = [len(seq) for seq in df_pair.seq_complex]"
   ]
  },
  {
   "cell_type": "markdown",
   "id": "26eec857-1323-4176-b6a4-7e29aa84d29e",
   "metadata": {},
   "source": [
    "Size threshold cut-off: "
   ]
  },
  {
   "cell_type": "code",
   "execution_count": 84,
   "id": "31219a1b-16a6-42e3-9c0b-377f882f34f8",
   "metadata": {},
   "outputs": [],
   "source": [
    "th = 800\n",
    "df_pair_th = df_pair[df_pair.len_seq_complex<=th].copy()\n",
    "df_pair_th.sort_values(by = 'len_seq_complex', inplace=True)"
   ]
  },
  {
   "cell_type": "code",
   "execution_count": 85,
   "id": "ad77f957-02b7-4322-bc55-cf907a865f6a",
   "metadata": {},
   "outputs": [
    {
     "data": {
      "text/plain": [
       "(46, 4)"
      ]
     },
     "execution_count": 85,
     "metadata": {},
     "output_type": "execute_result"
    }
   ],
   "source": [
    "df_pair_th.shape"
   ]
  },
  {
   "cell_type": "code",
   "execution_count": 86,
   "id": "6c29dc7c-8125-4a55-84e8-34c47fe9767f",
   "metadata": {},
   "outputs": [
    {
     "data": {
      "text/plain": [
       "<AxesSubplot:>"
      ]
     },
     "execution_count": 86,
     "metadata": {},
     "output_type": "execute_result"
    },
    {
     "data": {
      "image/png": "[encoded data removed]",
      "text/plain": [
       "<Figure size 432x288 with 1 Axes>"
      ]
     },
     "metadata": {
      "needs_background": "light"
     },
     "output_type": "display_data"
    }
   ],
   "source": [
    "df_pair_th.len_seq_complex.hist()"
   ]
  },
  {
   "cell_type": "markdown",
   "id": "9ffcec4e-450a-464f-823b-64b61c8e36b1",
   "metadata": {},
   "source": [
    "Write to individual .fasta files"
   ]
  },
  {
   "cell_type": "code",
   "execution_count": 87,
   "id": "40aa7dea-ea22-4d53-ad4e-696a22483d6b",
   "metadata": {},
   "outputs": [],
   "source": [
    "path_out = '/home/ajinich/Dropbox/KyuRhee/unknown_function/unknown_redox/data/GLS_TnSeq_v2/AF_pairs/PENDING'\n",
    "for index, row in df_pair_th.iterrows():\n",
    "    header = '>>'+row.Rv_ID_1 + '_and_' + row.Rv_ID_2\n",
    "    fn_name = row.Rv_ID_1 + '_and_' + row.Rv_ID_2 + '.fasta'\n",
    "    seq = row.seq_complex\n",
    "    fn_out = os.path.join(path_out, fn_name)\n",
    "    with open(fn_out, 'w') as fout:\n",
    "        fout.write(header + '\\n')\n",
    "        fout.write(seq+'\\n')  "
   ]
  },
  {
   "cell_type": "code",
   "execution_count": null,
   "id": "8f1f73a5-5c5f-4dad-b47c-ecbfc8101376",
   "metadata": {},
   "outputs": [],
   "source": []
  }
 ],
 "metadata": {
  "kernelspec": {
   "display_name": "Python 3 (ipykernel)",
   "language": "python",
   "name": "python3"
  },
  "language_info": {
   "codemirror_mode": {
    "name": "ipython",
    "version": 3
   },
   "file_extension": ".py",
   "mimetype": "text/x-python",
   "name": "python",
   "nbconvert_exporter": "python",
   "pygments_lexer": "ipython3",
   "version": "3.8.10"
  }
 },
 "nbformat": 4,
 "nbformat_minor": 5
}
