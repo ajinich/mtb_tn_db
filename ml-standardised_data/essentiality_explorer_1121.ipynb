{
 "cells": [
  {
   "cell_type": "code",
   "execution_count": 1,
   "id": "7f2ec3b1-ea61-4b2e-8796-943e25f3a771",
   "metadata": {},
   "outputs": [],
   "source": [
    "import pandas as pd\n",
    "import os\n",
    "import matplotlib.pyplot as plt"
   ]
  },
  {
   "cell_type": "markdown",
   "id": "4aa0d478-ab57-44f9-9910-5abbd27daeb8",
   "metadata": {},
   "source": [
    "load datasets: "
   ]
  },
  {
   "cell_type": "code",
   "execution_count": 3,
   "id": "f83d05cc-8a43-4591-8301-c30730dc69b9",
   "metadata": {},
   "outputs": [],
   "source": [
    "path = '../data/standardized_data/'\n",
    "\n",
    "fn_lfc = 'result_logfc_matrix_2021_10_22_BASIS.csv'\n",
    "fn_qval = 'result_qval_matrix_2021_10_22_BASIS.csv'\n",
    "\n",
    "df_lfc = pd.read_csv(os.path.join(path, fn_lfc))\n",
    "df_qval = pd.read_csv(os.path.join(path, fn_qval))\n"
   ]
  },
  {
   "cell_type": "code",
   "execution_count": null,
   "id": "07172c32-7a51-4d70-98da-1710ecb097ab",
   "metadata": {},
   "outputs": [],
   "source": []
  }
 ],
 "metadata": {
  "kernelspec": {
   "display_name": "Python 3 (ipykernel)",
   "language": "python",
   "name": "python3"
  },
  "language_info": {
   "codemirror_mode": {
    "name": "ipython",
    "version": 3
   },
   "file_extension": ".py",
   "mimetype": "text/x-python",
   "name": "python",
   "nbconvert_exporter": "python",
   "pygments_lexer": "ipython3",
   "version": "3.8.10"
  }
 },
 "nbformat": 4,
 "nbformat_minor": 5
}
