{
 "cells": [
  {
   "cell_type": "code",
   "execution_count": 2,
   "id": "c74d4af1-bb6b-4c5c-bb38-491de3280246",
   "metadata": {},
   "outputs": [
    {
     "name": "stdout",
     "output_type": "stream",
     "text": [
      "The autoreload extension is already loaded. To reload it, use:\n",
      "  %reload_ext autoreload\n"
     ]
    }
   ],
   "source": [
    "import pandas as pd\n",
    "from explorer_lib import *\n",
    "import seaborn as sns\n",
    "import matplotlib.pyplot as plt \n",
    "import hvplot.pandas\n",
    "from random import sample\n",
    "import torch\n",
    "from sklearn.metrics import pairwise\n",
    "import numpy as np\n",
    "\n",
    "%load_ext autoreload\n",
    "%autoreload 2"
   ]
  },
  {
   "cell_type": "code",
   "execution_count": 3,
   "id": "ab0a54de-2dea-4d57-be43-fe0cab9de460",
   "metadata": {},
   "outputs": [
    {
     "data": {
      "text/html": [
       "<svg  width=\"550\" height=\"55\"><rect x=\"0\" y=\"0\" width=\"55\" height=\"55\" style=\"fill:#0173b2;stroke-width:2;stroke:rgb(255,255,255)\"/><rect x=\"55\" y=\"0\" width=\"55\" height=\"55\" style=\"fill:#de8f05;stroke-width:2;stroke:rgb(255,255,255)\"/><rect x=\"110\" y=\"0\" width=\"55\" height=\"55\" style=\"fill:#029e73;stroke-width:2;stroke:rgb(255,255,255)\"/><rect x=\"165\" y=\"0\" width=\"55\" height=\"55\" style=\"fill:#d55e00;stroke-width:2;stroke:rgb(255,255,255)\"/><rect x=\"220\" y=\"0\" width=\"55\" height=\"55\" style=\"fill:#cc78bc;stroke-width:2;stroke:rgb(255,255,255)\"/><rect x=\"275\" y=\"0\" width=\"55\" height=\"55\" style=\"fill:#ca9161;stroke-width:2;stroke:rgb(255,255,255)\"/><rect x=\"330\" y=\"0\" width=\"55\" height=\"55\" style=\"fill:#fbafe4;stroke-width:2;stroke:rgb(255,255,255)\"/><rect x=\"385\" y=\"0\" width=\"55\" height=\"55\" style=\"fill:#949494;stroke-width:2;stroke:rgb(255,255,255)\"/><rect x=\"440\" y=\"0\" width=\"55\" height=\"55\" style=\"fill:#ece133;stroke-width:2;stroke:rgb(255,255,255)\"/><rect x=\"495\" y=\"0\" width=\"55\" height=\"55\" style=\"fill:#56b4e9;stroke-width:2;stroke:rgb(255,255,255)\"/></svg>"
      ],
      "text/plain": [
       "[(0.00392156862745098, 0.45098039215686275, 0.6980392156862745),\n",
       " (0.8705882352941177, 0.5607843137254902, 0.0196078431372549),\n",
       " (0.00784313725490196, 0.6196078431372549, 0.45098039215686275),\n",
       " (0.8352941176470589, 0.3686274509803922, 0.0),\n",
       " (0.8, 0.47058823529411764, 0.7372549019607844),\n",
       " (0.792156862745098, 0.5686274509803921, 0.3803921568627451),\n",
       " (0.984313725490196, 0.6862745098039216, 0.8941176470588236),\n",
       " (0.5803921568627451, 0.5803921568627451, 0.5803921568627451),\n",
       " (0.9254901960784314, 0.8823529411764706, 0.2),\n",
       " (0.33725490196078434, 0.7058823529411765, 0.9137254901960784)]"
      ]
     },
     "execution_count": 3,
     "metadata": {},
     "output_type": "execute_result"
    }
   ],
   "source": [
    "colors_sns = sns.color_palette('colorblind')\n",
    "colors_sns"
   ]
  },
  {
   "cell_type": "code",
   "execution_count": 4,
   "id": "2775925b-f6f3-450b-9b41-3fe912efcbde",
   "metadata": {},
   "outputs": [],
   "source": [
    "fn_in = '/home/ajinich/Dropbox/KyuRhee/unknown_function/unknown_redox/data/mohammed/df_mtb_smeg_umap.csv'\n",
    "df_mtb_smeg = pd.read_csv(fn_in)\n",
    "\n",
    "df_temp = df_mtb_smeg[df_mtb_smeg.annot_int >= 4]"
   ]
  },
  {
   "cell_type": "code",
   "execution_count": 10,
   "id": "5813b45c-4a4d-472b-8e5f-1c6abe05fef9",
   "metadata": {},
   "outputs": [],
   "source": [
    "fn_brendon = '/home/ajinich/Dropbox/KyuRhee/misc_code/Brendon/Brendon_20220405.xlsx'\n",
    "df_brendon = pd.read_excel(fn_brendon, sheet_name='Sheet1')\n",
    "list_rvid_brendon = df_brendon['Rv No.'].tolist()"
   ]
  },
  {
   "cell_type": "markdown",
   "id": "43e116b7-6f11-454c-a17d-0c78699e3618",
   "metadata": {},
   "source": [
    "# Queries: "
   ]
  },
  {
   "cell_type": "code",
   "execution_count": 11,
   "id": "965fa107-3f80-4d0d-849d-ba9c2e80f033",
   "metadata": {},
   "outputs": [
    {
     "name": "stderr",
     "output_type": "stream",
     "text": [
      "/home/ajinich/miniconda3/lib/python3.8/site-packages/openpyxl/styles/stylesheet.py:221: UserWarning: Workbook contains no default style, apply openpyxl's default\n",
      "  warn(\"Workbook contains no default style, apply openpyxl's default\")\n"
     ]
    }
   ],
   "source": [
    "norm = 0\n",
    "df_interact, df_lfc, df_mtb_w_loc, dict_rvid_to_name = import_interact_lfc_uniprot(norm)"
   ]
  },
  {
   "cell_type": "code",
   "execution_count": 12,
   "id": "eeb10331-f9fd-4968-8527-b834fdb6006f",
   "metadata": {},
   "outputs": [],
   "source": [
    "list_subset = []"
   ]
  },
  {
   "cell_type": "code",
   "execution_count": null,
   "id": "971696ec-ee1c-43d9-a8c5-b23d4700c574",
   "metadata": {},
   "outputs": [],
   "source": [
    "list_rvid_hits = []\n",
    "for rvid_query in list_rvid_brendon:\n",
    "    list_rvid_NN1, list_rvid_NN2 = get_NN12(rvid_query, df_interact)\n",
    "    if len(list_rvid_NN1) > 0:\n",
    "        list_rvid_hits.append(rvid_query)\n",
    "        list_rvid = list_rvid_NN1.copy()\n",
    "        len_width = int(len(list_rvid)*2.0)\n",
    "        correlation_tile_plot(df_lfc, list_rvid, list_rvid, (len_width,len_width), colors_sns, dict_rvid_to_name, list_subset = list_subset, gene_names = False)\n",
    "        plt.tight_layout()\n",
    "        path_out = '/home/ajinich/Dropbox/KyuRhee/misc_code/Brendon/figs/'\n",
    "        fn_out = os.path.join(path_out, rvid_query + '.png')\n",
    "        plt.savefig(fn_out, dpi = 250)"
   ]
  },
  {
   "cell_type": "code",
   "execution_count": 19,
   "id": "903bf1d3-9502-4a3f-af17-f806071c5b74",
   "metadata": {},
   "outputs": [
    {
     "data": {
      "text/html": [
       "<div>\n",
       "<style scoped>\n",
       "    .dataframe tbody tr th:only-of-type {\n",
       "        vertical-align: middle;\n",
       "    }\n",
       "\n",
       "    .dataframe tbody tr th {\n",
       "        vertical-align: top;\n",
       "    }\n",
       "\n",
       "    .dataframe thead th {\n",
       "        text-align: right;\n",
       "    }\n",
       "</style>\n",
       "<table border=\"1\" class=\"dataframe\">\n",
       "  <thead>\n",
       "    <tr style=\"text-align: right;\">\n",
       "      <th></th>\n",
       "      <th>Rv No.</th>\n",
       "      <th>Uniprot Entry</th>\n",
       "      <th>Uniprot Description</th>\n",
       "      <th>Length</th>\n",
       "      <th>D1vD0</th>\n",
       "      <th>D1vRD</th>\n",
       "      <th>D1vW1</th>\n",
       "      <th>D1vW2</th>\n",
       "      <th>Notes</th>\n",
       "      <th>Tn Essentiality</th>\n",
       "      <th>CRISPRi Essentiality\\n(https://pebble.rockefeller.edu/)</th>\n",
       "      <th>Drug susceptibility</th>\n",
       "      <th>Genomic content</th>\n",
       "      <th>Signal peptide\\n(https://services.healthtech.dtu.dk/service.php?SignalP-5.0) or https://biolib.com/DTU/SignalP-6/</th>\n",
       "      <th>Solubility \\n(https://services.healthtech.dtu.dk/service.php?NetSolP-1.0)</th>\n",
       "      <th>Membrane protein?\\n(https://dtu.biolib.com/DeepTMHMM) or (https://topcons.net/)</th>\n",
       "    </tr>\n",
       "  </thead>\n",
       "  <tbody>\n",
       "    <tr>\n",
       "      <th>2</th>\n",
       "      <td>Rv0146</td>\n",
       "      <td>P9WFJ3</td>\n",
       "      <td>Putative S-adenosyl-L-methionine-dependent met...</td>\n",
       "      <td>310</td>\n",
       "      <td>2.751553</td>\n",
       "      <td>3.426995</td>\n",
       "      <td>3.743578</td>\n",
       "      <td>3.714350</td>\n",
       "      <td>NaN</td>\n",
       "      <td>GA</td>\n",
       "      <td>0.0</td>\n",
       "      <td>NaN</td>\n",
       "      <td>NaN</td>\n",
       "      <td>NaN</td>\n",
       "      <td>NaN</td>\n",
       "      <td>NaN</td>\n",
       "    </tr>\n",
       "    <tr>\n",
       "      <th>3</th>\n",
       "      <td>Rv1192</td>\n",
       "      <td>O05294</td>\n",
       "      <td>Uncharacterized protein</td>\n",
       "      <td>275</td>\n",
       "      <td>3.989670</td>\n",
       "      <td>3.415752</td>\n",
       "      <td>4.015672</td>\n",
       "      <td>4.109861</td>\n",
       "      <td>AlphaBeta_hydrolase</td>\n",
       "      <td>NE</td>\n",
       "      <td>0.0</td>\n",
       "      <td>NaN</td>\n",
       "      <td>NaN</td>\n",
       "      <td>NaN</td>\n",
       "      <td>NaN</td>\n",
       "      <td>NaN</td>\n",
       "    </tr>\n",
       "  </tbody>\n",
       "</table>\n",
       "</div>"
      ],
      "text/plain": [
       "   Rv No. Uniprot Entry                                Uniprot Description  \\\n",
       "2  Rv0146        P9WFJ3  Putative S-adenosyl-L-methionine-dependent met...   \n",
       "3  Rv1192        O05294                            Uncharacterized protein   \n",
       "\n",
       "   Length     D1vD0     D1vRD     D1vW1     D1vW2                Notes  \\\n",
       "2     310  2.751553  3.426995  3.743578  3.714350                  NaN   \n",
       "3     275  3.989670  3.415752  4.015672  4.109861  AlphaBeta_hydrolase   \n",
       "\n",
       "  Tn Essentiality  CRISPRi Essentiality\\n(https://pebble.rockefeller.edu/)  \\\n",
       "2              GA                                                0.0         \n",
       "3              NE                                                0.0         \n",
       "\n",
       "   Drug susceptibility  Genomic content   \\\n",
       "2                  NaN               NaN   \n",
       "3                  NaN               NaN   \n",
       "\n",
       "   Signal peptide\\n(https://services.healthtech.dtu.dk/service.php?SignalP-5.0) or https://biolib.com/DTU/SignalP-6/  \\\n",
       "2                                                NaN                                                                   \n",
       "3                                                NaN                                                                   \n",
       "\n",
       "   Solubility \\n(https://services.healthtech.dtu.dk/service.php?NetSolP-1.0)  \\\n",
       "2                                                NaN                           \n",
       "3                                                NaN                           \n",
       "\n",
       "   Membrane protein?\\n(https://dtu.biolib.com/DeepTMHMM) or (https://topcons.net/)  \n",
       "2                                                NaN                                \n",
       "3                                                NaN                                "
      ]
     },
     "execution_count": 19,
     "metadata": {},
     "output_type": "execute_result"
    }
   ],
   "source": [
    "df_brendon[df_brendon['Rv No.'].isin(list_rvid_hits)].head(2)"
   ]
  },
  {
   "cell_type": "code",
   "execution_count": 15,
   "id": "49c89dfc-25fd-47ee-ac6b-41bdc448ed67",
   "metadata": {},
   "outputs": [],
   "source": [
    "df_interact_hits = df_interact[ ( df_interact.lead_gene.isin(list_rvid_hits) ) | ( df_interact.partner_gene.isin(list_rvid_hits) )].copy()\n",
    "df_interact_hits.sort_values(by = 'lead_gene', inplace=True)"
   ]
  },
  {
   "cell_type": "code",
   "execution_count": 16,
   "id": "32be8fd7-a027-4e1a-a5db-1342e82fb5f1",
   "metadata": {},
   "outputs": [],
   "source": [
    "fn_out = '/home/ajinich/Dropbox/KyuRhee/misc_code/Brendon/matching_hits.xlsx'\n",
    "df_interact_hits.to_excel(fn_out, index = False)"
   ]
  },
  {
   "cell_type": "code",
   "execution_count": null,
   "id": "45a868e7-5dad-4ea1-8faa-e8e9bef64568",
   "metadata": {},
   "outputs": [],
   "source": []
  }
 ],
 "metadata": {
  "kernelspec": {
   "display_name": "Python 3 (ipykernel)",
   "language": "python",
   "name": "python3"
  },
  "language_info": {
   "codemirror_mode": {
    "name": "ipython",
    "version": 3
   },
   "file_extension": ".py",
   "mimetype": "text/x-python",
   "name": "python",
   "nbconvert_exporter": "python",
   "pygments_lexer": "ipython3",
   "version": "3.8.10"
  }
 },
 "nbformat": 4,
 "nbformat_minor": 5
}
