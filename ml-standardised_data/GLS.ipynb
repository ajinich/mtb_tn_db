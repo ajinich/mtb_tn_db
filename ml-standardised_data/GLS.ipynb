{
 "cells": [
  {
   "cell_type": "markdown",
   "id": "af074a90-abc6-43eb-b08b-44d36548da7f",
   "metadata": {},
   "source": [
    "trying to map the GLS approach of https://github.com/kundajelab/coessentiality to our dataset: "
   ]
  },
  {
   "cell_type": "code",
   "execution_count": 2,
   "id": "2a1a0067-d9be-4403-a92d-f361f2430621",
   "metadata": {},
   "outputs": [],
   "source": [
    "import pandas as pd\n",
    "import os\n",
    "import numpy as np"
   ]
  },
  {
   "cell_type": "code",
   "execution_count": null,
   "id": "585c4ea6-c7e4-4c86-89df-6bf9f24b5cbb",
   "metadata": {},
   "outputs": [],
   "source": []
  },
  {
   "cell_type": "code",
   "execution_count": 3,
   "id": "3d21a216-49c6-4fd1-a834-900d2bcfd88a",
   "metadata": {},
   "outputs": [],
   "source": [
    "version = 'old'\n",
    "# version = 'clare_basis'\n",
    "# version = 'clare_all'\n"
   ]
  },
  {
   "cell_type": "code",
   "execution_count": 4,
   "id": "e5992d4d-7241-4f2e-a108-258ceb1a5eb7",
   "metadata": {},
   "outputs": [
    {
     "data": {
      "text/plain": [
       "(4055, 64)"
      ]
     },
     "execution_count": 4,
     "metadata": {},
     "output_type": "execute_result"
    }
   ],
   "source": [
    "if version == 'old':\n",
    "    fn = 'result_logfc_matrix_2020_08_27.csv' ## data set without Claire's screens\n",
    "elif version == 'clare_all':\n",
    "    fn = 'result_logfc_matrix_2021_08_27.csv' ## data set with all of Claire's pairwise combinations\n",
    "elif version == 'clare_basis':\n",
    "    fn = 'result_logfc_matrix_2021_08_27_BASIS.csv' ## data set only Claire's mutant vs. wildtype screens\n",
    "\n",
    "path = '../data/standardized_data/'\n",
    "df_lfc = pd.read_csv(os.path.join(path, fn), index_col = 0)\n",
    "df_lfc.shape"
   ]
  },
  {
   "cell_type": "code",
   "execution_count": 5,
   "id": "ab096888-6cd3-44cc-91ee-4db369371627",
   "metadata": {},
   "outputs": [
    {
     "data": {
      "text/plain": [
       "(3971, 64)"
      ]
     },
     "execution_count": 5,
     "metadata": {},
     "output_type": "execute_result"
    }
   ],
   "source": [
    "df_lfc = df_lfc.dropna(axis=0)\n",
    "df_lfc.shape"
   ]
  },
  {
   "cell_type": "code",
   "execution_count": 6,
   "id": "a47c269e-eb7e-47f5-838d-b5535eaada30",
   "metadata": {},
   "outputs": [
    {
     "data": {
      "text/html": [
       "<div>\n",
       "<style scoped>\n",
       "    .dataframe tbody tr th:only-of-type {\n",
       "        vertical-align: middle;\n",
       "    }\n",
       "\n",
       "    .dataframe tbody tr th {\n",
       "        vertical-align: top;\n",
       "    }\n",
       "\n",
       "    .dataframe thead th {\n",
       "        text-align: right;\n",
       "    }\n",
       "</style>\n",
       "<table border=\"1\" class=\"dataframe\">\n",
       "  <thead>\n",
       "    <tr style=\"text-align: right;\">\n",
       "      <th></th>\n",
       "      <th>PE35_KO_vs_mbio_H37Rv</th>\n",
       "      <th>PPE68_KO_vs_mbio_H37Rv</th>\n",
       "      <th>Rv0950c_KO_vs_CB_WT</th>\n",
       "      <th>Rv0954_KO_vs_RJ_WT</th>\n",
       "      <th>Rv1096_KO_vs_CB_WT</th>\n",
       "      <th>Rv3005c_KO_day32_vs_dejesus_H37Rv_day32</th>\n",
       "      <th>Rv3594_KO_vs_Rubin_FLUTE_WT</th>\n",
       "      <th>Rv3684_KO_vs_CB_WT</th>\n",
       "      <th>Rv3717_KO_vs_Rubin_FLUTE_WT</th>\n",
       "      <th>Rv3811_KO_vs_Rubin_FLUTE_WT</th>\n",
       "      <th>...</th>\n",
       "      <th>zhang_AA_Rescue_vs_zhang_in_vitro_control_Rescue</th>\n",
       "      <th>zhang_DETA-NO_pH_7.0_vs_zhang_pH_7.0_no_NO_control</th>\n",
       "      <th>zhang_Fe_1.5mM_vs_zhang_Fe_450uM</th>\n",
       "      <th>zhang_Trp_Rescue_vs_zhang_in_vitro_control_Rescue</th>\n",
       "      <th>zhang_Tyloxapol_pH_6.5_vs_zhang_Tyloxapol_pH_4.5</th>\n",
       "      <th>zhang_Tyloxapol_pH_6.5_vs_zhang_pcit_pH_4.5</th>\n",
       "      <th>zhang_mhcii_mouse_d10_vs_zhang_wt_mouse_d10</th>\n",
       "      <th>zhang_mhcii_mouse_d45_vs_zhang_wt_mouse_d45</th>\n",
       "      <th>zhang_wt_mouse_d10_vs_zhang_input_library</th>\n",
       "      <th>zhang_wt_mouse_d45_vs_zhang_input_library</th>\n",
       "    </tr>\n",
       "    <tr>\n",
       "      <th>Rv_ID</th>\n",
       "      <th></th>\n",
       "      <th></th>\n",
       "      <th></th>\n",
       "      <th></th>\n",
       "      <th></th>\n",
       "      <th></th>\n",
       "      <th></th>\n",
       "      <th></th>\n",
       "      <th></th>\n",
       "      <th></th>\n",
       "      <th></th>\n",
       "      <th></th>\n",
       "      <th></th>\n",
       "      <th></th>\n",
       "      <th></th>\n",
       "      <th></th>\n",
       "      <th></th>\n",
       "      <th></th>\n",
       "      <th></th>\n",
       "      <th></th>\n",
       "      <th></th>\n",
       "    </tr>\n",
       "  </thead>\n",
       "  <tbody>\n",
       "    <tr>\n",
       "      <th>Rv0001</th>\n",
       "      <td>-0.41</td>\n",
       "      <td>0.01</td>\n",
       "      <td>0.0</td>\n",
       "      <td>0.0</td>\n",
       "      <td>0.0</td>\n",
       "      <td>3.12</td>\n",
       "      <td>-0.06</td>\n",
       "      <td>0.0</td>\n",
       "      <td>-0.06</td>\n",
       "      <td>1.18</td>\n",
       "      <td>...</td>\n",
       "      <td>0.0</td>\n",
       "      <td>0.0</td>\n",
       "      <td>0.0</td>\n",
       "      <td>0.0</td>\n",
       "      <td>0.0</td>\n",
       "      <td>0.0</td>\n",
       "      <td>0.0</td>\n",
       "      <td>0.0</td>\n",
       "      <td>0.0</td>\n",
       "      <td>0.0</td>\n",
       "    </tr>\n",
       "    <tr>\n",
       "      <th>Rv0002</th>\n",
       "      <td>3.28</td>\n",
       "      <td>2.38</td>\n",
       "      <td>0.0</td>\n",
       "      <td>0.0</td>\n",
       "      <td>0.0</td>\n",
       "      <td>0.00</td>\n",
       "      <td>0.00</td>\n",
       "      <td>0.0</td>\n",
       "      <td>0.00</td>\n",
       "      <td>0.00</td>\n",
       "      <td>...</td>\n",
       "      <td>0.0</td>\n",
       "      <td>0.0</td>\n",
       "      <td>0.0</td>\n",
       "      <td>0.0</td>\n",
       "      <td>0.0</td>\n",
       "      <td>0.0</td>\n",
       "      <td>0.0</td>\n",
       "      <td>0.0</td>\n",
       "      <td>0.0</td>\n",
       "      <td>0.0</td>\n",
       "    </tr>\n",
       "  </tbody>\n",
       "</table>\n",
       "<p>2 rows × 64 columns</p>\n",
       "</div>"
      ],
      "text/plain": [
       "        PE35_KO_vs_mbio_H37Rv  PPE68_KO_vs_mbio_H37Rv  Rv0950c_KO_vs_CB_WT  \\\n",
       "Rv_ID                                                                        \n",
       "Rv0001                  -0.41                    0.01                  0.0   \n",
       "Rv0002                   3.28                    2.38                  0.0   \n",
       "\n",
       "        Rv0954_KO_vs_RJ_WT  Rv1096_KO_vs_CB_WT  \\\n",
       "Rv_ID                                            \n",
       "Rv0001                 0.0                 0.0   \n",
       "Rv0002                 0.0                 0.0   \n",
       "\n",
       "        Rv3005c_KO_day32_vs_dejesus_H37Rv_day32  Rv3594_KO_vs_Rubin_FLUTE_WT  \\\n",
       "Rv_ID                                                                          \n",
       "Rv0001                                     3.12                        -0.06   \n",
       "Rv0002                                     0.00                         0.00   \n",
       "\n",
       "        Rv3684_KO_vs_CB_WT  Rv3717_KO_vs_Rubin_FLUTE_WT  \\\n",
       "Rv_ID                                                     \n",
       "Rv0001                 0.0                        -0.06   \n",
       "Rv0002                 0.0                         0.00   \n",
       "\n",
       "        Rv3811_KO_vs_Rubin_FLUTE_WT  ...  \\\n",
       "Rv_ID                                ...   \n",
       "Rv0001                         1.18  ...   \n",
       "Rv0002                         0.00  ...   \n",
       "\n",
       "        zhang_AA_Rescue_vs_zhang_in_vitro_control_Rescue  \\\n",
       "Rv_ID                                                      \n",
       "Rv0001                                               0.0   \n",
       "Rv0002                                               0.0   \n",
       "\n",
       "        zhang_DETA-NO_pH_7.0_vs_zhang_pH_7.0_no_NO_control  \\\n",
       "Rv_ID                                                        \n",
       "Rv0001                                                0.0    \n",
       "Rv0002                                                0.0    \n",
       "\n",
       "        zhang_Fe_1.5mM_vs_zhang_Fe_450uM  \\\n",
       "Rv_ID                                      \n",
       "Rv0001                               0.0   \n",
       "Rv0002                               0.0   \n",
       "\n",
       "        zhang_Trp_Rescue_vs_zhang_in_vitro_control_Rescue  \\\n",
       "Rv_ID                                                       \n",
       "Rv0001                                                0.0   \n",
       "Rv0002                                                0.0   \n",
       "\n",
       "        zhang_Tyloxapol_pH_6.5_vs_zhang_Tyloxapol_pH_4.5  \\\n",
       "Rv_ID                                                      \n",
       "Rv0001                                               0.0   \n",
       "Rv0002                                               0.0   \n",
       "\n",
       "        zhang_Tyloxapol_pH_6.5_vs_zhang_pcit_pH_4.5  \\\n",
       "Rv_ID                                                 \n",
       "Rv0001                                          0.0   \n",
       "Rv0002                                          0.0   \n",
       "\n",
       "        zhang_mhcii_mouse_d10_vs_zhang_wt_mouse_d10  \\\n",
       "Rv_ID                                                 \n",
       "Rv0001                                          0.0   \n",
       "Rv0002                                          0.0   \n",
       "\n",
       "        zhang_mhcii_mouse_d45_vs_zhang_wt_mouse_d45  \\\n",
       "Rv_ID                                                 \n",
       "Rv0001                                          0.0   \n",
       "Rv0002                                          0.0   \n",
       "\n",
       "        zhang_wt_mouse_d10_vs_zhang_input_library  \\\n",
       "Rv_ID                                               \n",
       "Rv0001                                        0.0   \n",
       "Rv0002                                        0.0   \n",
       "\n",
       "        zhang_wt_mouse_d45_vs_zhang_input_library  \n",
       "Rv_ID                                              \n",
       "Rv0001                                        0.0  \n",
       "Rv0002                                        0.0  \n",
       "\n",
       "[2 rows x 64 columns]"
      ]
     },
     "execution_count": 6,
     "metadata": {},
     "output_type": "execute_result"
    }
   ],
   "source": [
    "df_lfc.head(2)"
   ]
  },
  {
   "cell_type": "markdown",
   "id": "3824ceb5-494b-4d8f-904b-71cfa3cd1922",
   "metadata": {},
   "source": [
    "Remove cell lines with any missing genes\n"
   ]
  },
  {
   "cell_type": "code",
   "execution_count": 7,
   "id": "924ee6dc-a7ff-4271-9e79-218cd5c5435f",
   "metadata": {},
   "outputs": [
    {
     "data": {
      "text/plain": [
       "(3971, 64)"
      ]
     },
     "execution_count": 7,
     "metadata": {},
     "output_type": "execute_result"
    }
   ],
   "source": [
    "df_lfc.dropna(axis=1, inplace=True)\n",
    "df_lfc.shape"
   ]
  },
  {
   "cell_type": "markdown",
   "id": "0b9cbb8e-c6f1-46d4-b56d-9c81299d78a8",
   "metadata": {},
   "source": [
    "### Warp screen data and intercept based on covariance of screens\n"
   ]
  },
  {
   "cell_type": "markdown",
   "id": "149a7ec3-325d-47d7-ba0b-1f39b4fdd6ed",
   "metadata": {},
   "source": [
    "We have a problem: the covariance matrix is singular...  "
   ]
  },
  {
   "cell_type": "code",
   "execution_count": 8,
   "id": "a2197585-d255-4868-8364-e52cc27b2e14",
   "metadata": {},
   "outputs": [
    {
     "data": {
      "text/plain": [
       "array([[ 5.75279138, -3.78455995, -0.01909157, ...,  0.08825097,\n",
       "         0.11636329,  0.14638533],\n",
       "       [-3.78455995,  6.36622702, -0.01534854, ...,  0.02089874,\n",
       "        -0.02953769, -0.01429268],\n",
       "       [-0.01909157, -0.01534854,  4.89343357, ..., -0.03478133,\n",
       "        -0.0817099 , -0.10535316],\n",
       "       ...,\n",
       "       [ 0.08825097,  0.02089874, -0.03478133, ...,  0.87887311,\n",
       "        -0.1584684 ,  0.34753166],\n",
       "       [ 0.11636329, -0.02953769, -0.0817099 , ..., -0.1584684 ,\n",
       "         1.33156975, -0.29142479],\n",
       "       [ 0.14638533, -0.01429268, -0.10535316, ...,  0.34753166,\n",
       "        -0.29142479,  0.69151514]])"
      ]
     },
     "execution_count": 8,
     "metadata": {},
     "output_type": "execute_result"
    }
   ],
   "source": [
    "np.linalg.inv(np.cov(df_lfc.values.T))"
   ]
  },
  {
   "cell_type": "markdown",
   "id": "b9a94d07-7492-4db4-aae6-ac98b94e146c",
   "metadata": {},
   "source": [
    "for now i'm taking the pseudoinverse: "
   ]
  },
  {
   "cell_type": "code",
   "execution_count": 64,
   "id": "5a768dae-d388-435a-8c7d-417c6d9272d4",
   "metadata": {},
   "outputs": [],
   "source": [
    "cov = np.cov(df_lfc.values.T)\n",
    "pinv_mat = np.linalg.pinv(cov)\n"
   ]
  },
  {
   "cell_type": "code",
   "execution_count": 65,
   "id": "33e06fd3-0435-46d2-af88-30cb30fc24ca",
   "metadata": {},
   "outputs": [
    {
     "name": "stdout",
     "output_type": "stream",
     "text": [
      "[0.00947857 0.0173344  0.02543065 0.03167455 0.04938763 0.08435533\n",
      " 0.09601268 0.10153187 0.10389432 0.10633217]\n"
     ]
    }
   ],
   "source": [
    "print(np.linalg.eigvalsh(cov)[:10])"
   ]
  },
  {
   "cell_type": "code",
   "execution_count": 66,
   "id": "b3d654b9-38e7-4019-b1db-d243e845279b",
   "metadata": {},
   "outputs": [
    {
     "name": "stdout",
     "output_type": "stream",
     "text": [
      "[0.05116849 0.11162252 0.1304997  0.1374336  0.14768238 0.18190019\n",
      " 0.19356684 0.22882941 0.24084519 0.26679639]\n"
     ]
    }
   ],
   "source": [
    "print(np.linalg.eigvalsh(pinv_mat)[:10])\n"
   ]
  },
  {
   "cell_type": "markdown",
   "id": "adf6f4b4-2f76-41d8-8979-f757a469aaa7",
   "metadata": {},
   "source": [
    "But this leads to a new problem: the pseudo-inverse is not positive definite: "
   ]
  },
  {
   "cell_type": "code",
   "execution_count": 11,
   "id": "a72e9ac7-0bb2-4122-9f3f-bbee739fa8fe",
   "metadata": {},
   "outputs": [],
   "source": [
    "cholsigmainv = np.linalg.cholesky(np.linalg.inv(np.cov(df_lfc.values.T)))\n",
    "warped_screens = df_lfc.values @ cholsigmainv\n",
    "warped_intercept = cholsigmainv.sum(axis=0)"
   ]
  },
  {
   "cell_type": "markdown",
   "id": "b7de0c6a-e596-4e64-9e71-f52b50bfc306",
   "metadata": {},
   "source": [
    "## In case it does work, you move on to this: "
   ]
  },
  {
   "cell_type": "code",
   "execution_count": 12,
   "id": "78f86f84-95c5-46df-acc3-bdba8b505b37",
   "metadata": {},
   "outputs": [],
   "source": [
    "def linear_regression(warped_screens, warped_intercept):\n",
    "    GLS_coef = np.empty((len(warped_screens), len(warped_screens)))\n",
    "    GLS_se = np.empty((len(warped_screens), len(warped_screens)))\n",
    "    ys = warped_screens.T\n",
    "    for gene_index in range(len(warped_screens)):\n",
    "        X = np.stack((warped_intercept, warped_screens[gene_index]), axis=1)\n",
    "        coef, residues = np.linalg.lstsq(X, ys, rcond=None)[:2]\n",
    "        df = warped_screens.shape[1] - 2\n",
    "        GLS_coef[gene_index] = coef[1]\n",
    "        try:\n",
    "            GLS_se[gene_index] = \\\n",
    "                np.sqrt(np.linalg.pinv(X.T @ X)[1, 1] * residues / df)\n",
    "        except:\n",
    "            print(gene_index) \n",
    "    return GLS_coef, GLS_se"
   ]
  },
  {
   "cell_type": "code",
   "execution_count": 13,
   "id": "f34310de-b586-42e9-8001-1dcaef1c4f8a",
   "metadata": {},
   "outputs": [
    {
     "name": "stdout",
     "output_type": "stream",
     "text": [
      "416\n",
      "661\n",
      "675\n",
      "1327\n",
      "1908\n",
      "1914\n",
      "2429\n",
      "2522\n",
      "2625\n",
      "2686\n",
      "2696\n",
      "3045\n",
      "3654\n",
      "3970\n"
     ]
    }
   ],
   "source": [
    "GLS_coef, GLS_se = linear_regression(warped_screens, warped_intercept)\n"
   ]
  },
  {
   "cell_type": "code",
   "execution_count": 14,
   "id": "290a83b7-1122-4cc3-bd75-653788a291ac",
   "metadata": {},
   "outputs": [],
   "source": [
    "ys = warped_screens.T\n",
    "gene_index = 416\n",
    "X = np.stack((warped_intercept, warped_screens[gene_index]), axis=1)\n",
    "coef, residues = np.linalg.lstsq(X, ys, rcond=None)[:2]\n",
    "df = warped_screens.shape[1] - 2"
   ]
  },
  {
   "cell_type": "code",
   "execution_count": 15,
   "id": "88814372-c093-4eea-b73f-863107a0794b",
   "metadata": {},
   "outputs": [
    {
     "data": {
      "text/plain": [
       "array([0., 0., 0., ..., 0., 0., 0.])"
      ]
     },
     "execution_count": 15,
     "metadata": {},
     "output_type": "execute_result"
    }
   ],
   "source": [
    "coef[1]"
   ]
  },
  {
   "cell_type": "code",
   "execution_count": null,
   "id": "1a37bc0f-7d1e-4c78-a288-9fe3a0d25ff0",
   "metadata": {},
   "outputs": [],
   "source": []
  }
 ],
 "metadata": {
  "kernelspec": {
   "display_name": "Python 3 (ipykernel)",
   "language": "python",
   "name": "python3"
  },
  "language_info": {
   "codemirror_mode": {
    "name": "ipython",
    "version": 3
   },
   "file_extension": ".py",
   "mimetype": "text/x-python",
   "name": "python",
   "nbconvert_exporter": "python",
   "pygments_lexer": "ipython3",
   "version": "3.8.10"
  }
 },
 "nbformat": 4,
 "nbformat_minor": 5
}
