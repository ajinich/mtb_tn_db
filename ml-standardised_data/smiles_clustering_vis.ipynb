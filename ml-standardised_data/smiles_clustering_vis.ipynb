{
 "cells": [
  {
   "cell_type": "markdown",
   "metadata": {},
   "source": [
    "# Imports: "
   ]
  },
  {
   "cell_type": "code",
   "execution_count": 3,
   "metadata": {},
   "outputs": [
    {
     "name": "stdout",
     "output_type": "stream",
     "text": [
      "Populating the interactive namespace from numpy and matplotlib\n"
     ]
    }
   ],
   "source": [
    "import pandas as pd\n",
    "import os\n",
    "import re\n",
    "\n",
    "import rdkit\n",
    "from rdkit import Chem\n",
    "from rdkit.Chem.Draw import IPythonConsole, MolToFile\n",
    "from rdkit.Chem import Draw\n",
    "\n",
    "import json\n",
    "\n",
    "import umap\n",
    "import matplotlib.pyplot as plt\n",
    "import seaborn as sns\n",
    "cols = sns.color_palette()\n",
    "\n",
    "import numpy as np\n",
    "from rdkit.Chem import AllChem\n",
    "\n",
    "import tqdm\n",
    "from sklearn.cluster import KMeans\n",
    "from sklearn.metrics import silhouette_score\n",
    "from sklearn.cluster import DBSCAN\n",
    "\n",
    "import holoviews as hv \n",
    "import bokeh.io\n",
    "import bokeh.plotting\n",
    "import colorcet as cc\n",
    "\n",
    "import hvplot.pandas\n",
    "\n",
    "from random import sample\n",
    "\n",
    "import pandas as pd\n",
    "import numpy as np\n",
    "import sys\n",
    "sys.path.append('/home/ajinich/Documents/repos/pySankey')\n",
    "from pysankey import sankey\n",
    "\n",
    "%matplotlib inline"
   ]
  },
  {
   "cell_type": "markdown",
   "metadata": {},
   "source": [
    "# Functions"
   ]
  },
  {
   "cell_type": "code",
   "execution_count": 129,
   "metadata": {},
   "outputs": [],
   "source": [
    "def choose_k(data, max_clus):\n",
    "    \"Helper function to choose the number of clusters for KMeans.\"\n",
    "    \n",
    "    k_tests = np.arange(2, max_clus)\n",
    "    wcss = []\n",
    "    silhouettes_ = []\n",
    "    for k in tqdm.tqdm(k_tests): \n",
    "        clustering = KMeans(k, random_state = 42).fit(data)\n",
    "        wcss.append(clustering.inertia_)\n",
    "        silhouettes_.append(silhouette_score(data, clustering.predict(data)))\n",
    "    \n",
    "    \n",
    "    return wcss, silhouettes_"
   ]
  },
  {
   "cell_type": "markdown",
   "metadata": {},
   "source": [
    "# Data: "
   ]
  },
  {
   "cell_type": "markdown",
   "metadata": {},
   "source": [
    "File source: UP_Rhea_to_smiles.ipynb"
   ]
  },
  {
   "cell_type": "code",
   "execution_count": 5,
   "metadata": {},
   "outputs": [
    {
     "name": "stdout",
     "output_type": "stream",
     "text": [
      "(7365, 5)\n"
     ]
    },
    {
     "data": {
      "text/html": [
       "<div>\n",
       "<style scoped>\n",
       "    .dataframe tbody tr th:only-of-type {\n",
       "        vertical-align: middle;\n",
       "    }\n",
       "\n",
       "    .dataframe tbody tr th {\n",
       "        vertical-align: top;\n",
       "    }\n",
       "\n",
       "    .dataframe thead th {\n",
       "        text-align: right;\n",
       "    }\n",
       "</style>\n",
       "<table border=\"1\" class=\"dataframe\">\n",
       "  <thead>\n",
       "    <tr style=\"text-align: right;\">\n",
       "      <th></th>\n",
       "      <th>Entry</th>\n",
       "      <th>RheaID</th>\n",
       "      <th>type</th>\n",
       "      <th>ChEBI</th>\n",
       "      <th>smiles</th>\n",
       "    </tr>\n",
       "  </thead>\n",
       "  <tbody>\n",
       "    <tr>\n",
       "      <th>0</th>\n",
       "      <td>A0A089QRB9</td>\n",
       "      <td>50344</td>\n",
       "      <td>LEFT</td>\n",
       "      <td>CHEBI_15378</td>\n",
       "      <td>[H+]</td>\n",
       "    </tr>\n",
       "    <tr>\n",
       "      <th>1</th>\n",
       "      <td>A0A089QRB9</td>\n",
       "      <td>50344</td>\n",
       "      <td>LEFT</td>\n",
       "      <td>CHEBI_57327</td>\n",
       "      <td>C[C@@H](C([O-])=O)C(=O)SCCNC(=O)CCNC(=O)[C@H](...</td>\n",
       "    </tr>\n",
       "    <tr>\n",
       "      <th>2</th>\n",
       "      <td>A0A089QRB9</td>\n",
       "      <td>50344</td>\n",
       "      <td>LEFT</td>\n",
       "      <td>CHEBI_57783</td>\n",
       "      <td>NC(=O)C1=CN(C=CC1)[C@@H]1O[C@H](COP([O-])(=O)O...</td>\n",
       "    </tr>\n",
       "  </tbody>\n",
       "</table>\n",
       "</div>"
      ],
      "text/plain": [
       "        Entry  RheaID  type        ChEBI  \\\n",
       "0  A0A089QRB9   50344  LEFT  CHEBI_15378   \n",
       "1  A0A089QRB9   50344  LEFT  CHEBI_57327   \n",
       "2  A0A089QRB9   50344  LEFT  CHEBI_57783   \n",
       "\n",
       "                                              smiles  \n",
       "0                                               [H+]  \n",
       "1  C[C@@H](C([O-])=O)C(=O)SCCNC(=O)CCNC(=O)[C@H](...  \n",
       "2  NC(=O)C1=CN(C=CC1)[C@@H]1O[C@H](COP([O-])(=O)O...  "
      ]
     },
     "execution_count": 5,
     "metadata": {},
     "output_type": "execute_result"
    }
   ],
   "source": [
    "file_in = '../data/tests/df_UP_rhea_chebi_smiles.csv'\n",
    "df_UP_rhea_chebi_smiles = pd.read_csv( file_in )\n",
    "print(df_UP_rhea_chebi_smiles.shape)\n",
    "df_UP_rhea_chebi_smiles.head(3)"
   ]
  },
  {
   "cell_type": "code",
   "execution_count": 6,
   "metadata": {},
   "outputs": [
    {
     "data": {
      "text/plain": [
       "(7267, 5)"
      ]
     },
     "execution_count": 6,
     "metadata": {},
     "output_type": "execute_result"
    }
   ],
   "source": [
    "df_UP_rhea_chebi_smiles = df_UP_rhea_chebi_smiles[~df_UP_rhea_chebi_smiles.smiles.isnull()]\n",
    "df_UP_rhea_chebi_smiles.shape"
   ]
  },
  {
   "cell_type": "markdown",
   "metadata": {},
   "source": [
    "## [OPTIONAL] Cofactors that I might want to remove: NADH, H+, NAD, NADP, NADPH, CO2\n",
    "\n",
    "[PENDING]: Others: phosphate, orthophosphate? "
   ]
  },
  {
   "cell_type": "code",
   "execution_count": 7,
   "metadata": {},
   "outputs": [
    {
     "data": {
      "text/plain": [
       "P9WPF1    162\n",
       "O05307    120\n",
       "P9WQ51    114\n",
       "P9WPP3    104\n",
       "I6YG32     70\n",
       "P9WPL5     62\n",
       "I6Y2J4     60\n",
       "O53581     55\n",
       "P71778     53\n",
       "O53666     45\n",
       "Name: Entry, dtype: int64"
      ]
     },
     "execution_count": 7,
     "metadata": {},
     "output_type": "execute_result"
    }
   ],
   "source": [
    "df_UP_rhea_chebi_smiles.Entry.value_counts().head(10)"
   ]
  },
  {
   "cell_type": "code",
   "execution_count": 8,
   "metadata": {},
   "outputs": [],
   "source": [
    "cofactor_IDS = ['CHEBI_57945', 'CHEBI_15378', 'CHEBI_57540', 'CHEBI_58349', 'CHEBI_57783', 'CHEBI_16526']"
   ]
  },
  {
   "cell_type": "markdown",
   "metadata": {},
   "source": [
    "Reactions with NAD/NADH vs. NADP/NADPH"
   ]
  },
  {
   "cell_type": "code",
   "execution_count": 9,
   "metadata": {},
   "outputs": [],
   "source": [
    "nad_nadh = ['CHEBI_57540', 'CHEBI_57945']\n",
    "nadp_nadph = ['CHEBI_58349', 'CHEBI_57783']\n",
    "# NAD/NADH: \n",
    "df_UP_rhea_chebi_smiles_NAD = df_UP_rhea_chebi_smiles[df_UP_rhea_chebi_smiles.ChEBI.isin(nad_nadh)].copy()\n",
    "list_UP_NAD = df_UP_rhea_chebi_smiles_NAD.Entry.unique()\n",
    "\n",
    "# NADP/NADPH: \n",
    "df_UP_rhea_chebi_smiles_NADP = df_UP_rhea_chebi_smiles[df_UP_rhea_chebi_smiles.ChEBI.isin(nadp_nadph)].copy()\n",
    "list_UP_NADP = df_UP_rhea_chebi_smiles_NADP.Entry.unique()\n",
    "\n",
    "# UP_enzymes using both cofactors: \n",
    "list_UP_NAD_NADP = list(set(list_UP_NAD).intersection(set(list_UP_NADP)))\n",
    "# using only NAD\n",
    "list_UP_NAD_only = list(set(list_UP_NAD) - set(list_UP_NADP))\n",
    "# using only NADP\n",
    "list_UP_NADP_only = list(set(list_UP_NADP) - set(list_UP_NAD))"
   ]
  },
  {
   "cell_type": "code",
   "execution_count": 10,
   "metadata": {},
   "outputs": [
    {
     "name": "stdout",
     "output_type": "stream",
     "text": [
      "15 56 43\n"
     ]
    }
   ],
   "source": [
    "print(len(list_UP_NAD_NADP), len(list_UP_NAD_only), len(list_UP_NADP_only))"
   ]
  },
  {
   "cell_type": "markdown",
   "metadata": {},
   "source": [
    "Reactions involving CO2: "
   ]
  },
  {
   "cell_type": "code",
   "execution_count": 11,
   "metadata": {},
   "outputs": [
    {
     "data": {
      "text/plain": [
       "array(['A0A089QRB9', 'I6XD69', 'I6YG46', 'O06334', 'O06335', 'O50408',\n",
       "       'O53181', 'O53182', 'O53554', 'O53611', 'O69721', 'P96202',\n",
       "       'P96878', 'P9WFE1', 'P9WFE7', 'P9WFE9', 'P9WFF1', 'P9WFX7',\n",
       "       'P9WG39', 'P9WG41', 'P9WG75', 'P9WGA9', 'P9WGY3', 'P9WHQ5',\n",
       "       'P9WIC3', 'P9WIH3', 'P9WIL3', 'P9WIP3', 'P9WIS1', 'P9WIS3',\n",
       "       'P9WIS5', 'P9WIS9', 'P9WIU3', 'P9WIU7', 'P9WJ79', 'P9WJJ7',\n",
       "       'P9WK11', 'P9WK25', 'P9WKJ3', 'P9WKK9', 'P9WKL1', 'P9WKZ1',\n",
       "       'P9WL45', 'P9WN53', 'P9WNG3', 'P9WNS3', 'P9WNZ1', 'P9WPF1',\n",
       "       'P9WPF3', 'P9WPJ7', 'P9WPJ9', 'P9WPQ5', 'P9WQ85', 'P9WQ87',\n",
       "       'P9WQD7', 'P9WQD9', 'P9WQE1', 'P9WQE3', 'P9WQE5', 'P9WQE7',\n",
       "       'P9WQE9', 'Q79FJ2'], dtype=object)"
      ]
     },
     "execution_count": 11,
     "metadata": {},
     "output_type": "execute_result"
    }
   ],
   "source": [
    "co2 = ['CHEBI_16526']\n",
    "df_UP_rhea_chebi_smiles_CO2 = df_UP_rhea_chebi_smiles[df_UP_rhea_chebi_smiles.ChEBI.isin(co2)].copy()\n",
    "list_CO2 = df_UP_rhea_chebi_smiles_CO2.Entry.unique()\n",
    "list_CO2"
   ]
  },
  {
   "cell_type": "markdown",
   "metadata": {},
   "source": [
    "# remove unwanted molecules: "
   ]
  },
  {
   "cell_type": "code",
   "execution_count": 104,
   "metadata": {},
   "outputs": [],
   "source": [
    "h_id = 'CHEBI_15378'\n",
    "h2o_id = 'CHEBI_15377'\n",
    "sh = 'CHEBI_29919'\n",
    "list_unwanted_mols = [h_id, h2o_id, sh]"
   ]
  },
  {
   "cell_type": "code",
   "execution_count": 105,
   "metadata": {},
   "outputs": [],
   "source": [
    "df_UP_rhea_chebi_smiles = df_UP_rhea_chebi_smiles[~df_UP_rhea_chebi_smiles.ChEBI.isin(list_unwanted_mols)]\n",
    "df_UP_rhea_chebi_smiles.reset_index(inplace=True, drop=True)"
   ]
  },
  {
   "cell_type": "code",
   "execution_count": 106,
   "metadata": {},
   "outputs": [
    {
     "name": "stdout",
     "output_type": "stream",
     "text": [
      "(1122,)\n",
      "(710,)\n",
      "(797,)\n"
     ]
    }
   ],
   "source": [
    "# How many uniqu compounds? \n",
    "print(df_UP_rhea_chebi_smiles.smiles.unique().shape)\n",
    "# How many come from the left side of the reaction? \n",
    "print(df_UP_rhea_chebi_smiles[df_UP_rhea_chebi_smiles.type=='LEFT'].smiles.unique().shape)\n",
    "# How many come from the right side of the reaction? \n",
    "print(df_UP_rhea_chebi_smiles[df_UP_rhea_chebi_smiles.type=='RIGHT'].smiles.unique().shape)"
   ]
  },
  {
   "cell_type": "markdown",
   "metadata": {},
   "source": [
    "### Visualize a random subset of the substrate/product SMILES strings : "
   ]
  },
  {
   "cell_type": "code",
   "execution_count": 108,
   "metadata": {},
   "outputs": [
    {
     "name": "stderr",
     "output_type": "stream",
     "text": [
      "RDKit WARNING: [16:03:35] WARNING: not removing hydrogen atom with dummy atom neighbors\n",
      "[16:03:35] WARNING: not removing hydrogen atom with dummy atom neighbors\n",
      "RDKit WARNING: [16:03:35] WARNING: not removing hydrogen atom with dummy atom neighbors\n",
      "RDKit WARNING: [16:03:35] WARNING: not removing hydrogen atom with dummy atom neighbors\n",
      "[16:03:35] WARNING: not removing hydrogen atom with dummy atom neighbors\n",
      "[16:03:35] WARNING: not removing hydrogen atom with dummy atom neighbors\n"
     ]
    },
    {
     "data": {
      "image/png": "[encoded data removed]",
      "text/plain": [
       "<rdkit.Chem.rdchem.Mol at 0x7fbfd3480280>"
      ]
     },
     "metadata": {},
     "output_type": "display_data"
    },
    {
     "data": {
      "image/png": "[encoded data removed]",
      "text/plain": [
       "<rdkit.Chem.rdchem.Mol at 0x7fbfd3480100>"
      ]
     },
     "metadata": {},
     "output_type": "display_data"
    },
    {
     "data": {
      "image/png": "[encoded data removed]",
      "text/plain": [
       "<rdkit.Chem.rdchem.Mol at 0x7fbfd347a880>"
      ]
     },
     "metadata": {},
     "output_type": "display_data"
    }
   ],
   "source": [
    "mols_smiles = list(set(df_UP_rhea_chebi_smiles.smiles.tolist()))\n",
    "mols_rdkit = [Chem.MolFromSmiles(smi) for smi in mols_smiles]\n",
    "rand_mols = sample(mols_rdkit, 3)\n",
    "for mol in rand_mols:\n",
    "    display(mol)\n"
   ]
  },
  {
   "cell_type": "markdown",
   "metadata": {},
   "source": [
    "## Compute their Morgan fingerprints and cluster them: "
   ]
  },
  {
   "cell_type": "code",
   "execution_count": 110,
   "metadata": {},
   "outputs": [
    {
     "name": "stderr",
     "output_type": "stream",
     "text": [
      "RDKit WARNING: [16:03:43] WARNING: not removing hydrogen atom with dummy atom neighbors\n",
      "[16:03:43] WARNING: not removing hydrogen atom with dummy atom neighbors\n",
      "RDKit WARNING: [16:03:43] WARNING: not removing hydrogen atom with dummy atom neighbors\n",
      "[16:03:43] WARNING: not removing hydrogen atom with dummy atom neighbors\n",
      "RDKit WARNING: [16:03:45] WARNING: not removing hydrogen atom with dummy atom neighbors\n",
      "[16:03:45] WARNING: not removing hydrogen atom with dummy atom neighbors\n"
     ]
    }
   ],
   "source": [
    "df_mols_uniq = df_UP_rhea_chebi_smiles[['ChEBI', 'smiles']].drop_duplicates()\n",
    "df_mols_uniq.reset_index(inplace=True, drop=True)\n",
    "mols_smiles = df_mols_uniq.smiles.tolist()\n",
    "\n",
    "Xfp = []\n",
    "for smi in mols_smiles:\n",
    "    mol = Chem.MolFromSmiles(smi)\n",
    "    Xfp.append(np.array(AllChem.GetMorganFingerprintAsBitVect(mol, radius=3)))\n",
    "Xfp = np.stack(Xfp, 0)"
   ]
  },
  {
   "cell_type": "code",
   "execution_count": 111,
   "metadata": {},
   "outputs": [
    {
     "name": "stdout",
     "output_type": "stream",
     "text": [
      "(1139, 2)\n"
     ]
    },
    {
     "data": {
      "text/plain": [
       "(1139, 2048)"
      ]
     },
     "execution_count": 111,
     "metadata": {},
     "output_type": "execute_result"
    }
   ],
   "source": [
    "print(df_mols_uniq.shape)\n",
    "Xfp.shape"
   ]
  },
  {
   "cell_type": "markdown",
   "metadata": {},
   "source": [
    "#### UMAP projection of Morgan fingerprints: "
   ]
  },
  {
   "cell_type": "code",
   "execution_count": 130,
   "metadata": {},
   "outputs": [
    {
     "name": "stderr",
     "output_type": "stream",
     "text": [
      "/home/ajinich/miniconda3/lib/python3.8/site-packages/umap/umap_.py:1760: UserWarning: gradient function is not yet implemented for jaccard distance metric; inverse_transform will be unavailable\n",
      "  warn(\n"
     ]
    }
   ],
   "source": [
    "seed = 184\n",
    "np.random.seed(seed)\n",
    "u_fp = umap.UMAP(random_state = seed, metric='jaccard', min_dist = 0, n_components = 3).fit_transform(Xfp)"
   ]
  },
  {
   "cell_type": "markdown",
   "metadata": {},
   "source": [
    "#### Add UMAP coordinates to compound dataframe"
   ]
  },
  {
   "cell_type": "code",
   "execution_count": 131,
   "metadata": {},
   "outputs": [
    {
     "data": {
      "text/html": [
       "<div>\n",
       "<style scoped>\n",
       "    .dataframe tbody tr th:only-of-type {\n",
       "        vertical-align: middle;\n",
       "    }\n",
       "\n",
       "    .dataframe tbody tr th {\n",
       "        vertical-align: top;\n",
       "    }\n",
       "\n",
       "    .dataframe thead th {\n",
       "        text-align: right;\n",
       "    }\n",
       "</style>\n",
       "<table border=\"1\" class=\"dataframe\">\n",
       "  <thead>\n",
       "    <tr style=\"text-align: right;\">\n",
       "      <th></th>\n",
       "      <th>ChEBI</th>\n",
       "      <th>smiles</th>\n",
       "      <th>u1</th>\n",
       "      <th>u2</th>\n",
       "      <th>u3</th>\n",
       "    </tr>\n",
       "  </thead>\n",
       "  <tbody>\n",
       "    <tr>\n",
       "      <th>0</th>\n",
       "      <td>CHEBI_57327</td>\n",
       "      <td>C[C@@H](C([O-])=O)C(=O)SCCNC(=O)CCNC(=O)[C@H](...</td>\n",
       "      <td>3.305826</td>\n",
       "      <td>15.943238</td>\n",
       "      <td>5.922484</td>\n",
       "    </tr>\n",
       "    <tr>\n",
       "      <th>1</th>\n",
       "      <td>CHEBI_57783</td>\n",
       "      <td>NC(=O)C1=CN(C=CC1)[C@@H]1O[C@H](COP([O-])(=O)O...</td>\n",
       "      <td>-2.908326</td>\n",
       "      <td>3.605886</td>\n",
       "      <td>-1.523988</td>\n",
       "    </tr>\n",
       "  </tbody>\n",
       "</table>\n",
       "</div>"
      ],
      "text/plain": [
       "         ChEBI                                             smiles        u1  \\\n",
       "0  CHEBI_57327  C[C@@H](C([O-])=O)C(=O)SCCNC(=O)CCNC(=O)[C@H](...  3.305826   \n",
       "1  CHEBI_57783  NC(=O)C1=CN(C=CC1)[C@@H]1O[C@H](COP([O-])(=O)O... -2.908326   \n",
       "\n",
       "          u2        u3  \n",
       "0  15.943238  5.922484  \n",
       "1   3.605886 -1.523988  "
      ]
     },
     "execution_count": 131,
     "metadata": {},
     "output_type": "execute_result"
    }
   ],
   "source": [
    "df_mols_uniq['u1'], df_mols_uniq['u2'], df_mols_uniq['u3'] = u_fp[:,0], u_fp[:,1], u_fp[:,2]\n",
    "df_mols_uniq.head(2)"
   ]
  },
  {
   "cell_type": "code",
   "execution_count": 16,
   "metadata": {},
   "outputs": [
    {
     "name": "stdout",
     "output_type": "stream",
     "text": [
      "Populating the interactive namespace from numpy and matplotlib\n"
     ]
    },
    {
     "name": "stderr",
     "output_type": "stream",
     "text": [
      "/home/ajinich/miniconda3/lib/python3.8/site-packages/IPython/core/magics/pylab.py:159: UserWarning: pylab import has clobbered these variables: ['random', 'seed']\n",
      "`%matplotlib` prevents importing * from pylab and numpy\n",
      "  warn(\"pylab import has clobbered these variables: %s\"  % clobbered +\n"
     ]
    }
   ],
   "source": [
    "%pylab inline"
   ]
  },
  {
   "cell_type": "code",
   "execution_count": null,
   "metadata": {},
   "outputs": [],
   "source": [
    "plt.figure(figsize=(14,7))\n",
    "\n",
    "plt.scatter(df_mols_uniq_noCF['u1'], df_mols_uniq_noCF['u2'], s = 100, color = cols[-1], edgecolors='k', linewidths = 2, alpha = 0.7)\n",
    "\n",
    "plt.xlabel('UMAP-1', fontsize = 24 )\n",
    "plt.ylabel('UMAP-2', fontsize = 24 )\n",
    "xt = plt.xticks(fontsize = 16)\n",
    "yt = plt.yticks(fontsize = 16)\n",
    "\n",
    "plt.tight_layout()"
   ]
  },
  {
   "cell_type": "markdown",
   "metadata": {},
   "source": [
    "## Clustering:"
   ]
  },
  {
   "cell_type": "markdown",
   "metadata": {},
   "source": [
    "### Cluster the compounds according to UMAP coordinates \n",
    "\n",
    "#### (should capture molecular structure): "
   ]
  },
  {
   "cell_type": "code",
   "execution_count": 133,
   "metadata": {},
   "outputs": [],
   "source": [
    "data = df_mols_uniq[['u1', 'u2', 'u3']].values"
   ]
  },
  {
   "cell_type": "code",
   "execution_count": 134,
   "metadata": {},
   "outputs": [
    {
     "name": "stderr",
     "output_type": "stream",
     "text": [
      "100%|███████████████████████████████████████████████████████████████████████████████████████████████████████████████████| 98/98 [00:21<00:00,  4.63it/s]"
     ]
    },
    {
     "name": "stdout",
     "output_type": "stream",
     "text": [
      "CPU times: user 2min 32s, sys: 1.54 s, total: 2min 34s\n",
      "Wall time: 21.2 s\n"
     ]
    },
    {
     "name": "stderr",
     "output_type": "stream",
     "text": [
      "\n"
     ]
    }
   ],
   "source": [
    "%%time\n",
    "wcss, sil = choose_k(data, max_clus = 100)"
   ]
  },
  {
   "cell_type": "code",
   "execution_count": 135,
   "metadata": {},
   "outputs": [
    {
     "data": {},
     "metadata": {},
     "output_type": "display_data"
    },
    {
     "data": {
      "application/vnd.holoviews_exec.v0+json": "",
      "text/html": [
       "<div id='2759'>\n",
       "\n",
       "\n",
       "\n",
       "\n",
       "\n",
       "  <div class=\"bk-root\" id=\"ab0a5076-23b4-4d5b-a123-a5655ce8358d\" data-root-id=\"2759\"></div>\n",
       "</div>\n",
       "<script type=\"application/javascript\">(function(root) {\n",
       "  function embed_document(root) {\n",
       "    var docs_json = {\"453f3b39-ee9a-4bfb-9ae4-d9c0a5ebe0a1\":{\"defs\":[{\"extends\":null,\"module\":null,\"name\":\"ReactiveHTML1\",\"overrides\":[],\"properties\":[]},{\"extends\":null,\"module\":null,\"name\":\"FlexBox1\",\"overrides\":[],\"properties\":[{\"default\":\"flex-start\",\"kind\":null,\"name\":\"align_content\"},{\"default\":\"flex-start\",\"kind\":null,\"name\":\"align_items\"},{\"default\":\"row\",\"kind\":null,\"name\":\"flex_direction\"},{\"default\":\"wrap\",\"kind\":null,\"name\":\"flex_wrap\"},{\"default\":\"flex-start\",\"kind\":null,\"name\":\"justify_content\"}]},{\"extends\":null,\"module\":null,\"name\":\"TemplateActions1\",\"overrides\":[],\"properties\":[{\"default\":0,\"kind\":null,\"name\":\"open_modal\"},{\"default\":0,\"kind\":null,\"name\":\"close_modal\"}]},{\"extends\":null,\"module\":null,\"name\":\"MaterialTemplateActions1\",\"overrides\":[],\"properties\":[{\"default\":0,\"kind\":null,\"name\":\"open_modal\"},{\"default\":0,\"kind\":null,\"name\":\"close_modal\"}]}],\"roots\":{\"references\":[{\"attributes\":{},\"id\":\"2865\",\"type\":\"UnionRenderers\"},{\"attributes\":{\"bottom_units\":\"screen\",\"fill_alpha\":0.5,\"fill_color\":\"lightgrey\",\"left_units\":\"screen\",\"level\":\"overlay\",\"line_alpha\":1.0,\"line_color\":\"black\",\"line_dash\":[4,4],\"line_width\":2,\"right_units\":\"screen\",\"syncable\":false,\"top_units\":\"screen\"},\"id\":\"2834\",\"type\":\"BoxAnnotation\"},{\"attributes\":{},\"id\":\"2769\",\"type\":\"LinearScale\"},{\"attributes\":{\"data_source\":{\"id\":\"2794\"},\"glyph\":{\"id\":\"2797\"},\"hover_glyph\":null,\"muted_glyph\":{\"id\":\"2799\"},\"nonselection_glyph\":{\"id\":\"2798\"},\"selection_glyph\":{\"id\":\"2802\"},\"view\":{\"id\":\"2801\"}},\"id\":\"2800\",\"type\":\"GlyphRenderer\"},{\"attributes\":{},\"id\":\"2833\",\"type\":\"ResetTool\"},{\"attributes\":{\"end\":106.7,\"reset_end\":106.7,\"reset_start\":-9.700000000000001,\"start\":-9.700000000000001,\"tags\":[[[\"x\",\"x\",null]]]},\"id\":\"2761\",\"type\":\"Range1d\"},{\"attributes\":{\"overlay\":{\"id\":\"2834\"}},\"id\":\"2832\",\"type\":\"BoxZoomTool\"},{\"attributes\":{\"margin\":[5,5,5,5],\"name\":\"HSpacer03356\",\"sizing_mode\":\"stretch_width\"},\"id\":\"2760\",\"type\":\"Spacer\"},{\"attributes\":{\"line_alpha\":0.2,\"line_color\":\"orange\",\"line_width\":2,\"x\":{\"field\":\"x\"},\"y\":{\"field\":\"y\"}},\"id\":\"2799\",\"type\":\"Line\"},{\"attributes\":{},\"id\":\"2795\",\"type\":\"Selection\"},{\"attributes\":{\"data\":{\"x\":[0,1,2,3,4,5,6,7,8,9,10,11,12,13,14,15,16,17,18,19,20,21,22,23,24,25,26,27,28,29,30,31,32,33,34,35,36,37,38,39,40,41,42,43,44,45,46,47,48,49,50,51,52,53,54,55,56,57,58,59,60,61,62,63,64,65,66,67,68,69,70,71,72,73,74,75,76,77,78,79,80,81,82,83,84,85,86,87,88,89,90,91,92,93,94,95,96,97],\"y\":{\"__ndarray__\":\"rvwJP01GAD/nPBA/ndcZP19UGz/mdyE/HKwnPxDrJj+UWRs/nHEdP5P0Fj+NqR4/gagZPxjtFj/MEBg/OzAZP8KYFj95ZCA/Fi4gP/clKD/OAic/XToqPwCiKT9UdS4/zDcuPziTLj9mEy0/3IkxPxbMLT9lvy4/cNkuP40PMD8xMC4/kS4sPzxHLT8QRi0/qVEtP6sLKj+4Yiw/Zj4mP+meKD/cjCk/7zUnP1JfKT/apyM/qbgnP0AkJj+PTyo/NCsqPxbPKT9wmig/jhQqP2IHKD/eCik/GZooP5EcJT+vaic/zrkmP+kNKD+o+CM/uQYrP3C1Iz8vXyM/k4AkP/6jJD/iSSg/ZVsmP0RPKT+8mSI/AfcoP5boJz84XCU/kQMoP1paJj+LayU/UCQmPyxJJj/LmyY/+MgpP049KD8lNyg/W50nPzQTKT8jhyg/M2UoPzrdJj/qECg/VqYnP9ueKD8QGSY/CgEnPy3/Jz+mKyc/xV4nPyemKT+rayc/AUEoP7vqKD8=\",\"dtype\":\"float32\",\"order\":\"little\",\"shape\":[98]}},\"selected\":{\"id\":\"2843\"},\"selection_policy\":{\"id\":\"2876\"}},\"id\":\"2842\",\"type\":\"ColumnDataSource\"},{\"attributes\":{\"line_alpha\":0.1,\"line_color\":\"orange\",\"line_width\":2,\"x\":{\"field\":\"x\"},\"y\":{\"field\":\"y\"}},\"id\":\"2798\",\"type\":\"Line\"},{\"attributes\":{\"axis_label\":\"number of clusters\",\"formatter\":{\"id\":\"2851\"},\"major_label_policy\":{\"id\":\"2853\"},\"ticker\":{\"id\":\"2822\"}},\"id\":\"2821\",\"type\":\"LinearAxis\"},{\"attributes\":{\"data\":{\"x\":[0,1,2,3,4,5,6,7,8,9,10,11,12,13,14,15,16,17,18,19,20,21,22,23,24,25,26,27,28,29,30,31,32,33,34,35,36,37,38,39,40,41,42,43,44,45,46,47,48,49,50,51,52,53,54,55,56,57,58,59,60,61,62,63,64,65,66,67,68,69,70,71,72,73,74,75,76,77,78,79,80,81,82,83,84,85,86,87,88,89,90,91,92,93,94,95,96,97],\"y\":{\"__ndarray__\":\"AAAAQI8Y40AAAAAgL2nXQAAAAICstM5AAAAAgM4Pw0AAAACAk7a6QAAAAGCYSrFAAAAAwKVcqkAAAADgiHOjQAAAAGCIbqBAAAAAQOqlm0AAAABAo4uXQAAAAEAgM5NAAAAAwGzqkEAAAABAJ1iNQAAAAOC0KopAAAAAIE3+hkAAAADAks2FQAAAAICMioJAAAAAAG1FgUAAAADga4N9QAAAAOBmKXpAAAAAIGETd0AAAAAAM6R0QAAAAOCP4XFAAAAAYEXnbkAAAAAgmrtsQAAAAMD32GpAAAAAQFaaaUAAAACA+19oQAAAAAAdB2dAAAAAAC11ZUAAAABAzYRkQAAAAACsmGNAAAAAYIpyYkAAAABAgB1hQAAAAGBVNWBAAAAAAHJcXkAAAADA0AheQAAAAIDieltAAAAAQCbSWkAAAADAuT9ZQAAAAMC8z1dAAAAA4BQvV0AAAADAzOZVQAAAAIBOAVVAAAAAQEu8U0AAAAAgRz9TQAAAAMBA0lJAAAAA4CFIUUAAAABg365QQAAAAABa809AAAAAgAD5TkAAAABgtOlMQAAAACAl30pAAAAAgPs9SkAAAACgow1KQAAAAAAYoUhAAAAAQCIfR0AAAABgKkVGQAAAAICXEkVAAAAAgOeYREAAAACAh+9DQAAAAGCGQkNAAAAAYAPOQkAAAADAsQpCQAAAAEC4RkFAAAAA4Lk2QUAAAABAe4JAQAAAAADXBkBAAAAAYJrlPkAAAADgTf09QAAAAEC7Az5AAAAAQPDAPEAAAACAKc07QAAAAECnuDtAAAAAIGv9OkAAAABAt/I5QAAAAGAmUzlAAAAAwMt7OEAAAADAKpk3QAAAACB/ejdAAAAAYM33NkAAAACAa1E2QAAAAKDd2DVAAAAAoEY3NUAAAADgld40QAAAACBVgDRAAAAAQDUUNEAAAACgMOwzQAAAAAD3aDNAAAAAQFrEMkAAAACAIVwyQAAAAKC7UDJAAAAAAL2sMUAAAABAiAUxQAAAAMAJEDFAAAAAYAZgMEAAAACgAjwwQA==\",\"dtype\":\"float64\",\"order\":\"little\",\"shape\":[98]}},\"selected\":{\"id\":\"2795\"},\"selection_policy\":{\"id\":\"2865\"}},\"id\":\"2794\",\"type\":\"ColumnDataSource\"},{\"attributes\":{},\"id\":\"2854\",\"type\":\"BasicTickFormatter\"},{\"attributes\":{\"line_color\":\"orange\",\"line_width\":2,\"x\":{\"field\":\"x\"},\"y\":{\"field\":\"y\"}},\"id\":\"2797\",\"type\":\"Line\"},{\"attributes\":{},\"id\":\"2774\",\"type\":\"BasicTicker\"},{\"attributes\":{\"margin\":[5,5,5,5],\"name\":\"HSpacer03357\",\"sizing_mode\":\"stretch_width\"},\"id\":\"3063\",\"type\":\"Spacer\"},{\"attributes\":{\"children\":[{\"id\":\"2760\"},{\"id\":\"2882\"},{\"id\":\"3063\"}],\"margin\":[0,0,0,0],\"name\":\"Row03352\",\"tags\":[\"embedded\"]},\"id\":\"2759\",\"type\":\"Row\"},{\"attributes\":{\"below\":[{\"id\":\"2773\"}],\"center\":[{\"id\":\"2776\"},{\"id\":\"2780\"}],\"height\":300,\"left\":[{\"id\":\"2777\"}],\"margin\":null,\"min_border_bottom\":10,\"min_border_left\":10,\"min_border_right\":10,\"min_border_top\":10,\"renderers\":[{\"id\":\"2800\"}],\"sizing_mode\":\"fixed\",\"title\":{\"id\":\"2765\"},\"toolbar\":{\"id\":\"2787\"},\"toolbar_location\":null,\"width\":300,\"x_range\":{\"id\":\"2761\"},\"x_scale\":{\"id\":\"2769\"},\"y_range\":{\"id\":\"2762\"},\"y_scale\":{\"id\":\"2771\"}},\"id\":\"2764\",\"subtype\":\"Figure\",\"type\":\"Plot\"},{\"attributes\":{},\"id\":\"2876\",\"type\":\"UnionRenderers\"},{\"attributes\":{\"end\":43017.700777244565,\"reset_end\":43017.700777244565,\"reset_start\":-3892.989799690247,\"start\":-3892.989799690247,\"tags\":[[[\"y\",\"y\",null]]]},\"id\":\"2762\",\"type\":\"Range1d\"},{\"attributes\":{\"axis\":{\"id\":\"2773\"},\"grid_line_color\":null,\"ticker\":null},\"id\":\"2776\",\"type\":\"Grid\"},{\"attributes\":{},\"id\":\"2803\",\"type\":\"BasicTickFormatter\"},{\"attributes\":{\"axis\":{\"id\":\"2825\"},\"dimension\":1,\"grid_line_color\":null,\"ticker\":null},\"id\":\"2828\",\"type\":\"Grid\"},{\"attributes\":{\"active_multi\":null,\"tools\":[{\"id\":\"2763\"},{\"id\":\"2781\"},{\"id\":\"2782\"},{\"id\":\"2783\"},{\"id\":\"2784\"},{\"id\":\"2785\"}]},\"id\":\"2787\",\"type\":\"Toolbar\"},{\"attributes\":{\"source\":{\"id\":\"2794\"}},\"id\":\"2801\",\"type\":\"CDSView\"},{\"attributes\":{\"text\":\"Within cluster sum of squares\",\"text_color\":\"black\",\"text_font_size\":\"12pt\"},\"id\":\"2765\",\"type\":\"Title\"},{\"attributes\":{\"below\":[{\"id\":\"2821\"}],\"center\":[{\"id\":\"2824\"},{\"id\":\"2828\"}],\"height\":300,\"left\":[{\"id\":\"2825\"}],\"margin\":null,\"min_border_bottom\":10,\"min_border_left\":10,\"min_border_right\":10,\"min_border_top\":10,\"renderers\":[{\"id\":\"2848\"}],\"sizing_mode\":\"fixed\",\"title\":{\"id\":\"2813\"},\"toolbar\":{\"id\":\"2835\"},\"toolbar_location\":null,\"width\":300,\"x_range\":{\"id\":\"2809\"},\"x_scale\":{\"id\":\"2817\"},\"y_range\":{\"id\":\"2810\"},\"y_scale\":{\"id\":\"2819\"}},\"id\":\"2812\",\"subtype\":\"Figure\",\"type\":\"Plot\"},{\"attributes\":{},\"id\":\"2822\",\"type\":\"BasicTicker\"},{\"attributes\":{},\"id\":\"2819\",\"type\":\"LinearScale\"},{\"attributes\":{},\"id\":\"2831\",\"type\":\"WheelZoomTool\"},{\"attributes\":{\"bottom_units\":\"screen\",\"fill_alpha\":0.5,\"fill_color\":\"lightgrey\",\"left_units\":\"screen\",\"level\":\"overlay\",\"line_alpha\":1.0,\"line_color\":\"black\",\"line_dash\":[4,4],\"line_width\":2,\"right_units\":\"screen\",\"syncable\":false,\"top_units\":\"screen\"},\"id\":\"2786\",\"type\":\"BoxAnnotation\"},{\"attributes\":{\"toolbar\":{\"id\":\"2880\"},\"toolbar_location\":\"above\"},\"id\":\"2881\",\"type\":\"ToolbarBox\"},{\"attributes\":{\"line_color\":\"orange\",\"line_width\":2,\"x\":{\"field\":\"x\"},\"y\":{\"field\":\"y\"}},\"id\":\"2802\",\"type\":\"Line\"},{\"attributes\":{\"line_alpha\":0.1,\"line_color\":\"#30a2da\",\"line_width\":2,\"x\":{\"field\":\"x\"},\"y\":{\"field\":\"y\"}},\"id\":\"2846\",\"type\":\"Line\"},{\"attributes\":{\"active_multi\":null,\"tools\":[{\"id\":\"2811\"},{\"id\":\"2829\"},{\"id\":\"2830\"},{\"id\":\"2831\"},{\"id\":\"2832\"},{\"id\":\"2833\"}]},\"id\":\"2835\",\"type\":\"Toolbar\"},{\"attributes\":{\"axis_label\":\"WCSS\",\"formatter\":{\"id\":\"2806\"},\"major_label_policy\":{\"id\":\"2808\"},\"ticker\":{\"id\":\"2778\"}},\"id\":\"2777\",\"type\":\"LinearAxis\"},{\"attributes\":{\"source\":{\"id\":\"2842\"}},\"id\":\"2849\",\"type\":\"CDSView\"},{\"attributes\":{},\"id\":\"2783\",\"type\":\"WheelZoomTool\"},{\"attributes\":{},\"id\":\"2808\",\"type\":\"AllLabels\"},{\"attributes\":{\"children\":[[{\"id\":\"2764\"},0,0],[{\"id\":\"2812\"},0,1]]},\"id\":\"2879\",\"type\":\"GridBox\"},{\"attributes\":{},\"id\":\"2771\",\"type\":\"LinearScale\"},{\"attributes\":{\"axis\":{\"id\":\"2777\"},\"dimension\":1,\"grid_line_color\":null,\"ticker\":null},\"id\":\"2780\",\"type\":\"Grid\"},{\"attributes\":{},\"id\":\"2853\",\"type\":\"AllLabels\"},{\"attributes\":{},\"id\":\"2782\",\"type\":\"PanTool\"},{\"attributes\":{\"axis_label\":\"number of clusters\",\"formatter\":{\"id\":\"2803\"},\"major_label_policy\":{\"id\":\"2805\"},\"ticker\":{\"id\":\"2774\"}},\"id\":\"2773\",\"type\":\"LinearAxis\"},{\"attributes\":{\"axis\":{\"id\":\"2821\"},\"grid_line_color\":null,\"ticker\":null},\"id\":\"2824\",\"type\":\"Grid\"},{\"attributes\":{},\"id\":\"2778\",\"type\":\"BasicTicker\"},{\"attributes\":{},\"id\":\"2856\",\"type\":\"AllLabels\"},{\"attributes\":{\"line_alpha\":0.2,\"line_color\":\"#30a2da\",\"line_width\":2,\"x\":{\"field\":\"x\"},\"y\":{\"field\":\"y\"}},\"id\":\"2847\",\"type\":\"Line\"},{\"attributes\":{},\"id\":\"2781\",\"type\":\"SaveTool\"},{\"attributes\":{},\"id\":\"2806\",\"type\":\"BasicTickFormatter\"},{\"attributes\":{\"children\":[{\"id\":\"2881\"},{\"id\":\"2879\"}]},\"id\":\"2882\",\"type\":\"Column\"},{\"attributes\":{},\"id\":\"2805\",\"type\":\"AllLabels\"},{\"attributes\":{},\"id\":\"2829\",\"type\":\"SaveTool\"},{\"attributes\":{\"overlay\":{\"id\":\"2786\"}},\"id\":\"2784\",\"type\":\"BoxZoomTool\"},{\"attributes\":{\"data_source\":{\"id\":\"2842\"},\"glyph\":{\"id\":\"2845\"},\"hover_glyph\":null,\"muted_glyph\":{\"id\":\"2847\"},\"nonselection_glyph\":{\"id\":\"2846\"},\"selection_glyph\":{\"id\":\"2850\"},\"view\":{\"id\":\"2849\"}},\"id\":\"2848\",\"type\":\"GlyphRenderer\"},{\"attributes\":{\"toolbars\":[{\"id\":\"2787\"},{\"id\":\"2835\"}],\"tools\":[{\"id\":\"2763\"},{\"id\":\"2781\"},{\"id\":\"2782\"},{\"id\":\"2783\"},{\"id\":\"2784\"},{\"id\":\"2785\"},{\"id\":\"2811\"},{\"id\":\"2829\"},{\"id\":\"2830\"},{\"id\":\"2831\"},{\"id\":\"2832\"},{\"id\":\"2833\"}]},\"id\":\"2880\",\"type\":\"ProxyToolbar\"},{\"attributes\":{},\"id\":\"2785\",\"type\":\"ResetTool\"},{\"attributes\":{\"line_color\":\"#30a2da\",\"line_width\":2,\"x\":{\"field\":\"x\"},\"y\":{\"field\":\"y\"}},\"id\":\"2850\",\"type\":\"Line\"},{\"attributes\":{\"end\":0.7127535283565521,\"reset_end\":0.7127535283565521,\"reset_start\":0.48182899355888364,\"start\":0.48182899355888364,\"tags\":[[[\"y\",\"y\",null]]]},\"id\":\"2810\",\"type\":\"Range1d\"},{\"attributes\":{\"axis_label\":\"silhouette score\",\"formatter\":{\"id\":\"2854\"},\"major_label_policy\":{\"id\":\"2856\"},\"ticker\":{\"id\":\"2826\"}},\"id\":\"2825\",\"type\":\"LinearAxis\"},{\"attributes\":{\"line_color\":\"#30a2da\",\"line_width\":2,\"x\":{\"field\":\"x\"},\"y\":{\"field\":\"y\"}},\"id\":\"2845\",\"type\":\"Line\"},{\"attributes\":{\"callback\":null,\"renderers\":[{\"id\":\"2800\"}],\"tags\":[\"hv_created\"],\"tooltips\":[[\"x\",\"@{x}\"],[\"y\",\"@{y}\"]]},\"id\":\"2763\",\"type\":\"HoverTool\"},{\"attributes\":{},\"id\":\"2830\",\"type\":\"PanTool\"},{\"attributes\":{\"end\":106.7,\"reset_end\":106.7,\"reset_start\":-9.700000000000001,\"start\":-9.700000000000001,\"tags\":[[[\"x\",\"x\",null]]]},\"id\":\"2809\",\"type\":\"Range1d\"},{\"attributes\":{},\"id\":\"2851\",\"type\":\"BasicTickFormatter\"},{\"attributes\":{},\"id\":\"2826\",\"type\":\"BasicTicker\"},{\"attributes\":{\"text\":\"silhouette score\",\"text_color\":\"black\",\"text_font_size\":\"12pt\"},\"id\":\"2813\",\"type\":\"Title\"},{\"attributes\":{},\"id\":\"2817\",\"type\":\"LinearScale\"},{\"attributes\":{\"callback\":null,\"renderers\":[{\"id\":\"2848\"}],\"tags\":[\"hv_created\"],\"tooltips\":[[\"x\",\"@{x}\"],[\"y\",\"@{y}\"]]},\"id\":\"2811\",\"type\":\"HoverTool\"},{\"attributes\":{},\"id\":\"2843\",\"type\":\"Selection\"}],\"root_ids\":[\"2759\"]},\"title\":\"Bokeh Application\",\"version\":\"2.3.3\"}};\n",
       "    var render_items = [{\"docid\":\"453f3b39-ee9a-4bfb-9ae4-d9c0a5ebe0a1\",\"root_ids\":[\"2759\"],\"roots\":{\"2759\":\"ab0a5076-23b4-4d5b-a123-a5655ce8358d\"}}];\n",
       "    root.Bokeh.embed.embed_items_notebook(docs_json, render_items);\n",
       "  }\n",
       "  if (root.Bokeh !== undefined && root.Bokeh.Panel !== undefined) {\n",
       "    embed_document(root);\n",
       "  } else {\n",
       "    var attempts = 0;\n",
       "    var timer = setInterval(function(root) {\n",
       "      if (root.Bokeh !== undefined && root.Bokeh.Panel !== undefined) {\n",
       "        clearInterval(timer);\n",
       "        embed_document(root);\n",
       "      } else if (document.readyState == \"complete\") {\n",
       "        attempts++;\n",
       "        if (attempts > 200) {\n",
       "          clearInterval(timer);\n",
       "          console.log(\"Bokeh: ERROR: Unable to run BokehJS code because BokehJS library is missing\");\n",
       "        }\n",
       "      }\n",
       "    }, 25, root)\n",
       "  }\n",
       "})(window);</script>"
      ],
      "text/plain": [
       ":Layout\n",
       "   .Curve.Within_cluster_sum_of_squares :Curve   [x]   (y)\n",
       "   .Curve.Silhouette_score              :Curve   [x]   (y)"
      ]
     },
     "execution_count": 135,
     "metadata": {
      "application/vnd.holoviews_exec.v0+json": {
       "id": "2759"
      }
     },
     "output_type": "execute_result"
    }
   ],
   "source": [
    "wcss_plot = hv.Curve((wcss), label=\"Within cluster sum of squares\").opts(\n",
    "    xlabel=\"number of clusters\",\n",
    "    ylabel=\"WCSS\",\n",
    "    padding=0.1,\n",
    "    tools=[\"hover\"],\n",
    "    color=\"orange\",\n",
    ")\n",
    "silhouette_plot = hv.Curve((sil), label=\"silhouette score\").opts(\n",
    "    xlabel=\"number of clusters\", ylabel=\"silhouette score\", padding=0.1, tools=[\"hover\"]\n",
    ")\n",
    "\n",
    "wcss_plot + silhouette_plot.opts(shared_axes = False)"
   ]
  },
  {
   "cell_type": "markdown",
   "metadata": {},
   "source": [
    "### Choose the optimal number of clusters and visualize:"
   ]
  },
  {
   "cell_type": "code",
   "execution_count": 138,
   "metadata": {},
   "outputs": [
    {
     "data": {
      "text/html": [
       "<div>\n",
       "<style scoped>\n",
       "    .dataframe tbody tr th:only-of-type {\n",
       "        vertical-align: middle;\n",
       "    }\n",
       "\n",
       "    .dataframe tbody tr th {\n",
       "        vertical-align: top;\n",
       "    }\n",
       "\n",
       "    .dataframe thead th {\n",
       "        text-align: right;\n",
       "    }\n",
       "</style>\n",
       "<table border=\"1\" class=\"dataframe\">\n",
       "  <thead>\n",
       "    <tr style=\"text-align: right;\">\n",
       "      <th></th>\n",
       "      <th>ChEBI</th>\n",
       "      <th>smiles</th>\n",
       "      <th>u1</th>\n",
       "      <th>u2</th>\n",
       "      <th>u3</th>\n",
       "      <th>cluster_labels</th>\n",
       "    </tr>\n",
       "  </thead>\n",
       "  <tbody>\n",
       "    <tr>\n",
       "      <th>0</th>\n",
       "      <td>CHEBI_57327</td>\n",
       "      <td>C[C@@H](C([O-])=O)C(=O)SCCNC(=O)CCNC(=O)[C@H](...</td>\n",
       "      <td>3.305826</td>\n",
       "      <td>15.943238</td>\n",
       "      <td>5.922484</td>\n",
       "      <td>10</td>\n",
       "    </tr>\n",
       "    <tr>\n",
       "      <th>1</th>\n",
       "      <td>CHEBI_57783</td>\n",
       "      <td>NC(=O)C1=CN(C=CC1)[C@@H]1O[C@H](COP([O-])(=O)O...</td>\n",
       "      <td>-2.908326</td>\n",
       "      <td>3.605886</td>\n",
       "      <td>-1.523988</td>\n",
       "      <td>23</td>\n",
       "    </tr>\n",
       "    <tr>\n",
       "      <th>2</th>\n",
       "      <td>CHEBI_64479</td>\n",
       "      <td>C(NC(CCNC(=O)[C@@H](C(COP(OC[C@@H](C(*)=O)N*)(...</td>\n",
       "      <td>12.578112</td>\n",
       "      <td>1.370632</td>\n",
       "      <td>-0.493632</td>\n",
       "      <td>3</td>\n",
       "    </tr>\n",
       "    <tr>\n",
       "      <th>3</th>\n",
       "      <td>CHEBI_83139</td>\n",
       "      <td>CC(C)(COP([O-])(=O)OP([O-])(=O)OC[C@H]1O[C@H](...</td>\n",
       "      <td>3.345856</td>\n",
       "      <td>16.015938</td>\n",
       "      <td>5.833848</td>\n",
       "      <td>10</td>\n",
       "    </tr>\n",
       "    <tr>\n",
       "      <th>4</th>\n",
       "      <td>CHEBI_16526</td>\n",
       "      <td>O=C=O</td>\n",
       "      <td>-0.668661</td>\n",
       "      <td>-0.549501</td>\n",
       "      <td>6.127844</td>\n",
       "      <td>0</td>\n",
       "    </tr>\n",
       "    <tr>\n",
       "      <th>...</th>\n",
       "      <td>...</td>\n",
       "      <td>...</td>\n",
       "      <td>...</td>\n",
       "      <td>...</td>\n",
       "      <td>...</td>\n",
       "      <td>...</td>\n",
       "    </tr>\n",
       "    <tr>\n",
       "      <th>1134</th>\n",
       "      <td>CHEBI_28689</td>\n",
       "      <td>[H][C@@]12CC=C3C[C@@H](O)CC[C@]3(C)[C@@]1([H])...</td>\n",
       "      <td>-0.318774</td>\n",
       "      <td>9.503427</td>\n",
       "      <td>3.201597</td>\n",
       "      <td>1</td>\n",
       "    </tr>\n",
       "    <tr>\n",
       "      <th>1135</th>\n",
       "      <td>CHEBI_83865</td>\n",
       "      <td>C[C@]12CC[C@H]3[C@@H](CC=C4CC(=O)CC[C@]34C)[C@...</td>\n",
       "      <td>-0.278128</td>\n",
       "      <td>9.507502</td>\n",
       "      <td>3.295506</td>\n",
       "      <td>1</td>\n",
       "    </tr>\n",
       "    <tr>\n",
       "      <th>1136</th>\n",
       "      <td>CHEBI_141140</td>\n",
       "      <td>O(P(OC[C@H]1O[C@@H](N2C=3N=CN=C(N)C3N=C2)[C@@H...</td>\n",
       "      <td>-2.676586</td>\n",
       "      <td>3.758908</td>\n",
       "      <td>-1.664882</td>\n",
       "      <td>23</td>\n",
       "    </tr>\n",
       "    <tr>\n",
       "      <th>1137</th>\n",
       "      <td>CHEBI_62225</td>\n",
       "      <td>[NH3+][C@@H](CSS([O-])(=O)=O)C([O-])=O</td>\n",
       "      <td>0.708042</td>\n",
       "      <td>-0.675666</td>\n",
       "      <td>4.119482</td>\n",
       "      <td>19</td>\n",
       "    </tr>\n",
       "    <tr>\n",
       "      <th>1138</th>\n",
       "      <td>CHEBI_16480</td>\n",
       "      <td>[N]=O</td>\n",
       "      <td>-0.779337</td>\n",
       "      <td>-0.579034</td>\n",
       "      <td>6.133237</td>\n",
       "      <td>0</td>\n",
       "    </tr>\n",
       "  </tbody>\n",
       "</table>\n",
       "<p>1139 rows × 6 columns</p>\n",
       "</div>"
      ],
      "text/plain": [
       "             ChEBI                                             smiles  \\\n",
       "0      CHEBI_57327  C[C@@H](C([O-])=O)C(=O)SCCNC(=O)CCNC(=O)[C@H](...   \n",
       "1      CHEBI_57783  NC(=O)C1=CN(C=CC1)[C@@H]1O[C@H](COP([O-])(=O)O...   \n",
       "2      CHEBI_64479  C(NC(CCNC(=O)[C@@H](C(COP(OC[C@@H](C(*)=O)N*)(...   \n",
       "3      CHEBI_83139  CC(C)(COP([O-])(=O)OP([O-])(=O)OC[C@H]1O[C@H](...   \n",
       "4      CHEBI_16526                                              O=C=O   \n",
       "...            ...                                                ...   \n",
       "1134   CHEBI_28689  [H][C@@]12CC=C3C[C@@H](O)CC[C@]3(C)[C@@]1([H])...   \n",
       "1135   CHEBI_83865  C[C@]12CC[C@H]3[C@@H](CC=C4CC(=O)CC[C@]34C)[C@...   \n",
       "1136  CHEBI_141140  O(P(OC[C@H]1O[C@@H](N2C=3N=CN=C(N)C3N=C2)[C@@H...   \n",
       "1137   CHEBI_62225             [NH3+][C@@H](CSS([O-])(=O)=O)C([O-])=O   \n",
       "1138   CHEBI_16480                                              [N]=O   \n",
       "\n",
       "             u1         u2        u3  cluster_labels  \n",
       "0      3.305826  15.943238  5.922484              10  \n",
       "1     -2.908326   3.605886 -1.523988              23  \n",
       "2     12.578112   1.370632 -0.493632               3  \n",
       "3      3.345856  16.015938  5.833848              10  \n",
       "4     -0.668661  -0.549501  6.127844               0  \n",
       "...         ...        ...       ...             ...  \n",
       "1134  -0.318774   9.503427  3.201597               1  \n",
       "1135  -0.278128   9.507502  3.295506               1  \n",
       "1136  -2.676586   3.758908 -1.664882              23  \n",
       "1137   0.708042  -0.675666  4.119482              19  \n",
       "1138  -0.779337  -0.579034  6.133237               0  \n",
       "\n",
       "[1139 rows x 6 columns]"
      ]
     },
     "execution_count": 138,
     "metadata": {},
     "output_type": "execute_result"
    }
   ],
   "source": [
    "df_mols_uniq"
   ]
  },
  {
   "cell_type": "code",
   "execution_count": 136,
   "metadata": {},
   "outputs": [],
   "source": [
    "seed = 43\n",
    "np.random.seed(seed)\n",
    "\n",
    "num_clus = 27\n",
    "clustering = KMeans(n_clusters = num_clus, random_state= seed).fit(data)\n",
    "cluster_labels = clustering.labels_\n",
    "\n",
    "df_mols_uniq['cluster_labels'] = cluster_labels"
   ]
  },
  {
   "cell_type": "code",
   "execution_count": 81,
   "metadata": {},
   "outputs": [
    {
     "data": {
      "text/html": [
       "<div>\n",
       "<style scoped>\n",
       "    .dataframe tbody tr th:only-of-type {\n",
       "        vertical-align: middle;\n",
       "    }\n",
       "\n",
       "    .dataframe tbody tr th {\n",
       "        vertical-align: top;\n",
       "    }\n",
       "\n",
       "    .dataframe thead th {\n",
       "        text-align: right;\n",
       "    }\n",
       "</style>\n",
       "<table border=\"1\" class=\"dataframe\">\n",
       "  <thead>\n",
       "    <tr style=\"text-align: right;\">\n",
       "      <th></th>\n",
       "      <th>Entry</th>\n",
       "      <th>RheaID</th>\n",
       "      <th>type</th>\n",
       "      <th>ChEBI</th>\n",
       "      <th>smiles</th>\n",
       "    </tr>\n",
       "  </thead>\n",
       "  <tbody>\n",
       "    <tr>\n",
       "      <th>1903</th>\n",
       "      <td>P9WGB5</td>\n",
       "      <td>27826</td>\n",
       "      <td>LEFT</td>\n",
       "      <td>CHEBI_57661</td>\n",
       "      <td>[NH3+][C@@H](CCOC(=O)CCC([O-])=O)C([O-])=O</td>\n",
       "    </tr>\n",
       "    <tr>\n",
       "      <th>1904</th>\n",
       "      <td>P9WGB5</td>\n",
       "      <td>27826</td>\n",
       "      <td>LEFT</td>\n",
       "      <td>CHEBI_29919</td>\n",
       "      <td>[S-][H]</td>\n",
       "    </tr>\n",
       "    <tr>\n",
       "      <th>1905</th>\n",
       "      <td>P9WGB5</td>\n",
       "      <td>27826</td>\n",
       "      <td>RIGHT</td>\n",
       "      <td>CHEBI_30031</td>\n",
       "      <td>[O-]C(=O)CCC([O-])=O</td>\n",
       "    </tr>\n",
       "    <tr>\n",
       "      <th>1906</th>\n",
       "      <td>P9WGB5</td>\n",
       "      <td>27826</td>\n",
       "      <td>RIGHT</td>\n",
       "      <td>CHEBI_58199</td>\n",
       "      <td>[NH3+][C@@H](CCS)C([O-])=O</td>\n",
       "    </tr>\n",
       "  </tbody>\n",
       "</table>\n",
       "</div>"
      ],
      "text/plain": [
       "       Entry  RheaID   type        ChEBI  \\\n",
       "1903  P9WGB5   27826   LEFT  CHEBI_57661   \n",
       "1904  P9WGB5   27826   LEFT  CHEBI_29919   \n",
       "1905  P9WGB5   27826  RIGHT  CHEBI_30031   \n",
       "1906  P9WGB5   27826  RIGHT  CHEBI_58199   \n",
       "\n",
       "                                          smiles  \n",
       "1903  [NH3+][C@@H](CCOC(=O)CCC([O-])=O)C([O-])=O  \n",
       "1904                                     [S-][H]  \n",
       "1905                        [O-]C(=O)CCC([O-])=O  \n",
       "1906                  [NH3+][C@@H](CCS)C([O-])=O  "
      ]
     },
     "execution_count": 81,
     "metadata": {},
     "output_type": "execute_result"
    }
   ],
   "source": [
    "entry = 'P9WGB5'\n",
    "df_UP_rhea_chebi_smiles[df_UP_rhea_chebi_smiles.Entry == entry ]"
   ]
  },
  {
   "cell_type": "code",
   "execution_count": 174,
   "metadata": {},
   "outputs": [
    {
     "name": "stdout",
     "output_type": "stream",
     "text": [
      "number of unique proteins: 13\n",
      "['O06769', 'I6YF08', 'O06417', 'I6Y2J4', 'P9WM67', 'O53551', 'P9WP43', 'I6XU97', 'P96402', 'L7N697', 'O05307', 'P71778', 'P9WQ51']\n"
     ]
    },
    {
     "data": {
      "image/png": "[encoded data removed]",
      "text/plain": [
       "<rdkit.Chem.rdchem.Mol at 0x7fbfb9b61e80>"
      ]
     },
     "metadata": {},
     "output_type": "display_data"
    },
    {
     "name": "stdout",
     "output_type": "stream",
     "text": [
      "number of unique proteins: 4\n",
      "['P9WKC7', 'P9WKA5', 'P9WKA7', 'P9WIN5']\n"
     ]
    },
    {
     "data": {
      "image/png": "[encoded data removed]",
      "text/plain": [
       "<rdkit.Chem.rdchem.Mol at 0x7fbfb9b61e80>"
      ]
     },
     "metadata": {},
     "output_type": "display_data"
    },
    {
     "name": "stdout",
     "output_type": "stream",
     "text": [
      "number of unique proteins: 1\n",
      "['P95141']\n"
     ]
    },
    {
     "data": {
      "image/png": "[encoded data removed]",
      "text/plain": [
       "<rdkit.Chem.rdchem.Mol at 0x7fbfb9b61e80>"
      ]
     },
     "metadata": {},
     "output_type": "display_data"
    },
    {
     "name": "stdout",
     "output_type": "stream",
     "text": [
      "number of unique proteins: 2\n",
      "['I6YFP0', 'P9WPQ7']\n"
     ]
    },
    {
     "data": {
      "image/png": "[encoded data removed]",
      "text/plain": [
       "<rdkit.Chem.rdchem.Mol at 0x7fbfb9b61e80>"
      ]
     },
     "metadata": {},
     "output_type": "display_data"
    },
    {
     "name": "stdout",
     "output_type": "stream",
     "text": [
      "number of unique proteins: 1\n",
      "['P9WPP3']\n"
     ]
    },
    {
     "data": {
      "image/png": "[encoded data removed]",
      "text/plain": [
       "<rdkit.Chem.rdchem.Mol at 0x7fbfb9b61e80>"
      ]
     },
     "metadata": {},
     "output_type": "display_data"
    },
    {
     "name": "stdout",
     "output_type": "stream",
     "text": [
      "number of unique proteins: 2\n",
      "['O05307', 'P9WQ51']\n"
     ]
    },
    {
     "data": {
      "image/png": "[encoded data removed]",
      "text/plain": [
       "<rdkit.Chem.rdchem.Mol at 0x7fbfb9b61e80>"
      ]
     },
     "metadata": {},
     "output_type": "display_data"
    },
    {
     "name": "stdout",
     "output_type": "stream",
     "text": [
      "number of unique proteins: 22\n",
      "['P9WQD5', 'O06769', 'O53581', 'P9WQ37', 'P9WQ43', 'O53551', 'O53580', 'P9WQ55', 'O05307', 'P9WM67', 'P71778', 'O06417', 'P9WQ47', 'O53521', 'I6Y9F7', 'Q50631', 'I6Y2J4', 'O06319', 'O53424', 'P9WQ59', 'L0TC47', 'P9WQ51']\n"
     ]
    },
    {
     "data": {
      "image/png": "[encoded data removed]",
      "text/plain": [
       "<rdkit.Chem.rdchem.Mol at 0x7fbfb9b61e80>"
      ]
     },
     "metadata": {},
     "output_type": "display_data"
    },
    {
     "name": "stdout",
     "output_type": "stream",
     "text": [
      "number of unique proteins: 1\n",
      "['P9WQ43']\n"
     ]
    },
    {
     "data": {
      "image/png": "[encoded data removed]",
      "text/plain": [
       "<rdkit.Chem.rdchem.Mol at 0x7fbfb9b61e80>"
      ]
     },
     "metadata": {},
     "output_type": "display_data"
    },
    {
     "name": "stdout",
     "output_type": "stream",
     "text": [
      "number of unique proteins: 1\n",
      "['O06769']\n"
     ]
    },
    {
     "data": {
      "image/png": "[encoded data removed]",
      "text/plain": [
       "<rdkit.Chem.rdchem.Mol at 0x7fbfb9b61e80>"
      ]
     },
     "metadata": {},
     "output_type": "display_data"
    },
    {
     "name": "stdout",
     "output_type": "stream",
     "text": [
      "number of unique proteins: 1\n",
      "['O06769']\n"
     ]
    },
    {
     "data": {
      "image/png": "[encoded data removed]",
      "text/plain": [
       "<rdkit.Chem.rdchem.Mol at 0x7fbfb9b61e80>"
      ]
     },
     "metadata": {},
     "output_type": "display_data"
    },
    {
     "name": "stdout",
     "output_type": "stream",
     "text": [
      "number of unique proteins: 1\n",
      "['O06769']\n"
     ]
    },
    {
     "data": {
      "image/png": "[encoded data removed]",
      "text/plain": [
       "<rdkit.Chem.rdchem.Mol at 0x7fbfb9b61e80>"
      ]
     },
     "metadata": {},
     "output_type": "display_data"
    },
    {
     "name": "stdout",
     "output_type": "stream",
     "text": [
      "number of unique proteins: 1\n",
      "['P9WIN5']\n"
     ]
    },
    {
     "data": {
      "image/png": "[encoded data removed]",
      "text/plain": [
       "<rdkit.Chem.rdchem.Mol at 0x7fbfb9b61e80>"
      ]
     },
     "metadata": {},
     "output_type": "display_data"
    },
    {
     "name": "stdout",
     "output_type": "stream",
     "text": [
      "number of unique proteins: 2\n",
      "['O05307', 'P9WQ51']\n"
     ]
    },
    {
     "data": {
      "image/png": "[encoded data removed]",
      "text/plain": [
       "<rdkit.Chem.rdchem.Mol at 0x7fbfb9b61e80>"
      ]
     },
     "metadata": {},
     "output_type": "display_data"
    },
    {
     "name": "stdout",
     "output_type": "stream",
     "text": [
      "number of unique proteins: 1\n",
      "['O06769']\n"
     ]
    },
    {
     "data": {
      "image/png": "[encoded data removed]",
      "text/plain": [
       "<rdkit.Chem.rdchem.Mol at 0x7fbfb9b61e80>"
      ]
     },
     "metadata": {},
     "output_type": "display_data"
    },
    {
     "name": "stdout",
     "output_type": "stream",
     "text": [
      "number of unique proteins: 2\n",
      "['P9WPQ7', 'P9WPQ5']\n"
     ]
    },
    {
     "data": {
      "image/png": "[encoded data removed]",
      "text/plain": [
       "<rdkit.Chem.rdchem.Mol at 0x7fbfb9b61e80>"
      ]
     },
     "metadata": {},
     "output_type": "display_data"
    },
    {
     "name": "stdout",
     "output_type": "stream",
     "text": [
      "number of unique proteins: 1\n",
      "['P9WQ37']\n"
     ]
    },
    {
     "data": {
      "image/png": "[encoded data removed]",
      "text/plain": [
       "<rdkit.Chem.rdchem.Mol at 0x7fbfb9b61e80>"
      ]
     },
     "metadata": {},
     "output_type": "display_data"
    },
    {
     "name": "stdout",
     "output_type": "stream",
     "text": [
      "number of unique proteins: 1\n",
      "['P9WIN5']\n"
     ]
    },
    {
     "data": {
      "image/png": "[encoded data removed]",
      "text/plain": [
       "<rdkit.Chem.rdchem.Mol at 0x7fbfb9b61e80>"
      ]
     },
     "metadata": {},
     "output_type": "display_data"
    },
    {
     "name": "stdout",
     "output_type": "stream",
     "text": [
      "number of unique proteins: 1\n",
      "['P9WIN5']\n"
     ]
    },
    {
     "data": {
      "image/png": "[encoded data removed]",
      "text/plain": [
       "<rdkit.Chem.rdchem.Mol at 0x7fbfb9b61e80>"
      ]
     },
     "metadata": {},
     "output_type": "display_data"
    },
    {
     "name": "stdout",
     "output_type": "stream",
     "text": [
      "number of unique proteins: 2\n",
      "['O05307', 'P9WQ51']\n"
     ]
    },
    {
     "data": {
      "image/png": "[encoded data removed]",
      "text/plain": [
       "<rdkit.Chem.rdchem.Mol at 0x7fbfb9b61e80>"
      ]
     },
     "metadata": {},
     "output_type": "display_data"
    },
    {
     "name": "stdout",
     "output_type": "stream",
     "text": [
      "number of unique proteins: 1\n",
      "['O05307']\n"
     ]
    },
    {
     "data": {
      "image/png": "[encoded data removed]",
      "text/plain": [
       "<rdkit.Chem.rdchem.Mol at 0x7fbfb9b61e80>"
      ]
     },
     "metadata": {},
     "output_type": "display_data"
    }
   ],
   "source": [
    "clus_num = 6\n",
    "df_clus = df_mols_uniq[df_mols_uniq.cluster_labels.values == clus_num].copy()\n",
    "# df_UP_rhea_chebi_smiles_clus = df_UP_rhea_chebi_smiles[df_UP_rhea_chebi_smiles.ChEBI.isin(df_clus.ChEBI)].copy()\n",
    "df_sample = df_clus.sample(20)\n",
    "smi_list = df_sample.smiles.tolist()\n",
    "smi_list = list(set(smi_list))\n",
    "for smi in smi_list:\n",
    "    UP_ids = df_UP_rhea_chebi_smiles[df_UP_rhea_chebi_smiles.smiles==smi].Entry.tolist()\n",
    "    UP_ids_unique = list(set(UP_ids))\n",
    "    print('number of unique proteins:', len(UP_ids_unique))\n",
    "    print(UP_ids_unique)\n",
    "    display(Chem.MolFromSmiles(smi))"
   ]
  },
  {
   "cell_type": "markdown",
   "metadata": {},
   "source": [
    "## Homework: make \"y-vectors\" for every cluster, and store them all in single dataframe"
   ]
  },
  {
   "cell_type": "markdown",
   "metadata": {},
   "source": [
    "First, create a y-vector dataframe, for now just with the UP-ids:"
   ]
  },
  {
   "cell_type": "code",
   "execution_count": 159,
   "metadata": {},
   "outputs": [
    {
     "data": {
      "text/plain": [
       "(860, 15)"
      ]
     },
     "execution_count": 159,
     "metadata": {},
     "output_type": "execute_result"
    }
   ],
   "source": [
    "file_in = '../data/annotations/uniprot-proteome_UP000001584.tab'\n",
    "df = pd.read_csv(file_in, sep = '\\t')\n",
    "# Add RvIDs:\n",
    "re_str = 'Rv\\d\\d\\d\\dc?'\n",
    "list_rvids = [re.findall(re_str, str_temp)[0] for str_temp in df['Gene names']]\n",
    "df['Rv_ID'] = list_rvids\n",
    "\n",
    "# constrain to only proteins for which we have compound data: \n",
    "df_clus_y = df[df.Entry.isin(df_UP_rhea_chebi_smiles.Entry)].copy()\n",
    "df_clus_y.shape"
   ]
  },
  {
   "cell_type": "code",
   "execution_count": 166,
   "metadata": {},
   "outputs": [
    {
     "data": {
      "text/plain": [
       "['cluster_10',\n",
       " 'cluster_23',\n",
       " 'cluster_3',\n",
       " 'cluster_0',\n",
       " 'cluster_9',\n",
       " 'cluster_13',\n",
       " 'cluster_5',\n",
       " 'cluster_1',\n",
       " 'cluster_4',\n",
       " 'cluster_18',\n",
       " 'cluster_2',\n",
       " 'cluster_22',\n",
       " 'cluster_14',\n",
       " 'cluster_19',\n",
       " 'cluster_25',\n",
       " 'cluster_16',\n",
       " 'cluster_20',\n",
       " 'cluster_8',\n",
       " 'cluster_24',\n",
       " 'cluster_6',\n",
       " 'cluster_26',\n",
       " 'cluster_12',\n",
       " 'cluster_21',\n",
       " 'cluster_15',\n",
       " 'cluster_17',\n",
       " 'cluster_11',\n",
       " 'cluster_7']"
      ]
     },
     "execution_count": 166,
     "metadata": {},
     "output_type": "execute_result"
    }
   ],
   "source": [
    "[col for col in df_clus_y.columns if \"cluster\" in col]"
   ]
  },
  {
   "cell_type": "code",
   "execution_count": 161,
   "metadata": {},
   "outputs": [],
   "source": [
    "# clus_num = 1\n",
    "for clus_num in df_mols_uniq.cluster_labels.unique():\n",
    "    # get all compounds that fall in clus_num\n",
    "    df_clus = df_mols_uniq[df_mols_uniq.cluster_labels.values == clus_num].copy()\n",
    "    # get all unique up_ids that have those substrates: HINT: use the isin() function\n",
    "    list_UP_unique = df_UP_rhea_chebi_smiles[df_UP_rhea_chebi_smiles.smiles.isin(df_clus.smiles)].Entry.unique().tolist()\n",
    "\n",
    "    #### BASE OFF OF THIS SYNTAX\n",
    "    col_name = 'cluster_'+str(clus_num)\n",
    "    # enzymes that don't have substrates belonging to this cluster\n",
    "    df_clus_y.loc[ ~df_clus_y.Entry.isin(list_UP_unique), col_name ] = 0\n",
    "    # enzymes that *do* have substrates belonging to this cluster\n",
    "    df_clus_y.loc[df_clus_y.Entry.isin(list_UP_unique), col_name ] = 1"
   ]
  },
  {
   "cell_type": "code",
   "execution_count": 163,
   "metadata": {},
   "outputs": [],
   "source": [
    "fn = '../data/tests/df_clus_y.csv'\n",
    "df_clus_y.to_csv(fn, index = False)"
   ]
  },
  {
   "cell_type": "markdown",
   "metadata": {},
   "source": [
    "## For every cluster, count the number of unique Mtb proteins mapping to that cluster: "
   ]
  },
  {
   "cell_type": "code",
   "execution_count": 33,
   "metadata": {},
   "outputs": [],
   "source": [
    "list_clus = df_mols_uniq.cluster_labels.unique().tolist()\n",
    "list_size_clus = []\n",
    "list_str_UP_clus = []\n",
    "for clus in list_clus:\n",
    "    list_chebi_clus = df_mols_uniq[df_mols_uniq.cluster_labels==clus].ChEBI.tolist()\n",
    "    df_UP_rhea_chebi_smiles_clus = df_UP_rhea_chebi_smiles[df_UP_rhea_chebi_smiles.ChEBI.isin(list_chebi_clus)].copy()\n",
    "    list_UP_clus = df_UP_rhea_chebi_smiles_clus.Entry.unique().tolist()\n",
    "    list_str_UP_clus.append(' '.join(list_UP_clus))\n",
    "    size_clus = len(list_UP_clus)\n",
    "    list_size_clus.append(size_clus)\n",
    "df_clus_UP_size = pd.DataFrame()\n",
    "df_clus_UP_size['cluster_labels'] = list_clus\n",
    "df_clus_UP_size['size_clus'] = list_size_clus\n",
    "df_clus_UP_size['list_UP_clus'] = list_str_UP_clus"
   ]
  },
  {
   "cell_type": "code",
   "execution_count": 34,
   "metadata": {},
   "outputs": [
    {
     "data": {
      "text/html": [
       "<div>\n",
       "<style scoped>\n",
       "    .dataframe tbody tr th:only-of-type {\n",
       "        vertical-align: middle;\n",
       "    }\n",
       "\n",
       "    .dataframe tbody tr th {\n",
       "        vertical-align: top;\n",
       "    }\n",
       "\n",
       "    .dataframe thead th {\n",
       "        text-align: right;\n",
       "    }\n",
       "</style>\n",
       "<table border=\"1\" class=\"dataframe\">\n",
       "  <thead>\n",
       "    <tr style=\"text-align: right;\">\n",
       "      <th></th>\n",
       "      <th>cluster_labels</th>\n",
       "      <th>size_clus</th>\n",
       "      <th>list_UP_clus</th>\n",
       "    </tr>\n",
       "  </thead>\n",
       "  <tbody>\n",
       "    <tr>\n",
       "      <th>1</th>\n",
       "      <td>10</td>\n",
       "      <td>355</td>\n",
       "      <td>A0A089QRB9 I6X235 I6X5C9 I6XD69 I6XI14 I6XWA1 ...</td>\n",
       "    </tr>\n",
       "    <tr>\n",
       "      <th>5</th>\n",
       "      <td>12</td>\n",
       "      <td>301</td>\n",
       "      <td>I6WXK4 I6X235 I6X5C9 I6XI14 I6Y0R5 I6Y2J4 I6Y4...</td>\n",
       "    </tr>\n",
       "    <tr>\n",
       "      <th>3</th>\n",
       "      <td>4</td>\n",
       "      <td>277</td>\n",
       "      <td>A0A089QRB9 I6WZK7 I6XD69 I6XU97 I6XWA1 I6Y2J4 ...</td>\n",
       "    </tr>\n",
       "    <tr>\n",
       "      <th>12</th>\n",
       "      <td>25</td>\n",
       "      <td>151</td>\n",
       "      <td>I6X9S5 I6XU97 I6Y2J4 I6Y9Q3 I6YEU0 I6YF08 I6YG...</td>\n",
       "    </tr>\n",
       "    <tr>\n",
       "      <th>13</th>\n",
       "      <td>15</td>\n",
       "      <td>137</td>\n",
       "      <td>I6X9S5 I6XI14 I6Y0R5 I6Y4C7 I6Y8S6 I6YG46 O332...</td>\n",
       "    </tr>\n",
       "  </tbody>\n",
       "</table>\n",
       "</div>"
      ],
      "text/plain": [
       "    cluster_labels  size_clus  \\\n",
       "1               10        355   \n",
       "5               12        301   \n",
       "3                4        277   \n",
       "12              25        151   \n",
       "13              15        137   \n",
       "\n",
       "                                         list_UP_clus  \n",
       "1   A0A089QRB9 I6X235 I6X5C9 I6XD69 I6XI14 I6XWA1 ...  \n",
       "5   I6WXK4 I6X235 I6X5C9 I6XI14 I6Y0R5 I6Y2J4 I6Y4...  \n",
       "3   A0A089QRB9 I6WZK7 I6XD69 I6XU97 I6XWA1 I6Y2J4 ...  \n",
       "12  I6X9S5 I6XU97 I6Y2J4 I6Y9Q3 I6YEU0 I6YF08 I6YG...  \n",
       "13  I6X9S5 I6XI14 I6Y0R5 I6Y4C7 I6Y8S6 I6YG46 O332...  "
      ]
     },
     "execution_count": 34,
     "metadata": {},
     "output_type": "execute_result"
    }
   ],
   "source": [
    "df_clus_UP_size.sort_values(by = 'size_clus', ascending=False).head()"
   ]
  },
  {
   "cell_type": "code",
   "execution_count": 35,
   "metadata": {},
   "outputs": [
    {
     "data": {
      "text/plain": [
       "['A0A089QRB9',\n",
       " 'I6X235',\n",
       " 'I6X5C9',\n",
       " 'I6XD69',\n",
       " 'I6XI14',\n",
       " 'I6XWA1',\n",
       " 'I6Y0R5',\n",
       " 'I6Y4C7',\n",
       " 'I6Y4V6',\n",
       " 'I6Y778']"
      ]
     },
     "execution_count": 35,
     "metadata": {},
     "output_type": "execute_result"
    }
   ],
   "source": [
    "clus = 10\n",
    "list_up_clus = df_clus_UP_size[df_clus_UP_size.cluster_labels==clus].list_UP_clus.values[0].split()\n",
    "list_up_clus[:10]"
   ]
  },
  {
   "cell_type": "code",
   "execution_count": 36,
   "metadata": {},
   "outputs": [
    {
     "data": {
      "image/png": "[encoded data removed]",
      "text/plain": [
       "<Figure size 720x432 with 1 Axes>"
      ]
     },
     "metadata": {
      "needs_background": "light"
     },
     "output_type": "display_data"
    }
   ],
   "source": [
    "plt.figure(figsize=(10,6))\n",
    "xdata = df_mols_uniq.u1\n",
    "ydata = df_mols_uniq.u2\n",
    "plt.scatter(xdata, ydata, s=50, edgecolors='k', alpha=0.6)\n",
    "\n",
    "df_clus = df_mols_uniq[df_mols_uniq.cluster_labels==clus]\n",
    "xdata = df_clus.u1\n",
    "ydata = df_clus.u2\n",
    "plt.scatter(xdata, ydata, s=50, edgecolors='k', alpha=0.6)\n",
    "plt.xlabel('UMAP x-coordinate', fontsize = 16)\n",
    "yl = plt.ylabel('UMAP y-coordinate', fontsize = 16)\n",
    "plt.tight_layout()\n",
    "# path_out = '../../figs/mohammed/mol_images/clustering.png'\n",
    "# plt.savefig(path_out, dpi=300)"
   ]
  },
  {
   "cell_type": "code",
   "execution_count": 117,
   "metadata": {},
   "outputs": [],
   "source": [
    "plt.figure(figsize=(6,6))\n",
    "for clus in df_mols_uniq.cluster_labels.unique():\n",
    "    df_clus = df_mols_uniq[df_mols_uniq.cluster_labels==clus]\n",
    "    xdata = df_clus.u1\n",
    "    ydata = df_clus.u2\n",
    "    plt.scatter(xdata, ydata, s=200, edgecolors='k', alpha=0.6)\n",
    "plt.xlabel('UMAP x-coordinate', fontsize = 16)\n",
    "yl = plt.ylabel('UMAP y-coordinate', fontsize = 16)\n",
    "plt.tight_layout()\n",
    "# path_out = '../../figs/mohammed/mol_images/clustering.png'\n",
    "# plt.savefig(path_out, dpi=300)"
   ]
  },
  {
   "cell_type": "code",
   "execution_count": 58,
   "metadata": {},
   "outputs": [
    {
     "data": {
      "image/png": "[encoded data removed]",
      "text/plain": [
       "<rdkit.Chem.rdchem.Mol at 0x7fa75595c400>"
      ]
     },
     "metadata": {},
     "output_type": "display_data"
    },
    {
     "data": {
      "image/png": "[encoded data removed]",
      "text/plain": [
       "<rdkit.Chem.rdchem.Mol at 0x7fa755bcd3a0>"
      ]
     },
     "metadata": {},
     "output_type": "display_data"
    }
   ],
   "source": [
    "\n",
    "rand_mols = [Chem.MolFromSmiles(smi) for smi in smi_list]\n",
    "\n",
    "# Draw.MolsToGridImage(mols_rdkit, subImgSize=(1000,1000), molsPerRow=3)\n",
    "for mol in rand_mols:\n",
    "    display(mol)"
   ]
  },
  {
   "cell_type": "markdown",
   "metadata": {},
   "source": [
    "## Find metabolite-protein hubs: "
   ]
  },
  {
   "cell_type": "code",
   "execution_count": 37,
   "metadata": {},
   "outputs": [],
   "source": [
    "list_smi_unique = df_UP_rhea_chebi_smiles.smiles.unique()\n",
    "# smi =list_smi_unique[0]\n",
    "\n",
    "list_num_UP = []\n",
    "list_str_chebi = []\n",
    "list_str_UP = []\n",
    "for smi in list_smi_unique:\n",
    "    df_smi = df_UP_rhea_chebi_smiles[df_UP_rhea_chebi_smiles.smiles == smi]\n",
    "    \n",
    "    list_chebi = df_smi.ChEBI.unique().tolist()\n",
    "    str_chebi = ' '.join(list_chebi)\n",
    "    list_str_chebi.append(str_chebi)\n",
    "    \n",
    "    list_UP = df_smi.Entry.unique().tolist()\n",
    "    str_UP = ' '.join(list_UP)\n",
    "    list_str_UP.append(str_UP)\n",
    "    \n",
    "    num_UP = len(list_UP)\n",
    "    list_num_UP.append(num_UP)\n",
    "    \n",
    "df_comp_count = pd.DataFrame()\n",
    "df_comp_count['ChEBI'] = list_str_chebi\n",
    "df_comp_count['num_UP'] = list_num_UP\n",
    "df_comp_count['smiles'] = list_smi_unique\n",
    "df_comp_count['Entries'] = list_str_UP"
   ]
  },
  {
   "cell_type": "code",
   "execution_count": 38,
   "metadata": {},
   "outputs": [],
   "source": [
    "df_comp_count = df_comp_count.sort_values(by = 'num_UP', ascending=False)"
   ]
  },
  {
   "cell_type": "markdown",
   "metadata": {},
   "source": [
    "### Display the top 20 hub metabolites"
   ]
  },
  {
   "cell_type": "code",
   "execution_count": 40,
   "metadata": {},
   "outputs": [],
   "source": [
    "thresh = 40\n",
    "df_comp_count_top = df_comp_count[df_comp_count.num_UP>=thresh].copy()"
   ]
  },
  {
   "cell_type": "code",
   "execution_count": 41,
   "metadata": {},
   "outputs": [
    {
     "name": "stdout",
     "output_type": "stream",
     "text": [
      "CHEBI_30616\n",
      "number of proteins: 179\n",
      "I6X5C9 I6XI14 I6Y0R5 I6Y4C7 I6Y4V6 I6Y8S6 I6YEU0 I6YFP0 O05307 O05575 O06417 O07177 O53347 O53348 O53521 O53551 O53580 O53637 O53676 O53701 O53873 P71538 P71716 P71913 P95141 P96271 P96379 P96843 P96890 P9WFS9 P9WFT1 P9WFT3 P9WFT5 P9WFT7 P9WFT9 P9WFU1 P9WFU3 P9WFU5 P9WFU7 P9WFU9 P9WFV1 P9WFV3 P9WFV5 P9WFV7 P9WFV9 P9WFW1 P9WFW3 P9WFW5 P9WFW7 P9WG53 P9WG71 P9WG77 P9WGC5 P9WGC7 P9WGC9 P9WGV1 P9WGW1 P9WGW3 P9WH05 P9WHG9 P9WHK5 P9WHK7 P9WHL5 P9WHL7 P9WHL9 P9WHM9 P9WHN1 P9WHU9 P9WHV7 P9WHV9 P9WI63 P9WI65 P9WI67 P9WI69 P9WI71 P9WI73 P9WI75 P9WI77 P9WI79 P9WI81 P9WI83 P9WID1 P9WID3 P9WID5 P9WID7 P9WIK1 P9WIL5 P9WIN1 P9WJH7 P9WJI7 P9WJI9 P9WJJ3 P9WJJ5 P9WJL1 P9WJL3 P9WJL5 P9WJL7 P9WJM9 P9WJS5 P9WKE1 P9WKE3 P9WKE5 P9WKE7 P9WKE9 P9WKF5 P9WKG7 P9WLZ7 P9WMK9 P9WMN1 P9WMP9 P9WMQ1 P9WMQ7 P9WMR3 P9WMR5 P9WMS7 P9WMU9 P9WN27 P9WN33 P9WN37 P9WN39 P9WN43 P9WN59 P9WN61 P9WN63 P9WNC7 P9WNM5 P9WNW5 P9WP29 P9WP31 P9WP97 P9WP99 P9WPA1 P9WPA3 P9WPA5 P9WPA7 P9WPA9 P9WPI9 P9WPK1 P9WPK3 P9WPK5 P9WPK7 P9WPK9 P9WPQ3 P9WPQ5 P9WPS3 P9WPS5 P9WPS7 P9WPS9 P9WPT1 P9WPT7 P9WPT9 P9WPU1 P9WPU3 P9WPU5 P9WPU7 P9WPW7 P9WPX3 P9WPY3 P9WQ01 P9WQ35 P9WQ37 P9WQ39 P9WQ41 P9WQ43 P9WQ47 P9WQ51 P9WQ55 P9WQ57 P9WQ59 P9WQ61 P9WQA1 P9WQD1 P9WQH1 P9WQK3 P9WQK9 P9WQL1 P9WQL3 P9WQM1 Q50631\n"
     ]
    },
    {
     "data": {
      "image/png": "[encoded data removed]",
      "text/plain": [
       "<rdkit.Chem.rdchem.Mol at 0x7fbfba245ca0>"
      ]
     },
     "metadata": {},
     "output_type": "display_data"
    },
    {
     "name": "stdout",
     "output_type": "stream",
     "text": [
      "CHEBI_43474\n",
      "number of proteins: 127\n",
      "I6WXK4 I6X235 I6XI14 I6Y0R5 I6Y4C7 I6Y4V6 I6Y8S6 I6YEU0 O05575 O06401 O06563 O33194 O53289 O53335 O53347 O53348 O53361 O53512 O53873 O53907 P71538 P71615 P95189 P96271 P96374 P96890 P9WF11 P9WFF9 P9WFS1 P9WFZ5 P9WG59 P9WGC5 P9WGC7 P9WGJ3 P9WGV1 P9WGW1 P9WGW3 P9WGZ7 P9WH05 P9WHE9 P9WHK7 P9WHL5 P9WHL7 P9WHL9 P9WHM9 P9WHN1 P9WHN3 P9WHP1 P9WHV1 P9WHV5 P9WHW5 P9WI55 P9WI57 P9WIA1 P9WIC7 P9WII7 P9WII9 P9WIT7 P9WIT9 P9WIY3 P9WJI7 P9WJI9 P9WJK1 P9WJL1 P9WJL3 P9WJL5 P9WJL7 P9WJM1 P9WK97 P9WKD5 P9WKI9 P9WKJ1 P9WLH5 P9WLP9 P9WLZ7 P9WMK9 P9WMP9 P9WMQ1 P9WMQ7 P9WMR3 P9WMR5 P9WMV3 P9WMW1 P9WN21 P9WN27 P9WN37 P9WN39 P9WN59 P9WN61 P9WN83 P9WNX5 P9WP01 P9WP31 P9WP53 P9WP79 P9WP97 P9WPK3 P9WPK5 P9WPK7 P9WPK9 P9WPQ3 P9WPQ5 P9WPS3 P9WPS5 P9WPS7 P9WPS9 P9WPT1 P9WPT7 P9WPT9 P9WPU1 P9WPU3 P9WPU5 P9WPU7 P9WPX9 P9WPY1 P9WPY5 P9WPZ9 P9WQ17 P9WQA1 P9WQC9 P9WQK3 P9WQK9 P9WQL1 P9WQL3 P9WQM1 Q6MWZ7 Q79FV4\n"
     ]
    },
    {
     "data": {
      "image/png": "[encoded data removed]",
      "text/plain": [
       "<rdkit.Chem.rdchem.Mol at 0x7fbfd1f8d760>"
      ]
     },
     "metadata": {},
     "output_type": "display_data"
    },
    {
     "name": "stdout",
     "output_type": "stream",
     "text": [
      "CHEBI_33019\n",
      "number of proteins: 121\n",
      "I6X5C9 I6YFP0 O05307 O05572 O05576 O06363 O06417 O06428 O50410 O53507 O53521 O53551 O53580 O53676 P71716 P95141 P96379 P96843 P9WFF3 P9WFF5 P9WFF7 P9WFR5 P9WFR7 P9WFS9 P9WFT1 P9WFT3 P9WFT5 P9WFT7 P9WFT9 P9WFU1 P9WFU3 P9WFU5 P9WFU7 P9WFU9 P9WFV1 P9WFV3 P9WFV5 P9WFV7 P9WFV9 P9WFW1 P9WFW3 P9WFW5 P9WFW7 P9WFX5 P9WG53 P9WG75 P9WGC9 P9WGV1 P9WGY5 P9WGY7 P9WGY9 P9WGZ1 P9WH13 P9WHF1 P9WHG9 P9WHK3 P9WHK9 P9WHQ7 P9WHQ9 P9WI55 P9WIK1 P9WIL5 P9WIP3 P9WIX9 P9WIY1 P9WJ61 P9WJI7 P9WJI9 P9WJJ3 P9WJJ5 P9WJJ7 P9WJM9 P9WJQ9 P9WJR5 P9WJR7 P9WJR9 P9WJS5 P9WJW1 P9WK27 P9WKG9 P9WKH1 P9WMM9 P9WMN1 P9WMN3 P9WMR7 P9WMS7 P9WMU9 P9WN27 P9WN29 P9WN33 P9WN43 P9WND1 P9WNM5 P9WNS5 P9WNT1 P9WNT3 P9WNT5 P9WNT7 P9WNT9 P9WNU5 P9WNW5 P9WNZ1 P9WP17 P9WP83 P9WPA5 P9WPF7 P9WPW7 P9WQ07 P9WQ35 P9WQ37 P9WQ39 P9WQ41 P9WQ43 P9WQ47 P9WQ51 P9WQ55 P9WQ57 P9WQ59 P9WQ61 P9WQD1 Q50631\n"
     ]
    },
    {
     "data": {
      "image/png": "[encoded data removed]",
      "text/plain": [
       "<rdkit.Chem.rdchem.Mol at 0x7fbfd1f8d760>"
      ]
     },
     "metadata": {},
     "output_type": "display_data"
    },
    {
     "name": "stdout",
     "output_type": "stream",
     "text": [
      "CHEBI_456216\n",
      "number of proteins: 118\n",
      "I6X5C9 I6XI14 I6Y0R5 I6Y4C7 I6Y4V6 I6Y8S6 I6YEU0 O05575 O07177 O53347 O53348 O53637 O53676 O53701 O53873 P71538 P71913 P96271 P96890 P9WF11 P9WG71 P9WG77 P9WGC5 P9WGC7 P9WGW1 P9WGW3 P9WH05 P9WHK5 P9WHK7 P9WHL5 P9WHL7 P9WHL9 P9WHM9 P9WHN1 P9WHU9 P9WHV7 P9WHV9 P9WI63 P9WI65 P9WI67 P9WI69 P9WI71 P9WI73 P9WI75 P9WI77 P9WI79 P9WI81 P9WI83 P9WID1 P9WID3 P9WID5 P9WID7 P9WIN1 P9WJH7 P9WJI7 P9WJI9 P9WJL1 P9WJL3 P9WJL5 P9WJL7 P9WKE1 P9WKE5 P9WKE7 P9WKE9 P9WKF5 P9WKG7 P9WLZ7 P9WMK9 P9WMP9 P9WMQ1 P9WMQ7 P9WMR3 P9WMR5 P9WMZ1 P9WN11 P9WN27 P9WN37 P9WN39 P9WN59 P9WN61 P9WN63 P9WNM5 P9WP29 P9WP31 P9WP97 P9WPA1 P9WPA3 P9WPA7 P9WPA9 P9WPI9 P9WPK1 P9WPK3 P9WPK5 P9WPK7 P9WPK9 P9WPQ3 P9WPQ5 P9WPS3 P9WPS5 P9WPS7 P9WPS9 P9WPT1 P9WPT7 P9WPT9 P9WPU1 P9WPU3 P9WPU5 P9WPU7 P9WPX3 P9WPY3 P9WQ01 P9WQA1 P9WQH1 P9WQK3 P9WQK9 P9WQL1 P9WQL3 P9WQM1\n"
     ]
    },
    {
     "data": {
      "image/png": "[encoded data removed]",
      "text/plain": [
       "<rdkit.Chem.rdchem.Mol at 0x7fbfd1f8d760>"
      ]
     },
     "metadata": {},
     "output_type": "display_data"
    },
    {
     "name": "stdout",
     "output_type": "stream",
     "text": [
      "CHEBI_57287\n",
      "number of proteins: 80\n",
      "A0A089QRB9 I6XD69 I6XHI4 I6XHJ3 I6Y8R4 I6Y9Q3 I6YG32 O05307 O06159 O06417 O33289 O33336 O33364 O53181 O53182 O53521 O53551 O53581 P71725 P95231 P96202 P96843 P9WFK7 P9WG69 P9WGC5 P9WGC7 P9WHP1 P9WI61 P9WIK5 P9WIK7 P9WIN5 P9WIS5 P9WIS7 P9WJI5 P9WJM7 P9WJY9 P9WK17 P9WKA3 P9WKA5 P9WKA7 P9WKA9 P9WKB1 P9WKB3 P9WKB5 P9WKB7 P9WKB9 P9WKC1 P9WKC3 P9WKC5 P9WKC7 P9WKC9 P9WKY5 P9WM67 P9WMB5 P9WMN3 P9WNG3 P9WNG5 P9WP21 P9WPA3 P9WPD3 P9WPD5 P9WPF1 P9WPF3 P9WPZ3 P9WQ37 P9WQ39 P9WQ51 P9WQB3 P9WQD1 P9WQD3 P9WQD5 P9WQE1 P9WQE3 P9WQE5 P9WQE7 P9WQE9 P9WQH3 P9WQN9 P9WQP1 P9WQP3\n"
     ]
    },
    {
     "data": {
      "image/png": "[encoded data removed]",
      "text/plain": [
       "<rdkit.Chem.rdchem.Mol at 0x7fbfd1f8d760>"
      ]
     },
     "metadata": {},
     "output_type": "display_data"
    },
    {
     "name": "stdout",
     "output_type": "stream",
     "text": [
      "CHEBI_57540\n",
      "number of proteins: 70\n",
      "I6Y778 I6YCF0 L7N650 O05442 O07248 O07737 O50443 O53203 O53335 O53872 O69721 P71847 P71864 P71875 P95160 P95172 P95200 P96833 P96834 P9WGG3 P9WGR1 P9WGS9 P9WGT1 P9WHH3 P9WHH5 P9WHH7 P9WHH9 P9WHU7 P9WHV7 P9WIV5 P9WIV7 P9WIV9 P9WIW1 P9WIW5 P9WIW7 P9WIW9 P9WIX1 P9WIX3 P9WIX5 P9WJG9 P9WJH1 P9WJH3 P9WJH5 P9WJJ3 P9WK13 P9WK25 P9WKI7 P9WKK9 P9WLP9 P9WN75 P9WN77 P9WN83 P9WND9 P9WNP7 P9WNS7 P9WNW9 P9WNX3 P9WNY1 P9WNY5 P9WP23 P9WPX1 P9WQB1 P9WQB9 P9WQC1 P9WQC3 P9WQC7 P9WQH3 P9WQP7 Q10884 Q7ARS9\n"
     ]
    },
    {
     "data": {
      "image/png": "[encoded data removed]",
      "text/plain": [
       "<rdkit.Chem.rdchem.Mol at 0x7fbfd1f8d760>"
      ]
     },
     "metadata": {},
     "output_type": "display_data"
    },
    {
     "name": "stdout",
     "output_type": "stream",
     "text": [
      "CHEBI_456215\n",
      "number of proteins: 66\n",
      "I6X235 I6XWA1 I6YFP0 O05307 O06417 O53521 O53551 O53580 P71615 P71716 P95141 P96379 P96843 P9WF11 P9WFS9 P9WFT1 P9WFT3 P9WFT5 P9WFT7 P9WFT9 P9WFU1 P9WFU3 P9WFU5 P9WFU7 P9WFU9 P9WFV1 P9WFV3 P9WFV5 P9WFV7 P9WFV9 P9WFW1 P9WFW3 P9WFW5 P9WFW7 P9WG53 P9WHG9 P9WHT7 P9WID5 P9WIK3 P9WIL5 P9WIX5 P9WJJ3 P9WJM9 P9WJQ5 P9WJQ7 P9WJS5 P9WKE3 P9WKF5 P9WKJ1 P9WMS7 P9WN33 P9WNC7 P9WP65 P9WPW7 P9WQ07 P9WQ37 P9WQ39 P9WQ41 P9WQ43 P9WQ47 P9WQ51 P9WQ55 P9WQ59 P9WQ61 P9WQD1 Q50631\n"
     ]
    },
    {
     "data": {
      "image/png": "[encoded data removed]",
      "text/plain": [
       "<rdkit.Chem.rdchem.Mol at 0x7fbfd1f8d760>"
      ]
     },
     "metadata": {},
     "output_type": "display_data"
    },
    {
     "name": "stdout",
     "output_type": "stream",
     "text": [
      "CHEBI_57945\n",
      "number of proteins: 65\n",
      "I6Y778 I6YCF0 L7N650 O07248 O07737 O50443 O53203 O53872 O69721 P71847 P71864 P71875 P95160 P95172 P95200 P96833 P96834 P9WF11 P9WGR1 P9WGS9 P9WGT1 P9WHH3 P9WHH5 P9WHH7 P9WHH9 P9WHU7 P9WIV5 P9WIV7 P9WIV9 P9WIW1 P9WIW5 P9WIW7 P9WIW9 P9WIX1 P9WIX3 P9WIX5 P9WJG9 P9WJH1 P9WJH3 P9WJH5 P9WK13 P9WK25 P9WKI7 P9WKK9 P9WN75 P9WN77 P9WN83 P9WND9 P9WNP7 P9WNS7 P9WNW9 P9WNX3 P9WNY1 P9WNY5 P9WP23 P9WPX1 P9WQB1 P9WQB9 P9WQC1 P9WQC3 P9WQC7 P9WQH3 P9WQP7 Q10884 Q7ARS9\n"
     ]
    },
    {
     "data": {
      "image/png": "[encoded data removed]",
      "text/plain": [
       "<rdkit.Chem.rdchem.Mol at 0x7fbfd1f8d760>"
      ]
     },
     "metadata": {},
     "output_type": "display_data"
    },
    {
     "name": "stdout",
     "output_type": "stream",
     "text": [
      "CHEBI_16526\n",
      "number of proteins: 62\n",
      "A0A089QRB9 I6XD69 I6YG46 O06334 O06335 O50408 O53181 O53182 O53554 O53611 O69721 P96202 P96878 P9WFE1 P9WFE7 P9WFE9 P9WFF1 P9WFX7 P9WG39 P9WG41 P9WG75 P9WGA9 P9WGY3 P9WHQ5 P9WIC3 P9WIH3 P9WIL3 P9WIP3 P9WIS1 P9WIS3 P9WIS5 P9WIS9 P9WIU3 P9WIU7 P9WJ79 P9WJJ7 P9WK11 P9WK25 P9WKJ3 P9WKK9 P9WKL1 P9WKZ1 P9WL45 P9WN53 P9WNG3 P9WNS3 P9WNZ1 P9WPF1 P9WPF3 P9WPJ7 P9WPJ9 P9WPQ5 P9WQ85 P9WQ87 P9WQD7 P9WQD9 P9WQE1 P9WQE3 P9WQE5 P9WQE7 P9WQE9 Q79FJ2\n"
     ]
    },
    {
     "data": {
      "image/png": "[encoded data removed]",
      "text/plain": [
       "<rdkit.Chem.rdchem.Mol at 0x7fbfd1f8d760>"
      ]
     },
     "metadata": {},
     "output_type": "display_data"
    },
    {
     "name": "stdout",
     "output_type": "stream",
     "text": [
      "CHEBI_57783\n",
      "number of proteins: 57\n",
      "A0A089QRB9 I6XD69 O53611 P71791 P96202 P96218 P96833 P96834 P9WF11 P9WG57 P9WG81 P9WGT3 P9WH09 P9WHH1 P9WHH3 P9WHH5 P9WHH7 P9WHU7 P9WHV1 P9WIL1 P9WIQ3 P9WJI1 P9WJL9 P9WKF7 P9WKJ7 P9WKL1 P9WMP7 P9WN19 P9WN71 P9WN73 P9WN75 P9WN77 P9WNF9 P9WNP7 P9WNS1 P9WNS7 P9WNX1 P9WNX5 P9WNX7 P9WNX9 P9WNZ3 P9WP23 P9WP89 P9WPH1 P9WPL5 P9WPP3 P9WPX1 P9WPZ9 P9WQC5 P9WQE1 P9WQE3 P9WQE5 P9WQE7 P9WQE9 Q50631 Q79FJ2 Q7ARS9\n"
     ]
    },
    {
     "data": {
      "image/png": "[encoded data removed]",
      "text/plain": [
       "<rdkit.Chem.rdchem.Mol at 0x7fbfd1f8d760>"
      ]
     },
     "metadata": {},
     "output_type": "display_data"
    },
    {
     "name": "stdout",
     "output_type": "stream",
     "text": [
      "CHEBI_58349\n",
      "number of proteins: 57\n",
      "A0A089QRB9 I6XD69 O53611 P71791 P96202 P96218 P96833 P96834 P9WG57 P9WG81 P9WGT3 P9WH09 P9WHH1 P9WHH3 P9WHH5 P9WHH7 P9WHU7 P9WHV1 P9WHV7 P9WIL1 P9WIQ3 P9WJI1 P9WJL9 P9WKF7 P9WKJ7 P9WKL1 P9WMP7 P9WN19 P9WN71 P9WN73 P9WN75 P9WN77 P9WNF9 P9WNP7 P9WNS1 P9WNS7 P9WNX1 P9WNX5 P9WNX7 P9WNX9 P9WNZ3 P9WP23 P9WP89 P9WPH1 P9WPL5 P9WPP3 P9WPX1 P9WPZ9 P9WQC5 P9WQE1 P9WQE3 P9WQE5 P9WQE7 P9WQE9 Q50631 Q79FJ2 Q7ARS9\n"
     ]
    },
    {
     "data": {
      "image/png": "[encoded data removed]",
      "text/plain": [
       "<rdkit.Chem.rdchem.Mol at 0x7fbfd1f8d760>"
      ]
     },
     "metadata": {},
     "output_type": "display_data"
    },
    {
     "name": "stdout",
     "output_type": "stream",
     "text": [
      "CHEBI_29985\n",
      "number of proteins: 50\n",
      "I6X9S5 I6XI14 I6Y0R5 I6Y4C7 I6Y8S6 I6YG46 O33289 O50443 O53203 O69670 O69689 P96218 P9WFV9 P9WFX3 P9WHK7 P9WHL5 P9WHL7 P9WHQ7 P9WHU9 P9WII7 P9WII9 P9WJJ3 P9WML7 P9WMM1 P9WMM3 P9WMS7 P9WN19 P9WN33 P9WN35 P9WN37 P9WN39 P9WN49 P9WN59 P9WN61 P9WP79 P9WP97 P9WPK3 P9WPK5 P9WPK7 P9WPK9 P9WPW9 P9WPZ3 P9WPZ5 P9WPZ7 P9WQ73 P9WQ75 P9WQ77 P9WQ79 P9WQ91 P9WQA1\n"
     ]
    },
    {
     "data": {
      "image/png": "[encoded data removed]",
      "text/plain": [
       "<rdkit.Chem.rdchem.Mol at 0x7fbfd1f8d760>"
      ]
     },
     "metadata": {},
     "output_type": "display_data"
    }
   ],
   "source": [
    "for index, row in df_comp_count_top.iterrows():\n",
    "    print(row['ChEBI'])\n",
    "    print('number of proteins:', row['num_UP'])\n",
    "    print(row['Entries'])\n",
    "    display(Chem.MolFromSmiles(row['smiles']))"
   ]
  },
  {
   "cell_type": "markdown",
   "metadata": {},
   "source": [
    "### NEXT: Generate y-vector classification dataframe for all metabolite-protein hubs:"
   ]
  },
  {
   "cell_type": "code",
   "execution_count": 73,
   "metadata": {},
   "outputs": [
    {
     "data": {
      "text/plain": [
       "(860, 15)"
      ]
     },
     "execution_count": 73,
     "metadata": {},
     "output_type": "execute_result"
    }
   ],
   "source": [
    "file_in = '../data/annotations/uniprot-proteome_UP000001584.tab'\n",
    "df = pd.read_csv(file_in, sep = '\\t')\n",
    "# Add RvIDs:\n",
    "re_str = 'Rv\\d\\d\\d\\dc?'\n",
    "list_rvids = [re.findall(re_str, str_temp)[0] for str_temp in df['Gene names']]\n",
    "df['Rv_ID'] = list_rvids\n",
    "\n",
    "# constrain to only proteins for which we have compound data: \n",
    "df_train = df[df.Entry.isin(df_UP_rhea_chebi_smiles.Entry)].copy()\n",
    "df_train.shape"
   ]
  },
  {
   "cell_type": "code",
   "execution_count": 75,
   "metadata": {},
   "outputs": [],
   "source": [
    "list_ChEBI = df_comp_count_top.ChEBI.tolist()\n",
    "# chebi = list_ChEBI[0]\n",
    "for chebi in list_ChEBI:\n",
    "    list_entries = df_comp_count_top[df_comp_count_top.ChEBI==chebi].Entries.values[0].split()\n",
    "    # df_train[df_train.Entry.isin(list_entries)]\n",
    "\n",
    "    # enzymes that don't have substrates belonging to this cluster\n",
    "    df_train.loc[~df_train.Entry.isin(list_entries), chebi] = 0\n",
    "    # enzymes that *do* have substrates belonging to this cluster\n",
    "    df_train.loc[df_train.Entry.isin(list_entries), chebi] = 1"
   ]
  },
  {
   "cell_type": "markdown",
   "metadata": {},
   "source": [
    "hub metabolites to pool together: "
   ]
  },
  {
   "cell_type": "code",
   "execution_count": 76,
   "metadata": {},
   "outputs": [],
   "source": [
    "axp = ['CHEBI_30616', 'CHEBI_456216', 'CHEBI_456215'] #ATP, ADP, AMP\n",
    "nads = ['CHEBI_57540', 'CHEBI_57945', 'CHEBI_57783', 'CHEBI_58349']\n",
    "p_pp = ['CHEBI_43474', 'CHEBI_33019']# ortophosphate, diphosphate\n",
    "list_ChEBI_pooled = [axp, nads, p_pp] \n"
   ]
  },
  {
   "cell_type": "code",
   "execution_count": 77,
   "metadata": {},
   "outputs": [],
   "source": [
    "for chebi_pooled in list_ChEBI_pooled:\n",
    "    list_entries = df_UP_rhea_chebi_smiles[df_UP_rhea_chebi_smiles.ChEBI.isin(chebi_pooled)].Entry.unique().tolist()\n",
    "    col_name = '-OR-'.join(chebi_pooled)\n",
    "    # enzymes that don't have substrates belonging to this cluster\n",
    "    df_train.loc[~df_train.Entry.isin(list_entries), col_name] = 0\n",
    "    # enzymes that *do* have substrates belonging to this cluster\n",
    "    df_train.loc[df_train.Entry.isin(list_entries), col_name] = 1"
   ]
  },
  {
   "cell_type": "code",
   "execution_count": 78,
   "metadata": {},
   "outputs": [
    {
     "data": {
      "text/html": [
       "<div>\n",
       "<style scoped>\n",
       "    .dataframe tbody tr th:only-of-type {\n",
       "        vertical-align: middle;\n",
       "    }\n",
       "\n",
       "    .dataframe tbody tr th {\n",
       "        vertical-align: top;\n",
       "    }\n",
       "\n",
       "    .dataframe thead th {\n",
       "        text-align: right;\n",
       "    }\n",
       "</style>\n",
       "<table border=\"1\" class=\"dataframe\">\n",
       "  <thead>\n",
       "    <tr style=\"text-align: right;\">\n",
       "      <th></th>\n",
       "      <th>Entry</th>\n",
       "      <th>Entry name</th>\n",
       "      <th>Status</th>\n",
       "      <th>Protein names</th>\n",
       "      <th>Gene names</th>\n",
       "      <th>Organism</th>\n",
       "      <th>Length</th>\n",
       "      <th>Annotation</th>\n",
       "      <th>Rhea ID</th>\n",
       "      <th>EC number</th>\n",
       "      <th>...</th>\n",
       "      <th>CHEBI_57540</th>\n",
       "      <th>CHEBI_456215</th>\n",
       "      <th>CHEBI_57945</th>\n",
       "      <th>CHEBI_16526</th>\n",
       "      <th>CHEBI_57783</th>\n",
       "      <th>CHEBI_58349</th>\n",
       "      <th>CHEBI_29985</th>\n",
       "      <th>CHEBI_30616-OR-CHEBI_456216-OR-CHEBI_456215</th>\n",
       "      <th>CHEBI_57540-OR-CHEBI_57945-OR-CHEBI_57783-OR-CHEBI_58349</th>\n",
       "      <th>CHEBI_43474-OR-CHEBI_33019</th>\n",
       "    </tr>\n",
       "  </thead>\n",
       "  <tbody>\n",
       "    <tr>\n",
       "      <th>1</th>\n",
       "      <td>P9WJM5</td>\n",
       "      <td>MSRA_MYCTU</td>\n",
       "      <td>reviewed</td>\n",
       "      <td>Peptide methionine sulfoxide reductase MsrA (P...</td>\n",
       "      <td>msrA Rv0137c MTCI5.11c</td>\n",
       "      <td>Mycobacterium tuberculosis (strain ATCC 25618 ...</td>\n",
       "      <td>182</td>\n",
       "      <td>4 out of 5</td>\n",
       "      <td>RHEA:14217; RHEA:19993</td>\n",
       "      <td>1.8.4.11</td>\n",
       "      <td>...</td>\n",
       "      <td>0.0</td>\n",
       "      <td>0.0</td>\n",
       "      <td>0.0</td>\n",
       "      <td>0.0</td>\n",
       "      <td>0.0</td>\n",
       "      <td>0.0</td>\n",
       "      <td>0.0</td>\n",
       "      <td>0.0</td>\n",
       "      <td>0.0</td>\n",
       "      <td>0.0</td>\n",
       "    </tr>\n",
       "    <tr>\n",
       "      <th>2</th>\n",
       "      <td>P9WHM9</td>\n",
       "      <td>PUR2_MYCTU</td>\n",
       "      <td>reviewed</td>\n",
       "      <td>Phosphoribosylamine--glycine ligase (EC 6.3.4....</td>\n",
       "      <td>purD Rv0772 MTCY369.17</td>\n",
       "      <td>Mycobacterium tuberculosis (strain ATCC 25618 ...</td>\n",
       "      <td>422</td>\n",
       "      <td>3 out of 5</td>\n",
       "      <td>RHEA:17453</td>\n",
       "      <td>6.3.4.13</td>\n",
       "      <td>...</td>\n",
       "      <td>0.0</td>\n",
       "      <td>0.0</td>\n",
       "      <td>0.0</td>\n",
       "      <td>0.0</td>\n",
       "      <td>0.0</td>\n",
       "      <td>0.0</td>\n",
       "      <td>0.0</td>\n",
       "      <td>1.0</td>\n",
       "      <td>0.0</td>\n",
       "      <td>1.0</td>\n",
       "    </tr>\n",
       "  </tbody>\n",
       "</table>\n",
       "<p>2 rows × 30 columns</p>\n",
       "</div>"
      ],
      "text/plain": [
       "    Entry  Entry name    Status  \\\n",
       "1  P9WJM5  MSRA_MYCTU  reviewed   \n",
       "2  P9WHM9  PUR2_MYCTU  reviewed   \n",
       "\n",
       "                                       Protein names              Gene names  \\\n",
       "1  Peptide methionine sulfoxide reductase MsrA (P...  msrA Rv0137c MTCI5.11c   \n",
       "2  Phosphoribosylamine--glycine ligase (EC 6.3.4....  purD Rv0772 MTCY369.17   \n",
       "\n",
       "                                            Organism  Length  Annotation  \\\n",
       "1  Mycobacterium tuberculosis (strain ATCC 25618 ...     182  4 out of 5   \n",
       "2  Mycobacterium tuberculosis (strain ATCC 25618 ...     422  3 out of 5   \n",
       "\n",
       "                  Rhea ID EC number  ... CHEBI_57540 CHEBI_456215 CHEBI_57945  \\\n",
       "1  RHEA:14217; RHEA:19993  1.8.4.11  ...         0.0          0.0         0.0   \n",
       "2              RHEA:17453  6.3.4.13  ...         0.0          0.0         0.0   \n",
       "\n",
       "  CHEBI_16526 CHEBI_57783  CHEBI_58349  CHEBI_29985  \\\n",
       "1         0.0         0.0          0.0          0.0   \n",
       "2         0.0         0.0          0.0          0.0   \n",
       "\n",
       "   CHEBI_30616-OR-CHEBI_456216-OR-CHEBI_456215  \\\n",
       "1                                          0.0   \n",
       "2                                          1.0   \n",
       "\n",
       "   CHEBI_57540-OR-CHEBI_57945-OR-CHEBI_57783-OR-CHEBI_58349  \\\n",
       "1                                                0.0          \n",
       "2                                                0.0          \n",
       "\n",
       "   CHEBI_43474-OR-CHEBI_33019  \n",
       "1                         0.0  \n",
       "2                         1.0  \n",
       "\n",
       "[2 rows x 30 columns]"
      ]
     },
     "execution_count": 78,
     "metadata": {},
     "output_type": "execute_result"
    }
   ],
   "source": [
    "df_train.head(2)"
   ]
  },
  {
   "cell_type": "markdown",
   "metadata": {},
   "source": [
    "Save to file: "
   ]
  },
  {
   "cell_type": "code",
   "execution_count": 79,
   "metadata": {},
   "outputs": [],
   "source": [
    "fn_out = '../data/tests/df_hub_metabolites.csv'\n",
    "df_train.to_csv(fn_out, index=False)"
   ]
  },
  {
   "cell_type": "markdown",
   "metadata": {},
   "source": [
    "________________________________\n",
    "________________________________\n",
    "________________________________\n",
    "________________________________\n"
   ]
  },
  {
   "cell_type": "markdown",
   "metadata": {},
   "source": [
    "_________________________________\n",
    "_________________________________\n",
    "_________________________________\n",
    "_________________________________\n",
    "_________________________________\n",
    "_________________________________"
   ]
  },
  {
   "cell_type": "markdown",
   "metadata": {},
   "source": [
    "# OTHER STUFF"
   ]
  },
  {
   "cell_type": "code",
   "execution_count": 65,
   "metadata": {},
   "outputs": [
    {
     "data": {
      "text/html": [
       "<div>\n",
       "<style scoped>\n",
       "    .dataframe tbody tr th:only-of-type {\n",
       "        vertical-align: middle;\n",
       "    }\n",
       "\n",
       "    .dataframe tbody tr th {\n",
       "        vertical-align: top;\n",
       "    }\n",
       "\n",
       "    .dataframe thead th {\n",
       "        text-align: right;\n",
       "    }\n",
       "</style>\n",
       "<table border=\"1\" class=\"dataframe\">\n",
       "  <thead>\n",
       "    <tr style=\"text-align: right;\">\n",
       "      <th></th>\n",
       "      <th>Entry</th>\n",
       "      <th>RheaID</th>\n",
       "      <th>type</th>\n",
       "      <th>ChEBI</th>\n",
       "      <th>smiles</th>\n",
       "    </tr>\n",
       "  </thead>\n",
       "  <tbody>\n",
       "    <tr>\n",
       "      <th>424</th>\n",
       "      <td>G3YG17</td>\n",
       "      <td>17025</td>\n",
       "      <td>RIGHT</td>\n",
       "      <td>CHEBI_17399</td>\n",
       "      <td>OC[C@H](O)[C@@H](O)C(=O)CO</td>\n",
       "    </tr>\n",
       "    <tr>\n",
       "      <th>2836</th>\n",
       "      <td>Q1MLL4</td>\n",
       "      <td>20685</td>\n",
       "      <td>LEFT</td>\n",
       "      <td>CHEBI_16813</td>\n",
       "      <td>OC[C@H](O)[C@@H](O)[C@@H](O)[C@H](O)CO</td>\n",
       "    </tr>\n",
       "    <tr>\n",
       "      <th>2650</th>\n",
       "      <td>P87219</td>\n",
       "      <td>14609</td>\n",
       "      <td>LEFT</td>\n",
       "      <td>CHEBI_17924</td>\n",
       "      <td>OC[C@H](O)[C@@H](O)[C@H](O)[C@H](O)CO</td>\n",
       "    </tr>\n",
       "    <tr>\n",
       "      <th>4005</th>\n",
       "      <td>Q8JIS3</td>\n",
       "      <td>18005</td>\n",
       "      <td>LEFT</td>\n",
       "      <td>CHEBI_48300</td>\n",
       "      <td>OC[C@@H](O)[C@H](O)CO</td>\n",
       "    </tr>\n",
       "    <tr>\n",
       "      <th>4003</th>\n",
       "      <td>Q8JIS3</td>\n",
       "      <td>17025</td>\n",
       "      <td>RIGHT</td>\n",
       "      <td>CHEBI_17399</td>\n",
       "      <td>OC[C@H](O)[C@@H](O)C(=O)CO</td>\n",
       "    </tr>\n",
       "  </tbody>\n",
       "</table>\n",
       "</div>"
      ],
      "text/plain": [
       "       Entry  RheaID   type        ChEBI  \\\n",
       "424   G3YG17   17025  RIGHT  CHEBI_17399   \n",
       "2836  Q1MLL4   20685   LEFT  CHEBI_16813   \n",
       "2650  P87219   14609   LEFT  CHEBI_17924   \n",
       "4005  Q8JIS3   18005   LEFT  CHEBI_48300   \n",
       "4003  Q8JIS3   17025  RIGHT  CHEBI_17399   \n",
       "\n",
       "                                      smiles  \n",
       "424               OC[C@H](O)[C@@H](O)C(=O)CO  \n",
       "2836  OC[C@H](O)[C@@H](O)[C@@H](O)[C@H](O)CO  \n",
       "2650   OC[C@H](O)[C@@H](O)[C@H](O)[C@H](O)CO  \n",
       "4005                   OC[C@@H](O)[C@H](O)CO  \n",
       "4003              OC[C@H](O)[C@@H](O)C(=O)CO  "
      ]
     },
     "execution_count": 65,
     "metadata": {},
     "output_type": "execute_result"
    }
   ],
   "source": [
    "df_45_l_rhea_chebi_smiles[df_45_l_rhea_chebi_smiles.ChEBI.isin(df_sample.ChEBI)].sample(5)"
   ]
  },
  {
   "cell_type": "code",
   "execution_count": null,
   "metadata": {},
   "outputs": [],
   "source": []
  },
  {
   "cell_type": "markdown",
   "metadata": {},
   "source": [
    "### Make a dataframe to train a classifier on: "
   ]
  },
  {
   "cell_type": "code",
   "execution_count": 63,
   "metadata": {},
   "outputs": [
    {
     "name": "stdout",
     "output_type": "stream",
     "text": [
      "(62, 6)\n",
      "53\n"
     ]
    }
   ],
   "source": [
    "# Grab all compounds in the cluster(s) of interest:\n",
    "list_clus = [3,9]\n",
    "df_clus = df_mols_uniq_noCF[df_mols_uniq_noCF.cluster_labels.isin(list_clus)].copy()\n",
    "print(df_clus.shape)\n",
    "\n",
    "# Grab all proteins/entries that have substrates in those clusters: \n",
    "entries_clus = df_45_l_rhea_chebi_smiles_noCF[df_45_l_rhea_chebi_smiles_noCF.ChEBI.isin(df_clus.ChEBI)].Entry.unique().tolist()\n",
    "print(len(entries_clus))"
   ]
  },
  {
   "cell_type": "code",
   "execution_count": 64,
   "metadata": {},
   "outputs": [],
   "source": [
    "df_cluster_classify = pd.DataFrame()\n",
    "df_cluster_classify['Entry'] = df_45_l_rhea_chebi_smiles.Entry.unique()\n",
    "# enzymes that don't have substrates belonging to this cluster\n",
    "df_cluster_classify.loc[~df_cluster_classify.Entry.isin(entries_clus), 'compound_cluster'] = 0\n",
    "# enzymes that *do* have substrates belonging to this cluster\n",
    "df_cluster_classify.loc[df_cluster_classify.Entry.isin(entries_clus), 'compound_cluster'] = 1"
   ]
  },
  {
   "cell_type": "code",
   "execution_count": 67,
   "metadata": {},
   "outputs": [],
   "source": [
    "file_out = '../../data/mohammed/beta_keto_AA_cluster_classify.csv'\n",
    "df_cluster_classify.to_csv(file_out, index = False)"
   ]
  },
  {
   "cell_type": "markdown",
   "metadata": {},
   "source": [
    "# Sankey diagram: \n",
    "## mapping protein embedding clusters to compound clusters: "
   ]
  },
  {
   "cell_type": "code",
   "execution_count": 114,
   "metadata": {},
   "outputs": [
    {
     "name": "stdout",
     "output_type": "stream",
     "text": [
      "(4325, 2)\n"
     ]
    },
    {
     "data": {
      "text/html": [
       "<div>\n",
       "<style scoped>\n",
       "    .dataframe tbody tr th:only-of-type {\n",
       "        vertical-align: middle;\n",
       "    }\n",
       "\n",
       "    .dataframe tbody tr th {\n",
       "        vertical-align: top;\n",
       "    }\n",
       "\n",
       "    .dataframe thead th {\n",
       "        text-align: right;\n",
       "    }\n",
       "</style>\n",
       "<table border=\"1\" class=\"dataframe\">\n",
       "  <thead>\n",
       "    <tr style=\"text-align: right;\">\n",
       "      <th></th>\n",
       "      <th>Entry</th>\n",
       "      <th>protein_cluster</th>\n",
       "    </tr>\n",
       "  </thead>\n",
       "  <tbody>\n",
       "    <tr>\n",
       "      <th>0</th>\n",
       "      <td>Q9NZC7</td>\n",
       "      <td>4</td>\n",
       "    </tr>\n",
       "    <tr>\n",
       "      <th>1</th>\n",
       "      <td>Q99714</td>\n",
       "      <td>7</td>\n",
       "    </tr>\n",
       "  </tbody>\n",
       "</table>\n",
       "</div>"
      ],
      "text/plain": [
       "    Entry  protein_cluster\n",
       "0  Q9NZC7                4\n",
       "1  Q99714                7"
      ]
     },
     "execution_count": 114,
     "metadata": {},
     "output_type": "execute_result"
    }
   ],
   "source": [
    "file_in = '../../data/mohammed/protein_clusters.csv'\n",
    "df_prot = pd.read_csv(file_in)\n",
    "df_prot.rename(columns={'cluster_labels':'protein_cluster'}, inplace=True)\n",
    "print(df_prot.shape)\n",
    "df_prot.head(2)"
   ]
  },
  {
   "cell_type": "code",
   "execution_count": 48,
   "metadata": {},
   "outputs": [
    {
     "data": {
      "text/html": [
       "<div>\n",
       "<style scoped>\n",
       "    .dataframe tbody tr th:only-of-type {\n",
       "        vertical-align: middle;\n",
       "    }\n",
       "\n",
       "    .dataframe tbody tr th {\n",
       "        vertical-align: top;\n",
       "    }\n",
       "\n",
       "    .dataframe thead th {\n",
       "        text-align: right;\n",
       "    }\n",
       "</style>\n",
       "<table border=\"1\" class=\"dataframe\">\n",
       "  <thead>\n",
       "    <tr style=\"text-align: right;\">\n",
       "      <th></th>\n",
       "      <th>ChEBI</th>\n",
       "      <th>mol_cluster</th>\n",
       "    </tr>\n",
       "  </thead>\n",
       "  <tbody>\n",
       "    <tr>\n",
       "      <th>0</th>\n",
       "      <td>CHEBI_17336</td>\n",
       "      <td>7</td>\n",
       "    </tr>\n",
       "    <tr>\n",
       "      <th>1</th>\n",
       "      <td>CHEBI_17898</td>\n",
       "      <td>7</td>\n",
       "    </tr>\n",
       "  </tbody>\n",
       "</table>\n",
       "</div>"
      ],
      "text/plain": [
       "         ChEBI  mol_cluster\n",
       "0  CHEBI_17336            7\n",
       "1  CHEBI_17898            7"
      ]
     },
     "execution_count": 48,
     "metadata": {},
     "output_type": "execute_result"
    }
   ],
   "source": [
    "df_mol = df_mols_uniq_noCF[['ChEBI', 'cluster_labels']].copy()\n",
    "df_mol.rename(columns={'cluster_labels':'mol_cluster'}, inplace=True)\n",
    "df_mol.head(2)"
   ]
  },
  {
   "cell_type": "code",
   "execution_count": 49,
   "metadata": {},
   "outputs": [],
   "source": [
    "df_mapping = df_45_l_rhea_chebi_smiles_noCF[['Entry', 'ChEBI']].copy()\n",
    "\n",
    "df_mapping_1 = df_mapping.merge(df_prot, how = 'left', on = 'Entry')\n",
    "df_mapping_2 = df_mapping_1.merge(df_mol, how = 'left', on = 'ChEBI')\n",
    "df_for_river = df_mapping_2[['protein_cluster', 'mol_cluster']].copy()\n",
    "\n",
    "# save to file:\n",
    "file_out = '../../data/mohammed/river_plot_v3.csv'\n",
    "df_for_river.to_csv(file_out, index = False)"
   ]
  },
  {
   "cell_type": "markdown",
   "metadata": {},
   "source": [
    "Start here: "
   ]
  },
  {
   "cell_type": "code",
   "execution_count": 51,
   "metadata": {},
   "outputs": [],
   "source": [
    "file_in = '../../data/mohammed/river_plot_v3.csv'\n",
    "df_for_river = pd.read_csv(file_in)\n",
    "df_for_river.sort_values(by = 'protein_cluster', inplace=True)"
   ]
  },
  {
   "cell_type": "code",
   "execution_count": 75,
   "metadata": {},
   "outputs": [],
   "source": [
    "df_for_river_nonan = df_for_river[~np.isnan(df_for_river.protein_cluster.values)].copy()"
   ]
  },
  {
   "cell_type": "code",
   "execution_count": 76,
   "metadata": {},
   "outputs": [],
   "source": [
    "df_for_river_nonan['protein_cluster'] = [str(int(v)) for v in df_for_river_nonan['protein_cluster'].values]\n",
    "df_for_river_nonan['mol_cluster'] = [str(int(v)) for v in df_for_river_nonan['mol_cluster'].values]"
   ]
  },
  {
   "cell_type": "code",
   "execution_count": 54,
   "metadata": {},
   "outputs": [],
   "source": [
    "sankey(\n",
    "    df_for_river_nonan['protein_cluster'], df_for_river_nonan['mol_cluster'], aspect=20,\n",
    "    fontsize=8, figureName=\"sankey_diagram_ChEBI\"\n",
    ")"
   ]
  },
  {
   "cell_type": "code",
   "execution_count": 88,
   "metadata": {},
   "outputs": [
    {
     "name": "stdout",
     "output_type": "stream",
     "text": [
      "protein cluster: 0  <----> number of mol. clusters: 11\n",
      "protein cluster: 1  <----> number of mol. clusters: 18\n",
      "protein cluster: 2  <----> number of mol. clusters: 19\n",
      "protein cluster: 3  <----> number of mol. clusters: 15\n",
      "protein cluster: 4  <----> number of mol. clusters: 19\n",
      "protein cluster: 5  <----> number of mol. clusters: 13\n",
      "protein cluster: 6  <----> number of mol. clusters: 15\n",
      "protein cluster: 7  <----> number of mol. clusters: 17\n"
     ]
    }
   ],
   "source": [
    "for prot_clus in df_for_river_nonan.protein_cluster.unique():\n",
    "    df_test = df_for_river_nonan[df_for_river_nonan.protein_cluster.values == prot_clus]\n",
    "    print('protein cluster:', prot_clus, ' <----> number of mol. clusters:', len(df_test.mol_cluster.unique()))"
   ]
  },
  {
   "cell_type": "code",
   "execution_count": 92,
   "metadata": {},
   "outputs": [
    {
     "data": {
      "text/html": [
       "<div>\n",
       "<style scoped>\n",
       "    .dataframe tbody tr th:only-of-type {\n",
       "        vertical-align: middle;\n",
       "    }\n",
       "\n",
       "    .dataframe tbody tr th {\n",
       "        vertical-align: top;\n",
       "    }\n",
       "\n",
       "    .dataframe thead th {\n",
       "        text-align: right;\n",
       "    }\n",
       "</style>\n",
       "<table border=\"1\" class=\"dataframe\">\n",
       "  <thead>\n",
       "    <tr style=\"text-align: right;\">\n",
       "      <th></th>\n",
       "      <th>Entry</th>\n",
       "      <th>protein_cluster</th>\n",
       "    </tr>\n",
       "  </thead>\n",
       "  <tbody>\n",
       "    <tr>\n",
       "      <th>8</th>\n",
       "      <td>P16152</td>\n",
       "      <td>5</td>\n",
       "    </tr>\n",
       "    <tr>\n",
       "      <th>41</th>\n",
       "      <td>Q9C826</td>\n",
       "      <td>5</td>\n",
       "    </tr>\n",
       "    <tr>\n",
       "      <th>67</th>\n",
       "      <td>P35270</td>\n",
       "      <td>5</td>\n",
       "    </tr>\n",
       "    <tr>\n",
       "      <th>80</th>\n",
       "      <td>P39831</td>\n",
       "      <td>5</td>\n",
       "    </tr>\n",
       "    <tr>\n",
       "      <th>82</th>\n",
       "      <td>P07914</td>\n",
       "      <td>5</td>\n",
       "    </tr>\n",
       "    <tr>\n",
       "      <th>...</th>\n",
       "      <td>...</td>\n",
       "      <td>...</td>\n",
       "    </tr>\n",
       "    <tr>\n",
       "      <th>4256</th>\n",
       "      <td>A0A3B3UXD7</td>\n",
       "      <td>5</td>\n",
       "    </tr>\n",
       "    <tr>\n",
       "      <th>4257</th>\n",
       "      <td>H9H0U9</td>\n",
       "      <td>5</td>\n",
       "    </tr>\n",
       "    <tr>\n",
       "      <th>4268</th>\n",
       "      <td>A0A3Q2PC26</td>\n",
       "      <td>5</td>\n",
       "    </tr>\n",
       "    <tr>\n",
       "      <th>4269</th>\n",
       "      <td>A0A165K181</td>\n",
       "      <td>5</td>\n",
       "    </tr>\n",
       "    <tr>\n",
       "      <th>4315</th>\n",
       "      <td>A0A173S5X1</td>\n",
       "      <td>5</td>\n",
       "    </tr>\n",
       "  </tbody>\n",
       "</table>\n",
       "<p>217 rows × 2 columns</p>\n",
       "</div>"
      ],
      "text/plain": [
       "           Entry  protein_cluster\n",
       "8         P16152                5\n",
       "41        Q9C826                5\n",
       "67        P35270                5\n",
       "80        P39831                5\n",
       "82        P07914                5\n",
       "...          ...              ...\n",
       "4256  A0A3B3UXD7                5\n",
       "4257      H9H0U9                5\n",
       "4268  A0A3Q2PC26                5\n",
       "4269  A0A165K181                5\n",
       "4315  A0A173S5X1                5\n",
       "\n",
       "[217 rows x 2 columns]"
      ]
     },
     "execution_count": 92,
     "metadata": {},
     "output_type": "execute_result"
    }
   ],
   "source": [
    "df_prot[df_prot.protein_cluster.values == 5]"
   ]
  },
  {
   "cell_type": "markdown",
   "metadata": {},
   "source": [
    "# Some more analyses: "
   ]
  },
  {
   "cell_type": "markdown",
   "metadata": {},
   "source": [
    "### How promiscuous are individual enzymes? "
   ]
  },
  {
   "cell_type": "markdown",
   "metadata": {},
   "source": [
    "In other words... is it that:\n",
    "1. many single enzymes tend to (promiscuously) catalyze compounds that are structurally very different? OR...\n",
    "2. enzymes tend to catalyze compounds in a single cluster, but enzymes in the same emb-1 cluster will catalyze compounds in different molecular clusters.  "
   ]
  },
  {
   "cell_type": "code",
   "execution_count": 99,
   "metadata": {},
   "outputs": [],
   "source": [
    "df_45_l_rhea_chebi_noCF_clust = df_45_l_rhea_chebi_smiles_noCF[['Entry', 'RheaID', 'ChEBI']].merge(df_mols_uniq_noCF[['ChEBI', 'cluster_labels']], \n",
    "                                                                  on = 'ChEBI', how = 'inner')"
   ]
  },
  {
   "cell_type": "code",
   "execution_count": 105,
   "metadata": {},
   "outputs": [],
   "source": [
    "list_up_uniq = df_45_l_rhea_chebi_noCF_clust.Entry.unique()"
   ]
  },
  {
   "cell_type": "code",
   "execution_count": 107,
   "metadata": {},
   "outputs": [],
   "source": [
    "list_num_clus = []\n",
    "for entry in list_up_uniq:\n",
    "    num_clus = len(df_45_l_rhea_chebi_noCF_clust[df_45_l_rhea_chebi_noCF_clust.Entry.values == entry].cluster_labels.unique())\n",
    "    list_num_clus.append(num_clus)"
   ]
  },
  {
   "cell_type": "code",
   "execution_count": 108,
   "metadata": {},
   "outputs": [],
   "source": [
    "df_num_clus = pd.DataFrame()\n",
    "df_num_clus['Entry'] = list_up_uniq\n",
    "df_num_clus['num_clusters'] = list_num_clus "
   ]
  },
  {
   "cell_type": "code",
   "execution_count": 111,
   "metadata": {},
   "outputs": [
    {
     "data": {
      "text/plain": [
       "1    220\n",
       "2     94\n",
       "3     19\n",
       "4     17\n",
       "5     11\n",
       "Name: num_clusters, dtype: int64"
      ]
     },
     "execution_count": 111,
     "metadata": {},
     "output_type": "execute_result"
    }
   ],
   "source": [
    "df_num_clus['num_clusters'].value_counts()"
   ]
  },
  {
   "cell_type": "code",
   "execution_count": 152,
   "metadata": {},
   "outputs": [
    {
     "data": {
      "text/html": [
       "<div>\n",
       "<style scoped>\n",
       "    .dataframe tbody tr th:only-of-type {\n",
       "        vertical-align: middle;\n",
       "    }\n",
       "\n",
       "    .dataframe tbody tr th {\n",
       "        vertical-align: top;\n",
       "    }\n",
       "\n",
       "    .dataframe thead th {\n",
       "        text-align: right;\n",
       "    }\n",
       "</style>\n",
       "<table border=\"1\" class=\"dataframe\">\n",
       "  <thead>\n",
       "    <tr style=\"text-align: right;\">\n",
       "      <th></th>\n",
       "      <th>Entry</th>\n",
       "      <th>num_clusters</th>\n",
       "    </tr>\n",
       "  </thead>\n",
       "  <tbody>\n",
       "    <tr>\n",
       "      <th>42</th>\n",
       "      <td>O14756</td>\n",
       "      <td>4</td>\n",
       "    </tr>\n",
       "    <tr>\n",
       "      <th>43</th>\n",
       "      <td>O54753</td>\n",
       "      <td>4</td>\n",
       "    </tr>\n",
       "  </tbody>\n",
       "</table>\n",
       "</div>"
      ],
      "text/plain": [
       "     Entry  num_clusters\n",
       "42  O14756             4\n",
       "43  O54753             4"
      ]
     },
     "execution_count": 152,
     "metadata": {},
     "output_type": "execute_result"
    }
   ],
   "source": [
    "df_num_clus[df_num_clus.num_clusters.values == 4].head(2)"
   ]
  },
  {
   "cell_type": "code",
   "execution_count": 151,
   "metadata": {},
   "outputs": [
    {
     "data": {
      "text/html": [
       "<div>\n",
       "<style scoped>\n",
       "    .dataframe tbody tr th:only-of-type {\n",
       "        vertical-align: middle;\n",
       "    }\n",
       "\n",
       "    .dataframe tbody tr th {\n",
       "        vertical-align: top;\n",
       "    }\n",
       "\n",
       "    .dataframe thead th {\n",
       "        text-align: right;\n",
       "    }\n",
       "</style>\n",
       "<table border=\"1\" class=\"dataframe\">\n",
       "  <thead>\n",
       "    <tr style=\"text-align: right;\">\n",
       "      <th></th>\n",
       "      <th>Entry</th>\n",
       "      <th>RheaID</th>\n",
       "      <th>ChEBI</th>\n",
       "      <th>cluster_labels</th>\n",
       "    </tr>\n",
       "  </thead>\n",
       "  <tbody>\n",
       "    <tr>\n",
       "      <th>42</th>\n",
       "      <td>O14756</td>\n",
       "      <td>21284</td>\n",
       "      <td>CHEBI_17336</td>\n",
       "      <td>7</td>\n",
       "    </tr>\n",
       "    <tr>\n",
       "      <th>43</th>\n",
       "      <td>O14756</td>\n",
       "      <td>48488</td>\n",
       "      <td>CHEBI_17336</td>\n",
       "      <td>7</td>\n",
       "    </tr>\n",
       "  </tbody>\n",
       "</table>\n",
       "</div>"
      ],
      "text/plain": [
       "     Entry  RheaID        ChEBI  cluster_labels\n",
       "42  O14756   21284  CHEBI_17336               7\n",
       "43  O14756   48488  CHEBI_17336               7"
      ]
     },
     "execution_count": 151,
     "metadata": {},
     "output_type": "execute_result"
    }
   ],
   "source": [
    "entry = 'O14756'\n",
    "df_45_l_rhea_chebi_noCF_clust[df_45_l_rhea_chebi_noCF_clust.Entry.values == entry].head(2)"
   ]
  },
  {
   "cell_type": "code",
   "execution_count": 176,
   "metadata": {},
   "outputs": [
    {
     "data": {
      "text/html": [
       "<div>\n",
       "<style scoped>\n",
       "    .dataframe tbody tr th:only-of-type {\n",
       "        vertical-align: middle;\n",
       "    }\n",
       "\n",
       "    .dataframe tbody tr th {\n",
       "        vertical-align: top;\n",
       "    }\n",
       "\n",
       "    .dataframe thead th {\n",
       "        text-align: right;\n",
       "    }\n",
       "</style>\n",
       "<table border=\"1\" class=\"dataframe\">\n",
       "  <thead>\n",
       "    <tr style=\"text-align: right;\">\n",
       "      <th></th>\n",
       "      <th>Entry</th>\n",
       "      <th>RheaID</th>\n",
       "      <th>ChEBI</th>\n",
       "      <th>cluster_labels</th>\n",
       "    </tr>\n",
       "  </thead>\n",
       "  <tbody>\n",
       "    <tr>\n",
       "      <th>616</th>\n",
       "      <td>P28483</td>\n",
       "      <td>10740</td>\n",
       "      <td>CHEBI_17087</td>\n",
       "      <td>2</td>\n",
       "    </tr>\n",
       "    <tr>\n",
       "      <th>746</th>\n",
       "      <td>G5DGA8</td>\n",
       "      <td>45120</td>\n",
       "      <td>CHEBI_84966</td>\n",
       "      <td>2</td>\n",
       "    </tr>\n",
       "    <tr>\n",
       "      <th>1322</th>\n",
       "      <td>O14756</td>\n",
       "      <td>48488</td>\n",
       "      <td>CHEBI_83228</td>\n",
       "      <td>2</td>\n",
       "    </tr>\n",
       "    <tr>\n",
       "      <th>609</th>\n",
       "      <td>O75828</td>\n",
       "      <td>19257</td>\n",
       "      <td>CHEBI_17087</td>\n",
       "      <td>2</td>\n",
       "    </tr>\n",
       "    <tr>\n",
       "      <th>1831</th>\n",
       "      <td>P39831</td>\n",
       "      <td>43524</td>\n",
       "      <td>CHEBI_58320</td>\n",
       "      <td>2</td>\n",
       "    </tr>\n",
       "    <tr>\n",
       "      <th>467</th>\n",
       "      <td>A0A3Q8GLE8</td>\n",
       "      <td>61420</td>\n",
       "      <td>CHEBI_144481</td>\n",
       "      <td>2</td>\n",
       "    </tr>\n",
       "    <tr>\n",
       "      <th>1826</th>\n",
       "      <td>P39640</td>\n",
       "      <td>44628</td>\n",
       "      <td>CHEBI_84310</td>\n",
       "      <td>2</td>\n",
       "    </tr>\n",
       "    <tr>\n",
       "      <th>576</th>\n",
       "      <td>P26719</td>\n",
       "      <td>10736</td>\n",
       "      <td>CHEBI_17478</td>\n",
       "      <td>2</td>\n",
       "    </tr>\n",
       "    <tr>\n",
       "      <th>1738</th>\n",
       "      <td>P47727</td>\n",
       "      <td>63500</td>\n",
       "      <td>CHEBI_145547</td>\n",
       "      <td>2</td>\n",
       "    </tr>\n",
       "    <tr>\n",
       "      <th>1828</th>\n",
       "      <td>P39831</td>\n",
       "      <td>26438</td>\n",
       "      <td>CHEBI_33190</td>\n",
       "      <td>2</td>\n",
       "    </tr>\n",
       "  </tbody>\n",
       "</table>\n",
       "</div>"
      ],
      "text/plain": [
       "           Entry  RheaID         ChEBI  cluster_labels\n",
       "616       P28483   10740   CHEBI_17087               2\n",
       "746       G5DGA8   45120   CHEBI_84966               2\n",
       "1322      O14756   48488   CHEBI_83228               2\n",
       "609       O75828   19257   CHEBI_17087               2\n",
       "1831      P39831   43524   CHEBI_58320               2\n",
       "467   A0A3Q8GLE8   61420  CHEBI_144481               2\n",
       "1826      P39640   44628   CHEBI_84310               2\n",
       "576       P26719   10736   CHEBI_17478               2\n",
       "1738      P47727   63500  CHEBI_145547               2\n",
       "1828      P39831   26438   CHEBI_33190               2"
      ]
     },
     "execution_count": 176,
     "metadata": {},
     "output_type": "execute_result"
    }
   ],
   "source": [
    "clus_num = 2\n",
    "df_45_l_rhea_chebi_noCF_clust[df_45_l_rhea_chebi_noCF_clust.cluster_labels.values == clus_num].sample(10)"
   ]
  },
  {
   "cell_type": "markdown",
   "metadata": {},
   "source": [
    "Sort the compounds in the given cluster by the number of \"connections\" to proteins: "
   ]
  },
  {
   "cell_type": "code",
   "execution_count": 177,
   "metadata": {},
   "outputs": [],
   "source": [
    "df_clus = df_45_l_rhea_chebi_noCF_clust[df_45_l_rhea_chebi_noCF_clust.cluster_labels.values == clus_num].copy()"
   ]
  },
  {
   "cell_type": "code",
   "execution_count": 203,
   "metadata": {},
   "outputs": [
    {
     "data": {
      "text/html": [
       "<div>\n",
       "<style scoped>\n",
       "    .dataframe tbody tr th:only-of-type {\n",
       "        vertical-align: middle;\n",
       "    }\n",
       "\n",
       "    .dataframe tbody tr th {\n",
       "        vertical-align: top;\n",
       "    }\n",
       "\n",
       "    .dataframe thead th {\n",
       "        text-align: right;\n",
       "    }\n",
       "</style>\n",
       "<table border=\"1\" class=\"dataframe\">\n",
       "  <thead>\n",
       "    <tr style=\"text-align: right;\">\n",
       "      <th></th>\n",
       "      <th>Entry</th>\n",
       "      <th>RheaID</th>\n",
       "      <th>ChEBI</th>\n",
       "      <th>cluster_labels</th>\n",
       "    </tr>\n",
       "  </thead>\n",
       "  <tbody>\n",
       "    <tr>\n",
       "      <th>706</th>\n",
       "      <td>D4A1J4</td>\n",
       "      <td>20521</td>\n",
       "      <td>CHEBI_13705</td>\n",
       "      <td>2</td>\n",
       "    </tr>\n",
       "    <tr>\n",
       "      <th>707</th>\n",
       "      <td>P29147</td>\n",
       "      <td>20521</td>\n",
       "      <td>CHEBI_13705</td>\n",
       "      <td>2</td>\n",
       "    </tr>\n",
       "    <tr>\n",
       "      <th>708</th>\n",
       "      <td>Q02337</td>\n",
       "      <td>20521</td>\n",
       "      <td>CHEBI_13705</td>\n",
       "      <td>2</td>\n",
       "    </tr>\n",
       "    <tr>\n",
       "      <th>709</th>\n",
       "      <td>Q02338</td>\n",
       "      <td>20521</td>\n",
       "      <td>CHEBI_13705</td>\n",
       "      <td>2</td>\n",
       "    </tr>\n",
       "    <tr>\n",
       "      <th>710</th>\n",
       "      <td>Q561X9</td>\n",
       "      <td>20521</td>\n",
       "      <td>CHEBI_13705</td>\n",
       "      <td>2</td>\n",
       "    </tr>\n",
       "  </tbody>\n",
       "</table>\n",
       "</div>"
      ],
      "text/plain": [
       "      Entry  RheaID        ChEBI  cluster_labels\n",
       "706  D4A1J4   20521  CHEBI_13705               2\n",
       "707  P29147   20521  CHEBI_13705               2\n",
       "708  Q02337   20521  CHEBI_13705               2\n",
       "709  Q02338   20521  CHEBI_13705               2\n",
       "710  Q561X9   20521  CHEBI_13705               2"
      ]
     },
     "execution_count": 203,
     "metadata": {},
     "output_type": "execute_result"
    }
   ],
   "source": [
    "chebi = 'CHEBI_13705'\n",
    "df_clus[df_clus.ChEBI.values == chebi].head()"
   ]
  },
  {
   "cell_type": "code",
   "execution_count": 189,
   "metadata": {},
   "outputs": [
    {
     "data": {
      "text/plain": [
       "CHEBI_17087     26\n",
       "CHEBI_83228     20\n",
       "CHEBI_17478     10\n",
       "CHEBI_13705      8\n",
       "CHEBI_10983      8\n",
       "CHEBI_145547     7\n",
       "CHEBI_145544     7\n",
       "CHEBI_15687      3\n",
       "CHEBI_142593     3\n",
       "CHEBI_144481     2\n",
       "CHEBI_58585      2\n",
       "CHEBI_84966      2\n",
       "CHEBI_84970      2\n",
       "CHEBI_16583      2\n",
       "CHEBI_58320      2\n",
       "CHEBI_28868      2\n",
       "CHEBI_57552      1\n",
       "CHEBI_131847     1\n",
       "CHEBI_16812      1\n",
       "CHEBI_33384      1\n",
       "CHEBI_33855      1\n",
       "CHEBI_61904      1\n",
       "CHEBI_58213      1\n",
       "CHEBI_16510      1\n",
       "CHEBI_84310      1\n",
       "CHEBI_35235      1\n",
       "CHEBI_16016      1\n",
       "CHEBI_142621     1\n",
       "CHEBI_58371      1\n",
       "CHEBI_58246      1\n",
       "CHEBI_58458      1\n",
       "CHEBI_84358      1\n",
       "CHEBI_33190      1\n",
       "Name: ChEBI, dtype: int64"
      ]
     },
     "execution_count": 189,
     "metadata": {},
     "output_type": "execute_result"
    }
   ],
   "source": [
    "df_clus.ChEBI.value_counts()"
   ]
  },
  {
   "cell_type": "markdown",
   "metadata": {},
   "source": [
    "### A more detailed version of this question would be: "
   ]
  },
  {
   "cell_type": "markdown",
   "metadata": {},
   "source": [
    "For enzymes where the substrates all belong to a single structural cluster (num_clusters == 1):\n",
    "\n",
    "+ how many individual substrates are there? (promiscuity within a structural cluster)"
   ]
  },
  {
   "cell_type": "markdown",
   "metadata": {},
   "source": [
    "## For each compound cluster, how many unique proteins have substrates in that cluster? "
   ]
  },
  {
   "cell_type": "code",
   "execution_count": 165,
   "metadata": {},
   "outputs": [],
   "source": [
    "list_clust = df_45_l_rhea_chebi_noCF_clust.cluster_labels.unique().tolist()\n",
    "list_num_prots = []\n",
    "for clust in list_clust:\n",
    "    num_prots = df_45_l_rhea_chebi_noCF_clust[df_45_l_rhea_chebi_noCF_clust.cluster_labels.values == clust].Entry.unique().shape[0]\n",
    "    list_num_prots.append(num_prots)\n",
    "    \n",
    "df_clust_count = pd.DataFrame()\n",
    "df_clust_count['cluster'] = list_clust\n",
    "df_clust_count['num_prots'] = list_num_prots\n"
   ]
  },
  {
   "cell_type": "code",
   "execution_count": 169,
   "metadata": {},
   "outputs": [
    {
     "data": {
      "application/vnd.holoviews_exec.v0+json": "",
      "text/html": [
       "<div id='2285'>\n",
       "\n",
       "\n",
       "\n",
       "\n",
       "\n",
       "  <div class=\"bk-root\" id=\"3ff5d8b8-d990-472a-b66c-ab40a61e2082\" data-root-id=\"2285\"></div>\n",
       "</div>\n",
       "<script type=\"application/javascript\">(function(root) {\n",
       "  function embed_document(root) {\n",
       "  var docs_json = {\"629422e0-35ce-43b9-a736-a1d292b81ab0\":{\"roots\":{\"references\":[{\"attributes\":{\"margin\":[5,5,5,5],\"name\":\"HSpacer03327\",\"sizing_mode\":\"stretch_width\"},\"id\":\"2286\",\"type\":\"Spacer\"},{\"attributes\":{\"axis\":{\"id\":\"2299\"},\"grid_line_color\":null,\"ticker\":null},\"id\":\"2302\",\"type\":\"Grid\"},{\"attributes\":{\"fill_alpha\":{\"value\":0.2},\"fill_color\":{\"field\":\"color\",\"transform\":{\"id\":\"2320\"}},\"line_alpha\":{\"value\":0.2},\"line_color\":{\"value\":\"#000000\"},\"size\":{\"units\":\"screen\",\"value\":7.416198487095663},\"x\":{\"field\":\"u1\"},\"y\":{\"field\":\"u2\"}},\"id\":\"2328\",\"type\":\"Scatter\"},{\"attributes\":{\"bar_line_color\":\"black\",\"color_mapper\":{\"id\":\"2320\"},\"formatter\":{\"id\":\"2339\"},\"label_standoff\":8,\"location\":[0,0],\"major_tick_line_color\":\"black\",\"ticker\":{\"id\":\"2331\"},\"title\":\"clusters\"},\"id\":\"2332\",\"type\":\"ColorBar\"},{\"attributes\":{},\"id\":\"2337\",\"type\":\"BasicTickFormatter\"},{\"attributes\":{\"axis_label\":\"u2\",\"bounds\":\"auto\",\"formatter\":{\"id\":\"2337\"},\"major_label_orientation\":\"horizontal\",\"ticker\":{\"id\":\"2304\"}},\"id\":\"2303\",\"type\":\"LinearAxis\"},{\"attributes\":{},\"id\":\"2331\",\"type\":\"BasicTicker\"},{\"attributes\":{\"end\":12.953059911727905,\"reset_end\":12.953059911727905,\"reset_start\":-1.1054761409759521,\"start\":-1.1054761409759521,\"tags\":[[[\"u1\",\"u1\",null]]]},\"id\":\"2287\",\"type\":\"Range1d\"},{\"attributes\":{},\"id\":\"2304\",\"type\":\"BasicTicker\"},{\"attributes\":{\"end\":16.407610529661177,\"reset_end\":16.407610529661177,\"reset_start\":-1.8637723863124847,\"start\":-1.8637723863124847,\"tags\":[[[\"u2\",\"u2\",null]]]},\"id\":\"2288\",\"type\":\"Range1d\"},{\"attributes\":{\"axis\":{\"id\":\"2303\"},\"dimension\":1,\"grid_line_color\":null,\"ticker\":null},\"id\":\"2306\",\"type\":\"Grid\"},{\"attributes\":{\"source\":{\"id\":\"2321\"}},\"id\":\"2330\",\"type\":\"CDSView\"},{\"attributes\":{\"fill_alpha\":{\"value\":0.7},\"fill_color\":{\"field\":\"color\",\"transform\":{\"id\":\"2320\"}},\"line_alpha\":{\"value\":0.7},\"line_color\":{\"value\":\"#000000\"},\"size\":{\"units\":\"screen\",\"value\":7.416198487095663},\"x\":{\"field\":\"u1\"},\"y\":{\"field\":\"u2\"}},\"id\":\"2325\",\"type\":\"Scatter\"},{\"attributes\":{\"callback\":null,\"renderers\":[{\"id\":\"2329\"}],\"tags\":[\"hv_created\"],\"tooltips\":[[\"u1\",\"@{u1}\"],[\"u2\",\"@{u2}\"],[\"cluster_labels\",\"@{cluster_labels}\"],[\"ChEBI\",\"@{ChEBI}\"]]},\"id\":\"2289\",\"type\":\"HoverTool\"},{\"attributes\":{\"data_source\":{\"id\":\"2321\"},\"glyph\":{\"id\":\"2324\"},\"hover_glyph\":{\"id\":\"2327\"},\"muted_glyph\":{\"id\":\"2328\"},\"nonselection_glyph\":{\"id\":\"2325\"},\"selection_glyph\":{\"id\":\"2326\"},\"view\":{\"id\":\"2330\"}},\"id\":\"2329\",\"type\":\"GlyphRenderer\"},{\"attributes\":{\"fill_alpha\":{\"value\":0.7},\"fill_color\":{\"field\":\"color\",\"transform\":{\"id\":\"2320\"}},\"line_alpha\":{\"value\":0.7},\"line_color\":{\"value\":\"#000000\"},\"size\":{\"units\":\"screen\",\"value\":7.416198487095663},\"x\":{\"field\":\"u1\"},\"y\":{\"field\":\"u2\"}},\"id\":\"2326\",\"type\":\"Scatter\"},{\"attributes\":{},\"id\":\"2307\",\"type\":\"SaveTool\"},{\"attributes\":{\"margin\":[5,5,5,5],\"name\":\"HSpacer03328\",\"sizing_mode\":\"stretch_width\"},\"id\":\"2356\",\"type\":\"Spacer\"},{\"attributes\":{\"active_drag\":\"auto\",\"active_inspect\":\"auto\",\"active_multi\":null,\"active_scroll\":\"auto\",\"active_tap\":\"auto\",\"tools\":[{\"id\":\"2289\"},{\"id\":\"2307\"},{\"id\":\"2308\"},{\"id\":\"2309\"},{\"id\":\"2310\"},{\"id\":\"2311\"}]},\"id\":\"2313\",\"type\":\"Toolbar\"},{\"attributes\":{\"fill_alpha\":{\"value\":0.7},\"fill_color\":{\"field\":\"color\",\"transform\":{\"id\":\"2320\"}},\"line_alpha\":{\"value\":0.7},\"line_color\":{\"value\":\"#000000\"},\"size\":{\"units\":\"screen\",\"value\":7.416198487095663},\"x\":{\"field\":\"u1\"},\"y\":{\"field\":\"u2\"}},\"id\":\"2327\",\"type\":\"Scatter\"},{\"attributes\":{},\"id\":\"2308\",\"type\":\"PanTool\"},{\"attributes\":{\"bottom_units\":\"screen\",\"fill_alpha\":0.5,\"fill_color\":\"lightgrey\",\"left_units\":\"screen\",\"level\":\"overlay\",\"line_alpha\":1.0,\"line_color\":\"black\",\"line_dash\":[4,4],\"line_width\":2,\"right_units\":\"screen\",\"top_units\":\"screen\"},\"id\":\"2312\",\"type\":\"BoxAnnotation\"},{\"attributes\":{\"fill_alpha\":{\"value\":0.7},\"fill_color\":{\"field\":\"color\",\"transform\":{\"id\":\"2320\"}},\"line_alpha\":{\"value\":0.7},\"line_color\":{\"value\":\"#000000\"},\"size\":{\"units\":\"screen\",\"value\":7.416198487095663},\"x\":{\"field\":\"u1\"},\"y\":{\"field\":\"u2\"}},\"id\":\"2324\",\"type\":\"Scatter\"},{\"attributes\":{},\"id\":\"2309\",\"type\":\"WheelZoomTool\"},{\"attributes\":{\"overlay\":{\"id\":\"2312\"}},\"id\":\"2310\",\"type\":\"BoxZoomTool\"},{\"attributes\":{},\"id\":\"2311\",\"type\":\"ResetTool\"},{\"attributes\":{\"data\":{\"ChEBI\":[\"CHEBI_17336\",\"CHEBI_17898\",\"CHEBI_145109\",\"CHEBI_145110\",\"CHEBI_85440\",\"CHEBI_90725\",\"CHEBI_59458\",\"CHEBI_61723\",\"CHEBI_35235\",\"CHEBI_10986\",\"CHEBI_37563\",\"CHEBI_60377\",\"CHEBI_33019\",\"CHEBI_35346\",\"CHEBI_47787\",\"CHEBI_16469\",\"CHEBI_17263\",\"CHEBI_16827\",\"CHEBI_78600\",\"CHEBI_133995\",\"CHEBI_146208\",\"CHEBI_133996\",\"CHEBI_146209\",\"CHEBI_144481\",\"CHEBI_71494\",\"CHEBI_144485\",\"CHEBI_144482\",\"CHEBI_7518\",\"CHEBI_149469\",\"CHEBI_30616\",\"CHEBI_456216\",\"CHEBI_43474\",\"CHEBI_149473\",\"CHEBI_48300\",\"CHEBI_16023\",\"CHEBI_65004\",\"CHEBI_6698\",\"CHEBI_16935\",\"CHEBI_17937\",\"CHEBI_35349\",\"CHEBI_47789\",\"CHEBI_78605\",\"CHEBI_78604\",\"CHEBI_137880\",\"CHEBI_11893\",\"CHEBI_137882\",\"CHEBI_137881\",\"CHEBI_58463\",\"CHEBI_58061\",\"CHEBI_15734\",\"CHEBI_17478\",\"CHEBI_35681\",\"CHEBI_17087\",\"CHEBI_23614\",\"CHEBI_87734\",\"CHEBI_29744\",\"CHEBI_11867\",\"CHEBI_29747\",\"CHEBI_87736\",\"CHEBI_36234\",\"CHEBI_87731\",\"CHEBI_57554\",\"CHEBI_57851\",\"CHEBI_57493\",\"CHEBI_16813\",\"CHEBI_47693\",\"CHEBI_37721\",\"CHEBI_17924\",\"CHEBI_15402\",\"CHEBI_15410\",\"CHEBI_16619\",\"CHEBI_15894\",\"CHEBI_72949\",\"CHEBI_71487\",\"CHEBI_10983\",\"CHEBI_13705\",\"CHEBI_57817\",\"CHEBI_58299\",\"CHEBI_17151\",\"CHEBI_17399\",\"CHEBI_134214\",\"CHEBI_84970\",\"CHEBI_84966\",\"CHEBI_137886\",\"CHEBI_137789\",\"CHEBI_11901\",\"CHEBI_156270\",\"CHEBI_36252\",\"CHEBI_137818\",\"CHEBI_9407\",\"CHEBI_137724\",\"CHEBI_78827\",\"CHEBI_78776\",\"CHEBI_78611\",\"CHEBI_57286\",\"CHEBI_74280\",\"CHEBI_62418\",\"CHEBI_74272\",\"CHEBI_62548\",\"CHEBI_145657\",\"CHEBI_145675\",\"CHEBI_145658\",\"CHEBI_57312\",\"CHEBI_57335\",\"CHEBI_17347\",\"CHEBI_16422\",\"CHEBI_57318\",\"CHEBI_90726\",\"CHEBI_57316\",\"CHEBI_62613\",\"CHEBI_57349\",\"CHEBI_62617\",\"CHEBI_62619\",\"CHEBI_50169\",\"CHEBI_28952\",\"CHEBI_16330\",\"CHEBI_15994\",\"CHEBI_36713\",\"CHEBI_78594\",\"CHEBI_17650\",\"CHEBI_78595\",\"CHEBI_16962\",\"CHEBI_78596\",\"CHEBI_78601\",\"CHEBI_78602\",\"CHEBI_78603\",\"CHEBI_606564\",\"CHEBI_57400\",\"CHEBI_57397\",\"CHEBI_57401\",\"CHEBI_57409\",\"CHEBI_57410\",\"CHEBI_57398\",\"CHEBI_85072\",\"CHEBI_67026\",\"CHEBI_78311\",\"CHEBI_78325\",\"CHEBI_78329\",\"CHEBI_78836\",\"CHEBI_90697\",\"CHEBI_90866\",\"CHEBI_90867\",\"CHEBI_91000\",\"CHEBI_91001\",\"CHEBI_132079\",\"CHEBI_132080\",\"CHEBI_132081\",\"CHEBI_133367\",\"CHEBI_137497\",\"CHEBI_137498\",\"CHEBI_16032\",\"CHEBI_18329\",\"CHEBI_541975\",\"CHEBI_83228\",\"CHEBI_78785\",\"CHEBI_78784\",\"CHEBI_83348\",\"CHEBI_83350\",\"CHEBI_78272\",\"CHEBI_78273\",\"CHEBI_45479\",\"CHEBI_45487\",\"CHEBI_16302\",\"CHEBI_16066\",\"CHEBI_28689\",\"CHEBI_2710\",\"CHEBI_2495\",\"CHEBI_34133\",\"CHEBI_27967\",\"CHEBI_81481\",\"CHEBI_71407\",\"CHEBI_76374\",\"CHEBI_71481\",\"CHEBI_76411\",\"CHEBI_73852\",\"CHEBI_76415\",\"CHEBI_73863\",\"CHEBI_76460\",\"CHEBI_52386\",\"CHEBI_18252\",\"CHEBI_36836\",\"CHEBI_47788\",\"CHEBI_136486\",\"CHEBI_1949\",\"CHEBI_87056\",\"CHEBI_16608\",\"CHEBI_16899\",\"CHEBI_60084\",\"CHEBI_57634\",\"CHEBI_62989\",\"CHEBI_136698\",\"CHEBI_57373\",\"CHEBI_136700\",\"CHEBI_58810\",\"CHEBI_136701\",\"CHEBI_87438\",\"CHEBI_136703\",\"CHEBI_138842\",\"CHEBI_138843\",\"CHEBI_28889\",\"CHEBI_30156\",\"CHEBI_18391\",\"CHEBI_58143\",\"CHEBI_78450\",\"CHEBI_78451\",\"CHEBI_78456\",\"CHEBI_78457\",\"CHEBI_78460\",\"CHEBI_78461\",\"CHEBI_78464\",\"CHEBI_78466\",\"CHEBI_78478\",\"CHEBI_78480\",\"CHEBI_138406\",\"CHEBI_138407\",\"CHEBI_78818\",\"CHEBI_78983\",\"CHEBI_78824\",\"CHEBI_78987\",\"CHEBI_78826\",\"CHEBI_78988\",\"CHEBI_78820\",\"CHEBI_78984\",\"CHEBI_78822\",\"CHEBI_78986\",\"CHEBI_78823\",\"CHEBI_78985\",\"CHEBI_78453\",\"CHEBI_78454\",\"CHEBI_78481\",\"CHEBI_78483\",\"CHEBI_138403\",\"CHEBI_83989\",\"CHEBI_78467\",\"CHEBI_78468\",\"CHEBI_138610\",\"CHEBI_138611\",\"CHEBI_36257\",\"CHEBI_137820\",\"CHEBI_29746\",\"CHEBI_137824\",\"CHEBI_57453\",\"CHEBI_57451\",\"CHEBI_71175\",\"CHEBI_71177\",\"CHEBI_60087\",\"CHEBI_46951\",\"CHEBI_61451\",\"CHEBI_58642\",\"CHEBI_57319\",\"CHEBI_57315\",\"CHEBI_58764\",\"CHEBI_36654\",\"CHEBI_57406\",\"CHEBI_57408\",\"CHEBI_57404\",\"CHEBI_133409\",\"CHEBI_28869\",\"CHEBI_6746\",\"CHEBI_145544\",\"CHEBI_145547\",\"CHEBI_64677\",\"CHEBI_75296\",\"CHEBI_43029\",\"CHEBI_16095\",\"CHEBI_59560\",\"CHEBI_136564\",\"CHEBI_85101\",\"CHEBI_85493\",\"CHEBI_85099\",\"CHEBI_28453\",\"CHEBI_17026\",\"CHEBI_57990\",\"CHEBI_29071\",\"CHEBI_87841\",\"CHEBI_16973\",\"CHEBI_84358\",\"CHEBI_84310\",\"CHEBI_16510\",\"CHEBI_33190\",\"CHEBI_58585\",\"CHEBI_58320\",\"CHEBI_4167\",\"CHEBI_16217\",\"CHEBI_17855\",\"CHEBI_15377\",\"CHEBI_18035\",\"CHEBI_28868\",\"CHEBI_57518\",\"CHEBI_58303\",\"CHEBI_57534\",\"CHEBI_57970\",\"CHEBI_53753\",\"CHEBI_75945\",\"CHEBI_30823\",\"CHEBI_51510\",\"CHEBI_51507\",\"CHEBI_32922\",\"CHEBI_16205\",\"CHEBI_85899\",\"CHEBI_142603\",\"CHEBI_142591\",\"CHEBI_142604\",\"CHEBI_142592\",\"CHEBI_142606\",\"CHEBI_142593\",\"CHEBI_35986\",\"CHEBI_84268\",\"CHEBI_74279\",\"CHEBI_36835\",\"CHEBI_77900\",\"CHEBI_77933\",\"CHEBI_71536\",\"CHEBI_13172\",\"CHEBI_11987\",\"CHEBI_20476\",\"CHEBI_76271\",\"CHEBI_76270\",\"CHEBI_144824\",\"CHEBI_144823\",\"CHEBI_144831\",\"CHEBI_144830\",\"CHEBI_65066\",\"CHEBI_65067\",\"CHEBI_18011\",\"CHEBI_85278\",\"CHEBI_36729\",\"CHEBI_74276\",\"CHEBI_62615\",\"CHEBI_77899\",\"CHEBI_71533\",\"CHEBI_63931\",\"CHEBI_16945\",\"CHEBI_18365\",\"CHEBI_84788\",\"CHEBI_84790\",\"CHEBI_58371\",\"CHEBI_131847\",\"CHEBI_61904\",\"CHEBI_58246\",\"CHEBI_57695\",\"CHEBI_57608\",\"CHEBI_58121\",\"CHEBI_15687\",\"CHEBI_16583\",\"CHEBI_31181\",\"CHEBI_77994\",\"CHEBI_58458\",\"CHEBI_57552\",\"CHEBI_11909\",\"CHEBI_18202\",\"CHEBI_15389\",\"CHEBI_15400\",\"CHEBI_15406\",\"CHEBI_15408\",\"CHEBI_33857\",\"CHEBI_33855\",\"CHEBI_17987\",\"CHEBI_17169\",\"CHEBI_156307\",\"CHEBI_156308\",\"CHEBI_156306\",\"CHEBI_86559\",\"CHEBI_156310\",\"CHEBI_156309\",\"CHEBI_16346\",\"CHEBI_27632\",\"CHEBI_62244\",\"CHEBI_84793\",\"CHEBI_77559\",\"CHEBI_84791\",\"CHEBI_37047\",\"CHEBI_70779\",\"CHEBI_70780\",\"CHEBI_83357\",\"CHEBI_83356\",\"CHEBI_64240\",\"CHEBI_64241\",\"CHEBI_17754\",\"CHEBI_16016\",\"CHEBI_16904\",\"CHEBI_17922\",\"CHEBI_17310\",\"CHEBI_16871\",\"CHEBI_58856\",\"CHEBI_65111\",\"CHEBI_62242\",\"CHEBI_57386\",\"CHEBI_62077\",\"CHEBI_62620\",\"CHEBI_61406\",\"CHEBI_61430\",\"CHEBI_57330\",\"CHEBI_57375\",\"CHEBI_61405\",\"CHEBI_57385\",\"CHEBI_32304\",\"CHEBI_31157\",\"CHEBI_91126\",\"CHEBI_91130\",\"CHEBI_33384\",\"CHEBI_58213\",\"CHEBI_86399\",\"CHEBI_86400\",\"CHEBI_138440\",\"CHEBI_138441\",\"CHEBI_142605\",\"CHEBI_142621\",\"CHEBI_142615\",\"CHEBI_7610\",\"CHEBI_142616\",\"CHEBI_61748\",\"CHEBI_28903\",\"CHEBI_31457\",\"CHEBI_16188\",\"CHEBI_17935\",\"CHEBI_43003\",\"CHEBI_34787\",\"CHEBI_87393\",\"CHEBI_88528\",\"CHEBI_232\",\"CHEBI_15399\",\"CHEBI_15386\",\"CHEBI_16760\",\"CHEBI_16812\"],\"cluster_labels\":{\"__ndarray__\":\"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\",\"dtype\":\"int32\",\"order\":\"little\",\"shape\":[425]},\"color\":{\"__ndarray__\":\"BwAAAAcAAAASAAAAEgAAAAMAAAADAAAAAQAAAAEAAAACAAAAAQAAAAMAAAADAAAADwAAAAUAAAAFAAAAEwAAABMAAAATAAAAEwAAAAsAAAALAAAACwAAAAsAAAACAAAADQAAAA0AAAANAAAADQAAAAoAAAADAAAAAwAAAA8AAAAGAAAAEAAAABAAAAALAAAACwAAABIAAAASAAAABQAAAAUAAAAAAAAAAAAAAAAAAAAAAAAAAAAAAAAAAAALAAAACwAAABAAAAACAAAAEAAAAAIAAAAAAAAAAAAAAAAAAAAAAAAAAAAAAAAAAAAAAAAAAAAAAA0AAAANAAAADQAAABAAAAAQAAAAEgAAABAAAAANAAAADQAAABIAAAASAAAACAAAAAgAAAACAAAAAgAAAAoAAAAKAAAAEAAAABAAAAAQAAAAAgAAAAIAAAAAAAAAAAAAAAAAAAAAAAAAAAAAAAAAAAAAAAAAAAAAAAEAAAABAAAAAwAAAAMAAAAMAAAADAAAAAwAAAAMAAAACAAAAAsAAAALAAAAAwAAAAMAAAATAAAAEwAAAAMAAAADAAAAAwAAAAwAAAAMAAAADAAAAAwAAAAFAAAABQAAAAUAAAAFAAAABQAAAAUAAAATAAAAEwAAABMAAAATAAAAEwAAAAAAAAAAAAAABgAAAAYAAAAGAAAABgAAAA4AAAAOAAAABgAAAAYAAAAOAAAADgAAAA4AAAAOAAAADgAAAA4AAAAOAAAADgAAAA4AAAAOAAAADgAAAA4AAAAOAAAADgAAAA4AAAAOAAAABQAAAAUAAAAFAAAAAgAAAAEAAAABAAAABgAAAAYAAAAHAAAABwAAAAcAAAAHAAAABwAAAAcAAAATAAAAEwAAABMAAAATAAAAEwAAABMAAAAMAAAADAAAAAwAAAAMAAAADAAAAAwAAAAMAAAADAAAAAAAAAAAAAAABQAAAAUAAAAAAAAAAAAAAAAAAAAAAAAAEAAAABAAAAASAAAABAAAAAQAAAAEAAAABAAAAAQAAAAEAAAABAAAAAQAAAAEAAAABAAAAAkAAAAJAAAAEAAAABAAAAABAAAAAQAAAAEAAAABAAAAAQAAAAEAAAABAAAAAQAAAAEAAAABAAAAAQAAAAEAAAABAAAAAQAAAAEAAAABAAAAAQAAAAEAAAABAAAAAQAAAAEAAAABAAAAAQAAAAEAAAABAAAAAQAAAAEAAAABAAAAAQAAAAEAAAABAAAAAQAAAAEAAAABAAAAAAAAAAAAAAAAAAAAAAAAAAkAAAAJAAAACQAAAAkAAAAIAAAACAAAAAgAAAAIAAAAAwAAAAMAAAAIAAAACAAAAAYAAAAGAAAABgAAAAYAAAAIAAAACAAAAAIAAAACAAAACwAAAAsAAAAJAAAACQAAAAkAAAAJAAAAEQAAAAMAAAARAAAAEwAAABMAAAAQAAAAEAAAABMAAAATAAAAAgAAAAIAAAACAAAAAgAAAAIAAAACAAAAEgAAABIAAAAPAAAACAAAAA8AAAACAAAADwAAAA8AAAAPAAAADwAAAAoAAAAKAAAACgAAAAgAAAAIAAAACAAAAAgAAAATAAAACgAAAAoAAAAKAAAACgAAABAAAAACAAAACgAAAAoAAAAMAAAABQAAAAsAAAALAAAACwAAABAAAAAIAAAACAAAAAMAAAADAAAAAwAAAAMAAAADAAAAAwAAABIAAAASAAAABQAAAAUAAAATAAAADAAAAAwAAAALAAAACwAAAAkAAAALAAAACwAAABEAAAADAAAAAgAAAAIAAAACAAAAAgAAABAAAAADAAAAEAAAAAIAAAACAAAACwAAAAsAAAACAAAAAgAAAAUAAAAQAAAADQAAAA0AAAANAAAADQAAABAAAAACAAAACAAAAAgAAAAIAAAACAAAAAgAAAAIAAAACAAAAAgAAAAIAAAACAAAABEAAAARAAAAEQAAAAMAAAANAAAADQAAAA0AAAAGAAAABgAAAAkAAAAJAAAAEAAAAAIAAAAIAAAACAAAAAgAAAAIAAAAEQAAAAMAAAARAAAAEQAAABEAAAARAAAAEQAAABEAAAARAAAAEQAAABEAAAARAAAABwAAAAcAAAAHAAAABwAAAAIAAAACAAAADQAAAA0AAAASAAAAEgAAABAAAAACAAAACgAAAAoAAAAKAAAACgAAAAoAAAAKAAAACgAAAAoAAAAKAAAACgAAAAoAAAAKAAAADQAAAA0AAAAIAAAACAAAAAIAAAA=\",\"dtype\":\"int32\",\"order\":\"little\",\"shape\":[425]},\"u1\":{\"__ndarray__\":\"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\",\"dtype\":\"float32\",\"order\":\"little\",\"shape\":[425]},\"u2\":{\"__ndarray__\":\"XVRZvxZaWL/e/nVAMvBzQFV4nEAIeqdA2N54QSTLeEFrVZBAGcZ4QUP5nED+7Z1AFTirQNLJCb/0/xu/6zwLv7ZbEb/DzlC/ZDlPvyM7az/6nWM/jA5tP0qzYz/F049AaaGLPwDviD/dS4M/u/WHP+QLg0C+kptAttCdQG7ZqkCcKGdAVJe3QGDQrUDM1KY/Z6mSP30OhkCF/IJAWtwVv2NKHr+peBC/KeTFvjCPJ7+t/R2/sc25viT7477Tj2c/yk9UP8XYpUAfyphAiamjQOxNn0AE+TC/9BY6v0qLIr/6nSi/ZcIbvxnkEr9Xx+e+jLrpvpg/AD960B8/6MADP2AFuECgzrFArD6EQEPiuUCeiTY/Ni5MP10ch0B+QYZASZD7P4cCAUCZPpZA8PONQB82mkABgplAhtC3QD4psUANaLJADmGYQDtYkkC9yKy+P+jwvvGtrL5ic8m+SSrSvm0XEr9wsOy+VdwXv37UdUG2ynVBy4OaQJmzp0Adr9FAW+i+QALp0ECMub9AIFTtPxEN5T+huts/XZ2fQHBPmkC2Qk2/+upPv7CdnEBCYaVAogWcQP3Xz0AP38BAtB3RQBybvkBA8rq+lys+vxP+Pb/Feii/4J6zvjsiQL8WYVq/XXBVv2rIPb/cHUq/jPI/v9F0wb713BG/KVliQBR7YUDW219Awd5eQM4oUUCORlNANgtfQBZsXkD5Nk5AX7BMQGPWSkAmgklAW7RPQE+ZVUAbAk1A2l9PQCV5SkCHkEhAv7hIQPGmSEBx1EdAd6ZIQOwpRkAgE0hAnrH/vm/qxL6ZvfO+46yfQC7PdUFnrHdBxVJIQNgmSkAghFy/UrZYvwO0V79/EV+/GYdbvz0wWb+0myy/7dMsvwFTPb+xDzy/Xsxzv0srXr/Cl8BAuafQQLXBwUDUT81AQjjCQP/yy0BtscFAW/3LQM7Der+zQYS/njzlvhftOb/RiX6/FAt4vw4Bc7883HK/Fl64QOFxs0CmvJNAA/ruP1ow6z+VLvI/lcvvP8Jw8j+1QfE/INXxP+p17j/0v/E/CSbxP/YNbUClf2VAAyi2QJaesEBUAXRBXcZ0QevtcUFe7nRBC6twQQYqdEELNnFBjW90QQgqcUGp73RB9ctwQeWndEHOvnFB7sN0QVIIcUHzs3RBjsxwQTaZdEEKlnRBMxJ1QZZockHmyHRBSV5zQWRbdEHGO3lBgdpzQS5VdUF9GXRBfAh2Qc8oc0EuUnVBlYJzQdwIeEH5q3VBIqIXv5e0Fr+d0xG/lWQYv6qTb0D57HFAXBZ0QCHyb0DRRyRAD2oXQOnaHUBp7xJA39maQO6pmkBuZCJAxM0RQKliYEB7X15AIc1eQGWAXkDMwBdA/J4JQJyOh0CHUYhA4Lt3P+2DaT88HnVAxNNyQIxedEBfom9ANrO6QH6rrUA6MLtArCFNv3UYNb8KoKxAwAeqQJgmS799jTi/yQ2JQJI1h0Dx0I9ASpqQQI9qkkB8M5FA1PaEQLSEgUA1XadArVlQQFwtqEA01phAXyinQHyspkBW0KpAk16qQPVdmUDUvJtAB/2MQFX6IUD9lh9AFtYdQHeDFEANvDm//1aWQHL2l0Cm75RAb6yZQDgWpEAhWppAtJCaQCDfmUCmh9FAIOXdvlDClj+REpQ/ETuZP+dUsUA8xjlAjFUzQEIVo0ALW59AFCGjQLD1mUCt5KBAC6SfQCxRh0BI1IZAnivPvtQMRr/MpE6/r/jQQMvowEAoW5Q/DKKVP2q0dED446c/OpvHP+6DukBd869A4y2ZQN3YmECak5FAccuTQArjsEDCOp5ASqewQPy6k0Dak5NAZlyXP9O8lT+UppNAoDmSQO8/zL44kbdA2lJwP38Obz9wg2w/2RRqP2rDpUC31JlAVlkpQAx1KkDK2zpAX6s/QJa0NECr6DRAULM0QGxYOkCP2x5ATEkeQMQRvUDtordAvw+7QH+JskAbvFs/d6UEP1IwEz+wbEhAGxlKQEpAdECEsXRAxLyzQOfroUAJ0xdA9s8aQEAnF0CSGPc/nN24QCKUpUAaMMBABH2/QD5/vkAppb1A7m6/QBarv0Dr175AxCDAQJlQwEBirL9AO+xivy+HYr/DGmC/9Qhev2itkkAMR5dA7YoUPzxoFz+Is4BAHxGAQDzvpUAIq5lAHCuUQIoMl0AjopZAo2maQOvxmUBf8JpAJ5WZQF99mkAsmZpA33WaQEyHmUA905pApN5yP73YcT/+AAxA84YJQGRfmUA=\",\"dtype\":\"float32\",\"order\":\"little\",\"shape\":[425]}},\"selected\":{\"id\":\"2322\"},\"selection_policy\":{\"id\":\"2344\"}},\"id\":\"2321\",\"type\":\"ColumnDataSource\"},{\"attributes\":{\"align\":null,\"below\":[{\"id\":\"2299\"}],\"center\":[{\"id\":\"2302\"},{\"id\":\"2306\"}],\"left\":[{\"id\":\"2303\"}],\"margin\":null,\"min_border_bottom\":10,\"min_border_left\":10,\"min_border_right\":10,\"min_border_top\":10,\"plot_height\":500,\"plot_width\":1000,\"renderers\":[{\"id\":\"2329\"}],\"right\":[{\"id\":\"2332\"}],\"sizing_mode\":\"fixed\",\"title\":{\"id\":\"2291\"},\"toolbar\":{\"id\":\"2313\"},\"x_range\":{\"id\":\"2287\"},\"x_scale\":{\"id\":\"2295\"},\"y_range\":{\"id\":\"2288\"},\"y_scale\":{\"id\":\"2297\"}},\"id\":\"2290\",\"subtype\":\"Figure\",\"type\":\"Plot\"},{\"attributes\":{\"text\":\"\",\"text_color\":{\"value\":\"black\"},\"text_font_size\":{\"value\":\"12pt\"}},\"id\":\"2291\",\"type\":\"Title\"},{\"attributes\":{},\"id\":\"2335\",\"type\":\"BasicTickFormatter\"},{\"attributes\":{},\"id\":\"2339\",\"type\":\"BasicTickFormatter\"},{\"attributes\":{\"high\":19,\"low\":0,\"palette\":[\"#d60000\",\"#8c3bff\",\"#018700\",\"#00acc6\",\"#97ff00\",\"#ff7ed1\",\"#6b004f\",\"#ffa52f\",\"#573b00\",\"#005659\",\"#0000dd\",\"#00fdcf\",\"#a17569\",\"#bcb6ff\",\"#95b577\",\"#bf03b8\",\"#645474\",\"#790000\",\"#0774d8\",\"#fdf490\"]},\"id\":\"2320\",\"type\":\"LinearColorMapper\"},{\"attributes\":{\"children\":[{\"id\":\"2286\"},{\"id\":\"2290\"},{\"id\":\"2356\"}],\"margin\":[0,0,0,0],\"name\":\"Row03323\",\"tags\":[\"embedded\"]},\"id\":\"2285\",\"type\":\"Row\"},{\"attributes\":{},\"id\":\"2295\",\"type\":\"LinearScale\"},{\"attributes\":{},\"id\":\"2322\",\"type\":\"Selection\"},{\"attributes\":{},\"id\":\"2344\",\"type\":\"UnionRenderers\"},{\"attributes\":{},\"id\":\"2297\",\"type\":\"LinearScale\"},{\"attributes\":{\"axis_label\":\"u1\",\"bounds\":\"auto\",\"formatter\":{\"id\":\"2335\"},\"major_label_orientation\":\"horizontal\",\"ticker\":{\"id\":\"2300\"}},\"id\":\"2299\",\"type\":\"LinearAxis\"},{\"attributes\":{},\"id\":\"2300\",\"type\":\"BasicTicker\"}],\"root_ids\":[\"2285\"]},\"title\":\"Bokeh Application\",\"version\":\"2.2.1\"}};\n",
       "  var render_items = [{\"docid\":\"629422e0-35ce-43b9-a736-a1d292b81ab0\",\"root_ids\":[\"2285\"],\"roots\":{\"2285\":\"3ff5d8b8-d990-472a-b66c-ab40a61e2082\"}}];\n",
       "  root.Bokeh.embed.embed_items_notebook(docs_json, render_items);\n",
       "  }\n",
       "if (root.Bokeh !== undefined) {\n",
       "    embed_document(root);\n",
       "  } else {\n",
       "    var attempts = 0;\n",
       "    var timer = setInterval(function(root) {\n",
       "      if (root.Bokeh !== undefined) {\n",
       "        clearInterval(timer);\n",
       "        embed_document(root);\n",
       "      } else if (document.readyState == \"complete\") {\n",
       "        attempts++;\n",
       "        if (attempts > 100) {\n",
       "          clearInterval(timer);\n",
       "          console.log(\"Bokeh: ERROR: Unable to run BokehJS code because BokehJS library is missing\");\n",
       "        }\n",
       "      }\n",
       "    }, 10, root)\n",
       "  }\n",
       "})(window);</script>"
      ],
      "text/plain": [
       ":Scatter   [u1]   (u2,cluster_labels,ChEBI)"
      ]
     },
     "execution_count": 169,
     "metadata": {
      "application/vnd.holoviews_exec.v0+json": {
       "id": "2285"
      }
     },
     "output_type": "execute_result"
    }
   ],
   "source": [
    "df_mols_uniq_noCF.hvplot.scatter(x=\"u1\", y=\"u2\", padding=0.05, width = 1000, height = 500, size = 55, alpha = 0.7, \n",
    "                     hover_cols=['ChEBI'], line_color='k', c = 'cluster_labels', clabel = 'clusters', cmap = cc.glasbey[:20])\n"
   ]
  },
  {
   "cell_type": "markdown",
   "metadata": {},
   "source": [
    "## This below is your best study guide! "
   ]
  },
  {
   "cell_type": "code",
   "execution_count": 173,
   "metadata": {},
   "outputs": [
    {
     "data": {
      "text/html": [
       "<div>\n",
       "<style scoped>\n",
       "    .dataframe tbody tr th:only-of-type {\n",
       "        vertical-align: middle;\n",
       "    }\n",
       "\n",
       "    .dataframe tbody tr th {\n",
       "        vertical-align: top;\n",
       "    }\n",
       "\n",
       "    .dataframe thead th {\n",
       "        text-align: right;\n",
       "    }\n",
       "</style>\n",
       "<table border=\"1\" class=\"dataframe\">\n",
       "  <thead>\n",
       "    <tr style=\"text-align: right;\">\n",
       "      <th></th>\n",
       "      <th>cluster</th>\n",
       "      <th>num_prots</th>\n",
       "    </tr>\n",
       "  </thead>\n",
       "  <tbody>\n",
       "    <tr>\n",
       "      <th>0</th>\n",
       "      <td>7</td>\n",
       "      <td>80</td>\n",
       "    </tr>\n",
       "    <tr>\n",
       "      <th>4</th>\n",
       "      <td>2</td>\n",
       "      <td>65</td>\n",
       "    </tr>\n",
       "    <tr>\n",
       "      <th>7</th>\n",
       "      <td>19</td>\n",
       "      <td>65</td>\n",
       "    </tr>\n",
       "    <tr>\n",
       "      <th>6</th>\n",
       "      <td>5</td>\n",
       "      <td>57</td>\n",
       "    </tr>\n",
       "    <tr>\n",
       "      <th>12</th>\n",
       "      <td>16</td>\n",
       "      <td>57</td>\n",
       "    </tr>\n",
       "    <tr>\n",
       "      <th>2</th>\n",
       "      <td>3</td>\n",
       "      <td>53</td>\n",
       "    </tr>\n",
       "    <tr>\n",
       "      <th>3</th>\n",
       "      <td>1</td>\n",
       "      <td>31</td>\n",
       "    </tr>\n",
       "    <tr>\n",
       "      <th>11</th>\n",
       "      <td>6</td>\n",
       "      <td>25</td>\n",
       "    </tr>\n",
       "    <tr>\n",
       "      <th>14</th>\n",
       "      <td>8</td>\n",
       "      <td>25</td>\n",
       "    </tr>\n",
       "    <tr>\n",
       "      <th>8</th>\n",
       "      <td>11</td>\n",
       "      <td>17</td>\n",
       "    </tr>\n",
       "    <tr>\n",
       "      <th>13</th>\n",
       "      <td>0</td>\n",
       "      <td>16</td>\n",
       "    </tr>\n",
       "    <tr>\n",
       "      <th>10</th>\n",
       "      <td>10</td>\n",
       "      <td>15</td>\n",
       "    </tr>\n",
       "    <tr>\n",
       "      <th>1</th>\n",
       "      <td>18</td>\n",
       "      <td>14</td>\n",
       "    </tr>\n",
       "    <tr>\n",
       "      <th>15</th>\n",
       "      <td>12</td>\n",
       "      <td>14</td>\n",
       "    </tr>\n",
       "    <tr>\n",
       "      <th>9</th>\n",
       "      <td>13</td>\n",
       "      <td>12</td>\n",
       "    </tr>\n",
       "    <tr>\n",
       "      <th>18</th>\n",
       "      <td>9</td>\n",
       "      <td>12</td>\n",
       "    </tr>\n",
       "    <tr>\n",
       "      <th>19</th>\n",
       "      <td>17</td>\n",
       "      <td>12</td>\n",
       "    </tr>\n",
       "    <tr>\n",
       "      <th>5</th>\n",
       "      <td>15</td>\n",
       "      <td>10</td>\n",
       "    </tr>\n",
       "    <tr>\n",
       "      <th>16</th>\n",
       "      <td>14</td>\n",
       "      <td>6</td>\n",
       "    </tr>\n",
       "    <tr>\n",
       "      <th>17</th>\n",
       "      <td>4</td>\n",
       "      <td>2</td>\n",
       "    </tr>\n",
       "  </tbody>\n",
       "</table>\n",
       "</div>"
      ],
      "text/plain": [
       "    cluster  num_prots\n",
       "0         7         80\n",
       "4         2         65\n",
       "7        19         65\n",
       "6         5         57\n",
       "12       16         57\n",
       "2         3         53\n",
       "3         1         31\n",
       "11        6         25\n",
       "14        8         25\n",
       "8        11         17\n",
       "13        0         16\n",
       "10       10         15\n",
       "1        18         14\n",
       "15       12         14\n",
       "9        13         12\n",
       "18        9         12\n",
       "19       17         12\n",
       "5        15         10\n",
       "16       14          6\n",
       "17        4          2"
      ]
     },
     "execution_count": 173,
     "metadata": {},
     "output_type": "execute_result"
    }
   ],
   "source": [
    "df_clust_count.sort_values(by = 'num_prots', ascending=False)"
   ]
  },
  {
   "cell_type": "markdown",
   "metadata": {},
   "source": [
    "# OTHER: "
   ]
  },
  {
   "cell_type": "markdown",
   "metadata": {},
   "source": [
    "## Alternative ways to cluster the substrates: "
   ]
  },
  {
   "cell_type": "markdown",
   "metadata": {},
   "source": [
    "BSL: puedes usar hbdscan para el clustering"
   ]
  },
  {
   "cell_type": "code",
   "execution_count": 144,
   "metadata": {},
   "outputs": [],
   "source": [
    "clustering = DBSCAN(eps=3, min_samples=2).fit(Xfp)\n",
    "df_mols_uniq_noCF['dbscan_labels'] = clustering.labels_"
   ]
  },
  {
   "cell_type": "code",
   "execution_count": 145,
   "metadata": {},
   "outputs": [
    {
     "data": {
      "application/vnd.holoviews_exec.v0+json": "",
      "text/html": [
       "<div id='2049'>\n",
       "\n",
       "\n",
       "\n",
       "\n",
       "\n",
       "  <div class=\"bk-root\" id=\"4ce40147-2d8d-49f6-8ff0-34eb56352310\" data-root-id=\"2049\"></div>\n",
       "</div>\n",
       "<script type=\"application/javascript\">(function(root) {\n",
       "  function embed_document(root) {\n",
       "  var docs_json = {\"58ddbadc-d3ad-418e-bde6-e8a5a8583eb6\":{\"roots\":{\"references\":[{\"attributes\":{\"end\":12.953059911727905,\"reset_end\":12.953059911727905,\"reset_start\":-1.1054761409759521,\"start\":-1.1054761409759521,\"tags\":[[[\"u1\",\"u1\",null]]]},\"id\":\"2051\",\"type\":\"Range1d\"},{\"attributes\":{\"fill_alpha\":{\"value\":0.7},\"fill_color\":{\"field\":\"color\",\"transform\":{\"id\":\"2084\"}},\"line_alpha\":{\"value\":0.7},\"line_color\":{\"value\":\"#000000\"},\"size\":{\"units\":\"screen\",\"value\":7.416198487095663},\"x\":{\"field\":\"u1\"},\"y\":{\"field\":\"u2\"}},\"id\":\"2091\",\"type\":\"Scatter\"},{\"attributes\":{\"fill_alpha\":{\"value\":0.2},\"fill_color\":{\"field\":\"color\",\"transform\":{\"id\":\"2084\"}},\"line_alpha\":{\"value\":0.2},\"line_color\":{\"value\":\"#000000\"},\"size\":{\"units\":\"screen\",\"value\":7.416198487095663},\"x\":{\"field\":\"u1\"},\"y\":{\"field\":\"u2\"}},\"id\":\"2092\",\"type\":\"Scatter\"},{\"attributes\":{\"fill_alpha\":{\"value\":0.7},\"fill_color\":{\"field\":\"color\",\"transform\":{\"id\":\"2084\"}},\"line_alpha\":{\"value\":0.7},\"line_color\":{\"value\":\"#000000\"},\"size\":{\"units\":\"screen\",\"value\":7.416198487095663},\"x\":{\"field\":\"u1\"},\"y\":{\"field\":\"u2\"}},\"id\":\"2090\",\"type\":\"Scatter\"},{\"attributes\":{\"end\":16.407610529661177,\"reset_end\":16.407610529661177,\"reset_start\":-1.8637723863124847,\"start\":-1.8637723863124847,\"tags\":[[[\"u2\",\"u2\",null]]]},\"id\":\"2052\",\"type\":\"Range1d\"},{\"attributes\":{},\"id\":\"2071\",\"type\":\"SaveTool\"},{\"attributes\":{\"overlay\":{\"id\":\"2076\"}},\"id\":\"2074\",\"type\":\"BoxZoomTool\"},{\"attributes\":{\"callback\":null,\"renderers\":[{\"id\":\"2093\"}],\"tags\":[\"hv_created\"],\"tooltips\":[[\"u1\",\"@{u1}\"],[\"u2\",\"@{u2}\"],[\"dbscan_labels\",\"@{dbscan_labels}\"],[\"ChEBI\",\"@{ChEBI}\"]]},\"id\":\"2053\",\"type\":\"HoverTool\"},{\"attributes\":{},\"id\":\"2095\",\"type\":\"BasicTicker\"},{\"attributes\":{\"fill_alpha\":{\"value\":0.7},\"fill_color\":{\"field\":\"color\",\"transform\":{\"id\":\"2084\"}},\"line_alpha\":{\"value\":0.7},\"line_color\":{\"value\":\"#000000\"},\"size\":{\"units\":\"screen\",\"value\":7.416198487095663},\"x\":{\"field\":\"u1\"},\"y\":{\"field\":\"u2\"}},\"id\":\"2089\",\"type\":\"Scatter\"},{\"attributes\":{},\"id\":\"2072\",\"type\":\"PanTool\"},{\"attributes\":{},\"id\":\"2073\",\"type\":\"WheelZoomTool\"},{\"attributes\":{},\"id\":\"2075\",\"type\":\"ResetTool\"},{\"attributes\":{\"active_drag\":\"auto\",\"active_inspect\":\"auto\",\"active_multi\":null,\"active_scroll\":\"auto\",\"active_tap\":\"auto\",\"tools\":[{\"id\":\"2053\"},{\"id\":\"2071\"},{\"id\":\"2072\"},{\"id\":\"2073\"},{\"id\":\"2074\"},{\"id\":\"2075\"}]},\"id\":\"2077\",\"type\":\"Toolbar\"},{\"attributes\":{\"bottom_units\":\"screen\",\"fill_alpha\":0.5,\"fill_color\":\"lightgrey\",\"left_units\":\"screen\",\"level\":\"overlay\",\"line_alpha\":1.0,\"line_color\":\"black\",\"line_dash\":[4,4],\"line_width\":2,\"right_units\":\"screen\",\"top_units\":\"screen\"},\"id\":\"2076\",\"type\":\"BoxAnnotation\"},{\"attributes\":{},\"id\":\"2101\",\"type\":\"BasicTickFormatter\"},{\"attributes\":{\"source\":{\"id\":\"2085\"}},\"id\":\"2094\",\"type\":\"CDSView\"},{\"attributes\":{\"data_source\":{\"id\":\"2085\"},\"glyph\":{\"id\":\"2088\"},\"hover_glyph\":{\"id\":\"2091\"},\"muted_glyph\":{\"id\":\"2092\"},\"nonselection_glyph\":{\"id\":\"2089\"},\"selection_glyph\":{\"id\":\"2090\"},\"view\":{\"id\":\"2094\"}},\"id\":\"2093\",\"type\":\"GlyphRenderer\"},{\"attributes\":{\"children\":[{\"id\":\"2050\"},{\"id\":\"2054\"},{\"id\":\"2120\"}],\"margin\":[0,0,0,0],\"name\":\"Row02963\",\"tags\":[\"embedded\"]},\"id\":\"2049\",\"type\":\"Row\"},{\"attributes\":{\"fill_alpha\":{\"value\":0.7},\"fill_color\":{\"field\":\"color\",\"transform\":{\"id\":\"2084\"}},\"line_alpha\":{\"value\":0.7},\"line_color\":{\"value\":\"#000000\"},\"size\":{\"units\":\"screen\",\"value\":7.416198487095663},\"x\":{\"field\":\"u1\"},\"y\":{\"field\":\"u2\"}},\"id\":\"2088\",\"type\":\"Scatter\"},{\"attributes\":{\"data\":{\"ChEBI\":[\"CHEBI_17336\",\"CHEBI_17898\",\"CHEBI_145109\",\"CHEBI_145110\",\"CHEBI_85440\",\"CHEBI_90725\",\"CHEBI_59458\",\"CHEBI_61723\",\"CHEBI_35235\",\"CHEBI_10986\",\"CHEBI_37563\",\"CHEBI_60377\",\"CHEBI_33019\",\"CHEBI_35346\",\"CHEBI_47787\",\"CHEBI_16469\",\"CHEBI_17263\",\"CHEBI_16827\",\"CHEBI_78600\",\"CHEBI_133995\",\"CHEBI_146208\",\"CHEBI_133996\",\"CHEBI_146209\",\"CHEBI_144481\",\"CHEBI_71494\",\"CHEBI_144485\",\"CHEBI_144482\",\"CHEBI_7518\",\"CHEBI_149469\",\"CHEBI_30616\",\"CHEBI_456216\",\"CHEBI_43474\",\"CHEBI_149473\",\"CHEBI_48300\",\"CHEBI_16023\",\"CHEBI_65004\",\"CHEBI_6698\",\"CHEBI_16935\",\"CHEBI_17937\",\"CHEBI_35349\",\"CHEBI_47789\",\"CHEBI_78605\",\"CHEBI_78604\",\"CHEBI_137880\",\"CHEBI_11893\",\"CHEBI_137882\",\"CHEBI_137881\",\"CHEBI_58463\",\"CHEBI_58061\",\"CHEBI_15734\",\"CHEBI_17478\",\"CHEBI_35681\",\"CHEBI_17087\",\"CHEBI_23614\",\"CHEBI_87734\",\"CHEBI_29744\",\"CHEBI_11867\",\"CHEBI_29747\",\"CHEBI_87736\",\"CHEBI_36234\",\"CHEBI_87731\",\"CHEBI_57554\",\"CHEBI_57851\",\"CHEBI_57493\",\"CHEBI_16813\",\"CHEBI_47693\",\"CHEBI_37721\",\"CHEBI_17924\",\"CHEBI_15402\",\"CHEBI_15410\",\"CHEBI_16619\",\"CHEBI_15894\",\"CHEBI_72949\",\"CHEBI_71487\",\"CHEBI_10983\",\"CHEBI_13705\",\"CHEBI_57817\",\"CHEBI_58299\",\"CHEBI_17151\",\"CHEBI_17399\",\"CHEBI_134214\",\"CHEBI_84970\",\"CHEBI_84966\",\"CHEBI_137886\",\"CHEBI_137789\",\"CHEBI_11901\",\"CHEBI_156270\",\"CHEBI_36252\",\"CHEBI_137818\",\"CHEBI_9407\",\"CHEBI_137724\",\"CHEBI_78827\",\"CHEBI_78776\",\"CHEBI_78611\",\"CHEBI_57286\",\"CHEBI_74280\",\"CHEBI_62418\",\"CHEBI_74272\",\"CHEBI_62548\",\"CHEBI_145657\",\"CHEBI_145675\",\"CHEBI_145658\",\"CHEBI_57312\",\"CHEBI_57335\",\"CHEBI_17347\",\"CHEBI_16422\",\"CHEBI_57318\",\"CHEBI_90726\",\"CHEBI_57316\",\"CHEBI_62613\",\"CHEBI_57349\",\"CHEBI_62617\",\"CHEBI_62619\",\"CHEBI_50169\",\"CHEBI_28952\",\"CHEBI_16330\",\"CHEBI_15994\",\"CHEBI_36713\",\"CHEBI_78594\",\"CHEBI_17650\",\"CHEBI_78595\",\"CHEBI_16962\",\"CHEBI_78596\",\"CHEBI_78601\",\"CHEBI_78602\",\"CHEBI_78603\",\"CHEBI_606564\",\"CHEBI_57400\",\"CHEBI_57397\",\"CHEBI_57401\",\"CHEBI_57409\",\"CHEBI_57410\",\"CHEBI_57398\",\"CHEBI_85072\",\"CHEBI_67026\",\"CHEBI_78311\",\"CHEBI_78325\",\"CHEBI_78329\",\"CHEBI_78836\",\"CHEBI_90697\",\"CHEBI_90866\",\"CHEBI_90867\",\"CHEBI_91000\",\"CHEBI_91001\",\"CHEBI_132079\",\"CHEBI_132080\",\"CHEBI_132081\",\"CHEBI_133367\",\"CHEBI_137497\",\"CHEBI_137498\",\"CHEBI_16032\",\"CHEBI_18329\",\"CHEBI_541975\",\"CHEBI_83228\",\"CHEBI_78785\",\"CHEBI_78784\",\"CHEBI_83348\",\"CHEBI_83350\",\"CHEBI_78272\",\"CHEBI_78273\",\"CHEBI_45479\",\"CHEBI_45487\",\"CHEBI_16302\",\"CHEBI_16066\",\"CHEBI_28689\",\"CHEBI_2710\",\"CHEBI_2495\",\"CHEBI_34133\",\"CHEBI_27967\",\"CHEBI_81481\",\"CHEBI_71407\",\"CHEBI_76374\",\"CHEBI_71481\",\"CHEBI_76411\",\"CHEBI_73852\",\"CHEBI_76415\",\"CHEBI_73863\",\"CHEBI_76460\",\"CHEBI_52386\",\"CHEBI_18252\",\"CHEBI_36836\",\"CHEBI_47788\",\"CHEBI_136486\",\"CHEBI_1949\",\"CHEBI_87056\",\"CHEBI_16608\",\"CHEBI_16899\",\"CHEBI_60084\",\"CHEBI_57634\",\"CHEBI_62989\",\"CHEBI_136698\",\"CHEBI_57373\",\"CHEBI_136700\",\"CHEBI_58810\",\"CHEBI_136701\",\"CHEBI_87438\",\"CHEBI_136703\",\"CHEBI_138842\",\"CHEBI_138843\",\"CHEBI_28889\",\"CHEBI_30156\",\"CHEBI_18391\",\"CHEBI_58143\",\"CHEBI_78450\",\"CHEBI_78451\",\"CHEBI_78456\",\"CHEBI_78457\",\"CHEBI_78460\",\"CHEBI_78461\",\"CHEBI_78464\",\"CHEBI_78466\",\"CHEBI_78478\",\"CHEBI_78480\",\"CHEBI_138406\",\"CHEBI_138407\",\"CHEBI_78818\",\"CHEBI_78983\",\"CHEBI_78824\",\"CHEBI_78987\",\"CHEBI_78826\",\"CHEBI_78988\",\"CHEBI_78820\",\"CHEBI_78984\",\"CHEBI_78822\",\"CHEBI_78986\",\"CHEBI_78823\",\"CHEBI_78985\",\"CHEBI_78453\",\"CHEBI_78454\",\"CHEBI_78481\",\"CHEBI_78483\",\"CHEBI_138403\",\"CHEBI_83989\",\"CHEBI_78467\",\"CHEBI_78468\",\"CHEBI_138610\",\"CHEBI_138611\",\"CHEBI_36257\",\"CHEBI_137820\",\"CHEBI_29746\",\"CHEBI_137824\",\"CHEBI_57453\",\"CHEBI_57451\",\"CHEBI_71175\",\"CHEBI_71177\",\"CHEBI_60087\",\"CHEBI_46951\",\"CHEBI_61451\",\"CHEBI_58642\",\"CHEBI_57319\",\"CHEBI_57315\",\"CHEBI_58764\",\"CHEBI_36654\",\"CHEBI_57406\",\"CHEBI_57408\",\"CHEBI_57404\",\"CHEBI_133409\",\"CHEBI_28869\",\"CHEBI_6746\",\"CHEBI_145544\",\"CHEBI_145547\",\"CHEBI_64677\",\"CHEBI_75296\",\"CHEBI_43029\",\"CHEBI_16095\",\"CHEBI_59560\",\"CHEBI_136564\",\"CHEBI_85101\",\"CHEBI_85493\",\"CHEBI_85099\",\"CHEBI_28453\",\"CHEBI_17026\",\"CHEBI_57990\",\"CHEBI_29071\",\"CHEBI_87841\",\"CHEBI_16973\",\"CHEBI_84358\",\"CHEBI_84310\",\"CHEBI_16510\",\"CHEBI_33190\",\"CHEBI_58585\",\"CHEBI_58320\",\"CHEBI_4167\",\"CHEBI_16217\",\"CHEBI_17855\",\"CHEBI_15377\",\"CHEBI_18035\",\"CHEBI_28868\",\"CHEBI_57518\",\"CHEBI_58303\",\"CHEBI_57534\",\"CHEBI_57970\",\"CHEBI_53753\",\"CHEBI_75945\",\"CHEBI_30823\",\"CHEBI_51510\",\"CHEBI_51507\",\"CHEBI_32922\",\"CHEBI_16205\",\"CHEBI_85899\",\"CHEBI_142603\",\"CHEBI_142591\",\"CHEBI_142604\",\"CHEBI_142592\",\"CHEBI_142606\",\"CHEBI_142593\",\"CHEBI_35986\",\"CHEBI_84268\",\"CHEBI_74279\",\"CHEBI_36835\",\"CHEBI_77900\",\"CHEBI_77933\",\"CHEBI_71536\",\"CHEBI_13172\",\"CHEBI_11987\",\"CHEBI_20476\",\"CHEBI_76271\",\"CHEBI_76270\",\"CHEBI_144824\",\"CHEBI_144823\",\"CHEBI_144831\",\"CHEBI_144830\",\"CHEBI_65066\",\"CHEBI_65067\",\"CHEBI_18011\",\"CHEBI_85278\",\"CHEBI_36729\",\"CHEBI_74276\",\"CHEBI_62615\",\"CHEBI_77899\",\"CHEBI_71533\",\"CHEBI_63931\",\"CHEBI_16945\",\"CHEBI_18365\",\"CHEBI_84788\",\"CHEBI_84790\",\"CHEBI_58371\",\"CHEBI_131847\",\"CHEBI_61904\",\"CHEBI_58246\",\"CHEBI_57695\",\"CHEBI_57608\",\"CHEBI_58121\",\"CHEBI_15687\",\"CHEBI_16583\",\"CHEBI_31181\",\"CHEBI_77994\",\"CHEBI_58458\",\"CHEBI_57552\",\"CHEBI_11909\",\"CHEBI_18202\",\"CHEBI_15389\",\"CHEBI_15400\",\"CHEBI_15406\",\"CHEBI_15408\",\"CHEBI_33857\",\"CHEBI_33855\",\"CHEBI_17987\",\"CHEBI_17169\",\"CHEBI_156307\",\"CHEBI_156308\",\"CHEBI_156306\",\"CHEBI_86559\",\"CHEBI_156310\",\"CHEBI_156309\",\"CHEBI_16346\",\"CHEBI_27632\",\"CHEBI_62244\",\"CHEBI_84793\",\"CHEBI_77559\",\"CHEBI_84791\",\"CHEBI_37047\",\"CHEBI_70779\",\"CHEBI_70780\",\"CHEBI_83357\",\"CHEBI_83356\",\"CHEBI_64240\",\"CHEBI_64241\",\"CHEBI_17754\",\"CHEBI_16016\",\"CHEBI_16904\",\"CHEBI_17922\",\"CHEBI_17310\",\"CHEBI_16871\",\"CHEBI_58856\",\"CHEBI_65111\",\"CHEBI_62242\",\"CHEBI_57386\",\"CHEBI_62077\",\"CHEBI_62620\",\"CHEBI_61406\",\"CHEBI_61430\",\"CHEBI_57330\",\"CHEBI_57375\",\"CHEBI_61405\",\"CHEBI_57385\",\"CHEBI_32304\",\"CHEBI_31157\",\"CHEBI_91126\",\"CHEBI_91130\",\"CHEBI_33384\",\"CHEBI_58213\",\"CHEBI_86399\",\"CHEBI_86400\",\"CHEBI_138440\",\"CHEBI_138441\",\"CHEBI_142605\",\"CHEBI_142621\",\"CHEBI_142615\",\"CHEBI_7610\",\"CHEBI_142616\",\"CHEBI_61748\",\"CHEBI_28903\",\"CHEBI_31457\",\"CHEBI_16188\",\"CHEBI_17935\",\"CHEBI_43003\",\"CHEBI_34787\",\"CHEBI_87393\",\"CHEBI_88528\",\"CHEBI_232\",\"CHEBI_15399\",\"CHEBI_15386\",\"CHEBI_16760\",\"CHEBI_16812\"],\"color\":[0,1,-1,-1,2,3,-1,-1,4,-1,-1,-1,5,-1,-1,-1,-1,-1,-1,6,7,6,7,-1,8,8,9,9,-1,10,10,5,-1,5,-1,-1,-1,-1,-1,-1,-1,11,12,13,-1,14,-1,-1,-1,5,5,5,5,-1,-1,-1,-1,13,-1,12,-1,15,-1,15,5,16,-1,5,-1,-1,-1,-1,-1,-1,-1,-1,-1,-1,5,-1,-1,-1,-1,17,-1,17,14,-1,-1,-1,-1,-1,-1,18,-1,-1,-1,19,20,-1,-1,-1,-1,-1,-1,-1,2,3,18,19,20,19,20,21,-1,22,-1,23,-1,-1,-1,-1,-1,-1,12,11,-1,-1,-1,-1,-1,-1,-1,-1,-1,-1,-1,-1,-1,-1,-1,-1,-1,-1,24,25,26,24,26,25,27,23,27,-1,-1,-1,-1,-1,0,1,0,1,0,1,-1,-1,-1,-1,-1,-1,20,19,28,29,28,29,-1,-1,-1,-1,30,-1,-1,-1,-1,-1,5,31,-1,-1,-1,-1,-1,-1,-1,32,33,32,33,-1,-1,-1,-1,-1,-1,34,35,34,35,34,35,34,35,-1,-1,-1,-1,34,35,34,35,-1,-1,-1,-1,-1,-1,-1,-1,36,37,36,-1,36,37,-1,-1,-1,-1,-1,-1,-1,-1,-1,-1,-1,-1,-1,-1,2,18,-1,-1,-1,-1,-1,-1,-1,-1,-1,-1,-1,-1,38,-1,-1,-1,39,-1,39,40,-1,-1,-1,-1,-1,-1,-1,-1,-1,-1,5,-1,-1,-1,5,-1,5,-1,-1,-1,-1,-1,-1,-1,-1,-1,-1,-1,-1,-1,-1,41,42,5,5,43,44,19,30,-1,-1,-1,16,-1,-1,-1,-1,-1,-1,-1,-1,-1,-1,23,22,40,19,20,-1,-1,-1,-1,-1,-1,-1,-1,-1,-1,-1,31,-1,-1,5,5,-1,-1,-1,-1,21,5,45,46,-1,-1,5,5,-1,-1,-1,-1,-1,-1,-1,-1,-1,-1,-1,-1,-1,-1,-1,-1,-1,-1,-1,38,-1,5,5,-1,-1,-1,-1,-1,-1,47,48,-1,48,47,48,47,48,47,48,49,50,49,50,4,5,-1,-1,-1,-1,5,5,-1,-1,41,42,43,44,43,44,43,44,43,44,45,46,-1,-1,5],\"dbscan_labels\":[0,1,-1,-1,2,3,-1,-1,4,-1,-1,-1,5,-1,-1,-1,-1,-1,-1,6,7,6,7,-1,8,8,9,9,-1,10,10,5,-1,5,-1,-1,-1,-1,-1,-1,-1,11,12,13,-1,14,-1,-1,-1,5,5,5,5,-1,-1,-1,-1,13,-1,12,-1,15,-1,15,5,16,-1,5,-1,-1,-1,-1,-1,-1,-1,-1,-1,-1,5,-1,-1,-1,-1,17,-1,17,14,-1,-1,-1,-1,-1,-1,18,-1,-1,-1,19,20,-1,-1,-1,-1,-1,-1,-1,2,3,18,19,20,19,20,21,-1,22,-1,23,-1,-1,-1,-1,-1,-1,12,11,-1,-1,-1,-1,-1,-1,-1,-1,-1,-1,-1,-1,-1,-1,-1,-1,-1,-1,24,25,26,24,26,25,27,23,27,-1,-1,-1,-1,-1,0,1,0,1,0,1,-1,-1,-1,-1,-1,-1,20,19,28,29,28,29,-1,-1,-1,-1,30,-1,-1,-1,-1,-1,5,31,-1,-1,-1,-1,-1,-1,-1,32,33,32,33,-1,-1,-1,-1,-1,-1,34,35,34,35,34,35,34,35,-1,-1,-1,-1,34,35,34,35,-1,-1,-1,-1,-1,-1,-1,-1,36,37,36,-1,36,37,-1,-1,-1,-1,-1,-1,-1,-1,-1,-1,-1,-1,-1,-1,2,18,-1,-1,-1,-1,-1,-1,-1,-1,-1,-1,-1,-1,38,-1,-1,-1,39,-1,39,40,-1,-1,-1,-1,-1,-1,-1,-1,-1,-1,5,-1,-1,-1,5,-1,5,-1,-1,-1,-1,-1,-1,-1,-1,-1,-1,-1,-1,-1,-1,41,42,5,5,43,44,19,30,-1,-1,-1,16,-1,-1,-1,-1,-1,-1,-1,-1,-1,-1,23,22,40,19,20,-1,-1,-1,-1,-1,-1,-1,-1,-1,-1,-1,31,-1,-1,5,5,-1,-1,-1,-1,21,5,45,46,-1,-1,5,5,-1,-1,-1,-1,-1,-1,-1,-1,-1,-1,-1,-1,-1,-1,-1,-1,-1,-1,-1,38,-1,5,5,-1,-1,-1,-1,-1,-1,47,48,-1,48,47,48,47,48,47,48,49,50,49,50,4,5,-1,-1,-1,-1,5,5,-1,-1,41,42,43,44,43,44,43,44,43,44,45,46,-1,-1,5],\"u1\":{\"__ndarray__\":\"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\",\"dtype\":\"float32\",\"order\":\"little\",\"shape\":[425]},\"u2\":{\"__ndarray__\":\"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\",\"dtype\":\"float32\",\"order\":\"little\",\"shape\":[425]}},\"selected\":{\"id\":\"2086\"},\"selection_policy\":{\"id\":\"2108\"}},\"id\":\"2085\",\"type\":\"ColumnDataSource\"},{\"attributes\":{\"align\":null,\"below\":[{\"id\":\"2063\"}],\"center\":[{\"id\":\"2066\"},{\"id\":\"2070\"}],\"left\":[{\"id\":\"2067\"}],\"margin\":null,\"min_border_bottom\":10,\"min_border_left\":10,\"min_border_right\":10,\"min_border_top\":10,\"plot_height\":500,\"plot_width\":1000,\"renderers\":[{\"id\":\"2093\"}],\"right\":[{\"id\":\"2096\"}],\"sizing_mode\":\"fixed\",\"title\":{\"id\":\"2055\"},\"toolbar\":{\"id\":\"2077\"},\"x_range\":{\"id\":\"2051\"},\"x_scale\":{\"id\":\"2059\"},\"y_range\":{\"id\":\"2052\"},\"y_scale\":{\"id\":\"2061\"}},\"id\":\"2054\",\"subtype\":\"Figure\",\"type\":\"Plot\"},{\"attributes\":{\"margin\":[5,5,5,5],\"name\":\"HSpacer02967\",\"sizing_mode\":\"stretch_width\"},\"id\":\"2050\",\"type\":\"Spacer\"},{\"attributes\":{\"bar_line_color\":\"black\",\"color_mapper\":{\"id\":\"2084\"},\"formatter\":{\"id\":\"2103\"},\"label_standoff\":8,\"location\":[0,0],\"major_tick_line_color\":\"black\",\"ticker\":{\"id\":\"2095\"},\"title\":\"clusters\"},\"id\":\"2096\",\"type\":\"ColorBar\"},{\"attributes\":{},\"id\":\"2103\",\"type\":\"BasicTickFormatter\"},{\"attributes\":{\"text\":\"\",\"text_color\":{\"value\":\"black\"},\"text_font_size\":{\"value\":\"12pt\"}},\"id\":\"2055\",\"type\":\"Title\"},{\"attributes\":{\"high\":50,\"low\":-50,\"palette\":[\"#d60000\",\"#8c3bff\",\"#018700\",\"#00acc6\",\"#97ff00\",\"#ff7ed1\",\"#6b004f\",\"#ffa52f\",\"#573b00\",\"#005659\",\"#0000dd\",\"#00fdcf\",\"#a17569\",\"#bcb6ff\",\"#95b577\",\"#bf03b8\",\"#645474\",\"#790000\",\"#0774d8\",\"#fdf490\",\"#004b00\",\"#8e7900\",\"#ff7266\",\"#edb8b8\",\"#5d7e66\",\"#9ae4ff\",\"#eb0077\",\"#a57bb8\",\"#5900a3\",\"#03c600\",\"#9e4b00\",\"#9c3b4f\",\"#cac300\",\"#708297\",\"#00af89\",\"#8287ff\",\"#5d363b\",\"#380000\",\"#fdbfff\",\"#bde6bf\",\"#db6d01\",\"#93b8b5\",\"#e452ff\",\"#2f5282\",\"#c36690\",\"#54621f\",\"#c49e72\",\"#038287\",\"#69e680\",\"#802690\",\"#6db3ff\",\"#4d33ff\"]},\"id\":\"2084\",\"type\":\"LinearColorMapper\"},{\"attributes\":{},\"id\":\"2086\",\"type\":\"Selection\"},{\"attributes\":{},\"id\":\"2059\",\"type\":\"LinearScale\"},{\"attributes\":{},\"id\":\"2068\",\"type\":\"BasicTicker\"},{\"attributes\":{},\"id\":\"2061\",\"type\":\"LinearScale\"},{\"attributes\":{\"axis_label\":\"u1\",\"bounds\":\"auto\",\"formatter\":{\"id\":\"2099\"},\"major_label_orientation\":\"horizontal\",\"ticker\":{\"id\":\"2064\"}},\"id\":\"2063\",\"type\":\"LinearAxis\"},{\"attributes\":{},\"id\":\"2108\",\"type\":\"UnionRenderers\"},{\"attributes\":{},\"id\":\"2064\",\"type\":\"BasicTicker\"},{\"attributes\":{},\"id\":\"2099\",\"type\":\"BasicTickFormatter\"},{\"attributes\":{\"axis\":{\"id\":\"2063\"},\"grid_line_color\":null,\"ticker\":null},\"id\":\"2066\",\"type\":\"Grid\"},{\"attributes\":{\"axis_label\":\"u2\",\"bounds\":\"auto\",\"formatter\":{\"id\":\"2101\"},\"major_label_orientation\":\"horizontal\",\"ticker\":{\"id\":\"2068\"}},\"id\":\"2067\",\"type\":\"LinearAxis\"},{\"attributes\":{\"margin\":[5,5,5,5],\"name\":\"HSpacer02968\",\"sizing_mode\":\"stretch_width\"},\"id\":\"2120\",\"type\":\"Spacer\"},{\"attributes\":{\"axis\":{\"id\":\"2067\"},\"dimension\":1,\"grid_line_color\":null,\"ticker\":null},\"id\":\"2070\",\"type\":\"Grid\"}],\"root_ids\":[\"2049\"]},\"title\":\"Bokeh Application\",\"version\":\"2.2.1\"}};\n",
       "  var render_items = [{\"docid\":\"58ddbadc-d3ad-418e-bde6-e8a5a8583eb6\",\"root_ids\":[\"2049\"],\"roots\":{\"2049\":\"4ce40147-2d8d-49f6-8ff0-34eb56352310\"}}];\n",
       "  root.Bokeh.embed.embed_items_notebook(docs_json, render_items);\n",
       "  }\n",
       "if (root.Bokeh !== undefined) {\n",
       "    embed_document(root);\n",
       "  } else {\n",
       "    var attempts = 0;\n",
       "    var timer = setInterval(function(root) {\n",
       "      if (root.Bokeh !== undefined) {\n",
       "        clearInterval(timer);\n",
       "        embed_document(root);\n",
       "      } else if (document.readyState == \"complete\") {\n",
       "        attempts++;\n",
       "        if (attempts > 100) {\n",
       "          clearInterval(timer);\n",
       "          console.log(\"Bokeh: ERROR: Unable to run BokehJS code because BokehJS library is missing\");\n",
       "        }\n",
       "      }\n",
       "    }, 10, root)\n",
       "  }\n",
       "})(window);</script>"
      ],
      "text/plain": [
       ":Scatter   [u1]   (u2,dbscan_labels,ChEBI)"
      ]
     },
     "execution_count": 145,
     "metadata": {
      "application/vnd.holoviews_exec.v0+json": {
       "id": "2049"
      }
     },
     "output_type": "execute_result"
    }
   ],
   "source": [
    "df_mols_uniq_noCF.hvplot.scatter(x=\"u1\", y=\"u2\", padding=0.05, width = 1000, height = 500, size = 55, alpha = 0.7, \n",
    "                     hover_cols=['ChEBI'], line_color='k', c = 'dbscan_labels', clabel = 'clusters', \n",
    "                                 cmap = cc.glasbey[:len(set(clustering.labels_))])\n"
   ]
  },
  {
   "cell_type": "code",
   "execution_count": 146,
   "metadata": {},
   "outputs": [
    {
     "data": {
      "text/plain": [
       "-1     263\n",
       " 5      27\n",
       " 35      6\n",
       " 19      6\n",
       "Name: dbscan_labels, dtype: int64"
      ]
     },
     "execution_count": 146,
     "metadata": {},
     "output_type": "execute_result"
    }
   ],
   "source": [
    "df_mols_uniq_noCF['dbscan_labels'].value_counts().head(4)"
   ]
  },
  {
   "cell_type": "code",
   "execution_count": null,
   "metadata": {},
   "outputs": [],
   "source": []
  }
 ],
 "metadata": {
  "kernelspec": {
   "display_name": "Python 3 (ipykernel)",
   "language": "python",
   "name": "python3"
  },
  "language_info": {
   "codemirror_mode": {
    "name": "ipython",
    "version": 3
   },
   "file_extension": ".py",
   "mimetype": "text/x-python",
   "name": "python",
   "nbconvert_exporter": "python",
   "pygments_lexer": "ipython3",
   "version": "3.8.10"
  }
 },
 "nbformat": 4,
 "nbformat_minor": 4
}
