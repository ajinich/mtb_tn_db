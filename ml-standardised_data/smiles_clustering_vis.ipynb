{
 "cells": [
  {
   "cell_type": "markdown",
   "metadata": {},
   "source": [
    "# Imports: "
   ]
  },
  {
   "cell_type": "code",
   "execution_count": 31,
   "metadata": {},
   "outputs": [
    {
     "name": "stdout",
     "output_type": "stream",
     "text": [
      "Populating the interactive namespace from numpy and matplotlib\n"
     ]
    },
    {
     "name": "stderr",
     "output_type": "stream",
     "text": [
      "/home/ajinich/miniconda3/lib/python3.8/site-packages/IPython/core/magics/pylab.py:159: UserWarning: pylab import has clobbered these variables: ['seed']\n",
      "`%matplotlib` prevents importing * from pylab and numpy\n",
      "  warn(\"pylab import has clobbered these variables: %s\"  % clobbered +\n"
     ]
    }
   ],
   "source": [
    "import pandas as pd\n",
    "import os\n",
    "import re\n",
    "\n",
    "import rdkit\n",
    "from rdkit import Chem\n",
    "from rdkit.Chem.Draw import IPythonConsole, MolToFile\n",
    "from rdkit.Chem import Draw\n",
    "\n",
    "import json\n",
    "\n",
    "import umap\n",
    "import matplotlib.pyplot as plt\n",
    "%pylab inline\n",
    "import seaborn as sns\n",
    "cols = sns.color_palette()\n",
    "\n",
    "import numpy as np\n",
    "from rdkit.Chem import AllChem\n",
    "\n",
    "import tqdm\n",
    "from sklearn.cluster import KMeans\n",
    "from sklearn.metrics import silhouette_score\n",
    "from sklearn.cluster import DBSCAN\n",
    "\n",
    "import holoviews as hv \n",
    "import bokeh.io\n",
    "import bokeh.plotting\n",
    "import colorcet as cc\n",
    "\n",
    "import hvplot.pandas\n",
    "\n",
    "import random\n",
    "\n",
    "import pandas as pd\n",
    "import numpy as np\n",
    "import sys\n",
    "sys.path.append('/home/ajinich/Documents/repos/pySankey')\n",
    "from pysankey import sankey"
   ]
  },
  {
   "cell_type": "markdown",
   "metadata": {},
   "source": [
    "# Functions"
   ]
  },
  {
   "cell_type": "code",
   "execution_count": null,
   "metadata": {},
   "outputs": [],
   "source": []
  },
  {
   "cell_type": "code",
   "execution_count": 2,
   "metadata": {},
   "outputs": [],
   "source": [
    "def choose_k(data, max_clus):\n",
    "    \"Helper function to choose the number of clusters for KMeans.\"\n",
    "    \n",
    "    k_tests = np.arange(2, max_clus)\n",
    "    wcss = []\n",
    "    silhouettes_ = []\n",
    "    for k in tqdm.tqdm(k_tests): \n",
    "        clustering = KMeans(k, random_state= 42).fit(data)\n",
    "        wcss.append(clustering.inertia_)\n",
    "        silhouettes_.append(silhouette_score(data, clustering.predict(data)))\n",
    "    \n",
    "    \n",
    "    return wcss, silhouettes_"
   ]
  },
  {
   "cell_type": "markdown",
   "metadata": {},
   "source": [
    "# Data: "
   ]
  },
  {
   "cell_type": "markdown",
   "metadata": {},
   "source": [
    "File source: UP_Rhea_to_smiles.ipynb"
   ]
  },
  {
   "cell_type": "code",
   "execution_count": 3,
   "metadata": {},
   "outputs": [
    {
     "name": "stdout",
     "output_type": "stream",
     "text": [
      "(5153, 5)\n"
     ]
    },
    {
     "data": {
      "text/html": [
       "<div>\n",
       "<style scoped>\n",
       "    .dataframe tbody tr th:only-of-type {\n",
       "        vertical-align: middle;\n",
       "    }\n",
       "\n",
       "    .dataframe tbody tr th {\n",
       "        vertical-align: top;\n",
       "    }\n",
       "\n",
       "    .dataframe thead th {\n",
       "        text-align: right;\n",
       "    }\n",
       "</style>\n",
       "<table border=\"1\" class=\"dataframe\">\n",
       "  <thead>\n",
       "    <tr style=\"text-align: right;\">\n",
       "      <th></th>\n",
       "      <th>Entry</th>\n",
       "      <th>RheaID</th>\n",
       "      <th>type</th>\n",
       "      <th>ChEBI</th>\n",
       "      <th>smiles</th>\n",
       "    </tr>\n",
       "  </thead>\n",
       "  <tbody>\n",
       "    <tr>\n",
       "      <th>0</th>\n",
       "      <td>A0A024R7X6</td>\n",
       "      <td>25033</td>\n",
       "      <td>LEFT</td>\n",
       "      <td>CHEBI_58349</td>\n",
       "      <td>NC(=O)c1ccc[n+](c1)[C@@H]1O[C@H](COP([O-])(=O)...</td>\n",
       "    </tr>\n",
       "    <tr>\n",
       "      <th>1</th>\n",
       "      <td>A0A024R7X6</td>\n",
       "      <td>25033</td>\n",
       "      <td>LEFT</td>\n",
       "      <td>CHEBI_17336</td>\n",
       "      <td>CC(\\C=C\\C=C(C)\\C=C\\C1=C(C)CCCC1(C)C)=C/CO</td>\n",
       "    </tr>\n",
       "    <tr>\n",
       "      <th>2</th>\n",
       "      <td>A0A024R7X6</td>\n",
       "      <td>25033</td>\n",
       "      <td>RIGHT</td>\n",
       "      <td>CHEBI_15378</td>\n",
       "      <td>[H+]</td>\n",
       "    </tr>\n",
       "  </tbody>\n",
       "</table>\n",
       "</div>"
      ],
      "text/plain": [
       "        Entry  RheaID   type        ChEBI  \\\n",
       "0  A0A024R7X6   25033   LEFT  CHEBI_58349   \n",
       "1  A0A024R7X6   25033   LEFT  CHEBI_17336   \n",
       "2  A0A024R7X6   25033  RIGHT  CHEBI_15378   \n",
       "\n",
       "                                              smiles  \n",
       "0  NC(=O)c1ccc[n+](c1)[C@@H]1O[C@H](COP([O-])(=O)...  \n",
       "1          CC(\\C=C\\C=C(C)\\C=C\\C1=C(C)CCCC1(C)C)=C/CO  \n",
       "2                                               [H+]  "
      ]
     },
     "execution_count": 3,
     "metadata": {},
     "output_type": "execute_result"
    }
   ],
   "source": [
    "file_in = '../../data/mohammed/UP45_Rhea_ChEBI_smiles.csv'\n",
    "df_45_l_rhea_chebi_smiles = pd.read_csv( file_in )\n",
    "print(df_45_l_rhea_chebi_smiles.shape)\n",
    "df_45_l_rhea_chebi_smiles.head(3)"
   ]
  },
  {
   "cell_type": "markdown",
   "metadata": {},
   "source": [
    "Cofactors that I might want to remove: NADH, H+, NAD, NADP, NADPH, CO2\n",
    "\n",
    "[PENDING]: Others: phosphate, orthophosphate? "
   ]
  },
  {
   "cell_type": "code",
   "execution_count": 4,
   "metadata": {},
   "outputs": [
    {
     "data": {
      "text/plain": [
       "O70351    90\n",
       "O08756    90\n",
       "Q99714    90\n",
       "O02691    90\n",
       "Q9QYF1    70\n",
       "Q8VCC1    65\n",
       "P70684    65\n",
       "P15428    65\n",
       "P0AEK2    65\n",
       "Q8MJY8    65\n",
       "Name: Entry, dtype: int64"
      ]
     },
     "execution_count": 4,
     "metadata": {},
     "output_type": "execute_result"
    }
   ],
   "source": [
    "df_45_l_rhea_chebi_smiles.Entry.value_counts().head(10)"
   ]
  },
  {
   "cell_type": "code",
   "execution_count": 5,
   "metadata": {},
   "outputs": [],
   "source": [
    "cofactor_IDS = ['CHEBI_57945', 'CHEBI_15378', 'CHEBI_57540', 'CHEBI_58349', 'CHEBI_57783', 'CHEBI_16526']"
   ]
  },
  {
   "cell_type": "markdown",
   "metadata": {},
   "source": [
    "Reactions with NAD/NADH vs. NADP/NADPH"
   ]
  },
  {
   "cell_type": "code",
   "execution_count": 6,
   "metadata": {},
   "outputs": [],
   "source": [
    "nad_nadh = ['CHEBI_57540', 'CHEBI_57945']\n",
    "nadp_nadph = ['CHEBI_58349', 'CHEBI_57783']\n",
    "# NAD/NADH: \n",
    "df_45_l_rhea_chebi_smiles_NAD = df_45_l_rhea_chebi_smiles[df_45_l_rhea_chebi_smiles.ChEBI.isin(nad_nadh)].copy()\n",
    "list_UP_NAD = df_45_l_rhea_chebi_smiles_NAD.Entry.unique()\n",
    "\n",
    "# NADP/NADPH: \n",
    "df_45_l_rhea_chebi_smiles_NADP = df_45_l_rhea_chebi_smiles[df_45_l_rhea_chebi_smiles.ChEBI.isin(nadp_nadph)].copy()\n",
    "list_UP_NADP = df_45_l_rhea_chebi_smiles_NADP.Entry.unique()\n",
    "\n",
    "# UP_enzymes using both cofactors: \n",
    "list_UP_NAD_NADP = list(set(list_UP_NAD).intersection(set(list_UP_NADP)))\n",
    "# using only NAD\n",
    "list_UP_NAD_only = list(set(list_UP_NAD) - set(list_UP_NADP))\n",
    "# using only NADP\n",
    "list_UP_NADP_only = list(set(list_UP_NADP) - set(list_UP_NAD))"
   ]
  },
  {
   "cell_type": "code",
   "execution_count": 7,
   "metadata": {},
   "outputs": [
    {
     "name": "stdout",
     "output_type": "stream",
     "text": [
      "51 98 205\n"
     ]
    }
   ],
   "source": [
    "print(len(list_UP_NAD_NADP), len(list_UP_NAD_only), len(list_UP_NADP_only))"
   ]
  },
  {
   "cell_type": "markdown",
   "metadata": {},
   "source": [
    "Reactions involving CO2: "
   ]
  },
  {
   "cell_type": "code",
   "execution_count": 8,
   "metadata": {},
   "outputs": [
    {
     "data": {
      "text/plain": [
       "array(['A0A0Q7MGL0', 'A0A4R4NN60', 'A0A4R4VUE8', 'A0A4R4WS15',\n",
       "       'A0A5R8P1W5', 'A0A6L7ELE1', 'P39831', 'Q05016', 'Q9KWN1'],\n",
       "      dtype=object)"
      ]
     },
     "execution_count": 8,
     "metadata": {},
     "output_type": "execute_result"
    }
   ],
   "source": [
    "co2 = ['CHEBI_16526']\n",
    "df_45_l_rhea_chebi_smiles_CO2 = df_45_l_rhea_chebi_smiles[df_45_l_rhea_chebi_smiles.ChEBI.isin(co2)].copy()\n",
    "list_CO2 = df_45_l_rhea_chebi_smiles_CO2.Entry.unique()\n",
    "list_CO2"
   ]
  },
  {
   "cell_type": "markdown",
   "metadata": {},
   "source": [
    "remove cofactors: "
   ]
  },
  {
   "cell_type": "code",
   "execution_count": 9,
   "metadata": {},
   "outputs": [],
   "source": [
    "df_45_l_rhea_chebi_smiles_noCF = df_45_l_rhea_chebi_smiles[~df_45_l_rhea_chebi_smiles.ChEBI.isin(cofactor_IDS)].copy()\n",
    "df_45_l_rhea_chebi_smiles_noCF.reset_index(inplace=True, drop=True)"
   ]
  },
  {
   "cell_type": "code",
   "execution_count": 10,
   "metadata": {},
   "outputs": [
    {
     "name": "stdout",
     "output_type": "stream",
     "text": [
      "(421,)\n",
      "(224,)\n",
      "(216,)\n"
     ]
    }
   ],
   "source": [
    "# How many uniqu compounds? \n",
    "print(df_45_l_rhea_chebi_smiles_noCF.smiles.unique().shape)\n",
    "# How many come from the left side of the reaction? \n",
    "print(df_45_l_rhea_chebi_smiles_noCF[df_45_l_rhea_chebi_smiles_noCF.type=='LEFT'].smiles.unique().shape)\n",
    "# How many come from the right side of the reaction? \n",
    "print(df_45_l_rhea_chebi_smiles_noCF[df_45_l_rhea_chebi_smiles_noCF.type=='RIGHT'].smiles.unique().shape)"
   ]
  },
  {
   "cell_type": "markdown",
   "metadata": {},
   "source": [
    "### Visualize a random subset of the substrate/product SMILES strings : "
   ]
  },
  {
   "cell_type": "code",
   "execution_count": 1,
   "metadata": {},
   "outputs": [
    {
     "ename": "NameError",
     "evalue": "name 'df_45_l_rhea_chebi_smiles_noCF' is not defined",
     "output_type": "error",
     "traceback": [
      "\u001b[0;31m---------------------------------------------------------------------------\u001b[0m",
      "\u001b[0;31mNameError\u001b[0m                                 Traceback (most recent call last)",
      "\u001b[0;32m/tmp/ipykernel_1161706/1895840639.py\u001b[0m in \u001b[0;36m<module>\u001b[0;34m\u001b[0m\n\u001b[0;32m----> 1\u001b[0;31m \u001b[0mmols_smiles\u001b[0m \u001b[0;34m=\u001b[0m \u001b[0mlist\u001b[0m\u001b[0;34m(\u001b[0m\u001b[0mset\u001b[0m\u001b[0;34m(\u001b[0m\u001b[0mdf_45_l_rhea_chebi_smiles_noCF\u001b[0m\u001b[0;34m.\u001b[0m\u001b[0msmiles\u001b[0m\u001b[0;34m.\u001b[0m\u001b[0mtolist\u001b[0m\u001b[0;34m(\u001b[0m\u001b[0;34m)\u001b[0m\u001b[0;34m)\u001b[0m\u001b[0;34m)\u001b[0m\u001b[0;34m\u001b[0m\u001b[0;34m\u001b[0m\u001b[0m\n\u001b[0m\u001b[1;32m      2\u001b[0m \u001b[0mmols_rdkit\u001b[0m \u001b[0;34m=\u001b[0m \u001b[0;34m[\u001b[0m\u001b[0mChem\u001b[0m\u001b[0;34m.\u001b[0m\u001b[0mMolFromSmiles\u001b[0m\u001b[0;34m(\u001b[0m\u001b[0msmi\u001b[0m\u001b[0;34m)\u001b[0m \u001b[0;32mfor\u001b[0m \u001b[0msmi\u001b[0m \u001b[0;32min\u001b[0m \u001b[0mmols_smiles\u001b[0m\u001b[0;34m]\u001b[0m\u001b[0;34m\u001b[0m\u001b[0;34m\u001b[0m\u001b[0m\n\u001b[1;32m      3\u001b[0m \u001b[0mrand_mols\u001b[0m \u001b[0;34m=\u001b[0m \u001b[0mrandom\u001b[0m\u001b[0;34m.\u001b[0m\u001b[0msample\u001b[0m\u001b[0;34m(\u001b[0m\u001b[0mmols_rdkit\u001b[0m\u001b[0;34m,\u001b[0m \u001b[0;36m5\u001b[0m\u001b[0;34m)\u001b[0m\u001b[0;34m\u001b[0m\u001b[0;34m\u001b[0m\u001b[0m\n\u001b[1;32m      4\u001b[0m \u001b[0;32mfor\u001b[0m \u001b[0mmol\u001b[0m \u001b[0;32min\u001b[0m \u001b[0mrand_mols\u001b[0m\u001b[0;34m:\u001b[0m\u001b[0;34m\u001b[0m\u001b[0;34m\u001b[0m\u001b[0m\n\u001b[1;32m      5\u001b[0m     \u001b[0mdisplay\u001b[0m\u001b[0;34m(\u001b[0m\u001b[0mmol\u001b[0m\u001b[0;34m)\u001b[0m\u001b[0;34m\u001b[0m\u001b[0;34m\u001b[0m\u001b[0m\n",
      "\u001b[0;31mNameError\u001b[0m: name 'df_45_l_rhea_chebi_smiles_noCF' is not defined"
     ]
    }
   ],
   "source": [
    "mols_smiles = list(set(df_45_l_rhea_chebi_smiles_noCF.smiles.tolist()))\n",
    "mols_rdkit = [Chem.MolFromSmiles(smi) for smi in mols_smiles]\n",
    "rand_mols = random.sample(mols_rdkit, 5)\n",
    "for mol in rand_mols:\n",
    "    display(mol)\n"
   ]
  },
  {
   "cell_type": "markdown",
   "metadata": {},
   "source": [
    "## Compute their Morgan fingerprints and cluster them: "
   ]
  },
  {
   "cell_type": "code",
   "execution_count": 12,
   "metadata": {},
   "outputs": [],
   "source": [
    "df_mols_uniq_noCF = df_45_l_rhea_chebi_smiles_noCF[['ChEBI', 'smiles']].drop_duplicates()\n",
    "df_mols_uniq_noCF.reset_index(inplace=True, drop=True)\n",
    "mols_smiles = df_mols_uniq_noCF.smiles.tolist()\n",
    "\n",
    "Xfp = []\n",
    "for smi in mols_smiles:\n",
    "    mol = Chem.MolFromSmiles(smi)\n",
    "    Xfp.append(np.array(AllChem.GetMorganFingerprintAsBitVect(mol, radius=3)))\n",
    "Xfp = np.stack(Xfp, 0)"
   ]
  },
  {
   "cell_type": "code",
   "execution_count": 13,
   "metadata": {},
   "outputs": [
    {
     "data": {
      "text/plain": [
       "array([0, 0, 0, ..., 0, 0, 0])"
      ]
     },
     "execution_count": 13,
     "metadata": {},
     "output_type": "execute_result"
    }
   ],
   "source": [
    "Xfp[0,:]"
   ]
  },
  {
   "cell_type": "markdown",
   "metadata": {},
   "source": [
    "#### UMAP projection of Morgan fingerprints: "
   ]
  },
  {
   "cell_type": "code",
   "execution_count": 14,
   "metadata": {},
   "outputs": [
    {
     "name": "stderr",
     "output_type": "stream",
     "text": [
      "/home/ajinich/miniconda3/lib/python3.8/site-packages/umap/umap_.py:1760: UserWarning: gradient function is not yet implemented for jaccard distance metric; inverse_transform will be unavailable\n",
      "  warn(\n"
     ]
    }
   ],
   "source": [
    "seed = 184\n",
    "np.random.seed(seed)\n",
    "u_fp = umap.UMAP(random_state = seed, metric='jaccard', min_dist = 0, n_components = 3).fit_transform(Xfp)"
   ]
  },
  {
   "cell_type": "markdown",
   "metadata": {},
   "source": [
    "#### Add UMAP coordinates to compound dataframe"
   ]
  },
  {
   "cell_type": "code",
   "execution_count": 15,
   "metadata": {},
   "outputs": [
    {
     "data": {
      "text/html": [
       "<div>\n",
       "<style scoped>\n",
       "    .dataframe tbody tr th:only-of-type {\n",
       "        vertical-align: middle;\n",
       "    }\n",
       "\n",
       "    .dataframe tbody tr th {\n",
       "        vertical-align: top;\n",
       "    }\n",
       "\n",
       "    .dataframe thead th {\n",
       "        text-align: right;\n",
       "    }\n",
       "</style>\n",
       "<table border=\"1\" class=\"dataframe\">\n",
       "  <thead>\n",
       "    <tr style=\"text-align: right;\">\n",
       "      <th></th>\n",
       "      <th>ChEBI</th>\n",
       "      <th>smiles</th>\n",
       "      <th>u1</th>\n",
       "      <th>u2</th>\n",
       "      <th>u3</th>\n",
       "    </tr>\n",
       "  </thead>\n",
       "  <tbody>\n",
       "    <tr>\n",
       "      <th>0</th>\n",
       "      <td>CHEBI_17336</td>\n",
       "      <td>CC(\\C=C\\C=C(C)\\C=C\\C1=C(C)CCCC1(C)C)=C/CO</td>\n",
       "      <td>8.082915</td>\n",
       "      <td>-0.934974</td>\n",
       "      <td>12.310073</td>\n",
       "    </tr>\n",
       "    <tr>\n",
       "      <th>1</th>\n",
       "      <td>CHEBI_17898</td>\n",
       "      <td>[H]C(=O)\\C=C(C)\\C=C\\C=C(C)\\C=C\\C1=C(C)CCCC1(C)C</td>\n",
       "      <td>8.071352</td>\n",
       "      <td>-0.950501</td>\n",
       "      <td>12.321568</td>\n",
       "    </tr>\n",
       "  </tbody>\n",
       "</table>\n",
       "</div>"
      ],
      "text/plain": [
       "         ChEBI                                           smiles        u1  \\\n",
       "0  CHEBI_17336        CC(\\C=C\\C=C(C)\\C=C\\C1=C(C)CCCC1(C)C)=C/CO  8.082915   \n",
       "1  CHEBI_17898  [H]C(=O)\\C=C(C)\\C=C\\C=C(C)\\C=C\\C1=C(C)CCCC1(C)C  8.071352   \n",
       "\n",
       "         u2         u3  \n",
       "0 -0.934974  12.310073  \n",
       "1 -0.950501  12.321568  "
      ]
     },
     "execution_count": 15,
     "metadata": {},
     "output_type": "execute_result"
    }
   ],
   "source": [
    "df_mols_uniq_noCF['u1'], df_mols_uniq_noCF['u2'], df_mols_uniq_noCF['u3'] = u_fp[:,0], u_fp[:,1], u_fp[:,2]\n",
    "df_mols_uniq_noCF.head(2)"
   ]
  },
  {
   "cell_type": "code",
   "execution_count": 16,
   "metadata": {},
   "outputs": [
    {
     "name": "stdout",
     "output_type": "stream",
     "text": [
      "Populating the interactive namespace from numpy and matplotlib\n"
     ]
    },
    {
     "name": "stderr",
     "output_type": "stream",
     "text": [
      "/home/ajinich/miniconda3/lib/python3.8/site-packages/IPython/core/magics/pylab.py:159: UserWarning: pylab import has clobbered these variables: ['random', 'seed']\n",
      "`%matplotlib` prevents importing * from pylab and numpy\n",
      "  warn(\"pylab import has clobbered these variables: %s\"  % clobbered +\n"
     ]
    }
   ],
   "source": [
    "%pylab inline"
   ]
  },
  {
   "cell_type": "code",
   "execution_count": 17,
   "metadata": {},
   "outputs": [
    {
     "data": {
      "image/png": "[encoded data removed]",
      "text/plain": [
       "<Figure size 1008x504 with 1 Axes>"
      ]
     },
     "metadata": {
      "needs_background": "light"
     },
     "output_type": "display_data"
    }
   ],
   "source": [
    "plt.figure(figsize=(14,7))\n",
    "\n",
    "plt.scatter(df_mols_uniq_noCF['u1'], df_mols_uniq_noCF['u2'], s = 100, color = cols[-1], edgecolors='k', linewidths = 2, alpha = 0.7)\n",
    "\n",
    "plt.xlabel('UMAP-1', fontsize = 24 )\n",
    "plt.ylabel('UMAP-2', fontsize = 24 )\n",
    "xt = plt.xticks(fontsize = 16)\n",
    "yt = plt.yticks(fontsize = 16)\n",
    "\n",
    "plt.tight_layout()"
   ]
  },
  {
   "cell_type": "markdown",
   "metadata": {},
   "source": [
    "### Cluster the compounds according to UMAP coordinates \n",
    "\n",
    "#### (should capture molecular structure): "
   ]
  },
  {
   "cell_type": "code",
   "execution_count": 18,
   "metadata": {},
   "outputs": [],
   "source": [
    "data = df_mols_uniq_noCF[['u1', 'u2', 'u3']].values"
   ]
  },
  {
   "cell_type": "code",
   "execution_count": 19,
   "metadata": {},
   "outputs": [
    {
     "name": "stderr",
     "output_type": "stream",
     "text": [
      "100%|██████████████████████████████████████████████████████████████████████████████████████████████████████████████████████████████████████████████████████| 38/38 [00:03<00:00, 12.23it/s]"
     ]
    },
    {
     "name": "stdout",
     "output_type": "stream",
     "text": [
      "CPU times: user 24.5 s, sys: 244 ms, total: 24.7 s\n",
      "Wall time: 3.11 s\n"
     ]
    },
    {
     "name": "stderr",
     "output_type": "stream",
     "text": [
      "\n"
     ]
    }
   ],
   "source": [
    "%%time\n",
    "wcss, sil = choose_k(data, max_clus = 40)"
   ]
  },
  {
   "cell_type": "code",
   "execution_count": 20,
   "metadata": {},
   "outputs": [
    {
     "data": {},
     "metadata": {},
     "output_type": "display_data"
    },
    {
     "data": {
      "application/vnd.holoviews_exec.v0+json": "",
      "text/html": [
       "<div id='1002'>\n",
       "\n",
       "\n",
       "\n",
       "\n",
       "\n",
       "  <div class=\"bk-root\" id=\"88326f74-def2-4918-a2af-81e2ef95b23c\" data-root-id=\"1002\"></div>\n",
       "</div>\n",
       "<script type=\"application/javascript\">(function(root) {\n",
       "  function embed_document(root) {\n",
       "    var docs_json = {\"1bdcf068-f6a5-4171-addd-2d91400dfa18\":{\"defs\":[{\"extends\":null,\"module\":null,\"name\":\"ReactiveHTML1\",\"overrides\":[],\"properties\":[]},{\"extends\":null,\"module\":null,\"name\":\"FlexBox1\",\"overrides\":[],\"properties\":[{\"default\":\"flex-start\",\"kind\":null,\"name\":\"align_content\"},{\"default\":\"flex-start\",\"kind\":null,\"name\":\"align_items\"},{\"default\":\"row\",\"kind\":null,\"name\":\"flex_direction\"},{\"default\":\"wrap\",\"kind\":null,\"name\":\"flex_wrap\"},{\"default\":\"flex-start\",\"kind\":null,\"name\":\"justify_content\"}]},{\"extends\":null,\"module\":null,\"name\":\"TemplateActions1\",\"overrides\":[],\"properties\":[{\"default\":0,\"kind\":null,\"name\":\"open_modal\"},{\"default\":0,\"kind\":null,\"name\":\"close_modal\"}]},{\"extends\":null,\"module\":null,\"name\":\"MaterialTemplateActions1\",\"overrides\":[],\"properties\":[{\"default\":0,\"kind\":null,\"name\":\"open_modal\"},{\"default\":0,\"kind\":null,\"name\":\"close_modal\"}]}],\"roots\":{\"references\":[{\"attributes\":{\"bottom_units\":\"screen\",\"fill_alpha\":0.5,\"fill_color\":\"lightgrey\",\"left_units\":\"screen\",\"level\":\"overlay\",\"line_alpha\":1.0,\"line_color\":\"black\",\"line_dash\":[4,4],\"line_width\":2,\"right_units\":\"screen\",\"syncable\":false,\"top_units\":\"screen\"},\"id\":\"1029\",\"type\":\"BoxAnnotation\"},{\"attributes\":{},\"id\":\"1073\",\"type\":\"PanTool\"},{\"attributes\":{\"axis_label\":\"number of clusters\",\"formatter\":{\"id\":\"1096\"},\"major_label_policy\":{\"id\":\"1094\"},\"ticker\":{\"id\":\"1065\"}},\"id\":\"1064\",\"type\":\"LinearAxis\"},{\"attributes\":{\"line_alpha\":0.1,\"line_color\":\"#30a2da\",\"line_width\":2,\"x\":{\"field\":\"x\"},\"y\":{\"field\":\"y\"}},\"id\":\"1089\",\"type\":\"Line\"},{\"attributes\":{},\"id\":\"1046\",\"type\":\"AllLabels\"},{\"attributes\":{\"line_color\":\"#30a2da\",\"line_width\":2,\"x\":{\"field\":\"x\"},\"y\":{\"field\":\"y\"}},\"id\":\"1088\",\"type\":\"Line\"},{\"attributes\":{\"line_alpha\":0.2,\"line_color\":\"orange\",\"line_width\":2,\"x\":{\"field\":\"x\"},\"y\":{\"field\":\"y\"}},\"id\":\"1042\",\"type\":\"Line\"},{\"attributes\":{},\"id\":\"1051\",\"type\":\"BasicTickFormatter\"},{\"attributes\":{\"bottom_units\":\"screen\",\"fill_alpha\":0.5,\"fill_color\":\"lightgrey\",\"left_units\":\"screen\",\"level\":\"overlay\",\"line_alpha\":1.0,\"line_color\":\"black\",\"line_dash\":[4,4],\"line_width\":2,\"right_units\":\"screen\",\"syncable\":false,\"top_units\":\"screen\"},\"id\":\"1077\",\"type\":\"BoxAnnotation\"},{\"attributes\":{},\"id\":\"1069\",\"type\":\"BasicTicker\"},{\"attributes\":{},\"id\":\"1096\",\"type\":\"BasicTickFormatter\"},{\"attributes\":{\"children\":[{\"id\":\"1124\"},{\"id\":\"1122\"}]},\"id\":\"1125\",\"type\":\"Column\"},{\"attributes\":{\"toolbar\":{\"id\":\"1123\"},\"toolbar_location\":\"above\"},\"id\":\"1124\",\"type\":\"ToolbarBox\"},{\"attributes\":{\"axis\":{\"id\":\"1068\"},\"dimension\":1,\"grid_line_color\":null,\"ticker\":null},\"id\":\"1071\",\"type\":\"Grid\"},{\"attributes\":{\"source\":{\"id\":\"1037\"}},\"id\":\"1044\",\"type\":\"CDSView\"},{\"attributes\":{\"axis\":{\"id\":\"1064\"},\"grid_line_color\":null,\"ticker\":null},\"id\":\"1067\",\"type\":\"Grid\"},{\"attributes\":{\"data\":{\"x\":[0,1,2,3,4,5,6,7,8,9,10,11,12,13,14,15,16,17,18,19,20,21,22,23,24,25,26,27,28,29,30,31,32,33,34,35,36,37],\"y\":{\"__ndarray__\":\"lWAXP5QMFj+7LRg/uzkhP4axGz/sPB8/ku4oP9PHMD9MTjU/SSY5P8AMPT+smzU/6ko3P+kxKz8zRC0/hUwwP8PhLT+aqzY/5XsyP8gIND+rkDE/YF8yP6awJj9gYB4/vPQgP0KWJj/BmB8/TE4cP9JYHT/PwBw/l98cP3GYHT9q6Bo/Vt0XPzSVHT+k9Rk/xzEaP2WDHj8=\",\"dtype\":\"float32\",\"order\":\"little\",\"shape\":[38]}},\"selected\":{\"id\":\"1086\"},\"selection_policy\":{\"id\":\"1118\"}},\"id\":\"1085\",\"type\":\"ColumnDataSource\"},{\"attributes\":{},\"id\":\"1012\",\"type\":\"LinearScale\"},{\"attributes\":{\"text\":\"Within cluster sum of squares\",\"text_color\":\"black\",\"text_font_size\":\"12pt\"},\"id\":\"1008\",\"type\":\"Title\"},{\"attributes\":{},\"id\":\"1062\",\"type\":\"LinearScale\"},{\"attributes\":{},\"id\":\"1014\",\"type\":\"LinearScale\"},{\"attributes\":{},\"id\":\"1065\",\"type\":\"BasicTicker\"},{\"attributes\":{\"data\":{\"x\":[0,1,2,3,4,5,6,7,8,9,10,11,12,13,14,15,16,17,18,19,20,21,22,23,24,25,26,27,28,29,30,31,32,33,34,35,36,37],\"y\":{\"__ndarray__\":\"AAAAQKyJwUAAAACADQazQAAAAGBVSKNAAAAA4Pt6mEAAAACgb8eQQAAAAABbtIdAAAAAII6jgEAAAACgpCZ5QAAAAGB2QHFAAAAAwKdeaUAAAACAwEVkQAAAAGDNIWFAAAAAYG3yXEAAAABgUtNXQAAAAKBr/1RAAAAAINi6UUAAAACgvVlQQAAAAMBIDEtAAAAAgNx2SEAAAACgV+hFQAAAAIBidURAAAAAoDUFQkAAAACAxXdAQAAAAAAw9z5AAAAAQHn/PEAAAACgA6o7QAAAAEBGazpAAAAAIGMIOUAAAACgAJo3QAAAAGB5kTZAAAAAYHtpNUAAAACgYwo0QAAAACAGOjNAAAAAQDuSMkAAAADAR30xQAAAAEDgfDFAAAAAAD2FL0AAAABAFXYuQA==\",\"dtype\":\"float64\",\"order\":\"little\",\"shape\":[38]}},\"selected\":{\"id\":\"1038\"},\"selection_policy\":{\"id\":\"1107\"}},\"id\":\"1037\",\"type\":\"ColumnDataSource\"},{\"attributes\":{},\"id\":\"1049\",\"type\":\"AllLabels\"},{\"attributes\":{\"line_color\":\"orange\",\"line_width\":2,\"x\":{\"field\":\"x\"},\"y\":{\"field\":\"y\"}},\"id\":\"1045\",\"type\":\"Line\"},{\"attributes\":{},\"id\":\"1097\",\"type\":\"AllLabels\"},{\"attributes\":{},\"id\":\"1024\",\"type\":\"SaveTool\"},{\"attributes\":{},\"id\":\"1094\",\"type\":\"AllLabels\"},{\"attributes\":{\"line_color\":\"#30a2da\",\"line_width\":2,\"x\":{\"field\":\"x\"},\"y\":{\"field\":\"y\"}},\"id\":\"1093\",\"type\":\"Line\"},{\"attributes\":{\"axis\":{\"id\":\"1020\"},\"dimension\":1,\"grid_line_color\":null,\"ticker\":null},\"id\":\"1023\",\"type\":\"Grid\"},{\"attributes\":{},\"id\":\"1048\",\"type\":\"BasicTickFormatter\"},{\"attributes\":{},\"id\":\"1086\",\"type\":\"Selection\"},{\"attributes\":{},\"id\":\"1021\",\"type\":\"BasicTicker\"},{\"attributes\":{},\"id\":\"1017\",\"type\":\"BasicTicker\"},{\"attributes\":{\"below\":[{\"id\":\"1016\"}],\"center\":[{\"id\":\"1019\"},{\"id\":\"1023\"}],\"height\":300,\"left\":[{\"id\":\"1020\"}],\"margin\":null,\"min_border_bottom\":10,\"min_border_left\":10,\"min_border_right\":10,\"min_border_top\":10,\"renderers\":[{\"id\":\"1043\"}],\"sizing_mode\":\"fixed\",\"title\":{\"id\":\"1008\"},\"toolbar\":{\"id\":\"1030\"},\"toolbar_location\":null,\"width\":300,\"x_range\":{\"id\":\"1004\"},\"x_scale\":{\"id\":\"1012\"},\"y_range\":{\"id\":\"1005\"},\"y_scale\":{\"id\":\"1014\"}},\"id\":\"1007\",\"subtype\":\"Figure\",\"type\":\"Plot\"},{\"attributes\":{\"active_multi\":null,\"tools\":[{\"id\":\"1054\"},{\"id\":\"1072\"},{\"id\":\"1073\"},{\"id\":\"1074\"},{\"id\":\"1075\"},{\"id\":\"1076\"}]},\"id\":\"1078\",\"type\":\"Toolbar\"},{\"attributes\":{\"below\":[{\"id\":\"1064\"}],\"center\":[{\"id\":\"1067\"},{\"id\":\"1071\"}],\"height\":300,\"left\":[{\"id\":\"1068\"}],\"margin\":null,\"min_border_bottom\":10,\"min_border_left\":10,\"min_border_right\":10,\"min_border_top\":10,\"renderers\":[{\"id\":\"1091\"}],\"sizing_mode\":\"fixed\",\"title\":{\"id\":\"1056\"},\"toolbar\":{\"id\":\"1078\"},\"toolbar_location\":null,\"width\":300,\"x_range\":{\"id\":\"1052\"},\"x_scale\":{\"id\":\"1060\"},\"y_range\":{\"id\":\"1053\"},\"y_scale\":{\"id\":\"1062\"}},\"id\":\"1055\",\"subtype\":\"Figure\",\"type\":\"Plot\"},{\"attributes\":{\"data_source\":{\"id\":\"1085\"},\"glyph\":{\"id\":\"1088\"},\"hover_glyph\":null,\"muted_glyph\":{\"id\":\"1090\"},\"nonselection_glyph\":{\"id\":\"1089\"},\"selection_glyph\":{\"id\":\"1093\"},\"view\":{\"id\":\"1092\"}},\"id\":\"1091\",\"type\":\"GlyphRenderer\"},{\"attributes\":{\"callback\":null,\"renderers\":[{\"id\":\"1091\"}],\"tags\":[\"hv_created\"],\"tooltips\":[[\"x\",\"@{x}\"],[\"y\",\"@{y}\"]]},\"id\":\"1054\",\"type\":\"HoverTool\"},{\"attributes\":{\"data_source\":{\"id\":\"1037\"},\"glyph\":{\"id\":\"1040\"},\"hover_glyph\":null,\"muted_glyph\":{\"id\":\"1042\"},\"nonselection_glyph\":{\"id\":\"1041\"},\"selection_glyph\":{\"id\":\"1045\"},\"view\":{\"id\":\"1044\"}},\"id\":\"1043\",\"type\":\"GlyphRenderer\"},{\"attributes\":{},\"id\":\"1060\",\"type\":\"LinearScale\"},{\"attributes\":{\"axis\":{\"id\":\"1016\"},\"grid_line_color\":null,\"ticker\":null},\"id\":\"1019\",\"type\":\"Grid\"},{\"attributes\":{},\"id\":\"1107\",\"type\":\"UnionRenderers\"},{\"attributes\":{\"end\":0.7537104368209839,\"reset_end\":0.7537104368209839,\"reset_start\":0.5708947896957397,\"start\":0.5708947896957397,\"tags\":[[[\"y\",\"y\",null]]]},\"id\":\"1053\",\"type\":\"Range1d\"},{\"attributes\":{\"line_color\":\"orange\",\"line_width\":2,\"x\":{\"field\":\"x\"},\"y\":{\"field\":\"y\"}},\"id\":\"1040\",\"type\":\"Line\"},{\"attributes\":{},\"id\":\"1072\",\"type\":\"SaveTool\"},{\"attributes\":{},\"id\":\"1025\",\"type\":\"PanTool\"},{\"attributes\":{\"callback\":null,\"renderers\":[{\"id\":\"1043\"}],\"tags\":[\"hv_created\"],\"tooltips\":[[\"x\",\"@{x}\"],[\"y\",\"@{y}\"]]},\"id\":\"1006\",\"type\":\"HoverTool\"},{\"attributes\":{\"end\":9875.757210350037,\"reset_end\":9875.757210350037,\"reset_start\":-881.1808763504029,\"start\":-881.1808763504029,\"tags\":[[[\"y\",\"y\",null]]]},\"id\":\"1005\",\"type\":\"Range1d\"},{\"attributes\":{},\"id\":\"1074\",\"type\":\"WheelZoomTool\"},{\"attributes\":{\"margin\":[5,5,5,5],\"name\":\"HSpacer01649\",\"sizing_mode\":\"stretch_width\"},\"id\":\"1306\",\"type\":\"Spacer\"},{\"attributes\":{\"axis_label\":\"silhouette score\",\"formatter\":{\"id\":\"1099\"},\"major_label_policy\":{\"id\":\"1097\"},\"ticker\":{\"id\":\"1069\"}},\"id\":\"1068\",\"type\":\"LinearAxis\"},{\"attributes\":{\"children\":[{\"id\":\"1003\"},{\"id\":\"1125\"},{\"id\":\"1306\"}],\"margin\":[0,0,0,0],\"name\":\"Row01644\",\"tags\":[\"embedded\"]},\"id\":\"1002\",\"type\":\"Row\"},{\"attributes\":{\"margin\":[5,5,5,5],\"name\":\"HSpacer01648\",\"sizing_mode\":\"stretch_width\"},\"id\":\"1003\",\"type\":\"Spacer\"},{\"attributes\":{},\"id\":\"1026\",\"type\":\"WheelZoomTool\"},{\"attributes\":{\"line_alpha\":0.2,\"line_color\":\"#30a2da\",\"line_width\":2,\"x\":{\"field\":\"x\"},\"y\":{\"field\":\"y\"}},\"id\":\"1090\",\"type\":\"Line\"},{\"attributes\":{\"children\":[[{\"id\":\"1007\"},0,0],[{\"id\":\"1055\"},0,1]]},\"id\":\"1122\",\"type\":\"GridBox\"},{\"attributes\":{\"source\":{\"id\":\"1085\"}},\"id\":\"1092\",\"type\":\"CDSView\"},{\"attributes\":{\"toolbars\":[{\"id\":\"1030\"},{\"id\":\"1078\"}],\"tools\":[{\"id\":\"1006\"},{\"id\":\"1024\"},{\"id\":\"1025\"},{\"id\":\"1026\"},{\"id\":\"1027\"},{\"id\":\"1028\"},{\"id\":\"1054\"},{\"id\":\"1072\"},{\"id\":\"1073\"},{\"id\":\"1074\"},{\"id\":\"1075\"},{\"id\":\"1076\"}]},\"id\":\"1123\",\"type\":\"ProxyToolbar\"},{\"attributes\":{\"axis_label\":\"WCSS\",\"formatter\":{\"id\":\"1051\"},\"major_label_policy\":{\"id\":\"1049\"},\"ticker\":{\"id\":\"1021\"}},\"id\":\"1020\",\"type\":\"LinearAxis\"},{\"attributes\":{\"axis_label\":\"number of clusters\",\"formatter\":{\"id\":\"1048\"},\"major_label_policy\":{\"id\":\"1046\"},\"ticker\":{\"id\":\"1017\"}},\"id\":\"1016\",\"type\":\"LinearAxis\"},{\"attributes\":{\"overlay\":{\"id\":\"1077\"}},\"id\":\"1075\",\"type\":\"BoxZoomTool\"},{\"attributes\":{\"line_alpha\":0.1,\"line_color\":\"orange\",\"line_width\":2,\"x\":{\"field\":\"x\"},\"y\":{\"field\":\"y\"}},\"id\":\"1041\",\"type\":\"Line\"},{\"attributes\":{\"active_multi\":null,\"tools\":[{\"id\":\"1006\"},{\"id\":\"1024\"},{\"id\":\"1025\"},{\"id\":\"1026\"},{\"id\":\"1027\"},{\"id\":\"1028\"}]},\"id\":\"1030\",\"type\":\"Toolbar\"},{\"attributes\":{\"text\":\"silhouette score\",\"text_color\":\"black\",\"text_font_size\":\"12pt\"},\"id\":\"1056\",\"type\":\"Title\"},{\"attributes\":{\"overlay\":{\"id\":\"1029\"}},\"id\":\"1027\",\"type\":\"BoxZoomTool\"},{\"attributes\":{\"end\":40.7,\"reset_end\":40.7,\"reset_start\":-3.7,\"start\":-3.7,\"tags\":[[[\"x\",\"x\",null]]]},\"id\":\"1052\",\"type\":\"Range1d\"},{\"attributes\":{},\"id\":\"1028\",\"type\":\"ResetTool\"},{\"attributes\":{},\"id\":\"1099\",\"type\":\"BasicTickFormatter\"},{\"attributes\":{\"end\":40.7,\"reset_end\":40.7,\"reset_start\":-3.7,\"start\":-3.7,\"tags\":[[[\"x\",\"x\",null]]]},\"id\":\"1004\",\"type\":\"Range1d\"},{\"attributes\":{},\"id\":\"1038\",\"type\":\"Selection\"},{\"attributes\":{},\"id\":\"1076\",\"type\":\"ResetTool\"},{\"attributes\":{},\"id\":\"1118\",\"type\":\"UnionRenderers\"}],\"root_ids\":[\"1002\"]},\"title\":\"Bokeh Application\",\"version\":\"2.3.3\"}};\n",
       "    var render_items = [{\"docid\":\"1bdcf068-f6a5-4171-addd-2d91400dfa18\",\"root_ids\":[\"1002\"],\"roots\":{\"1002\":\"88326f74-def2-4918-a2af-81e2ef95b23c\"}}];\n",
       "    root.Bokeh.embed.embed_items_notebook(docs_json, render_items);\n",
       "  }\n",
       "  if (root.Bokeh !== undefined && root.Bokeh.Panel !== undefined) {\n",
       "    embed_document(root);\n",
       "  } else {\n",
       "    var attempts = 0;\n",
       "    var timer = setInterval(function(root) {\n",
       "      if (root.Bokeh !== undefined && root.Bokeh.Panel !== undefined) {\n",
       "        clearInterval(timer);\n",
       "        embed_document(root);\n",
       "      } else if (document.readyState == \"complete\") {\n",
       "        attempts++;\n",
       "        if (attempts > 200) {\n",
       "          clearInterval(timer);\n",
       "          console.log(\"Bokeh: ERROR: Unable to run BokehJS code because BokehJS library is missing\");\n",
       "        }\n",
       "      }\n",
       "    }, 25, root)\n",
       "  }\n",
       "})(window);</script>"
      ],
      "text/plain": [
       ":Layout\n",
       "   .Curve.Within_cluster_sum_of_squares :Curve   [x]   (y)\n",
       "   .Curve.Silhouette_score              :Curve   [x]   (y)"
      ]
     },
     "execution_count": 20,
     "metadata": {
      "application/vnd.holoviews_exec.v0+json": {
       "id": "1002"
      }
     },
     "output_type": "execute_result"
    }
   ],
   "source": [
    "wcss_plot = hv.Curve((wcss), label=\"Within cluster sum of squares\").opts(\n",
    "    xlabel=\"number of clusters\",\n",
    "    ylabel=\"WCSS\",\n",
    "    padding=0.1,\n",
    "    tools=[\"hover\"],\n",
    "    color=\"orange\",\n",
    ")\n",
    "silhouette_plot = hv.Curve((sil), label=\"silhouette score\").opts(\n",
    "    xlabel=\"number of clusters\", ylabel=\"silhouette score\", padding=0.1, tools=[\"hover\"]\n",
    ")\n",
    "\n",
    "wcss_plot + silhouette_plot.opts(shared_axes = False)"
   ]
  },
  {
   "cell_type": "markdown",
   "metadata": {},
   "source": [
    "### Choose the optimal number of clusters and visualize:"
   ]
  },
  {
   "cell_type": "code",
   "execution_count": 21,
   "metadata": {},
   "outputs": [],
   "source": [
    "seed = 43\n",
    "np.random.seed(seed)\n",
    "\n",
    "num_clus = 15\n",
    "clustering = KMeans(n_clusters = num_clus, random_state= seed).fit(data)\n",
    "cluster_labels = clustering.labels_\n",
    "\n",
    "df_mols_uniq_noCF['cluster_labels'] = cluster_labels"
   ]
  },
  {
   "cell_type": "code",
   "execution_count": 48,
   "metadata": {},
   "outputs": [
    {
     "data": {},
     "metadata": {},
     "output_type": "display_data"
    },
    {
     "data": {
      "application/vnd.holoviews_exec.v0+json": "",
      "text/html": [
       "<div id='1807'>\n",
       "\n",
       "\n",
       "\n",
       "\n",
       "\n",
       "  <div class=\"bk-root\" id=\"352b16d1-c272-46d8-b799-4a1531665eb0\" data-root-id=\"1807\"></div>\n",
       "</div>\n",
       "<script type=\"application/javascript\">(function(root) {\n",
       "  function embed_document(root) {\n",
       "    var docs_json = {\"5659390e-1cbc-4b2c-bfae-fe74ca127895\":{\"defs\":[{\"extends\":null,\"module\":null,\"name\":\"ReactiveHTML1\",\"overrides\":[],\"properties\":[]},{\"extends\":null,\"module\":null,\"name\":\"FlexBox1\",\"overrides\":[],\"properties\":[{\"default\":\"flex-start\",\"kind\":null,\"name\":\"align_content\"},{\"default\":\"flex-start\",\"kind\":null,\"name\":\"align_items\"},{\"default\":\"row\",\"kind\":null,\"name\":\"flex_direction\"},{\"default\":\"wrap\",\"kind\":null,\"name\":\"flex_wrap\"},{\"default\":\"flex-start\",\"kind\":null,\"name\":\"justify_content\"}]},{\"extends\":null,\"module\":null,\"name\":\"TemplateActions1\",\"overrides\":[],\"properties\":[{\"default\":0,\"kind\":null,\"name\":\"open_modal\"},{\"default\":0,\"kind\":null,\"name\":\"close_modal\"}]},{\"extends\":null,\"module\":null,\"name\":\"MaterialTemplateActions1\",\"overrides\":[],\"properties\":[{\"default\":0,\"kind\":null,\"name\":\"open_modal\"},{\"default\":0,\"kind\":null,\"name\":\"close_modal\"}]}],\"roots\":{\"references\":[{\"attributes\":{\"fill_alpha\":{\"value\":0.2},\"fill_color\":{\"field\":\"color\",\"transform\":{\"id\":\"1842\"}},\"line_alpha\":{\"value\":0.2},\"line_color\":{\"value\":\"#000000\"},\"size\":{\"value\":7.416198487095663},\"x\":{\"field\":\"u1\"},\"y\":{\"field\":\"u2\"}},\"id\":\"1850\",\"type\":\"Scatter\"},{\"attributes\":{\"axis_label\":\"u2\",\"formatter\":{\"id\":\"1860\"},\"major_label_policy\":{\"id\":\"1858\"},\"ticker\":{\"id\":\"1826\"}},\"id\":\"1825\",\"type\":\"LinearAxis\"},{\"attributes\":{\"margin\":[5,5,5,5],\"name\":\"HSpacer02560\",\"sizing_mode\":\"stretch_width\"},\"id\":\"1883\",\"type\":\"Spacer\"},{\"attributes\":{\"axis\":{\"id\":\"1825\"},\"dimension\":1,\"grid_line_color\":null,\"ticker\":null},\"id\":\"1828\",\"type\":\"Grid\"},{\"attributes\":{\"bottom_units\":\"screen\",\"fill_alpha\":0.5,\"fill_color\":\"lightgrey\",\"left_units\":\"screen\",\"level\":\"overlay\",\"line_alpha\":1.0,\"line_color\":\"black\",\"line_dash\":[4,4],\"line_width\":2,\"right_units\":\"screen\",\"syncable\":false,\"top_units\":\"screen\"},\"id\":\"1834\",\"type\":\"BoxAnnotation\"},{\"attributes\":{},\"id\":\"1830\",\"type\":\"PanTool\"},{\"attributes\":{\"source\":{\"id\":\"1843\"}},\"id\":\"1852\",\"type\":\"CDSView\"},{\"attributes\":{\"callback\":null,\"renderers\":[{\"id\":\"1851\"}],\"tags\":[\"hv_created\"],\"tooltips\":[[\"u1\",\"@{u1}\"],[\"u2\",\"@{u2}\"],[\"cluster_labels\",\"@{cluster_labels}\"],[\"ChEBI\",\"@{ChEBI}\"]]},\"id\":\"1811\",\"type\":\"HoverTool\"},{\"attributes\":{},\"id\":\"1826\",\"type\":\"BasicTicker\"},{\"attributes\":{\"end\":14.029620468616486,\"reset_end\":14.029620468616486,\"reset_start\":-2.924495279788971,\"start\":-2.924495279788971,\"tags\":[[[\"u2\",\"u2\",null]]]},\"id\":\"1810\",\"type\":\"Range1d\"},{\"attributes\":{},\"id\":\"1868\",\"type\":\"NoOverlap\"},{\"attributes\":{\"margin\":[5,5,5,5],\"name\":\"HSpacer02559\",\"sizing_mode\":\"stretch_width\"},\"id\":\"1808\",\"type\":\"Spacer\"},{\"attributes\":{\"axis_label\":\"u1\",\"formatter\":{\"id\":\"1857\"},\"major_label_policy\":{\"id\":\"1855\"},\"ticker\":{\"id\":\"1822\"}},\"id\":\"1821\",\"type\":\"LinearAxis\"},{\"attributes\":{},\"id\":\"1858\",\"type\":\"AllLabels\"},{\"attributes\":{},\"id\":\"1857\",\"type\":\"BasicTickFormatter\"},{\"attributes\":{\"data_source\":{\"id\":\"1843\"},\"glyph\":{\"id\":\"1846\"},\"hover_glyph\":{\"id\":\"1849\"},\"muted_glyph\":{\"id\":\"1850\"},\"nonselection_glyph\":{\"id\":\"1847\"},\"selection_glyph\":{\"id\":\"1848\"},\"view\":{\"id\":\"1852\"}},\"id\":\"1851\",\"type\":\"GlyphRenderer\"},{\"attributes\":{\"below\":[{\"id\":\"1821\"}],\"center\":[{\"id\":\"1824\"},{\"id\":\"1828\"}],\"left\":[{\"id\":\"1825\"}],\"margin\":[5,5,5,5],\"min_border_bottom\":10,\"min_border_left\":10,\"min_border_right\":10,\"min_border_top\":10,\"renderers\":[{\"id\":\"1851\"}],\"right\":[{\"id\":\"1854\"}],\"sizing_mode\":\"fixed\",\"title\":{\"id\":\"1813\"},\"toolbar\":{\"id\":\"1835\"},\"width\":1000,\"x_range\":{\"id\":\"1809\"},\"x_scale\":{\"id\":\"1817\"},\"y_range\":{\"id\":\"1810\"},\"y_scale\":{\"id\":\"1819\"}},\"id\":\"1812\",\"subtype\":\"Figure\",\"type\":\"Plot\"},{\"attributes\":{\"text_color\":\"black\",\"text_font_size\":\"12pt\"},\"id\":\"1813\",\"type\":\"Title\"},{\"attributes\":{},\"id\":\"1853\",\"type\":\"BasicTicker\"},{\"attributes\":{},\"id\":\"1819\",\"type\":\"LinearScale\"},{\"attributes\":{},\"id\":\"1869\",\"type\":\"UnionRenderers\"},{\"attributes\":{},\"id\":\"1822\",\"type\":\"BasicTicker\"},{\"attributes\":{\"overlay\":{\"id\":\"1834\"}},\"id\":\"1832\",\"type\":\"BoxZoomTool\"},{\"attributes\":{\"end\":14.023109421730041,\"reset_end\":14.023109421730041,\"reset_start\":-5.248891339302063,\"start\":-5.248891339302063,\"tags\":[[[\"u1\",\"u1\",null]]]},\"id\":\"1809\",\"type\":\"Range1d\"},{\"attributes\":{\"high\":14,\"low\":0,\"palette\":[\"#d60000\",\"#8c3bff\",\"#018700\",\"#00acc6\",\"#97ff00\",\"#ff7ed1\",\"#6b004f\",\"#ffa52f\",\"#573b00\",\"#005659\",\"#0000dd\",\"#00fdcf\",\"#a17569\",\"#bcb6ff\",\"#95b577\"]},\"id\":\"1842\",\"type\":\"LinearColorMapper\"},{\"attributes\":{\"bar_line_color\":\"black\",\"color_mapper\":{\"id\":\"1842\"},\"label_standoff\":8,\"location\":[0,0],\"major_label_policy\":{\"id\":\"1868\"},\"major_tick_line_color\":\"black\",\"ticker\":{\"id\":\"1853\"},\"title\":\"clusters\"},\"id\":\"1854\",\"type\":\"ColorBar\"},{\"attributes\":{\"fill_alpha\":{\"value\":0.7},\"fill_color\":{\"field\":\"color\",\"transform\":{\"id\":\"1842\"}},\"line_alpha\":{\"value\":0.7},\"line_color\":{\"value\":\"#000000\"},\"size\":{\"value\":7.416198487095663},\"x\":{\"field\":\"u1\"},\"y\":{\"field\":\"u2\"}},\"id\":\"1847\",\"type\":\"Scatter\"},{\"attributes\":{\"data\":{\"ChEBI\":[\"CHEBI_17336\",\"CHEBI_17898\",\"CHEBI_145109\",\"CHEBI_145110\",\"CHEBI_85440\",\"CHEBI_90725\",\"CHEBI_59458\",\"CHEBI_61723\",\"CHEBI_35235\",\"CHEBI_10986\",\"CHEBI_37563\",\"CHEBI_60377\",\"CHEBI_33019\",\"CHEBI_35346\",\"CHEBI_47787\",\"CHEBI_16469\",\"CHEBI_17263\",\"CHEBI_16827\",\"CHEBI_78600\",\"CHEBI_133995\",\"CHEBI_146208\",\"CHEBI_133996\",\"CHEBI_146209\",\"CHEBI_144481\",\"CHEBI_71494\",\"CHEBI_144485\",\"CHEBI_144482\",\"CHEBI_7518\",\"CHEBI_149469\",\"CHEBI_30616\",\"CHEBI_456216\",\"CHEBI_43474\",\"CHEBI_149473\",\"CHEBI_48300\",\"CHEBI_16023\",\"CHEBI_65004\",\"CHEBI_6698\",\"CHEBI_16935\",\"CHEBI_17937\",\"CHEBI_35349\",\"CHEBI_47789\",\"CHEBI_78605\",\"CHEBI_78604\",\"CHEBI_137880\",\"CHEBI_11893\",\"CHEBI_137882\",\"CHEBI_137881\",\"CHEBI_58463\",\"CHEBI_58061\",\"CHEBI_15734\",\"CHEBI_17478\",\"CHEBI_35681\",\"CHEBI_17087\",\"CHEBI_23614\",\"CHEBI_87734\",\"CHEBI_29744\",\"CHEBI_11867\",\"CHEBI_29747\",\"CHEBI_87736\",\"CHEBI_36234\",\"CHEBI_87731\",\"CHEBI_57554\",\"CHEBI_57851\",\"CHEBI_57493\",\"CHEBI_16813\",\"CHEBI_47693\",\"CHEBI_37721\",\"CHEBI_17924\",\"CHEBI_15402\",\"CHEBI_15410\",\"CHEBI_16619\",\"CHEBI_15894\",\"CHEBI_72949\",\"CHEBI_71487\",\"CHEBI_10983\",\"CHEBI_13705\",\"CHEBI_57817\",\"CHEBI_58299\",\"CHEBI_17151\",\"CHEBI_17399\",\"CHEBI_134214\",\"CHEBI_84970\",\"CHEBI_84966\",\"CHEBI_137886\",\"CHEBI_137789\",\"CHEBI_11901\",\"CHEBI_156270\",\"CHEBI_36252\",\"CHEBI_137818\",\"CHEBI_9407\",\"CHEBI_137724\",\"CHEBI_78827\",\"CHEBI_78776\",\"CHEBI_78611\",\"CHEBI_57286\",\"CHEBI_74280\",\"CHEBI_62418\",\"CHEBI_74272\",\"CHEBI_62548\",\"CHEBI_145657\",\"CHEBI_145675\",\"CHEBI_145658\",\"CHEBI_57312\",\"CHEBI_57335\",\"CHEBI_17347\",\"CHEBI_16422\",\"CHEBI_57318\",\"CHEBI_90726\",\"CHEBI_57316\",\"CHEBI_62613\",\"CHEBI_57349\",\"CHEBI_62617\",\"CHEBI_62619\",\"CHEBI_50169\",\"CHEBI_28952\",\"CHEBI_16330\",\"CHEBI_15994\",\"CHEBI_36713\",\"CHEBI_78594\",\"CHEBI_17650\",\"CHEBI_78595\",\"CHEBI_16962\",\"CHEBI_78596\",\"CHEBI_78601\",\"CHEBI_78602\",\"CHEBI_78603\",\"CHEBI_606564\",\"CHEBI_57400\",\"CHEBI_57397\",\"CHEBI_57401\",\"CHEBI_57409\",\"CHEBI_57410\",\"CHEBI_57398\",\"CHEBI_85072\",\"CHEBI_67026\",\"CHEBI_78311\",\"CHEBI_78325\",\"CHEBI_78329\",\"CHEBI_78836\",\"CHEBI_90697\",\"CHEBI_90866\",\"CHEBI_90867\",\"CHEBI_91000\",\"CHEBI_91001\",\"CHEBI_132079\",\"CHEBI_132080\",\"CHEBI_132081\",\"CHEBI_133367\",\"CHEBI_137497\",\"CHEBI_137498\",\"CHEBI_16032\",\"CHEBI_18329\",\"CHEBI_541975\",\"CHEBI_83228\",\"CHEBI_78785\",\"CHEBI_78784\",\"CHEBI_83348\",\"CHEBI_83350\",\"CHEBI_78272\",\"CHEBI_78273\",\"CHEBI_45479\",\"CHEBI_45487\",\"CHEBI_16302\",\"CHEBI_16066\",\"CHEBI_28689\",\"CHEBI_2710\",\"CHEBI_2495\",\"CHEBI_34133\",\"CHEBI_27967\",\"CHEBI_81481\",\"CHEBI_71407\",\"CHEBI_76374\",\"CHEBI_71481\",\"CHEBI_76411\",\"CHEBI_73852\",\"CHEBI_76415\",\"CHEBI_73863\",\"CHEBI_76460\",\"CHEBI_52386\",\"CHEBI_18252\",\"CHEBI_36836\",\"CHEBI_47788\",\"CHEBI_136486\",\"CHEBI_1949\",\"CHEBI_87056\",\"CHEBI_16608\",\"CHEBI_16899\",\"CHEBI_60084\",\"CHEBI_57634\",\"CHEBI_62989\",\"CHEBI_136698\",\"CHEBI_57373\",\"CHEBI_136700\",\"CHEBI_58810\",\"CHEBI_136701\",\"CHEBI_87438\",\"CHEBI_136703\",\"CHEBI_138842\",\"CHEBI_138843\",\"CHEBI_28889\",\"CHEBI_30156\",\"CHEBI_18391\",\"CHEBI_58143\",\"CHEBI_78450\",\"CHEBI_78451\",\"CHEBI_78456\",\"CHEBI_78457\",\"CHEBI_78460\",\"CHEBI_78461\",\"CHEBI_78464\",\"CHEBI_78466\",\"CHEBI_78478\",\"CHEBI_78480\",\"CHEBI_138406\",\"CHEBI_138407\",\"CHEBI_78818\",\"CHEBI_78983\",\"CHEBI_78824\",\"CHEBI_78987\",\"CHEBI_78826\",\"CHEBI_78988\",\"CHEBI_78820\",\"CHEBI_78984\",\"CHEBI_78822\",\"CHEBI_78986\",\"CHEBI_78823\",\"CHEBI_78985\",\"CHEBI_78453\",\"CHEBI_78454\",\"CHEBI_78481\",\"CHEBI_78483\",\"CHEBI_138403\",\"CHEBI_83989\",\"CHEBI_78467\",\"CHEBI_78468\",\"CHEBI_138610\",\"CHEBI_138611\",\"CHEBI_36257\",\"CHEBI_137820\",\"CHEBI_29746\",\"CHEBI_137824\",\"CHEBI_57453\",\"CHEBI_57451\",\"CHEBI_71175\",\"CHEBI_71177\",\"CHEBI_60087\",\"CHEBI_46951\",\"CHEBI_61451\",\"CHEBI_58642\",\"CHEBI_57319\",\"CHEBI_57315\",\"CHEBI_58764\",\"CHEBI_36654\",\"CHEBI_57406\",\"CHEBI_57408\",\"CHEBI_57404\",\"CHEBI_133409\",\"CHEBI_28869\",\"CHEBI_6746\",\"CHEBI_145544\",\"CHEBI_145547\",\"CHEBI_64677\",\"CHEBI_75296\",\"CHEBI_43029\",\"CHEBI_16095\",\"CHEBI_59560\",\"CHEBI_136564\",\"CHEBI_85101\",\"CHEBI_85493\",\"CHEBI_85099\",\"CHEBI_28453\",\"CHEBI_17026\",\"CHEBI_57990\",\"CHEBI_29071\",\"CHEBI_87841\",\"CHEBI_16973\",\"CHEBI_84358\",\"CHEBI_84310\",\"CHEBI_16510\",\"CHEBI_33190\",\"CHEBI_58585\",\"CHEBI_58320\",\"CHEBI_4167\",\"CHEBI_16217\",\"CHEBI_17855\",\"CHEBI_15377\",\"CHEBI_18035\",\"CHEBI_28868\",\"CHEBI_57518\",\"CHEBI_58303\",\"CHEBI_57534\",\"CHEBI_57970\",\"CHEBI_53753\",\"CHEBI_75945\",\"CHEBI_30823\",\"CHEBI_51510\",\"CHEBI_51507\",\"CHEBI_32922\",\"CHEBI_16205\",\"CHEBI_85899\",\"CHEBI_142603\",\"CHEBI_142591\",\"CHEBI_142604\",\"CHEBI_142592\",\"CHEBI_142606\",\"CHEBI_142593\",\"CHEBI_35986\",\"CHEBI_84268\",\"CHEBI_74279\",\"CHEBI_36835\",\"CHEBI_77900\",\"CHEBI_77933\",\"CHEBI_71536\",\"CHEBI_13172\",\"CHEBI_11987\",\"CHEBI_20476\",\"CHEBI_76271\",\"CHEBI_76270\",\"CHEBI_144824\",\"CHEBI_144823\",\"CHEBI_144831\",\"CHEBI_144830\",\"CHEBI_65066\",\"CHEBI_65067\",\"CHEBI_18011\",\"CHEBI_85278\",\"CHEBI_36729\",\"CHEBI_74276\",\"CHEBI_62615\",\"CHEBI_77899\",\"CHEBI_71533\",\"CHEBI_63931\",\"CHEBI_16945\",\"CHEBI_18365\",\"CHEBI_84788\",\"CHEBI_84790\",\"CHEBI_58371\",\"CHEBI_131847\",\"CHEBI_61904\",\"CHEBI_58246\",\"CHEBI_57695\",\"CHEBI_57608\",\"CHEBI_58121\",\"CHEBI_15687\",\"CHEBI_16583\",\"CHEBI_31181\",\"CHEBI_77994\",\"CHEBI_58458\",\"CHEBI_57552\",\"CHEBI_11909\",\"CHEBI_18202\",\"CHEBI_15389\",\"CHEBI_15400\",\"CHEBI_15406\",\"CHEBI_15408\",\"CHEBI_33857\",\"CHEBI_33855\",\"CHEBI_17987\",\"CHEBI_17169\",\"CHEBI_156307\",\"CHEBI_156308\",\"CHEBI_156306\",\"CHEBI_86559\",\"CHEBI_156310\",\"CHEBI_156309\",\"CHEBI_16346\",\"CHEBI_27632\",\"CHEBI_62244\",\"CHEBI_84793\",\"CHEBI_77559\",\"CHEBI_84791\",\"CHEBI_37047\",\"CHEBI_70779\",\"CHEBI_70780\",\"CHEBI_83357\",\"CHEBI_83356\",\"CHEBI_64240\",\"CHEBI_64241\",\"CHEBI_17754\",\"CHEBI_16016\",\"CHEBI_16904\",\"CHEBI_17922\",\"CHEBI_17310\",\"CHEBI_16871\",\"CHEBI_58856\",\"CHEBI_65111\",\"CHEBI_62242\",\"CHEBI_57386\",\"CHEBI_62077\",\"CHEBI_62620\",\"CHEBI_61406\",\"CHEBI_61430\",\"CHEBI_57330\",\"CHEBI_57375\",\"CHEBI_61405\",\"CHEBI_57385\",\"CHEBI_32304\",\"CHEBI_31157\",\"CHEBI_91126\",\"CHEBI_91130\",\"CHEBI_33384\",\"CHEBI_58213\",\"CHEBI_86399\",\"CHEBI_86400\",\"CHEBI_138440\",\"CHEBI_138441\",\"CHEBI_142605\",\"CHEBI_142621\",\"CHEBI_142615\",\"CHEBI_7610\",\"CHEBI_142616\",\"CHEBI_61748\",\"CHEBI_28903\",\"CHEBI_31457\",\"CHEBI_16188\",\"CHEBI_17935\",\"CHEBI_43003\",\"CHEBI_34787\",\"CHEBI_87393\",\"CHEBI_88528\",\"CHEBI_232\",\"CHEBI_15399\",\"CHEBI_15386\",\"CHEBI_16760\",\"CHEBI_16812\"],\"cluster_labels\":{\"__ndarray__\":\"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\",\"dtype\":\"int32\",\"order\":\"little\",\"shape\":[425]},\"color\":{\"__ndarray__\":\"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\",\"dtype\":\"int32\",\"order\":\"little\",\"shape\":[425]},\"u1\":{\"__ndarray__\":\"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\",\"dtype\":\"float32\",\"order\":\"little\",\"shape\":[425]},\"u2\":{\"__ndarray__\":\"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\",\"dtype\":\"float32\",\"order\":\"little\",\"shape\":[425]}},\"selected\":{\"id\":\"1844\"},\"selection_policy\":{\"id\":\"1869\"}},\"id\":\"1843\",\"type\":\"ColumnDataSource\"},{\"attributes\":{},\"id\":\"1833\",\"type\":\"ResetTool\"},{\"attributes\":{\"active_multi\":null,\"tools\":[{\"id\":\"1811\"},{\"id\":\"1829\"},{\"id\":\"1830\"},{\"id\":\"1831\"},{\"id\":\"1832\"},{\"id\":\"1833\"}]},\"id\":\"1835\",\"type\":\"Toolbar\"},{\"attributes\":{\"axis\":{\"id\":\"1821\"},\"grid_line_color\":null,\"ticker\":null},\"id\":\"1824\",\"type\":\"Grid\"},{\"attributes\":{},\"id\":\"1817\",\"type\":\"LinearScale\"},{\"attributes\":{},\"id\":\"1831\",\"type\":\"WheelZoomTool\"},{\"attributes\":{\"fill_alpha\":{\"value\":0.7},\"fill_color\":{\"field\":\"color\",\"transform\":{\"id\":\"1842\"}},\"line_alpha\":{\"value\":0.7},\"line_color\":{\"value\":\"#000000\"},\"size\":{\"value\":7.416198487095663},\"x\":{\"field\":\"u1\"},\"y\":{\"field\":\"u2\"}},\"id\":\"1846\",\"type\":\"Scatter\"},{\"attributes\":{\"children\":[{\"id\":\"1808\"},{\"id\":\"1812\"},{\"id\":\"1883\"}],\"margin\":[0,0,0,0],\"name\":\"Row02555\",\"tags\":[\"embedded\"]},\"id\":\"1807\",\"type\":\"Row\"},{\"attributes\":{},\"id\":\"1829\",\"type\":\"SaveTool\"},{\"attributes\":{\"fill_alpha\":{\"value\":0.7},\"fill_color\":{\"field\":\"color\",\"transform\":{\"id\":\"1842\"}},\"line_alpha\":{\"value\":0.7},\"line_color\":{\"value\":\"#000000\"},\"size\":{\"value\":7.416198487095663},\"x\":{\"field\":\"u1\"},\"y\":{\"field\":\"u2\"}},\"id\":\"1849\",\"type\":\"Scatter\"},{\"attributes\":{},\"id\":\"1844\",\"type\":\"Selection\"},{\"attributes\":{\"fill_alpha\":{\"value\":0.7},\"fill_color\":{\"field\":\"color\",\"transform\":{\"id\":\"1842\"}},\"line_alpha\":{\"value\":0.7},\"line_color\":{\"value\":\"#000000\"},\"size\":{\"value\":7.416198487095663},\"x\":{\"field\":\"u1\"},\"y\":{\"field\":\"u2\"}},\"id\":\"1848\",\"type\":\"Scatter\"},{\"attributes\":{},\"id\":\"1855\",\"type\":\"AllLabels\"},{\"attributes\":{},\"id\":\"1860\",\"type\":\"BasicTickFormatter\"}],\"root_ids\":[\"1807\"]},\"title\":\"Bokeh Application\",\"version\":\"2.3.3\"}};\n",
       "    var render_items = [{\"docid\":\"5659390e-1cbc-4b2c-bfae-fe74ca127895\",\"root_ids\":[\"1807\"],\"roots\":{\"1807\":\"352b16d1-c272-46d8-b799-4a1531665eb0\"}}];\n",
       "    root.Bokeh.embed.embed_items_notebook(docs_json, render_items);\n",
       "  }\n",
       "  if (root.Bokeh !== undefined && root.Bokeh.Panel !== undefined) {\n",
       "    embed_document(root);\n",
       "  } else {\n",
       "    var attempts = 0;\n",
       "    var timer = setInterval(function(root) {\n",
       "      if (root.Bokeh !== undefined && root.Bokeh.Panel !== undefined) {\n",
       "        clearInterval(timer);\n",
       "        embed_document(root);\n",
       "      } else if (document.readyState == \"complete\") {\n",
       "        attempts++;\n",
       "        if (attempts > 200) {\n",
       "          clearInterval(timer);\n",
       "          console.log(\"Bokeh: ERROR: Unable to run BokehJS code because BokehJS library is missing\");\n",
       "        }\n",
       "      }\n",
       "    }, 25, root)\n",
       "  }\n",
       "})(window);</script>"
      ],
      "text/plain": [
       ":Scatter   [u1]   (u2,cluster_labels,ChEBI)"
      ]
     },
     "execution_count": 48,
     "metadata": {
      "application/vnd.holoviews_exec.v0+json": {
       "id": "1807"
      }
     },
     "output_type": "execute_result"
    }
   ],
   "source": [
    "df_mols_uniq_noCF.hvplot.scatter(x=\"u1\", y=\"u2\", padding=0.05, width = 1000, height = 600, size = 55, alpha = 0.7, \n",
    "                     hover_cols=['ChEBI'], line_color='k', c = 'cluster_labels', clabel = 'clusters', cmap = cc.glasbey[:num_clus])\n"
   ]
  },
  {
   "cell_type": "code",
   "execution_count": null,
   "metadata": {},
   "outputs": [],
   "source": [
    "plt.figure(figsize=(6,6))\n",
    "for clus in df_mols_uniq_noCF.cluster_labels.unique():\n",
    "    df_clus = df_mols_uniq_noCF[df_mols_uniq_noCF.cluster_labels==clus]\n",
    "    xdata = df_clus.u1\n",
    "    ydata = df_clus.u2\n",
    "    plt.scatter(xdata, ydata, s=200, edgecolors='k', alpha=0.6)\n",
    "plt.xlabel('UMAP x-coordinate', fontsize = 16)\n",
    "yl = plt.ylabel('UMAP y-coordinate', fontsize = 16)\n",
    "plt.tight_layout()\n",
    "path_out = '../../figs/mohammed/mol_images/clustering.png'\n",
    "plt.savefig(path_out, dpi=300)"
   ]
  },
  {
   "cell_type": "markdown",
   "metadata": {},
   "source": [
    "# Visualize compounds from each of these clusters to understand who they are: "
   ]
  },
  {
   "cell_type": "code",
   "execution_count": 71,
   "metadata": {},
   "outputs": [
    {
     "data": {
      "image/png": "[encoded data removed]",
      "text/plain": [
       "<rdkit.Chem.rdchem.Mol at 0x7fe8ec81b2e0>"
      ]
     },
     "metadata": {},
     "output_type": "display_data"
    },
    {
     "data": {
      "image/png": "[encoded data removed]",
      "text/plain": [
       "<rdkit.Chem.rdchem.Mol at 0x7fe8ec81b460>"
      ]
     },
     "metadata": {},
     "output_type": "display_data"
    },
    {
     "data": {
      "image/png": "[encoded data removed]",
      "text/plain": [
       "<rdkit.Chem.rdchem.Mol at 0x7fe8ec7bd280>"
      ]
     },
     "metadata": {},
     "output_type": "display_data"
    },
    {
     "data": {
      "image/png": "[encoded data removed]",
      "text/plain": [
       "<rdkit.Chem.rdchem.Mol at 0x7fe8ec7bd2e0>"
      ]
     },
     "metadata": {},
     "output_type": "display_data"
    },
    {
     "data": {
      "image/png": "[encoded data removed]",
      "text/plain": [
       "<rdkit.Chem.rdchem.Mol at 0x7fe8ec7bd340>"
      ]
     },
     "metadata": {},
     "output_type": "display_data"
    },
    {
     "data": {
      "image/png": "[encoded data removed]",
      "text/plain": [
       "<rdkit.Chem.rdchem.Mol at 0x7fe8ec7bd3a0>"
      ]
     },
     "metadata": {},
     "output_type": "display_data"
    },
    {
     "data": {
      "image/png": "[encoded data removed]",
      "text/plain": [
       "<rdkit.Chem.rdchem.Mol at 0x7fe8ec7bd580>"
      ]
     },
     "metadata": {},
     "output_type": "display_data"
    },
    {
     "data": {
      "image/png": "[encoded data removed]",
      "text/plain": [
       "<rdkit.Chem.rdchem.Mol at 0x7fe8ec7bd5e0>"
      ]
     },
     "metadata": {},
     "output_type": "display_data"
    },
    {
     "data": {
      "image/png": "[encoded data removed]",
      "text/plain": [
       "<rdkit.Chem.rdchem.Mol at 0x7fe8ec7bd640>"
      ]
     },
     "metadata": {},
     "output_type": "display_data"
    },
    {
     "data": {
      "image/png": "[encoded data removed]",
      "text/plain": [
       "<rdkit.Chem.rdchem.Mol at 0x7fe8ec7bd6a0>"
      ]
     },
     "metadata": {},
     "output_type": "display_data"
    }
   ],
   "source": [
    "clus_num = 8\n",
    "df_clus = df_mols_uniq_noCF[df_mols_uniq_noCF.cluster_labels.values == clus_num].copy()\n",
    "\n",
    "df_sample = df_clus.sample(10)\n",
    "smi_list = df_sample.smiles.tolist()\n",
    "smi_list = list(set(smi_list))\n",
    "chebi_list = df_sample.ChEBI.tolist()\n",
    "rand_mols = [Chem.MolFromSmiles(smi) for smi in smi_list]\n",
    "\n",
    "# Draw.MolsToGridImage(mols_rdkit, subImgSize=(1000,1000), molsPerRow=3)\n",
    "for mol in rand_mols:\n",
    "    display(mol)"
   ]
  },
  {
   "cell_type": "code",
   "execution_count": 65,
   "metadata": {},
   "outputs": [
    {
     "data": {
      "text/html": [
       "<div>\n",
       "<style scoped>\n",
       "    .dataframe tbody tr th:only-of-type {\n",
       "        vertical-align: middle;\n",
       "    }\n",
       "\n",
       "    .dataframe tbody tr th {\n",
       "        vertical-align: top;\n",
       "    }\n",
       "\n",
       "    .dataframe thead th {\n",
       "        text-align: right;\n",
       "    }\n",
       "</style>\n",
       "<table border=\"1\" class=\"dataframe\">\n",
       "  <thead>\n",
       "    <tr style=\"text-align: right;\">\n",
       "      <th></th>\n",
       "      <th>Entry</th>\n",
       "      <th>RheaID</th>\n",
       "      <th>type</th>\n",
       "      <th>ChEBI</th>\n",
       "      <th>smiles</th>\n",
       "    </tr>\n",
       "  </thead>\n",
       "  <tbody>\n",
       "    <tr>\n",
       "      <th>424</th>\n",
       "      <td>G3YG17</td>\n",
       "      <td>17025</td>\n",
       "      <td>RIGHT</td>\n",
       "      <td>CHEBI_17399</td>\n",
       "      <td>OC[C@H](O)[C@@H](O)C(=O)CO</td>\n",
       "    </tr>\n",
       "    <tr>\n",
       "      <th>2836</th>\n",
       "      <td>Q1MLL4</td>\n",
       "      <td>20685</td>\n",
       "      <td>LEFT</td>\n",
       "      <td>CHEBI_16813</td>\n",
       "      <td>OC[C@H](O)[C@@H](O)[C@@H](O)[C@H](O)CO</td>\n",
       "    </tr>\n",
       "    <tr>\n",
       "      <th>2650</th>\n",
       "      <td>P87219</td>\n",
       "      <td>14609</td>\n",
       "      <td>LEFT</td>\n",
       "      <td>CHEBI_17924</td>\n",
       "      <td>OC[C@H](O)[C@@H](O)[C@H](O)[C@H](O)CO</td>\n",
       "    </tr>\n",
       "    <tr>\n",
       "      <th>4005</th>\n",
       "      <td>Q8JIS3</td>\n",
       "      <td>18005</td>\n",
       "      <td>LEFT</td>\n",
       "      <td>CHEBI_48300</td>\n",
       "      <td>OC[C@@H](O)[C@H](O)CO</td>\n",
       "    </tr>\n",
       "    <tr>\n",
       "      <th>4003</th>\n",
       "      <td>Q8JIS3</td>\n",
       "      <td>17025</td>\n",
       "      <td>RIGHT</td>\n",
       "      <td>CHEBI_17399</td>\n",
       "      <td>OC[C@H](O)[C@@H](O)C(=O)CO</td>\n",
       "    </tr>\n",
       "  </tbody>\n",
       "</table>\n",
       "</div>"
      ],
      "text/plain": [
       "       Entry  RheaID   type        ChEBI  \\\n",
       "424   G3YG17   17025  RIGHT  CHEBI_17399   \n",
       "2836  Q1MLL4   20685   LEFT  CHEBI_16813   \n",
       "2650  P87219   14609   LEFT  CHEBI_17924   \n",
       "4005  Q8JIS3   18005   LEFT  CHEBI_48300   \n",
       "4003  Q8JIS3   17025  RIGHT  CHEBI_17399   \n",
       "\n",
       "                                      smiles  \n",
       "424               OC[C@H](O)[C@@H](O)C(=O)CO  \n",
       "2836  OC[C@H](O)[C@@H](O)[C@@H](O)[C@H](O)CO  \n",
       "2650   OC[C@H](O)[C@@H](O)[C@H](O)[C@H](O)CO  \n",
       "4005                   OC[C@@H](O)[C@H](O)CO  \n",
       "4003              OC[C@H](O)[C@@H](O)C(=O)CO  "
      ]
     },
     "execution_count": 65,
     "metadata": {},
     "output_type": "execute_result"
    }
   ],
   "source": [
    "df_45_l_rhea_chebi_smiles[df_45_l_rhea_chebi_smiles.ChEBI.isin(df_sample.ChEBI)].sample(5)"
   ]
  },
  {
   "cell_type": "code",
   "execution_count": null,
   "metadata": {},
   "outputs": [],
   "source": []
  },
  {
   "cell_type": "markdown",
   "metadata": {},
   "source": [
    "### Make a dataframe to train a classifier on: "
   ]
  },
  {
   "cell_type": "code",
   "execution_count": 63,
   "metadata": {},
   "outputs": [
    {
     "name": "stdout",
     "output_type": "stream",
     "text": [
      "(62, 6)\n",
      "53\n"
     ]
    }
   ],
   "source": [
    "# Grab all compounds in the cluster(s) of interest:\n",
    "list_clus = [3,9]\n",
    "df_clus = df_mols_uniq_noCF[df_mols_uniq_noCF.cluster_labels.isin(list_clus)].copy()\n",
    "print(df_clus.shape)\n",
    "\n",
    "# Grab all proteins/entries that have substrates in those clusters: \n",
    "entries_clus = df_45_l_rhea_chebi_smiles_noCF[df_45_l_rhea_chebi_smiles_noCF.ChEBI.isin(df_clus.ChEBI)].Entry.unique().tolist()\n",
    "print(len(entries_clus))"
   ]
  },
  {
   "cell_type": "code",
   "execution_count": 64,
   "metadata": {},
   "outputs": [],
   "source": [
    "df_cluster_classify = pd.DataFrame()\n",
    "df_cluster_classify['Entry'] = df_45_l_rhea_chebi_smiles.Entry.unique()\n",
    "# enzymes that don't have substrates belonging to this cluster\n",
    "df_cluster_classify.loc[~df_cluster_classify.Entry.isin(entries_clus), 'compound_cluster'] = 0\n",
    "# enzymes that *do* have substrates belonging to this cluster\n",
    "df_cluster_classify.loc[df_cluster_classify.Entry.isin(entries_clus), 'compound_cluster'] = 1"
   ]
  },
  {
   "cell_type": "code",
   "execution_count": 67,
   "metadata": {},
   "outputs": [],
   "source": [
    "file_out = '../../data/mohammed/beta_keto_AA_cluster_classify.csv'\n",
    "df_cluster_classify.to_csv(file_out, index = False)"
   ]
  },
  {
   "cell_type": "markdown",
   "metadata": {},
   "source": [
    "# Sankey diagram: \n",
    "## mapping protein embedding clusters to compound clusters: "
   ]
  },
  {
   "cell_type": "code",
   "execution_count": 114,
   "metadata": {},
   "outputs": [
    {
     "name": "stdout",
     "output_type": "stream",
     "text": [
      "(4325, 2)\n"
     ]
    },
    {
     "data": {
      "text/html": [
       "<div>\n",
       "<style scoped>\n",
       "    .dataframe tbody tr th:only-of-type {\n",
       "        vertical-align: middle;\n",
       "    }\n",
       "\n",
       "    .dataframe tbody tr th {\n",
       "        vertical-align: top;\n",
       "    }\n",
       "\n",
       "    .dataframe thead th {\n",
       "        text-align: right;\n",
       "    }\n",
       "</style>\n",
       "<table border=\"1\" class=\"dataframe\">\n",
       "  <thead>\n",
       "    <tr style=\"text-align: right;\">\n",
       "      <th></th>\n",
       "      <th>Entry</th>\n",
       "      <th>protein_cluster</th>\n",
       "    </tr>\n",
       "  </thead>\n",
       "  <tbody>\n",
       "    <tr>\n",
       "      <th>0</th>\n",
       "      <td>Q9NZC7</td>\n",
       "      <td>4</td>\n",
       "    </tr>\n",
       "    <tr>\n",
       "      <th>1</th>\n",
       "      <td>Q99714</td>\n",
       "      <td>7</td>\n",
       "    </tr>\n",
       "  </tbody>\n",
       "</table>\n",
       "</div>"
      ],
      "text/plain": [
       "    Entry  protein_cluster\n",
       "0  Q9NZC7                4\n",
       "1  Q99714                7"
      ]
     },
     "execution_count": 114,
     "metadata": {},
     "output_type": "execute_result"
    }
   ],
   "source": [
    "file_in = '../../data/mohammed/protein_clusters.csv'\n",
    "df_prot = pd.read_csv(file_in)\n",
    "df_prot.rename(columns={'cluster_labels':'protein_cluster'}, inplace=True)\n",
    "print(df_prot.shape)\n",
    "df_prot.head(2)"
   ]
  },
  {
   "cell_type": "code",
   "execution_count": 48,
   "metadata": {},
   "outputs": [
    {
     "data": {
      "text/html": [
       "<div>\n",
       "<style scoped>\n",
       "    .dataframe tbody tr th:only-of-type {\n",
       "        vertical-align: middle;\n",
       "    }\n",
       "\n",
       "    .dataframe tbody tr th {\n",
       "        vertical-align: top;\n",
       "    }\n",
       "\n",
       "    .dataframe thead th {\n",
       "        text-align: right;\n",
       "    }\n",
       "</style>\n",
       "<table border=\"1\" class=\"dataframe\">\n",
       "  <thead>\n",
       "    <tr style=\"text-align: right;\">\n",
       "      <th></th>\n",
       "      <th>ChEBI</th>\n",
       "      <th>mol_cluster</th>\n",
       "    </tr>\n",
       "  </thead>\n",
       "  <tbody>\n",
       "    <tr>\n",
       "      <th>0</th>\n",
       "      <td>CHEBI_17336</td>\n",
       "      <td>7</td>\n",
       "    </tr>\n",
       "    <tr>\n",
       "      <th>1</th>\n",
       "      <td>CHEBI_17898</td>\n",
       "      <td>7</td>\n",
       "    </tr>\n",
       "  </tbody>\n",
       "</table>\n",
       "</div>"
      ],
      "text/plain": [
       "         ChEBI  mol_cluster\n",
       "0  CHEBI_17336            7\n",
       "1  CHEBI_17898            7"
      ]
     },
     "execution_count": 48,
     "metadata": {},
     "output_type": "execute_result"
    }
   ],
   "source": [
    "df_mol = df_mols_uniq_noCF[['ChEBI', 'cluster_labels']].copy()\n",
    "df_mol.rename(columns={'cluster_labels':'mol_cluster'}, inplace=True)\n",
    "df_mol.head(2)"
   ]
  },
  {
   "cell_type": "code",
   "execution_count": 49,
   "metadata": {},
   "outputs": [],
   "source": [
    "df_mapping = df_45_l_rhea_chebi_smiles_noCF[['Entry', 'ChEBI']].copy()\n",
    "\n",
    "df_mapping_1 = df_mapping.merge(df_prot, how = 'left', on = 'Entry')\n",
    "df_mapping_2 = df_mapping_1.merge(df_mol, how = 'left', on = 'ChEBI')\n",
    "df_for_river = df_mapping_2[['protein_cluster', 'mol_cluster']].copy()\n",
    "\n",
    "# save to file:\n",
    "file_out = '../../data/mohammed/river_plot_v3.csv'\n",
    "df_for_river.to_csv(file_out, index = False)"
   ]
  },
  {
   "cell_type": "markdown",
   "metadata": {},
   "source": [
    "Start here: "
   ]
  },
  {
   "cell_type": "code",
   "execution_count": 51,
   "metadata": {},
   "outputs": [],
   "source": [
    "file_in = '../../data/mohammed/river_plot_v3.csv'\n",
    "df_for_river = pd.read_csv(file_in)\n",
    "df_for_river.sort_values(by = 'protein_cluster', inplace=True)"
   ]
  },
  {
   "cell_type": "code",
   "execution_count": 75,
   "metadata": {},
   "outputs": [],
   "source": [
    "df_for_river_nonan = df_for_river[~np.isnan(df_for_river.protein_cluster.values)].copy()"
   ]
  },
  {
   "cell_type": "code",
   "execution_count": 76,
   "metadata": {},
   "outputs": [],
   "source": [
    "df_for_river_nonan['protein_cluster'] = [str(int(v)) for v in df_for_river_nonan['protein_cluster'].values]\n",
    "df_for_river_nonan['mol_cluster'] = [str(int(v)) for v in df_for_river_nonan['mol_cluster'].values]"
   ]
  },
  {
   "cell_type": "code",
   "execution_count": 54,
   "metadata": {},
   "outputs": [],
   "source": [
    "sankey(\n",
    "    df_for_river_nonan['protein_cluster'], df_for_river_nonan['mol_cluster'], aspect=20,\n",
    "    fontsize=8, figureName=\"sankey_diagram_ChEBI\"\n",
    ")"
   ]
  },
  {
   "cell_type": "code",
   "execution_count": 88,
   "metadata": {},
   "outputs": [
    {
     "name": "stdout",
     "output_type": "stream",
     "text": [
      "protein cluster: 0  <----> number of mol. clusters: 11\n",
      "protein cluster: 1  <----> number of mol. clusters: 18\n",
      "protein cluster: 2  <----> number of mol. clusters: 19\n",
      "protein cluster: 3  <----> number of mol. clusters: 15\n",
      "protein cluster: 4  <----> number of mol. clusters: 19\n",
      "protein cluster: 5  <----> number of mol. clusters: 13\n",
      "protein cluster: 6  <----> number of mol. clusters: 15\n",
      "protein cluster: 7  <----> number of mol. clusters: 17\n"
     ]
    }
   ],
   "source": [
    "for prot_clus in df_for_river_nonan.protein_cluster.unique():\n",
    "    df_test = df_for_river_nonan[df_for_river_nonan.protein_cluster.values == prot_clus]\n",
    "    print('protein cluster:', prot_clus, ' <----> number of mol. clusters:', len(df_test.mol_cluster.unique()))"
   ]
  },
  {
   "cell_type": "code",
   "execution_count": 92,
   "metadata": {},
   "outputs": [
    {
     "data": {
      "text/html": [
       "<div>\n",
       "<style scoped>\n",
       "    .dataframe tbody tr th:only-of-type {\n",
       "        vertical-align: middle;\n",
       "    }\n",
       "\n",
       "    .dataframe tbody tr th {\n",
       "        vertical-align: top;\n",
       "    }\n",
       "\n",
       "    .dataframe thead th {\n",
       "        text-align: right;\n",
       "    }\n",
       "</style>\n",
       "<table border=\"1\" class=\"dataframe\">\n",
       "  <thead>\n",
       "    <tr style=\"text-align: right;\">\n",
       "      <th></th>\n",
       "      <th>Entry</th>\n",
       "      <th>protein_cluster</th>\n",
       "    </tr>\n",
       "  </thead>\n",
       "  <tbody>\n",
       "    <tr>\n",
       "      <th>8</th>\n",
       "      <td>P16152</td>\n",
       "      <td>5</td>\n",
       "    </tr>\n",
       "    <tr>\n",
       "      <th>41</th>\n",
       "      <td>Q9C826</td>\n",
       "      <td>5</td>\n",
       "    </tr>\n",
       "    <tr>\n",
       "      <th>67</th>\n",
       "      <td>P35270</td>\n",
       "      <td>5</td>\n",
       "    </tr>\n",
       "    <tr>\n",
       "      <th>80</th>\n",
       "      <td>P39831</td>\n",
       "      <td>5</td>\n",
       "    </tr>\n",
       "    <tr>\n",
       "      <th>82</th>\n",
       "      <td>P07914</td>\n",
       "      <td>5</td>\n",
       "    </tr>\n",
       "    <tr>\n",
       "      <th>...</th>\n",
       "      <td>...</td>\n",
       "      <td>...</td>\n",
       "    </tr>\n",
       "    <tr>\n",
       "      <th>4256</th>\n",
       "      <td>A0A3B3UXD7</td>\n",
       "      <td>5</td>\n",
       "    </tr>\n",
       "    <tr>\n",
       "      <th>4257</th>\n",
       "      <td>H9H0U9</td>\n",
       "      <td>5</td>\n",
       "    </tr>\n",
       "    <tr>\n",
       "      <th>4268</th>\n",
       "      <td>A0A3Q2PC26</td>\n",
       "      <td>5</td>\n",
       "    </tr>\n",
       "    <tr>\n",
       "      <th>4269</th>\n",
       "      <td>A0A165K181</td>\n",
       "      <td>5</td>\n",
       "    </tr>\n",
       "    <tr>\n",
       "      <th>4315</th>\n",
       "      <td>A0A173S5X1</td>\n",
       "      <td>5</td>\n",
       "    </tr>\n",
       "  </tbody>\n",
       "</table>\n",
       "<p>217 rows × 2 columns</p>\n",
       "</div>"
      ],
      "text/plain": [
       "           Entry  protein_cluster\n",
       "8         P16152                5\n",
       "41        Q9C826                5\n",
       "67        P35270                5\n",
       "80        P39831                5\n",
       "82        P07914                5\n",
       "...          ...              ...\n",
       "4256  A0A3B3UXD7                5\n",
       "4257      H9H0U9                5\n",
       "4268  A0A3Q2PC26                5\n",
       "4269  A0A165K181                5\n",
       "4315  A0A173S5X1                5\n",
       "\n",
       "[217 rows x 2 columns]"
      ]
     },
     "execution_count": 92,
     "metadata": {},
     "output_type": "execute_result"
    }
   ],
   "source": [
    "df_prot[df_prot.protein_cluster.values == 5]"
   ]
  },
  {
   "cell_type": "markdown",
   "metadata": {},
   "source": [
    "# Some more analyses: "
   ]
  },
  {
   "cell_type": "markdown",
   "metadata": {},
   "source": [
    "### How promiscuous are individual enzymes? "
   ]
  },
  {
   "cell_type": "markdown",
   "metadata": {},
   "source": [
    "In other words... is it that:\n",
    "1. many single enzymes tend to (promiscuously) catalyze compounds that are structurally very different? OR...\n",
    "2. enzymes tend to catalyze compounds in a single cluster, but enzymes in the same emb-1 cluster will catalyze compounds in different molecular clusters.  "
   ]
  },
  {
   "cell_type": "code",
   "execution_count": 99,
   "metadata": {},
   "outputs": [],
   "source": [
    "df_45_l_rhea_chebi_noCF_clust = df_45_l_rhea_chebi_smiles_noCF[['Entry', 'RheaID', 'ChEBI']].merge(df_mols_uniq_noCF[['ChEBI', 'cluster_labels']], \n",
    "                                                                  on = 'ChEBI', how = 'inner')"
   ]
  },
  {
   "cell_type": "code",
   "execution_count": 105,
   "metadata": {},
   "outputs": [],
   "source": [
    "list_up_uniq = df_45_l_rhea_chebi_noCF_clust.Entry.unique()"
   ]
  },
  {
   "cell_type": "code",
   "execution_count": 107,
   "metadata": {},
   "outputs": [],
   "source": [
    "list_num_clus = []\n",
    "for entry in list_up_uniq:\n",
    "    num_clus = len(df_45_l_rhea_chebi_noCF_clust[df_45_l_rhea_chebi_noCF_clust.Entry.values == entry].cluster_labels.unique())\n",
    "    list_num_clus.append(num_clus)"
   ]
  },
  {
   "cell_type": "code",
   "execution_count": 108,
   "metadata": {},
   "outputs": [],
   "source": [
    "df_num_clus = pd.DataFrame()\n",
    "df_num_clus['Entry'] = list_up_uniq\n",
    "df_num_clus['num_clusters'] = list_num_clus "
   ]
  },
  {
   "cell_type": "code",
   "execution_count": 111,
   "metadata": {},
   "outputs": [
    {
     "data": {
      "text/plain": [
       "1    220\n",
       "2     94\n",
       "3     19\n",
       "4     17\n",
       "5     11\n",
       "Name: num_clusters, dtype: int64"
      ]
     },
     "execution_count": 111,
     "metadata": {},
     "output_type": "execute_result"
    }
   ],
   "source": [
    "df_num_clus['num_clusters'].value_counts()"
   ]
  },
  {
   "cell_type": "code",
   "execution_count": 152,
   "metadata": {},
   "outputs": [
    {
     "data": {
      "text/html": [
       "<div>\n",
       "<style scoped>\n",
       "    .dataframe tbody tr th:only-of-type {\n",
       "        vertical-align: middle;\n",
       "    }\n",
       "\n",
       "    .dataframe tbody tr th {\n",
       "        vertical-align: top;\n",
       "    }\n",
       "\n",
       "    .dataframe thead th {\n",
       "        text-align: right;\n",
       "    }\n",
       "</style>\n",
       "<table border=\"1\" class=\"dataframe\">\n",
       "  <thead>\n",
       "    <tr style=\"text-align: right;\">\n",
       "      <th></th>\n",
       "      <th>Entry</th>\n",
       "      <th>num_clusters</th>\n",
       "    </tr>\n",
       "  </thead>\n",
       "  <tbody>\n",
       "    <tr>\n",
       "      <th>42</th>\n",
       "      <td>O14756</td>\n",
       "      <td>4</td>\n",
       "    </tr>\n",
       "    <tr>\n",
       "      <th>43</th>\n",
       "      <td>O54753</td>\n",
       "      <td>4</td>\n",
       "    </tr>\n",
       "  </tbody>\n",
       "</table>\n",
       "</div>"
      ],
      "text/plain": [
       "     Entry  num_clusters\n",
       "42  O14756             4\n",
       "43  O54753             4"
      ]
     },
     "execution_count": 152,
     "metadata": {},
     "output_type": "execute_result"
    }
   ],
   "source": [
    "df_num_clus[df_num_clus.num_clusters.values == 4].head(2)"
   ]
  },
  {
   "cell_type": "code",
   "execution_count": 151,
   "metadata": {},
   "outputs": [
    {
     "data": {
      "text/html": [
       "<div>\n",
       "<style scoped>\n",
       "    .dataframe tbody tr th:only-of-type {\n",
       "        vertical-align: middle;\n",
       "    }\n",
       "\n",
       "    .dataframe tbody tr th {\n",
       "        vertical-align: top;\n",
       "    }\n",
       "\n",
       "    .dataframe thead th {\n",
       "        text-align: right;\n",
       "    }\n",
       "</style>\n",
       "<table border=\"1\" class=\"dataframe\">\n",
       "  <thead>\n",
       "    <tr style=\"text-align: right;\">\n",
       "      <th></th>\n",
       "      <th>Entry</th>\n",
       "      <th>RheaID</th>\n",
       "      <th>ChEBI</th>\n",
       "      <th>cluster_labels</th>\n",
       "    </tr>\n",
       "  </thead>\n",
       "  <tbody>\n",
       "    <tr>\n",
       "      <th>42</th>\n",
       "      <td>O14756</td>\n",
       "      <td>21284</td>\n",
       "      <td>CHEBI_17336</td>\n",
       "      <td>7</td>\n",
       "    </tr>\n",
       "    <tr>\n",
       "      <th>43</th>\n",
       "      <td>O14756</td>\n",
       "      <td>48488</td>\n",
       "      <td>CHEBI_17336</td>\n",
       "      <td>7</td>\n",
       "    </tr>\n",
       "  </tbody>\n",
       "</table>\n",
       "</div>"
      ],
      "text/plain": [
       "     Entry  RheaID        ChEBI  cluster_labels\n",
       "42  O14756   21284  CHEBI_17336               7\n",
       "43  O14756   48488  CHEBI_17336               7"
      ]
     },
     "execution_count": 151,
     "metadata": {},
     "output_type": "execute_result"
    }
   ],
   "source": [
    "entry = 'O14756'\n",
    "df_45_l_rhea_chebi_noCF_clust[df_45_l_rhea_chebi_noCF_clust.Entry.values == entry].head(2)"
   ]
  },
  {
   "cell_type": "code",
   "execution_count": 176,
   "metadata": {},
   "outputs": [
    {
     "data": {
      "text/html": [
       "<div>\n",
       "<style scoped>\n",
       "    .dataframe tbody tr th:only-of-type {\n",
       "        vertical-align: middle;\n",
       "    }\n",
       "\n",
       "    .dataframe tbody tr th {\n",
       "        vertical-align: top;\n",
       "    }\n",
       "\n",
       "    .dataframe thead th {\n",
       "        text-align: right;\n",
       "    }\n",
       "</style>\n",
       "<table border=\"1\" class=\"dataframe\">\n",
       "  <thead>\n",
       "    <tr style=\"text-align: right;\">\n",
       "      <th></th>\n",
       "      <th>Entry</th>\n",
       "      <th>RheaID</th>\n",
       "      <th>ChEBI</th>\n",
       "      <th>cluster_labels</th>\n",
       "    </tr>\n",
       "  </thead>\n",
       "  <tbody>\n",
       "    <tr>\n",
       "      <th>616</th>\n",
       "      <td>P28483</td>\n",
       "      <td>10740</td>\n",
       "      <td>CHEBI_17087</td>\n",
       "      <td>2</td>\n",
       "    </tr>\n",
       "    <tr>\n",
       "      <th>746</th>\n",
       "      <td>G5DGA8</td>\n",
       "      <td>45120</td>\n",
       "      <td>CHEBI_84966</td>\n",
       "      <td>2</td>\n",
       "    </tr>\n",
       "    <tr>\n",
       "      <th>1322</th>\n",
       "      <td>O14756</td>\n",
       "      <td>48488</td>\n",
       "      <td>CHEBI_83228</td>\n",
       "      <td>2</td>\n",
       "    </tr>\n",
       "    <tr>\n",
       "      <th>609</th>\n",
       "      <td>O75828</td>\n",
       "      <td>19257</td>\n",
       "      <td>CHEBI_17087</td>\n",
       "      <td>2</td>\n",
       "    </tr>\n",
       "    <tr>\n",
       "      <th>1831</th>\n",
       "      <td>P39831</td>\n",
       "      <td>43524</td>\n",
       "      <td>CHEBI_58320</td>\n",
       "      <td>2</td>\n",
       "    </tr>\n",
       "    <tr>\n",
       "      <th>467</th>\n",
       "      <td>A0A3Q8GLE8</td>\n",
       "      <td>61420</td>\n",
       "      <td>CHEBI_144481</td>\n",
       "      <td>2</td>\n",
       "    </tr>\n",
       "    <tr>\n",
       "      <th>1826</th>\n",
       "      <td>P39640</td>\n",
       "      <td>44628</td>\n",
       "      <td>CHEBI_84310</td>\n",
       "      <td>2</td>\n",
       "    </tr>\n",
       "    <tr>\n",
       "      <th>576</th>\n",
       "      <td>P26719</td>\n",
       "      <td>10736</td>\n",
       "      <td>CHEBI_17478</td>\n",
       "      <td>2</td>\n",
       "    </tr>\n",
       "    <tr>\n",
       "      <th>1738</th>\n",
       "      <td>P47727</td>\n",
       "      <td>63500</td>\n",
       "      <td>CHEBI_145547</td>\n",
       "      <td>2</td>\n",
       "    </tr>\n",
       "    <tr>\n",
       "      <th>1828</th>\n",
       "      <td>P39831</td>\n",
       "      <td>26438</td>\n",
       "      <td>CHEBI_33190</td>\n",
       "      <td>2</td>\n",
       "    </tr>\n",
       "  </tbody>\n",
       "</table>\n",
       "</div>"
      ],
      "text/plain": [
       "           Entry  RheaID         ChEBI  cluster_labels\n",
       "616       P28483   10740   CHEBI_17087               2\n",
       "746       G5DGA8   45120   CHEBI_84966               2\n",
       "1322      O14756   48488   CHEBI_83228               2\n",
       "609       O75828   19257   CHEBI_17087               2\n",
       "1831      P39831   43524   CHEBI_58320               2\n",
       "467   A0A3Q8GLE8   61420  CHEBI_144481               2\n",
       "1826      P39640   44628   CHEBI_84310               2\n",
       "576       P26719   10736   CHEBI_17478               2\n",
       "1738      P47727   63500  CHEBI_145547               2\n",
       "1828      P39831   26438   CHEBI_33190               2"
      ]
     },
     "execution_count": 176,
     "metadata": {},
     "output_type": "execute_result"
    }
   ],
   "source": [
    "clus_num = 2\n",
    "df_45_l_rhea_chebi_noCF_clust[df_45_l_rhea_chebi_noCF_clust.cluster_labels.values == clus_num].sample(10)"
   ]
  },
  {
   "cell_type": "markdown",
   "metadata": {},
   "source": [
    "Sort the compounds in the given cluster by the number of \"connections\" to proteins: "
   ]
  },
  {
   "cell_type": "code",
   "execution_count": 177,
   "metadata": {},
   "outputs": [],
   "source": [
    "df_clus = df_45_l_rhea_chebi_noCF_clust[df_45_l_rhea_chebi_noCF_clust.cluster_labels.values == clus_num].copy()"
   ]
  },
  {
   "cell_type": "code",
   "execution_count": 203,
   "metadata": {},
   "outputs": [
    {
     "data": {
      "text/html": [
       "<div>\n",
       "<style scoped>\n",
       "    .dataframe tbody tr th:only-of-type {\n",
       "        vertical-align: middle;\n",
       "    }\n",
       "\n",
       "    .dataframe tbody tr th {\n",
       "        vertical-align: top;\n",
       "    }\n",
       "\n",
       "    .dataframe thead th {\n",
       "        text-align: right;\n",
       "    }\n",
       "</style>\n",
       "<table border=\"1\" class=\"dataframe\">\n",
       "  <thead>\n",
       "    <tr style=\"text-align: right;\">\n",
       "      <th></th>\n",
       "      <th>Entry</th>\n",
       "      <th>RheaID</th>\n",
       "      <th>ChEBI</th>\n",
       "      <th>cluster_labels</th>\n",
       "    </tr>\n",
       "  </thead>\n",
       "  <tbody>\n",
       "    <tr>\n",
       "      <th>706</th>\n",
       "      <td>D4A1J4</td>\n",
       "      <td>20521</td>\n",
       "      <td>CHEBI_13705</td>\n",
       "      <td>2</td>\n",
       "    </tr>\n",
       "    <tr>\n",
       "      <th>707</th>\n",
       "      <td>P29147</td>\n",
       "      <td>20521</td>\n",
       "      <td>CHEBI_13705</td>\n",
       "      <td>2</td>\n",
       "    </tr>\n",
       "    <tr>\n",
       "      <th>708</th>\n",
       "      <td>Q02337</td>\n",
       "      <td>20521</td>\n",
       "      <td>CHEBI_13705</td>\n",
       "      <td>2</td>\n",
       "    </tr>\n",
       "    <tr>\n",
       "      <th>709</th>\n",
       "      <td>Q02338</td>\n",
       "      <td>20521</td>\n",
       "      <td>CHEBI_13705</td>\n",
       "      <td>2</td>\n",
       "    </tr>\n",
       "    <tr>\n",
       "      <th>710</th>\n",
       "      <td>Q561X9</td>\n",
       "      <td>20521</td>\n",
       "      <td>CHEBI_13705</td>\n",
       "      <td>2</td>\n",
       "    </tr>\n",
       "  </tbody>\n",
       "</table>\n",
       "</div>"
      ],
      "text/plain": [
       "      Entry  RheaID        ChEBI  cluster_labels\n",
       "706  D4A1J4   20521  CHEBI_13705               2\n",
       "707  P29147   20521  CHEBI_13705               2\n",
       "708  Q02337   20521  CHEBI_13705               2\n",
       "709  Q02338   20521  CHEBI_13705               2\n",
       "710  Q561X9   20521  CHEBI_13705               2"
      ]
     },
     "execution_count": 203,
     "metadata": {},
     "output_type": "execute_result"
    }
   ],
   "source": [
    "chebi = 'CHEBI_13705'\n",
    "df_clus[df_clus.ChEBI.values == chebi].head()"
   ]
  },
  {
   "cell_type": "code",
   "execution_count": 189,
   "metadata": {},
   "outputs": [
    {
     "data": {
      "text/plain": [
       "CHEBI_17087     26\n",
       "CHEBI_83228     20\n",
       "CHEBI_17478     10\n",
       "CHEBI_13705      8\n",
       "CHEBI_10983      8\n",
       "CHEBI_145547     7\n",
       "CHEBI_145544     7\n",
       "CHEBI_15687      3\n",
       "CHEBI_142593     3\n",
       "CHEBI_144481     2\n",
       "CHEBI_58585      2\n",
       "CHEBI_84966      2\n",
       "CHEBI_84970      2\n",
       "CHEBI_16583      2\n",
       "CHEBI_58320      2\n",
       "CHEBI_28868      2\n",
       "CHEBI_57552      1\n",
       "CHEBI_131847     1\n",
       "CHEBI_16812      1\n",
       "CHEBI_33384      1\n",
       "CHEBI_33855      1\n",
       "CHEBI_61904      1\n",
       "CHEBI_58213      1\n",
       "CHEBI_16510      1\n",
       "CHEBI_84310      1\n",
       "CHEBI_35235      1\n",
       "CHEBI_16016      1\n",
       "CHEBI_142621     1\n",
       "CHEBI_58371      1\n",
       "CHEBI_58246      1\n",
       "CHEBI_58458      1\n",
       "CHEBI_84358      1\n",
       "CHEBI_33190      1\n",
       "Name: ChEBI, dtype: int64"
      ]
     },
     "execution_count": 189,
     "metadata": {},
     "output_type": "execute_result"
    }
   ],
   "source": [
    "df_clus.ChEBI.value_counts()"
   ]
  },
  {
   "cell_type": "markdown",
   "metadata": {},
   "source": [
    "### A more detailed version of this question would be: "
   ]
  },
  {
   "cell_type": "markdown",
   "metadata": {},
   "source": [
    "For enzymes where the substrates all belong to a single structural cluster (num_clusters == 1):\n",
    "\n",
    "+ how many individual substrates are there? (promiscuity within a structural cluster)"
   ]
  },
  {
   "cell_type": "markdown",
   "metadata": {},
   "source": [
    "## For each compound cluster, how many unique proteins have substrates in that cluster? "
   ]
  },
  {
   "cell_type": "code",
   "execution_count": 165,
   "metadata": {},
   "outputs": [],
   "source": [
    "list_clust = df_45_l_rhea_chebi_noCF_clust.cluster_labels.unique().tolist()\n",
    "list_num_prots = []\n",
    "for clust in list_clust:\n",
    "    num_prots = df_45_l_rhea_chebi_noCF_clust[df_45_l_rhea_chebi_noCF_clust.cluster_labels.values == clust].Entry.unique().shape[0]\n",
    "    list_num_prots.append(num_prots)\n",
    "    \n",
    "df_clust_count = pd.DataFrame()\n",
    "df_clust_count['cluster'] = list_clust\n",
    "df_clust_count['num_prots'] = list_num_prots\n"
   ]
  },
  {
   "cell_type": "code",
   "execution_count": 169,
   "metadata": {},
   "outputs": [
    {
     "data": {
      "application/vnd.holoviews_exec.v0+json": "",
      "text/html": [
       "<div id='2285'>\n",
       "\n",
       "\n",
       "\n",
       "\n",
       "\n",
       "  <div class=\"bk-root\" id=\"3ff5d8b8-d990-472a-b66c-ab40a61e2082\" data-root-id=\"2285\"></div>\n",
       "</div>\n",
       "<script type=\"application/javascript\">(function(root) {\n",
       "  function embed_document(root) {\n",
       "  var docs_json = {\"629422e0-35ce-43b9-a736-a1d292b81ab0\":{\"roots\":{\"references\":[{\"attributes\":{\"margin\":[5,5,5,5],\"name\":\"HSpacer03327\",\"sizing_mode\":\"stretch_width\"},\"id\":\"2286\",\"type\":\"Spacer\"},{\"attributes\":{\"axis\":{\"id\":\"2299\"},\"grid_line_color\":null,\"ticker\":null},\"id\":\"2302\",\"type\":\"Grid\"},{\"attributes\":{\"fill_alpha\":{\"value\":0.2},\"fill_color\":{\"field\":\"color\",\"transform\":{\"id\":\"2320\"}},\"line_alpha\":{\"value\":0.2},\"line_color\":{\"value\":\"#000000\"},\"size\":{\"units\":\"screen\",\"value\":7.416198487095663},\"x\":{\"field\":\"u1\"},\"y\":{\"field\":\"u2\"}},\"id\":\"2328\",\"type\":\"Scatter\"},{\"attributes\":{\"bar_line_color\":\"black\",\"color_mapper\":{\"id\":\"2320\"},\"formatter\":{\"id\":\"2339\"},\"label_standoff\":8,\"location\":[0,0],\"major_tick_line_color\":\"black\",\"ticker\":{\"id\":\"2331\"},\"title\":\"clusters\"},\"id\":\"2332\",\"type\":\"ColorBar\"},{\"attributes\":{},\"id\":\"2337\",\"type\":\"BasicTickFormatter\"},{\"attributes\":{\"axis_label\":\"u2\",\"bounds\":\"auto\",\"formatter\":{\"id\":\"2337\"},\"major_label_orientation\":\"horizontal\",\"ticker\":{\"id\":\"2304\"}},\"id\":\"2303\",\"type\":\"LinearAxis\"},{\"attributes\":{},\"id\":\"2331\",\"type\":\"BasicTicker\"},{\"attributes\":{\"end\":12.953059911727905,\"reset_end\":12.953059911727905,\"reset_start\":-1.1054761409759521,\"start\":-1.1054761409759521,\"tags\":[[[\"u1\",\"u1\",null]]]},\"id\":\"2287\",\"type\":\"Range1d\"},{\"attributes\":{},\"id\":\"2304\",\"type\":\"BasicTicker\"},{\"attributes\":{\"end\":16.407610529661177,\"reset_end\":16.407610529661177,\"reset_start\":-1.8637723863124847,\"start\":-1.8637723863124847,\"tags\":[[[\"u2\",\"u2\",null]]]},\"id\":\"2288\",\"type\":\"Range1d\"},{\"attributes\":{\"axis\":{\"id\":\"2303\"},\"dimension\":1,\"grid_line_color\":null,\"ticker\":null},\"id\":\"2306\",\"type\":\"Grid\"},{\"attributes\":{\"source\":{\"id\":\"2321\"}},\"id\":\"2330\",\"type\":\"CDSView\"},{\"attributes\":{\"fill_alpha\":{\"value\":0.7},\"fill_color\":{\"field\":\"color\",\"transform\":{\"id\":\"2320\"}},\"line_alpha\":{\"value\":0.7},\"line_color\":{\"value\":\"#000000\"},\"size\":{\"units\":\"screen\",\"value\":7.416198487095663},\"x\":{\"field\":\"u1\"},\"y\":{\"field\":\"u2\"}},\"id\":\"2325\",\"type\":\"Scatter\"},{\"attributes\":{\"callback\":null,\"renderers\":[{\"id\":\"2329\"}],\"tags\":[\"hv_created\"],\"tooltips\":[[\"u1\",\"@{u1}\"],[\"u2\",\"@{u2}\"],[\"cluster_labels\",\"@{cluster_labels}\"],[\"ChEBI\",\"@{ChEBI}\"]]},\"id\":\"2289\",\"type\":\"HoverTool\"},{\"attributes\":{\"data_source\":{\"id\":\"2321\"},\"glyph\":{\"id\":\"2324\"},\"hover_glyph\":{\"id\":\"2327\"},\"muted_glyph\":{\"id\":\"2328\"},\"nonselection_glyph\":{\"id\":\"2325\"},\"selection_glyph\":{\"id\":\"2326\"},\"view\":{\"id\":\"2330\"}},\"id\":\"2329\",\"type\":\"GlyphRenderer\"},{\"attributes\":{\"fill_alpha\":{\"value\":0.7},\"fill_color\":{\"field\":\"color\",\"transform\":{\"id\":\"2320\"}},\"line_alpha\":{\"value\":0.7},\"line_color\":{\"value\":\"#000000\"},\"size\":{\"units\":\"screen\",\"value\":7.416198487095663},\"x\":{\"field\":\"u1\"},\"y\":{\"field\":\"u2\"}},\"id\":\"2326\",\"type\":\"Scatter\"},{\"attributes\":{},\"id\":\"2307\",\"type\":\"SaveTool\"},{\"attributes\":{\"margin\":[5,5,5,5],\"name\":\"HSpacer03328\",\"sizing_mode\":\"stretch_width\"},\"id\":\"2356\",\"type\":\"Spacer\"},{\"attributes\":{\"active_drag\":\"auto\",\"active_inspect\":\"auto\",\"active_multi\":null,\"active_scroll\":\"auto\",\"active_tap\":\"auto\",\"tools\":[{\"id\":\"2289\"},{\"id\":\"2307\"},{\"id\":\"2308\"},{\"id\":\"2309\"},{\"id\":\"2310\"},{\"id\":\"2311\"}]},\"id\":\"2313\",\"type\":\"Toolbar\"},{\"attributes\":{\"fill_alpha\":{\"value\":0.7},\"fill_color\":{\"field\":\"color\",\"transform\":{\"id\":\"2320\"}},\"line_alpha\":{\"value\":0.7},\"line_color\":{\"value\":\"#000000\"},\"size\":{\"units\":\"screen\",\"value\":7.416198487095663},\"x\":{\"field\":\"u1\"},\"y\":{\"field\":\"u2\"}},\"id\":\"2327\",\"type\":\"Scatter\"},{\"attributes\":{},\"id\":\"2308\",\"type\":\"PanTool\"},{\"attributes\":{\"bottom_units\":\"screen\",\"fill_alpha\":0.5,\"fill_color\":\"lightgrey\",\"left_units\":\"screen\",\"level\":\"overlay\",\"line_alpha\":1.0,\"line_color\":\"black\",\"line_dash\":[4,4],\"line_width\":2,\"right_units\":\"screen\",\"top_units\":\"screen\"},\"id\":\"2312\",\"type\":\"BoxAnnotation\"},{\"attributes\":{\"fill_alpha\":{\"value\":0.7},\"fill_color\":{\"field\":\"color\",\"transform\":{\"id\":\"2320\"}},\"line_alpha\":{\"value\":0.7},\"line_color\":{\"value\":\"#000000\"},\"size\":{\"units\":\"screen\",\"value\":7.416198487095663},\"x\":{\"field\":\"u1\"},\"y\":{\"field\":\"u2\"}},\"id\":\"2324\",\"type\":\"Scatter\"},{\"attributes\":{},\"id\":\"2309\",\"type\":\"WheelZoomTool\"},{\"attributes\":{\"overlay\":{\"id\":\"2312\"}},\"id\":\"2310\",\"type\":\"BoxZoomTool\"},{\"attributes\":{},\"id\":\"2311\",\"type\":\"ResetTool\"},{\"attributes\":{\"data\":{\"ChEBI\":[\"CHEBI_17336\",\"CHEBI_17898\",\"CHEBI_145109\",\"CHEBI_145110\",\"CHEBI_85440\",\"CHEBI_90725\",\"CHEBI_59458\",\"CHEBI_61723\",\"CHEBI_35235\",\"CHEBI_10986\",\"CHEBI_37563\",\"CHEBI_60377\",\"CHEBI_33019\",\"CHEBI_35346\",\"CHEBI_47787\",\"CHEBI_16469\",\"CHEBI_17263\",\"CHEBI_16827\",\"CHEBI_78600\",\"CHEBI_133995\",\"CHEBI_146208\",\"CHEBI_133996\",\"CHEBI_146209\",\"CHEBI_144481\",\"CHEBI_71494\",\"CHEBI_144485\",\"CHEBI_144482\",\"CHEBI_7518\",\"CHEBI_149469\",\"CHEBI_30616\",\"CHEBI_456216\",\"CHEBI_43474\",\"CHEBI_149473\",\"CHEBI_48300\",\"CHEBI_16023\",\"CHEBI_65004\",\"CHEBI_6698\",\"CHEBI_16935\",\"CHEBI_17937\",\"CHEBI_35349\",\"CHEBI_47789\",\"CHEBI_78605\",\"CHEBI_78604\",\"CHEBI_137880\",\"CHEBI_11893\",\"CHEBI_137882\",\"CHEBI_137881\",\"CHEBI_58463\",\"CHEBI_58061\",\"CHEBI_15734\",\"CHEBI_17478\",\"CHEBI_35681\",\"CHEBI_17087\",\"CHEBI_23614\",\"CHEBI_87734\",\"CHEBI_29744\",\"CHEBI_11867\",\"CHEBI_29747\",\"CHEBI_87736\",\"CHEBI_36234\",\"CHEBI_87731\",\"CHEBI_57554\",\"CHEBI_57851\",\"CHEBI_57493\",\"CHEBI_16813\",\"CHEBI_47693\",\"CHEBI_37721\",\"CHEBI_17924\",\"CHEBI_15402\",\"CHEBI_15410\",\"CHEBI_16619\",\"CHEBI_15894\",\"CHEBI_72949\",\"CHEBI_71487\",\"CHEBI_10983\",\"CHEBI_13705\",\"CHEBI_57817\",\"CHEBI_58299\",\"CHEBI_17151\",\"CHEBI_17399\",\"CHEBI_134214\",\"CHEBI_84970\",\"CHEBI_84966\",\"CHEBI_137886\",\"CHEBI_137789\",\"CHEBI_11901\",\"CHEBI_156270\",\"CHEBI_36252\",\"CHEBI_137818\",\"CHEBI_9407\",\"CHEBI_137724\",\"CHEBI_78827\",\"CHEBI_78776\",\"CHEBI_78611\",\"CHEBI_57286\",\"CHEBI_74280\",\"CHEBI_62418\",\"CHEBI_74272\",\"CHEBI_62548\",\"CHEBI_145657\",\"CHEBI_145675\",\"CHEBI_145658\",\"CHEBI_57312\",\"CHEBI_57335\",\"CHEBI_17347\",\"CHEBI_16422\",\"CHEBI_57318\",\"CHEBI_90726\",\"CHEBI_57316\",\"CHEBI_62613\",\"CHEBI_57349\",\"CHEBI_62617\",\"CHEBI_62619\",\"CHEBI_50169\",\"CHEBI_28952\",\"CHEBI_16330\",\"CHEBI_15994\",\"CHEBI_36713\",\"CHEBI_78594\",\"CHEBI_17650\",\"CHEBI_78595\",\"CHEBI_16962\",\"CHEBI_78596\",\"CHEBI_78601\",\"CHEBI_78602\",\"CHEBI_78603\",\"CHEBI_606564\",\"CHEBI_57400\",\"CHEBI_57397\",\"CHEBI_57401\",\"CHEBI_57409\",\"CHEBI_57410\",\"CHEBI_57398\",\"CHEBI_85072\",\"CHEBI_67026\",\"CHEBI_78311\",\"CHEBI_78325\",\"CHEBI_78329\",\"CHEBI_78836\",\"CHEBI_90697\",\"CHEBI_90866\",\"CHEBI_90867\",\"CHEBI_91000\",\"CHEBI_91001\",\"CHEBI_132079\",\"CHEBI_132080\",\"CHEBI_132081\",\"CHEBI_133367\",\"CHEBI_137497\",\"CHEBI_137498\",\"CHEBI_16032\",\"CHEBI_18329\",\"CHEBI_541975\",\"CHEBI_83228\",\"CHEBI_78785\",\"CHEBI_78784\",\"CHEBI_83348\",\"CHEBI_83350\",\"CHEBI_78272\",\"CHEBI_78273\",\"CHEBI_45479\",\"CHEBI_45487\",\"CHEBI_16302\",\"CHEBI_16066\",\"CHEBI_28689\",\"CHEBI_2710\",\"CHEBI_2495\",\"CHEBI_34133\",\"CHEBI_27967\",\"CHEBI_81481\",\"CHEBI_71407\",\"CHEBI_76374\",\"CHEBI_71481\",\"CHEBI_76411\",\"CHEBI_73852\",\"CHEBI_76415\",\"CHEBI_73863\",\"CHEBI_76460\",\"CHEBI_52386\",\"CHEBI_18252\",\"CHEBI_36836\",\"CHEBI_47788\",\"CHEBI_136486\",\"CHEBI_1949\",\"CHEBI_87056\",\"CHEBI_16608\",\"CHEBI_16899\",\"CHEBI_60084\",\"CHEBI_57634\",\"CHEBI_62989\",\"CHEBI_136698\",\"CHEBI_57373\",\"CHEBI_136700\",\"CHEBI_58810\",\"CHEBI_136701\",\"CHEBI_87438\",\"CHEBI_136703\",\"CHEBI_138842\",\"CHEBI_138843\",\"CHEBI_28889\",\"CHEBI_30156\",\"CHEBI_18391\",\"CHEBI_58143\",\"CHEBI_78450\",\"CHEBI_78451\",\"CHEBI_78456\",\"CHEBI_78457\",\"CHEBI_78460\",\"CHEBI_78461\",\"CHEBI_78464\",\"CHEBI_78466\",\"CHEBI_78478\",\"CHEBI_78480\",\"CHEBI_138406\",\"CHEBI_138407\",\"CHEBI_78818\",\"CHEBI_78983\",\"CHEBI_78824\",\"CHEBI_78987\",\"CHEBI_78826\",\"CHEBI_78988\",\"CHEBI_78820\",\"CHEBI_78984\",\"CHEBI_78822\",\"CHEBI_78986\",\"CHEBI_78823\",\"CHEBI_78985\",\"CHEBI_78453\",\"CHEBI_78454\",\"CHEBI_78481\",\"CHEBI_78483\",\"CHEBI_138403\",\"CHEBI_83989\",\"CHEBI_78467\",\"CHEBI_78468\",\"CHEBI_138610\",\"CHEBI_138611\",\"CHEBI_36257\",\"CHEBI_137820\",\"CHEBI_29746\",\"CHEBI_137824\",\"CHEBI_57453\",\"CHEBI_57451\",\"CHEBI_71175\",\"CHEBI_71177\",\"CHEBI_60087\",\"CHEBI_46951\",\"CHEBI_61451\",\"CHEBI_58642\",\"CHEBI_57319\",\"CHEBI_57315\",\"CHEBI_58764\",\"CHEBI_36654\",\"CHEBI_57406\",\"CHEBI_57408\",\"CHEBI_57404\",\"CHEBI_133409\",\"CHEBI_28869\",\"CHEBI_6746\",\"CHEBI_145544\",\"CHEBI_145547\",\"CHEBI_64677\",\"CHEBI_75296\",\"CHEBI_43029\",\"CHEBI_16095\",\"CHEBI_59560\",\"CHEBI_136564\",\"CHEBI_85101\",\"CHEBI_85493\",\"CHEBI_85099\",\"CHEBI_28453\",\"CHEBI_17026\",\"CHEBI_57990\",\"CHEBI_29071\",\"CHEBI_87841\",\"CHEBI_16973\",\"CHEBI_84358\",\"CHEBI_84310\",\"CHEBI_16510\",\"CHEBI_33190\",\"CHEBI_58585\",\"CHEBI_58320\",\"CHEBI_4167\",\"CHEBI_16217\",\"CHEBI_17855\",\"CHEBI_15377\",\"CHEBI_18035\",\"CHEBI_28868\",\"CHEBI_57518\",\"CHEBI_58303\",\"CHEBI_57534\",\"CHEBI_57970\",\"CHEBI_53753\",\"CHEBI_75945\",\"CHEBI_30823\",\"CHEBI_51510\",\"CHEBI_51507\",\"CHEBI_32922\",\"CHEBI_16205\",\"CHEBI_85899\",\"CHEBI_142603\",\"CHEBI_142591\",\"CHEBI_142604\",\"CHEBI_142592\",\"CHEBI_142606\",\"CHEBI_142593\",\"CHEBI_35986\",\"CHEBI_84268\",\"CHEBI_74279\",\"CHEBI_36835\",\"CHEBI_77900\",\"CHEBI_77933\",\"CHEBI_71536\",\"CHEBI_13172\",\"CHEBI_11987\",\"CHEBI_20476\",\"CHEBI_76271\",\"CHEBI_76270\",\"CHEBI_144824\",\"CHEBI_144823\",\"CHEBI_144831\",\"CHEBI_144830\",\"CHEBI_65066\",\"CHEBI_65067\",\"CHEBI_18011\",\"CHEBI_85278\",\"CHEBI_36729\",\"CHEBI_74276\",\"CHEBI_62615\",\"CHEBI_77899\",\"CHEBI_71533\",\"CHEBI_63931\",\"CHEBI_16945\",\"CHEBI_18365\",\"CHEBI_84788\",\"CHEBI_84790\",\"CHEBI_58371\",\"CHEBI_131847\",\"CHEBI_61904\",\"CHEBI_58246\",\"CHEBI_57695\",\"CHEBI_57608\",\"CHEBI_58121\",\"CHEBI_15687\",\"CHEBI_16583\",\"CHEBI_31181\",\"CHEBI_77994\",\"CHEBI_58458\",\"CHEBI_57552\",\"CHEBI_11909\",\"CHEBI_18202\",\"CHEBI_15389\",\"CHEBI_15400\",\"CHEBI_15406\",\"CHEBI_15408\",\"CHEBI_33857\",\"CHEBI_33855\",\"CHEBI_17987\",\"CHEBI_17169\",\"CHEBI_156307\",\"CHEBI_156308\",\"CHEBI_156306\",\"CHEBI_86559\",\"CHEBI_156310\",\"CHEBI_156309\",\"CHEBI_16346\",\"CHEBI_27632\",\"CHEBI_62244\",\"CHEBI_84793\",\"CHEBI_77559\",\"CHEBI_84791\",\"CHEBI_37047\",\"CHEBI_70779\",\"CHEBI_70780\",\"CHEBI_83357\",\"CHEBI_83356\",\"CHEBI_64240\",\"CHEBI_64241\",\"CHEBI_17754\",\"CHEBI_16016\",\"CHEBI_16904\",\"CHEBI_17922\",\"CHEBI_17310\",\"CHEBI_16871\",\"CHEBI_58856\",\"CHEBI_65111\",\"CHEBI_62242\",\"CHEBI_57386\",\"CHEBI_62077\",\"CHEBI_62620\",\"CHEBI_61406\",\"CHEBI_61430\",\"CHEBI_57330\",\"CHEBI_57375\",\"CHEBI_61405\",\"CHEBI_57385\",\"CHEBI_32304\",\"CHEBI_31157\",\"CHEBI_91126\",\"CHEBI_91130\",\"CHEBI_33384\",\"CHEBI_58213\",\"CHEBI_86399\",\"CHEBI_86400\",\"CHEBI_138440\",\"CHEBI_138441\",\"CHEBI_142605\",\"CHEBI_142621\",\"CHEBI_142615\",\"CHEBI_7610\",\"CHEBI_142616\",\"CHEBI_61748\",\"CHEBI_28903\",\"CHEBI_31457\",\"CHEBI_16188\",\"CHEBI_17935\",\"CHEBI_43003\",\"CHEBI_34787\",\"CHEBI_87393\",\"CHEBI_88528\",\"CHEBI_232\",\"CHEBI_15399\",\"CHEBI_15386\",\"CHEBI_16760\",\"CHEBI_16812\"],\"cluster_labels\":{\"__ndarray__\":\"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\",\"dtype\":\"int32\",\"order\":\"little\",\"shape\":[425]},\"color\":{\"__ndarray__\":\"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\",\"dtype\":\"int32\",\"order\":\"little\",\"shape\":[425]},\"u1\":{\"__ndarray__\":\"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\",\"dtype\":\"float32\",\"order\":\"little\",\"shape\":[425]},\"u2\":{\"__ndarray__\":\"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\",\"dtype\":\"float32\",\"order\":\"little\",\"shape\":[425]}},\"selected\":{\"id\":\"2322\"},\"selection_policy\":{\"id\":\"2344\"}},\"id\":\"2321\",\"type\":\"ColumnDataSource\"},{\"attributes\":{\"align\":null,\"below\":[{\"id\":\"2299\"}],\"center\":[{\"id\":\"2302\"},{\"id\":\"2306\"}],\"left\":[{\"id\":\"2303\"}],\"margin\":null,\"min_border_bottom\":10,\"min_border_left\":10,\"min_border_right\":10,\"min_border_top\":10,\"plot_height\":500,\"plot_width\":1000,\"renderers\":[{\"id\":\"2329\"}],\"right\":[{\"id\":\"2332\"}],\"sizing_mode\":\"fixed\",\"title\":{\"id\":\"2291\"},\"toolbar\":{\"id\":\"2313\"},\"x_range\":{\"id\":\"2287\"},\"x_scale\":{\"id\":\"2295\"},\"y_range\":{\"id\":\"2288\"},\"y_scale\":{\"id\":\"2297\"}},\"id\":\"2290\",\"subtype\":\"Figure\",\"type\":\"Plot\"},{\"attributes\":{\"text\":\"\",\"text_color\":{\"value\":\"black\"},\"text_font_size\":{\"value\":\"12pt\"}},\"id\":\"2291\",\"type\":\"Title\"},{\"attributes\":{},\"id\":\"2335\",\"type\":\"BasicTickFormatter\"},{\"attributes\":{},\"id\":\"2339\",\"type\":\"BasicTickFormatter\"},{\"attributes\":{\"high\":19,\"low\":0,\"palette\":[\"#d60000\",\"#8c3bff\",\"#018700\",\"#00acc6\",\"#97ff00\",\"#ff7ed1\",\"#6b004f\",\"#ffa52f\",\"#573b00\",\"#005659\",\"#0000dd\",\"#00fdcf\",\"#a17569\",\"#bcb6ff\",\"#95b577\",\"#bf03b8\",\"#645474\",\"#790000\",\"#0774d8\",\"#fdf490\"]},\"id\":\"2320\",\"type\":\"LinearColorMapper\"},{\"attributes\":{\"children\":[{\"id\":\"2286\"},{\"id\":\"2290\"},{\"id\":\"2356\"}],\"margin\":[0,0,0,0],\"name\":\"Row03323\",\"tags\":[\"embedded\"]},\"id\":\"2285\",\"type\":\"Row\"},{\"attributes\":{},\"id\":\"2295\",\"type\":\"LinearScale\"},{\"attributes\":{},\"id\":\"2322\",\"type\":\"Selection\"},{\"attributes\":{},\"id\":\"2344\",\"type\":\"UnionRenderers\"},{\"attributes\":{},\"id\":\"2297\",\"type\":\"LinearScale\"},{\"attributes\":{\"axis_label\":\"u1\",\"bounds\":\"auto\",\"formatter\":{\"id\":\"2335\"},\"major_label_orientation\":\"horizontal\",\"ticker\":{\"id\":\"2300\"}},\"id\":\"2299\",\"type\":\"LinearAxis\"},{\"attributes\":{},\"id\":\"2300\",\"type\":\"BasicTicker\"}],\"root_ids\":[\"2285\"]},\"title\":\"Bokeh Application\",\"version\":\"2.2.1\"}};\n",
       "  var render_items = [{\"docid\":\"629422e0-35ce-43b9-a736-a1d292b81ab0\",\"root_ids\":[\"2285\"],\"roots\":{\"2285\":\"3ff5d8b8-d990-472a-b66c-ab40a61e2082\"}}];\n",
       "  root.Bokeh.embed.embed_items_notebook(docs_json, render_items);\n",
       "  }\n",
       "if (root.Bokeh !== undefined) {\n",
       "    embed_document(root);\n",
       "  } else {\n",
       "    var attempts = 0;\n",
       "    var timer = setInterval(function(root) {\n",
       "      if (root.Bokeh !== undefined) {\n",
       "        clearInterval(timer);\n",
       "        embed_document(root);\n",
       "      } else if (document.readyState == \"complete\") {\n",
       "        attempts++;\n",
       "        if (attempts > 100) {\n",
       "          clearInterval(timer);\n",
       "          console.log(\"Bokeh: ERROR: Unable to run BokehJS code because BokehJS library is missing\");\n",
       "        }\n",
       "      }\n",
       "    }, 10, root)\n",
       "  }\n",
       "})(window);</script>"
      ],
      "text/plain": [
       ":Scatter   [u1]   (u2,cluster_labels,ChEBI)"
      ]
     },
     "execution_count": 169,
     "metadata": {
      "application/vnd.holoviews_exec.v0+json": {
       "id": "2285"
      }
     },
     "output_type": "execute_result"
    }
   ],
   "source": [
    "df_mols_uniq_noCF.hvplot.scatter(x=\"u1\", y=\"u2\", padding=0.05, width = 1000, height = 500, size = 55, alpha = 0.7, \n",
    "                     hover_cols=['ChEBI'], line_color='k', c = 'cluster_labels', clabel = 'clusters', cmap = cc.glasbey[:20])\n"
   ]
  },
  {
   "cell_type": "markdown",
   "metadata": {},
   "source": [
    "## This below is your best study guide! "
   ]
  },
  {
   "cell_type": "code",
   "execution_count": 173,
   "metadata": {},
   "outputs": [
    {
     "data": {
      "text/html": [
       "<div>\n",
       "<style scoped>\n",
       "    .dataframe tbody tr th:only-of-type {\n",
       "        vertical-align: middle;\n",
       "    }\n",
       "\n",
       "    .dataframe tbody tr th {\n",
       "        vertical-align: top;\n",
       "    }\n",
       "\n",
       "    .dataframe thead th {\n",
       "        text-align: right;\n",
       "    }\n",
       "</style>\n",
       "<table border=\"1\" class=\"dataframe\">\n",
       "  <thead>\n",
       "    <tr style=\"text-align: right;\">\n",
       "      <th></th>\n",
       "      <th>cluster</th>\n",
       "      <th>num_prots</th>\n",
       "    </tr>\n",
       "  </thead>\n",
       "  <tbody>\n",
       "    <tr>\n",
       "      <th>0</th>\n",
       "      <td>7</td>\n",
       "      <td>80</td>\n",
       "    </tr>\n",
       "    <tr>\n",
       "      <th>4</th>\n",
       "      <td>2</td>\n",
       "      <td>65</td>\n",
       "    </tr>\n",
       "    <tr>\n",
       "      <th>7</th>\n",
       "      <td>19</td>\n",
       "      <td>65</td>\n",
       "    </tr>\n",
       "    <tr>\n",
       "      <th>6</th>\n",
       "      <td>5</td>\n",
       "      <td>57</td>\n",
       "    </tr>\n",
       "    <tr>\n",
       "      <th>12</th>\n",
       "      <td>16</td>\n",
       "      <td>57</td>\n",
       "    </tr>\n",
       "    <tr>\n",
       "      <th>2</th>\n",
       "      <td>3</td>\n",
       "      <td>53</td>\n",
       "    </tr>\n",
       "    <tr>\n",
       "      <th>3</th>\n",
       "      <td>1</td>\n",
       "      <td>31</td>\n",
       "    </tr>\n",
       "    <tr>\n",
       "      <th>11</th>\n",
       "      <td>6</td>\n",
       "      <td>25</td>\n",
       "    </tr>\n",
       "    <tr>\n",
       "      <th>14</th>\n",
       "      <td>8</td>\n",
       "      <td>25</td>\n",
       "    </tr>\n",
       "    <tr>\n",
       "      <th>8</th>\n",
       "      <td>11</td>\n",
       "      <td>17</td>\n",
       "    </tr>\n",
       "    <tr>\n",
       "      <th>13</th>\n",
       "      <td>0</td>\n",
       "      <td>16</td>\n",
       "    </tr>\n",
       "    <tr>\n",
       "      <th>10</th>\n",
       "      <td>10</td>\n",
       "      <td>15</td>\n",
       "    </tr>\n",
       "    <tr>\n",
       "      <th>1</th>\n",
       "      <td>18</td>\n",
       "      <td>14</td>\n",
       "    </tr>\n",
       "    <tr>\n",
       "      <th>15</th>\n",
       "      <td>12</td>\n",
       "      <td>14</td>\n",
       "    </tr>\n",
       "    <tr>\n",
       "      <th>9</th>\n",
       "      <td>13</td>\n",
       "      <td>12</td>\n",
       "    </tr>\n",
       "    <tr>\n",
       "      <th>18</th>\n",
       "      <td>9</td>\n",
       "      <td>12</td>\n",
       "    </tr>\n",
       "    <tr>\n",
       "      <th>19</th>\n",
       "      <td>17</td>\n",
       "      <td>12</td>\n",
       "    </tr>\n",
       "    <tr>\n",
       "      <th>5</th>\n",
       "      <td>15</td>\n",
       "      <td>10</td>\n",
       "    </tr>\n",
       "    <tr>\n",
       "      <th>16</th>\n",
       "      <td>14</td>\n",
       "      <td>6</td>\n",
       "    </tr>\n",
       "    <tr>\n",
       "      <th>17</th>\n",
       "      <td>4</td>\n",
       "      <td>2</td>\n",
       "    </tr>\n",
       "  </tbody>\n",
       "</table>\n",
       "</div>"
      ],
      "text/plain": [
       "    cluster  num_prots\n",
       "0         7         80\n",
       "4         2         65\n",
       "7        19         65\n",
       "6         5         57\n",
       "12       16         57\n",
       "2         3         53\n",
       "3         1         31\n",
       "11        6         25\n",
       "14        8         25\n",
       "8        11         17\n",
       "13        0         16\n",
       "10       10         15\n",
       "1        18         14\n",
       "15       12         14\n",
       "9        13         12\n",
       "18        9         12\n",
       "19       17         12\n",
       "5        15         10\n",
       "16       14          6\n",
       "17        4          2"
      ]
     },
     "execution_count": 173,
     "metadata": {},
     "output_type": "execute_result"
    }
   ],
   "source": [
    "df_clust_count.sort_values(by = 'num_prots', ascending=False)"
   ]
  },
  {
   "cell_type": "markdown",
   "metadata": {},
   "source": [
    "# OTHER: "
   ]
  },
  {
   "cell_type": "markdown",
   "metadata": {},
   "source": [
    "## Alternative ways to cluster the substrates: "
   ]
  },
  {
   "cell_type": "markdown",
   "metadata": {},
   "source": [
    "BSL: puedes usar hbdscan para el clustering"
   ]
  },
  {
   "cell_type": "code",
   "execution_count": 144,
   "metadata": {},
   "outputs": [],
   "source": [
    "clustering = DBSCAN(eps=3, min_samples=2).fit(Xfp)\n",
    "df_mols_uniq_noCF['dbscan_labels'] = clustering.labels_"
   ]
  },
  {
   "cell_type": "code",
   "execution_count": 145,
   "metadata": {},
   "outputs": [
    {
     "data": {
      "application/vnd.holoviews_exec.v0+json": "",
      "text/html": [
       "<div id='2049'>\n",
       "\n",
       "\n",
       "\n",
       "\n",
       "\n",
       "  <div class=\"bk-root\" id=\"4ce40147-2d8d-49f6-8ff0-34eb56352310\" data-root-id=\"2049\"></div>\n",
       "</div>\n",
       "<script type=\"application/javascript\">(function(root) {\n",
       "  function embed_document(root) {\n",
       "  var docs_json = {\"58ddbadc-d3ad-418e-bde6-e8a5a8583eb6\":{\"roots\":{\"references\":[{\"attributes\":{\"end\":12.953059911727905,\"reset_end\":12.953059911727905,\"reset_start\":-1.1054761409759521,\"start\":-1.1054761409759521,\"tags\":[[[\"u1\",\"u1\",null]]]},\"id\":\"2051\",\"type\":\"Range1d\"},{\"attributes\":{\"fill_alpha\":{\"value\":0.7},\"fill_color\":{\"field\":\"color\",\"transform\":{\"id\":\"2084\"}},\"line_alpha\":{\"value\":0.7},\"line_color\":{\"value\":\"#000000\"},\"size\":{\"units\":\"screen\",\"value\":7.416198487095663},\"x\":{\"field\":\"u1\"},\"y\":{\"field\":\"u2\"}},\"id\":\"2091\",\"type\":\"Scatter\"},{\"attributes\":{\"fill_alpha\":{\"value\":0.2},\"fill_color\":{\"field\":\"color\",\"transform\":{\"id\":\"2084\"}},\"line_alpha\":{\"value\":0.2},\"line_color\":{\"value\":\"#000000\"},\"size\":{\"units\":\"screen\",\"value\":7.416198487095663},\"x\":{\"field\":\"u1\"},\"y\":{\"field\":\"u2\"}},\"id\":\"2092\",\"type\":\"Scatter\"},{\"attributes\":{\"fill_alpha\":{\"value\":0.7},\"fill_color\":{\"field\":\"color\",\"transform\":{\"id\":\"2084\"}},\"line_alpha\":{\"value\":0.7},\"line_color\":{\"value\":\"#000000\"},\"size\":{\"units\":\"screen\",\"value\":7.416198487095663},\"x\":{\"field\":\"u1\"},\"y\":{\"field\":\"u2\"}},\"id\":\"2090\",\"type\":\"Scatter\"},{\"attributes\":{\"end\":16.407610529661177,\"reset_end\":16.407610529661177,\"reset_start\":-1.8637723863124847,\"start\":-1.8637723863124847,\"tags\":[[[\"u2\",\"u2\",null]]]},\"id\":\"2052\",\"type\":\"Range1d\"},{\"attributes\":{},\"id\":\"2071\",\"type\":\"SaveTool\"},{\"attributes\":{\"overlay\":{\"id\":\"2076\"}},\"id\":\"2074\",\"type\":\"BoxZoomTool\"},{\"attributes\":{\"callback\":null,\"renderers\":[{\"id\":\"2093\"}],\"tags\":[\"hv_created\"],\"tooltips\":[[\"u1\",\"@{u1}\"],[\"u2\",\"@{u2}\"],[\"dbscan_labels\",\"@{dbscan_labels}\"],[\"ChEBI\",\"@{ChEBI}\"]]},\"id\":\"2053\",\"type\":\"HoverTool\"},{\"attributes\":{},\"id\":\"2095\",\"type\":\"BasicTicker\"},{\"attributes\":{\"fill_alpha\":{\"value\":0.7},\"fill_color\":{\"field\":\"color\",\"transform\":{\"id\":\"2084\"}},\"line_alpha\":{\"value\":0.7},\"line_color\":{\"value\":\"#000000\"},\"size\":{\"units\":\"screen\",\"value\":7.416198487095663},\"x\":{\"field\":\"u1\"},\"y\":{\"field\":\"u2\"}},\"id\":\"2089\",\"type\":\"Scatter\"},{\"attributes\":{},\"id\":\"2072\",\"type\":\"PanTool\"},{\"attributes\":{},\"id\":\"2073\",\"type\":\"WheelZoomTool\"},{\"attributes\":{},\"id\":\"2075\",\"type\":\"ResetTool\"},{\"attributes\":{\"active_drag\":\"auto\",\"active_inspect\":\"auto\",\"active_multi\":null,\"active_scroll\":\"auto\",\"active_tap\":\"auto\",\"tools\":[{\"id\":\"2053\"},{\"id\":\"2071\"},{\"id\":\"2072\"},{\"id\":\"2073\"},{\"id\":\"2074\"},{\"id\":\"2075\"}]},\"id\":\"2077\",\"type\":\"Toolbar\"},{\"attributes\":{\"bottom_units\":\"screen\",\"fill_alpha\":0.5,\"fill_color\":\"lightgrey\",\"left_units\":\"screen\",\"level\":\"overlay\",\"line_alpha\":1.0,\"line_color\":\"black\",\"line_dash\":[4,4],\"line_width\":2,\"right_units\":\"screen\",\"top_units\":\"screen\"},\"id\":\"2076\",\"type\":\"BoxAnnotation\"},{\"attributes\":{},\"id\":\"2101\",\"type\":\"BasicTickFormatter\"},{\"attributes\":{\"source\":{\"id\":\"2085\"}},\"id\":\"2094\",\"type\":\"CDSView\"},{\"attributes\":{\"data_source\":{\"id\":\"2085\"},\"glyph\":{\"id\":\"2088\"},\"hover_glyph\":{\"id\":\"2091\"},\"muted_glyph\":{\"id\":\"2092\"},\"nonselection_glyph\":{\"id\":\"2089\"},\"selection_glyph\":{\"id\":\"2090\"},\"view\":{\"id\":\"2094\"}},\"id\":\"2093\",\"type\":\"GlyphRenderer\"},{\"attributes\":{\"children\":[{\"id\":\"2050\"},{\"id\":\"2054\"},{\"id\":\"2120\"}],\"margin\":[0,0,0,0],\"name\":\"Row02963\",\"tags\":[\"embedded\"]},\"id\":\"2049\",\"type\":\"Row\"},{\"attributes\":{\"fill_alpha\":{\"value\":0.7},\"fill_color\":{\"field\":\"color\",\"transform\":{\"id\":\"2084\"}},\"line_alpha\":{\"value\":0.7},\"line_color\":{\"value\":\"#000000\"},\"size\":{\"units\":\"screen\",\"value\":7.416198487095663},\"x\":{\"field\":\"u1\"},\"y\":{\"field\":\"u2\"}},\"id\":\"2088\",\"type\":\"Scatter\"},{\"attributes\":{\"data\":{\"ChEBI\":[\"CHEBI_17336\",\"CHEBI_17898\",\"CHEBI_145109\",\"CHEBI_145110\",\"CHEBI_85440\",\"CHEBI_90725\",\"CHEBI_59458\",\"CHEBI_61723\",\"CHEBI_35235\",\"CHEBI_10986\",\"CHEBI_37563\",\"CHEBI_60377\",\"CHEBI_33019\",\"CHEBI_35346\",\"CHEBI_47787\",\"CHEBI_16469\",\"CHEBI_17263\",\"CHEBI_16827\",\"CHEBI_78600\",\"CHEBI_133995\",\"CHEBI_146208\",\"CHEBI_133996\",\"CHEBI_146209\",\"CHEBI_144481\",\"CHEBI_71494\",\"CHEBI_144485\",\"CHEBI_144482\",\"CHEBI_7518\",\"CHEBI_149469\",\"CHEBI_30616\",\"CHEBI_456216\",\"CHEBI_43474\",\"CHEBI_149473\",\"CHEBI_48300\",\"CHEBI_16023\",\"CHEBI_65004\",\"CHEBI_6698\",\"CHEBI_16935\",\"CHEBI_17937\",\"CHEBI_35349\",\"CHEBI_47789\",\"CHEBI_78605\",\"CHEBI_78604\",\"CHEBI_137880\",\"CHEBI_11893\",\"CHEBI_137882\",\"CHEBI_137881\",\"CHEBI_58463\",\"CHEBI_58061\",\"CHEBI_15734\",\"CHEBI_17478\",\"CHEBI_35681\",\"CHEBI_17087\",\"CHEBI_23614\",\"CHEBI_87734\",\"CHEBI_29744\",\"CHEBI_11867\",\"CHEBI_29747\",\"CHEBI_87736\",\"CHEBI_36234\",\"CHEBI_87731\",\"CHEBI_57554\",\"CHEBI_57851\",\"CHEBI_57493\",\"CHEBI_16813\",\"CHEBI_47693\",\"CHEBI_37721\",\"CHEBI_17924\",\"CHEBI_15402\",\"CHEBI_15410\",\"CHEBI_16619\",\"CHEBI_15894\",\"CHEBI_72949\",\"CHEBI_71487\",\"CHEBI_10983\",\"CHEBI_13705\",\"CHEBI_57817\",\"CHEBI_58299\",\"CHEBI_17151\",\"CHEBI_17399\",\"CHEBI_134214\",\"CHEBI_84970\",\"CHEBI_84966\",\"CHEBI_137886\",\"CHEBI_137789\",\"CHEBI_11901\",\"CHEBI_156270\",\"CHEBI_36252\",\"CHEBI_137818\",\"CHEBI_9407\",\"CHEBI_137724\",\"CHEBI_78827\",\"CHEBI_78776\",\"CHEBI_78611\",\"CHEBI_57286\",\"CHEBI_74280\",\"CHEBI_62418\",\"CHEBI_74272\",\"CHEBI_62548\",\"CHEBI_145657\",\"CHEBI_145675\",\"CHEBI_145658\",\"CHEBI_57312\",\"CHEBI_57335\",\"CHEBI_17347\",\"CHEBI_16422\",\"CHEBI_57318\",\"CHEBI_90726\",\"CHEBI_57316\",\"CHEBI_62613\",\"CHEBI_57349\",\"CHEBI_62617\",\"CHEBI_62619\",\"CHEBI_50169\",\"CHEBI_28952\",\"CHEBI_16330\",\"CHEBI_15994\",\"CHEBI_36713\",\"CHEBI_78594\",\"CHEBI_17650\",\"CHEBI_78595\",\"CHEBI_16962\",\"CHEBI_78596\",\"CHEBI_78601\",\"CHEBI_78602\",\"CHEBI_78603\",\"CHEBI_606564\",\"CHEBI_57400\",\"CHEBI_57397\",\"CHEBI_57401\",\"CHEBI_57409\",\"CHEBI_57410\",\"CHEBI_57398\",\"CHEBI_85072\",\"CHEBI_67026\",\"CHEBI_78311\",\"CHEBI_78325\",\"CHEBI_78329\",\"CHEBI_78836\",\"CHEBI_90697\",\"CHEBI_90866\",\"CHEBI_90867\",\"CHEBI_91000\",\"CHEBI_91001\",\"CHEBI_132079\",\"CHEBI_132080\",\"CHEBI_132081\",\"CHEBI_133367\",\"CHEBI_137497\",\"CHEBI_137498\",\"CHEBI_16032\",\"CHEBI_18329\",\"CHEBI_541975\",\"CHEBI_83228\",\"CHEBI_78785\",\"CHEBI_78784\",\"CHEBI_83348\",\"CHEBI_83350\",\"CHEBI_78272\",\"CHEBI_78273\",\"CHEBI_45479\",\"CHEBI_45487\",\"CHEBI_16302\",\"CHEBI_16066\",\"CHEBI_28689\",\"CHEBI_2710\",\"CHEBI_2495\",\"CHEBI_34133\",\"CHEBI_27967\",\"CHEBI_81481\",\"CHEBI_71407\",\"CHEBI_76374\",\"CHEBI_71481\",\"CHEBI_76411\",\"CHEBI_73852\",\"CHEBI_76415\",\"CHEBI_73863\",\"CHEBI_76460\",\"CHEBI_52386\",\"CHEBI_18252\",\"CHEBI_36836\",\"CHEBI_47788\",\"CHEBI_136486\",\"CHEBI_1949\",\"CHEBI_87056\",\"CHEBI_16608\",\"CHEBI_16899\",\"CHEBI_60084\",\"CHEBI_57634\",\"CHEBI_62989\",\"CHEBI_136698\",\"CHEBI_57373\",\"CHEBI_136700\",\"CHEBI_58810\",\"CHEBI_136701\",\"CHEBI_87438\",\"CHEBI_136703\",\"CHEBI_138842\",\"CHEBI_138843\",\"CHEBI_28889\",\"CHEBI_30156\",\"CHEBI_18391\",\"CHEBI_58143\",\"CHEBI_78450\",\"CHEBI_78451\",\"CHEBI_78456\",\"CHEBI_78457\",\"CHEBI_78460\",\"CHEBI_78461\",\"CHEBI_78464\",\"CHEBI_78466\",\"CHEBI_78478\",\"CHEBI_78480\",\"CHEBI_138406\",\"CHEBI_138407\",\"CHEBI_78818\",\"CHEBI_78983\",\"CHEBI_78824\",\"CHEBI_78987\",\"CHEBI_78826\",\"CHEBI_78988\",\"CHEBI_78820\",\"CHEBI_78984\",\"CHEBI_78822\",\"CHEBI_78986\",\"CHEBI_78823\",\"CHEBI_78985\",\"CHEBI_78453\",\"CHEBI_78454\",\"CHEBI_78481\",\"CHEBI_78483\",\"CHEBI_138403\",\"CHEBI_83989\",\"CHEBI_78467\",\"CHEBI_78468\",\"CHEBI_138610\",\"CHEBI_138611\",\"CHEBI_36257\",\"CHEBI_137820\",\"CHEBI_29746\",\"CHEBI_137824\",\"CHEBI_57453\",\"CHEBI_57451\",\"CHEBI_71175\",\"CHEBI_71177\",\"CHEBI_60087\",\"CHEBI_46951\",\"CHEBI_61451\",\"CHEBI_58642\",\"CHEBI_57319\",\"CHEBI_57315\",\"CHEBI_58764\",\"CHEBI_36654\",\"CHEBI_57406\",\"CHEBI_57408\",\"CHEBI_57404\",\"CHEBI_133409\",\"CHEBI_28869\",\"CHEBI_6746\",\"CHEBI_145544\",\"CHEBI_145547\",\"CHEBI_64677\",\"CHEBI_75296\",\"CHEBI_43029\",\"CHEBI_16095\",\"CHEBI_59560\",\"CHEBI_136564\",\"CHEBI_85101\",\"CHEBI_85493\",\"CHEBI_85099\",\"CHEBI_28453\",\"CHEBI_17026\",\"CHEBI_57990\",\"CHEBI_29071\",\"CHEBI_87841\",\"CHEBI_16973\",\"CHEBI_84358\",\"CHEBI_84310\",\"CHEBI_16510\",\"CHEBI_33190\",\"CHEBI_58585\",\"CHEBI_58320\",\"CHEBI_4167\",\"CHEBI_16217\",\"CHEBI_17855\",\"CHEBI_15377\",\"CHEBI_18035\",\"CHEBI_28868\",\"CHEBI_57518\",\"CHEBI_58303\",\"CHEBI_57534\",\"CHEBI_57970\",\"CHEBI_53753\",\"CHEBI_75945\",\"CHEBI_30823\",\"CHEBI_51510\",\"CHEBI_51507\",\"CHEBI_32922\",\"CHEBI_16205\",\"CHEBI_85899\",\"CHEBI_142603\",\"CHEBI_142591\",\"CHEBI_142604\",\"CHEBI_142592\",\"CHEBI_142606\",\"CHEBI_142593\",\"CHEBI_35986\",\"CHEBI_84268\",\"CHEBI_74279\",\"CHEBI_36835\",\"CHEBI_77900\",\"CHEBI_77933\",\"CHEBI_71536\",\"CHEBI_13172\",\"CHEBI_11987\",\"CHEBI_20476\",\"CHEBI_76271\",\"CHEBI_76270\",\"CHEBI_144824\",\"CHEBI_144823\",\"CHEBI_144831\",\"CHEBI_144830\",\"CHEBI_65066\",\"CHEBI_65067\",\"CHEBI_18011\",\"CHEBI_85278\",\"CHEBI_36729\",\"CHEBI_74276\",\"CHEBI_62615\",\"CHEBI_77899\",\"CHEBI_71533\",\"CHEBI_63931\",\"CHEBI_16945\",\"CHEBI_18365\",\"CHEBI_84788\",\"CHEBI_84790\",\"CHEBI_58371\",\"CHEBI_131847\",\"CHEBI_61904\",\"CHEBI_58246\",\"CHEBI_57695\",\"CHEBI_57608\",\"CHEBI_58121\",\"CHEBI_15687\",\"CHEBI_16583\",\"CHEBI_31181\",\"CHEBI_77994\",\"CHEBI_58458\",\"CHEBI_57552\",\"CHEBI_11909\",\"CHEBI_18202\",\"CHEBI_15389\",\"CHEBI_15400\",\"CHEBI_15406\",\"CHEBI_15408\",\"CHEBI_33857\",\"CHEBI_33855\",\"CHEBI_17987\",\"CHEBI_17169\",\"CHEBI_156307\",\"CHEBI_156308\",\"CHEBI_156306\",\"CHEBI_86559\",\"CHEBI_156310\",\"CHEBI_156309\",\"CHEBI_16346\",\"CHEBI_27632\",\"CHEBI_62244\",\"CHEBI_84793\",\"CHEBI_77559\",\"CHEBI_84791\",\"CHEBI_37047\",\"CHEBI_70779\",\"CHEBI_70780\",\"CHEBI_83357\",\"CHEBI_83356\",\"CHEBI_64240\",\"CHEBI_64241\",\"CHEBI_17754\",\"CHEBI_16016\",\"CHEBI_16904\",\"CHEBI_17922\",\"CHEBI_17310\",\"CHEBI_16871\",\"CHEBI_58856\",\"CHEBI_65111\",\"CHEBI_62242\",\"CHEBI_57386\",\"CHEBI_62077\",\"CHEBI_62620\",\"CHEBI_61406\",\"CHEBI_61430\",\"CHEBI_57330\",\"CHEBI_57375\",\"CHEBI_61405\",\"CHEBI_57385\",\"CHEBI_32304\",\"CHEBI_31157\",\"CHEBI_91126\",\"CHEBI_91130\",\"CHEBI_33384\",\"CHEBI_58213\",\"CHEBI_86399\",\"CHEBI_86400\",\"CHEBI_138440\",\"CHEBI_138441\",\"CHEBI_142605\",\"CHEBI_142621\",\"CHEBI_142615\",\"CHEBI_7610\",\"CHEBI_142616\",\"CHEBI_61748\",\"CHEBI_28903\",\"CHEBI_31457\",\"CHEBI_16188\",\"CHEBI_17935\",\"CHEBI_43003\",\"CHEBI_34787\",\"CHEBI_87393\",\"CHEBI_88528\",\"CHEBI_232\",\"CHEBI_15399\",\"CHEBI_15386\",\"CHEBI_16760\",\"CHEBI_16812\"],\"color\":[0,1,-1,-1,2,3,-1,-1,4,-1,-1,-1,5,-1,-1,-1,-1,-1,-1,6,7,6,7,-1,8,8,9,9,-1,10,10,5,-1,5,-1,-1,-1,-1,-1,-1,-1,11,12,13,-1,14,-1,-1,-1,5,5,5,5,-1,-1,-1,-1,13,-1,12,-1,15,-1,15,5,16,-1,5,-1,-1,-1,-1,-1,-1,-1,-1,-1,-1,5,-1,-1,-1,-1,17,-1,17,14,-1,-1,-1,-1,-1,-1,18,-1,-1,-1,19,20,-1,-1,-1,-1,-1,-1,-1,2,3,18,19,20,19,20,21,-1,22,-1,23,-1,-1,-1,-1,-1,-1,12,11,-1,-1,-1,-1,-1,-1,-1,-1,-1,-1,-1,-1,-1,-1,-1,-1,-1,-1,24,25,26,24,26,25,27,23,27,-1,-1,-1,-1,-1,0,1,0,1,0,1,-1,-1,-1,-1,-1,-1,20,19,28,29,28,29,-1,-1,-1,-1,30,-1,-1,-1,-1,-1,5,31,-1,-1,-1,-1,-1,-1,-1,32,33,32,33,-1,-1,-1,-1,-1,-1,34,35,34,35,34,35,34,35,-1,-1,-1,-1,34,35,34,35,-1,-1,-1,-1,-1,-1,-1,-1,36,37,36,-1,36,37,-1,-1,-1,-1,-1,-1,-1,-1,-1,-1,-1,-1,-1,-1,2,18,-1,-1,-1,-1,-1,-1,-1,-1,-1,-1,-1,-1,38,-1,-1,-1,39,-1,39,40,-1,-1,-1,-1,-1,-1,-1,-1,-1,-1,5,-1,-1,-1,5,-1,5,-1,-1,-1,-1,-1,-1,-1,-1,-1,-1,-1,-1,-1,-1,41,42,5,5,43,44,19,30,-1,-1,-1,16,-1,-1,-1,-1,-1,-1,-1,-1,-1,-1,23,22,40,19,20,-1,-1,-1,-1,-1,-1,-1,-1,-1,-1,-1,31,-1,-1,5,5,-1,-1,-1,-1,21,5,45,46,-1,-1,5,5,-1,-1,-1,-1,-1,-1,-1,-1,-1,-1,-1,-1,-1,-1,-1,-1,-1,-1,-1,38,-1,5,5,-1,-1,-1,-1,-1,-1,47,48,-1,48,47,48,47,48,47,48,49,50,49,50,4,5,-1,-1,-1,-1,5,5,-1,-1,41,42,43,44,43,44,43,44,43,44,45,46,-1,-1,5],\"dbscan_labels\":[0,1,-1,-1,2,3,-1,-1,4,-1,-1,-1,5,-1,-1,-1,-1,-1,-1,6,7,6,7,-1,8,8,9,9,-1,10,10,5,-1,5,-1,-1,-1,-1,-1,-1,-1,11,12,13,-1,14,-1,-1,-1,5,5,5,5,-1,-1,-1,-1,13,-1,12,-1,15,-1,15,5,16,-1,5,-1,-1,-1,-1,-1,-1,-1,-1,-1,-1,5,-1,-1,-1,-1,17,-1,17,14,-1,-1,-1,-1,-1,-1,18,-1,-1,-1,19,20,-1,-1,-1,-1,-1,-1,-1,2,3,18,19,20,19,20,21,-1,22,-1,23,-1,-1,-1,-1,-1,-1,12,11,-1,-1,-1,-1,-1,-1,-1,-1,-1,-1,-1,-1,-1,-1,-1,-1,-1,-1,24,25,26,24,26,25,27,23,27,-1,-1,-1,-1,-1,0,1,0,1,0,1,-1,-1,-1,-1,-1,-1,20,19,28,29,28,29,-1,-1,-1,-1,30,-1,-1,-1,-1,-1,5,31,-1,-1,-1,-1,-1,-1,-1,32,33,32,33,-1,-1,-1,-1,-1,-1,34,35,34,35,34,35,34,35,-1,-1,-1,-1,34,35,34,35,-1,-1,-1,-1,-1,-1,-1,-1,36,37,36,-1,36,37,-1,-1,-1,-1,-1,-1,-1,-1,-1,-1,-1,-1,-1,-1,2,18,-1,-1,-1,-1,-1,-1,-1,-1,-1,-1,-1,-1,38,-1,-1,-1,39,-1,39,40,-1,-1,-1,-1,-1,-1,-1,-1,-1,-1,5,-1,-1,-1,5,-1,5,-1,-1,-1,-1,-1,-1,-1,-1,-1,-1,-1,-1,-1,-1,41,42,5,5,43,44,19,30,-1,-1,-1,16,-1,-1,-1,-1,-1,-1,-1,-1,-1,-1,23,22,40,19,20,-1,-1,-1,-1,-1,-1,-1,-1,-1,-1,-1,31,-1,-1,5,5,-1,-1,-1,-1,21,5,45,46,-1,-1,5,5,-1,-1,-1,-1,-1,-1,-1,-1,-1,-1,-1,-1,-1,-1,-1,-1,-1,-1,-1,38,-1,5,5,-1,-1,-1,-1,-1,-1,47,48,-1,48,47,48,47,48,47,48,49,50,49,50,4,5,-1,-1,-1,-1,5,5,-1,-1,41,42,43,44,43,44,43,44,43,44,45,46,-1,-1,5],\"u1\":{\"__ndarray__\":\"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\",\"dtype\":\"float32\",\"order\":\"little\",\"shape\":[425]},\"u2\":{\"__ndarray__\":\"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\",\"dtype\":\"float32\",\"order\":\"little\",\"shape\":[425]}},\"selected\":{\"id\":\"2086\"},\"selection_policy\":{\"id\":\"2108\"}},\"id\":\"2085\",\"type\":\"ColumnDataSource\"},{\"attributes\":{\"align\":null,\"below\":[{\"id\":\"2063\"}],\"center\":[{\"id\":\"2066\"},{\"id\":\"2070\"}],\"left\":[{\"id\":\"2067\"}],\"margin\":null,\"min_border_bottom\":10,\"min_border_left\":10,\"min_border_right\":10,\"min_border_top\":10,\"plot_height\":500,\"plot_width\":1000,\"renderers\":[{\"id\":\"2093\"}],\"right\":[{\"id\":\"2096\"}],\"sizing_mode\":\"fixed\",\"title\":{\"id\":\"2055\"},\"toolbar\":{\"id\":\"2077\"},\"x_range\":{\"id\":\"2051\"},\"x_scale\":{\"id\":\"2059\"},\"y_range\":{\"id\":\"2052\"},\"y_scale\":{\"id\":\"2061\"}},\"id\":\"2054\",\"subtype\":\"Figure\",\"type\":\"Plot\"},{\"attributes\":{\"margin\":[5,5,5,5],\"name\":\"HSpacer02967\",\"sizing_mode\":\"stretch_width\"},\"id\":\"2050\",\"type\":\"Spacer\"},{\"attributes\":{\"bar_line_color\":\"black\",\"color_mapper\":{\"id\":\"2084\"},\"formatter\":{\"id\":\"2103\"},\"label_standoff\":8,\"location\":[0,0],\"major_tick_line_color\":\"black\",\"ticker\":{\"id\":\"2095\"},\"title\":\"clusters\"},\"id\":\"2096\",\"type\":\"ColorBar\"},{\"attributes\":{},\"id\":\"2103\",\"type\":\"BasicTickFormatter\"},{\"attributes\":{\"text\":\"\",\"text_color\":{\"value\":\"black\"},\"text_font_size\":{\"value\":\"12pt\"}},\"id\":\"2055\",\"type\":\"Title\"},{\"attributes\":{\"high\":50,\"low\":-50,\"palette\":[\"#d60000\",\"#8c3bff\",\"#018700\",\"#00acc6\",\"#97ff00\",\"#ff7ed1\",\"#6b004f\",\"#ffa52f\",\"#573b00\",\"#005659\",\"#0000dd\",\"#00fdcf\",\"#a17569\",\"#bcb6ff\",\"#95b577\",\"#bf03b8\",\"#645474\",\"#790000\",\"#0774d8\",\"#fdf490\",\"#004b00\",\"#8e7900\",\"#ff7266\",\"#edb8b8\",\"#5d7e66\",\"#9ae4ff\",\"#eb0077\",\"#a57bb8\",\"#5900a3\",\"#03c600\",\"#9e4b00\",\"#9c3b4f\",\"#cac300\",\"#708297\",\"#00af89\",\"#8287ff\",\"#5d363b\",\"#380000\",\"#fdbfff\",\"#bde6bf\",\"#db6d01\",\"#93b8b5\",\"#e452ff\",\"#2f5282\",\"#c36690\",\"#54621f\",\"#c49e72\",\"#038287\",\"#69e680\",\"#802690\",\"#6db3ff\",\"#4d33ff\"]},\"id\":\"2084\",\"type\":\"LinearColorMapper\"},{\"attributes\":{},\"id\":\"2086\",\"type\":\"Selection\"},{\"attributes\":{},\"id\":\"2059\",\"type\":\"LinearScale\"},{\"attributes\":{},\"id\":\"2068\",\"type\":\"BasicTicker\"},{\"attributes\":{},\"id\":\"2061\",\"type\":\"LinearScale\"},{\"attributes\":{\"axis_label\":\"u1\",\"bounds\":\"auto\",\"formatter\":{\"id\":\"2099\"},\"major_label_orientation\":\"horizontal\",\"ticker\":{\"id\":\"2064\"}},\"id\":\"2063\",\"type\":\"LinearAxis\"},{\"attributes\":{},\"id\":\"2108\",\"type\":\"UnionRenderers\"},{\"attributes\":{},\"id\":\"2064\",\"type\":\"BasicTicker\"},{\"attributes\":{},\"id\":\"2099\",\"type\":\"BasicTickFormatter\"},{\"attributes\":{\"axis\":{\"id\":\"2063\"},\"grid_line_color\":null,\"ticker\":null},\"id\":\"2066\",\"type\":\"Grid\"},{\"attributes\":{\"axis_label\":\"u2\",\"bounds\":\"auto\",\"formatter\":{\"id\":\"2101\"},\"major_label_orientation\":\"horizontal\",\"ticker\":{\"id\":\"2068\"}},\"id\":\"2067\",\"type\":\"LinearAxis\"},{\"attributes\":{\"margin\":[5,5,5,5],\"name\":\"HSpacer02968\",\"sizing_mode\":\"stretch_width\"},\"id\":\"2120\",\"type\":\"Spacer\"},{\"attributes\":{\"axis\":{\"id\":\"2067\"},\"dimension\":1,\"grid_line_color\":null,\"ticker\":null},\"id\":\"2070\",\"type\":\"Grid\"}],\"root_ids\":[\"2049\"]},\"title\":\"Bokeh Application\",\"version\":\"2.2.1\"}};\n",
       "  var render_items = [{\"docid\":\"58ddbadc-d3ad-418e-bde6-e8a5a8583eb6\",\"root_ids\":[\"2049\"],\"roots\":{\"2049\":\"4ce40147-2d8d-49f6-8ff0-34eb56352310\"}}];\n",
       "  root.Bokeh.embed.embed_items_notebook(docs_json, render_items);\n",
       "  }\n",
       "if (root.Bokeh !== undefined) {\n",
       "    embed_document(root);\n",
       "  } else {\n",
       "    var attempts = 0;\n",
       "    var timer = setInterval(function(root) {\n",
       "      if (root.Bokeh !== undefined) {\n",
       "        clearInterval(timer);\n",
       "        embed_document(root);\n",
       "      } else if (document.readyState == \"complete\") {\n",
       "        attempts++;\n",
       "        if (attempts > 100) {\n",
       "          clearInterval(timer);\n",
       "          console.log(\"Bokeh: ERROR: Unable to run BokehJS code because BokehJS library is missing\");\n",
       "        }\n",
       "      }\n",
       "    }, 10, root)\n",
       "  }\n",
       "})(window);</script>"
      ],
      "text/plain": [
       ":Scatter   [u1]   (u2,dbscan_labels,ChEBI)"
      ]
     },
     "execution_count": 145,
     "metadata": {
      "application/vnd.holoviews_exec.v0+json": {
       "id": "2049"
      }
     },
     "output_type": "execute_result"
    }
   ],
   "source": [
    "df_mols_uniq_noCF.hvplot.scatter(x=\"u1\", y=\"u2\", padding=0.05, width = 1000, height = 500, size = 55, alpha = 0.7, \n",
    "                     hover_cols=['ChEBI'], line_color='k', c = 'dbscan_labels', clabel = 'clusters', \n",
    "                                 cmap = cc.glasbey[:len(set(clustering.labels_))])\n"
   ]
  },
  {
   "cell_type": "code",
   "execution_count": 146,
   "metadata": {},
   "outputs": [
    {
     "data": {
      "text/plain": [
       "-1     263\n",
       " 5      27\n",
       " 35      6\n",
       " 19      6\n",
       "Name: dbscan_labels, dtype: int64"
      ]
     },
     "execution_count": 146,
     "metadata": {},
     "output_type": "execute_result"
    }
   ],
   "source": [
    "df_mols_uniq_noCF['dbscan_labels'].value_counts().head(4)"
   ]
  },
  {
   "cell_type": "code",
   "execution_count": null,
   "metadata": {},
   "outputs": [],
   "source": []
  }
 ],
 "metadata": {
  "kernelspec": {
   "display_name": "Python 3 (ipykernel)",
   "language": "python",
   "name": "python3"
  },
  "language_info": {
   "codemirror_mode": {
    "name": "ipython",
    "version": 3
   },
   "file_extension": ".py",
   "mimetype": "text/x-python",
   "name": "python",
   "nbconvert_exporter": "python",
   "pygments_lexer": "ipython3",
   "version": "3.8.10"
  }
 },
 "nbformat": 4,
 "nbformat_minor": 4
}
