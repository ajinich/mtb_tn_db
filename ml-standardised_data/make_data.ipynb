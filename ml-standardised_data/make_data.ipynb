{
 "cells": [
  {
   "cell_type": "code",
   "execution_count": 1,
   "metadata": {
    "ExecuteTime": {
     "end_time": "2020-02-12T15:55:30.806007Z",
     "start_time": "2020-02-12T15:55:30.448907Z"
    }
   },
   "outputs": [],
   "source": [
    "import os\n",
    "import pathlib\n",
    "\n",
    "import numpy as np\n",
    "import pandas as pd"
   ]
  },
  {
   "cell_type": "code",
   "execution_count": 2,
   "metadata": {
    "ExecuteTime": {
     "end_time": "2020-02-12T15:55:31.255646Z",
     "start_time": "2020-02-12T15:55:31.201761Z"
    }
   },
   "outputs": [
    {
     "data": {
      "text/html": [
       "<div>\n",
       "<style scoped>\n",
       "    .dataframe tbody tr th:only-of-type {\n",
       "        vertical-align: middle;\n",
       "    }\n",
       "\n",
       "    .dataframe tbody tr th {\n",
       "        vertical-align: top;\n",
       "    }\n",
       "\n",
       "    .dataframe thead th {\n",
       "        text-align: right;\n",
       "    }\n",
       "</style>\n",
       "<table border=\"1\" class=\"dataframe\">\n",
       "  <thead>\n",
       "    <tr style=\"text-align: right;\">\n",
       "      <th></th>\n",
       "      <th>Rv_ID</th>\n",
       "      <th>PE35_KO_vs_mbio_H37Rv</th>\n",
       "      <th>PPE68_KO_vs_mbio_H37Rv</th>\n",
       "      <th>Rv0950c_KO_vs_CB_WT</th>\n",
       "      <th>Rv0954_KO_vs_RJ_WT</th>\n",
       "      <th>Rv1096_KO_vs_CB_WT</th>\n",
       "      <th>Rv3005c_KO_day32_vs_dejesus_H37Rv_day32</th>\n",
       "      <th>Rv3594_KO_vs_Rubin_FLUTE_WT</th>\n",
       "      <th>Rv3684_KO_vs_CB_WT</th>\n",
       "      <th>Rv3717_KO_vs_Rubin_FLUTE_WT</th>\n",
       "      <th>...</th>\n",
       "      <th>zhang_AA_Rescue_vs_zhang_in_vitro_control_Rescue</th>\n",
       "      <th>zhang_DETA-NO_pH_7.0_vs_zhang_pH_7.0_no_NO_control</th>\n",
       "      <th>zhang_Fe_1.5mM_vs_zhang_Fe_450uM</th>\n",
       "      <th>zhang_Trp_Rescue_vs_zhang_in_vitro_control_Rescue</th>\n",
       "      <th>zhang_Tyloxapol_pH_6.5_vs_zhang_Tyloxapol_pH_4.5</th>\n",
       "      <th>zhang_Tyloxapol_pH_6.5_vs_zhang_pcit_pH_4.5</th>\n",
       "      <th>zhang_mhcii_mouse_d10_vs_zhang_wt_mouse_d10</th>\n",
       "      <th>zhang_mhcii_mouse_d45_vs_zhang_wt_mouse_d45</th>\n",
       "      <th>zhang_wt_mouse_d10_vs_zhang_input_library</th>\n",
       "      <th>zhang_wt_mouse_d45_vs_zhang_input_library</th>\n",
       "    </tr>\n",
       "  </thead>\n",
       "  <tbody>\n",
       "    <tr>\n",
       "      <th>0</th>\n",
       "      <td>Rv0001</td>\n",
       "      <td>-0.41</td>\n",
       "      <td>0.01</td>\n",
       "      <td>0.00</td>\n",
       "      <td>0.00</td>\n",
       "      <td>0.00</td>\n",
       "      <td>3.12</td>\n",
       "      <td>-0.06</td>\n",
       "      <td>0.00</td>\n",
       "      <td>-0.06</td>\n",
       "      <td>...</td>\n",
       "      <td>0.00</td>\n",
       "      <td>0.00</td>\n",
       "      <td>0.00</td>\n",
       "      <td>0.00</td>\n",
       "      <td>0.00</td>\n",
       "      <td>0.00</td>\n",
       "      <td>0.00</td>\n",
       "      <td>0.00</td>\n",
       "      <td>0.00</td>\n",
       "      <td>0.00</td>\n",
       "    </tr>\n",
       "    <tr>\n",
       "      <th>1</th>\n",
       "      <td>Rv0002</td>\n",
       "      <td>3.28</td>\n",
       "      <td>2.38</td>\n",
       "      <td>0.00</td>\n",
       "      <td>0.00</td>\n",
       "      <td>0.00</td>\n",
       "      <td>0.00</td>\n",
       "      <td>0.00</td>\n",
       "      <td>0.00</td>\n",
       "      <td>0.00</td>\n",
       "      <td>...</td>\n",
       "      <td>0.00</td>\n",
       "      <td>0.00</td>\n",
       "      <td>0.00</td>\n",
       "      <td>0.00</td>\n",
       "      <td>0.00</td>\n",
       "      <td>0.00</td>\n",
       "      <td>0.00</td>\n",
       "      <td>0.00</td>\n",
       "      <td>0.00</td>\n",
       "      <td>0.00</td>\n",
       "    </tr>\n",
       "    <tr>\n",
       "      <th>2</th>\n",
       "      <td>Rv0003</td>\n",
       "      <td>-0.03</td>\n",
       "      <td>-0.08</td>\n",
       "      <td>0.03</td>\n",
       "      <td>-1.20</td>\n",
       "      <td>0.39</td>\n",
       "      <td>3.83</td>\n",
       "      <td>0.31</td>\n",
       "      <td>0.17</td>\n",
       "      <td>-0.62</td>\n",
       "      <td>...</td>\n",
       "      <td>-2.93</td>\n",
       "      <td>-0.31</td>\n",
       "      <td>1.09</td>\n",
       "      <td>-2.13</td>\n",
       "      <td>0.51</td>\n",
       "      <td>0.41</td>\n",
       "      <td>1.30</td>\n",
       "      <td>-0.49</td>\n",
       "      <td>-1.26</td>\n",
       "      <td>-2.25</td>\n",
       "    </tr>\n",
       "    <tr>\n",
       "      <th>3</th>\n",
       "      <td>Rv0004</td>\n",
       "      <td>-3.81</td>\n",
       "      <td>-3.39</td>\n",
       "      <td>-2.60</td>\n",
       "      <td>-6.83</td>\n",
       "      <td>1.54</td>\n",
       "      <td>0.00</td>\n",
       "      <td>1.79</td>\n",
       "      <td>1.08</td>\n",
       "      <td>4.91</td>\n",
       "      <td>...</td>\n",
       "      <td>-3.56</td>\n",
       "      <td>0.00</td>\n",
       "      <td>1.96</td>\n",
       "      <td>-3.56</td>\n",
       "      <td>0.00</td>\n",
       "      <td>0.00</td>\n",
       "      <td>0.00</td>\n",
       "      <td>0.70</td>\n",
       "      <td>-2.62</td>\n",
       "      <td>-2.62</td>\n",
       "    </tr>\n",
       "    <tr>\n",
       "      <th>4</th>\n",
       "      <td>Rv0005</td>\n",
       "      <td>-0.22</td>\n",
       "      <td>0.14</td>\n",
       "      <td>0.13</td>\n",
       "      <td>-0.08</td>\n",
       "      <td>0.27</td>\n",
       "      <td>-2.38</td>\n",
       "      <td>0.70</td>\n",
       "      <td>-0.71</td>\n",
       "      <td>-0.37</td>\n",
       "      <td>...</td>\n",
       "      <td>-1.47</td>\n",
       "      <td>-0.89</td>\n",
       "      <td>-2.36</td>\n",
       "      <td>-1.89</td>\n",
       "      <td>2.90</td>\n",
       "      <td>2.20</td>\n",
       "      <td>-4.05</td>\n",
       "      <td>0.30</td>\n",
       "      <td>0.69</td>\n",
       "      <td>-3.55</td>\n",
       "    </tr>\n",
       "  </tbody>\n",
       "</table>\n",
       "<p>5 rows × 65 columns</p>\n",
       "</div>"
      ],
      "text/plain": [
       "    Rv_ID  PE35_KO_vs_mbio_H37Rv  PPE68_KO_vs_mbio_H37Rv  Rv0950c_KO_vs_CB_WT  \\\n",
       "0  Rv0001                  -0.41                    0.01                 0.00   \n",
       "1  Rv0002                   3.28                    2.38                 0.00   \n",
       "2  Rv0003                  -0.03                   -0.08                 0.03   \n",
       "3  Rv0004                  -3.81                   -3.39                -2.60   \n",
       "4  Rv0005                  -0.22                    0.14                 0.13   \n",
       "\n",
       "   Rv0954_KO_vs_RJ_WT  Rv1096_KO_vs_CB_WT  \\\n",
       "0                0.00                0.00   \n",
       "1                0.00                0.00   \n",
       "2               -1.20                0.39   \n",
       "3               -6.83                1.54   \n",
       "4               -0.08                0.27   \n",
       "\n",
       "   Rv3005c_KO_day32_vs_dejesus_H37Rv_day32  Rv3594_KO_vs_Rubin_FLUTE_WT  \\\n",
       "0                                     3.12                        -0.06   \n",
       "1                                     0.00                         0.00   \n",
       "2                                     3.83                         0.31   \n",
       "3                                     0.00                         1.79   \n",
       "4                                    -2.38                         0.70   \n",
       "\n",
       "   Rv3684_KO_vs_CB_WT  Rv3717_KO_vs_Rubin_FLUTE_WT  ...  \\\n",
       "0                0.00                        -0.06  ...   \n",
       "1                0.00                         0.00  ...   \n",
       "2                0.17                        -0.62  ...   \n",
       "3                1.08                         4.91  ...   \n",
       "4               -0.71                        -0.37  ...   \n",
       "\n",
       "   zhang_AA_Rescue_vs_zhang_in_vitro_control_Rescue  \\\n",
       "0                                              0.00   \n",
       "1                                              0.00   \n",
       "2                                             -2.93   \n",
       "3                                             -3.56   \n",
       "4                                             -1.47   \n",
       "\n",
       "   zhang_DETA-NO_pH_7.0_vs_zhang_pH_7.0_no_NO_control  \\\n",
       "0                                               0.00    \n",
       "1                                               0.00    \n",
       "2                                              -0.31    \n",
       "3                                               0.00    \n",
       "4                                              -0.89    \n",
       "\n",
       "   zhang_Fe_1.5mM_vs_zhang_Fe_450uM  \\\n",
       "0                              0.00   \n",
       "1                              0.00   \n",
       "2                              1.09   \n",
       "3                              1.96   \n",
       "4                             -2.36   \n",
       "\n",
       "   zhang_Trp_Rescue_vs_zhang_in_vitro_control_Rescue  \\\n",
       "0                                               0.00   \n",
       "1                                               0.00   \n",
       "2                                              -2.13   \n",
       "3                                              -3.56   \n",
       "4                                              -1.89   \n",
       "\n",
       "   zhang_Tyloxapol_pH_6.5_vs_zhang_Tyloxapol_pH_4.5  \\\n",
       "0                                              0.00   \n",
       "1                                              0.00   \n",
       "2                                              0.51   \n",
       "3                                              0.00   \n",
       "4                                              2.90   \n",
       "\n",
       "   zhang_Tyloxapol_pH_6.5_vs_zhang_pcit_pH_4.5  \\\n",
       "0                                         0.00   \n",
       "1                                         0.00   \n",
       "2                                         0.41   \n",
       "3                                         0.00   \n",
       "4                                         2.20   \n",
       "\n",
       "   zhang_mhcii_mouse_d10_vs_zhang_wt_mouse_d10  \\\n",
       "0                                         0.00   \n",
       "1                                         0.00   \n",
       "2                                         1.30   \n",
       "3                                         0.00   \n",
       "4                                        -4.05   \n",
       "\n",
       "   zhang_mhcii_mouse_d45_vs_zhang_wt_mouse_d45  \\\n",
       "0                                         0.00   \n",
       "1                                         0.00   \n",
       "2                                        -0.49   \n",
       "3                                         0.70   \n",
       "4                                         0.30   \n",
       "\n",
       "   zhang_wt_mouse_d10_vs_zhang_input_library  \\\n",
       "0                                       0.00   \n",
       "1                                       0.00   \n",
       "2                                      -1.26   \n",
       "3                                      -2.62   \n",
       "4                                       0.69   \n",
       "\n",
       "   zhang_wt_mouse_d45_vs_zhang_input_library  \n",
       "0                                       0.00  \n",
       "1                                       0.00  \n",
       "2                                      -2.25  \n",
       "3                                      -2.62  \n",
       "4                                      -3.55  \n",
       "\n",
       "[5 rows x 65 columns]"
      ]
     },
     "execution_count": 2,
     "metadata": {},
     "output_type": "execute_result"
    }
   ],
   "source": [
    "lfc = pd.read_csv(\n",
    "    '../data/standardized_data/result_logfc_matrix_2020_08_27.csv')\n",
    "lfc.head()"
   ]
  },
  {
   "cell_type": "code",
   "execution_count": 3,
   "metadata": {
    "ExecuteTime": {
     "end_time": "2020-02-12T15:55:32.652269Z",
     "start_time": "2020-02-12T15:55:32.608351Z"
    }
   },
   "outputs": [
    {
     "data": {
      "text/html": [
       "<div>\n",
       "<style scoped>\n",
       "    .dataframe tbody tr th:only-of-type {\n",
       "        vertical-align: middle;\n",
       "    }\n",
       "\n",
       "    .dataframe tbody tr th {\n",
       "        vertical-align: top;\n",
       "    }\n",
       "\n",
       "    .dataframe thead th {\n",
       "        text-align: right;\n",
       "    }\n",
       "</style>\n",
       "<table border=\"1\" class=\"dataframe\">\n",
       "  <thead>\n",
       "    <tr style=\"text-align: right;\">\n",
       "      <th></th>\n",
       "      <th>Rv_ID</th>\n",
       "      <th>PE35_KO_vs_mbio_H37Rv</th>\n",
       "      <th>PPE68_KO_vs_mbio_H37Rv</th>\n",
       "      <th>Rv0950c_KO_vs_CB_WT</th>\n",
       "      <th>Rv0954_KO_vs_RJ_WT</th>\n",
       "      <th>Rv1096_KO_vs_CB_WT</th>\n",
       "      <th>Rv3005c_KO_day32_vs_dejesus_H37Rv_day32</th>\n",
       "      <th>Rv3594_KO_vs_Rubin_FLUTE_WT</th>\n",
       "      <th>Rv3684_KO_vs_CB_WT</th>\n",
       "      <th>Rv3717_KO_vs_Rubin_FLUTE_WT</th>\n",
       "      <th>...</th>\n",
       "      <th>zhang_AA_Rescue_vs_zhang_in_vitro_control_Rescue</th>\n",
       "      <th>zhang_DETA-NO_pH_7.0_vs_zhang_pH_7.0_no_NO_control</th>\n",
       "      <th>zhang_Fe_1.5mM_vs_zhang_Fe_450uM</th>\n",
       "      <th>zhang_Trp_Rescue_vs_zhang_in_vitro_control_Rescue</th>\n",
       "      <th>zhang_Tyloxapol_pH_6.5_vs_zhang_Tyloxapol_pH_4.5</th>\n",
       "      <th>zhang_Tyloxapol_pH_6.5_vs_zhang_pcit_pH_4.5</th>\n",
       "      <th>zhang_mhcii_mouse_d10_vs_zhang_wt_mouse_d10</th>\n",
       "      <th>zhang_mhcii_mouse_d45_vs_zhang_wt_mouse_d45</th>\n",
       "      <th>zhang_wt_mouse_d10_vs_zhang_input_library</th>\n",
       "      <th>zhang_wt_mouse_d45_vs_zhang_input_library</th>\n",
       "    </tr>\n",
       "  </thead>\n",
       "  <tbody>\n",
       "    <tr>\n",
       "      <th>0</th>\n",
       "      <td>Rv0001</td>\n",
       "      <td>1.0</td>\n",
       "      <td>1.0</td>\n",
       "      <td>1.0</td>\n",
       "      <td>1.00000</td>\n",
       "      <td>1.0</td>\n",
       "      <td>0.73174</td>\n",
       "      <td>1.0</td>\n",
       "      <td>1.0</td>\n",
       "      <td>1.0</td>\n",
       "      <td>...</td>\n",
       "      <td>1.0</td>\n",
       "      <td>1.0</td>\n",
       "      <td>1.00000</td>\n",
       "      <td>1.0</td>\n",
       "      <td>1.0</td>\n",
       "      <td>1.00000</td>\n",
       "      <td>1.0</td>\n",
       "      <td>1.0</td>\n",
       "      <td>1.0</td>\n",
       "      <td>1.00000</td>\n",
       "    </tr>\n",
       "    <tr>\n",
       "      <th>1</th>\n",
       "      <td>Rv0002</td>\n",
       "      <td>1.0</td>\n",
       "      <td>1.0</td>\n",
       "      <td>1.0</td>\n",
       "      <td>1.00000</td>\n",
       "      <td>1.0</td>\n",
       "      <td>1.00000</td>\n",
       "      <td>1.0</td>\n",
       "      <td>1.0</td>\n",
       "      <td>1.0</td>\n",
       "      <td>...</td>\n",
       "      <td>1.0</td>\n",
       "      <td>1.0</td>\n",
       "      <td>1.00000</td>\n",
       "      <td>1.0</td>\n",
       "      <td>1.0</td>\n",
       "      <td>1.00000</td>\n",
       "      <td>1.0</td>\n",
       "      <td>1.0</td>\n",
       "      <td>1.0</td>\n",
       "      <td>1.00000</td>\n",
       "    </tr>\n",
       "    <tr>\n",
       "      <th>2</th>\n",
       "      <td>Rv0003</td>\n",
       "      <td>1.0</td>\n",
       "      <td>1.0</td>\n",
       "      <td>1.0</td>\n",
       "      <td>0.43844</td>\n",
       "      <td>1.0</td>\n",
       "      <td>0.47324</td>\n",
       "      <td>1.0</td>\n",
       "      <td>1.0</td>\n",
       "      <td>1.0</td>\n",
       "      <td>...</td>\n",
       "      <td>1.0</td>\n",
       "      <td>1.0</td>\n",
       "      <td>0.68823</td>\n",
       "      <td>1.0</td>\n",
       "      <td>1.0</td>\n",
       "      <td>0.99313</td>\n",
       "      <td>1.0</td>\n",
       "      <td>1.0</td>\n",
       "      <td>1.0</td>\n",
       "      <td>0.06052</td>\n",
       "    </tr>\n",
       "    <tr>\n",
       "      <th>3</th>\n",
       "      <td>Rv0004</td>\n",
       "      <td>1.0</td>\n",
       "      <td>1.0</td>\n",
       "      <td>1.0</td>\n",
       "      <td>1.00000</td>\n",
       "      <td>1.0</td>\n",
       "      <td>1.00000</td>\n",
       "      <td>1.0</td>\n",
       "      <td>1.0</td>\n",
       "      <td>1.0</td>\n",
       "      <td>...</td>\n",
       "      <td>1.0</td>\n",
       "      <td>1.0</td>\n",
       "      <td>1.00000</td>\n",
       "      <td>1.0</td>\n",
       "      <td>1.0</td>\n",
       "      <td>1.00000</td>\n",
       "      <td>1.0</td>\n",
       "      <td>1.0</td>\n",
       "      <td>1.0</td>\n",
       "      <td>0.81749</td>\n",
       "    </tr>\n",
       "    <tr>\n",
       "      <th>4</th>\n",
       "      <td>Rv0005</td>\n",
       "      <td>1.0</td>\n",
       "      <td>1.0</td>\n",
       "      <td>1.0</td>\n",
       "      <td>1.00000</td>\n",
       "      <td>1.0</td>\n",
       "      <td>0.62111</td>\n",
       "      <td>1.0</td>\n",
       "      <td>1.0</td>\n",
       "      <td>1.0</td>\n",
       "      <td>...</td>\n",
       "      <td>1.0</td>\n",
       "      <td>1.0</td>\n",
       "      <td>1.00000</td>\n",
       "      <td>1.0</td>\n",
       "      <td>1.0</td>\n",
       "      <td>0.70716</td>\n",
       "      <td>1.0</td>\n",
       "      <td>1.0</td>\n",
       "      <td>1.0</td>\n",
       "      <td>0.37106</td>\n",
       "    </tr>\n",
       "  </tbody>\n",
       "</table>\n",
       "<p>5 rows × 65 columns</p>\n",
       "</div>"
      ],
      "text/plain": [
       "    Rv_ID  PE35_KO_vs_mbio_H37Rv  PPE68_KO_vs_mbio_H37Rv  Rv0950c_KO_vs_CB_WT  \\\n",
       "0  Rv0001                    1.0                     1.0                  1.0   \n",
       "1  Rv0002                    1.0                     1.0                  1.0   \n",
       "2  Rv0003                    1.0                     1.0                  1.0   \n",
       "3  Rv0004                    1.0                     1.0                  1.0   \n",
       "4  Rv0005                    1.0                     1.0                  1.0   \n",
       "\n",
       "   Rv0954_KO_vs_RJ_WT  Rv1096_KO_vs_CB_WT  \\\n",
       "0             1.00000                 1.0   \n",
       "1             1.00000                 1.0   \n",
       "2             0.43844                 1.0   \n",
       "3             1.00000                 1.0   \n",
       "4             1.00000                 1.0   \n",
       "\n",
       "   Rv3005c_KO_day32_vs_dejesus_H37Rv_day32  Rv3594_KO_vs_Rubin_FLUTE_WT  \\\n",
       "0                                  0.73174                          1.0   \n",
       "1                                  1.00000                          1.0   \n",
       "2                                  0.47324                          1.0   \n",
       "3                                  1.00000                          1.0   \n",
       "4                                  0.62111                          1.0   \n",
       "\n",
       "   Rv3684_KO_vs_CB_WT  Rv3717_KO_vs_Rubin_FLUTE_WT  ...  \\\n",
       "0                 1.0                          1.0  ...   \n",
       "1                 1.0                          1.0  ...   \n",
       "2                 1.0                          1.0  ...   \n",
       "3                 1.0                          1.0  ...   \n",
       "4                 1.0                          1.0  ...   \n",
       "\n",
       "   zhang_AA_Rescue_vs_zhang_in_vitro_control_Rescue  \\\n",
       "0                                               1.0   \n",
       "1                                               1.0   \n",
       "2                                               1.0   \n",
       "3                                               1.0   \n",
       "4                                               1.0   \n",
       "\n",
       "   zhang_DETA-NO_pH_7.0_vs_zhang_pH_7.0_no_NO_control  \\\n",
       "0                                                1.0    \n",
       "1                                                1.0    \n",
       "2                                                1.0    \n",
       "3                                                1.0    \n",
       "4                                                1.0    \n",
       "\n",
       "   zhang_Fe_1.5mM_vs_zhang_Fe_450uM  \\\n",
       "0                           1.00000   \n",
       "1                           1.00000   \n",
       "2                           0.68823   \n",
       "3                           1.00000   \n",
       "4                           1.00000   \n",
       "\n",
       "   zhang_Trp_Rescue_vs_zhang_in_vitro_control_Rescue  \\\n",
       "0                                                1.0   \n",
       "1                                                1.0   \n",
       "2                                                1.0   \n",
       "3                                                1.0   \n",
       "4                                                1.0   \n",
       "\n",
       "   zhang_Tyloxapol_pH_6.5_vs_zhang_Tyloxapol_pH_4.5  \\\n",
       "0                                               1.0   \n",
       "1                                               1.0   \n",
       "2                                               1.0   \n",
       "3                                               1.0   \n",
       "4                                               1.0   \n",
       "\n",
       "   zhang_Tyloxapol_pH_6.5_vs_zhang_pcit_pH_4.5  \\\n",
       "0                                      1.00000   \n",
       "1                                      1.00000   \n",
       "2                                      0.99313   \n",
       "3                                      1.00000   \n",
       "4                                      0.70716   \n",
       "\n",
       "   zhang_mhcii_mouse_d10_vs_zhang_wt_mouse_d10  \\\n",
       "0                                          1.0   \n",
       "1                                          1.0   \n",
       "2                                          1.0   \n",
       "3                                          1.0   \n",
       "4                                          1.0   \n",
       "\n",
       "   zhang_mhcii_mouse_d45_vs_zhang_wt_mouse_d45  \\\n",
       "0                                          1.0   \n",
       "1                                          1.0   \n",
       "2                                          1.0   \n",
       "3                                          1.0   \n",
       "4                                          1.0   \n",
       "\n",
       "   zhang_wt_mouse_d10_vs_zhang_input_library  \\\n",
       "0                                        1.0   \n",
       "1                                        1.0   \n",
       "2                                        1.0   \n",
       "3                                        1.0   \n",
       "4                                        1.0   \n",
       "\n",
       "   zhang_wt_mouse_d45_vs_zhang_input_library  \n",
       "0                                    1.00000  \n",
       "1                                    1.00000  \n",
       "2                                    0.06052  \n",
       "3                                    0.81749  \n",
       "4                                    0.37106  \n",
       "\n",
       "[5 rows x 65 columns]"
      ]
     },
     "execution_count": 3,
     "metadata": {},
     "output_type": "execute_result"
    }
   ],
   "source": [
    "qval = pd.read_csv(\n",
    "    '../data/standardized_data/result_qval_matrix_2020_08_27.csv')\n",
    "qval.head()"
   ]
  },
  {
   "cell_type": "code",
   "execution_count": 4,
   "metadata": {
    "ExecuteTime": {
     "end_time": "2020-02-12T15:55:35.623276Z",
     "start_time": "2020-02-12T15:55:35.615324Z"
    }
   },
   "outputs": [],
   "source": [
    "assert (lfc.columns == qval.columns).all()"
   ]
  },
  {
   "cell_type": "code",
   "execution_count": 5,
   "metadata": {
    "ExecuteTime": {
     "end_time": "2020-02-12T15:55:36.390789Z",
     "start_time": "2020-02-12T15:55:36.384779Z"
    }
   },
   "outputs": [
    {
     "data": {
      "text/plain": [
       "Rv_ID                                           0\n",
       "PE35_KO_vs_mbio_H37Rv                          65\n",
       "PPE68_KO_vs_mbio_H37Rv                         65\n",
       "Rv0950c_KO_vs_CB_WT                            65\n",
       "Rv0954_KO_vs_RJ_WT                             65\n",
       "                                               ..\n",
       "zhang_Tyloxapol_pH_6.5_vs_zhang_pcit_pH_4.5    65\n",
       "zhang_mhcii_mouse_d10_vs_zhang_wt_mouse_d10    65\n",
       "zhang_mhcii_mouse_d45_vs_zhang_wt_mouse_d45    65\n",
       "zhang_wt_mouse_d10_vs_zhang_input_library      65\n",
       "zhang_wt_mouse_d45_vs_zhang_input_library      65\n",
       "Length: 65, dtype: int64"
      ]
     },
     "execution_count": 5,
     "metadata": {},
     "output_type": "execute_result"
    }
   ],
   "source": [
    "lfc.isna().sum()"
   ]
  },
  {
   "cell_type": "code",
   "execution_count": 6,
   "metadata": {
    "ExecuteTime": {
     "end_time": "2020-02-12T15:55:38.197329Z",
     "start_time": "2020-02-12T15:55:38.192317Z"
    }
   },
   "outputs": [
    {
     "data": {
      "text/plain": [
       "Rv_ID                                           0\n",
       "PE35_KO_vs_mbio_H37Rv                          65\n",
       "PPE68_KO_vs_mbio_H37Rv                         65\n",
       "Rv0950c_KO_vs_CB_WT                            65\n",
       "Rv0954_KO_vs_RJ_WT                             65\n",
       "                                               ..\n",
       "zhang_Tyloxapol_pH_6.5_vs_zhang_pcit_pH_4.5    65\n",
       "zhang_mhcii_mouse_d10_vs_zhang_wt_mouse_d10    65\n",
       "zhang_mhcii_mouse_d45_vs_zhang_wt_mouse_d45    65\n",
       "zhang_wt_mouse_d10_vs_zhang_input_library      65\n",
       "zhang_wt_mouse_d45_vs_zhang_input_library      65\n",
       "Length: 65, dtype: int64"
      ]
     },
     "execution_count": 6,
     "metadata": {},
     "output_type": "execute_result"
    }
   ],
   "source": [
    "qval.isna().sum()"
   ]
  },
  {
   "cell_type": "code",
   "execution_count": 7,
   "metadata": {
    "ExecuteTime": {
     "end_time": "2020-02-12T15:55:39.797226Z",
     "start_time": "2020-02-12T15:55:39.792239Z"
    }
   },
   "outputs": [
    {
     "data": {
      "text/plain": [
       "array(['Rv0061c', 'Rv0064A', 'Rv0078B', 'Rv0157A', 'Rv0186Ac', 'Rv0229Ac',\n",
       "       'Rv0277Ac', 'Rv0397A', 'Rv0456B', 'Rv0530Ac', 'Rv0616A', 'Rv0691A',\n",
       "       'Rv0744Ac', 'Rv0959A', 'Rv1144Ac', 'Rv1366A', 'Rv1735Ac', 'Rv1792',\n",
       "       'Rv1792A', 'Rv1954A', 'Rv1962A', 'Rv1982A', 'Rv1984A', 'Rv1991A',\n",
       "       'Rv2023A', 'Rv2063A', 'Rv2077Bc', 'Rv2098c', 'Rv2099c', 'Rv2142A',\n",
       "       'Rv2190Ac', 'Rv2231Ac', 'Rv2231B', 'Rv2237A', 'Rv2255A', 'Rv2274A',\n",
       "       'Rv2309Xc', 'Rv2386A', 'Rv2395A', 'Rv2395B', 'Rv2427Ac', 'Rv2468A',\n",
       "       'Rv2512A', 'Rv2548A', 'Rv2643A', 'Rv2801A', 'Rv2828A', 'Rv2856A',\n",
       "       'Rv2856B', 'Rv2862A', 'Rv2873A', 'Rv2964B', 'Rv2975A', 'Rv3018Bc',\n",
       "       'Rv3032A', 'Rv3098A', 'Rv3098B', 'Rv3136A', 'Rv3190A', 'Rv3202A',\n",
       "       'Rv3372A', 'Rv3666B', 'Rv3697A', 'Rv3749Ac', 'Rv3857Ac'],\n",
       "      dtype=object)"
      ]
     },
     "execution_count": 7,
     "metadata": {},
     "output_type": "execute_result"
    }
   ],
   "source": [
    "lfc[lfc['PE35_KO_vs_mbio_H37Rv'].isna() == True]['Rv_ID'].unique()"
   ]
  },
  {
   "cell_type": "code",
   "execution_count": 8,
   "metadata": {
    "ExecuteTime": {
     "end_time": "2020-02-12T15:55:46.357777Z",
     "start_time": "2020-02-12T15:55:46.351795Z"
    }
   },
   "outputs": [
    {
     "data": {
      "text/plain": [
       "array(['Rv0061c', 'Rv0064A', 'Rv0078B', 'Rv0157A', 'Rv0186Ac', 'Rv0229Ac',\n",
       "       'Rv0277Ac', 'Rv0397A', 'Rv0456B', 'Rv0530Ac', 'Rv0616A', 'Rv0691A',\n",
       "       'Rv0744Ac', 'Rv0959A', 'Rv1144Ac', 'Rv1366A', 'Rv1735Ac', 'Rv1792',\n",
       "       'Rv1792A', 'Rv1954A', 'Rv1962A', 'Rv1982A', 'Rv1984A', 'Rv1991A',\n",
       "       'Rv2023A', 'Rv2063A', 'Rv2077Bc', 'Rv2098c', 'Rv2099c', 'Rv2142A',\n",
       "       'Rv2190Ac', 'Rv2231Ac', 'Rv2231B', 'Rv2237A', 'Rv2255A', 'Rv2274A',\n",
       "       'Rv2309Xc', 'Rv2386A', 'Rv2395A', 'Rv2395B', 'Rv2427Ac', 'Rv2468A',\n",
       "       'Rv2512A', 'Rv2548A', 'Rv2643A', 'Rv2801A', 'Rv2828A', 'Rv2856A',\n",
       "       'Rv2856B', 'Rv2862A', 'Rv2873A', 'Rv2964B', 'Rv2975A', 'Rv3018Bc',\n",
       "       'Rv3032A', 'Rv3098A', 'Rv3098B', 'Rv3136A', 'Rv3190A', 'Rv3202A',\n",
       "       'Rv3372A', 'Rv3666B', 'Rv3697A', 'Rv3749Ac', 'Rv3857Ac'],\n",
       "      dtype=object)"
      ]
     },
     "execution_count": 8,
     "metadata": {},
     "output_type": "execute_result"
    }
   ],
   "source": [
    "qval[qval['PE35_KO_vs_mbio_H37Rv'].isna() == True]['Rv_ID'].unique()"
   ]
  },
  {
   "cell_type": "code",
   "execution_count": 9,
   "metadata": {
    "ExecuteTime": {
     "end_time": "2020-02-12T15:55:49.161338Z",
     "start_time": "2020-02-12T15:55:49.151365Z"
    }
   },
   "outputs": [
    {
     "name": "stdout",
     "output_type": "stream",
     "text": [
      "(4055, 65) (4055, 65)\n",
      "(3971, 65) (3971, 65)\n"
     ]
    }
   ],
   "source": [
    "print(lfc.shape, qval.shape)\n",
    "lfc = lfc.dropna(axis=0)\n",
    "qval = qval.dropna(axis=0)\n",
    "print(lfc.shape, qval.shape)"
   ]
  },
  {
   "cell_type": "code",
   "execution_count": 10,
   "metadata": {
    "ExecuteTime": {
     "end_time": "2020-02-12T15:55:53.380556Z",
     "start_time": "2020-02-12T15:55:53.376538Z"
    }
   },
   "outputs": [],
   "source": [
    "assert (lfc.columns == qval.columns).all()\n",
    "assert (lfc.Rv_ID == qval.Rv_ID).all()"
   ]
  },
  {
   "cell_type": "code",
   "execution_count": 11,
   "metadata": {
    "ExecuteTime": {
     "end_time": "2020-02-12T15:56:18.483686Z",
     "start_time": "2020-02-12T15:56:18.240325Z"
    }
   },
   "outputs": [
    {
     "data": {
      "text/html": [
       "<div>\n",
       "<style scoped>\n",
       "    .dataframe tbody tr th:only-of-type {\n",
       "        vertical-align: middle;\n",
       "    }\n",
       "\n",
       "    .dataframe tbody tr th {\n",
       "        vertical-align: top;\n",
       "    }\n",
       "\n",
       "    .dataframe thead th {\n",
       "        text-align: right;\n",
       "    }\n",
       "</style>\n",
       "<table border=\"1\" class=\"dataframe\">\n",
       "  <thead>\n",
       "    <tr style=\"text-align: right;\">\n",
       "      <th></th>\n",
       "      <th>Refseq_ID</th>\n",
       "      <th>Feature</th>\n",
       "      <th>Rv_ID</th>\n",
       "      <th>Name</th>\n",
       "      <th>Function</th>\n",
       "      <th>Product</th>\n",
       "      <th>Comments</th>\n",
       "      <th>Functional_Category</th>\n",
       "    </tr>\n",
       "  </thead>\n",
       "  <tbody>\n",
       "    <tr>\n",
       "      <th>0</th>\n",
       "      <td>NC_000962.3</td>\n",
       "      <td>CDS</td>\n",
       "      <td>Rv3728</td>\n",
       "      <td>Rv3728</td>\n",
       "      <td>Unknown, but seems involved in efflux system (...</td>\n",
       "      <td>Probable conserved two-domain membrane protein</td>\n",
       "      <td>Rv3728, (MTV025.076), len: 1065 aa. Probable c...</td>\n",
       "      <td>cell wall and cell processes</td>\n",
       "    </tr>\n",
       "    <tr>\n",
       "      <th>1</th>\n",
       "      <td>NC_000962.3</td>\n",
       "      <td>CDS</td>\n",
       "      <td>Rv3729</td>\n",
       "      <td>Rv3729</td>\n",
       "      <td>Function unknown; probably involved in cellula...</td>\n",
       "      <td>Possible transferase</td>\n",
       "      <td>Rv3729, (MTV025.077), len: 776 aa. Conserved h...</td>\n",
       "      <td>intermediary metabolism and respiration</td>\n",
       "    </tr>\n",
       "    <tr>\n",
       "      <th>2</th>\n",
       "      <td>NC_000962.3</td>\n",
       "      <td>CDS</td>\n",
       "      <td>Rv3730c</td>\n",
       "      <td>Rv3730c</td>\n",
       "      <td>Function unknown</td>\n",
       "      <td>Conserved hypothetical protein</td>\n",
       "      <td>Rv3730c, (MTV025.078c), len: 346 aa. Conserved...</td>\n",
       "      <td>conserved hypotheticals</td>\n",
       "    </tr>\n",
       "    <tr>\n",
       "      <th>3</th>\n",
       "      <td>NC_000962.3</td>\n",
       "      <td>CDS</td>\n",
       "      <td>Rv3760</td>\n",
       "      <td>Rv3760</td>\n",
       "      <td>Unknown</td>\n",
       "      <td>Possible conserved membrane protein</td>\n",
       "      <td>Rv3760, (MTV025.108), len: 100 aa. Possible co...</td>\n",
       "      <td>cell wall and cell processes</td>\n",
       "    </tr>\n",
       "    <tr>\n",
       "      <th>4</th>\n",
       "      <td>NC_000962.3</td>\n",
       "      <td>CDS</td>\n",
       "      <td>Rv3732</td>\n",
       "      <td>Rv3732</td>\n",
       "      <td>Function unknown</td>\n",
       "      <td>Conserved protein</td>\n",
       "      <td>Rv3732, (MTV025.080), len: 352 aa. Conserved p...</td>\n",
       "      <td>conserved hypotheticals</td>\n",
       "    </tr>\n",
       "  </tbody>\n",
       "</table>\n",
       "</div>"
      ],
      "text/plain": [
       "     Refseq_ID Feature    Rv_ID     Name  \\\n",
       "0  NC_000962.3     CDS   Rv3728   Rv3728   \n",
       "1  NC_000962.3     CDS   Rv3729   Rv3729   \n",
       "2  NC_000962.3     CDS  Rv3730c  Rv3730c   \n",
       "3  NC_000962.3     CDS   Rv3760   Rv3760   \n",
       "4  NC_000962.3     CDS   Rv3732   Rv3732   \n",
       "\n",
       "                                            Function  \\\n",
       "0  Unknown, but seems involved in efflux system (...   \n",
       "1  Function unknown; probably involved in cellula...   \n",
       "2                                   Function unknown   \n",
       "3                                            Unknown   \n",
       "4                                   Function unknown   \n",
       "\n",
       "                                          Product  \\\n",
       "0  Probable conserved two-domain membrane protein   \n",
       "1                            Possible transferase   \n",
       "2                  Conserved hypothetical protein   \n",
       "3             Possible conserved membrane protein   \n",
       "4                               Conserved protein   \n",
       "\n",
       "                                            Comments  \\\n",
       "0  Rv3728, (MTV025.076), len: 1065 aa. Probable c...   \n",
       "1  Rv3729, (MTV025.077), len: 776 aa. Conserved h...   \n",
       "2  Rv3730c, (MTV025.078c), len: 346 aa. Conserved...   \n",
       "3  Rv3760, (MTV025.108), len: 100 aa. Possible co...   \n",
       "4  Rv3732, (MTV025.080), len: 352 aa. Conserved p...   \n",
       "\n",
       "                       Functional_Category  \n",
       "0             cell wall and cell processes  \n",
       "1  intermediary metabolism and respiration  \n",
       "2                  conserved hypotheticals  \n",
       "3             cell wall and cell processes  \n",
       "4                  conserved hypotheticals  "
      ]
     },
     "execution_count": 11,
     "metadata": {},
     "output_type": "execute_result"
    }
   ],
   "source": [
    "mcbwser = pd.read_excel(pathlib.Path.cwd().parents[0].joinpath(\n",
    "    'data', 'annotations', 'Mycobacterium_tuberculosis_H37Rv_txt_v3.xlsx'))\n",
    "mcbwser.head()"
   ]
  },
  {
   "cell_type": "code",
   "execution_count": 12,
   "metadata": {
    "ExecuteTime": {
     "end_time": "2020-02-12T15:56:20.331333Z",
     "start_time": "2020-02-12T15:56:20.320392Z"
    }
   },
   "outputs": [
    {
     "data": {
      "text/html": [
       "<div>\n",
       "<style scoped>\n",
       "    .dataframe tbody tr th:only-of-type {\n",
       "        vertical-align: middle;\n",
       "    }\n",
       "\n",
       "    .dataframe tbody tr th {\n",
       "        vertical-align: top;\n",
       "    }\n",
       "\n",
       "    .dataframe thead th {\n",
       "        text-align: right;\n",
       "    }\n",
       "</style>\n",
       "<table border=\"1\" class=\"dataframe\">\n",
       "  <thead>\n",
       "    <tr style=\"text-align: right;\">\n",
       "      <th></th>\n",
       "      <th>Refseq_ID</th>\n",
       "      <th>Feature</th>\n",
       "      <th>Rv_ID</th>\n",
       "      <th>Name</th>\n",
       "      <th>Function</th>\n",
       "      <th>Product</th>\n",
       "      <th>Comments</th>\n",
       "      <th>Functional_Category</th>\n",
       "    </tr>\n",
       "  </thead>\n",
       "  <tbody>\n",
       "    <tr>\n",
       "      <th>1339</th>\n",
       "      <td>NC_000962.3</td>\n",
       "      <td>promoter</td>\n",
       "      <td>Rv3571</td>\n",
       "      <td>kshB</td>\n",
       "      <td>Predicted to be involved in lipid catabolism</td>\n",
       "      <td>Reductase component of 3-ketosteroid-9-alpha-h...</td>\n",
       "      <td>Rv3571, (MTCY06G11.18), len: 358 aa. kshB, red...</td>\n",
       "      <td>intermediary metabolism and respiration</td>\n",
       "    </tr>\n",
       "    <tr>\n",
       "      <th>1340</th>\n",
       "      <td>NC_000962.3</td>\n",
       "      <td>CDS</td>\n",
       "      <td>Rv3571</td>\n",
       "      <td>kshB</td>\n",
       "      <td>Predicted to be involved in lipid catabolism</td>\n",
       "      <td>Reductase component of 3-ketosteroid-9-alpha-h...</td>\n",
       "      <td>Rv3571, (MTCY06G11.18), len: 358 aa. kshB, red...</td>\n",
       "      <td>intermediary metabolism and respiration</td>\n",
       "    </tr>\n",
       "    <tr>\n",
       "      <th>1572</th>\n",
       "      <td>NC_000962.3</td>\n",
       "      <td>CDS</td>\n",
       "      <td>Rv0148</td>\n",
       "      <td>Rv0148</td>\n",
       "      <td>Function unknown; possibly involved in cellula...</td>\n",
       "      <td>Probable short-chain type dehydrogenase/reductase</td>\n",
       "      <td>Rv0148, (MTCI5.22), len: 286 aa. Probable shor...</td>\n",
       "      <td>intermediary metabolism and respiration</td>\n",
       "    </tr>\n",
       "    <tr>\n",
       "      <th>2410</th>\n",
       "      <td>NC_000962.3</td>\n",
       "      <td>-10_signal</td>\n",
       "      <td>MTB000063</td>\n",
       "      <td>mcr11</td>\n",
       "      <td>Unknown</td>\n",
       "      <td>Putative small regulatory RNA</td>\n",
       "      <td>mcr11, putative small regulatory RNA (See DiCh...</td>\n",
       "      <td>stable RNAs</td>\n",
       "    </tr>\n",
       "    <tr>\n",
       "      <th>2411</th>\n",
       "      <td>NC_000962.3</td>\n",
       "      <td>-35_signal</td>\n",
       "      <td>MTB000063</td>\n",
       "      <td>mcr11</td>\n",
       "      <td>Unknown</td>\n",
       "      <td>Putative small regulatory RNA</td>\n",
       "      <td>mcr11, putative small regulatory RNA (See DiCh...</td>\n",
       "      <td>stable RNAs</td>\n",
       "    </tr>\n",
       "    <tr>\n",
       "      <th>2414</th>\n",
       "      <td>NC_000962.3</td>\n",
       "      <td>-10_signal</td>\n",
       "      <td>Rv1219c</td>\n",
       "      <td>Rv1219c</td>\n",
       "      <td>Involved in transcriptional mechanism.</td>\n",
       "      <td>Probable transcriptional regulatory protein</td>\n",
       "      <td>Rv1219c, (MTCI61.02c), len: 212 aa. Probable t...</td>\n",
       "      <td>regulatory proteins</td>\n",
       "    </tr>\n",
       "    <tr>\n",
       "      <th>2415</th>\n",
       "      <td>NC_000962.3</td>\n",
       "      <td>-35_signal</td>\n",
       "      <td>Rv1219c</td>\n",
       "      <td>Rv1219c</td>\n",
       "      <td>Involved in transcriptional mechanism.</td>\n",
       "      <td>Probable transcriptional regulatory protein</td>\n",
       "      <td>Rv1219c, (MTCI61.02c), len: 212 aa. Probable t...</td>\n",
       "      <td>regulatory proteins</td>\n",
       "    </tr>\n",
       "    <tr>\n",
       "      <th>2962</th>\n",
       "      <td>NC_000962.3</td>\n",
       "      <td>-10_signal</td>\n",
       "      <td>Rv1964</td>\n",
       "      <td>yrbE3A</td>\n",
       "      <td>Unknown</td>\n",
       "      <td>Conserved hypothetical integral membrane prote...</td>\n",
       "      <td>Rv1964, (MTV051.02), len: 265 aa. YrbE3A, hypo...</td>\n",
       "      <td>virulence, detoxification, adaptation</td>\n",
       "    </tr>\n",
       "    <tr>\n",
       "      <th>2963</th>\n",
       "      <td>NC_000962.3</td>\n",
       "      <td>CDS</td>\n",
       "      <td>Rv1964</td>\n",
       "      <td>yrbE3A</td>\n",
       "      <td>Unknown</td>\n",
       "      <td>Conserved hypothetical integral membrane prote...</td>\n",
       "      <td>Rv1964, (MTV051.02), len: 265 aa. YrbE3A, hypo...</td>\n",
       "      <td>virulence, detoxification, adaptation</td>\n",
       "    </tr>\n",
       "    <tr>\n",
       "      <th>2991</th>\n",
       "      <td>NC_000962.3</td>\n",
       "      <td>promoter</td>\n",
       "      <td>Rv1994c</td>\n",
       "      <td>cmtR</td>\n",
       "      <td>Represses transcription from the CMT operator-...</td>\n",
       "      <td>Metal sensor transcriptional regulator CmtR (A...</td>\n",
       "      <td>Rv1994c, (MTCY39.25), len: 118 aa. CmtR, trans...</td>\n",
       "      <td>regulatory proteins</td>\n",
       "    </tr>\n",
       "    <tr>\n",
       "      <th>3649</th>\n",
       "      <td>NC_000962.3</td>\n",
       "      <td>promoter</td>\n",
       "      <td>Rv2940c</td>\n",
       "      <td>mas</td>\n",
       "      <td>Catalyzes the elongation of N-fatty acyl-CoA w...</td>\n",
       "      <td>Probable multifunctional mycocerosic acid synt...</td>\n",
       "      <td>Rv2940c, (MTCY24G1.09, MTCY19H9.08c), len: 211...</td>\n",
       "      <td>lipid metabolism</td>\n",
       "    </tr>\n",
       "    <tr>\n",
       "      <th>3650</th>\n",
       "      <td>NC_000962.3</td>\n",
       "      <td>promoter</td>\n",
       "      <td>Rv2940c</td>\n",
       "      <td>mas</td>\n",
       "      <td>Catalyzes the elongation of N-fatty acyl-CoA w...</td>\n",
       "      <td>Probable multifunctional mycocerosic acid synt...</td>\n",
       "      <td>Rv2940c, (MTCY24G1.09, MTCY19H9.08c), len: 211...</td>\n",
       "      <td>lipid metabolism</td>\n",
       "    </tr>\n",
       "    <tr>\n",
       "      <th>3902</th>\n",
       "      <td>NC_000962.3</td>\n",
       "      <td>-10_signal</td>\n",
       "      <td>Rv3287c</td>\n",
       "      <td>rsbW</td>\n",
       "      <td>Binds to sigma and blocks its ability to form ...</td>\n",
       "      <td>Anti-sigma factor RsbW (sigma negative effector)</td>\n",
       "      <td>Rv3287c, (MTCY71.27c), len: 145 aa. RsbW (alte...</td>\n",
       "      <td>information pathways</td>\n",
       "    </tr>\n",
       "    <tr>\n",
       "      <th>3903</th>\n",
       "      <td>NC_000962.3</td>\n",
       "      <td>-35_signal</td>\n",
       "      <td>Rv3287c</td>\n",
       "      <td>rsbW</td>\n",
       "      <td>Binds to sigma and blocks its ability to form ...</td>\n",
       "      <td>Anti-sigma factor RsbW (sigma negative effector)</td>\n",
       "      <td>Rv3287c, (MTCY71.27c), len: 145 aa. RsbW (alte...</td>\n",
       "      <td>information pathways</td>\n",
       "    </tr>\n",
       "  </tbody>\n",
       "</table>\n",
       "</div>"
      ],
      "text/plain": [
       "        Refseq_ID     Feature      Rv_ID     Name  \\\n",
       "1339  NC_000962.3    promoter     Rv3571     kshB   \n",
       "1340  NC_000962.3         CDS     Rv3571     kshB   \n",
       "1572  NC_000962.3         CDS     Rv0148   Rv0148   \n",
       "2410  NC_000962.3  -10_signal  MTB000063    mcr11   \n",
       "2411  NC_000962.3  -35_signal  MTB000063    mcr11   \n",
       "2414  NC_000962.3  -10_signal    Rv1219c  Rv1219c   \n",
       "2415  NC_000962.3  -35_signal    Rv1219c  Rv1219c   \n",
       "2962  NC_000962.3  -10_signal     Rv1964   yrbE3A   \n",
       "2963  NC_000962.3         CDS     Rv1964   yrbE3A   \n",
       "2991  NC_000962.3    promoter    Rv1994c     cmtR   \n",
       "3649  NC_000962.3    promoter    Rv2940c      mas   \n",
       "3650  NC_000962.3    promoter    Rv2940c      mas   \n",
       "3902  NC_000962.3  -10_signal    Rv3287c     rsbW   \n",
       "3903  NC_000962.3  -35_signal    Rv3287c     rsbW   \n",
       "\n",
       "                                               Function  \\\n",
       "1339       Predicted to be involved in lipid catabolism   \n",
       "1340       Predicted to be involved in lipid catabolism   \n",
       "1572  Function unknown; possibly involved in cellula...   \n",
       "2410                                            Unknown   \n",
       "2411                                            Unknown   \n",
       "2414             Involved in transcriptional mechanism.   \n",
       "2415             Involved in transcriptional mechanism.   \n",
       "2962                                            Unknown   \n",
       "2963                                            Unknown   \n",
       "2991  Represses transcription from the CMT operator-...   \n",
       "3649  Catalyzes the elongation of N-fatty acyl-CoA w...   \n",
       "3650  Catalyzes the elongation of N-fatty acyl-CoA w...   \n",
       "3902  Binds to sigma and blocks its ability to form ...   \n",
       "3903  Binds to sigma and blocks its ability to form ...   \n",
       "\n",
       "                                                Product  \\\n",
       "1339  Reductase component of 3-ketosteroid-9-alpha-h...   \n",
       "1340  Reductase component of 3-ketosteroid-9-alpha-h...   \n",
       "1572  Probable short-chain type dehydrogenase/reductase   \n",
       "2410                      Putative small regulatory RNA   \n",
       "2411                      Putative small regulatory RNA   \n",
       "2414        Probable transcriptional regulatory protein   \n",
       "2415        Probable transcriptional regulatory protein   \n",
       "2962  Conserved hypothetical integral membrane prote...   \n",
       "2963  Conserved hypothetical integral membrane prote...   \n",
       "2991  Metal sensor transcriptional regulator CmtR (A...   \n",
       "3649  Probable multifunctional mycocerosic acid synt...   \n",
       "3650  Probable multifunctional mycocerosic acid synt...   \n",
       "3902   Anti-sigma factor RsbW (sigma negative effector)   \n",
       "3903   Anti-sigma factor RsbW (sigma negative effector)   \n",
       "\n",
       "                                               Comments  \\\n",
       "1339  Rv3571, (MTCY06G11.18), len: 358 aa. kshB, red...   \n",
       "1340  Rv3571, (MTCY06G11.18), len: 358 aa. kshB, red...   \n",
       "1572  Rv0148, (MTCI5.22), len: 286 aa. Probable shor...   \n",
       "2410  mcr11, putative small regulatory RNA (See DiCh...   \n",
       "2411  mcr11, putative small regulatory RNA (See DiCh...   \n",
       "2414  Rv1219c, (MTCI61.02c), len: 212 aa. Probable t...   \n",
       "2415  Rv1219c, (MTCI61.02c), len: 212 aa. Probable t...   \n",
       "2962  Rv1964, (MTV051.02), len: 265 aa. YrbE3A, hypo...   \n",
       "2963  Rv1964, (MTV051.02), len: 265 aa. YrbE3A, hypo...   \n",
       "2991  Rv1994c, (MTCY39.25), len: 118 aa. CmtR, trans...   \n",
       "3649  Rv2940c, (MTCY24G1.09, MTCY19H9.08c), len: 211...   \n",
       "3650  Rv2940c, (MTCY24G1.09, MTCY19H9.08c), len: 211...   \n",
       "3902  Rv3287c, (MTCY71.27c), len: 145 aa. RsbW (alte...   \n",
       "3903  Rv3287c, (MTCY71.27c), len: 145 aa. RsbW (alte...   \n",
       "\n",
       "                          Functional_Category  \n",
       "1339  intermediary metabolism and respiration  \n",
       "1340  intermediary metabolism and respiration  \n",
       "1572  intermediary metabolism and respiration  \n",
       "2410                              stable RNAs  \n",
       "2411                              stable RNAs  \n",
       "2414                      regulatory proteins  \n",
       "2415                      regulatory proteins  \n",
       "2962    virulence, detoxification, adaptation  \n",
       "2963    virulence, detoxification, adaptation  \n",
       "2991                      regulatory proteins  \n",
       "3649                         lipid metabolism  \n",
       "3650                         lipid metabolism  \n",
       "3902                     information pathways  \n",
       "3903                     information pathways  "
      ]
     },
     "execution_count": 12,
     "metadata": {},
     "output_type": "execute_result"
    }
   ],
   "source": [
    "mcbwser[mcbwser['Rv_ID'].duplicated()]"
   ]
  },
  {
   "cell_type": "code",
   "execution_count": 13,
   "metadata": {
    "ExecuteTime": {
     "end_time": "2020-02-12T15:56:22.101692Z",
     "start_time": "2020-02-12T15:56:22.095714Z"
    }
   },
   "outputs": [],
   "source": [
    "mcbwser = mcbwser.drop_duplicates(subset=['Rv_ID'])"
   ]
  },
  {
   "cell_type": "markdown",
   "metadata": {},
   "source": [
    "Creating a new data frame by merging using the RvID"
   ]
  },
  {
   "cell_type": "code",
   "execution_count": 14,
   "metadata": {
    "ExecuteTime": {
     "end_time": "2020-02-12T15:56:22.784253Z",
     "start_time": "2020-02-12T15:56:22.768283Z"
    }
   },
   "outputs": [],
   "source": [
    "lfc_mb = pd.merge(lfc, mcbwser[['Rv_ID', 'Functional_Category']],\n",
    "                  how='left', on='Rv_ID')\n",
    "qval_mb = pd.merge(qval, mcbwser[['Rv_ID', 'Functional_Category']],\n",
    "                   how='left', on='Rv_ID')"
   ]
  },
  {
   "cell_type": "code",
   "execution_count": 15,
   "metadata": {},
   "outputs": [
    {
     "data": {
      "text/html": [
       "<div>\n",
       "<style scoped>\n",
       "    .dataframe tbody tr th:only-of-type {\n",
       "        vertical-align: middle;\n",
       "    }\n",
       "\n",
       "    .dataframe tbody tr th {\n",
       "        vertical-align: top;\n",
       "    }\n",
       "\n",
       "    .dataframe thead th {\n",
       "        text-align: right;\n",
       "    }\n",
       "</style>\n",
       "<table border=\"1\" class=\"dataframe\">\n",
       "  <thead>\n",
       "    <tr style=\"text-align: right;\">\n",
       "      <th></th>\n",
       "      <th>Rv_ID</th>\n",
       "      <th>PE35_KO_vs_mbio_H37Rv</th>\n",
       "      <th>PPE68_KO_vs_mbio_H37Rv</th>\n",
       "      <th>Rv0950c_KO_vs_CB_WT</th>\n",
       "      <th>Rv0954_KO_vs_RJ_WT</th>\n",
       "      <th>Rv1096_KO_vs_CB_WT</th>\n",
       "      <th>Rv3005c_KO_day32_vs_dejesus_H37Rv_day32</th>\n",
       "      <th>Rv3594_KO_vs_Rubin_FLUTE_WT</th>\n",
       "      <th>Rv3684_KO_vs_CB_WT</th>\n",
       "      <th>Rv3717_KO_vs_Rubin_FLUTE_WT</th>\n",
       "      <th>...</th>\n",
       "      <th>zhang_DETA-NO_pH_7.0_vs_zhang_pH_7.0_no_NO_control</th>\n",
       "      <th>zhang_Fe_1.5mM_vs_zhang_Fe_450uM</th>\n",
       "      <th>zhang_Trp_Rescue_vs_zhang_in_vitro_control_Rescue</th>\n",
       "      <th>zhang_Tyloxapol_pH_6.5_vs_zhang_Tyloxapol_pH_4.5</th>\n",
       "      <th>zhang_Tyloxapol_pH_6.5_vs_zhang_pcit_pH_4.5</th>\n",
       "      <th>zhang_mhcii_mouse_d10_vs_zhang_wt_mouse_d10</th>\n",
       "      <th>zhang_mhcii_mouse_d45_vs_zhang_wt_mouse_d45</th>\n",
       "      <th>zhang_wt_mouse_d10_vs_zhang_input_library</th>\n",
       "      <th>zhang_wt_mouse_d45_vs_zhang_input_library</th>\n",
       "      <th>Functional_Category</th>\n",
       "    </tr>\n",
       "  </thead>\n",
       "  <tbody>\n",
       "    <tr>\n",
       "      <th>0</th>\n",
       "      <td>Rv0001</td>\n",
       "      <td>-0.41</td>\n",
       "      <td>0.01</td>\n",
       "      <td>0.00</td>\n",
       "      <td>0.00</td>\n",
       "      <td>0.00</td>\n",
       "      <td>3.12</td>\n",
       "      <td>-0.06</td>\n",
       "      <td>0.00</td>\n",
       "      <td>-0.06</td>\n",
       "      <td>...</td>\n",
       "      <td>0.00</td>\n",
       "      <td>0.00</td>\n",
       "      <td>0.00</td>\n",
       "      <td>0.00</td>\n",
       "      <td>0.00</td>\n",
       "      <td>0.00</td>\n",
       "      <td>0.00</td>\n",
       "      <td>0.00</td>\n",
       "      <td>0.00</td>\n",
       "      <td>information pathways</td>\n",
       "    </tr>\n",
       "    <tr>\n",
       "      <th>1</th>\n",
       "      <td>Rv0002</td>\n",
       "      <td>3.28</td>\n",
       "      <td>2.38</td>\n",
       "      <td>0.00</td>\n",
       "      <td>0.00</td>\n",
       "      <td>0.00</td>\n",
       "      <td>0.00</td>\n",
       "      <td>0.00</td>\n",
       "      <td>0.00</td>\n",
       "      <td>0.00</td>\n",
       "      <td>...</td>\n",
       "      <td>0.00</td>\n",
       "      <td>0.00</td>\n",
       "      <td>0.00</td>\n",
       "      <td>0.00</td>\n",
       "      <td>0.00</td>\n",
       "      <td>0.00</td>\n",
       "      <td>0.00</td>\n",
       "      <td>0.00</td>\n",
       "      <td>0.00</td>\n",
       "      <td>information pathways</td>\n",
       "    </tr>\n",
       "    <tr>\n",
       "      <th>2</th>\n",
       "      <td>Rv0003</td>\n",
       "      <td>-0.03</td>\n",
       "      <td>-0.08</td>\n",
       "      <td>0.03</td>\n",
       "      <td>-1.20</td>\n",
       "      <td>0.39</td>\n",
       "      <td>3.83</td>\n",
       "      <td>0.31</td>\n",
       "      <td>0.17</td>\n",
       "      <td>-0.62</td>\n",
       "      <td>...</td>\n",
       "      <td>-0.31</td>\n",
       "      <td>1.09</td>\n",
       "      <td>-2.13</td>\n",
       "      <td>0.51</td>\n",
       "      <td>0.41</td>\n",
       "      <td>1.30</td>\n",
       "      <td>-0.49</td>\n",
       "      <td>-1.26</td>\n",
       "      <td>-2.25</td>\n",
       "      <td>information pathways</td>\n",
       "    </tr>\n",
       "    <tr>\n",
       "      <th>3</th>\n",
       "      <td>Rv0004</td>\n",
       "      <td>-3.81</td>\n",
       "      <td>-3.39</td>\n",
       "      <td>-2.60</td>\n",
       "      <td>-6.83</td>\n",
       "      <td>1.54</td>\n",
       "      <td>0.00</td>\n",
       "      <td>1.79</td>\n",
       "      <td>1.08</td>\n",
       "      <td>4.91</td>\n",
       "      <td>...</td>\n",
       "      <td>0.00</td>\n",
       "      <td>1.96</td>\n",
       "      <td>-3.56</td>\n",
       "      <td>0.00</td>\n",
       "      <td>0.00</td>\n",
       "      <td>0.00</td>\n",
       "      <td>0.70</td>\n",
       "      <td>-2.62</td>\n",
       "      <td>-2.62</td>\n",
       "      <td>conserved hypotheticals</td>\n",
       "    </tr>\n",
       "    <tr>\n",
       "      <th>4</th>\n",
       "      <td>Rv0005</td>\n",
       "      <td>-0.22</td>\n",
       "      <td>0.14</td>\n",
       "      <td>0.13</td>\n",
       "      <td>-0.08</td>\n",
       "      <td>0.27</td>\n",
       "      <td>-2.38</td>\n",
       "      <td>0.70</td>\n",
       "      <td>-0.71</td>\n",
       "      <td>-0.37</td>\n",
       "      <td>...</td>\n",
       "      <td>-0.89</td>\n",
       "      <td>-2.36</td>\n",
       "      <td>-1.89</td>\n",
       "      <td>2.90</td>\n",
       "      <td>2.20</td>\n",
       "      <td>-4.05</td>\n",
       "      <td>0.30</td>\n",
       "      <td>0.69</td>\n",
       "      <td>-3.55</td>\n",
       "      <td>information pathways</td>\n",
       "    </tr>\n",
       "  </tbody>\n",
       "</table>\n",
       "<p>5 rows × 66 columns</p>\n",
       "</div>"
      ],
      "text/plain": [
       "    Rv_ID  PE35_KO_vs_mbio_H37Rv  PPE68_KO_vs_mbio_H37Rv  Rv0950c_KO_vs_CB_WT  \\\n",
       "0  Rv0001                  -0.41                    0.01                 0.00   \n",
       "1  Rv0002                   3.28                    2.38                 0.00   \n",
       "2  Rv0003                  -0.03                   -0.08                 0.03   \n",
       "3  Rv0004                  -3.81                   -3.39                -2.60   \n",
       "4  Rv0005                  -0.22                    0.14                 0.13   \n",
       "\n",
       "   Rv0954_KO_vs_RJ_WT  Rv1096_KO_vs_CB_WT  \\\n",
       "0                0.00                0.00   \n",
       "1                0.00                0.00   \n",
       "2               -1.20                0.39   \n",
       "3               -6.83                1.54   \n",
       "4               -0.08                0.27   \n",
       "\n",
       "   Rv3005c_KO_day32_vs_dejesus_H37Rv_day32  Rv3594_KO_vs_Rubin_FLUTE_WT  \\\n",
       "0                                     3.12                        -0.06   \n",
       "1                                     0.00                         0.00   \n",
       "2                                     3.83                         0.31   \n",
       "3                                     0.00                         1.79   \n",
       "4                                    -2.38                         0.70   \n",
       "\n",
       "   Rv3684_KO_vs_CB_WT  Rv3717_KO_vs_Rubin_FLUTE_WT  ...  \\\n",
       "0                0.00                        -0.06  ...   \n",
       "1                0.00                         0.00  ...   \n",
       "2                0.17                        -0.62  ...   \n",
       "3                1.08                         4.91  ...   \n",
       "4               -0.71                        -0.37  ...   \n",
       "\n",
       "   zhang_DETA-NO_pH_7.0_vs_zhang_pH_7.0_no_NO_control  \\\n",
       "0                                               0.00    \n",
       "1                                               0.00    \n",
       "2                                              -0.31    \n",
       "3                                               0.00    \n",
       "4                                              -0.89    \n",
       "\n",
       "   zhang_Fe_1.5mM_vs_zhang_Fe_450uM  \\\n",
       "0                              0.00   \n",
       "1                              0.00   \n",
       "2                              1.09   \n",
       "3                              1.96   \n",
       "4                             -2.36   \n",
       "\n",
       "   zhang_Trp_Rescue_vs_zhang_in_vitro_control_Rescue  \\\n",
       "0                                               0.00   \n",
       "1                                               0.00   \n",
       "2                                              -2.13   \n",
       "3                                              -3.56   \n",
       "4                                              -1.89   \n",
       "\n",
       "   zhang_Tyloxapol_pH_6.5_vs_zhang_Tyloxapol_pH_4.5  \\\n",
       "0                                              0.00   \n",
       "1                                              0.00   \n",
       "2                                              0.51   \n",
       "3                                              0.00   \n",
       "4                                              2.90   \n",
       "\n",
       "   zhang_Tyloxapol_pH_6.5_vs_zhang_pcit_pH_4.5  \\\n",
       "0                                         0.00   \n",
       "1                                         0.00   \n",
       "2                                         0.41   \n",
       "3                                         0.00   \n",
       "4                                         2.20   \n",
       "\n",
       "   zhang_mhcii_mouse_d10_vs_zhang_wt_mouse_d10  \\\n",
       "0                                         0.00   \n",
       "1                                         0.00   \n",
       "2                                         1.30   \n",
       "3                                         0.00   \n",
       "4                                        -4.05   \n",
       "\n",
       "   zhang_mhcii_mouse_d45_vs_zhang_wt_mouse_d45  \\\n",
       "0                                         0.00   \n",
       "1                                         0.00   \n",
       "2                                        -0.49   \n",
       "3                                         0.70   \n",
       "4                                         0.30   \n",
       "\n",
       "   zhang_wt_mouse_d10_vs_zhang_input_library  \\\n",
       "0                                       0.00   \n",
       "1                                       0.00   \n",
       "2                                      -1.26   \n",
       "3                                      -2.62   \n",
       "4                                       0.69   \n",
       "\n",
       "   zhang_wt_mouse_d45_vs_zhang_input_library      Functional_Category  \n",
       "0                                       0.00     information pathways  \n",
       "1                                       0.00     information pathways  \n",
       "2                                      -2.25     information pathways  \n",
       "3                                      -2.62  conserved hypotheticals  \n",
       "4                                      -3.55     information pathways  \n",
       "\n",
       "[5 rows x 66 columns]"
      ]
     },
     "execution_count": 15,
     "metadata": {},
     "output_type": "execute_result"
    }
   ],
   "source": [
    "lfc_mb.head()"
   ]
  },
  {
   "cell_type": "code",
   "execution_count": 16,
   "metadata": {
    "ExecuteTime": {
     "end_time": "2020-02-12T15:56:24.261818Z",
     "start_time": "2020-02-12T15:56:24.256830Z"
    }
   },
   "outputs": [
    {
     "data": {
      "text/plain": [
       "conserved hypotheticals                    1020\n",
       "intermediary metabolism and respiration     933\n",
       "cell wall and cell processes                771\n",
       "lipid metabolism                            270\n",
       "information pathways                        242\n",
       "virulence, detoxification, adaptation       220\n",
       "regulatory proteins                         197\n",
       "PE/PPE                                      162\n",
       "insertion seqs and phages                   142\n",
       "unknown                                      14\n",
       "Name: Functional_Category, dtype: int64"
      ]
     },
     "execution_count": 16,
     "metadata": {},
     "output_type": "execute_result"
    }
   ],
   "source": [
    "lfc_mb['Functional_Category'].value_counts(dropna=False)"
   ]
  },
  {
   "cell_type": "code",
   "execution_count": 81,
   "metadata": {
    "ExecuteTime": {
     "end_time": "2020-02-12T15:56:27.429381Z",
     "start_time": "2020-02-12T15:56:27.426415Z"
    }
   },
   "outputs": [
    {
     "data": {
      "text/plain": [
       "(3971, 66)"
      ]
     },
     "execution_count": 81,
     "metadata": {},
     "output_type": "execute_result"
    }
   ],
   "source": [
    "lfc_mb.shape"
   ]
  },
  {
   "cell_type": "code",
   "execution_count": 82,
   "metadata": {
    "ExecuteTime": {
     "end_time": "2020-02-12T15:56:29.253948Z",
     "start_time": "2020-02-12T15:56:29.247965Z"
    }
   },
   "outputs": [
    {
     "data": {
      "text/plain": [
       "conserved hypotheticals                    1020\n",
       "intermediary metabolism and respiration     933\n",
       "cell wall and cell processes                771\n",
       "lipid metabolism                            270\n",
       "information pathways                        242\n",
       "virulence, detoxification, adaptation       220\n",
       "regulatory proteins                         197\n",
       "PE/PPE                                      162\n",
       "insertion seqs and phages                   142\n",
       "unknown                                      14\n",
       "Name: Functional_Category, dtype: int64"
      ]
     },
     "execution_count": 82,
     "metadata": {},
     "output_type": "execute_result"
    }
   ],
   "source": [
    "qval_mb['Functional_Category'].value_counts(dropna=False)"
   ]
  },
  {
   "cell_type": "code",
   "execution_count": 83,
   "metadata": {
    "ExecuteTime": {
     "end_time": "2020-02-12T15:56:31.202859Z",
     "start_time": "2020-02-12T15:56:31.199836Z"
    }
   },
   "outputs": [
    {
     "data": {
      "text/plain": [
       "(3971, 66)"
      ]
     },
     "execution_count": 83,
     "metadata": {},
     "output_type": "execute_result"
    }
   ],
   "source": [
    "qval_mb.shape"
   ]
  },
  {
   "cell_type": "code",
   "execution_count": 84,
   "metadata": {
    "ExecuteTime": {
     "end_time": "2020-02-12T15:57:22.764892Z",
     "start_time": "2020-02-12T15:57:22.431754Z"
    }
   },
   "outputs": [],
   "source": [
    "lfc_mb.to_csv('../data/standardized_data/cleaned_ML/lfc_mb.csv', index=False)\n",
    "qval_mb.to_csv('../data/standardized_data/cleaned_ML/qval_mb.csv', index=False)"
   ]
  },
  {
   "cell_type": "code",
   "execution_count": 85,
   "metadata": {
    "ExecuteTime": {
     "end_time": "2020-02-12T15:57:23.943793Z",
     "start_time": "2020-02-12T15:57:23.936814Z"
    }
   },
   "outputs": [],
   "source": [
    "lfc_mb_filt = lfc_mb[~lfc_mb['Functional_Category'].isin(\n",
    "    ['conserved hypotheticals', 'unknown'])]\n",
    "qval_mb_filt = qval_mb[~qval_mb['Functional_Category'].isin(\n",
    "    ['conserved hypotheticals', 'unknown'])]"
   ]
  },
  {
   "cell_type": "code",
   "execution_count": 86,
   "metadata": {
    "ExecuteTime": {
     "end_time": "2020-02-12T15:57:24.804505Z",
     "start_time": "2020-02-12T15:57:24.800515Z"
    }
   },
   "outputs": [],
   "source": [
    "assert (lfc_mb_filt.Rv_ID == qval_mb_filt.Rv_ID).all()"
   ]
  },
  {
   "cell_type": "code",
   "execution_count": 87,
   "metadata": {
    "ExecuteTime": {
     "end_time": "2020-02-12T15:57:41.965507Z",
     "start_time": "2020-02-12T15:57:41.712183Z"
    }
   },
   "outputs": [],
   "source": [
    "lfc_mb_filt.to_csv(\n",
    "    '../data/standardized_data/cleaned_ML/lfc_mb_filt.csv', index=False)\n",
    "qval_mb_filt.to_csv(\n",
    "    '../data/standardized_data/cleaned_ML/qval_mb_filt.csv',  index=False)"
   ]
  },
  {
   "cell_type": "code",
   "execution_count": 88,
   "metadata": {
    "ExecuteTime": {
     "end_time": "2020-02-12T15:57:48.948022Z",
     "start_time": "2020-02-12T15:57:48.944031Z"
    }
   },
   "outputs": [],
   "source": [
    "data_cols = [col for col in qval_mb.columns if col not in [\n",
    "    'Rv_ID', 'Functional_Category']]"
   ]
  },
  {
   "cell_type": "code",
   "execution_count": 89,
   "metadata": {
    "ExecuteTime": {
     "end_time": "2020-02-12T15:57:58.570741Z",
     "start_time": "2020-02-12T15:57:58.479963Z"
    }
   },
   "outputs": [],
   "source": [
    "bin_matrix_lfc = lfc_mb[data_cols].applymap(lambda x: x >= 1 or x <= -1)\n",
    "bin_matrix_qval = qval_mb[data_cols].applymap(lambda x: x <= 0.05)"
   ]
  },
  {
   "cell_type": "code",
   "execution_count": 90,
   "metadata": {
    "ExecuteTime": {
     "end_time": "2020-02-12T15:58:05.903682Z",
     "start_time": "2020-02-12T15:58:05.887670Z"
    }
   },
   "outputs": [],
   "source": [
    "bin_matrix = bin_matrix_lfc & bin_matrix_qval\n",
    "bin_matrix = bin_matrix.astype(int)"
   ]
  },
  {
   "cell_type": "code",
   "execution_count": 91,
   "metadata": {
    "ExecuteTime": {
     "end_time": "2020-02-12T15:58:06.931910Z",
     "start_time": "2020-02-12T15:58:06.927950Z"
    }
   },
   "outputs": [],
   "source": [
    "bin_matrix['Rv_ID'] = qval_mb['Rv_ID']\n",
    "bin_matrix['Functional_Category'] = qval_mb['Functional_Category']"
   ]
  },
  {
   "cell_type": "code",
   "execution_count": 92,
   "metadata": {
    "ExecuteTime": {
     "end_time": "2020-02-12T15:58:07.876264Z",
     "start_time": "2020-02-12T15:58:07.872255Z"
    }
   },
   "outputs": [],
   "source": [
    "bin_matrix = bin_matrix[['Rv_ID'] +\n",
    "                        [col for col in bin_matrix.columns if col != 'Rv_ID']]"
   ]
  },
  {
   "cell_type": "code",
   "execution_count": 93,
   "metadata": {
    "ExecuteTime": {
     "end_time": "2020-02-12T15:58:26.661841Z",
     "start_time": "2020-02-12T15:58:26.497283Z"
    }
   },
   "outputs": [],
   "source": [
    "bin_matrix.to_csv('../data/standardized_data/cleaned_ML/bin_mb.csv',  index=False)"
   ]
  },
  {
   "cell_type": "code",
   "execution_count": 94,
   "metadata": {
    "ExecuteTime": {
     "end_time": "2020-02-12T15:58:29.620526Z",
     "start_time": "2020-02-12T15:58:29.616537Z"
    }
   },
   "outputs": [],
   "source": [
    "bin_matrix_filt = bin_matrix[~bin_matrix['Functional_Category'].isin(\n",
    "    ['conserved hypotheticals', 'unknown'])]"
   ]
  },
  {
   "cell_type": "code",
   "execution_count": 95,
   "metadata": {
    "ExecuteTime": {
     "end_time": "2020-02-12T15:58:39.774299Z",
     "start_time": "2020-02-12T15:58:39.648598Z"
    }
   },
   "outputs": [],
   "source": [
    "bin_matrix_filt.to_csv(\n",
    "    '../data/standardized_data/cleaned_ML/bin_mb_filt.csv', index=False)"
   ]
  },
  {
   "cell_type": "code",
   "execution_count": null,
   "metadata": {},
   "outputs": [],
   "source": []
  }
 ],
 "metadata": {
  "kernelspec": {
   "display_name": "Python 3",
   "language": "python",
   "name": "python3"
  },
  "language_info": {
   "codemirror_mode": {
    "name": "ipython",
    "version": 3
   },
   "file_extension": ".py",
   "mimetype": "text/x-python",
   "name": "python",
   "nbconvert_exporter": "python",
   "pygments_lexer": "ipython3",
   "version": "3.8.8"
  },
  "toc": {
   "base_numbering": 1,
   "nav_menu": {},
   "number_sections": true,
   "sideBar": true,
   "skip_h1_title": false,
   "title_cell": "Table of Contents",
   "title_sidebar": "Contents",
   "toc_cell": false,
   "toc_position": {},
   "toc_section_display": true,
   "toc_window_display": false
  },
  "toc-showtags": false,
  "varInspector": {
   "cols": {
    "lenName": 16,
    "lenType": 16,
    "lenVar": 40
   },
   "kernels_config": {
    "python": {
     "delete_cmd_postfix": "",
     "delete_cmd_prefix": "del ",
     "library": "var_list.py",
     "varRefreshCmd": "print(var_dic_list())"
    },
    "r": {
     "delete_cmd_postfix": ") ",
     "delete_cmd_prefix": "rm(",
     "library": "var_list.r",
     "varRefreshCmd": "cat(var_dic_list()) "
    }
   },
   "types_to_exclude": [
    "module",
    "function",
    "builtin_function_or_method",
    "instance",
    "_Feature"
   ],
   "window_display": false
  }
 },
 "nbformat": 4,
 "nbformat_minor": 4
}
