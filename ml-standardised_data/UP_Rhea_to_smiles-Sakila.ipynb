{
 "cells": [
  {
   "cell_type": "markdown",
   "metadata": {},
   "source": [
    "# Imports: "
   ]
  },
  {
   "cell_type": "code",
   "execution_count": 1,
   "metadata": {},
   "outputs": [],
   "source": [
    "import pandas as pd\n",
    "import rdflib\n",
    "import os\n",
    "\n",
    "from rdflib import Graph, Literal, RDF, URIRef\n",
    "from rdflib.namespace import FOAF, XSD"
   ]
  },
  {
   "cell_type": "markdown",
   "metadata": {},
   "source": [
    "This script is to take the MTb proteome and fetch the RheaID for each gene. We then use the rhea_Test to fetch the ChebiID and the smiles string from the Rhea ID for each. "
   ]
  },
  {
   "cell_type": "markdown",
   "metadata": {},
   "source": [
    "# Functions: "
   ]
  },
  {
   "cell_type": "markdown",
   "metadata": {},
   "source": [
    "This function looks at the 'g', the graph output from running the rhea database to pair the substrates and products from the rhea ID."
   ]
  },
  {
   "cell_type": "code",
   "execution_count": 2,
   "metadata": {},
   "outputs": [],
   "source": [
    "def get_chebi_side_rxn(rxn_id_side): \n",
    "    \n",
    "    list_part_comps = []\n",
    "    for obj in g.objects(rxn_id_side, contains_pred):\n",
    "        list_part_comps.append(obj)\n",
    "\n",
    "    list_comps = []\n",
    "    for part_comp in list_part_comps:\n",
    "        for obj in g.objects(part_comp, compound_pred):\n",
    "            list_comps.append(obj)\n",
    "\n",
    "#     list_chebi = []\n",
    "#     for comp in list_comps:\n",
    "#         for obj in g.objects(comp, accession_pred):\n",
    "#             list_chebi.append(obj)\n",
    "\n",
    "    list_chebi = []\n",
    "    for comp in list_comps:\n",
    "        for obj in g.objects(comp, accession_pred):\n",
    "\n",
    "            if (str(obj).split(':')[0] == 'GENERIC'):\n",
    "                print('WARNING: generic compound')\n",
    "\n",
    "                list_reactive = []\n",
    "                for obj in g.objects(comp, reactive_part_pred):\n",
    "                    list_reactive.append(obj)\n",
    "\n",
    "                for reactive in list_reactive:\n",
    "                    for obj in g.objects(reactive, chebi_pred):\n",
    "                          list_chebi.append(str(obj).split('/')[-1])\n",
    "\n",
    "            else:\n",
    "                list_chebi.append( '_'.join(str(obj).split(':')) )\n",
    "    \n",
    "    return list_chebi"
   ]
  },
  {
   "cell_type": "markdown",
   "metadata": {},
   "source": [
    "This function adds the rh link to each RHEA ID and adds either \"L\" or \"R\" to end of the string, to look up either the substrates (L or left) or the products (R or right) of the reaction."
   ]
  },
  {
   "cell_type": "code",
   "execution_count": 3,
   "metadata": {},
   "outputs": [],
   "source": [
    "def get_chebi_from_rhea_ID(RHEA_id):\n",
    "\n",
    "    rxn_id = URIRef(rh+RHEA_id)\n",
    "    rxn_id_L = URIRef(rh+RHEA_id+'_L')\n",
    "    rxn_id_R = URIRef(rh+RHEA_id+'_R')\n",
    "\n",
    "    list_chebi_L = get_chebi_side_rxn(rxn_id_L)\n",
    "    list_chebi_R = get_chebi_side_rxn(rxn_id_R)\n",
    "            \n",
    "    return list_chebi_L, list_chebi_R"
   ]
  },
  {
   "cell_type": "code",
   "execution_count": 31,
   "metadata": {},
   "outputs": [
    {
     "data": {
      "text/plain": [
       "(['POLYMER_9859', 'CHEBI_15377'],\n",
       " ['POLYMER_14279', 'CHEBI_15378', 'CHEBI_43474'])"
      ]
     },
     "execution_count": 31,
     "metadata": {},
     "output_type": "execute_result"
    }
   ],
   "source": [
    "R_id = str(21528)\n",
    "get_chebi_from_rhea_ID(R_id)"
   ]
  },
  {
   "cell_type": "code",
   "execution_count": 36,
   "metadata": {},
   "outputs": [
    {
     "name": "stdout",
     "output_type": "stream",
     "text": [
      "[rdflib.term.URIRef('http://rdf.rhea-db.org/Participant_21528_compound_9859'), rdflib.term.URIRef('http://rdf.rhea-db.org/Participant_21528_compound_1283')]\n",
      "[rdflib.term.URIRef('http://rdf.rhea-db.org/Compound_9859'), rdflib.term.URIRef('http://rdf.rhea-db.org/Compound_1283')]\n"
     ]
    }
   ],
   "source": [
    "rxn_id = URIRef(rh+R_id)\n",
    "rxn_id_L = URIRef(rh+R_id+'_L')\n",
    "rxn_id_R = URIRef(rh+R_id+'_R')\n",
    "get_chebi_side_rxn(rxn_id_L)\n",
    "\n",
    "list_part_comps = []\n",
    "for obj in g.objects(rxn_id_L, contains_pred):\n",
    "    list_part_comps.append(obj)\n",
    "print(list_part_comps)\n",
    "\n",
    "list_comps = []\n",
    "for part_comp in list_part_comps:\n",
    "    for obj in g.objects(part_comp, compound_pred):\n",
    "        list_comps.append(obj)\n",
    "        \n",
    "print(list_comps)"
   ]
  },
  {
   "cell_type": "markdown",
   "metadata": {},
   "source": [
    "# Parameters: "
   ]
  },
  {
   "cell_type": "code",
   "execution_count": 4,
   "metadata": {},
   "outputs": [],
   "source": [
    "rh = 'http://rdf.rhea-db.org/'\n",
    "# predicates: \n",
    "substrates_pred = URIRef(rh+'substrates')\n",
    "contains_pred = URIRef(rh+'contains')\n",
    "contains1_pred = URIRef(rh+'contains1')\n",
    "accession_pred = URIRef(rh+'accession')\n",
    "compound_pred = URIRef(rh+'compound')\n",
    "side_pred = URIRef(rh+'side')\n",
    "directional_pred = URIRef(rh+'directionalReaction')\n",
    "\n",
    "reactive_part_pred = URIRef(rh+'reactivePart')\n",
    "chebi_pred = URIRef(rh+'chebi')"
   ]
  },
  {
   "cell_type": "code",
   "execution_count": 5,
   "metadata": {},
   "outputs": [],
   "source": [
    "# CHEBI:16526 = CO2\n",
    "# 'CHEBI_57945' = , 'CHEBI_15378' = , 'CHEBI_57540' = , 'CHEBI_58349' = , 'CHEBI_57783 = '\n",
    "cofactor_IDS = ['CHEBI_57945', 'CHEBI_15378', 'CHEBI_57540', 'CHEBI_58349', 'CHEBI_57783', 'CHEBI_16526']"
   ]
  },
  {
   "cell_type": "markdown",
   "metadata": {},
   "source": [
    "# Read in files: "
   ]
  },
  {
   "cell_type": "markdown",
   "metadata": {},
   "source": [
    "#### Rhea database: \n",
    "We are uploading the entire Rhea Database and storing it in \"g\". This allows us to parse through all the entries and connect the RheaID in our df_UP to CHEBI IDs and smile strings. "
   ]
  },
  {
   "cell_type": "code",
   "execution_count": 8,
   "metadata": {},
   "outputs": [
    {
     "name": "stdout",
     "output_type": "stream",
     "text": [
      "1327346\n"
     ]
    }
   ],
   "source": [
    "#Upload the Rhea Database.\n",
    "path = '/home/sakila/Documents/Data/rhea_test'\n",
    "file_in = os.path.join(path, 'rhea.rdf') \n",
    "\n",
    "# Rdflib reads through the rdf file and creates a graph connecting the substrates to the proteins and RheaIDs. \n",
    "g = rdflib.Graph()\n",
    "result = g.parse(file_in)\n",
    "\n",
    "print(len(g))"
   ]
  },
  {
   "cell_type": "markdown",
   "metadata": {},
   "source": [
    "#### ChEBI-to-SMILES database: "
   ]
  },
  {
   "cell_type": "code",
   "execution_count": 9,
   "metadata": {},
   "outputs": [
    {
     "data": {
      "text/plain": [
       "2340334"
      ]
     },
     "execution_count": 9,
     "metadata": {},
     "output_type": "execute_result"
    }
   ],
   "source": [
    "file_chebi = os.path.join(path, 'chebi.owl')\n",
    "# create a Graph\n",
    "g_chebi = rdflib.Graph()\n",
    "result_chebi = g_chebi.parse(file_chebi)\n",
    "\n",
    "len(g_chebi)"
   ]
  },
  {
   "cell_type": "markdown",
   "metadata": {},
   "source": [
    "#### UniProt-to-Rhea dataset:\n",
    "This was generated in the notebook \"EDA_rhea-Sakila.ipynb\"\n",
    "\n",
    "This dataframe has the UniProt ID's for all proteins with:\n",
    "1. all proteins with a known substrate"
   ]
  },
  {
   "cell_type": "code",
   "execution_count": 10,
   "metadata": {},
   "outputs": [
    {
     "data": {
      "text/html": [
       "<div>\n",
       "<style scoped>\n",
       "    .dataframe tbody tr th:only-of-type {\n",
       "        vertical-align: middle;\n",
       "    }\n",
       "\n",
       "    .dataframe tbody tr th {\n",
       "        vertical-align: top;\n",
       "    }\n",
       "\n",
       "    .dataframe thead th {\n",
       "        text-align: right;\n",
       "    }\n",
       "</style>\n",
       "<table border=\"1\" class=\"dataframe\">\n",
       "  <thead>\n",
       "    <tr style=\"text-align: right;\">\n",
       "      <th></th>\n",
       "      <th>Entry</th>\n",
       "      <th>RheaID</th>\n",
       "    </tr>\n",
       "  </thead>\n",
       "  <tbody>\n",
       "    <tr>\n",
       "      <th>0</th>\n",
       "      <td>P9WJM5</td>\n",
       "      <td>14217</td>\n",
       "    </tr>\n",
       "    <tr>\n",
       "      <th>1</th>\n",
       "      <td>P9WJM5</td>\n",
       "      <td>19993</td>\n",
       "    </tr>\n",
       "  </tbody>\n",
       "</table>\n",
       "</div>"
      ],
      "text/plain": [
       "    Entry  RheaID\n",
       "0  P9WJM5   14217\n",
       "1  P9WJM5   19993"
      ]
     },
     "execution_count": 10,
     "metadata": {},
     "output_type": "execute_result"
    }
   ],
   "source": [
    "file_in = '../data/up_to_rhea.csv'\n",
    "df_UP_rhea = pd.read_csv(file_in)\n",
    "df_UP_rhea.head(2)"
   ]
  },
  {
   "cell_type": "markdown",
   "metadata": {},
   "source": [
    "# Part I: Mapping Rhea-to-ChEBI: "
   ]
  },
  {
   "cell_type": "markdown",
   "metadata": {},
   "source": [
    "##### Get unique Rhea reaction IDs:"
   ]
  },
  {
   "cell_type": "code",
   "execution_count": 12,
   "metadata": {},
   "outputs": [
    {
     "data": {
      "text/plain": [
       "1217"
      ]
     },
     "execution_count": 12,
     "metadata": {},
     "output_type": "execute_result"
    }
   ],
   "source": [
    "list_rhea_IDs = df_UP_rhea.RheaID.unique().tolist()\n",
    "len(list_rhea_IDs)"
   ]
  },
  {
   "cell_type": "markdown",
   "metadata": {},
   "source": [
    "##### Map Rhea reaction ID's to ChEBI substrate/product ID's: "
   ]
  },
  {
   "cell_type": "markdown",
   "metadata": {},
   "source": [
    "[QUESTION]: What does the \"generic compound\" WARNING mean? "
   ]
  },
  {
   "cell_type": "code",
   "execution_count": null,
   "metadata": {
    "tags": []
   },
   "outputs": [],
   "source": [
    "list_chebi_LR_ALL = []\n",
    "list_rhea_IDs_ALL = []\n",
    "list_type_ALL = []\n",
    "\n",
    "for RHEA_id in list_rhea_IDs: # for each Rhea reaction ID: \n",
    "    list_chebi_L, list_chebi_R = get_chebi_from_rhea_ID(str(RHEA_id)) # Get left and right compounds\n",
    "#     list_chebi_L = ['_'.join(str(chebi).split(':')) for chebi in list_chebi_L if str(chebi) not in cofactor_IDS]\n",
    "#     list_chebi_R = ['_'.join(str(chebi).split(':')) for chebi in list_chebi_R if str(chebi) not in cofactor_IDS]\n",
    "    # In this version, we don't discard the cofactors --> this might be important information to \"learn\" from the protein sequences. \n",
    "    list_chebi_L = ['_'.join(str(chebi).split(':')) for chebi in list_chebi_L ]\n",
    "    list_chebi_R = ['_'.join(str(chebi).split(':')) for chebi in list_chebi_R ]\n",
    "    \n",
    "    list_chebi_LR_ALL += list_chebi_L\n",
    "    list_chebi_LR_ALL += list_chebi_R\n",
    "    \n",
    "    list_rhea_IDs_ALL += [RHEA_id]*len(list_chebi_L)\n",
    "    list_rhea_IDs_ALL += [RHEA_id]*len(list_chebi_R)\n",
    "    \n",
    "    list_type_ALL += ['LEFT']*len(list_chebi_L)\n",
    "    list_type_ALL += ['RIGHT']*len(list_chebi_R)\n"
   ]
  },
  {
   "cell_type": "markdown",
   "metadata": {},
   "source": [
    "Store in dataframe: "
   ]
  },
  {
   "cell_type": "code",
   "execution_count": 16,
   "metadata": {},
   "outputs": [],
   "source": [
    "df_Rhea_ChEBI = pd.DataFrame()\n",
    "df_Rhea_ChEBI['RheaID'] = list_rhea_IDs_ALL\n",
    "df_Rhea_ChEBI['type'] = list_type_ALL\n",
    "df_Rhea_ChEBI['ChEBI'] = list_chebi_LR_ALL"
   ]
  },
  {
   "cell_type": "code",
   "execution_count": 39,
   "metadata": {},
   "outputs": [
    {
     "data": {
      "text/html": [
       "<div>\n",
       "<style scoped>\n",
       "    .dataframe tbody tr th:only-of-type {\n",
       "        vertical-align: middle;\n",
       "    }\n",
       "\n",
       "    .dataframe tbody tr th {\n",
       "        vertical-align: top;\n",
       "    }\n",
       "\n",
       "    .dataframe thead th {\n",
       "        text-align: right;\n",
       "    }\n",
       "</style>\n",
       "<table border=\"1\" class=\"dataframe\">\n",
       "  <thead>\n",
       "    <tr style=\"text-align: right;\">\n",
       "      <th></th>\n",
       "      <th>RheaID</th>\n",
       "      <th>type</th>\n",
       "      <th>ChEBI</th>\n",
       "    </tr>\n",
       "  </thead>\n",
       "  <tbody>\n",
       "    <tr>\n",
       "      <th>0</th>\n",
       "      <td>14217</td>\n",
       "      <td>LEFT</td>\n",
       "      <td>CHEBI_50058</td>\n",
       "    </tr>\n",
       "    <tr>\n",
       "      <th>1</th>\n",
       "      <td>14217</td>\n",
       "      <td>LEFT</td>\n",
       "      <td>CHEBI_15377</td>\n",
       "    </tr>\n",
       "    <tr>\n",
       "      <th>2</th>\n",
       "      <td>14217</td>\n",
       "      <td>LEFT</td>\n",
       "      <td>CHEBI_16044</td>\n",
       "    </tr>\n",
       "    <tr>\n",
       "      <th>3</th>\n",
       "      <td>14217</td>\n",
       "      <td>RIGHT</td>\n",
       "      <td>CHEBI_29950</td>\n",
       "    </tr>\n",
       "    <tr>\n",
       "      <th>4</th>\n",
       "      <td>14217</td>\n",
       "      <td>RIGHT</td>\n",
       "      <td>CHEBI_29950</td>\n",
       "    </tr>\n",
       "  </tbody>\n",
       "</table>\n",
       "</div>"
      ],
      "text/plain": [
       "   RheaID   type        ChEBI\n",
       "0   14217   LEFT  CHEBI_50058\n",
       "1   14217   LEFT  CHEBI_15377\n",
       "2   14217   LEFT  CHEBI_16044\n",
       "3   14217  RIGHT  CHEBI_29950\n",
       "4   14217  RIGHT  CHEBI_29950"
      ]
     },
     "execution_count": 39,
     "metadata": {},
     "output_type": "execute_result"
    }
   ],
   "source": [
    "df_Rhea_ChEBI.head()\n"
   ]
  },
  {
   "cell_type": "code",
   "execution_count": 51,
   "metadata": {},
   "outputs": [
    {
     "data": {
      "text/plain": [
       "(31,)"
      ]
     },
     "execution_count": 51,
     "metadata": {},
     "output_type": "execute_result"
    }
   ],
   "source": [
    "df_Rhea_ChEBI[df_Rhea_ChEBI.ChEBI.str.contains(\"POLYMER\")].ChEBI.unique().shape"
   ]
  },
  {
   "cell_type": "code",
   "execution_count": 47,
   "metadata": {},
   "outputs": [
    {
     "data": {
      "text/html": [
       "<div>\n",
       "<style scoped>\n",
       "    .dataframe tbody tr th:only-of-type {\n",
       "        vertical-align: middle;\n",
       "    }\n",
       "\n",
       "    .dataframe tbody tr th {\n",
       "        vertical-align: top;\n",
       "    }\n",
       "\n",
       "    .dataframe thead th {\n",
       "        text-align: right;\n",
       "    }\n",
       "</style>\n",
       "<table border=\"1\" class=\"dataframe\">\n",
       "  <thead>\n",
       "    <tr style=\"text-align: right;\">\n",
       "      <th></th>\n",
       "      <th>ChEBI</th>\n",
       "      <th>smiles</th>\n",
       "    </tr>\n",
       "  </thead>\n",
       "  <tbody>\n",
       "    <tr>\n",
       "      <th>28</th>\n",
       "      <td>POLYMER_9859</td>\n",
       "      <td>NaN</td>\n",
       "    </tr>\n",
       "    <tr>\n",
       "      <th>29</th>\n",
       "      <td>POLYMER_14279</td>\n",
       "      <td>NaN</td>\n",
       "    </tr>\n",
       "    <tr>\n",
       "      <th>88</th>\n",
       "      <td>POLYMER_11133</td>\n",
       "      <td>NaN</td>\n",
       "    </tr>\n",
       "    <tr>\n",
       "      <th>89</th>\n",
       "      <td>POLYMER_11132</td>\n",
       "      <td>NaN</td>\n",
       "    </tr>\n",
       "    <tr>\n",
       "      <th>90</th>\n",
       "      <td>POLYMER_11129</td>\n",
       "      <td>NaN</td>\n",
       "    </tr>\n",
       "    <tr>\n",
       "      <th>91</th>\n",
       "      <td>POLYMER_11128</td>\n",
       "      <td>NaN</td>\n",
       "    </tr>\n",
       "    <tr>\n",
       "      <th>284</th>\n",
       "      <td>POLYMER_14280</td>\n",
       "      <td>NaN</td>\n",
       "    </tr>\n",
       "    <tr>\n",
       "      <th>290</th>\n",
       "      <td>POLYMER_9527</td>\n",
       "      <td>NaN</td>\n",
       "    </tr>\n",
       "    <tr>\n",
       "      <th>292</th>\n",
       "      <td>POLYMER_9517</td>\n",
       "      <td>NaN</td>\n",
       "    </tr>\n",
       "    <tr>\n",
       "      <th>410</th>\n",
       "      <td>POLYMER_9537</td>\n",
       "      <td>NaN</td>\n",
       "    </tr>\n",
       "    <tr>\n",
       "      <th>411</th>\n",
       "      <td>POLYMER_9539</td>\n",
       "      <td>NaN</td>\n",
       "    </tr>\n",
       "    <tr>\n",
       "      <th>412</th>\n",
       "      <td>POLYMER_9565</td>\n",
       "      <td>NaN</td>\n",
       "    </tr>\n",
       "    <tr>\n",
       "      <th>413</th>\n",
       "      <td>POLYMER_9566</td>\n",
       "      <td>NaN</td>\n",
       "    </tr>\n",
       "    <tr>\n",
       "      <th>431</th>\n",
       "      <td>POLYMER_9602</td>\n",
       "      <td>NaN</td>\n",
       "    </tr>\n",
       "    <tr>\n",
       "      <th>433</th>\n",
       "      <td>POLYMER_9603</td>\n",
       "      <td>NaN</td>\n",
       "    </tr>\n",
       "    <tr>\n",
       "      <th>540</th>\n",
       "      <td>POLYMER_9584</td>\n",
       "      <td>NaN</td>\n",
       "    </tr>\n",
       "    <tr>\n",
       "      <th>541</th>\n",
       "      <td>POLYMER_9586</td>\n",
       "      <td>NaN</td>\n",
       "    </tr>\n",
       "    <tr>\n",
       "      <th>623</th>\n",
       "      <td>POLYMER_11130</td>\n",
       "      <td>NaN</td>\n",
       "    </tr>\n",
       "    <tr>\n",
       "      <th>624</th>\n",
       "      <td>POLYMER_11131</td>\n",
       "      <td>NaN</td>\n",
       "    </tr>\n",
       "    <tr>\n",
       "      <th>728</th>\n",
       "      <td>POLYMER_12939</td>\n",
       "      <td>NaN</td>\n",
       "    </tr>\n",
       "    <tr>\n",
       "      <th>729</th>\n",
       "      <td>POLYMER_14378</td>\n",
       "      <td>NaN</td>\n",
       "    </tr>\n",
       "    <tr>\n",
       "      <th>889</th>\n",
       "      <td>POLYMER_12940</td>\n",
       "      <td>NaN</td>\n",
       "    </tr>\n",
       "    <tr>\n",
       "      <th>943</th>\n",
       "      <td>POLYMER_13431</td>\n",
       "      <td>NaN</td>\n",
       "    </tr>\n",
       "    <tr>\n",
       "      <th>957</th>\n",
       "      <td>POLYMER_9587</td>\n",
       "      <td>NaN</td>\n",
       "    </tr>\n",
       "    <tr>\n",
       "      <th>1000</th>\n",
       "      <td>POLYMER_14738</td>\n",
       "      <td>NaN</td>\n",
       "    </tr>\n",
       "    <tr>\n",
       "      <th>1001</th>\n",
       "      <td>POLYMER_14740</td>\n",
       "      <td>NaN</td>\n",
       "    </tr>\n",
       "    <tr>\n",
       "      <th>1036</th>\n",
       "      <td>POLYMER_9564</td>\n",
       "      <td>NaN</td>\n",
       "    </tr>\n",
       "    <tr>\n",
       "      <th>1037</th>\n",
       "      <td>POLYMER_9563</td>\n",
       "      <td>NaN</td>\n",
       "    </tr>\n",
       "    <tr>\n",
       "      <th>1066</th>\n",
       "      <td>POLYMER_10183</td>\n",
       "      <td>NaN</td>\n",
       "    </tr>\n",
       "    <tr>\n",
       "      <th>1117</th>\n",
       "      <td>POLYMER_14708</td>\n",
       "      <td>NaN</td>\n",
       "    </tr>\n",
       "    <tr>\n",
       "      <th>1118</th>\n",
       "      <td>POLYMER_14709</td>\n",
       "      <td>NaN</td>\n",
       "    </tr>\n",
       "  </tbody>\n",
       "</table>\n",
       "</div>"
      ],
      "text/plain": [
       "              ChEBI smiles\n",
       "28     POLYMER_9859    NaN\n",
       "29    POLYMER_14279    NaN\n",
       "88    POLYMER_11133    NaN\n",
       "89    POLYMER_11132    NaN\n",
       "90    POLYMER_11129    NaN\n",
       "91    POLYMER_11128    NaN\n",
       "284   POLYMER_14280    NaN\n",
       "290    POLYMER_9527    NaN\n",
       "292    POLYMER_9517    NaN\n",
       "410    POLYMER_9537    NaN\n",
       "411    POLYMER_9539    NaN\n",
       "412    POLYMER_9565    NaN\n",
       "413    POLYMER_9566    NaN\n",
       "431    POLYMER_9602    NaN\n",
       "433    POLYMER_9603    NaN\n",
       "540    POLYMER_9584    NaN\n",
       "541    POLYMER_9586    NaN\n",
       "623   POLYMER_11130    NaN\n",
       "624   POLYMER_11131    NaN\n",
       "728   POLYMER_12939    NaN\n",
       "729   POLYMER_14378    NaN\n",
       "889   POLYMER_12940    NaN\n",
       "943   POLYMER_13431    NaN\n",
       "957    POLYMER_9587    NaN\n",
       "1000  POLYMER_14738    NaN\n",
       "1001  POLYMER_14740    NaN\n",
       "1036   POLYMER_9564    NaN\n",
       "1037   POLYMER_9563    NaN\n",
       "1066  POLYMER_10183    NaN\n",
       "1117  POLYMER_14708    NaN\n",
       "1118  POLYMER_14709    NaN"
      ]
     },
     "execution_count": 47,
     "metadata": {},
     "output_type": "execute_result"
    }
   ],
   "source": [
    "df_chebi_smiles[df_chebi_smiles.ChEBI.str.contains(\"POLYMER\")]"
   ]
  },
  {
   "cell_type": "code",
   "execution_count": 37,
   "metadata": {},
   "outputs": [],
   "source": [
    "fn = \"../data/tests/df_Rhea_CheBI.xlsx\"\n",
    "df_Rhea_ChEBI.to_excel(fn, index = False)"
   ]
  },
  {
   "cell_type": "markdown",
   "metadata": {},
   "source": [
    "#### Merging the two dataframes? \n",
    "1. The UniProt to RheaID mappings (\"df_UP_rhea\"), with\n",
    "2. The RheaID to ChEBI compound ID mappings: "
   ]
  },
  {
   "cell_type": "code",
   "execution_count": 19,
   "metadata": {},
   "outputs": [
    {
     "data": {
      "text/html": [
       "<div>\n",
       "<style scoped>\n",
       "    .dataframe tbody tr th:only-of-type {\n",
       "        vertical-align: middle;\n",
       "    }\n",
       "\n",
       "    .dataframe tbody tr th {\n",
       "        vertical-align: top;\n",
       "    }\n",
       "\n",
       "    .dataframe thead th {\n",
       "        text-align: right;\n",
       "    }\n",
       "</style>\n",
       "<table border=\"1\" class=\"dataframe\">\n",
       "  <thead>\n",
       "    <tr style=\"text-align: right;\">\n",
       "      <th></th>\n",
       "      <th>Entry</th>\n",
       "      <th>RheaID</th>\n",
       "    </tr>\n",
       "  </thead>\n",
       "  <tbody>\n",
       "    <tr>\n",
       "      <th>0</th>\n",
       "      <td>P9WJM5</td>\n",
       "      <td>14217</td>\n",
       "    </tr>\n",
       "    <tr>\n",
       "      <th>1</th>\n",
       "      <td>P9WJM5</td>\n",
       "      <td>19993</td>\n",
       "    </tr>\n",
       "    <tr>\n",
       "      <th>2</th>\n",
       "      <td>P9WHM9</td>\n",
       "      <td>17453</td>\n",
       "    </tr>\n",
       "    <tr>\n",
       "      <th>3</th>\n",
       "      <td>P9WGE9</td>\n",
       "      <td>20696</td>\n",
       "    </tr>\n",
       "    <tr>\n",
       "      <th>4</th>\n",
       "      <td>P9WG79</td>\n",
       "      <td>24840</td>\n",
       "    </tr>\n",
       "  </tbody>\n",
       "</table>\n",
       "</div>"
      ],
      "text/plain": [
       "    Entry  RheaID\n",
       "0  P9WJM5   14217\n",
       "1  P9WJM5   19993\n",
       "2  P9WHM9   17453\n",
       "3  P9WGE9   20696\n",
       "4  P9WG79   24840"
      ]
     },
     "execution_count": 19,
     "metadata": {},
     "output_type": "execute_result"
    }
   ],
   "source": [
    "df_UP_rhea"
   ]
  },
  {
   "cell_type": "code",
   "execution_count": 21,
   "metadata": {},
   "outputs": [
    {
     "name": "stdout",
     "output_type": "stream",
     "text": [
      "(7365, 4)\n"
     ]
    },
    {
     "data": {
      "text/html": [
       "<div>\n",
       "<style scoped>\n",
       "    .dataframe tbody tr th:only-of-type {\n",
       "        vertical-align: middle;\n",
       "    }\n",
       "\n",
       "    .dataframe tbody tr th {\n",
       "        vertical-align: top;\n",
       "    }\n",
       "\n",
       "    .dataframe thead th {\n",
       "        text-align: right;\n",
       "    }\n",
       "</style>\n",
       "<table border=\"1\" class=\"dataframe\">\n",
       "  <thead>\n",
       "    <tr style=\"text-align: right;\">\n",
       "      <th></th>\n",
       "      <th>Entry</th>\n",
       "      <th>RheaID</th>\n",
       "      <th>type</th>\n",
       "      <th>ChEBI</th>\n",
       "    </tr>\n",
       "  </thead>\n",
       "  <tbody>\n",
       "    <tr>\n",
       "      <th>0</th>\n",
       "      <td>P9WJM5</td>\n",
       "      <td>14217</td>\n",
       "      <td>LEFT</td>\n",
       "      <td>CHEBI_50058</td>\n",
       "    </tr>\n",
       "    <tr>\n",
       "      <th>1</th>\n",
       "      <td>P9WJM5</td>\n",
       "      <td>14217</td>\n",
       "      <td>LEFT</td>\n",
       "      <td>CHEBI_15377</td>\n",
       "    </tr>\n",
       "    <tr>\n",
       "      <th>2</th>\n",
       "      <td>P9WJM5</td>\n",
       "      <td>14217</td>\n",
       "      <td>LEFT</td>\n",
       "      <td>CHEBI_16044</td>\n",
       "    </tr>\n",
       "    <tr>\n",
       "      <th>3</th>\n",
       "      <td>P9WJM5</td>\n",
       "      <td>14217</td>\n",
       "      <td>RIGHT</td>\n",
       "      <td>CHEBI_29950</td>\n",
       "    </tr>\n",
       "    <tr>\n",
       "      <th>4</th>\n",
       "      <td>P9WJM5</td>\n",
       "      <td>14217</td>\n",
       "      <td>RIGHT</td>\n",
       "      <td>CHEBI_29950</td>\n",
       "    </tr>\n",
       "  </tbody>\n",
       "</table>\n",
       "</div>"
      ],
      "text/plain": [
       "    Entry  RheaID   type        ChEBI\n",
       "0  P9WJM5   14217   LEFT  CHEBI_50058\n",
       "1  P9WJM5   14217   LEFT  CHEBI_15377\n",
       "2  P9WJM5   14217   LEFT  CHEBI_16044\n",
       "3  P9WJM5   14217  RIGHT  CHEBI_29950\n",
       "4  P9WJM5   14217  RIGHT  CHEBI_29950"
      ]
     },
     "execution_count": 21,
     "metadata": {},
     "output_type": "execute_result"
    }
   ],
   "source": [
    "df_UP_rhea_chebi = df_UP_rhea.merge(df_Rhea_ChEBI, on = 'RheaID', how = 'inner')\n",
    "#Find the common columns with the \"on\". When you do inner, you only keep the intersection of the 2 data frames, while \"left' keeps the rows and adds NaN.\n",
    "print(df_UP_rhea_chebi.shape)\n",
    "df_UP_rhea_chebi.head(5)"
   ]
  },
  {
   "cell_type": "markdown",
   "metadata": {},
   "source": [
    "#### Mini-excercise: \n",
    "These are the Rhea reactions in the database, ranked by how often they appear? \n",
    "What can we learn from this? "
   ]
  },
  {
   "cell_type": "code",
   "execution_count": 18,
   "metadata": {},
   "outputs": [
    {
     "data": {
      "text/plain": [
       "28286    1250\n",
       "42640    1230\n",
       "48096     115\n",
       "12721      80\n",
       "17877      80\n",
       "24604      60\n",
       "54724      55\n",
       "54712      55\n",
       "54736      55\n",
       "42708      52\n",
       "20225      50\n",
       "15573      50\n",
       "50904      45\n",
       "43152      45\n",
       "36899      45\n",
       "Name: RheaID, dtype: int64"
      ]
     },
     "execution_count": 18,
     "metadata": {},
     "output_type": "execute_result"
    }
   ],
   "source": [
    "df_UP_rhea_chebi.RheaID.value_counts().head(15)"
   ]
  },
  {
   "cell_type": "markdown",
   "metadata": {},
   "source": [
    "### ChEBI compound ID's to SMILES: "
   ]
  },
  {
   "cell_type": "code",
   "execution_count": 23,
   "metadata": {},
   "outputs": [],
   "source": [
    "uri = 'http://purl.obolibrary.org/obo/'\n",
    "\n",
    "# rdf relevant predicates: \n",
    "smiles_pred = URIRef(uri+'chebi/smiles')"
   ]
  },
  {
   "cell_type": "markdown",
   "metadata": {},
   "source": [
    "Testing to get a smiles string for a single compound"
   ]
  },
  {
   "cell_type": "code",
   "execution_count": 24,
   "metadata": {},
   "outputs": [],
   "source": [
    "#CReating a uri for each Chebi_ID and then a generic uri that you need to tell the program that you're interested in the smiles string.\n",
    "#This searches the 'g' database for the smiles strings associated with the \n",
    "chebi_id = 'CHEBI_58349'\n",
    "chebi_id_uri = URIRef(uri+chebi_id)\n",
    "list_smiles = []\n",
    "for obj in g_chebi.objects(chebi_id_uri, smiles_pred):\n",
    "    list_smiles.append(str(obj)) "
   ]
  },
  {
   "cell_type": "code",
   "execution_count": 26,
   "metadata": {},
   "outputs": [
    {
     "data": {
      "text/plain": [
       "rdflib.term.URIRef('http://purl.obolibrary.org/obo/chebi/smiles')"
      ]
     },
     "execution_count": 26,
     "metadata": {},
     "output_type": "execute_result"
    }
   ],
   "source": [
    "chebi_id_uri\n",
    "smiles_pred"
   ]
  },
  {
   "cell_type": "code",
   "execution_count": 444,
   "metadata": {},
   "outputs": [
    {
     "data": {
      "text/plain": [
       "['NC(=O)c1ccc[n+](c1)[C@@H]1O[C@H](COP([O-])(=O)OP([O-])(=O)OC[C@H]2O[C@H]([C@H](OP([O-])([O-])=O)[C@@H]2O)n2cnc3c(N)ncnc23)[C@@H](O)[C@H]1O']"
      ]
     },
     "execution_count": 444,
     "metadata": {},
     "output_type": "execute_result"
    }
   ],
   "source": [
    "list_smiles"
   ]
  },
  {
   "cell_type": "code",
   "execution_count": 27,
   "metadata": {},
   "outputs": [
    {
     "data": {
      "text/plain": [
       "1174"
      ]
     },
     "execution_count": 27,
     "metadata": {},
     "output_type": "execute_result"
    }
   ],
   "source": [
    "list_chebi = df_UP_rhea_chebi.ChEBI.unique().tolist()\n",
    "len(list_chebi)"
   ]
  },
  {
   "cell_type": "code",
   "execution_count": 29,
   "metadata": {},
   "outputs": [
    {
     "data": {
      "text/html": [
       "<div>\n",
       "<style scoped>\n",
       "    .dataframe tbody tr th:only-of-type {\n",
       "        vertical-align: middle;\n",
       "    }\n",
       "\n",
       "    .dataframe tbody tr th {\n",
       "        vertical-align: top;\n",
       "    }\n",
       "\n",
       "    .dataframe thead th {\n",
       "        text-align: right;\n",
       "    }\n",
       "</style>\n",
       "<table border=\"1\" class=\"dataframe\">\n",
       "  <thead>\n",
       "    <tr style=\"text-align: right;\">\n",
       "      <th></th>\n",
       "      <th>Entry</th>\n",
       "      <th>RheaID</th>\n",
       "      <th>type</th>\n",
       "      <th>ChEBI</th>\n",
       "    </tr>\n",
       "  </thead>\n",
       "  <tbody>\n",
       "    <tr>\n",
       "      <th>41</th>\n",
       "      <td>P9WHV5</td>\n",
       "      <td>21528</td>\n",
       "      <td>LEFT</td>\n",
       "      <td>POLYMER_9859</td>\n",
       "    </tr>\n",
       "    <tr>\n",
       "      <th>46</th>\n",
       "      <td>P96374</td>\n",
       "      <td>21528</td>\n",
       "      <td>LEFT</td>\n",
       "      <td>POLYMER_9859</td>\n",
       "    </tr>\n",
       "    <tr>\n",
       "      <th>1514</th>\n",
       "      <td>O05877</td>\n",
       "      <td>55412</td>\n",
       "      <td>LEFT</td>\n",
       "      <td>POLYMER_9859</td>\n",
       "    </tr>\n",
       "    <tr>\n",
       "      <th>1994</th>\n",
       "      <td>P9WIN1</td>\n",
       "      <td>22036</td>\n",
       "      <td>LEFT</td>\n",
       "      <td>POLYMER_9859</td>\n",
       "    </tr>\n",
       "    <tr>\n",
       "      <th>2696</th>\n",
       "      <td>P9WHV9</td>\n",
       "      <td>19573</td>\n",
       "      <td>LEFT</td>\n",
       "      <td>POLYMER_9859</td>\n",
       "    </tr>\n",
       "  </tbody>\n",
       "</table>\n",
       "</div>"
      ],
      "text/plain": [
       "       Entry  RheaID  type         ChEBI\n",
       "41    P9WHV5   21528  LEFT  POLYMER_9859\n",
       "46    P96374   21528  LEFT  POLYMER_9859\n",
       "1514  O05877   55412  LEFT  POLYMER_9859\n",
       "1994  P9WIN1   22036  LEFT  POLYMER_9859\n",
       "2696  P9WHV9   19573  LEFT  POLYMER_9859"
      ]
     },
     "execution_count": 29,
     "metadata": {},
     "output_type": "execute_result"
    }
   ],
   "source": [
    "df_UP_rhea_chebi[df_UP_rhea_chebi.ChEBI == 'POLYMER_9859']"
   ]
  },
  {
   "cell_type": "code",
   "execution_count": 28,
   "metadata": {},
   "outputs": [
    {
     "name": "stdout",
     "output_type": "stream",
     "text": [
      "POLYMER_9859 zero smiles\n",
      "POLYMER_14279 zero smiles\n",
      "POLYMER_11133 zero smiles\n",
      "POLYMER_11132 zero smiles\n",
      "POLYMER_11129 zero smiles\n",
      "POLYMER_11128 zero smiles\n",
      "POLYMER_14280 zero smiles\n",
      "POLYMER_9527 zero smiles\n",
      "POLYMER_9517 zero smiles\n",
      "CHEBI_84139 zero smiles\n",
      "POLYMER_9537 zero smiles\n",
      "POLYMER_9539 zero smiles\n",
      "POLYMER_9565 zero smiles\n",
      "POLYMER_9566 zero smiles\n",
      "POLYMER_9602 zero smiles\n",
      "POLYMER_9603 zero smiles\n",
      "POLYMER_9584 zero smiles\n",
      "POLYMER_9586 zero smiles\n",
      "POLYMER_11130 zero smiles\n",
      "POLYMER_11131 zero smiles\n",
      "POLYMER_12939 zero smiles\n",
      "POLYMER_14378 zero smiles\n",
      "POLYMER_12940 zero smiles\n",
      "POLYMER_13431 zero smiles\n",
      "POLYMER_9587 zero smiles\n",
      "POLYMER_14738 zero smiles\n",
      "POLYMER_14740 zero smiles\n",
      "POLYMER_9564 zero smiles\n",
      "POLYMER_9563 zero smiles\n",
      "POLYMER_10183 zero smiles\n",
      "POLYMER_14708 zero smiles\n",
      "POLYMER_14709 zero smiles\n"
     ]
    }
   ],
   "source": [
    "list_smiles_ALL = []\n",
    "for chebi_id in list_chebi:\n",
    "    \n",
    "    chebi_id_uri = URIRef(uri+chebi_id)\n",
    "    #SOme CHebIDs return more than one smiles, so you create a list of smiles for each chebi ID.\n",
    "    list_smiles = []\n",
    "    for obj in g_chebi.objects(chebi_id_uri, smiles_pred):\n",
    "        list_smiles.append(str(obj)) \n",
    "        \n",
    "    #If there are no smiles associated with it, then you would print 'no smiles'.\n",
    "    if len(list_smiles)==0:\n",
    "        print(chebi_id, 'zero smiles')\n",
    "        list_smiles.append('NaN')\n",
    "    if len(list_smiles)>1:\n",
    "        print(chebi_id, 'more than 1 smiles')\n",
    "        \n",
    "    list_smiles_ALL+=list_smiles\n",
    "        "
   ]
  },
  {
   "cell_type": "code",
   "execution_count": 44,
   "metadata": {},
   "outputs": [
    {
     "data": {
      "text/plain": [
       "['C([C@@H](N*)CSSC[C@@H](C(=O)*)N*)(=O)*',\n",
       " '[H]O[H]',\n",
       " 'O=C(*)[C@@H](N*)CCSC',\n",
       " 'C(=O)(*)[C@@H](N*)CS',\n",
       " 'C(*)(=O)[C@@H](N*)CC[S@@](=O)C']"
      ]
     },
     "execution_count": 44,
     "metadata": {},
     "output_type": "execute_result"
    }
   ],
   "source": [
    "list_smiles_ALL[:5]"
   ]
  },
  {
   "cell_type": "code",
   "execution_count": 45,
   "metadata": {},
   "outputs": [
    {
     "data": {
      "text/html": [
       "<div>\n",
       "<style scoped>\n",
       "    .dataframe tbody tr th:only-of-type {\n",
       "        vertical-align: middle;\n",
       "    }\n",
       "\n",
       "    .dataframe tbody tr th {\n",
       "        vertical-align: top;\n",
       "    }\n",
       "\n",
       "    .dataframe thead th {\n",
       "        text-align: right;\n",
       "    }\n",
       "</style>\n",
       "<table border=\"1\" class=\"dataframe\">\n",
       "  <thead>\n",
       "    <tr style=\"text-align: right;\">\n",
       "      <th></th>\n",
       "      <th>ChEBI</th>\n",
       "      <th>smiles</th>\n",
       "    </tr>\n",
       "  </thead>\n",
       "  <tbody>\n",
       "    <tr>\n",
       "      <th>0</th>\n",
       "      <td>CHEBI_50058</td>\n",
       "      <td>C([C@@H](N*)CSSC[C@@H](C(=O)*)N*)(=O)*</td>\n",
       "    </tr>\n",
       "    <tr>\n",
       "      <th>1</th>\n",
       "      <td>CHEBI_15377</td>\n",
       "      <td>[H]O[H]</td>\n",
       "    </tr>\n",
       "  </tbody>\n",
       "</table>\n",
       "</div>"
      ],
      "text/plain": [
       "         ChEBI                                  smiles\n",
       "0  CHEBI_50058  C([C@@H](N*)CSSC[C@@H](C(=O)*)N*)(=O)*\n",
       "1  CHEBI_15377                                 [H]O[H]"
      ]
     },
     "execution_count": 45,
     "metadata": {},
     "output_type": "execute_result"
    }
   ],
   "source": [
    "df_chebi_smiles = pd.DataFrame()\n",
    "df_chebi_smiles['ChEBI'] = list_chebi\n",
    "df_chebi_smiles['smiles'] = list_smiles_ALL\n",
    "df_chebi_smiles.head(2)"
   ]
  },
  {
   "cell_type": "code",
   "execution_count": 46,
   "metadata": {},
   "outputs": [
    {
     "data": {
      "text/plain": [
       "(1174, 2)"
      ]
     },
     "execution_count": 46,
     "metadata": {},
     "output_type": "execute_result"
    }
   ],
   "source": [
    "df_chebi_smiles.shape"
   ]
  },
  {
   "cell_type": "markdown",
   "metadata": {},
   "source": [
    "#### One final merge: "
   ]
  },
  {
   "cell_type": "code",
   "execution_count": 33,
   "metadata": {},
   "outputs": [],
   "source": [
    "df_UP_rhea_chebi_smiles = df_UP_rhea_chebi.merge(df_chebi_smiles, on = 'ChEBI', how = 'inner')"
   ]
  },
  {
   "cell_type": "code",
   "execution_count": 34,
   "metadata": {},
   "outputs": [],
   "source": [
    "df_UP_rhea_chebi_smiles.sort_values(by = ['Entry', 'RheaID', 'type'], inplace=True)\n",
    "df_UP_rhea_chebi_smiles.reset_index(drop=True, inplace=True)"
   ]
  },
  {
   "cell_type": "code",
   "execution_count": 35,
   "metadata": {},
   "outputs": [
    {
     "data": {
      "text/plain": [
       "(6036, 5)"
      ]
     },
     "execution_count": 35,
     "metadata": {},
     "output_type": "execute_result"
    }
   ],
   "source": [
    "df_UP_rhea_chebi_smiles.shape"
   ]
  },
  {
   "cell_type": "code",
   "execution_count": 37,
   "metadata": {},
   "outputs": [
    {
     "data": {
      "text/html": [
       "<div>\n",
       "<style scoped>\n",
       "    .dataframe tbody tr th:only-of-type {\n",
       "        vertical-align: middle;\n",
       "    }\n",
       "\n",
       "    .dataframe tbody tr th {\n",
       "        vertical-align: top;\n",
       "    }\n",
       "\n",
       "    .dataframe thead th {\n",
       "        text-align: right;\n",
       "    }\n",
       "</style>\n",
       "<table border=\"1\" class=\"dataframe\">\n",
       "  <thead>\n",
       "    <tr style=\"text-align: right;\">\n",
       "      <th></th>\n",
       "      <th>Entry</th>\n",
       "      <th>RheaID</th>\n",
       "      <th>type</th>\n",
       "      <th>ChEBI</th>\n",
       "      <th>smiles</th>\n",
       "    </tr>\n",
       "  </thead>\n",
       "  <tbody>\n",
       "    <tr>\n",
       "      <th>0</th>\n",
       "      <td>A0A077EWA5</td>\n",
       "      <td>51268</td>\n",
       "      <td>LEFT</td>\n",
       "      <td>CHEBI_59789</td>\n",
       "      <td>C[S+](CC[C@H]([NH3+])C([O-])=O)C[C@H]1O[C@H]([...</td>\n",
       "    </tr>\n",
       "    <tr>\n",
       "      <th>1</th>\n",
       "      <td>A0A077EWA5</td>\n",
       "      <td>51268</td>\n",
       "      <td>LEFT</td>\n",
       "      <td>CHEBI_134001</td>\n",
       "      <td>C1(=C(C=C(C=C1)C[NH2+]CCC2=CC=C(C=C2)O)O)O</td>\n",
       "    </tr>\n",
       "    <tr>\n",
       "      <th>2</th>\n",
       "      <td>A0A077EWA5</td>\n",
       "      <td>51268</td>\n",
       "      <td>RIGHT</td>\n",
       "      <td>CHEBI_15378</td>\n",
       "      <td>[H+]</td>\n",
       "    </tr>\n",
       "  </tbody>\n",
       "</table>\n",
       "</div>"
      ],
      "text/plain": [
       "        Entry RheaID   type         ChEBI  \\\n",
       "0  A0A077EWA5  51268   LEFT   CHEBI_59789   \n",
       "1  A0A077EWA5  51268   LEFT  CHEBI_134001   \n",
       "2  A0A077EWA5  51268  RIGHT   CHEBI_15378   \n",
       "\n",
       "                                              smiles  \n",
       "0  C[S+](CC[C@H]([NH3+])C([O-])=O)C[C@H]1O[C@H]([...  \n",
       "1         C1(=C(C=C(C=C1)C[NH2+]CCC2=CC=C(C=C2)O)O)O  \n",
       "2                                               [H+]  "
      ]
     },
     "execution_count": 37,
     "metadata": {},
     "output_type": "execute_result"
    }
   ],
   "source": [
    "df_UP_rhea_chebi_smiles.head(3)"
   ]
  },
  {
   "cell_type": "code",
   "execution_count": 38,
   "metadata": {},
   "outputs": [],
   "source": [
    "file_out = '../../data/mohammed/SAM_UP45_Rhea_ChEBI_smiles.csv'\n",
    "df_UP_rhea_chebi_smiles.to_csv(file_out, index = False)"
   ]
  },
  {
   "cell_type": "markdown",
   "metadata": {},
   "source": [
    "### Same database above, but discarding NAD(H), NADP(H), CO2, H+, (others?)"
   ]
  },
  {
   "cell_type": "code",
   "execution_count": null,
   "metadata": {},
   "outputs": [],
   "source": [
    "cofactor_IDS = ['CHEBI_57945', 'CHEBI_15378', 'CHEBI_57540', 'CHEBI_58349', 'CHEBI_57783', 'CHEBI_16526']"
   ]
  },
  {
   "cell_type": "code",
   "execution_count": 473,
   "metadata": {},
   "outputs": [],
   "source": [
    "df_UP_rhea_chebi_smiles_noCF = df_UP_rhea_chebi_smiles[~df_UP_rhea_chebi_smiles.ChEBI.isin(cofactor_IDS)].copy()\n",
    "df_UP_rhea_chebi_smiles_noCF.reset_index(inplace=True, drop=True)"
   ]
  },
  {
   "cell_type": "code",
   "execution_count": 482,
   "metadata": {},
   "outputs": [
    {
     "data": {
      "text/plain": [
       "425"
      ]
     },
     "execution_count": 482,
     "metadata": {},
     "output_type": "execute_result"
    }
   ],
   "source": [
    "len(df_UP_rhea_chebi_smiles_noCF['ChEBI'].unique().tolist())"
   ]
  },
  {
   "cell_type": "code",
   "execution_count": 480,
   "metadata": {},
   "outputs": [
    {
     "data": {
      "text/plain": [
       "421"
      ]
     },
     "execution_count": 480,
     "metadata": {},
     "output_type": "execute_result"
    }
   ],
   "source": [
    "len(df_UP_rhea_chebi_smiles_noCF['smiles'].unique().tolist())"
   ]
  },
  {
   "cell_type": "code",
   "execution_count": 475,
   "metadata": {},
   "outputs": [
    {
     "data": {
      "text/html": [
       "<div>\n",
       "<style scoped>\n",
       "    .dataframe tbody tr th:only-of-type {\n",
       "        vertical-align: middle;\n",
       "    }\n",
       "\n",
       "    .dataframe tbody tr th {\n",
       "        vertical-align: top;\n",
       "    }\n",
       "\n",
       "    .dataframe thead th {\n",
       "        text-align: right;\n",
       "    }\n",
       "</style>\n",
       "<table border=\"1\" class=\"dataframe\">\n",
       "  <thead>\n",
       "    <tr style=\"text-align: right;\">\n",
       "      <th></th>\n",
       "      <th>Entry</th>\n",
       "      <th>RheaID</th>\n",
       "      <th>type</th>\n",
       "      <th>ChEBI</th>\n",
       "      <th>smiles</th>\n",
       "    </tr>\n",
       "  </thead>\n",
       "  <tbody>\n",
       "    <tr>\n",
       "      <th>0</th>\n",
       "      <td>A0A024R7X6</td>\n",
       "      <td>25033</td>\n",
       "      <td>LEFT</td>\n",
       "      <td>CHEBI_17336</td>\n",
       "      <td>CC(\\C=C\\C=C(C)\\C=C\\C1=C(C)CCCC1(C)C)=C/CO</td>\n",
       "    </tr>\n",
       "    <tr>\n",
       "      <th>1</th>\n",
       "      <td>A0A024R7X6</td>\n",
       "      <td>25033</td>\n",
       "      <td>RIGHT</td>\n",
       "      <td>CHEBI_17898</td>\n",
       "      <td>[H]C(=O)\\C=C(C)\\C=C\\C=C(C)\\C=C\\C1=C(C)CCCC1(C)C</td>\n",
       "    </tr>\n",
       "    <tr>\n",
       "      <th>2</th>\n",
       "      <td>A0A075TRB3</td>\n",
       "      <td>62216</td>\n",
       "      <td>LEFT</td>\n",
       "      <td>CHEBI_145109</td>\n",
       "      <td>C1(C(=C[C@@H]([C@@H]2[C@H]1O2)O)CO)=O</td>\n",
       "    </tr>\n",
       "    <tr>\n",
       "      <th>3</th>\n",
       "      <td>A0A075TRB3</td>\n",
       "      <td>62216</td>\n",
       "      <td>RIGHT</td>\n",
       "      <td>CHEBI_145110</td>\n",
       "      <td>C1(C(=CC([C@@H]2[C@H]1O2)=O)CO)=O</td>\n",
       "    </tr>\n",
       "    <tr>\n",
       "      <th>4</th>\n",
       "      <td>A0A096NEU8</td>\n",
       "      <td>25033</td>\n",
       "      <td>LEFT</td>\n",
       "      <td>CHEBI_17336</td>\n",
       "      <td>CC(\\C=C\\C=C(C)\\C=C\\C1=C(C)CCCC1(C)C)=C/CO</td>\n",
       "    </tr>\n",
       "    <tr>\n",
       "      <th>5</th>\n",
       "      <td>A0A096NEU8</td>\n",
       "      <td>25033</td>\n",
       "      <td>RIGHT</td>\n",
       "      <td>CHEBI_17898</td>\n",
       "      <td>[H]C(=O)\\C=C(C)\\C=C\\C=C(C)\\C=C\\C1=C(C)CCCC1(C)C</td>\n",
       "    </tr>\n",
       "    <tr>\n",
       "      <th>6</th>\n",
       "      <td>A0A0D9RMB0</td>\n",
       "      <td>25033</td>\n",
       "      <td>LEFT</td>\n",
       "      <td>CHEBI_17336</td>\n",
       "      <td>CC(\\C=C\\C=C(C)\\C=C\\C1=C(C)CCCC1(C)C)=C/CO</td>\n",
       "    </tr>\n",
       "    <tr>\n",
       "      <th>7</th>\n",
       "      <td>A0A0D9RMB0</td>\n",
       "      <td>25033</td>\n",
       "      <td>RIGHT</td>\n",
       "      <td>CHEBI_17898</td>\n",
       "      <td>[H]C(=O)\\C=C(C)\\C=C\\C=C(C)\\C=C\\C1=C(C)CCCC1(C)C</td>\n",
       "    </tr>\n",
       "    <tr>\n",
       "      <th>8</th>\n",
       "      <td>A0A0L8VV04</td>\n",
       "      <td>48680</td>\n",
       "      <td>LEFT</td>\n",
       "      <td>CHEBI_85440</td>\n",
       "      <td>CC(C)(COP([O-])(=O)OP([O-])(=O)OC[C@H]1O[C@H](...</td>\n",
       "    </tr>\n",
       "    <tr>\n",
       "      <th>9</th>\n",
       "      <td>A0A0L8VV04</td>\n",
       "      <td>48680</td>\n",
       "      <td>RIGHT</td>\n",
       "      <td>CHEBI_90725</td>\n",
       "      <td>[C@@H]1(N2C3=C(C(=NC=N3)N)N=C2)O[C@H](COP(OP(O...</td>\n",
       "    </tr>\n",
       "  </tbody>\n",
       "</table>\n",
       "</div>"
      ],
      "text/plain": [
       "        Entry RheaID   type         ChEBI  \\\n",
       "0  A0A024R7X6  25033   LEFT   CHEBI_17336   \n",
       "1  A0A024R7X6  25033  RIGHT   CHEBI_17898   \n",
       "2  A0A075TRB3  62216   LEFT  CHEBI_145109   \n",
       "3  A0A075TRB3  62216  RIGHT  CHEBI_145110   \n",
       "4  A0A096NEU8  25033   LEFT   CHEBI_17336   \n",
       "5  A0A096NEU8  25033  RIGHT   CHEBI_17898   \n",
       "6  A0A0D9RMB0  25033   LEFT   CHEBI_17336   \n",
       "7  A0A0D9RMB0  25033  RIGHT   CHEBI_17898   \n",
       "8  A0A0L8VV04  48680   LEFT   CHEBI_85440   \n",
       "9  A0A0L8VV04  48680  RIGHT   CHEBI_90725   \n",
       "\n",
       "                                              smiles  \n",
       "0          CC(\\C=C\\C=C(C)\\C=C\\C1=C(C)CCCC1(C)C)=C/CO  \n",
       "1    [H]C(=O)\\C=C(C)\\C=C\\C=C(C)\\C=C\\C1=C(C)CCCC1(C)C  \n",
       "2              C1(C(=C[C@@H]([C@@H]2[C@H]1O2)O)CO)=O  \n",
       "3                  C1(C(=CC([C@@H]2[C@H]1O2)=O)CO)=O  \n",
       "4          CC(\\C=C\\C=C(C)\\C=C\\C1=C(C)CCCC1(C)C)=C/CO  \n",
       "5    [H]C(=O)\\C=C(C)\\C=C\\C=C(C)\\C=C\\C1=C(C)CCCC1(C)C  \n",
       "6          CC(\\C=C\\C=C(C)\\C=C\\C1=C(C)CCCC1(C)C)=C/CO  \n",
       "7    [H]C(=O)\\C=C(C)\\C=C\\C=C(C)\\C=C\\C1=C(C)CCCC1(C)C  \n",
       "8  CC(C)(COP([O-])(=O)OP([O-])(=O)OC[C@H]1O[C@H](...  \n",
       "9  [C@@H]1(N2C3=C(C(=NC=N3)N)N=C2)O[C@H](COP(OP(O...  "
      ]
     },
     "execution_count": 475,
     "metadata": {},
     "output_type": "execute_result"
    }
   ],
   "source": [
    "df_UP_rhea_chebi_smiles_noCF.head(10)"
   ]
  },
  {
   "cell_type": "markdown",
   "metadata": {},
   "source": [
    "## Exercise 1: NAD vs. NADP:"
   ]
  },
  {
   "cell_type": "code",
   "execution_count": null,
   "metadata": {},
   "outputs": [],
   "source": []
  },
  {
   "cell_type": "markdown",
   "metadata": {},
   "source": [
    "## Exercise 2: Reactions involving CO2"
   ]
  },
  {
   "cell_type": "code",
   "execution_count": null,
   "metadata": {},
   "outputs": [],
   "source": []
  },
  {
   "cell_type": "markdown",
   "metadata": {},
   "source": [
    "# Dig a bit into this: \n",
    "\n",
    "You might need to discard some of these (decide on a case-by-case basis):"
   ]
  },
  {
   "cell_type": "code",
   "execution_count": 310,
   "metadata": {},
   "outputs": [
    {
     "data": {
      "text/plain": [
       "19397    6\n",
       "15805    5\n",
       "38575    4\n",
       "12044    4\n",
       "12456    4\n",
       "18833    3\n",
       "14981    2\n",
       "Name: RheaID, dtype: int64"
      ]
     },
     "execution_count": 310,
     "metadata": {},
     "output_type": "execute_result"
    }
   ],
   "source": [
    "df_Rhea_ChEBI.RheaID.value_counts().head(7)"
   ]
  },
  {
   "cell_type": "code",
   "execution_count": 311,
   "metadata": {},
   "outputs": [
    {
     "data": {
      "text/html": [
       "<div>\n",
       "<style scoped>\n",
       "    .dataframe tbody tr th:only-of-type {\n",
       "        vertical-align: middle;\n",
       "    }\n",
       "\n",
       "    .dataframe tbody tr th {\n",
       "        vertical-align: top;\n",
       "    }\n",
       "\n",
       "    .dataframe thead th {\n",
       "        text-align: right;\n",
       "    }\n",
       "</style>\n",
       "<table border=\"1\" class=\"dataframe\">\n",
       "  <thead>\n",
       "    <tr style=\"text-align: right;\">\n",
       "      <th></th>\n",
       "      <th>Entry</th>\n",
       "      <th>RheaID</th>\n",
       "    </tr>\n",
       "  </thead>\n",
       "  <tbody>\n",
       "    <tr>\n",
       "      <th>241</th>\n",
       "      <td>Q09851</td>\n",
       "      <td>12044</td>\n",
       "    </tr>\n",
       "    <tr>\n",
       "      <th>1098</th>\n",
       "      <td>P40471</td>\n",
       "      <td>12044</td>\n",
       "    </tr>\n",
       "  </tbody>\n",
       "</table>\n",
       "</div>"
      ],
      "text/plain": [
       "       Entry RheaID\n",
       "241   Q09851  12044\n",
       "1098  P40471  12044"
      ]
     },
     "execution_count": 311,
     "metadata": {},
     "output_type": "execute_result"
    }
   ],
   "source": [
    "df_UP_rhea[df_UP_rhea.RheaID.values == '12044']"
   ]
  },
  {
   "cell_type": "markdown",
   "metadata": {},
   "source": [
    "And what exactly is the meaning and what are the consequences of this? "
   ]
  },
  {
   "cell_type": "code",
   "execution_count": 315,
   "metadata": {},
   "outputs": [
    {
     "data": {
      "text/html": [
       "<div>\n",
       "<style scoped>\n",
       "    .dataframe tbody tr th:only-of-type {\n",
       "        vertical-align: middle;\n",
       "    }\n",
       "\n",
       "    .dataframe tbody tr th {\n",
       "        vertical-align: top;\n",
       "    }\n",
       "\n",
       "    .dataframe thead th {\n",
       "        text-align: right;\n",
       "    }\n",
       "</style>\n",
       "<table border=\"1\" class=\"dataframe\">\n",
       "  <thead>\n",
       "    <tr style=\"text-align: right;\">\n",
       "      <th></th>\n",
       "      <th>RheaID</th>\n",
       "      <th>type</th>\n",
       "      <th>ChEBI</th>\n",
       "    </tr>\n",
       "  </thead>\n",
       "  <tbody>\n",
       "    <tr>\n",
       "      <th>10</th>\n",
       "      <td>48488</td>\n",
       "      <td>LEFT</td>\n",
       "      <td>GENERIC_14428</td>\n",
       "    </tr>\n",
       "    <tr>\n",
       "      <th>11</th>\n",
       "      <td>48488</td>\n",
       "      <td>RIGHT</td>\n",
       "      <td>GENERIC_14430</td>\n",
       "    </tr>\n",
       "    <tr>\n",
       "      <th>187</th>\n",
       "      <td>17397</td>\n",
       "      <td>LEFT</td>\n",
       "      <td>GENERIC_9945</td>\n",
       "    </tr>\n",
       "    <tr>\n",
       "      <th>188</th>\n",
       "      <td>17397</td>\n",
       "      <td>RIGHT</td>\n",
       "      <td>GENERIC_9916</td>\n",
       "    </tr>\n",
       "    <tr>\n",
       "      <th>316</th>\n",
       "      <td>22564</td>\n",
       "      <td>LEFT</td>\n",
       "      <td>GENERIC_9926</td>\n",
       "    </tr>\n",
       "  </tbody>\n",
       "</table>\n",
       "</div>"
      ],
      "text/plain": [
       "    RheaID   type          ChEBI\n",
       "10   48488   LEFT  GENERIC_14428\n",
       "11   48488  RIGHT  GENERIC_14430\n",
       "187  17397   LEFT   GENERIC_9945\n",
       "188  17397  RIGHT   GENERIC_9916\n",
       "316  22564   LEFT   GENERIC_9926"
      ]
     },
     "execution_count": 315,
     "metadata": {},
     "output_type": "execute_result"
    }
   ],
   "source": [
    "df_Rhea_ChEBI[df_Rhea_ChEBI.ChEBI.str.contains('GENERIC')].head(5)"
   ]
  },
  {
   "cell_type": "code",
   "execution_count": 325,
   "metadata": {},
   "outputs": [],
   "source": [
    "RHEA_id = '48488'"
   ]
  },
  {
   "cell_type": "code",
   "execution_count": 326,
   "metadata": {},
   "outputs": [
    {
     "data": {
      "text/html": [
       "<div>\n",
       "<style scoped>\n",
       "    .dataframe tbody tr th:only-of-type {\n",
       "        vertical-align: middle;\n",
       "    }\n",
       "\n",
       "    .dataframe tbody tr th {\n",
       "        vertical-align: top;\n",
       "    }\n",
       "\n",
       "    .dataframe thead th {\n",
       "        text-align: right;\n",
       "    }\n",
       "</style>\n",
       "<table border=\"1\" class=\"dataframe\">\n",
       "  <thead>\n",
       "    <tr style=\"text-align: right;\">\n",
       "      <th></th>\n",
       "      <th>RheaID</th>\n",
       "      <th>type</th>\n",
       "      <th>ChEBI</th>\n",
       "    </tr>\n",
       "  </thead>\n",
       "  <tbody>\n",
       "    <tr>\n",
       "      <th>10</th>\n",
       "      <td>48488</td>\n",
       "      <td>LEFT</td>\n",
       "      <td>GENERIC_14428</td>\n",
       "    </tr>\n",
       "    <tr>\n",
       "      <th>11</th>\n",
       "      <td>48488</td>\n",
       "      <td>RIGHT</td>\n",
       "      <td>GENERIC_14430</td>\n",
       "    </tr>\n",
       "  </tbody>\n",
       "</table>\n",
       "</div>"
      ],
      "text/plain": [
       "   RheaID   type          ChEBI\n",
       "10  48488   LEFT  GENERIC_14428\n",
       "11  48488  RIGHT  GENERIC_14430"
      ]
     },
     "execution_count": 326,
     "metadata": {},
     "output_type": "execute_result"
    }
   ],
   "source": [
    "df_Rhea_ChEBI[df_Rhea_ChEBI.RheaID.values == RHEA_id]"
   ]
  },
  {
   "cell_type": "code",
   "execution_count": 320,
   "metadata": {},
   "outputs": [
    {
     "data": {
      "text/html": [
       "<div>\n",
       "<style scoped>\n",
       "    .dataframe tbody tr th:only-of-type {\n",
       "        vertical-align: middle;\n",
       "    }\n",
       "\n",
       "    .dataframe tbody tr th {\n",
       "        vertical-align: top;\n",
       "    }\n",
       "\n",
       "    .dataframe thead th {\n",
       "        text-align: right;\n",
       "    }\n",
       "</style>\n",
       "<table border=\"1\" class=\"dataframe\">\n",
       "  <thead>\n",
       "    <tr style=\"text-align: right;\">\n",
       "      <th></th>\n",
       "      <th>Entry</th>\n",
       "      <th>RheaID</th>\n",
       "    </tr>\n",
       "  </thead>\n",
       "  <tbody>\n",
       "    <tr>\n",
       "      <th>7</th>\n",
       "      <td>O54753</td>\n",
       "      <td>48488</td>\n",
       "    </tr>\n",
       "    <tr>\n",
       "      <th>37</th>\n",
       "      <td>O54909</td>\n",
       "      <td>48488</td>\n",
       "    </tr>\n",
       "  </tbody>\n",
       "</table>\n",
       "</div>"
      ],
      "text/plain": [
       "     Entry RheaID\n",
       "7   O54753  48488\n",
       "37  O54909  48488"
      ]
     },
     "execution_count": 320,
     "metadata": {},
     "output_type": "execute_result"
    }
   ],
   "source": [
    "df_UP_rhea[df_UP_rhea.RheaID.values == rid].head(2)"
   ]
  },
  {
   "cell_type": "code",
   "execution_count": 321,
   "metadata": {},
   "outputs": [],
   "source": [
    "rxn_id = URIRef(rh+RHEA_id)\n",
    "rxn_id_L = URIRef(rh+RHEA_id+'_L')\n",
    "rxn_id_R = URIRef(rh+RHEA_id+'_R')"
   ]
  },
  {
   "cell_type": "code",
   "execution_count": 368,
   "metadata": {},
   "outputs": [],
   "source": [
    "reactive_part_pred = URIRef(rh+'reactivePart')\n",
    "chebi_pred = URIRef(rh+'chebi')"
   ]
  },
  {
   "cell_type": "code",
   "execution_count": 385,
   "metadata": {},
   "outputs": [],
   "source": [
    "rxn_id_side = rxn_id_R"
   ]
  },
  {
   "cell_type": "code",
   "execution_count": 386,
   "metadata": {},
   "outputs": [
    {
     "name": "stdout",
     "output_type": "stream",
     "text": [
      "WARNING: generic compound\n"
     ]
    }
   ],
   "source": [
    "list_part_comps = []\n",
    "for obj in g.objects(rxn_id_side, contains_pred):\n",
    "    list_part_comps.append(obj)\n",
    "\n",
    "list_comps = []\n",
    "for part_comp in list_part_comps:\n",
    "    for obj in g.objects(part_comp, compound_pred):\n",
    "        list_comps.append(obj)\n",
    "        \n",
    "list_chebi = []\n",
    "for comp in list_comps:\n",
    "    for obj in g.objects(comp, accession_pred):\n",
    "        \n",
    "        if (str(obj).split(':')[0] == 'GENERIC'):\n",
    "            print('WARNING: generic compound')\n",
    "            \n",
    "            list_reactive = []\n",
    "            for obj in g.objects(comp, reactive_part_pred):\n",
    "                list_reactive.append(obj)\n",
    "            \n",
    "            for reactive in list_reactive:\n",
    "                for obj in g.objects(reactive, chebi_pred):\n",
    "                      list_chebi.append(str(obj).split('/')[-1])\n",
    "                 \n",
    "        else:\n",
    "            list_chebi.append( '_'.join(str(obj).split(':')) )"
   ]
  },
  {
   "cell_type": "code",
   "execution_count": 387,
   "metadata": {},
   "outputs": [
    {
     "data": {
      "text/plain": [
       "[rdflib.term.URIRef('http://rdf.rhea-db.org/Participant_48488_compound_3249'),\n",
       " rdflib.term.URIRef('http://rdf.rhea-db.org/Participant_48488_compound_1650'),\n",
       " rdflib.term.URIRef('http://rdf.rhea-db.org/Participant_48488_compound_14430')]"
      ]
     },
     "execution_count": 387,
     "metadata": {},
     "output_type": "execute_result"
    }
   ],
   "source": [
    "list_part_comps"
   ]
  },
  {
   "cell_type": "code",
   "execution_count": 388,
   "metadata": {},
   "outputs": [
    {
     "data": {
      "text/plain": [
       "[rdflib.term.URIRef('http://rdf.rhea-db.org/Compound_3249'),\n",
       " rdflib.term.URIRef('http://rdf.rhea-db.org/Compound_1650'),\n",
       " rdflib.term.URIRef('http://rdf.rhea-db.org/Compound_14430')]"
      ]
     },
     "execution_count": 388,
     "metadata": {},
     "output_type": "execute_result"
    }
   ],
   "source": [
    "list_comps"
   ]
  },
  {
   "cell_type": "code",
   "execution_count": 389,
   "metadata": {},
   "outputs": [
    {
     "data": {
      "text/plain": [
       "['CHEBI_15378', 'CHEBI_57945', 'CHEBI_83228', 'CHEBI_17898']"
      ]
     },
     "execution_count": 389,
     "metadata": {},
     "output_type": "execute_result"
    }
   ],
   "source": [
    "list_chebi"
   ]
  },
  {
   "cell_type": "code",
   "execution_count": 357,
   "metadata": {},
   "outputs": [
    {
     "name": "stdout",
     "output_type": "stream",
     "text": [
      "(rdflib.term.URIRef('http://rdf.rhea-db.org/id'), rdflib.term.Literal('14428', datatype=rdflib.term.URIRef('http://www.w3.org/2001/XMLSchema#long')))\n",
      "(rdflib.term.URIRef('http://rdf.rhea-db.org/reactivePart'), rdflib.term.URIRef('http://rdf.rhea-db.org/Compound_14428_rp2'))\n",
      "(rdflib.term.URIRef('http://rdf.rhea-db.org/htmlName'), rdflib.term.Literal('<i>all</i>-<i>trans</i>-retinol--[retinol-binding protein]'))\n",
      "(rdflib.term.URIRef('http://www.w3.org/2000/01/rdf-schema#subClassOf'), rdflib.term.URIRef('http://rdf.rhea-db.org/GenericPolypeptide'))\n",
      "(rdflib.term.URIRef('http://rdf.rhea-db.org/accession'), rdflib.term.Literal('GENERIC:14428'))\n",
      "(rdflib.term.URIRef('http://rdf.rhea-db.org/reactivePart'), rdflib.term.URIRef('http://rdf.rhea-db.org/Compound_14428_rp1'))\n",
      "(rdflib.term.URIRef('http://rdf.rhea-db.org/name'), rdflib.term.Literal('all-trans-retinol--[retinol-binding protein]'))\n"
     ]
    }
   ],
   "source": [
    "for pred_obj in g.predicate_objects(list_comps[1]):\n",
    "    print(pred_obj)"
   ]
  },
  {
   "cell_type": "markdown",
   "metadata": {},
   "source": [
    "This is what you eventually need to fetch (if you run into a compound that's only returning \"generic\")"
   ]
  },
  {
   "cell_type": "code",
   "execution_count": 349,
   "metadata": {},
   "outputs": [
    {
     "name": "stdout",
     "output_type": "stream",
     "text": [
      "http://rdf.rhea-db.org/Compound_14428_rp2\n",
      "http://rdf.rhea-db.org/Compound_14428_rp1\n"
     ]
    }
   ],
   "source": [
    "for obj in g.objects(comp, reactive_part_pred):\n",
    "    print(obj)"
   ]
  },
  {
   "cell_type": "code",
   "execution_count": 363,
   "metadata": {},
   "outputs": [
    {
     "name": "stdout",
     "output_type": "stream",
     "text": [
      "(rdflib.term.URIRef('http://www.w3.org/2000/01/rdf-schema#subClassOf'), rdflib.term.URIRef('http://rdf.rhea-db.org/ReactivePart'))\n",
      "(rdflib.term.URIRef('http://rdf.rhea-db.org/name'), rdflib.term.Literal('all-trans-retinol'))\n",
      "(rdflib.term.URIRef('http://www.w3.org/2000/01/rdf-schema#subClassOf'), rdflib.term.URIRef('http://purl.obolibrary.org/obo/CHEBI_17336'))\n",
      "(rdflib.term.URIRef('http://rdf.rhea-db.org/formula'), rdflib.term.Literal('C20H30O'))\n",
      "(rdflib.term.URIRef('http://rdf.rhea-db.org/htmlName'), rdflib.term.Literal('<i>all</i>-<i>trans</i>-retinol'))\n",
      "(rdflib.term.URIRef('http://rdf.rhea-db.org/charge'), rdflib.term.Literal('0'))\n",
      "(rdflib.term.URIRef('http://rdf.rhea-db.org/chebi'), rdflib.term.URIRef('http://purl.obolibrary.org/obo/CHEBI_17336'))\n"
     ]
    }
   ],
   "source": [
    "cid = URIRef('http://rdf.rhea-db.org/Compound_14428_rp1')\n",
    "for pred_obj in g.predicate_objects(cid):\n",
    "    print(pred_obj)"
   ]
  },
  {
   "cell_type": "markdown",
   "metadata": {},
   "source": [
    "# Misc: "
   ]
  },
  {
   "cell_type": "code",
   "execution_count": null,
   "metadata": {},
   "outputs": [],
   "source": [
    "for pred_obj in g_chebi.predicate_objects(chebi_id_uri):\n",
    "    print(pred_obj)"
   ]
  },
  {
   "cell_type": "code",
   "execution_count": null,
   "metadata": {},
   "outputs": [],
   "source": []
  }
 ],
 "metadata": {
  "kernelspec": {
   "display_name": "Python 3 (ipykernel)",
   "language": "python",
   "name": "python3"
  },
  "language_info": {
   "codemirror_mode": {
    "name": "ipython",
    "version": 3
   },
   "file_extension": ".py",
   "mimetype": "text/x-python",
   "name": "python",
   "nbconvert_exporter": "python",
   "pygments_lexer": "ipython3",
   "version": "3.8.10"
  }
 },
 "nbformat": 4,
 "nbformat_minor": 4
}
