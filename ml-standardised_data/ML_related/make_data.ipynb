{
 "cells": [
  {
   "cell_type": "markdown",
   "metadata": {},
   "source": [
    "# Pre-process TnSeq data for classification learning: "
   ]
  },
  {
   "cell_type": "code",
   "execution_count": 1,
   "metadata": {
    "ExecuteTime": {
     "end_time": "2020-02-12T15:55:30.806007Z",
     "start_time": "2020-02-12T15:55:30.448907Z"
    }
   },
   "outputs": [],
   "source": [
    "import os\n",
    "import pathlib\n",
    "import numpy as np\n",
    "import pandas as pd"
   ]
  },
  {
   "cell_type": "markdown",
   "metadata": {},
   "source": [
    "### These were generated using: \n",
    "\n",
    "code/data_wrangling/Clare_take1.ipynb"
   ]
  },
  {
   "cell_type": "markdown",
   "metadata": {},
   "source": [
    "Choose data source / version:"
   ]
  },
  {
   "cell_type": "code",
   "execution_count": 2,
   "metadata": {},
   "outputs": [],
   "source": [
    "# version = 'old'\n",
    "# version = 'clare_all'\n",
    "version = 'clare_basis'"
   ]
  },
  {
   "cell_type": "code",
   "execution_count": 3,
   "metadata": {},
   "outputs": [],
   "source": [
    "if version == 'old':\n",
    "    fn_lfc = 'result_logfc_matrix_2020_08_27.csv'\n",
    "    fn_qval = 'result_qval_matrix_2020_08_27.csv'\n",
    "elif version == 'clare_all':\n",
    "    fn_lfc = 'result_logfc_matrix_2021_08_27.csv'\n",
    "    fn_qval = 'result_qval_matrix_2021_08_27.csv'\n",
    "elif version == 'clare_basis':\n",
    "    fn_lfc = 'result_logfc_matrix_2021_08_27_BASIS.csv'\n",
    "    fn_qval = 'result_qval_matrix_2021_08_27_BASIS.csv'\n",
    "\n",
    "path = '../data/standardized_data/'\n",
    "lfc = pd.read_csv(os.path.join(path, fn_lfc))\n",
    "qval = pd.read_csv(os.path.join(path, fn_qval))"
   ]
  },
  {
   "cell_type": "markdown",
   "metadata": {},
   "source": [
    "### Drop missing data:"
   ]
  },
  {
   "cell_type": "code",
   "execution_count": 4,
   "metadata": {
    "ExecuteTime": {
     "end_time": "2020-02-12T15:55:49.161338Z",
     "start_time": "2020-02-12T15:55:49.151365Z"
    }
   },
   "outputs": [
    {
     "name": "stdout",
     "output_type": "stream",
     "text": [
      "(4055, 126) (4055, 126)\n",
      "(3971, 126) (3971, 126)\n"
     ]
    }
   ],
   "source": [
    "print(lfc.shape, qval.shape)\n",
    "lfc = lfc.dropna(axis=0)\n",
    "qval = qval.dropna(axis=0)\n",
    "print(lfc.shape, qval.shape)"
   ]
  },
  {
   "cell_type": "markdown",
   "metadata": {},
   "source": [
    "### Load mycobrowser dataset: "
   ]
  },
  {
   "cell_type": "code",
   "execution_count": 5,
   "metadata": {
    "ExecuteTime": {
     "end_time": "2020-02-12T15:56:18.483686Z",
     "start_time": "2020-02-12T15:56:18.240325Z"
    }
   },
   "outputs": [
    {
     "data": {
      "text/html": [
       "<div>\n",
       "<style scoped>\n",
       "    .dataframe tbody tr th:only-of-type {\n",
       "        vertical-align: middle;\n",
       "    }\n",
       "\n",
       "    .dataframe tbody tr th {\n",
       "        vertical-align: top;\n",
       "    }\n",
       "\n",
       "    .dataframe thead th {\n",
       "        text-align: right;\n",
       "    }\n",
       "</style>\n",
       "<table border=\"1\" class=\"dataframe\">\n",
       "  <thead>\n",
       "    <tr style=\"text-align: right;\">\n",
       "      <th></th>\n",
       "      <th>Refseq_ID</th>\n",
       "      <th>Feature</th>\n",
       "      <th>Rv_ID</th>\n",
       "      <th>Name</th>\n",
       "      <th>Function</th>\n",
       "      <th>Product</th>\n",
       "      <th>Comments</th>\n",
       "      <th>Functional_Category</th>\n",
       "    </tr>\n",
       "  </thead>\n",
       "  <tbody>\n",
       "    <tr>\n",
       "      <th>0</th>\n",
       "      <td>NC_000962.3</td>\n",
       "      <td>CDS</td>\n",
       "      <td>Rv3728</td>\n",
       "      <td>Rv3728</td>\n",
       "      <td>Unknown, but seems involved in efflux system (...</td>\n",
       "      <td>Probable conserved two-domain membrane protein</td>\n",
       "      <td>Rv3728, (MTV025.076), len: 1065 aa. Probable c...</td>\n",
       "      <td>cell wall and cell processes</td>\n",
       "    </tr>\n",
       "  </tbody>\n",
       "</table>\n",
       "</div>"
      ],
      "text/plain": [
       "     Refseq_ID Feature   Rv_ID    Name  \\\n",
       "0  NC_000962.3     CDS  Rv3728  Rv3728   \n",
       "\n",
       "                                            Function  \\\n",
       "0  Unknown, but seems involved in efflux system (...   \n",
       "\n",
       "                                          Product  \\\n",
       "0  Probable conserved two-domain membrane protein   \n",
       "\n",
       "                                            Comments  \\\n",
       "0  Rv3728, (MTV025.076), len: 1065 aa. Probable c...   \n",
       "\n",
       "            Functional_Category  \n",
       "0  cell wall and cell processes  "
      ]
     },
     "execution_count": 5,
     "metadata": {},
     "output_type": "execute_result"
    }
   ],
   "source": [
    "fn = 'Mycobacterium_tuberculosis_H37Rv_txt_v3.xlsx'\n",
    "mcbwser = pd.read_excel(pathlib.Path.cwd().parents[0].joinpath('data', 'annotations', fn))\n",
    "mcbwser.head(1)"
   ]
  },
  {
   "cell_type": "markdown",
   "metadata": {},
   "source": [
    "Drop duplicates: "
   ]
  },
  {
   "cell_type": "code",
   "execution_count": 6,
   "metadata": {
    "ExecuteTime": {
     "end_time": "2020-02-12T15:56:22.101692Z",
     "start_time": "2020-02-12T15:56:22.095714Z"
    }
   },
   "outputs": [],
   "source": [
    "mcbwser = mcbwser.drop_duplicates(subset=['Rv_ID'])"
   ]
  },
  {
   "cell_type": "markdown",
   "metadata": {},
   "source": [
    "Merge using the Rv_ID"
   ]
  },
  {
   "cell_type": "code",
   "execution_count": 7,
   "metadata": {
    "ExecuteTime": {
     "end_time": "2020-02-12T15:56:22.784253Z",
     "start_time": "2020-02-12T15:56:22.768283Z"
    }
   },
   "outputs": [],
   "source": [
    "lfc_mb = pd.merge(lfc, mcbwser[['Rv_ID', 'Functional_Category']], how='left', on='Rv_ID')\n",
    "qval_mb = pd.merge(qval, mcbwser[['Rv_ID', 'Functional_Category']], how='left', on='Rv_ID')"
   ]
  },
  {
   "cell_type": "markdown",
   "metadata": {},
   "source": [
    "### Filter out orphan gene categories: "
   ]
  },
  {
   "cell_type": "code",
   "execution_count": 8,
   "metadata": {
    "ExecuteTime": {
     "end_time": "2020-02-12T15:57:23.943793Z",
     "start_time": "2020-02-12T15:57:23.936814Z"
    }
   },
   "outputs": [],
   "source": [
    "list_orphans = ['conserved hypotheticals', 'unknown']\n",
    "\n",
    "lfc_mb_filt = lfc_mb[~lfc_mb['Functional_Category'].isin(list_orphans)]\n",
    "qval_mb_filt = qval_mb[~qval_mb['Functional_Category'].isin(list_orphans)]"
   ]
  },
  {
   "cell_type": "markdown",
   "metadata": {},
   "source": [
    "Write to file: "
   ]
  },
  {
   "cell_type": "code",
   "execution_count": 9,
   "metadata": {},
   "outputs": [],
   "source": [
    "if version == 'old':\n",
    "    fn_out_lfc = 'lfc_mb_filt_OLD.csv'\n",
    "    fn_out_qval = 'qval_mb_filt_OLD.csv'\n",
    "elif version == 'clare_all':\n",
    "    fn_out_lfc = 'lfc_mb_filt.csv'\n",
    "    fn_out_qval = 'qval_mb_filt.csv'\n",
    "elif version == 'clare_basis':\n",
    "    fn_out_lfc = 'lfc_mb_filt_BASIS.csv'\n",
    "    fn_out_qval = 'qval_mb_filt_BASIS.csv'"
   ]
  },
  {
   "cell_type": "code",
   "execution_count": 10,
   "metadata": {
    "ExecuteTime": {
     "end_time": "2020-02-12T15:57:41.965507Z",
     "start_time": "2020-02-12T15:57:41.712183Z"
    }
   },
   "outputs": [],
   "source": [
    "path_out = '../data/standardized_data/cleaned_ML/'\n",
    "\n",
    "lfc_mb_filt.to_csv(os.path.join(path_out, fn_out_lfc), index=False)\n",
    "qval_mb_filt.to_csv(os.path.join(path_out, fn_out_qval),  index=False)"
   ]
  },
  {
   "cell_type": "markdown",
   "metadata": {},
   "source": [
    "# OTHER: "
   ]
  },
  {
   "cell_type": "markdown",
   "metadata": {},
   "source": [
    "### Binarized version of datasets: "
   ]
  },
  {
   "cell_type": "code",
   "execution_count": 88,
   "metadata": {
    "ExecuteTime": {
     "end_time": "2020-02-12T15:57:48.948022Z",
     "start_time": "2020-02-12T15:57:48.944031Z"
    }
   },
   "outputs": [],
   "source": [
    "data_cols = [col for col in qval_mb.columns if col not in [\n",
    "    'Rv_ID', 'Functional_Category']]"
   ]
  },
  {
   "cell_type": "code",
   "execution_count": 89,
   "metadata": {
    "ExecuteTime": {
     "end_time": "2020-02-12T15:57:58.570741Z",
     "start_time": "2020-02-12T15:57:58.479963Z"
    }
   },
   "outputs": [],
   "source": [
    "bin_matrix_lfc = lfc_mb[data_cols].applymap(lambda x: x >= 1 or x <= -1)\n",
    "bin_matrix_qval = qval_mb[data_cols].applymap(lambda x: x <= 0.05)"
   ]
  },
  {
   "cell_type": "code",
   "execution_count": 90,
   "metadata": {
    "ExecuteTime": {
     "end_time": "2020-02-12T15:58:05.903682Z",
     "start_time": "2020-02-12T15:58:05.887670Z"
    }
   },
   "outputs": [],
   "source": [
    "bin_matrix = bin_matrix_lfc & bin_matrix_qval\n",
    "bin_matrix = bin_matrix.astype(int)"
   ]
  },
  {
   "cell_type": "code",
   "execution_count": 91,
   "metadata": {
    "ExecuteTime": {
     "end_time": "2020-02-12T15:58:06.931910Z",
     "start_time": "2020-02-12T15:58:06.927950Z"
    }
   },
   "outputs": [],
   "source": [
    "bin_matrix['Rv_ID'] = qval_mb['Rv_ID']\n",
    "bin_matrix['Functional_Category'] = qval_mb['Functional_Category']"
   ]
  },
  {
   "cell_type": "code",
   "execution_count": 92,
   "metadata": {
    "ExecuteTime": {
     "end_time": "2020-02-12T15:58:07.876264Z",
     "start_time": "2020-02-12T15:58:07.872255Z"
    }
   },
   "outputs": [],
   "source": [
    "bin_matrix = bin_matrix[['Rv_ID'] +\n",
    "                        [col for col in bin_matrix.columns if col != 'Rv_ID']]"
   ]
  },
  {
   "cell_type": "code",
   "execution_count": 93,
   "metadata": {
    "ExecuteTime": {
     "end_time": "2020-02-12T15:58:26.661841Z",
     "start_time": "2020-02-12T15:58:26.497283Z"
    }
   },
   "outputs": [],
   "source": [
    "bin_matrix.to_csv('../data/standardized_data/cleaned_ML/bin_mb.csv',  index=False)"
   ]
  },
  {
   "cell_type": "code",
   "execution_count": 94,
   "metadata": {
    "ExecuteTime": {
     "end_time": "2020-02-12T15:58:29.620526Z",
     "start_time": "2020-02-12T15:58:29.616537Z"
    }
   },
   "outputs": [],
   "source": [
    "bin_matrix_filt = bin_matrix[~bin_matrix['Functional_Category'].isin(\n",
    "    ['conserved hypotheticals', 'unknown'])]"
   ]
  },
  {
   "cell_type": "code",
   "execution_count": 95,
   "metadata": {
    "ExecuteTime": {
     "end_time": "2020-02-12T15:58:39.774299Z",
     "start_time": "2020-02-12T15:58:39.648598Z"
    }
   },
   "outputs": [],
   "source": [
    "bin_matrix_filt.to_csv(\n",
    "    '../data/standardized_data/cleaned_ML/bin_mb_filt.csv', index=False)"
   ]
  },
  {
   "cell_type": "code",
   "execution_count": null,
   "metadata": {},
   "outputs": [],
   "source": []
  }
 ],
 "metadata": {
  "kernelspec": {
   "display_name": "Python 3 (ipykernel)",
   "language": "python",
   "name": "python3"
  },
  "language_info": {
   "codemirror_mode": {
    "name": "ipython",
    "version": 3
   },
   "file_extension": ".py",
   "mimetype": "text/x-python",
   "name": "python",
   "nbconvert_exporter": "python",
   "pygments_lexer": "ipython3",
   "version": "3.8.12"
  },
  "toc": {
   "base_numbering": 1,
   "nav_menu": {},
   "number_sections": true,
   "sideBar": true,
   "skip_h1_title": false,
   "title_cell": "Table of Contents",
   "title_sidebar": "Contents",
   "toc_cell": false,
   "toc_position": {},
   "toc_section_display": true,
   "toc_window_display": false
  },
  "toc-showtags": false,
  "varInspector": {
   "cols": {
    "lenName": 16,
    "lenType": 16,
    "lenVar": 40
   },
   "kernels_config": {
    "python": {
     "delete_cmd_postfix": "",
     "delete_cmd_prefix": "del ",
     "library": "var_list.py",
     "varRefreshCmd": "print(var_dic_list())"
    },
    "r": {
     "delete_cmd_postfix": ") ",
     "delete_cmd_prefix": "rm(",
     "library": "var_list.r",
     "varRefreshCmd": "cat(var_dic_list()) "
    }
   },
   "types_to_exclude": [
    "module",
    "function",
    "builtin_function_or_method",
    "instance",
    "_Feature"
   ],
   "window_display": false
  }
 },
 "nbformat": 4,
 "nbformat_minor": 4
}
