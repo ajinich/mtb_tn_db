{
 "cells": [
  {
   "cell_type": "code",
   "execution_count": 1,
   "metadata": {},
   "outputs": [],
   "source": [
    "import pandas as pd\n",
    "import os"
   ]
  },
  {
   "cell_type": "code",
   "execution_count": 31,
   "metadata": {},
   "outputs": [],
   "source": [
    "file_list = [f for f in os.listdir() if 'H3' in f]\n",
    "col_name_list = [f.split('_')[1].split('.')[0] for f in file_list]"
   ]
  },
  {
   "cell_type": "code",
   "execution_count": 32,
   "metadata": {},
   "outputs": [
    {
     "name": "stdout",
     "output_type": "stream",
     "text": [
      "H37Rv_Rv3005c.xlsx\n",
      "H37Rv_Rv1565c.xlsx\n",
      "H37Rv_ponA1.xlsx\n",
      "H37Rv_Rv3684.xlsx\n",
      "H37Rv_Rv3811.xlsx\n",
      "H37Rv_Rv0950.xlsx\n",
      "H37Rv_Rv3717.xlsx\n",
      "H37Rv_Rv3594.xlsx\n",
      "H37Rv_Rv3916c.xlsx\n",
      "H37Rv_marP.xlsx\n",
      "H35Rv_Rv0954.xlsx\n",
      "H37Rv_Rv1432.xlsx\n",
      "H37Rv_Rv1096.xlsx\n",
      "H37Rv_Rv2680.xlsx\n",
      "H37Rv_Rv0307c.xlsx\n"
     ]
    }
   ],
   "source": [
    "for i in range(len(file_list)):\n",
    "    file = file_list[i]\n",
    "    print(file)\n",
    "    col_name = col_name_list[i] \n",
    "    df_tn = pd.read_excel(file)\n",
    "    df_tn[col_name] = df_tn.shape[0]*[0]\n",
    "    df_tn.loc[ df_tn['p-adj'] < 0.05, col_name]=1\n",
    "    df_tn = df_tn[['Rv_ID', col_name]]\n",
    "    if i==0:\n",
    "        df_flute = df_tn.copy()\n",
    "    else:\n",
    "        df_flute = df_flute.merge(df_tn, on='Rv_ID', how='inner')\n",
    "    "
   ]
  },
  {
   "cell_type": "code",
   "execution_count": 33,
   "metadata": {},
   "outputs": [
    {
     "data": {
      "text/plain": [
       "(3990, 16)"
      ]
     },
     "execution_count": 33,
     "metadata": {},
     "output_type": "execute_result"
    }
   ],
   "source": [
    "df_flute.shape"
   ]
  },
  {
   "cell_type": "code",
   "execution_count": 34,
   "metadata": {},
   "outputs": [
    {
     "data": {
      "text/plain": [
       "Rv0307c    554\n",
       "Rv3005c    458\n",
       "Rv1565c    363\n",
       "marP       296\n",
       "Rv3916c    293\n",
       "Rv1432     201\n",
       "Rv2680     124\n",
       "ponA1      120\n",
       "Rv3717      90\n",
       "Rv0954      52\n",
       "Rv3811      41\n",
       "Rv3594      35\n",
       "Rv1096      18\n",
       "Rv0950      18\n",
       "Rv3684       3\n",
       "dtype: int64"
      ]
     },
     "execution_count": 34,
     "metadata": {},
     "output_type": "execute_result"
    }
   ],
   "source": [
    "df_flute.sum(numeric_only=True).sort_values(ascending = False)"
   ]
  },
  {
   "cell_type": "code",
   "execution_count": 35,
   "metadata": {},
   "outputs": [],
   "source": [
    "df_flute.to_excel('table_1.xlsx', index = False)"
   ]
  },
  {
   "cell_type": "markdown",
   "metadata": {},
   "source": [
    "column name to file: "
   ]
  },
  {
   "cell_type": "code",
   "execution_count": 36,
   "metadata": {},
   "outputs": [],
   "source": [
    "df_col_key = pd.DataFrame()\n",
    "df_col_key['column_name'] = col_name_list\n",
    "df_col_key['file'] = file_list\n"
   ]
  },
  {
   "cell_type": "code",
   "execution_count": 37,
   "metadata": {},
   "outputs": [],
   "source": [
    "df_col_key.to_excel('col_name_to_file.xlsx', index = False)"
   ]
  },
  {
   "cell_type": "code",
   "execution_count": null,
   "metadata": {},
   "outputs": [],
   "source": []
  }
 ],
 "metadata": {
  "kernelspec": {
   "display_name": "Python 3",
   "language": "python",
   "name": "python3"
  },
  "language_info": {
   "codemirror_mode": {
    "name": "ipython",
    "version": 3
   },
   "file_extension": ".py",
   "mimetype": "text/x-python",
   "name": "python",
   "nbconvert_exporter": "python",
   "pygments_lexer": "ipython3",
   "version": "3.6.6"
  }
 },
 "nbformat": 4,
 "nbformat_minor": 2
}
