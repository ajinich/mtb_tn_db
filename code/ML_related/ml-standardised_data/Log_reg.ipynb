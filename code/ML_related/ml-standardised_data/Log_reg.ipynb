{
 "cells": [
  {
   "cell_type": "markdown",
   "metadata": {},
   "source": [
    "## Functions"
   ]
  },
  {
   "cell_type": "code",
   "execution_count": 1,
   "metadata": {},
   "outputs": [],
   "source": [
    "def lasso_confusion(mat, cols, C, norm_method, name, figsize=(7, 7)):\n",
    "    X = mat[cols].values\n",
    "    y = mat['Functional_Category'].values\n",
    "    n_classes = mat['Functional_Category'].nunique()\n",
    "    accuracy = []\n",
    "    n_splits = 3\n",
    "    confusion = np.zeros((n_classes, n_classes))\n",
    "    skf = StratifiedKFold(n_splits=n_splits, shuffle=True, random_state=42)\n",
    "    y_true_all = []\n",
    "    y_pred_all = []\n",
    "    y_score_all = np.zeros((len(y), n_classes))\n",
    "\n",
    "    for train_index, test_index in skf.split(X, y):\n",
    "        X_train, X_test = X[train_index], X[test_index]\n",
    "        y_train, y_test = y[train_index], y[test_index]\n",
    "        if norm_method == 'SMOTE':\n",
    "            X_train, y_train = SMOTE().fit_resample(X_train, y_train)\n",
    "            clf = LogisticRegression(\n",
    "                penalty='l1', solver='liblinear', multi_class='ovr', C=C, random_state=42)\n",
    "        elif norm_method == 'bal_weights':\n",
    "            clf = LogisticRegression(\n",
    "                penalty='l1', solver='liblinear', multi_class='ovr', C=C, class_weight='balanced', random_state=42)\n",
    "        elif norm_method == None:\n",
    "            clf = LogisticRegression(\n",
    "                penalty='l1', solver='liblinear', multi_class='ovr', C=C, random_state=42)\n",
    "        clf.fit(X_train, y_train)\n",
    "        y_hat = clf.predict(X_test)\n",
    "        y_score = clf.decision_function(X_test)\n",
    "        \n",
    "        y_true_all.extend(y_test)\n",
    "        y_pred_all.extend(y_hat)\n",
    "        y_score_all[test_index] = y_score\n",
    "\n",
    "        confusion += confusion_matrix(y_test, y_hat)\n",
    "        accuracy.append(accuracy_score(y_test, y_hat))\n",
    "    \n",
    "    confusion = normalize(confusion, axis=1, norm='l1')\n",
    "    print(accuracy)\n",
    "\n",
    "    # Create confusion matrix\n",
    "    col_names = ['PE/PPE', 'cell wall and\\ncell processes', 'information pathways', 'insertion seqs\\nand phages',\n",
    "                 'intermediary metabolism\\nand respiration', 'lipid metabolism', 'regulatory proteins', 'virulence, detoxification,\\nadaptation']\n",
    "    confusion = pd.DataFrame(\n",
    "        confusion, columns=col_names, index=col_names)\n",
    "    plt.figure(figsize=figsize)\n",
    "    rc = {'xtick.labelsize': 14, 'ytick.labelsize': 14, 'axes.labelsize': 14}\n",
    "    sns.set(rc=rc)\n",
    "    heat = sns.heatmap(confusion, annot=True, linewidths=.1,\n",
    "                       fmt='1.2f', square=True)\n",
    "    heat.set(xlabel='PREDICTED CLASS', ylabel='TRUE CLASS', title=name)\n",
    "\n",
    "    # Compute and print additional metrics\n",
    "    classes = np.unique(y)\n",
    "    metrics = compute_metrics(np.array(y_true_all), np.array(y_pred_all), y_score_all, classes)\n",
    "    print_metrics(metrics, \"Logistic Regression with L1 Regularization\")\n",
    "\n",
    "    return None"
   ]
  },
  {
   "cell_type": "code",
   "execution_count": 2,
   "metadata": {},
   "outputs": [],
   "source": [
    "def lasso_coefs(mat, cols, C, norm_method):\n",
    "    X = mat[cols].values\n",
    "    y = mat['Functional_Category'].values\n",
    "    if norm_method == 'SMOTE':\n",
    "        X, y = SMOTE().fit_resample(X, y)\n",
    "        clf = LogisticRegression(\n",
    "            penalty='l1', solver='liblinear', multi_class='ovr', C=C, random_state=42)\n",
    "    if norm_method == 'bal_weights':\n",
    "        clf = LogisticRegression(\n",
    "            penalty='l1', solver='liblinear', multi_class='ovr', C=C, class_weight='balanced', random_state=42)\n",
    "    clf.fit(X, y)\n",
    "    coefs = clf.coef_\n",
    "    coefs = np.transpose(coefs)\n",
    "    coefs = pd.DataFrame(coefs, columns=clf.classes_, index=cols)\n",
    "\n",
    "    # Compute metrics\n",
    "    y_pred = clf.predict(X)\n",
    "    y_score = clf.decision_function(X)\n",
    "    classes = np.unique(y)\n",
    "    metrics = compute_metrics(y, y_pred, y_score, classes)\n",
    "    print_metrics(metrics, \"Logistic Regression Coefficients\")\n",
    "\n",
    "    return coefs"
   ]
  },
  {
   "cell_type": "code",
   "execution_count": 3,
   "metadata": {},
   "outputs": [],
   "source": [
    "def lasso_vanilla(mat, cols, Cs):\n",
    "    X = mat[cols].values\n",
    "    y = mat['Functional_Category'].values\n",
    "    accuracy = {}\n",
    "    metrics_dict = {}\n",
    "    for C in Cs:\n",
    "        skf = StratifiedKFold(n_splits=3, shuffle=True)\n",
    "        accuracy_per_fold = []\n",
    "        y_true_all = []\n",
    "        y_pred_all = []\n",
    "        y_score_all = np.zeros((len(y), len(np.unique(y))))\n",
    "\n",
    "        for train_index, test_index in skf.split(X, y):\n",
    "            X_train, X_test = X[train_index], X[test_index]\n",
    "            y_train, y_test = y[train_index], y[test_index]\n",
    "            X_train, y_train = SMOTE().fit_resample(X_train, y_train)\n",
    "            clf = LogisticRegression(\n",
    "                penalty='l1', solver='liblinear', multi_class='ovr', C=C)\n",
    "            clf.fit(X_train, y_train)\n",
    "            y_hat = clf.predict(X_test)\n",
    "            y_score = clf.decision_function(X_test)\n",
    "            \n",
    "            y_true_all.extend(y_test)\n",
    "            y_pred_all.extend(y_hat)\n",
    "            y_score_all[test_index] = y_score\n",
    "\n",
    "            accuracy_per_fold.append(balanced_accuracy_score(y_test, y_hat))\n",
    "\n",
    "        accuracy[C] = sum(accuracy_per_fold)/len(accuracy_per_fold)\n",
    "\n",
    "        # Compute metrics for this C value\n",
    "        classes = np.unique(y)\n",
    "        metrics = compute_metrics(np.array(y_true_all), np.array(y_pred_all), y_score_all, classes)\n",
    "        metrics_dict[C] = metrics\n",
    "\n",
    "    print(accuracy)\n",
    "\n",
    "    for C, metrics in metrics_dict.items():\n",
    "        print_metrics(metrics, f\"Logistic Regression Vanilla C={C}\")\n",
    "\n",
    "    # return accuracy"
   ]
  },
  {
   "cell_type": "code",
   "execution_count": 4,
   "metadata": {},
   "outputs": [],
   "source": [
    "def compute_metrics(y_true, y_pred, y_score, classes):\n",
    "    # Macro-averaged F1 Score\n",
    "    f1_macro = f1_score(y_true, y_pred, average='macro')\n",
    "    \n",
    "    # Weighted F1 Score\n",
    "    f1_weighted = f1_score(y_true, y_pred, average='weighted')\n",
    "    \n",
    "    # Cohen's Kappa\n",
    "    kappa = cohen_kappa_score(y_true, y_pred)\n",
    "    \n",
    "    # Macro-averaged AUROC\n",
    "    y_true_bin = label_binarize(y_true, classes=classes)\n",
    "    y_pred_bin = label_binarize(y_pred, classes=classes)\n",
    "    macro_roc_auc = roc_auc_score(y_true_bin, y_score, average='macro', multi_class='ovr')\n",
    "    \n",
    "    return {\n",
    "        'F1 Macro': f1_macro,\n",
    "        'F1 Weighted': f1_weighted,\n",
    "        'Cohen\\'s Kappa': kappa,\n",
    "        'Macro AUROC': macro_roc_auc\n",
    "    }\n",
    "\n",
    "def print_metrics(metrics, model_name):\n",
    "    print(f\"Metrics for {model_name}:\")\n",
    "    for metric, value in metrics.items():\n",
    "        print(f\"{metric}: {value:.4f}\")\n",
    "    print()\n"
   ]
  },
  {
   "cell_type": "markdown",
   "metadata": {
    "Collapsed": "false"
   },
   "source": [
    "## With log2FC and q-val- mycobrowser"
   ]
  },
  {
   "cell_type": "code",
   "execution_count": null,
   "metadata": {
    "ExecuteTime": {
     "end_time": "2020-02-12T15:59:06.904528Z",
     "start_time": "2020-02-12T15:59:06.880593Z"
    }
   },
   "outputs": [],
   "source": [
    "%reset -f"
   ]
  },
  {
   "cell_type": "code",
   "execution_count": 5,
   "metadata": {
    "ExecuteTime": {
     "end_time": "2020-02-12T15:59:09.176244Z",
     "start_time": "2020-02-12T15:59:07.921977Z"
    }
   },
   "outputs": [],
   "source": [
    "import matplotlib.pyplot as plt\n",
    "import numpy as np\n",
    "import pandas as pd\n",
    "import seaborn as sns\n",
    "from imblearn.over_sampling import SMOTE\n",
    "from sklearn.linear_model import LogisticRegression\n",
    "from sklearn.metrics import accuracy_score\n",
    "from sklearn.model_selection import StratifiedKFold\n",
    "\n",
    "%matplotlib inline"
   ]
  },
  {
   "cell_type": "code",
   "execution_count": 6,
   "metadata": {
    "ExecuteTime": {
     "end_time": "2020-02-12T15:59:15.652382Z",
     "start_time": "2020-02-12T15:59:15.601392Z"
    }
   },
   "outputs": [],
   "source": [
    "lfc_mb_filt = pd.read_csv(\n",
    "    '/Users/amandaspencer/Documents/mtb_tn_db/data/standardized_data/cleaned_ML/lfc_mb_filt_07_22_24.csv')\n",
    "qval_mb_filt = pd.read_csv(\n",
    "    '/Users/amandaspencer/Documents/mtb_tn_db/data/standardized_data/cleaned_ML/qval_mb_filt_07_22_24.csv')"
   ]
  },
  {
   "cell_type": "code",
   "execution_count": 7,
   "metadata": {
    "Collapsed": "false",
    "ExecuteTime": {
     "end_time": "2020-02-12T16:18:38.616240Z",
     "start_time": "2020-02-12T16:18:38.611253Z"
    }
   },
   "outputs": [],
   "source": [
    "# replaced values of qval lower than 0.05 with 0.05. Then divided log2FC by qval^beta\n",
    "def lasso_inv_p(betas, Cs, lfc, qval, value_cols):\n",
    "    X = lfc[value_cols].values\n",
    "    y = lfc['Functional_Category'].values\n",
    "\n",
    "    qval = qval[value_cols].apply(lambda x: np.where(x < 0.05, 0.05, x))\n",
    "    qval = qval[value_cols].values\n",
    "    \n",
    "    accuracy = pd.DataFrame(index=betas, columns=Cs, dtype='float')\n",
    "    for b in betas:\n",
    "        X = X/np.power(qval, b)\n",
    "        for C in Cs:\n",
    "            # print(b)\n",
    "            skf = StratifiedKFold(n_splits=3, shuffle=True)\n",
    "            accuracy_per_fold = []\n",
    "            for train_index, test_index in skf.split(X, y):\n",
    "                X_train, X_test = X[train_index], X[test_index]\n",
    "                y_train, y_test = y[train_index], y[test_index]\n",
    "                X_train, y_train = SMOTE().fit_resample(X_train, y_train)\n",
    "                clf = LogisticRegression(\n",
    "                    penalty='l1', solver='liblinear', multi_class='ovr', C=C)\n",
    "                clf.fit(X_train, y_train)\n",
    "                y_hat = clf.predict(X_test)\n",
    "                accuracy_per_fold.append(accuracy_score(y_test, y_hat))\n",
    "            accuracy.loc[b, C] = sum(accuracy_per_fold)/len(accuracy_per_fold)\n",
    "    plt.figure()\n",
    "    heat = sns.heatmap(accuracy, annot=True, linewidths=.1, fmt='1.2f')\n",
    "    heat.set(xlabel='Cs', ylabel='betas',\n",
    "             title='Accuracy with LR on log2FC w pval')\n",
    "    return None"
   ]
  },
  {
   "cell_type": "code",
   "execution_count": 8,
   "metadata": {
    "Collapsed": "false",
    "ExecuteTime": {
     "end_time": "2020-02-12T15:59:26.067809Z",
     "start_time": "2020-02-12T15:59:26.064820Z"
    }
   },
   "outputs": [],
   "source": [
    "betas = [0, 0.02, 0.05, 0.1, 0.2, 0.3, 0.4]\n",
    "Cs = [0.005, 0.05, 0.1, 0.5, 1, 5, 10, 50, 100]"
   ]
  },
  {
   "cell_type": "code",
   "execution_count": 9,
   "metadata": {
    "ExecuteTime": {
     "end_time": "2020-02-12T15:59:26.757590Z",
     "start_time": "2020-02-12T15:59:26.753573Z"
    }
   },
   "outputs": [
    {
     "data": {
      "text/plain": [
       "False"
      ]
     },
     "execution_count": 9,
     "metadata": {},
     "output_type": "execute_result"
    }
   ],
   "source": [
    "(lfc_mb_filt.columns == qval_mb_filt.columns).all() "
   ]
  },
  {
   "cell_type": "code",
   "execution_count": 10,
   "metadata": {},
   "outputs": [],
   "source": [
    "# Reorder the columns in qval_mb_filt to match lfc_mb_filt\n",
    "qval_mb_filt = qval_mb_filt[lfc_mb_filt.columns]"
   ]
  },
  {
   "cell_type": "code",
   "execution_count": 11,
   "metadata": {},
   "outputs": [
    {
     "data": {
      "text/plain": [
       "True"
      ]
     },
     "execution_count": 11,
     "metadata": {},
     "output_type": "execute_result"
    }
   ],
   "source": [
    "(lfc_mb_filt.columns == qval_mb_filt.columns).all() "
   ]
  },
  {
   "cell_type": "code",
   "execution_count": 12,
   "metadata": {},
   "outputs": [
    {
     "data": {
      "text/html": [
       "<div>\n",
       "<style scoped>\n",
       "    .dataframe tbody tr th:only-of-type {\n",
       "        vertical-align: middle;\n",
       "    }\n",
       "\n",
       "    .dataframe tbody tr th {\n",
       "        vertical-align: top;\n",
       "    }\n",
       "\n",
       "    .dataframe thead th {\n",
       "        text-align: right;\n",
       "    }\n",
       "</style>\n",
       "<table border=\"1\" class=\"dataframe\">\n",
       "  <thead>\n",
       "    <tr style=\"text-align: right;\">\n",
       "      <th></th>\n",
       "      <th>Rv_ID</th>\n",
       "      <th>PE35_KO_vs_mbio_H37Rv</th>\n",
       "      <th>PPE68_KO_vs_mbio_H37Rv</th>\n",
       "      <th>Rv0950c_KO_vs_CB_WT</th>\n",
       "      <th>Rv0954_KO_vs_RJ_WT</th>\n",
       "      <th>Rv1096_KO_vs_CB_WT</th>\n",
       "      <th>Rv3005c_KO_day32_vs_dejesus_H37Rv_day32</th>\n",
       "      <th>Rv3594_KO_vs_Rubin_FLUTE_WT</th>\n",
       "      <th>Rv3684_KO_vs_CB_WT</th>\n",
       "      <th>Rv3717_KO_vs_Rubin_FLUTE_WT</th>\n",
       "      <th>...</th>\n",
       "      <th>BXD73_vs_in_vitro_H37Rv</th>\n",
       "      <th>BXD73b_vs_in_vitro_H37Rv</th>\n",
       "      <th>BXD77_vs_in_vitro_H37Rv</th>\n",
       "      <th>BXD79_vs_in_vitro_H37Rv</th>\n",
       "      <th>BXD9_vs_in_vitro_H37Rv</th>\n",
       "      <th>BXD90_vs_in_vitro_H37Rv</th>\n",
       "      <th>BXD93_vs_in_vitro_H37Rv</th>\n",
       "      <th>C57BL.6J_vs_in_vitro_H37Rv</th>\n",
       "      <th>DBA.2J_vs_in_vitro_H37Rv</th>\n",
       "      <th>Functional_Category</th>\n",
       "    </tr>\n",
       "  </thead>\n",
       "  <tbody>\n",
       "    <tr>\n",
       "      <th>0</th>\n",
       "      <td>Rv0001</td>\n",
       "      <td>1.0</td>\n",
       "      <td>1.0</td>\n",
       "      <td>1.0</td>\n",
       "      <td>1.00000</td>\n",
       "      <td>1.0</td>\n",
       "      <td>0.73174</td>\n",
       "      <td>1.0</td>\n",
       "      <td>1.0</td>\n",
       "      <td>1.0</td>\n",
       "      <td>...</td>\n",
       "      <td>1.00000</td>\n",
       "      <td>1.00000</td>\n",
       "      <td>1.0</td>\n",
       "      <td>1.000</td>\n",
       "      <td>1.00000</td>\n",
       "      <td>1.0</td>\n",
       "      <td>1.00000</td>\n",
       "      <td>1.0</td>\n",
       "      <td>1.00000</td>\n",
       "      <td>information pathways</td>\n",
       "    </tr>\n",
       "    <tr>\n",
       "      <th>1</th>\n",
       "      <td>Rv0002</td>\n",
       "      <td>1.0</td>\n",
       "      <td>1.0</td>\n",
       "      <td>1.0</td>\n",
       "      <td>1.00000</td>\n",
       "      <td>1.0</td>\n",
       "      <td>1.00000</td>\n",
       "      <td>1.0</td>\n",
       "      <td>1.0</td>\n",
       "      <td>1.0</td>\n",
       "      <td>...</td>\n",
       "      <td>1.00000</td>\n",
       "      <td>1.00000</td>\n",
       "      <td>1.0</td>\n",
       "      <td>1.000</td>\n",
       "      <td>1.00000</td>\n",
       "      <td>1.0</td>\n",
       "      <td>1.00000</td>\n",
       "      <td>1.0</td>\n",
       "      <td>1.00000</td>\n",
       "      <td>information pathways</td>\n",
       "    </tr>\n",
       "    <tr>\n",
       "      <th>2</th>\n",
       "      <td>Rv0003</td>\n",
       "      <td>1.0</td>\n",
       "      <td>1.0</td>\n",
       "      <td>1.0</td>\n",
       "      <td>0.43844</td>\n",
       "      <td>1.0</td>\n",
       "      <td>0.47324</td>\n",
       "      <td>1.0</td>\n",
       "      <td>1.0</td>\n",
       "      <td>1.0</td>\n",
       "      <td>...</td>\n",
       "      <td>0.18516</td>\n",
       "      <td>1.00000</td>\n",
       "      <td>1.0</td>\n",
       "      <td>0.931</td>\n",
       "      <td>1.00000</td>\n",
       "      <td>1.0</td>\n",
       "      <td>1.00000</td>\n",
       "      <td>1.0</td>\n",
       "      <td>0.91886</td>\n",
       "      <td>information pathways</td>\n",
       "    </tr>\n",
       "    <tr>\n",
       "      <th>3</th>\n",
       "      <td>Rv0005</td>\n",
       "      <td>1.0</td>\n",
       "      <td>1.0</td>\n",
       "      <td>1.0</td>\n",
       "      <td>1.00000</td>\n",
       "      <td>1.0</td>\n",
       "      <td>0.62111</td>\n",
       "      <td>1.0</td>\n",
       "      <td>1.0</td>\n",
       "      <td>1.0</td>\n",
       "      <td>...</td>\n",
       "      <td>1.00000</td>\n",
       "      <td>0.98550</td>\n",
       "      <td>1.0</td>\n",
       "      <td>1.000</td>\n",
       "      <td>1.00000</td>\n",
       "      <td>1.0</td>\n",
       "      <td>1.00000</td>\n",
       "      <td>1.0</td>\n",
       "      <td>1.00000</td>\n",
       "      <td>information pathways</td>\n",
       "    </tr>\n",
       "    <tr>\n",
       "      <th>4</th>\n",
       "      <td>Rv0006</td>\n",
       "      <td>1.0</td>\n",
       "      <td>1.0</td>\n",
       "      <td>1.0</td>\n",
       "      <td>1.00000</td>\n",
       "      <td>1.0</td>\n",
       "      <td>1.00000</td>\n",
       "      <td>1.0</td>\n",
       "      <td>1.0</td>\n",
       "      <td>1.0</td>\n",
       "      <td>...</td>\n",
       "      <td>1.00000</td>\n",
       "      <td>0.97824</td>\n",
       "      <td>1.0</td>\n",
       "      <td>1.000</td>\n",
       "      <td>0.97593</td>\n",
       "      <td>1.0</td>\n",
       "      <td>0.97811</td>\n",
       "      <td>1.0</td>\n",
       "      <td>0.73103</td>\n",
       "      <td>information pathways</td>\n",
       "    </tr>\n",
       "  </tbody>\n",
       "</table>\n",
       "<p>5 rows × 148 columns</p>\n",
       "</div>"
      ],
      "text/plain": [
       "    Rv_ID  PE35_KO_vs_mbio_H37Rv  PPE68_KO_vs_mbio_H37Rv  Rv0950c_KO_vs_CB_WT  \\\n",
       "0  Rv0001                    1.0                     1.0                  1.0   \n",
       "1  Rv0002                    1.0                     1.0                  1.0   \n",
       "2  Rv0003                    1.0                     1.0                  1.0   \n",
       "3  Rv0005                    1.0                     1.0                  1.0   \n",
       "4  Rv0006                    1.0                     1.0                  1.0   \n",
       "\n",
       "   Rv0954_KO_vs_RJ_WT  Rv1096_KO_vs_CB_WT  \\\n",
       "0             1.00000                 1.0   \n",
       "1             1.00000                 1.0   \n",
       "2             0.43844                 1.0   \n",
       "3             1.00000                 1.0   \n",
       "4             1.00000                 1.0   \n",
       "\n",
       "   Rv3005c_KO_day32_vs_dejesus_H37Rv_day32  Rv3594_KO_vs_Rubin_FLUTE_WT  \\\n",
       "0                                  0.73174                          1.0   \n",
       "1                                  1.00000                          1.0   \n",
       "2                                  0.47324                          1.0   \n",
       "3                                  0.62111                          1.0   \n",
       "4                                  1.00000                          1.0   \n",
       "\n",
       "   Rv3684_KO_vs_CB_WT  Rv3717_KO_vs_Rubin_FLUTE_WT  ...  \\\n",
       "0                 1.0                          1.0  ...   \n",
       "1                 1.0                          1.0  ...   \n",
       "2                 1.0                          1.0  ...   \n",
       "3                 1.0                          1.0  ...   \n",
       "4                 1.0                          1.0  ...   \n",
       "\n",
       "   BXD73_vs_in_vitro_H37Rv  BXD73b_vs_in_vitro_H37Rv  BXD77_vs_in_vitro_H37Rv  \\\n",
       "0                  1.00000                   1.00000                      1.0   \n",
       "1                  1.00000                   1.00000                      1.0   \n",
       "2                  0.18516                   1.00000                      1.0   \n",
       "3                  1.00000                   0.98550                      1.0   \n",
       "4                  1.00000                   0.97824                      1.0   \n",
       "\n",
       "   BXD79_vs_in_vitro_H37Rv  BXD9_vs_in_vitro_H37Rv  BXD90_vs_in_vitro_H37Rv  \\\n",
       "0                    1.000                 1.00000                      1.0   \n",
       "1                    1.000                 1.00000                      1.0   \n",
       "2                    0.931                 1.00000                      1.0   \n",
       "3                    1.000                 1.00000                      1.0   \n",
       "4                    1.000                 0.97593                      1.0   \n",
       "\n",
       "   BXD93_vs_in_vitro_H37Rv  C57BL.6J_vs_in_vitro_H37Rv  \\\n",
       "0                  1.00000                         1.0   \n",
       "1                  1.00000                         1.0   \n",
       "2                  1.00000                         1.0   \n",
       "3                  1.00000                         1.0   \n",
       "4                  0.97811                         1.0   \n",
       "\n",
       "   DBA.2J_vs_in_vitro_H37Rv   Functional_Category  \n",
       "0                   1.00000  information pathways  \n",
       "1                   1.00000  information pathways  \n",
       "2                   0.91886  information pathways  \n",
       "3                   1.00000  information pathways  \n",
       "4                   0.73103  information pathways  \n",
       "\n",
       "[5 rows x 148 columns]"
      ]
     },
     "execution_count": 12,
     "metadata": {},
     "output_type": "execute_result"
    }
   ],
   "source": [
    "qval_mb_filt.head()"
   ]
  },
  {
   "cell_type": "code",
   "execution_count": 13,
   "metadata": {
    "ExecuteTime": {
     "end_time": "2020-02-12T15:59:27.538602Z",
     "start_time": "2020-02-12T15:59:27.521647Z"
    }
   },
   "outputs": [
    {
     "data": {
      "text/html": [
       "<div>\n",
       "<style scoped>\n",
       "    .dataframe tbody tr th:only-of-type {\n",
       "        vertical-align: middle;\n",
       "    }\n",
       "\n",
       "    .dataframe tbody tr th {\n",
       "        vertical-align: top;\n",
       "    }\n",
       "\n",
       "    .dataframe thead th {\n",
       "        text-align: right;\n",
       "    }\n",
       "</style>\n",
       "<table border=\"1\" class=\"dataframe\">\n",
       "  <thead>\n",
       "    <tr style=\"text-align: right;\">\n",
       "      <th></th>\n",
       "      <th>Rv_ID</th>\n",
       "      <th>PE35_KO_vs_mbio_H37Rv</th>\n",
       "      <th>PPE68_KO_vs_mbio_H37Rv</th>\n",
       "      <th>Rv0950c_KO_vs_CB_WT</th>\n",
       "      <th>Rv0954_KO_vs_RJ_WT</th>\n",
       "      <th>Rv1096_KO_vs_CB_WT</th>\n",
       "      <th>Rv3005c_KO_day32_vs_dejesus_H37Rv_day32</th>\n",
       "      <th>Rv3594_KO_vs_Rubin_FLUTE_WT</th>\n",
       "      <th>Rv3684_KO_vs_CB_WT</th>\n",
       "      <th>Rv3717_KO_vs_Rubin_FLUTE_WT</th>\n",
       "      <th>...</th>\n",
       "      <th>BXD73_vs_in_vitro_H37Rv</th>\n",
       "      <th>BXD73b_vs_in_vitro_H37Rv</th>\n",
       "      <th>BXD77_vs_in_vitro_H37Rv</th>\n",
       "      <th>BXD79_vs_in_vitro_H37Rv</th>\n",
       "      <th>BXD9_vs_in_vitro_H37Rv</th>\n",
       "      <th>BXD90_vs_in_vitro_H37Rv</th>\n",
       "      <th>BXD93_vs_in_vitro_H37Rv</th>\n",
       "      <th>C57BL.6J_vs_in_vitro_H37Rv</th>\n",
       "      <th>DBA.2J_vs_in_vitro_H37Rv</th>\n",
       "      <th>Functional_Category</th>\n",
       "    </tr>\n",
       "  </thead>\n",
       "  <tbody>\n",
       "    <tr>\n",
       "      <th>0</th>\n",
       "      <td>Rv0001</td>\n",
       "      <td>-0.41</td>\n",
       "      <td>0.01</td>\n",
       "      <td>0.00</td>\n",
       "      <td>0.00</td>\n",
       "      <td>0.00</td>\n",
       "      <td>3.12</td>\n",
       "      <td>-0.06</td>\n",
       "      <td>0.00</td>\n",
       "      <td>-0.06</td>\n",
       "      <td>...</td>\n",
       "      <td>0.00</td>\n",
       "      <td>0.00</td>\n",
       "      <td>0.00</td>\n",
       "      <td>0.00</td>\n",
       "      <td>0.00</td>\n",
       "      <td>0.00</td>\n",
       "      <td>0.00</td>\n",
       "      <td>0.00</td>\n",
       "      <td>0.00</td>\n",
       "      <td>information pathways</td>\n",
       "    </tr>\n",
       "    <tr>\n",
       "      <th>1</th>\n",
       "      <td>Rv0002</td>\n",
       "      <td>3.28</td>\n",
       "      <td>2.38</td>\n",
       "      <td>0.00</td>\n",
       "      <td>0.00</td>\n",
       "      <td>0.00</td>\n",
       "      <td>0.00</td>\n",
       "      <td>0.00</td>\n",
       "      <td>0.00</td>\n",
       "      <td>0.00</td>\n",
       "      <td>...</td>\n",
       "      <td>0.00</td>\n",
       "      <td>0.00</td>\n",
       "      <td>0.00</td>\n",
       "      <td>0.00</td>\n",
       "      <td>0.00</td>\n",
       "      <td>0.48</td>\n",
       "      <td>0.00</td>\n",
       "      <td>0.00</td>\n",
       "      <td>0.00</td>\n",
       "      <td>information pathways</td>\n",
       "    </tr>\n",
       "    <tr>\n",
       "      <th>2</th>\n",
       "      <td>Rv0003</td>\n",
       "      <td>-0.03</td>\n",
       "      <td>-0.08</td>\n",
       "      <td>0.03</td>\n",
       "      <td>-1.20</td>\n",
       "      <td>0.39</td>\n",
       "      <td>3.83</td>\n",
       "      <td>0.31</td>\n",
       "      <td>0.17</td>\n",
       "      <td>-0.62</td>\n",
       "      <td>...</td>\n",
       "      <td>0.97</td>\n",
       "      <td>-0.19</td>\n",
       "      <td>0.05</td>\n",
       "      <td>0.59</td>\n",
       "      <td>0.04</td>\n",
       "      <td>0.13</td>\n",
       "      <td>0.33</td>\n",
       "      <td>0.43</td>\n",
       "      <td>0.32</td>\n",
       "      <td>information pathways</td>\n",
       "    </tr>\n",
       "    <tr>\n",
       "      <th>3</th>\n",
       "      <td>Rv0005</td>\n",
       "      <td>-0.22</td>\n",
       "      <td>0.14</td>\n",
       "      <td>0.13</td>\n",
       "      <td>-0.08</td>\n",
       "      <td>0.27</td>\n",
       "      <td>-2.38</td>\n",
       "      <td>0.70</td>\n",
       "      <td>-0.71</td>\n",
       "      <td>-0.37</td>\n",
       "      <td>...</td>\n",
       "      <td>-0.30</td>\n",
       "      <td>-1.79</td>\n",
       "      <td>-1.34</td>\n",
       "      <td>-0.33</td>\n",
       "      <td>-1.84</td>\n",
       "      <td>-0.30</td>\n",
       "      <td>0.71</td>\n",
       "      <td>-0.27</td>\n",
       "      <td>-0.02</td>\n",
       "      <td>information pathways</td>\n",
       "    </tr>\n",
       "    <tr>\n",
       "      <th>4</th>\n",
       "      <td>Rv0006</td>\n",
       "      <td>0.53</td>\n",
       "      <td>0.37</td>\n",
       "      <td>-1.21</td>\n",
       "      <td>1.66</td>\n",
       "      <td>0.25</td>\n",
       "      <td>1.18</td>\n",
       "      <td>3.31</td>\n",
       "      <td>-0.10</td>\n",
       "      <td>-0.12</td>\n",
       "      <td>...</td>\n",
       "      <td>-1.10</td>\n",
       "      <td>-0.95</td>\n",
       "      <td>0.33</td>\n",
       "      <td>-0.20</td>\n",
       "      <td>-1.32</td>\n",
       "      <td>-0.35</td>\n",
       "      <td>-0.88</td>\n",
       "      <td>1.49</td>\n",
       "      <td>-1.31</td>\n",
       "      <td>information pathways</td>\n",
       "    </tr>\n",
       "  </tbody>\n",
       "</table>\n",
       "<p>5 rows × 148 columns</p>\n",
       "</div>"
      ],
      "text/plain": [
       "    Rv_ID  PE35_KO_vs_mbio_H37Rv  PPE68_KO_vs_mbio_H37Rv  Rv0950c_KO_vs_CB_WT  \\\n",
       "0  Rv0001                  -0.41                    0.01                 0.00   \n",
       "1  Rv0002                   3.28                    2.38                 0.00   \n",
       "2  Rv0003                  -0.03                   -0.08                 0.03   \n",
       "3  Rv0005                  -0.22                    0.14                 0.13   \n",
       "4  Rv0006                   0.53                    0.37                -1.21   \n",
       "\n",
       "   Rv0954_KO_vs_RJ_WT  Rv1096_KO_vs_CB_WT  \\\n",
       "0                0.00                0.00   \n",
       "1                0.00                0.00   \n",
       "2               -1.20                0.39   \n",
       "3               -0.08                0.27   \n",
       "4                1.66                0.25   \n",
       "\n",
       "   Rv3005c_KO_day32_vs_dejesus_H37Rv_day32  Rv3594_KO_vs_Rubin_FLUTE_WT  \\\n",
       "0                                     3.12                        -0.06   \n",
       "1                                     0.00                         0.00   \n",
       "2                                     3.83                         0.31   \n",
       "3                                    -2.38                         0.70   \n",
       "4                                     1.18                         3.31   \n",
       "\n",
       "   Rv3684_KO_vs_CB_WT  Rv3717_KO_vs_Rubin_FLUTE_WT  ...  \\\n",
       "0                0.00                        -0.06  ...   \n",
       "1                0.00                         0.00  ...   \n",
       "2                0.17                        -0.62  ...   \n",
       "3               -0.71                        -0.37  ...   \n",
       "4               -0.10                        -0.12  ...   \n",
       "\n",
       "   BXD73_vs_in_vitro_H37Rv  BXD73b_vs_in_vitro_H37Rv  BXD77_vs_in_vitro_H37Rv  \\\n",
       "0                     0.00                      0.00                     0.00   \n",
       "1                     0.00                      0.00                     0.00   \n",
       "2                     0.97                     -0.19                     0.05   \n",
       "3                    -0.30                     -1.79                    -1.34   \n",
       "4                    -1.10                     -0.95                     0.33   \n",
       "\n",
       "   BXD79_vs_in_vitro_H37Rv  BXD9_vs_in_vitro_H37Rv  BXD90_vs_in_vitro_H37Rv  \\\n",
       "0                     0.00                    0.00                     0.00   \n",
       "1                     0.00                    0.00                     0.48   \n",
       "2                     0.59                    0.04                     0.13   \n",
       "3                    -0.33                   -1.84                    -0.30   \n",
       "4                    -0.20                   -1.32                    -0.35   \n",
       "\n",
       "   BXD93_vs_in_vitro_H37Rv  C57BL.6J_vs_in_vitro_H37Rv  \\\n",
       "0                     0.00                        0.00   \n",
       "1                     0.00                        0.00   \n",
       "2                     0.33                        0.43   \n",
       "3                     0.71                       -0.27   \n",
       "4                    -0.88                        1.49   \n",
       "\n",
       "   DBA.2J_vs_in_vitro_H37Rv   Functional_Category  \n",
       "0                      0.00  information pathways  \n",
       "1                      0.00  information pathways  \n",
       "2                      0.32  information pathways  \n",
       "3                     -0.02  information pathways  \n",
       "4                     -1.31  information pathways  \n",
       "\n",
       "[5 rows x 148 columns]"
      ]
     },
     "execution_count": 13,
     "metadata": {},
     "output_type": "execute_result"
    }
   ],
   "source": [
    "lfc_mb_filt.head()"
   ]
  },
  {
   "cell_type": "code",
   "execution_count": 14,
   "metadata": {
    "ExecuteTime": {
     "end_time": "2020-02-12T15:59:29.220316Z",
     "start_time": "2020-02-12T15:59:29.216326Z"
    }
   },
   "outputs": [],
   "source": [
    "value_cols = [col for col in lfc_mb_filt.columns if col not in [\n",
    "    'Rv_ID', 'Functional_Category']]"
   ]
  },
  {
   "cell_type": "code",
   "execution_count": 15,
   "metadata": {},
   "outputs": [],
   "source": [
    "def lasso_inv_p(betas, Cs, lfc, qval, value_cols):\n",
    "    X = lfc[value_cols].values\n",
    "    y = lfc['Functional_Category'].values\n",
    "    qval = qval[value_cols].apply(lambda x: np.where(x < 0.05, 0.05, x))\n",
    "    qval = qval[value_cols].values\n",
    "    accuracy = pd.DataFrame(index=betas, columns=Cs, dtype='float')\n",
    "    for b in betas:\n",
    "        print(f\"Processing beta: {b}\")\n",
    "        X_mod = X / np.power(qval, b)\n",
    "        for C in Cs:\n",
    "            print(f\"Processing C: {C}\")\n",
    "            skf = StratifiedKFold(n_splits=3, shuffle=True)\n",
    "            accuracy_per_fold = []\n",
    "            for train_index, test_index in skf.split(X_mod, y):\n",
    "                X_train, X_test = X_mod[train_index], X_mod[test_index]\n",
    "                y_train, y_test = y[train_index], y[test_index]\n",
    "                X_train, y_train = SMOTE().fit_resample(X_train, y_train)\n",
    "                clf = LogisticRegression(\n",
    "                    penalty='l1', solver='liblinear', multi_class='ovr', C=C)\n",
    "                clf.fit(X_train, y_train)\n",
    "                y_hat = clf.predict(X_test)\n",
    "                accuracy_per_fold.append(accuracy_score(y_test, y_hat))\n",
    "            accuracy.loc[b, C] = sum(accuracy_per_fold) / len(accuracy_per_fold)\n",
    "    plt.figure()\n",
    "    heat = sns.heatmap(accuracy, annot=True, linewidths=.1, fmt='1.2f')\n",
    "    heat.set(xlabel='Cs', ylabel='betas', title='Accuracy with LR on log2FC w pval')\n",
    "    return None\n"
   ]
  },
  {
   "cell_type": "code",
   "execution_count": 16,
   "metadata": {
    "Collapsed": "false",
    "ExecuteTime": {
     "end_time": "2020-02-12T16:03:21.563546Z",
     "start_time": "2020-02-12T15:59:29.872416Z"
    }
   },
   "outputs": [
    {
     "name": "stdout",
     "output_type": "stream",
     "text": [
      "Processing beta: 0\n",
      "Processing C: 0.005\n",
      "Processing C: 0.05\n",
      "Processing C: 0.1\n",
      "Processing C: 0.5\n",
      "Processing C: 1\n",
      "Processing C: 5\n",
      "Processing C: 10\n",
      "Processing C: 50\n",
      "Processing C: 100\n",
      "Processing beta: 0.02\n",
      "Processing C: 0.005\n",
      "Processing C: 0.05\n",
      "Processing C: 0.1\n",
      "Processing C: 0.5\n",
      "Processing C: 1\n",
      "Processing C: 5\n",
      "Processing C: 10\n",
      "Processing C: 50\n",
      "Processing C: 100\n",
      "Processing beta: 0.05\n",
      "Processing C: 0.005\n",
      "Processing C: 0.05\n",
      "Processing C: 0.1\n",
      "Processing C: 0.5\n",
      "Processing C: 1\n",
      "Processing C: 5\n",
      "Processing C: 10\n",
      "Processing C: 50\n",
      "Processing C: 100\n",
      "Processing beta: 0.1\n",
      "Processing C: 0.005\n",
      "Processing C: 0.05\n",
      "Processing C: 0.1\n",
      "Processing C: 0.5\n",
      "Processing C: 1\n",
      "Processing C: 5\n",
      "Processing C: 10\n",
      "Processing C: 50\n",
      "Processing C: 100\n",
      "Processing beta: 0.2\n",
      "Processing C: 0.005\n",
      "Processing C: 0.05\n",
      "Processing C: 0.1\n",
      "Processing C: 0.5\n",
      "Processing C: 1\n",
      "Processing C: 5\n",
      "Processing C: 10\n",
      "Processing C: 50\n",
      "Processing C: 100\n",
      "Processing beta: 0.3\n",
      "Processing C: 0.005\n",
      "Processing C: 0.05\n",
      "Processing C: 0.1\n",
      "Processing C: 0.5\n",
      "Processing C: 1\n",
      "Processing C: 5\n",
      "Processing C: 10\n",
      "Processing C: 50\n",
      "Processing C: 100\n",
      "Processing beta: 0.4\n",
      "Processing C: 0.005\n",
      "Processing C: 0.05\n",
      "Processing C: 0.1\n",
      "Processing C: 0.5\n",
      "Processing C: 1\n",
      "Processing C: 5\n",
      "Processing C: 10\n",
      "Processing C: 50\n",
      "Processing C: 100\n"
     ]
    },
    {
     "data": {
      "image/png": "[encoded data removed]",
      "text/plain": [
       "<Figure size 640x480 with 2 Axes>"
      ]
     },
     "metadata": {},
     "output_type": "display_data"
    }
   ],
   "source": [
    "lasso_inv_p(betas, Cs, lfc_mb_filt, qval_mb_filt, value_cols)"
   ]
  },
  {
   "cell_type": "code",
   "execution_count": 17,
   "metadata": {
    "Collapsed": "false",
    "ExecuteTime": {
     "end_time": "2020-02-12T16:03:21.624384Z",
     "start_time": "2020-02-12T16:03:21.619396Z"
    }
   },
   "outputs": [],
   "source": [
    "def lasso_min_p(lfc, qval, C, value_cols):\n",
    "    X = lfc[value_cols].values\n",
    "    y = lfc['Functional_Category'].values\n",
    "    # replace values lower than 0.05 with 0.05\n",
    "    qval = qval[value_cols].apply(lambda x: np.where(x < 0.05, 0.05, x))\n",
    "    qval = qval[value_cols].values\n",
    "    # print(X,y)\n",
    "    accuracy = []\n",
    "    X = X*(1-qval)\n",
    "    skf = StratifiedKFold(n_splits=3, shuffle=True)\n",
    "    for train_index, test_index in skf.split(X, y):\n",
    "        X_train, X_test = X[train_index], X[test_index]\n",
    "        y_train, y_test = y[train_index], y[test_index]\n",
    "        X_train, y_train = SMOTE().fit_resample(X_train, y_train)\n",
    "        clf = LogisticRegression(\n",
    "            penalty='l1', solver='liblinear', multi_class='ovr', C=C)\n",
    "        clf.fit(X_train, y_train)\n",
    "        y_hat = clf.predict(X_test)\n",
    "        accuracy.append(accuracy_score(y_test, y_hat))\n",
    "    print(accuracy)\n",
    "    # return accuracy"
   ]
  },
  {
   "cell_type": "code",
   "execution_count": null,
   "metadata": {
    "Collapsed": "false",
    "ExecuteTime": {
     "end_time": "2020-02-12T16:03:22.367400Z",
     "start_time": "2020-02-12T16:03:21.675247Z"
    }
   },
   "outputs": [],
   "source": [
    "lasso_min_p(lfc_mb_filt, qval_mb_filt, 10, value_cols)"
   ]
  },
  {
   "cell_type": "markdown",
   "metadata": {},
   "source": [
    "## With lfc only - mycobrowser"
   ]
  },
  {
   "cell_type": "code",
   "execution_count": null,
   "metadata": {
    "ExecuteTime": {
     "end_time": "2020-02-12T16:03:22.534952Z",
     "start_time": "2020-02-12T16:03:22.477107Z"
    }
   },
   "outputs": [],
   "source": [
    "%reset -f"
   ]
  },
  {
   "cell_type": "code",
   "execution_count": 1,
   "metadata": {
    "ExecuteTime": {
     "end_time": "2020-02-12T16:05:00.389991Z",
     "start_time": "2020-02-12T16:05:00.386000Z"
    }
   },
   "outputs": [],
   "source": [
    "import matplotlib.pyplot as plt\n",
    "import numpy as np\n",
    "import pandas as pd\n",
    "import seaborn as sns\n",
    "from sklearn.linear_model import LogisticRegression\n",
    "from sklearn.metrics import accuracy_score, confusion_matrix, f1_score, cohen_kappa_score, roc_auc_score\n",
    "from sklearn.model_selection import StratifiedKFold\n",
    "from sklearn.preprocessing import label_binarize, normalize\n",
    "from imblearn.over_sampling import SMOTE\n",
    "\n",
    "%matplotlib inline\n"
   ]
  },
  {
   "cell_type": "code",
   "execution_count": 2,
   "metadata": {
    "ExecuteTime": {
     "end_time": "2020-02-12T16:05:06.819334Z",
     "start_time": "2020-02-12T16:05:06.787328Z"
    }
   },
   "outputs": [],
   "source": [
    "lfc_mb_filt = pd.read_csv(\n",
    "    '/Users/amandaspencer/Documents/mtb_tn_db/data/standardized_data/cleaned_ML/lfc_mb_filt_07_22_24.csv')"
   ]
  },
  {
   "cell_type": "code",
   "execution_count": 3,
   "metadata": {
    "ExecuteTime": {
     "end_time": "2020-02-12T16:05:08.020970Z",
     "start_time": "2020-02-12T16:05:08.017948Z"
    }
   },
   "outputs": [],
   "source": [
    "value_cols = [col for col in lfc_mb_filt.columns if col not in [\n",
    "    'Rv_ID', 'Functional_Category']]"
   ]
  },
  {
   "cell_type": "code",
   "execution_count": 4,
   "metadata": {},
   "outputs": [],
   "source": [
    "### Newest multilabel classifier code ###\n",
    "from tqdm import tqdm\n",
    "from sklearn.multiclass import OneVsRestClassifier\n",
    "from sklearn.ensemble import RandomForestClassifier\n",
    "from sklearn.preprocessing import MultiLabelBinarizer\n",
    "from sklearn.metrics import confusion_matrix, accuracy_score, roc_auc_score, precision_score, recall_score, f1_score, roc_curve\n",
    "from sklearn.model_selection import StratifiedKFold\n",
    "from sklearn.linear_model import LogisticRegression\n",
    "import xgboost as xgb\n",
    "import matplotlib.pyplot as plt\n",
    "import numpy as np\n",
    "import warnings\n",
    "\n",
    "# Suppress specific warnings from XGBoost\n",
    "warnings.filterwarnings(action='ignore', category=UserWarning, module='xgboost')\n",
    "\n",
    "def lr_w_lasso_multilabel(mat, cols, C, norm_method, classifier, name, threshold=0.5, n_splits=3, figsize=(7, 7), save_path=None):\n",
    "    X = mat[cols].values\n",
    "    y = mat['Functional_Category'].values\n",
    "    n_classes = mat['Functional_Category'].nunique()\n",
    "    accuracy = []\n",
    "    skf = StratifiedKFold(n_splits=n_splits, shuffle=True, random_state=42)\n",
    "    \n",
    "    mlb = MultiLabelBinarizer()\n",
    "    y_multi = mlb.fit_transform([[label] for label in y])\n",
    "    \n",
    "    y_true_all = []\n",
    "    y_pred_all = []\n",
    "    y_score_all = []\n",
    "    \n",
    "    with tqdm(total=n_splits, desc=\"Cross-validation\") as pbar:\n",
    "        for train_index, test_index in skf.split(X, y):\n",
    "            X_train, X_test = X[train_index], X[test_index]\n",
    "            y_train, y_test = y_multi[train_index], y_multi[test_index]\n",
    "            \n",
    "            if norm_method == 'SMOTE':\n",
    "                X_train, y_train = SMOTE().fit_resample(X_train, y_train)\n",
    "            \n",
    "            if classifier == 'lr':\n",
    "                base_clf = LogisticRegression(penalty='l1', solver='liblinear', C=C, random_state=42)\n",
    "            elif classifier == 'rf':\n",
    "                base_clf = RandomForestClassifier(n_estimators=100, random_state=42)\n",
    "            elif classifier == 'xgb':\n",
    "                base_clf = xgb.XGBClassifier(eval_metric='logloss', random_state=42)\n",
    "                \n",
    "            clf = OneVsRestClassifier(base_clf)\n",
    "            clf.fit(X_train, y_train)\n",
    "            \n",
    "            y_score = clf.predict_proba(X_test)\n",
    "            y_hat = (y_score >= threshold).astype(int)\n",
    "            \n",
    "            y_true_all.extend(y_test)\n",
    "            y_pred_all.extend(y_hat)\n",
    "            y_score_all.extend(y_score)\n",
    "            \n",
    "            accuracy.append(accuracy_score(y_test, y_hat))\n",
    "            pbar.update(1)\n",
    "    \n",
    "    y_true_all = np.array(y_true_all)\n",
    "    y_pred_all = np.array(y_pred_all)\n",
    "    y_score_all = np.array(y_score_all)\n",
    "    \n",
    "    # Per-class metrics\n",
    "    col_names = ['PE/PPE', 'cell wall and\\ncell processes', 'information pathways', 'insertion seqs\\nand phages',\n",
    "                 'intermediary metabolism\\nand respiration', 'lipid metabolism', 'regulatory proteins', 'virulence, detoxification,\\nadaptation']\n",
    "    \n",
    "    precisions = []\n",
    "    recalls = []\n",
    "    f1_scores = []\n",
    "    roc_aucs = []\n",
    "    \n",
    "    print(f\"\\nPer-class metrics for {name}:\")\n",
    "    for i, class_name in enumerate(col_names):\n",
    "        precision = precision_score(y_true_all[:, i], y_pred_all[:, i])\n",
    "        recall = recall_score(y_true_all[:, i], y_pred_all[:, i])\n",
    "        f1 = f1_score(y_true_all[:, i], y_pred_all[:, i])\n",
    "        roc_auc = roc_auc_score(y_true_all[:, i], y_score_all[:, i])\n",
    "        \n",
    "        precisions.append(precision)\n",
    "        recalls.append(recall)\n",
    "        f1_scores.append(f1)\n",
    "        roc_aucs.append(roc_auc)\n",
    "        \n",
    "        print(f\"\\nClass {i} - {class_name}:\")\n",
    "        print(f\"  Precision: {precision:.3f}\")\n",
    "        print(f\"  Recall: {recall:.3f}\")\n",
    "        print(f\"  F1-score: {f1:.3f}\")\n",
    "        print(f\"  ROC AUC: {roc_auc:.3f}\")\n",
    "    \n",
    "    # Global metrics (macro average)\n",
    "    macro_precision = np.mean(precisions)\n",
    "    macro_recall = np.mean(recalls)\n",
    "    macro_f1 = np.mean(f1_scores)\n",
    "    macro_roc_auc = np.mean(roc_aucs)\n",
    "    \n",
    "    print(f\"\\nGlobal Metrics (Macro Average) for {name}:\")\n",
    "    print(f\"  Precision: {macro_precision:.3f}\")\n",
    "    print(f\"  Recall: {macro_recall:.3f}\")\n",
    "    print(f\"  F1-score: {macro_f1:.3f}\")\n",
    "    print(f\"  ROC AUC: {macro_roc_auc:.3f}\")\n",
    "    \n",
    "    # Plot ROC curves with white background and no grid\n",
    "    plt.figure(figsize=(12, 10))\n",
    "    for i, class_name in enumerate(col_names):\n",
    "        fpr, tpr, _ = roc_curve(y_true_all[:, i], y_score_all[:, i])\n",
    "        plt.plot(fpr, tpr, label=f'{class_name} (AUC = {roc_aucs[i]:.2f})')  \n",
    "    plt.plot([0, 1], [0, 1], 'k--')\n",
    "    plt.xlim([0.0, 1.0])\n",
    "    plt.ylim([0.0, 1.05])\n",
    "    plt.xlabel('False Positive Rate', fontsize=24)\n",
    "    plt.ylabel('True Positive Rate', fontsize=24)\n",
    "    plt.legend(loc=\"lower right\", fontsize=18)\n",
    "    plt.gca().set_facecolor('white')  # Set the background color to white\n",
    "    ax = plt.gca()\n",
    "    for spine in ax.spines.values():\n",
    "        spine.set_visible(True)\n",
    "        spine.set_edgecolor('black')\n",
    "        spine.set_linewidth(1)\n",
    "    ax.tick_params(axis='y', which='both', left=True, right=False)  \n",
    "    plt.grid(False)  \n",
    "    plt.tight_layout()  \n",
    "    \n",
    "    # Save plot as PNG file \n",
    "    if save_path:\n",
    "        plt.savefig(save_path, format='png', dpi=300)\n",
    "  \n",
    "    plt.show()\n",
    "    \n",
    "    return None"
   ]
  },
  {
   "cell_type": "code",
   "execution_count": 5,
   "metadata": {
    "scrolled": true
   },
   "outputs": [
    {
     "name": "stderr",
     "output_type": "stream",
     "text": [
      "Cross-validation: 100%|██████████████████████████| 5/5 [10:12<00:00, 122.50s/it]\n"
     ]
    },
    {
     "name": "stdout",
     "output_type": "stream",
     "text": [
      "\n",
      "Per-class metrics for Accuracy_log2FC_XGB_Multilabel_SMOTE_C=10:\n",
      "\n",
      "Class 0 - PE/PPE:\n",
      "  Precision: 0.833\n",
      "  Recall: 0.309\n",
      "  F1-score: 0.450\n",
      "  ROC AUC: 0.849\n",
      "\n",
      "Class 1 - cell wall and\n",
      "cell processes:\n",
      "  Precision: 0.444\n",
      "  Recall: 0.104\n",
      "  F1-score: 0.168\n",
      "  ROC AUC: 0.583\n",
      "\n",
      "Class 2 - information pathways:\n",
      "  Precision: 0.200\n",
      "  Recall: 0.066\n",
      "  F1-score: 0.099\n",
      "  ROC AUC: 0.697\n",
      "\n",
      "Class 3 - insertion seqs\n",
      "and phages:\n",
      "  Precision: 0.850\n",
      "  Recall: 0.359\n",
      "  F1-score: 0.505\n",
      "  ROC AUC: 0.816\n",
      "\n",
      "Class 4 - intermediary metabolism\n",
      "and respiration:\n",
      "  Precision: 0.507\n",
      "  Recall: 0.151\n",
      "  F1-score: 0.233\n",
      "  ROC AUC: 0.611\n",
      "\n",
      "Class 5 - lipid metabolism:\n",
      "  Precision: 0.654\n",
      "  Recall: 0.063\n",
      "  F1-score: 0.115\n",
      "  ROC AUC: 0.586\n",
      "\n",
      "Class 6 - regulatory proteins:\n",
      "  Precision: 0.176\n",
      "  Recall: 0.015\n",
      "  F1-score: 0.028\n",
      "  ROC AUC: 0.643\n",
      "\n",
      "Class 7 - virulence, detoxification,\n",
      "adaptation:\n",
      "  Precision: 0.500\n",
      "  Recall: 0.032\n",
      "  F1-score: 0.060\n",
      "  ROC AUC: 0.626\n",
      "\n",
      "Global Metrics (Macro Average) for Accuracy_log2FC_XGB_Multilabel_SMOTE_C=10:\n",
      "  Precision: 0.521\n",
      "  Recall: 0.137\n",
      "  F1-score: 0.207\n",
      "  ROC AUC: 0.676\n"
     ]
    },
    {
     "data": {
      "image/png": "[encoded data removed]",
      "text/plain": [
       "<Figure size 1200x1000 with 1 Axes>"
      ]
     },
     "metadata": {},
     "output_type": "display_data"
    }
   ],
   "source": [
    "value_cols = [col for col in lfc_mb_filt.columns if col not in ['Rv_ID', 'Functional_Category']] \n",
    "\n",
    "lr_w_lasso_multilabel(lfc_mb_filt, value_cols, C=10, n_splits=5,\n",
    "                norm_method='SMOTE', classifier='xgb', name='Accuracy_log2FC_XGB_Multilabel_SMOTE_C=10', save_path= 'Accuracy_log2FC_XGB_Multilabel_ROC_curve.png')"
   ]
  },
  {
   "cell_type": "code",
   "execution_count": 6,
   "metadata": {},
   "outputs": [
    {
     "name": "stdout",
     "output_type": "stream",
     "text": [
      "Count of genes in each functional category:\n",
      "PE/PPE                                     162\n",
      "cell wall and cell processes               771\n",
      "information pathways                       242\n",
      "insertion seqs and phages                  142\n",
      "intermediary metabolism and respiration    933\n",
      "lipid metabolism                           270\n",
      "regulatory proteins                        197\n",
      "virulence, detoxification, adaptation      220\n",
      "dtype: int64\n",
      "\n",
      "Number of genes sorted into multiple categories: 0\n",
      "Number of genes not sorted into any category: 0\n"
     ]
    }
   ],
   "source": [
    "mlb = MultiLabelBinarizer()\n",
    "y_multi = mlb.fit_transform([[label] for label in lfc_mb_filt['Functional_Category']])\n",
    "\n",
    "\n",
    "category_counts = pd.DataFrame(y_multi, columns=mlb.classes_).sum()\n",
    "\n",
    "print(\"Count of genes in each functional category:\")\n",
    "print(category_counts)\n",
    "\n",
    "multi_category_counts = (y_multi.sum(axis=1) > 1).sum()\n",
    "none_category_counts = (y_multi.sum(axis=1) == 0).sum()\n",
    "\n",
    "print(f\"\\nNumber of genes sorted into multiple categories: {multi_category_counts}\")\n",
    "print(f\"Number of genes not sorted into any category: {none_category_counts}\")\n"
   ]
  },
  {
   "cell_type": "code",
   "execution_count": null,
   "metadata": {},
   "outputs": [],
   "source": [
    "value_cols = [col for col in lfc_mb_filt.columns if col not in ['Rv_ID', 'Functional_Category']] \n",
    "\n",
    "lr_w_lasso_multilabel(lfc_mb_filt, value_cols, C=10, n_splits=5,\n",
    "                norm_method='SMOTE', classifier='lr', name='Accuracy_log2FC_LR_Multilabel_SMOTE_C=10')"
   ]
  },
  {
   "cell_type": "code",
   "execution_count": null,
   "metadata": {
    "Collapsed": "false",
    "ExecuteTime": {
     "end_time": "2020-02-12T16:05:33.617845Z",
     "start_time": "2020-02-12T16:05:22.657645Z"
    }
   },
   "outputs": [],
   "source": [
    "value_cols = [col for col in lfc_mb_filt.columns if col not in ['Rv_ID', 'Functional_Category']] \n",
    "\n",
    "lr_w_lasso_multilabel(lfc_mb_filt, value_cols, C=10, n_splits=5,\n",
    "                norm_method='SMOTE', classifier='rf', name='Accuracy_log2FC_RF_Multilabel_SMOTE_C=10')"
   ]
  },
  {
   "cell_type": "code",
   "execution_count": null,
   "metadata": {},
   "outputs": [],
   "source": [
    "lasso_confusion(lfc_mb_filt, value_cols, C=10,\n",
    "                norm_method='SMOTE', name='Accuracy_log2FC_LR_Multilabel_SMOTE_C=10')"
   ]
  },
  {
   "cell_type": "code",
   "execution_count": null,
   "metadata": {
    "Collapsed": "false",
    "ExecuteTime": {
     "end_time": "2020-02-12T16:05:37.468558Z",
     "start_time": "2020-02-12T16:05:33.665718Z"
    }
   },
   "outputs": [],
   "source": [
    "lasso_confusion(lfc_mb_filt, value_cols, C=10, norm_method='bal_weights',\n",
    "                name='Accuracy_log2FC_LR_balweights_C=10')"
   ]
  },
  {
   "cell_type": "code",
   "execution_count": null,
   "metadata": {
    "ExecuteTime": {
     "end_time": "2020-02-12T16:05:40.959269Z",
     "start_time": "2020-02-12T16:05:37.511446Z"
    }
   },
   "outputs": [],
   "source": [
    "lasso_confusion(lfc_mb_filt, value_cols, C=10, norm_method=None,\n",
    "                name='Accuracy_log2FC_LR_NoNorm_C=10')"
   ]
  },
  {
   "cell_type": "code",
   "execution_count": null,
   "metadata": {
    "ExecuteTime": {
     "end_time": "2020-02-12T16:12:14.537250Z",
     "start_time": "2020-02-12T16:12:14.531266Z"
    }
   },
   "outputs": [],
   "source": [
    "lfc_mb_filt.Functional_Category.value_counts()"
   ]
  },
  {
   "cell_type": "code",
   "execution_count": null,
   "metadata": {
    "Collapsed": "false",
    "ExecuteTime": {
     "end_time": "2020-02-12T16:12:19.931637Z",
     "start_time": "2020-02-12T16:12:15.378800Z"
    }
   },
   "outputs": [],
   "source": [
    "lasso_coefs(lfc_mb_filt, value_cols, 10, 'SMOTE').to_csv(\n",
    "    'results/coefs_mb_lfc_SMOTE_C10.csv')"
   ]
  },
  {
   "cell_type": "markdown",
   "metadata": {
    "Collapsed": "false",
    "ExecuteTime": {
     "end_time": "2019-05-29T01:51:03.548886Z",
     "start_time": "2019-05-29T01:51:03.545919Z"
    }
   },
   "source": [
    "## With binary"
   ]
  },
  {
   "cell_type": "code",
   "execution_count": null,
   "metadata": {
    "ExecuteTime": {
     "end_time": "2020-02-12T16:12:20.048326Z",
     "start_time": "2020-02-12T16:12:19.984495Z"
    }
   },
   "outputs": [],
   "source": [
    "%reset -f"
   ]
  },
  {
   "cell_type": "code",
   "execution_count": null,
   "metadata": {
    "ExecuteTime": {
     "end_time": "2020-02-12T16:12:54.070489Z",
     "start_time": "2020-02-12T16:12:54.066475Z"
    }
   },
   "outputs": [],
   "source": [
    "import matplotlib.pyplot as plt\n",
    "import numpy as np\n",
    "import pandas as pd\n",
    "import seaborn as sns\n",
    "from sklearn.linear_model import LogisticRegression\n",
    "from sklearn.metrics import accuracy_score, confusion_matrix, f1_score, cohen_kappa_score, roc_auc_score, balanced_accuracy_score\n",
    "from sklearn.model_selection import StratifiedKFold\n",
    "from sklearn.preprocessing import label_binarize, normalize\n",
    "from imblearn.over_sampling import SMOTE\n",
    "\n",
    "%matplotlib inline"
   ]
  },
  {
   "cell_type": "code",
   "execution_count": null,
   "metadata": {
    "ExecuteTime": {
     "end_time": "2020-02-12T16:12:27.490870Z",
     "start_time": "2020-02-12T16:12:27.474939Z"
    }
   },
   "outputs": [],
   "source": [
    "bin_mb_filt = pd.read_csv(\n",
    "    '/Users/amandaspencer/Documents/mtb_tn_db/data/standardized_data/cleaned_ML/bin_mb_filt.csv')"
   ]
  },
  {
   "cell_type": "code",
   "execution_count": null,
   "metadata": {
    "ExecuteTime": {
     "end_time": "2020-02-12T16:12:28.341689Z",
     "start_time": "2020-02-12T16:12:28.338720Z"
    }
   },
   "outputs": [],
   "source": [
    "binary_data_cols = [col for col in bin_mb_filt.columns if col not in [\n",
    "    'Rv_ID', 'Functional_Category']]"
   ]
  },
  {
   "cell_type": "code",
   "execution_count": null,
   "metadata": {
    "Collapsed": "false",
    "ExecuteTime": {
     "end_time": "2020-02-12T16:12:57.075895Z",
     "start_time": "2020-02-12T16:12:55.698547Z"
    }
   },
   "outputs": [],
   "source": [
    "lasso_vanilla(bin_mb_filt, binary_data_cols, Cs=[0.005, 0.05, 0.1, 1, 10, 50])"
   ]
  },
  {
   "cell_type": "code",
   "execution_count": null,
   "metadata": {
    "Collapsed": "false",
    "ExecuteTime": {
     "end_time": "2020-02-12T16:12:57.806914Z",
     "start_time": "2020-02-12T16:12:57.128726Z"
    }
   },
   "outputs": [],
   "source": [
    "lasso_confusion(bin_mb_filt, binary_data_cols, C=10,\n",
    "                norm_method='SMOTE', name='Accuracy_bin_LR_SMOTE_C=10')"
   ]
  },
  {
   "cell_type": "code",
   "execution_count": null,
   "metadata": {
    "Collapsed": "false",
    "ExecuteTime": {
     "end_time": "2020-02-12T16:12:59.931991Z",
     "start_time": "2020-02-12T16:12:59.458229Z"
    }
   },
   "outputs": [],
   "source": [
    "lasso_confusion(bin_mb_filt, binary_data_cols, C=10,\n",
    "                norm_method='bal_weights', name='Accuracy_bin_LR_balweights_C=10')"
   ]
  },
  {
   "cell_type": "markdown",
   "metadata": {
    "Collapsed": "false"
   },
   "source": [
    "## With log2FC and binary"
   ]
  },
  {
   "cell_type": "code",
   "execution_count": null,
   "metadata": {
    "ExecuteTime": {
     "end_time": "2020-02-12T16:13:02.785481Z",
     "start_time": "2020-02-12T16:13:02.722648Z"
    }
   },
   "outputs": [],
   "source": [
    "%reset -f"
   ]
  },
  {
   "cell_type": "code",
   "execution_count": null,
   "metadata": {
    "ExecuteTime": {
     "end_time": "2020-02-12T16:13:03.350433Z",
     "start_time": "2020-02-12T16:13:03.346415Z"
    }
   },
   "outputs": [],
   "source": [
    "import numpy as np\n",
    "import seaborn as sns\n",
    "import pandas as pd\n",
    "import pathlib\n",
    "from sklearn.linear_model import LogisticRegression\n",
    "from sklearn.model_selection import KFold, StratifiedKFold\n",
    "from sklearn.metrics import confusion_matrix, balanced_accuracy_score, accuracy_score, f1_score, cohen_kappa_score, roc_auc_score\n",
    "from sklearn.preprocessing import normalize, label_binarize\n",
    "from collections import defaultdict\n",
    "from imblearn.over_sampling import SMOTE\n",
    "import seaborn as sns\n",
    "import numpy as np\n",
    "import matplotlib.pyplot as plt\n",
    "%matplotlib inline"
   ]
  },
  {
   "cell_type": "code",
   "execution_count": null,
   "metadata": {
    "ExecuteTime": {
     "end_time": "2020-02-12T16:18:20.988943Z",
     "start_time": "2020-02-12T16:18:20.947941Z"
    }
   },
   "outputs": [],
   "source": [
    "lfc_mb_filt = pd.read_csv(\n",
    "    '/Users/amandaspencer/Documents/mtb_tn_db/data/standardized_data/cleaned_ML/lfc_mb_filt_07_22_24.csv')\n",
    "bin_mb_filt = pd.read_csv(\n",
    "    '/Users/amandaspencer/Documents/mtb_tn_db/data/standardized_data/cleaned_ML/bin_mb_filt.csv')\n",
    "assert (lfc_mb_filt.columns == bin_mb_filt.columns).all()"
   ]
  },
  {
   "cell_type": "code",
   "execution_count": null,
   "metadata": {
    "ExecuteTime": {
     "end_time": "2020-02-12T16:18:21.622442Z",
     "start_time": "2020-02-12T16:18:21.619451Z"
    }
   },
   "outputs": [],
   "source": [
    "value_cols = [col for col in lfc_mb_filt.columns if col not in [\n",
    "    'Rv_ID', 'Functional_Category']]"
   ]
  },
  {
   "cell_type": "code",
   "execution_count": null,
   "metadata": {
    "ExecuteTime": {
     "end_time": "2020-02-12T16:18:22.600966Z",
     "start_time": "2020-02-12T16:18:22.594982Z"
    }
   },
   "outputs": [],
   "source": [
    "bin_mb_filt = bin_mb_filt.rename(\n",
    "    columns={col: col + '_bin' for col in value_cols})"
   ]
  },
  {
   "cell_type": "code",
   "execution_count": null,
   "metadata": {
    "ExecuteTime": {
     "end_time": "2020-02-12T16:18:23.075643Z",
     "start_time": "2020-02-12T16:18:23.058674Z"
    }
   },
   "outputs": [],
   "source": [
    "lfc_bin_mb = pd.merge(lfc_mb_filt, bin_mb_filt, how='left', on='Rv_ID').rename(columns={\n",
    "    'Functional_Category_y': 'Functional_Category'}).drop(columns=['Functional_Category_x'])"
   ]
  },
  {
   "cell_type": "code",
   "execution_count": null,
   "metadata": {
    "ExecuteTime": {
     "end_time": "2020-02-12T16:18:29.275605Z",
     "start_time": "2020-02-12T16:18:29.027295Z"
    }
   },
   "outputs": [],
   "source": [
    "lfc_bin_mb.to_csv(\n",
    "    '/Users/amandaspencer/Documents/mtb_tn_db/data/standardized_data/cleaned_ML/bin_mb_filt.csv', index=False)"
   ]
  },
  {
   "cell_type": "code",
   "execution_count": null,
   "metadata": {
    "ExecuteTime": {
     "end_time": "2020-02-12T16:18:29.671547Z",
     "start_time": "2020-02-12T16:18:29.667557Z"
    }
   },
   "outputs": [],
   "source": [
    "lfc_bin_cols = [col for col in lfc_bin_mb.columns if col not in [\n",
    "    'Rv_ID', 'Functional_Category']]"
   ]
  },
  {
   "cell_type": "code",
   "execution_count": null,
   "metadata": {
    "Collapsed": "false",
    "ExecuteTime": {
     "end_time": "2020-02-12T16:19:23.200519Z",
     "start_time": "2020-02-12T16:18:49.300114Z"
    }
   },
   "outputs": [],
   "source": [
    "lasso_vanilla(lfc_bin_mb, lfc_bin_cols, Cs=[0.005, 0.05, 0.1, 1, 10, 50])"
   ]
  },
  {
   "cell_type": "code",
   "execution_count": null,
   "metadata": {
    "Collapsed": "false",
    "ExecuteTime": {
     "end_time": "2020-02-12T16:19:36.362667Z",
     "start_time": "2020-02-12T16:19:23.362339Z"
    }
   },
   "outputs": [],
   "source": [
    "lasso_confusion(lfc_bin_mb, lfc_bin_cols, C=10,\n",
    "                norm_method='SMOTE', name='Accuracy_lfc_bin_LR_SMOTE_C=10')"
   ]
  },
  {
   "cell_type": "markdown",
   "metadata": {},
   "source": [
    "# umap with log2fc"
   ]
  },
  {
   "cell_type": "code",
   "execution_count": null,
   "metadata": {
    "ExecuteTime": {
     "end_time": "2020-02-12T16:13:02.785481Z",
     "start_time": "2020-02-12T16:13:02.722648Z"
    }
   },
   "outputs": [],
   "source": [
    "%reset -f"
   ]
  },
  {
   "cell_type": "code",
   "execution_count": null,
   "metadata": {
    "ExecuteTime": {
     "end_time": "2020-02-12T16:13:03.350433Z",
     "start_time": "2020-02-12T16:13:03.346415Z"
    }
   },
   "outputs": [],
   "source": [
    "import pandas as pd\n",
    "import pathlib\n",
    "from sklearn.linear_model import LogisticRegression\n",
    "from sklearn.model_selection import KFold, StratifiedKFold\n",
    "from sklearn.metrics import confusion_matrix, balanced_accuracy_score, accuracy_score\n",
    "from sklearn.preprocessing import normalize\n",
    "from collections import defaultdict\n",
    "from imblearn.over_sampling import SMOTE\n",
    "import seaborn as sns\n",
    "import numpy as np\n",
    "import matplotlib.pyplot as plt\n",
    "%matplotlib inline"
   ]
  },
  {
   "cell_type": "code",
   "execution_count": null,
   "metadata": {},
   "outputs": [],
   "source": [
    "umap_10 = pd.read_csv('../data/tests/df_umap_10.csv')\n",
    "umap = pd.read_csv('../data/tests/df_umap.csv')"
   ]
  },
  {
   "cell_type": "code",
   "execution_count": null,
   "metadata": {},
   "outputs": [],
   "source": [
    "umap.head()"
   ]
  },
  {
   "cell_type": "code",
   "execution_count": null,
   "metadata": {},
   "outputs": [],
   "source": [
    "umap = umap.drop(columns=['gene_name', 'func_tuberculist', 'COG'])\n",
    "umap_10 = umap_10.drop(columns=['gene_name', 'func_tuberculist', 'COG'])"
   ]
  },
  {
   "cell_type": "code",
   "execution_count": null,
   "metadata": {},
   "outputs": [],
   "source": [
    "lfc_mb_filt = pd.read_csv(\n",
    "    '../data/standardized_data/cleaned_ML/lfc_mb_filt.csv')\n",
    "lfc_mb_filt.head()"
   ]
  },
  {
   "cell_type": "code",
   "execution_count": null,
   "metadata": {},
   "outputs": [],
   "source": [
    "lfc_umap = lfc_mb_filt.merge(umap, how='left', on='Rv_ID')\n",
    "lfc_umap_10 = lfc_mb_filt.merge(umap_10, how='left', on='Rv_ID')"
   ]
  },
  {
   "cell_type": "code",
   "execution_count": null,
   "metadata": {},
   "outputs": [],
   "source": [
    "lfc_umap.isna().sum()"
   ]
  },
  {
   "cell_type": "code",
   "execution_count": null,
   "metadata": {},
   "outputs": [],
   "source": [
    "#fill empty umaps with zero\n",
    "lfc_umap = lfc_umap.fillna(0)\n",
    "lfc_umap_10 = lfc_umap.fillna(0)\n"
   ]
  },
  {
   "cell_type": "code",
   "execution_count": null,
   "metadata": {},
   "outputs": [],
   "source": [
    "lfc_umap_value_cols = [col for col in lfc_umap.columns if col not in ['Rv_ID', 'Functional_Category']]\n",
    "lasso_confusion(lfc_umap, lfc_umap_value_cols, C=10, norm_method='SMOTE',\n",
    "                name='Accuracy_log2FC_umap_LR_SMOTE_C=10')"
   ]
  },
  {
   "cell_type": "code",
   "execution_count": null,
   "metadata": {},
   "outputs": [],
   "source": [
    "lfc_umap_10_value_cols = [col for col in lfc_umap_10.columns if col not in ['Rv_ID', 'Functional_Category']]\n",
    "lasso_confusion(lfc_umap_10, lfc_umap_10_value_cols, C=10, norm_method='SMOTE',\n",
    "                name='Accuracy_log2FC_umap_10_LR_SMOTE_C=10')"
   ]
  },
  {
   "cell_type": "code",
   "execution_count": null,
   "metadata": {},
   "outputs": [],
   "source": []
  }
 ],
 "metadata": {
  "kernelspec": {
   "display_name": "Python 3 (ipykernel)",
   "language": "python",
   "name": "python3"
  },
  "language_info": {
   "codemirror_mode": {
    "name": "ipython",
    "version": 3
   },
   "file_extension": ".py",
   "mimetype": "text/x-python",
   "name": "python",
   "nbconvert_exporter": "python",
   "pygments_lexer": "ipython3",
   "version": "3.12.2"
  },
  "toc": {
   "base_numbering": 1,
   "nav_menu": {},
   "number_sections": true,
   "sideBar": true,
   "skip_h1_title": false,
   "title_cell": "Table of Contents",
   "title_sidebar": "Contents",
   "toc_cell": false,
   "toc_position": {},
   "toc_section_display": true,
   "toc_window_display": false
  },
  "toc-autonumbering": true,
  "varInspector": {
   "cols": {
    "lenName": 16,
    "lenType": 16,
    "lenVar": 40
   },
   "kernels_config": {
    "python": {
     "delete_cmd_postfix": "",
     "delete_cmd_prefix": "del ",
     "library": "var_list.py",
     "varRefreshCmd": "print(var_dic_list())"
    },
    "r": {
     "delete_cmd_postfix": ") ",
     "delete_cmd_prefix": "rm(",
     "library": "var_list.r",
     "varRefreshCmd": "cat(var_dic_list()) "
    }
   },
   "types_to_exclude": [
    "module",
    "function",
    "builtin_function_or_method",
    "instance",
    "_Feature"
   ],
   "window_display": false
  }
 },
 "nbformat": 4,
 "nbformat_minor": 4
}
