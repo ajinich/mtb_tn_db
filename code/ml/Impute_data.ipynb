{
 "cells": [
  {
   "cell_type": "code",
   "execution_count": 171,
   "metadata": {
    "ExecuteTime": {
     "end_time": "2019-05-20T02:56:10.162872Z",
     "start_time": "2019-05-20T02:56:10.155893Z"
    }
   },
   "outputs": [],
   "source": [
    "import pandas as pd\n",
    "import pathlib"
   ]
  },
  {
   "cell_type": "code",
   "execution_count": 172,
   "metadata": {
    "ExecuteTime": {
     "end_time": "2019-05-20T02:56:13.935888Z",
     "start_time": "2019-05-20T02:56:10.166862Z"
    }
   },
   "outputs": [],
   "source": [
    "rawdata=pd.read_excel(pathlib.Path.cwd().parents[0].joinpath('data','Tn_library_DB_qval_log2FC.xlsx'))\n",
    "binary=pd.read_excel(pathlib.Path.cwd().parents[0].joinpath('data','Tn_library_DB.xlsx'))"
   ]
  },
  {
   "cell_type": "code",
   "execution_count": 173,
   "metadata": {
    "ExecuteTime": {
     "end_time": "2019-05-20T02:56:13.973702Z",
     "start_time": "2019-05-20T02:56:13.937798Z"
    }
   },
   "outputs": [
    {
     "data": {
      "text/html": [
       "<div>\n",
       "<style scoped>\n",
       "    .dataframe tbody tr th:only-of-type {\n",
       "        vertical-align: middle;\n",
       "    }\n",
       "\n",
       "    .dataframe tbody tr th {\n",
       "        vertical-align: top;\n",
       "    }\n",
       "\n",
       "    .dataframe thead th {\n",
       "        text-align: right;\n",
       "    }\n",
       "</style>\n",
       "<table border=\"1\" class=\"dataframe\">\n",
       "  <thead>\n",
       "    <tr style=\"text-align: right;\">\n",
       "      <th></th>\n",
       "      <th>Rv_ID</th>\n",
       "      <th>gene_name</th>\n",
       "      <th>2003A_Sassetti</th>\n",
       "      <th>2003B_Sassetti</th>\n",
       "      <th>2005_Rengarajan</th>\n",
       "      <th>2006_Joshi_GI_1</th>\n",
       "      <th>2006_Joshi_GI_2</th>\n",
       "      <th>2011_Griffin_2</th>\n",
       "      <th>2012_Zhang</th>\n",
       "      <th>2013_DeJesus</th>\n",
       "      <th>...</th>\n",
       "      <th>Rv0950</th>\n",
       "      <th>Rv3717</th>\n",
       "      <th>Rv3594</th>\n",
       "      <th>Rv3916c</th>\n",
       "      <th>marP</th>\n",
       "      <th>Rv0954</th>\n",
       "      <th>Rv1432</th>\n",
       "      <th>Rv1096</th>\n",
       "      <th>Rv2680</th>\n",
       "      <th>Rv0307c</th>\n",
       "    </tr>\n",
       "  </thead>\n",
       "  <tbody>\n",
       "    <tr>\n",
       "      <th>0</th>\n",
       "      <td>Rv0001</td>\n",
       "      <td>dnaA</td>\n",
       "      <td>1</td>\n",
       "      <td>0</td>\n",
       "      <td>0</td>\n",
       "      <td>0</td>\n",
       "      <td>0</td>\n",
       "      <td>0</td>\n",
       "      <td>1</td>\n",
       "      <td>1</td>\n",
       "      <td>...</td>\n",
       "      <td>0</td>\n",
       "      <td>0</td>\n",
       "      <td>0</td>\n",
       "      <td>0</td>\n",
       "      <td>0</td>\n",
       "      <td>0</td>\n",
       "      <td>0</td>\n",
       "      <td>0</td>\n",
       "      <td>0</td>\n",
       "      <td>0</td>\n",
       "    </tr>\n",
       "    <tr>\n",
       "      <th>1</th>\n",
       "      <td>Rv0002</td>\n",
       "      <td>dnaN</td>\n",
       "      <td>0</td>\n",
       "      <td>0</td>\n",
       "      <td>0</td>\n",
       "      <td>0</td>\n",
       "      <td>0</td>\n",
       "      <td>0</td>\n",
       "      <td>1</td>\n",
       "      <td>1</td>\n",
       "      <td>...</td>\n",
       "      <td>0</td>\n",
       "      <td>0</td>\n",
       "      <td>0</td>\n",
       "      <td>0</td>\n",
       "      <td>0</td>\n",
       "      <td>0</td>\n",
       "      <td>0</td>\n",
       "      <td>0</td>\n",
       "      <td>0</td>\n",
       "      <td>0</td>\n",
       "    </tr>\n",
       "    <tr>\n",
       "      <th>2</th>\n",
       "      <td>Rv0003</td>\n",
       "      <td>recF</td>\n",
       "      <td>0</td>\n",
       "      <td>0</td>\n",
       "      <td>0</td>\n",
       "      <td>0</td>\n",
       "      <td>0</td>\n",
       "      <td>0</td>\n",
       "      <td>1</td>\n",
       "      <td>0</td>\n",
       "      <td>...</td>\n",
       "      <td>0</td>\n",
       "      <td>0</td>\n",
       "      <td>0</td>\n",
       "      <td>1</td>\n",
       "      <td>0</td>\n",
       "      <td>0</td>\n",
       "      <td>0</td>\n",
       "      <td>0</td>\n",
       "      <td>0</td>\n",
       "      <td>0</td>\n",
       "    </tr>\n",
       "    <tr>\n",
       "      <th>3</th>\n",
       "      <td>Rv0004</td>\n",
       "      <td>-</td>\n",
       "      <td>0</td>\n",
       "      <td>0</td>\n",
       "      <td>0</td>\n",
       "      <td>0</td>\n",
       "      <td>0</td>\n",
       "      <td>0</td>\n",
       "      <td>0</td>\n",
       "      <td>0</td>\n",
       "      <td>...</td>\n",
       "      <td>0</td>\n",
       "      <td>0</td>\n",
       "      <td>0</td>\n",
       "      <td>0</td>\n",
       "      <td>0</td>\n",
       "      <td>0</td>\n",
       "      <td>0</td>\n",
       "      <td>0</td>\n",
       "      <td>0</td>\n",
       "      <td>0</td>\n",
       "    </tr>\n",
       "    <tr>\n",
       "      <th>4</th>\n",
       "      <td>Rv0005</td>\n",
       "      <td>gyrB</td>\n",
       "      <td>1</td>\n",
       "      <td>0</td>\n",
       "      <td>0</td>\n",
       "      <td>0</td>\n",
       "      <td>0</td>\n",
       "      <td>0</td>\n",
       "      <td>1</td>\n",
       "      <td>1</td>\n",
       "      <td>...</td>\n",
       "      <td>0</td>\n",
       "      <td>0</td>\n",
       "      <td>0</td>\n",
       "      <td>0</td>\n",
       "      <td>0</td>\n",
       "      <td>0</td>\n",
       "      <td>0</td>\n",
       "      <td>0</td>\n",
       "      <td>0</td>\n",
       "      <td>0</td>\n",
       "    </tr>\n",
       "  </tbody>\n",
       "</table>\n",
       "<p>5 rows × 60 columns</p>\n",
       "</div>"
      ],
      "text/plain": [
       "    Rv_ID gene_name  2003A_Sassetti  2003B_Sassetti  2005_Rengarajan  \\\n",
       "0  Rv0001      dnaA               1               0                0   \n",
       "1  Rv0002      dnaN               0               0                0   \n",
       "2  Rv0003      recF               0               0                0   \n",
       "3  Rv0004         -               0               0                0   \n",
       "4  Rv0005      gyrB               1               0                0   \n",
       "\n",
       "   2006_Joshi_GI_1  2006_Joshi_GI_2  2011_Griffin_2  2012_Zhang  2013_DeJesus  \\\n",
       "0                0                0               0           1             1   \n",
       "1                0                0               0           1             1   \n",
       "2                0                0               0           1             0   \n",
       "3                0                0               0           0             0   \n",
       "4                0                0               0           1             1   \n",
       "\n",
       "    ...     Rv0950  Rv3717  Rv3594  Rv3916c  marP  Rv0954  Rv1432  Rv1096  \\\n",
       "0   ...          0       0       0        0     0       0       0       0   \n",
       "1   ...          0       0       0        0     0       0       0       0   \n",
       "2   ...          0       0       0        1     0       0       0       0   \n",
       "3   ...          0       0       0        0     0       0       0       0   \n",
       "4   ...          0       0       0        0     0       0       0       0   \n",
       "\n",
       "   Rv2680  Rv0307c  \n",
       "0       0        0  \n",
       "1       0        0  \n",
       "2       0        0  \n",
       "3       0        0  \n",
       "4       0        0  \n",
       "\n",
       "[5 rows x 60 columns]"
      ]
     },
     "execution_count": 173,
     "metadata": {},
     "output_type": "execute_result"
    }
   ],
   "source": [
    "binary.head()"
   ]
  },
  {
   "cell_type": "code",
   "execution_count": 174,
   "metadata": {
    "ExecuteTime": {
     "end_time": "2019-05-20T02:56:14.015591Z",
     "start_time": "2019-05-20T02:56:13.976694Z"
    }
   },
   "outputs": [
    {
     "data": {
      "text/html": [
       "<div>\n",
       "<style scoped>\n",
       "    .dataframe tbody tr th:only-of-type {\n",
       "        vertical-align: middle;\n",
       "    }\n",
       "\n",
       "    .dataframe tbody tr th {\n",
       "        vertical-align: top;\n",
       "    }\n",
       "\n",
       "    .dataframe thead th {\n",
       "        text-align: right;\n",
       "    }\n",
       "</style>\n",
       "<table border=\"1\" class=\"dataframe\">\n",
       "  <thead>\n",
       "    <tr style=\"text-align: right;\">\n",
       "      <th></th>\n",
       "      <th>Rv_ID</th>\n",
       "      <th>gene_name</th>\n",
       "      <th>2003A_Sassetti_q_val</th>\n",
       "      <th>2003A_Sassetti_log2FC</th>\n",
       "      <th>2003B_Sassetti_q_val</th>\n",
       "      <th>2003B_Sassetti_log2FC</th>\n",
       "      <th>2005_Rengarajan_q_val</th>\n",
       "      <th>2005_Rengarajan_log2FC</th>\n",
       "      <th>2006_Joshi_GI_1_q_val</th>\n",
       "      <th>2006_Joshi_GI_1_log2FC</th>\n",
       "      <th>...</th>\n",
       "      <th>Rv1096_q_val</th>\n",
       "      <th>Rv1096_log2FC</th>\n",
       "      <th>Rv2680_q_val</th>\n",
       "      <th>Rv2680_log2FC</th>\n",
       "      <th>Rv1432_q_val</th>\n",
       "      <th>Rv1432_log2FC</th>\n",
       "      <th>Rv3594_q_val</th>\n",
       "      <th>Rv3594_log2FC</th>\n",
       "      <th>Rv3005c_q_val</th>\n",
       "      <th>Rv3005c_log2FC</th>\n",
       "    </tr>\n",
       "  </thead>\n",
       "  <tbody>\n",
       "    <tr>\n",
       "      <th>0</th>\n",
       "      <td>Rv0001</td>\n",
       "      <td>dnaA</td>\n",
       "      <td>0.004064</td>\n",
       "      <td>-3.378401</td>\n",
       "      <td>NaN</td>\n",
       "      <td>NaN</td>\n",
       "      <td>NaN</td>\n",
       "      <td>NaN</td>\n",
       "      <td>NaN</td>\n",
       "      <td>NaN</td>\n",
       "      <td>...</td>\n",
       "      <td>1.0</td>\n",
       "      <td>0.00</td>\n",
       "      <td>1.00000</td>\n",
       "      <td>-0.10</td>\n",
       "      <td>1.00000</td>\n",
       "      <td>3.83</td>\n",
       "      <td>1.0</td>\n",
       "      <td>0.00</td>\n",
       "      <td>0.75078</td>\n",
       "      <td>3.37</td>\n",
       "    </tr>\n",
       "    <tr>\n",
       "      <th>1</th>\n",
       "      <td>Rv0002</td>\n",
       "      <td>dnaN</td>\n",
       "      <td>NaN</td>\n",
       "      <td>NaN</td>\n",
       "      <td>NaN</td>\n",
       "      <td>NaN</td>\n",
       "      <td>NaN</td>\n",
       "      <td>NaN</td>\n",
       "      <td>NaN</td>\n",
       "      <td>NaN</td>\n",
       "      <td>...</td>\n",
       "      <td>1.0</td>\n",
       "      <td>0.00</td>\n",
       "      <td>1.00000</td>\n",
       "      <td>0.00</td>\n",
       "      <td>1.00000</td>\n",
       "      <td>0.00</td>\n",
       "      <td>1.0</td>\n",
       "      <td>0.00</td>\n",
       "      <td>1.00000</td>\n",
       "      <td>0.00</td>\n",
       "    </tr>\n",
       "    <tr>\n",
       "      <th>2</th>\n",
       "      <td>Rv0003</td>\n",
       "      <td>recF</td>\n",
       "      <td>NaN</td>\n",
       "      <td>NaN</td>\n",
       "      <td>NaN</td>\n",
       "      <td>NaN</td>\n",
       "      <td>NaN</td>\n",
       "      <td>NaN</td>\n",
       "      <td>NaN</td>\n",
       "      <td>NaN</td>\n",
       "      <td>...</td>\n",
       "      <td>1.0</td>\n",
       "      <td>0.39</td>\n",
       "      <td>0.42468</td>\n",
       "      <td>-1.93</td>\n",
       "      <td>0.69974</td>\n",
       "      <td>1.50</td>\n",
       "      <td>1.0</td>\n",
       "      <td>0.31</td>\n",
       "      <td>0.49222</td>\n",
       "      <td>3.45</td>\n",
       "    </tr>\n",
       "    <tr>\n",
       "      <th>3</th>\n",
       "      <td>Rv0004</td>\n",
       "      <td>-</td>\n",
       "      <td>NaN</td>\n",
       "      <td>NaN</td>\n",
       "      <td>NaN</td>\n",
       "      <td>NaN</td>\n",
       "      <td>NaN</td>\n",
       "      <td>NaN</td>\n",
       "      <td>NaN</td>\n",
       "      <td>NaN</td>\n",
       "      <td>...</td>\n",
       "      <td>1.0</td>\n",
       "      <td>1.54</td>\n",
       "      <td>1.00000</td>\n",
       "      <td>0.00</td>\n",
       "      <td>1.00000</td>\n",
       "      <td>0.00</td>\n",
       "      <td>1.0</td>\n",
       "      <td>1.79</td>\n",
       "      <td>1.00000</td>\n",
       "      <td>0.00</td>\n",
       "    </tr>\n",
       "    <tr>\n",
       "      <th>4</th>\n",
       "      <td>Rv0005</td>\n",
       "      <td>gyrB</td>\n",
       "      <td>0.000004</td>\n",
       "      <td>-5.919522</td>\n",
       "      <td>NaN</td>\n",
       "      <td>NaN</td>\n",
       "      <td>NaN</td>\n",
       "      <td>NaN</td>\n",
       "      <td>NaN</td>\n",
       "      <td>NaN</td>\n",
       "      <td>...</td>\n",
       "      <td>1.0</td>\n",
       "      <td>0.27</td>\n",
       "      <td>0.39119</td>\n",
       "      <td>-2.30</td>\n",
       "      <td>0.46795</td>\n",
       "      <td>-5.08</td>\n",
       "      <td>1.0</td>\n",
       "      <td>0.70</td>\n",
       "      <td>0.38872</td>\n",
       "      <td>-5.19</td>\n",
       "    </tr>\n",
       "  </tbody>\n",
       "</table>\n",
       "<p>5 rows × 114 columns</p>\n",
       "</div>"
      ],
      "text/plain": [
       "    Rv_ID gene_name  2003A_Sassetti_q_val  2003A_Sassetti_log2FC  \\\n",
       "0  Rv0001      dnaA              0.004064              -3.378401   \n",
       "1  Rv0002      dnaN                   NaN                    NaN   \n",
       "2  Rv0003      recF                   NaN                    NaN   \n",
       "3  Rv0004         -                   NaN                    NaN   \n",
       "4  Rv0005      gyrB              0.000004              -5.919522   \n",
       "\n",
       "  2003B_Sassetti_q_val  2003B_Sassetti_log2FC  2005_Rengarajan_q_val  \\\n",
       "0                  NaN                    NaN                    NaN   \n",
       "1                  NaN                    NaN                    NaN   \n",
       "2                  NaN                    NaN                    NaN   \n",
       "3                  NaN                    NaN                    NaN   \n",
       "4                  NaN                    NaN                    NaN   \n",
       "\n",
       "   2005_Rengarajan_log2FC  2006_Joshi_GI_1_q_val  2006_Joshi_GI_1_log2FC  \\\n",
       "0                     NaN                    NaN                     NaN   \n",
       "1                     NaN                    NaN                     NaN   \n",
       "2                     NaN                    NaN                     NaN   \n",
       "3                     NaN                    NaN                     NaN   \n",
       "4                     NaN                    NaN                     NaN   \n",
       "\n",
       "        ...        Rv1096_q_val  Rv1096_log2FC  Rv2680_q_val  Rv2680_log2FC  \\\n",
       "0       ...                 1.0           0.00       1.00000          -0.10   \n",
       "1       ...                 1.0           0.00       1.00000           0.00   \n",
       "2       ...                 1.0           0.39       0.42468          -1.93   \n",
       "3       ...                 1.0           1.54       1.00000           0.00   \n",
       "4       ...                 1.0           0.27       0.39119          -2.30   \n",
       "\n",
       "   Rv1432_q_val  Rv1432_log2FC  Rv3594_q_val  Rv3594_log2FC  Rv3005c_q_val  \\\n",
       "0       1.00000           3.83           1.0           0.00        0.75078   \n",
       "1       1.00000           0.00           1.0           0.00        1.00000   \n",
       "2       0.69974           1.50           1.0           0.31        0.49222   \n",
       "3       1.00000           0.00           1.0           1.79        1.00000   \n",
       "4       0.46795          -5.08           1.0           0.70        0.38872   \n",
       "\n",
       "   Rv3005c_log2FC  \n",
       "0            3.37  \n",
       "1            0.00  \n",
       "2            3.45  \n",
       "3            0.00  \n",
       "4           -5.19  \n",
       "\n",
       "[5 rows x 114 columns]"
      ]
     },
     "execution_count": 174,
     "metadata": {},
     "output_type": "execute_result"
    }
   ],
   "source": [
    "rawdata.head()"
   ]
  },
  {
   "cell_type": "code",
   "execution_count": 175,
   "metadata": {
    "ExecuteTime": {
     "end_time": "2019-05-20T02:56:14.032544Z",
     "start_time": "2019-05-20T02:56:14.018583Z"
    }
   },
   "outputs": [],
   "source": [
    "lfc_cols=list(rawdata.filter(regex='log2FC').columns)\n",
    "qval_cols=list(rawdata.filter(regex='q_val').columns)\n",
    "expt_names=[x[:-7] for x in lfc_cols]"
   ]
  },
  {
   "cell_type": "code",
   "execution_count": 176,
   "metadata": {
    "ExecuteTime": {
     "end_time": "2019-05-20T02:56:14.088396Z",
     "start_time": "2019-05-20T02:56:14.035537Z"
    }
   },
   "outputs": [],
   "source": [
    "#these contain log2fc and qval for few genes. Make log2FC 0 and qval 1 for the rest\n",
    "setA=['2003A_Sassetti', '2003B_Sassetti', '2011_Griffin_2', '2013_Zhang_2', '2013_Zhang_1', '2013_Zhang_3A', '2013_Zhang_3B', '2013_Zhang_3C', '2013_Zhang_3D', '2018_Rittershaus_1A', '2018_Rittershaus_1B']\n",
    "for exp in setA:\n",
    "    rawdata[exp+'_log2FC']=rawdata[exp+'_log2FC'].fillna(0)\n",
    "    rawdata[exp+'_q_val']=rawdata[exp+'_q_val'].fillna(1.0)\n",
    "    rawdata[exp+'_q_val']=rawdata[exp+'_q_val'].replace('no replicates', 1.0)\n"
   ]
  },
  {
   "cell_type": "code",
   "execution_count": 177,
   "metadata": {
    "ExecuteTime": {
     "end_time": "2019-05-20T02:56:14.121340Z",
     "start_time": "2019-05-20T02:56:14.092385Z"
    }
   },
   "outputs": [],
   "source": [
    "#these contain only q values for select genes and no log2fc. Make log2FC -1 for the select and 0 for everyone else\n",
    "setB=['2016_Korte', '2012_Zhang', '2015_Mendum']\n",
    "for exp in setB:\n",
    "    rawdata.loc[~rawdata[exp+'_q_val'].isna(),exp+'_log2FC']=-1.0\n",
    "    rawdata[exp+'_log2FC']=rawdata[exp+'_log2FC'].fillna(0)\n",
    "    rawdata[exp+'_q_val']=rawdata[exp+'_q_val'].fillna(1.0)\n",
    "    "
   ]
  },
  {
   "cell_type": "code",
   "execution_count": 178,
   "metadata": {
    "ExecuteTime": {
     "end_time": "2019-05-20T02:56:14.156215Z",
     "start_time": "2019-05-20T02:56:14.123302Z"
    }
   },
   "outputs": [],
   "source": [
    "#these contain only log2fc for select and no qval. Make qval 0.05 for select and 1 for the rest\n",
    "setC=['2017_Mishra_1A', '2017_Mishra_1B', '2017_Mishra_1C', '2017_Mishra_1D']\n",
    "for exp in setC:\n",
    "    rawdata.loc[~rawdata[exp+'_log2FC'].isna(),exp+'_q_val']=0.05\n",
    "    rawdata[exp+'_log2FC']=rawdata[exp+'_log2FC'].fillna(0)\n",
    "    rawdata[exp+'_q_val']=rawdata[exp+'_q_val'].fillna(1.0)\n"
   ]
  },
  {
   "cell_type": "code",
   "execution_count": 179,
   "metadata": {
    "ExecuteTime": {
     "end_time": "2019-05-20T02:56:14.199101Z",
     "start_time": "2019-05-20T02:56:14.159207Z"
    }
   },
   "outputs": [],
   "source": [
    "#these contain neither qval nor log2FC, but can use information from binary\n",
    "setD=['2005_Rengarajan', '2006_Joshi_GI_1', '2006_Joshi_GI_2']\n",
    "for exp in setD:\n",
    "    rawdata[exp+'_log2FC']=binary[exp]\n",
    "    rawdata[exp+'_log2FC']=rawdata[exp+'_log2FC'].replace(1, -1)\n",
    "    rawdata.loc[rawdata[exp+'_log2FC']==-1,exp+'_q_val']=0.05\n",
    "    rawdata[exp+'_q_val']=rawdata[exp+'_q_val'].fillna(1.0)\n"
   ]
  },
  {
   "cell_type": "code",
   "execution_count": 180,
   "metadata": {
    "ExecuteTime": {
     "end_time": "2019-05-20T02:56:14.233009Z",
     "start_time": "2019-05-20T02:56:14.202106Z"
    }
   },
   "outputs": [
    {
     "data": {
      "text/plain": [
       "2015_Kieser_GI_1_q_val      35\n",
       "2015_Kieser_GI_1_log2FC     35\n",
       "2015_Kieser_GI_2_q_val      35\n",
       "2015_Kieser_GI_2_log2FC     35\n",
       "2015_Kieser_GI_3_q_val      35\n",
       "2015_Kieser_GI_3_log2FC     35\n",
       "2016_Nambi_q_val           892\n",
       "2016_Nambi_log2FC          425\n",
       "2017_Xu_1A_q_val            19\n",
       "2017_Xu_1A_log2FC           19\n",
       "2017_Xu_1B_q_val            19\n",
       "2017_Xu_1B_log2FC           19\n",
       "2017_Xu_1C_q_val            19\n",
       "2017_Xu_1C_log2FC           19\n",
       "2017_Xu_1D_q_val            19\n",
       "2017_Xu_1D_log2FC           19\n",
       "2017_Xu_1E_q_val            19\n",
       "2017_Xu_1E_log2FC           19\n",
       "2018_Carey_1A_q_val        593\n",
       "2018_Carey_1A_log2FC       593\n",
       "2018_Carey_1B_q_val        582\n",
       "2018_Carey_1B_log2FC       582\n",
       "2018_Carey_1C_q_val        598\n",
       "2018_Carey_1C_log2FC       598\n",
       "2018_Carey_1D_q_val        602\n",
       "2018_Carey_1D_log2FC       602\n",
       "2018_Carey_1E_q_val        587\n",
       "2018_Carey_1E_log2FC       587\n",
       "2018_Carey_1F_q_val        593\n",
       "2018_Carey_1F_log2FC       593\n",
       "2018_Carey_1G_q_val        586\n",
       "2018_Carey_1G_log2FC       586\n",
       "2018_Carey_1H_q_val        590\n",
       "2018_Carey_1H_log2FC       590\n",
       "dtype: int64"
      ]
     },
     "execution_count": 180,
     "metadata": {},
     "output_type": "execute_result"
    }
   ],
   "source": [
    "na_counts=rawdata.isna().sum(axis=0)\n",
    "na_counts[na_counts>0]"
   ]
  },
  {
   "cell_type": "code",
   "execution_count": 181,
   "metadata": {
    "ExecuteTime": {
     "end_time": "2019-05-20T02:56:14.406552Z",
     "start_time": "2019-05-20T02:56:14.236001Z"
    }
   },
   "outputs": [],
   "source": [
    "#replace remaning na's and extreme vals\n",
    "for col in lfc_cols:\n",
    "    rawdata[col]=rawdata[col].fillna(0)\n",
    "    rawdata[col]=rawdata[col].replace(-np.inf, -1)\n",
    "for col in qval_cols:\n",
    "    rawdata[col]=rawdata[col].fillna(1)\n",
    "    rawdata[col]=rawdata[col].replace(0, 0.00001)"
   ]
  },
  {
   "cell_type": "code",
   "execution_count": 182,
   "metadata": {
    "ExecuteTime": {
     "end_time": "2019-05-20T02:56:14.428488Z",
     "start_time": "2019-05-20T02:56:14.407544Z"
    }
   },
   "outputs": [
    {
     "data": {
      "text/plain": [
       "Series([], dtype: int64)"
      ]
     },
     "execution_count": 182,
     "metadata": {},
     "output_type": "execute_result"
    }
   ],
   "source": [
    "na_counts=rawdata.isna().sum(axis=0)\n",
    "na_counts[na_counts>0]"
   ]
  },
  {
   "cell_type": "code",
   "execution_count": 184,
   "metadata": {
    "ExecuteTime": {
     "end_time": "2019-05-20T02:56:22.146432Z",
     "start_time": "2019-05-20T02:56:21.687657Z"
    }
   },
   "outputs": [],
   "source": [
    "rawdata.to_csv(pathlib.Path.cwd().parents[0].joinpath('data','Tn_library_DB_qval_log2FC_imputed.csv'), index=False)"
   ]
  },
  {
   "cell_type": "code",
   "execution_count": 31,
   "metadata": {
    "ExecuteTime": {
     "end_time": "2019-05-19T22:01:40.588487Z",
     "start_time": "2019-05-19T22:01:40.577516Z"
    }
   },
   "outputs": [],
   "source": [
    "lfc=rawdata[['Rv_ID']+lfc_cols]\n",
    "lfc=lfc.rename(columns={x:x[:-7] for x in lfc_cols})\n",
    "lfc.head()"
   ]
  },
  {
   "cell_type": "code",
   "execution_count": 32,
   "metadata": {
    "ExecuteTime": {
     "end_time": "2019-05-19T22:01:43.995429Z",
     "start_time": "2019-05-19T22:01:43.980473Z"
    }
   },
   "outputs": [],
   "source": [
    "qval=rawdata[['Rv_ID']+qval_cols]\n",
    "qval=qval.rename(columns={x:x[:-6] for x in qval_cols})\n",
    "qval.head()"
   ]
  },
  {
   "cell_type": "code",
   "execution_count": 34,
   "metadata": {
    "ExecuteTime": {
     "end_time": "2019-05-19T22:01:58.191781Z",
     "start_time": "2019-05-19T22:01:58.182810Z"
    }
   },
   "outputs": [
    {
     "data": {
      "text/plain": [
       "True"
      ]
     },
     "execution_count": 34,
     "metadata": {},
     "output_type": "execute_result"
    }
   ],
   "source": [
    "assert all(qval.columns==lfc.columns)"
   ]
  },
  {
   "cell_type": "code",
   "execution_count": 42,
   "metadata": {
    "ExecuteTime": {
     "end_time": "2019-05-19T22:06:37.324399Z",
     "start_time": "2019-05-19T22:06:37.253564Z"
    }
   },
   "outputs": [
    {
     "ename": "ValueError",
     "evalue": "Lengths must match to compare",
     "output_type": "error",
     "traceback": [
      "\u001b[1;31m---------------------------------------------------------------------------\u001b[0m",
      "\u001b[1;31mValueError\u001b[0m                                Traceback (most recent call last)",
      "\u001b[1;32m<ipython-input-42-1c4533319a66>\u001b[0m in \u001b[0;36m<module>\u001b[1;34m()\u001b[0m\n\u001b[0;32m      1\u001b[0m \u001b[0mlfc\u001b[0m\u001b[1;33m=\u001b[0m\u001b[0mlfc\u001b[0m\u001b[1;33m.\u001b[0m\u001b[0mdropna\u001b[0m\u001b[1;33m(\u001b[0m\u001b[0maxis\u001b[0m\u001b[1;33m=\u001b[0m\u001b[1;36m1\u001b[0m\u001b[1;33m,\u001b[0m \u001b[0mhow\u001b[0m\u001b[1;33m=\u001b[0m\u001b[1;34m'all'\u001b[0m\u001b[1;33m)\u001b[0m\u001b[1;33m\u001b[0m\u001b[0m\n\u001b[0;32m      2\u001b[0m \u001b[0mqval\u001b[0m\u001b[1;33m=\u001b[0m\u001b[0mqval\u001b[0m\u001b[1;33m.\u001b[0m\u001b[0mdropna\u001b[0m\u001b[1;33m(\u001b[0m\u001b[0maxis\u001b[0m\u001b[1;33m=\u001b[0m\u001b[1;36m1\u001b[0m\u001b[1;33m,\u001b[0m \u001b[0mhow\u001b[0m\u001b[1;33m=\u001b[0m\u001b[1;34m'all'\u001b[0m\u001b[1;33m)\u001b[0m\u001b[1;33m\u001b[0m\u001b[0m\n\u001b[1;32m----> 3\u001b[1;33m \u001b[1;32massert\u001b[0m \u001b[0mall\u001b[0m\u001b[1;33m(\u001b[0m\u001b[0mqval\u001b[0m\u001b[1;33m.\u001b[0m\u001b[0mcolumns\u001b[0m\u001b[1;33m==\u001b[0m\u001b[0mlfc\u001b[0m\u001b[1;33m.\u001b[0m\u001b[0mcolumns\u001b[0m\u001b[1;33m)\u001b[0m\u001b[1;33m\u001b[0m\u001b[0m\n\u001b[0m",
      "\u001b[1;32mC:\\ProgramData\\Anaconda3\\lib\\site-packages\\pandas\\core\\indexes\\base.py\u001b[0m in \u001b[0;36mcmp_method\u001b[1;34m(self, other)\u001b[0m\n\u001b[0;32m     91\u001b[0m         \u001b[1;32mif\u001b[0m \u001b[0misinstance\u001b[0m\u001b[1;33m(\u001b[0m\u001b[0mother\u001b[0m\u001b[1;33m,\u001b[0m \u001b[1;33m(\u001b[0m\u001b[0mnp\u001b[0m\u001b[1;33m.\u001b[0m\u001b[0mndarray\u001b[0m\u001b[1;33m,\u001b[0m \u001b[0mIndex\u001b[0m\u001b[1;33m,\u001b[0m \u001b[0mABCSeries\u001b[0m\u001b[1;33m)\u001b[0m\u001b[1;33m)\u001b[0m\u001b[1;33m:\u001b[0m\u001b[1;33m\u001b[0m\u001b[0m\n\u001b[0;32m     92\u001b[0m             \u001b[1;32mif\u001b[0m \u001b[0mother\u001b[0m\u001b[1;33m.\u001b[0m\u001b[0mndim\u001b[0m \u001b[1;33m>\u001b[0m \u001b[1;36m0\u001b[0m \u001b[1;32mand\u001b[0m \u001b[0mlen\u001b[0m\u001b[1;33m(\u001b[0m\u001b[0mself\u001b[0m\u001b[1;33m)\u001b[0m \u001b[1;33m!=\u001b[0m \u001b[0mlen\u001b[0m\u001b[1;33m(\u001b[0m\u001b[0mother\u001b[0m\u001b[1;33m)\u001b[0m\u001b[1;33m:\u001b[0m\u001b[1;33m\u001b[0m\u001b[0m\n\u001b[1;32m---> 93\u001b[1;33m                 \u001b[1;32mraise\u001b[0m \u001b[0mValueError\u001b[0m\u001b[1;33m(\u001b[0m\u001b[1;34m'Lengths must match to compare'\u001b[0m\u001b[1;33m)\u001b[0m\u001b[1;33m\u001b[0m\u001b[0m\n\u001b[0m\u001b[0;32m     94\u001b[0m \u001b[1;33m\u001b[0m\u001b[0m\n\u001b[0;32m     95\u001b[0m         \u001b[1;31m# we may need to directly compare underlying\u001b[0m\u001b[1;33m\u001b[0m\u001b[1;33m\u001b[0m\u001b[0m\n",
      "\u001b[1;31mValueError\u001b[0m: Lengths must match to compare"
     ]
    }
   ],
   "source": [
    "lfc=lfc.dropna(axis=1, how='all')\n",
    "qval=qval.dropna(axis=1, how='all')\n",
    "assert all(qval.columns==lfc.columns)"
   ]
  },
  {
   "cell_type": "code",
   "execution_count": 43,
   "metadata": {
    "ExecuteTime": {
     "end_time": "2019-05-19T22:07:09.210709Z",
     "start_time": "2019-05-19T22:07:09.204725Z"
    }
   },
   "outputs": [
    {
     "data": {
      "text/plain": [
       "Index(['Rv_ID', '2003A_Sassetti', '2003B_Sassetti', '2011_Griffin_2',\n",
       "       '2013_Zhang_1', '2013_Zhang_2', '2013_Zhang_3A', '2013_Zhang_3B',\n",
       "       '2013_Zhang_3C', '2013_Zhang_3D', '2017_Mishra_1A', '2017_Mishra_1B',\n",
       "       '2017_Mishra_1C', '2017_Mishra_1D', '2018_Rittershaus_1A',\n",
       "       '2018_Rittershaus_1B', '2015_Kieser_GI_1', '2015_Kieser_GI_2',\n",
       "       '2015_Kieser_GI_3', '2016_Nambi', '2017_Xu_1A', '2017_Xu_1B',\n",
       "       '2017_Xu_1C', '2017_Xu_1D', '2017_Xu_1E', '2018_Carey_1A',\n",
       "       '2018_Carey_1B', '2018_Carey_1C', '2018_Carey_1D', '2018_Carey_1E',\n",
       "       '2018_Carey_1F', '2018_Carey_1G', '2018_Carey_1H', '2017B_DeJesus_1A',\n",
       "       '2017B_DeJesus_1B', '2017B_DeJesus_1C', 'marP', 'Rv0950', 'Rv3916c',\n",
       "       'Rv0307c', 'Rv3717', 'ponA1', 'Rv1565c', 'Rv3684', 'Rv0954', 'Rv3811',\n",
       "       'Rv1096', 'Rv2680', 'Rv1432', 'Rv3594', 'Rv3005c'],\n",
       "      dtype='object')"
      ]
     },
     "execution_count": 43,
     "metadata": {},
     "output_type": "execute_result"
    }
   ],
   "source": [
    "lfc.columns"
   ]
  },
  {
   "cell_type": "code",
   "execution_count": 47,
   "metadata": {
    "ExecuteTime": {
     "end_time": "2019-05-19T22:22:24.890326Z",
     "start_time": "2019-05-19T22:22:24.883344Z"
    }
   },
   "outputs": [
    {
     "data": {
      "text/plain": [
       "56"
      ]
     },
     "execution_count": 47,
     "metadata": {},
     "output_type": "execute_result"
    }
   ],
   "source": [
    "len(qval_cols)"
   ]
  },
  {
   "cell_type": "code",
   "execution_count": 18,
   "metadata": {
    "ExecuteTime": {
     "end_time": "2019-05-19T15:32:50.198702Z",
     "start_time": "2019-05-19T15:32:50.185167Z"
    }
   },
   "outputs": [],
   "source": [
    "orf_details=orf_details[['Locus', 'Functional_Category']]"
   ]
  },
  {
   "cell_type": "code",
   "execution_count": 20,
   "metadata": {
    "ExecuteTime": {
     "end_time": "2019-05-19T15:33:28.097592Z",
     "start_time": "2019-05-19T15:33:28.069428Z"
    }
   },
   "outputs": [
    {
     "data": {
      "text/html": [
       "<div>\n",
       "<style scoped>\n",
       "    .dataframe tbody tr th:only-of-type {\n",
       "        vertical-align: middle;\n",
       "    }\n",
       "\n",
       "    .dataframe tbody tr th {\n",
       "        vertical-align: top;\n",
       "    }\n",
       "\n",
       "    .dataframe thead th {\n",
       "        text-align: right;\n",
       "    }\n",
       "</style>\n",
       "<table border=\"1\" class=\"dataframe\">\n",
       "  <thead>\n",
       "    <tr style=\"text-align: right;\">\n",
       "      <th></th>\n",
       "      <th>Locus</th>\n",
       "      <th>Functional_Category</th>\n",
       "    </tr>\n",
       "  </thead>\n",
       "  <tbody>\n",
       "    <tr>\n",
       "      <th>0</th>\n",
       "      <td>Rv3728</td>\n",
       "      <td>cell wall and cell processes</td>\n",
       "    </tr>\n",
       "    <tr>\n",
       "      <th>1</th>\n",
       "      <td>Rv3729</td>\n",
       "      <td>intermediary metabolism and respiration</td>\n",
       "    </tr>\n",
       "    <tr>\n",
       "      <th>2</th>\n",
       "      <td>Rv3730c</td>\n",
       "      <td>conserved hypotheticals</td>\n",
       "    </tr>\n",
       "    <tr>\n",
       "      <th>3</th>\n",
       "      <td>Rv3760</td>\n",
       "      <td>cell wall and cell processes</td>\n",
       "    </tr>\n",
       "    <tr>\n",
       "      <th>4</th>\n",
       "      <td>Rv3732</td>\n",
       "      <td>conserved hypotheticals</td>\n",
       "    </tr>\n",
       "  </tbody>\n",
       "</table>\n",
       "</div>"
      ],
      "text/plain": [
       "     Locus                      Functional_Category\n",
       "0   Rv3728             cell wall and cell processes\n",
       "1   Rv3729  intermediary metabolism and respiration\n",
       "2  Rv3730c                  conserved hypotheticals\n",
       "3   Rv3760             cell wall and cell processes\n",
       "4   Rv3732                  conserved hypotheticals"
      ]
     },
     "execution_count": 20,
     "metadata": {},
     "output_type": "execute_result"
    }
   ],
   "source": [
    "orf_details.head()"
   ]
  },
  {
   "cell_type": "code",
   "execution_count": 25,
   "metadata": {
    "ExecuteTime": {
     "end_time": "2019-05-19T15:36:02.699999Z",
     "start_time": "2019-05-19T15:36:02.581671Z"
    }
   },
   "outputs": [
    {
     "data": {
      "text/html": [
       "<div>\n",
       "<style scoped>\n",
       "    .dataframe tbody tr th:only-of-type {\n",
       "        vertical-align: middle;\n",
       "    }\n",
       "\n",
       "    .dataframe tbody tr th {\n",
       "        vertical-align: top;\n",
       "    }\n",
       "\n",
       "    .dataframe thead th {\n",
       "        text-align: right;\n",
       "    }\n",
       "</style>\n",
       "<table border=\"1\" class=\"dataframe\">\n",
       "  <thead>\n",
       "    <tr style=\"text-align: right;\">\n",
       "      <th></th>\n",
       "      <th>Rv_ID</th>\n",
       "      <th>gene_name</th>\n",
       "      <th>2012_Zhang_log2FC</th>\n",
       "      <th>2015_Kieser_GI_1_log2FC</th>\n",
       "      <th>2015_Kieser_GI_2_log2FC</th>\n",
       "      <th>2015_Kieser_GI_3_log2FC</th>\n",
       "      <th>2015_Mendum_log2FC</th>\n",
       "      <th>2016_Nambi_log2FC</th>\n",
       "      <th>2017_Xu_1A_log2FC</th>\n",
       "      <th>2017_Xu_1B_log2FC</th>\n",
       "      <th>...</th>\n",
       "      <th>Rv3684_log2FC</th>\n",
       "      <th>Rv0954_log2FC</th>\n",
       "      <th>Rv3811_log2FC</th>\n",
       "      <th>Rv1096_log2FC</th>\n",
       "      <th>Rv2680_log2FC</th>\n",
       "      <th>Rv1432_log2FC</th>\n",
       "      <th>Rv3594_log2FC</th>\n",
       "      <th>Rv3005c_log2FC</th>\n",
       "      <th>Locus</th>\n",
       "      <th>Functional_Category</th>\n",
       "    </tr>\n",
       "  </thead>\n",
       "  <tbody>\n",
       "    <tr>\n",
       "      <th>0</th>\n",
       "      <td>Rv0001</td>\n",
       "      <td>dnaA</td>\n",
       "      <td>NaN</td>\n",
       "      <td>1.242756</td>\n",
       "      <td>1.584963</td>\n",
       "      <td>-0.213880</td>\n",
       "      <td>NaN</td>\n",
       "      <td>NaN</td>\n",
       "      <td>0.000000</td>\n",
       "      <td>0.000000</td>\n",
       "      <td>...</td>\n",
       "      <td>0.00</td>\n",
       "      <td>0.43</td>\n",
       "      <td>0.00</td>\n",
       "      <td>1.18</td>\n",
       "      <td>0.00</td>\n",
       "      <td>2.21</td>\n",
       "      <td>0.00</td>\n",
       "      <td>3.37</td>\n",
       "      <td>Rv0001</td>\n",
       "      <td>information pathways</td>\n",
       "    </tr>\n",
       "    <tr>\n",
       "      <th>1</th>\n",
       "      <td>Rv0002</td>\n",
       "      <td>dnaN</td>\n",
       "      <td>NaN</td>\n",
       "      <td>-0.574319</td>\n",
       "      <td>1.584963</td>\n",
       "      <td>-1.772497</td>\n",
       "      <td>NaN</td>\n",
       "      <td>NaN</td>\n",
       "      <td>0.000000</td>\n",
       "      <td>0.000000</td>\n",
       "      <td>...</td>\n",
       "      <td>0.00</td>\n",
       "      <td>0.00</td>\n",
       "      <td>0.00</td>\n",
       "      <td>0.00</td>\n",
       "      <td>0.00</td>\n",
       "      <td>2.21</td>\n",
       "      <td>0.00</td>\n",
       "      <td>0.00</td>\n",
       "      <td>Rv0002</td>\n",
       "      <td>information pathways</td>\n",
       "    </tr>\n",
       "    <tr>\n",
       "      <th>2</th>\n",
       "      <td>Rv0003</td>\n",
       "      <td>recF</td>\n",
       "      <td>NaN</td>\n",
       "      <td>0.913190</td>\n",
       "      <td>0.439142</td>\n",
       "      <td>-0.452153</td>\n",
       "      <td>NaN</td>\n",
       "      <td>0.599232</td>\n",
       "      <td>-0.535596</td>\n",
       "      <td>-0.549777</td>\n",
       "      <td>...</td>\n",
       "      <td>0.31</td>\n",
       "      <td>0.91</td>\n",
       "      <td>-2.59</td>\n",
       "      <td>0.48</td>\n",
       "      <td>0.03</td>\n",
       "      <td>-0.40</td>\n",
       "      <td>0.17</td>\n",
       "      <td>3.45</td>\n",
       "      <td>Rv0003</td>\n",
       "      <td>information pathways</td>\n",
       "    </tr>\n",
       "    <tr>\n",
       "      <th>3</th>\n",
       "      <td>Rv0004</td>\n",
       "      <td>-</td>\n",
       "      <td>NaN</td>\n",
       "      <td>0.021994</td>\n",
       "      <td>-1.119820</td>\n",
       "      <td>-2.945263</td>\n",
       "      <td>NaN</td>\n",
       "      <td>1.515639</td>\n",
       "      <td>0.000000</td>\n",
       "      <td>0.000000</td>\n",
       "      <td>...</td>\n",
       "      <td>1.79</td>\n",
       "      <td>0.00</td>\n",
       "      <td>0.00</td>\n",
       "      <td>2.61</td>\n",
       "      <td>-2.60</td>\n",
       "      <td>-2.66</td>\n",
       "      <td>1.08</td>\n",
       "      <td>0.00</td>\n",
       "      <td>Rv0004</td>\n",
       "      <td>conserved hypotheticals</td>\n",
       "    </tr>\n",
       "    <tr>\n",
       "      <th>4</th>\n",
       "      <td>Rv0005</td>\n",
       "      <td>gyrB</td>\n",
       "      <td>NaN</td>\n",
       "      <td>3.108722</td>\n",
       "      <td>4.087463</td>\n",
       "      <td>-0.905491</td>\n",
       "      <td>NaN</td>\n",
       "      <td>-1.948935</td>\n",
       "      <td>0.000000</td>\n",
       "      <td>0.000000</td>\n",
       "      <td>...</td>\n",
       "      <td>0.70</td>\n",
       "      <td>-5.61</td>\n",
       "      <td>-7.69</td>\n",
       "      <td>0.04</td>\n",
       "      <td>0.13</td>\n",
       "      <td>-0.97</td>\n",
       "      <td>-0.71</td>\n",
       "      <td>-5.19</td>\n",
       "      <td>Rv0005</td>\n",
       "      <td>information pathways</td>\n",
       "    </tr>\n",
       "  </tbody>\n",
       "</table>\n",
       "<p>5 rows × 41 columns</p>\n",
       "</div>"
      ],
      "text/plain": [
       "    Rv_ID gene_name  2012_Zhang_log2FC  2015_Kieser_GI_1_log2FC  \\\n",
       "0  Rv0001      dnaA                NaN                 1.242756   \n",
       "1  Rv0002      dnaN                NaN                -0.574319   \n",
       "2  Rv0003      recF                NaN                 0.913190   \n",
       "3  Rv0004         -                NaN                 0.021994   \n",
       "4  Rv0005      gyrB                NaN                 3.108722   \n",
       "\n",
       "   2015_Kieser_GI_2_log2FC  2015_Kieser_GI_3_log2FC  2015_Mendum_log2FC  \\\n",
       "0                 1.584963                -0.213880                 NaN   \n",
       "1                 1.584963                -1.772497                 NaN   \n",
       "2                 0.439142                -0.452153                 NaN   \n",
       "3                -1.119820                -2.945263                 NaN   \n",
       "4                 4.087463                -0.905491                 NaN   \n",
       "\n",
       "   2016_Nambi_log2FC  2017_Xu_1A_log2FC  2017_Xu_1B_log2FC  \\\n",
       "0                NaN           0.000000           0.000000   \n",
       "1                NaN           0.000000           0.000000   \n",
       "2           0.599232          -0.535596          -0.549777   \n",
       "3           1.515639           0.000000           0.000000   \n",
       "4          -1.948935           0.000000           0.000000   \n",
       "\n",
       "            ...             Rv3684_log2FC  Rv0954_log2FC  Rv3811_log2FC  \\\n",
       "0           ...                      0.00           0.43           0.00   \n",
       "1           ...                      0.00           0.00           0.00   \n",
       "2           ...                      0.31           0.91          -2.59   \n",
       "3           ...                      1.79           0.00           0.00   \n",
       "4           ...                      0.70          -5.61          -7.69   \n",
       "\n",
       "   Rv1096_log2FC  Rv2680_log2FC  Rv1432_log2FC  Rv3594_log2FC  Rv3005c_log2FC  \\\n",
       "0           1.18           0.00           2.21           0.00            3.37   \n",
       "1           0.00           0.00           2.21           0.00            0.00   \n",
       "2           0.48           0.03          -0.40           0.17            3.45   \n",
       "3           2.61          -2.60          -2.66           1.08            0.00   \n",
       "4           0.04           0.13          -0.97          -0.71           -5.19   \n",
       "\n",
       "    Locus      Functional_Category  \n",
       "0  Rv0001     information pathways  \n",
       "1  Rv0002     information pathways  \n",
       "2  Rv0003     information pathways  \n",
       "3  Rv0004  conserved hypotheticals  \n",
       "4  Rv0005     information pathways  \n",
       "\n",
       "[5 rows x 41 columns]"
      ]
     },
     "execution_count": 25,
     "metadata": {},
     "output_type": "execute_result"
    }
   ],
   "source": [
    "joined=pd.merge(lfc_raw, orf_details, left_on='Rv_ID', right_on='Locus', how='left')\n",
    "joined.head()"
   ]
  },
  {
   "cell_type": "code",
   "execution_count": 27,
   "metadata": {
    "ExecuteTime": {
     "end_time": "2019-05-19T15:36:32.420025Z",
     "start_time": "2019-05-19T15:36:32.403661Z"
    }
   },
   "outputs": [],
   "source": [
    "joined=joined.drop(columns=['gene_name', 'Locus'])"
   ]
  },
  {
   "cell_type": "markdown",
   "metadata": {
    "ExecuteTime": {
     "end_time": "2019-05-19T15:36:42.417156Z",
     "start_time": "2019-05-19T15:36:42.408827Z"
    }
   },
   "source": [
    "## Cleanup"
   ]
  },
  {
   "cell_type": "code",
   "execution_count": 33,
   "metadata": {
    "ExecuteTime": {
     "end_time": "2019-05-19T15:38:52.656321Z",
     "start_time": "2019-05-19T15:38:52.583012Z"
    }
   },
   "outputs": [
    {
     "data": {
      "text/html": [
       "<div>\n",
       "<style scoped>\n",
       "    .dataframe tbody tr th:only-of-type {\n",
       "        vertical-align: middle;\n",
       "    }\n",
       "\n",
       "    .dataframe tbody tr th {\n",
       "        vertical-align: top;\n",
       "    }\n",
       "\n",
       "    .dataframe thead th {\n",
       "        text-align: right;\n",
       "    }\n",
       "</style>\n",
       "<table border=\"1\" class=\"dataframe\">\n",
       "  <thead>\n",
       "    <tr style=\"text-align: right;\">\n",
       "      <th></th>\n",
       "      <th>Rv_ID</th>\n",
       "      <th>2015_Kieser_GI_1_log2FC</th>\n",
       "      <th>2015_Kieser_GI_2_log2FC</th>\n",
       "      <th>2015_Kieser_GI_3_log2FC</th>\n",
       "      <th>2016_Nambi_log2FC</th>\n",
       "      <th>2017_Xu_1A_log2FC</th>\n",
       "      <th>2017_Xu_1B_log2FC</th>\n",
       "      <th>2017_Xu_1C_log2FC</th>\n",
       "      <th>2017_Xu_1D_log2FC</th>\n",
       "      <th>2017_Xu_1E_log2FC</th>\n",
       "      <th>...</th>\n",
       "      <th>Rv1565c_log2FC</th>\n",
       "      <th>Rv3684_log2FC</th>\n",
       "      <th>Rv0954_log2FC</th>\n",
       "      <th>Rv3811_log2FC</th>\n",
       "      <th>Rv1096_log2FC</th>\n",
       "      <th>Rv2680_log2FC</th>\n",
       "      <th>Rv1432_log2FC</th>\n",
       "      <th>Rv3594_log2FC</th>\n",
       "      <th>Rv3005c_log2FC</th>\n",
       "      <th>Functional_Category</th>\n",
       "    </tr>\n",
       "  </thead>\n",
       "  <tbody>\n",
       "    <tr>\n",
       "      <th>0</th>\n",
       "      <td>Rv0001</td>\n",
       "      <td>1.242756</td>\n",
       "      <td>1.584963</td>\n",
       "      <td>-0.213880</td>\n",
       "      <td>0.000000</td>\n",
       "      <td>0.000000</td>\n",
       "      <td>0.000000</td>\n",
       "      <td>0.000000</td>\n",
       "      <td>0.000000</td>\n",
       "      <td>0.000000</td>\n",
       "      <td>...</td>\n",
       "      <td>0.00</td>\n",
       "      <td>0.00</td>\n",
       "      <td>0.43</td>\n",
       "      <td>0.00</td>\n",
       "      <td>1.18</td>\n",
       "      <td>0.00</td>\n",
       "      <td>2.21</td>\n",
       "      <td>0.00</td>\n",
       "      <td>3.37</td>\n",
       "      <td>information pathways</td>\n",
       "    </tr>\n",
       "    <tr>\n",
       "      <th>1</th>\n",
       "      <td>Rv0002</td>\n",
       "      <td>-0.574319</td>\n",
       "      <td>1.584963</td>\n",
       "      <td>-1.772497</td>\n",
       "      <td>0.000000</td>\n",
       "      <td>0.000000</td>\n",
       "      <td>0.000000</td>\n",
       "      <td>0.000000</td>\n",
       "      <td>0.000000</td>\n",
       "      <td>1.000000</td>\n",
       "      <td>...</td>\n",
       "      <td>0.00</td>\n",
       "      <td>0.00</td>\n",
       "      <td>0.00</td>\n",
       "      <td>0.00</td>\n",
       "      <td>0.00</td>\n",
       "      <td>0.00</td>\n",
       "      <td>2.21</td>\n",
       "      <td>0.00</td>\n",
       "      <td>0.00</td>\n",
       "      <td>information pathways</td>\n",
       "    </tr>\n",
       "    <tr>\n",
       "      <th>2</th>\n",
       "      <td>Rv0003</td>\n",
       "      <td>0.913190</td>\n",
       "      <td>0.439142</td>\n",
       "      <td>-0.452153</td>\n",
       "      <td>0.599232</td>\n",
       "      <td>-0.535596</td>\n",
       "      <td>-0.549777</td>\n",
       "      <td>0.193014</td>\n",
       "      <td>-0.210878</td>\n",
       "      <td>-0.738792</td>\n",
       "      <td>...</td>\n",
       "      <td>-1.20</td>\n",
       "      <td>0.31</td>\n",
       "      <td>0.91</td>\n",
       "      <td>-2.59</td>\n",
       "      <td>0.48</td>\n",
       "      <td>0.03</td>\n",
       "      <td>-0.40</td>\n",
       "      <td>0.17</td>\n",
       "      <td>3.45</td>\n",
       "      <td>information pathways</td>\n",
       "    </tr>\n",
       "    <tr>\n",
       "      <th>3</th>\n",
       "      <td>Rv0004</td>\n",
       "      <td>0.021994</td>\n",
       "      <td>-1.119820</td>\n",
       "      <td>-2.945263</td>\n",
       "      <td>1.515639</td>\n",
       "      <td>0.000000</td>\n",
       "      <td>0.000000</td>\n",
       "      <td>-0.321928</td>\n",
       "      <td>-0.152003</td>\n",
       "      <td>0.000000</td>\n",
       "      <td>...</td>\n",
       "      <td>-6.83</td>\n",
       "      <td>1.79</td>\n",
       "      <td>0.00</td>\n",
       "      <td>0.00</td>\n",
       "      <td>2.61</td>\n",
       "      <td>-2.60</td>\n",
       "      <td>-2.66</td>\n",
       "      <td>1.08</td>\n",
       "      <td>0.00</td>\n",
       "      <td>conserved hypotheticals</td>\n",
       "    </tr>\n",
       "    <tr>\n",
       "      <th>4</th>\n",
       "      <td>Rv0005</td>\n",
       "      <td>3.108722</td>\n",
       "      <td>4.087463</td>\n",
       "      <td>-0.905491</td>\n",
       "      <td>-1.948935</td>\n",
       "      <td>0.000000</td>\n",
       "      <td>0.000000</td>\n",
       "      <td>0.000000</td>\n",
       "      <td>0.289507</td>\n",
       "      <td>0.000000</td>\n",
       "      <td>...</td>\n",
       "      <td>-0.08</td>\n",
       "      <td>0.70</td>\n",
       "      <td>-5.61</td>\n",
       "      <td>-7.69</td>\n",
       "      <td>0.04</td>\n",
       "      <td>0.13</td>\n",
       "      <td>-0.97</td>\n",
       "      <td>-0.71</td>\n",
       "      <td>-5.19</td>\n",
       "      <td>information pathways</td>\n",
       "    </tr>\n",
       "  </tbody>\n",
       "</table>\n",
       "<p>5 rows × 37 columns</p>\n",
       "</div>"
      ],
      "text/plain": [
       "    Rv_ID  2015_Kieser_GI_1_log2FC  2015_Kieser_GI_2_log2FC  \\\n",
       "0  Rv0001                 1.242756                 1.584963   \n",
       "1  Rv0002                -0.574319                 1.584963   \n",
       "2  Rv0003                 0.913190                 0.439142   \n",
       "3  Rv0004                 0.021994                -1.119820   \n",
       "4  Rv0005                 3.108722                 4.087463   \n",
       "\n",
       "   2015_Kieser_GI_3_log2FC  2016_Nambi_log2FC  2017_Xu_1A_log2FC  \\\n",
       "0                -0.213880           0.000000           0.000000   \n",
       "1                -1.772497           0.000000           0.000000   \n",
       "2                -0.452153           0.599232          -0.535596   \n",
       "3                -2.945263           1.515639           0.000000   \n",
       "4                -0.905491          -1.948935           0.000000   \n",
       "\n",
       "   2017_Xu_1B_log2FC  2017_Xu_1C_log2FC  2017_Xu_1D_log2FC  2017_Xu_1E_log2FC  \\\n",
       "0           0.000000           0.000000           0.000000           0.000000   \n",
       "1           0.000000           0.000000           0.000000           1.000000   \n",
       "2          -0.549777           0.193014          -0.210878          -0.738792   \n",
       "3           0.000000          -0.321928          -0.152003           0.000000   \n",
       "4           0.000000           0.000000           0.289507           0.000000   \n",
       "\n",
       "            ...             Rv1565c_log2FC  Rv3684_log2FC  Rv0954_log2FC  \\\n",
       "0           ...                       0.00           0.00           0.43   \n",
       "1           ...                       0.00           0.00           0.00   \n",
       "2           ...                      -1.20           0.31           0.91   \n",
       "3           ...                      -6.83           1.79           0.00   \n",
       "4           ...                      -0.08           0.70          -5.61   \n",
       "\n",
       "   Rv3811_log2FC  Rv1096_log2FC  Rv2680_log2FC  Rv1432_log2FC  Rv3594_log2FC  \\\n",
       "0           0.00           1.18           0.00           2.21           0.00   \n",
       "1           0.00           0.00           0.00           2.21           0.00   \n",
       "2          -2.59           0.48           0.03          -0.40           0.17   \n",
       "3           0.00           2.61          -2.60          -2.66           1.08   \n",
       "4          -7.69           0.04           0.13          -0.97          -0.71   \n",
       "\n",
       "   Rv3005c_log2FC      Functional_Category  \n",
       "0            3.37     information pathways  \n",
       "1            0.00     information pathways  \n",
       "2            3.45     information pathways  \n",
       "3            0.00  conserved hypotheticals  \n",
       "4           -5.19     information pathways  \n",
       "\n",
       "[5 rows x 37 columns]"
      ]
     },
     "execution_count": 33,
     "metadata": {},
     "output_type": "execute_result"
    }
   ],
   "source": [
    "joined=joined.dropna(axis=1, how='all')\n",
    "joined=joined.fillna(0)\n",
    "joined.head()"
   ]
  },
  {
   "cell_type": "code",
   "execution_count": 44,
   "metadata": {
    "ExecuteTime": {
     "end_time": "2019-05-19T15:44:27.707874Z",
     "start_time": "2019-05-19T15:44:27.679601Z"
    }
   },
   "outputs": [],
   "source": [
    "lfc_v1=joined.replace(-np.inf, -1)"
   ]
  },
  {
   "cell_type": "code",
   "execution_count": 61,
   "metadata": {
    "ExecuteTime": {
     "end_time": "2019-05-19T15:55:38.968663Z",
     "start_time": "2019-05-19T15:55:38.946812Z"
    }
   },
   "outputs": [],
   "source": [
    "lfc_v1['Functional_Category']=lfc_v1['Functional_Category'].replace(0, 'unknown')"
   ]
  },
  {
   "cell_type": "markdown",
   "metadata": {
    "ExecuteTime": {
     "end_time": "2019-05-19T15:40:38.600022Z",
     "start_time": "2019-05-19T15:40:38.580692Z"
    }
   },
   "source": [
    "## EDA"
   ]
  },
  {
   "cell_type": "code",
   "execution_count": 42,
   "metadata": {
    "ExecuteTime": {
     "end_time": "2019-05-19T15:44:13.970861Z",
     "start_time": "2019-05-19T15:43:52.551434Z"
    }
   },
   "outputs": [],
   "source": [
    "from sklearn.decomposition import PCA\n",
    "from sklearn.preprocessing import StandardScaler\n",
    "from plotnine import *"
   ]
  },
  {
   "cell_type": "code",
   "execution_count": 95,
   "metadata": {
    "ExecuteTime": {
     "end_time": "2019-05-19T16:19:59.565306Z",
     "start_time": "2019-05-19T16:19:59.549319Z"
    }
   },
   "outputs": [],
   "source": [
    "lfc=lfc_v1.copy(deep=True)"
   ]
  },
  {
   "cell_type": "code",
   "execution_count": 63,
   "metadata": {
    "ExecuteTime": {
     "end_time": "2019-05-19T15:55:46.360859Z",
     "start_time": "2019-05-19T15:55:46.352878Z"
    }
   },
   "outputs": [],
   "source": [
    "lfc_x=lfc.drop(columns=['Rv_ID', 'Functional_Category']).values\n",
    "lfc_y=lfc['Functional_Category'].values"
   ]
  },
  {
   "cell_type": "code",
   "execution_count": 64,
   "metadata": {
    "ExecuteTime": {
     "end_time": "2019-05-19T15:55:47.317483Z",
     "start_time": "2019-05-19T15:55:47.286966Z"
    }
   },
   "outputs": [],
   "source": [
    "lfc_x=StandardScaler().fit_transform(lfc_x)"
   ]
  },
  {
   "cell_type": "code",
   "execution_count": 65,
   "metadata": {
    "ExecuteTime": {
     "end_time": "2019-05-19T15:55:48.173649Z",
     "start_time": "2019-05-19T15:55:48.152130Z"
    }
   },
   "outputs": [],
   "source": [
    "pca=PCA(n_components=3)\n",
    "principalComponents=pca.fit_transform(lfc_x)"
   ]
  },
  {
   "cell_type": "code",
   "execution_count": 66,
   "metadata": {
    "ExecuteTime": {
     "end_time": "2019-05-19T15:55:49.187486Z",
     "start_time": "2019-05-19T15:55:49.172899Z"
    }
   },
   "outputs": [
    {
     "data": {
      "text/plain": [
       "array([0.14126027, 0.10559412, 0.08442941])"
      ]
     },
     "execution_count": 66,
     "metadata": {},
     "output_type": "execute_result"
    }
   ],
   "source": [
    "pca.explained_variance_ratio_"
   ]
  },
  {
   "cell_type": "markdown",
   "metadata": {},
   "source": [
    "## Log reg"
   ]
  },
  {
   "cell_type": "code",
   "execution_count": 67,
   "metadata": {
    "ExecuteTime": {
     "end_time": "2019-05-19T15:55:56.458170Z",
     "start_time": "2019-05-19T15:55:56.446209Z"
    }
   },
   "outputs": [],
   "source": [
    "from sklearn.linear_model import LogisticRegression"
   ]
  },
  {
   "cell_type": "code",
   "execution_count": 100,
   "metadata": {
    "ExecuteTime": {
     "end_time": "2019-05-19T16:20:35.164506Z",
     "start_time": "2019-05-19T16:20:35.141947Z"
    }
   },
   "outputs": [],
   "source": [
    "lfc=lfc[~lfc['Functional_Category'].isin(['conserved hypotheticals', 'unknown'])]\n",
    "lfc_x=lfc.drop(columns=['Rv_ID', 'Functional_Category']).values\n",
    "lfc_y=lfc['Functional_Category'].values"
   ]
  },
  {
   "cell_type": "code",
   "execution_count": 117,
   "metadata": {
    "ExecuteTime": {
     "end_time": "2019-05-19T16:24:43.321697Z",
     "start_time": "2019-05-19T16:24:43.024128Z"
    }
   },
   "outputs": [
    {
     "data": {
      "text/plain": [
       "LogisticRegression(C=1.0, class_weight=None, dual=False, fit_intercept=True,\n",
       "          intercept_scaling=1, max_iter=100, multi_class='ovr', n_jobs=1,\n",
       "          penalty='l1', random_state=None, solver='liblinear', tol=0.0001,\n",
       "          verbose=0, warm_start=False)"
      ]
     },
     "execution_count": 117,
     "metadata": {},
     "output_type": "execute_result"
    }
   ],
   "source": [
    "clf=LogisticRegression(penalty='l1')\n",
    "clf.fit(lfc_x,lfc_y)"
   ]
  },
  {
   "cell_type": "code",
   "execution_count": 115,
   "metadata": {
    "ExecuteTime": {
     "end_time": "2019-05-19T16:24:36.224970Z",
     "start_time": "2019-05-19T16:24:36.212128Z"
    }
   },
   "outputs": [],
   "source": [
    "a=clf.predict_proba(lfc_x)"
   ]
  },
  {
   "cell_type": "code",
   "execution_count": 116,
   "metadata": {
    "ExecuteTime": {
     "end_time": "2019-05-19T16:24:36.936910Z",
     "start_time": "2019-05-19T16:24:36.914734Z"
    }
   },
   "outputs": [
    {
     "data": {
      "text/plain": [
       "0.3256756756756757"
      ]
     },
     "execution_count": 116,
     "metadata": {},
     "output_type": "execute_result"
    }
   ],
   "source": [
    "clf.score(lfc_x, lfc_y)"
   ]
  },
  {
   "cell_type": "code",
   "execution_count": 87,
   "metadata": {
    "ExecuteTime": {
     "end_time": "2019-05-19T16:02:23.667608Z",
     "start_time": "2019-05-19T16:02:23.638467Z"
    }
   },
   "outputs": [
    {
     "data": {
      "text/plain": [
       "conserved hypotheticals                    1025\n",
       "intermediary metabolism and respiration     937\n",
       "cell wall and cell processes                771\n",
       "lipid metabolism                            273\n",
       "information pathways                        244\n",
       "virulence, detoxification, adaptation       222\n",
       "regulatory proteins                         201\n",
       "PE/PPE                                      166\n",
       "insertion seqs and phages                   146\n",
       "unknown                                      17\n",
       "Name: Functional_Category, dtype: int64"
      ]
     },
     "execution_count": 87,
     "metadata": {},
     "output_type": "execute_result"
    }
   ],
   "source": [
    "lfc['Functional_Category'].value_counts()"
   ]
  },
  {
   "cell_type": "code",
   "execution_count": 122,
   "metadata": {
    "ExecuteTime": {
     "end_time": "2019-05-19T16:26:13.354186Z",
     "start_time": "2019-05-19T16:26:13.335979Z"
    }
   },
   "outputs": [
    {
     "data": {
      "text/plain": [
       "array([ 0.00528255, -0.00391622,  0.02277458,  0.00049432,  0.04531478,\n",
       "        0.13041979, -0.0367974 , -0.00355048,  0.01569048,  0.00946108,\n",
       "        0.04692735,  0.02425045, -0.0483615 , -0.02338595,  0.00108854,\n",
       "       -0.0568301 , -0.0684027 ,  0.02174038,  0.00197637, -0.01877926,\n",
       "        0.00575424, -0.00861422, -0.04360628,  0.01980476, -0.00294847,\n",
       "        0.00896251,  0.00959415, -0.01125965,  0.00140207, -0.00046203,\n",
       "       -0.00043935,  0.1404315 , -0.00682654, -0.02280513, -0.00369418])"
      ]
     },
     "execution_count": 122,
     "metadata": {},
     "output_type": "execute_result"
    }
   ],
   "source": [
    "a=clf.coef_"
   ]
  }
 ],
 "metadata": {
  "kernelspec": {
   "display_name": "Python 3",
   "language": "python",
   "name": "python3"
  },
  "language_info": {
   "codemirror_mode": {
    "name": "ipython",
    "version": 3
   },
   "file_extension": ".py",
   "mimetype": "text/x-python",
   "name": "python",
   "nbconvert_exporter": "python",
   "pygments_lexer": "ipython3",
   "version": "3.6.5"
  },
  "toc": {
   "base_numbering": 1,
   "nav_menu": {},
   "number_sections": true,
   "sideBar": true,
   "skip_h1_title": false,
   "title_cell": "Table of Contents",
   "title_sidebar": "Contents",
   "toc_cell": false,
   "toc_position": {},
   "toc_section_display": true,
   "toc_window_display": false
  },
  "varInspector": {
   "cols": {
    "lenName": 16,
    "lenType": 16,
    "lenVar": 40
   },
   "kernels_config": {
    "python": {
     "delete_cmd_postfix": "",
     "delete_cmd_prefix": "del ",
     "library": "var_list.py",
     "varRefreshCmd": "print(var_dic_list())"
    },
    "r": {
     "delete_cmd_postfix": ") ",
     "delete_cmd_prefix": "rm(",
     "library": "var_list.r",
     "varRefreshCmd": "cat(var_dic_list()) "
    }
   },
   "types_to_exclude": [
    "module",
    "function",
    "builtin_function_or_method",
    "instance",
    "_Feature"
   ],
   "window_display": false
  }
 },
 "nbformat": 4,
 "nbformat_minor": 2
}
