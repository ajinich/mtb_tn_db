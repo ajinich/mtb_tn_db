{
 "cells": [
  {
   "cell_type": "markdown",
   "id": "9472dfa2-2818-4316-899b-a3eea8f2607b",
   "metadata": {},
   "source": [
    "# Summary: \n",
    "\n",
    "I was running into issues with umap/numba/numpy. \n",
    "\n",
    "so I had to make sure everything was compatible. "
   ]
  },
  {
   "cell_type": "code",
   "execution_count": 1,
   "id": "718c3b24-01e0-47b4-b8ec-f51cf4f1b620",
   "metadata": {},
   "outputs": [
    {
     "name": "stdout",
     "output_type": "stream",
     "text": [
      "NumPy version: 1.20.3\n",
      "Numba version: 0.56.4\n",
      "UMAP version: 0.5.3\n"
     ]
    }
   ],
   "source": [
    "import numpy\n",
    "print(\"NumPy version:\", numpy.__version__)\n",
    "\n",
    "import numba\n",
    "print(\"Numba version:\", numba.__version__)\n",
    "\n",
    "import umap\n",
    "print(\"UMAP version:\", umap.__version__)\n"
   ]
  },
  {
   "cell_type": "code",
   "execution_count": null,
   "id": "952ef4fa-b00d-4386-8356-8655f490818c",
   "metadata": {},
   "outputs": [],
   "source": []
  }
 ],
 "metadata": {
  "kernelspec": {
   "display_name": "Python 3 (ipykernel)",
   "language": "python",
   "name": "python3"
  },
  "language_info": {
   "codemirror_mode": {
    "name": "ipython",
    "version": 3
   },
   "file_extension": ".py",
   "mimetype": "text/x-python",
   "name": "python",
   "nbconvert_exporter": "python",
   "pygments_lexer": "ipython3",
   "version": "3.8.12"
  }
 },
 "nbformat": 4,
 "nbformat_minor": 5
}
