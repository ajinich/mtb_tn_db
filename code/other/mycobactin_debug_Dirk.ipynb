{
 "cells": [
  {
   "cell_type": "code",
   "execution_count": 38,
   "id": "fa7fb142-93f9-468c-8339-43c95483226f",
   "metadata": {},
   "outputs": [],
   "source": [
    "import pandas as pd\n",
    "import os\n",
    "import matplotlib.pyplot as plt\n",
    "import numpy as np"
   ]
  },
  {
   "cell_type": "code",
   "execution_count": 9,
   "id": "e4994413-4b76-459c-86c6-0fb7230ced0c",
   "metadata": {},
   "outputs": [],
   "source": [
    "mbt1 = ['Rv2384', 'Rv2383c', 'Rv2382c', 'Rv2381c', 'Rv2380c', 'Rv2379c', 'Rv2378c', 'Rv2386c']\n",
    "mbt2 = ['Rv1347c', 'Rv1344', 'Rv1345', 'Rv1346']"
   ]
  },
  {
   "cell_type": "code",
   "execution_count": 32,
   "id": "1d57b09d-e729-40f5-ad46-a74fb596731f",
   "metadata": {},
   "outputs": [],
   "source": [
    "path = '/home/ajinich/Dropbox/tuberculosis/tuberculosis/Results/'"
   ]
  },
  {
   "cell_type": "code",
   "execution_count": 33,
   "id": "78431f3e-f1d3-4598-bba5-a8ee0fa69b97",
   "metadata": {},
   "outputs": [],
   "source": [
    "list_fn = os.listdir(path)\n",
    "list_fn = [fn for fn in list_fn if fn.split('_')[0] == 'result']"
   ]
  },
  {
   "cell_type": "code",
   "execution_count": 51,
   "id": "79f9adc7-bdf1-4217-931e-13fdbac2353a",
   "metadata": {},
   "outputs": [],
   "source": [
    "list_mbt1_ctrl = []\n",
    "list_mbt2_ctrl = []\n",
    "for fn in list_fn:\n",
    "# fn = list_fn[10]\n",
    "    fn_path = os.path.join(path, fn)\n",
    "    df = pd.read_csv(fn_path, skiprows=7, sep = '\\t')\n",
    "    if '#Orf' in df.columns.tolist():\n",
    "        df.rename(columns={'#Orf':'Rv_ID'}, inplace = True)\n",
    "    else:\n",
    "        df = pd.read_csv(fn_path, skiprows=6, sep = '\\t')\n",
    "        df.rename(columns={'#Orf':'Rv_ID'}, inplace = True)\n",
    "    \n",
    "    df_1 = df[df.Rv_ID.isin(mbt1)].copy()\n",
    "    df_2 = df[df.Rv_ID.isin(mbt2)].copy()\n",
    "    data_1 = list(df_1['Mean Ctrl'] / df_1['Sites'])\n",
    "    data_2 = list(df_2['Mean Ctrl'] / df_2['Sites'])\n",
    "    if len(data_1) == 0 or len(data_2) == 0:\n",
    "        continue\n",
    "    else:\n",
    "        list_mbt1_ctrl.append(data_1)\n",
    "        list_mbt2_ctrl.append(data_2)"
   ]
  },
  {
   "cell_type": "code",
   "execution_count": 59,
   "id": "3023d0d8-fe75-482b-8bf0-316e7db3e530",
   "metadata": {},
   "outputs": [],
   "source": [
    "mean_ctrl_1 = []\n",
    "std_ctrl_1 = []\n",
    "for ind in range(len(list_mbt1_ctrl[0])):\n",
    "    mean_ctrl_1.append(np.mean([l[ind] for l in list_mbt1_ctrl]))\n",
    "    std_ctrl_1.append(np.std([l[ind] for l in list_mbt1_ctrl]))\n",
    "    \n",
    "mean_ctrl_2 = []\n",
    "std_ctrl_2 = []\n",
    "for ind in range(len(list_mbt2_ctrl[0])):\n",
    "    mean_ctrl_2.append(np.mean([l[ind] for l in list_mbt2_ctrl]))\n",
    "    std_ctrl_2.append(np.std([l[ind] for l in list_mbt2_ctrl]))"
   ]
  },
  {
   "cell_type": "code",
   "execution_count": 66,
   "id": "932ee60d-6457-4fe7-b25e-15c38c3d5072",
   "metadata": {},
   "outputs": [],
   "source": [
    "mean_all = mean_ctrl_2 + mean_ctrl_1 \n",
    "std_all = std_ctrl_1 + std_ctrl_2"
   ]
  },
  {
   "cell_type": "code",
   "execution_count": 79,
   "id": "c384532b-ad2f-42c2-b697-3111c824a6f1",
   "metadata": {},
   "outputs": [
    {
     "data": {
      "text/plain": [
       "['Rv1347c',\n",
       " 'Rv1344',\n",
       " 'Rv1345',\n",
       " 'Rv1346',\n",
       " 'Rv2384',\n",
       " 'Rv2383c',\n",
       " 'Rv2382c',\n",
       " 'Rv2381c',\n",
       " 'Rv2380c',\n",
       " 'Rv2379c',\n",
       " 'Rv2378c',\n",
       " 'Rv2386c']"
      ]
     },
     "execution_count": 79,
     "metadata": {},
     "output_type": "execute_result"
    }
   ],
   "source": [
    "mbt2+ mbt1"
   ]
  },
  {
   "cell_type": "code",
   "execution_count": 77,
   "id": "538a0f7d-b720-43c1-9248-0dd607e43256",
   "metadata": {},
   "outputs": [
    {
     "data": {
      "text/plain": [
       "Text(0, 0.5, 'Mean insertion counts per site')"
      ]
     },
     "execution_count": 77,
     "metadata": {},
     "output_type": "execute_result"
    },
    {
     "data": {
      "image/png": "[encoded data removed]",
      "text/plain": [
       "<Figure size 864x432 with 1 Axes>"
      ]
     },
     "metadata": {
      "needs_background": "light"
     },
     "output_type": "display_data"
    }
   ],
   "source": [
    "plt.figure(figsize=(12,6))\n",
    "plt.plot(mean_all, 'o')\n",
    "lbl = plt.xticks(range(len(mbt2+ mbt1)), labels=mbt2+ mbt1, fontsize = 14, rotation = 45)\n",
    "plt.ylabel('Mean insertion counts per site', fontsize = 20)"
   ]
  },
  {
   "cell_type": "code",
   "execution_count": null,
   "id": "8c663eaa-19c0-44fb-a88f-1507fa5070f6",
   "metadata": {},
   "outputs": [],
   "source": []
  }
 ],
 "metadata": {
  "kernelspec": {
   "display_name": "Python 3 (ipykernel)",
   "language": "python",
   "name": "python3"
  },
  "language_info": {
   "codemirror_mode": {
    "name": "ipython",
    "version": 3
   },
   "file_extension": ".py",
   "mimetype": "text/x-python",
   "name": "python",
   "nbconvert_exporter": "python",
   "pygments_lexer": "ipython3",
   "version": "3.8.12"
  }
 },
 "nbformat": 4,
 "nbformat_minor": 5
}
