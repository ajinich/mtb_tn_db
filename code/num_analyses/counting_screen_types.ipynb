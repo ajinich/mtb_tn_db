{
 "cells": [
  {
   "cell_type": "markdown",
   "id": "cf6b16cb-9015-4d23-8af7-5d0a2ff732b7",
   "metadata": {},
   "source": [
    "# This notebook counts the number of different TnSeq screen types in the database. \n",
    "\n",
    "This is used in the manuscript to describe the database in big picture terms.\n",
    "\n",
    "Relies on the most current metadata (column descriptor) file: \n",
    "\n",
    "data/column_descriptors_standardized_021023.xlsx \n"
   ]
  },
  {
   "cell_type": "code",
   "execution_count": 1,
   "id": "40204dca-950a-43ed-a2e2-24ad4ca2ea7a",
   "metadata": {},
   "outputs": [],
   "source": [
    "import pandas as pd\n",
    "import os"
   ]
  },
  {
   "cell_type": "markdown",
   "id": "46ce4387-3df4-4a5f-b9b3-47c9ed79b91b",
   "metadata": {},
   "source": [
    "# Load data"
   ]
  },
  {
   "cell_type": "code",
   "execution_count": 2,
   "id": "ddc64206-1dff-458d-9d19-ce8c2c306d0b",
   "metadata": {},
   "outputs": [
    {
     "data": {
      "text/html": [
       "<div>\n",
       "<style scoped>\n",
       "    .dataframe tbody tr th:only-of-type {\n",
       "        vertical-align: middle;\n",
       "    }\n",
       "\n",
       "    .dataframe tbody tr th {\n",
       "        vertical-align: top;\n",
       "    }\n",
       "\n",
       "    .dataframe thead th {\n",
       "        text-align: right;\n",
       "    }\n",
       "</style>\n",
       "<table border=\"1\" class=\"dataframe\">\n",
       "  <thead>\n",
       "    <tr style=\"text-align: right;\">\n",
       "      <th></th>\n",
       "      <th>column_ID</th>\n",
       "      <th>wig_files</th>\n",
       "      <th>control</th>\n",
       "      <th>experimental</th>\n",
       "      <th>column_ID_2</th>\n",
       "      <th>column_ID_SI</th>\n",
       "      <th>num_replicates_control</th>\n",
       "      <th>num_replicates_experimental</th>\n",
       "      <th>meaning</th>\n",
       "      <th>year</th>\n",
       "      <th>...</th>\n",
       "      <th>carbon_source</th>\n",
       "      <th>stress_description</th>\n",
       "      <th>GI_RvID</th>\n",
       "      <th>GI_name</th>\n",
       "      <th>MicArr_or_TnSeq</th>\n",
       "      <th>stat_analysis</th>\n",
       "      <th>mouse_strain</th>\n",
       "      <th>cell_type</th>\n",
       "      <th>Mtb_strain</th>\n",
       "      <th>plot_SI_graph</th>\n",
       "    </tr>\n",
       "  </thead>\n",
       "  <tbody>\n",
       "    <tr>\n",
       "      <th>0</th>\n",
       "      <td>2003A_Sassetti</td>\n",
       "      <td>NaN</td>\n",
       "      <td>NaN</td>\n",
       "      <td>NaN</td>\n",
       "      <td>NaN</td>\n",
       "      <td>2003A_Sassetti</td>\n",
       "      <td>NaN</td>\n",
       "      <td>NaN</td>\n",
       "      <td>NaN</td>\n",
       "      <td>2003.0</td>\n",
       "      <td>...</td>\n",
       "      <td>glycerol</td>\n",
       "      <td>-</td>\n",
       "      <td>NaN</td>\n",
       "      <td>NaN</td>\n",
       "      <td>microarray</td>\n",
       "      <td>NaN</td>\n",
       "      <td>NaN</td>\n",
       "      <td>NaN</td>\n",
       "      <td>H37Rv</td>\n",
       "      <td>No</td>\n",
       "    </tr>\n",
       "  </tbody>\n",
       "</table>\n",
       "<p>1 rows × 27 columns</p>\n",
       "</div>"
      ],
      "text/plain": [
       "        column_ID  wig_files control experimental column_ID_2    column_ID_SI  \\\n",
       "0  2003A_Sassetti        NaN     NaN          NaN         NaN  2003A_Sassetti   \n",
       "\n",
       "   num_replicates_control  num_replicates_experimental meaning    year  ...  \\\n",
       "0                     NaN                          NaN     NaN  2003.0  ...   \n",
       "\n",
       "  carbon_source stress_description GI_RvID GI_name MicArr_or_TnSeq  \\\n",
       "0      glycerol                  -     NaN     NaN      microarray   \n",
       "\n",
       "  stat_analysis mouse_strain cell_type Mtb_strain plot_SI_graph  \n",
       "0           NaN          NaN       NaN      H37Rv            No  \n",
       "\n",
       "[1 rows x 27 columns]"
      ]
     },
     "execution_count": 2,
     "metadata": {},
     "output_type": "execute_result"
    }
   ],
   "source": [
    "fn_meta = '../../data/meta_data/column_descriptors_standardized_021023.xlsx'\n",
    "df_meta = pd.read_excel(fn_meta)\n",
    "df_meta.head(1)"
   ]
  },
  {
   "cell_type": "code",
   "execution_count": 3,
   "id": "bf25619b-e94e-461d-8aa1-1aef4e9c6cee",
   "metadata": {},
   "outputs": [
    {
     "data": {
      "text/plain": [
       "['column_ID',\n",
       " 'wig_files',\n",
       " 'control',\n",
       " 'experimental',\n",
       " 'column_ID_2',\n",
       " 'column_ID_SI',\n",
       " 'num_replicates_control',\n",
       " 'num_replicates_experimental',\n",
       " 'meaning',\n",
       " 'year',\n",
       " 'paper_title',\n",
       " 'paper_URL',\n",
       " 'journal',\n",
       " 'first_author',\n",
       " 'last_author',\n",
       " 'in_vitro_cell_vivo',\n",
       " 'in_vitro_media',\n",
       " 'carbon_source',\n",
       " 'stress_description',\n",
       " 'GI_RvID',\n",
       " 'GI_name',\n",
       " 'MicArr_or_TnSeq',\n",
       " 'stat_analysis',\n",
       " 'mouse_strain',\n",
       " 'cell_type',\n",
       " 'Mtb_strain',\n",
       " 'plot_SI_graph']"
      ]
     },
     "execution_count": 3,
     "metadata": {},
     "output_type": "execute_result"
    }
   ],
   "source": [
    "df_meta.columns.tolist()"
   ]
  },
  {
   "cell_type": "markdown",
   "id": "a9f61526-6d03-4818-b3ad-ff4f11365d7a",
   "metadata": {},
   "source": [
    "# Number of unique papers: "
   ]
  },
  {
   "cell_type": "code",
   "execution_count": 4,
   "id": "23a8d408-3a33-4866-ac69-def562da6b7e",
   "metadata": {},
   "outputs": [
    {
     "name": "stdout",
     "output_type": "stream",
     "text": [
      "1 Genes required for mycobacterial growth defined by high density mutagenesis\n",
      "2 Genetic requirements for mycobacterial survival during infection\n",
      "3 Genome-wide requirements for Mycobacterium tuberculosis adaptation and survival in macrophages\n",
      "4 Characterization of mycobacterial virulence genes through genetic interaction mapping\n",
      "5 High-Resolution Phenotypic Profiling Defines Genes Essential for Mycobacterial Growth and Cholesterol Catabolism\n",
      "6 Global Assessment of Genomic Regions Required for Growth in Mycobacterium tuberculosis\n",
      "7 A Hidden Markov Model for identifying essential and growth-defect regions in bacterial genomes from transposon insertion sequencing data.\n",
      "8 Tryptophan biosynthesis protects mycobacteria from CD4 T cell-mediated killing\n",
      "9 Peptidoglycan synthesis in Mycobacterium tuberculosis is organized into networks with varying drug susceptibility\n",
      "10 Lipid metabolism and Type VII secretion systems dominate the genome scale virulence profile of Mycobacterium tuberculosis in human dendritic cells.\n",
      "11 The oxidative stress network of Mycobacterium tuberculosis reveals coordination between radical detoxification systems\n",
      "12 Trehalose-6-Phosphate-Mediated Toxicity Determines Essentiality of OtsB2 in Mycobacterium tuberculosis In Vitro and in Mice\n",
      "13 Statistical analysis of genetic interactions in Tn-Seq data\n",
      "14 Chemical Genetic Interaction Profiling Reveals Determinants of Intrinsic Antibiotic Resistance in Mycobacterium tuberculosis\n",
      "15 Nitric oxide prevents a pathogen-permissive granulocytic inflammation during tuberculosis\n",
      "16 TnSeq of Mycobacterium tuberculosis clinical isolates reveals strain-specific antibiotic liabilities\n",
      "17 A Lysine Acetyltransferase Contributes to the Metabolic Adaptation to Hypoxia in Mycobacterium tuberculosis\n",
      "18 Common Variants in the Glycerol Kinase Gene Reduce Tuberculosis Drug Efficacy\n",
      "19 Genomewide Assessment of Mycobacterium tuberculosis Conditionally Essential Metabolic Pathways\n",
      "20 nan\n",
      "21 Host-pathogen genetic interactions underlie tuberculosis susceptibility in genetically diverse mice\n",
      "22 Genome-wide host loci regulate M. tuberculosis fitness in immunodivergent mice\n"
     ]
    }
   ],
   "source": [
    "papers_uniq = list(df_meta.paper_title.unique())\n",
    "for num, p in enumerate(papers_uniq):\n",
    "    print(num+1, p)"
   ]
  },
  {
   "cell_type": "markdown",
   "id": "477b8e0b-feac-45d2-8b45-4d14449577f0",
   "metadata": {},
   "source": [
    "#### Number of screens that come from publications: "
   ]
  },
  {
   "cell_type": "code",
   "execution_count": 5,
   "id": "87c74313-8a9c-445d-8884-06f98604115a",
   "metadata": {},
   "outputs": [
    {
     "data": {
      "text/plain": [
       "(143, 27)"
      ]
     },
     "execution_count": 5,
     "metadata": {},
     "output_type": "execute_result"
    }
   ],
   "source": [
    "df_meta[~df_meta.paper_title.isnull()].shape"
   ]
  },
  {
   "cell_type": "markdown",
   "id": "c2756b00-7fbb-4335-8045-dbcdff37f746",
   "metadata": {},
   "source": [
    "#### Number of screens that come from FLUTE:"
   ]
  },
  {
   "cell_type": "code",
   "execution_count": 6,
   "id": "0d4ab9e8-a49c-4937-aecc-e72ba8936a51",
   "metadata": {},
   "outputs": [
    {
     "data": {
      "text/plain": [
       "(15, 27)"
      ]
     },
     "execution_count": 6,
     "metadata": {},
     "output_type": "execute_result"
    }
   ],
   "source": [
    "df_meta[df_meta.paper_title.isnull()].shape"
   ]
  },
  {
   "cell_type": "markdown",
   "id": "d5d66c02-4033-4cef-93d8-1286e66a00fa",
   "metadata": {},
   "source": [
    "# Microarray vs. TnSeq: "
   ]
  },
  {
   "cell_type": "code",
   "execution_count": 7,
   "id": "2307c30f-ff89-4c47-be70-374c0d03f198",
   "metadata": {},
   "outputs": [
    {
     "data": {
      "text/plain": [
       "MicArr_or_TnSeq\n",
       "TnSeq         153\n",
       "microarray      5\n",
       "Name: count, dtype: int64"
      ]
     },
     "execution_count": 7,
     "metadata": {},
     "output_type": "execute_result"
    }
   ],
   "source": [
    "df_meta.MicArr_or_TnSeq.value_counts()"
   ]
  },
  {
   "cell_type": "code",
   "execution_count": 8,
   "id": "ce4c9e7b-4624-4578-a8c0-13e6c0d877e6",
   "metadata": {},
   "outputs": [],
   "source": [
    "df_meta_tn = df_meta[df_meta.MicArr_or_TnSeq == 'TnSeq'].copy()\n",
    "df_meta_microarr = df_meta[df_meta.MicArr_or_TnSeq == 'microarray'].copy()"
   ]
  },
  {
   "cell_type": "markdown",
   "id": "017df1da-7a18-4f0b-9719-df71af7a13e3",
   "metadata": {},
   "source": [
    "- There are a total of 158 screens. \n",
    "- 146 are what we call standardized in the manuscript\n",
    "- of the 12 that are not standardized, 5 are microarray-based. \n",
    "- there are 7 TnSeq screens that are not standardized. "
   ]
  },
  {
   "cell_type": "code",
   "execution_count": 9,
   "id": "9d7327ec-2f7c-4835-b902-61c3f0c5dd6b",
   "metadata": {},
   "outputs": [
    {
     "data": {
      "text/plain": [
       "0     2003A_Sassetti\n",
       "1     2003B_Sassetti\n",
       "2    2005_Rengarajan\n",
       "3    2006_Joshi_GI_1\n",
       "4    2006_Joshi_GI_2\n",
       "Name: column_ID, dtype: object"
      ]
     },
     "execution_count": 9,
     "metadata": {},
     "output_type": "execute_result"
    }
   ],
   "source": [
    "df_meta_microarr.column_ID"
   ]
  },
  {
   "cell_type": "code",
   "execution_count": 10,
   "id": "5ef4d448-0646-445f-9e4f-047c1778cb66",
   "metadata": {},
   "outputs": [
    {
     "data": {
      "text/plain": [
       "6              2012_Zhang\n",
       "19          2015_Kieser_2\n",
       "20          2015_Kieser_3\n",
       "21            2015_Mendum\n",
       "28    2017B_DeJesus_GI_1A\n",
       "32    2017B_DeJesus_GI_1B\n",
       "36    2017B_DeJesus_GI_1C\n",
       "Name: column_ID, dtype: object"
      ]
     },
     "execution_count": 10,
     "metadata": {},
     "output_type": "execute_result"
    }
   ],
   "source": [
    "df_meta_tn[df_meta_tn.column_ID_2.isnull()].column_ID"
   ]
  },
  {
   "cell_type": "markdown",
   "id": "7d8b2a4c-f027-471e-8e5a-e75d379c5953",
   "metadata": {},
   "source": [
    "# mouse (in-vivo) vs. in-vitro vs. macrophage:   "
   ]
  },
  {
   "cell_type": "code",
   "execution_count": 11,
   "id": "fe547b96-9775-434e-acc8-bb5c54944a6d",
   "metadata": {},
   "outputs": [
    {
     "data": {
      "text/plain": [
       "in_vitro_cell_vivo\n",
       "in_vivo     109\n",
       "in_vitro     47\n",
       "in_cell       2\n",
       "Name: count, dtype: int64"
      ]
     },
     "execution_count": 11,
     "metadata": {},
     "output_type": "execute_result"
    }
   ],
   "source": [
    "df_meta.in_vitro_cell_vivo.value_counts()"
   ]
  },
  {
   "cell_type": "markdown",
   "id": "a7259b3f-c238-47de-815f-3714a2d17a24",
   "metadata": {},
   "source": [
    "#### The large majority of the in-vivo screens come from 2 publications: "
   ]
  },
  {
   "cell_type": "code",
   "execution_count": 12,
   "id": "6876f4b1-314e-4da8-bc00-f5a9242d8b8d",
   "metadata": {},
   "outputs": [
    {
     "data": {
      "text/plain": [
       "paper_title\n",
       "Host-pathogen genetic interactions underlie tuberculosis susceptibility in genetically diverse mice                       61\n",
       "Genome-wide host loci regulate M. tuberculosis fitness in immunodivergent mice                                            21\n",
       "Statistical analysis of genetic interactions in Tn-Seq data                                                               13\n",
       "Tryptophan biosynthesis protects mycobacteria from CD4 T cell-mediated killing                                             4\n",
       "Nitric oxide prevents a pathogen-permissive granulocytic inflammation during tuberculosis                                  3\n",
       "Common Variants in the Glycerol Kinase Gene Reduce Tuberculosis Drug Efficacy                                              3\n",
       "Characterization of mycobacterial virulence genes through genetic interaction mapping                                      2\n",
       "Genetic requirements for mycobacterial survival during infection                                                           1\n",
       "The oxidative stress network of Mycobacterium tuberculosis reveals coordination between radical detoxification systems     1\n",
       "Name: count, dtype: int64"
      ]
     },
     "execution_count": 12,
     "metadata": {},
     "output_type": "execute_result"
    }
   ],
   "source": [
    "df_meta_in_vivo = df_meta[df_meta.in_vitro_cell_vivo == 'in_vivo'].copy()\n",
    "df_meta_in_vivo.paper_title.value_counts()"
   ]
  }
 ],
 "metadata": {
  "kernelspec": {
   "display_name": "Python 3 (ipykernel)",
   "language": "python",
   "name": "python3"
  },
  "language_info": {
   "codemirror_mode": {
    "name": "ipython",
    "version": 3
   },
   "file_extension": ".py",
   "mimetype": "text/x-python",
   "name": "python",
   "nbconvert_exporter": "python",
   "pygments_lexer": "ipython3",
   "version": "3.12.2"
  }
 },
 "nbformat": 4,
 "nbformat_minor": 5
}
