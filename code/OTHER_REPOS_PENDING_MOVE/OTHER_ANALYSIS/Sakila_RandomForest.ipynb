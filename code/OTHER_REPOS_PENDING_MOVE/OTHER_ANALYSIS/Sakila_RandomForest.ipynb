{
 "cells": [
  {
   "cell_type": "markdown",
   "id": "5ea2ce6d-2e16-479c-a141-97b0f2a5f78b",
   "metadata": {},
   "source": [
    "Importing Libraries"
   ]
  },
  {
   "cell_type": "code",
   "execution_count": 15,
   "id": "ba54b752-fb1f-403b-bd37-7b3923b55584",
   "metadata": {},
   "outputs": [],
   "source": [
    "import pandas as pd\n",
    "from sklearn.linear_model import LogisticRegression\n",
    "from sklearn.metrics import accuracy_score, confusion_matrix, log_loss\n",
    "from sklearn.model_selection import StratifiedKFold\n",
    "from sklearn.preprocessing import normalize\n",
    "import numpy as np\n",
    "import matplotlib.pyplot as plt\n",
    "import seaborn as sns\n",
    "from imblearn.over_sampling import SMOTE\n",
    "from xgboost import XGBClassifier\n",
    "import os\n",
    "import random\n",
    "os.environ['KMP_DUPLICATE_LIB_OK']='True'"
   ]
  },
  {
   "cell_type": "markdown",
   "id": "c78c6fa7-bb18-4c1b-a5a0-c4847493386e",
   "metadata": {},
   "source": [
    "Opening the Data Frame"
   ]
  },
  {
   "cell_type": "code",
   "execution_count": null,
   "id": "d42dc1fc-60b2-46f6-a768-f7e49e8bce3c",
   "metadata": {},
   "outputs": [],
   "source": [
    "new_lfc = pd.read_csv('~/Documents/repos/mtb_tn_db/data/standardized_data/cleaned_ML/lfc_mb_filt.csv')"
   ]
  },
  {
   "cell_type": "markdown",
   "id": "a892ccc1-71ed-4664-8bd0-b679cd3ebefd",
   "metadata": {},
   "source": [
    "Function that classifies Gene Based on Category and Outputs the Accuracy of the Classifier"
   ]
  },
  {
   "cell_type": "code",
   "execution_count": 54,
   "id": "96d743e7-b5d7-4899-8437-3851e24698ae",
   "metadata": {},
   "outputs": [],
   "source": [
    "def accuracy_matrix(classname, reg_param_temp, shuffle, model):\n",
    "    #Creating the y variable. \n",
    "    y_list = []\n",
    "    i = 0\n",
    "    for gene in new_lfc.Functional_Category:\n",
    "        if gene == classname:\n",
    "            y_list.append(1)\n",
    "        else:\n",
    "            y_list.append(0)\n",
    "        i+=1\n",
    "    y = np.array(y_list)\n",
    "    \n",
    "    #Shuffling the y matrix. \n",
    "    if shuffle == True:\n",
    "            random.shuffle(y)\n",
    "            \n",
    "    #Creating the x variable.\n",
    "    raw_x= new_lfc.drop([\"Rv_ID\", \"Functional_Category\"], axis = 1)\n",
    "    X = raw_x.to_numpy()\n",
    "\n",
    "    #Step 1: Create Logistic REgression Classifier.\n",
    "    if model == \"logreg\":\n",
    "        clf = LogisticRegression(penalty='l1', solver='liblinear', multi_class='ovr', C=reg_param_temp, random_state=42)\n",
    "    elif model == \"randomforest\":\n",
    "        clf = XGBClassifier(gamma = reg_param_temp, reg_alpha=1, reg_lambda=1, eval_metric = 'logloss', use_label_encoder=False)\n",
    "    #Step 2: Split samples into training and test sets using STratifiedKFOld\n",
    "    n_splits_Temp = 5\n",
    "    n_classes = 2\n",
    "    skf = StratifiedKFold(n_splits=n_splits_Temp, shuffle=True, random_state=42)\n",
    "    confusion = np.zeros((n_classes, n_classes))\n",
    "    log_loss_var = []\n",
    "    #Step 3: ITerate thru each training/test set.\n",
    "    for train_index, test_index in skf.split(X, y):\n",
    "        X_train, X_test = X[train_index], X[test_index]\n",
    "        y_train, y_test = y[train_index], y[test_index] \n",
    "        X_train, y_train = SMOTE().fit_resample(X_train, y_train)\n",
    "        #Step 4: Fit the logistic regression or random forest to the training data.     \n",
    "        clf.fit(X_train, y_train)\n",
    "        #Step 5: Predict the values of the testing data. \n",
    "        y_hat = clf.predict(X_test)\n",
    "        confusion += confusion_matrix(y_test, y_hat)\n",
    "        #Create a list of all the accuracy matrixes.\n",
    "        y_pred = clf.predict_proba(X_test)\n",
    "        log_loss_var.append(log_loss(y_test, y_pred))\n",
    "    average_logloss = sum(log_loss_var)/len(log_loss_var)\n",
    "\n",
    "    confusion = normalize(confusion, axis=1, norm='l1')\n",
    "\n",
    "    col_names = list(clf.classes_)\n",
    "    df_confusion = pd.DataFrame(confusion, columns=col_names, index=col_names)\n",
    "\n",
    "    #plt.figure(figsize=(12,12))\n",
    "    \n",
    "    #rc = {'xtick.labelsize': 22, 'ytick.labelsize': 22, 'axes.labelsize': 22}\n",
    "    #sns.set(rc=rc)\n",
    "    #heat = sns.heatmap(df_confusion, annot=True, linewidths=2, fmt='1.2f', square=True, annot_kws={\"fontsize\":12})\n",
    "    #if \"/\" in classname:\n",
    "        #classname = classname.split(\"/\")\n",
    "    #if shuffle == True:\n",
    "        #filename = str(classname)+\",\"+str(C_temp)+\"_shuffle\"+\".png\"\n",
    "    #elif shuffle == False:\n",
    "        #filename = str(classname)+\",\"+str(C_temp)+\"_real\"+\".png\"\n",
    "    #plt.savefig(filename)\n",
    "    return average_logloss\n"
   ]
  },
  {
   "cell_type": "markdown",
   "id": "d5a838c2-44c2-4f3d-937e-f6162a052e62",
   "metadata": {},
   "source": [
    "Creating a List of all the Possible Matrices"
   ]
  },
  {
   "cell_type": "code",
   "execution_count": 52,
   "id": "d32d11f7-a595-4296-8b27-77b9458df589",
   "metadata": {},
   "outputs": [
    {
     "data": {
      "text/plain": [
       "[['information pathways', 10, True, 'randomforest'],\n",
       " ['information pathways', 10, False, 'randomforest'],\n",
       " ['information pathways', 100, True, 'randomforest'],\n",
       " ['information pathways', 100, False, 'randomforest'],\n",
       " ['cell wall and cell processes', 10, True, 'randomforest'],\n",
       " ['cell wall and cell processes', 10, False, 'randomforest'],\n",
       " ['cell wall and cell processes', 100, True, 'randomforest'],\n",
       " ['cell wall and cell processes', 100, False, 'randomforest'],\n",
       " ['intermediary metabolism and respiration', 10, True, 'randomforest'],\n",
       " ['intermediary metabolism and respiration', 10, False, 'randomforest'],\n",
       " ['intermediary metabolism and respiration', 100, True, 'randomforest'],\n",
       " ['intermediary metabolism and respiration', 100, False, 'randomforest'],\n",
       " ['regulatory proteins', 10, True, 'randomforest'],\n",
       " ['regulatory proteins', 10, False, 'randomforest'],\n",
       " ['regulatory proteins', 100, True, 'randomforest'],\n",
       " ['regulatory proteins', 100, False, 'randomforest'],\n",
       " ['virulence, detoxification, adaptation', 10, True, 'randomforest'],\n",
       " ['virulence, detoxification, adaptation', 10, False, 'randomforest'],\n",
       " ['virulence, detoxification, adaptation', 100, True, 'randomforest'],\n",
       " ['virulence, detoxification, adaptation', 100, False, 'randomforest'],\n",
       " ['insertion seqs and phages', 10, True, 'randomforest'],\n",
       " ['insertion seqs and phages', 10, False, 'randomforest'],\n",
       " ['insertion seqs and phages', 100, True, 'randomforest'],\n",
       " ['insertion seqs and phages', 100, False, 'randomforest'],\n",
       " ['lipid metabolism', 10, True, 'randomforest'],\n",
       " ['lipid metabolism', 10, False, 'randomforest'],\n",
       " ['lipid metabolism', 100, True, 'randomforest'],\n",
       " ['lipid metabolism', 100, False, 'randomforest'],\n",
       " ['PE/PPE', 10, True, 'randomforest'],\n",
       " ['PE/PPE', 10, False, 'randomforest'],\n",
       " ['PE/PPE', 100, True, 'randomforest'],\n",
       " ['PE/PPE', 100, False, 'randomforest']]"
      ]
     },
     "execution_count": 52,
     "metadata": {},
     "output_type": "execute_result"
    }
   ],
   "source": [
    "Fxnal_Categories = list(new_lfc.Functional_Category.unique())\n",
    "C_values =[0.1]\n",
    "G_values = [10,100]\n",
    "Bool = [True, False]\n",
    "\n",
    "Possible_LogReg_Matrices = []\n",
    "for Category in Fxnal_Categories:\n",
    "    for C in C_values:\n",
    "        for val in Bool:\n",
    "            Combo =[]\n",
    "            Combo.extend([Category,C,val,\"logreg\"])\n",
    "            Possible_LogReg_Matrices.append(Combo)\n",
    "\n",
    "Possible_RandomForest_Matrices = []\n",
    "for Category in Fxnal_Categories:\n",
    "    for G in G_values:\n",
    "        for val in Bool:\n",
    "            Combo =[]\n",
    "            Combo.extend([Category,G,val,\"randomforest\"])\n",
    "            Possible_RandomForest_Matrices.append(Combo)\n",
    "\n",
    "Possible_LogReg_Matrices\n",
    "Possible_RandomForest_Matrices "
   ]
  },
  {
   "cell_type": "markdown",
   "id": "04697039-f99a-405e-a384-c75d61cc85ff",
   "metadata": {},
   "source": [
    "Running Through Each R Matrix and Saving the Log Loss"
   ]
  },
  {
   "cell_type": "code",
   "execution_count": null,
   "id": "2f172945-c614-48d7-9697-c122869f817c",
   "metadata": {},
   "outputs": [
    {
     "name": "stdout",
     "output_type": "stream",
     "text": [
      "['information pathways', 10, True, 'randomforest']\n",
      "['information pathways', 10, False, 'randomforest']\n",
      "['information pathways', 100, True, 'randomforest']\n",
      "['information pathways', 100, False, 'randomforest']\n",
      "['cell wall and cell processes', 10, True, 'randomforest']\n",
      "['cell wall and cell processes', 10, False, 'randomforest']\n",
      "['cell wall and cell processes', 100, True, 'randomforest']\n",
      "['cell wall and cell processes', 100, False, 'randomforest']\n",
      "['intermediary metabolism and respiration', 10, True, 'randomforest']\n",
      "['intermediary metabolism and respiration', 10, False, 'randomforest']\n",
      "['intermediary metabolism and respiration', 100, True, 'randomforest']\n",
      "['intermediary metabolism and respiration', 100, False, 'randomforest']\n",
      "['regulatory proteins', 10, True, 'randomforest']\n",
      "['regulatory proteins', 10, False, 'randomforest']\n",
      "['regulatory proteins', 100, True, 'randomforest']\n",
      "['regulatory proteins', 100, False, 'randomforest']\n"
     ]
    }
   ],
   "source": [
    "ReallogLoss = []\n",
    "Shufflelogloss = []\n",
    "\n",
    "for matrix in Possible_RandomForest_Matrices:\n",
    "    average_logloss = accuracy_matrix(matrix[0], matrix[1], matrix[2],matrix[3])\n",
    "    if matrix[2] == False:\n",
    "        ReallogLoss.append(average_logloss)\n",
    "        print(matrix)\n",
    "    elif matrix[2] == True:\n",
    "        Shufflelogloss.append(average_logloss)\n",
    "        print(matrix)"
   ]
  },
  {
   "cell_type": "markdown",
   "id": "38aa6244-8749-49b2-860e-f721ea0ab78c",
   "metadata": {},
   "source": [
    "Running all the Logisitic Regression"
   ]
  },
  {
   "cell_type": "code",
   "execution_count": 42,
   "id": "0f3737b6-4f20-4e63-bb0f-586cd75b2b57",
   "metadata": {},
   "outputs": [
    {
     "name": "stdout",
     "output_type": "stream",
     "text": [
      "['information pathways', 0.1, True, 'logreg']\n",
      "['information pathways', 0.1, False, 'logreg']\n",
      "['cell wall and cell processes', 0.1, True, 'logreg']\n",
      "['cell wall and cell processes', 0.1, False, 'logreg']\n",
      "['intermediary metabolism and respiration', 0.1, True, 'logreg']\n",
      "['intermediary metabolism and respiration', 0.1, False, 'logreg']\n",
      "['regulatory proteins', 0.1, True, 'logreg']\n",
      "['regulatory proteins', 0.1, False, 'logreg']\n",
      "['virulence, detoxification, adaptation', 0.1, True, 'logreg']\n",
      "['virulence, detoxification, adaptation', 0.1, False, 'logreg']\n",
      "['insertion seqs and phages', 0.1, True, 'logreg']\n",
      "['insertion seqs and phages', 0.1, False, 'logreg']\n",
      "['lipid metabolism', 0.1, True, 'logreg']\n",
      "['lipid metabolism', 0.1, False, 'logreg']\n",
      "['PE/PPE', 0.1, True, 'logreg']\n",
      "['PE/PPE', 0.1, False, 'logreg']\n"
     ]
    }
   ],
   "source": [
    "LogReg_Shufflelogloss = []\n",
    "LogReg_ReallogLoss = []\n",
    "\n",
    "for matrix in Possible_LogReg_Matrices:\n",
    "    average_logloss = accuracy_matrix(matrix[0], matrix[1], matrix[2],matrix[3])\n",
    "    if matrix[2] == False:\n",
    "        LogReg_ReallogLoss.append(average_logloss)\n",
    "        print(matrix)\n",
    "    elif matrix[2] == True:\n",
    "        LogReg_Shufflelogloss.append(average_logloss)\n",
    "        print(matrix)"
   ]
  },
  {
   "cell_type": "markdown",
   "id": "da9d5610-3634-4034-845d-2c4cfc9ebaad",
   "metadata": {},
   "source": [
    "Creating a Data Frame of LogLoss Values for each C "
   ]
  },
  {
   "cell_type": "code",
   "execution_count": 47,
   "id": "8700a185-e12b-4714-9fb1-066d6eacba38",
   "metadata": {},
   "outputs": [
    {
     "data": {
      "text/html": [
       "<div>\n",
       "<style scoped>\n",
       "    .dataframe tbody tr th:only-of-type {\n",
       "        vertical-align: middle;\n",
       "    }\n",
       "\n",
       "    .dataframe tbody tr th {\n",
       "        vertical-align: top;\n",
       "    }\n",
       "\n",
       "    .dataframe thead th {\n",
       "        text-align: right;\n",
       "    }\n",
       "</style>\n",
       "<table border=\"1\" class=\"dataframe\">\n",
       "  <thead>\n",
       "    <tr style=\"text-align: right;\">\n",
       "      <th></th>\n",
       "      <th>Real_Data</th>\n",
       "      <th>Shuffle_Data</th>\n",
       "    </tr>\n",
       "  </thead>\n",
       "  <tbody>\n",
       "    <tr>\n",
       "      <th>information pathways</th>\n",
       "      <td>0.615340</td>\n",
       "      <td>0.693168</td>\n",
       "    </tr>\n",
       "    <tr>\n",
       "      <th>cell wall and cell processes</th>\n",
       "      <td>0.683947</td>\n",
       "      <td>0.708362</td>\n",
       "    </tr>\n",
       "    <tr>\n",
       "      <th>intermediary metabolism and respiration</th>\n",
       "      <td>0.680178</td>\n",
       "      <td>0.711961</td>\n",
       "    </tr>\n",
       "    <tr>\n",
       "      <th>regulatory proteins</th>\n",
       "      <td>0.648278</td>\n",
       "      <td>0.691758</td>\n",
       "    </tr>\n",
       "    <tr>\n",
       "      <th>virulence, detoxification, adaptation</th>\n",
       "      <td>0.645794</td>\n",
       "      <td>0.683093</td>\n",
       "    </tr>\n",
       "    <tr>\n",
       "      <th>insertion seqs and phages</th>\n",
       "      <td>0.424426</td>\n",
       "      <td>0.633530</td>\n",
       "    </tr>\n",
       "    <tr>\n",
       "      <th>lipid metabolism</th>\n",
       "      <td>0.670037</td>\n",
       "      <td>0.681901</td>\n",
       "    </tr>\n",
       "    <tr>\n",
       "      <th>PE/PPE</th>\n",
       "      <td>0.495685</td>\n",
       "      <td>0.664824</td>\n",
       "    </tr>\n",
       "  </tbody>\n",
       "</table>\n",
       "</div>"
      ],
      "text/plain": [
       "                                         Real_Data  Shuffle_Data\n",
       "information pathways                      0.615340      0.693168\n",
       "cell wall and cell processes              0.683947      0.708362\n",
       "intermediary metabolism and respiration   0.680178      0.711961\n",
       "regulatory proteins                       0.648278      0.691758\n",
       "virulence, detoxification, adaptation     0.645794      0.683093\n",
       "insertion seqs and phages                 0.424426      0.633530\n",
       "lipid metabolism                          0.670037      0.681901\n",
       "PE/PPE                                    0.495685      0.664824"
      ]
     },
     "execution_count": 47,
     "metadata": {},
     "output_type": "execute_result"
    }
   ],
   "source": [
    "Categories = []\n",
    "LogReg_Categories = []\n",
    "Gamma_parameters = []\n",
    "for matrix in Possible_RandomForest_Matrices:\n",
    "    if matrix[2] == True:\n",
    "        Categories.append(matrix[0])\n",
    "        Gamma_parameters.append(matrix[1])\n",
    "for matrix in Possible_LogReg_Matrices:\n",
    "    if matrix[2] == True:\n",
    "        LogReg_Categories.append(matrix[0])\n",
    "data= {'Gamma':Gamma_parameters,'Real_Data':ReallogLoss, 'Shuffle_Data':Shufflelogloss} #Creating a data frame with all the C values.\n",
    "logregdata = {'Real_Data':LogReg_ReallogLoss, 'Shuffle_Data':LogReg_Shufflelogloss}\n",
    "df_LogRegLogLoss = pd.DataFrame(logregdata,index = [LogReg_Categories])\n",
    "df_LogLoss = pd.DataFrame(data,index = [Categories])\n",
    "#Making a dataframe for each gamma parameter.\n",
    "df_LogLoss = pd.DataFrame(data,index = [Categories])\n",
    "df_G10 = df_LogLoss[df_LogLoss.Gamma == 10]\n",
    "df_G100 = df_LogLoss[df_LogLoss.Gamma == 100]\n",
    "df_LogLoss\n",
    "df_LogRegLogLoss"
   ]
  },
  {
   "cell_type": "code",
   "execution_count": 53,
   "id": "4ef51f81-6863-469e-a444-6488bb652955",
   "metadata": {},
   "outputs": [
    {
     "data": {
      "text/html": [
       "<div>\n",
       "<style scoped>\n",
       "    .dataframe tbody tr th:only-of-type {\n",
       "        vertical-align: middle;\n",
       "    }\n",
       "\n",
       "    .dataframe tbody tr th {\n",
       "        vertical-align: top;\n",
       "    }\n",
       "\n",
       "    .dataframe thead th {\n",
       "        text-align: right;\n",
       "    }\n",
       "</style>\n",
       "<table border=\"1\" class=\"dataframe\">\n",
       "  <thead>\n",
       "    <tr style=\"text-align: right;\">\n",
       "      <th></th>\n",
       "      <th>Gamma</th>\n",
       "      <th>Real_Data</th>\n",
       "      <th>Shuffle_Data</th>\n",
       "    </tr>\n",
       "  </thead>\n",
       "  <tbody>\n",
       "    <tr>\n",
       "      <th>information pathways</th>\n",
       "      <td>10</td>\n",
       "      <td>0.358120</td>\n",
       "      <td>0.408789</td>\n",
       "    </tr>\n",
       "    <tr>\n",
       "      <th>information pathways</th>\n",
       "      <td>100</td>\n",
       "      <td>0.540802</td>\n",
       "      <td>0.630629</td>\n",
       "    </tr>\n",
       "    <tr>\n",
       "      <th>cell wall and cell processes</th>\n",
       "      <td>10</td>\n",
       "      <td>0.644577</td>\n",
       "      <td>0.675921</td>\n",
       "    </tr>\n",
       "    <tr>\n",
       "      <th>cell wall and cell processes</th>\n",
       "      <td>100</td>\n",
       "      <td>0.692630</td>\n",
       "      <td>0.693147</td>\n",
       "    </tr>\n",
       "    <tr>\n",
       "      <th>intermediary metabolism and respiration</th>\n",
       "      <td>10</td>\n",
       "      <td>0.668406</td>\n",
       "      <td>0.708941</td>\n",
       "    </tr>\n",
       "    <tr>\n",
       "      <th>intermediary metabolism and respiration</th>\n",
       "      <td>100</td>\n",
       "      <td>0.691750</td>\n",
       "      <td>0.693147</td>\n",
       "    </tr>\n",
       "    <tr>\n",
       "      <th>regulatory proteins</th>\n",
       "      <td>10</td>\n",
       "      <td>0.343125</td>\n",
       "      <td>0.359365</td>\n",
       "    </tr>\n",
       "    <tr>\n",
       "      <th>regulatory proteins</th>\n",
       "      <td>100</td>\n",
       "      <td>0.588883</td>\n",
       "      <td>0.605164</td>\n",
       "    </tr>\n",
       "    <tr>\n",
       "      <th>virulence, detoxification, adaptation</th>\n",
       "      <td>10</td>\n",
       "      <td>0.353664</td>\n",
       "      <td>0.372889</td>\n",
       "    </tr>\n",
       "    <tr>\n",
       "      <th>virulence, detoxification, adaptation</th>\n",
       "      <td>100</td>\n",
       "      <td>0.598517</td>\n",
       "      <td>0.624659</td>\n",
       "    </tr>\n",
       "    <tr>\n",
       "      <th>insertion seqs and phages</th>\n",
       "      <td>10</td>\n",
       "      <td>0.184227</td>\n",
       "      <td>0.290054</td>\n",
       "    </tr>\n",
       "    <tr>\n",
       "      <th>insertion seqs and phages</th>\n",
       "      <td>100</td>\n",
       "      <td>0.346506</td>\n",
       "      <td>0.538834</td>\n",
       "    </tr>\n",
       "    <tr>\n",
       "      <th>lipid metabolism</th>\n",
       "      <td>10</td>\n",
       "      <td>0.373875</td>\n",
       "      <td>0.434912</td>\n",
       "    </tr>\n",
       "    <tr>\n",
       "      <th>lipid metabolism</th>\n",
       "      <td>100</td>\n",
       "      <td>0.591495</td>\n",
       "      <td>0.650497</td>\n",
       "    </tr>\n",
       "    <tr>\n",
       "      <th>PE/PPE</th>\n",
       "      <td>10</td>\n",
       "      <td>0.187111</td>\n",
       "      <td>0.316828</td>\n",
       "    </tr>\n",
       "    <tr>\n",
       "      <th>PE/PPE</th>\n",
       "      <td>100</td>\n",
       "      <td>0.341068</td>\n",
       "      <td>0.560318</td>\n",
       "    </tr>\n",
       "  </tbody>\n",
       "</table>\n",
       "</div>"
      ],
      "text/plain": [
       "                                         Gamma  Real_Data  Shuffle_Data\n",
       "information pathways                        10   0.358120      0.408789\n",
       "information pathways                       100   0.540802      0.630629\n",
       "cell wall and cell processes                10   0.644577      0.675921\n",
       "cell wall and cell processes               100   0.692630      0.693147\n",
       "intermediary metabolism and respiration     10   0.668406      0.708941\n",
       "intermediary metabolism and respiration    100   0.691750      0.693147\n",
       "regulatory proteins                         10   0.343125      0.359365\n",
       "regulatory proteins                        100   0.588883      0.605164\n",
       "virulence, detoxification, adaptation       10   0.353664      0.372889\n",
       "virulence, detoxification, adaptation      100   0.598517      0.624659\n",
       "insertion seqs and phages                   10   0.184227      0.290054\n",
       "insertion seqs and phages                  100   0.346506      0.538834\n",
       "lipid metabolism                            10   0.373875      0.434912\n",
       "lipid metabolism                           100   0.591495      0.650497\n",
       "PE/PPE                                      10   0.187111      0.316828\n",
       "PE/PPE                                     100   0.341068      0.560318"
      ]
     },
     "execution_count": 53,
     "metadata": {},
     "output_type": "execute_result"
    }
   ],
   "source": [
    "df_LogLoss"
   ]
  },
  {
   "cell_type": "code",
   "execution_count": 51,
   "id": "73523082-eda7-4274-917e-af3326973166",
   "metadata": {},
   "outputs": [
    {
     "data": {
      "text/html": [
       "<div>\n",
       "<style scoped>\n",
       "    .dataframe tbody tr th:only-of-type {\n",
       "        vertical-align: middle;\n",
       "    }\n",
       "\n",
       "    .dataframe tbody tr th {\n",
       "        vertical-align: top;\n",
       "    }\n",
       "\n",
       "    .dataframe thead th {\n",
       "        text-align: right;\n",
       "    }\n",
       "</style>\n",
       "<table border=\"1\" class=\"dataframe\">\n",
       "  <thead>\n",
       "    <tr style=\"text-align: right;\">\n",
       "      <th></th>\n",
       "      <th>Gamma</th>\n",
       "      <th>Real_Data</th>\n",
       "      <th>Shuffle_Data</th>\n",
       "    </tr>\n",
       "  </thead>\n",
       "  <tbody>\n",
       "    <tr>\n",
       "      <th>information pathways</th>\n",
       "      <td>100</td>\n",
       "      <td>0.540802</td>\n",
       "      <td>0.630629</td>\n",
       "    </tr>\n",
       "    <tr>\n",
       "      <th>cell wall and cell processes</th>\n",
       "      <td>100</td>\n",
       "      <td>0.692630</td>\n",
       "      <td>0.693147</td>\n",
       "    </tr>\n",
       "    <tr>\n",
       "      <th>intermediary metabolism and respiration</th>\n",
       "      <td>100</td>\n",
       "      <td>0.691750</td>\n",
       "      <td>0.693147</td>\n",
       "    </tr>\n",
       "    <tr>\n",
       "      <th>regulatory proteins</th>\n",
       "      <td>100</td>\n",
       "      <td>0.588883</td>\n",
       "      <td>0.605164</td>\n",
       "    </tr>\n",
       "    <tr>\n",
       "      <th>virulence, detoxification, adaptation</th>\n",
       "      <td>100</td>\n",
       "      <td>0.598517</td>\n",
       "      <td>0.624659</td>\n",
       "    </tr>\n",
       "    <tr>\n",
       "      <th>insertion seqs and phages</th>\n",
       "      <td>100</td>\n",
       "      <td>0.346506</td>\n",
       "      <td>0.538834</td>\n",
       "    </tr>\n",
       "    <tr>\n",
       "      <th>lipid metabolism</th>\n",
       "      <td>100</td>\n",
       "      <td>0.591495</td>\n",
       "      <td>0.650497</td>\n",
       "    </tr>\n",
       "    <tr>\n",
       "      <th>PE/PPE</th>\n",
       "      <td>100</td>\n",
       "      <td>0.341068</td>\n",
       "      <td>0.560318</td>\n",
       "    </tr>\n",
       "  </tbody>\n",
       "</table>\n",
       "</div>"
      ],
      "text/plain": [
       "                                         Gamma  Real_Data  Shuffle_Data\n",
       "information pathways                       100   0.540802      0.630629\n",
       "cell wall and cell processes               100   0.692630      0.693147\n",
       "intermediary metabolism and respiration    100   0.691750      0.693147\n",
       "regulatory proteins                        100   0.588883      0.605164\n",
       "virulence, detoxification, adaptation      100   0.598517      0.624659\n",
       "insertion seqs and phages                  100   0.346506      0.538834\n",
       "lipid metabolism                           100   0.591495      0.650497\n",
       "PE/PPE                                     100   0.341068      0.560318"
      ]
     },
     "execution_count": 51,
     "metadata": {},
     "output_type": "execute_result"
    }
   ],
   "source": [
    "df_G100"
   ]
  },
  {
   "cell_type": "markdown",
   "id": "d5b07c20-76be-4e30-a4fd-84fa0890f9b2",
   "metadata": {},
   "source": [
    "Creating a Scatterplot with Real and Shuffled Data"
   ]
  },
  {
   "cell_type": "code",
   "execution_count": 38,
   "id": "300ab5ca-09db-4bd8-8c48-3465e558b9ae",
   "metadata": {},
   "outputs": [],
   "source": [
    "def scatterlog_loss(df):\n",
    "    plt.figure(figsize = (6,6))\n",
    "    plt.scatter(df.Real_Data, df.Shuffle_Data)\n",
    "    plt.xlim(0.3,0.8)\n",
    "    plt.ylim(0.3,0.8)\n",
    "    xyline = np.linspace(0.3,0.8,20)\n",
    "    plt.plot(xyline, xyline)\n",
    "    plt.xlabel('logloss real data', fontsize = 22)\n",
    "    plt.ylabel('logloss shuffled data', fontsize = 22)\n",
    "    xt = plt.xticks(fontsize = 14)\n",
    "    yt = plt.yticks(fontsize = 14)\n",
    "    #plt.errorbar(df.Real_Data, df.Shuffle_Data, yerr= df.Error, fmt='o')"
   ]
  },
  {
   "cell_type": "code",
   "execution_count": 48,
   "id": "3c017e5b-198f-4be3-b276-83a4206d2e9f",
   "metadata": {},
   "outputs": [
    {
     "data": {
      "image/png": "[encoded data removed]",
      "text/plain": [
       "<Figure size 432x432 with 1 Axes>"
      ]
     },
     "metadata": {
      "needs_background": "light"
     },
     "output_type": "display_data"
    }
   ],
   "source": [
    "scatterlog_loss(df_LogRegLogLoss)"
   ]
  },
  {
   "cell_type": "code",
   "execution_count": 40,
   "id": "22351c1f-140b-4fa1-a341-63ef4a289799",
   "metadata": {},
   "outputs": [
    {
     "data": {
      "image/png": "[encoded data removed]",
      "text/plain": [
       "<Figure size 432x432 with 1 Axes>"
      ]
     },
     "metadata": {
      "needs_background": "light"
     },
     "output_type": "display_data"
    }
   ],
   "source": [
    "scatterlog_loss(df_G100)"
   ]
  },
  {
   "cell_type": "code",
   "execution_count": 36,
   "id": "5917febe-588c-44b1-b1ad-3c04a9db4fb9",
   "metadata": {},
   "outputs": [
    {
     "data": {
      "image/png": "[encoded data removed]",
      "text/plain": [
       "<Figure size 432x432 with 1 Axes>"
      ]
     },
     "metadata": {
      "needs_background": "light"
     },
     "output_type": "display_data"
    }
   ],
   "source": []
  },
  {
   "cell_type": "code",
   "execution_count": 50,
   "id": "5958089c-ce45-4cef-bf1b-1950610279cd",
   "metadata": {},
   "outputs": [
    {
     "data": {
      "image/png": "[encoded data removed]",
      "text/plain": [
       "<Figure size 432x432 with 1 Axes>"
      ]
     },
     "metadata": {
      "needs_background": "light"
     },
     "output_type": "display_data"
    }
   ],
   "source": [
    "plt.figure(figsize = (6,6))\n",
    "plt.scatter(df_LogRegLogLoss.Real_Data, df_G100.Real_Data)\n",
    "plt.xlim(0.3,0.8)\n",
    "plt.ylim(0.3,0.8)\n",
    "xyline = np.linspace(0.3,0.8,20)\n",
    "plt.plot(xyline, xyline)\n",
    "plt.xlabel('LogReg_logloss', fontsize = 22)\n",
    "plt.ylabel('XGBoost_logloss', fontsize = 22)\n",
    "xt = plt.xticks(fontsize = 14)\n",
    "yt = plt.yticks(fontsize = 14)\n",
    "#plt.errorbar(df.Real_Data, df.Shuffle_Data, yerr= df.Error, fmt='o')"
   ]
  },
  {
   "cell_type": "code",
   "execution_count": null,
   "id": "e1cd8dcb-e910-41ed-a6a6-41689fc92905",
   "metadata": {},
   "outputs": [],
   "source": []
  }
 ],
 "metadata": {
  "kernelspec": {
   "display_name": "Python 3 (ipykernel)",
   "language": "python",
   "name": "python3"
  },
  "language_info": {
   "codemirror_mode": {
    "name": "ipython",
    "version": 3
   },
   "file_extension": ".py",
   "mimetype": "text/x-python",
   "name": "python",
   "nbconvert_exporter": "python",
   "pygments_lexer": "ipython3",
   "version": "3.8.10"
  }
 },
 "nbformat": 4,
 "nbformat_minor": 5
}
