{
 "cells": [
  {
   "cell_type": "markdown",
   "id": "fd225475-da7c-4ea0-ad25-c5dd33434eca",
   "metadata": {},
   "source": [
    "Importing libraries"
   ]
  },
  {
   "cell_type": "code",
   "execution_count": 3,
   "id": "0273ff2a-3314-4d63-9976-24fb6917b2db",
   "metadata": {},
   "outputs": [],
   "source": [
    "import pandas as pd\n",
    "from sklearn.linear_model import LogisticRegression\n",
    "from sklearn.metrics import accuracy_score, confusion_matrix, log_loss\n",
    "from sklearn.model_selection import StratifiedKFold\n",
    "from sklearn.preprocessing import normalize\n",
    "import numpy as np\n",
    "import matplotlib.pyplot as plt\n",
    "import seaborn as sns\n",
    "from imblearn.over_sampling import SMOTE\n",
    "from xgboost import XGBClassifier\n",
    "import os\n",
    "import random\n",
    "os.environ['KMP_DUPLICATE_LIB_OK']='True'"
   ]
  },
  {
   "cell_type": "code",
   "execution_count": 4,
   "id": "6cc677a3-047e-4572-9bf1-befb26a6e29c",
   "metadata": {},
   "outputs": [
    {
     "data": {
      "text/html": [
       "<div>\n",
       "<style scoped>\n",
       "    .dataframe tbody tr th:only-of-type {\n",
       "        vertical-align: middle;\n",
       "    }\n",
       "\n",
       "    .dataframe tbody tr th {\n",
       "        vertical-align: top;\n",
       "    }\n",
       "\n",
       "    .dataframe thead th {\n",
       "        text-align: right;\n",
       "    }\n",
       "</style>\n",
       "<table border=\"1\" class=\"dataframe\">\n",
       "  <thead>\n",
       "    <tr style=\"text-align: right;\">\n",
       "      <th></th>\n",
       "      <th>Rv_ID</th>\n",
       "      <th>129s1.SvImJ_vs_C57BL.6J</th>\n",
       "      <th>129s1.SvImJ_vs_mbio_H37Rv</th>\n",
       "      <th>A.J_vs_129s1.SvImJ</th>\n",
       "      <th>A.J_vs_C57BL.6J</th>\n",
       "      <th>A.J_vs_mbio_H37Rv</th>\n",
       "      <th>C57BL.6J_vs_129s1.SvImJ</th>\n",
       "      <th>C57BL.6J_vs_A.J</th>\n",
       "      <th>C57BL.6J_vs_C57BL.6J</th>\n",
       "      <th>C57BL.6J_vs_mbio_H37Rv</th>\n",
       "      <th>...</th>\n",
       "      <th>zhang_DETA-NO_pH_7.0_vs_zhang_pH_7.0_no_NO_control</th>\n",
       "      <th>zhang_Fe_1.5mM_vs_zhang_Fe_450uM</th>\n",
       "      <th>zhang_Trp_Rescue_vs_zhang_in_vitro_control_Rescue</th>\n",
       "      <th>zhang_Tyloxapol_pH_6.5_vs_zhang_Tyloxapol_pH_4.5</th>\n",
       "      <th>zhang_Tyloxapol_pH_6.5_vs_zhang_pcit_pH_4.5</th>\n",
       "      <th>zhang_mhcii_mouse_d10_vs_zhang_wt_mouse_d10</th>\n",
       "      <th>zhang_mhcii_mouse_d45_vs_zhang_wt_mouse_d45</th>\n",
       "      <th>zhang_wt_mouse_d10_vs_zhang_input_library</th>\n",
       "      <th>zhang_wt_mouse_d45_vs_zhang_input_library</th>\n",
       "      <th>Functional_Category</th>\n",
       "    </tr>\n",
       "  </thead>\n",
       "  <tbody>\n",
       "    <tr>\n",
       "      <th>0</th>\n",
       "      <td>Rv0001</td>\n",
       "      <td>0.00</td>\n",
       "      <td>-0.18</td>\n",
       "      <td>0.00</td>\n",
       "      <td>0.00</td>\n",
       "      <td>-0.18</td>\n",
       "      <td>0.00</td>\n",
       "      <td>0.00</td>\n",
       "      <td>0.0</td>\n",
       "      <td>-0.18</td>\n",
       "      <td>...</td>\n",
       "      <td>0.00</td>\n",
       "      <td>0.00</td>\n",
       "      <td>0.00</td>\n",
       "      <td>0.00</td>\n",
       "      <td>0.00</td>\n",
       "      <td>0.00</td>\n",
       "      <td>0.00</td>\n",
       "      <td>0.00</td>\n",
       "      <td>0.00</td>\n",
       "      <td>information pathways</td>\n",
       "    </tr>\n",
       "    <tr>\n",
       "      <th>1</th>\n",
       "      <td>Rv0002</td>\n",
       "      <td>0.00</td>\n",
       "      <td>-0.07</td>\n",
       "      <td>0.00</td>\n",
       "      <td>0.00</td>\n",
       "      <td>-0.07</td>\n",
       "      <td>0.00</td>\n",
       "      <td>0.00</td>\n",
       "      <td>0.0</td>\n",
       "      <td>-0.07</td>\n",
       "      <td>...</td>\n",
       "      <td>0.00</td>\n",
       "      <td>0.00</td>\n",
       "      <td>0.00</td>\n",
       "      <td>0.00</td>\n",
       "      <td>0.00</td>\n",
       "      <td>0.00</td>\n",
       "      <td>0.00</td>\n",
       "      <td>0.00</td>\n",
       "      <td>0.00</td>\n",
       "      <td>information pathways</td>\n",
       "    </tr>\n",
       "    <tr>\n",
       "      <th>2</th>\n",
       "      <td>Rv0003</td>\n",
       "      <td>1.54</td>\n",
       "      <td>-1.86</td>\n",
       "      <td>-0.99</td>\n",
       "      <td>0.56</td>\n",
       "      <td>-2.85</td>\n",
       "      <td>-1.54</td>\n",
       "      <td>-0.56</td>\n",
       "      <td>0.0</td>\n",
       "      <td>-3.41</td>\n",
       "      <td>...</td>\n",
       "      <td>-0.31</td>\n",
       "      <td>1.09</td>\n",
       "      <td>-2.13</td>\n",
       "      <td>0.51</td>\n",
       "      <td>0.41</td>\n",
       "      <td>1.30</td>\n",
       "      <td>-0.49</td>\n",
       "      <td>-1.26</td>\n",
       "      <td>-2.25</td>\n",
       "      <td>information pathways</td>\n",
       "    </tr>\n",
       "    <tr>\n",
       "      <th>3</th>\n",
       "      <td>Rv0005</td>\n",
       "      <td>-0.56</td>\n",
       "      <td>-0.58</td>\n",
       "      <td>-0.08</td>\n",
       "      <td>-0.64</td>\n",
       "      <td>-0.65</td>\n",
       "      <td>0.56</td>\n",
       "      <td>0.64</td>\n",
       "      <td>0.0</td>\n",
       "      <td>-0.02</td>\n",
       "      <td>...</td>\n",
       "      <td>-0.89</td>\n",
       "      <td>-2.36</td>\n",
       "      <td>-1.89</td>\n",
       "      <td>2.90</td>\n",
       "      <td>2.20</td>\n",
       "      <td>-4.05</td>\n",
       "      <td>0.30</td>\n",
       "      <td>0.69</td>\n",
       "      <td>-3.55</td>\n",
       "      <td>information pathways</td>\n",
       "    </tr>\n",
       "    <tr>\n",
       "      <th>4</th>\n",
       "      <td>Rv0006</td>\n",
       "      <td>0.78</td>\n",
       "      <td>2.77</td>\n",
       "      <td>-0.55</td>\n",
       "      <td>0.23</td>\n",
       "      <td>2.22</td>\n",
       "      <td>-0.78</td>\n",
       "      <td>-0.23</td>\n",
       "      <td>0.0</td>\n",
       "      <td>1.99</td>\n",
       "      <td>...</td>\n",
       "      <td>0.23</td>\n",
       "      <td>-1.51</td>\n",
       "      <td>4.80</td>\n",
       "      <td>-2.90</td>\n",
       "      <td>-2.05</td>\n",
       "      <td>-2.93</td>\n",
       "      <td>0.87</td>\n",
       "      <td>3.70</td>\n",
       "      <td>3.67</td>\n",
       "      <td>information pathways</td>\n",
       "    </tr>\n",
       "  </tbody>\n",
       "</table>\n",
       "<p>5 rows × 1963 columns</p>\n",
       "</div>"
      ],
      "text/plain": [
       "    Rv_ID  129s1.SvImJ_vs_C57BL.6J  129s1.SvImJ_vs_mbio_H37Rv  \\\n",
       "0  Rv0001                     0.00                      -0.18   \n",
       "1  Rv0002                     0.00                      -0.07   \n",
       "2  Rv0003                     1.54                      -1.86   \n",
       "3  Rv0005                    -0.56                      -0.58   \n",
       "4  Rv0006                     0.78                       2.77   \n",
       "\n",
       "   A.J_vs_129s1.SvImJ  A.J_vs_C57BL.6J  A.J_vs_mbio_H37Rv  \\\n",
       "0                0.00             0.00              -0.18   \n",
       "1                0.00             0.00              -0.07   \n",
       "2               -0.99             0.56              -2.85   \n",
       "3               -0.08            -0.64              -0.65   \n",
       "4               -0.55             0.23               2.22   \n",
       "\n",
       "   C57BL.6J_vs_129s1.SvImJ  C57BL.6J_vs_A.J  C57BL.6J_vs_C57BL.6J  \\\n",
       "0                     0.00             0.00                   0.0   \n",
       "1                     0.00             0.00                   0.0   \n",
       "2                    -1.54            -0.56                   0.0   \n",
       "3                     0.56             0.64                   0.0   \n",
       "4                    -0.78            -0.23                   0.0   \n",
       "\n",
       "   C57BL.6J_vs_mbio_H37Rv  ...  \\\n",
       "0                   -0.18  ...   \n",
       "1                   -0.07  ...   \n",
       "2                   -3.41  ...   \n",
       "3                   -0.02  ...   \n",
       "4                    1.99  ...   \n",
       "\n",
       "   zhang_DETA-NO_pH_7.0_vs_zhang_pH_7.0_no_NO_control  \\\n",
       "0                                               0.00    \n",
       "1                                               0.00    \n",
       "2                                              -0.31    \n",
       "3                                              -0.89    \n",
       "4                                               0.23    \n",
       "\n",
       "   zhang_Fe_1.5mM_vs_zhang_Fe_450uM  \\\n",
       "0                              0.00   \n",
       "1                              0.00   \n",
       "2                              1.09   \n",
       "3                             -2.36   \n",
       "4                             -1.51   \n",
       "\n",
       "   zhang_Trp_Rescue_vs_zhang_in_vitro_control_Rescue  \\\n",
       "0                                               0.00   \n",
       "1                                               0.00   \n",
       "2                                              -2.13   \n",
       "3                                              -1.89   \n",
       "4                                               4.80   \n",
       "\n",
       "   zhang_Tyloxapol_pH_6.5_vs_zhang_Tyloxapol_pH_4.5  \\\n",
       "0                                              0.00   \n",
       "1                                              0.00   \n",
       "2                                              0.51   \n",
       "3                                              2.90   \n",
       "4                                             -2.90   \n",
       "\n",
       "   zhang_Tyloxapol_pH_6.5_vs_zhang_pcit_pH_4.5  \\\n",
       "0                                         0.00   \n",
       "1                                         0.00   \n",
       "2                                         0.41   \n",
       "3                                         2.20   \n",
       "4                                        -2.05   \n",
       "\n",
       "   zhang_mhcii_mouse_d10_vs_zhang_wt_mouse_d10  \\\n",
       "0                                         0.00   \n",
       "1                                         0.00   \n",
       "2                                         1.30   \n",
       "3                                        -4.05   \n",
       "4                                        -2.93   \n",
       "\n",
       "   zhang_mhcii_mouse_d45_vs_zhang_wt_mouse_d45  \\\n",
       "0                                         0.00   \n",
       "1                                         0.00   \n",
       "2                                        -0.49   \n",
       "3                                         0.30   \n",
       "4                                         0.87   \n",
       "\n",
       "   zhang_wt_mouse_d10_vs_zhang_input_library  \\\n",
       "0                                       0.00   \n",
       "1                                       0.00   \n",
       "2                                      -1.26   \n",
       "3                                       0.69   \n",
       "4                                       3.70   \n",
       "\n",
       "   zhang_wt_mouse_d45_vs_zhang_input_library   Functional_Category  \n",
       "0                                       0.00  information pathways  \n",
       "1                                       0.00  information pathways  \n",
       "2                                      -2.25  information pathways  \n",
       "3                                      -3.55  information pathways  \n",
       "4                                       3.67  information pathways  \n",
       "\n",
       "[5 rows x 1963 columns]"
      ]
     },
     "execution_count": 4,
     "metadata": {},
     "output_type": "execute_result"
    }
   ],
   "source": [
    "new_lfc = pd.read_csv('~/Documents/repos/mtb_tn_db/data/standardized_data/cleaned_ML/lfc_mb_filt.csv')\n",
    "new_lfc.head()"
   ]
  },
  {
   "cell_type": "markdown",
   "id": "5a0a3d1d-3541-457b-98ec-eec586a134c7",
   "metadata": {},
   "source": [
    "Function that Outputs the Accuracy Matrix and an Accuracy Score"
   ]
  },
  {
   "cell_type": "code",
   "execution_count": 5,
   "id": "51470713-ce09-41ae-b099-80663d553a24",
   "metadata": {},
   "outputs": [],
   "source": [
    "def accuracy_matrix(classname, C_temp, shuffle, model):\n",
    "    #Creating the y variable. \n",
    "    y_list = []\n",
    "    i = 0\n",
    "    for gene in new_lfc.Functional_Category:\n",
    "        if gene == classname:\n",
    "            y_list.append(1)\n",
    "        else:\n",
    "            y_list.append(0)\n",
    "        i+=1\n",
    "    y = np.array(y_list)\n",
    "    \n",
    "    #Shuffling the y matrix. \n",
    "    if shuffle == True:\n",
    "            random.shuffle(y)\n",
    "            \n",
    "    #Creating the x variable.\n",
    "    raw_x= new_lfc.drop([\"Rv_ID\", \"Functional_Category\"], axis = 1)\n",
    "    X = raw_x.to_numpy()\n",
    "\n",
    "    #Step 1: Create Logistic REgression Classifier.\n",
    "    clf = LogisticRegression(penalty='l1', solver='liblinear', multi_class='ovr', C=C_temp, random_state=42)\n",
    "    #Step 2: Split samples into training and test sets using STratifiedKFOld\n",
    "    n_splits_Temp = 5\n",
    "    n_classes = 2\n",
    "    skf = StratifiedKFold(n_splits=n_splits_Temp, shuffle=True, random_state=42)\n",
    "    confusion = np.zeros((n_classes, n_classes))\n",
    "    log_loss_var = []\n",
    "    #Step 3: ITerate thru each training/test set.\n",
    "    for train_index, test_index in skf.split(X, y):\n",
    "        X_train, X_test = X[train_index], X[test_index]\n",
    "        y_train, y_test = y[train_index], y[test_index] \n",
    "        X_train, y_train = SMOTE().fit_resample(X_train, y_train)\n",
    "        #Step 4: Fit the logistic regression to the training data. \n",
    "        if model == \"logreg\":\n",
    "            clf.fit(X_train, y_train)\n",
    "        elif model == \"xgboost\"\n",
    "            clf = XGBClassifier()\n",
    "        clf.fit(X_train, y_train)\n",
    "        #Step 5: Predict the values of the testing data. \n",
    "        y_hat = clf.predict(X_test)\n",
    "        confusion += confusion_matrix(y_test, y_hat)\n",
    "        #Create a list of all the accuracy matrixes.\n",
    "        y_pred = clf.predict_proba(X_test)\n",
    "        log_loss_var.append(log_loss(y_test, y_pred))\n",
    "    average_logloss = sum(log_loss_var)/len(log_loss_var)\n",
    "\n",
    "    confusion = normalize(confusion, axis=1, norm='l1')\n",
    "\n",
    "    col_names = list(clf.classes_)\n",
    "    df_confusion = pd.DataFrame(confusion, columns=col_names, index=col_names)\n",
    "\n",
    "    #plt.figure(figsize=(12,12))\n",
    "    \n",
    "    #rc = {'xtick.labelsize': 22, 'ytick.labelsize': 22, 'axes.labelsize': 22}\n",
    "    #sns.set(rc=rc)\n",
    "    #heat = sns.heatmap(df_confusion, annot=True, linewidths=2, fmt='1.2f', square=True, annot_kws={\"fontsize\":12})\n",
    "    #if \"/\" in classname:\n",
    "        #classname = classname.split(\"/\")\n",
    "    #if shuffle == True:\n",
    "        #filename = str(classname)+\",\"+str(C_temp)+\"_shuffle\"+\".png\"\n",
    "    #elif shuffle == False:\n",
    "        #filename = str(classname)+\",\"+str(C_temp)+\"_real\"+\".png\"\n",
    "    #plt.savefig(filename)\n",
    "    return average_logloss\n"
   ]
  },
  {
   "cell_type": "markdown",
   "id": "51a329f1-ab9d-4174-9548-6e5df8864ff7",
   "metadata": {},
   "source": [
    "Creating a matrix with combination of classifier and C values"
   ]
  },
  {
   "cell_type": "code",
   "execution_count": 6,
   "id": "9fc2f0c0-0147-4050-a349-c96763f5f5fa",
   "metadata": {},
   "outputs": [
    {
     "name": "stdout",
     "output_type": "stream",
     "text": [
      "[['information pathways', 0.001, True], ['information pathways', 0.001, False], ['information pathways', 0.01, True], ['information pathways', 0.01, False], ['information pathways', 0.1, True], ['information pathways', 0.1, False], ['information pathways', 1, True], ['information pathways', 1, False], ['cell wall and cell processes', 0.001, True], ['cell wall and cell processes', 0.001, False], ['cell wall and cell processes', 0.01, True], ['cell wall and cell processes', 0.01, False], ['cell wall and cell processes', 0.1, True], ['cell wall and cell processes', 0.1, False], ['cell wall and cell processes', 1, True], ['cell wall and cell processes', 1, False], ['intermediary metabolism and respiration', 0.001, True], ['intermediary metabolism and respiration', 0.001, False], ['intermediary metabolism and respiration', 0.01, True], ['intermediary metabolism and respiration', 0.01, False], ['intermediary metabolism and respiration', 0.1, True], ['intermediary metabolism and respiration', 0.1, False], ['intermediary metabolism and respiration', 1, True], ['intermediary metabolism and respiration', 1, False], ['regulatory proteins', 0.001, True], ['regulatory proteins', 0.001, False], ['regulatory proteins', 0.01, True], ['regulatory proteins', 0.01, False], ['regulatory proteins', 0.1, True], ['regulatory proteins', 0.1, False], ['regulatory proteins', 1, True], ['regulatory proteins', 1, False], ['virulence, detoxification, adaptation', 0.001, True], ['virulence, detoxification, adaptation', 0.001, False], ['virulence, detoxification, adaptation', 0.01, True], ['virulence, detoxification, adaptation', 0.01, False], ['virulence, detoxification, adaptation', 0.1, True], ['virulence, detoxification, adaptation', 0.1, False], ['virulence, detoxification, adaptation', 1, True], ['virulence, detoxification, adaptation', 1, False], ['insertion seqs and phages', 0.001, True], ['insertion seqs and phages', 0.001, False], ['insertion seqs and phages', 0.01, True], ['insertion seqs and phages', 0.01, False], ['insertion seqs and phages', 0.1, True], ['insertion seqs and phages', 0.1, False], ['insertion seqs and phages', 1, True], ['insertion seqs and phages', 1, False], ['lipid metabolism', 0.001, True], ['lipid metabolism', 0.001, False], ['lipid metabolism', 0.01, True], ['lipid metabolism', 0.01, False], ['lipid metabolism', 0.1, True], ['lipid metabolism', 0.1, False], ['lipid metabolism', 1, True], ['lipid metabolism', 1, False], ['PE/PPE', 0.001, True], ['PE/PPE', 0.001, False], ['PE/PPE', 0.01, True], ['PE/PPE', 0.01, False], ['PE/PPE', 0.1, True], ['PE/PPE', 0.1, False], ['PE/PPE', 1, True], ['PE/PPE', 1, False]]\n"
     ]
    }
   ],
   "source": [
    "Fxnal_Categories = list(new_lfc.Functional_Category.unique())\n",
    "C_values =[0.01, 0.1, 1]\n",
    "Bool = [True, False]\n",
    "\n",
    "Possible_Matrices = []\n",
    "for Category in Fxnal_Categories:\n",
    "    for C in C_values:\n",
    "        for val in Bool:\n",
    "            Combo =[]\n",
    "            Combo.extend([Category,C,val])\n",
    "            Possible_Matrices.append(Combo)\n",
    "\n",
    "print(Possible_Matrices)"
   ]
  },
  {
   "cell_type": "markdown",
   "id": "324d95c5-8ab5-45ed-9330-ca9934bd42af",
   "metadata": {},
   "source": [
    "Running Through Each Matrix and Saving the Log Loss"
   ]
  },
  {
   "cell_type": "code",
   "execution_count": 7,
   "id": "7b1441aa-b658-407a-8599-02431eba2ff9",
   "metadata": {},
   "outputs": [],
   "source": [
    "ReallogLoss = []\n",
    "Shufflelogloss = []\n",
    "\n",
    "for matrix in Possible_Matrices:\n",
    "    average_logloss = accuracy_matrix(matrix[0], matrix[1], matrix[2])\n",
    "    if matrix[2] == False:\n",
    "        ReallogLoss.append(average_logloss)\n",
    "    elif matrix[2] == True:\n",
    "        Shufflelogloss.append(average_logloss)\n"
   ]
  },
  {
   "cell_type": "markdown",
   "id": "c2231b63-9a54-48e7-acd3-e31de14e1d27",
   "metadata": {},
   "source": [
    "Creating an Error Bar for Shuffled Date"
   ]
  },
  {
   "cell_type": "code",
   "execution_count": null,
   "id": "19060164-a96b-4e15-b537-251b351f785d",
   "metadata": {},
   "outputs": [],
   "source": [
    "shuffle_bool = [] \n",
    "for i in range(0,11):\n",
    "    shuffle_bool.append(True)\n",
    "    \n",
    "errorbar_upper = []\n",
    "errorbar_lower = []\n",
    "\n",
    "for Category in Fxnal_Categories:\n",
    "    for C in C_values:\n",
    "        Shuffle_Possible = []\n",
    "        shuffle_logloss_range = []\n",
    "        for val in shuffle_bool:\n",
    "            Combo =[]\n",
    "            Combo.extend([Category,C,val])\n",
    "            Shuffle_Possible.append(Combo)\n",
    "\n",
    "        for matrix in Shuffle_Possible:\n",
    "            shuffle_logloss = accuracy_matrix(matrix[0], matrix[1], matrix[2])\n",
    "            shuffle_logloss_range.append(shuffle_logloss)\n",
    "        error_max = np.percentile(shuffle_logloss_range, 95)\n",
    "        error_min = np.percentile(shuffle_logloss_range, 5)\n",
    "        errorbar_upper.append(error_max)\n",
    "        errorbar_lower.append(error_min)\n"
   ]
  },
  {
   "cell_type": "markdown",
   "id": "90cae0ca-3909-4c4f-9433-7f56ad7e4202",
   "metadata": {},
   "source": [
    "Creating a Data Frame of LogLoss Values for each C "
   ]
  },
  {
   "cell_type": "code",
   "execution_count": null,
   "id": "6f9a1e61-6e3b-4490-92a0-c92d708c62e1",
   "metadata": {},
   "outputs": [],
   "source": [
    "Categories = []\n",
    "C_parameters = []\n",
    "for matrix in Possible_Matrices:\n",
    "    if matrix[2] == True:\n",
    "        Categories.append(matrix[0])\n",
    "        C_parameters.append(matrix[1])\n",
    "data= {'c':C_parameters,'Real_Data':ReallogLoss, 'Shuffle_Data':Shufflelogloss, 'ErrorBar_Upper': errorbar_upper, 'ErrorBar_Lower': errorbar_lower} #Creating a data frame with all the C values.\n",
    "df_LogLoss = pd.DataFrame(data,index = [Categories])\n",
    "df_COOO1 = df_LogLoss[df_LogLoss.c == 0.001] #Making a data frame for each c value.\n",
    "df_COO1 = df_LogLoss[df_LogLoss.c == 0.01]\n",
    "df_CO1 = df_LogLoss[df_LogLoss.c == 0.1]\n",
    "df_C1 = df_LogLoss[df_LogLoss.c == 1]\n",
    "df_list = [df_COOO1, df_COO1, df_CO1, df_C1]\n",
    "df_LogLoss"
   ]
  },
  {
   "cell_type": "markdown",
   "id": "f1622ce3-8f77-4d26-8bb3-38c69c7e1897",
   "metadata": {},
   "source": [
    "Creating a Scatterplot with Real and Shuffled Data"
   ]
  },
  {
   "cell_type": "code",
   "execution_count": null,
   "id": "f6c7ef5f-0be2-4d1f-bb33-411a6908bd62",
   "metadata": {},
   "outputs": [],
   "source": [
    "def scatterlog_loss(df):\n",
    "    plt.figure(figsize = (6,6))\n",
    "    plt.scatter(df.SHuffle_Data, df.Real_Data)\n",
    "    plt.xlim(0.3,0.8)\n",
    "    plt.ylim(0.3,0.8)\n",
    "    xyline = np.linspace(0.3,0.8,20)\n",
    "    plt.plot(xyline, xyline)\n",
    "    plt.xlabel('logloss real data', fontsize = 22)\n",
    "    plt.ylabel('logloss shuffled data', fontsize = 22)\n",
    "    xt = plt.xticks(fontsize = 14)\n",
    "    yt = plt.yticks(fontsize = 14)\n",
    "    plt.errorbar(df.Real_Data, df.Shuffle_Data, yerr= df.Error, fmt='o')"
   ]
  },
  {
   "cell_type": "code",
   "execution_count": null,
   "id": "0686c9a3-dbc9-45d3-b8e0-5bc132b93809",
   "metadata": {},
   "outputs": [],
   "source": [
    "scatterlog_loss(df_COOO1)"
   ]
  },
  {
   "cell_type": "code",
   "execution_count": 37,
   "id": "ea92c2b1-bf8e-45a2-87ee-1da46917b8f8",
   "metadata": {},
   "outputs": [
    {
     "data": {
      "image/png": "[encoded data removed]",
      "text/plain": [
       "<Figure size 432x432 with 1 Axes>"
      ]
     },
     "metadata": {
      "needs_background": "light"
     },
     "output_type": "display_data"
    }
   ],
   "source": [
    "scatterlog_loss(df_COO1)"
   ]
  },
  {
   "cell_type": "code",
   "execution_count": 38,
   "id": "4612b553-323b-498a-a8c0-961bd9b98a03",
   "metadata": {},
   "outputs": [
    {
     "data": {
      "image/png": "[encoded data removed]",
      "text/plain": [
       "<Figure size 432x432 with 1 Axes>"
      ]
     },
     "metadata": {
      "needs_background": "light"
     },
     "output_type": "display_data"
    }
   ],
   "source": [
    "scatterlog_loss(df_CO1)"
   ]
  },
  {
   "cell_type": "code",
   "execution_count": 39,
   "id": "299fb1c7-afcf-4742-b26f-10072c230ab1",
   "metadata": {},
   "outputs": [
    {
     "data": {
      "image/png": "[encoded data removed]",
      "text/plain": [
       "<Figure size 432x432 with 1 Axes>"
      ]
     },
     "metadata": {
      "needs_background": "light"
     },
     "output_type": "display_data"
    }
   ],
   "source": [
    "scatterlog_loss(df_C1)"
   ]
  },
  {
   "cell_type": "markdown",
   "id": "94914c01-5993-4627-aaea-ec9cf054858e",
   "metadata": {},
   "source": [
    "### "
   ]
  }
 ],
 "metadata": {
  "kernelspec": {
   "display_name": "Python 3 (ipykernel)",
   "language": "python",
   "name": "python3"
  },
  "language_info": {
   "codemirror_mode": {
    "name": "ipython",
    "version": 3
   },
   "file_extension": ".py",
   "mimetype": "text/x-python",
   "name": "python",
   "nbconvert_exporter": "python",
   "pygments_lexer": "ipython3",
   "version": "3.8.10"
  }
 },
 "nbformat": 4,
 "nbformat_minor": 5
}
