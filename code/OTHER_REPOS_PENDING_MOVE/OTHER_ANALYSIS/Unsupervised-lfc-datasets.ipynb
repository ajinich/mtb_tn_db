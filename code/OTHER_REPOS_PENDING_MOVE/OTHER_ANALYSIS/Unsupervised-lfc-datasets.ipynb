{
 "cells": [
  {
   "cell_type": "code",
   "execution_count": 103,
   "metadata": {
    "ExecuteTime": {
     "end_time": "2020-02-17T20:42:03.450416Z",
     "start_time": "2020-02-17T20:42:03.439412Z"
    }
   },
   "outputs": [],
   "source": [
    "import pandas as pd\n",
    "import numpy as np\n",
    "import os"
   ]
  },
  {
   "cell_type": "code",
   "execution_count": 104,
   "metadata": {
    "ExecuteTime": {
     "end_time": "2020-02-17T20:42:03.526460Z",
     "start_time": "2020-02-17T20:42:03.453944Z"
    }
   },
   "outputs": [],
   "source": [
    "lfc = pd.read_csv(\n",
    "    '../data/standardized_data/result_logfc_matrix_2020_08_27.csv')"
   ]
  },
  {
   "cell_type": "code",
   "execution_count": 105,
   "metadata": {
    "ExecuteTime": {
     "end_time": "2020-02-17T20:42:03.590296Z",
     "start_time": "2020-02-17T20:42:03.526460Z"
    }
   },
   "outputs": [
    {
     "data": {
      "text/html": [
       "<div>\n",
       "<style scoped>\n",
       "    .dataframe tbody tr th:only-of-type {\n",
       "        vertical-align: middle;\n",
       "    }\n",
       "\n",
       "    .dataframe tbody tr th {\n",
       "        vertical-align: top;\n",
       "    }\n",
       "\n",
       "    .dataframe thead th {\n",
       "        text-align: right;\n",
       "    }\n",
       "</style>\n",
       "<table border=\"1\" class=\"dataframe\">\n",
       "  <thead>\n",
       "    <tr style=\"text-align: right;\">\n",
       "      <th></th>\n",
       "      <th>Rv_ID</th>\n",
       "      <th>PE35_KO_vs_mbio_H37Rv</th>\n",
       "      <th>PPE68_KO_vs_mbio_H37Rv</th>\n",
       "      <th>Rv0950c_KO_vs_CB_WT</th>\n",
       "      <th>Rv0954_KO_vs_RJ_WT</th>\n",
       "      <th>Rv1096_KO_vs_CB_WT</th>\n",
       "      <th>Rv3005c_KO_day32_vs_dejesus_H37Rv_day32</th>\n",
       "      <th>Rv3594_KO_vs_Rubin_FLUTE_WT</th>\n",
       "      <th>Rv3684_KO_vs_CB_WT</th>\n",
       "      <th>Rv3717_KO_vs_Rubin_FLUTE_WT</th>\n",
       "      <th>...</th>\n",
       "      <th>zhang_AA_Rescue_vs_zhang_in_vitro_control_Rescue</th>\n",
       "      <th>zhang_DETA-NO_pH_7.0_vs_zhang_pH_7.0_no_NO_control</th>\n",
       "      <th>zhang_Fe_1.5mM_vs_zhang_Fe_450uM</th>\n",
       "      <th>zhang_Trp_Rescue_vs_zhang_in_vitro_control_Rescue</th>\n",
       "      <th>zhang_Tyloxapol_pH_6.5_vs_zhang_Tyloxapol_pH_4.5</th>\n",
       "      <th>zhang_Tyloxapol_pH_6.5_vs_zhang_pcit_pH_4.5</th>\n",
       "      <th>zhang_mhcii_mouse_d10_vs_zhang_wt_mouse_d10</th>\n",
       "      <th>zhang_mhcii_mouse_d45_vs_zhang_wt_mouse_d45</th>\n",
       "      <th>zhang_wt_mouse_d10_vs_zhang_input_library</th>\n",
       "      <th>zhang_wt_mouse_d45_vs_zhang_input_library</th>\n",
       "    </tr>\n",
       "  </thead>\n",
       "  <tbody>\n",
       "    <tr>\n",
       "      <th>0</th>\n",
       "      <td>Rv0001</td>\n",
       "      <td>-0.41</td>\n",
       "      <td>0.01</td>\n",
       "      <td>0.00</td>\n",
       "      <td>0.00</td>\n",
       "      <td>0.00</td>\n",
       "      <td>3.12</td>\n",
       "      <td>-0.06</td>\n",
       "      <td>0.00</td>\n",
       "      <td>-0.06</td>\n",
       "      <td>...</td>\n",
       "      <td>0.00</td>\n",
       "      <td>0.00</td>\n",
       "      <td>0.00</td>\n",
       "      <td>0.00</td>\n",
       "      <td>0.00</td>\n",
       "      <td>0.00</td>\n",
       "      <td>0.00</td>\n",
       "      <td>0.00</td>\n",
       "      <td>0.00</td>\n",
       "      <td>0.00</td>\n",
       "    </tr>\n",
       "    <tr>\n",
       "      <th>1</th>\n",
       "      <td>Rv0002</td>\n",
       "      <td>3.28</td>\n",
       "      <td>2.38</td>\n",
       "      <td>0.00</td>\n",
       "      <td>0.00</td>\n",
       "      <td>0.00</td>\n",
       "      <td>0.00</td>\n",
       "      <td>0.00</td>\n",
       "      <td>0.00</td>\n",
       "      <td>0.00</td>\n",
       "      <td>...</td>\n",
       "      <td>0.00</td>\n",
       "      <td>0.00</td>\n",
       "      <td>0.00</td>\n",
       "      <td>0.00</td>\n",
       "      <td>0.00</td>\n",
       "      <td>0.00</td>\n",
       "      <td>0.00</td>\n",
       "      <td>0.00</td>\n",
       "      <td>0.00</td>\n",
       "      <td>0.00</td>\n",
       "    </tr>\n",
       "    <tr>\n",
       "      <th>2</th>\n",
       "      <td>Rv0003</td>\n",
       "      <td>-0.03</td>\n",
       "      <td>-0.08</td>\n",
       "      <td>0.03</td>\n",
       "      <td>-1.20</td>\n",
       "      <td>0.39</td>\n",
       "      <td>3.83</td>\n",
       "      <td>0.31</td>\n",
       "      <td>0.17</td>\n",
       "      <td>-0.62</td>\n",
       "      <td>...</td>\n",
       "      <td>-2.93</td>\n",
       "      <td>-0.31</td>\n",
       "      <td>1.09</td>\n",
       "      <td>-2.13</td>\n",
       "      <td>0.51</td>\n",
       "      <td>0.41</td>\n",
       "      <td>1.30</td>\n",
       "      <td>-0.49</td>\n",
       "      <td>-1.26</td>\n",
       "      <td>-2.25</td>\n",
       "    </tr>\n",
       "    <tr>\n",
       "      <th>3</th>\n",
       "      <td>Rv0004</td>\n",
       "      <td>-3.81</td>\n",
       "      <td>-3.39</td>\n",
       "      <td>-2.60</td>\n",
       "      <td>-6.83</td>\n",
       "      <td>1.54</td>\n",
       "      <td>0.00</td>\n",
       "      <td>1.79</td>\n",
       "      <td>1.08</td>\n",
       "      <td>4.91</td>\n",
       "      <td>...</td>\n",
       "      <td>-3.56</td>\n",
       "      <td>0.00</td>\n",
       "      <td>1.96</td>\n",
       "      <td>-3.56</td>\n",
       "      <td>0.00</td>\n",
       "      <td>0.00</td>\n",
       "      <td>0.00</td>\n",
       "      <td>0.70</td>\n",
       "      <td>-2.62</td>\n",
       "      <td>-2.62</td>\n",
       "    </tr>\n",
       "    <tr>\n",
       "      <th>4</th>\n",
       "      <td>Rv0005</td>\n",
       "      <td>-0.22</td>\n",
       "      <td>0.14</td>\n",
       "      <td>0.13</td>\n",
       "      <td>-0.08</td>\n",
       "      <td>0.27</td>\n",
       "      <td>-2.38</td>\n",
       "      <td>0.70</td>\n",
       "      <td>-0.71</td>\n",
       "      <td>-0.37</td>\n",
       "      <td>...</td>\n",
       "      <td>-1.47</td>\n",
       "      <td>-0.89</td>\n",
       "      <td>-2.36</td>\n",
       "      <td>-1.89</td>\n",
       "      <td>2.90</td>\n",
       "      <td>2.20</td>\n",
       "      <td>-4.05</td>\n",
       "      <td>0.30</td>\n",
       "      <td>0.69</td>\n",
       "      <td>-3.55</td>\n",
       "    </tr>\n",
       "  </tbody>\n",
       "</table>\n",
       "<p>5 rows × 65 columns</p>\n",
       "</div>"
      ],
      "text/plain": [
       "    Rv_ID  PE35_KO_vs_mbio_H37Rv  PPE68_KO_vs_mbio_H37Rv  Rv0950c_KO_vs_CB_WT  \\\n",
       "0  Rv0001                  -0.41                    0.01                 0.00   \n",
       "1  Rv0002                   3.28                    2.38                 0.00   \n",
       "2  Rv0003                  -0.03                   -0.08                 0.03   \n",
       "3  Rv0004                  -3.81                   -3.39                -2.60   \n",
       "4  Rv0005                  -0.22                    0.14                 0.13   \n",
       "\n",
       "   Rv0954_KO_vs_RJ_WT  Rv1096_KO_vs_CB_WT  \\\n",
       "0                0.00                0.00   \n",
       "1                0.00                0.00   \n",
       "2               -1.20                0.39   \n",
       "3               -6.83                1.54   \n",
       "4               -0.08                0.27   \n",
       "\n",
       "   Rv3005c_KO_day32_vs_dejesus_H37Rv_day32  Rv3594_KO_vs_Rubin_FLUTE_WT  \\\n",
       "0                                     3.12                        -0.06   \n",
       "1                                     0.00                         0.00   \n",
       "2                                     3.83                         0.31   \n",
       "3                                     0.00                         1.79   \n",
       "4                                    -2.38                         0.70   \n",
       "\n",
       "   Rv3684_KO_vs_CB_WT  Rv3717_KO_vs_Rubin_FLUTE_WT  ...  \\\n",
       "0                0.00                        -0.06  ...   \n",
       "1                0.00                         0.00  ...   \n",
       "2                0.17                        -0.62  ...   \n",
       "3                1.08                         4.91  ...   \n",
       "4               -0.71                        -0.37  ...   \n",
       "\n",
       "   zhang_AA_Rescue_vs_zhang_in_vitro_control_Rescue  \\\n",
       "0                                              0.00   \n",
       "1                                              0.00   \n",
       "2                                             -2.93   \n",
       "3                                             -3.56   \n",
       "4                                             -1.47   \n",
       "\n",
       "   zhang_DETA-NO_pH_7.0_vs_zhang_pH_7.0_no_NO_control  \\\n",
       "0                                               0.00    \n",
       "1                                               0.00    \n",
       "2                                              -0.31    \n",
       "3                                               0.00    \n",
       "4                                              -0.89    \n",
       "\n",
       "   zhang_Fe_1.5mM_vs_zhang_Fe_450uM  \\\n",
       "0                              0.00   \n",
       "1                              0.00   \n",
       "2                              1.09   \n",
       "3                              1.96   \n",
       "4                             -2.36   \n",
       "\n",
       "   zhang_Trp_Rescue_vs_zhang_in_vitro_control_Rescue  \\\n",
       "0                                               0.00   \n",
       "1                                               0.00   \n",
       "2                                              -2.13   \n",
       "3                                              -3.56   \n",
       "4                                              -1.89   \n",
       "\n",
       "   zhang_Tyloxapol_pH_6.5_vs_zhang_Tyloxapol_pH_4.5  \\\n",
       "0                                              0.00   \n",
       "1                                              0.00   \n",
       "2                                              0.51   \n",
       "3                                              0.00   \n",
       "4                                              2.90   \n",
       "\n",
       "   zhang_Tyloxapol_pH_6.5_vs_zhang_pcit_pH_4.5  \\\n",
       "0                                         0.00   \n",
       "1                                         0.00   \n",
       "2                                         0.41   \n",
       "3                                         0.00   \n",
       "4                                         2.20   \n",
       "\n",
       "   zhang_mhcii_mouse_d10_vs_zhang_wt_mouse_d10  \\\n",
       "0                                         0.00   \n",
       "1                                         0.00   \n",
       "2                                         1.30   \n",
       "3                                         0.00   \n",
       "4                                        -4.05   \n",
       "\n",
       "   zhang_mhcii_mouse_d45_vs_zhang_wt_mouse_d45  \\\n",
       "0                                         0.00   \n",
       "1                                         0.00   \n",
       "2                                        -0.49   \n",
       "3                                         0.70   \n",
       "4                                         0.30   \n",
       "\n",
       "   zhang_wt_mouse_d10_vs_zhang_input_library  \\\n",
       "0                                       0.00   \n",
       "1                                       0.00   \n",
       "2                                      -1.26   \n",
       "3                                      -2.62   \n",
       "4                                       0.69   \n",
       "\n",
       "   zhang_wt_mouse_d45_vs_zhang_input_library  \n",
       "0                                       0.00  \n",
       "1                                       0.00  \n",
       "2                                      -2.25  \n",
       "3                                      -2.62  \n",
       "4                                      -3.55  \n",
       "\n",
       "[5 rows x 65 columns]"
      ]
     },
     "execution_count": 105,
     "metadata": {},
     "output_type": "execute_result"
    }
   ],
   "source": [
    "lfc.head()"
   ]
  },
  {
   "cell_type": "code",
   "execution_count": 106,
   "metadata": {},
   "outputs": [],
   "source": [
    "# REMOVE ESSENTIALS!\n",
    "# mbio = pd.read_excel(\"../data/annotations/DeJesus_mbio.xlsx\", header=1)\n",
    "# mbio.head()"
   ]
  },
  {
   "cell_type": "code",
   "execution_count": 107,
   "metadata": {},
   "outputs": [],
   "source": [
    "# print(lfc.shape)\n",
    "# lfc = pd.merge(lfc, mbio[['ORF ID', 'Final Call']], how='left', left_on='Rv_ID', right_on='ORF ID')\n",
    "# print(lfc.shape)"
   ]
  },
  {
   "cell_type": "code",
   "execution_count": 108,
   "metadata": {},
   "outputs": [],
   "source": [
    "# lfc = lfc[lfc['Final Call'] != 'ES']\n",
    "# lfc = lfc.drop(columns = ['ORF ID', 'Final Call'])\n",
    "# print(lfc.shape)"
   ]
  },
  {
   "cell_type": "code",
   "execution_count": 109,
   "metadata": {},
   "outputs": [
    {
     "data": {
      "text/plain": [
       "Rv_ID                                           0\n",
       "PE35_KO_vs_mbio_H37Rv                          65\n",
       "PPE68_KO_vs_mbio_H37Rv                         65\n",
       "Rv0950c_KO_vs_CB_WT                            65\n",
       "Rv0954_KO_vs_RJ_WT                             65\n",
       "                                               ..\n",
       "zhang_Tyloxapol_pH_6.5_vs_zhang_pcit_pH_4.5    65\n",
       "zhang_mhcii_mouse_d10_vs_zhang_wt_mouse_d10    65\n",
       "zhang_mhcii_mouse_d45_vs_zhang_wt_mouse_d45    65\n",
       "zhang_wt_mouse_d10_vs_zhang_input_library      65\n",
       "zhang_wt_mouse_d45_vs_zhang_input_library      65\n",
       "Length: 65, dtype: int64"
      ]
     },
     "execution_count": 109,
     "metadata": {},
     "output_type": "execute_result"
    }
   ],
   "source": [
    "lfc.isna().sum()"
   ]
  },
  {
   "cell_type": "code",
   "execution_count": 110,
   "metadata": {
    "ExecuteTime": {
     "end_time": "2020-02-17T20:42:03.980435Z",
     "start_time": "2020-02-17T20:42:03.594300Z"
    }
   },
   "outputs": [],
   "source": [
    "lfc = lfc.dropna(axis=0)\n",
    "lfc = lfc.T.reset_index()\n",
    "lfc.columns = list(lfc.iloc[0, :])\n",
    "lfc = lfc.iloc[1:, :]\n",
    "lfc = lfc.rename(columns={'Rv_ID': 'Dataset'})"
   ]
  },
  {
   "cell_type": "code",
   "execution_count": 111,
   "metadata": {
    "ExecuteTime": {
     "end_time": "2020-02-17T20:42:03.980435Z",
     "start_time": "2020-02-17T20:42:03.594300Z"
    }
   },
   "outputs": [
    {
     "data": {
      "text/html": [
       "<div>\n",
       "<style scoped>\n",
       "    .dataframe tbody tr th:only-of-type {\n",
       "        vertical-align: middle;\n",
       "    }\n",
       "\n",
       "    .dataframe tbody tr th {\n",
       "        vertical-align: top;\n",
       "    }\n",
       "\n",
       "    .dataframe thead th {\n",
       "        text-align: right;\n",
       "    }\n",
       "</style>\n",
       "<table border=\"1\" class=\"dataframe\">\n",
       "  <thead>\n",
       "    <tr style=\"text-align: right;\">\n",
       "      <th></th>\n",
       "      <th>Dataset</th>\n",
       "      <th>Rv0001</th>\n",
       "      <th>Rv0002</th>\n",
       "      <th>Rv0003</th>\n",
       "      <th>Rv0004</th>\n",
       "      <th>Rv0005</th>\n",
       "      <th>Rv0006</th>\n",
       "      <th>Rv0007</th>\n",
       "      <th>Rv0008c</th>\n",
       "      <th>Rv0009</th>\n",
       "      <th>...</th>\n",
       "      <th>Rv3916c</th>\n",
       "      <th>Rv3917c</th>\n",
       "      <th>Rv3918c</th>\n",
       "      <th>Rv3919c</th>\n",
       "      <th>Rv3920c</th>\n",
       "      <th>Rv3921c</th>\n",
       "      <th>Rv3922c</th>\n",
       "      <th>Rv3923c</th>\n",
       "      <th>Rv3924c</th>\n",
       "      <th>Label</th>\n",
       "    </tr>\n",
       "  </thead>\n",
       "  <tbody>\n",
       "    <tr>\n",
       "      <th>0</th>\n",
       "      <td>PE35_KO_vs_mbio_H37Rv</td>\n",
       "      <td>-0.41</td>\n",
       "      <td>3.28</td>\n",
       "      <td>-0.03</td>\n",
       "      <td>-3.81</td>\n",
       "      <td>-0.22</td>\n",
       "      <td>0.53</td>\n",
       "      <td>-0.44</td>\n",
       "      <td>-0.22</td>\n",
       "      <td>-0.13</td>\n",
       "      <td>...</td>\n",
       "      <td>0.55</td>\n",
       "      <td>-0.79</td>\n",
       "      <td>-0.01</td>\n",
       "      <td>0.01</td>\n",
       "      <td>0.06</td>\n",
       "      <td>1.98</td>\n",
       "      <td>-0.88</td>\n",
       "      <td>-0.32</td>\n",
       "      <td>0</td>\n",
       "      <td>flute</td>\n",
       "    </tr>\n",
       "    <tr>\n",
       "      <th>1</th>\n",
       "      <td>PPE68_KO_vs_mbio_H37Rv</td>\n",
       "      <td>0.01</td>\n",
       "      <td>2.38</td>\n",
       "      <td>-0.08</td>\n",
       "      <td>-3.39</td>\n",
       "      <td>0.14</td>\n",
       "      <td>0.37</td>\n",
       "      <td>-0.14</td>\n",
       "      <td>-0</td>\n",
       "      <td>-0.12</td>\n",
       "      <td>...</td>\n",
       "      <td>1.11</td>\n",
       "      <td>-0.04</td>\n",
       "      <td>0.16</td>\n",
       "      <td>0.29</td>\n",
       "      <td>0</td>\n",
       "      <td>1.92</td>\n",
       "      <td>-0.37</td>\n",
       "      <td>0.1</td>\n",
       "      <td>0</td>\n",
       "      <td>flute</td>\n",
       "    </tr>\n",
       "    <tr>\n",
       "      <th>2</th>\n",
       "      <td>Rv0950c_KO_vs_CB_WT</td>\n",
       "      <td>0</td>\n",
       "      <td>0</td>\n",
       "      <td>0.03</td>\n",
       "      <td>-2.6</td>\n",
       "      <td>0.13</td>\n",
       "      <td>-1.21</td>\n",
       "      <td>-0.47</td>\n",
       "      <td>0.43</td>\n",
       "      <td>-0.1</td>\n",
       "      <td>...</td>\n",
       "      <td>-0.15</td>\n",
       "      <td>-0.98</td>\n",
       "      <td>0.17</td>\n",
       "      <td>0.63</td>\n",
       "      <td>0.26</td>\n",
       "      <td>0.25</td>\n",
       "      <td>-0.12</td>\n",
       "      <td>-1.75</td>\n",
       "      <td>0</td>\n",
       "      <td>flute</td>\n",
       "    </tr>\n",
       "    <tr>\n",
       "      <th>3</th>\n",
       "      <td>Rv0954_KO_vs_RJ_WT</td>\n",
       "      <td>0</td>\n",
       "      <td>0</td>\n",
       "      <td>-1.2</td>\n",
       "      <td>-6.83</td>\n",
       "      <td>-0.08</td>\n",
       "      <td>1.66</td>\n",
       "      <td>-1.21</td>\n",
       "      <td>-0.51</td>\n",
       "      <td>0.78</td>\n",
       "      <td>...</td>\n",
       "      <td>3.06</td>\n",
       "      <td>3.94</td>\n",
       "      <td>-3.28</td>\n",
       "      <td>-1.56</td>\n",
       "      <td>-1.73</td>\n",
       "      <td>0.16</td>\n",
       "      <td>-0.82</td>\n",
       "      <td>3.01</td>\n",
       "      <td>0</td>\n",
       "      <td>flute</td>\n",
       "    </tr>\n",
       "    <tr>\n",
       "      <th>4</th>\n",
       "      <td>Rv1096_KO_vs_CB_WT</td>\n",
       "      <td>0</td>\n",
       "      <td>0</td>\n",
       "      <td>0.39</td>\n",
       "      <td>1.54</td>\n",
       "      <td>0.27</td>\n",
       "      <td>0.25</td>\n",
       "      <td>-0.34</td>\n",
       "      <td>0.58</td>\n",
       "      <td>0.11</td>\n",
       "      <td>...</td>\n",
       "      <td>-0.27</td>\n",
       "      <td>-0.32</td>\n",
       "      <td>-0.21</td>\n",
       "      <td>0.52</td>\n",
       "      <td>-0.05</td>\n",
       "      <td>0.87</td>\n",
       "      <td>0.47</td>\n",
       "      <td>0.28</td>\n",
       "      <td>0</td>\n",
       "      <td>flute</td>\n",
       "    </tr>\n",
       "  </tbody>\n",
       "</table>\n",
       "<p>5 rows × 3973 columns</p>\n",
       "</div>"
      ],
      "text/plain": [
       "                  Dataset Rv0001 Rv0002 Rv0003 Rv0004 Rv0005 Rv0006 Rv0007  \\\n",
       "0   PE35_KO_vs_mbio_H37Rv  -0.41   3.28  -0.03  -3.81  -0.22   0.53  -0.44   \n",
       "1  PPE68_KO_vs_mbio_H37Rv   0.01   2.38  -0.08  -3.39   0.14   0.37  -0.14   \n",
       "2     Rv0950c_KO_vs_CB_WT      0      0   0.03   -2.6   0.13  -1.21  -0.47   \n",
       "3      Rv0954_KO_vs_RJ_WT      0      0   -1.2  -6.83  -0.08   1.66  -1.21   \n",
       "4      Rv1096_KO_vs_CB_WT      0      0   0.39   1.54   0.27   0.25  -0.34   \n",
       "\n",
       "  Rv0008c Rv0009  ... Rv3916c Rv3917c Rv3918c Rv3919c Rv3920c Rv3921c Rv3922c  \\\n",
       "0   -0.22  -0.13  ...    0.55   -0.79   -0.01    0.01    0.06    1.98   -0.88   \n",
       "1      -0  -0.12  ...    1.11   -0.04    0.16    0.29       0    1.92   -0.37   \n",
       "2    0.43   -0.1  ...   -0.15   -0.98    0.17    0.63    0.26    0.25   -0.12   \n",
       "3   -0.51   0.78  ...    3.06    3.94   -3.28   -1.56   -1.73    0.16   -0.82   \n",
       "4    0.58   0.11  ...   -0.27   -0.32   -0.21    0.52   -0.05    0.87    0.47   \n",
       "\n",
       "  Rv3923c Rv3924c  Label  \n",
       "0   -0.32       0  flute  \n",
       "1     0.1       0  flute  \n",
       "2   -1.75       0  flute  \n",
       "3    3.01       0  flute  \n",
       "4    0.28       0  flute  \n",
       "\n",
       "[5 rows x 3973 columns]"
      ]
     },
     "execution_count": 111,
     "metadata": {},
     "output_type": "execute_result"
    }
   ],
   "source": [
    "dataset_labels = pd.read_csv('../data/standardized_data_labels.csv')\n",
    "lfc = lfc.merge(dataset_labels, how='left', on='Dataset')\n",
    "lfc.head()"
   ]
  },
  {
   "cell_type": "code",
   "execution_count": 112,
   "metadata": {
    "ExecuteTime": {
     "end_time": "2020-02-17T20:42:04.026648Z",
     "start_time": "2020-02-17T20:42:04.014807Z"
    }
   },
   "outputs": [],
   "source": [
    "value_cols = [col for col in lfc.columns if col not in ['Dataset', 'Label']]"
   ]
  },
  {
   "cell_type": "code",
   "execution_count": 113,
   "metadata": {
    "ExecuteTime": {
     "end_time": "2020-02-17T20:42:04.042214Z",
     "start_time": "2020-02-17T20:42:04.031622Z"
    }
   },
   "outputs": [],
   "source": [
    "from sklearn.decomposition import PCA\n",
    "from sklearn.preprocessing import StandardScaler\n",
    "from plotnine import *"
   ]
  },
  {
   "cell_type": "code",
   "execution_count": 114,
   "metadata": {
    "ExecuteTime": {
     "end_time": "2020-02-17T20:42:04.119342Z",
     "start_time": "2020-02-17T20:42:04.046191Z"
    }
   },
   "outputs": [
    {
     "name": "stdout",
     "output_type": "stream",
     "text": [
      "[0.15063175 0.08558577 0.05897992]\n"
     ]
    }
   ],
   "source": [
    "lfc_scaled = StandardScaler().fit_transform(lfc[value_cols])\n",
    "pca = PCA(3)\n",
    "pca_results = pca.fit_transform(lfc_scaled)\n",
    "# print(pca_results)\n",
    "explained_var = pca.explained_variance_ratio_\n",
    "print(pca.explained_variance_ratio_)\n",
    "pca_df = pd.DataFrame(pca_results, columns=['pca1', 'pca2', 'pca3'])"
   ]
  },
  {
   "cell_type": "code",
   "execution_count": 115,
   "metadata": {
    "ExecuteTime": {
     "end_time": "2020-02-17T20:42:04.148369Z",
     "start_time": "2020-02-17T20:42:04.119342Z"
    }
   },
   "outputs": [],
   "source": [
    "lfc = lfc.merge(pca_df, left_index=True, right_index=True)"
   ]
  },
  {
   "cell_type": "code",
   "execution_count": 116,
   "metadata": {
    "ExecuteTime": {
     "end_time": "2020-02-17T20:42:04.228085Z",
     "start_time": "2020-02-17T20:42:04.151365Z"
    }
   },
   "outputs": [
    {
     "data": {
      "text/html": [
       "<div>\n",
       "<style scoped>\n",
       "    .dataframe tbody tr th:only-of-type {\n",
       "        vertical-align: middle;\n",
       "    }\n",
       "\n",
       "    .dataframe tbody tr th {\n",
       "        vertical-align: top;\n",
       "    }\n",
       "\n",
       "    .dataframe thead th {\n",
       "        text-align: right;\n",
       "    }\n",
       "</style>\n",
       "<table border=\"1\" class=\"dataframe\">\n",
       "  <thead>\n",
       "    <tr style=\"text-align: right;\">\n",
       "      <th></th>\n",
       "      <th>Dataset</th>\n",
       "      <th>Rv0001</th>\n",
       "      <th>Rv0002</th>\n",
       "      <th>Rv0003</th>\n",
       "      <th>Rv0004</th>\n",
       "      <th>Rv0005</th>\n",
       "      <th>Rv0006</th>\n",
       "      <th>Rv0007</th>\n",
       "      <th>Rv0008c</th>\n",
       "      <th>Rv0009</th>\n",
       "      <th>...</th>\n",
       "      <th>Rv3919c</th>\n",
       "      <th>Rv3920c</th>\n",
       "      <th>Rv3921c</th>\n",
       "      <th>Rv3922c</th>\n",
       "      <th>Rv3923c</th>\n",
       "      <th>Rv3924c</th>\n",
       "      <th>Label</th>\n",
       "      <th>pca1</th>\n",
       "      <th>pca2</th>\n",
       "      <th>pca3</th>\n",
       "    </tr>\n",
       "  </thead>\n",
       "  <tbody>\n",
       "    <tr>\n",
       "      <th>0</th>\n",
       "      <td>PE35_KO_vs_mbio_H37Rv</td>\n",
       "      <td>-0.41</td>\n",
       "      <td>3.28</td>\n",
       "      <td>-0.03</td>\n",
       "      <td>-3.81</td>\n",
       "      <td>-0.22</td>\n",
       "      <td>0.53</td>\n",
       "      <td>-0.44</td>\n",
       "      <td>-0.22</td>\n",
       "      <td>-0.13</td>\n",
       "      <td>...</td>\n",
       "      <td>0.01</td>\n",
       "      <td>0.06</td>\n",
       "      <td>1.98</td>\n",
       "      <td>-0.88</td>\n",
       "      <td>-0.32</td>\n",
       "      <td>0</td>\n",
       "      <td>flute</td>\n",
       "      <td>-3.525756</td>\n",
       "      <td>-0.519760</td>\n",
       "      <td>-2.542578</td>\n",
       "    </tr>\n",
       "    <tr>\n",
       "      <th>1</th>\n",
       "      <td>PPE68_KO_vs_mbio_H37Rv</td>\n",
       "      <td>0.01</td>\n",
       "      <td>2.38</td>\n",
       "      <td>-0.08</td>\n",
       "      <td>-3.39</td>\n",
       "      <td>0.14</td>\n",
       "      <td>0.37</td>\n",
       "      <td>-0.14</td>\n",
       "      <td>-0</td>\n",
       "      <td>-0.12</td>\n",
       "      <td>...</td>\n",
       "      <td>0.29</td>\n",
       "      <td>0</td>\n",
       "      <td>1.92</td>\n",
       "      <td>-0.37</td>\n",
       "      <td>0.1</td>\n",
       "      <td>0</td>\n",
       "      <td>flute</td>\n",
       "      <td>-3.103914</td>\n",
       "      <td>-0.507246</td>\n",
       "      <td>-2.758270</td>\n",
       "    </tr>\n",
       "    <tr>\n",
       "      <th>2</th>\n",
       "      <td>Rv0950c_KO_vs_CB_WT</td>\n",
       "      <td>0</td>\n",
       "      <td>0</td>\n",
       "      <td>0.03</td>\n",
       "      <td>-2.6</td>\n",
       "      <td>0.13</td>\n",
       "      <td>-1.21</td>\n",
       "      <td>-0.47</td>\n",
       "      <td>0.43</td>\n",
       "      <td>-0.1</td>\n",
       "      <td>...</td>\n",
       "      <td>0.63</td>\n",
       "      <td>0.26</td>\n",
       "      <td>0.25</td>\n",
       "      <td>-0.12</td>\n",
       "      <td>-1.75</td>\n",
       "      <td>0</td>\n",
       "      <td>flute</td>\n",
       "      <td>-6.462516</td>\n",
       "      <td>1.631612</td>\n",
       "      <td>-0.460153</td>\n",
       "    </tr>\n",
       "    <tr>\n",
       "      <th>3</th>\n",
       "      <td>Rv0954_KO_vs_RJ_WT</td>\n",
       "      <td>0</td>\n",
       "      <td>0</td>\n",
       "      <td>-1.2</td>\n",
       "      <td>-6.83</td>\n",
       "      <td>-0.08</td>\n",
       "      <td>1.66</td>\n",
       "      <td>-1.21</td>\n",
       "      <td>-0.51</td>\n",
       "      <td>0.78</td>\n",
       "      <td>...</td>\n",
       "      <td>-1.56</td>\n",
       "      <td>-1.73</td>\n",
       "      <td>0.16</td>\n",
       "      <td>-0.82</td>\n",
       "      <td>3.01</td>\n",
       "      <td>0</td>\n",
       "      <td>flute</td>\n",
       "      <td>-7.649744</td>\n",
       "      <td>1.311634</td>\n",
       "      <td>0.241836</td>\n",
       "    </tr>\n",
       "    <tr>\n",
       "      <th>4</th>\n",
       "      <td>Rv1096_KO_vs_CB_WT</td>\n",
       "      <td>0</td>\n",
       "      <td>0</td>\n",
       "      <td>0.39</td>\n",
       "      <td>1.54</td>\n",
       "      <td>0.27</td>\n",
       "      <td>0.25</td>\n",
       "      <td>-0.34</td>\n",
       "      <td>0.58</td>\n",
       "      <td>0.11</td>\n",
       "      <td>...</td>\n",
       "      <td>0.52</td>\n",
       "      <td>-0.05</td>\n",
       "      <td>0.87</td>\n",
       "      <td>0.47</td>\n",
       "      <td>0.28</td>\n",
       "      <td>0</td>\n",
       "      <td>flute</td>\n",
       "      <td>-6.403935</td>\n",
       "      <td>1.056729</td>\n",
       "      <td>-2.379185</td>\n",
       "    </tr>\n",
       "    <tr>\n",
       "      <th>...</th>\n",
       "      <td>...</td>\n",
       "      <td>...</td>\n",
       "      <td>...</td>\n",
       "      <td>...</td>\n",
       "      <td>...</td>\n",
       "      <td>...</td>\n",
       "      <td>...</td>\n",
       "      <td>...</td>\n",
       "      <td>...</td>\n",
       "      <td>...</td>\n",
       "      <td>...</td>\n",
       "      <td>...</td>\n",
       "      <td>...</td>\n",
       "      <td>...</td>\n",
       "      <td>...</td>\n",
       "      <td>...</td>\n",
       "      <td>...</td>\n",
       "      <td>...</td>\n",
       "      <td>...</td>\n",
       "      <td>...</td>\n",
       "      <td>...</td>\n",
       "    </tr>\n",
       "    <tr>\n",
       "      <th>59</th>\n",
       "      <td>zhang_Tyloxapol_pH_6.5_vs_zhang_pcit_pH_4.5</td>\n",
       "      <td>0</td>\n",
       "      <td>0</td>\n",
       "      <td>0.41</td>\n",
       "      <td>0</td>\n",
       "      <td>2.2</td>\n",
       "      <td>-2.05</td>\n",
       "      <td>0</td>\n",
       "      <td>0.15</td>\n",
       "      <td>-0.24</td>\n",
       "      <td>...</td>\n",
       "      <td>0.73</td>\n",
       "      <td>1.7</td>\n",
       "      <td>0</td>\n",
       "      <td>-0.76</td>\n",
       "      <td>0</td>\n",
       "      <td>0</td>\n",
       "      <td>zhang</td>\n",
       "      <td>-6.076601</td>\n",
       "      <td>-2.262722</td>\n",
       "      <td>-2.626482</td>\n",
       "    </tr>\n",
       "    <tr>\n",
       "      <th>60</th>\n",
       "      <td>zhang_mhcii_mouse_d10_vs_zhang_wt_mouse_d10</td>\n",
       "      <td>0</td>\n",
       "      <td>0</td>\n",
       "      <td>1.3</td>\n",
       "      <td>0</td>\n",
       "      <td>-4.05</td>\n",
       "      <td>-2.93</td>\n",
       "      <td>-0.9</td>\n",
       "      <td>-0.26</td>\n",
       "      <td>0.26</td>\n",
       "      <td>...</td>\n",
       "      <td>0.54</td>\n",
       "      <td>2.99</td>\n",
       "      <td>0</td>\n",
       "      <td>1.65</td>\n",
       "      <td>0</td>\n",
       "      <td>0</td>\n",
       "      <td>zhang</td>\n",
       "      <td>-5.429591</td>\n",
       "      <td>-1.028559</td>\n",
       "      <td>-13.389250</td>\n",
       "    </tr>\n",
       "    <tr>\n",
       "      <th>61</th>\n",
       "      <td>zhang_mhcii_mouse_d45_vs_zhang_wt_mouse_d45</td>\n",
       "      <td>0</td>\n",
       "      <td>0</td>\n",
       "      <td>-0.49</td>\n",
       "      <td>0.7</td>\n",
       "      <td>0.3</td>\n",
       "      <td>0.87</td>\n",
       "      <td>3.05</td>\n",
       "      <td>0.44</td>\n",
       "      <td>1.99</td>\n",
       "      <td>...</td>\n",
       "      <td>-1.56</td>\n",
       "      <td>0.75</td>\n",
       "      <td>0</td>\n",
       "      <td>-0.93</td>\n",
       "      <td>1.6</td>\n",
       "      <td>0</td>\n",
       "      <td>zhang</td>\n",
       "      <td>-1.974808</td>\n",
       "      <td>-2.947275</td>\n",
       "      <td>-10.195836</td>\n",
       "    </tr>\n",
       "    <tr>\n",
       "      <th>62</th>\n",
       "      <td>zhang_wt_mouse_d10_vs_zhang_input_library</td>\n",
       "      <td>0</td>\n",
       "      <td>0</td>\n",
       "      <td>-1.26</td>\n",
       "      <td>-2.62</td>\n",
       "      <td>0.69</td>\n",
       "      <td>3.7</td>\n",
       "      <td>-2.77</td>\n",
       "      <td>2.11</td>\n",
       "      <td>-1.39</td>\n",
       "      <td>...</td>\n",
       "      <td>-1.02</td>\n",
       "      <td>-7.54</td>\n",
       "      <td>0</td>\n",
       "      <td>-2.15</td>\n",
       "      <td>-3.8</td>\n",
       "      <td>0</td>\n",
       "      <td>zhang</td>\n",
       "      <td>-3.568598</td>\n",
       "      <td>9.392064</td>\n",
       "      <td>24.541046</td>\n",
       "    </tr>\n",
       "    <tr>\n",
       "      <th>63</th>\n",
       "      <td>zhang_wt_mouse_d45_vs_zhang_input_library</td>\n",
       "      <td>0</td>\n",
       "      <td>0</td>\n",
       "      <td>-2.25</td>\n",
       "      <td>-2.62</td>\n",
       "      <td>-3.55</td>\n",
       "      <td>3.67</td>\n",
       "      <td>-7.24</td>\n",
       "      <td>0.59</td>\n",
       "      <td>-4.1</td>\n",
       "      <td>...</td>\n",
       "      <td>-3.47</td>\n",
       "      <td>-5.43</td>\n",
       "      <td>0</td>\n",
       "      <td>-2.06</td>\n",
       "      <td>-3.8</td>\n",
       "      <td>0</td>\n",
       "      <td>zhang</td>\n",
       "      <td>-11.533950</td>\n",
       "      <td>20.822268</td>\n",
       "      <td>37.808789</td>\n",
       "    </tr>\n",
       "  </tbody>\n",
       "</table>\n",
       "<p>64 rows × 3976 columns</p>\n",
       "</div>"
      ],
      "text/plain": [
       "                                        Dataset Rv0001 Rv0002 Rv0003 Rv0004  \\\n",
       "0                         PE35_KO_vs_mbio_H37Rv  -0.41   3.28  -0.03  -3.81   \n",
       "1                        PPE68_KO_vs_mbio_H37Rv   0.01   2.38  -0.08  -3.39   \n",
       "2                           Rv0950c_KO_vs_CB_WT      0      0   0.03   -2.6   \n",
       "3                            Rv0954_KO_vs_RJ_WT      0      0   -1.2  -6.83   \n",
       "4                            Rv1096_KO_vs_CB_WT      0      0   0.39   1.54   \n",
       "..                                          ...    ...    ...    ...    ...   \n",
       "59  zhang_Tyloxapol_pH_6.5_vs_zhang_pcit_pH_4.5      0      0   0.41      0   \n",
       "60  zhang_mhcii_mouse_d10_vs_zhang_wt_mouse_d10      0      0    1.3      0   \n",
       "61  zhang_mhcii_mouse_d45_vs_zhang_wt_mouse_d45      0      0  -0.49    0.7   \n",
       "62    zhang_wt_mouse_d10_vs_zhang_input_library      0      0  -1.26  -2.62   \n",
       "63    zhang_wt_mouse_d45_vs_zhang_input_library      0      0  -2.25  -2.62   \n",
       "\n",
       "   Rv0005 Rv0006 Rv0007 Rv0008c Rv0009  ... Rv3919c Rv3920c Rv3921c Rv3922c  \\\n",
       "0   -0.22   0.53  -0.44   -0.22  -0.13  ...    0.01    0.06    1.98   -0.88   \n",
       "1    0.14   0.37  -0.14      -0  -0.12  ...    0.29       0    1.92   -0.37   \n",
       "2    0.13  -1.21  -0.47    0.43   -0.1  ...    0.63    0.26    0.25   -0.12   \n",
       "3   -0.08   1.66  -1.21   -0.51   0.78  ...   -1.56   -1.73    0.16   -0.82   \n",
       "4    0.27   0.25  -0.34    0.58   0.11  ...    0.52   -0.05    0.87    0.47   \n",
       "..    ...    ...    ...     ...    ...  ...     ...     ...     ...     ...   \n",
       "59    2.2  -2.05      0    0.15  -0.24  ...    0.73     1.7       0   -0.76   \n",
       "60  -4.05  -2.93   -0.9   -0.26   0.26  ...    0.54    2.99       0    1.65   \n",
       "61    0.3   0.87   3.05    0.44   1.99  ...   -1.56    0.75       0   -0.93   \n",
       "62   0.69    3.7  -2.77    2.11  -1.39  ...   -1.02   -7.54       0   -2.15   \n",
       "63  -3.55   3.67  -7.24    0.59   -4.1  ...   -3.47   -5.43       0   -2.06   \n",
       "\n",
       "   Rv3923c Rv3924c  Label       pca1       pca2       pca3  \n",
       "0    -0.32       0  flute  -3.525756  -0.519760  -2.542578  \n",
       "1      0.1       0  flute  -3.103914  -0.507246  -2.758270  \n",
       "2    -1.75       0  flute  -6.462516   1.631612  -0.460153  \n",
       "3     3.01       0  flute  -7.649744   1.311634   0.241836  \n",
       "4     0.28       0  flute  -6.403935   1.056729  -2.379185  \n",
       "..     ...     ...    ...        ...        ...        ...  \n",
       "59       0       0  zhang  -6.076601  -2.262722  -2.626482  \n",
       "60       0       0  zhang  -5.429591  -1.028559 -13.389250  \n",
       "61     1.6       0  zhang  -1.974808  -2.947275 -10.195836  \n",
       "62    -3.8       0  zhang  -3.568598   9.392064  24.541046  \n",
       "63    -3.8       0  zhang -11.533950  20.822268  37.808789  \n",
       "\n",
       "[64 rows x 3976 columns]"
      ]
     },
     "execution_count": 116,
     "metadata": {},
     "output_type": "execute_result"
    }
   ],
   "source": [
    "lfc"
   ]
  },
  {
   "cell_type": "code",
   "execution_count": 117,
   "metadata": {
    "ExecuteTime": {
     "end_time": "2020-02-17T20:42:05.139940Z",
     "start_time": "2020-02-17T20:42:04.228085Z"
    }
   },
   "outputs": [
    {
     "data": {
      "image/png": "[encoded data removed]",
      "text/plain": [
       "<Figure size 640x480 with 1 Axes>"
      ]
     },
     "metadata": {},
     "output_type": "display_data"
    },
    {
     "data": {
      "text/plain": [
       "<ggplot: (8782978016285)>"
      ]
     },
     "execution_count": 117,
     "metadata": {},
     "output_type": "execute_result"
    }
   ],
   "source": [
    "(ggplot(lfc, aes(x='pca1', y='pca2', color='Label'))\n",
    " + geom_point()\n",
    " + theme_light()\n",
    " #+ geom_label(label=lfc.index, size=5, nudge_x=10)\n",
    " + xlab(f'pca1 {np.round(explained_var[0], 2)}')\n",
    " + ylab(f'pca2 {np.round(explained_var[1], 2)}')\n",
    " )"
   ]
  },
  {
   "cell_type": "code",
   "execution_count": 118,
   "metadata": {},
   "outputs": [
    {
     "data": {
      "image/png": "[encoded data removed]",
      "text/plain": [
       "<Figure size 640x480 with 1 Axes>"
      ]
     },
     "metadata": {},
     "output_type": "display_data"
    },
    {
     "data": {
      "text/plain": [
       "<ggplot: (8782978042273)>"
      ]
     },
     "execution_count": 118,
     "metadata": {},
     "output_type": "execute_result"
    }
   ],
   "source": [
    "(ggplot(lfc, aes(x='pca2', y='pca3', color='Label'))\n",
    " + geom_point()\n",
    " + theme_light()\n",
    " #+ geom_label(label=lfc.index, size=5, nudge_x=10)\n",
    " + xlab(f'pca2 {np.round(explained_var[1], 2)}')\n",
    " + ylab(f'pca3 {np.round(explained_var[2], 2)}')\n",
    " )"
   ]
  },
  {
   "cell_type": "code",
   "execution_count": 119,
   "metadata": {
    "ExecuteTime": {
     "end_time": "2020-02-17T20:42:05.991292Z",
     "start_time": "2020-02-17T20:42:05.975605Z"
    }
   },
   "outputs": [],
   "source": [
    "from sklearn.manifold import TSNE"
   ]
  },
  {
   "cell_type": "code",
   "execution_count": 120,
   "metadata": {
    "ExecuteTime": {
     "end_time": "2020-02-17T20:42:06.447328Z",
     "start_time": "2020-02-17T20:42:05.997297Z"
    }
   },
   "outputs": [],
   "source": [
    "tsne = TSNE(n_components=2).fit_transform(lfc_scaled)"
   ]
  },
  {
   "cell_type": "code",
   "execution_count": 121,
   "metadata": {
    "ExecuteTime": {
     "end_time": "2020-02-17T20:42:08.808783Z",
     "start_time": "2020-02-17T20:42:08.793421Z"
    }
   },
   "outputs": [],
   "source": [
    "tsne = pd.DataFrame(tsne, columns=['tsne1', 'tsne2'])"
   ]
  },
  {
   "cell_type": "code",
   "execution_count": 122,
   "metadata": {
    "ExecuteTime": {
     "end_time": "2020-02-17T20:42:09.027248Z",
     "start_time": "2020-02-17T20:42:09.011561Z"
    }
   },
   "outputs": [],
   "source": [
    "lfc = lfc.merge(tsne, left_index=True, right_index=True)"
   ]
  },
  {
   "cell_type": "code",
   "execution_count": 123,
   "metadata": {
    "ExecuteTime": {
     "end_time": "2020-02-17T20:42:09.599777Z",
     "start_time": "2020-02-17T20:42:09.343403Z"
    }
   },
   "outputs": [
    {
     "data": {
      "image/png": "[encoded data removed]",
      "text/plain": [
       "<Figure size 640x480 with 1 Axes>"
      ]
     },
     "metadata": {},
     "output_type": "display_data"
    },
    {
     "data": {
      "text/plain": [
       "<ggplot: (8782977978929)>"
      ]
     },
     "execution_count": 123,
     "metadata": {},
     "output_type": "execute_result"
    }
   ],
   "source": [
    "(ggplot(lfc, aes(x='tsne1', y='tsne2'))+geom_point()+theme_light())"
   ]
  },
  {
   "cell_type": "code",
   "execution_count": 162,
   "metadata": {
    "ExecuteTime": {
     "end_time": "2020-02-17T20:44:39.026699Z",
     "start_time": "2020-02-17T20:44:34.692309Z"
    }
   },
   "outputs": [],
   "source": [
    "import scipy.cluster.hierarchy as shc\n",
    "import palettable\n",
    "# shc.set_link_color_palette(['#e41a1c','#377eb8','#4daf4a','#984ea3','#ff7f00','#ffff33','#a65628','#f781bf'])\n",
    "import matplotlib.pyplot as plt\n",
    "Z = shc.linkage(lfc[value_cols], method='ward', optimal_ordering=True)"
   ]
  },
  {
   "cell_type": "code",
   "execution_count": 174,
   "metadata": {},
   "outputs": [],
   "source": [
    "# shc.set_link_color_palette(['#1b9e77','#d95f02','#7570b3','#e7298a','#66a61e','#e6ab02','#a6761d','#666666'])\n",
    "# shc.set_link_color_palette(['#000000']*9)\n",
    "palette = palettable.colorbrewer.qualitative.Dark2_8.hex_colors\n",
    "palette.append('#000000')\n",
    "shc.set_link_color_palette(palette)"
   ]
  },
  {
   "cell_type": "code",
   "execution_count": 167,
   "metadata": {},
   "outputs": [
    {
     "data": {
      "text/plain": [
       "0"
      ]
     },
     "execution_count": 167,
     "metadata": {},
     "output_type": "execute_result"
    }
   ],
   "source": [
    "lfc.Label.isna().sum()"
   ]
  },
  {
   "cell_type": "code",
   "execution_count": 168,
   "metadata": {},
   "outputs": [
    {
     "name": "stdout",
     "output_type": "stream",
     "text": [
      "(64, 3971) (63, 4)\n"
     ]
    }
   ],
   "source": [
    "print(lfc[value_cols].shape, Z.shape)"
   ]
  },
  {
   "cell_type": "code",
   "execution_count": null,
   "metadata": {},
   "outputs": [],
   "source": []
  },
  {
   "cell_type": "code",
   "execution_count": 187,
   "metadata": {
    "ExecuteTime": {
     "end_time": "2020-02-17T20:44:39.026699Z",
     "start_time": "2020-02-17T20:44:34.692309Z"
    }
   },
   "outputs": [
    {
     "data": {
      "image/png": "[encoded data removed]",
      "text/plain": [
       "<Figure size 576x1008 with 1 Axes>"
      ]
     },
     "metadata": {
      "needs_background": "light"
     },
     "output_type": "display_data"
    }
   ],
   "source": [
    "fig = plt.figure(figsize=(8, 14))\n",
    "ax = fig.add_subplot(1, 1, 1)\n",
    "shc.dendrogram(Z,  color_threshold=150, labels=lfc.Dataset.to_list(),\n",
    "               orientation='left', above_threshold_color='grey')\n",
    "ax.tick_params(axis='x', which='major', labelsize=11)\n",
    "ax.tick_params(axis='y', which='major', labelsize=10.5)\n",
    "plt.axvline(x=150, c='grey', lw=2, linestyle='dashed')\n",
    "# label_palette = palettable.matplotlib.Inferno_13.hex_colors\n",
    "\n",
    "# # transforme the 'cyl' column in a categorical variable. It will allow to put one color on each level.\n",
    "# cat_label = pd.Categorical(lfc['Label'])\n",
    "# # print(cat_label.codes)\n",
    "# my_color = cat_label.codes\n",
    "\n",
    "# # Apply the right color to each label\n",
    "# ax = plt.gca()\n",
    "# xlbls = ax.get_ymajorticklabels()\n",
    "# num = -1\n",
    "# for lbl in xlbls:\n",
    "#     num += 1\n",
    "#     val = my_color[num]\n",
    "#     lbl.set_color(label_palette[val])\n",
    "\n",
    "\n",
    "fig.savefig('dataset_dendrogram.jpg', bbox_inches='tight', dpi=500)"
   ]
  },
  {
   "cell_type": "code",
   "execution_count": null,
   "metadata": {},
   "outputs": [],
   "source": []
  },
  {
   "cell_type": "code",
   "execution_count": 31,
   "metadata": {
    "ExecuteTime": {
     "end_time": "2020-02-17T20:44:54.123373Z",
     "start_time": "2020-02-17T20:44:54.058214Z"
    }
   },
   "outputs": [],
   "source": [
    "# from sklearn.cluster import AgglomerativeClustering\n",
    "#  hc = AgglomerativeClustering(n_clusters = 3, affinity = 'euclidean', linkage ='ward')\n",
    "# y_hc=hc.fit_predict(lfc[value_cols])"
   ]
  },
  {
   "cell_type": "code",
   "execution_count": 32,
   "metadata": {
    "ExecuteTime": {
     "end_time": "2020-02-17T20:44:54.926759Z",
     "start_time": "2020-02-17T20:44:54.915239Z"
    }
   },
   "outputs": [],
   "source": [
    "# lfc['y_hc']=y_hc"
   ]
  },
  {
   "cell_type": "code",
   "execution_count": 16,
   "metadata": {
    "ExecuteTime": {
     "end_time": "2020-02-17T20:44:55.715209Z",
     "start_time": "2020-02-17T20:44:55.656945Z"
    }
   },
   "outputs": [
    {
     "data": {
      "text/html": [
       "<div>\n",
       "<style scoped>\n",
       "    .dataframe tbody tr th:only-of-type {\n",
       "        vertical-align: middle;\n",
       "    }\n",
       "\n",
       "    .dataframe tbody tr th {\n",
       "        vertical-align: top;\n",
       "    }\n",
       "\n",
       "    .dataframe thead th {\n",
       "        text-align: right;\n",
       "    }\n",
       "</style>\n",
       "<table border=\"1\" class=\"dataframe\">\n",
       "  <thead>\n",
       "    <tr style=\"text-align: right;\">\n",
       "      <th></th>\n",
       "      <th>Rv0003</th>\n",
       "      <th>Rv0004</th>\n",
       "      <th>Rv0007</th>\n",
       "      <th>Rv0008c</th>\n",
       "      <th>Rv0009</th>\n",
       "      <th>Rv0010c</th>\n",
       "      <th>Rv0011c</th>\n",
       "      <th>Rv0012</th>\n",
       "      <th>Rv0016c</th>\n",
       "      <th>Rv0017c</th>\n",
       "      <th>...</th>\n",
       "      <th>Rv3911</th>\n",
       "      <th>Rv3912</th>\n",
       "      <th>Rv3914</th>\n",
       "      <th>Rv3916c</th>\n",
       "      <th>Rv3919c</th>\n",
       "      <th>Rv3920c</th>\n",
       "      <th>Rv3921c</th>\n",
       "      <th>Rv3922c</th>\n",
       "      <th>Rv3923c</th>\n",
       "      <th>Rv3924c</th>\n",
       "    </tr>\n",
       "    <tr>\n",
       "      <th>Dataset</th>\n",
       "      <th></th>\n",
       "      <th></th>\n",
       "      <th></th>\n",
       "      <th></th>\n",
       "      <th></th>\n",
       "      <th></th>\n",
       "      <th></th>\n",
       "      <th></th>\n",
       "      <th></th>\n",
       "      <th></th>\n",
       "      <th></th>\n",
       "      <th></th>\n",
       "      <th></th>\n",
       "      <th></th>\n",
       "      <th></th>\n",
       "      <th></th>\n",
       "      <th></th>\n",
       "      <th></th>\n",
       "      <th></th>\n",
       "      <th></th>\n",
       "      <th></th>\n",
       "    </tr>\n",
       "  </thead>\n",
       "  <tbody>\n",
       "    <tr>\n",
       "      <th>PE35_KO_vs_mbio_H37Rv</th>\n",
       "      <td>-0.03</td>\n",
       "      <td>-3.81</td>\n",
       "      <td>-0.44</td>\n",
       "      <td>-0.22</td>\n",
       "      <td>-0.13</td>\n",
       "      <td>-0.06</td>\n",
       "      <td>0.42</td>\n",
       "      <td>-0.24</td>\n",
       "      <td>0.09</td>\n",
       "      <td>-0.12</td>\n",
       "      <td>...</td>\n",
       "      <td>-0.18</td>\n",
       "      <td>0.26</td>\n",
       "      <td>0.11</td>\n",
       "      <td>0.55</td>\n",
       "      <td>0.01</td>\n",
       "      <td>0.06</td>\n",
       "      <td>1.98</td>\n",
       "      <td>-0.88</td>\n",
       "      <td>-0.32</td>\n",
       "      <td>0</td>\n",
       "    </tr>\n",
       "    <tr>\n",
       "      <th>PPE68_KO_vs_mbio_H37Rv</th>\n",
       "      <td>-0.08</td>\n",
       "      <td>-3.39</td>\n",
       "      <td>-0.14</td>\n",
       "      <td>-0</td>\n",
       "      <td>-0.12</td>\n",
       "      <td>0.07</td>\n",
       "      <td>0.56</td>\n",
       "      <td>-0.74</td>\n",
       "      <td>-0.25</td>\n",
       "      <td>-0.19</td>\n",
       "      <td>...</td>\n",
       "      <td>0.07</td>\n",
       "      <td>0.31</td>\n",
       "      <td>0.53</td>\n",
       "      <td>1.11</td>\n",
       "      <td>0.29</td>\n",
       "      <td>0</td>\n",
       "      <td>1.92</td>\n",
       "      <td>-0.37</td>\n",
       "      <td>0.1</td>\n",
       "      <td>0</td>\n",
       "    </tr>\n",
       "    <tr>\n",
       "      <th>Rv0950c_KO_vs_CB_WT</th>\n",
       "      <td>0.03</td>\n",
       "      <td>-2.6</td>\n",
       "      <td>-0.47</td>\n",
       "      <td>0.43</td>\n",
       "      <td>-0.1</td>\n",
       "      <td>0.29</td>\n",
       "      <td>-1.6</td>\n",
       "      <td>0.29</td>\n",
       "      <td>-0.96</td>\n",
       "      <td>-0.65</td>\n",
       "      <td>...</td>\n",
       "      <td>-0.3</td>\n",
       "      <td>0.1</td>\n",
       "      <td>0.7</td>\n",
       "      <td>-0.15</td>\n",
       "      <td>0.63</td>\n",
       "      <td>0.26</td>\n",
       "      <td>0.25</td>\n",
       "      <td>-0.12</td>\n",
       "      <td>-1.75</td>\n",
       "      <td>0</td>\n",
       "    </tr>\n",
       "    <tr>\n",
       "      <th>Rv0954_KO_vs_RJ_WT</th>\n",
       "      <td>-1.2</td>\n",
       "      <td>-6.83</td>\n",
       "      <td>-1.21</td>\n",
       "      <td>-0.51</td>\n",
       "      <td>0.78</td>\n",
       "      <td>0.31</td>\n",
       "      <td>-6.75</td>\n",
       "      <td>-1.12</td>\n",
       "      <td>-4.57</td>\n",
       "      <td>-3.85</td>\n",
       "      <td>...</td>\n",
       "      <td>-0.38</td>\n",
       "      <td>0.36</td>\n",
       "      <td>-2.05</td>\n",
       "      <td>3.06</td>\n",
       "      <td>-1.56</td>\n",
       "      <td>-1.73</td>\n",
       "      <td>0.16</td>\n",
       "      <td>-0.82</td>\n",
       "      <td>3.01</td>\n",
       "      <td>0</td>\n",
       "    </tr>\n",
       "    <tr>\n",
       "      <th>Rv1096_KO_vs_CB_WT</th>\n",
       "      <td>0.39</td>\n",
       "      <td>1.54</td>\n",
       "      <td>-0.34</td>\n",
       "      <td>0.58</td>\n",
       "      <td>0.11</td>\n",
       "      <td>0.26</td>\n",
       "      <td>-1.98</td>\n",
       "      <td>-1.12</td>\n",
       "      <td>-0.84</td>\n",
       "      <td>-0.38</td>\n",
       "      <td>...</td>\n",
       "      <td>-0.17</td>\n",
       "      <td>0.12</td>\n",
       "      <td>1.55</td>\n",
       "      <td>-0.27</td>\n",
       "      <td>0.52</td>\n",
       "      <td>-0.05</td>\n",
       "      <td>0.87</td>\n",
       "      <td>0.47</td>\n",
       "      <td>0.28</td>\n",
       "      <td>0</td>\n",
       "    </tr>\n",
       "    <tr>\n",
       "      <th>...</th>\n",
       "      <td>...</td>\n",
       "      <td>...</td>\n",
       "      <td>...</td>\n",
       "      <td>...</td>\n",
       "      <td>...</td>\n",
       "      <td>...</td>\n",
       "      <td>...</td>\n",
       "      <td>...</td>\n",
       "      <td>...</td>\n",
       "      <td>...</td>\n",
       "      <td>...</td>\n",
       "      <td>...</td>\n",
       "      <td>...</td>\n",
       "      <td>...</td>\n",
       "      <td>...</td>\n",
       "      <td>...</td>\n",
       "      <td>...</td>\n",
       "      <td>...</td>\n",
       "      <td>...</td>\n",
       "      <td>...</td>\n",
       "      <td>...</td>\n",
       "    </tr>\n",
       "    <tr>\n",
       "      <th>zhang_Tyloxapol_pH_6.5_vs_zhang_pcit_pH_4.5</th>\n",
       "      <td>0.41</td>\n",
       "      <td>0</td>\n",
       "      <td>0</td>\n",
       "      <td>0.15</td>\n",
       "      <td>-0.24</td>\n",
       "      <td>-0.16</td>\n",
       "      <td>0</td>\n",
       "      <td>0.45</td>\n",
       "      <td>1.39</td>\n",
       "      <td>-1.39</td>\n",
       "      <td>...</td>\n",
       "      <td>0.22</td>\n",
       "      <td>1.45</td>\n",
       "      <td>0</td>\n",
       "      <td>0.91</td>\n",
       "      <td>0.73</td>\n",
       "      <td>1.7</td>\n",
       "      <td>0</td>\n",
       "      <td>-0.76</td>\n",
       "      <td>0</td>\n",
       "      <td>0</td>\n",
       "    </tr>\n",
       "    <tr>\n",
       "      <th>zhang_mhcii_mouse_d10_vs_zhang_wt_mouse_d10</th>\n",
       "      <td>1.3</td>\n",
       "      <td>0</td>\n",
       "      <td>-0.9</td>\n",
       "      <td>-0.26</td>\n",
       "      <td>0.26</td>\n",
       "      <td>0.09</td>\n",
       "      <td>0</td>\n",
       "      <td>1.3</td>\n",
       "      <td>-2.29</td>\n",
       "      <td>6.59</td>\n",
       "      <td>...</td>\n",
       "      <td>-1.81</td>\n",
       "      <td>0.25</td>\n",
       "      <td>0</td>\n",
       "      <td>-8.39</td>\n",
       "      <td>0.54</td>\n",
       "      <td>2.99</td>\n",
       "      <td>0</td>\n",
       "      <td>1.65</td>\n",
       "      <td>0</td>\n",
       "      <td>0</td>\n",
       "    </tr>\n",
       "    <tr>\n",
       "      <th>zhang_mhcii_mouse_d45_vs_zhang_wt_mouse_d45</th>\n",
       "      <td>-0.49</td>\n",
       "      <td>0.7</td>\n",
       "      <td>3.05</td>\n",
       "      <td>0.44</td>\n",
       "      <td>1.99</td>\n",
       "      <td>1.58</td>\n",
       "      <td>0</td>\n",
       "      <td>-0.17</td>\n",
       "      <td>2.39</td>\n",
       "      <td>1.99</td>\n",
       "      <td>...</td>\n",
       "      <td>0.12</td>\n",
       "      <td>-0.56</td>\n",
       "      <td>2.08</td>\n",
       "      <td>0.52</td>\n",
       "      <td>-1.56</td>\n",
       "      <td>0.75</td>\n",
       "      <td>0</td>\n",
       "      <td>-0.93</td>\n",
       "      <td>1.6</td>\n",
       "      <td>0</td>\n",
       "    </tr>\n",
       "    <tr>\n",
       "      <th>zhang_wt_mouse_d10_vs_zhang_input_library</th>\n",
       "      <td>-1.26</td>\n",
       "      <td>-2.62</td>\n",
       "      <td>-2.77</td>\n",
       "      <td>2.11</td>\n",
       "      <td>-1.39</td>\n",
       "      <td>1.45</td>\n",
       "      <td>-3.5</td>\n",
       "      <td>-1.38</td>\n",
       "      <td>-3.08</td>\n",
       "      <td>-8.4</td>\n",
       "      <td>...</td>\n",
       "      <td>0.66</td>\n",
       "      <td>-1.06</td>\n",
       "      <td>-2.82</td>\n",
       "      <td>2.1</td>\n",
       "      <td>-1.02</td>\n",
       "      <td>-7.54</td>\n",
       "      <td>0</td>\n",
       "      <td>-2.15</td>\n",
       "      <td>-3.8</td>\n",
       "      <td>0</td>\n",
       "    </tr>\n",
       "    <tr>\n",
       "      <th>zhang_wt_mouse_d45_vs_zhang_input_library</th>\n",
       "      <td>-2.25</td>\n",
       "      <td>-2.62</td>\n",
       "      <td>-7.24</td>\n",
       "      <td>0.59</td>\n",
       "      <td>-4.1</td>\n",
       "      <td>0.46</td>\n",
       "      <td>-3.5</td>\n",
       "      <td>-2.21</td>\n",
       "      <td>-5.93</td>\n",
       "      <td>-4.38</td>\n",
       "      <td>...</td>\n",
       "      <td>0.04</td>\n",
       "      <td>-2.14</td>\n",
       "      <td>-2.82</td>\n",
       "      <td>-4.66</td>\n",
       "      <td>-3.47</td>\n",
       "      <td>-5.43</td>\n",
       "      <td>0</td>\n",
       "      <td>-2.06</td>\n",
       "      <td>-3.8</td>\n",
       "      <td>0</td>\n",
       "    </tr>\n",
       "  </tbody>\n",
       "</table>\n",
       "<p>64 rows × 3511 columns</p>\n",
       "</div>"
      ],
      "text/plain": [
       "                                            Rv0003 Rv0004 Rv0007 Rv0008c  \\\n",
       "Dataset                                                                    \n",
       "PE35_KO_vs_mbio_H37Rv                        -0.03  -3.81  -0.44   -0.22   \n",
       "PPE68_KO_vs_mbio_H37Rv                       -0.08  -3.39  -0.14      -0   \n",
       "Rv0950c_KO_vs_CB_WT                           0.03   -2.6  -0.47    0.43   \n",
       "Rv0954_KO_vs_RJ_WT                            -1.2  -6.83  -1.21   -0.51   \n",
       "Rv1096_KO_vs_CB_WT                            0.39   1.54  -0.34    0.58   \n",
       "...                                            ...    ...    ...     ...   \n",
       "zhang_Tyloxapol_pH_6.5_vs_zhang_pcit_pH_4.5   0.41      0      0    0.15   \n",
       "zhang_mhcii_mouse_d10_vs_zhang_wt_mouse_d10    1.3      0   -0.9   -0.26   \n",
       "zhang_mhcii_mouse_d45_vs_zhang_wt_mouse_d45  -0.49    0.7   3.05    0.44   \n",
       "zhang_wt_mouse_d10_vs_zhang_input_library    -1.26  -2.62  -2.77    2.11   \n",
       "zhang_wt_mouse_d45_vs_zhang_input_library    -2.25  -2.62  -7.24    0.59   \n",
       "\n",
       "                                            Rv0009 Rv0010c Rv0011c Rv0012  \\\n",
       "Dataset                                                                     \n",
       "PE35_KO_vs_mbio_H37Rv                        -0.13   -0.06    0.42  -0.24   \n",
       "PPE68_KO_vs_mbio_H37Rv                       -0.12    0.07    0.56  -0.74   \n",
       "Rv0950c_KO_vs_CB_WT                           -0.1    0.29    -1.6   0.29   \n",
       "Rv0954_KO_vs_RJ_WT                            0.78    0.31   -6.75  -1.12   \n",
       "Rv1096_KO_vs_CB_WT                            0.11    0.26   -1.98  -1.12   \n",
       "...                                            ...     ...     ...    ...   \n",
       "zhang_Tyloxapol_pH_6.5_vs_zhang_pcit_pH_4.5  -0.24   -0.16       0   0.45   \n",
       "zhang_mhcii_mouse_d10_vs_zhang_wt_mouse_d10   0.26    0.09       0    1.3   \n",
       "zhang_mhcii_mouse_d45_vs_zhang_wt_mouse_d45   1.99    1.58       0  -0.17   \n",
       "zhang_wt_mouse_d10_vs_zhang_input_library    -1.39    1.45    -3.5  -1.38   \n",
       "zhang_wt_mouse_d45_vs_zhang_input_library     -4.1    0.46    -3.5  -2.21   \n",
       "\n",
       "                                            Rv0016c Rv0017c  ... Rv3911  \\\n",
       "Dataset                                                      ...          \n",
       "PE35_KO_vs_mbio_H37Rv                          0.09   -0.12  ...  -0.18   \n",
       "PPE68_KO_vs_mbio_H37Rv                        -0.25   -0.19  ...   0.07   \n",
       "Rv0950c_KO_vs_CB_WT                           -0.96   -0.65  ...   -0.3   \n",
       "Rv0954_KO_vs_RJ_WT                            -4.57   -3.85  ...  -0.38   \n",
       "Rv1096_KO_vs_CB_WT                            -0.84   -0.38  ...  -0.17   \n",
       "...                                             ...     ...  ...    ...   \n",
       "zhang_Tyloxapol_pH_6.5_vs_zhang_pcit_pH_4.5    1.39   -1.39  ...   0.22   \n",
       "zhang_mhcii_mouse_d10_vs_zhang_wt_mouse_d10   -2.29    6.59  ...  -1.81   \n",
       "zhang_mhcii_mouse_d45_vs_zhang_wt_mouse_d45    2.39    1.99  ...   0.12   \n",
       "zhang_wt_mouse_d10_vs_zhang_input_library     -3.08    -8.4  ...   0.66   \n",
       "zhang_wt_mouse_d45_vs_zhang_input_library     -5.93   -4.38  ...   0.04   \n",
       "\n",
       "                                            Rv3912 Rv3914 Rv3916c Rv3919c  \\\n",
       "Dataset                                                                     \n",
       "PE35_KO_vs_mbio_H37Rv                         0.26   0.11    0.55    0.01   \n",
       "PPE68_KO_vs_mbio_H37Rv                        0.31   0.53    1.11    0.29   \n",
       "Rv0950c_KO_vs_CB_WT                            0.1    0.7   -0.15    0.63   \n",
       "Rv0954_KO_vs_RJ_WT                            0.36  -2.05    3.06   -1.56   \n",
       "Rv1096_KO_vs_CB_WT                            0.12   1.55   -0.27    0.52   \n",
       "...                                            ...    ...     ...     ...   \n",
       "zhang_Tyloxapol_pH_6.5_vs_zhang_pcit_pH_4.5   1.45      0    0.91    0.73   \n",
       "zhang_mhcii_mouse_d10_vs_zhang_wt_mouse_d10   0.25      0   -8.39    0.54   \n",
       "zhang_mhcii_mouse_d45_vs_zhang_wt_mouse_d45  -0.56   2.08    0.52   -1.56   \n",
       "zhang_wt_mouse_d10_vs_zhang_input_library    -1.06  -2.82     2.1   -1.02   \n",
       "zhang_wt_mouse_d45_vs_zhang_input_library    -2.14  -2.82   -4.66   -3.47   \n",
       "\n",
       "                                            Rv3920c Rv3921c Rv3922c Rv3923c  \\\n",
       "Dataset                                                                       \n",
       "PE35_KO_vs_mbio_H37Rv                          0.06    1.98   -0.88   -0.32   \n",
       "PPE68_KO_vs_mbio_H37Rv                            0    1.92   -0.37     0.1   \n",
       "Rv0950c_KO_vs_CB_WT                            0.26    0.25   -0.12   -1.75   \n",
       "Rv0954_KO_vs_RJ_WT                            -1.73    0.16   -0.82    3.01   \n",
       "Rv1096_KO_vs_CB_WT                            -0.05    0.87    0.47    0.28   \n",
       "...                                             ...     ...     ...     ...   \n",
       "zhang_Tyloxapol_pH_6.5_vs_zhang_pcit_pH_4.5     1.7       0   -0.76       0   \n",
       "zhang_mhcii_mouse_d10_vs_zhang_wt_mouse_d10    2.99       0    1.65       0   \n",
       "zhang_mhcii_mouse_d45_vs_zhang_wt_mouse_d45    0.75       0   -0.93     1.6   \n",
       "zhang_wt_mouse_d10_vs_zhang_input_library     -7.54       0   -2.15    -3.8   \n",
       "zhang_wt_mouse_d45_vs_zhang_input_library     -5.43       0   -2.06    -3.8   \n",
       "\n",
       "                                            Rv3924c  \n",
       "Dataset                                              \n",
       "PE35_KO_vs_mbio_H37Rv                             0  \n",
       "PPE68_KO_vs_mbio_H37Rv                            0  \n",
       "Rv0950c_KO_vs_CB_WT                               0  \n",
       "Rv0954_KO_vs_RJ_WT                                0  \n",
       "Rv1096_KO_vs_CB_WT                                0  \n",
       "...                                             ...  \n",
       "zhang_Tyloxapol_pH_6.5_vs_zhang_pcit_pH_4.5       0  \n",
       "zhang_mhcii_mouse_d10_vs_zhang_wt_mouse_d10       0  \n",
       "zhang_mhcii_mouse_d45_vs_zhang_wt_mouse_d45       0  \n",
       "zhang_wt_mouse_d10_vs_zhang_input_library         0  \n",
       "zhang_wt_mouse_d45_vs_zhang_input_library         0  \n",
       "\n",
       "[64 rows x 3511 columns]"
      ]
     },
     "execution_count": 16,
     "metadata": {},
     "output_type": "execute_result"
    }
   ],
   "source": [
    "lfc"
   ]
  },
  {
   "cell_type": "code",
   "execution_count": 141,
   "metadata": {},
   "outputs": [],
   "source": [
    "from sklearn.cluster import KMeans"
   ]
  },
  {
   "cell_type": "code",
   "execution_count": 142,
   "metadata": {},
   "outputs": [],
   "source": [
    "k = lfc.Label.nunique()"
   ]
  },
  {
   "cell_type": "code",
   "execution_count": 144,
   "metadata": {},
   "outputs": [],
   "source": [
    "kmeans = KMeans(n_clusters=k, random_state=42).fit(lfc[value_cols])"
   ]
  },
  {
   "cell_type": "code",
   "execution_count": 145,
   "metadata": {},
   "outputs": [],
   "source": [
    "y_pred = kmeans.predict(lfc[value_cols])"
   ]
  },
  {
   "cell_type": "code",
   "execution_count": 146,
   "metadata": {},
   "outputs": [
    {
     "data": {
      "text/plain": [
       "array([ 4,  4, 10, 10, 10,  5, 10, 10, 10, 10, 10, 10, 10,  1,  1,  1,  1,\n",
       "        1,  1,  1,  1,  7,  3,  2,  2,  0,  6,  6, 10, 11,  9,  0,  8,  4,\n",
       "        4, 10,  4,  4, 10, 10, 12, 10, 10, 10, 10, 10, 10, 10, 10, 10, 10,\n",
       "       10, 10, 10,  7, 10, 10,  7, 10, 10, 10, 10,  7,  7], dtype=int32)"
      ]
     },
     "execution_count": 146,
     "metadata": {},
     "output_type": "execute_result"
    }
   ],
   "source": [
    "y_pred"
   ]
  },
  {
   "cell_type": "code",
   "execution_count": 147,
   "metadata": {},
   "outputs": [
    {
     "data": {
      "text/plain": [
       "0     flute\n",
       "1     flute\n",
       "2     flute\n",
       "3     flute\n",
       "4     flute\n",
       "      ...  \n",
       "59    zhang\n",
       "60    zhang\n",
       "61    zhang\n",
       "62    zhang\n",
       "63    zhang\n",
       "Name: Label, Length: 64, dtype: object"
      ]
     },
     "execution_count": 147,
     "metadata": {},
     "output_type": "execute_result"
    }
   ],
   "source": [
    "lfc.Label"
   ]
  },
  {
   "cell_type": "code",
   "execution_count": 148,
   "metadata": {},
   "outputs": [],
   "source": [
    "from sklearn.metrics import adjusted_rand_score"
   ]
  },
  {
   "cell_type": "code",
   "execution_count": 149,
   "metadata": {},
   "outputs": [
    {
     "data": {
      "text/plain": [
       "0.11884057971014493"
      ]
     },
     "execution_count": 149,
     "metadata": {},
     "output_type": "execute_result"
    }
   ],
   "source": [
    "adjusted_rand_score(y_pred, lfc.Label)"
   ]
  },
  {
   "cell_type": "code",
   "execution_count": 150,
   "metadata": {},
   "outputs": [],
   "source": [
    "from sklearn.cluster import AgglomerativeClustering\n",
    "hc = AgglomerativeClustering(\n",
    "    n_clusters=k, affinity='euclidean', linkage='ward')\n",
    "y_hc = hc.fit_predict(lfc[value_cols])"
   ]
  },
  {
   "cell_type": "code",
   "execution_count": 151,
   "metadata": {},
   "outputs": [
    {
     "data": {
      "text/plain": [
       "0.1398320554947061"
      ]
     },
     "execution_count": 151,
     "metadata": {},
     "output_type": "execute_result"
    }
   ],
   "source": [
    "adjusted_rand_score(y_hc, lfc.Label)"
   ]
  }
 ],
 "metadata": {
  "kernelspec": {
   "display_name": "Python 3",
   "language": "python",
   "name": "python3"
  },
  "language_info": {
   "codemirror_mode": {
    "name": "ipython",
    "version": 3
   },
   "file_extension": ".py",
   "mimetype": "text/x-python",
   "name": "python",
   "nbconvert_exporter": "python",
   "pygments_lexer": "ipython3",
   "version": "3.7.7"
  },
  "toc": {
   "base_numbering": 1,
   "nav_menu": {},
   "number_sections": true,
   "sideBar": true,
   "skip_h1_title": false,
   "title_cell": "Table of Contents",
   "title_sidebar": "Contents",
   "toc_cell": false,
   "toc_position": {},
   "toc_section_display": true,
   "toc_window_display": false
  },
  "varInspector": {
   "cols": {
    "lenName": 16,
    "lenType": 16,
    "lenVar": 40
   },
   "kernels_config": {
    "python": {
     "delete_cmd_postfix": "",
     "delete_cmd_prefix": "del ",
     "library": "var_list.py",
     "varRefreshCmd": "print(var_dic_list())"
    },
    "r": {
     "delete_cmd_postfix": ") ",
     "delete_cmd_prefix": "rm(",
     "library": "var_list.r",
     "varRefreshCmd": "cat(var_dic_list()) "
    }
   },
   "types_to_exclude": [
    "module",
    "function",
    "builtin_function_or_method",
    "instance",
    "_Feature"
   ],
   "window_display": false
  }
 },
 "nbformat": 4,
 "nbformat_minor": 4
}
