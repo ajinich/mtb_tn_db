{
 "cells": [
  {
   "cell_type": "markdown",
   "metadata": {},
   "source": [
    "# Data wrangling for *Mtb*-Tn-Mat project"
   ]
  },
  {
   "cell_type": "markdown",
   "metadata": {},
   "source": [
    "* reads in SI tables / files and compiles them into Pandas dataframe \n",
    "* version 2.0: goal is to have 3 matrices:\n",
    "    1. binary essentiality matrix"
   ]
  },
  {
   "cell_type": "markdown",
   "metadata": {},
   "source": [
    "## Imports modules:"
   ]
  },
  {
   "cell_type": "code",
   "execution_count": 2,
   "metadata": {},
   "outputs": [
    {
     "name": "stdout",
     "output_type": "stream",
     "text": [
      "The autoreload extension is already loaded. To reload it, use:\n",
      "  %reload_ext autoreload\n"
     ]
    }
   ],
   "source": [
    "import pandas as pd\n",
    "import matplotlib.pyplot as plt\n",
    "import os\n",
    "import numpy as np\n",
    "from statsmodels.stats.multitest import multipletests\n",
    "from Tn_data_wrangling import *\n",
    "\n",
    "%load_ext autoreload\n",
    "%autoreload 2\n",
    "\n",
    "pd.options.mode.chained_assignment = None  # default='warn"
   ]
  },
  {
   "cell_type": "markdown",
   "metadata": {},
   "source": [
    "## function definitions:"
   ]
  },
  {
   "cell_type": "markdown",
   "metadata": {},
   "source": [
    "*all function definitions have been moved to Tn_data_wrangling.py*"
   ]
  },
  {
   "cell_type": "markdown",
   "metadata": {},
   "source": [
    "#### Read in full set of Rv_IDs and gene_names from tuberculist annotation: "
   ]
  },
  {
   "cell_type": "code",
   "execution_count": 2,
   "metadata": {},
   "outputs": [],
   "source": [
    "root_dir = '../..'\n",
    "data_path = os.path.join(root_dir, 'data')"
   ]
  },
  {
   "cell_type": "code",
   "execution_count": 3,
   "metadata": {},
   "outputs": [
    {
     "data": {
      "text/html": [
       "<div>\n",
       "<style scoped>\n",
       "    .dataframe tbody tr th:only-of-type {\n",
       "        vertical-align: middle;\n",
       "    }\n",
       "\n",
       "    .dataframe tbody tr th {\n",
       "        vertical-align: top;\n",
       "    }\n",
       "\n",
       "    .dataframe thead th {\n",
       "        text-align: right;\n",
       "    }\n",
       "</style>\n",
       "<table border=\"1\" class=\"dataframe\">\n",
       "  <thead>\n",
       "    <tr style=\"text-align: right;\">\n",
       "      <th></th>\n",
       "      <th>Rv_ID</th>\n",
       "      <th>gene_name</th>\n",
       "    </tr>\n",
       "  </thead>\n",
       "  <tbody>\n",
       "    <tr>\n",
       "      <th>0</th>\n",
       "      <td>Rv0001</td>\n",
       "      <td>dnaA</td>\n",
       "    </tr>\n",
       "    <tr>\n",
       "      <th>1</th>\n",
       "      <td>Rv0002</td>\n",
       "      <td>dnaN</td>\n",
       "    </tr>\n",
       "    <tr>\n",
       "      <th>2</th>\n",
       "      <td>Rv0003</td>\n",
       "      <td>recF</td>\n",
       "    </tr>\n",
       "  </tbody>\n",
       "</table>\n",
       "</div>"
      ],
      "text/plain": [
       "    Rv_ID gene_name\n",
       "0  Rv0001      dnaA\n",
       "1  Rv0002      dnaN\n",
       "2  Rv0003      recF"
      ]
     },
     "execution_count": 3,
     "metadata": {},
     "output_type": "execute_result"
    }
   ],
   "source": [
    "file_WG = 'annotations/H37Rv_tuberculist_functional_categories.xlsx'\n",
    "df_WG = pd.read_excel(os.path.join(data_path, file_WG))\n",
    "df_WG = df_WG[['Rv_ID', 'gene_name']]\n",
    "df_WG.head(3)"
   ]
  },
  {
   "cell_type": "markdown",
   "metadata": {},
   "source": [
    "## The \"simple\" cases:\n",
    "\n",
    "These are the SI files and tables (19 columns) that are in a 'simple' standard format\":\n",
    "\n",
    "i.e they list the set of genes that are called (conditionally) essential in the Tn screen"
   ]
  },
  {
   "cell_type": "code",
   "execution_count": 27,
   "metadata": {},
   "outputs": [
    {
     "data": {
      "text/html": [
       "<div>\n",
       "<style scoped>\n",
       "    .dataframe tbody tr th:only-of-type {\n",
       "        vertical-align: middle;\n",
       "    }\n",
       "\n",
       "    .dataframe tbody tr th {\n",
       "        vertical-align: top;\n",
       "    }\n",
       "\n",
       "    .dataframe thead th {\n",
       "        text-align: right;\n",
       "    }\n",
       "</style>\n",
       "<table border=\"1\" class=\"dataframe\">\n",
       "  <thead>\n",
       "    <tr style=\"text-align: right;\">\n",
       "      <th></th>\n",
       "      <th>file</th>\n",
       "      <th>col_name</th>\n",
       "      <th>q_val_col_name</th>\n",
       "      <th>ratio_col_name</th>\n",
       "      <th>is_ratio_log2FC</th>\n",
       "    </tr>\n",
       "  </thead>\n",
       "  <tbody>\n",
       "    <tr>\n",
       "      <th>0</th>\n",
       "      <td>2003_Sassetti_Boyd_Rubin/table_1.xls</td>\n",
       "      <td>2003A_Sassetti</td>\n",
       "      <td>p_val</td>\n",
       "      <td>ratio</td>\n",
       "      <td>FALSE</td>\n",
       "    </tr>\n",
       "    <tr>\n",
       "      <th>1</th>\n",
       "      <td>2003_Sassetti_Rubin/table_3.xls</td>\n",
       "      <td>2003B_Sassetti</td>\n",
       "      <td>Week_8_P_value</td>\n",
       "      <td>Week_8_Ratio</td>\n",
       "      <td>FALSE</td>\n",
       "    </tr>\n",
       "  </tbody>\n",
       "</table>\n",
       "</div>"
      ],
      "text/plain": [
       "                                   file        col_name  q_val_col_name  \\\n",
       "0  2003_Sassetti_Boyd_Rubin/table_1.xls  2003A_Sassetti           p_val   \n",
       "1       2003_Sassetti_Rubin/table_3.xls  2003B_Sassetti  Week_8_P_value   \n",
       "\n",
       "  ratio_col_name is_ratio_log2FC  \n",
       "0          ratio           FALSE  \n",
       "1   Week_8_Ratio           FALSE  "
      ]
     },
     "execution_count": 27,
     "metadata": {},
     "output_type": "execute_result"
    }
   ],
   "source": [
    "# read in path/file_name to column name mapping for 'simple' cases:\n",
    "col_name_file = os.path.join( data_path, 'files_and_columns.csv') \n",
    "df_col_info_simple = pd.read_csv(col_name_file)\n",
    "df_col_info_simple.head(2)"
   ]
  },
  {
   "cell_type": "markdown",
   "metadata": {},
   "source": [
    "#### Building binary matrix for simple cases: "
   ]
  },
  {
   "cell_type": "code",
   "execution_count": 28,
   "metadata": {},
   "outputs": [],
   "source": [
    "tn_data_path = os.path.join(root_dir, 'data/Tn_datasets')"
   ]
  },
  {
   "cell_type": "code",
   "execution_count": 29,
   "metadata": {},
   "outputs": [],
   "source": [
    "counter = 0\n",
    "\n",
    "for index, row in df_col_info_simple.iterrows():\n",
    "    \n",
    "    file_in = os.path.join(tn_data_path, row['file'])\n",
    "    col_name = row['col_name']\n",
    "    \n",
    "    # build binary dataframe from single spreadsheet\n",
    "    df_tn = build_single_column_df(file_in, col_name)\n",
    "    df_tn_WG = merge_with_whole_genome(df_WG, col_name, df_tn)\n",
    "    \n",
    "    # merge with rest of data-files / columns. \n",
    "    if counter == 0:\n",
    "        df_tn_ALL = df_tn_WG.copy()\n",
    "    else:\n",
    "        df_tn_ALL = df_tn_ALL.merge(df_tn_WG, how = 'inner', on = ['Rv_ID', 'gene_name'])\n",
    "    \n",
    "    counter +=1"
   ]
  },
  {
   "cell_type": "code",
   "execution_count": 30,
   "metadata": {},
   "outputs": [
    {
     "data": {
      "text/plain": [
       "(3990, 21)"
      ]
     },
     "execution_count": 30,
     "metadata": {},
     "output_type": "execute_result"
    }
   ],
   "source": [
    "df_tn_ALL.shape"
   ]
  },
  {
   "cell_type": "markdown",
   "metadata": {},
   "source": [
    "## Special cases: \n",
    "\n",
    "These are SI datafiles and tables that are in different / unique formats, so it's more annoying to put them together into a single format. "
   ]
  },
  {
   "cell_type": "markdown",
   "metadata": {},
   "source": [
    "Load spreasheet with file name-to-column mappings"
   ]
  },
  {
   "cell_type": "code",
   "execution_count": 31,
   "metadata": {},
   "outputs": [
    {
     "data": {
      "text/html": [
       "<div>\n",
       "<style scoped>\n",
       "    .dataframe tbody tr th:only-of-type {\n",
       "        vertical-align: middle;\n",
       "    }\n",
       "\n",
       "    .dataframe tbody tr th {\n",
       "        vertical-align: top;\n",
       "    }\n",
       "\n",
       "    .dataframe thead th {\n",
       "        text-align: right;\n",
       "    }\n",
       "</style>\n",
       "<table border=\"1\" class=\"dataframe\">\n",
       "  <thead>\n",
       "    <tr style=\"text-align: right;\">\n",
       "      <th></th>\n",
       "      <th>file</th>\n",
       "      <th>col_name</th>\n",
       "      <th>q_val_col_name</th>\n",
       "      <th>ratio_col_name</th>\n",
       "      <th>is_ratio_log2FC</th>\n",
       "    </tr>\n",
       "  </thead>\n",
       "  <tbody>\n",
       "    <tr>\n",
       "      <th>0</th>\n",
       "      <td>2012_Zhang_Rubin/table_4_sheet_600bp.xlsx</td>\n",
       "      <td>2012_Zhang</td>\n",
       "      <td>p-val avg</td>\n",
       "      <td>NONE</td>\n",
       "      <td>NONE</td>\n",
       "    </tr>\n",
       "    <tr>\n",
       "      <th>1</th>\n",
       "      <td>2015_Kieser_Rubin/table_1A_edited.xlsx</td>\n",
       "      <td>2015_Kieser_GI_1</td>\n",
       "      <td>P-value</td>\n",
       "      <td>Fold Change</td>\n",
       "      <td>FALSE</td>\n",
       "    </tr>\n",
       "    <tr>\n",
       "      <th>2</th>\n",
       "      <td>2015_Kieser_Rubin/table_1B_edited.xlsx</td>\n",
       "      <td>2015_Kieser_GI_2</td>\n",
       "      <td>P-value</td>\n",
       "      <td>Fold Change</td>\n",
       "      <td>FALSE</td>\n",
       "    </tr>\n",
       "    <tr>\n",
       "      <th>3</th>\n",
       "      <td>2015_Kieser_Rubin/table_1C_edited.xlsx</td>\n",
       "      <td>2015_Kieser_GI_3</td>\n",
       "      <td>P-value</td>\n",
       "      <td>Fold Change</td>\n",
       "      <td>FALSE</td>\n",
       "    </tr>\n",
       "    <tr>\n",
       "      <th>4</th>\n",
       "      <td>2015_Mendum_Stewart/table_1A.xlsx</td>\n",
       "      <td>2015_Mendum</td>\n",
       "      <td>p_val_7days</td>\n",
       "      <td>NONE</td>\n",
       "      <td>NONE</td>\n",
       "    </tr>\n",
       "  </tbody>\n",
       "</table>\n",
       "</div>"
      ],
      "text/plain": [
       "                                        file          col_name q_val_col_name  \\\n",
       "0  2012_Zhang_Rubin/table_4_sheet_600bp.xlsx        2012_Zhang      p-val avg   \n",
       "1     2015_Kieser_Rubin/table_1A_edited.xlsx  2015_Kieser_GI_1        P-value   \n",
       "2     2015_Kieser_Rubin/table_1B_edited.xlsx  2015_Kieser_GI_2        P-value   \n",
       "3     2015_Kieser_Rubin/table_1C_edited.xlsx  2015_Kieser_GI_3        P-value   \n",
       "4          2015_Mendum_Stewart/table_1A.xlsx       2015_Mendum    p_val_7days   \n",
       "\n",
       "  ratio_col_name is_ratio_log2FC  \n",
       "0           NONE            NONE  \n",
       "1    Fold Change           FALSE  \n",
       "2    Fold Change           FALSE  \n",
       "3    Fold Change           FALSE  \n",
       "4           NONE            NONE  "
      ]
     },
     "execution_count": 31,
     "metadata": {},
     "output_type": "execute_result"
    }
   ],
   "source": [
    "col_name_file_special = os.path.join( data_path, 'files_and_columns_set2.csv') \n",
    "df_col_info_special = pd.read_csv(col_name_file_special)\n",
    "df_col_info_special = df_col_info_special[df_col_info_special.columns[:5]]\n",
    "df_col_info_special.head(5)"
   ]
  },
  {
   "cell_type": "markdown",
   "metadata": {},
   "source": [
    "### DeJesus and Iorger (2013)"
   ]
  },
  {
   "cell_type": "markdown",
   "metadata": {},
   "source": [
    "essentiality matrix: "
   ]
  },
  {
   "cell_type": "code",
   "execution_count": 32,
   "metadata": {},
   "outputs": [
    {
     "data": {
      "text/plain": [
       "(3990, 22)"
      ]
     },
     "execution_count": 32,
     "metadata": {},
     "output_type": "execute_result"
    }
   ],
   "source": [
    "###########\n",
    "file = '2013_DeJesus_Iorger/table_1.xls'\n",
    "col_name = '2013_DeJesus'\n",
    "df_tn = pd.read_excel(os.path.join(tn_data_path, file))\n",
    "df_tn[col_name] = df_tn.shape[0]*[0]\n",
    "df_tn.loc[df_tn.Call == 'E', col_name] = 1\n",
    "###############\n",
    "### [OPTIONAL] Account for uncertains! \n",
    "############\n",
    "df_tn = df_tn[['Rv_ID', col_name]]\n",
    "###########\n",
    "# merge with whole genome\n",
    "df_tn_WG = merge_with_whole_genome(df_WG, col_name, df_tn)\n",
    "# merge with all spreadsheets: \n",
    "df_tn_ALL = df_tn_ALL.merge(df_tn_WG, how = 'inner', on = ['Rv_ID', 'gene_name'])\n",
    "df_tn_ALL.shape"
   ]
  },
  {
   "cell_type": "markdown",
   "metadata": {},
   "source": [
    "### Zhang and Rubin (2012)"
   ]
  },
  {
   "cell_type": "markdown",
   "metadata": {},
   "source": [
    "essentiality matrix:"
   ]
  },
  {
   "cell_type": "code",
   "execution_count": 33,
   "metadata": {},
   "outputs": [
    {
     "data": {
      "text/plain": [
       "(3990, 23)"
      ]
     },
     "execution_count": 33,
     "metadata": {},
     "output_type": "execute_result"
    }
   ],
   "source": [
    "###########\n",
    "# # (2012) Zhang, Rubin\n",
    "# Description: \n",
    "# * Grown in 7H10 media (as in Sassetti et al., 2001)\n",
    "\n",
    "file = '2012_Zhang_Rubin/table_4.xlsx'\n",
    "col_name = '2012_Zhang'\n",
    "df_tn = pd.read_excel(os.path.join(tn_data_path, file))\n",
    "df_tn[col_name] = df_tn.shape[0]*[0]\n",
    "df_tn.loc[df_tn.Call == 'E', col_name] = 1\n",
    "df_tn.loc[df_tn.Call == 'D', col_name] = 1\n",
    "df_tn = df_tn[['Rv_ID', col_name]]\n",
    "# merge with whole genome\n",
    "df_tn_WG = merge_with_whole_genome(df_WG, col_name, df_tn)\n",
    "# merge with all spreadsheets: \n",
    "df_tn_ALL = df_tn_ALL.merge(df_tn_WG, how = 'inner', on = ['Rv_ID', 'gene_name'])\n",
    "df_tn_ALL.shape"
   ]
  },
  {
   "cell_type": "markdown",
   "metadata": {},
   "source": [
    "### Kieser Rubin (2015 data) - tables A, B, C"
   ]
  },
  {
   "cell_type": "code",
   "execution_count": 34,
   "metadata": {},
   "outputs": [],
   "source": [
    "file_list = ['2015_Kieser_Rubin/table_1A.xlsx', '2015_Kieser_Rubin/table_1B.xlsx', '2015_Kieser_Rubin/table_1C.xlsx']\n",
    "col_name_list = ['2015_Kieser_GI_1', '2015_Kieser_GI_2', '2015_Kieser_GI_3']"
   ]
  },
  {
   "cell_type": "markdown",
   "metadata": {},
   "source": [
    "essentiality matrix:"
   ]
  },
  {
   "cell_type": "code",
   "execution_count": 35,
   "metadata": {},
   "outputs": [],
   "source": [
    "p_val_thresh = 0.05 # Talk to Michael and Anisha about these parameter values. \n",
    "fold_change_thresh = 2 # Talk to Michael and Anisha about these parameter value. \n",
    "\n",
    "for i in range(len(file_list)):\n",
    "    file = file_list[i]\n",
    "    col_name = col_name_list[i]\n",
    "\n",
    "    df_tn = pd.read_excel(os.path.join(tn_data_path, file))\n",
    "    df_tn = df_tn[~df_tn.Rv_ID.str.contains('IG')]\n",
    "    rv_id_list = [rv_id.split('_')[-1].strip('\\'') for rv_id in df_tn['Rv_ID'].values]\n",
    "    df_tn['Rv_ID'] = rv_id_list\n",
    "\n",
    "    df_tn[col_name] = df_tn.shape[0]*[0]\n",
    "    df_tn.loc[(df_tn['P-value'] < p_val_thresh) & (df_tn['Fold Change'] > fold_change_thresh), col_name] = 1\n",
    "\n",
    "    # merge with whole genome: \n",
    "    df_tn = df_tn[['Rv_ID', col_name]]\n",
    "    df_tn_WG = merge_with_whole_genome(df_WG, col_name, df_tn)\n",
    "    # merge with all spreadsheets: \n",
    "    df_tn_ALL = df_tn_ALL.merge(df_tn_WG, how = 'inner', on = ['Rv_ID', 'gene_name'])\n"
   ]
  },
  {
   "cell_type": "code",
   "execution_count": 36,
   "metadata": {},
   "outputs": [
    {
     "data": {
      "text/plain": [
       "(3990, 26)"
      ]
     },
     "execution_count": 36,
     "metadata": {},
     "output_type": "execute_result"
    }
   ],
   "source": [
    "df_tn_ALL.shape"
   ]
  },
  {
   "cell_type": "markdown",
   "metadata": {},
   "source": [
    "### Mendum and Stewart (2015) data"
   ]
  },
  {
   "cell_type": "code",
   "execution_count": 37,
   "metadata": {},
   "outputs": [
    {
     "data": {
      "text/plain": [
       "(3990, 27)"
      ]
     },
     "execution_count": 37,
     "metadata": {},
     "output_type": "execute_result"
    }
   ],
   "source": [
    "###########\n",
    "# # (2015) Mendum, Stewart\n",
    "# Description: \n",
    "# * virulence profile in dendritic cells\n",
    "file = '2015_Mendum_Stewart/table_1A.xlsx'\n",
    "col_name = '2015_Mendum'\n",
    "df_tn = pd.read_excel(os.path.join(tn_data_path, file))\n",
    "df_tn[col_name] = df_tn.shape[0]*[0]\n",
    "\n",
    "# ## Mult. hypothesis testing correction (Benjamini/Hochberg)\n",
    "pvals = df_tn.p_val_7days.values\n",
    "ind_not_nan = [i for i in range(len(pvals)) if ~np.isnan(pvals[i])]\n",
    "ind_nan = [i for i in range(len(pvals)) if np.isnan(pvals[i])]\n",
    "pvals_not_nan = pvals[ind_not_nan]\n",
    "\n",
    "reject, pvals_correct, alphacSidak, alphacBonf = multipletests(pvals_not_nan, method = 'fdr_bh')\n",
    "pvals_new = np.zeros(len(pvals))\n",
    "\n",
    "pvals_new[ind_not_nan] = pvals_correct\n",
    "pvals_new[ind_nan] = np.nan\n",
    "df_tn['p_val_7days'] = pvals_new\n",
    "\n",
    "\n",
    "# keep p-adjusted < 0.05\n",
    "df_tn.loc[df_tn.p_val_7days < (0.05), col_name] = 1\n",
    "df_tn = df_tn[['Rv_ID', col_name]]\n",
    "###########\n",
    "# merge with whole genome\n",
    "df_tn_WG = merge_with_whole_genome(df_WG, col_name, df_tn)\n",
    "# merge with all spreadsheets: \n",
    "df_tn_ALL = df_tn_ALL.merge(df_tn_WG, how = 'inner', on = ['Rv_ID', 'gene_name'])\n",
    "df_tn_ALL.shape"
   ]
  },
  {
   "cell_type": "markdown",
   "metadata": {},
   "source": [
    "### Nambi and Sassetti (2016) data:"
   ]
  },
  {
   "cell_type": "code",
   "execution_count": 38,
   "metadata": {},
   "outputs": [
    {
     "data": {
      "text/plain": [
       "(3990, 28)"
      ]
     },
     "execution_count": 38,
     "metadata": {},
     "output_type": "execute_result"
    }
   ],
   "source": [
    "###########\n",
    "# # (2016) Nambi, Sassetti\n",
    "# Description: \n",
    "# * genetic interaction with ctpC::hyg background\n",
    "file = '2016_Nambi_Sassetti/table_1.xlsx'\n",
    "col_name = '2016_Nambi'\n",
    "df_tn = pd.read_excel(os.path.join(tn_data_path, file))\n",
    "df_tn[col_name] = df_tn.shape[0]*[0]\n",
    "df_tn.loc[df_tn.Qval < 0.05, col_name] = 1\n",
    "df_tn = df_tn[['Rv_ID', col_name]]\n",
    "###########\n",
    "# merge with whole genome\n",
    "df_tn_WG = merge_with_whole_genome(df_WG, col_name, df_tn)\n",
    "# merge with all spreadsheets: \n",
    "df_tn_ALL = df_tn_ALL.merge(df_tn_WG, how = 'inner', on = ['Rv_ID', 'gene_name'])\n",
    "df_tn_ALL.shape"
   ]
  },
  {
   "cell_type": "markdown",
   "metadata": {},
   "source": [
    "### Xu and Ehrt (2017) data:"
   ]
  },
  {
   "cell_type": "code",
   "execution_count": 39,
   "metadata": {},
   "outputs": [],
   "source": [
    "file_list = ['2017_Xu_Ehrt/table_3A.xlsx',\n",
    "            '2017_Xu_Ehrt/table_3B.xlsx',\n",
    "            '2017_Xu_Ehrt/table_3C.xlsx',\n",
    "            '2017_Xu_Ehrt/table_3D.xlsx',\n",
    "            '2017_Xu_Ehrt/table_3E.xlsx']\n",
    "\n",
    "col_name_list = ['2017_Xu_1A', '2017_Xu_1B', '2017_Xu_1C', '2017_Xu_1D', '2017_Xu_1E']"
   ]
  },
  {
   "cell_type": "code",
   "execution_count": 40,
   "metadata": {},
   "outputs": [],
   "source": [
    "for i in range(len(file_list)):\n",
    "    file = file_list[i]\n",
    "    col_name = col_name_list[i]\n",
    "    df_tn = pd.read_excel(os.path.join(tn_data_path, file))\n",
    "    df_tn[col_name] = df_tn.shape[0]*[0]\n",
    "    df_tn.loc[ (df_tn['qval'] < 0.05) , col_name] = 1\n",
    "    df_tn = df_tn[['Rv_ID', col_name]]\n",
    "\n",
    "    df_tn_WG = merge_with_whole_genome(df_WG, col_name, df_tn)\n",
    "    if i == 0:\n",
    "        df_ALL_Xu = df_tn_WG.copy()\n",
    "    else:\n",
    "        df_ALL_Xu = df_ALL_Xu.merge(df_tn_WG, how = 'inner', on = ['Rv_ID', 'gene_name'])"
   ]
  },
  {
   "cell_type": "code",
   "execution_count": 41,
   "metadata": {},
   "outputs": [
    {
     "data": {
      "text/plain": [
       "(3990, 33)"
      ]
     },
     "execution_count": 41,
     "metadata": {},
     "output_type": "execute_result"
    }
   ],
   "source": [
    "df_tn_ALL = df_tn_ALL.merge(df_ALL_Xu, how = 'inner', on = ['Rv_ID', 'gene_name'])\n",
    "df_tn_ALL.shape"
   ]
  },
  {
   "cell_type": "markdown",
   "metadata": {},
   "source": [
    "### Carey, Fortune (2018)"
   ]
  },
  {
   "cell_type": "code",
   "execution_count": 42,
   "metadata": {},
   "outputs": [],
   "source": [
    "file_list = ['2018_Carey_Fortune/table_1A.xlsx',\n",
    "            '2018_Carey_Fortune/table_1B.xlsx',\n",
    "            '2018_Carey_Fortune/table_1C.xlsx',\n",
    "            '2018_Carey_Fortune/table_1D.xlsx',\n",
    "            '2018_Carey_Fortune/table_1E.xlsx',\n",
    "            '2018_Carey_Fortune/table_1F.xlsx',\n",
    "            '2018_Carey_Fortune/table_1G.xlsx',\n",
    "            '2018_Carey_Fortune/table_1H.xlsx',]\n",
    "\n",
    "col_name_list = ['2018_Carey_1A', '2018_Carey_1B', '2018_Carey_1C', '2018_Carey_1D',\n",
    "                '2018_Carey_1E', '2018_Carey_1F', '2018_Carey_1G', '2018_Carey_1H']"
   ]
  },
  {
   "cell_type": "code",
   "execution_count": 43,
   "metadata": {},
   "outputs": [],
   "source": [
    "for i in range(len(file_list)):\n",
    "    file = file_list[i]\n",
    "    col_name = col_name_list[i]\n",
    "    df_tn = pd.read_excel(os.path.join(tn_data_path, file))\n",
    "    df_tn[col_name] = df_tn.shape[0]*[0]\n",
    "    df_tn.loc[ (df_tn['p-adj'] < 0.05) & (df_tn['log2 FC'].abs() > 1), col_name] = 1\n",
    "    df_tn = df_tn[['Rv_ID', col_name]]\n",
    "\n",
    "    df_tn_WG = merge_with_whole_genome(df_WG, col_name, df_tn)\n",
    "    if i == 0:\n",
    "        df_ALL_Carey = df_tn_WG.copy()\n",
    "    else:\n",
    "        df_ALL_Carey = df_ALL_Carey.merge(df_tn_WG, how = 'inner', on = ['Rv_ID', 'gene_name'])"
   ]
  },
  {
   "cell_type": "code",
   "execution_count": 44,
   "metadata": {},
   "outputs": [
    {
     "data": {
      "text/plain": [
       "(3990, 41)"
      ]
     },
     "execution_count": 44,
     "metadata": {},
     "output_type": "execute_result"
    }
   ],
   "source": [
    "df_tn_ALL = df_tn_ALL.merge(df_ALL_Carey, how = 'inner', on = ['Rv_ID', 'gene_name'])\n",
    "df_tn_ALL.shape"
   ]
  },
  {
   "cell_type": "markdown",
   "metadata": {},
   "source": [
    "### deJesus, Iorger (2017A) data"
   ]
  },
  {
   "cell_type": "code",
   "execution_count": 45,
   "metadata": {},
   "outputs": [
    {
     "data": {
      "text/plain": [
       "(3990, 42)"
      ]
     },
     "execution_count": 45,
     "metadata": {},
     "output_type": "execute_result"
    }
   ],
   "source": [
    "###########\n",
    "# # (2017) DeJesus, Iorger\n",
    "# Description: \n",
    "# \n",
    "file = '2017A_DeJesus_Iorger/table_1.xlsx'\n",
    "col_name = '2017A_DeJesus'\n",
    "df_tn = pd.read_excel(os.path.join(tn_data_path, file))\n",
    "df_tn[col_name] = df_tn.shape[0]*[0]\n",
    "df_tn.loc[ (df_tn['Final Call'] == 'ES') | (df_tn['Final Call'] == 'ESD')\n",
    "          | (df_tn['Final Call'] == 'GD'), col_name] = 1\n",
    "df_tn = df_tn[['Rv_ID', col_name]]\n",
    "###########\n",
    "# merge with whole genome\n",
    "df_tn_WG = merge_with_whole_genome(df_WG, col_name, df_tn)\n",
    "# merge with all spreadsheets: \n",
    "df_tn_ALL = df_tn_ALL.merge(df_tn_WG, how = 'inner', on = ['Rv_ID', 'gene_name'])\n",
    "df_tn_ALL.shape"
   ]
  },
  {
   "cell_type": "markdown",
   "metadata": {},
   "source": [
    "# DeJesus, Iorger (2017B)"
   ]
  },
  {
   "cell_type": "code",
   "execution_count": 46,
   "metadata": {},
   "outputs": [],
   "source": [
    "file_list = ['2017B_DeJesus_Iorger/table_1A.xlsx',\n",
    "            '2017B_DeJesus_Iorger/table_1B.xlsx',\n",
    "            '2017B_DeJesus_Iorger/table_1C.xlsx']\n",
    "\n",
    "col_name_list = ['2017B_DeJesus_1A', '2017B_DeJesus_1B', '2017B_DeJesus_1C']"
   ]
  },
  {
   "cell_type": "code",
   "execution_count": 47,
   "metadata": {},
   "outputs": [],
   "source": [
    "# # (2017) DeJesus, Iorger\n",
    "# Description: \n",
    "# \n",
    "for i in range(len(file_list)):\n",
    "\n",
    "    file = file_list[i]\n",
    "    col_name = col_name_list[i]\n",
    "    df_tn = pd.read_excel(os.path.join(tn_data_path, file))\n",
    "    df_tn[col_name] = df_tn.shape[0]*[0]\n",
    "    df_tn.loc[ (df_tn['Type of Interaction'] != 'No-Interaction'), col_name] = 1\n",
    "    df_tn = df_tn[['Rv_ID', col_name]]\n",
    "    ###########\n",
    "    # merge with whole genome\n",
    "    df_tn_WG = merge_with_whole_genome(df_WG, col_name, df_tn)\n",
    "    if i == 0:\n",
    "        df_ALL_DJ = df_tn_WG.copy()\n",
    "    else:\n",
    "        df_ALL_DJ = df_ALL_DJ.merge(df_tn_WG, how = 'inner', on = ['Rv_ID', 'gene_name'])"
   ]
  },
  {
   "cell_type": "code",
   "execution_count": 48,
   "metadata": {},
   "outputs": [
    {
     "data": {
      "text/plain": [
       "(3990, 45)"
      ]
     },
     "execution_count": 48,
     "metadata": {},
     "output_type": "execute_result"
    }
   ],
   "source": [
    "df_tn_ALL = df_tn_ALL.merge(df_ALL_DJ, how = 'inner', on = ['Rv_ID', 'gene_name'])\n",
    "df_tn_ALL.shape"
   ]
  },
  {
   "cell_type": "markdown",
   "metadata": {},
   "source": [
    "## FLUTE knockout interactions:"
   ]
  },
  {
   "cell_type": "code",
   "execution_count": 49,
   "metadata": {},
   "outputs": [
    {
     "data": {
      "text/plain": [
       "(3990, 60)"
      ]
     },
     "execution_count": 49,
     "metadata": {},
     "output_type": "execute_result"
    }
   ],
   "source": [
    "file = 'FLUTE_KO_TnSeq/table_1.xlsx'\n",
    "df_tn = pd.read_excel(os.path.join(tn_data_path, file))\n",
    "df_tn_WG = df_WG.merge(df_tn, how = 'left', on = 'Rv_ID')\n",
    "df_tn_ALL = df_tn_ALL.merge(df_tn_WG, how = 'inner', on = ['Rv_ID', 'gene_name'])\n",
    "df_tn_ALL.shape"
   ]
  },
  {
   "cell_type": "markdown",
   "metadata": {},
   "source": [
    "## Do you want to order the columns in a special order? "
   ]
  },
  {
   "cell_type": "code",
   "execution_count": 52,
   "metadata": {},
   "outputs": [],
   "source": [
    "df_col_order = pd.read_excel(os.path.join(data_path,'column_order.xlsx'))\n",
    "col_order = list(df_col_order.col_name.values)"
   ]
  },
  {
   "cell_type": "code",
   "execution_count": 53,
   "metadata": {},
   "outputs": [],
   "source": [
    "df_tn_ALL = df_tn_ALL[col_order]"
   ]
  },
  {
   "cell_type": "code",
   "execution_count": 54,
   "metadata": {},
   "outputs": [
    {
     "data": {
      "text/plain": [
       "(3990, 60)"
      ]
     },
     "execution_count": 54,
     "metadata": {},
     "output_type": "execute_result"
    }
   ],
   "source": [
    "df_tn_ALL.shape"
   ]
  },
  {
   "cell_type": "code",
   "execution_count": 337,
   "metadata": {},
   "outputs": [],
   "source": [
    "out_file = os.path.join(data_path,'Tn_library_DB.xlsx')\n",
    "df_tn_ALL.to_excel(out_file, index = False)"
   ]
  },
  {
   "cell_type": "code",
   "execution_count": 338,
   "metadata": {},
   "outputs": [
    {
     "data": {
      "text/plain": [
       "Index(['Rv_ID', 'gene_name', '2003A_Sassetti', '2003B_Sassetti',\n",
       "       '2005_Rengarajan', '2006_Joshi_GI_1', '2006_Joshi_GI_2',\n",
       "       '2011_Griffin_2', '2012_Zhang', '2013_DeJesus', '2013_Zhang_1',\n",
       "       '2013_Zhang_2', '2013_Zhang_3A', '2013_Zhang_3B', '2013_Zhang_3C',\n",
       "       '2013_Zhang_3D', '2015_Mendum', '2015_Kieser_GI_1', '2015_Kieser_GI_2',\n",
       "       '2015_Kieser_GI_3', '2016_Korte', '2016_Nambi', '2017A_DeJesus',\n",
       "       '2017B_DeJesus_1A', '2017B_DeJesus_1B', '2017B_DeJesus_1C',\n",
       "       '2017_Xu_1A', '2017_Xu_1B', '2017_Xu_1C', '2017_Xu_1D', '2017_Xu_1E',\n",
       "       '2017_Mishra_1A', '2017_Mishra_1B', '2017_Mishra_1C', '2017_Mishra_1D',\n",
       "       '2018_Carey_1A', '2018_Carey_1B', '2018_Carey_1C', '2018_Carey_1D',\n",
       "       '2018_Carey_1E', '2018_Carey_1F', '2018_Carey_1G', '2018_Carey_1H',\n",
       "       '2018_Rittershaus_1A', '2018_Rittershaus_1B', 'Rv3005c', 'Rv1565c',\n",
       "       'ponA1', 'Rv3684', 'Rv3811', 'Rv0950', 'Rv3717', 'Rv3594', 'Rv3916c',\n",
       "       'marP', 'Rv0954', 'Rv1432', 'Rv1096', 'Rv2680', 'Rv0307c'],\n",
       "      dtype='object')"
      ]
     },
     "execution_count": 338,
     "metadata": {},
     "output_type": "execute_result"
    }
   ],
   "source": [
    "df_tn_ALL.columns"
   ]
  },
  {
   "cell_type": "markdown",
   "metadata": {},
   "source": [
    "___________\n",
    "___________\n",
    "___________\n",
    "___________\n"
   ]
  },
  {
   "cell_type": "code",
   "execution_count": null,
   "metadata": {},
   "outputs": [],
   "source": []
  },
  {
   "cell_type": "markdown",
   "metadata": {},
   "source": [
    "# (2003) Sassetti, Boyd, Rubin\n",
    "Description: \n",
    "* 7H10 agar containing OADC for M. tuberculosis\n",
    "* all genes in table_1.xls meet the criteria of: \n",
    "    * 1) having a ratio (insertion/genomic probe) < 0.2; \n",
    "    * 2) are reproducibly attenuated in M.tb and M. bolivs, with a T-test p_value < 0.05. "
   ]
  },
  {
   "cell_type": "markdown",
   "metadata": {},
   "source": [
    "# (2003) Sassetti and Rubin\n",
    "Description: \n",
    "* in vivo (infection)"
   ]
  },
  {
   "cell_type": "markdown",
   "metadata": {},
   "source": [
    "# (2006) Joshi, Sassetti\n",
    "Description:\n",
    "* This is a genetic interaction study with the \"mce\" loci (mce1 and mce4)\n",
    "* Table_1 are positive genetic interactions with mce_1\n",
    "* Table_2 are positive genetic interactions with mce_4"
   ]
  },
  {
   "cell_type": "markdown",
   "metadata": {},
   "source": [
    "# (2011) Griffin and Sassetti\n",
    "Description: \n",
    "* has two tables: \n",
    "    * A) for essentiality in minimal media w/ tylox, 0.2% Eth, 0.1% glycerol\n",
    "    * B) specific to 0.01% cholesterol"
   ]
  },
  {
   "cell_type": "markdown",
   "metadata": {},
   "source": [
    "# (2012) Zhang, Rubin\n",
    "Description: \n",
    "* Grown in 7H10 media (as in Sassetti et al., 2001)"
   ]
  },
  {
   "cell_type": "markdown",
   "metadata": {},
   "source": [
    "# (2013) Zhang, Rubin"
   ]
  },
  {
   "cell_type": "markdown",
   "metadata": {},
   "source": [
    "Description: \n",
    "* Table 2: genes that were required for growth during infection\n",
    "* Table 3: genes wherein mutations caused a growth defect in wild type mice but not in CD4-deficient mice. \n",
    "* Table(s) 4: series of in vitro stress conditions that model stresses thought to be present during in the immune competent host"
   ]
  },
  {
   "cell_type": "markdown",
   "metadata": {},
   "source": [
    "# (2015) Kieser, Rubin\n",
    "Description: \n",
    "* Genetic interactions with three different Peptidoglycan genes: \n",
    "* table_1A: PonA1; table_1B: PonA2; table_1C: LdtB; "
   ]
  },
  {
   "cell_type": "markdown",
   "metadata": {},
   "source": [
    "# (2018) Rittershaus, Sassetti"
   ]
  },
  {
   "cell_type": "code",
   "execution_count": 229,
   "metadata": {},
   "outputs": [],
   "source": [
    "# preprocessing: "
   ]
  },
  {
   "cell_type": "code",
   "execution_count": 262,
   "metadata": {},
   "outputs": [],
   "source": [
    "file_list = ['2018_Rittershaus_Sassetti/table_2A.xlsx',\n",
    "            '2018_Rittershaus_Sassetti/table_2B.xlsx']"
   ]
  },
  {
   "cell_type": "code",
   "execution_count": 237,
   "metadata": {},
   "outputs": [],
   "source": [
    "for file in file_list:\n",
    "    df_tn = pd.read_excel(os.path.join(dir_name, file))\n",
    "    df_tn['Rv_ID']=['Rv'+rv.split('_')[-1] for rv in df_tn.Rv_ID.values]\n",
    "    df_tn.to_excel(os.path.join(dir_name, file), index = False)"
   ]
  },
  {
   "cell_type": "markdown",
   "metadata": {},
   "source": [
    "# (2017) Mishra and Sassetti"
   ]
  },
  {
   "cell_type": "markdown",
   "metadata": {},
   "source": [
    "Preprocessing"
   ]
  },
  {
   "cell_type": "code",
   "execution_count": 358,
   "metadata": {},
   "outputs": [],
   "source": [
    "file_list = ['2017_Mishra_Sassetti/table_1A.xlsx',\n",
    "            '2017_Mishra_Sassetti/table_1B.xlsx',\n",
    "            '2017_Mishra_Sassetti/table_1C.xlsx',\n",
    "            '2017_Mishra_Sassetti/table_1D.xlsx']"
   ]
  },
  {
   "cell_type": "code",
   "execution_count": 359,
   "metadata": {},
   "outputs": [],
   "source": [
    "for file in file_list:\n",
    "    df_tn = pd.read_excel(os.path.join(dir_name, file))\n",
    "    df_tn['Rv_ID']=['Rv'+rv.split('_')[-1] for rv in df_tn.Rv_ID.values]\n",
    "    df_tn.to_excel(os.path.join(dir_name, file), index = False)"
   ]
  },
  {
   "cell_type": "markdown",
   "metadata": {},
   "source": [
    "## (2013) Zhang and Rubin"
   ]
  },
  {
   "cell_type": "code",
   "execution_count": 205,
   "metadata": {},
   "outputs": [],
   "source": [
    "file = '2013_Zhang_Rubin/table_2.xlsx'\n",
    "df_tn = pd.read_excel(os.path.join(dir_name, file))\n",
    "df_tn['Rv_ID']=[rv.strip() for rv in df_tn.Rv_ID.values]\n",
    "df_tn.to_excel(os.path.join(dir_name, file), index = False)"
   ]
  },
  {
   "cell_type": "markdown",
   "metadata": {},
   "source": [
    "### (2005) Rengarajan and Rubin"
   ]
  },
  {
   "cell_type": "code",
   "execution_count": 284,
   "metadata": {},
   "outputs": [],
   "source": [
    "file = '2005_Rengarajan_Rubin/table_2.xls'\n",
    "col_name = '2005_Rengarajan'\n",
    "df_tn = pd.read_excel(os.path.join(dir_name, file))"
   ]
  },
  {
   "cell_type": "code",
   "execution_count": 286,
   "metadata": {},
   "outputs": [],
   "source": [
    "df_tn_x = build_single_column_df(file, col_name)\n",
    "# df_tn_WG = df_WG.merge(df_tn, how = 'left', on = 'Rv_ID')\n",
    "df_tn_WG = merge_with_whole_genome(df_WG, col_name, df_tn_x)"
   ]
  },
  {
   "cell_type": "code",
   "execution_count": 287,
   "metadata": {},
   "outputs": [],
   "source": [
    "ones = df_tn_WG[df_tn_WG['2005_Rengarajan'] == 1].Rv_ID.values"
   ]
  },
  {
   "cell_type": "code",
   "execution_count": 304,
   "metadata": {},
   "outputs": [
    {
     "data": {
      "text/plain": [
       "array(['Rv3596', 'Rv0503', 'Rv0107', 'Rv2214', 'Rv3556'], dtype=object)"
      ]
     },
     "execution_count": 304,
     "metadata": {},
     "output_type": "execute_result"
    }
   ],
   "source": [
    "Rv_ID_old = df_tn[~df_tn.Rv_ID.isin(ones)].Rv_ID.values\n",
    "Rv_ID_c = [rv+'c' for rv in Rv_ID_old]\n",
    "Rv_ID_old[:5]"
   ]
  },
  {
   "cell_type": "code",
   "execution_count": 305,
   "metadata": {},
   "outputs": [],
   "source": [
    "rv_id_all = df_tn.Rv_ID.values\n",
    "rv_id_all_c = []\n",
    "for rv_id in rv_id_all:\n",
    "    if rv_id in Rv_ID_old:\n",
    "        rv_id_all_c.append(rv_id+'c')\n",
    "    else:\n",
    "        rv_id_all_c.append(rv_id)"
   ]
  },
  {
   "cell_type": "code",
   "execution_count": 308,
   "metadata": {},
   "outputs": [],
   "source": [
    "df_tn['Rv_ID'] = rv_id_all_c\n",
    "df_tn.to_excel(os.path.join(dir_name, file), index = False)"
   ]
  },
  {
   "cell_type": "code",
   "execution_count": null,
   "metadata": {},
   "outputs": [],
   "source": []
  }
 ],
 "metadata": {
  "kernelspec": {
   "display_name": "Python 3",
   "language": "python",
   "name": "python3"
  },
  "language_info": {
   "codemirror_mode": {
    "name": "ipython",
    "version": 3
   },
   "file_extension": ".py",
   "mimetype": "text/x-python",
   "name": "python",
   "nbconvert_exporter": "python",
   "pygments_lexer": "ipython3",
   "version": "3.6.6"
  }
 },
 "nbformat": 4,
 "nbformat_minor": 2
}
