{
 "cells": [
  {
   "cell_type": "markdown",
   "id": "2f7c9cdf-6709-4f68-b227-9f6ecec10acf",
   "metadata": {},
   "source": [
    "## The purpose of this is to incorporate Prof. Clare Smith's TnSeq datasets into the MtbTnDB analysis / manuscript: "
   ]
  },
  {
   "cell_type": "code",
   "execution_count": 1,
   "id": "b97c54c6-36d5-4504-907a-a6a473df547a",
   "metadata": {},
   "outputs": [],
   "source": [
    "import pandas as pd\n",
    "import os\n",
    "import re"
   ]
  },
  {
   "cell_type": "markdown",
   "id": "9ac35b0f-eba4-442a-b51d-b6b08f46fc78",
   "metadata": {},
   "source": [
    "### Load q-value and log2-fold change matrices that Michael DeJesus generated with Transit: "
   ]
  },
  {
   "cell_type": "code",
   "execution_count": 58,
   "id": "9af4c8ca-b40c-4d0a-9951-cd996aa98b39",
   "metadata": {},
   "outputs": [],
   "source": [
    "dir_data = '../../data/standardized_data/'\n",
    "file_logfc = os.path.join(dir_data, 'result_logfc_matrix_2021_05_18.csv')\n",
    "\n",
    "#############\n",
    "#############\n",
    "# ERROR !!!!\n",
    "# You should be using the q-value matrix!! :( :( :( :( \n",
    "#############\n",
    "#############\n",
    "# file_qvals = os.path.join(dir_data, 'result_pval_matrix_2021_05_18.csv')\n",
    "file_qvals = os.path.join(dir_data, 'result_qval_matrix_2021_05_18.csv')\n",
    "\n",
    "df_logfc = pd.read_csv(file_logfc)\n",
    "df_qvals = pd.read_csv(file_qvals)\n",
    "\n",
    "df_logfc.rename(columns={df_logfc.columns[0]:'Rv_ID'}, inplace=True)\n",
    "df_qvals.rename(columns={df_qvals.columns[0]:'Rv_ID'}, inplace=True)\n"
   ]
  },
  {
   "cell_type": "markdown",
   "id": "22ef5f09-2480-4a1b-a382-00f4b6a25f1a",
   "metadata": {},
   "source": [
    "### Dropping redundant columns: "
   ]
  },
  {
   "cell_type": "code",
   "execution_count": 59,
   "id": "b24acd54-0fb9-48a9-842b-42257c48481c",
   "metadata": {},
   "outputs": [],
   "source": [
    "cols_to_drop = [col for col in df_qvals.columns if \"carey\" in col and \"mbio_H37Rv\" in col]\n",
    "# cols_to_drop = cols_to_drop + ['C57BL.6J_vs_C57BL.6J', 'C57BL.6J_vs_A.J', 'C57BL.6J_vs_129s1.SvImJ'] + ['zhang_mhcii_mouse_d10_vs_zhang_wt_mouse_d10']\n",
    "# ['C57BL.6J_vs_129s1.SvImJ', 'C57BL.6J_vs_mbio_H37Rv']"
   ]
  },
  {
   "cell_type": "code",
   "execution_count": 60,
   "id": "bd7f1b53-56fc-42e0-81b5-90b84a5d6220",
   "metadata": {},
   "outputs": [],
   "source": [
    "df_qvals.drop(cols_to_drop, axis = 1, inplace = True)\n",
    "df_logfc.drop(cols_to_drop, axis = 1, inplace = True)"
   ]
  },
  {
   "cell_type": "markdown",
   "id": "bd6fe18f-21ad-4f10-9d97-cbda77296c39",
   "metadata": {},
   "source": [
    "## Which columns overlap with the older datasets?"
   ]
  },
  {
   "cell_type": "markdown",
   "id": "d2f574cf-f029-452f-b813-44156b41c486",
   "metadata": {},
   "source": [
    "- What's going on? What's the difference between the dataset below and ''result_logfc_matrix_2020_08_27.csv'?"
   ]
  },
  {
   "cell_type": "code",
   "execution_count": 61,
   "id": "d32a7408-036b-4fd5-88c9-10ec11a023c9",
   "metadata": {},
   "outputs": [],
   "source": [
    "file_logfc_OLD = os.path.join(dir_data, 'result_logfc_matrix_2020_06_27.csv')\n",
    "file_qvals_OLD = os.path.join(dir_data, 'result_qval_matrix_2020_06_27.csv')\n",
    "\n",
    "df_logfc_OLD = pd.read_csv(file_logfc_OLD)\n",
    "df_qvals_OLD = pd.read_csv(file_qvals_OLD)\n",
    "\n",
    "cols_to_drop_OLD = [col for col in df_qvals.columns if \"carey\" in col and \"mbio_H37Rv\" in col]\n",
    "\n",
    "df_qvals_OLD.drop(cols_to_drop_OLD, axis = 1, inplace = True)\n",
    "df_logfc_OLD.drop(cols_to_drop_OLD, axis = 1, inplace = True)"
   ]
  },
  {
   "cell_type": "code",
   "execution_count": 62,
   "id": "0c0e22c2-d1ce-4841-ba69-6b481a60d96b",
   "metadata": {},
   "outputs": [],
   "source": [
    "cols_OLD = [col for col in df_logfc.columns if col in df_logfc_OLD.columns]\n",
    "cols_NEW = [col for col in df_logfc.columns if not col in df_logfc_OLD.columns]"
   ]
  },
  {
   "cell_type": "code",
   "execution_count": 63,
   "id": "de31295c-be85-4887-80a7-088b95c70720",
   "metadata": {},
   "outputs": [
    {
     "name": "stdout",
     "output_type": "stream",
     "text": [
      "65 1897\n"
     ]
    }
   ],
   "source": [
    "print(len(cols_OLD), len(cols_NEW))"
   ]
  },
  {
   "cell_type": "markdown",
   "id": "51a2825c-8803-4506-bf9c-8624762e6505",
   "metadata": {},
   "source": [
    "# Generate the binarized matrix by setting a threshold on the q-values and log2-fold changes: "
   ]
  },
  {
   "cell_type": "code",
   "execution_count": 64,
   "id": "52da72a7-31a1-4c4c-aa0b-98a230a70b8a",
   "metadata": {},
   "outputs": [],
   "source": [
    "# set thresholds\n",
    "qval_thresh = 0.05\n",
    "log2fc_tresh = 1\n",
    "# initialized binary dataframe\n",
    "df_bin = df_qvals.copy()\n",
    "\n",
    "cols_data = df_qvals.columns[1:]\n",
    "for col in cols_data:\n",
    "    df_bin.loc[ (df_qvals[col] <= qval_thresh) & (df_logfc[col].abs() >= log2fc_tresh), col ] = 1\n",
    "    df_bin.loc[ (df_qvals[col] > qval_thresh), col ] = 0  \n",
    "    df_bin.loc[(df_logfc[col].abs() < log2fc_tresh), col] = 0"
   ]
  },
  {
   "cell_type": "code",
   "execution_count": 65,
   "id": "b42c06c2-6335-4977-8467-4d7db630374c",
   "metadata": {},
   "outputs": [
    {
     "data": {
      "text/plain": [
       "(4055, 1962)"
      ]
     },
     "execution_count": 65,
     "metadata": {},
     "output_type": "execute_result"
    }
   ],
   "source": [
    "df_bin.shape"
   ]
  },
  {
   "cell_type": "markdown",
   "id": "bb2af0b5-b127-40ef-be4c-a1255a957160",
   "metadata": {},
   "source": [
    "Write to file: "
   ]
  },
  {
   "cell_type": "code",
   "execution_count": 10,
   "id": "6acd4fa5-6171-49b7-b7ef-fd5da3849e17",
   "metadata": {},
   "outputs": [],
   "source": [
    "file_qvals_out = os.path.join(dir_data, 'result_qval_matrix_2021_10_22.csv')\n",
    "file_log2fc_out = os.path.join(dir_data, 'result_logfc_matrix_2021_10_22.csv')\n",
    "file_bin_out = os.path.join(dir_data, 'result_bin_matrix_2021_10_22.csv')\n",
    "\n",
    "df_bin.to_csv(file_bin_out, index = False)\n",
    "df_qvals.to_csv(file_qvals_out, index = False)\n",
    "df_logfc.to_csv(file_log2fc_out, index = False)"
   ]
  },
  {
   "cell_type": "markdown",
   "id": "61492b58-1e47-4ead-87d8-ec88202b92ca",
   "metadata": {},
   "source": [
    "# Detect the \"basis set\" columns for Clare's dataset: "
   ]
  },
  {
   "cell_type": "markdown",
   "id": "704f84dc-6cb9-4f32-861d-f77ef3b9e575",
   "metadata": {},
   "source": [
    "### Screen comparisons using Black 6 as the reference condition:   "
   ]
  },
  {
   "cell_type": "code",
   "execution_count": 66,
   "id": "0b0dbe7d-d3fa-4a8b-9d5b-077d7aa26cfd",
   "metadata": {},
   "outputs": [
    {
     "data": {
      "text/plain": [
       "64"
      ]
     },
     "execution_count": 66,
     "metadata": {},
     "output_type": "execute_result"
    }
   ],
   "source": [
    "cols_ref_mouse = [col for col in cols_NEW if 'C57BL' in col]\n",
    "len(cols_ref_mouse)"
   ]
  },
  {
   "cell_type": "code",
   "execution_count": 67,
   "id": "17198894-28c2-4e35-b381-a35f1f4d3f43",
   "metadata": {},
   "outputs": [],
   "source": [
    "df_logfc_BASIS = df_logfc[cols_OLD + cols_ref_mouse]\n",
    "df_qvals_BASIS = df_qvals[cols_OLD + cols_ref_mouse]\n",
    "df_bin_BASIS = df_bin[cols_OLD + cols_ref_mouse]"
   ]
  },
  {
   "cell_type": "code",
   "execution_count": 68,
   "id": "df4abbc7-1d24-4191-866b-7b017f4d0e20",
   "metadata": {},
   "outputs": [
    {
     "data": {
      "text/plain": [
       "(4055, 129)"
      ]
     },
     "execution_count": 68,
     "metadata": {},
     "output_type": "execute_result"
    }
   ],
   "source": [
    "df_logfc_BASIS.shape"
   ]
  },
  {
   "cell_type": "code",
   "execution_count": 47,
   "id": "64e6b136-8dab-4e99-9c09-f8040052d247",
   "metadata": {},
   "outputs": [],
   "source": [
    "file_qvals_out = os.path.join(dir_data, 'result_qval_matrix_2021_10_22_BASIS.csv')\n",
    "file_log2fc_out = os.path.join(dir_data, 'result_logfc_matrix_2021_10_22_BASIS.csv')\n",
    "file_bin_out = os.path.join(dir_data, 'result_bin_matrix_2021_10_22_BASIS.csv')\n",
    "\n",
    "df_bin_BASIS.to_csv(file_bin_out, index = False)\n",
    "df_qvals_BASIS.to_csv(file_qvals_out, index = False)\n",
    "df_logfc_BASIS.to_csv(file_log2fc_out, index = False)"
   ]
  },
  {
   "cell_type": "markdown",
   "id": "20d65b33-cd7b-4c4f-9c1b-8cfa9c9ec59a",
   "metadata": {},
   "source": [
    "### Screen comparisons using mBio as the reference condition: "
   ]
  },
  {
   "cell_type": "code",
   "execution_count": 69,
   "id": "1c2adf94-f030-461d-8c4b-ba58e2210847",
   "metadata": {},
   "outputs": [
    {
     "data": {
      "text/plain": [
       "61"
      ]
     },
     "execution_count": 69,
     "metadata": {},
     "output_type": "execute_result"
    }
   ],
   "source": [
    "str_ref = 'mbio_H37Rv'\n",
    "cols_ref_mBio = [col for col in cols_NEW if str_ref in col]\n",
    "len(cols_ref_mBio)"
   ]
  },
  {
   "cell_type": "code",
   "execution_count": 70,
   "id": "b95c319f-e45a-4f13-9142-0c55a3b192cb",
   "metadata": {},
   "outputs": [
    {
     "data": {
      "text/plain": [
       "61"
      ]
     },
     "execution_count": 70,
     "metadata": {},
     "output_type": "execute_result"
    }
   ],
   "source": [
    "str_ref = 'in_vitro'\n",
    "cols_ref_in_vitro = [col for col in cols_NEW if str_ref in col]\n",
    "len(cols_ref_in_vitro)"
   ]
  },
  {
   "cell_type": "code",
   "execution_count": 71,
   "id": "6ba71619-4898-4756-bef3-5be08bfcbf10",
   "metadata": {},
   "outputs": [],
   "source": [
    "cols_ref_invitro_mBio = list(set(cols_ref_mBio + cols_ref_in_vitro))\n",
    "cols_ref_invitro_mBio.sort()"
   ]
  },
  {
   "cell_type": "code",
   "execution_count": 72,
   "id": "67634dbe-884c-4c86-b433-963862f7b06f",
   "metadata": {},
   "outputs": [],
   "source": [
    "df_logfc_BASIS_mbio = df_logfc[cols_OLD + cols_ref_mBio]\n",
    "df_qvals_BASIS_mbio = df_qvals[cols_OLD + cols_ref_mBio]\n",
    "df_bin_BASIS_mbio = df_bin[cols_OLD + cols_ref_mBio]"
   ]
  },
  {
   "cell_type": "code",
   "execution_count": 73,
   "id": "f2698385-7262-4014-9391-044a457ad7dd",
   "metadata": {},
   "outputs": [],
   "source": [
    "df_logfc_BASIS_invitro = df_logfc[cols_OLD + cols_ref_in_vitro]\n",
    "df_qvals_BASIS_invitro = df_qvals[cols_OLD + cols_ref_in_vitro]\n",
    "df_bin_BASIS_invitro = df_bin[cols_OLD + cols_ref_in_vitro]"
   ]
  },
  {
   "cell_type": "markdown",
   "id": "8b905210-7bd0-4dd7-a8d6-c7b10119ec4f",
   "metadata": {},
   "source": [
    "PENDING: Talk to Clare and Michael!"
   ]
  },
  {
   "cell_type": "code",
   "execution_count": null,
   "id": "4c38950e-f980-481f-aad1-7800881e439d",
   "metadata": {},
   "outputs": [],
   "source": [
    "\n",
    "# df_logfc_BASIS_mbio_invitro = df_logfc[cols_OLD + cols_ref_in_vitro]\n",
    "# df_qvals_BASIS_invitro = df_qvals[cols_OLD + cols_ref_in_vitro]\n",
    "# df_bin_BASIS_invitro = df_bin[cols_OLD + cols_ref_in_vitro]"
   ]
  },
  {
   "cell_type": "code",
   "execution_count": 56,
   "id": "d58ea4f8-3965-4b5a-9170-909cea6f97f3",
   "metadata": {},
   "outputs": [
    {
     "data": {
      "text/plain": [
       "(4055, 125)"
      ]
     },
     "execution_count": 56,
     "metadata": {},
     "output_type": "execute_result"
    }
   ],
   "source": [
    "df_bin_BASIS_invitro.shape"
   ]
  },
  {
   "cell_type": "code",
   "execution_count": 75,
   "id": "ec409242-af7d-47e5-aeb6-fc550c5c36b7",
   "metadata": {},
   "outputs": [],
   "source": [
    "file_qvals_out = os.path.join(dir_data, 'result_qval_matrix_2021_11_15_BASIS_mbio.csv')\n",
    "file_log2fc_out = os.path.join(dir_data, 'result_logfc_matrix_2021_11_15_BASIS_mbio.csv')\n",
    "file_bin_out = os.path.join(dir_data, 'result_bin_matrix_2021_11_15_BASIS_mbio.csv')\n",
    "\n",
    "df_bin_BASIS_mbio.to_csv(file_bin_out, index = False)\n",
    "df_qvals_BASIS_mbio.to_csv(file_qvals_out, index = False)\n",
    "df_logfc_BASIS_mbio.to_csv(file_log2fc_out, index = False)"
   ]
  },
  {
   "cell_type": "code",
   "execution_count": 76,
   "id": "dea29163-efdc-41c4-8a8e-96f3d81d2d8f",
   "metadata": {},
   "outputs": [],
   "source": [
    "file_qvals_out = os.path.join(dir_data, 'result_qval_matrix_2021_11_15_BASIS_invitro.csv')\n",
    "file_log2fc_out = os.path.join(dir_data, 'result_logfc_matrix_2021_11_15_BASIS_invitro.csv')\n",
    "file_bin_out = os.path.join(dir_data, 'result_bin_matrix_2021_11_15_BASIS_invitro.csv')\n",
    "\n",
    "df_bin_BASIS_invitro.to_csv(file_bin_out, index = False)\n",
    "df_qvals_BASIS_invitro.to_csv(file_qvals_out, index = False)\n",
    "df_logfc_BASIS_invitro.to_csv(file_log2fc_out, index = False)"
   ]
  },
  {
   "cell_type": "markdown",
   "id": "ba419d6c-2a7a-4431-97fd-87acc87c8a86",
   "metadata": {},
   "source": [
    "# Preparing additional rows for the descriptors spreadsheet (loaded by the dash app): "
   ]
  },
  {
   "cell_type": "code",
   "execution_count": 95,
   "id": "5f163527-277a-4229-b86e-bb8c132d762e",
   "metadata": {},
   "outputs": [],
   "source": [
    "path = '/home/ajinich/Dropbox/tuberculosis/tuberculosis/Results/'\n",
    "list_num_control = []\n",
    "list_num_exp = []\n",
    "for cID in cols_ref_mouse: \n",
    "# cID = '129s1.SvImJ_vs_C57BL.6J'\n",
    "    fn = 'result_resampling_'+cID+'.txt'\n",
    "    with open(os.path.join(path, fn), 'r') as fin: \n",
    "        for line in fin:\n",
    "            if '#Control Data' in line:\n",
    "                num_control = len(re.findall('wig', line))\n",
    "            if '#Experimental Data' in line:\n",
    "                num_exp = len(re.findall('wig', line))\n",
    "    list_num_control.append(num_control)\n",
    "    list_num_exp.append(num_exp)"
   ]
  },
  {
   "cell_type": "code",
   "execution_count": 150,
   "id": "e5e72113-83fb-482f-ae34-67fee33dffda",
   "metadata": {},
   "outputs": [],
   "source": [
    "df_desc = pd.DataFrame()\n",
    "df_desc['column_ID'] = cols_ref_mouse\n",
    "df_desc['wig_files'] = True\n",
    "df_desc['control'] = [col.split('_')[-1] for col in cols_ref_mouse]\n",
    "df_desc['experimental'] = [col.split('_')[0] for col in cols_ref_mouse]\n",
    "df_desc['column_ID_2'] = cols_ref_mouse\n",
    "df_desc['column_ID_SI'] = cols_ref_mouse\n",
    "df_desc['num_replicates_control'] = list_num_control\n",
    "df_desc['num_replicates_experimental'] = list_num_exp"
   ]
  },
  {
   "cell_type": "code",
   "execution_count": 151,
   "id": "7b127a4b-0518-47c6-bc62-01432d51df66",
   "metadata": {},
   "outputs": [],
   "source": [
    "str_meaning = 'differential genetic requirements of Mtb (H37Rv) in %s mouse strain relative to %s control mouse strain'\n",
    "list_meaning = []\n",
    "for ind, row in df_desc.iterrows():\n",
    "    list_meaning.append(str_meaning%(row['experimental'], row['control']))\n"
   ]
  },
  {
   "cell_type": "code",
   "execution_count": 152,
   "id": "14cac9a9-9d7a-4285-a304-d2e741f48e1c",
   "metadata": {},
   "outputs": [],
   "source": [
    "df_desc['meaning'] = list_meaning\n",
    "df_desc['year'] = 2021\n",
    "df_desc['paper_title'] = 'Host-pathogen genetic interactions underlie tuberculosis susceptibility'\n",
    "df_desc['paper_URL'] = 'https://doi.org/10.1101/2020.12.01.405514'\n",
    "df_desc['journal'] = 'biorXiv'\n",
    "df_desc['first_author'] = 'Smith'\n",
    "df_desc['last_author'] = 'Sassetti'\n",
    "df_desc['in_vitro_cell_vivo'] = 'in_vivo' \n",
    "df_desc['in_vitro_media'] = ''\n",
    "df_desc['carbon_source'] = ''\n",
    "df_desc['stress_description'] = '' \n",
    "df_desc['GI_RvID'] = ''\n",
    "df_desc['GI_name'] = ''\n",
    "df_desc['MicArr_or_TnSeq'] = 'TnSeq'\n",
    "df_desc['stat_analysis'] = 'Transit'\n",
    "df_desc['mouse_strain'] = 'Collaborative Cross (CC) mouse panel' \n",
    "df_desc['cell_type'] = ''\n",
    "df_desc['Mtb_strain'] = 'H37Rv'\n",
    "df_desc['plot_SI_graph'] = ''"
   ]
  },
  {
   "cell_type": "code",
   "execution_count": 153,
   "id": "a9d70bcf-defa-4f04-a9b3-aaf8165e9c03",
   "metadata": {},
   "outputs": [],
   "source": [
    "file_out = '../../data/column_descriptors_CC_panel.xlsx'\n",
    "df_desc.to_excel(file_out, index=False)"
   ]
  },
  {
   "cell_type": "code",
   "execution_count": null,
   "id": "b304fd9e-e7e9-4d64-80c3-7030052879e6",
   "metadata": {},
   "outputs": [],
   "source": []
  }
 ],
 "metadata": {
  "kernelspec": {
   "display_name": "Python 3 (ipykernel)",
   "language": "python",
   "name": "python3"
  },
  "language_info": {
   "codemirror_mode": {
    "name": "ipython",
    "version": 3
   },
   "file_extension": ".py",
   "mimetype": "text/x-python",
   "name": "python",
   "nbconvert_exporter": "python",
   "pygments_lexer": "ipython3",
   "version": "3.8.10"
  }
 },
 "nbformat": 4,
 "nbformat_minor": 5
}
