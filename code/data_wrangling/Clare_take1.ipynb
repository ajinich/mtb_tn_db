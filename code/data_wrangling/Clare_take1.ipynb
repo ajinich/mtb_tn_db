{
 "cells": [
  {
   "cell_type": "markdown",
   "id": "2f7c9cdf-6709-4f68-b227-9f6ecec10acf",
   "metadata": {},
   "source": [
    "## The purpose of this is to begin incorporating Clare Smith's additional TnSeq screens: "
   ]
  },
  {
   "cell_type": "code",
   "execution_count": 1,
   "id": "b97c54c6-36d5-4504-907a-a6a473df547a",
   "metadata": {},
   "outputs": [],
   "source": [
    "import pandas as pd\n",
    "import os"
   ]
  },
  {
   "cell_type": "code",
   "execution_count": 4,
   "id": "9af4c8ca-b40c-4d0a-9951-cd996aa98b39",
   "metadata": {},
   "outputs": [],
   "source": [
    "dir_data = '../../data/standardized_data/'\n",
    "file_logfc = os.path.join(dir_data, 'result_logfc_matrix_2021_05_18.csv')\n",
    "file_qvals = os.path.join(dir_data, 'result_pval_matrix_2021_05_18.csv')\n",
    "\n",
    "df_logfc = pd.read_csv(file_logfc)\n",
    "df_qvals = pd.read_csv(file_qvals)\n",
    "\n",
    "df_logfc.rename(columns={df_logfc.columns[0]:'Rv_ID'}, inplace=True)\n",
    "df_qvals.rename(columns={df_qvals.columns[0]:'Rv_ID'}, inplace=True)\n"
   ]
  },
  {
   "cell_type": "code",
   "execution_count": 5,
   "id": "bd7f1b53-56fc-42e0-81b5-90b84a5d6220",
   "metadata": {},
   "outputs": [],
   "source": [
    "cols_to_drop = [col for col in df_qvals.columns if \"carey\" in col and \"mbio_H37Rv\" in col]\n",
    "\n",
    "df_qvals.drop(cols_to_drop, axis = 1, inplace = True)\n",
    "df_logfc.drop(cols_to_drop, axis = 1, inplace = True)"
   ]
  },
  {
   "cell_type": "markdown",
   "id": "bd6fe18f-21ad-4f10-9d97-cbda77296c39",
   "metadata": {},
   "source": [
    "## Which columns overlap with the older datasets?"
   ]
  },
  {
   "cell_type": "code",
   "execution_count": 9,
   "id": "d32a7408-036b-4fd5-88c9-10ec11a023c9",
   "metadata": {},
   "outputs": [],
   "source": [
    "file_logfc_OLD = os.path.join(dir_data, 'result_logfc_matrix_2020_06_27.csv')\n",
    "file_qvals_OLD = os.path.join(dir_data, 'result_qval_matrix_2020_06_27.csv')\n",
    "\n",
    "df_logfc_OLD = pd.read_csv(file_logfc_OLD)\n",
    "df_qvals_OLD = pd.read_csv(file_qvals_OLD)\n",
    "\n",
    "df_qvals_OLD.drop(cols_to_drop, axis = 1, inplace = True)\n",
    "df_logfc_OLD.drop(cols_to_drop, axis = 1, inplace = True)"
   ]
  },
  {
   "cell_type": "code",
   "execution_count": 10,
   "id": "0c0e22c2-d1ce-4841-ba69-6b481a60d96b",
   "metadata": {},
   "outputs": [],
   "source": [
    "cols_OLD = [col for col in df_logfc.columns if col in df_logfc_OLD.columns]\n",
    "cols_NEW = [col for col in df_logfc.columns if not col in df_logfc_OLD.columns]"
   ]
  },
  {
   "cell_type": "code",
   "execution_count": 11,
   "id": "de31295c-be85-4887-80a7-088b95c70720",
   "metadata": {},
   "outputs": [
    {
     "name": "stdout",
     "output_type": "stream",
     "text": [
      "65 1897\n"
     ]
    }
   ],
   "source": [
    "print(len(cols_OLD), len(cols_NEW))"
   ]
  },
  {
   "cell_type": "markdown",
   "id": "51a2825c-8803-4506-bf9c-8624762e6505",
   "metadata": {},
   "source": [
    "# Binarize: "
   ]
  },
  {
   "cell_type": "code",
   "execution_count": 12,
   "id": "52da72a7-31a1-4c4c-aa0b-98a230a70b8a",
   "metadata": {},
   "outputs": [],
   "source": [
    "# set thresholds\n",
    "qval_thresh = 0.05\n",
    "log2fc_tresh = 1\n",
    "# initialized binary dataframe\n",
    "df_bin = df_qvals.copy()\n",
    "\n",
    "cols_data = df_qvals.columns[1:]\n",
    "for col in cols_data:\n",
    "    df_bin.loc[ (df_qvals[col] <= qval_thresh) & (df_logfc[col].abs() >= log2fc_tresh), col ] = 1\n",
    "    df_bin.loc[ (df_qvals[col] > qval_thresh), col ] = 0  \n",
    "    df_bin.loc[(df_logfc[col].abs() < log2fc_tresh), col] = 0"
   ]
  },
  {
   "cell_type": "code",
   "execution_count": 13,
   "id": "b42c06c2-6335-4977-8467-4d7db630374c",
   "metadata": {},
   "outputs": [
    {
     "data": {
      "text/plain": [
       "(4055, 1962)"
      ]
     },
     "execution_count": 13,
     "metadata": {},
     "output_type": "execute_result"
    }
   ],
   "source": [
    "df_bin.shape"
   ]
  },
  {
   "cell_type": "markdown",
   "id": "bb2af0b5-b127-40ef-be4c-a1255a957160",
   "metadata": {},
   "source": [
    "Write to file: "
   ]
  },
  {
   "cell_type": "code",
   "execution_count": 50,
   "id": "6acd4fa5-6171-49b7-b7ef-fd5da3849e17",
   "metadata": {},
   "outputs": [],
   "source": [
    "file_qvals_out = os.path.join(dir_data, 'result_qval_matrix_2021_08_27.csv')\n",
    "file_log2fc_out = os.path.join(dir_data, 'result_logfc_matrix_2021_08_27.csv')\n",
    "file_bin_out = os.path.join(dir_data, 'result_bin_matrix_2021_08_27.csv')\n",
    "\n",
    "df_bin.to_csv(file_bin_out, index = False)\n",
    "df_qvals.to_csv(file_qvals_out, index = False)\n",
    "df_logfc.to_csv(file_log2fc_out, index = False)"
   ]
  },
  {
   "cell_type": "markdown",
   "id": "61492b58-1e47-4ead-87d8-ec88202b92ca",
   "metadata": {},
   "source": [
    "## Detect the \"basis set\" columns for Clare's dataset: "
   ]
  },
  {
   "cell_type": "code",
   "execution_count": 14,
   "id": "0b0dbe7d-d3fa-4a8b-9d5b-077d7aa26cfd",
   "metadata": {},
   "outputs": [
    {
     "data": {
      "text/plain": [
       "64"
      ]
     },
     "execution_count": 14,
     "metadata": {},
     "output_type": "execute_result"
    }
   ],
   "source": [
    "cols_ref_mouse = [col for col in cols_NEW if 'C57BL' in col]\n",
    "len(cols_ref_mouse)"
   ]
  },
  {
   "cell_type": "code",
   "execution_count": 21,
   "id": "77ac755b-3191-40a4-a797-7997bb9ea8ef",
   "metadata": {},
   "outputs": [],
   "source": [
    "df_logfc_BASIS = df_logfc[cols_OLD + cols_ref_mouse]\n",
    "df_qvals_BASIS = df_qvals[cols_OLD + cols_ref_mouse]\n",
    "df_bin_BASIS = df_bin[cols_OLD + cols_ref_mouse]"
   ]
  },
  {
   "cell_type": "code",
   "execution_count": 22,
   "id": "5cc1fd70-8f95-48ab-af8e-ab3a02c57b2f",
   "metadata": {},
   "outputs": [
    {
     "data": {
      "text/plain": [
       "(4055, 129)"
      ]
     },
     "execution_count": 22,
     "metadata": {},
     "output_type": "execute_result"
    }
   ],
   "source": [
    "df_bin_BASIS.shape"
   ]
  },
  {
   "cell_type": "code",
   "execution_count": 23,
   "id": "d58ea4f8-3965-4b5a-9170-909cea6f97f3",
   "metadata": {},
   "outputs": [],
   "source": [
    "file_qvals_out = os.path.join(dir_data, 'result_qval_matrix_2021_08_27_BASIS.csv')\n",
    "file_log2fc_out = os.path.join(dir_data, 'result_logfc_matrix_2021_08_27_BASIS.csv')\n",
    "file_bin_out = os.path.join(dir_data, 'result_bin_matrix_2021_08_27_BASIS.csv')\n",
    "\n",
    "df_bin_BASIS.to_csv(file_bin_out, index = False)\n",
    "df_qvals_BASIS.to_csv(file_qvals_out, index = False)\n",
    "df_logfc_BASIS.to_csv(file_log2fc_out, index = False)"
   ]
  },
  {
   "cell_type": "code",
   "execution_count": null,
   "id": "5702fba5-ec33-4f7c-820b-c588f1bdbacf",
   "metadata": {},
   "outputs": [],
   "source": []
  }
 ],
 "metadata": {
  "kernelspec": {
   "display_name": "Python 3 (ipykernel)",
   "language": "python",
   "name": "python3"
  },
  "language_info": {
   "codemirror_mode": {
    "name": "ipython",
    "version": 3
   },
   "file_extension": ".py",
   "mimetype": "text/x-python",
   "name": "python",
   "nbconvert_exporter": "python",
   "pygments_lexer": "ipython3",
   "version": "3.8.10"
  }
 },
 "nbformat": 4,
 "nbformat_minor": 5
}
