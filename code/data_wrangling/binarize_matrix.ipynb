{
 "cells": [
  {
   "cell_type": "markdown",
   "metadata": {},
   "source": [
    "#### imports "
   ]
  },
  {
   "cell_type": "code",
   "execution_count": 10,
   "metadata": {},
   "outputs": [],
   "source": [
    "import pandas as pd\n",
    "import os"
   ]
  },
  {
   "cell_type": "markdown",
   "metadata": {},
   "source": [
    "#### files and dirs"
   ]
  },
  {
   "cell_type": "code",
   "execution_count": 11,
   "metadata": {},
   "outputs": [],
   "source": [
    "dir_root = '../../'\n",
    "dir_data = os.path.join(dir_root, 'data/standardized_data')"
   ]
  },
  {
   "cell_type": "code",
   "execution_count": 12,
   "metadata": {},
   "outputs": [],
   "source": [
    "file_qvals = os.path.join(dir_data, 'result_qval_matrix_2020_06_27.csv')\n",
    "file_log2fc = os.path.join(dir_data, 'result_logfc_matrix_2020_06_27.csv')\n",
    "file_bin = os.path.join(dir_data, 'result_bin_matrix_2020_06_27.csv')"
   ]
  },
  {
   "cell_type": "markdown",
   "metadata": {},
   "source": [
    "#### qval and log2fc dataframes"
   ]
  },
  {
   "cell_type": "code",
   "execution_count": 13,
   "metadata": {},
   "outputs": [],
   "source": [
    "df_qvals = pd.read_csv(file_qvals)\n",
    "df_log2fc = pd.read_csv(file_log2fc)"
   ]
  },
  {
   "cell_type": "code",
   "execution_count": 14,
   "metadata": {},
   "outputs": [],
   "source": [
    "df_qvals.rename(columns={'Unnamed: 0': 'Rv_ID'}, inplace = True)\n",
    "df_log2fc.rename(columns={'Unnamed: 0': 'Rv_ID'}, inplace = True)"
   ]
  },
  {
   "cell_type": "code",
   "execution_count": 15,
   "metadata": {},
   "outputs": [
    {
     "data": {
      "text/plain": [
       "(4055, 73)"
      ]
     },
     "execution_count": 15,
     "metadata": {},
     "output_type": "execute_result"
    }
   ],
   "source": [
    "df_qvals.shape"
   ]
  },
  {
   "cell_type": "code",
   "execution_count": 16,
   "metadata": {},
   "outputs": [
    {
     "data": {
      "text/plain": [
       "(4055, 73)"
      ]
     },
     "execution_count": 16,
     "metadata": {},
     "output_type": "execute_result"
    }
   ],
   "source": [
    "df_log2fc.shape"
   ]
  },
  {
   "cell_type": "markdown",
   "metadata": {},
   "source": [
    "#### Discard the carey_621_vs_mbio_H37Rv columns, keep only the carey_621_vs_carey_rv columns. "
   ]
  },
  {
   "cell_type": "code",
   "execution_count": 17,
   "metadata": {},
   "outputs": [
    {
     "data": {
      "text/plain": [
       "['carey_621_vs_mbio_H37Rv',\n",
       " 'carey_630_vs_mbio_H37Rv',\n",
       " 'carey_631_vs_mbio_H37Rv',\n",
       " 'carey_632_vs_mbio_H37Rv',\n",
       " 'carey_641_vs_mbio_H37Rv',\n",
       " 'carey_662_vs_mbio_H37Rv',\n",
       " 'carey_663_vs_mbio_H37Rv',\n",
       " 'carey_667_vs_mbio_H37Rv']"
      ]
     },
     "execution_count": 17,
     "metadata": {},
     "output_type": "execute_result"
    }
   ],
   "source": [
    "cols_to_drop = [col for col in df_qvals.columns if \"carey\" in col and \"mbio_H37Rv\" in col]\n",
    "cols_to_drop\n"
   ]
  },
  {
   "cell_type": "code",
   "execution_count": 18,
   "metadata": {},
   "outputs": [],
   "source": [
    "df_qvals.drop(cols_to_drop, axis = 1, inplace = True)\n",
    "df_log2fc.drop(cols_to_drop, axis = 1, inplace = True)"
   ]
  },
  {
   "cell_type": "code",
   "execution_count": 19,
   "metadata": {},
   "outputs": [
    {
     "data": {
      "text/plain": [
       "(4055, 65)"
      ]
     },
     "execution_count": 19,
     "metadata": {},
     "output_type": "execute_result"
    }
   ],
   "source": [
    "df_qvals.shape"
   ]
  },
  {
   "cell_type": "code",
   "execution_count": 21,
   "metadata": {},
   "outputs": [
    {
     "data": {
      "text/plain": [
       "(4055, 65)"
      ]
     },
     "execution_count": 21,
     "metadata": {},
     "output_type": "execute_result"
    }
   ],
   "source": [
    "df_log2fc.shape"
   ]
  },
  {
   "cell_type": "markdown",
   "metadata": {},
   "source": [
    "#### binarize"
   ]
  },
  {
   "cell_type": "markdown",
   "metadata": {},
   "source": [
    "set thresholds"
   ]
  },
  {
   "cell_type": "code",
   "execution_count": 27,
   "metadata": {},
   "outputs": [],
   "source": [
    "qval_thresh = 0.05\n",
    "log2fc_tresh = 1"
   ]
  },
  {
   "cell_type": "markdown",
   "metadata": {},
   "source": [
    "initialized binary dataframe"
   ]
  },
  {
   "cell_type": "code",
   "execution_count": 28,
   "metadata": {},
   "outputs": [],
   "source": [
    "df_bin = df_qvals.copy()"
   ]
  },
  {
   "cell_type": "markdown",
   "metadata": {},
   "source": [
    "binarize"
   ]
  },
  {
   "cell_type": "code",
   "execution_count": 29,
   "metadata": {},
   "outputs": [],
   "source": [
    "cols_data = df_qvals.columns[1:]\n",
    "for col in cols_data:\n",
    "    df_bin.loc[ (df_qvals[col] <= qval_thresh) & (df_log2fc[col].abs() >= log2fc_tresh), col ] = 1\n",
    "    df_bin.loc[ (df_qvals[col] > qval_thresh), col ] = 0  \n",
    "    df_bin.loc[(df_log2fc[col].abs() < log2fc_tresh), col] = 0"
   ]
  },
  {
   "cell_type": "markdown",
   "metadata": {},
   "source": [
    "write to file: "
   ]
  },
  {
   "cell_type": "code",
   "execution_count": 30,
   "metadata": {},
   "outputs": [],
   "source": [
    "file_qvals_out = os.path.join(dir_data, 'result_qval_matrix_2020_08_27.csv')\n",
    "file_log2fc_out = os.path.join(dir_data, 'result_logfc_matrix_2020_08_27.csv')\n",
    "file_bin_out = os.path.join(dir_data, 'result_bin_matrix_2020_08_27.csv')"
   ]
  },
  {
   "cell_type": "code",
   "execution_count": 31,
   "metadata": {},
   "outputs": [],
   "source": [
    "df_bin.to_csv(file_bin_out, index = False)\n",
    "df_qvals.to_csv(file_qvals_out, index = False)\n",
    "df_log2fc.to_csv(file_log2fc_out, index = False)"
   ]
  },
  {
   "cell_type": "markdown",
   "metadata": {},
   "source": [
    "Carey columns:"
   ]
  },
  {
   "cell_type": "code",
   "execution_count": 34,
   "metadata": {},
   "outputs": [
    {
     "data": {
      "text/plain": [
       "Index(['Rv_ID', 'PE35_KO_vs_mbio_H37Rv', 'PPE68_KO_vs_mbio_H37Rv',\n",
       "       'Rv0950c_KO_vs_CB_WT', 'Rv0954_KO_vs_RJ_WT', 'Rv1096_KO_vs_CB_WT',\n",
       "       'Rv3005c_KO_day32_vs_dejesus_H37Rv_day32',\n",
       "       'Rv3594_KO_vs_Rubin_FLUTE_WT', 'Rv3684_KO_vs_CB_WT',\n",
       "       'Rv3717_KO_vs_Rubin_FLUTE_WT', 'Rv3811_KO_vs_Rubin_FLUTE_WT',\n",
       "       'bellerose_MB_HRZE_wk1_vs_bellerose_MB_d21_untreated',\n",
       "       'bellerose_MB_HRZE_wk1_vs_bellerose_MB_pretreatment',\n",
       "       'bellerose_MB_d21_untreated_vs_bellerose_MB_pretreatment',\n",
       "       'carey_621_vs_carey_rv', 'carey_630_vs_carey_rv',\n",
       "       'carey_631_vs_carey_rv', 'carey_632_vs_carey_rv',\n",
       "       'carey_641_vs_carey_rv', 'carey_662_vs_carey_rv',\n",
       "       'carey_663_vs_carey_rv', 'carey_667_vs_carey_rv',\n",
       "       'dejesus_H37Rv_day32_vs_dejesus_H37Rv_day0',\n",
       "       'dejesus_Rv0307c_day32_vs_dejesus_Rv0307c_day0',\n",
       "       'dejesus_Rv1432_day0_vs_dejesus_H37Rv_day0',\n",
       "       'dejesus_Rv1432_day32_vs_dejesus_H37Rv_day32',\n",
       "       'dejesus_Rv1432_day32_vs_dejesus_Rv1432_day0',\n",
       "       'dejesus_Rv1565c_day0_vs_dejesus_H37Rv_day0',\n",
       "       'dejesus_Rv1565c_day32_vs_dejesus_H37Rv_day32',\n",
       "       'dejesus_Rv1565c_day32_vs_dejesus_Rv1565c_day0',\n",
       "       'dejesus_Rv2680_day0_vs_dejesus_H37Rv_day0',\n",
       "       'dejesus_Rv2680_day32_vs_dejesus_H37Rv_day32',\n",
       "       'dejesus_Rv2680_day32_vs_dejesus_Rv2680_day0',\n",
       "       'dejesus_Rv3916c_day32_vs_dejesus_Rv3916c_day0',\n",
       "       'eccD1_KO_vs_mbio_H37Rv', 'espI_KO_vs_mbio_H37Rv',\n",
       "       'griffin_cholesterol_vs_griffin_glycerol',\n",
       "       'griffin_glycerol_vs_mbio_H37Rv', 'kieser_dPonA1_vs_mbio_H37Rv',\n",
       "       'korte_2016_otsa_trehalose_vs_korte_2016_otsa_7h9',\n",
       "       'marP_KO_vs_marP_WT', 'minato_minimal_plate_vs_minato_rich_plate',\n",
       "       'mishra_C3H_vs_mishra_B6', 'mishra_NOS2_vs_mishra_B6',\n",
       "       'mishra_NOS2_vs_mishra_C3H', 'nambi_2015_ctpC_vs_nambi_2015_wt',\n",
       "       'ritterhaus_hypoxia_H3_vs_ritterhaus_hypoxia_input',\n",
       "       'ritterhaus_hypoxia_H6_vs_ritterhaus_hypoxia_input',\n",
       "       'xu_emb_2.5_vs_xu_emb_0', 'xu_emb_3_vs_xu_emb_0',\n",
       "       'xu_inh_025_vs_xu_inh_0', 'xu_inh_02_vs_xu_inh_0',\n",
       "       'xu_mero_2.5_vs_xu_mero_0', 'xu_rif_4_vs_xu_rif_0',\n",
       "       'xu_van_16_vs_xu_van_0',\n",
       "       'zhang_AA_Rescue_vs_zhang_in_vitro_control_Rescue',\n",
       "       'zhang_DETA-NO_pH_7.0_vs_zhang_pH_7.0_no_NO_control',\n",
       "       'zhang_Fe_1.5mM_vs_zhang_Fe_450uM',\n",
       "       'zhang_Trp_Rescue_vs_zhang_in_vitro_control_Rescue',\n",
       "       'zhang_Tyloxapol_pH_6.5_vs_zhang_Tyloxapol_pH_4.5',\n",
       "       'zhang_Tyloxapol_pH_6.5_vs_zhang_pcit_pH_4.5',\n",
       "       'zhang_mhcii_mouse_d10_vs_zhang_wt_mouse_d10',\n",
       "       'zhang_mhcii_mouse_d45_vs_zhang_wt_mouse_d45',\n",
       "       'zhang_wt_mouse_d10_vs_zhang_input_library',\n",
       "       'zhang_wt_mouse_d45_vs_zhang_input_library'],\n",
       "      dtype='object')"
      ]
     },
     "execution_count": 34,
     "metadata": {},
     "output_type": "execute_result"
    }
   ],
   "source": [
    "df_log2fc.columns"
   ]
  },
  {
   "cell_type": "markdown",
   "metadata": {},
   "source": [
    "Griffing sanity check:"
   ]
  },
  {
   "cell_type": "code",
   "execution_count": null,
   "metadata": {},
   "outputs": [],
   "source": []
  }
 ],
 "metadata": {
  "kernelspec": {
   "display_name": "Python 3",
   "language": "python",
   "name": "python3"
  },
  "language_info": {
   "codemirror_mode": {
    "name": "ipython",
    "version": 3
   },
   "file_extension": ".py",
   "mimetype": "text/x-python",
   "name": "python",
   "nbconvert_exporter": "python",
   "pygments_lexer": "ipython3",
   "version": "3.7.4"
  }
 },
 "nbformat": 4,
 "nbformat_minor": 4
}
