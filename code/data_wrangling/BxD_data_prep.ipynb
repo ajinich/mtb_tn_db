{
 "cells": [
  {
   "cell_type": "markdown",
   "id": "f9d7993d-7e33-4574-b8fe-4ef784356170",
   "metadata": {},
   "source": [
    "# Adding BxD dataset (Rachel Meade, Clare Smith) to standardized datafiles: "
   ]
  },
  {
   "cell_type": "code",
   "execution_count": 3,
   "id": "2bff5916-b9f5-45e6-ac8e-7657a8e15749",
   "metadata": {},
   "outputs": [],
   "source": [
    "import pandas as pd\n",
    "import os"
   ]
  },
  {
   "cell_type": "markdown",
   "id": "fc624534-a2ba-4fc0-adf6-2e9546c243d2",
   "metadata": {},
   "source": [
    "### Load raw, full BxD datasets from Rachel Meade:"
   ]
  },
  {
   "cell_type": "code",
   "execution_count": 21,
   "id": "0fd92e06-8276-4425-815d-145c8889bfb9",
   "metadata": {},
   "outputs": [
    {
     "data": {
      "text/html": [
       "<div>\n",
       "<style scoped>\n",
       "    .dataframe tbody tr th:only-of-type {\n",
       "        vertical-align: middle;\n",
       "    }\n",
       "\n",
       "    .dataframe tbody tr th {\n",
       "        vertical-align: top;\n",
       "    }\n",
       "\n",
       "    .dataframe thead th {\n",
       "        text-align: right;\n",
       "    }\n",
       "</style>\n",
       "<table border=\"1\" class=\"dataframe\">\n",
       "  <thead>\n",
       "    <tr style=\"text-align: right;\">\n",
       "      <th></th>\n",
       "      <th>Orf</th>\n",
       "      <th>Name</th>\n",
       "      <th>Desc</th>\n",
       "      <th>Sites</th>\n",
       "      <th>Sites_Hit</th>\n",
       "      <th>B6</th>\n",
       "      <th>B6_pval</th>\n",
       "      <th>B6_Qval</th>\n",
       "      <th>DBA</th>\n",
       "      <th>DBA_pval</th>\n",
       "      <th>...</th>\n",
       "      <th>BXD79_Qval</th>\n",
       "      <th>BXD90</th>\n",
       "      <th>BXD90_pval</th>\n",
       "      <th>BXD90_Qval</th>\n",
       "      <th>BXD93</th>\n",
       "      <th>BXD93_pval</th>\n",
       "      <th>BXD93_Qval</th>\n",
       "      <th>BXD102</th>\n",
       "      <th>BXD102_pval</th>\n",
       "      <th>BXD102_Qval</th>\n",
       "    </tr>\n",
       "  </thead>\n",
       "  <tbody>\n",
       "    <tr>\n",
       "      <th>1</th>\n",
       "      <td>Rv0001</td>\n",
       "      <td>dnaA</td>\n",
       "      <td>chromosomal replication initiation protein</td>\n",
       "      <td>31</td>\n",
       "      <td>0</td>\n",
       "      <td>0.0</td>\n",
       "      <td>1.0</td>\n",
       "      <td>1.0</td>\n",
       "      <td>0.0</td>\n",
       "      <td>1.0</td>\n",
       "      <td>...</td>\n",
       "      <td>1.0</td>\n",
       "      <td>0.0</td>\n",
       "      <td>1.0</td>\n",
       "      <td>1.0</td>\n",
       "      <td>0.0</td>\n",
       "      <td>1.0</td>\n",
       "      <td>1.0</td>\n",
       "      <td>0.0</td>\n",
       "      <td>1.0</td>\n",
       "      <td>1.0</td>\n",
       "    </tr>\n",
       "  </tbody>\n",
       "</table>\n",
       "<p>1 rows × 68 columns</p>\n",
       "</div>"
      ],
      "text/plain": [
       "      Orf  Name                                         Desc  Sites  \\\n",
       "1  Rv0001  dnaA  chromosomal replication initiation protein      31   \n",
       "\n",
       "   Sites_Hit   B6  B6_pval  B6_Qval  DBA  DBA_pval  ...  BXD79_Qval  BXD90  \\\n",
       "1          0  0.0      1.0      1.0  0.0       1.0  ...         1.0    0.0   \n",
       "\n",
       "   BXD90_pval  BXD90_Qval  BXD93  BXD93_pval  BXD93_Qval  BXD102  BXD102_pval  \\\n",
       "1         1.0         1.0    0.0         1.0         1.0     0.0          1.0   \n",
       "\n",
       "   BXD102_Qval  \n",
       "1          1.0  \n",
       "\n",
       "[1 rows x 68 columns]"
      ]
     },
     "execution_count": 21,
     "metadata": {},
     "output_type": "execute_result"
    }
   ],
   "source": [
    "path_bxd = '../../data/standardized_data/BXD_TnSeq/'\n",
    "fn_bxd = '2022.02.15_BXD_TRANSIT_BGC_1pseudo_output_RKM_wPvals_Unthresholded.csv'\n",
    "fn_bxd_path = os.path.join(path_bxd, fn_bxd)\n",
    "\n",
    "df_bxd = pd.read_csv(fn_bxd_path,  index_col = 0)\n",
    "df_bxd.head(1)"
   ]
  },
  {
   "cell_type": "markdown",
   "id": "9bb02c6e-12c8-48a8-adc7-2f806d0eec3a",
   "metadata": {},
   "source": [
    "### Grab BxD L2FC columns: "
   ]
  },
  {
   "cell_type": "code",
   "execution_count": 18,
   "id": "5d262463-1dba-415e-a40d-c4fce54692c5",
   "metadata": {},
   "outputs": [
    {
     "data": {
      "text/html": [
       "<div>\n",
       "<style scoped>\n",
       "    .dataframe tbody tr th:only-of-type {\n",
       "        vertical-align: middle;\n",
       "    }\n",
       "\n",
       "    .dataframe tbody tr th {\n",
       "        vertical-align: top;\n",
       "    }\n",
       "\n",
       "    .dataframe thead th {\n",
       "        text-align: right;\n",
       "    }\n",
       "</style>\n",
       "<table border=\"1\" class=\"dataframe\">\n",
       "  <thead>\n",
       "    <tr style=\"text-align: right;\">\n",
       "      <th></th>\n",
       "      <th>Rv_ID</th>\n",
       "      <th>B6</th>\n",
       "      <th>BXD102</th>\n",
       "      <th>BXD29</th>\n",
       "      <th>BXD39</th>\n",
       "      <th>BXD40</th>\n",
       "      <th>BXD48a</th>\n",
       "      <th>BXD51</th>\n",
       "      <th>BXD54</th>\n",
       "      <th>BXD56</th>\n",
       "      <th>...</th>\n",
       "      <th>BXD67</th>\n",
       "      <th>BXD69</th>\n",
       "      <th>BXD73</th>\n",
       "      <th>BXD73b</th>\n",
       "      <th>BXD77</th>\n",
       "      <th>BXD79</th>\n",
       "      <th>BXD9</th>\n",
       "      <th>BXD90</th>\n",
       "      <th>BXD93</th>\n",
       "      <th>DBA</th>\n",
       "    </tr>\n",
       "  </thead>\n",
       "  <tbody>\n",
       "    <tr>\n",
       "      <th>1</th>\n",
       "      <td>Rv0001</td>\n",
       "      <td>0.0</td>\n",
       "      <td>0.0</td>\n",
       "      <td>0.0</td>\n",
       "      <td>0.0</td>\n",
       "      <td>0.0</td>\n",
       "      <td>0.0</td>\n",
       "      <td>0.86</td>\n",
       "      <td>0.0</td>\n",
       "      <td>0.0</td>\n",
       "      <td>...</td>\n",
       "      <td>0.0</td>\n",
       "      <td>0.0</td>\n",
       "      <td>0.0</td>\n",
       "      <td>0.0</td>\n",
       "      <td>0.0</td>\n",
       "      <td>0.0</td>\n",
       "      <td>0.0</td>\n",
       "      <td>0.0</td>\n",
       "      <td>0.0</td>\n",
       "      <td>0.0</td>\n",
       "    </tr>\n",
       "  </tbody>\n",
       "</table>\n",
       "<p>1 rows × 22 columns</p>\n",
       "</div>"
      ],
      "text/plain": [
       "    Rv_ID   B6  BXD102  BXD29  BXD39  BXD40  BXD48a  BXD51  BXD54  BXD56  ...  \\\n",
       "1  Rv0001  0.0     0.0    0.0    0.0    0.0     0.0   0.86    0.0    0.0  ...   \n",
       "\n",
       "   BXD67  BXD69  BXD73  BXD73b  BXD77  BXD79  BXD9  BXD90  BXD93  DBA  \n",
       "1    0.0    0.0    0.0     0.0    0.0    0.0   0.0    0.0    0.0  0.0  \n",
       "\n",
       "[1 rows x 22 columns]"
      ]
     },
     "execution_count": 18,
     "metadata": {},
     "output_type": "execute_result"
    }
   ],
   "source": [
    "cols_lfc = list(set([col.split('_')[0] for col in df_bxd.columns[5:]]))\n",
    "cols_lfc.sort()\n",
    "cols = ['Orf'] + cols_lfc\n",
    "df_bxd_lfc = df_bxd[cols].copy()\n",
    "df_bxd_lfc.rename(columns={'Orf':'Rv_ID'}, inplace=True)\n",
    "df_bxd_lfc.head(1)"
   ]
  },
  {
   "cell_type": "markdown",
   "id": "591f8479-425c-4095-a16d-d21707438b4c",
   "metadata": {},
   "source": [
    "### Grab BxD q-value columns: "
   ]
  },
  {
   "cell_type": "code",
   "execution_count": 19,
   "id": "77da445b-bcd3-4180-a481-71f98848e763",
   "metadata": {},
   "outputs": [
    {
     "data": {
      "text/html": [
       "<div>\n",
       "<style scoped>\n",
       "    .dataframe tbody tr th:only-of-type {\n",
       "        vertical-align: middle;\n",
       "    }\n",
       "\n",
       "    .dataframe tbody tr th {\n",
       "        vertical-align: top;\n",
       "    }\n",
       "\n",
       "    .dataframe thead th {\n",
       "        text-align: right;\n",
       "    }\n",
       "</style>\n",
       "<table border=\"1\" class=\"dataframe\">\n",
       "  <thead>\n",
       "    <tr style=\"text-align: right;\">\n",
       "      <th></th>\n",
       "      <th>Rv_ID</th>\n",
       "      <th>B6</th>\n",
       "      <th>BXD102</th>\n",
       "      <th>BXD29</th>\n",
       "      <th>BXD39</th>\n",
       "      <th>BXD40</th>\n",
       "      <th>BXD48a</th>\n",
       "      <th>BXD51</th>\n",
       "      <th>BXD54</th>\n",
       "      <th>BXD56</th>\n",
       "      <th>...</th>\n",
       "      <th>BXD67</th>\n",
       "      <th>BXD69</th>\n",
       "      <th>BXD73</th>\n",
       "      <th>BXD73b</th>\n",
       "      <th>BXD77</th>\n",
       "      <th>BXD79</th>\n",
       "      <th>BXD90</th>\n",
       "      <th>BXD93</th>\n",
       "      <th>BXD9</th>\n",
       "      <th>DBA</th>\n",
       "    </tr>\n",
       "  </thead>\n",
       "  <tbody>\n",
       "    <tr>\n",
       "      <th>1</th>\n",
       "      <td>Rv0001</td>\n",
       "      <td>1.0</td>\n",
       "      <td>1.0</td>\n",
       "      <td>1.0</td>\n",
       "      <td>1.0</td>\n",
       "      <td>1.0</td>\n",
       "      <td>1.0</td>\n",
       "      <td>0.7414</td>\n",
       "      <td>1.0</td>\n",
       "      <td>1.0</td>\n",
       "      <td>...</td>\n",
       "      <td>1.0</td>\n",
       "      <td>1.0</td>\n",
       "      <td>1.0</td>\n",
       "      <td>1.0</td>\n",
       "      <td>1.0</td>\n",
       "      <td>1.0</td>\n",
       "      <td>1.0</td>\n",
       "      <td>1.0</td>\n",
       "      <td>1.0</td>\n",
       "      <td>1.0</td>\n",
       "    </tr>\n",
       "  </tbody>\n",
       "</table>\n",
       "<p>1 rows × 22 columns</p>\n",
       "</div>"
      ],
      "text/plain": [
       "    Rv_ID   B6  BXD102  BXD29  BXD39  BXD40  BXD48a   BXD51  BXD54  BXD56  \\\n",
       "1  Rv0001  1.0     1.0    1.0    1.0    1.0     1.0  0.7414    1.0    1.0   \n",
       "\n",
       "   ...  BXD67  BXD69  BXD73  BXD73b  BXD77  BXD79  BXD90  BXD93  BXD9  DBA  \n",
       "1  ...    1.0    1.0    1.0     1.0    1.0    1.0    1.0    1.0   1.0  1.0  \n",
       "\n",
       "[1 rows x 22 columns]"
      ]
     },
     "execution_count": 19,
     "metadata": {},
     "output_type": "execute_result"
    }
   ],
   "source": [
    "cols_qval = [col for col in df_bxd.columns[5:] if 'Qval' in col]\n",
    "cols_qval.sort()\n",
    "cols = ['Orf'] + cols_qval\n",
    "df_bxd_qval = df_bxd[cols].copy()\n",
    "df_bxd_qval.rename(columns={'Orf':'Rv_ID'}, inplace=True)\n",
    "\n",
    "# Rename columns to get rid of the \"Qval\"\n",
    "dict_cols = {col:col.split('_')[0] for col in df_bxd_qval.columns[1:]}\n",
    "df_bxd_qval.rename(columns=dict_cols, inplace=True)\n",
    "df_bxd_qval.head(1)"
   ]
  },
  {
   "cell_type": "markdown",
   "id": "3e2e61cf-a8ee-40d9-8107-bc76821405f4",
   "metadata": {},
   "source": [
    "### Grab standardized dataset (L2FC dataframe, q-values dataframe)"
   ]
  },
  {
   "cell_type": "markdown",
   "id": "f1510c7f-d65b-441d-8921-ac3845f98ab6",
   "metadata": {},
   "source": [
    "#### PAUSE! \n",
    "- Make sure you grab the correct datasets. \n",
    "- Use this as an opportunity to clean up the data/standardized_data folder. Send everything else to an old dataset.  "
   ]
  },
  {
   "cell_type": "code",
   "execution_count": 24,
   "id": "a31f13bb-533c-459f-bf61-6fc4f1139859",
   "metadata": {},
   "outputs": [
    {
     "data": {
      "text/plain": [
       "((4055, 126), (4055, 126))"
      ]
     },
     "execution_count": 24,
     "metadata": {},
     "output_type": "execute_result"
    }
   ],
   "source": [
    "path_std = '../../data/standardized_data/'\n",
    "\n",
    "# PAUSE: make sure you're grabbing the correct files:  \n",
    "fn_std_lfc = os.path.join(path_std, 'result_logfc_matrix_2021_11_15_BASIS_invitro.csv')\n",
    "fn_std_qval = os.path.join(path_std, 'result_qval_matrix_2021_11_15_BASIS_invitro.csv')\n",
    "# Load as dataframes: \n",
    "df_std_lfc = pd.read_csv(fn_std_lfc)\n",
    "df_std_qval = pd.read_csv(fn_std_qval)\n",
    "# shapes: \n",
    "df_std_lfc.shape, df_std_qval.shape"
   ]
  },
  {
   "cell_type": "code",
   "execution_count": null,
   "id": "25cb16ca-19bc-4499-8301-a27c1e0b7a24",
   "metadata": {},
   "outputs": [],
   "source": []
  }
 ],
 "metadata": {
  "kernelspec": {
   "display_name": "Python 3 (ipykernel)",
   "language": "python",
   "name": "python3"
  },
  "language_info": {
   "codemirror_mode": {
    "name": "ipython",
    "version": 3
   },
   "file_extension": ".py",
   "mimetype": "text/x-python",
   "name": "python",
   "nbconvert_exporter": "python",
   "pygments_lexer": "ipython3",
   "version": "3.8.12"
  }
 },
 "nbformat": 4,
 "nbformat_minor": 5
}
