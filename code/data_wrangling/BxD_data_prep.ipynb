{
 "cells": [
  {
   "cell_type": "markdown",
   "id": "f9d7993d-7e33-4574-b8fe-4ef784356170",
   "metadata": {},
   "source": [
    "# Adding BxD dataset (Rachel Meade, Clare Smith) to standardized datafiles: "
   ]
  },
  {
   "cell_type": "code",
   "execution_count": 33,
   "id": "2bff5916-b9f5-45e6-ac8e-7657a8e15749",
   "metadata": {},
   "outputs": [],
   "source": [
    "import pandas as pd\n",
    "import os"
   ]
  },
  {
   "cell_type": "markdown",
   "id": "fc624534-a2ba-4fc0-adf6-2e9546c243d2",
   "metadata": {},
   "source": [
    "### Load raw, full BxD datasets from Rachel Meade:"
   ]
  },
  {
   "cell_type": "code",
   "execution_count": 42,
   "id": "0fd92e06-8276-4425-815d-145c8889bfb9",
   "metadata": {},
   "outputs": [
    {
     "data": {
      "text/html": [
       "<div>\n",
       "<style scoped>\n",
       "    .dataframe tbody tr th:only-of-type {\n",
       "        vertical-align: middle;\n",
       "    }\n",
       "\n",
       "    .dataframe tbody tr th {\n",
       "        vertical-align: top;\n",
       "    }\n",
       "\n",
       "    .dataframe thead th {\n",
       "        text-align: right;\n",
       "    }\n",
       "</style>\n",
       "<table border=\"1\" class=\"dataframe\">\n",
       "  <thead>\n",
       "    <tr style=\"text-align: right;\">\n",
       "      <th></th>\n",
       "      <th>Orf</th>\n",
       "      <th>Name</th>\n",
       "      <th>Desc</th>\n",
       "      <th>Sites</th>\n",
       "      <th>Sites_Hit</th>\n",
       "      <th>C57BL.6J</th>\n",
       "      <th>C57BL.6J_pval</th>\n",
       "      <th>C57BL.6J_Qval</th>\n",
       "      <th>DBA.2J</th>\n",
       "      <th>DBA.2J_pval</th>\n",
       "      <th>...</th>\n",
       "      <th>BXD79_Qval</th>\n",
       "      <th>BXD90</th>\n",
       "      <th>BXD90_pval</th>\n",
       "      <th>BXD90_Qval</th>\n",
       "      <th>BXD93</th>\n",
       "      <th>BXD93_pval</th>\n",
       "      <th>BXD93_Qval</th>\n",
       "      <th>BXD102</th>\n",
       "      <th>BXD102_pval</th>\n",
       "      <th>BXD102_Qval</th>\n",
       "    </tr>\n",
       "  </thead>\n",
       "  <tbody>\n",
       "    <tr>\n",
       "      <th>1</th>\n",
       "      <td>Rv0001</td>\n",
       "      <td>dnaA</td>\n",
       "      <td>chromosomal replication initiation protein</td>\n",
       "      <td>31</td>\n",
       "      <td>0</td>\n",
       "      <td>0.0</td>\n",
       "      <td>1.0</td>\n",
       "      <td>1.0</td>\n",
       "      <td>0.0</td>\n",
       "      <td>1.0</td>\n",
       "      <td>...</td>\n",
       "      <td>1.0</td>\n",
       "      <td>0.0</td>\n",
       "      <td>1.0</td>\n",
       "      <td>1.0</td>\n",
       "      <td>0.0</td>\n",
       "      <td>1.0</td>\n",
       "      <td>1.0</td>\n",
       "      <td>0.0</td>\n",
       "      <td>1.0</td>\n",
       "      <td>1.0</td>\n",
       "    </tr>\n",
       "  </tbody>\n",
       "</table>\n",
       "<p>1 rows × 68 columns</p>\n",
       "</div>"
      ],
      "text/plain": [
       "      Orf  Name                                         Desc  Sites  \\\n",
       "1  Rv0001  dnaA  chromosomal replication initiation protein      31   \n",
       "\n",
       "   Sites_Hit  C57BL.6J  C57BL.6J_pval  C57BL.6J_Qval  DBA.2J  DBA.2J_pval  \\\n",
       "1          0       0.0            1.0            1.0     0.0          1.0   \n",
       "\n",
       "   ...  BXD79_Qval  BXD90  BXD90_pval  BXD90_Qval  BXD93  BXD93_pval  \\\n",
       "1  ...         1.0    0.0         1.0         1.0    0.0         1.0   \n",
       "\n",
       "   BXD93_Qval  BXD102  BXD102_pval  BXD102_Qval  \n",
       "1         1.0     0.0          1.0          1.0  \n",
       "\n",
       "[1 rows x 68 columns]"
      ]
     },
     "execution_count": 42,
     "metadata": {},
     "output_type": "execute_result"
    }
   ],
   "source": [
    "path_bxd = '../../data/standardized_data/BXD_TnSeq/'\n",
    "fn_bxd = '2022.02.15_BXD_TRANSIT_BGC_1pseudo_output_RKM_wPvals_Unthresholded.csv'\n",
    "fn_bxd_path = os.path.join(path_bxd, fn_bxd)\n",
    "\n",
    "df_bxd = pd.read_csv(fn_bxd_path,  index_col = 0)\n",
    "df_bxd.head(1)"
   ]
  },
  {
   "cell_type": "markdown",
   "id": "9bb02c6e-12c8-48a8-adc7-2f806d0eec3a",
   "metadata": {},
   "source": [
    "### Grab BxD L2FC columns: "
   ]
  },
  {
   "cell_type": "code",
   "execution_count": 43,
   "id": "5d262463-1dba-415e-a40d-c4fce54692c5",
   "metadata": {},
   "outputs": [
    {
     "data": {
      "text/html": [
       "<div>\n",
       "<style scoped>\n",
       "    .dataframe tbody tr th:only-of-type {\n",
       "        vertical-align: middle;\n",
       "    }\n",
       "\n",
       "    .dataframe tbody tr th {\n",
       "        vertical-align: top;\n",
       "    }\n",
       "\n",
       "    .dataframe thead th {\n",
       "        text-align: right;\n",
       "    }\n",
       "</style>\n",
       "<table border=\"1\" class=\"dataframe\">\n",
       "  <thead>\n",
       "    <tr style=\"text-align: right;\">\n",
       "      <th></th>\n",
       "      <th>Rv_ID</th>\n",
       "      <th>BXD102</th>\n",
       "      <th>BXD29</th>\n",
       "      <th>BXD39</th>\n",
       "      <th>BXD40</th>\n",
       "      <th>BXD48a</th>\n",
       "      <th>BXD51</th>\n",
       "      <th>BXD54</th>\n",
       "      <th>BXD56</th>\n",
       "      <th>BXD60</th>\n",
       "      <th>...</th>\n",
       "      <th>BXD69</th>\n",
       "      <th>BXD73</th>\n",
       "      <th>BXD73b</th>\n",
       "      <th>BXD77</th>\n",
       "      <th>BXD79</th>\n",
       "      <th>BXD9</th>\n",
       "      <th>BXD90</th>\n",
       "      <th>BXD93</th>\n",
       "      <th>C57BL.6J</th>\n",
       "      <th>DBA.2J</th>\n",
       "    </tr>\n",
       "  </thead>\n",
       "  <tbody>\n",
       "    <tr>\n",
       "      <th>1</th>\n",
       "      <td>Rv0001</td>\n",
       "      <td>0.0</td>\n",
       "      <td>0.0</td>\n",
       "      <td>0.0</td>\n",
       "      <td>0.0</td>\n",
       "      <td>0.0</td>\n",
       "      <td>0.86</td>\n",
       "      <td>0.0</td>\n",
       "      <td>0.0</td>\n",
       "      <td>0.0</td>\n",
       "      <td>...</td>\n",
       "      <td>0.0</td>\n",
       "      <td>0.0</td>\n",
       "      <td>0.0</td>\n",
       "      <td>0.0</td>\n",
       "      <td>0.0</td>\n",
       "      <td>0.0</td>\n",
       "      <td>0.0</td>\n",
       "      <td>0.0</td>\n",
       "      <td>0.0</td>\n",
       "      <td>0.0</td>\n",
       "    </tr>\n",
       "  </tbody>\n",
       "</table>\n",
       "<p>1 rows × 22 columns</p>\n",
       "</div>"
      ],
      "text/plain": [
       "    Rv_ID  BXD102  BXD29  BXD39  BXD40  BXD48a  BXD51  BXD54  BXD56  BXD60  \\\n",
       "1  Rv0001     0.0    0.0    0.0    0.0     0.0   0.86    0.0    0.0    0.0   \n",
       "\n",
       "   ...  BXD69  BXD73  BXD73b  BXD77  BXD79  BXD9  BXD90  BXD93  C57BL.6J  \\\n",
       "1  ...    0.0    0.0     0.0    0.0    0.0   0.0    0.0    0.0       0.0   \n",
       "\n",
       "   DBA.2J  \n",
       "1     0.0  \n",
       "\n",
       "[1 rows x 22 columns]"
      ]
     },
     "execution_count": 43,
     "metadata": {},
     "output_type": "execute_result"
    }
   ],
   "source": [
    "cols_lfc = list(set([col.split('_')[0] for col in df_bxd.columns[5:]]))\n",
    "cols_lfc.sort()\n",
    "cols = ['Orf'] + cols_lfc\n",
    "df_bxd_lfc = df_bxd[cols].copy()\n",
    "df_bxd_lfc.rename(columns={'Orf':'Rv_ID'}, inplace=True)\n",
    "df_bxd_lfc.head(1)"
   ]
  },
  {
   "cell_type": "markdown",
   "id": "591f8479-425c-4095-a16d-d21707438b4c",
   "metadata": {},
   "source": [
    "### Grab BxD q-value columns: "
   ]
  },
  {
   "cell_type": "code",
   "execution_count": 44,
   "id": "77da445b-bcd3-4180-a481-71f98848e763",
   "metadata": {},
   "outputs": [
    {
     "data": {
      "text/html": [
       "<div>\n",
       "<style scoped>\n",
       "    .dataframe tbody tr th:only-of-type {\n",
       "        vertical-align: middle;\n",
       "    }\n",
       "\n",
       "    .dataframe tbody tr th {\n",
       "        vertical-align: top;\n",
       "    }\n",
       "\n",
       "    .dataframe thead th {\n",
       "        text-align: right;\n",
       "    }\n",
       "</style>\n",
       "<table border=\"1\" class=\"dataframe\">\n",
       "  <thead>\n",
       "    <tr style=\"text-align: right;\">\n",
       "      <th></th>\n",
       "      <th>Rv_ID</th>\n",
       "      <th>BXD102</th>\n",
       "      <th>BXD29</th>\n",
       "      <th>BXD39</th>\n",
       "      <th>BXD40</th>\n",
       "      <th>BXD48a</th>\n",
       "      <th>BXD51</th>\n",
       "      <th>BXD54</th>\n",
       "      <th>BXD56</th>\n",
       "      <th>BXD60</th>\n",
       "      <th>...</th>\n",
       "      <th>BXD69</th>\n",
       "      <th>BXD73</th>\n",
       "      <th>BXD73b</th>\n",
       "      <th>BXD77</th>\n",
       "      <th>BXD79</th>\n",
       "      <th>BXD90</th>\n",
       "      <th>BXD93</th>\n",
       "      <th>BXD9</th>\n",
       "      <th>C57BL.6J</th>\n",
       "      <th>DBA.2J</th>\n",
       "    </tr>\n",
       "  </thead>\n",
       "  <tbody>\n",
       "    <tr>\n",
       "      <th>1</th>\n",
       "      <td>Rv0001</td>\n",
       "      <td>1.0</td>\n",
       "      <td>1.0</td>\n",
       "      <td>1.0</td>\n",
       "      <td>1.0</td>\n",
       "      <td>1.0</td>\n",
       "      <td>0.7414</td>\n",
       "      <td>1.0</td>\n",
       "      <td>1.0</td>\n",
       "      <td>1.0</td>\n",
       "      <td>...</td>\n",
       "      <td>1.0</td>\n",
       "      <td>1.0</td>\n",
       "      <td>1.0</td>\n",
       "      <td>1.0</td>\n",
       "      <td>1.0</td>\n",
       "      <td>1.0</td>\n",
       "      <td>1.0</td>\n",
       "      <td>1.0</td>\n",
       "      <td>1.0</td>\n",
       "      <td>1.0</td>\n",
       "    </tr>\n",
       "  </tbody>\n",
       "</table>\n",
       "<p>1 rows × 22 columns</p>\n",
       "</div>"
      ],
      "text/plain": [
       "    Rv_ID  BXD102  BXD29  BXD39  BXD40  BXD48a   BXD51  BXD54  BXD56  BXD60  \\\n",
       "1  Rv0001     1.0    1.0    1.0    1.0     1.0  0.7414    1.0    1.0    1.0   \n",
       "\n",
       "   ...  BXD69  BXD73  BXD73b  BXD77  BXD79  BXD90  BXD93  BXD9  C57BL.6J  \\\n",
       "1  ...    1.0    1.0     1.0    1.0    1.0    1.0    1.0   1.0       1.0   \n",
       "\n",
       "   DBA.2J  \n",
       "1     1.0  \n",
       "\n",
       "[1 rows x 22 columns]"
      ]
     },
     "execution_count": 44,
     "metadata": {},
     "output_type": "execute_result"
    }
   ],
   "source": [
    "cols_qval = [col for col in df_bxd.columns[5:] if 'Qval' in col]\n",
    "cols_qval.sort()\n",
    "cols = ['Orf'] + cols_qval\n",
    "df_bxd_qval = df_bxd[cols].copy()\n",
    "df_bxd_qval.rename(columns={'Orf':'Rv_ID'}, inplace=True)\n",
    "\n",
    "# Rename columns to get rid of the \"Qval\"\n",
    "dict_cols = {col:col.split('_')[0] for col in df_bxd_qval.columns[1:]}\n",
    "df_bxd_qval.rename(columns=dict_cols, inplace=True)\n",
    "df_bxd_qval.head(1)"
   ]
  },
  {
   "cell_type": "markdown",
   "id": "cc307c9d-a826-45cc-898d-dc791443a764",
   "metadata": {},
   "source": [
    "##### Append control condition to column names: "
   ]
  },
  {
   "cell_type": "code",
   "execution_count": null,
   "id": "422a1c44-ff87-4cb8-bc19-59282de67903",
   "metadata": {},
   "outputs": [],
   "source": [
    "dict_cols_lfc = {col:col+'_vs_in_vitro_H37Rv' for col in df_bxd_lfc.columns[1:]}\n",
    "dict_cols_qval = {col:col+'_vs_in_vitro_H37Rv' for col in df_bxd_qval.columns[1:]}\n",
    "df_bxd_qval.rename(columns=dict_cols_qval, inplace=True)\n",
    "df_bxd_lfc.rename(columns=dict_cols_lfc, inplace=True)"
   ]
  },
  {
   "cell_type": "markdown",
   "id": "3e2e61cf-a8ee-40d9-8107-bc76821405f4",
   "metadata": {},
   "source": [
    "### Grab standardized dataset (L2FC dataframe, q-values dataframe)"
   ]
  },
  {
   "cell_type": "markdown",
   "id": "f1510c7f-d65b-441d-8921-ac3845f98ab6",
   "metadata": {},
   "source": [
    "#### PAUSE! \n",
    "- Make sure you grab the correct datasets. \n",
    "- Use this as an opportunity to clean up the data/standardized_data folder. Send everything else to an old dataset.\n",
    "- Document where you added the CC-panel datasets. "
   ]
  },
  {
   "cell_type": "code",
   "execution_count": 48,
   "id": "a31f13bb-533c-459f-bf61-6fc4f1139859",
   "metadata": {},
   "outputs": [
    {
     "data": {
      "text/plain": [
       "((4055, 126), (4055, 126))"
      ]
     },
     "execution_count": 48,
     "metadata": {},
     "output_type": "execute_result"
    }
   ],
   "source": [
    "path_std = '../../data/standardized_data/'\n",
    "\n",
    "# PAUSE: make sure you're grabbing the correct files:  \n",
    "fn_std_lfc = os.path.join(path_std, 'result_logfc_matrix_2021_11_15_BASIS_invitro.csv')\n",
    "fn_std_qval = os.path.join(path_std, 'result_qval_matrix_2021_11_15_BASIS_invitro.csv')\n",
    "# Load as dataframes: \n",
    "df_std_lfc = pd.read_csv(fn_std_lfc)\n",
    "df_std_qval = pd.read_csv(fn_std_qval)\n",
    "# shapes: \n",
    "df_std_lfc.shape, df_std_qval.shape"
   ]
  },
  {
   "cell_type": "markdown",
   "id": "b6c9752a-4369-458c-b679-29b22110a0b0",
   "metadata": {},
   "source": [
    "#### Merging LFC dataframes: "
   ]
  },
  {
   "cell_type": "code",
   "execution_count": 49,
   "id": "25cb16ca-19bc-4499-8301-a27c1e0b7a24",
   "metadata": {},
   "outputs": [
    {
     "data": {
      "text/plain": [
       "((3990, 22), (4055, 126))"
      ]
     },
     "execution_count": 49,
     "metadata": {},
     "output_type": "execute_result"
    }
   ],
   "source": [
    "df_bxd_lfc.shape, df_std_lfc.shape"
   ]
  },
  {
   "cell_type": "code",
   "execution_count": 56,
   "id": "c6d41980-80b5-40d2-98a2-60c44bd4c211",
   "metadata": {},
   "outputs": [
    {
     "data": {
      "text/plain": [
       "(4055, 147)"
      ]
     },
     "execution_count": 56,
     "metadata": {},
     "output_type": "execute_result"
    }
   ],
   "source": [
    "df_std_bxd_lfc = df_std_lfc.merge(df_bxd_lfc, how = 'left', on='Rv_ID')\n",
    "df_std_bxd_lfc.shape"
   ]
  },
  {
   "cell_type": "code",
   "execution_count": 58,
   "id": "e677bb42-bee6-4418-9e99-4d649982a9de",
   "metadata": {},
   "outputs": [
    {
     "data": {
      "text/html": [
       "<div>\n",
       "<style scoped>\n",
       "    .dataframe tbody tr th:only-of-type {\n",
       "        vertical-align: middle;\n",
       "    }\n",
       "\n",
       "    .dataframe tbody tr th {\n",
       "        vertical-align: top;\n",
       "    }\n",
       "\n",
       "    .dataframe thead th {\n",
       "        text-align: right;\n",
       "    }\n",
       "</style>\n",
       "<table border=\"1\" class=\"dataframe\">\n",
       "  <thead>\n",
       "    <tr style=\"text-align: right;\">\n",
       "      <th></th>\n",
       "      <th>Rv_ID</th>\n",
       "      <th>PE35_KO_vs_mbio_H37Rv</th>\n",
       "      <th>PPE68_KO_vs_mbio_H37Rv</th>\n",
       "      <th>Rv0950c_KO_vs_CB_WT</th>\n",
       "      <th>Rv0954_KO_vs_RJ_WT</th>\n",
       "      <th>Rv1096_KO_vs_CB_WT</th>\n",
       "      <th>Rv3005c_KO_day32_vs_dejesus_H37Rv_day32</th>\n",
       "      <th>Rv3594_KO_vs_Rubin_FLUTE_WT</th>\n",
       "      <th>Rv3684_KO_vs_CB_WT</th>\n",
       "      <th>Rv3717_KO_vs_Rubin_FLUTE_WT</th>\n",
       "      <th>...</th>\n",
       "      <th>BXD69_vs_in_vitro_H37Rv</th>\n",
       "      <th>BXD73_vs_in_vitro_H37Rv</th>\n",
       "      <th>BXD73b_vs_in_vitro_H37Rv</th>\n",
       "      <th>BXD77_vs_in_vitro_H37Rv</th>\n",
       "      <th>BXD79_vs_in_vitro_H37Rv</th>\n",
       "      <th>BXD9_vs_in_vitro_H37Rv</th>\n",
       "      <th>BXD90_vs_in_vitro_H37Rv</th>\n",
       "      <th>BXD93_vs_in_vitro_H37Rv</th>\n",
       "      <th>C57BL.6J_vs_in_vitro_H37Rv</th>\n",
       "      <th>DBA.2J_vs_in_vitro_H37Rv</th>\n",
       "    </tr>\n",
       "  </thead>\n",
       "  <tbody>\n",
       "    <tr>\n",
       "      <th>0</th>\n",
       "      <td>Rv0001</td>\n",
       "      <td>-0.41</td>\n",
       "      <td>0.01</td>\n",
       "      <td>0.0</td>\n",
       "      <td>0.0</td>\n",
       "      <td>0.0</td>\n",
       "      <td>3.12</td>\n",
       "      <td>-0.06</td>\n",
       "      <td>0.0</td>\n",
       "      <td>-0.06</td>\n",
       "      <td>...</td>\n",
       "      <td>0.0</td>\n",
       "      <td>0.0</td>\n",
       "      <td>0.0</td>\n",
       "      <td>0.0</td>\n",
       "      <td>0.0</td>\n",
       "      <td>0.0</td>\n",
       "      <td>0.0</td>\n",
       "      <td>0.0</td>\n",
       "      <td>0.0</td>\n",
       "      <td>0.0</td>\n",
       "    </tr>\n",
       "  </tbody>\n",
       "</table>\n",
       "<p>1 rows × 147 columns</p>\n",
       "</div>"
      ],
      "text/plain": [
       "    Rv_ID  PE35_KO_vs_mbio_H37Rv  PPE68_KO_vs_mbio_H37Rv  Rv0950c_KO_vs_CB_WT  \\\n",
       "0  Rv0001                  -0.41                    0.01                  0.0   \n",
       "\n",
       "   Rv0954_KO_vs_RJ_WT  Rv1096_KO_vs_CB_WT  \\\n",
       "0                 0.0                 0.0   \n",
       "\n",
       "   Rv3005c_KO_day32_vs_dejesus_H37Rv_day32  Rv3594_KO_vs_Rubin_FLUTE_WT  \\\n",
       "0                                     3.12                        -0.06   \n",
       "\n",
       "   Rv3684_KO_vs_CB_WT  Rv3717_KO_vs_Rubin_FLUTE_WT  ...  \\\n",
       "0                 0.0                        -0.06  ...   \n",
       "\n",
       "   BXD69_vs_in_vitro_H37Rv  BXD73_vs_in_vitro_H37Rv  BXD73b_vs_in_vitro_H37Rv  \\\n",
       "0                      0.0                      0.0                       0.0   \n",
       "\n",
       "   BXD77_vs_in_vitro_H37Rv  BXD79_vs_in_vitro_H37Rv  BXD9_vs_in_vitro_H37Rv  \\\n",
       "0                      0.0                      0.0                     0.0   \n",
       "\n",
       "   BXD90_vs_in_vitro_H37Rv  BXD93_vs_in_vitro_H37Rv  \\\n",
       "0                      0.0                      0.0   \n",
       "\n",
       "   C57BL.6J_vs_in_vitro_H37Rv  DBA.2J_vs_in_vitro_H37Rv  \n",
       "0                         0.0                       0.0  \n",
       "\n",
       "[1 rows x 147 columns]"
      ]
     },
     "execution_count": 58,
     "metadata": {},
     "output_type": "execute_result"
    }
   ],
   "source": [
    "df_std_bxd_lfc.head(1)"
   ]
  },
  {
   "cell_type": "markdown",
   "id": "9d97c1ef-60dc-41b8-870c-828272a542f1",
   "metadata": {},
   "source": [
    "#### Merging q-value dataframes: "
   ]
  },
  {
   "cell_type": "code",
   "execution_count": 28,
   "id": "960956b2-c3f3-4808-a298-c24ec13cfd1f",
   "metadata": {},
   "outputs": [
    {
     "data": {
      "text/plain": [
       "((3990, 22), (4055, 126))"
      ]
     },
     "execution_count": 28,
     "metadata": {},
     "output_type": "execute_result"
    }
   ],
   "source": [
    "df_bxd_qval.shape, df_std_qval.shape"
   ]
  },
  {
   "cell_type": "code",
   "execution_count": 54,
   "id": "ebd5e435-8a7b-4750-a356-cf90d85a5bc8",
   "metadata": {},
   "outputs": [
    {
     "data": {
      "text/plain": [
       "(4055, 147)"
      ]
     },
     "execution_count": 54,
     "metadata": {},
     "output_type": "execute_result"
    }
   ],
   "source": [
    "df_std_bxd_qval = df_std_qval.merge(df_bxd_qval, how = 'left', on='Rv_ID')\n",
    "df_std_bxd_qval.shape"
   ]
  },
  {
   "cell_type": "code",
   "execution_count": 55,
   "id": "41b4a4f3-92ee-4d2e-97e5-ff59bc87b188",
   "metadata": {},
   "outputs": [
    {
     "data": {
      "text/html": [
       "<div>\n",
       "<style scoped>\n",
       "    .dataframe tbody tr th:only-of-type {\n",
       "        vertical-align: middle;\n",
       "    }\n",
       "\n",
       "    .dataframe tbody tr th {\n",
       "        vertical-align: top;\n",
       "    }\n",
       "\n",
       "    .dataframe thead th {\n",
       "        text-align: right;\n",
       "    }\n",
       "</style>\n",
       "<table border=\"1\" class=\"dataframe\">\n",
       "  <thead>\n",
       "    <tr style=\"text-align: right;\">\n",
       "      <th></th>\n",
       "      <th>Rv_ID</th>\n",
       "      <th>PE35_KO_vs_mbio_H37Rv</th>\n",
       "      <th>PPE68_KO_vs_mbio_H37Rv</th>\n",
       "      <th>Rv0950c_KO_vs_CB_WT</th>\n",
       "      <th>Rv0954_KO_vs_RJ_WT</th>\n",
       "      <th>Rv1096_KO_vs_CB_WT</th>\n",
       "      <th>Rv3005c_KO_day32_vs_dejesus_H37Rv_day32</th>\n",
       "      <th>Rv3594_KO_vs_Rubin_FLUTE_WT</th>\n",
       "      <th>Rv3684_KO_vs_CB_WT</th>\n",
       "      <th>Rv3717_KO_vs_Rubin_FLUTE_WT</th>\n",
       "      <th>...</th>\n",
       "      <th>BXD69_vs_in_vitro_H37Rv</th>\n",
       "      <th>BXD73_vs_in_vitro_H37Rv</th>\n",
       "      <th>BXD73b_vs_in_vitro_H37Rv</th>\n",
       "      <th>BXD77_vs_in_vitro_H37Rv</th>\n",
       "      <th>BXD79_vs_in_vitro_H37Rv</th>\n",
       "      <th>BXD90_vs_in_vitro_H37Rv</th>\n",
       "      <th>BXD93_vs_in_vitro_H37Rv</th>\n",
       "      <th>BXD9_vs_in_vitro_H37Rv</th>\n",
       "      <th>C57BL.6J_vs_in_vitro_H37Rv</th>\n",
       "      <th>DBA.2J_vs_in_vitro_H37Rv</th>\n",
       "    </tr>\n",
       "  </thead>\n",
       "  <tbody>\n",
       "    <tr>\n",
       "      <th>0</th>\n",
       "      <td>Rv0001</td>\n",
       "      <td>1.0</td>\n",
       "      <td>1.0</td>\n",
       "      <td>1.0</td>\n",
       "      <td>1.0</td>\n",
       "      <td>1.0</td>\n",
       "      <td>0.73174</td>\n",
       "      <td>1.0</td>\n",
       "      <td>1.0</td>\n",
       "      <td>1.0</td>\n",
       "      <td>...</td>\n",
       "      <td>1.0</td>\n",
       "      <td>1.0</td>\n",
       "      <td>1.0</td>\n",
       "      <td>1.0</td>\n",
       "      <td>1.0</td>\n",
       "      <td>1.0</td>\n",
       "      <td>1.0</td>\n",
       "      <td>1.0</td>\n",
       "      <td>1.0</td>\n",
       "      <td>1.0</td>\n",
       "    </tr>\n",
       "  </tbody>\n",
       "</table>\n",
       "<p>1 rows × 147 columns</p>\n",
       "</div>"
      ],
      "text/plain": [
       "    Rv_ID  PE35_KO_vs_mbio_H37Rv  PPE68_KO_vs_mbio_H37Rv  Rv0950c_KO_vs_CB_WT  \\\n",
       "0  Rv0001                    1.0                     1.0                  1.0   \n",
       "\n",
       "   Rv0954_KO_vs_RJ_WT  Rv1096_KO_vs_CB_WT  \\\n",
       "0                 1.0                 1.0   \n",
       "\n",
       "   Rv3005c_KO_day32_vs_dejesus_H37Rv_day32  Rv3594_KO_vs_Rubin_FLUTE_WT  \\\n",
       "0                                  0.73174                          1.0   \n",
       "\n",
       "   Rv3684_KO_vs_CB_WT  Rv3717_KO_vs_Rubin_FLUTE_WT  ...  \\\n",
       "0                 1.0                          1.0  ...   \n",
       "\n",
       "   BXD69_vs_in_vitro_H37Rv  BXD73_vs_in_vitro_H37Rv  BXD73b_vs_in_vitro_H37Rv  \\\n",
       "0                      1.0                      1.0                       1.0   \n",
       "\n",
       "   BXD77_vs_in_vitro_H37Rv  BXD79_vs_in_vitro_H37Rv  BXD90_vs_in_vitro_H37Rv  \\\n",
       "0                      1.0                      1.0                      1.0   \n",
       "\n",
       "   BXD93_vs_in_vitro_H37Rv  BXD9_vs_in_vitro_H37Rv  \\\n",
       "0                      1.0                     1.0   \n",
       "\n",
       "   C57BL.6J_vs_in_vitro_H37Rv  DBA.2J_vs_in_vitro_H37Rv  \n",
       "0                         1.0                       1.0  \n",
       "\n",
       "[1 rows x 147 columns]"
      ]
     },
     "execution_count": 55,
     "metadata": {},
     "output_type": "execute_result"
    }
   ],
   "source": [
    "df_std_bxd_qval.head(1)"
   ]
  },
  {
   "cell_type": "markdown",
   "id": "e209d196-c45c-4753-a7b9-282e5cbce409",
   "metadata": {},
   "source": [
    "### Write to files: "
   ]
  },
  {
   "cell_type": "code",
   "execution_count": null,
   "id": "ab2d4d4d-0594-42cd-bc61-e9aeef579643",
   "metadata": {},
   "outputs": [],
   "source": [
    "fn_std_bxd_lfc = 'result_logfc_matrix_2023_02_20_BASIS_invitro.csv'\n",
    "fn_std_bxd_qval = 'result_qval_matrix_2023_02_20_BASIS_invitro.csv'\n",
    "\n",
    "df_std_bxd_qval."
   ]
  }
 ],
 "metadata": {
  "kernelspec": {
   "display_name": "Python 3 (ipykernel)",
   "language": "python",
   "name": "python3"
  },
  "language_info": {
   "codemirror_mode": {
    "name": "ipython",
    "version": 3
   },
   "file_extension": ".py",
   "mimetype": "text/x-python",
   "name": "python",
   "nbconvert_exporter": "python",
   "pygments_lexer": "ipython3",
   "version": "3.8.12"
  }
 },
 "nbformat": 4,
 "nbformat_minor": 5
}
