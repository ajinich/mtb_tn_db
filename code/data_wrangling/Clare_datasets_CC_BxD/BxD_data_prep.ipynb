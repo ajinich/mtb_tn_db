{
 "cells": [
  {
   "cell_type": "markdown",
   "id": "f9d7993d-7e33-4574-b8fe-4ef784356170",
   "metadata": {},
   "source": [
    "# Adding BxD dataset (Rachel Meade, Clare Smith) to standardized datafiles: "
   ]
  },
  {
   "cell_type": "code",
   "execution_count": 1,
   "id": "2bff5916-b9f5-45e6-ac8e-7657a8e15749",
   "metadata": {},
   "outputs": [],
   "source": [
    "import pandas as pd\n",
    "import os"
   ]
  },
  {
   "cell_type": "markdown",
   "id": "2844a1e2-0b5d-4ee6-83dc-2d3ebf823af8",
   "metadata": {},
   "source": [
    "# INTERLUDE: \n",
    "### Checking out the number and identity of screens in the dash website database (updated as of 07/10/23)\n",
    "\n",
    "We want to make sure both are equally up to date. "
   ]
  },
  {
   "cell_type": "code",
   "execution_count": 2,
   "id": "940e7bb3-ca17-4f1a-bc4d-9f1c583c4ce8",
   "metadata": {},
   "outputs": [],
   "source": [
    "path_dash = '../../../data'\n",
    "fn_path = os.path.join(path_dash, 'standardized_data_dash.tsv')\n",
    "df_dash = pd.read_csv(fn_path, sep = '\\t')\n",
    "list_exp = df_dash.Expt.unique().tolist()"
   ]
  },
  {
   "cell_type": "code",
   "execution_count": 3,
   "id": "f5a34c59-eb2c-46ce-b79f-7dc9ce494bc6",
   "metadata": {},
   "outputs": [
    {
     "name": "stdout",
     "output_type": "stream",
     "text": [
      "there are this many total screens in the dash site: 146\n"
     ]
    }
   ],
   "source": [
    "print('there are this many total screens in the dash site:', len(list_exp))"
   ]
  },
  {
   "cell_type": "code",
   "execution_count": 4,
   "id": "74d2235c-92ce-4054-a5f9-ac5b5644f678",
   "metadata": {},
   "outputs": [
    {
     "name": "stdout",
     "output_type": "stream",
     "text": [
      "There are this many CC-panel screens in the dash site: 61\n"
     ]
    }
   ],
   "source": [
    "list_CC = [exp for exp in list_exp if 'CC' in exp]\n",
    "list_CC = list_CC + ['129s1.SvImJ_vs_in_vitro',\n",
    "    'A.J_vs_in_vitro', \n",
    "    'Cast.EiJ_vs_in_vitro',\n",
    "    'IFNG_vs_in_vitro',\n",
    "    'NOD.ShiLtJ_vs_in_vitro',\n",
    "    'NOS_vs_in_vitro',\n",
    "    'NZO.H1LtJ_vs_in_vitro',\n",
    "    'PWK.PhJ_vs_in_vitro',\n",
    "    'Phox_vs_in_vitro',\n",
    "    'Rag_vs_in_vitro',\n",
    "    'Wsb.Eij_vs_in_vitro',\n",
    "    'mbio_H37Rv_vs_in_vitro',\n",
    "    'C57BL.6J_vs_in_vitro']\n",
    "print('There are this many CC-panel screens in the dash site:', len(list_CC))"
   ]
  },
  {
   "cell_type": "code",
   "execution_count": 5,
   "id": "51341dcc-dffb-4699-b3be-d05ef5d98e50",
   "metadata": {},
   "outputs": [
    {
     "name": "stdout",
     "output_type": "stream",
     "text": [
      "There are this many BxD screens in the Dash site: 21\n"
     ]
    }
   ],
   "source": [
    "list_bxd = [exp for exp in list_exp if 'BXD' in exp]\n",
    "list_bxd = list_bxd + ['C57BL.6J_vs_in_vitro_H37Rv', 'DBA.2J_vs_in_vitro_H37Rv']\n",
    "print('There are this many BxD screens in the Dash site:', len(list_bxd))"
   ]
  },
  {
   "cell_type": "code",
   "execution_count": 6,
   "id": "d9a24ee6-faec-43e5-8296-a19db53c05d5",
   "metadata": {},
   "outputs": [
    {
     "name": "stdout",
     "output_type": "stream",
     "text": [
      "There are this many remainder screens: 64\n"
     ]
    }
   ],
   "source": [
    "list_rem = [exp for exp in list_exp if exp not in list_CC + list_bxd]\n",
    "print('There are this many remainder screens:', len(list_rem))"
   ]
  },
  {
   "cell_type": "code",
   "execution_count": 7,
   "id": "2fe0d43b-dd7e-4016-a01a-5d07394d342b",
   "metadata": {},
   "outputs": [
    {
     "data": {
      "text/plain": [
       "['bellerose_MB_HRZE_wk1_vs_bellerose_MB_d21_untreated',\n",
       " 'bellerose_MB_HRZE_wk1_vs_bellerose_MB_pretreatment',\n",
       " 'bellerose_MB_d21_untreated_vs_bellerose_MB_pretreatment',\n",
       " 'griffin_cholesterol_vs_griffin_glycerol',\n",
       " 'griffin_glycerol_vs_mbio_H37Rv',\n",
       " 'kieser_dPonA1_vs_mbio_H37Rv',\n",
       " 'korte_2016_otsa_trehalose_vs_korte_2016_otsa_7h9',\n",
       " 'minato_minimal_plate_vs_minato_rich_plate',\n",
       " 'mishra_C3H_vs_mishra_B6',\n",
       " 'mishra_NOS2_vs_mishra_B6',\n",
       " 'mishra_NOS2_vs_mishra_C3H',\n",
       " 'nambi_2015_ctpC_vs_nambi_2015_wt',\n",
       " 'ritterhaus_hypoxia_H3_vs_ritterhaus_hypoxia_input',\n",
       " 'ritterhaus_hypoxia_H6_vs_ritterhaus_hypoxia_input']"
      ]
     },
     "execution_count": 7,
     "metadata": {},
     "output_type": "execute_result"
    }
   ],
   "source": [
    "list_carey = [exp for exp in list_rem if 'carey' in exp]\n",
    "list_KO = [exp for exp in list_rem if 'KO' in exp]\n",
    "list_dejesus = [exp for exp in list_rem if 'dejesus' in exp]\n",
    "list_xu = [exp for exp in list_rem if 'xu_' in exp]\n",
    "list_zhang = [exp for exp in list_rem if 'zhang' in exp]\n",
    "list_temp = list_carey + list_KO + list_dejesus + list_xu + list_zhang\n",
    "\n",
    "list_rem_rem = [exp for exp in list_rem if exp not in list_temp]\n",
    "list_rem_rem"
   ]
  },
  {
   "cell_type": "code",
   "execution_count": 8,
   "id": "762e3946-b39a-41ab-9af2-c4beff315d73",
   "metadata": {},
   "outputs": [
    {
     "data": {
      "text/plain": [
       "13"
      ]
     },
     "execution_count": 8,
     "metadata": {},
     "output_type": "execute_result"
    }
   ],
   "source": [
    "len(list_KO)"
   ]
  },
  {
   "cell_type": "markdown",
   "id": "fc624534-a2ba-4fc0-adf6-2e9546c243d2",
   "metadata": {},
   "source": [
    "### Load raw, full BxD datasets from Rachel Meade:"
   ]
  },
  {
   "cell_type": "code",
   "execution_count": 9,
   "id": "0fd92e06-8276-4425-815d-145c8889bfb9",
   "metadata": {},
   "outputs": [
    {
     "data": {
      "text/html": [
       "<div>\n",
       "<style scoped>\n",
       "    .dataframe tbody tr th:only-of-type {\n",
       "        vertical-align: middle;\n",
       "    }\n",
       "\n",
       "    .dataframe tbody tr th {\n",
       "        vertical-align: top;\n",
       "    }\n",
       "\n",
       "    .dataframe thead th {\n",
       "        text-align: right;\n",
       "    }\n",
       "</style>\n",
       "<table border=\"1\" class=\"dataframe\">\n",
       "  <thead>\n",
       "    <tr style=\"text-align: right;\">\n",
       "      <th></th>\n",
       "      <th>Orf</th>\n",
       "      <th>Name</th>\n",
       "      <th>Desc</th>\n",
       "      <th>Sites</th>\n",
       "      <th>Sites_Hit</th>\n",
       "      <th>C57BL.6J</th>\n",
       "      <th>C57BL.6J_pval</th>\n",
       "      <th>C57BL.6J_Qval</th>\n",
       "      <th>DBA.2J</th>\n",
       "      <th>DBA.2J_pval</th>\n",
       "      <th>...</th>\n",
       "      <th>BXD79_Qval</th>\n",
       "      <th>BXD90</th>\n",
       "      <th>BXD90_pval</th>\n",
       "      <th>BXD90_Qval</th>\n",
       "      <th>BXD93</th>\n",
       "      <th>BXD93_pval</th>\n",
       "      <th>BXD93_Qval</th>\n",
       "      <th>BXD102</th>\n",
       "      <th>BXD102_pval</th>\n",
       "      <th>BXD102_Qval</th>\n",
       "    </tr>\n",
       "  </thead>\n",
       "  <tbody>\n",
       "    <tr>\n",
       "      <th>1</th>\n",
       "      <td>Rv0001</td>\n",
       "      <td>dnaA</td>\n",
       "      <td>chromosomal replication initiation protein</td>\n",
       "      <td>31</td>\n",
       "      <td>0</td>\n",
       "      <td>0.0</td>\n",
       "      <td>1.0</td>\n",
       "      <td>1.0</td>\n",
       "      <td>0.0</td>\n",
       "      <td>1.0</td>\n",
       "      <td>...</td>\n",
       "      <td>1.0</td>\n",
       "      <td>0.0</td>\n",
       "      <td>1.0</td>\n",
       "      <td>1.0</td>\n",
       "      <td>0.0</td>\n",
       "      <td>1.0</td>\n",
       "      <td>1.0</td>\n",
       "      <td>0.0</td>\n",
       "      <td>1.0</td>\n",
       "      <td>1.0</td>\n",
       "    </tr>\n",
       "  </tbody>\n",
       "</table>\n",
       "<p>1 rows × 68 columns</p>\n",
       "</div>"
      ],
      "text/plain": [
       "      Orf  Name                                         Desc  Sites  \\\n",
       "1  Rv0001  dnaA  chromosomal replication initiation protein      31   \n",
       "\n",
       "   Sites_Hit  C57BL.6J  C57BL.6J_pval  C57BL.6J_Qval  DBA.2J  DBA.2J_pval  \\\n",
       "1          0       0.0            1.0            1.0     0.0          1.0   \n",
       "\n",
       "   ...  BXD79_Qval  BXD90  BXD90_pval  BXD90_Qval  BXD93  BXD93_pval  \\\n",
       "1  ...         1.0    0.0         1.0         1.0    0.0         1.0   \n",
       "\n",
       "   BXD93_Qval  BXD102  BXD102_pval  BXD102_Qval  \n",
       "1         1.0     0.0          1.0          1.0  \n",
       "\n",
       "[1 rows x 68 columns]"
      ]
     },
     "execution_count": 9,
     "metadata": {},
     "output_type": "execute_result"
    }
   ],
   "source": [
    "path_bxd = '../../../data/standardized_data/BXD_TnSeq'\n",
    "fn_bxd = '2022.02.15_BXD_TRANSIT_BGC_1pseudo_output_RKM_wPvals_Unthresholded.csv'\n",
    "fn_bxd_path = os.path.join(path_bxd, fn_bxd)\n",
    "\n",
    "df_bxd = pd.read_csv(fn_bxd_path,  index_col = 0)\n",
    "df_bxd.head(1)"
   ]
  },
  {
   "cell_type": "markdown",
   "id": "9bb02c6e-12c8-48a8-adc7-2f806d0eec3a",
   "metadata": {},
   "source": [
    "### Grab BxD L2FC columns: "
   ]
  },
  {
   "cell_type": "code",
   "execution_count": 10,
   "id": "5d262463-1dba-415e-a40d-c4fce54692c5",
   "metadata": {},
   "outputs": [
    {
     "data": {
      "text/html": [
       "<div>\n",
       "<style scoped>\n",
       "    .dataframe tbody tr th:only-of-type {\n",
       "        vertical-align: middle;\n",
       "    }\n",
       "\n",
       "    .dataframe tbody tr th {\n",
       "        vertical-align: top;\n",
       "    }\n",
       "\n",
       "    .dataframe thead th {\n",
       "        text-align: right;\n",
       "    }\n",
       "</style>\n",
       "<table border=\"1\" class=\"dataframe\">\n",
       "  <thead>\n",
       "    <tr style=\"text-align: right;\">\n",
       "      <th></th>\n",
       "      <th>Rv_ID</th>\n",
       "      <th>BXD102</th>\n",
       "      <th>BXD29</th>\n",
       "      <th>BXD39</th>\n",
       "      <th>BXD40</th>\n",
       "      <th>BXD48a</th>\n",
       "      <th>BXD51</th>\n",
       "      <th>BXD54</th>\n",
       "      <th>BXD56</th>\n",
       "      <th>BXD60</th>\n",
       "      <th>...</th>\n",
       "      <th>BXD69</th>\n",
       "      <th>BXD73</th>\n",
       "      <th>BXD73b</th>\n",
       "      <th>BXD77</th>\n",
       "      <th>BXD79</th>\n",
       "      <th>BXD9</th>\n",
       "      <th>BXD90</th>\n",
       "      <th>BXD93</th>\n",
       "      <th>C57BL.6J</th>\n",
       "      <th>DBA.2J</th>\n",
       "    </tr>\n",
       "  </thead>\n",
       "  <tbody>\n",
       "    <tr>\n",
       "      <th>1</th>\n",
       "      <td>Rv0001</td>\n",
       "      <td>0.0</td>\n",
       "      <td>0.0</td>\n",
       "      <td>0.0</td>\n",
       "      <td>0.0</td>\n",
       "      <td>0.0</td>\n",
       "      <td>0.86</td>\n",
       "      <td>0.0</td>\n",
       "      <td>0.0</td>\n",
       "      <td>0.0</td>\n",
       "      <td>...</td>\n",
       "      <td>0.0</td>\n",
       "      <td>0.0</td>\n",
       "      <td>0.0</td>\n",
       "      <td>0.0</td>\n",
       "      <td>0.0</td>\n",
       "      <td>0.0</td>\n",
       "      <td>0.0</td>\n",
       "      <td>0.0</td>\n",
       "      <td>0.0</td>\n",
       "      <td>0.0</td>\n",
       "    </tr>\n",
       "  </tbody>\n",
       "</table>\n",
       "<p>1 rows × 22 columns</p>\n",
       "</div>"
      ],
      "text/plain": [
       "    Rv_ID  BXD102  BXD29  BXD39  BXD40  BXD48a  BXD51  BXD54  BXD56  BXD60  \\\n",
       "1  Rv0001     0.0    0.0    0.0    0.0     0.0   0.86    0.0    0.0    0.0   \n",
       "\n",
       "   ...  BXD69  BXD73  BXD73b  BXD77  BXD79  BXD9  BXD90  BXD93  C57BL.6J  \\\n",
       "1  ...    0.0    0.0     0.0    0.0    0.0   0.0    0.0    0.0       0.0   \n",
       "\n",
       "   DBA.2J  \n",
       "1     0.0  \n",
       "\n",
       "[1 rows x 22 columns]"
      ]
     },
     "execution_count": 10,
     "metadata": {},
     "output_type": "execute_result"
    }
   ],
   "source": [
    "cols_lfc = list(set([col.split('_')[0] for col in df_bxd.columns[5:]]))\n",
    "cols_lfc.sort()\n",
    "cols = ['Orf'] + cols_lfc\n",
    "\n",
    "df_bxd_lfc = df_bxd[cols].copy()\n",
    "df_bxd_lfc.rename(columns={'Orf':'Rv_ID'}, inplace=True)\n",
    "df_bxd_lfc.head(1)"
   ]
  },
  {
   "cell_type": "markdown",
   "id": "591f8479-425c-4095-a16d-d21707438b4c",
   "metadata": {},
   "source": [
    "### Grab BxD q-value columns: "
   ]
  },
  {
   "cell_type": "code",
   "execution_count": 11,
   "id": "77da445b-bcd3-4180-a481-71f98848e763",
   "metadata": {},
   "outputs": [
    {
     "data": {
      "text/html": [
       "<div>\n",
       "<style scoped>\n",
       "    .dataframe tbody tr th:only-of-type {\n",
       "        vertical-align: middle;\n",
       "    }\n",
       "\n",
       "    .dataframe tbody tr th {\n",
       "        vertical-align: top;\n",
       "    }\n",
       "\n",
       "    .dataframe thead th {\n",
       "        text-align: right;\n",
       "    }\n",
       "</style>\n",
       "<table border=\"1\" class=\"dataframe\">\n",
       "  <thead>\n",
       "    <tr style=\"text-align: right;\">\n",
       "      <th></th>\n",
       "      <th>Rv_ID</th>\n",
       "      <th>BXD102</th>\n",
       "      <th>BXD29</th>\n",
       "      <th>BXD39</th>\n",
       "      <th>BXD40</th>\n",
       "      <th>BXD48a</th>\n",
       "      <th>BXD51</th>\n",
       "      <th>BXD54</th>\n",
       "      <th>BXD56</th>\n",
       "      <th>BXD60</th>\n",
       "      <th>...</th>\n",
       "      <th>BXD69</th>\n",
       "      <th>BXD73</th>\n",
       "      <th>BXD73b</th>\n",
       "      <th>BXD77</th>\n",
       "      <th>BXD79</th>\n",
       "      <th>BXD90</th>\n",
       "      <th>BXD93</th>\n",
       "      <th>BXD9</th>\n",
       "      <th>C57BL.6J</th>\n",
       "      <th>DBA.2J</th>\n",
       "    </tr>\n",
       "  </thead>\n",
       "  <tbody>\n",
       "    <tr>\n",
       "      <th>1</th>\n",
       "      <td>Rv0001</td>\n",
       "      <td>1.0</td>\n",
       "      <td>1.0</td>\n",
       "      <td>1.0</td>\n",
       "      <td>1.0</td>\n",
       "      <td>1.0</td>\n",
       "      <td>0.7414</td>\n",
       "      <td>1.0</td>\n",
       "      <td>1.0</td>\n",
       "      <td>1.0</td>\n",
       "      <td>...</td>\n",
       "      <td>1.0</td>\n",
       "      <td>1.0</td>\n",
       "      <td>1.0</td>\n",
       "      <td>1.0</td>\n",
       "      <td>1.0</td>\n",
       "      <td>1.0</td>\n",
       "      <td>1.0</td>\n",
       "      <td>1.0</td>\n",
       "      <td>1.0</td>\n",
       "      <td>1.0</td>\n",
       "    </tr>\n",
       "  </tbody>\n",
       "</table>\n",
       "<p>1 rows × 22 columns</p>\n",
       "</div>"
      ],
      "text/plain": [
       "    Rv_ID  BXD102  BXD29  BXD39  BXD40  BXD48a   BXD51  BXD54  BXD56  BXD60  \\\n",
       "1  Rv0001     1.0    1.0    1.0    1.0     1.0  0.7414    1.0    1.0    1.0   \n",
       "\n",
       "   ...  BXD69  BXD73  BXD73b  BXD77  BXD79  BXD90  BXD93  BXD9  C57BL.6J  \\\n",
       "1  ...    1.0    1.0     1.0    1.0    1.0    1.0    1.0   1.0       1.0   \n",
       "\n",
       "   DBA.2J  \n",
       "1     1.0  \n",
       "\n",
       "[1 rows x 22 columns]"
      ]
     },
     "execution_count": 11,
     "metadata": {},
     "output_type": "execute_result"
    }
   ],
   "source": [
    "cols_qval = [col for col in df_bxd.columns[5:] if 'Qval' in col]\n",
    "cols_qval.sort()\n",
    "cols = ['Orf'] + cols_qval\n",
    "df_bxd_qval = df_bxd[cols].copy()\n",
    "df_bxd_qval.rename(columns={'Orf':'Rv_ID'}, inplace=True)\n",
    "\n",
    "# Rename columns to get rid of the \"Qval\"\n",
    "dict_cols = {col:col.split('_')[0] for col in df_bxd_qval.columns[1:]}\n",
    "df_bxd_qval.rename(columns=dict_cols, inplace=True)\n",
    "df_bxd_qval.head(1)"
   ]
  },
  {
   "cell_type": "markdown",
   "id": "cc307c9d-a826-45cc-898d-dc791443a764",
   "metadata": {},
   "source": [
    "##### Append control condition to column names: "
   ]
  },
  {
   "cell_type": "code",
   "execution_count": 12,
   "id": "422a1c44-ff87-4cb8-bc19-59282de67903",
   "metadata": {},
   "outputs": [],
   "source": [
    "dict_cols_lfc = {col:col+'_vs_in_vitro_H37Rv' for col in df_bxd_lfc.columns[1:]}\n",
    "dict_cols_qval = {col:col+'_vs_in_vitro_H37Rv' for col in df_bxd_qval.columns[1:]}\n",
    "df_bxd_qval.rename(columns=dict_cols_qval, inplace=True)\n",
    "df_bxd_lfc.rename(columns=dict_cols_lfc, inplace=True)"
   ]
  },
  {
   "cell_type": "markdown",
   "id": "3e2e61cf-a8ee-40d9-8107-bc76821405f4",
   "metadata": {},
   "source": [
    "### Grab standardized dataset (L2FC dataframe, q-values dataframe)"
   ]
  },
  {
   "cell_type": "markdown",
   "id": "f1510c7f-d65b-441d-8921-ac3845f98ab6",
   "metadata": {},
   "source": [
    "#### PAUSE! \n",
    "- Make sure you grab the correct datasets. \n",
    "- Use this as an opportunity to clean up the data/standardized_data folder. Send everything else to an old dataset.\n",
    "- Document where you added the CC-panel datasets. "
   ]
  },
  {
   "cell_type": "code",
   "execution_count": 13,
   "id": "9450421a-5ca4-43ee-aec5-ba4e919860f8",
   "metadata": {},
   "outputs": [
    {
     "name": "stdout",
     "output_type": "stream",
     "text": [
      "(4055, 126) (4055, 126)\n",
      "(3990, 22) (4055, 126)\n",
      "(4055, 147)\n",
      "(3990, 22) (4055, 126)\n",
      "(4055, 147)\n"
     ]
    }
   ],
   "source": [
    "path_std = '../../../data/standardized_data/old_std_data'\n",
    "fn_std_lfc = os.path.join(path_std, 'result_logfc_matrix_2023_02_21_CC_invitroref.csv')\n",
    "fn_std_qval = os.path.join(path_std, 'result_qval_matrix_2023_02_21_CC_invitroref.csv')\n",
    "\n",
    "# Load as dataframes: \n",
    "df_std_lfc = pd.read_csv(fn_std_lfc)\n",
    "df_std_qval = pd.read_csv(fn_std_qval)\n",
    "# shapes: \n",
    "print(df_std_lfc.shape, df_std_qval.shape)\n",
    "\n",
    "#### Merging LFC dataframes: \n",
    "print(df_bxd_lfc.shape, df_std_lfc.shape)\n",
    "df_std_bxd_lfc = df_std_lfc.merge(df_bxd_lfc, how = 'left', on='Rv_ID')\n",
    "print(df_std_bxd_lfc.shape)\n",
    "\n",
    "#### Merging q-value dataframes: \n",
    "print( df_bxd_qval.shape, df_std_qval.shape )\n",
    "df_std_bxd_qval = df_std_qval.merge(df_bxd_qval, how = 'left', on='Rv_ID')\n",
    "print( df_std_bxd_qval.shape )\n",
    "\n",
    "### Write to files: \n",
    "fn_std_bxd_qval = os.path.join(path_std, 'result_qval_matrix_2023_02_20_CC_BxD.csv')\n",
    "fn_std_bxd_lfc = os.path.join(path_std, 'result_logfc_matrix_2023_02_20_CC_BxD.csv')\n",
    "df_std_bxd_qval.to_csv(fn_std_bxd_qval, index = False)\n",
    "df_std_bxd_lfc.to_csv(fn_std_bxd_lfc, index = False)"
   ]
  },
  {
   "cell_type": "markdown",
   "id": "5a4440e2-c66c-44b1-95df-966557461a7f",
   "metadata": {},
   "source": [
    "#### Repeat but with data that has both in-vitro and mBio controls: "
   ]
  },
  {
   "cell_type": "code",
   "execution_count": 14,
   "id": "2d76b53e-a9b9-4df2-b5a9-b54e351be86f",
   "metadata": {},
   "outputs": [
    {
     "name": "stdout",
     "output_type": "stream",
     "text": [
      "(4055, 187) (4055, 187)\n",
      "(3990, 22) (4055, 187)\n",
      "(4055, 208)\n",
      "(3990, 22) (4055, 187)\n",
      "(4055, 208)\n"
     ]
    }
   ],
   "source": [
    "path_std = '../../../data/standardized_data/old_std_data'\n",
    "fn_std_lfc = os.path.join(path_std, 'result_logfc_matrix_2023_02_21_CC_invitro_mbio_ref.csv')\n",
    "fn_std_qval = os.path.join(path_std, 'result_qval_matrix_2023_02_21_CC_invitro_mbio_ref.csv')\n",
    "\n",
    "# Load as dataframes: \n",
    "df_std_lfc = pd.read_csv(fn_std_lfc)\n",
    "df_std_qval = pd.read_csv(fn_std_qval)\n",
    "# shapes: \n",
    "print(df_std_lfc.shape, df_std_qval.shape)\n",
    "\n",
    "#### Merging LFC dataframes: \n",
    "print(df_bxd_lfc.shape, df_std_lfc.shape)\n",
    "df_std_bxd_lfc = df_std_lfc.merge(df_bxd_lfc, how = 'left', on='Rv_ID')\n",
    "print(df_std_bxd_lfc.shape)\n",
    "\n",
    "#### Merging q-value dataframes: \n",
    "print( df_bxd_qval.shape, df_std_qval.shape )\n",
    "df_std_bxd_qval = df_std_qval.merge(df_bxd_qval, how = 'left', on='Rv_ID')\n",
    "print( df_std_bxd_qval.shape )\n",
    "\n",
    "### Write to files: \n",
    "fn_std_bxd_lfc = os.path.join(path_std, 'result_logfc_matrix_2023_02_20_CC_w_mbio_BxD.csv')\n",
    "fn_std_bxd_qval = os.path.join(path_std, 'result_qval_matrix_2023_02_20_CC_w_mbio_wBxD.csv')\n",
    "df_std_bxd_lfc.to_csv(fn_std_bxd_lfc, index = False)\n",
    "df_std_bxd_qval.to_csv(fn_std_bxd_qval, index = False)"
   ]
  },
  {
   "cell_type": "markdown",
   "id": "4e5b4d4e-d725-484e-890b-a7f1fcefec1c",
   "metadata": {},
   "source": [
    "## Make sure everything is in order in the SI datasets: "
   ]
  },
  {
   "cell_type": "code",
   "execution_count": 15,
   "id": "7865533e-ad51-48c8-a2b3-c9ae95a5c346",
   "metadata": {},
   "outputs": [
    {
     "data": {
      "text/plain": [
       "(3990, 42)"
      ]
     },
     "execution_count": 15,
     "metadata": {},
     "output_type": "execute_result"
    }
   ],
   "source": [
    "path_SI = '../../../data/SI_datasets'\n",
    "fn_SI = os.path.join(path_SI, 'SI_log2FC.csv')\n",
    "df_lfc_SI = pd.read_csv(fn_SI)\n",
    "df_lfc_SI.shape"
   ]
  }
 ],
 "metadata": {
  "kernelspec": {
   "display_name": "Python 3 (ipykernel)",
   "language": "python",
   "name": "python3"
  },
  "language_info": {
   "codemirror_mode": {
    "name": "ipython",
    "version": 3
   },
   "file_extension": ".py",
   "mimetype": "text/x-python",
   "name": "python",
   "nbconvert_exporter": "python",
   "pygments_lexer": "ipython3",
   "version": "3.12.2"
  }
 },
 "nbformat": 4,
 "nbformat_minor": 5
}
