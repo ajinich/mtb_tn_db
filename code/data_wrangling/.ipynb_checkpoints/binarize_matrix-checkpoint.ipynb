{
 "cells": [
  {
   "cell_type": "markdown",
   "metadata": {},
   "source": [
    "#### imports "
   ]
  },
  {
   "cell_type": "code",
   "execution_count": 1,
   "metadata": {},
   "outputs": [],
   "source": [
    "import pandas as pd\n",
    "import os"
   ]
  },
  {
   "cell_type": "markdown",
   "metadata": {},
   "source": [
    "# Standardized data: "
   ]
  },
  {
   "cell_type": "markdown",
   "metadata": {},
   "source": [
    "#### files and dirs"
   ]
  },
  {
   "cell_type": "code",
   "execution_count": 36,
   "metadata": {},
   "outputs": [],
   "source": [
    "dir_root = '../../'\n",
    "dir_data = os.path.join(dir_root, 'data/standardized_data')\n",
    "\n",
    "# standardized data:\n",
    "file_qvals = os.path.join(dir_data, 'result_qval_matrix_2020_06_27.csv')\n",
    "file_log2fc = os.path.join(dir_data, 'result_logfc_matrix_2020_06_27.csv')\n",
    "file_bin = os.path.join(dir_data, 'result_bin_matrix_2020_06_27.csv')"
   ]
  },
  {
   "cell_type": "markdown",
   "metadata": {},
   "source": [
    "#### qval and log2fc dataframes"
   ]
  },
  {
   "cell_type": "code",
   "execution_count": 38,
   "metadata": {},
   "outputs": [],
   "source": [
    "df_qvals = pd.read_csv(file_qvals)\n",
    "df_log2fc = pd.read_csv(file_log2fc)\n",
    "\n",
    "df_qvals.rename(columns={'Unnamed: 0': 'Rv_ID'}, inplace = True)\n",
    "df_log2fc.rename(columns={'Unnamed: 0': 'Rv_ID'}, inplace = True)\n",
    "\n",
    "print(df_qvals.shape)\n",
    "print(df_log2fc.shape)"
   ]
  },
  {
   "cell_type": "markdown",
   "metadata": {},
   "source": [
    "#### Discard the carey_621_vs_mbio_H37Rv columns, keep only the carey_621_vs_carey_rv columns. "
   ]
  },
  {
   "cell_type": "code",
   "execution_count": null,
   "metadata": {},
   "outputs": [],
   "source": [
    "cols_to_drop = [col for col in df_qvals.columns if \"carey\" in col and \"mbio_H37Rv\" in col]\n",
    "\n",
    "df_qvals.drop(cols_to_drop, axis = 1, inplace = True)\n",
    "df_log2fc.drop(cols_to_drop, axis = 1, inplace = True)\n",
    "\n",
    "print(df_qvals.shape)\n",
    "print(df_log2fc.shape)"
   ]
  },
  {
   "cell_type": "markdown",
   "metadata": {},
   "source": [
    "#### binarize"
   ]
  },
  {
   "cell_type": "code",
   "execution_count": 46,
   "metadata": {},
   "outputs": [],
   "source": [
    "# set thresholds\n",
    "qval_thresh = 0.05\n",
    "log2fc_tresh = 1\n",
    "# initialized binary dataframe\n",
    "df_bin = df_qvals.copy()\n",
    "\n",
    "cols_data = df_qvals.columns[1:]\n",
    "for col in cols_data:\n",
    "    df_bin.loc[ (df_qvals[col] <= qval_thresh) & (df_log2fc[col].abs() >= log2fc_tresh), col ] = 1\n",
    "    df_bin.loc[ (df_qvals[col] > qval_thresh), col ] = 0  \n",
    "    df_bin.loc[(df_log2fc[col].abs() < log2fc_tresh), col] = 0"
   ]
  },
  {
   "cell_type": "markdown",
   "metadata": {},
   "source": [
    "write to file: "
   ]
  },
  {
   "cell_type": "code",
   "execution_count": 30,
   "metadata": {},
   "outputs": [],
   "source": [
    "file_qvals_out = os.path.join(dir_data, 'result_qval_matrix_2020_08_27.csv')\n",
    "file_log2fc_out = os.path.join(dir_data, 'result_logfc_matrix_2020_08_27.csv')\n",
    "file_bin_out = os.path.join(dir_data, 'result_bin_matrix_2020_08_27.csv')\n",
    "\n",
    "df_bin.to_csv(file_bin_out, index = False)\n",
    "df_qvals.to_csv(file_qvals_out, index = False)\n",
    "df_log2fc.to_csv(file_log2fc_out, index = False)"
   ]
  },
  {
   "cell_type": "markdown",
   "metadata": {},
   "source": [
    "# SI datasets: "
   ]
  },
  {
   "cell_type": "code",
   "execution_count": 27,
   "metadata": {},
   "outputs": [],
   "source": [
    "dir_root = '../../'\n",
    "dir_data = os.path.join(dir_root, 'data/SI_datasets')\n",
    "\n",
    "# SI data:\n",
    "file_qvals = os.path.join(dir_data, 'SI_qval.csv')\n",
    "file_log2fc = os.path.join(dir_data, 'SI_log2FC.csv')\n",
    "file_bin = os.path.join(dir_data, 'SI_bin.csv')"
   ]
  },
  {
   "cell_type": "code",
   "execution_count": 28,
   "metadata": {},
   "outputs": [],
   "source": [
    "df_qvals = pd.read_csv(file_qvals)\n",
    "df_log2fc = pd.read_csv(file_log2fc)\n",
    "\n",
    "# replace NaN's (needed to binarize)\n",
    "df_qvals.fillna(1, inplace = True)\n",
    "df_log2fc.fillna(0, inplace = True)\n"
   ]
  },
  {
   "cell_type": "markdown",
   "metadata": {},
   "source": [
    "### binarize: "
   ]
  },
  {
   "cell_type": "code",
   "execution_count": 30,
   "metadata": {},
   "outputs": [],
   "source": [
    "# set thresholds\n",
    "qval_thresh = 0.05\n",
    "log2fc_tresh = 1\n",
    "# initialized binary dataframe\n",
    "df_bin = df_qvals.copy()\n",
    "\n",
    "cols_data = df_qvals.columns[2:]\n",
    "for col in cols_data:\n",
    "    df_bin.loc[ (df_qvals[col] <= qval_thresh) & (df_log2fc[col].abs() >= log2fc_tresh), col ] = 1\n",
    "    df_bin.loc[ (df_qvals[col] > qval_thresh), col ] = 0  \n",
    "    df_bin.loc[(df_log2fc[col].abs() < log2fc_tresh), col] = 0"
   ]
  },
  {
   "cell_type": "code",
   "execution_count": 32,
   "metadata": {},
   "outputs": [],
   "source": [
    "\n",
    "df_bin.to_csv(file_bin, index = False)"
   ]
  },
  {
   "cell_type": "code",
   "execution_count": null,
   "metadata": {},
   "outputs": [],
   "source": []
  }
 ],
 "metadata": {
  "kernelspec": {
   "display_name": "Python 3",
   "language": "python",
   "name": "python3"
  },
  "language_info": {
   "codemirror_mode": {
    "name": "ipython",
    "version": 3
   },
   "file_extension": ".py",
   "mimetype": "text/x-python",
   "name": "python",
   "nbconvert_exporter": "python",
   "pygments_lexer": "ipython3",
   "version": "3.7.4"
  }
 },
 "nbformat": 4,
 "nbformat_minor": 4
}
