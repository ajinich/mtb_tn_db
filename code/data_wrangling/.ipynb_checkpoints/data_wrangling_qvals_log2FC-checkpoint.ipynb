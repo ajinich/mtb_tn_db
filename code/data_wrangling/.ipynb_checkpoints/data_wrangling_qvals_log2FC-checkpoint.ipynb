{
 "cells": [
  {
   "cell_type": "markdown",
   "metadata": {},
   "source": [
    "# Data wrangling for *Mtb*-Tn-Mat project"
   ]
  },
  {
   "cell_type": "markdown",
   "metadata": {},
   "source": [
    "* reads in SI tables / files and compiles them into Pandas dataframe \n",
    "* version 2.0: goal is to have 3 matrices:\n",
    "    1. log2FC matrix\n",
    "    2. q-value matrix"
   ]
  },
  {
   "cell_type": "markdown",
   "metadata": {},
   "source": [
    "## Imports modules:"
   ]
  },
  {
   "cell_type": "code",
   "execution_count": 4,
   "metadata": {},
   "outputs": [
    {
     "name": "stdout",
     "output_type": "stream",
     "text": [
      "The autoreload extension is already loaded. To reload it, use:\n",
      "  %reload_ext autoreload\n"
     ]
    }
   ],
   "source": [
    "import pandas as pd\n",
    "import matplotlib.pyplot as plt\n",
    "import os\n",
    "import numpy as np\n",
    "from statsmodels.stats.multitest import multipletests\n",
    "from Tn_data_wrangling import *\n",
    "\n",
    "%load_ext autoreload\n",
    "%autoreload 2\n",
    "\n",
    "pd.options.mode.chained_assignment = None  # default='warn"
   ]
  },
  {
   "cell_type": "markdown",
   "metadata": {},
   "source": [
    "#### Read in full set of Rv_IDs and gene_names from tuberculist annotation: "
   ]
  },
  {
   "cell_type": "code",
   "execution_count": 5,
   "metadata": {},
   "outputs": [],
   "source": [
    "root_dir = '../..'\n",
    "data_path = os.path.join(root_dir, 'data')"
   ]
  },
  {
   "cell_type": "code",
   "execution_count": 6,
   "metadata": {},
   "outputs": [
    {
     "data": {
      "text/html": [
       "<div>\n",
       "<style scoped>\n",
       "    .dataframe tbody tr th:only-of-type {\n",
       "        vertical-align: middle;\n",
       "    }\n",
       "\n",
       "    .dataframe tbody tr th {\n",
       "        vertical-align: top;\n",
       "    }\n",
       "\n",
       "    .dataframe thead th {\n",
       "        text-align: right;\n",
       "    }\n",
       "</style>\n",
       "<table border=\"1\" class=\"dataframe\">\n",
       "  <thead>\n",
       "    <tr style=\"text-align: right;\">\n",
       "      <th></th>\n",
       "      <th>Rv_ID</th>\n",
       "      <th>gene_name</th>\n",
       "    </tr>\n",
       "  </thead>\n",
       "  <tbody>\n",
       "    <tr>\n",
       "      <th>0</th>\n",
       "      <td>Rv0001</td>\n",
       "      <td>dnaA</td>\n",
       "    </tr>\n",
       "    <tr>\n",
       "      <th>1</th>\n",
       "      <td>Rv0002</td>\n",
       "      <td>dnaN</td>\n",
       "    </tr>\n",
       "    <tr>\n",
       "      <th>2</th>\n",
       "      <td>Rv0003</td>\n",
       "      <td>recF</td>\n",
       "    </tr>\n",
       "  </tbody>\n",
       "</table>\n",
       "</div>"
      ],
      "text/plain": [
       "    Rv_ID gene_name\n",
       "0  Rv0001      dnaA\n",
       "1  Rv0002      dnaN\n",
       "2  Rv0003      recF"
      ]
     },
     "execution_count": 6,
     "metadata": {},
     "output_type": "execute_result"
    }
   ],
   "source": [
    "file_WG = 'annotations/H37Rv_tuberculist_functional_categories.xlsx'\n",
    "df_WG = pd.read_excel(os.path.join(data_path, file_WG))\n",
    "df_WG = df_WG[['Rv_ID', 'gene_name']]\n",
    "df_WG.head(3)"
   ]
  },
  {
   "cell_type": "markdown",
   "metadata": {},
   "source": [
    "## The first set of cases:\n",
    "\n",
    "These are the SI files and tables (19 columns) that are in the following format:\n",
    "\n",
    "they list the set of genes that are called (conditionally) essential in the Tn screen"
   ]
  },
  {
   "cell_type": "code",
   "execution_count": 13,
   "metadata": {},
   "outputs": [
    {
     "data": {
      "text/html": [
       "<div>\n",
       "<style scoped>\n",
       "    .dataframe tbody tr th:only-of-type {\n",
       "        vertical-align: middle;\n",
       "    }\n",
       "\n",
       "    .dataframe tbody tr th {\n",
       "        vertical-align: top;\n",
       "    }\n",
       "\n",
       "    .dataframe thead th {\n",
       "        text-align: right;\n",
       "    }\n",
       "</style>\n",
       "<table border=\"1\" class=\"dataframe\">\n",
       "  <thead>\n",
       "    <tr style=\"text-align: right;\">\n",
       "      <th></th>\n",
       "      <th>file</th>\n",
       "      <th>col_name</th>\n",
       "      <th>q_val_col_name</th>\n",
       "      <th>ratio_col_name</th>\n",
       "      <th>is_ratio_log2FC</th>\n",
       "    </tr>\n",
       "  </thead>\n",
       "  <tbody>\n",
       "    <tr>\n",
       "      <th>0</th>\n",
       "      <td>2003_Sassetti_Boyd_Rubin/table_1.xls</td>\n",
       "      <td>2003A_Sassetti</td>\n",
       "      <td>p_val</td>\n",
       "      <td>ratio</td>\n",
       "      <td>FALSE</td>\n",
       "    </tr>\n",
       "    <tr>\n",
       "      <th>1</th>\n",
       "      <td>2003_Sassetti_Rubin/table_3.xls</td>\n",
       "      <td>2003B_Sassetti</td>\n",
       "      <td>Week_8_P_value</td>\n",
       "      <td>Week_8_Ratio</td>\n",
       "      <td>FALSE</td>\n",
       "    </tr>\n",
       "  </tbody>\n",
       "</table>\n",
       "</div>"
      ],
      "text/plain": [
       "                                   file        col_name  q_val_col_name  \\\n",
       "0  2003_Sassetti_Boyd_Rubin/table_1.xls  2003A_Sassetti           p_val   \n",
       "1       2003_Sassetti_Rubin/table_3.xls  2003B_Sassetti  Week_8_P_value   \n",
       "\n",
       "  ratio_col_name is_ratio_log2FC  \n",
       "0          ratio           FALSE  \n",
       "1   Week_8_Ratio           FALSE  "
      ]
     },
     "execution_count": 13,
     "metadata": {},
     "output_type": "execute_result"
    }
   ],
   "source": [
    "# read in path/file_name to column name mapping for 'simple' cases:\n",
    "col_name_file = os.path.join( data_path, 'files_and_columns.csv') \n",
    "df_col_info_set1 = pd.read_csv(col_name_file)\n",
    "df_col_info_set1.head(2)"
   ]
  },
  {
   "cell_type": "markdown",
   "metadata": {},
   "source": [
    "#### Building q-value and log2FC matrix for first set of files: "
   ]
  },
  {
   "cell_type": "code",
   "execution_count": 14,
   "metadata": {},
   "outputs": [],
   "source": [
    "tn_data_path = os.path.join(root_dir, 'data/Tn_datasets')"
   ]
  },
  {
   "cell_type": "code",
   "execution_count": 18,
   "metadata": {},
   "outputs": [
    {
     "name": "stdout",
     "output_type": "stream",
     "text": [
      "2003_Sassetti_Boyd_Rubin/table_1.xls\n",
      "2003_Sassetti_Rubin/table_3.xls\n",
      "2005_Rengarajan_Rubin/table_2.xls\n",
      "2006_Joshi_Sassetti/table_1.xlsx\n",
      "2006_Joshi_Sassetti/table_2.xlsx\n",
      "2011_Griffin_Sassetti/table_4.xlsx\n",
      "2013_Zhang_Rubin/table_2.xlsx\n",
      "2013_Zhang_Rubin/table_3.xlsx\n",
      "2013_Zhang_Rubin/table_4A.xlsx\n",
      "2013_Zhang_Rubin/table_4B.xlsx\n",
      "2013_Zhang_Rubin/table_4C.xlsx\n"
     ]
    },
    {
     "name": "stderr",
     "output_type": "stream",
     "text": [
      "/Users/ajinich/Dropbox (Personal)/KyuRhee/unknown_function/phenotypic_screens/mtb_tn_repo/code/data_wrangling/Tn_data_wrangling.py:43: RuntimeWarning: divide by zero encountered in log2\n",
      "  df_tn[target_log2FC_col] = np.log2(df_tn[log2FC_col])\n"
     ]
    },
    {
     "name": "stdout",
     "output_type": "stream",
     "text": [
      "2013_Zhang_Rubin/table_4D.xlsx\n",
      "2016_Korte_Kalscheuer/table_1.xlsx\n",
      "2017_Mishra_Sassetti/table_1A.xlsx\n",
      "2017_Mishra_Sassetti/table_1B.xlsx\n",
      "2017_Mishra_Sassetti/table_1C.xlsx\n",
      "2017_Mishra_Sassetti/table_1D.xlsx\n",
      "2018_Rittershaus_Sassetti/table_2A.xlsx\n",
      "2018_Rittershaus_Sassetti/table_2B.xlsx\n"
     ]
    }
   ],
   "source": [
    "counter = 0\n",
    "\n",
    "for index, row in df_col_info_set1.iterrows():\n",
    "    \n",
    "    file_in = row['file']\n",
    "    print(file_in)\n",
    "    \n",
    "    # get column names (both from SI file and target column names in Tn-Matrix )\n",
    "    qval_col, log2FC_col, is_ratio_log2FC, col_name, target_qval_col, target_log2FC_col = get_col_names(file_in, df_col_info_set1)\n",
    "    \n",
    "    # get data from SI file and populate dataframe. \n",
    "    df_tn_qval_log2FC = build_q_val_ratio_df( os.path.join(tn_data_path, file_in), col_name, qval_col, log2FC_col, is_ratio_log2FC )\n",
    "    \n",
    "    # merge with whole genome (Rv-IDs and gene-names for all of H37Rv)\n",
    "    df_tn_qval_log2FC_WG = merge_with_whole_genome_qval_log2FC( df_WG, target_qval_col, target_log2FC_col, df_tn_qval_log2FC )\n",
    "\n",
    "    # merge with rest of data-files / columns. \n",
    "    if counter == 0:\n",
    "        df_tn_qval_log2FC_ALL = df_tn_qval_log2FC_WG.copy()\n",
    "    else:\n",
    "        df_tn_qval_log2FC_ALL = df_tn_qval_log2FC_ALL.merge(df_tn_qval_log2FC_WG, how = 'inner', on = ['Rv_ID', 'gene_name'])\n",
    "    \n",
    "    counter +=1"
   ]
  },
  {
   "cell_type": "code",
   "execution_count": 19,
   "metadata": {},
   "outputs": [
    {
     "data": {
      "text/plain": [
       "(3990, 40)"
      ]
     },
     "execution_count": 19,
     "metadata": {},
     "output_type": "execute_result"
    }
   ],
   "source": [
    "df_tn_qval_log2FC_ALL.shape"
   ]
  },
  {
   "cell_type": "markdown",
   "metadata": {},
   "source": [
    "## Second set of cases: \n",
    "\n",
    "These are SI datafiles and tables that have, for all genes in H37Rv, a column for q-vals and ratios."
   ]
  },
  {
   "cell_type": "markdown",
   "metadata": {},
   "source": [
    "Load spreasheet with file name-to-column mappings"
   ]
  },
  {
   "cell_type": "code",
   "execution_count": 21,
   "metadata": {},
   "outputs": [
    {
     "data": {
      "text/plain": [
       "(39, 5)"
      ]
     },
     "execution_count": 21,
     "metadata": {},
     "output_type": "execute_result"
    }
   ],
   "source": [
    "col_name_file = os.path.join( data_path, 'files_and_columns_set2.csv') \n",
    "df_col_info_set2 = pd.read_csv(col_name_file) \n",
    "df_col_info_set2.shape"
   ]
  },
  {
   "cell_type": "markdown",
   "metadata": {},
   "source": [
    "Get list of files (the last two are Michael's and in a different format): "
   ]
  },
  {
   "cell_type": "code",
   "execution_count": 26,
   "metadata": {},
   "outputs": [],
   "source": [
    "file_list = df_col_info_set2.file.values[:-2]"
   ]
  },
  {
   "cell_type": "code",
   "execution_count": 27,
   "metadata": {},
   "outputs": [
    {
     "name": "stdout",
     "output_type": "stream",
     "text": [
      "2012_Zhang_Rubin/table_4_sheet_600bp.xlsx\n",
      "2015_Kieser_Rubin/table_1A_edited.xlsx\n",
      "2015_Kieser_Rubin/table_1B_edited.xlsx\n",
      "2015_Kieser_Rubin/table_1C_edited.xlsx\n",
      "2015_Mendum_Stewart/table_1A.xlsx\n",
      "2016_Nambi_Sassetti/table_1.xlsx\n",
      "2017_Xu_Ehrt/table_3A.xlsx\n",
      "2017_Xu_Ehrt/table_3B.xlsx\n",
      "2017_Xu_Ehrt/table_3C.xlsx\n",
      "2017_Xu_Ehrt/table_3D.xlsx\n",
      "2017_Xu_Ehrt/table_3E.xlsx\n",
      "2018_Carey_Fortune/table_1A.xlsx\n",
      "2018_Carey_Fortune/table_1B.xlsx\n",
      "2018_Carey_Fortune/table_1C.xlsx\n",
      "2018_Carey_Fortune/table_1D.xlsx\n",
      "2018_Carey_Fortune/table_1E.xlsx\n",
      "2018_Carey_Fortune/table_1F.xlsx\n",
      "2018_Carey_Fortune/table_1G.xlsx\n",
      "2018_Carey_Fortune/table_1H.xlsx\n",
      "2017B_DeJesus_Iorger/table_1A.xlsx\n",
      "2017B_DeJesus_Iorger/table_1B.xlsx\n",
      "2017B_DeJesus_Iorger/table_1C.xlsx\n",
      "FLUTE_KO_TnSeq/FLUTE_log2fc/resampling_H37Rv_Rv1432_day32_TTR.xlsx\n",
      "FLUTE_KO_TnSeq/FLUTE_log2fc/resampling_H37Rv_Rv2680_day32_s10000_pc0.00.xlsx\n",
      "FLUTE_KO_TnSeq/FLUTE_log2fc/resampling_H37Rv_Rv1096_day0_s10000_pc0.00.xlsx\n",
      "FLUTE_KO_TnSeq/FLUTE_log2fc/resampling_WT_marP_s10000_pc0.00_1.xlsx\n",
      "FLUTE_KO_TnSeq/FLUTE_log2fc/resampling_H37Rv_Rv1565c_day32_TTR.xlsx\n",
      "FLUTE_KO_TnSeq/FLUTE_log2fc/resampling_H37Rv_vs_delta_Rv3717_TTR.xlsx\n",
      "FLUTE_KO_TnSeq/FLUTE_log2fc/resampling_WT_Rv0954_s10000_pc0.00.xlsx\n",
      "FLUTE_KO_TnSeq/FLUTE_log2fc/resampling_H37Rv_vs_delta_Rv3594_TTR.xlsx\n",
      "FLUTE_KO_TnSeq/FLUTE_log2fc/resampling_H37Rv_Rv0307c_day0_s10000_pc0.00.xlsx\n",
      "FLUTE_KO_TnSeq/FLUTE_log2fc/resampling_H37Rv_Rv3916c_day0_s10000_pc0.00.xlsx\n",
      "FLUTE_KO_TnSeq/FLUTE_log2fc/resampling_H37Rv_vs_delta_Rv3811_TTR.xlsx\n",
      "FLUTE_KO_TnSeq/FLUTE_log2fc/resampling_H37Rv_Rv0950_day0_s10000_pc0.00.xlsx\n",
      "FLUTE_KO_TnSeq/FLUTE_log2fc/resampling_H37Rv_glycerol_ponA1KO_s10000_pc0.00.xlsx\n",
      "FLUTE_KO_TnSeq/FLUTE_log2fc/resampling_H37Rv_Rv3684_day0_s10000_pc0.00.xlsx\n",
      "FLUTE_KO_TnSeq/FLUTE_log2fc/resampling_H37Rv_Rv3005c_day32_s10000_pc0.00.xlsx\n"
     ]
    }
   ],
   "source": [
    "df_tn_qval_log2FC_ALL = get_qval_log2FC_func(file_list, df_col_info_set2, df_WG, df_tn_qval_log2FC_ALL)"
   ]
  },
  {
   "cell_type": "code",
   "execution_count": 161,
   "metadata": {},
   "outputs": [
    {
     "data": {
      "text/plain": [
       "(3990, 114)"
      ]
     },
     "execution_count": 161,
     "metadata": {},
     "output_type": "execute_result"
    }
   ],
   "source": [
    "df_tn_qval_log2FC_ALL.shape"
   ]
  },
  {
   "cell_type": "code",
   "execution_count": 28,
   "metadata": {},
   "outputs": [],
   "source": [
    "out_file = os.path.join(data_path, 'Tn_library_DB_qval_log2FC.xlsx')\n",
    "df_tn_qval_log2FC_ALL.to_excel(out_file, index=False)"
   ]
  },
  {
   "cell_type": "code",
   "execution_count": 29,
   "metadata": {},
   "outputs": [
    {
     "data": {
      "text/plain": [
       "(3990, 114)"
      ]
     },
     "execution_count": 29,
     "metadata": {},
     "output_type": "execute_result"
    }
   ],
   "source": [
    "df_tn_qval_log2FC_ALL.shape"
   ]
  },
  {
   "cell_type": "markdown",
   "metadata": {},
   "source": [
    "### [PENDING] \n",
    "\n",
    "### DeJesus and Iorger (2013)"
   ]
  },
  {
   "cell_type": "code",
   "execution_count": 38,
   "metadata": {},
   "outputs": [
    {
     "data": {
      "text/html": [
       "<div>\n",
       "<style scoped>\n",
       "    .dataframe tbody tr th:only-of-type {\n",
       "        vertical-align: middle;\n",
       "    }\n",
       "\n",
       "    .dataframe tbody tr th {\n",
       "        vertical-align: top;\n",
       "    }\n",
       "\n",
       "    .dataframe thead th {\n",
       "        text-align: right;\n",
       "    }\n",
       "</style>\n",
       "<table border=\"1\" class=\"dataframe\">\n",
       "  <thead>\n",
       "    <tr style=\"text-align: right;\">\n",
       "      <th></th>\n",
       "      <th>Rv_ID</th>\n",
       "      <th>Name</th>\n",
       "      <th>Insertions</th>\n",
       "      <th># TA Sites</th>\n",
       "      <th>Length of Maximum Run</th>\n",
       "      <th>Span of Nucleotides</th>\n",
       "      <th>Sassetti-03</th>\n",
       "      <th>Post. Prob. Of Ess.</th>\n",
       "      <th>Call</th>\n",
       "    </tr>\n",
       "  </thead>\n",
       "  <tbody>\n",
       "    <tr>\n",
       "      <th>0</th>\n",
       "      <td>Rv0001</td>\n",
       "      <td>dnaA</td>\n",
       "      <td>1</td>\n",
       "      <td>32</td>\n",
       "      <td>31</td>\n",
       "      <td>1365</td>\n",
       "      <td>1</td>\n",
       "      <td>1.0</td>\n",
       "      <td>E</td>\n",
       "    </tr>\n",
       "    <tr>\n",
       "      <th>1</th>\n",
       "      <td>Rv0002</td>\n",
       "      <td>dnaN</td>\n",
       "      <td>0</td>\n",
       "      <td>31</td>\n",
       "      <td>31</td>\n",
       "      <td>1167</td>\n",
       "      <td>-1</td>\n",
       "      <td>1.0</td>\n",
       "      <td>E</td>\n",
       "    </tr>\n",
       "  </tbody>\n",
       "</table>\n",
       "</div>"
      ],
      "text/plain": [
       "    Rv_ID  Name  Insertions  # TA Sites  Length of Maximum Run  \\\n",
       "0  Rv0001  dnaA           1          32                     31   \n",
       "1  Rv0002  dnaN           0          31                     31   \n",
       "\n",
       "   Span of Nucleotides  Sassetti-03  Post. Prob. Of Ess. Call  \n",
       "0                 1365            1                  1.0    E  \n",
       "1                 1167           -1                  1.0    E  "
      ]
     },
     "execution_count": 38,
     "metadata": {},
     "output_type": "execute_result"
    }
   ],
   "source": [
    "file = '2013_DeJesus_Iorger/table_1.xls'\n",
    "col_name = '2013_DeJesus'\n",
    "df_tn = pd.read_excel(os.path.join(dir_name, file))\n",
    "df_tn.head(2)"
   ]
  },
  {
   "cell_type": "markdown",
   "metadata": {},
   "source": [
    "### DeJesus, Iorger (2017A)"
   ]
  },
  {
   "cell_type": "code",
   "execution_count": 138,
   "metadata": {},
   "outputs": [],
   "source": [
    "file_list = ['2017A_DeJesus_Iorger/table_1.xlsx']\n",
    "# you need to talk about this with Michael"
   ]
  },
  {
   "cell_type": "markdown",
   "metadata": {},
   "source": [
    "____________\n",
    "____________\n",
    "____________\n",
    "# OTHER stuff "
   ]
  },
  {
   "cell_type": "markdown",
   "metadata": {},
   "source": [
    "### Kieser Rubin (2015 data) - tables A, B, C"
   ]
  },
  {
   "cell_type": "markdown",
   "metadata": {},
   "source": [
    "pre-formatting: "
   ]
  },
  {
   "cell_type": "code",
   "execution_count": 109,
   "metadata": {},
   "outputs": [],
   "source": [
    "# file_list = ['2015_Kieser_Rubin/table_1A.xlsx', \n",
    "#              '2015_Kieser_Rubin/table_1B.xlsx',\n",
    "#              '2015_Kieser_Rubin/table_1C.xlsx']\n",
    "\n",
    "# for file in file_list:\n",
    "#     # read the data. \n",
    "#     df_tn = pd.read_excel(os.path.join(dir_name, file))\n",
    "\n",
    "#     # this fixes the Rv_IDs for this particular dataset. \n",
    "#     df_tn = df_tn[~df_tn.Rv_ID.str.contains('IG')]\n",
    "#     rv_id_list = [rv_id.split('_')[-1].strip('\\'') for rv_id in df_tn['Rv_ID'].values]\n",
    "#     df_tn['Rv_ID'] = rv_id_list\n",
    "\n",
    "#     # write edited file:\n",
    "#     outfile = file.split('.xlsx')[0]+'_edited.xlsx'\n",
    "#     df_tn.to_excel(os.path.join(dir_name, outfile), index=False)"
   ]
  },
  {
   "cell_type": "markdown",
   "metadata": {},
   "source": [
    "### FLUTE datasets pre-processing:"
   ]
  },
  {
   "cell_type": "code",
   "execution_count": 149,
   "metadata": {},
   "outputs": [],
   "source": [
    "flute_path = 'Tn_library_studies/FLUTE_KO_TnSeq/FLUTE_log2fc/original'\n",
    "file_list_flute = [os.path.join(flute_path, file) for file in os.listdir(flute_path)]"
   ]
  },
  {
   "cell_type": "code",
   "execution_count": 150,
   "metadata": {},
   "outputs": [],
   "source": [
    "for file in file_list_flute:\n",
    "    file_out = file.split('/')[-1].split('.dat')[0]+'.tsv'\n",
    "    file_out = os.path.join('Tn_library_studies/FLUTE_KO_TnSeq/FLUTE_log2fc/', file_out)\n",
    "\n",
    "    with open(file, 'r') as fin:\n",
    "        lines_temp = fin.read()\n",
    "        lines_new = lines_temp.split('\\n')[6:]\n",
    "        with open(file_out, 'w') as fout:\n",
    "            fout.write('\\n'.join(lines_new))"
   ]
  },
  {
   "cell_type": "code",
   "execution_count": 151,
   "metadata": {},
   "outputs": [],
   "source": [
    "flute_path = 'Tn_library_studies/FLUTE_KO_TnSeq/FLUTE_log2fc/'\n",
    "tsv_list_flute = [os.path.join(flute_path, file) for file in os.listdir(flute_path) if 'resampling' in file]"
   ]
  },
  {
   "cell_type": "code",
   "execution_count": 152,
   "metadata": {},
   "outputs": [
    {
     "name": "stdout",
     "output_type": "stream",
     "text": [
      "Tn_library_studies/FLUTE_KO_TnSeq/FLUTE_log2fc/resampling_WT_marP_s10000_pc0.00_1.tsv\n",
      "Tn_library_studies/FLUTE_KO_TnSeq/FLUTE_log2fc/resampling_H37Rv_Rv0950_day0_s10000_pc0.00.tsv\n",
      "Tn_library_studies/FLUTE_KO_TnSeq/FLUTE_log2fc/resampling_H37Rv_Rv3916c_day0_s10000_pc0.00.tsv\n",
      "Tn_library_studies/FLUTE_KO_TnSeq/FLUTE_log2fc/resampling_H37Rv_Rv0307c_day0_s10000_pc0.00.tsv\n",
      "Tn_library_studies/FLUTE_KO_TnSeq/FLUTE_log2fc/resampling_H37Rv_vs_delta_Rv3717_TTR.tsv\n",
      "Tn_library_studies/FLUTE_KO_TnSeq/FLUTE_log2fc/resampling_H37Rv_glycerol_ponA1KO_s10000_pc0.00.tsv\n",
      "Tn_library_studies/FLUTE_KO_TnSeq/FLUTE_log2fc/resampling_H37Rv_Rv1565c_day32_TTR.tsv\n",
      "Tn_library_studies/FLUTE_KO_TnSeq/FLUTE_log2fc/resampling_H37Rv_Rv3684_day0_s10000_pc0.00.tsv\n",
      "Tn_library_studies/FLUTE_KO_TnSeq/FLUTE_log2fc/resampling_WT_Rv0954_s10000_pc0.00.tsv\n",
      "Tn_library_studies/FLUTE_KO_TnSeq/FLUTE_log2fc/resampling_H37Rv_vs_delta_Rv3811_TTR.tsv\n",
      "Tn_library_studies/FLUTE_KO_TnSeq/FLUTE_log2fc/resampling_H37Rv_Rv1096_day0_s10000_pc0.00.tsv\n",
      "Tn_library_studies/FLUTE_KO_TnSeq/FLUTE_log2fc/resampling_H37Rv_Rv2680_day32_s10000_pc0.00.tsv\n",
      "Tn_library_studies/FLUTE_KO_TnSeq/FLUTE_log2fc/resampling_H37Rv_Rv1432_day32_TTR.tsv\n",
      "Tn_library_studies/FLUTE_KO_TnSeq/FLUTE_log2fc/resampling_H37Rv_vs_delta_Rv3594_TTR.tsv\n",
      "Tn_library_studies/FLUTE_KO_TnSeq/FLUTE_log2fc/resampling_H37Rv_Rv3005c_day32_s10000_pc0.00.tsv\n"
     ]
    }
   ],
   "source": [
    "for file in tsv_list_flute:\n",
    "    print(file)\n",
    "    file_out = file.split('/')[-1].split('.tsv')[0]+'.xlsx'\n",
    "    file_out = os.path.join('Tn_library_studies/FLUTE_KO_TnSeq/FLUTE_log2fc/', file_out)\n",
    "    df_flute = pd.read_csv(file, sep='\\t')\n",
    "    df_flute.rename(columns={'#Orf':'Rv_ID','Name':'gene_name', 'p-adj':'Adj. p-value', 'log2 FC':'log2FC'}, inplace=True)\n",
    "    df_flute.to_excel(file_out, index=False)"
   ]
  },
  {
   "cell_type": "code",
   "execution_count": 153,
   "metadata": {},
   "outputs": [],
   "source": [
    "f_temp = 'Tn_library_studies/FLUTE_KO_TnSeq/FLUTE_log2fc/resampling_H37Rv_Rv1432_day32_TTR.xlsx'"
   ]
  },
  {
   "cell_type": "code",
   "execution_count": 154,
   "metadata": {},
   "outputs": [],
   "source": [
    "df = pd.read_excel(f_temp)"
   ]
  },
  {
   "cell_type": "code",
   "execution_count": 155,
   "metadata": {},
   "outputs": [
    {
     "data": {
      "text/html": [
       "<div>\n",
       "<style scoped>\n",
       "    .dataframe tbody tr th:only-of-type {\n",
       "        vertical-align: middle;\n",
       "    }\n",
       "\n",
       "    .dataframe tbody tr th {\n",
       "        vertical-align: top;\n",
       "    }\n",
       "\n",
       "    .dataframe thead th {\n",
       "        text-align: right;\n",
       "    }\n",
       "</style>\n",
       "<table border=\"1\" class=\"dataframe\">\n",
       "  <thead>\n",
       "    <tr style=\"text-align: right;\">\n",
       "      <th></th>\n",
       "      <th>Rv_ID</th>\n",
       "      <th>gene_name</th>\n",
       "      <th>Description</th>\n",
       "      <th>N</th>\n",
       "      <th>TAs Hit</th>\n",
       "      <th>Sum Rd 1</th>\n",
       "      <th>Sum Rd 2</th>\n",
       "      <th>Delta Rd</th>\n",
       "      <th>log2FC</th>\n",
       "      <th>p-value</th>\n",
       "      <th>Adj. p-value</th>\n",
       "    </tr>\n",
       "  </thead>\n",
       "  <tbody>\n",
       "    <tr>\n",
       "      <th>0</th>\n",
       "      <td>Rv0001</td>\n",
       "      <td>dnaA</td>\n",
       "      <td>chromosomal replication initiation protein</td>\n",
       "      <td>31</td>\n",
       "      <td>1</td>\n",
       "      <td>0.2</td>\n",
       "      <td>0.0</td>\n",
       "      <td>-0.2</td>\n",
       "      <td>3.83</td>\n",
       "      <td>1.0000</td>\n",
       "      <td>1.00000</td>\n",
       "    </tr>\n",
       "    <tr>\n",
       "      <th>1</th>\n",
       "      <td>Rv0002</td>\n",
       "      <td>dnaN</td>\n",
       "      <td>DNA polymerase III subunit beta</td>\n",
       "      <td>31</td>\n",
       "      <td>0</td>\n",
       "      <td>0.0</td>\n",
       "      <td>0.0</td>\n",
       "      <td>0.0</td>\n",
       "      <td>0.00</td>\n",
       "      <td>1.0000</td>\n",
       "      <td>1.00000</td>\n",
       "    </tr>\n",
       "    <tr>\n",
       "      <th>2</th>\n",
       "      <td>Rv0003</td>\n",
       "      <td>recF</td>\n",
       "      <td>recombination protein F</td>\n",
       "      <td>35</td>\n",
       "      <td>9</td>\n",
       "      <td>19.1</td>\n",
       "      <td>54.0</td>\n",
       "      <td>34.9</td>\n",
       "      <td>1.50</td>\n",
       "      <td>0.3056</td>\n",
       "      <td>0.69974</td>\n",
       "    </tr>\n",
       "    <tr>\n",
       "      <th>3</th>\n",
       "      <td>Rv0004</td>\n",
       "      <td>-</td>\n",
       "      <td>hypothetical protein Rv0004</td>\n",
       "      <td>7</td>\n",
       "      <td>0</td>\n",
       "      <td>0.0</td>\n",
       "      <td>0.0</td>\n",
       "      <td>0.0</td>\n",
       "      <td>0.00</td>\n",
       "      <td>1.0000</td>\n",
       "      <td>1.00000</td>\n",
       "    </tr>\n",
       "    <tr>\n",
       "      <th>4</th>\n",
       "      <td>Rv0005</td>\n",
       "      <td>gyrB</td>\n",
       "      <td>DNA gyrase subunit B</td>\n",
       "      <td>42</td>\n",
       "      <td>3</td>\n",
       "      <td>35.2</td>\n",
       "      <td>1.0</td>\n",
       "      <td>-34.2</td>\n",
       "      <td>-5.08</td>\n",
       "      <td>0.1396</td>\n",
       "      <td>0.46795</td>\n",
       "    </tr>\n",
       "  </tbody>\n",
       "</table>\n",
       "</div>"
      ],
      "text/plain": [
       "    Rv_ID gene_name                                  Description   N  TAs Hit  \\\n",
       "0  Rv0001      dnaA  chromosomal replication initiation protein   31        1   \n",
       "1  Rv0002      dnaN             DNA polymerase III subunit beta   31        0   \n",
       "2  Rv0003      recF                     recombination protein F   35        9   \n",
       "3  Rv0004         -                 hypothetical protein Rv0004    7        0   \n",
       "4  Rv0005      gyrB                        DNA gyrase subunit B   42        3   \n",
       "\n",
       "   Sum Rd 1  Sum Rd 2  Delta Rd  log2FC  p-value  Adj. p-value  \n",
       "0       0.2       0.0      -0.2    3.83   1.0000       1.00000  \n",
       "1       0.0       0.0       0.0    0.00   1.0000       1.00000  \n",
       "2      19.1      54.0      34.9    1.50   0.3056       0.69974  \n",
       "3       0.0       0.0       0.0    0.00   1.0000       1.00000  \n",
       "4      35.2       1.0     -34.2   -5.08   0.1396       0.46795  "
      ]
     },
     "execution_count": 155,
     "metadata": {},
     "output_type": "execute_result"
    }
   ],
   "source": [
    "df.head()"
   ]
  },
  {
   "cell_type": "code",
   "execution_count": null,
   "metadata": {},
   "outputs": [],
   "source": []
  }
 ],
 "metadata": {
  "kernelspec": {
   "display_name": "Python 3",
   "language": "python",
   "name": "python3"
  },
  "language_info": {
   "codemirror_mode": {
    "name": "ipython",
    "version": 3
   },
   "file_extension": ".py",
   "mimetype": "text/x-python",
   "name": "python",
   "nbconvert_exporter": "python",
   "pygments_lexer": "ipython3",
   "version": "3.6.6"
  }
 },
 "nbformat": 4,
 "nbformat_minor": 2
}
