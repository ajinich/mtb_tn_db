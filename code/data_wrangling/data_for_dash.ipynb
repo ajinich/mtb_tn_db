{
 "cells": [
  {
   "cell_type": "code",
   "execution_count": 1,
   "metadata": {
    "ExecuteTime": {
     "end_time": "2020-02-09T18:57:38.528414Z",
     "start_time": "2020-02-09T18:57:33.400290Z"
    }
   },
   "outputs": [],
   "source": [
    "import pandas as pd\n",
    "import pathlib\n",
    "import glob\n",
    "import os"
   ]
  },
  {
   "cell_type": "markdown",
   "metadata": {},
   "source": [
    "## Check if trackviews are complete"
   ]
  },
  {
   "cell_type": "code",
   "execution_count": 2,
   "metadata": {
    "ExecuteTime": {
     "end_time": "2020-02-09T18:57:39.146832Z",
     "start_time": "2020-02-09T18:57:38.528414Z"
    }
   },
   "outputs": [],
   "source": [
    "col_desc = pd.read_excel('../../data/column_descriptors_standardized.xlsx')"
   ]
  },
  {
   "cell_type": "code",
   "execution_count": 3,
   "metadata": {
    "ExecuteTime": {
     "end_time": "2020-02-09T18:57:39.193895Z",
     "start_time": "2020-02-09T18:57:39.149828Z"
    }
   },
   "outputs": [
    {
     "data": {
      "text/html": [
       "<div>\n",
       "<style scoped>\n",
       "    .dataframe tbody tr th:only-of-type {\n",
       "        vertical-align: middle;\n",
       "    }\n",
       "\n",
       "    .dataframe tbody tr th {\n",
       "        vertical-align: top;\n",
       "    }\n",
       "\n",
       "    .dataframe thead th {\n",
       "        text-align: right;\n",
       "    }\n",
       "</style>\n",
       "<table border=\"1\" class=\"dataframe\">\n",
       "  <thead>\n",
       "    <tr style=\"text-align: right;\">\n",
       "      <th></th>\n",
       "      <th>column_ID</th>\n",
       "      <th>wig_files</th>\n",
       "      <th>control</th>\n",
       "      <th>experimental</th>\n",
       "      <th>column_ID_2</th>\n",
       "      <th>num_replicates_control</th>\n",
       "      <th>num_replicates_experimental</th>\n",
       "      <th>meaning</th>\n",
       "      <th>year</th>\n",
       "      <th>paper_title</th>\n",
       "      <th>...</th>\n",
       "      <th>in_vitro_media</th>\n",
       "      <th>carbon_source</th>\n",
       "      <th>stress_description</th>\n",
       "      <th>GI_RvID</th>\n",
       "      <th>GI_name</th>\n",
       "      <th>MicArr_or_TnSeq</th>\n",
       "      <th>stat_analysis</th>\n",
       "      <th>mouse_strain</th>\n",
       "      <th>cell_type</th>\n",
       "      <th>Mtb_strain</th>\n",
       "    </tr>\n",
       "  </thead>\n",
       "  <tbody>\n",
       "    <tr>\n",
       "      <td>0</td>\n",
       "      <td>2011_Griffin_2</td>\n",
       "      <td>True</td>\n",
       "      <td>griffin_glycerol</td>\n",
       "      <td>griffin_cholesterol</td>\n",
       "      <td>griffin_cholesterol_vs_griffin_glycerol</td>\n",
       "      <td>2</td>\n",
       "      <td>3</td>\n",
       "      <td>Mutants exhiting altered fitness during choles...</td>\n",
       "      <td>2011.0</td>\n",
       "      <td>High-Resolution Phenotypic Profiling Defines G...</td>\n",
       "      <td>...</td>\n",
       "      <td>minimal_media</td>\n",
       "      <td>cholesterol</td>\n",
       "      <td>-</td>\n",
       "      <td>NaN</td>\n",
       "      <td>NaN</td>\n",
       "      <td>TnSeq</td>\n",
       "      <td>NaN</td>\n",
       "      <td>NaN</td>\n",
       "      <td>NaN</td>\n",
       "      <td>H37Rv</td>\n",
       "    </tr>\n",
       "    <tr>\n",
       "      <td>1</td>\n",
       "      <td>2013_DeJesus</td>\n",
       "      <td>True</td>\n",
       "      <td>mbio_H37Rv</td>\n",
       "      <td>griffin_glycerol</td>\n",
       "      <td>griffin_glycerol_vs_mbio_H37Rv</td>\n",
       "      <td>14</td>\n",
       "      <td>2</td>\n",
       "      <td>NaN</td>\n",
       "      <td>2013.0</td>\n",
       "      <td>A Hidden Markov Model for identifying essentia...</td>\n",
       "      <td>...</td>\n",
       "      <td>NaN</td>\n",
       "      <td>glycerol</td>\n",
       "      <td>-</td>\n",
       "      <td>NaN</td>\n",
       "      <td>NaN</td>\n",
       "      <td>TnSeq</td>\n",
       "      <td>NaN</td>\n",
       "      <td>NaN</td>\n",
       "      <td>NaN</td>\n",
       "      <td>NaN</td>\n",
       "    </tr>\n",
       "    <tr>\n",
       "      <td>2</td>\n",
       "      <td>2013_Zhang_1A</td>\n",
       "      <td>True</td>\n",
       "      <td>zhang_input_library</td>\n",
       "      <td>zhang_wt_mouse_d10</td>\n",
       "      <td>zhang_wt_mouse_d10_vs_zhang_input_library</td>\n",
       "      <td>1</td>\n",
       "      <td>3</td>\n",
       "      <td>Mutants exhibiting altered fitness in mouse in...</td>\n",
       "      <td>2013.0</td>\n",
       "      <td>Tryptophan biosynthesis protects mycobacteria ...</td>\n",
       "      <td>...</td>\n",
       "      <td>-</td>\n",
       "      <td>-</td>\n",
       "      <td>NaN</td>\n",
       "      <td>NaN</td>\n",
       "      <td>NaN</td>\n",
       "      <td>TnSeq</td>\n",
       "      <td>NaN</td>\n",
       "      <td>WT</td>\n",
       "      <td>NaN</td>\n",
       "      <td>NaN</td>\n",
       "    </tr>\n",
       "    <tr>\n",
       "      <td>3</td>\n",
       "      <td>2013_Zhang_1B</td>\n",
       "      <td>True</td>\n",
       "      <td>zhang_input_library</td>\n",
       "      <td>zhang_wt_mouse_d45</td>\n",
       "      <td>zhang_wt_mouse_d45_vs_zhang_input_library</td>\n",
       "      <td>1</td>\n",
       "      <td>3</td>\n",
       "      <td>Mutants exhibiting altered fitness in mouse in...</td>\n",
       "      <td>2013.0</td>\n",
       "      <td>Tryptophan biosynthesis protects mycobacteria ...</td>\n",
       "      <td>...</td>\n",
       "      <td>-</td>\n",
       "      <td>-</td>\n",
       "      <td>NaN</td>\n",
       "      <td>NaN</td>\n",
       "      <td>NaN</td>\n",
       "      <td>TnSeq</td>\n",
       "      <td>NaN</td>\n",
       "      <td>WT</td>\n",
       "      <td>NaN</td>\n",
       "      <td>NaN</td>\n",
       "    </tr>\n",
       "    <tr>\n",
       "      <td>4</td>\n",
       "      <td>2013_Zhang_2A</td>\n",
       "      <td>True</td>\n",
       "      <td>zhang_wt_mouse_d10</td>\n",
       "      <td>zhang_mhcii_mouse_d10</td>\n",
       "      <td>zhang_mhcii_mouse_d10_vs_zhang_wt_mouse_d10</td>\n",
       "      <td>3</td>\n",
       "      <td>4</td>\n",
       "      <td>Mutants exhibiting altered fitness in immunode...</td>\n",
       "      <td>2013.0</td>\n",
       "      <td>Tryptophan biosynthesis protects mycobacteria ...</td>\n",
       "      <td>...</td>\n",
       "      <td>-</td>\n",
       "      <td>-</td>\n",
       "      <td>NaN</td>\n",
       "      <td>NaN</td>\n",
       "      <td>NaN</td>\n",
       "      <td>TnSeq</td>\n",
       "      <td>NaN</td>\n",
       "      <td>MHCII−/−</td>\n",
       "      <td>NaN</td>\n",
       "      <td>NaN</td>\n",
       "    </tr>\n",
       "  </tbody>\n",
       "</table>\n",
       "<p>5 rows × 25 columns</p>\n",
       "</div>"
      ],
      "text/plain": [
       "        column_ID  wig_files              control           experimental  \\\n",
       "0  2011_Griffin_2       True     griffin_glycerol    griffin_cholesterol   \n",
       "1    2013_DeJesus       True           mbio_H37Rv       griffin_glycerol   \n",
       "2   2013_Zhang_1A       True  zhang_input_library     zhang_wt_mouse_d10   \n",
       "3   2013_Zhang_1B       True  zhang_input_library     zhang_wt_mouse_d45   \n",
       "4   2013_Zhang_2A       True   zhang_wt_mouse_d10  zhang_mhcii_mouse_d10   \n",
       "\n",
       "                                   column_ID_2  num_replicates_control  \\\n",
       "0      griffin_cholesterol_vs_griffin_glycerol                       2   \n",
       "1               griffin_glycerol_vs_mbio_H37Rv                      14   \n",
       "2    zhang_wt_mouse_d10_vs_zhang_input_library                       1   \n",
       "3    zhang_wt_mouse_d45_vs_zhang_input_library                       1   \n",
       "4  zhang_mhcii_mouse_d10_vs_zhang_wt_mouse_d10                       3   \n",
       "\n",
       "   num_replicates_experimental  \\\n",
       "0                            3   \n",
       "1                            2   \n",
       "2                            3   \n",
       "3                            3   \n",
       "4                            4   \n",
       "\n",
       "                                             meaning    year  \\\n",
       "0  Mutants exhiting altered fitness during choles...  2011.0   \n",
       "1                                                NaN  2013.0   \n",
       "2  Mutants exhibiting altered fitness in mouse in...  2013.0   \n",
       "3  Mutants exhibiting altered fitness in mouse in...  2013.0   \n",
       "4  Mutants exhibiting altered fitness in immunode...  2013.0   \n",
       "\n",
       "                                         paper_title  ... in_vitro_media  \\\n",
       "0  High-Resolution Phenotypic Profiling Defines G...  ...  minimal_media   \n",
       "1  A Hidden Markov Model for identifying essentia...  ...            NaN   \n",
       "2  Tryptophan biosynthesis protects mycobacteria ...  ...              -   \n",
       "3  Tryptophan biosynthesis protects mycobacteria ...  ...              -   \n",
       "4  Tryptophan biosynthesis protects mycobacteria ...  ...              -   \n",
       "\n",
       "  carbon_source stress_description GI_RvID GI_name MicArr_or_TnSeq  \\\n",
       "0   cholesterol                  -     NaN     NaN           TnSeq   \n",
       "1      glycerol                  -     NaN     NaN           TnSeq   \n",
       "2             -                NaN     NaN     NaN           TnSeq   \n",
       "3             -                NaN     NaN     NaN           TnSeq   \n",
       "4             -                NaN     NaN     NaN           TnSeq   \n",
       "\n",
       "  stat_analysis mouse_strain cell_type Mtb_strain  \n",
       "0           NaN          NaN       NaN      H37Rv  \n",
       "1           NaN          NaN       NaN        NaN  \n",
       "2           NaN           WT       NaN        NaN  \n",
       "3           NaN           WT       NaN        NaN  \n",
       "4           NaN     MHCII−/−       NaN        NaN  \n",
       "\n",
       "[5 rows x 25 columns]"
      ]
     },
     "execution_count": 3,
     "metadata": {},
     "output_type": "execute_result"
    }
   ],
   "source": [
    "col_desc.head()"
   ]
  },
  {
   "cell_type": "code",
   "execution_count": 4,
   "metadata": {
    "ExecuteTime": {
     "end_time": "2020-02-09T18:57:39.209438Z",
     "start_time": "2020-02-09T18:57:39.197864Z"
    }
   },
   "outputs": [],
   "source": [
    "# check if trackviews exist\n",
    "trackview_folders=list(pathlib.Path(r'C:\\Users\\light\\Dropbox (WCMC Schnappinger)\\tuberculosis\\tuberculosis\\TrackView').glob('*'))\n",
    "trackview_names=[os.path.basename(x) for x in trackview_folders]"
   ]
  },
  {
   "cell_type": "code",
   "execution_count": 5,
   "metadata": {
    "ExecuteTime": {
     "end_time": "2020-02-09T18:57:39.240956Z",
     "start_time": "2020-02-09T18:57:39.213435Z"
    }
   },
   "outputs": [],
   "source": [
    "all_conditions=list(col_desc['control']) + list(col_desc['experimental'])"
   ]
  },
  {
   "cell_type": "code",
   "execution_count": 6,
   "metadata": {
    "ExecuteTime": {
     "end_time": "2020-02-09T18:57:39.256957Z",
     "start_time": "2020-02-09T18:57:39.244958Z"
    }
   },
   "outputs": [
    {
     "data": {
      "text/plain": [
       "{'nambi_2015_ctpC',\n",
       " 'nambi_2015_wt',\n",
       " 'xu_emb_0',\n",
       " 'xu_emb_2.5',\n",
       " 'xu_emb_3',\n",
       " 'xu_inh_0',\n",
       " 'xu_inh_02',\n",
       " 'xu_inh_025',\n",
       " 'xu_mero_0',\n",
       " 'xu_mero_2.5',\n",
       " 'xu_rif_0',\n",
       " 'xu_rif_4',\n",
       " 'xu_van_0',\n",
       " 'xu_van_16'}"
      ]
     },
     "execution_count": 6,
     "metadata": {},
     "output_type": "execute_result"
    }
   ],
   "source": [
    "set(all_conditions).difference(set(trackview_names))"
   ]
  },
  {
   "cell_type": "markdown",
   "metadata": {
    "ExecuteTime": {
     "end_time": "2020-02-08T19:09:42.081534Z",
     "start_time": "2020-02-08T19:09:42.065535Z"
    }
   },
   "source": [
    "## lfc"
   ]
  },
  {
   "cell_type": "code",
   "execution_count": 57,
   "metadata": {
    "ExecuteTime": {
     "end_time": "2020-02-09T19:22:43.851339Z",
     "start_time": "2020-02-09T19:22:43.754198Z"
    }
   },
   "outputs": [],
   "source": [
    "lfc=pd.read_csv('../../data/standardized_data/result_logfc_matrix_2019_12_10.csv')"
   ]
  },
  {
   "cell_type": "code",
   "execution_count": 58,
   "metadata": {
    "ExecuteTime": {
     "end_time": "2020-02-09T19:22:43.951545Z",
     "start_time": "2020-02-09T19:22:43.855339Z"
    }
   },
   "outputs": [],
   "source": [
    "qval=pd.read_csv('../../data/standardized_data/result_qval_matrix_2019_12_10.csv')"
   ]
  },
  {
   "cell_type": "code",
   "execution_count": 59,
   "metadata": {
    "ExecuteTime": {
     "end_time": "2020-02-09T19:22:44.850053Z",
     "start_time": "2020-02-09T19:22:43.955545Z"
    }
   },
   "outputs": [
    {
     "data": {
      "text/html": [
       "<div>\n",
       "<style scoped>\n",
       "    .dataframe tbody tr th:only-of-type {\n",
       "        vertical-align: middle;\n",
       "    }\n",
       "\n",
       "    .dataframe tbody tr th {\n",
       "        vertical-align: top;\n",
       "    }\n",
       "\n",
       "    .dataframe thead th {\n",
       "        text-align: right;\n",
       "    }\n",
       "</style>\n",
       "<table border=\"1\" class=\"dataframe\">\n",
       "  <thead>\n",
       "    <tr style=\"text-align: right;\">\n",
       "      <th></th>\n",
       "      <th>ORF ID</th>\n",
       "      <th>Name</th>\n",
       "      <th>Description</th>\n",
       "      <th>Number of TA Sites</th>\n",
       "      <th>Number of Permissive (P) Sites</th>\n",
       "      <th>Number of Non-Permissive (NP) Sites</th>\n",
       "      <th>Number of Sites Belonging to Essential State</th>\n",
       "      <th>Number of Sites Belonging to Growth-Defect State</th>\n",
       "      <th>Number of Sites Belonging to Non-Essential State</th>\n",
       "      <th>Number of Sites Belonging to Growth-Advantage State</th>\n",
       "      <th>Fraction of Sites with Insertions</th>\n",
       "      <th>Mean Normalized Read-Count At Non-Zero Sites</th>\n",
       "      <th>Final Call</th>\n",
       "    </tr>\n",
       "  </thead>\n",
       "  <tbody>\n",
       "    <tr>\n",
       "      <td>0</td>\n",
       "      <td>Rv0001</td>\n",
       "      <td>dnaA</td>\n",
       "      <td>Chromosomal replication initiator protein DnaA</td>\n",
       "      <td>32</td>\n",
       "      <td>29</td>\n",
       "      <td>3</td>\n",
       "      <td>31</td>\n",
       "      <td>0</td>\n",
       "      <td>1</td>\n",
       "      <td>0</td>\n",
       "      <td>0.125000</td>\n",
       "      <td>45.000000</td>\n",
       "      <td>ES</td>\n",
       "    </tr>\n",
       "    <tr>\n",
       "      <td>1</td>\n",
       "      <td>Rv0002</td>\n",
       "      <td>dnaN</td>\n",
       "      <td>DNA polymerase III (beta chain) DnaN (DNA nucl...</td>\n",
       "      <td>31</td>\n",
       "      <td>27</td>\n",
       "      <td>4</td>\n",
       "      <td>31</td>\n",
       "      <td>0</td>\n",
       "      <td>0</td>\n",
       "      <td>0</td>\n",
       "      <td>0.032258</td>\n",
       "      <td>1.000000</td>\n",
       "      <td>ES</td>\n",
       "    </tr>\n",
       "    <tr>\n",
       "      <td>2</td>\n",
       "      <td>Rv0003</td>\n",
       "      <td>recF</td>\n",
       "      <td>DNA replication and repair protein RecF (singl...</td>\n",
       "      <td>35</td>\n",
       "      <td>32</td>\n",
       "      <td>3</td>\n",
       "      <td>0</td>\n",
       "      <td>0</td>\n",
       "      <td>35</td>\n",
       "      <td>0</td>\n",
       "      <td>0.857143</td>\n",
       "      <td>38.033333</td>\n",
       "      <td>NE</td>\n",
       "    </tr>\n",
       "    <tr>\n",
       "      <td>3</td>\n",
       "      <td>Rv0004</td>\n",
       "      <td>-</td>\n",
       "      <td>hypothetical protein</td>\n",
       "      <td>8</td>\n",
       "      <td>8</td>\n",
       "      <td>0</td>\n",
       "      <td>0</td>\n",
       "      <td>0</td>\n",
       "      <td>8</td>\n",
       "      <td>0</td>\n",
       "      <td>0.375000</td>\n",
       "      <td>144.000000</td>\n",
       "      <td>NE</td>\n",
       "    </tr>\n",
       "    <tr>\n",
       "      <td>4</td>\n",
       "      <td>Rv0005</td>\n",
       "      <td>gyrB</td>\n",
       "      <td>DNA gyrase (subunit B) GyrB (DNA topoisomerase...</td>\n",
       "      <td>40</td>\n",
       "      <td>36</td>\n",
       "      <td>4</td>\n",
       "      <td>39</td>\n",
       "      <td>0</td>\n",
       "      <td>1</td>\n",
       "      <td>0</td>\n",
       "      <td>0.025000</td>\n",
       "      <td>26.000000</td>\n",
       "      <td>ES</td>\n",
       "    </tr>\n",
       "  </tbody>\n",
       "</table>\n",
       "</div>"
      ],
      "text/plain": [
       "   ORF ID  Name                                        Description  \\\n",
       "0  Rv0001  dnaA     Chromosomal replication initiator protein DnaA   \n",
       "1  Rv0002  dnaN  DNA polymerase III (beta chain) DnaN (DNA nucl...   \n",
       "2  Rv0003  recF  DNA replication and repair protein RecF (singl...   \n",
       "3  Rv0004     -                               hypothetical protein   \n",
       "4  Rv0005  gyrB  DNA gyrase (subunit B) GyrB (DNA topoisomerase...   \n",
       "\n",
       "   Number of TA Sites  Number of Permissive (P) Sites  \\\n",
       "0                  32                              29   \n",
       "1                  31                              27   \n",
       "2                  35                              32   \n",
       "3                   8                               8   \n",
       "4                  40                              36   \n",
       "\n",
       "   Number of Non-Permissive (NP) Sites  \\\n",
       "0                                    3   \n",
       "1                                    4   \n",
       "2                                    3   \n",
       "3                                    0   \n",
       "4                                    4   \n",
       "\n",
       "   Number of Sites Belonging to Essential State  \\\n",
       "0                                            31   \n",
       "1                                            31   \n",
       "2                                             0   \n",
       "3                                             0   \n",
       "4                                            39   \n",
       "\n",
       "   Number of Sites Belonging to Growth-Defect State  \\\n",
       "0                                                 0   \n",
       "1                                                 0   \n",
       "2                                                 0   \n",
       "3                                                 0   \n",
       "4                                                 0   \n",
       "\n",
       "   Number of Sites Belonging to Non-Essential State  \\\n",
       "0                                                 1   \n",
       "1                                                 0   \n",
       "2                                                35   \n",
       "3                                                 8   \n",
       "4                                                 1   \n",
       "\n",
       "   Number of Sites Belonging to Growth-Advantage State  \\\n",
       "0                                                  0     \n",
       "1                                                  0     \n",
       "2                                                  0     \n",
       "3                                                  0     \n",
       "4                                                  0     \n",
       "\n",
       "   Fraction of Sites with Insertions  \\\n",
       "0                           0.125000   \n",
       "1                           0.032258   \n",
       "2                           0.857143   \n",
       "3                           0.375000   \n",
       "4                           0.025000   \n",
       "\n",
       "   Mean Normalized Read-Count At Non-Zero Sites Final Call  \n",
       "0                                     45.000000         ES  \n",
       "1                                      1.000000         ES  \n",
       "2                                     38.033333         NE  \n",
       "3                                    144.000000         NE  \n",
       "4                                     26.000000         ES  "
      ]
     },
     "execution_count": 59,
     "metadata": {},
     "output_type": "execute_result"
    }
   ],
   "source": [
    "gene_names= pd.read_excel('../../data/annotations/DeJesus_mbio.xlsx', header=1)\n",
    "gene_names.head()"
   ]
  },
  {
   "cell_type": "code",
   "execution_count": 60,
   "metadata": {
    "ExecuteTime": {
     "end_time": "2020-02-09T19:22:44.865542Z",
     "start_time": "2020-02-09T19:22:44.850053Z"
    }
   },
   "outputs": [],
   "source": [
    "gene_names=gene_names.rename(columns={'Name': 'gene_name', 'ORF ID': 'Rv_ID'})"
   ]
  },
  {
   "cell_type": "code",
   "execution_count": 61,
   "metadata": {
    "ExecuteTime": {
     "end_time": "2020-02-09T19:22:44.943143Z",
     "start_time": "2020-02-09T19:22:44.870513Z"
    }
   },
   "outputs": [
    {
     "data": {
      "text/html": [
       "<div>\n",
       "<style scoped>\n",
       "    .dataframe tbody tr th:only-of-type {\n",
       "        vertical-align: middle;\n",
       "    }\n",
       "\n",
       "    .dataframe tbody tr th {\n",
       "        vertical-align: top;\n",
       "    }\n",
       "\n",
       "    .dataframe thead th {\n",
       "        text-align: right;\n",
       "    }\n",
       "</style>\n",
       "<table border=\"1\" class=\"dataframe\">\n",
       "  <thead>\n",
       "    <tr style=\"text-align: right;\">\n",
       "      <th></th>\n",
       "      <th>Unnamed: 0</th>\n",
       "      <th>PE35_KO_vs_mbio_H37Rv</th>\n",
       "      <th>PPE68_KO_vs_mbio_H37Rv</th>\n",
       "      <th>Rv0950c_KO_vs_CB_WT</th>\n",
       "      <th>Rv0954_KO_vs_RJ_WT</th>\n",
       "      <th>Rv1096_KO_vs_CB_WT</th>\n",
       "      <th>Rv3005c_KO_day32_vs_dejesus_H37Rv_day32</th>\n",
       "      <th>Rv3594_KO_vs_Rubin_FLUTE_WT</th>\n",
       "      <th>Rv3684_KO_vs_CB_WT</th>\n",
       "      <th>Rv3717_KO_vs_Rubin_FLUTE_WT</th>\n",
       "      <th>...</th>\n",
       "      <th>zhang_AA_Rescue_vs_zhang_in_vitro_control_Rescue</th>\n",
       "      <th>zhang_DETA-NO_pH_7.0_vs_zhang_pH_7.0_no_NO_control</th>\n",
       "      <th>zhang_Fe_1.5mM_vs_zhang_Fe_450uM</th>\n",
       "      <th>zhang_Trp_Rescue_vs_zhang_in_vitro_control_Rescue</th>\n",
       "      <th>zhang_Tyloxapol_pH_6.5_vs_zhang_Tyloxapol_pH_4.5</th>\n",
       "      <th>zhang_Tyloxapol_pH_6.5_vs_zhang_pcit_pH_4.5</th>\n",
       "      <th>zhang_mhcii_mouse_d10_vs_zhang_wt_mouse_d10</th>\n",
       "      <th>zhang_mhcii_mouse_d45_vs_zhang_wt_mouse_d45</th>\n",
       "      <th>zhang_wt_mouse_d10_vs_zhang_input_library</th>\n",
       "      <th>zhang_wt_mouse_d45_vs_zhang_input_library</th>\n",
       "    </tr>\n",
       "  </thead>\n",
       "  <tbody>\n",
       "    <tr>\n",
       "      <td>0</td>\n",
       "      <td>Rv0001</td>\n",
       "      <td>-0.41</td>\n",
       "      <td>0.01</td>\n",
       "      <td>0.00</td>\n",
       "      <td>0.00</td>\n",
       "      <td>0.00</td>\n",
       "      <td>3.12</td>\n",
       "      <td>-0.06</td>\n",
       "      <td>0.00</td>\n",
       "      <td>-0.06</td>\n",
       "      <td>...</td>\n",
       "      <td>0.00</td>\n",
       "      <td>0.00</td>\n",
       "      <td>0.00</td>\n",
       "      <td>0.00</td>\n",
       "      <td>0.00</td>\n",
       "      <td>0.00</td>\n",
       "      <td>0.00</td>\n",
       "      <td>0.00</td>\n",
       "      <td>0.00</td>\n",
       "      <td>0.00</td>\n",
       "    </tr>\n",
       "    <tr>\n",
       "      <td>1</td>\n",
       "      <td>Rv0002</td>\n",
       "      <td>3.28</td>\n",
       "      <td>2.38</td>\n",
       "      <td>0.00</td>\n",
       "      <td>0.00</td>\n",
       "      <td>0.00</td>\n",
       "      <td>0.00</td>\n",
       "      <td>0.00</td>\n",
       "      <td>0.00</td>\n",
       "      <td>0.00</td>\n",
       "      <td>...</td>\n",
       "      <td>0.00</td>\n",
       "      <td>0.00</td>\n",
       "      <td>0.00</td>\n",
       "      <td>0.00</td>\n",
       "      <td>0.00</td>\n",
       "      <td>0.00</td>\n",
       "      <td>0.00</td>\n",
       "      <td>0.00</td>\n",
       "      <td>0.00</td>\n",
       "      <td>0.00</td>\n",
       "    </tr>\n",
       "    <tr>\n",
       "      <td>2</td>\n",
       "      <td>Rv0003</td>\n",
       "      <td>-0.03</td>\n",
       "      <td>-0.08</td>\n",
       "      <td>0.03</td>\n",
       "      <td>-1.20</td>\n",
       "      <td>0.39</td>\n",
       "      <td>3.83</td>\n",
       "      <td>0.31</td>\n",
       "      <td>0.17</td>\n",
       "      <td>-0.62</td>\n",
       "      <td>...</td>\n",
       "      <td>-2.93</td>\n",
       "      <td>-0.31</td>\n",
       "      <td>1.09</td>\n",
       "      <td>-2.13</td>\n",
       "      <td>0.51</td>\n",
       "      <td>0.41</td>\n",
       "      <td>1.30</td>\n",
       "      <td>-0.49</td>\n",
       "      <td>-1.26</td>\n",
       "      <td>-2.25</td>\n",
       "    </tr>\n",
       "    <tr>\n",
       "      <td>3</td>\n",
       "      <td>Rv0004</td>\n",
       "      <td>-3.81</td>\n",
       "      <td>-3.39</td>\n",
       "      <td>-2.60</td>\n",
       "      <td>-6.83</td>\n",
       "      <td>1.54</td>\n",
       "      <td>0.00</td>\n",
       "      <td>1.79</td>\n",
       "      <td>1.08</td>\n",
       "      <td>4.91</td>\n",
       "      <td>...</td>\n",
       "      <td>-3.56</td>\n",
       "      <td>0.00</td>\n",
       "      <td>1.96</td>\n",
       "      <td>-3.56</td>\n",
       "      <td>0.00</td>\n",
       "      <td>0.00</td>\n",
       "      <td>0.00</td>\n",
       "      <td>0.70</td>\n",
       "      <td>-2.62</td>\n",
       "      <td>-2.62</td>\n",
       "    </tr>\n",
       "    <tr>\n",
       "      <td>4</td>\n",
       "      <td>Rv0005</td>\n",
       "      <td>-0.22</td>\n",
       "      <td>0.14</td>\n",
       "      <td>0.13</td>\n",
       "      <td>-0.08</td>\n",
       "      <td>0.27</td>\n",
       "      <td>-2.38</td>\n",
       "      <td>0.70</td>\n",
       "      <td>-0.71</td>\n",
       "      <td>-0.37</td>\n",
       "      <td>...</td>\n",
       "      <td>-1.47</td>\n",
       "      <td>-0.89</td>\n",
       "      <td>-2.36</td>\n",
       "      <td>-1.89</td>\n",
       "      <td>2.90</td>\n",
       "      <td>2.20</td>\n",
       "      <td>-4.05</td>\n",
       "      <td>0.30</td>\n",
       "      <td>0.69</td>\n",
       "      <td>-3.55</td>\n",
       "    </tr>\n",
       "  </tbody>\n",
       "</table>\n",
       "<p>5 rows × 65 columns</p>\n",
       "</div>"
      ],
      "text/plain": [
       "  Unnamed: 0  PE35_KO_vs_mbio_H37Rv  PPE68_KO_vs_mbio_H37Rv  \\\n",
       "0     Rv0001                  -0.41                    0.01   \n",
       "1     Rv0002                   3.28                    2.38   \n",
       "2     Rv0003                  -0.03                   -0.08   \n",
       "3     Rv0004                  -3.81                   -3.39   \n",
       "4     Rv0005                  -0.22                    0.14   \n",
       "\n",
       "   Rv0950c_KO_vs_CB_WT  Rv0954_KO_vs_RJ_WT  Rv1096_KO_vs_CB_WT  \\\n",
       "0                 0.00                0.00                0.00   \n",
       "1                 0.00                0.00                0.00   \n",
       "2                 0.03               -1.20                0.39   \n",
       "3                -2.60               -6.83                1.54   \n",
       "4                 0.13               -0.08                0.27   \n",
       "\n",
       "   Rv3005c_KO_day32_vs_dejesus_H37Rv_day32  Rv3594_KO_vs_Rubin_FLUTE_WT  \\\n",
       "0                                     3.12                        -0.06   \n",
       "1                                     0.00                         0.00   \n",
       "2                                     3.83                         0.31   \n",
       "3                                     0.00                         1.79   \n",
       "4                                    -2.38                         0.70   \n",
       "\n",
       "   Rv3684_KO_vs_CB_WT  Rv3717_KO_vs_Rubin_FLUTE_WT  ...  \\\n",
       "0                0.00                        -0.06  ...   \n",
       "1                0.00                         0.00  ...   \n",
       "2                0.17                        -0.62  ...   \n",
       "3                1.08                         4.91  ...   \n",
       "4               -0.71                        -0.37  ...   \n",
       "\n",
       "   zhang_AA_Rescue_vs_zhang_in_vitro_control_Rescue  \\\n",
       "0                                              0.00   \n",
       "1                                              0.00   \n",
       "2                                             -2.93   \n",
       "3                                             -3.56   \n",
       "4                                             -1.47   \n",
       "\n",
       "   zhang_DETA-NO_pH_7.0_vs_zhang_pH_7.0_no_NO_control  \\\n",
       "0                                               0.00    \n",
       "1                                               0.00    \n",
       "2                                              -0.31    \n",
       "3                                               0.00    \n",
       "4                                              -0.89    \n",
       "\n",
       "   zhang_Fe_1.5mM_vs_zhang_Fe_450uM  \\\n",
       "0                              0.00   \n",
       "1                              0.00   \n",
       "2                              1.09   \n",
       "3                              1.96   \n",
       "4                             -2.36   \n",
       "\n",
       "   zhang_Trp_Rescue_vs_zhang_in_vitro_control_Rescue  \\\n",
       "0                                               0.00   \n",
       "1                                               0.00   \n",
       "2                                              -2.13   \n",
       "3                                              -3.56   \n",
       "4                                              -1.89   \n",
       "\n",
       "   zhang_Tyloxapol_pH_6.5_vs_zhang_Tyloxapol_pH_4.5  \\\n",
       "0                                              0.00   \n",
       "1                                              0.00   \n",
       "2                                              0.51   \n",
       "3                                              0.00   \n",
       "4                                              2.90   \n",
       "\n",
       "   zhang_Tyloxapol_pH_6.5_vs_zhang_pcit_pH_4.5  \\\n",
       "0                                         0.00   \n",
       "1                                         0.00   \n",
       "2                                         0.41   \n",
       "3                                         0.00   \n",
       "4                                         2.20   \n",
       "\n",
       "   zhang_mhcii_mouse_d10_vs_zhang_wt_mouse_d10  \\\n",
       "0                                         0.00   \n",
       "1                                         0.00   \n",
       "2                                         1.30   \n",
       "3                                         0.00   \n",
       "4                                        -4.05   \n",
       "\n",
       "   zhang_mhcii_mouse_d45_vs_zhang_wt_mouse_d45  \\\n",
       "0                                         0.00   \n",
       "1                                         0.00   \n",
       "2                                        -0.49   \n",
       "3                                         0.70   \n",
       "4                                         0.30   \n",
       "\n",
       "   zhang_wt_mouse_d10_vs_zhang_input_library  \\\n",
       "0                                       0.00   \n",
       "1                                       0.00   \n",
       "2                                      -1.26   \n",
       "3                                      -2.62   \n",
       "4                                       0.69   \n",
       "\n",
       "   zhang_wt_mouse_d45_vs_zhang_input_library  \n",
       "0                                       0.00  \n",
       "1                                       0.00  \n",
       "2                                      -2.25  \n",
       "3                                      -2.62  \n",
       "4                                      -3.55  \n",
       "\n",
       "[5 rows x 65 columns]"
      ]
     },
     "execution_count": 61,
     "metadata": {},
     "output_type": "execute_result"
    }
   ],
   "source": [
    "lfc.head()"
   ]
  },
  {
   "cell_type": "code",
   "execution_count": 62,
   "metadata": {
    "ExecuteTime": {
     "end_time": "2020-02-09T19:22:44.987372Z",
     "start_time": "2020-02-09T19:22:44.948145Z"
    }
   },
   "outputs": [],
   "source": [
    "lfc=lfc.rename(columns={'Unnamed: 0': 'Rv_ID'})\n",
    "qval=qval.rename(columns={'Unnamed: 0': 'Rv_ID'})"
   ]
  },
  {
   "cell_type": "code",
   "execution_count": 63,
   "metadata": {
    "ExecuteTime": {
     "end_time": "2020-02-09T19:22:45.018922Z",
     "start_time": "2020-02-09T19:22:44.991373Z"
    }
   },
   "outputs": [],
   "source": [
    "lfc=lfc.merge(gene_names[['Rv_ID', 'gene_name', 'Description']], how='left')"
   ]
  },
  {
   "cell_type": "code",
   "execution_count": 64,
   "metadata": {
    "ExecuteTime": {
     "end_time": "2020-02-09T19:22:45.206740Z",
     "start_time": "2020-02-09T19:22:45.023318Z"
    }
   },
   "outputs": [],
   "source": [
    "lfc = lfc.melt(id_vars=['Rv_ID', 'gene_name', 'Description'], var_name='Expt', value_name='log2FC')\n",
    "qval = qval.melt(id_vars=['Rv_ID'], var_name='Expt', value_name='q-val')"
   ]
  },
  {
   "cell_type": "code",
   "execution_count": 65,
   "metadata": {
    "ExecuteTime": {
     "end_time": "2020-02-09T19:22:45.238587Z",
     "start_time": "2020-02-09T19:22:45.218720Z"
    }
   },
   "outputs": [
    {
     "name": "stdout",
     "output_type": "stream",
     "text": [
      "(259520, 5) (259520, 3)\n"
     ]
    }
   ],
   "source": [
    "print (lfc.shape, qval.shape)"
   ]
  },
  {
   "cell_type": "code",
   "execution_count": 66,
   "metadata": {
    "ExecuteTime": {
     "end_time": "2020-02-09T19:22:45.534667Z",
     "start_time": "2020-02-09T19:22:45.243601Z"
    }
   },
   "outputs": [],
   "source": [
    "main_data = lfc.merge(qval, how='left', on=['Rv_ID', 'Expt'])"
   ]
  },
  {
   "cell_type": "code",
   "execution_count": 67,
   "metadata": {
    "ExecuteTime": {
     "end_time": "2020-02-09T19:22:45.549870Z",
     "start_time": "2020-02-09T19:22:45.534667Z"
    }
   },
   "outputs": [
    {
     "name": "stdout",
     "output_type": "stream",
     "text": [
      "(259520, 6)\n"
     ]
    }
   ],
   "source": [
    "print(main_data.shape)"
   ]
  },
  {
   "cell_type": "code",
   "execution_count": 68,
   "metadata": {
    "ExecuteTime": {
     "end_time": "2020-02-09T19:22:45.601412Z",
     "start_time": "2020-02-09T19:22:45.554858Z"
    }
   },
   "outputs": [
    {
     "data": {
      "text/html": [
       "<div>\n",
       "<style scoped>\n",
       "    .dataframe tbody tr th:only-of-type {\n",
       "        vertical-align: middle;\n",
       "    }\n",
       "\n",
       "    .dataframe tbody tr th {\n",
       "        vertical-align: top;\n",
       "    }\n",
       "\n",
       "    .dataframe thead th {\n",
       "        text-align: right;\n",
       "    }\n",
       "</style>\n",
       "<table border=\"1\" class=\"dataframe\">\n",
       "  <thead>\n",
       "    <tr style=\"text-align: right;\">\n",
       "      <th></th>\n",
       "      <th>Rv_ID</th>\n",
       "      <th>gene_name</th>\n",
       "      <th>Description</th>\n",
       "      <th>Expt</th>\n",
       "      <th>log2FC</th>\n",
       "      <th>q-val</th>\n",
       "    </tr>\n",
       "  </thead>\n",
       "  <tbody>\n",
       "    <tr>\n",
       "      <td>0</td>\n",
       "      <td>Rv0001</td>\n",
       "      <td>dnaA</td>\n",
       "      <td>Chromosomal replication initiator protein DnaA</td>\n",
       "      <td>PE35_KO_vs_mbio_H37Rv</td>\n",
       "      <td>-0.41</td>\n",
       "      <td>1.00000</td>\n",
       "    </tr>\n",
       "    <tr>\n",
       "      <td>1</td>\n",
       "      <td>Rv0002</td>\n",
       "      <td>dnaN</td>\n",
       "      <td>DNA polymerase III (beta chain) DnaN (DNA nucl...</td>\n",
       "      <td>PE35_KO_vs_mbio_H37Rv</td>\n",
       "      <td>3.28</td>\n",
       "      <td>1.00000</td>\n",
       "    </tr>\n",
       "    <tr>\n",
       "      <td>2</td>\n",
       "      <td>Rv0003</td>\n",
       "      <td>recF</td>\n",
       "      <td>DNA replication and repair protein RecF (singl...</td>\n",
       "      <td>PE35_KO_vs_mbio_H37Rv</td>\n",
       "      <td>-0.03</td>\n",
       "      <td>1.00000</td>\n",
       "    </tr>\n",
       "    <tr>\n",
       "      <td>3</td>\n",
       "      <td>Rv0004</td>\n",
       "      <td>-</td>\n",
       "      <td>hypothetical protein</td>\n",
       "      <td>PE35_KO_vs_mbio_H37Rv</td>\n",
       "      <td>-3.81</td>\n",
       "      <td>1.00000</td>\n",
       "    </tr>\n",
       "    <tr>\n",
       "      <td>4</td>\n",
       "      <td>Rv0005</td>\n",
       "      <td>gyrB</td>\n",
       "      <td>DNA gyrase (subunit B) GyrB (DNA topoisomerase...</td>\n",
       "      <td>PE35_KO_vs_mbio_H37Rv</td>\n",
       "      <td>-0.22</td>\n",
       "      <td>1.00000</td>\n",
       "    </tr>\n",
       "    <tr>\n",
       "      <td>...</td>\n",
       "      <td>...</td>\n",
       "      <td>...</td>\n",
       "      <td>...</td>\n",
       "      <td>...</td>\n",
       "      <td>...</td>\n",
       "      <td>...</td>\n",
       "    </tr>\n",
       "    <tr>\n",
       "      <td>259515</td>\n",
       "      <td>Rv3921c</td>\n",
       "      <td>-</td>\n",
       "      <td>Probable conserved transmembrane protein</td>\n",
       "      <td>zhang_wt_mouse_d45_vs_zhang_input_library</td>\n",
       "      <td>0.00</td>\n",
       "      <td>1.00000</td>\n",
       "    </tr>\n",
       "    <tr>\n",
       "      <td>259516</td>\n",
       "      <td>Rv3922c</td>\n",
       "      <td>-</td>\n",
       "      <td>Possible hemolysin</td>\n",
       "      <td>zhang_wt_mouse_d45_vs_zhang_input_library</td>\n",
       "      <td>-2.06</td>\n",
       "      <td>0.32788</td>\n",
       "    </tr>\n",
       "    <tr>\n",
       "      <td>259517</td>\n",
       "      <td>Rv3923c</td>\n",
       "      <td>rnpA</td>\n",
       "      <td>Ribonuclease P protein component RnpA (RNaseP ...</td>\n",
       "      <td>zhang_wt_mouse_d45_vs_zhang_input_library</td>\n",
       "      <td>-3.80</td>\n",
       "      <td>0.81749</td>\n",
       "    </tr>\n",
       "    <tr>\n",
       "      <td>259518</td>\n",
       "      <td>Rv3924c</td>\n",
       "      <td>rpmH</td>\n",
       "      <td>50S ribosomal protein L34 RpmH</td>\n",
       "      <td>zhang_wt_mouse_d45_vs_zhang_input_library</td>\n",
       "      <td>0.00</td>\n",
       "      <td>1.00000</td>\n",
       "    </tr>\n",
       "    <tr>\n",
       "      <td>259519</td>\n",
       "      <td>Rvnr01</td>\n",
       "      <td>rrs</td>\n",
       "      <td>16S rRNA</td>\n",
       "      <td>zhang_wt_mouse_d45_vs_zhang_input_library</td>\n",
       "      <td>0.00</td>\n",
       "      <td>1.00000</td>\n",
       "    </tr>\n",
       "  </tbody>\n",
       "</table>\n",
       "<p>259520 rows × 6 columns</p>\n",
       "</div>"
      ],
      "text/plain": [
       "          Rv_ID gene_name                                        Description  \\\n",
       "0        Rv0001      dnaA     Chromosomal replication initiator protein DnaA   \n",
       "1        Rv0002      dnaN  DNA polymerase III (beta chain) DnaN (DNA nucl...   \n",
       "2        Rv0003      recF  DNA replication and repair protein RecF (singl...   \n",
       "3        Rv0004         -                               hypothetical protein   \n",
       "4        Rv0005      gyrB  DNA gyrase (subunit B) GyrB (DNA topoisomerase...   \n",
       "...         ...       ...                                                ...   \n",
       "259515  Rv3921c         -           Probable conserved transmembrane protein   \n",
       "259516  Rv3922c         -                                 Possible hemolysin   \n",
       "259517  Rv3923c      rnpA  Ribonuclease P protein component RnpA (RNaseP ...   \n",
       "259518  Rv3924c      rpmH                     50S ribosomal protein L34 RpmH   \n",
       "259519   Rvnr01       rrs                                           16S rRNA   \n",
       "\n",
       "                                             Expt  log2FC    q-val  \n",
       "0                           PE35_KO_vs_mbio_H37Rv   -0.41  1.00000  \n",
       "1                           PE35_KO_vs_mbio_H37Rv    3.28  1.00000  \n",
       "2                           PE35_KO_vs_mbio_H37Rv   -0.03  1.00000  \n",
       "3                           PE35_KO_vs_mbio_H37Rv   -3.81  1.00000  \n",
       "4                           PE35_KO_vs_mbio_H37Rv   -0.22  1.00000  \n",
       "...                                           ...     ...      ...  \n",
       "259515  zhang_wt_mouse_d45_vs_zhang_input_library    0.00  1.00000  \n",
       "259516  zhang_wt_mouse_d45_vs_zhang_input_library   -2.06  0.32788  \n",
       "259517  zhang_wt_mouse_d45_vs_zhang_input_library   -3.80  0.81749  \n",
       "259518  zhang_wt_mouse_d45_vs_zhang_input_library    0.00  1.00000  \n",
       "259519  zhang_wt_mouse_d45_vs_zhang_input_library    0.00  1.00000  \n",
       "\n",
       "[259520 rows x 6 columns]"
      ]
     },
     "execution_count": 68,
     "metadata": {},
     "output_type": "execute_result"
    }
   ],
   "source": [
    "main_data"
   ]
  },
  {
   "cell_type": "code",
   "execution_count": 69,
   "metadata": {
    "ExecuteTime": {
     "end_time": "2020-02-09T19:22:45.616894Z",
     "start_time": "2020-02-09T19:22:45.605419Z"
    }
   },
   "outputs": [],
   "source": [
    "# main_data.to_csv('../../data/main_data_dash.csv')"
   ]
  },
  {
   "cell_type": "markdown",
   "metadata": {},
   "source": [
    "## Make expt metadata"
   ]
  },
  {
   "cell_type": "code",
   "execution_count": 70,
   "metadata": {
    "ExecuteTime": {
     "end_time": "2020-02-09T19:22:46.563132Z",
     "start_time": "2020-02-09T19:22:45.620897Z"
    }
   },
   "outputs": [],
   "source": [
    "col_desc = pd.read_excel('../../data/column_descriptors_standardized.xlsx')"
   ]
  },
  {
   "cell_type": "code",
   "execution_count": 71,
   "metadata": {
    "ExecuteTime": {
     "end_time": "2020-02-09T19:22:46.626938Z",
     "start_time": "2020-02-09T19:22:46.567112Z"
    }
   },
   "outputs": [
    {
     "data": {
      "text/html": [
       "<div>\n",
       "<style scoped>\n",
       "    .dataframe tbody tr th:only-of-type {\n",
       "        vertical-align: middle;\n",
       "    }\n",
       "\n",
       "    .dataframe tbody tr th {\n",
       "        vertical-align: top;\n",
       "    }\n",
       "\n",
       "    .dataframe thead th {\n",
       "        text-align: right;\n",
       "    }\n",
       "</style>\n",
       "<table border=\"1\" class=\"dataframe\">\n",
       "  <thead>\n",
       "    <tr style=\"text-align: right;\">\n",
       "      <th></th>\n",
       "      <th>column_ID</th>\n",
       "      <th>wig_files</th>\n",
       "      <th>control</th>\n",
       "      <th>experimental</th>\n",
       "      <th>column_ID_2</th>\n",
       "      <th>num_replicates_control</th>\n",
       "      <th>num_replicates_experimental</th>\n",
       "      <th>meaning</th>\n",
       "      <th>year</th>\n",
       "      <th>paper_title</th>\n",
       "      <th>...</th>\n",
       "      <th>in_vitro_media</th>\n",
       "      <th>carbon_source</th>\n",
       "      <th>stress_description</th>\n",
       "      <th>GI_RvID</th>\n",
       "      <th>GI_name</th>\n",
       "      <th>MicArr_or_TnSeq</th>\n",
       "      <th>stat_analysis</th>\n",
       "      <th>mouse_strain</th>\n",
       "      <th>cell_type</th>\n",
       "      <th>Mtb_strain</th>\n",
       "    </tr>\n",
       "  </thead>\n",
       "  <tbody>\n",
       "    <tr>\n",
       "      <td>0</td>\n",
       "      <td>2011_Griffin_2</td>\n",
       "      <td>True</td>\n",
       "      <td>griffin_glycerol</td>\n",
       "      <td>griffin_cholesterol</td>\n",
       "      <td>griffin_cholesterol_vs_griffin_glycerol</td>\n",
       "      <td>2</td>\n",
       "      <td>3</td>\n",
       "      <td>Mutants exhiting altered fitness during choles...</td>\n",
       "      <td>2011.0</td>\n",
       "      <td>High-Resolution Phenotypic Profiling Defines G...</td>\n",
       "      <td>...</td>\n",
       "      <td>minimal_media</td>\n",
       "      <td>cholesterol</td>\n",
       "      <td>-</td>\n",
       "      <td>NaN</td>\n",
       "      <td>NaN</td>\n",
       "      <td>TnSeq</td>\n",
       "      <td>NaN</td>\n",
       "      <td>NaN</td>\n",
       "      <td>NaN</td>\n",
       "      <td>H37Rv</td>\n",
       "    </tr>\n",
       "    <tr>\n",
       "      <td>1</td>\n",
       "      <td>2013_DeJesus</td>\n",
       "      <td>True</td>\n",
       "      <td>mbio_H37Rv</td>\n",
       "      <td>griffin_glycerol</td>\n",
       "      <td>griffin_glycerol_vs_mbio_H37Rv</td>\n",
       "      <td>14</td>\n",
       "      <td>2</td>\n",
       "      <td>NaN</td>\n",
       "      <td>2013.0</td>\n",
       "      <td>A Hidden Markov Model for identifying essentia...</td>\n",
       "      <td>...</td>\n",
       "      <td>NaN</td>\n",
       "      <td>glycerol</td>\n",
       "      <td>-</td>\n",
       "      <td>NaN</td>\n",
       "      <td>NaN</td>\n",
       "      <td>TnSeq</td>\n",
       "      <td>NaN</td>\n",
       "      <td>NaN</td>\n",
       "      <td>NaN</td>\n",
       "      <td>NaN</td>\n",
       "    </tr>\n",
       "    <tr>\n",
       "      <td>2</td>\n",
       "      <td>2013_Zhang_1A</td>\n",
       "      <td>True</td>\n",
       "      <td>zhang_input_library</td>\n",
       "      <td>zhang_wt_mouse_d10</td>\n",
       "      <td>zhang_wt_mouse_d10_vs_zhang_input_library</td>\n",
       "      <td>1</td>\n",
       "      <td>3</td>\n",
       "      <td>Mutants exhibiting altered fitness in mouse in...</td>\n",
       "      <td>2013.0</td>\n",
       "      <td>Tryptophan biosynthesis protects mycobacteria ...</td>\n",
       "      <td>...</td>\n",
       "      <td>-</td>\n",
       "      <td>-</td>\n",
       "      <td>NaN</td>\n",
       "      <td>NaN</td>\n",
       "      <td>NaN</td>\n",
       "      <td>TnSeq</td>\n",
       "      <td>NaN</td>\n",
       "      <td>WT</td>\n",
       "      <td>NaN</td>\n",
       "      <td>NaN</td>\n",
       "    </tr>\n",
       "    <tr>\n",
       "      <td>3</td>\n",
       "      <td>2013_Zhang_1B</td>\n",
       "      <td>True</td>\n",
       "      <td>zhang_input_library</td>\n",
       "      <td>zhang_wt_mouse_d45</td>\n",
       "      <td>zhang_wt_mouse_d45_vs_zhang_input_library</td>\n",
       "      <td>1</td>\n",
       "      <td>3</td>\n",
       "      <td>Mutants exhibiting altered fitness in mouse in...</td>\n",
       "      <td>2013.0</td>\n",
       "      <td>Tryptophan biosynthesis protects mycobacteria ...</td>\n",
       "      <td>...</td>\n",
       "      <td>-</td>\n",
       "      <td>-</td>\n",
       "      <td>NaN</td>\n",
       "      <td>NaN</td>\n",
       "      <td>NaN</td>\n",
       "      <td>TnSeq</td>\n",
       "      <td>NaN</td>\n",
       "      <td>WT</td>\n",
       "      <td>NaN</td>\n",
       "      <td>NaN</td>\n",
       "    </tr>\n",
       "    <tr>\n",
       "      <td>4</td>\n",
       "      <td>2013_Zhang_2A</td>\n",
       "      <td>True</td>\n",
       "      <td>zhang_wt_mouse_d10</td>\n",
       "      <td>zhang_mhcii_mouse_d10</td>\n",
       "      <td>zhang_mhcii_mouse_d10_vs_zhang_wt_mouse_d10</td>\n",
       "      <td>3</td>\n",
       "      <td>4</td>\n",
       "      <td>Mutants exhibiting altered fitness in immunode...</td>\n",
       "      <td>2013.0</td>\n",
       "      <td>Tryptophan biosynthesis protects mycobacteria ...</td>\n",
       "      <td>...</td>\n",
       "      <td>-</td>\n",
       "      <td>-</td>\n",
       "      <td>NaN</td>\n",
       "      <td>NaN</td>\n",
       "      <td>NaN</td>\n",
       "      <td>TnSeq</td>\n",
       "      <td>NaN</td>\n",
       "      <td>MHCII−/−</td>\n",
       "      <td>NaN</td>\n",
       "      <td>NaN</td>\n",
       "    </tr>\n",
       "  </tbody>\n",
       "</table>\n",
       "<p>5 rows × 25 columns</p>\n",
       "</div>"
      ],
      "text/plain": [
       "        column_ID  wig_files              control           experimental  \\\n",
       "0  2011_Griffin_2       True     griffin_glycerol    griffin_cholesterol   \n",
       "1    2013_DeJesus       True           mbio_H37Rv       griffin_glycerol   \n",
       "2   2013_Zhang_1A       True  zhang_input_library     zhang_wt_mouse_d10   \n",
       "3   2013_Zhang_1B       True  zhang_input_library     zhang_wt_mouse_d45   \n",
       "4   2013_Zhang_2A       True   zhang_wt_mouse_d10  zhang_mhcii_mouse_d10   \n",
       "\n",
       "                                   column_ID_2  num_replicates_control  \\\n",
       "0      griffin_cholesterol_vs_griffin_glycerol                       2   \n",
       "1               griffin_glycerol_vs_mbio_H37Rv                      14   \n",
       "2    zhang_wt_mouse_d10_vs_zhang_input_library                       1   \n",
       "3    zhang_wt_mouse_d45_vs_zhang_input_library                       1   \n",
       "4  zhang_mhcii_mouse_d10_vs_zhang_wt_mouse_d10                       3   \n",
       "\n",
       "   num_replicates_experimental  \\\n",
       "0                            3   \n",
       "1                            2   \n",
       "2                            3   \n",
       "3                            3   \n",
       "4                            4   \n",
       "\n",
       "                                             meaning    year  \\\n",
       "0  Mutants exhiting altered fitness during choles...  2011.0   \n",
       "1                                                NaN  2013.0   \n",
       "2  Mutants exhibiting altered fitness in mouse in...  2013.0   \n",
       "3  Mutants exhibiting altered fitness in mouse in...  2013.0   \n",
       "4  Mutants exhibiting altered fitness in immunode...  2013.0   \n",
       "\n",
       "                                         paper_title  ... in_vitro_media  \\\n",
       "0  High-Resolution Phenotypic Profiling Defines G...  ...  minimal_media   \n",
       "1  A Hidden Markov Model for identifying essentia...  ...            NaN   \n",
       "2  Tryptophan biosynthesis protects mycobacteria ...  ...              -   \n",
       "3  Tryptophan biosynthesis protects mycobacteria ...  ...              -   \n",
       "4  Tryptophan biosynthesis protects mycobacteria ...  ...              -   \n",
       "\n",
       "  carbon_source stress_description GI_RvID GI_name MicArr_or_TnSeq  \\\n",
       "0   cholesterol                  -     NaN     NaN           TnSeq   \n",
       "1      glycerol                  -     NaN     NaN           TnSeq   \n",
       "2             -                NaN     NaN     NaN           TnSeq   \n",
       "3             -                NaN     NaN     NaN           TnSeq   \n",
       "4             -                NaN     NaN     NaN           TnSeq   \n",
       "\n",
       "  stat_analysis mouse_strain cell_type Mtb_strain  \n",
       "0           NaN          NaN       NaN      H37Rv  \n",
       "1           NaN          NaN       NaN        NaN  \n",
       "2           NaN           WT       NaN        NaN  \n",
       "3           NaN           WT       NaN        NaN  \n",
       "4           NaN     MHCII−/−       NaN        NaN  \n",
       "\n",
       "[5 rows x 25 columns]"
      ]
     },
     "execution_count": 71,
     "metadata": {},
     "output_type": "execute_result"
    }
   ],
   "source": [
    "col_desc.head()"
   ]
  },
  {
   "cell_type": "code",
   "execution_count": 72,
   "metadata": {
    "ExecuteTime": {
     "end_time": "2020-02-09T19:22:46.642249Z",
     "start_time": "2020-02-09T19:22:46.631909Z"
    }
   },
   "outputs": [
    {
     "data": {
      "text/plain": [
       "Index(['column_ID', 'wig_files', 'control', 'experimental', 'column_ID_2',\n",
       "       'num_replicates_control', 'num_replicates_experimental', 'meaning',\n",
       "       'year', 'paper_title', 'paper_URL', 'journal', 'first_author',\n",
       "       'last_author', 'in_vitro_cell_vivo', 'in_vitro_media', 'carbon_source',\n",
       "       'stress_description', 'GI_RvID', 'GI_name', 'MicArr_or_TnSeq',\n",
       "       'stat_analysis', 'mouse_strain', 'cell_type', 'Mtb_strain'],\n",
       "      dtype='object')"
      ]
     },
     "execution_count": 72,
     "metadata": {},
     "output_type": "execute_result"
    }
   ],
   "source": [
    "col_desc.columns"
   ]
  },
  {
   "cell_type": "code",
   "execution_count": 73,
   "metadata": {
    "ExecuteTime": {
     "end_time": "2020-02-09T19:22:46.670535Z",
     "start_time": "2020-02-09T19:22:46.646249Z"
    }
   },
   "outputs": [],
   "source": [
    "col_desc=col_desc.drop(columns=['column_ID', 'wig_files', 'control', 'experimental','year', 'journal', 'first_author', 'last_author',  'in_vitro_cell_vivo', 'in_vitro_media', 'carbon_source',\n",
    "       'stress_description', 'GI_RvID', 'GI_name', 'MicArr_or_TnSeq',\n",
    "       'stat_analysis', 'mouse_strain', 'cell_type', 'Mtb_strain'])"
   ]
  },
  {
   "cell_type": "code",
   "execution_count": null,
   "metadata": {
    "ExecuteTime": {
     "end_time": "2020-02-08T19:55:59.367099Z",
     "start_time": "2020-02-08T19:55:59.348101Z"
    }
   },
   "outputs": [],
   "source": []
  },
  {
   "cell_type": "code",
   "execution_count": 74,
   "metadata": {
    "ExecuteTime": {
     "end_time": "2020-02-09T19:22:46.816024Z",
     "start_time": "2020-02-09T19:22:46.674539Z"
    }
   },
   "outputs": [],
   "source": [
    "main_data = main_data.merge(col_desc, left_on='Expt', right_on='column_ID_2', how='left')"
   ]
  },
  {
   "cell_type": "code",
   "execution_count": 75,
   "metadata": {
    "ExecuteTime": {
     "end_time": "2020-02-09T19:22:46.847516Z",
     "start_time": "2020-02-09T19:22:46.825075Z"
    }
   },
   "outputs": [
    {
     "data": {
      "text/plain": [
       "(259520, 12)"
      ]
     },
     "execution_count": 75,
     "metadata": {},
     "output_type": "execute_result"
    }
   ],
   "source": [
    "main_data.shape"
   ]
  },
  {
   "cell_type": "code",
   "execution_count": 76,
   "metadata": {
    "ExecuteTime": {
     "end_time": "2020-02-09T19:22:47.038749Z",
     "start_time": "2020-02-09T19:22:46.851520Z"
    }
   },
   "outputs": [],
   "source": [
    "main_data=main_data.drop(columns='column_ID_2')"
   ]
  },
  {
   "cell_type": "code",
   "execution_count": 77,
   "metadata": {
    "ExecuteTime": {
     "end_time": "2020-02-09T19:22:47.116096Z",
     "start_time": "2020-02-09T19:22:47.039759Z"
    }
   },
   "outputs": [
    {
     "data": {
      "text/html": [
       "<div>\n",
       "<style scoped>\n",
       "    .dataframe tbody tr th:only-of-type {\n",
       "        vertical-align: middle;\n",
       "    }\n",
       "\n",
       "    .dataframe tbody tr th {\n",
       "        vertical-align: top;\n",
       "    }\n",
       "\n",
       "    .dataframe thead th {\n",
       "        text-align: right;\n",
       "    }\n",
       "</style>\n",
       "<table border=\"1\" class=\"dataframe\">\n",
       "  <thead>\n",
       "    <tr style=\"text-align: right;\">\n",
       "      <th></th>\n",
       "      <th>Rv_ID</th>\n",
       "      <th>gene_name</th>\n",
       "      <th>Description</th>\n",
       "      <th>Expt</th>\n",
       "      <th>log2FC</th>\n",
       "      <th>q-val</th>\n",
       "      <th>num_replicates_control</th>\n",
       "      <th>num_replicates_experimental</th>\n",
       "      <th>meaning</th>\n",
       "      <th>paper_title</th>\n",
       "      <th>paper_URL</th>\n",
       "    </tr>\n",
       "  </thead>\n",
       "  <tbody>\n",
       "    <tr>\n",
       "      <td>0</td>\n",
       "      <td>Rv0001</td>\n",
       "      <td>dnaA</td>\n",
       "      <td>Chromosomal replication initiator protein DnaA</td>\n",
       "      <td>PE35_KO_vs_mbio_H37Rv</td>\n",
       "      <td>-0.41</td>\n",
       "      <td>1.00000</td>\n",
       "      <td>14</td>\n",
       "      <td>1</td>\n",
       "      <td>Mutants exhibiting altered fitness in the abse...</td>\n",
       "      <td>NaN</td>\n",
       "      <td>NaN</td>\n",
       "    </tr>\n",
       "    <tr>\n",
       "      <td>1</td>\n",
       "      <td>Rv0002</td>\n",
       "      <td>dnaN</td>\n",
       "      <td>DNA polymerase III (beta chain) DnaN (DNA nucl...</td>\n",
       "      <td>PE35_KO_vs_mbio_H37Rv</td>\n",
       "      <td>3.28</td>\n",
       "      <td>1.00000</td>\n",
       "      <td>14</td>\n",
       "      <td>1</td>\n",
       "      <td>Mutants exhibiting altered fitness in the abse...</td>\n",
       "      <td>NaN</td>\n",
       "      <td>NaN</td>\n",
       "    </tr>\n",
       "    <tr>\n",
       "      <td>2</td>\n",
       "      <td>Rv0003</td>\n",
       "      <td>recF</td>\n",
       "      <td>DNA replication and repair protein RecF (singl...</td>\n",
       "      <td>PE35_KO_vs_mbio_H37Rv</td>\n",
       "      <td>-0.03</td>\n",
       "      <td>1.00000</td>\n",
       "      <td>14</td>\n",
       "      <td>1</td>\n",
       "      <td>Mutants exhibiting altered fitness in the abse...</td>\n",
       "      <td>NaN</td>\n",
       "      <td>NaN</td>\n",
       "    </tr>\n",
       "    <tr>\n",
       "      <td>3</td>\n",
       "      <td>Rv0004</td>\n",
       "      <td>-</td>\n",
       "      <td>hypothetical protein</td>\n",
       "      <td>PE35_KO_vs_mbio_H37Rv</td>\n",
       "      <td>-3.81</td>\n",
       "      <td>1.00000</td>\n",
       "      <td>14</td>\n",
       "      <td>1</td>\n",
       "      <td>Mutants exhibiting altered fitness in the abse...</td>\n",
       "      <td>NaN</td>\n",
       "      <td>NaN</td>\n",
       "    </tr>\n",
       "    <tr>\n",
       "      <td>4</td>\n",
       "      <td>Rv0005</td>\n",
       "      <td>gyrB</td>\n",
       "      <td>DNA gyrase (subunit B) GyrB (DNA topoisomerase...</td>\n",
       "      <td>PE35_KO_vs_mbio_H37Rv</td>\n",
       "      <td>-0.22</td>\n",
       "      <td>1.00000</td>\n",
       "      <td>14</td>\n",
       "      <td>1</td>\n",
       "      <td>Mutants exhibiting altered fitness in the abse...</td>\n",
       "      <td>NaN</td>\n",
       "      <td>NaN</td>\n",
       "    </tr>\n",
       "    <tr>\n",
       "      <td>...</td>\n",
       "      <td>...</td>\n",
       "      <td>...</td>\n",
       "      <td>...</td>\n",
       "      <td>...</td>\n",
       "      <td>...</td>\n",
       "      <td>...</td>\n",
       "      <td>...</td>\n",
       "      <td>...</td>\n",
       "      <td>...</td>\n",
       "      <td>...</td>\n",
       "      <td>...</td>\n",
       "    </tr>\n",
       "    <tr>\n",
       "      <td>259515</td>\n",
       "      <td>Rv3921c</td>\n",
       "      <td>-</td>\n",
       "      <td>Probable conserved transmembrane protein</td>\n",
       "      <td>zhang_wt_mouse_d45_vs_zhang_input_library</td>\n",
       "      <td>0.00</td>\n",
       "      <td>1.00000</td>\n",
       "      <td>1</td>\n",
       "      <td>3</td>\n",
       "      <td>Mutants exhibiting altered fitness in mouse in...</td>\n",
       "      <td>Tryptophan biosynthesis protects mycobacteria ...</td>\n",
       "      <td>https://www.ncbi.nlm.nih.gov/pmc/articles/PMC3...</td>\n",
       "    </tr>\n",
       "    <tr>\n",
       "      <td>259516</td>\n",
       "      <td>Rv3922c</td>\n",
       "      <td>-</td>\n",
       "      <td>Possible hemolysin</td>\n",
       "      <td>zhang_wt_mouse_d45_vs_zhang_input_library</td>\n",
       "      <td>-2.06</td>\n",
       "      <td>0.32788</td>\n",
       "      <td>1</td>\n",
       "      <td>3</td>\n",
       "      <td>Mutants exhibiting altered fitness in mouse in...</td>\n",
       "      <td>Tryptophan biosynthesis protects mycobacteria ...</td>\n",
       "      <td>https://www.ncbi.nlm.nih.gov/pmc/articles/PMC3...</td>\n",
       "    </tr>\n",
       "    <tr>\n",
       "      <td>259517</td>\n",
       "      <td>Rv3923c</td>\n",
       "      <td>rnpA</td>\n",
       "      <td>Ribonuclease P protein component RnpA (RNaseP ...</td>\n",
       "      <td>zhang_wt_mouse_d45_vs_zhang_input_library</td>\n",
       "      <td>-3.80</td>\n",
       "      <td>0.81749</td>\n",
       "      <td>1</td>\n",
       "      <td>3</td>\n",
       "      <td>Mutants exhibiting altered fitness in mouse in...</td>\n",
       "      <td>Tryptophan biosynthesis protects mycobacteria ...</td>\n",
       "      <td>https://www.ncbi.nlm.nih.gov/pmc/articles/PMC3...</td>\n",
       "    </tr>\n",
       "    <tr>\n",
       "      <td>259518</td>\n",
       "      <td>Rv3924c</td>\n",
       "      <td>rpmH</td>\n",
       "      <td>50S ribosomal protein L34 RpmH</td>\n",
       "      <td>zhang_wt_mouse_d45_vs_zhang_input_library</td>\n",
       "      <td>0.00</td>\n",
       "      <td>1.00000</td>\n",
       "      <td>1</td>\n",
       "      <td>3</td>\n",
       "      <td>Mutants exhibiting altered fitness in mouse in...</td>\n",
       "      <td>Tryptophan biosynthesis protects mycobacteria ...</td>\n",
       "      <td>https://www.ncbi.nlm.nih.gov/pmc/articles/PMC3...</td>\n",
       "    </tr>\n",
       "    <tr>\n",
       "      <td>259519</td>\n",
       "      <td>Rvnr01</td>\n",
       "      <td>rrs</td>\n",
       "      <td>16S rRNA</td>\n",
       "      <td>zhang_wt_mouse_d45_vs_zhang_input_library</td>\n",
       "      <td>0.00</td>\n",
       "      <td>1.00000</td>\n",
       "      <td>1</td>\n",
       "      <td>3</td>\n",
       "      <td>Mutants exhibiting altered fitness in mouse in...</td>\n",
       "      <td>Tryptophan biosynthesis protects mycobacteria ...</td>\n",
       "      <td>https://www.ncbi.nlm.nih.gov/pmc/articles/PMC3...</td>\n",
       "    </tr>\n",
       "  </tbody>\n",
       "</table>\n",
       "<p>259520 rows × 11 columns</p>\n",
       "</div>"
      ],
      "text/plain": [
       "          Rv_ID gene_name                                        Description  \\\n",
       "0        Rv0001      dnaA     Chromosomal replication initiator protein DnaA   \n",
       "1        Rv0002      dnaN  DNA polymerase III (beta chain) DnaN (DNA nucl...   \n",
       "2        Rv0003      recF  DNA replication and repair protein RecF (singl...   \n",
       "3        Rv0004         -                               hypothetical protein   \n",
       "4        Rv0005      gyrB  DNA gyrase (subunit B) GyrB (DNA topoisomerase...   \n",
       "...         ...       ...                                                ...   \n",
       "259515  Rv3921c         -           Probable conserved transmembrane protein   \n",
       "259516  Rv3922c         -                                 Possible hemolysin   \n",
       "259517  Rv3923c      rnpA  Ribonuclease P protein component RnpA (RNaseP ...   \n",
       "259518  Rv3924c      rpmH                     50S ribosomal protein L34 RpmH   \n",
       "259519   Rvnr01       rrs                                           16S rRNA   \n",
       "\n",
       "                                             Expt  log2FC    q-val  \\\n",
       "0                           PE35_KO_vs_mbio_H37Rv   -0.41  1.00000   \n",
       "1                           PE35_KO_vs_mbio_H37Rv    3.28  1.00000   \n",
       "2                           PE35_KO_vs_mbio_H37Rv   -0.03  1.00000   \n",
       "3                           PE35_KO_vs_mbio_H37Rv   -3.81  1.00000   \n",
       "4                           PE35_KO_vs_mbio_H37Rv   -0.22  1.00000   \n",
       "...                                           ...     ...      ...   \n",
       "259515  zhang_wt_mouse_d45_vs_zhang_input_library    0.00  1.00000   \n",
       "259516  zhang_wt_mouse_d45_vs_zhang_input_library   -2.06  0.32788   \n",
       "259517  zhang_wt_mouse_d45_vs_zhang_input_library   -3.80  0.81749   \n",
       "259518  zhang_wt_mouse_d45_vs_zhang_input_library    0.00  1.00000   \n",
       "259519  zhang_wt_mouse_d45_vs_zhang_input_library    0.00  1.00000   \n",
       "\n",
       "        num_replicates_control  num_replicates_experimental  \\\n",
       "0                           14                            1   \n",
       "1                           14                            1   \n",
       "2                           14                            1   \n",
       "3                           14                            1   \n",
       "4                           14                            1   \n",
       "...                        ...                          ...   \n",
       "259515                       1                            3   \n",
       "259516                       1                            3   \n",
       "259517                       1                            3   \n",
       "259518                       1                            3   \n",
       "259519                       1                            3   \n",
       "\n",
       "                                                  meaning  \\\n",
       "0       Mutants exhibiting altered fitness in the abse...   \n",
       "1       Mutants exhibiting altered fitness in the abse...   \n",
       "2       Mutants exhibiting altered fitness in the abse...   \n",
       "3       Mutants exhibiting altered fitness in the abse...   \n",
       "4       Mutants exhibiting altered fitness in the abse...   \n",
       "...                                                   ...   \n",
       "259515  Mutants exhibiting altered fitness in mouse in...   \n",
       "259516  Mutants exhibiting altered fitness in mouse in...   \n",
       "259517  Mutants exhibiting altered fitness in mouse in...   \n",
       "259518  Mutants exhibiting altered fitness in mouse in...   \n",
       "259519  Mutants exhibiting altered fitness in mouse in...   \n",
       "\n",
       "                                              paper_title  \\\n",
       "0                                                     NaN   \n",
       "1                                                     NaN   \n",
       "2                                                     NaN   \n",
       "3                                                     NaN   \n",
       "4                                                     NaN   \n",
       "...                                                   ...   \n",
       "259515  Tryptophan biosynthesis protects mycobacteria ...   \n",
       "259516  Tryptophan biosynthesis protects mycobacteria ...   \n",
       "259517  Tryptophan biosynthesis protects mycobacteria ...   \n",
       "259518  Tryptophan biosynthesis protects mycobacteria ...   \n",
       "259519  Tryptophan biosynthesis protects mycobacteria ...   \n",
       "\n",
       "                                                paper_URL  \n",
       "0                                                     NaN  \n",
       "1                                                     NaN  \n",
       "2                                                     NaN  \n",
       "3                                                     NaN  \n",
       "4                                                     NaN  \n",
       "...                                                   ...  \n",
       "259515  https://www.ncbi.nlm.nih.gov/pmc/articles/PMC3...  \n",
       "259516  https://www.ncbi.nlm.nih.gov/pmc/articles/PMC3...  \n",
       "259517  https://www.ncbi.nlm.nih.gov/pmc/articles/PMC3...  \n",
       "259518  https://www.ncbi.nlm.nih.gov/pmc/articles/PMC3...  \n",
       "259519  https://www.ncbi.nlm.nih.gov/pmc/articles/PMC3...  \n",
       "\n",
       "[259520 rows x 11 columns]"
      ]
     },
     "execution_count": 77,
     "metadata": {},
     "output_type": "execute_result"
    }
   ],
   "source": [
    "main_data"
   ]
  },
  {
   "cell_type": "code",
   "execution_count": 78,
   "metadata": {
    "ExecuteTime": {
     "end_time": "2020-02-09T19:22:47.328309Z",
     "start_time": "2020-02-09T19:22:47.123119Z"
    }
   },
   "outputs": [
    {
     "data": {
      "text/plain": [
       "Rv_ID                              0\n",
       "gene_name                       2496\n",
       "Description                     2496\n",
       "Expt                               0\n",
       "log2FC                          3792\n",
       "q-val                           3792\n",
       "num_replicates_control             0\n",
       "num_replicates_experimental        0\n",
       "meaning                        36495\n",
       "paper_title                    60825\n",
       "paper_URL                      60825\n",
       "dtype: int64"
      ]
     },
     "execution_count": 78,
     "metadata": {},
     "output_type": "execute_result"
    }
   ],
   "source": [
    "main_data.isna().sum()"
   ]
  },
  {
   "cell_type": "code",
   "execution_count": 79,
   "metadata": {
    "ExecuteTime": {
     "end_time": "2020-02-09T19:22:47.422687Z",
     "start_time": "2020-02-09T19:22:47.339484Z"
    }
   },
   "outputs": [],
   "source": [
    "main_data=main_data.dropna(axis=0, subset=['log2FC', 'q-val'])"
   ]
  },
  {
   "cell_type": "code",
   "execution_count": 80,
   "metadata": {
    "ExecuteTime": {
     "end_time": "2020-02-09T19:22:47.683111Z",
     "start_time": "2020-02-09T19:22:47.430689Z"
    }
   },
   "outputs": [
    {
     "data": {
      "text/plain": [
       "Rv_ID                              0\n",
       "gene_name                        568\n",
       "Description                      568\n",
       "Expt                               0\n",
       "log2FC                             0\n",
       "q-val                              0\n",
       "num_replicates_control             0\n",
       "num_replicates_experimental        0\n",
       "meaning                        35910\n",
       "paper_title                    59850\n",
       "paper_URL                      59850\n",
       "dtype: int64"
      ]
     },
     "execution_count": 80,
     "metadata": {},
     "output_type": "execute_result"
    }
   ],
   "source": [
    "main_data.isna().sum()"
   ]
  },
  {
   "cell_type": "code",
   "execution_count": 82,
   "metadata": {
    "ExecuteTime": {
     "end_time": "2020-02-09T19:22:55.806985Z",
     "start_time": "2020-02-09T19:22:55.678283Z"
    }
   },
   "outputs": [
    {
     "data": {
      "text/plain": [
       "Rv_ID                              0\n",
       "gene_name                        568\n",
       "Description                      568\n",
       "Expt                               0\n",
       "log2FC                             0\n",
       "q-val                              0\n",
       "num_replicates_control             0\n",
       "num_replicates_experimental        0\n",
       "meaning                        35910\n",
       "paper_title                    59850\n",
       "paper_URL                      59850\n",
       "dtype: int64"
      ]
     },
     "execution_count": 82,
     "metadata": {},
     "output_type": "execute_result"
    }
   ],
   "source": [
    "main_data.isna().sum()"
   ]
  },
  {
   "cell_type": "code",
   "execution_count": 85,
   "metadata": {
    "ExecuteTime": {
     "end_time": "2020-02-09T19:23:30.919457Z",
     "start_time": "2020-02-09T19:23:30.818077Z"
    }
   },
   "outputs": [],
   "source": [
    "main_data.loc[pd.isna(main_data['gene_name']), 'gene_name']=main_data.loc[pd.isna(main_data['gene_name']), 'Rv_ID']\n",
    "main_data.loc[main_data['gene_name']=='-', 'gene_name']=main_data.loc[main_data['gene_name']=='-', 'Rv_ID']\n"
   ]
  },
  {
   "cell_type": "code",
   "execution_count": 86,
   "metadata": {
    "ExecuteTime": {
     "end_time": "2020-02-09T19:23:41.512745Z",
     "start_time": "2020-02-09T19:23:41.391713Z"
    }
   },
   "outputs": [
    {
     "data": {
      "text/plain": [
       "Rv_ID                              0\n",
       "gene_name                          0\n",
       "Description                      568\n",
       "Expt                               0\n",
       "log2FC                             0\n",
       "q-val                              0\n",
       "num_replicates_control             0\n",
       "num_replicates_experimental        0\n",
       "meaning                        35910\n",
       "paper_title                    59850\n",
       "paper_URL                      59850\n",
       "dtype: int64"
      ]
     },
     "execution_count": 86,
     "metadata": {},
     "output_type": "execute_result"
    }
   ],
   "source": [
    "main_data.isna().sum()"
   ]
  },
  {
   "cell_type": "code",
   "execution_count": 88,
   "metadata": {
    "ExecuteTime": {
     "end_time": "2020-02-09T19:24:14.885153Z",
     "start_time": "2020-02-09T19:24:09.701013Z"
    }
   },
   "outputs": [],
   "source": [
    "main_data.to_csv('../../data/data_dash_meta.csv', index=False)"
   ]
  }
 ],
 "metadata": {
  "kernelspec": {
   "display_name": "Python 3",
   "language": "python",
   "name": "python3"
  },
  "language_info": {
   "codemirror_mode": {
    "name": "ipython",
    "version": 3
   },
   "file_extension": ".py",
   "mimetype": "text/x-python",
   "name": "python",
   "nbconvert_exporter": "python",
   "pygments_lexer": "ipython3",
   "version": "3.7.3"
  },
  "toc": {
   "base_numbering": 1,
   "nav_menu": {},
   "number_sections": true,
   "sideBar": true,
   "skip_h1_title": false,
   "title_cell": "Table of Contents",
   "title_sidebar": "Contents",
   "toc_cell": false,
   "toc_position": {},
   "toc_section_display": true,
   "toc_window_display": false
  },
  "varInspector": {
   "cols": {
    "lenName": 16,
    "lenType": 16,
    "lenVar": 40
   },
   "kernels_config": {
    "python": {
     "delete_cmd_postfix": "",
     "delete_cmd_prefix": "del ",
     "library": "var_list.py",
     "varRefreshCmd": "print(var_dic_list())"
    },
    "r": {
     "delete_cmd_postfix": ") ",
     "delete_cmd_prefix": "rm(",
     "library": "var_list.r",
     "varRefreshCmd": "cat(var_dic_list()) "
    }
   },
   "types_to_exclude": [
    "module",
    "function",
    "builtin_function_or_method",
    "instance",
    "_Feature"
   ],
   "window_display": false
  }
 },
 "nbformat": 4,
 "nbformat_minor": 2
}
