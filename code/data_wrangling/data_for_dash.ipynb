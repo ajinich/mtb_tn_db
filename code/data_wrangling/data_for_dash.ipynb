{
 "cells": [
  {
   "cell_type": "markdown",
   "metadata": {},
   "source": [
    "# This notebook melts the lfc, q-value dataframes in a format that is used by the Dash website. \n",
    "\n",
    "Could use some cleaning up. "
   ]
  },
  {
   "cell_type": "code",
   "execution_count": 1,
   "metadata": {
    "ExecuteTime": {
     "end_time": "2020-02-09T18:57:38.528414Z",
     "start_time": "2020-02-09T18:57:33.400290Z"
    }
   },
   "outputs": [],
   "source": [
    "import pandas as pd\n",
    "import numpy as np\n",
    "import pathlib\n",
    "import glob\n",
    "import os"
   ]
  },
  {
   "cell_type": "markdown",
   "metadata": {},
   "source": [
    "## Check if trackviews are complete"
   ]
  },
  {
   "cell_type": "code",
   "execution_count": 2,
   "metadata": {
    "ExecuteTime": {
     "end_time": "2020-02-09T18:57:39.146832Z",
     "start_time": "2020-02-09T18:57:38.528414Z"
    }
   },
   "outputs": [
    {
     "ename": "FileNotFoundError",
     "evalue": "[Errno 2] No such file or directory: '../../data/column_descriptors_standardized_021023.xlsx'",
     "output_type": "error",
     "traceback": [
      "\u001b[0;31m---------------------------------------------------------------------------\u001b[0m",
      "\u001b[0;31mFileNotFoundError\u001b[0m                         Traceback (most recent call last)",
      "Cell \u001b[0;32mIn[2], line 1\u001b[0m\n\u001b[0;32m----> 1\u001b[0m col_desc \u001b[38;5;241m=\u001b[39m pd\u001b[38;5;241m.\u001b[39mread_excel(\u001b[38;5;124m'\u001b[39m\u001b[38;5;124m../../data/column_descriptors_standardized_021023.xlsx\u001b[39m\u001b[38;5;124m'\u001b[39m, engine\u001b[38;5;241m=\u001b[39m\u001b[38;5;124m'\u001b[39m\u001b[38;5;124mopenpyxl\u001b[39m\u001b[38;5;124m'\u001b[39m)\n",
      "File \u001b[0;32m~/miniconda3/lib/python3.12/site-packages/pandas/io/excel/_base.py:495\u001b[0m, in \u001b[0;36mread_excel\u001b[0;34m(io, sheet_name, header, names, index_col, usecols, dtype, engine, converters, true_values, false_values, skiprows, nrows, na_values, keep_default_na, na_filter, verbose, parse_dates, date_parser, date_format, thousands, decimal, comment, skipfooter, storage_options, dtype_backend, engine_kwargs)\u001b[0m\n\u001b[1;32m    493\u001b[0m \u001b[38;5;28;01mif\u001b[39;00m \u001b[38;5;129;01mnot\u001b[39;00m \u001b[38;5;28misinstance\u001b[39m(io, ExcelFile):\n\u001b[1;32m    494\u001b[0m     should_close \u001b[38;5;241m=\u001b[39m \u001b[38;5;28;01mTrue\u001b[39;00m\n\u001b[0;32m--> 495\u001b[0m     io \u001b[38;5;241m=\u001b[39m ExcelFile(\n\u001b[1;32m    496\u001b[0m         io,\n\u001b[1;32m    497\u001b[0m         storage_options\u001b[38;5;241m=\u001b[39mstorage_options,\n\u001b[1;32m    498\u001b[0m         engine\u001b[38;5;241m=\u001b[39mengine,\n\u001b[1;32m    499\u001b[0m         engine_kwargs\u001b[38;5;241m=\u001b[39mengine_kwargs,\n\u001b[1;32m    500\u001b[0m     )\n\u001b[1;32m    501\u001b[0m \u001b[38;5;28;01melif\u001b[39;00m engine \u001b[38;5;129;01mand\u001b[39;00m engine \u001b[38;5;241m!=\u001b[39m io\u001b[38;5;241m.\u001b[39mengine:\n\u001b[1;32m    502\u001b[0m     \u001b[38;5;28;01mraise\u001b[39;00m \u001b[38;5;167;01mValueError\u001b[39;00m(\n\u001b[1;32m    503\u001b[0m         \u001b[38;5;124m\"\u001b[39m\u001b[38;5;124mEngine should not be specified when passing \u001b[39m\u001b[38;5;124m\"\u001b[39m\n\u001b[1;32m    504\u001b[0m         \u001b[38;5;124m\"\u001b[39m\u001b[38;5;124man ExcelFile - ExcelFile already has the engine set\u001b[39m\u001b[38;5;124m\"\u001b[39m\n\u001b[1;32m    505\u001b[0m     )\n",
      "File \u001b[0;32m~/miniconda3/lib/python3.12/site-packages/pandas/io/excel/_base.py:1567\u001b[0m, in \u001b[0;36mExcelFile.__init__\u001b[0;34m(self, path_or_buffer, engine, storage_options, engine_kwargs)\u001b[0m\n\u001b[1;32m   1564\u001b[0m \u001b[38;5;28mself\u001b[39m\u001b[38;5;241m.\u001b[39mengine \u001b[38;5;241m=\u001b[39m engine\n\u001b[1;32m   1565\u001b[0m \u001b[38;5;28mself\u001b[39m\u001b[38;5;241m.\u001b[39mstorage_options \u001b[38;5;241m=\u001b[39m storage_options\n\u001b[0;32m-> 1567\u001b[0m \u001b[38;5;28mself\u001b[39m\u001b[38;5;241m.\u001b[39m_reader \u001b[38;5;241m=\u001b[39m \u001b[38;5;28mself\u001b[39m\u001b[38;5;241m.\u001b[39m_engines[engine](\n\u001b[1;32m   1568\u001b[0m     \u001b[38;5;28mself\u001b[39m\u001b[38;5;241m.\u001b[39m_io,\n\u001b[1;32m   1569\u001b[0m     storage_options\u001b[38;5;241m=\u001b[39mstorage_options,\n\u001b[1;32m   1570\u001b[0m     engine_kwargs\u001b[38;5;241m=\u001b[39mengine_kwargs,\n\u001b[1;32m   1571\u001b[0m )\n",
      "File \u001b[0;32m~/miniconda3/lib/python3.12/site-packages/pandas/io/excel/_openpyxl.py:553\u001b[0m, in \u001b[0;36mOpenpyxlReader.__init__\u001b[0;34m(self, filepath_or_buffer, storage_options, engine_kwargs)\u001b[0m\n\u001b[1;32m    541\u001b[0m \u001b[38;5;250m\u001b[39m\u001b[38;5;124;03m\"\"\"\u001b[39;00m\n\u001b[1;32m    542\u001b[0m \u001b[38;5;124;03mReader using openpyxl engine.\u001b[39;00m\n\u001b[1;32m    543\u001b[0m \n\u001b[0;32m   (...)\u001b[0m\n\u001b[1;32m    550\u001b[0m \u001b[38;5;124;03m    Arbitrary keyword arguments passed to excel engine.\u001b[39;00m\n\u001b[1;32m    551\u001b[0m \u001b[38;5;124;03m\"\"\"\u001b[39;00m\n\u001b[1;32m    552\u001b[0m import_optional_dependency(\u001b[38;5;124m\"\u001b[39m\u001b[38;5;124mopenpyxl\u001b[39m\u001b[38;5;124m\"\u001b[39m)\n\u001b[0;32m--> 553\u001b[0m \u001b[38;5;28msuper\u001b[39m()\u001b[38;5;241m.\u001b[39m\u001b[38;5;21m__init__\u001b[39m(\n\u001b[1;32m    554\u001b[0m     filepath_or_buffer,\n\u001b[1;32m    555\u001b[0m     storage_options\u001b[38;5;241m=\u001b[39mstorage_options,\n\u001b[1;32m    556\u001b[0m     engine_kwargs\u001b[38;5;241m=\u001b[39mengine_kwargs,\n\u001b[1;32m    557\u001b[0m )\n",
      "File \u001b[0;32m~/miniconda3/lib/python3.12/site-packages/pandas/io/excel/_base.py:563\u001b[0m, in \u001b[0;36mBaseExcelReader.__init__\u001b[0;34m(self, filepath_or_buffer, storage_options, engine_kwargs)\u001b[0m\n\u001b[1;32m    559\u001b[0m \u001b[38;5;28mself\u001b[39m\u001b[38;5;241m.\u001b[39mhandles \u001b[38;5;241m=\u001b[39m IOHandles(\n\u001b[1;32m    560\u001b[0m     handle\u001b[38;5;241m=\u001b[39mfilepath_or_buffer, compression\u001b[38;5;241m=\u001b[39m{\u001b[38;5;124m\"\u001b[39m\u001b[38;5;124mmethod\u001b[39m\u001b[38;5;124m\"\u001b[39m: \u001b[38;5;28;01mNone\u001b[39;00m}\n\u001b[1;32m    561\u001b[0m )\n\u001b[1;32m    562\u001b[0m \u001b[38;5;28;01mif\u001b[39;00m \u001b[38;5;129;01mnot\u001b[39;00m \u001b[38;5;28misinstance\u001b[39m(filepath_or_buffer, (ExcelFile, \u001b[38;5;28mself\u001b[39m\u001b[38;5;241m.\u001b[39m_workbook_class)):\n\u001b[0;32m--> 563\u001b[0m     \u001b[38;5;28mself\u001b[39m\u001b[38;5;241m.\u001b[39mhandles \u001b[38;5;241m=\u001b[39m get_handle(\n\u001b[1;32m    564\u001b[0m         filepath_or_buffer, \u001b[38;5;124m\"\u001b[39m\u001b[38;5;124mrb\u001b[39m\u001b[38;5;124m\"\u001b[39m, storage_options\u001b[38;5;241m=\u001b[39mstorage_options, is_text\u001b[38;5;241m=\u001b[39m\u001b[38;5;28;01mFalse\u001b[39;00m\n\u001b[1;32m    565\u001b[0m     )\n\u001b[1;32m    567\u001b[0m \u001b[38;5;28;01mif\u001b[39;00m \u001b[38;5;28misinstance\u001b[39m(\u001b[38;5;28mself\u001b[39m\u001b[38;5;241m.\u001b[39mhandles\u001b[38;5;241m.\u001b[39mhandle, \u001b[38;5;28mself\u001b[39m\u001b[38;5;241m.\u001b[39m_workbook_class):\n\u001b[1;32m    568\u001b[0m     \u001b[38;5;28mself\u001b[39m\u001b[38;5;241m.\u001b[39mbook \u001b[38;5;241m=\u001b[39m \u001b[38;5;28mself\u001b[39m\u001b[38;5;241m.\u001b[39mhandles\u001b[38;5;241m.\u001b[39mhandle\n",
      "File \u001b[0;32m~/miniconda3/lib/python3.12/site-packages/pandas/io/common.py:882\u001b[0m, in \u001b[0;36mget_handle\u001b[0;34m(path_or_buf, mode, encoding, compression, memory_map, is_text, errors, storage_options)\u001b[0m\n\u001b[1;32m    873\u001b[0m         handle \u001b[38;5;241m=\u001b[39m \u001b[38;5;28mopen\u001b[39m(\n\u001b[1;32m    874\u001b[0m             handle,\n\u001b[1;32m    875\u001b[0m             ioargs\u001b[38;5;241m.\u001b[39mmode,\n\u001b[0;32m   (...)\u001b[0m\n\u001b[1;32m    878\u001b[0m             newline\u001b[38;5;241m=\u001b[39m\u001b[38;5;124m\"\u001b[39m\u001b[38;5;124m\"\u001b[39m,\n\u001b[1;32m    879\u001b[0m         )\n\u001b[1;32m    880\u001b[0m     \u001b[38;5;28;01melse\u001b[39;00m:\n\u001b[1;32m    881\u001b[0m         \u001b[38;5;66;03m# Binary mode\u001b[39;00m\n\u001b[0;32m--> 882\u001b[0m         handle \u001b[38;5;241m=\u001b[39m \u001b[38;5;28mopen\u001b[39m(handle, ioargs\u001b[38;5;241m.\u001b[39mmode)\n\u001b[1;32m    883\u001b[0m     handles\u001b[38;5;241m.\u001b[39mappend(handle)\n\u001b[1;32m    885\u001b[0m \u001b[38;5;66;03m# Convert BytesIO or file objects passed with an encoding\u001b[39;00m\n",
      "\u001b[0;31mFileNotFoundError\u001b[0m: [Errno 2] No such file or directory: '../../data/column_descriptors_standardized_021023.xlsx'"
     ]
    }
   ],
   "source": [
    "col_desc = pd.read_excel('../../data/column_descriptors_standardized_021023.xlsx', engine='openpyxl')"
   ]
  },
  {
   "cell_type": "code",
   "execution_count": null,
   "metadata": {
    "ExecuteTime": {
     "end_time": "2020-02-09T18:57:39.193895Z",
     "start_time": "2020-02-09T18:57:39.149828Z"
    }
   },
   "outputs": [],
   "source": [
    "col_desc.head(10)"
   ]
  },
  {
   "cell_type": "code",
   "execution_count": null,
   "metadata": {},
   "outputs": [],
   "source": [
    "col_desc.column_ID_SI.unique()"
   ]
  },
  {
   "cell_type": "code",
   "execution_count": null,
   "metadata": {
    "ExecuteTime": {
     "end_time": "2020-02-09T18:57:39.209438Z",
     "start_time": "2020-02-09T18:57:39.197864Z"
    }
   },
   "outputs": [],
   "source": [
    "# check if trackviews exist\n",
    "# trackview_folders = list(pathlib.Path(\n",
    "#     r'C:\\Users\\light\\Dropbox\\tuberculosis\\tuberculosis\\TrackView').glob('*'))\n",
    "# trackview_names = [os.path.basename(x) for x in trackview_folders]"
   ]
  },
  {
   "cell_type": "code",
   "execution_count": null,
   "metadata": {
    "ExecuteTime": {
     "end_time": "2020-02-09T18:57:39.240956Z",
     "start_time": "2020-02-09T18:57:39.213435Z"
    }
   },
   "outputs": [],
   "source": [
    "# all_conditions = list(col_desc['control']) + list(col_desc['experimental'])"
   ]
  },
  {
   "cell_type": "code",
   "execution_count": null,
   "metadata": {
    "ExecuteTime": {
     "end_time": "2020-02-09T18:57:39.256957Z",
     "start_time": "2020-02-09T18:57:39.244958Z"
    }
   },
   "outputs": [],
   "source": [
    "# set(all_conditions).difference(set(trackview_names))"
   ]
  },
  {
   "cell_type": "markdown",
   "metadata": {
    "ExecuteTime": {
     "end_time": "2020-02-08T19:09:42.081534Z",
     "start_time": "2020-02-08T19:09:42.065535Z"
    }
   },
   "source": [
    "## make_std_data_dash"
   ]
  },
  {
   "cell_type": "code",
   "execution_count": null,
   "metadata": {},
   "outputs": [],
   "source": [
    "col_desc = pd.read_excel('../../data/column_descriptors_standardized_021023.xlsx', engine='openpyxl')\n",
    "col_desc = col_desc.rename(columns={'column_ID_2': 'column_ID_std'})"
   ]
  },
  {
   "cell_type": "code",
   "execution_count": null,
   "metadata": {
    "ExecuteTime": {
     "end_time": "2020-02-09T19:22:43.851339Z",
     "start_time": "2020-02-09T19:22:43.754198Z"
    }
   },
   "outputs": [],
   "source": [
    "lfc = pd.read_csv(\n",
    "    '../../data/standardized_data/result_logfc_matrix_2023_02_20_CC_BxD_processed.csv')"
   ]
  },
  {
   "cell_type": "code",
   "execution_count": null,
   "metadata": {
    "ExecuteTime": {
     "end_time": "2020-02-09T19:22:43.951545Z",
     "start_time": "2020-02-09T19:22:43.855339Z"
    }
   },
   "outputs": [],
   "source": [
    "qval = pd.read_csv(\n",
    "    '../../data/standardized_data/result_qval_matrix_2023_02_20_CC_BxD_processed.csv')"
   ]
  },
  {
   "cell_type": "code",
   "execution_count": null,
   "metadata": {},
   "outputs": [],
   "source": [
    "qval"
   ]
  },
  {
   "cell_type": "code",
   "execution_count": null,
   "metadata": {
    "ExecuteTime": {
     "end_time": "2020-02-09T19:22:44.850053Z",
     "start_time": "2020-02-09T19:22:43.955545Z"
    }
   },
   "outputs": [],
   "source": [
    "gene_names = pd.read_excel(\n",
    "    '../../data/annotations/DeJesus_mbio.xlsx', header=1, engine='openpyxl')\n",
    "gene_names.head()"
   ]
  },
  {
   "cell_type": "code",
   "execution_count": null,
   "metadata": {
    "ExecuteTime": {
     "end_time": "2020-02-09T19:22:44.865542Z",
     "start_time": "2020-02-09T19:22:44.850053Z"
    }
   },
   "outputs": [],
   "source": [
    "gene_names = gene_names.rename(\n",
    "    columns={'Name': 'gene_name', 'ORF ID': 'Rv_ID'})"
   ]
  },
  {
   "cell_type": "code",
   "execution_count": null,
   "metadata": {},
   "outputs": [],
   "source": [
    "set(lfc.columns).difference(set(qval.columns))"
   ]
  },
  {
   "cell_type": "code",
   "execution_count": null,
   "metadata": {},
   "outputs": [],
   "source": [
    "set(qval.columns).difference(set(lfc.columns))"
   ]
  },
  {
   "cell_type": "code",
   "execution_count": null,
   "metadata": {},
   "outputs": [],
   "source": [
    "col_ID_standardized = list(col_desc.column_ID_std.unique())"
   ]
  },
  {
   "cell_type": "code",
   "execution_count": null,
   "metadata": {},
   "outputs": [],
   "source": [
    "set(qval.columns).difference(set(col_ID_standardized))"
   ]
  },
  {
   "cell_type": "code",
   "execution_count": null,
   "metadata": {},
   "outputs": [],
   "source": [
    "set(col_ID_standardized).difference(set(qval.columns))"
   ]
  },
  {
   "cell_type": "code",
   "execution_count": null,
   "metadata": {
    "ExecuteTime": {
     "end_time": "2020-02-09T19:22:44.943143Z",
     "start_time": "2020-02-09T19:22:44.870513Z"
    }
   },
   "outputs": [],
   "source": [
    "lfc.head()"
   ]
  },
  {
   "cell_type": "code",
   "execution_count": null,
   "metadata": {
    "ExecuteTime": {
     "end_time": "2020-02-09T19:22:45.018922Z",
     "start_time": "2020-02-09T19:22:44.991373Z"
    }
   },
   "outputs": [],
   "source": [
    "lfc = lfc.merge(gene_names[['Rv_ID', 'gene_name', 'Description']], how='left')"
   ]
  },
  {
   "cell_type": "code",
   "execution_count": null,
   "metadata": {
    "ExecuteTime": {
     "end_time": "2020-02-09T19:22:45.206740Z",
     "start_time": "2020-02-09T19:22:45.023318Z"
    }
   },
   "outputs": [],
   "source": [
    "lfc = lfc.melt(id_vars=['Rv_ID', 'gene_name', 'Description'],\n",
    "               var_name='Expt', value_name='log2FC')\n",
    "qval = qval.melt(id_vars=['Rv_ID'], var_name='Expt', value_name='q-val')"
   ]
  },
  {
   "cell_type": "code",
   "execution_count": null,
   "metadata": {
    "ExecuteTime": {
     "end_time": "2020-02-09T19:22:45.238587Z",
     "start_time": "2020-02-09T19:22:45.218720Z"
    }
   },
   "outputs": [],
   "source": [
    "print(lfc.shape, qval.shape)"
   ]
  },
  {
   "cell_type": "code",
   "execution_count": null,
   "metadata": {},
   "outputs": [],
   "source": [
    "lfc.head()"
   ]
  },
  {
   "cell_type": "code",
   "execution_count": null,
   "metadata": {
    "ExecuteTime": {
     "end_time": "2020-02-09T19:22:45.534667Z",
     "start_time": "2020-02-09T19:22:45.243601Z"
    }
   },
   "outputs": [],
   "source": [
    "std_data = lfc.merge(qval, how='left', on=['Rv_ID', 'Expt'])"
   ]
  },
  {
   "cell_type": "code",
   "execution_count": null,
   "metadata": {
    "ExecuteTime": {
     "end_time": "2020-02-09T19:22:45.601412Z",
     "start_time": "2020-02-09T19:22:45.554858Z"
    }
   },
   "outputs": [],
   "source": [
    "std_data.head()"
   ]
  },
  {
   "cell_type": "code",
   "execution_count": null,
   "metadata": {},
   "outputs": [],
   "source": [
    "std_data.isna().sum()"
   ]
  },
  {
   "cell_type": "code",
   "execution_count": null,
   "metadata": {},
   "outputs": [],
   "source": [
    "std_data['gene_name'] = std_data.apply(\n",
    "    lambda x: '-' if pd.isna(x.gene_name) else x.gene_name, axis=1)"
   ]
  },
  {
   "cell_type": "code",
   "execution_count": null,
   "metadata": {},
   "outputs": [],
   "source": [
    "std_data"
   ]
  },
  {
   "cell_type": "code",
   "execution_count": null,
   "metadata": {},
   "outputs": [],
   "source": [
    "std_data.isna().sum()"
   ]
  },
  {
   "cell_type": "code",
   "execution_count": null,
   "metadata": {},
   "outputs": [],
   "source": [
    "std_data[std_data['log2FC'].isna()]"
   ]
  },
  {
   "cell_type": "code",
   "execution_count": null,
   "metadata": {},
   "outputs": [],
   "source": [
    "std_data = std_data[~std_data['log2FC'].isna()]"
   ]
  },
  {
   "cell_type": "code",
   "execution_count": null,
   "metadata": {},
   "outputs": [],
   "source": [
    "std_data.isna().sum()"
   ]
  },
  {
   "cell_type": "code",
   "execution_count": null,
   "metadata": {},
   "outputs": [],
   "source": [
    "def discretize_q_values(q_val):\n",
    "    if pd.isna(q_val):\n",
    "        return np.nan\n",
    "    if q_val < 0.01:\n",
    "        q_val_d = 3\n",
    "    elif q_val < 0.05:\n",
    "        q_val_d = 2\n",
    "    else:\n",
    "        q_val_d = 1\n",
    "    return q_val_d"
   ]
  },
  {
   "cell_type": "code",
   "execution_count": null,
   "metadata": {},
   "outputs": [],
   "source": [
    "std_data['q_val_D'] = std_data['q-val'].apply(discretize_q_values)"
   ]
  },
  {
   "cell_type": "code",
   "execution_count": null,
   "metadata": {},
   "outputs": [],
   "source": [
    "std_data.head()"
   ]
  },
  {
   "cell_type": "code",
   "execution_count": null,
   "metadata": {},
   "outputs": [],
   "source": [
    "df_uk = pd.read_csv(\n",
    "    '../../data/annotations/uniprot_annotation_scores.csv')"
   ]
  },
  {
   "cell_type": "code",
   "execution_count": null,
   "metadata": {},
   "outputs": [],
   "source": [
    "df_uk.head()"
   ]
  },
  {
   "cell_type": "code",
   "execution_count": null,
   "metadata": {},
   "outputs": [],
   "source": [
    "std_data = std_data.merge(\n",
    "    df_uk, how='left', on='Rv_ID').rename(columns={'Annotation': 'annotation_score'})"
   ]
  },
  {
   "cell_type": "code",
   "execution_count": null,
   "metadata": {},
   "outputs": [],
   "source": [
    "std_data.isna().sum()"
   ]
  },
  {
   "cell_type": "code",
   "execution_count": null,
   "metadata": {},
   "outputs": [],
   "source": [
    "# have to save as tsv because descriptions have commas\n",
    "std_data.to_csv('../../data/standardized_data_dash.tsv', index=False, sep='\\t')"
   ]
  },
  {
   "cell_type": "markdown",
   "metadata": {},
   "source": [
    "## Make SI data"
   ]
  },
  {
   "cell_type": "code",
   "execution_count": null,
   "metadata": {},
   "outputs": [],
   "source": [
    "%reset -f"
   ]
  },
  {
   "cell_type": "code",
   "execution_count": null,
   "metadata": {},
   "outputs": [],
   "source": [
    "import pandas as pd\n",
    "import numpy as np\n",
    "import pathlib\n",
    "import glob\n",
    "import os"
   ]
  },
  {
   "cell_type": "code",
   "execution_count": null,
   "metadata": {},
   "outputs": [],
   "source": [
    "col_desc = pd.read_excel('../../data/column_descriptors_standardized_021023.xlsx', engine='openpyxl')"
   ]
  },
  {
   "cell_type": "code",
   "execution_count": null,
   "metadata": {},
   "outputs": [],
   "source": [
    "col_desc.head(10)"
   ]
  },
  {
   "cell_type": "code",
   "execution_count": null,
   "metadata": {},
   "outputs": [],
   "source": [
    "col_desc = col_desc.rename(columns={'column_ID_2': 'column_ID_std'})"
   ]
  },
  {
   "cell_type": "code",
   "execution_count": null,
   "metadata": {
    "ExecuteTime": {
     "end_time": "2020-02-09T19:22:43.851339Z",
     "start_time": "2020-02-09T19:22:43.754198Z"
    }
   },
   "outputs": [],
   "source": [
    "lfc_si = pd.read_csv(\n",
    "    '../../data/SI_datasets/SI_log2FC.csv')\n",
    "lfc_si = lfc_si.drop(columns='gene_name')"
   ]
  },
  {
   "cell_type": "code",
   "execution_count": null,
   "metadata": {
    "ExecuteTime": {
     "end_time": "2020-02-09T19:22:43.951545Z",
     "start_time": "2020-02-09T19:22:43.855339Z"
    }
   },
   "outputs": [],
   "source": [
    "qval_si = pd.read_csv(\n",
    "    '../../data/SI_datasets/SI_qval.csv')\n",
    "qval_si = qval_si.drop(columns='gene_name')"
   ]
  },
  {
   "cell_type": "code",
   "execution_count": null,
   "metadata": {},
   "outputs": [],
   "source": [
    "print(lfc_si.shape, qval_si.shape)"
   ]
  },
  {
   "cell_type": "code",
   "execution_count": null,
   "metadata": {},
   "outputs": [],
   "source": [
    "lfc_si"
   ]
  },
  {
   "cell_type": "code",
   "execution_count": null,
   "metadata": {
    "ExecuteTime": {
     "end_time": "2020-02-09T19:22:44.850053Z",
     "start_time": "2020-02-09T19:22:43.955545Z"
    }
   },
   "outputs": [],
   "source": [
    "gene_names = pd.read_excel(\n",
    "    '../../data/annotations/DeJesus_mbio.xlsx', header=1, engine='openpyxl')\n",
    "gene_names.head()"
   ]
  },
  {
   "cell_type": "code",
   "execution_count": null,
   "metadata": {
    "ExecuteTime": {
     "end_time": "2020-02-09T19:22:44.865542Z",
     "start_time": "2020-02-09T19:22:44.850053Z"
    }
   },
   "outputs": [],
   "source": [
    "gene_names = gene_names.rename(\n",
    "    columns={'Name': 'gene_name', 'ORF ID': 'Rv_ID'})"
   ]
  },
  {
   "cell_type": "code",
   "execution_count": null,
   "metadata": {},
   "outputs": [],
   "source": [
    "set(lfc_si.columns).difference(set(qval_si.columns))"
   ]
  },
  {
   "cell_type": "code",
   "execution_count": null,
   "metadata": {},
   "outputs": [],
   "source": [
    "set(qval_si.columns).difference(set(lfc_si.columns))"
   ]
  },
  {
   "cell_type": "code",
   "execution_count": null,
   "metadata": {},
   "outputs": [],
   "source": [
    "col_ID_SI = list(col_desc.column_ID_SI.unique())"
   ]
  },
  {
   "cell_type": "code",
   "execution_count": null,
   "metadata": {},
   "outputs": [],
   "source": [
    "set(qval_si.columns).difference(set(col_ID_SI))"
   ]
  },
  {
   "cell_type": "code",
   "execution_count": null,
   "metadata": {},
   "outputs": [],
   "source": [
    "# fix this in metadata!\n",
    "set(col_ID_SI).difference(set(qval_si.columns))"
   ]
  },
  {
   "cell_type": "code",
   "execution_count": null,
   "metadata": {
    "ExecuteTime": {
     "end_time": "2020-02-09T19:22:44.943143Z",
     "start_time": "2020-02-09T19:22:44.870513Z"
    }
   },
   "outputs": [],
   "source": [
    "lfc_si.head()"
   ]
  },
  {
   "cell_type": "code",
   "execution_count": null,
   "metadata": {
    "ExecuteTime": {
     "end_time": "2020-02-09T19:22:45.018922Z",
     "start_time": "2020-02-09T19:22:44.991373Z"
    }
   },
   "outputs": [],
   "source": [
    "lfc_si = lfc_si.merge(\n",
    "    gene_names[['Rv_ID', 'gene_name', 'Description']], how='left')"
   ]
  },
  {
   "cell_type": "code",
   "execution_count": null,
   "metadata": {},
   "outputs": [],
   "source": [
    "lfc_si.shape"
   ]
  },
  {
   "cell_type": "code",
   "execution_count": null,
   "metadata": {
    "ExecuteTime": {
     "end_time": "2020-02-09T19:22:45.206740Z",
     "start_time": "2020-02-09T19:22:45.023318Z"
    }
   },
   "outputs": [],
   "source": [
    "lfc_si = lfc_si.melt(id_vars=['Rv_ID', 'gene_name', 'Description'],\n",
    "                     var_name='Expt', value_name='log2FC')\n",
    "qval_si = qval_si.melt(id_vars=['Rv_ID'], var_name='Expt', value_name='q-val')"
   ]
  },
  {
   "cell_type": "code",
   "execution_count": null,
   "metadata": {
    "ExecuteTime": {
     "end_time": "2020-02-09T19:22:45.238587Z",
     "start_time": "2020-02-09T19:22:45.218720Z"
    }
   },
   "outputs": [],
   "source": [
    "print(lfc_si.shape, qval_si.shape)"
   ]
  },
  {
   "cell_type": "code",
   "execution_count": null,
   "metadata": {},
   "outputs": [],
   "source": [
    "lfc_si.head()"
   ]
  },
  {
   "cell_type": "code",
   "execution_count": null,
   "metadata": {
    "ExecuteTime": {
     "end_time": "2020-02-09T19:22:45.534667Z",
     "start_time": "2020-02-09T19:22:45.243601Z"
    }
   },
   "outputs": [],
   "source": [
    "si_data = lfc_si.merge(qval_si, how='left', on=['Rv_ID', 'Expt'])"
   ]
  },
  {
   "cell_type": "code",
   "execution_count": null,
   "metadata": {
    "ExecuteTime": {
     "end_time": "2020-02-09T19:22:45.601412Z",
     "start_time": "2020-02-09T19:22:45.554858Z"
    }
   },
   "outputs": [],
   "source": [
    "si_data.head()"
   ]
  },
  {
   "cell_type": "code",
   "execution_count": null,
   "metadata": {},
   "outputs": [],
   "source": [
    "si_data.isna().sum()"
   ]
  },
  {
   "cell_type": "code",
   "execution_count": null,
   "metadata": {},
   "outputs": [],
   "source": [
    "si_data['gene_name'] = si_data.apply(\n",
    "    lambda x: '-' if pd.isna(x.gene_name) else x.gene_name, axis=1)"
   ]
  },
  {
   "cell_type": "code",
   "execution_count": null,
   "metadata": {},
   "outputs": [],
   "source": [
    "si_data"
   ]
  },
  {
   "cell_type": "code",
   "execution_count": null,
   "metadata": {},
   "outputs": [],
   "source": [
    "si_data.dtypes\n",
    "#si_data['q-val'] = si_data['q-val'].replace({'no replicates':np.nan})"
   ]
  },
  {
   "cell_type": "code",
   "execution_count": null,
   "metadata": {
    "scrolled": true
   },
   "outputs": [],
   "source": [
    "si_data.isna().sum()"
   ]
  },
  {
   "cell_type": "code",
   "execution_count": null,
   "metadata": {},
   "outputs": [],
   "source": [
    "def discretize_q_values(q_val):\n",
    "    if pd.isna(q_val):\n",
    "        return np.nan\n",
    "    if q_val < 0.01:\n",
    "        q_val_d = 3\n",
    "    elif q_val < 0.05:\n",
    "        q_val_d = 2\n",
    "    else:\n",
    "        q_val_d = 1\n",
    "    return q_val_d"
   ]
  },
  {
   "cell_type": "code",
   "execution_count": null,
   "metadata": {},
   "outputs": [],
   "source": [
    "si_data['q_val_D'] = si_data['q-val'].apply(discretize_q_values)"
   ]
  },
  {
   "cell_type": "code",
   "execution_count": null,
   "metadata": {},
   "outputs": [],
   "source": [
    "si_data.head()"
   ]
  },
  {
   "cell_type": "code",
   "execution_count": null,
   "metadata": {},
   "outputs": [],
   "source": [
    "df_uk = pd.read_csv(\n",
    "    '../../data/annotations/uniprot_annotation_scores.csv')\n",
    "df_uk.head()"
   ]
  },
  {
   "cell_type": "code",
   "execution_count": null,
   "metadata": {},
   "outputs": [],
   "source": [
    "si_data = si_data.merge(df_uk, how='left', on='Rv_ID').rename(columns={'Annotation': 'annotation_score'})"
   ]
  },
  {
   "cell_type": "code",
   "execution_count": null,
   "metadata": {},
   "outputs": [],
   "source": [
    "si_data.isna().sum()"
   ]
  },
  {
   "cell_type": "code",
   "execution_count": null,
   "metadata": {},
   "outputs": [],
   "source": [
    "si_data.to_csv('../../data/si_data_dash.tsv', index=False, sep='\\t')"
   ]
  },
  {
   "cell_type": "markdown",
   "metadata": {},
   "source": [
    "## Make expt metadata"
   ]
  },
  {
   "cell_type": "code",
   "execution_count": null,
   "metadata": {},
   "outputs": [],
   "source": [
    "%reset -f"
   ]
  },
  {
   "cell_type": "code",
   "execution_count": null,
   "metadata": {},
   "outputs": [],
   "source": [
    "si_missing = {'129s1.SvImJ_vs_in_vitro',\n",
    " 'A.J_vs_in_vitro',\n",
    " 'BXD102_vs_in_vitro_H37Rv',\n",
    " 'BXD29_vs_in_vitro_H37Rv',\n",
    " 'BXD39_vs_in_vitro_H37Rv',\n",
    " 'BXD40_vs_in_vitro_H37Rv',\n",
    " 'BXD48a_vs_in_vitro_H37Rv',\n",
    " 'BXD51_vs_in_vitro_H37Rv',\n",
    " 'BXD54_vs_in_vitro_H37Rv',\n",
    " 'BXD56_vs_in_vitro_H37Rv',\n",
    " 'BXD60_vs_in_vitro_H37Rv',\n",
    " 'BXD62_vs_in_vitro_H37Rv',\n",
    " 'BXD67_vs_in_vitro_H37Rv',\n",
    " 'BXD69_vs_in_vitro_H37Rv',\n",
    " 'BXD73_vs_in_vitro_H37Rv',\n",
    " 'BXD73b_vs_in_vitro_H37Rv',\n",
    " 'BXD77_vs_in_vitro_H37Rv',\n",
    " 'BXD79_vs_in_vitro_H37Rv',\n",
    " 'BXD90_vs_in_vitro_H37Rv',\n",
    " 'BXD93_vs_in_vitro_H37Rv',\n",
    " 'BXD9_vs_in_vitro_H37Rv',\n",
    " 'C57BL.6J_vs_in_vitro',\n",
    " 'C57BL.6J_vs_in_vitro_H37Rv',\n",
    " 'CC001.Unc_vs_in_vitro',\n",
    " 'CC002.Unc_vs_in_vitro',\n",
    " 'CC003.Unc_vs_in_vitro',\n",
    " 'CC004.TauUnc_vs_in_vitro',\n",
    " 'CC005.TauUnc_vs_in_vitro',\n",
    " 'CC006.TauUnc_vs_in_vitro',\n",
    " 'CC007.Unc_vs_in_vitro',\n",
    " 'CC008.GeniUnc_vs_in_vitro',\n",
    " 'CC009.Unc_vs_in_vitro',\n",
    " 'CC010.GeniUnc_vs_in_vitro',\n",
    " 'CC011.Unc_vs_in_vitro',\n",
    " 'CC012.GeniUnc_vs_in_vitro',\n",
    " 'CC013.GeniUnc_vs_in_vitro',\n",
    " 'CC015.Unc_vs_in_vitro',\n",
    " 'CC016.GeniUnc_vs_in_vitro',\n",
    " 'CC017.Unc_vs_in_vitro',\n",
    " 'CC018.Unc_vs_in_vitro',\n",
    " 'CC019.TauUnc_vs_in_vitro',\n",
    " 'CC021.Unc_vs_in_vitro',\n",
    " 'CC022.GeniUnc_vs_in_vitro',\n",
    " 'CC023.GeniUnc_vs_in_vitro',\n",
    " 'CC024.GeniUnc_vs_in_vitro',\n",
    " 'CC025.GeniUnc_vs_in_vitro',\n",
    " 'CC027.GeniUnc_vs_in_vitro',\n",
    " 'CC028.GeniUnc_vs_in_vitro',\n",
    " 'CC030.GeniUnc_vs_in_vitro',\n",
    " 'CC031.GeniUnc_vs_in_vitro',\n",
    " 'CC032.GeniUnc_vs_in_vitro',\n",
    " 'CC033.GeniUnc_vs_in_vitro',\n",
    " 'CC034.Unc_vs_in_vitro',\n",
    " 'CC035.Unc_vs_in_vitro',\n",
    " 'CC037.TauUnc_vs_in_vitro',\n",
    " 'CC038.GeniUnc_vs_in_vitro',\n",
    " 'CC039.Unc_vs_in_vitro',\n",
    " 'CC040.TauUnc_vs_in_vitro',\n",
    " 'CC041.TauUnc_vs_in_vitro',\n",
    " 'CC042.GeniUnc_vs_in_vitro',\n",
    " 'CC043.GeniUnc_vs_in_vitro',\n",
    " 'CC044.Unc_vs_in_vitro',\n",
    " 'CC045.GeniUnc_vs_in_vitro',\n",
    " 'CC046.Unc_vs_in_vitro',\n",
    " 'CC047.Unc_vs_in_vitro',\n",
    " 'CC051.TauUnc_vs_in_vitro',\n",
    " 'CC056.GeniUnc_vs_in_vitro',\n",
    " 'CC057.Unc_vs_in_vitro',\n",
    " 'CC059.TauUnc_vs_in_vitro',\n",
    " 'CC061.GeniUnc_vs_in_vitro',\n",
    " 'CC065.Unc_vs_in_vitro',\n",
    " 'Cast.EiJ_vs_in_vitro',\n",
    " 'DBA.2J_vs_in_vitro_H37Rv',\n",
    " 'IFNG_vs_in_vitro',\n",
    " 'NOD.ShiLtJ_vs_in_vitro',\n",
    " 'NOS_vs_in_vitro',\n",
    " 'NZO.H1LtJ_vs_in_vitro',\n",
    " 'PWK.PhJ_vs_in_vitro',\n",
    " 'Phox_vs_in_vitro',\n",
    " 'Rag_vs_in_vitro',\n",
    " 'Wsb.Eij_vs_in_vitro',\n",
    " 'mbio_H37Rv_vs_in_vitro'}"
   ]
  },
  {
   "cell_type": "code",
   "execution_count": null,
   "metadata": {},
   "outputs": [],
   "source": [
    "import pandas as pd\n",
    "import numpy as np\n",
    "import pathlib\n",
    "import glob\n",
    "import os"
   ]
  },
  {
   "cell_type": "code",
   "execution_count": null,
   "metadata": {},
   "outputs": [],
   "source": [
    "col_desc = pd.read_excel('../../data/column_descriptors_standardized_021023.xlsx', engine='openpyxl')"
   ]
  },
  {
   "cell_type": "code",
   "execution_count": null,
   "metadata": {},
   "outputs": [],
   "source": [
    "col_desc = col_desc.rename(columns={'column_ID_2': 'column_ID_std'})\n",
    "col_desc = col_desc.drop(columns=['column_ID', 'wig_files'])\n",
    "col_desc = col_desc.drop(columns=[c for c in col_desc.columns if 'Unnamed' in c])"
   ]
  },
  {
   "cell_type": "code",
   "execution_count": null,
   "metadata": {},
   "outputs": [],
   "source": [
    "col_desc.loc[col_desc['column_ID_SI'].isin(si_missing), 'column_ID_SI'] = np.nan"
   ]
  },
  {
   "cell_type": "code",
   "execution_count": null,
   "metadata": {},
   "outputs": [],
   "source": [
    "col_desc.head()"
   ]
  },
  {
   "cell_type": "code",
   "execution_count": null,
   "metadata": {},
   "outputs": [],
   "source": [
    "col_desc.isna().sum()"
   ]
  },
  {
   "cell_type": "code",
   "execution_count": null,
   "metadata": {},
   "outputs": [],
   "source": [
    "col_desc.drop(columns=['year', 'journal',\n",
    "                       'first_author', 'last_author', 'control', 'experimental', 'stat_analysis'], inplace=True)"
   ]
  },
  {
   "cell_type": "code",
   "execution_count": null,
   "metadata": {},
   "outputs": [],
   "source": [
    "fill_na_cols = [c for c in col_desc.columns if c not in [\n",
    "    'control', 'experimental', 'column_ID_std', 'column_ID_SI', 'plot_SI_graph']]"
   ]
  },
  {
   "cell_type": "code",
   "execution_count": null,
   "metadata": {},
   "outputs": [],
   "source": [
    "col_desc[fill_na_cols] = col_desc[fill_na_cols].fillna('')"
   ]
  },
  {
   "cell_type": "code",
   "execution_count": null,
   "metadata": {},
   "outputs": [],
   "source": [
    "col_desc['num_replicates_control'] = col_desc['num_replicates_control'].apply(lambda x: int(x) if x!='' else '')\n",
    "col_desc['num_replicates_experimental'] = col_desc['num_replicates_experimental'].apply(lambda x: int(x) if x!='' else '')"
   ]
  },
  {
   "cell_type": "code",
   "execution_count": null,
   "metadata": {},
   "outputs": [],
   "source": [
    "rename_dict = {\n",
    "    'num_replicates_control': 'num replicates control',\n",
    "    'num_replicates_experimental': 'num replicates experimental',\n",
    "    'in_vitro_cell_vivo': 'in vitro/cell/in vivo',\n",
    "    'carbon_source': 'carbon source',\n",
    "    'in_vitro_media': 'in vitro media',\n",
    "    'stress_description': 'stress',\n",
    "    'MicArr_or_TnSeq' : 'Microarray or TnSeq',\n",
    "    'mouse_strain': 'mouse strain',\n",
    "    'cell_type': 'cell type',\n",
    "    'Mtb_strain': 'Mtb strain'\n",
    "}\n",
    "col_desc = col_desc.rename(columns = rename_dict)"
   ]
  },
  {
   "cell_type": "code",
   "execution_count": null,
   "metadata": {},
   "outputs": [],
   "source": [
    "col_desc['stress'] = col_desc['stress'].apply(lambda x: x.replace('_', ' '))"
   ]
  },
  {
   "cell_type": "code",
   "execution_count": null,
   "metadata": {},
   "outputs": [],
   "source": [
    "col_desc.to_csv('../../data/col_desc_dash.tsv', index=False, sep='\\t')"
   ]
  },
  {
   "cell_type": "markdown",
   "metadata": {},
   "source": [
    "## Make gene metadata"
   ]
  },
  {
   "cell_type": "code",
   "execution_count": null,
   "metadata": {},
   "outputs": [],
   "source": [
    "%reset -f"
   ]
  },
  {
   "cell_type": "code",
   "execution_count": null,
   "metadata": {},
   "outputs": [],
   "source": [
    "import pandas as pd\n",
    "import numpy as np\n",
    "import pathlib\n",
    "import glob\n",
    "import os"
   ]
  },
  {
   "cell_type": "code",
   "execution_count": null,
   "metadata": {},
   "outputs": [],
   "source": [
    "si_data = pd.read_csv('../../data/si_data_dash.tsv', sep='\\t')\n",
    "si_data.head()"
   ]
  },
  {
   "cell_type": "code",
   "execution_count": null,
   "metadata": {},
   "outputs": [],
   "source": [
    "std_data = pd.read_csv('../../data/standardized_data_dash.tsv', sep='\\t')\n",
    "std_data.head()"
   ]
  },
  {
   "cell_type": "code",
   "execution_count": null,
   "metadata": {},
   "outputs": [],
   "source": [
    "#are all Rvs in si data there in std data?\n",
    "si_Rvs = set(si_data.Rv_ID.to_list())\n",
    "std_Rvs = set(std_data.Rv_ID.to_list())\n"
   ]
  },
  {
   "cell_type": "code",
   "execution_count": null,
   "metadata": {},
   "outputs": [],
   "source": [
    "len(si_Rvs)"
   ]
  },
  {
   "cell_type": "code",
   "execution_count": null,
   "metadata": {},
   "outputs": [],
   "source": [
    "len(std_Rvs)"
   ]
  },
  {
   "cell_type": "code",
   "execution_count": null,
   "metadata": {},
   "outputs": [],
   "source": [
    "si_Rvs.difference(std_Rvs)"
   ]
  },
  {
   "cell_type": "code",
   "execution_count": null,
   "metadata": {},
   "outputs": [],
   "source": [
    "si_Rvs.issubset(std_Rvs)"
   ]
  },
  {
   "cell_type": "code",
   "execution_count": null,
   "metadata": {},
   "outputs": [],
   "source": [
    "# Therefore use std to get gene metadata"
   ]
  },
  {
   "cell_type": "code",
   "execution_count": null,
   "metadata": {},
   "outputs": [],
   "source": [
    "gene_metadata = std_data[['Rv_ID', 'gene_name', 'Description']].drop_duplicates()"
   ]
  },
  {
   "cell_type": "code",
   "execution_count": null,
   "metadata": {},
   "outputs": [],
   "source": [
    "gene_names = pd.read_excel(\n",
    "    '../../data/annotations/DeJesus_mbio.xlsx', header=1, engine='openpyxl')\n",
    "gene_names = gene_names.rename(\n",
    "    columns={'ORF ID': 'Rv_ID'})\n",
    "gene_names.head()"
   ]
  },
  {
   "cell_type": "code",
   "execution_count": null,
   "metadata": {},
   "outputs": [],
   "source": [
    "gene_metadata = gene_metadata.merge(gene_names[['Rv_ID', 'Final Call']], how='left', on='Rv_ID')"
   ]
  },
  {
   "cell_type": "code",
   "execution_count": null,
   "metadata": {},
   "outputs": [],
   "source": [
    "gene_metadata.isna().sum()"
   ]
  },
  {
   "cell_type": "code",
   "execution_count": null,
   "metadata": {},
   "outputs": [],
   "source": [
    "gene_metadata['Description'] = gene_metadata['Description'].fillna('-')\n",
    "gene_metadata['Final Call'] = gene_metadata['Final Call'].fillna('Missing')"
   ]
  },
  {
   "cell_type": "code",
   "execution_count": null,
   "metadata": {},
   "outputs": [],
   "source": [
    "gene_metadata['Final Call'].value_counts()"
   ]
  },
  {
   "cell_type": "code",
   "execution_count": null,
   "metadata": {},
   "outputs": [],
   "source": [
    "gene_metadata_rename = {\n",
    "    'NE': 'Non essential',\n",
    "    'ES': 'Essential',\n",
    "    'GA': 'Growth advantage',\n",
    "    'GD': 'Growth defect',\n",
    "    'ESD': 'Essential domain'\n",
    "}\n",
    "gene_metadata['Final Call'] = gene_metadata['Final Call'].replace(gene_metadata_rename)"
   ]
  },
  {
   "cell_type": "code",
   "execution_count": null,
   "metadata": {},
   "outputs": [],
   "source": [
    "gene_metadata"
   ]
  },
  {
   "cell_type": "code",
   "execution_count": null,
   "metadata": {},
   "outputs": [],
   "source": [
    "func_cats = pd.read_excel('../../data/annotations/H37Rv_tuberculist_functional_categories.xlsx', engine='openpyxl')\n",
    "func_cats.head()"
   ]
  },
  {
   "cell_type": "code",
   "execution_count": null,
   "metadata": {},
   "outputs": [],
   "source": [
    "gene_metadata = gene_metadata.merge(func_cats[['Rv_ID', 'category']], on='Rv_ID', how='left').rename(columns = {'category': 'tuberculist_category'})"
   ]
  },
  {
   "cell_type": "code",
   "execution_count": null,
   "metadata": {},
   "outputs": [],
   "source": [
    "gene_metadata['tuberculist_category'] = gene_metadata['tuberculist_category'].fillna('unknown')"
   ]
  },
  {
   "cell_type": "code",
   "execution_count": null,
   "metadata": {},
   "outputs": [],
   "source": [
    "gene_metadata['tuberculist_category'].value_counts()"
   ]
  },
  {
   "cell_type": "code",
   "execution_count": null,
   "metadata": {},
   "outputs": [],
   "source": [
    "umap_data = pd.read_csv('../../data/NN_for_dash.csv')\n",
    "umap_data.head()"
   ]
  },
  {
   "cell_type": "code",
   "execution_count": null,
   "metadata": {},
   "outputs": [],
   "source": [
    "umap_data_cols = [col for col in umap_data.columns if col!= 'Rv_ID']\n",
    "umap_data['NN_joined'] = umap_data.apply(lambda x: ', '.join(x[umap_data_cols].values.tolist()), axis=1)"
   ]
  },
  {
   "cell_type": "code",
   "execution_count": null,
   "metadata": {},
   "outputs": [],
   "source": [
    "umap_data.head()"
   ]
  },
  {
   "cell_type": "code",
   "execution_count": null,
   "metadata": {},
   "outputs": [],
   "source": [
    "gene_metadata = gene_metadata.merge(umap_data[['Rv_ID', 'NN_joined']], on='Rv_ID', how='left')"
   ]
  },
  {
   "cell_type": "code",
   "execution_count": null,
   "metadata": {},
   "outputs": [],
   "source": [
    "gene_metadata.isna().sum()"
   ]
  },
  {
   "cell_type": "code",
   "execution_count": null,
   "metadata": {},
   "outputs": [],
   "source": [
    "gene_metadata.to_csv('../../data/gene_metadata_dash.tsv', index=False, sep='\\t')"
   ]
  },
  {
   "cell_type": "code",
   "execution_count": null,
   "metadata": {},
   "outputs": [],
   "source": []
  }
 ],
 "metadata": {
  "kernelspec": {
   "display_name": "Python 3 (ipykernel)",
   "language": "python",
   "name": "python3"
  },
  "language_info": {
   "codemirror_mode": {
    "name": "ipython",
    "version": 3
   },
   "file_extension": ".py",
   "mimetype": "text/x-python",
   "name": "python",
   "nbconvert_exporter": "python",
   "pygments_lexer": "ipython3",
   "version": "3.12.2"
  },
  "toc": {
   "base_numbering": 1,
   "nav_menu": {},
   "number_sections": true,
   "sideBar": true,
   "skip_h1_title": false,
   "title_cell": "Table of Contents",
   "title_sidebar": "Contents",
   "toc_cell": false,
   "toc_position": {},
   "toc_section_display": true,
   "toc_window_display": false
  },
  "varInspector": {
   "cols": {
    "lenName": 16,
    "lenType": 16,
    "lenVar": 40
   },
   "kernels_config": {
    "python": {
     "delete_cmd_postfix": "",
     "delete_cmd_prefix": "del ",
     "library": "var_list.py",
     "varRefreshCmd": "print(var_dic_list())"
    },
    "r": {
     "delete_cmd_postfix": ") ",
     "delete_cmd_prefix": "rm(",
     "library": "var_list.r",
     "varRefreshCmd": "cat(var_dic_list()) "
    }
   },
   "types_to_exclude": [
    "module",
    "function",
    "builtin_function_or_method",
    "instance",
    "_Feature"
   ],
   "window_display": false
  }
 },
 "nbformat": 4,
 "nbformat_minor": 4
}
