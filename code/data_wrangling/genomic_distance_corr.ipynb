{
 "cells": [
  {
   "cell_type": "code",
   "execution_count": 1,
   "metadata": {},
   "outputs": [],
   "source": [
    "import pandas as pd\n",
    "from matplotlib import pyplot as plt\n",
    "import numpy as np\n",
    "import seaborn as sns\n",
    "import tqdm\n",
    "import random\n",
    "import re\n",
    "from scipy.stats import ks_2samp\n"
   ]
  },
  {
   "cell_type": "code",
   "execution_count": 2,
   "metadata": {},
   "outputs": [],
   "source": [
    "def umap_distance(rv_1, rv_2, df_umap):\n",
    "    x1 = df_umap[df_umap.Rv_ID == rv_1].u1.values[0]\n",
    "    y1 = df_umap[df_umap.Rv_ID == rv_1].u2.values[0]\n",
    "    x2 = df_umap[df_umap.Rv_ID == rv_2].u1.values[0]\n",
    "    y2 = df_umap[df_umap.Rv_ID == rv_2].u2.values[0]\n",
    "    return np.sqrt( (x1 - x2)**2 + (y1 - y2)**2 )"
   ]
  },
  {
   "cell_type": "code",
   "execution_count": 3,
   "metadata": {},
   "outputs": [],
   "source": [
    "def shuffle_genes(df_not_shuffled):\n",
    "    ### shuffling of genes with respect to UMAP coordinates:\n",
    "    cols_genes = df_not_shuffled.columns[:4]\n",
    "    cols_umap = df_not_shuffled.columns[4:]\n",
    "\n",
    "    df_genes = df_not_shuffled[cols_genes].copy()\n",
    "    df_umap = df_not_shuffled[cols_umap].copy()\n",
    "\n",
    "    df_genes_shuffle = df_genes.reindex(np.random.permutation(df_genes.index)).reset_index(drop = True)\n",
    "    df_shuffle = pd.concat([df_genes_shuffle, df_umap], axis=1)\n",
    "    \n",
    "    return df_shuffle"
   ]
  },
  {
   "cell_type": "code",
   "execution_count": 4,
   "metadata": {},
   "outputs": [
    {
     "data": {
      "text/html": [
       "<div>\n",
       "<style scoped>\n",
       "    .dataframe tbody tr th:only-of-type {\n",
       "        vertical-align: middle;\n",
       "    }\n",
       "\n",
       "    .dataframe tbody tr th {\n",
       "        vertical-align: top;\n",
       "    }\n",
       "\n",
       "    .dataframe thead th {\n",
       "        text-align: right;\n",
       "    }\n",
       "</style>\n",
       "<table border=\"1\" class=\"dataframe\">\n",
       "  <thead>\n",
       "    <tr style=\"text-align: right;\">\n",
       "      <th></th>\n",
       "      <th>Rv_ID</th>\n",
       "      <th>gene_name</th>\n",
       "      <th>func_tuberculist</th>\n",
       "      <th>COG</th>\n",
       "      <th>u1</th>\n",
       "      <th>u2</th>\n",
       "      <th>u3</th>\n",
       "    </tr>\n",
       "  </thead>\n",
       "  <tbody>\n",
       "    <tr>\n",
       "      <td>0</td>\n",
       "      <td>Rv0003</td>\n",
       "      <td>recF</td>\n",
       "      <td>information pathways</td>\n",
       "      <td>L</td>\n",
       "      <td>13.845214</td>\n",
       "      <td>-3.007627</td>\n",
       "      <td>12.583271</td>\n",
       "    </tr>\n",
       "    <tr>\n",
       "      <td>1</td>\n",
       "      <td>Rv0007</td>\n",
       "      <td>-</td>\n",
       "      <td>cell wall and cell processes</td>\n",
       "      <td>S</td>\n",
       "      <td>8.239034</td>\n",
       "      <td>-7.112894</td>\n",
       "      <td>11.882878</td>\n",
       "    </tr>\n",
       "  </tbody>\n",
       "</table>\n",
       "</div>"
      ],
      "text/plain": [
       "    Rv_ID gene_name              func_tuberculist COG         u1        u2  \\\n",
       "0  Rv0003      recF          information pathways   L  13.845214 -3.007627   \n",
       "1  Rv0007         -  cell wall and cell processes   S   8.239034 -7.112894   \n",
       "\n",
       "          u3  \n",
       "0  12.583271  \n",
       "1  11.882878  "
      ]
     },
     "execution_count": 4,
     "metadata": {},
     "output_type": "execute_result"
    }
   ],
   "source": [
    "df = pd.read_csv('../../data/tests/df_umap.csv')\n",
    "df.head(2)"
   ]
  },
  {
   "cell_type": "code",
   "execution_count": 5,
   "metadata": {},
   "outputs": [
    {
     "data": {
      "text/plain": [
       "6.948558821193231"
      ]
     },
     "execution_count": 5,
     "metadata": {},
     "output_type": "execute_result"
    }
   ],
   "source": [
    "rv_1 = 'Rv0003'\n",
    "rv_2 = 'Rv0007'\n",
    "umap_distance(rv_1, rv_2, df)"
   ]
  },
  {
   "cell_type": "code",
   "execution_count": 6,
   "metadata": {},
   "outputs": [],
   "source": [
    "list_rv_id = df.Rv_ID.to_list()\n",
    "list_rv_id = [rv for rv in list_rv_id if 'Rvnr' not in rv]\n",
    "list_int_rv_id = [int(re.split( 'c|A|B|D' , rv.split('Rv')[1] )[0]) for rv in list_rv_id]"
   ]
  },
  {
   "cell_type": "code",
   "execution_count": 13,
   "metadata": {},
   "outputs": [],
   "source": [
    "window_size = 3"
   ]
  },
  {
   "cell_type": "code",
   "execution_count": 17,
   "metadata": {},
   "outputs": [],
   "source": [
    "list_pairs = [(list_rv_id[i], list_rv_id[j]) for i in range(len(list_rv_id)) for j in range(i+1,len(list_rv_id)) \n",
    " if np.abs(list_int_rv_id[i] - list_int_rv_id[j]) <= window_size]"
   ]
  },
  {
   "cell_type": "code",
   "execution_count": 18,
   "metadata": {},
   "outputs": [
    {
     "data": {
      "text/plain": [
       "2232"
      ]
     },
     "execution_count": 18,
     "metadata": {},
     "output_type": "execute_result"
    }
   ],
   "source": [
    "len(list_pairs)"
   ]
  },
  {
   "cell_type": "code",
   "execution_count": 21,
   "metadata": {},
   "outputs": [
    {
     "name": "stderr",
     "output_type": "stream",
     "text": [
      "100%|██████████| 2232/2232 [00:05<00:00, 433.76it/s]\n"
     ]
    }
   ],
   "source": [
    "list_dist = []\n",
    "for rv_pair in tqdm.tqdm(list_pairs):\n",
    "    list_dist.append(umap_distance( rv_pair[0], rv_pair[1], df))"
   ]
  },
  {
   "cell_type": "code",
   "execution_count": 22,
   "metadata": {},
   "outputs": [],
   "source": [
    "num_iter = 2232\n",
    "list_dist_rand = []\n",
    "for i in range(num_iter):\n",
    "    rvid_pair = random.sample(list_rv_id, 2)\n",
    "    list_dist_rand.append(umap_distance( rvid_pair[0], rvid_pair[1], df))"
   ]
  },
  {
   "cell_type": "code",
   "execution_count": 35,
   "metadata": {},
   "outputs": [
    {
     "data": {
      "image/png": "[encoded data removed]",
      "text/plain": [
       "<Figure size 720x576 with 1 Axes>"
      ]
     },
     "metadata": {
      "needs_background": "light"
     },
     "output_type": "display_data"
    }
   ],
   "source": [
    "plt.figure(figsize = (10,8))\n",
    "sns.distplot(list_dist, kde = False,  hist_kws=dict(edgecolor=\"k\", linewidth=3))\n",
    "sns.distplot(list_dist_rand, kde = False,  hist_kws=dict(edgecolor=\"k\", linewidth=2))\n",
    "\n",
    "plt.legend(['neighboring gene pairs', 'random gene pairs'], fontsize = 22)\n",
    "plt.xlabel('euclidean distance in UMAP', fontsize = 22)\n",
    "plt.ylabel('number of gene pairs', fontsize = 22)\n",
    "\n",
    "plt.tight_layout()\n",
    "plt.savefig('../../figures/pairwise_distances/umap_vs_genome_w3.png', dpi=300)"
   ]
  },
  {
   "cell_type": "code",
   "execution_count": 24,
   "metadata": {},
   "outputs": [
    {
     "data": {
      "text/plain": [
       "Ks_2sampResult(statistic=0.11917562724014337, pvalue=3.190900997267313e-14)"
      ]
     },
     "execution_count": 24,
     "metadata": {},
     "output_type": "execute_result"
    }
   ],
   "source": [
    "ks_2samp(list_dist, list_dist_rand)"
   ]
  },
  {
   "cell_type": "markdown",
   "metadata": {},
   "source": [
    "### Compare to shuffled data:"
   ]
  },
  {
   "cell_type": "code",
   "execution_count": 29,
   "metadata": {},
   "outputs": [],
   "source": [
    "df_shuffled = shuffle_genes(df)"
   ]
  },
  {
   "cell_type": "code",
   "execution_count": 30,
   "metadata": {},
   "outputs": [
    {
     "name": "stderr",
     "output_type": "stream",
     "text": [
      "100%|██████████| 2232/2232 [00:05<00:00, 414.03it/s]\n"
     ]
    }
   ],
   "source": [
    "list_dist_shuffled = []\n",
    "for rv_pair in tqdm.tqdm(list_pairs):\n",
    "    list_dist_shuffled.append(umap_distance( rv_pair[0], rv_pair[1], df_shuffled))"
   ]
  },
  {
   "cell_type": "code",
   "execution_count": 31,
   "metadata": {},
   "outputs": [
    {
     "data": {
      "image/png": "[encoded data removed]",
      "text/plain": [
       "<Figure size 1152x432 with 1 Axes>"
      ]
     },
     "metadata": {
      "needs_background": "light"
     },
     "output_type": "display_data"
    }
   ],
   "source": [
    "plt.figure(figsize = (16,6))\n",
    "sns.distplot(list_dist_shuffled, kde = False,  hist_kws=dict(edgecolor=\"k\", linewidth=3))\n",
    "sns.distplot(list_dist_rand, kde = False,  hist_kws=dict(edgecolor=\"k\", linewidth=2))\n",
    "plt.legend(['neighboring gene pairs', 'random gene pairs'], fontsize = 22)\n",
    "plt.xlabel('euclidean distance in UMAP', fontsize = 22)\n",
    "plt.ylabel('fraction of gene pairs', fontsize = 22)\n",
    "plt.savefig('../../figures/pairwise_distances/umap_vs_genome_w3_RAND.png', dpi=300)"
   ]
  },
  {
   "cell_type": "code",
   "execution_count": 32,
   "metadata": {},
   "outputs": [
    {
     "data": {
      "text/plain": [
       "Ks_2sampResult(statistic=0.025537634408602152, pvalue=0.46066938637808946)"
      ]
     },
     "execution_count": 32,
     "metadata": {},
     "output_type": "execute_result"
    }
   ],
   "source": [
    "ks_2samp(list_dist_shuffled, list_dist_rand)"
   ]
  },
  {
   "cell_type": "code",
   "execution_count": null,
   "metadata": {},
   "outputs": [],
   "source": []
  }
 ],
 "metadata": {
  "kernelspec": {
   "display_name": "Python 3",
   "language": "python",
   "name": "python3"
  },
  "language_info": {
   "codemirror_mode": {
    "name": "ipython",
    "version": 3
   },
   "file_extension": ".py",
   "mimetype": "text/x-python",
   "name": "python",
   "nbconvert_exporter": "python",
   "pygments_lexer": "ipython3",
   "version": "3.6.6"
  }
 },
 "nbformat": 4,
 "nbformat_minor": 4
}
