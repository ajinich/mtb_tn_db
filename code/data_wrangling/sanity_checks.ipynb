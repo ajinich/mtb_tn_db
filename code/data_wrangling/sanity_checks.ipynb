{
 "cells": [
  {
   "cell_type": "code",
   "execution_count": 1,
   "metadata": {},
   "outputs": [],
   "source": [
    "import pandas as pd\n",
    "import os\n",
    "import matplotlib.pyplot as plt"
   ]
  },
  {
   "cell_type": "markdown",
   "metadata": {},
   "source": [
    "## Load new matrices: "
   ]
  },
  {
   "cell_type": "code",
   "execution_count": 15,
   "metadata": {},
   "outputs": [],
   "source": [
    "path_data = '../../data/standardized_data/'\n",
    "file_log2fc = os.path.join(path_data, 'result_logfc_matrix_2020_08_27.csv')\n",
    "file_qval = os.path.join(path_data, 'result_qval_matrix_2020_08_27.csv')\n",
    "file_bin = os.path.join(path_data, 'result_bin_matrix_2020_08_27.csv')\n",
    "\n",
    "file_SI = '../../data/SI_datasets/SI_bin.csv'\n",
    "\n",
    "df_log2fc = pd.read_csv(file_log2fc)\n",
    "df_qval = pd.read_csv(file_qval)\n",
    "df_bin = pd.read_csv(file_bin)\n",
    "\n",
    "df_old = pd.read_csv(file_SI)"
   ]
  },
  {
   "cell_type": "code",
   "execution_count": 3,
   "metadata": {},
   "outputs": [
    {
     "data": {
      "text/plain": [
       "(4055, 65)"
      ]
     },
     "execution_count": 3,
     "metadata": {},
     "output_type": "execute_result"
    }
   ],
   "source": [
    "df_bin.shape"
   ]
  },
  {
   "cell_type": "code",
   "execution_count": 5,
   "metadata": {},
   "outputs": [],
   "source": [
    "cols_new = df_bin.columns.tolist()[1:]"
   ]
  },
  {
   "cell_type": "markdown",
   "metadata": {},
   "source": [
    "## Analysis of Carey datasets:"
   ]
  },
  {
   "cell_type": "markdown",
   "metadata": {},
   "source": [
    "Load Carey et al. SI file on excluded repetitive regions:"
   ]
  },
  {
   "cell_type": "code",
   "execution_count": 6,
   "metadata": {},
   "outputs": [
    {
     "data": {
      "text/plain": [
       "(300, 2)"
      ]
     },
     "execution_count": 6,
     "metadata": {},
     "output_type": "execute_result"
    }
   ],
   "source": [
    "path_temp = '../../dep/data/'\n",
    "file_rep = os.path.join(path_temp, 'Carey_S1_Table.xlsx')\n",
    "df_rep = pd.read_excel(file_rep)\n",
    "df_rep.rename(columns = {'Rv Number': 'Rv_ID'}, inplace = True)\n",
    "df_rep.shape"
   ]
  },
  {
   "cell_type": "markdown",
   "metadata": {},
   "source": [
    "Deleted genes: "
   ]
  },
  {
   "cell_type": "code",
   "execution_count": 7,
   "metadata": {},
   "outputs": [],
   "source": [
    "file_del = os.path.join(path_temp, 'Carey_S2_Table.xlsx')\n",
    "xl = pd.ExcelFile(file_del)\n",
    "sheets = xl.sheet_names  # see all sheet names\n",
    "dict_df_del = {}\n",
    "for sheet in sheets:\n",
    "    df_temp =  xl.parse(sheet)\n",
    "    df_temp.rename(columns = {'Rv Number': 'Rv_ID'}, inplace = True)\n",
    "    dict_df_del[sheet] = df_temp # read a specific sheet to DataFrame"
   ]
  },
  {
   "cell_type": "markdown",
   "metadata": {},
   "source": [
    "Duplicated regions"
   ]
  },
  {
   "cell_type": "code",
   "execution_count": 8,
   "metadata": {},
   "outputs": [
    {
     "data": {
      "text/html": [
       "<div>\n",
       "<style scoped>\n",
       "    .dataframe tbody tr th:only-of-type {\n",
       "        vertical-align: middle;\n",
       "    }\n",
       "\n",
       "    .dataframe tbody tr th {\n",
       "        vertical-align: top;\n",
       "    }\n",
       "\n",
       "    .dataframe thead th {\n",
       "        text-align: right;\n",
       "    }\n",
       "</style>\n",
       "<table border=\"1\" class=\"dataframe\">\n",
       "  <thead>\n",
       "    <tr style=\"text-align: right;\">\n",
       "      <th></th>\n",
       "      <th>Rv_ID</th>\n",
       "      <th>rv_num</th>\n",
       "    </tr>\n",
       "  </thead>\n",
       "  <tbody>\n",
       "    <tr>\n",
       "      <th>0</th>\n",
       "      <td>Rv0001</td>\n",
       "      <td>0001</td>\n",
       "    </tr>\n",
       "    <tr>\n",
       "      <th>1</th>\n",
       "      <td>Rv0002</td>\n",
       "      <td>0002</td>\n",
       "    </tr>\n",
       "  </tbody>\n",
       "</table>\n",
       "</div>"
      ],
      "text/plain": [
       "    Rv_ID rv_num\n",
       "0  Rv0001   0001\n",
       "1  Rv0002   0002"
      ]
     },
     "execution_count": 8,
     "metadata": {},
     "output_type": "execute_result"
    }
   ],
   "source": [
    "df_rv_id_num = df_bin[['Rv_ID']].copy()\n",
    "rv_num = [ rv[2:].strip('c').strip('A').strip('B') for rv in df_rv_id_num.Rv_ID.values]\n",
    "df_rv_id_num['rv_num'] = rv_num\n",
    "df_rv_id_num.head(2)"
   ]
  },
  {
   "cell_type": "code",
   "execution_count": 9,
   "metadata": {},
   "outputs": [],
   "source": [
    "dict_list_dup = {}"
   ]
  },
  {
   "cell_type": "markdown",
   "metadata": {},
   "source": [
    "(PENDING): Explain what is this: "
   ]
  },
  {
   "cell_type": "code",
   "execution_count": 11,
   "metadata": {},
   "outputs": [],
   "source": [
    "list_dup_temp_num = [str(i) for i in range(3219, 3429)]\n",
    "list_dup_temp_rv = df_rv_id_num[df_rv_id_num.rv_num.isin(list_dup_temp_num)].Rv_ID.tolist()\n",
    "dict_list_dup['621'] = list_dup_temp_rv\n",
    "dict_list_dup['631'] = list_dup_temp_rv\n",
    "dict_list_dup['632'] = list_dup_temp_rv\n",
    "\n",
    "list_dup_temp_num = [str(i) for i in range(3188, 3429)]\n",
    "list_dup_temp_rv = df_rv_id_num[df_rv_id_num.rv_num.isin(list_dup_temp_num)].Rv_ID.tolist()\n",
    "dict_list_dup['662'] = list_dup_temp_rv\n",
    "dict_list_dup['667'] = list_dup_temp_rv\n",
    "\n",
    "dict_list_dup['630'] = []\n",
    "dict_list_dup['641'] = []\n",
    "dict_list_dup['663'] = []\n"
   ]
  },
  {
   "cell_type": "markdown",
   "metadata": {},
   "source": [
    "## Let's compare old Carey results vs. new Carey results: "
   ]
  },
  {
   "cell_type": "markdown",
   "metadata": {},
   "source": [
    "### Load older carey datasets: "
   ]
  },
  {
   "cell_type": "code",
   "execution_count": 76,
   "metadata": {},
   "outputs": [],
   "source": [
    "\n",
    "cols_old = [col for col in df_old.columns if 'Carey' in col]"
   ]
  },
  {
   "cell_type": "code",
   "execution_count": 57,
   "metadata": {},
   "outputs": [
    {
     "data": {
      "text/plain": [
       "(3990, 42)"
      ]
     },
     "execution_count": 57,
     "metadata": {},
     "output_type": "execute_result"
    }
   ],
   "source": [
    "df_old.shape"
   ]
  },
  {
   "cell_type": "code",
   "execution_count": 16,
   "metadata": {},
   "outputs": [
    {
     "data": {
      "text/plain": [
       "[('2018_Carey_1A', 'carey_621_vs_carey_rv'),\n",
       " ('2018_Carey_1B', 'carey_630_vs_carey_rv'),\n",
       " ('2018_Carey_1C', 'carey_631_vs_carey_rv'),\n",
       " ('2018_Carey_1D', 'carey_632_vs_carey_rv'),\n",
       " ('2018_Carey_1E', 'carey_641_vs_carey_rv'),\n",
       " ('2018_Carey_1F', 'carey_662_vs_carey_rv'),\n",
       " ('2018_Carey_1G', 'carey_663_vs_carey_rv'),\n",
       " ('2018_Carey_1H', 'carey_667_vs_carey_rv')]"
      ]
     },
     "execution_count": 16,
     "metadata": {},
     "output_type": "execute_result"
    }
   ],
   "source": [
    "cols_new = [col for col in df_bin.columns if 'carey_rv' in col]\n",
    "# cols_new = [col for col in df_bin.columns if 'carey' in col and 'mbio' in col]\n",
    "col_map = list(zip(cols_old, cols_new))\n",
    "col_map"
   ]
  },
  {
   "cell_type": "markdown",
   "metadata": {},
   "source": [
    "How do I exclude genes in the repetitive regions list?"
   ]
  },
  {
   "cell_type": "code",
   "execution_count": 17,
   "metadata": {},
   "outputs": [
    {
     "name": "stdout",
     "output_type": "stream",
     "text": [
      "Excluded 14 genes deleted in strain: 621\n",
      "Excluded 216 genes in duplicated region of strain: 621 \n",
      "\n",
      "Excluded 3 genes deleted in strain: 630\n",
      "Excluded 0 genes in duplicated region of strain: 630 \n",
      "\n",
      "Excluded 19 genes deleted in strain: 631\n",
      "Excluded 216 genes in duplicated region of strain: 631 \n",
      "\n",
      "Excluded 23 genes deleted in strain: 632\n",
      "Excluded 216 genes in duplicated region of strain: 632 \n",
      "\n",
      "Excluded 7 genes deleted in strain: 641\n",
      "Excluded 0 genes in duplicated region of strain: 641 \n",
      "\n",
      "Excluded 14 genes deleted in strain: 662\n",
      "Excluded 253 genes in duplicated region of strain: 662 \n",
      "\n",
      "Excluded 6 genes deleted in strain: 663\n",
      "Excluded 0 genes in duplicated region of strain: 663 \n",
      "\n",
      "Excluded 10 genes deleted in strain: 667\n",
      "Excluded 253 genes in duplicated region of strain: 667 \n",
      "\n"
     ]
    }
   ],
   "source": [
    "list_num_both_CES = []\n",
    "list_num_both_nonCES = []\n",
    "list_num_CES_old_nonCES_new = []\n",
    "list_num_nonCES_old_CES_new = []\n",
    "\n",
    "for cols in col_map:\n",
    "    key_strain = cols[1].split('_')[1]\n",
    "    \n",
    "    df_bin_col = df_bin[['Rv_ID', cols[1]]].copy()\n",
    "    df_old_col = df_old[['Rv_ID', cols[0]]].copy()\n",
    "    \n",
    "    df_bin_both = df_bin_col.merge(df_old_col, how = 'inner', on = 'Rv_ID')\n",
    "    \n",
    "    # excluding repetitive genes (same across all clinical strains)\n",
    "    df_bin_both = df_bin_both[~df_bin_both.Rv_ID.isin(df_rep.Rv_ID)]\n",
    "    \n",
    "    # excluding deleted genes (strain specific)\n",
    "    df_del = dict_df_del[key_strain]\n",
    "    df_bin_both = df_bin_both[~df_bin_both.Rv_ID.isin(df_del.Rv_ID)]\n",
    "    print('Excluded', df_del.shape[0], 'genes deleted in strain:', key_strain )\n",
    "    \n",
    "    # excluding genes in duplicated regions (same across all clinical strains)\n",
    "    list_dup = dict_list_dup[key_strain]\n",
    "    df_bin_both = df_bin_both[~df_bin_both.Rv_ID.isin(list_dup)]\n",
    "    print('Excluded', len(list_dup), 'genes in duplicated region of strain:', key_strain, '\\n' )\n",
    "    \n",
    "    #####\n",
    "    file_out = os.path.join('../../dep/data/', cols[1]+'.xlsx')\n",
    "    writer = pd.ExcelWriter(file_out, engine='xlsxwriter')\n",
    "    df_bin_both[ (df_bin_both[cols[0]]==1) & (df_bin_both[cols[1]]==0) ].to_excel(writer, sheet_name = 'CES_old_nonCES_new', index = False)\n",
    "    df_bin_both[ (df_bin_both[cols[0]]==0) & (df_bin_both[cols[1]]==1) ].to_excel(writer, sheet_name = 'nonCES_old_CES_new', index = False)\n",
    "    writer.save()\n",
    "\n",
    "    num_both_CES = df_bin_both[ (df_bin_both[cols[0]]==1) & (df_bin_both[cols[1]]==1) ].shape[0]\n",
    "    num_both_nonCES = df_bin_both[ (df_bin_both[cols[0]]==0) & (df_bin_both[cols[1]]==0) ].shape[0]\n",
    "    num_CES_old_nonCES_new = df_bin_both[ (df_bin_both[cols[0]]==1) & (df_bin_both[cols[1]]==0) ].shape[0]\n",
    "    num_nonCES_old_CES_new = df_bin_both[ (df_bin_both[cols[0]]==0) & (df_bin_both[cols[1]]==1) ].shape[0]\n",
    "\n",
    "    list_num_both_CES.append(num_both_CES)\n",
    "    list_num_both_nonCES.append(num_both_nonCES)\n",
    "    list_num_CES_old_nonCES_new.append(num_CES_old_nonCES_new)\n",
    "    list_num_nonCES_old_CES_new.append(num_nonCES_old_CES_new)\n",
    "    \n",
    "df_map = pd.DataFrame()\n",
    "df_map['screen'] = [col[1] for col in col_map]\n",
    "df_map['both_CES'] = list_num_both_CES\n",
    "df_map['num_both_nonCES'] = list_num_both_nonCES\n",
    "df_map['num_CES_old_nonCES_new'] = list_num_CES_old_nonCES_new\n",
    "df_map['num_nonCES_old_CES_new'] = list_num_nonCES_old_CES_new"
   ]
  },
  {
   "cell_type": "code",
   "execution_count": 18,
   "metadata": {},
   "outputs": [],
   "source": [
    "file_out = '../../dep/data/sanity_check_Carey_no_reps_09_2020.csv'\n",
    "df_map.to_csv(file_out, index = False)"
   ]
  },
  {
   "cell_type": "markdown",
   "metadata": {},
   "source": [
    "# Comparing all screens:"
   ]
  },
  {
   "cell_type": "code",
   "execution_count": 16,
   "metadata": {},
   "outputs": [],
   "source": [
    "file_col_desc = '../../data/column_descriptors_standardized.xlsx'\n",
    "df_col_desc = pd.read_excel(file_col_desc)"
   ]
  },
  {
   "cell_type": "code",
   "execution_count": 17,
   "metadata": {},
   "outputs": [],
   "source": [
    "col_map = list(zip(df_col_desc.column_ID_SI.values, df_col_desc.column_ID_2.values))\n",
    "col_map_pairs = [cm for cm in col_map if cm[0] in df_old.columns]"
   ]
  },
  {
   "cell_type": "markdown",
   "metadata": {},
   "source": [
    "PENDING: increase this set of mapped screens!"
   ]
  },
  {
   "cell_type": "code",
   "execution_count": 18,
   "metadata": {},
   "outputs": [],
   "source": [
    "col_map_pairs = [cm for cm in col_map if type(cm[0])==str and type(cm[1])==str]"
   ]
  },
  {
   "cell_type": "code",
   "execution_count": 19,
   "metadata": {},
   "outputs": [
    {
     "data": {
      "text/plain": [
       "28"
      ]
     },
     "execution_count": 19,
     "metadata": {},
     "output_type": "execute_result"
    }
   ],
   "source": [
    "len(col_map_pairs)"
   ]
  },
  {
   "cell_type": "markdown",
   "metadata": {},
   "source": [
    "#### Which screens are we missing to pair up with the new dataset? "
   ]
  },
  {
   "cell_type": "code",
   "execution_count": 20,
   "metadata": {},
   "outputs": [
    {
     "data": {
      "text/plain": [
       "(48, 2)"
      ]
     },
     "execution_count": 20,
     "metadata": {},
     "output_type": "execute_result"
    }
   ],
   "source": [
    "col_map_missing = [cm for cm in col_map if type(cm[0])!=str or type(cm[1])!=str]\n",
    "df_col_map_missing = pd.DataFrame()\n",
    "df_col_map_missing['SI_name'] = [cm[0] for cm in col_map_missing]\n",
    "df_col_map_missing['standardized_name'] = [cm[1] for cm in col_map_missing]\n",
    "df_col_map_missing.shape"
   ]
  },
  {
   "cell_type": "markdown",
   "metadata": {},
   "source": [
    "##### Also store the column names for your old dataset: "
   ]
  },
  {
   "cell_type": "code",
   "execution_count": 21,
   "metadata": {},
   "outputs": [],
   "source": [
    "df_col_names_old = pd.DataFrame()\n",
    "df_col_names_old['old_DB_names'] = df_old.columns\n",
    "\n",
    "file_col_names_old = '../../dep/data/column_names_old_08022020.xlsx'\n",
    "df_col_names_old.to_excel(file_col_names_old, index = False)"
   ]
  },
  {
   "cell_type": "markdown",
   "metadata": {},
   "source": [
    "### Sanity check for the screens for which you have a column name mapping (old-to-new datasets:)"
   ]
  },
  {
   "cell_type": "code",
   "execution_count": 22,
   "metadata": {},
   "outputs": [],
   "source": [
    "df_old_col = df_old[['Rv_ID', '2013_Zhang_1A']]"
   ]
  },
  {
   "cell_type": "code",
   "execution_count": 23,
   "metadata": {},
   "outputs": [],
   "source": [
    "list_num_both_CES = []\n",
    "list_num_both_nonCES = []\n",
    "list_num_CES_old_nonCES_new = []\n",
    "list_num_nonCES_old_CES_new = []\n",
    "\n",
    "for cols in col_map_pairs:\n",
    "    \n",
    "    df_bin_col = df_bin[['Rv_ID', cols[1]]].copy()\n",
    "    df_old_col = df_old[['Rv_ID', cols[0]]].copy()\n",
    "    df_bin_both = df_bin_col.merge(df_old_col, how = 'inner', on = 'Rv_ID')\n",
    "\n",
    "    num_both_CES = df_bin_both[ (df_bin_both[cols[0]]==1) & (df_bin_both[cols[1]]==1) ].shape[0]\n",
    "    num_both_nonCES = df_bin_both[ (df_bin_both[cols[0]]==0) & (df_bin_both[cols[1]]==0) ].shape[0]\n",
    "    num_CES_old_nonCES_new = df_bin_both[ (df_bin_both[cols[0]]==1) & (df_bin_both[cols[1]]==0) ].shape[0]\n",
    "    num_nonCES_old_CES_new = df_bin_both[ (df_bin_both[cols[0]]==0) & (df_bin_both[cols[1]]==1) ].shape[0]\n",
    "\n",
    "    list_num_both_CES.append(num_both_CES)\n",
    "    list_num_both_nonCES.append(num_both_nonCES)\n",
    "    list_num_CES_old_nonCES_new.append(num_CES_old_nonCES_new)\n",
    "    list_num_nonCES_old_CES_new.append(num_nonCES_old_CES_new)\n",
    "    \n",
    "df_map = pd.DataFrame()\n",
    "\n",
    "df_map['screen_old_ID'] = [col[0] for col in col_map_pairs]\n",
    "df_map['screen_new_ID'] = [col[1] for col in col_map_pairs]\n",
    "\n",
    "df_map['CE_consensus'] = list_num_both_CES\n",
    "df_map['notCE_consensus'] = list_num_both_nonCES\n",
    "df_map['CE_SI_notCE_standardized'] = list_num_CES_old_nonCES_new\n",
    "df_map['notCE_SI_CE_standardized'] = list_num_nonCES_old_CES_new"
   ]
  },
  {
   "cell_type": "code",
   "execution_count": 24,
   "metadata": {},
   "outputs": [
    {
     "data": {
      "text/html": [
       "<div>\n",
       "<style scoped>\n",
       "    .dataframe tbody tr th:only-of-type {\n",
       "        vertical-align: middle;\n",
       "    }\n",
       "\n",
       "    .dataframe tbody tr th {\n",
       "        vertical-align: top;\n",
       "    }\n",
       "\n",
       "    .dataframe thead th {\n",
       "        text-align: right;\n",
       "    }\n",
       "</style>\n",
       "<table border=\"1\" class=\"dataframe\">\n",
       "  <thead>\n",
       "    <tr style=\"text-align: right;\">\n",
       "      <th></th>\n",
       "      <th>screen_old_ID</th>\n",
       "      <th>screen_new_ID</th>\n",
       "      <th>CE_consensus</th>\n",
       "      <th>notCE_consensus</th>\n",
       "      <th>CE_SI_notCE_standardized</th>\n",
       "      <th>notCE_SI_CE_standardized</th>\n",
       "    </tr>\n",
       "  </thead>\n",
       "  <tbody>\n",
       "    <tr>\n",
       "      <th>0</th>\n",
       "      <td>2011_Griffin_2</td>\n",
       "      <td>griffin_cholesterol_vs_griffin_glycerol</td>\n",
       "      <td>59</td>\n",
       "      <td>3880</td>\n",
       "      <td>34</td>\n",
       "      <td>17</td>\n",
       "    </tr>\n",
       "    <tr>\n",
       "      <th>1</th>\n",
       "      <td>2013_Zhang_1A</td>\n",
       "      <td>zhang_wt_mouse_d10_vs_zhang_input_library</td>\n",
       "      <td>105</td>\n",
       "      <td>3465</td>\n",
       "      <td>403</td>\n",
       "      <td>17</td>\n",
       "    </tr>\n",
       "    <tr>\n",
       "      <th>2</th>\n",
       "      <td>2013_Zhang_1B</td>\n",
       "      <td>zhang_wt_mouse_d45_vs_zhang_input_library</td>\n",
       "      <td>251</td>\n",
       "      <td>3513</td>\n",
       "      <td>149</td>\n",
       "      <td>77</td>\n",
       "    </tr>\n",
       "    <tr>\n",
       "      <th>3</th>\n",
       "      <td>2013_Zhang_2</td>\n",
       "      <td>zhang_mhcii_mouse_d45_vs_zhang_wt_mouse_d45</td>\n",
       "      <td>1</td>\n",
       "      <td>3915</td>\n",
       "      <td>57</td>\n",
       "      <td>17</td>\n",
       "    </tr>\n",
       "    <tr>\n",
       "      <th>4</th>\n",
       "      <td>2013_Zhang_3A</td>\n",
       "      <td>zhang_Tyloxapol_pH_6.5_vs_zhang_Tyloxapol_pH_4.5</td>\n",
       "      <td>3</td>\n",
       "      <td>3958</td>\n",
       "      <td>1</td>\n",
       "      <td>28</td>\n",
       "    </tr>\n",
       "    <tr>\n",
       "      <th>5</th>\n",
       "      <td>2013_Zhang_3B</td>\n",
       "      <td>zhang_Tyloxapol_pH_6.5_vs_zhang_pcit_pH_4.5</td>\n",
       "      <td>7</td>\n",
       "      <td>3909</td>\n",
       "      <td>14</td>\n",
       "      <td>60</td>\n",
       "    </tr>\n",
       "    <tr>\n",
       "      <th>6</th>\n",
       "      <td>2013_Zhang_3C</td>\n",
       "      <td>zhang_DETA-NO_pH_7.0_vs_zhang_pH_7.0_no_NO_con...</td>\n",
       "      <td>11</td>\n",
       "      <td>3949</td>\n",
       "      <td>1</td>\n",
       "      <td>29</td>\n",
       "    </tr>\n",
       "    <tr>\n",
       "      <th>7</th>\n",
       "      <td>2013_Zhang_3D</td>\n",
       "      <td>zhang_Trp_Rescue_vs_zhang_in_vitro_control_Rescue</td>\n",
       "      <td>2</td>\n",
       "      <td>3968</td>\n",
       "      <td>10</td>\n",
       "      <td>10</td>\n",
       "    </tr>\n",
       "    <tr>\n",
       "      <th>8</th>\n",
       "      <td>2015_Kieser_GI_1</td>\n",
       "      <td>kieser_dPonA1_vs_mbio_H37Rv</td>\n",
       "      <td>11</td>\n",
       "      <td>3839</td>\n",
       "      <td>123</td>\n",
       "      <td>17</td>\n",
       "    </tr>\n",
       "    <tr>\n",
       "      <th>9</th>\n",
       "      <td>2016_Nambi</td>\n",
       "      <td>nambi_2015_ctpC_vs_nambi_2015_wt</td>\n",
       "      <td>81</td>\n",
       "      <td>3780</td>\n",
       "      <td>110</td>\n",
       "      <td>0</td>\n",
       "    </tr>\n",
       "    <tr>\n",
       "      <th>10</th>\n",
       "      <td>2016_Korte</td>\n",
       "      <td>korte_2016_otsa_trehalose_vs_korte_2016_otsa_7h9</td>\n",
       "      <td>0</td>\n",
       "      <td>3988</td>\n",
       "      <td>0</td>\n",
       "      <td>2</td>\n",
       "    </tr>\n",
       "    <tr>\n",
       "      <th>11</th>\n",
       "      <td>2017_Xu_1A</td>\n",
       "      <td>xu_van_16_vs_xu_van_0</td>\n",
       "      <td>72</td>\n",
       "      <td>3884</td>\n",
       "      <td>13</td>\n",
       "      <td>2</td>\n",
       "    </tr>\n",
       "    <tr>\n",
       "      <th>12</th>\n",
       "      <td>2017_Xu_1B</td>\n",
       "      <td>xu_rif_4_vs_xu_rif_0</td>\n",
       "      <td>62</td>\n",
       "      <td>3899</td>\n",
       "      <td>10</td>\n",
       "      <td>0</td>\n",
       "    </tr>\n",
       "    <tr>\n",
       "      <th>13</th>\n",
       "      <td>2017_Xu_1C</td>\n",
       "      <td>xu_inh_02_vs_xu_inh_0</td>\n",
       "      <td>71</td>\n",
       "      <td>3848</td>\n",
       "      <td>16</td>\n",
       "      <td>36</td>\n",
       "    </tr>\n",
       "    <tr>\n",
       "      <th>14</th>\n",
       "      <td>2017_Xu_1D</td>\n",
       "      <td>xu_emb_2.5_vs_xu_emb_0</td>\n",
       "      <td>25</td>\n",
       "      <td>3904</td>\n",
       "      <td>42</td>\n",
       "      <td>0</td>\n",
       "    </tr>\n",
       "    <tr>\n",
       "      <th>15</th>\n",
       "      <td>2017_Xu_1E</td>\n",
       "      <td>xu_mero_2.5_vs_xu_mero_0</td>\n",
       "      <td>41</td>\n",
       "      <td>3863</td>\n",
       "      <td>67</td>\n",
       "      <td>0</td>\n",
       "    </tr>\n",
       "    <tr>\n",
       "      <th>16</th>\n",
       "      <td>2017_Mishra_1</td>\n",
       "      <td>mishra_C3H_vs_mishra_B6</td>\n",
       "      <td>33</td>\n",
       "      <td>3903</td>\n",
       "      <td>37</td>\n",
       "      <td>17</td>\n",
       "    </tr>\n",
       "    <tr>\n",
       "      <th>17</th>\n",
       "      <td>2017_Mishra_2</td>\n",
       "      <td>mishra_NOS2_vs_mishra_B6</td>\n",
       "      <td>51</td>\n",
       "      <td>3878</td>\n",
       "      <td>44</td>\n",
       "      <td>17</td>\n",
       "    </tr>\n",
       "    <tr>\n",
       "      <th>18</th>\n",
       "      <td>2018_Carey_1A</td>\n",
       "      <td>carey_621_vs_carey_rv</td>\n",
       "      <td>24</td>\n",
       "      <td>3802</td>\n",
       "      <td>11</td>\n",
       "      <td>153</td>\n",
       "    </tr>\n",
       "    <tr>\n",
       "      <th>19</th>\n",
       "      <td>2018_Carey_1B</td>\n",
       "      <td>carey_630_vs_carey_rv</td>\n",
       "      <td>24</td>\n",
       "      <td>3907</td>\n",
       "      <td>9</td>\n",
       "      <td>50</td>\n",
       "    </tr>\n",
       "    <tr>\n",
       "      <th>20</th>\n",
       "      <td>2018_Carey_1C</td>\n",
       "      <td>carey_631_vs_carey_rv</td>\n",
       "      <td>15</td>\n",
       "      <td>3847</td>\n",
       "      <td>26</td>\n",
       "      <td>102</td>\n",
       "    </tr>\n",
       "    <tr>\n",
       "      <th>21</th>\n",
       "      <td>2018_Carey_1D</td>\n",
       "      <td>carey_632_vs_carey_rv</td>\n",
       "      <td>9</td>\n",
       "      <td>3873</td>\n",
       "      <td>5</td>\n",
       "      <td>103</td>\n",
       "    </tr>\n",
       "    <tr>\n",
       "      <th>22</th>\n",
       "      <td>2018_Carey_1E</td>\n",
       "      <td>carey_641_vs_carey_rv</td>\n",
       "      <td>10</td>\n",
       "      <td>3895</td>\n",
       "      <td>2</td>\n",
       "      <td>83</td>\n",
       "    </tr>\n",
       "    <tr>\n",
       "      <th>23</th>\n",
       "      <td>2018_Carey_1F</td>\n",
       "      <td>carey_662_vs_carey_rv</td>\n",
       "      <td>15</td>\n",
       "      <td>3858</td>\n",
       "      <td>3</td>\n",
       "      <td>114</td>\n",
       "    </tr>\n",
       "    <tr>\n",
       "      <th>24</th>\n",
       "      <td>2018_Carey_1G</td>\n",
       "      <td>carey_663_vs_carey_rv</td>\n",
       "      <td>38</td>\n",
       "      <td>3845</td>\n",
       "      <td>10</td>\n",
       "      <td>97</td>\n",
       "    </tr>\n",
       "    <tr>\n",
       "      <th>25</th>\n",
       "      <td>2018_Carey_1H</td>\n",
       "      <td>carey_667_vs_carey_rv</td>\n",
       "      <td>11</td>\n",
       "      <td>3888</td>\n",
       "      <td>2</td>\n",
       "      <td>89</td>\n",
       "    </tr>\n",
       "    <tr>\n",
       "      <th>26</th>\n",
       "      <td>2018_Rittershaus_1B</td>\n",
       "      <td>ritterhaus_hypoxia_H3_vs_ritterhaus_hypoxia_input</td>\n",
       "      <td>27</td>\n",
       "      <td>3921</td>\n",
       "      <td>3</td>\n",
       "      <td>39</td>\n",
       "    </tr>\n",
       "    <tr>\n",
       "      <th>27</th>\n",
       "      <td>2018_Rittershaus_1A</td>\n",
       "      <td>ritterhaus_hypoxia_H6_vs_ritterhaus_hypoxia_input</td>\n",
       "      <td>98</td>\n",
       "      <td>3773</td>\n",
       "      <td>3</td>\n",
       "      <td>116</td>\n",
       "    </tr>\n",
       "  </tbody>\n",
       "</table>\n",
       "</div>"
      ],
      "text/plain": [
       "          screen_old_ID                                      screen_new_ID  \\\n",
       "0        2011_Griffin_2            griffin_cholesterol_vs_griffin_glycerol   \n",
       "1         2013_Zhang_1A          zhang_wt_mouse_d10_vs_zhang_input_library   \n",
       "2         2013_Zhang_1B          zhang_wt_mouse_d45_vs_zhang_input_library   \n",
       "3          2013_Zhang_2        zhang_mhcii_mouse_d45_vs_zhang_wt_mouse_d45   \n",
       "4         2013_Zhang_3A   zhang_Tyloxapol_pH_6.5_vs_zhang_Tyloxapol_pH_4.5   \n",
       "5         2013_Zhang_3B        zhang_Tyloxapol_pH_6.5_vs_zhang_pcit_pH_4.5   \n",
       "6         2013_Zhang_3C  zhang_DETA-NO_pH_7.0_vs_zhang_pH_7.0_no_NO_con...   \n",
       "7         2013_Zhang_3D  zhang_Trp_Rescue_vs_zhang_in_vitro_control_Rescue   \n",
       "8      2015_Kieser_GI_1                        kieser_dPonA1_vs_mbio_H37Rv   \n",
       "9            2016_Nambi                   nambi_2015_ctpC_vs_nambi_2015_wt   \n",
       "10           2016_Korte   korte_2016_otsa_trehalose_vs_korte_2016_otsa_7h9   \n",
       "11           2017_Xu_1A                              xu_van_16_vs_xu_van_0   \n",
       "12           2017_Xu_1B                               xu_rif_4_vs_xu_rif_0   \n",
       "13           2017_Xu_1C                              xu_inh_02_vs_xu_inh_0   \n",
       "14           2017_Xu_1D                             xu_emb_2.5_vs_xu_emb_0   \n",
       "15           2017_Xu_1E                           xu_mero_2.5_vs_xu_mero_0   \n",
       "16        2017_Mishra_1                            mishra_C3H_vs_mishra_B6   \n",
       "17        2017_Mishra_2                           mishra_NOS2_vs_mishra_B6   \n",
       "18        2018_Carey_1A                              carey_621_vs_carey_rv   \n",
       "19        2018_Carey_1B                              carey_630_vs_carey_rv   \n",
       "20        2018_Carey_1C                              carey_631_vs_carey_rv   \n",
       "21        2018_Carey_1D                              carey_632_vs_carey_rv   \n",
       "22        2018_Carey_1E                              carey_641_vs_carey_rv   \n",
       "23        2018_Carey_1F                              carey_662_vs_carey_rv   \n",
       "24        2018_Carey_1G                              carey_663_vs_carey_rv   \n",
       "25        2018_Carey_1H                              carey_667_vs_carey_rv   \n",
       "26  2018_Rittershaus_1B  ritterhaus_hypoxia_H3_vs_ritterhaus_hypoxia_input   \n",
       "27  2018_Rittershaus_1A  ritterhaus_hypoxia_H6_vs_ritterhaus_hypoxia_input   \n",
       "\n",
       "    CE_consensus  notCE_consensus  CE_SI_notCE_standardized  \\\n",
       "0             59             3880                        34   \n",
       "1            105             3465                       403   \n",
       "2            251             3513                       149   \n",
       "3              1             3915                        57   \n",
       "4              3             3958                         1   \n",
       "5              7             3909                        14   \n",
       "6             11             3949                         1   \n",
       "7              2             3968                        10   \n",
       "8             11             3839                       123   \n",
       "9             81             3780                       110   \n",
       "10             0             3988                         0   \n",
       "11            72             3884                        13   \n",
       "12            62             3899                        10   \n",
       "13            71             3848                        16   \n",
       "14            25             3904                        42   \n",
       "15            41             3863                        67   \n",
       "16            33             3903                        37   \n",
       "17            51             3878                        44   \n",
       "18            24             3802                        11   \n",
       "19            24             3907                         9   \n",
       "20            15             3847                        26   \n",
       "21             9             3873                         5   \n",
       "22            10             3895                         2   \n",
       "23            15             3858                         3   \n",
       "24            38             3845                        10   \n",
       "25            11             3888                         2   \n",
       "26            27             3921                         3   \n",
       "27            98             3773                         3   \n",
       "\n",
       "    notCE_SI_CE_standardized  \n",
       "0                         17  \n",
       "1                         17  \n",
       "2                         77  \n",
       "3                         17  \n",
       "4                         28  \n",
       "5                         60  \n",
       "6                         29  \n",
       "7                         10  \n",
       "8                         17  \n",
       "9                          0  \n",
       "10                         2  \n",
       "11                         2  \n",
       "12                         0  \n",
       "13                        36  \n",
       "14                         0  \n",
       "15                         0  \n",
       "16                        17  \n",
       "17                        17  \n",
       "18                       153  \n",
       "19                        50  \n",
       "20                       102  \n",
       "21                       103  \n",
       "22                        83  \n",
       "23                       114  \n",
       "24                        97  \n",
       "25                        89  \n",
       "26                        39  \n",
       "27                       116  "
      ]
     },
     "execution_count": 24,
     "metadata": {},
     "output_type": "execute_result"
    }
   ],
   "source": [
    "df_map"
   ]
  },
  {
   "cell_type": "code",
   "execution_count": 25,
   "metadata": {},
   "outputs": [
    {
     "data": {
      "text/plain": [
       "screen_old_ID               2011_Griffin_22013_Zhang_1A2013_Zhang_1B2013_Z...\n",
       "screen_new_ID               griffin_cholesterol_vs_griffin_glycerolzhang_w...\n",
       "CE_consensus                                                             1157\n",
       "notCE_consensus                                                        107952\n",
       "CE_SI_notCE_standardized                                                 1205\n",
       "notCE_SI_CE_standardized                                                 1292\n",
       "dtype: object"
      ]
     },
     "execution_count": 25,
     "metadata": {},
     "output_type": "execute_result"
    }
   ],
   "source": [
    "df_map.sum()"
   ]
  },
  {
   "cell_type": "code",
   "execution_count": 29,
   "metadata": {},
   "outputs": [],
   "source": [
    "import numpy as np"
   ]
  },
  {
   "cell_type": "code",
   "execution_count": 30,
   "metadata": {},
   "outputs": [
    {
     "data": {
      "text/plain": [
       "0.022"
      ]
     },
     "execution_count": 30,
     "metadata": {},
     "output_type": "execute_result"
    }
   ],
   "source": [
    "consensus = 1157 + 107952\n",
    "non_consensus = 1205 + 1292\n",
    "total = consensus + non_consensus\n",
    "\n",
    "frac_consensus = consensus / total\n",
    "frac_non_consensus = non_consensus / total\n",
    "\n",
    "np.round(frac_non_consensus, 3)"
   ]
  },
  {
   "cell_type": "code",
   "execution_count": 34,
   "metadata": {},
   "outputs": [
    {
     "name": "stdout",
     "output_type": "stream",
     "text": [
      "0.32\n",
      "0.68\n"
     ]
    }
   ],
   "source": [
    "CE_consensus = 1157\n",
    "CE_SI_notCE_standardized = 1205\n",
    "notCE_SI_CE_standardized = 1292\n",
    "CE_all = CE_consensus + CE_SI_notCE_standardized + notCE_SI_CE_standardized\n",
    "frac_CE_concensus = CE_consensus / CE_all\n",
    "frac_CE_nonconcensus = (CE_SI_notCE_standardized + notCE_SI_CE_standardized) / CE_all\n",
    "\n",
    "print(np.round(frac_CE_concensus, 2))\n",
    "\n",
    "print(np.round(frac_CE_nonconcensus, 2))"
   ]
  },
  {
   "cell_type": "code",
   "execution_count": null,
   "metadata": {},
   "outputs": [],
   "source": []
  },
  {
   "cell_type": "code",
   "execution_count": 74,
   "metadata": {},
   "outputs": [],
   "source": [
    "file_out = '../../data/tests/sanity_check_09012020.csv'\n",
    "file_out_xls = '../../data/tests/sanity_check_09012020.xlsx'\n",
    "\n",
    "df_map.to_csv(file_out, index = False)\n",
    "df_map.to_excel(file_out_xls, index = False)"
   ]
  },
  {
   "cell_type": "markdown",
   "metadata": {},
   "source": [
    "# Follow-up in more detail on a few:"
   ]
  },
  {
   "cell_type": "markdown",
   "metadata": {},
   "source": [
    "## FLUTE database TnSeq screens: "
   ]
  },
  {
   "cell_type": "code",
   "execution_count": 97,
   "metadata": {},
   "outputs": [],
   "source": [
    "col_map_pairs_FLUTE = [cm for cm in col_map_pairs if 'Rv' in cm[0] or 'marP' in cm[0]]"
   ]
  },
  {
   "cell_type": "code",
   "execution_count": 100,
   "metadata": {},
   "outputs": [],
   "source": [
    "path_FLUTE = '/home/adrian/Documents/repos/mtb_tn_db/data/SI_datasets/FLUTE_KO_TnSeq/'"
   ]
  },
  {
   "cell_type": "code",
   "execution_count": 112,
   "metadata": {},
   "outputs": [],
   "source": [
    "list_num_both_CES = []\n",
    "list_num_both_nonCES = []\n",
    "list_num_CES_old_nonCES_new = []\n",
    "list_num_nonCES_old_CES_new = []\n",
    "\n",
    "for cols in col_map_pairs_FLUTE:\n",
    "    file_SI = os.path.join(path_FLUTE, 'H37Rv_'+cols[0]+'.xlsx')\n",
    "    df_SI = pd.read_excel(file_SI)\n",
    "    \n",
    "    df_SI.loc[ (df_SI['p-adj'] <= 0.05) & (df_SI['log2FC'].abs() >= 1), cols[0]]=1\n",
    "    df_SI.loc[ df_SI['p-adj'] > 0.05, cols[0]]= 0\n",
    "    df_SI.loc[ df_SI['log2FC'].abs() < 1, cols[0]]= 0\n",
    "    df_SI = df_SI[['Rv_ID', 'Name', cols[0]]]\n",
    "    \n",
    "    df_bin_col = df_bin[['Rv_ID', cols[1]]].copy()\n",
    "    df_bin_both = df_SI.merge(df_bin_col, how = 'inner', on = 'Rv_ID')\n",
    "\n",
    "    num_both_CES = df_bin_both[ (df_bin_both[cols[0]]==1) & (df_bin_both[cols[1]]==1) ].shape[0]\n",
    "    num_both_nonCES = df_bin_both[ (df_bin_both[cols[0]]==0) & (df_bin_both[cols[1]]==0) ].shape[0]\n",
    "    num_CES_old_nonCES_new = df_bin_both[ (df_bin_both[cols[0]]==1) & (df_bin_both[cols[1]]==0) ].shape[0]\n",
    "    num_nonCES_old_CES_new = df_bin_both[ (df_bin_both[cols[0]]==0) & (df_bin_both[cols[1]]==1) ].shape[0]\n",
    "\n",
    "    list_num_both_CES.append(num_both_CES)\n",
    "    list_num_both_nonCES.append(num_both_nonCES)\n",
    "    list_num_CES_old_nonCES_new.append(num_CES_old_nonCES_new)\n",
    "    list_num_nonCES_old_CES_new.append(num_nonCES_old_CES_new)\n",
    "    \n",
    "df_map = pd.DataFrame()\n",
    "\n",
    "df_map['screen_old_ID'] = [col[0] for col in col_map_pairs_FLUTE]\n",
    "df_map['screen_new_ID'] = [col[1] for col in col_map_pairs_FLUTE]\n",
    "\n",
    "df_map['both_CES'] = list_num_both_CES\n",
    "df_map['both_nonCES'] = list_num_both_nonCES\n",
    "df_map['CES_old_nonCES_new'] = list_num_CES_old_nonCES_new\n",
    "df_map['nonCES_old_CES_new'] = list_num_nonCES_old_CES_new"
   ]
  },
  {
   "cell_type": "code",
   "execution_count": 113,
   "metadata": {},
   "outputs": [
    {
     "data": {
      "text/html": [
       "<div>\n",
       "<style scoped>\n",
       "    .dataframe tbody tr th:only-of-type {\n",
       "        vertical-align: middle;\n",
       "    }\n",
       "\n",
       "    .dataframe tbody tr th {\n",
       "        vertical-align: top;\n",
       "    }\n",
       "\n",
       "    .dataframe thead th {\n",
       "        text-align: right;\n",
       "    }\n",
       "</style>\n",
       "<table border=\"1\" class=\"dataframe\">\n",
       "  <thead>\n",
       "    <tr style=\"text-align: right;\">\n",
       "      <th></th>\n",
       "      <th>screen_old_ID</th>\n",
       "      <th>screen_new_ID</th>\n",
       "      <th>both_CES</th>\n",
       "      <th>both_nonCES</th>\n",
       "      <th>CES_old_nonCES_new</th>\n",
       "      <th>nonCES_old_CES_new</th>\n",
       "    </tr>\n",
       "  </thead>\n",
       "  <tbody>\n",
       "    <tr>\n",
       "      <td>0</td>\n",
       "      <td>Rv0307c</td>\n",
       "      <td>dejesus_Rv0307c_day32_vs_dejesus_Rv0307c_day0</td>\n",
       "      <td>7</td>\n",
       "      <td>3433</td>\n",
       "      <td>543</td>\n",
       "      <td>7</td>\n",
       "    </tr>\n",
       "    <tr>\n",
       "      <td>1</td>\n",
       "      <td>Rv3916c</td>\n",
       "      <td>dejesus_Rv3916c_day32_vs_dejesus_Rv3916c_day0</td>\n",
       "      <td>10</td>\n",
       "      <td>3652</td>\n",
       "      <td>280</td>\n",
       "      <td>48</td>\n",
       "    </tr>\n",
       "    <tr>\n",
       "      <td>2</td>\n",
       "      <td>Rv0950</td>\n",
       "      <td>Rv0950c_KO_vs_CB_WT</td>\n",
       "      <td>13</td>\n",
       "      <td>3971</td>\n",
       "      <td>5</td>\n",
       "      <td>1</td>\n",
       "    </tr>\n",
       "    <tr>\n",
       "      <td>3</td>\n",
       "      <td>Rv0954</td>\n",
       "      <td>Rv0954_KO_vs_RJ_WT</td>\n",
       "      <td>40</td>\n",
       "      <td>3910</td>\n",
       "      <td>12</td>\n",
       "      <td>28</td>\n",
       "    </tr>\n",
       "    <tr>\n",
       "      <td>4</td>\n",
       "      <td>Rv1096</td>\n",
       "      <td>Rv1096_KO_vs_CB_WT</td>\n",
       "      <td>11</td>\n",
       "      <td>3972</td>\n",
       "      <td>7</td>\n",
       "      <td>0</td>\n",
       "    </tr>\n",
       "    <tr>\n",
       "      <td>5</td>\n",
       "      <td>Rv3005c</td>\n",
       "      <td>Rv3005c_KO_day32_vs_dejesus_H37Rv_day32</td>\n",
       "      <td>13</td>\n",
       "      <td>3532</td>\n",
       "      <td>445</td>\n",
       "      <td>0</td>\n",
       "    </tr>\n",
       "    <tr>\n",
       "      <td>6</td>\n",
       "      <td>Rv3594</td>\n",
       "      <td>Rv3594_KO_vs_Rubin_FLUTE_WT</td>\n",
       "      <td>24</td>\n",
       "      <td>3954</td>\n",
       "      <td>11</td>\n",
       "      <td>1</td>\n",
       "    </tr>\n",
       "    <tr>\n",
       "      <td>7</td>\n",
       "      <td>Rv3684</td>\n",
       "      <td>Rv3684_KO_vs_CB_WT</td>\n",
       "      <td>2</td>\n",
       "      <td>3987</td>\n",
       "      <td>1</td>\n",
       "      <td>0</td>\n",
       "    </tr>\n",
       "    <tr>\n",
       "      <td>8</td>\n",
       "      <td>Rv3717</td>\n",
       "      <td>Rv3717_KO_vs_Rubin_FLUTE_WT</td>\n",
       "      <td>67</td>\n",
       "      <td>3901</td>\n",
       "      <td>22</td>\n",
       "      <td>0</td>\n",
       "    </tr>\n",
       "    <tr>\n",
       "      <td>9</td>\n",
       "      <td>Rv3811</td>\n",
       "      <td>Rv3811_KO_vs_Rubin_FLUTE_WT</td>\n",
       "      <td>26</td>\n",
       "      <td>3949</td>\n",
       "      <td>15</td>\n",
       "      <td>0</td>\n",
       "    </tr>\n",
       "    <tr>\n",
       "      <td>10</td>\n",
       "      <td>marP</td>\n",
       "      <td>marP_KO_vs_marP_WT</td>\n",
       "      <td>260</td>\n",
       "      <td>3717</td>\n",
       "      <td>10</td>\n",
       "      <td>3</td>\n",
       "    </tr>\n",
       "  </tbody>\n",
       "</table>\n",
       "</div>"
      ],
      "text/plain": [
       "   screen_old_ID                                  screen_new_ID  both_CES  \\\n",
       "0        Rv0307c  dejesus_Rv0307c_day32_vs_dejesus_Rv0307c_day0         7   \n",
       "1        Rv3916c  dejesus_Rv3916c_day32_vs_dejesus_Rv3916c_day0        10   \n",
       "2         Rv0950                            Rv0950c_KO_vs_CB_WT        13   \n",
       "3         Rv0954                             Rv0954_KO_vs_RJ_WT        40   \n",
       "4         Rv1096                             Rv1096_KO_vs_CB_WT        11   \n",
       "5        Rv3005c        Rv3005c_KO_day32_vs_dejesus_H37Rv_day32        13   \n",
       "6         Rv3594                    Rv3594_KO_vs_Rubin_FLUTE_WT        24   \n",
       "7         Rv3684                             Rv3684_KO_vs_CB_WT         2   \n",
       "8         Rv3717                    Rv3717_KO_vs_Rubin_FLUTE_WT        67   \n",
       "9         Rv3811                    Rv3811_KO_vs_Rubin_FLUTE_WT        26   \n",
       "10          marP                             marP_KO_vs_marP_WT       260   \n",
       "\n",
       "    both_nonCES  CES_old_nonCES_new  nonCES_old_CES_new  \n",
       "0          3433                 543                   7  \n",
       "1          3652                 280                  48  \n",
       "2          3971                   5                   1  \n",
       "3          3910                  12                  28  \n",
       "4          3972                   7                   0  \n",
       "5          3532                 445                   0  \n",
       "6          3954                  11                   1  \n",
       "7          3987                   1                   0  \n",
       "8          3901                  22                   0  \n",
       "9          3949                  15                   0  \n",
       "10         3717                  10                   3  "
      ]
     },
     "execution_count": 113,
     "metadata": {},
     "output_type": "execute_result"
    }
   ],
   "source": [
    "df_map"
   ]
  },
  {
   "cell_type": "markdown",
   "metadata": {},
   "source": [
    "* Why are the two datasets so different? \n",
    "* Did Michael use a different control screen?\n",
    "* Where did those FLUTE files come from? \n",
    "    * They come from the .dat files I downloaded directly from FLUTE."
   ]
  },
  {
   "cell_type": "markdown",
   "metadata": {},
   "source": [
    "### Griffing cholesterol:"
   ]
  },
  {
   "cell_type": "code",
   "execution_count": 19,
   "metadata": {},
   "outputs": [],
   "source": [
    "cols = col_map[0]\n",
    "df_bin_col = df_bin[['Rv_ID', cols[1]]].copy()\n",
    "df_old_col = df_old[['Rv_ID', cols[0]]].copy()\n",
    "df_bin_both = df_bin_col.merge(df_old_col, how = 'inner', on = 'Rv_ID')"
   ]
  },
  {
   "cell_type": "code",
   "execution_count": 20,
   "metadata": {},
   "outputs": [],
   "source": [
    "df_CES_old_nonCES_new = df_bin_both[ (df_bin_both[cols[0]]==1) & (df_bin_both[cols[1]]==0) ]\n",
    "df_nonCES_old_CES_new = df_bin_both[ (df_bin_both[cols[0]]==0) & (df_bin_both[cols[1]]==1) ]"
   ]
  },
  {
   "cell_type": "markdown",
   "metadata": {},
   "source": [
    "Get the gene names:"
   ]
  },
  {
   "cell_type": "code",
   "execution_count": 26,
   "metadata": {},
   "outputs": [],
   "source": [
    "file_mbio = '../../data/SI_datasets/2017A_DeJesus_Iorger/table_1.xlsx'\n",
    "df_mbio = pd.read_excel(file_mbio)\n",
    "df_mbio = df_mbio[['Rv_ID', 'Name']]"
   ]
  },
  {
   "cell_type": "code",
   "execution_count": 35,
   "metadata": {},
   "outputs": [],
   "source": [
    "df_CES_old_nonCES_new_wNames = df_CES_old_nonCES_new.merge(df_mbio, how = 'inner', on = 'Rv_ID')\n",
    "df_CES_old_nonCES_new_wNames = df_CES_old_nonCES_new_wNames[['Rv_ID', 'Name', 'griffin_cholesterol_vs_griffin_glycerol', '2011_Griffin_2']]\n",
    "\n",
    "file_out = '../../dep/data/sanity_check_griffin_CES_OLD_nonCES_NEW.csv'\n",
    "df_CES_old_nonCES_new_wNames.to_csv(file_out, index = False)"
   ]
  },
  {
   "cell_type": "code",
   "execution_count": 36,
   "metadata": {},
   "outputs": [],
   "source": [
    "df_nonCES_old_CES_new_wNames = df_nonCES_old_CES_new.merge(df_mbio, how = 'inner', on = 'Rv_ID')\n",
    "df_nonCES_old_CES_new_wNames = df_nonCES_old_CES_new_wNames[['Rv_ID', 'Name', 'griffin_cholesterol_vs_griffin_glycerol', '2011_Griffin_2']]\n",
    "\n",
    "file_out = '../../dep/data/sanity_check_griffin_nonCES_OLD_CES_NEW.csv'\n",
    "df_nonCES_old_CES_new_wNames.to_csv(file_out, index = False)"
   ]
  },
  {
   "cell_type": "code",
   "execution_count": 38,
   "metadata": {},
   "outputs": [
    {
     "data": {
      "text/html": [
       "<div>\n",
       "<style scoped>\n",
       "    .dataframe tbody tr th:only-of-type {\n",
       "        vertical-align: middle;\n",
       "    }\n",
       "\n",
       "    .dataframe tbody tr th {\n",
       "        vertical-align: top;\n",
       "    }\n",
       "\n",
       "    .dataframe thead th {\n",
       "        text-align: right;\n",
       "    }\n",
       "</style>\n",
       "<table border=\"1\" class=\"dataframe\">\n",
       "  <thead>\n",
       "    <tr style=\"text-align: right;\">\n",
       "      <th></th>\n",
       "      <th>Rv_ID</th>\n",
       "      <th>Name</th>\n",
       "      <th>griffin_cholesterol_vs_griffin_glycerol</th>\n",
       "      <th>2011_Griffin_2</th>\n",
       "    </tr>\n",
       "  </thead>\n",
       "  <tbody>\n",
       "    <tr>\n",
       "      <td>0</td>\n",
       "      <td>Rv0009</td>\n",
       "      <td>ppiA</td>\n",
       "      <td>0.0</td>\n",
       "      <td>1</td>\n",
       "    </tr>\n",
       "    <tr>\n",
       "      <td>1</td>\n",
       "      <td>Rv0153c</td>\n",
       "      <td>ptbB</td>\n",
       "      <td>0.0</td>\n",
       "      <td>1</td>\n",
       "    </tr>\n",
       "    <tr>\n",
       "      <td>2</td>\n",
       "      <td>Rv0202c</td>\n",
       "      <td>mmpL11</td>\n",
       "      <td>0.0</td>\n",
       "      <td>1</td>\n",
       "    </tr>\n",
       "    <tr>\n",
       "      <td>3</td>\n",
       "      <td>Rv0655</td>\n",
       "      <td>mkl</td>\n",
       "      <td>0.0</td>\n",
       "      <td>1</td>\n",
       "    </tr>\n",
       "    <tr>\n",
       "      <td>4</td>\n",
       "      <td>Rv0695</td>\n",
       "      <td>-</td>\n",
       "      <td>0.0</td>\n",
       "      <td>1</td>\n",
       "    </tr>\n",
       "    <tr>\n",
       "      <td>5</td>\n",
       "      <td>Rv0696</td>\n",
       "      <td>-</td>\n",
       "      <td>0.0</td>\n",
       "      <td>1</td>\n",
       "    </tr>\n",
       "    <tr>\n",
       "      <td>6</td>\n",
       "      <td>Rv0876c</td>\n",
       "      <td>-</td>\n",
       "      <td>0.0</td>\n",
       "      <td>1</td>\n",
       "    </tr>\n",
       "    <tr>\n",
       "      <td>7</td>\n",
       "      <td>Rv1071c</td>\n",
       "      <td>echA9</td>\n",
       "      <td>0.0</td>\n",
       "      <td>1</td>\n",
       "    </tr>\n",
       "    <tr>\n",
       "      <td>8</td>\n",
       "      <td>Rv1084</td>\n",
       "      <td>-</td>\n",
       "      <td>0.0</td>\n",
       "      <td>1</td>\n",
       "    </tr>\n",
       "    <tr>\n",
       "      <td>9</td>\n",
       "      <td>Rv1096</td>\n",
       "      <td>-</td>\n",
       "      <td>0.0</td>\n",
       "      <td>1</td>\n",
       "    </tr>\n",
       "    <tr>\n",
       "      <td>10</td>\n",
       "      <td>Rv1608c</td>\n",
       "      <td>bcpB</td>\n",
       "      <td>0.0</td>\n",
       "      <td>1</td>\n",
       "    </tr>\n",
       "    <tr>\n",
       "      <td>11</td>\n",
       "      <td>Rv1798</td>\n",
       "      <td>eccA5</td>\n",
       "      <td>0.0</td>\n",
       "      <td>1</td>\n",
       "    </tr>\n",
       "    <tr>\n",
       "      <td>12</td>\n",
       "      <td>Rv1906c</td>\n",
       "      <td>-</td>\n",
       "      <td>0.0</td>\n",
       "      <td>1</td>\n",
       "    </tr>\n",
       "    <tr>\n",
       "      <td>13</td>\n",
       "      <td>Rv1919c</td>\n",
       "      <td>-</td>\n",
       "      <td>0.0</td>\n",
       "      <td>1</td>\n",
       "    </tr>\n",
       "    <tr>\n",
       "      <td>14</td>\n",
       "      <td>Rv2118c</td>\n",
       "      <td>-</td>\n",
       "      <td>0.0</td>\n",
       "      <td>1</td>\n",
       "    </tr>\n",
       "    <tr>\n",
       "      <td>15</td>\n",
       "      <td>Rv2206</td>\n",
       "      <td>-</td>\n",
       "      <td>0.0</td>\n",
       "      <td>1</td>\n",
       "    </tr>\n",
       "    <tr>\n",
       "      <td>16</td>\n",
       "      <td>Rv2239c</td>\n",
       "      <td>-</td>\n",
       "      <td>0.0</td>\n",
       "      <td>1</td>\n",
       "    </tr>\n",
       "    <tr>\n",
       "      <td>17</td>\n",
       "      <td>Rv2416c</td>\n",
       "      <td>eis</td>\n",
       "      <td>0.0</td>\n",
       "      <td>1</td>\n",
       "    </tr>\n",
       "    <tr>\n",
       "      <td>18</td>\n",
       "      <td>Rv2668</td>\n",
       "      <td>-</td>\n",
       "      <td>0.0</td>\n",
       "      <td>1</td>\n",
       "    </tr>\n",
       "    <tr>\n",
       "      <td>19</td>\n",
       "      <td>Rv2681</td>\n",
       "      <td>-</td>\n",
       "      <td>0.0</td>\n",
       "      <td>1</td>\n",
       "    </tr>\n",
       "    <tr>\n",
       "      <td>20</td>\n",
       "      <td>Rv2710</td>\n",
       "      <td>sigB</td>\n",
       "      <td>0.0</td>\n",
       "      <td>1</td>\n",
       "    </tr>\n",
       "    <tr>\n",
       "      <td>21</td>\n",
       "      <td>Rv2799</td>\n",
       "      <td>-</td>\n",
       "      <td>0.0</td>\n",
       "      <td>1</td>\n",
       "    </tr>\n",
       "    <tr>\n",
       "      <td>22</td>\n",
       "      <td>Rv2914c</td>\n",
       "      <td>pknI</td>\n",
       "      <td>0.0</td>\n",
       "      <td>1</td>\n",
       "    </tr>\n",
       "    <tr>\n",
       "      <td>23</td>\n",
       "      <td>Rv2985</td>\n",
       "      <td>mutT1</td>\n",
       "      <td>0.0</td>\n",
       "      <td>1</td>\n",
       "    </tr>\n",
       "    <tr>\n",
       "      <td>24</td>\n",
       "      <td>Rv3050c</td>\n",
       "      <td>-</td>\n",
       "      <td>0.0</td>\n",
       "      <td>1</td>\n",
       "    </tr>\n",
       "    <tr>\n",
       "      <td>25</td>\n",
       "      <td>Rv3274c</td>\n",
       "      <td>fadE25</td>\n",
       "      <td>0.0</td>\n",
       "      <td>1</td>\n",
       "    </tr>\n",
       "    <tr>\n",
       "      <td>26</td>\n",
       "      <td>Rv3419c</td>\n",
       "      <td>gcp</td>\n",
       "      <td>0.0</td>\n",
       "      <td>1</td>\n",
       "    </tr>\n",
       "    <tr>\n",
       "      <td>27</td>\n",
       "      <td>Rv3515c</td>\n",
       "      <td>fadD19</td>\n",
       "      <td>0.0</td>\n",
       "      <td>1</td>\n",
       "    </tr>\n",
       "    <tr>\n",
       "      <td>28</td>\n",
       "      <td>Rv3534c</td>\n",
       "      <td>hsaF</td>\n",
       "      <td>0.0</td>\n",
       "      <td>1</td>\n",
       "    </tr>\n",
       "    <tr>\n",
       "      <td>29</td>\n",
       "      <td>Rv3536c</td>\n",
       "      <td>hsaE</td>\n",
       "      <td>0.0</td>\n",
       "      <td>1</td>\n",
       "    </tr>\n",
       "    <tr>\n",
       "      <td>30</td>\n",
       "      <td>Rv3548c</td>\n",
       "      <td>-</td>\n",
       "      <td>0.0</td>\n",
       "      <td>1</td>\n",
       "    </tr>\n",
       "    <tr>\n",
       "      <td>31</td>\n",
       "      <td>Rv3572</td>\n",
       "      <td>-</td>\n",
       "      <td>0.0</td>\n",
       "      <td>1</td>\n",
       "    </tr>\n",
       "    <tr>\n",
       "      <td>32</td>\n",
       "      <td>Rv3573c</td>\n",
       "      <td>fadE34</td>\n",
       "      <td>0.0</td>\n",
       "      <td>1</td>\n",
       "    </tr>\n",
       "    <tr>\n",
       "      <td>33</td>\n",
       "      <td>Rv3779</td>\n",
       "      <td>-</td>\n",
       "      <td>0.0</td>\n",
       "      <td>1</td>\n",
       "    </tr>\n",
       "    <tr>\n",
       "      <td>34</td>\n",
       "      <td>Rv3820c</td>\n",
       "      <td>papA2</td>\n",
       "      <td>0.0</td>\n",
       "      <td>1</td>\n",
       "    </tr>\n",
       "    <tr>\n",
       "      <td>35</td>\n",
       "      <td>Rv3824c</td>\n",
       "      <td>papA1</td>\n",
       "      <td>0.0</td>\n",
       "      <td>1</td>\n",
       "    </tr>\n",
       "    <tr>\n",
       "      <td>36</td>\n",
       "      <td>Rv3911</td>\n",
       "      <td>sigM</td>\n",
       "      <td>0.0</td>\n",
       "      <td>1</td>\n",
       "    </tr>\n",
       "  </tbody>\n",
       "</table>\n",
       "</div>"
      ],
      "text/plain": [
       "      Rv_ID    Name  griffin_cholesterol_vs_griffin_glycerol  2011_Griffin_2\n",
       "0    Rv0009    ppiA                                      0.0               1\n",
       "1   Rv0153c    ptbB                                      0.0               1\n",
       "2   Rv0202c  mmpL11                                      0.0               1\n",
       "3    Rv0655     mkl                                      0.0               1\n",
       "4    Rv0695       -                                      0.0               1\n",
       "5    Rv0696       -                                      0.0               1\n",
       "6   Rv0876c       -                                      0.0               1\n",
       "7   Rv1071c   echA9                                      0.0               1\n",
       "8    Rv1084       -                                      0.0               1\n",
       "9    Rv1096       -                                      0.0               1\n",
       "10  Rv1608c    bcpB                                      0.0               1\n",
       "11   Rv1798   eccA5                                      0.0               1\n",
       "12  Rv1906c       -                                      0.0               1\n",
       "13  Rv1919c       -                                      0.0               1\n",
       "14  Rv2118c       -                                      0.0               1\n",
       "15   Rv2206       -                                      0.0               1\n",
       "16  Rv2239c       -                                      0.0               1\n",
       "17  Rv2416c     eis                                      0.0               1\n",
       "18   Rv2668       -                                      0.0               1\n",
       "19   Rv2681       -                                      0.0               1\n",
       "20   Rv2710    sigB                                      0.0               1\n",
       "21   Rv2799       -                                      0.0               1\n",
       "22  Rv2914c    pknI                                      0.0               1\n",
       "23   Rv2985   mutT1                                      0.0               1\n",
       "24  Rv3050c       -                                      0.0               1\n",
       "25  Rv3274c  fadE25                                      0.0               1\n",
       "26  Rv3419c     gcp                                      0.0               1\n",
       "27  Rv3515c  fadD19                                      0.0               1\n",
       "28  Rv3534c    hsaF                                      0.0               1\n",
       "29  Rv3536c    hsaE                                      0.0               1\n",
       "30  Rv3548c       -                                      0.0               1\n",
       "31   Rv3572       -                                      0.0               1\n",
       "32  Rv3573c  fadE34                                      0.0               1\n",
       "33   Rv3779       -                                      0.0               1\n",
       "34  Rv3820c   papA2                                      0.0               1\n",
       "35  Rv3824c   papA1                                      0.0               1\n",
       "36   Rv3911    sigM                                      0.0               1"
      ]
     },
     "execution_count": 38,
     "metadata": {},
     "output_type": "execute_result"
    }
   ],
   "source": [
    "df_CES_old_nonCES_new_wNames"
   ]
  },
  {
   "cell_type": "markdown",
   "metadata": {},
   "source": [
    "### Korte 2016:"
   ]
  },
  {
   "cell_type": "code",
   "execution_count": 59,
   "metadata": {},
   "outputs": [],
   "source": [
    "cols = [cm for cm in col_map if 'Korte' in cm[0]][0]\n",
    "df_bin_col = df_bin[['Rv_ID', cols[1]]].copy()\n",
    "df_old_col = df_old[['Rv_ID', cols[0]]].copy()\n",
    "df_bin_both = df_bin_col.merge(df_old_col, how = 'inner', on = 'Rv_ID')"
   ]
  },
  {
   "cell_type": "markdown",
   "metadata": {},
   "source": [
    "CES in the old dataset, but not the new one: "
   ]
  },
  {
   "cell_type": "code",
   "execution_count": 63,
   "metadata": {},
   "outputs": [
    {
     "data": {
      "text/plain": [
       "array(['Rv0012', 'Rv0092', 'Rv0166', 'Rv0169', 'Rv0191', 'Rv0210',\n",
       "       'Rv0234c', 'Rv0244c', 'Rv0263c', 'Rv0270', 'Rv0279c', 'Rv0280',\n",
       "       'Rv0281', 'Rv0386', 'Rv0443', 'Rv0449c', 'Rv0483', 'Rv0492c',\n",
       "       'Rv0501', 'Rv0570', 'Rv0574c', 'Rv0613c', 'Rv0630c', 'Rv0727c',\n",
       "       'Rv0746', 'Rv0747', 'Rv0754', 'Rv0767c', 'Rv0782', 'Rv0861c',\n",
       "       'Rv0877', 'Rv0889c', 'Rv0890c', 'Rv0914c', 'Rv0976c', 'Rv1180',\n",
       "       'Rv1181', 'Rv1206', 'Rv1212c', 'Rv1232c', 'Rv1235', 'Rv1236',\n",
       "       'Rv1238', 'Rv1244', 'Rv1262c', 'Rv1266c', 'Rv1283c', 'Rv1323',\n",
       "       'Rv1442', 'Rv1632c', 'Rv1710', 'Rv1727', 'Rv1737c', 'Rv1745c',\n",
       "       'Rv1768', 'Rv1770', 'Rv1795', 'Rv1796', 'Rv1820', 'Rv1823',\n",
       "       'Rv1836c', 'Rv1840c', 'Rv1864c', 'Rv1902c', 'Rv1908c', 'Rv1910c',\n",
       "       'Rv1971', 'Rv1991c', 'Rv2000', 'Rv2052c', 'Rv2065', 'Rv2066',\n",
       "       'Rv2074', 'Rv2115c', 'Rv2159c', 'Rv2209', 'Rv2214c', 'Rv2224c',\n",
       "       'Rv2236c', 'Rv2241', 'Rv2328', 'Rv2329c', 'Rv2394', 'Rv2458',\n",
       "       'Rv2487c', 'Rv2559c', 'Rv2564', 'Rv2615c', 'Rv2636', 'Rv2681',\n",
       "       'Rv2690c', 'Rv2800', 'Rv2859c', 'Rv2860c', 'Rv2896c', 'Rv2917',\n",
       "       'Rv2930', 'Rv2931', 'Rv2932', 'Rv2933', 'Rv2934', 'Rv2935',\n",
       "       'Rv2940c', 'Rv2941', 'Rv2967c', 'Rv3059', 'Rv3119', 'Rv3196',\n",
       "       'Rv3220c', 'Rv3263', 'Rv3296', 'Rv3308', 'Rv3312c', 'Rv3329',\n",
       "       'Rv3345c', 'Rv3388', 'Rv3414c', 'Rv3450c', 'Rv3479', 'Rv3507',\n",
       "       'Rv3512', 'Rv3563', 'Rv3575c', 'Rv3590c', 'Rv3649', 'Rv3657c',\n",
       "       'Rv3664c', 'Rv3728', 'Rv3731', 'Rv3787c', 'Rv3822', 'Rv3824c',\n",
       "       'Rv3825c', 'Rv3903c'], dtype=object)"
      ]
     },
     "execution_count": 63,
     "metadata": {},
     "output_type": "execute_result"
    }
   ],
   "source": [
    "df_bin_both[ (df_bin_both[cols[0]]==1) & (df_bin_both[cols[1]]==0) ].Rv_ID.values"
   ]
  },
  {
   "cell_type": "markdown",
   "metadata": {},
   "source": [
    "# 08/01/2020 from Michael: \n",
    "#### \"comparing one of the conditions, with different flags for the resampling (e.g. LOESS, ignoring N/C terminal sites), which may explain discrepancies.\" "
   ]
  },
  {
   "cell_type": "code",
   "execution_count": 94,
   "metadata": {},
   "outputs": [],
   "source": [
    "path_data_temp = '../../data/standardized_data/'\n",
    "file_663_1 = os.path.join(path_data_temp, 'result_resampling_carey_663_vs_carey_rv_LOESS.txt')\n",
    "file_663_2 = os.path.join(path_data_temp, 'result_resampling_carey_663_vs_carey_rv_LOESS_term15.txt')\n",
    "file_663_3 = os.path.join(path_data_temp, 'result_resampling_carey_663_vs_carey_rv_LOESS_term15_2.txt')\n",
    "\n",
    "list_files = [file_663_1, file_663_2, file_663_3]\n",
    "\n",
    "list_file_names = ['663_'+f.split('rv_')[-1].split('.')[0] for f in list_files]"
   ]
  },
  {
   "cell_type": "markdown",
   "metadata": {},
   "source": [
    "Testing with one dataset:"
   ]
  },
  {
   "cell_type": "code",
   "execution_count": 98,
   "metadata": {},
   "outputs": [],
   "source": [
    "def file_to_bin(file, col):\n",
    "    \n",
    "    df = pd.read_csv(file, sep = '\\t', skiprows=[0, 1, 2, 3, 4, 5])\n",
    "    df.rename(columns = {'#Orf':'Rv_ID'}, inplace=True)\n",
    "    df = df[['Rv_ID', 'log2FC', 'Adj. p-value']]\n",
    "\n",
    "    df_qvals = df[['Rv_ID', 'Adj. p-value']].copy()\n",
    "    df_qvals.rename(columns = {'Adj. p-value': col}, inplace = True)\n",
    "    df_log2fc = df[['Rv_ID', 'log2FC']].copy()\n",
    "    df_log2fc.rename(columns = {'log2FC': col}, inplace = True)\n",
    "    df_bin = df_qvals.copy()\n",
    "\n",
    "    # binarize\n",
    "    # set thresholds\n",
    "    qval_thresh = 0.05\n",
    "    log2fc_tresh = 1\n",
    "    # binarize\n",
    "    df_bin.loc[ (df_qvals[col] <= qval_thresh) & (df_log2fc[col].abs() >= log2fc_tresh), col ] = 1\n",
    "    df_bin.loc[ (df_qvals[col] > qval_thresh), col ] = 0  \n",
    "    df_bin.loc[(df_log2fc[col].abs() < log2fc_tresh), col] = 0\n",
    "    \n",
    "    return df_bin, df_log2fc, df_qvals\n"
   ]
  },
  {
   "cell_type": "code",
   "execution_count": 99,
   "metadata": {},
   "outputs": [
    {
     "name": "stdout",
     "output_type": "stream",
     "text": [
      "../../data/standardized_data/result_resampling_carey_663_vs_carey_rv_LOESS.txt\n",
      "Excluded 6 genes deleted in strain: 663\n",
      "Excluded 0 genes in duplicated region of strain: 663 \n",
      "\n",
      "../../data/standardized_data/result_resampling_carey_663_vs_carey_rv_LOESS_term15.txt\n",
      "Excluded 6 genes deleted in strain: 663\n",
      "Excluded 0 genes in duplicated region of strain: 663 \n",
      "\n",
      "../../data/standardized_data/result_resampling_carey_663_vs_carey_rv_LOESS_term15_2.txt\n",
      "Excluded 6 genes deleted in strain: 663\n",
      "Excluded 0 genes in duplicated region of strain: 663 \n",
      "\n"
     ]
    }
   ],
   "source": [
    "#file = list_files[0]\n",
    "list_num_both_CES = []\n",
    "list_num_both_nonCES = []\n",
    "list_num_CES_old_nonCES_new = []\n",
    "list_num_nonCES_old_CES_new = []\n",
    "col = cols[-1]\n",
    "\n",
    "for i in range(len(list_files)):\n",
    "    file = list_files[i]\n",
    "    print(file)\n",
    "    df_bin, df_log2fc, df_qvals = file_to_bin(file, col)\n",
    "    # Compare SI data vs. Michael's new data:\n",
    "\n",
    "    key_strain = cols[1].split('_')[1]\n",
    "    df_bin_col = df_bin[['Rv_ID', cols[1]]].copy()\n",
    "    df_old_col = df_old[['Rv_ID', cols[0]]].copy()\n",
    "    df_bin_both = df_bin_col.merge(df_old_col, how = 'inner', on = 'Rv_ID')\n",
    "\n",
    "    # excluding repetitive genes (same across all clinical strains)\n",
    "    df_bin_both = df_bin_both[~df_bin_both.Rv_ID.isin(df_rep.Rv_ID)]\n",
    "\n",
    "    # excluding deleted genes (strain specific)\n",
    "    df_del = dict_df_del[key_strain]\n",
    "    df_bin_both = df_bin_both[~df_bin_both.Rv_ID.isin(df_del.Rv_ID)]\n",
    "    print('Excluded', df_del.shape[0], 'genes deleted in strain:', key_strain )\n",
    "\n",
    "    # excluding genes in duplicated regions (same across all clinical strains)\n",
    "    list_dup = dict_list_dup[key_strain]\n",
    "    df_bin_both = df_bin_both[~df_bin_both.Rv_ID.isin(list_dup)]\n",
    "    print('Excluded', len(list_dup), 'genes in duplicated region of strain:', key_strain, '\\n' )\n",
    "    \n",
    "    #####\n",
    "    file_out = os.path.join('../../dep/data/', list_file_names[i]+'.xlsx')\n",
    "    writer = pd.ExcelWriter(file_out, engine='xlsxwriter')\n",
    "    df_bin_both[ (df_bin_both[cols[0]]==1) & (df_bin_both[cols[1]]==0) ].to_excel(writer, sheet_name = 'CES_old_nonCES_new', index = False)\n",
    "    df_bin_both[ (df_bin_both[cols[0]]==0) & (df_bin_both[cols[1]]==1) ].to_excel(writer, sheet_name = 'nonCES_old_CES_new', index = False)\n",
    "    writer.save()\n",
    "\n",
    "    num_both_CES = df_bin_both[ (df_bin_both[cols[0]]==1) & (df_bin_both[cols[1]]==1) ].shape[0]\n",
    "    num_both_nonCES = df_bin_both[ (df_bin_both[cols[0]]==0) & (df_bin_both[cols[1]]==0) ].shape[0]\n",
    "    num_CES_old_nonCES_new = df_bin_both[ (df_bin_both[cols[0]]==1) & (df_bin_both[cols[1]]==0) ].shape[0]\n",
    "    num_nonCES_old_CES_new = df_bin_both[ (df_bin_both[cols[0]]==0) & (df_bin_both[cols[1]]==1) ].shape[0]\n",
    "    \n",
    "    list_num_both_CES.append(num_both_CES)\n",
    "    list_num_both_nonCES.append(num_both_nonCES)\n",
    "    list_num_CES_old_nonCES_new.append(num_CES_old_nonCES_new)\n",
    "    list_num_nonCES_old_CES_new.append(num_nonCES_old_CES_new)\n",
    "    "
   ]
  },
  {
   "cell_type": "code",
   "execution_count": 117,
   "metadata": {},
   "outputs": [],
   "source": [
    "df_map = pd.DataFrame()\n",
    "df_map['screen'] = list_file_names\n",
    "df_map['both_CES'] = list_num_both_CES\n",
    "df_map['num_both_nonCES'] = list_num_both_nonCES\n",
    "df_map['num_CES_old_nonCES_new'] = list_num_CES_old_nonCES_new\n",
    "df_map['num_nonCES_old_CES_new'] = list_num_nonCES_old_CES_new\n",
    "\n",
    "file_out = '../../dep/data/sanity_check_Carey_663_08012020.csv'\n",
    "df_map.to_csv(file_out, index = False)"
   ]
  },
  {
   "cell_type": "code",
   "execution_count": null,
   "metadata": {},
   "outputs": [],
   "source": []
  }
 ],
 "metadata": {
  "kernelspec": {
   "display_name": "Python 3",
   "language": "python",
   "name": "python3"
  },
  "language_info": {
   "codemirror_mode": {
    "name": "ipython",
    "version": 3
   },
   "file_extension": ".py",
   "mimetype": "text/x-python",
   "name": "python",
   "nbconvert_exporter": "python",
   "pygments_lexer": "ipython3",
   "version": "3.6.6"
  }
 },
 "nbformat": 4,
 "nbformat_minor": 4
}
