{
 "cells": [
  {
   "cell_type": "code",
   "execution_count": 1,
   "metadata": {},
   "outputs": [],
   "source": [
    "import pandas as pd\n",
    "import os"
   ]
  },
  {
   "cell_type": "code",
   "execution_count": 5,
   "metadata": {},
   "outputs": [],
   "source": [
    "file_SI_old = '../../dep/data/Tn_library_DB_qval_log2FC.xlsx'"
   ]
  },
  {
   "cell_type": "code",
   "execution_count": 6,
   "metadata": {},
   "outputs": [],
   "source": [
    "df_SI_old = pd.read_excel(file_SI_old) "
   ]
  },
  {
   "cell_type": "code",
   "execution_count": 15,
   "metadata": {},
   "outputs": [],
   "source": [
    "cols_qval = [col for col in df_SI_old.columns if 'q_val' in col]\n",
    "cols_log2FC = [col for col in df_SI_old.columns if 'log2' in col]\n",
    "cols_main = list(df_SI_old.columns[:2])"
   ]
  },
  {
   "cell_type": "code",
   "execution_count": 29,
   "metadata": {},
   "outputs": [],
   "source": [
    "df_SI_old_qval = df_SI_old[cols_main + cols_qval].copy()\n",
    "df_SI_old_log2FC = df_SI_old[cols_main + cols_log2FC].copy()"
   ]
  },
  {
   "cell_type": "code",
   "execution_count": 30,
   "metadata": {},
   "outputs": [],
   "source": [
    "col_names_new_log2FC = dict([(cols_log2FC[i], col_names_new[i]) for i in range(len(cols_log2FC))])\n",
    "col_names_new_qval = dict([(cols_qval[i], col_names_new[i]) for i in range(len(cols_qval))])"
   ]
  },
  {
   "cell_type": "code",
   "execution_count": 32,
   "metadata": {},
   "outputs": [],
   "source": [
    "df_SI_old_qval.rename(columns=col_names_new_qval, inplace = True)\n",
    "df_SI_old_log2FC.rename(columns=col_names_new_log2FC, inplace = True)"
   ]
  },
  {
   "cell_type": "markdown",
   "metadata": {},
   "source": [
    "Save to file: "
   ]
  },
  {
   "cell_type": "code",
   "execution_count": 35,
   "metadata": {},
   "outputs": [],
   "source": [
    "path = '../../data/SI_datasets/'\n",
    "\n",
    "file_SI_qval = os.path.join(path, 'SI_qval.csv')\n",
    "file_SI_log2FC = os.path.join(path, 'SI_log2FC.csv')\n",
    "\n",
    "df_SI_old_qval.to_csv(file_SI_qval, index = False)\n",
    "df_SI_old_log2FC.to_csv(file_SI_log2FC, index = False)\n"
   ]
  },
  {
   "cell_type": "code",
   "execution_count": null,
   "metadata": {},
   "outputs": [],
   "source": []
  }
 ],
 "metadata": {
  "kernelspec": {
   "display_name": "Python 3",
   "language": "python",
   "name": "python3"
  },
  "language_info": {
   "codemirror_mode": {
    "name": "ipython",
    "version": 3
   },
   "file_extension": ".py",
   "mimetype": "text/x-python",
   "name": "python",
   "nbconvert_exporter": "python",
   "pygments_lexer": "ipython3",
   "version": "3.7.4"
  }
 },
 "nbformat": 4,
 "nbformat_minor": 4
}
