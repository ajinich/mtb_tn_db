{
 "cells": [
  {
   "cell_type": "code",
   "execution_count": 1,
   "metadata": {},
   "outputs": [],
   "source": [
    "import pandas as pd\n",
    "import os"
   ]
  },
  {
   "cell_type": "code",
   "execution_count": 2,
   "metadata": {},
   "outputs": [],
   "source": [
    "file_SI_old = '../../data/SI_datasets/SI_qval_log2FC.xlsx'"
   ]
  },
  {
   "cell_type": "code",
   "execution_count": 3,
   "metadata": {},
   "outputs": [],
   "source": [
    "df_SI_old = pd.read_excel(file_SI_old) "
   ]
  },
  {
   "cell_type": "code",
   "execution_count": 4,
   "metadata": {},
   "outputs": [],
   "source": [
    "cols_qval = [col for col in df_SI_old.columns if 'q_val' in col]\n",
    "cols_log2FC = [col for col in df_SI_old.columns if 'log2' in col]\n",
    "cols_main = list(df_SI_old.columns[:2])\n",
    "\n",
    "col_names_new = [col.split('_log2FC')[0] for col in cols_log2FC]"
   ]
  },
  {
   "cell_type": "code",
   "execution_count": 5,
   "metadata": {},
   "outputs": [],
   "source": [
    "df_SI_old_qval = df_SI_old[cols_main + cols_qval].copy()\n",
    "df_SI_old_log2FC = df_SI_old[cols_main + cols_log2FC].copy()"
   ]
  },
  {
   "cell_type": "code",
   "execution_count": 6,
   "metadata": {},
   "outputs": [],
   "source": [
    "col_names_new_log2FC = dict([(cols_log2FC[i], col_names_new[i]) for i in range(len(cols_log2FC))])\n",
    "col_names_new_qval = dict([(cols_qval[i], col_names_new[i]) for i in range(len(cols_qval))])"
   ]
  },
  {
   "cell_type": "code",
   "execution_count": 7,
   "metadata": {},
   "outputs": [],
   "source": [
    "df_SI_old_qval.rename(columns=col_names_new_qval, inplace = True)\n",
    "df_SI_old_log2FC.rename(columns=col_names_new_log2FC, inplace = True)"
   ]
  },
  {
   "cell_type": "code",
   "execution_count": 8,
   "metadata": {},
   "outputs": [
    {
     "data": {
      "text/plain": [
       "Index(['Rv_ID', 'gene_name', '2003A_Sassetti', '2003B_Sassetti',\n",
       "       '2005_Rengarajan', '2006_Joshi_GI_1', '2006_Joshi_GI_2',\n",
       "       '2011_Griffin_2', '2013_Zhang_1A', '2013_Zhang_1B', '2013_Zhang_2',\n",
       "       '2013_Zhang_3A', '2013_Zhang_3B', '2013_Zhang_3C', '2013_Zhang_3D',\n",
       "       '2016_Korte', '2018_Rittershaus_1A', '2018_Rittershaus_1B',\n",
       "       '2012_Zhang', '2015_Kieser_GI_1', '2015_Kieser_GI_2',\n",
       "       '2015_Kieser_GI_3', '2015_Mendum', '2016_Nambi', '2017_Mishra_1',\n",
       "       '2017_Mishra_2', '2017_Xu_1A', '2017_Xu_1B', '2017_Xu_1C', '2017_Xu_1D',\n",
       "       '2017_Xu_1E', '2018_Carey_1A', '2018_Carey_1B', '2018_Carey_1C',\n",
       "       '2018_Carey_1D', '2018_Carey_1E', '2018_Carey_1F', '2018_Carey_1G',\n",
       "       '2018_Carey_1H', '2017B_DeJesus_1A', '2017B_DeJesus_1B',\n",
       "       '2017B_DeJesus_1C', 'marP', 'Rv0950', 'Rv3916c', 'Rv0307c', 'Rv3717',\n",
       "       'ponA1', 'Rv1565c', 'Rv3684', 'Rv0954', 'Rv3811', 'Rv1096', 'Rv2680',\n",
       "       'Rv1432', 'Rv3594', 'Rv3005c'],\n",
       "      dtype='object')"
      ]
     },
     "execution_count": 8,
     "metadata": {},
     "output_type": "execute_result"
    }
   ],
   "source": [
    "df_SI_old_qval.columns"
   ]
  },
  {
   "cell_type": "markdown",
   "metadata": {},
   "source": [
    "Save to file: "
   ]
  },
  {
   "cell_type": "code",
   "execution_count": 34,
   "metadata": {},
   "outputs": [],
   "source": [
    "path = '../../data/SI_datasets/'\n",
    "\n",
    "file_SI_qval = os.path.join(path, 'SI_qval.csv')\n",
    "file_SI_log2FC = os.path.join(path, 'SI_log2FC.csv')\n",
    "\n",
    "df_SI_old_qval.to_csv(file_SI_qval, index = False)\n",
    "df_SI_old_log2FC.to_csv(file_SI_log2FC, index = False)\n"
   ]
  },
  {
   "cell_type": "code",
   "execution_count": null,
   "metadata": {},
   "outputs": [],
   "source": []
  }
 ],
 "metadata": {
  "kernelspec": {
   "display_name": "Python 3",
   "language": "python",
   "name": "python3"
  },
  "language_info": {
   "codemirror_mode": {
    "name": "ipython",
    "version": 3
   },
   "file_extension": ".py",
   "mimetype": "text/x-python",
   "name": "python",
   "nbconvert_exporter": "python",
   "pygments_lexer": "ipython3",
   "version": "3.7.4"
  }
 },
 "nbformat": 4,
 "nbformat_minor": 4
}
