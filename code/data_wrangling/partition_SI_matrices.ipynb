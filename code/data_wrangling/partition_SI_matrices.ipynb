{
 "cells": [
  {
   "cell_type": "code",
   "execution_count": 50,
   "metadata": {},
   "outputs": [],
   "source": [
    "import pandas as pd\n",
    "import os"
   ]
  },
  {
   "cell_type": "code",
   "execution_count": 51,
   "metadata": {},
   "outputs": [],
   "source": [
    "file_SI_old = '../../data/SI_datasets/SI_qval_log2FC.xlsx'"
   ]
  },
  {
   "cell_type": "code",
   "execution_count": 52,
   "metadata": {},
   "outputs": [],
   "source": [
    "df_SI_old = pd.read_excel(file_SI_old) "
   ]
  },
  {
   "cell_type": "code",
   "execution_count": 53,
   "metadata": {},
   "outputs": [],
   "source": [
    "cols_qval = [col for col in df_SI_old.columns if 'q_val' in col]\n",
    "cols_log2FC = [col for col in df_SI_old.columns if 'log2' in col]\n",
    "cols_main = list(df_SI_old.columns[:2])\n",
    "\n",
    "col_names_new = [col.split('_log2FC')[0] for col in cols_log2FC]"
   ]
  },
  {
   "cell_type": "code",
   "execution_count": 54,
   "metadata": {},
   "outputs": [],
   "source": [
    "df_SI_old_qval = df_SI_old[cols_main + cols_qval].copy()\n",
    "df_SI_old_log2FC = df_SI_old[cols_main + cols_log2FC].copy()"
   ]
  },
  {
   "cell_type": "code",
   "execution_count": 55,
   "metadata": {},
   "outputs": [],
   "source": [
    "col_names_new_log2FC = dict([(cols_log2FC[i], col_names_new[i]) for i in range(len(cols_log2FC))])\n",
    "col_names_new_qval = dict([(cols_qval[i], col_names_new[i]) for i in range(len(cols_qval))])"
   ]
  },
  {
   "cell_type": "code",
   "execution_count": 56,
   "metadata": {},
   "outputs": [],
   "source": [
    "df_SI_old_qval.rename(columns=col_names_new_qval, inplace = True)\n",
    "df_SI_old_log2FC.rename(columns=col_names_new_log2FC, inplace = True)"
   ]
  },
  {
   "cell_type": "code",
   "execution_count": 57,
   "metadata": {},
   "outputs": [
    {
     "data": {
      "text/plain": [
       "(3990, 57)"
      ]
     },
     "execution_count": 57,
     "metadata": {},
     "output_type": "execute_result"
    }
   ],
   "source": [
    "df_SI_old_qval.shape"
   ]
  },
  {
   "cell_type": "code",
   "execution_count": 58,
   "metadata": {},
   "outputs": [],
   "source": [
    "list_col_SI = list(df_SI_old_qval.columns[2:-15])\n",
    "df_SI_old_qval_noFLUTE = df_SI_old_qval[df_SI_old_qval.columns[:-15]]\n",
    "df_SI_old_log2FC_noFLUTE = df_SI_old_log2FC[df_SI_old_log2FC.columns[:-15]]\n",
    "# list_col_SI"
   ]
  },
  {
   "cell_type": "code",
   "execution_count": 59,
   "metadata": {},
   "outputs": [
    {
     "data": {
      "text/plain": [
       "(3990, 42)"
      ]
     },
     "execution_count": 59,
     "metadata": {},
     "output_type": "execute_result"
    }
   ],
   "source": [
    "df_SI_old_log2FC_noFLUTE.shape"
   ]
  },
  {
   "cell_type": "markdown",
   "metadata": {},
   "source": [
    "which ones are we missing in the metadata file? "
   ]
  },
  {
   "cell_type": "code",
   "execution_count": 60,
   "metadata": {},
   "outputs": [],
   "source": [
    "file_meta = '../../data/column_descriptors_standardized.xlsx'\n",
    "df_meta = pd.read_excel(file_meta)\n",
    "list_col_SI_meta = df_meta.column_ID_SI.to_list()"
   ]
  },
  {
   "cell_type": "code",
   "execution_count": 61,
   "metadata": {},
   "outputs": [
    {
     "data": {
      "text/plain": [
       "[]"
      ]
     },
     "execution_count": 61,
     "metadata": {},
     "output_type": "execute_result"
    }
   ],
   "source": [
    "list(set(list_col_SI) - set(list_col_SI_meta))\n"
   ]
  },
  {
   "cell_type": "markdown",
   "metadata": {},
   "source": [
    "Save to file: "
   ]
  },
  {
   "cell_type": "code",
   "execution_count": 62,
   "metadata": {},
   "outputs": [
    {
     "data": {
      "text/plain": [
       "(3990, 42)"
      ]
     },
     "execution_count": 62,
     "metadata": {},
     "output_type": "execute_result"
    }
   ],
   "source": [
    "df_SI_old_qval_noFLUTE.shape"
   ]
  },
  {
   "cell_type": "code",
   "execution_count": 63,
   "metadata": {},
   "outputs": [
    {
     "data": {
      "text/plain": [
       "(3990, 42)"
      ]
     },
     "execution_count": 63,
     "metadata": {},
     "output_type": "execute_result"
    }
   ],
   "source": [
    "df_SI_old_log2FC_noFLUTE.shape"
   ]
  },
  {
   "cell_type": "code",
   "execution_count": 64,
   "metadata": {},
   "outputs": [],
   "source": [
    "path = '../../data/SI_datasets/'\n",
    "\n",
    "file_SI_qval = os.path.join(path, 'SI_qval.csv')\n",
    "file_SI_log2FC = os.path.join(path, 'SI_log2FC.csv')\n",
    "\n",
    "df_SI_old_qval_noFLUTE.to_csv(file_SI_qval, index = False)\n",
    "df_SI_old_log2FC_noFLUTE.to_csv(file_SI_log2FC, index = False)\n"
   ]
  },
  {
   "cell_type": "code",
   "execution_count": 65,
   "metadata": {},
   "outputs": [
    {
     "data": {
      "text/plain": [
       "[]"
      ]
     },
     "execution_count": 65,
     "metadata": {},
     "output_type": "execute_result"
    }
   ],
   "source": [
    "[val for val in df_SI_old_qval_noFLUTE['2003B_Sassetti'].values if type(val)==str]"
   ]
  },
  {
   "cell_type": "code",
   "execution_count": null,
   "metadata": {},
   "outputs": [],
   "source": []
  }
 ],
 "metadata": {
  "kernelspec": {
   "display_name": "Python 3 (ipykernel)",
   "language": "python",
   "name": "python3"
  },
  "language_info": {
   "codemirror_mode": {
    "name": "ipython",
    "version": 3
   },
   "file_extension": ".py",
   "mimetype": "text/x-python",
   "name": "python",
   "nbconvert_exporter": "python",
   "pygments_lexer": "ipython3",
   "version": "3.8.12"
  }
 },
 "nbformat": 4,
 "nbformat_minor": 4
}
