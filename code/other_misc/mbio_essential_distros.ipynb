{
 "cells": [
  {
   "cell_type": "code",
   "execution_count": 132,
   "id": "395dc477-d655-414e-a57b-c6701cdb56cc",
   "metadata": {},
   "outputs": [],
   "source": [
    "import pandas as pd\n",
    "import matplotlib.pyplot as plt\n",
    "import numpy as np"
   ]
  },
  {
   "cell_type": "code",
   "execution_count": 170,
   "id": "48ec3c4b-c0b1-4582-85de-a30a4f485e41",
   "metadata": {},
   "outputs": [
    {
     "data": {
      "text/html": [
       "<div>\n",
       "<style scoped>\n",
       "    .dataframe tbody tr th:only-of-type {\n",
       "        vertical-align: middle;\n",
       "    }\n",
       "\n",
       "    .dataframe tbody tr th {\n",
       "        vertical-align: top;\n",
       "    }\n",
       "\n",
       "    .dataframe thead th {\n",
       "        text-align: right;\n",
       "    }\n",
       "</style>\n",
       "<table border=\"1\" class=\"dataframe\">\n",
       "  <thead>\n",
       "    <tr style=\"text-align: right;\">\n",
       "      <th></th>\n",
       "      <th>Rv_ID</th>\n",
       "      <th>PE35_KO_vs_mbio_H37Rv</th>\n",
       "      <th>PPE68_KO_vs_mbio_H37Rv</th>\n",
       "      <th>Rv0950c_KO_vs_CB_WT</th>\n",
       "      <th>Rv0954_KO_vs_RJ_WT</th>\n",
       "      <th>Rv1096_KO_vs_CB_WT</th>\n",
       "      <th>Rv3005c_KO_day32_vs_dejesus_H37Rv_day32</th>\n",
       "      <th>Rv3594_KO_vs_Rubin_FLUTE_WT</th>\n",
       "      <th>Rv3684_KO_vs_CB_WT</th>\n",
       "      <th>Rv3717_KO_vs_Rubin_FLUTE_WT</th>\n",
       "      <th>...</th>\n",
       "      <th>Cast.EiJ_vs_C57BL.6J</th>\n",
       "      <th>IFNG_vs_C57BL.6J</th>\n",
       "      <th>NOD.ShiLtJ_vs_C57BL.6J</th>\n",
       "      <th>NOS_vs_C57BL.6J</th>\n",
       "      <th>NZO.H1LtJ_vs_C57BL.6J</th>\n",
       "      <th>PWK.PhJ_vs_C57BL.6J</th>\n",
       "      <th>Phox_vs_C57BL.6J</th>\n",
       "      <th>Rag_vs_C57BL.6J</th>\n",
       "      <th>Wsb.Eij_vs_C57BL.6J</th>\n",
       "      <th>in_vitro_vs_C57BL.6J</th>\n",
       "    </tr>\n",
       "  </thead>\n",
       "  <tbody>\n",
       "    <tr>\n",
       "      <th>0</th>\n",
       "      <td>Rv0001</td>\n",
       "      <td>-0.41</td>\n",
       "      <td>0.01</td>\n",
       "      <td>0.0</td>\n",
       "      <td>0.0</td>\n",
       "      <td>0.0</td>\n",
       "      <td>3.12</td>\n",
       "      <td>-0.06</td>\n",
       "      <td>0.0</td>\n",
       "      <td>-0.06</td>\n",
       "      <td>...</td>\n",
       "      <td>0.0</td>\n",
       "      <td>0.0</td>\n",
       "      <td>0.0</td>\n",
       "      <td>0.0</td>\n",
       "      <td>0.0</td>\n",
       "      <td>0.22</td>\n",
       "      <td>0.0</td>\n",
       "      <td>0.0</td>\n",
       "      <td>0.00</td>\n",
       "      <td>0.0</td>\n",
       "    </tr>\n",
       "    <tr>\n",
       "      <th>1</th>\n",
       "      <td>Rv0002</td>\n",
       "      <td>3.28</td>\n",
       "      <td>2.38</td>\n",
       "      <td>0.0</td>\n",
       "      <td>0.0</td>\n",
       "      <td>0.0</td>\n",
       "      <td>0.00</td>\n",
       "      <td>0.00</td>\n",
       "      <td>0.0</td>\n",
       "      <td>0.00</td>\n",
       "      <td>...</td>\n",
       "      <td>0.0</td>\n",
       "      <td>0.0</td>\n",
       "      <td>0.0</td>\n",
       "      <td>0.0</td>\n",
       "      <td>0.0</td>\n",
       "      <td>0.00</td>\n",
       "      <td>0.0</td>\n",
       "      <td>0.0</td>\n",
       "      <td>0.27</td>\n",
       "      <td>0.0</td>\n",
       "    </tr>\n",
       "  </tbody>\n",
       "</table>\n",
       "<p>2 rows × 126 columns</p>\n",
       "</div>"
      ],
      "text/plain": [
       "    Rv_ID  PE35_KO_vs_mbio_H37Rv  PPE68_KO_vs_mbio_H37Rv  Rv0950c_KO_vs_CB_WT  \\\n",
       "0  Rv0001                  -0.41                    0.01                  0.0   \n",
       "1  Rv0002                   3.28                    2.38                  0.0   \n",
       "\n",
       "   Rv0954_KO_vs_RJ_WT  Rv1096_KO_vs_CB_WT  \\\n",
       "0                 0.0                 0.0   \n",
       "1                 0.0                 0.0   \n",
       "\n",
       "   Rv3005c_KO_day32_vs_dejesus_H37Rv_day32  Rv3594_KO_vs_Rubin_FLUTE_WT  \\\n",
       "0                                     3.12                        -0.06   \n",
       "1                                     0.00                         0.00   \n",
       "\n",
       "   Rv3684_KO_vs_CB_WT  Rv3717_KO_vs_Rubin_FLUTE_WT  ...  Cast.EiJ_vs_C57BL.6J  \\\n",
       "0                 0.0                        -0.06  ...                   0.0   \n",
       "1                 0.0                         0.00  ...                   0.0   \n",
       "\n",
       "   IFNG_vs_C57BL.6J  NOD.ShiLtJ_vs_C57BL.6J  NOS_vs_C57BL.6J  \\\n",
       "0               0.0                     0.0              0.0   \n",
       "1               0.0                     0.0              0.0   \n",
       "\n",
       "   NZO.H1LtJ_vs_C57BL.6J  PWK.PhJ_vs_C57BL.6J  Phox_vs_C57BL.6J  \\\n",
       "0                    0.0                 0.22               0.0   \n",
       "1                    0.0                 0.00               0.0   \n",
       "\n",
       "   Rag_vs_C57BL.6J  Wsb.Eij_vs_C57BL.6J  in_vitro_vs_C57BL.6J  \n",
       "0              0.0                 0.00                   0.0  \n",
       "1              0.0                 0.27                   0.0  \n",
       "\n",
       "[2 rows x 126 columns]"
      ]
     },
     "execution_count": 170,
     "metadata": {},
     "output_type": "execute_result"
    }
   ],
   "source": [
    "fn_lfc = '../../data/standardized_data/result_logfc_matrix_2021_10_22_BASIS.csv'\n",
    "fn_qval = '../../data/standardized_data/result_qval_matrix_2021_10_22_BASIS.csv'\n",
    "fn_bin = '../../data/standardized_data/result_bin_matrix_2021_10_22_BASIS.csv'\n",
    "\n",
    "df_lfc = pd.read_csv(fn_lfc)\n",
    "df_qval = pd.read_csv(fn_qval)\n",
    "df_bin = pd.read_csv(fn_bin)\n",
    "\n",
    "df_lfc.head(2)"
   ]
  },
  {
   "cell_type": "markdown",
   "id": "2e62206c-05b3-4f84-8d05-9a2f60294423",
   "metadata": {},
   "source": [
    "### Single gene analysis:"
   ]
  },
  {
   "cell_type": "code",
   "execution_count": 247,
   "id": "7d3b2416-13ae-4ece-856b-cfcc2dc3dfc4",
   "metadata": {},
   "outputs": [
    {
     "data": {
      "text/plain": [
       "array([-0.12, -0.23, 0.2, -0.21, 0.16, -1.04, -0.04, -0.01, -0.2, -0.25,\n",
       "       0.19, 0.04, -0.14], dtype=object)"
      ]
     },
     "execution_count": 247,
     "metadata": {},
     "output_type": "execute_result"
    }
   ],
   "source": [
    "rvid = 'Rv2278'\n",
    "df_lfc[df_lfc.Rv_ID==rvid].values[0][1:14]"
   ]
  },
  {
   "cell_type": "code",
   "execution_count": 248,
   "id": "2daec4c6-4c54-488f-a6b8-be3b508e4c8e",
   "metadata": {},
   "outputs": [
    {
     "data": {
      "text/plain": [
       "array([1.0, 1.0, 1.0, 1.0, 1.0, 0.59058, 1.0, 1.0, 1.0, 1.0, 1.0, 1.0,\n",
       "       1.0], dtype=object)"
      ]
     },
     "execution_count": 248,
     "metadata": {},
     "output_type": "execute_result"
    }
   ],
   "source": [
    "df_qval[df_qval.Rv_ID==rvid].values[0][1:14]"
   ]
  },
  {
   "cell_type": "code",
   "execution_count": 249,
   "id": "147a6fb3-14d5-4c34-af01-a36b17720f53",
   "metadata": {},
   "outputs": [
    {
     "data": {
      "text/plain": [
       "array([0.0, 0.0, 0.0, 0.0, 0.0, 0.0, 0.0, 0.0, 0.0, 0.0, 0.0, 0.0, 0.0,\n",
       "       0.0, 0.0, 0.0, 0.0, 0.0, 0.0, 0.0, 0.0, 0.0, 0.0, 0.0, 0.0, 0.0,\n",
       "       0.0, 0.0, 0.0, 0.0, 0.0, 0.0, 0.0, 0.0, 0.0, 0.0, 0.0, 0.0, 0.0,\n",
       "       0.0, 0.0, 0.0, 0.0, 0.0, 0.0, 0.0, 0.0, 0.0, 0.0, 0.0, 0.0, 0.0,\n",
       "       0.0, 0.0, 0.0, 0.0, 0.0, 0.0, 0.0, 0.0, 0.0, 0.0, 0.0, 0.0, 0.0,\n",
       "       0.0, 0.0, 0.0, 0.0, 0.0, 0.0, 0.0, 0.0, 0.0, 0.0, 0.0, 0.0, 0.0,\n",
       "       0.0, 0.0, 0.0, 0.0, 0.0, 0.0, 0.0, 0.0, 0.0, 0.0, 0.0, 0.0, 0.0,\n",
       "       0.0, 0.0, 0.0, 0.0, 0.0, 0.0, 0.0, 0.0, 0.0, 0.0, 0.0, 0.0, 0.0,\n",
       "       0.0, 0.0, 0.0, 0.0, 0.0, 0.0, 0.0, 0.0, 0.0, 0.0, 0.0, 0.0, 0.0,\n",
       "       0.0, 0.0, 0.0, 0.0, 0.0, 0.0, 0.0, 0.0], dtype=object)"
      ]
     },
     "execution_count": 249,
     "metadata": {},
     "output_type": "execute_result"
    }
   ],
   "source": [
    "df_bin[df_bin.Rv_ID==rvid].values[0][1:]"
   ]
  },
  {
   "cell_type": "code",
   "execution_count": 250,
   "id": "a1f07e6d-3021-413d-a5dc-51325c7df99b",
   "metadata": {},
   "outputs": [
    {
     "data": {
      "text/plain": [
       "[]"
      ]
     },
     "execution_count": 250,
     "metadata": {},
     "output_type": "execute_result"
    }
   ],
   "source": [
    "[col for col in df_bin.columns[1:] if df_bin[df_bin.Rv_ID==rvid][col].values[0] == 1]"
   ]
  },
  {
   "cell_type": "markdown",
   "id": "48f711bf-b6cd-4035-9d1d-e744cf308a0a",
   "metadata": {},
   "source": [
    "### multiple gene analysis:"
   ]
  },
  {
   "cell_type": "code",
   "execution_count": 184,
   "id": "c9b1a4a6-aefc-4aec-b852-d5abf41e898b",
   "metadata": {},
   "outputs": [],
   "source": [
    "fn = '../../data/tests/df_clus_y.csv'\n",
    "df_class = pd.read_csv(fn)"
   ]
  },
  {
   "cell_type": "code",
   "execution_count": 185,
   "id": "56ad8c4e-5d06-42b0-9387-2bf1f5b1cd36",
   "metadata": {},
   "outputs": [
    {
     "data": {
      "text/plain": [
       "49"
      ]
     },
     "execution_count": 185,
     "metadata": {},
     "output_type": "execute_result"
    }
   ],
   "source": [
    "clus = 'cluster_15'\n",
    "list_rvid = df_class[df_class[clus]==1].Rv_ID.tolist()\n",
    "len(list_rvid)"
   ]
  },
  {
   "cell_type": "code",
   "execution_count": 187,
   "id": "6a4a520f-7662-4648-b214-da78f6db58bc",
   "metadata": {},
   "outputs": [],
   "source": [
    "list_ess_all = []\n",
    "# rvid = list_rvid[0]\n",
    "for rvid in list_rvid:\n",
    "    list_ess = [col for col in df_bin.columns[1:] if df_bin[df_bin.Rv_ID==rvid][col].values[0] == 1]\n",
    "    list_ess_all.append(list_ess)\n",
    "df_ess = pd.DataFrame()\n",
    "df_ess['Rv_ID'] = list_rvid\n",
    "df_ess['essential'] = [' '.join(list_ess) for list_ess in list_ess_all]"
   ]
  },
  {
   "cell_type": "code",
   "execution_count": 188,
   "id": "844bd35c-0210-425e-82fe-178807b58cf3",
   "metadata": {},
   "outputs": [],
   "source": [
    "file_mbio = '../../data/SI_datasets/2017A_DeJesus_Iorger/table_1.xlsx'\n",
    "df_mbio = pd.read_excel(file_mbio)\n",
    "df_mbio = df_mbio[['Rv_ID', 'Final Call']]"
   ]
  },
  {
   "cell_type": "code",
   "execution_count": 189,
   "id": "79eb5361-4f4a-4bff-ae56-4da65db6cb45",
   "metadata": {},
   "outputs": [],
   "source": [
    "df_ess = df_ess.merge(df_mbio, on = 'Rv_ID', how = 'left')"
   ]
  },
  {
   "cell_type": "code",
   "execution_count": 190,
   "id": "ae244567-97cb-4851-beea-7fea2346afb6",
   "metadata": {},
   "outputs": [
    {
     "data": {
      "text/plain": [
       "(49, 3)"
      ]
     },
     "execution_count": 190,
     "metadata": {},
     "output_type": "execute_result"
    }
   ],
   "source": [
    "df_ess.shape"
   ]
  },
  {
   "cell_type": "code",
   "execution_count": 191,
   "id": "e31a1080-55b8-4adb-9852-0760ff54a0dc",
   "metadata": {},
   "outputs": [
    {
     "data": {
      "text/plain": [
       "(25, 3)"
      ]
     },
     "execution_count": 191,
     "metadata": {},
     "output_type": "execute_result"
    }
   ],
   "source": [
    "df_ess[df_ess['Final Call']=='ES'].shape"
   ]
  },
  {
   "cell_type": "code",
   "execution_count": 192,
   "id": "72d1eda5-153b-426e-b284-a583ada07247",
   "metadata": {},
   "outputs": [
    {
     "data": {
      "text/plain": [
       "                                                                                                                                       24\n",
       "carey_621_vs_carey_rv carey_631_vs_carey_rv carey_632_vs_carey_rv carey_641_vs_carey_rv carey_662_vs_carey_rv carey_667_vs_carey_rv     1\n",
       "Name: essential, dtype: int64"
      ]
     },
     "execution_count": 192,
     "metadata": {},
     "output_type": "execute_result"
    }
   ],
   "source": [
    "df_ess[df_ess['Final Call']=='ES'].essential.value_counts()"
   ]
  },
  {
   "cell_type": "code",
   "execution_count": 194,
   "id": "3ee9ddb8-9f56-4b20-a2ed-abdb9ac64076",
   "metadata": {},
   "outputs": [
    {
     "data": {
      "text/html": [
       "<div>\n",
       "<style scoped>\n",
       "    .dataframe tbody tr th:only-of-type {\n",
       "        vertical-align: middle;\n",
       "    }\n",
       "\n",
       "    .dataframe tbody tr th {\n",
       "        vertical-align: top;\n",
       "    }\n",
       "\n",
       "    .dataframe thead th {\n",
       "        text-align: right;\n",
       "    }\n",
       "</style>\n",
       "<table border=\"1\" class=\"dataframe\">\n",
       "  <thead>\n",
       "    <tr style=\"text-align: right;\">\n",
       "      <th></th>\n",
       "      <th>Rv_ID</th>\n",
       "      <th>essential</th>\n",
       "      <th>Final Call</th>\n",
       "    </tr>\n",
       "  </thead>\n",
       "  <tbody>\n",
       "    <tr>\n",
       "      <th>0</th>\n",
       "      <td>Rv1536</td>\n",
       "      <td></td>\n",
       "      <td>ES</td>\n",
       "    </tr>\n",
       "    <tr>\n",
       "      <th>1</th>\n",
       "      <td>Rv1014c</td>\n",
       "      <td></td>\n",
       "      <td>ES</td>\n",
       "    </tr>\n",
       "    <tr>\n",
       "      <th>2</th>\n",
       "      <td>Rv0041</td>\n",
       "      <td></td>\n",
       "      <td>ES</td>\n",
       "    </tr>\n",
       "    <tr>\n",
       "      <th>4</th>\n",
       "      <td>Rv2555c</td>\n",
       "      <td></td>\n",
       "      <td>ES</td>\n",
       "    </tr>\n",
       "    <tr>\n",
       "      <th>6</th>\n",
       "      <td>Rv3580c</td>\n",
       "      <td></td>\n",
       "      <td>ES</td>\n",
       "    </tr>\n",
       "  </tbody>\n",
       "</table>\n",
       "</div>"
      ],
      "text/plain": [
       "     Rv_ID essential Final Call\n",
       "0   Rv1536                   ES\n",
       "1  Rv1014c                   ES\n",
       "2   Rv0041                   ES\n",
       "4  Rv2555c                   ES\n",
       "6  Rv3580c                   ES"
      ]
     },
     "execution_count": 194,
     "metadata": {},
     "output_type": "execute_result"
    }
   ],
   "source": [
    "df_ess[df_ess['Final Call']=='ES'].head()"
   ]
  },
  {
   "cell_type": "code",
   "execution_count": null,
   "id": "046a8f1f-fded-4db3-a585-81fa1398fc17",
   "metadata": {},
   "outputs": [],
   "source": []
  },
  {
   "cell_type": "markdown",
   "id": "6842ee37-4d86-4b9c-8a07-dfd78330908d",
   "metadata": {},
   "source": [
    "# FIXED THIS"
   ]
  },
  {
   "cell_type": "markdown",
   "id": "d59e3afe-6c54-46c4-a592-1d67d953e5a7",
   "metadata": {},
   "source": [
    "#### Here is the inconsistency: the MtbTnDB app says q-value = 0.7"
   ]
  },
  {
   "cell_type": "code",
   "execution_count": 195,
   "id": "3bd4ae6f-642d-4afd-93e8-87afd1f98297",
   "metadata": {},
   "outputs": [
    {
     "data": {
      "text/plain": [
       "1579    2.81\n",
       "Name: kieser_dPonA1_vs_mbio_H37Rv, dtype: float64"
      ]
     },
     "execution_count": 195,
     "metadata": {},
     "output_type": "execute_result"
    }
   ],
   "source": [
    "rvid = 'Rv1536'\n",
    "col = 'kieser_dPonA1_vs_mbio_H37Rv'\n",
    "df_lfc[df_lfc.Rv_ID==rvid][col]"
   ]
  },
  {
   "cell_type": "code",
   "execution_count": 196,
   "id": "c3f26c88-ddf3-4ea2-a7fe-46a41f779bed",
   "metadata": {},
   "outputs": [
    {
     "data": {
      "text/plain": [
       "1579    0.69775\n",
       "Name: kieser_dPonA1_vs_mbio_H37Rv, dtype: float64"
      ]
     },
     "execution_count": 196,
     "metadata": {},
     "output_type": "execute_result"
    }
   ],
   "source": [
    "df_qval[df_qval.Rv_ID==rvid][col]"
   ]
  },
  {
   "cell_type": "code",
   "execution_count": 197,
   "id": "629128c9-1b3d-43dc-bcb3-6c4301ecfc3d",
   "metadata": {},
   "outputs": [
    {
     "data": {
      "text/plain": [
       "1579    0.69775\n",
       "Name: kieser_dPonA1_vs_mbio_H37Rv, dtype: float64"
      ]
     },
     "execution_count": 197,
     "metadata": {},
     "output_type": "execute_result"
    }
   ],
   "source": [
    "fn_qval_old = '../../data/standardized_data/result_qval_matrix_2020_08_27.csv'\n",
    "df_qval_old = pd.read_csv(fn_qval_old)\n",
    "df_qval_old[df_qval_old.Rv_ID==rvid][col]"
   ]
  },
  {
   "cell_type": "code",
   "execution_count": 198,
   "id": "d176e5c2-b35a-4937-9ddc-bc650cc473a7",
   "metadata": {},
   "outputs": [
    {
     "data": {
      "text/plain": [
       "1579    0.0347\n",
       "Name: kieser_dPonA1_vs_mbio_H37Rv, dtype: float64"
      ]
     },
     "execution_count": 198,
     "metadata": {},
     "output_type": "execute_result"
    }
   ],
   "source": [
    "# fn_qval_test = '../../data/standardized_data/result_qval_matrix_2021_08_27.csv'\n",
    "# df_qval_test = pd.read_csv(fn_qval_test)\n",
    "# df_qval_test[df_qval_test.Rv_ID==rvid][col]"
   ]
  },
  {
   "cell_type": "markdown",
   "id": "218e6ad8-e211-4f53-86c7-588c0d992029",
   "metadata": {},
   "source": [
    "## Systematically find all the differences: "
   ]
  },
  {
   "cell_type": "code",
   "execution_count": 199,
   "id": "267b0fab-f088-4a6a-8613-2e07cfbfc989",
   "metadata": {},
   "outputs": [
    {
     "name": "stdout",
     "output_type": "stream",
     "text": [
      "(3971, 65) (3971, 126)\n",
      "True\n"
     ]
    }
   ],
   "source": [
    "fn_qval_old = '../../data/standardized_data/result_qval_matrix_2020_08_27.csv'\n",
    "df_qval_old = pd.read_csv(fn_qval_old)\n",
    "df_qval_old.dropna(axis=0, inplace=True)\n",
    "\n",
    "fn_qval_basis = '../../data/standardized_data/result_qval_matrix_2021_10_22_BASIS.csv'\n",
    "\n",
    "df_qval_basis = pd.read_csv(fn_qval_basis)\n",
    "df_qval_basis.rename(columns={'Unnamed: 0':'Rv_ID'}, inplace=True)\n",
    "df_qval_basis.dropna(axis=0, inplace=True)\n",
    "\n",
    "print(df_qval_old.shape, df_qval_basis.shape)\n",
    "# are the rvid rows the same? \n",
    "print(df_qval_old.Rv_ID.tolist() == df_qval_basis.Rv_ID.tolist())"
   ]
  },
  {
   "cell_type": "code",
   "execution_count": 200,
   "id": "df100756-8458-4665-8b4b-ef5f45214222",
   "metadata": {},
   "outputs": [
    {
     "name": "stdout",
     "output_type": "stream",
     "text": [
      "(3971, 65) (3971, 126)\n",
      "True\n"
     ]
    }
   ],
   "source": [
    "fn_lfc_old = '../../data/standardized_data/result_logfc_matrix_2020_08_27.csv'\n",
    "df_lfc_old = pd.read_csv(fn_lfc_old)\n",
    "df_lfc_old.dropna(axis=0, inplace=True)\n",
    "\n",
    "fn_lfc_basis = '../../data/standardized_data/result_logfc_matrix_2021_10_22_BASIS.csv'\n",
    "\n",
    "df_lfc_basis = pd.read_csv(fn_lfc_basis)\n",
    "df_lfc_basis.dropna(axis=0, inplace=True)\n",
    "\n",
    "print(df_lfc_old.shape, df_lfc_basis.shape)\n",
    "# are the rvid rows the same? \n",
    "print(df_lfc_old.Rv_ID.tolist() == df_lfc_basis.Rv_ID.tolist())"
   ]
  },
  {
   "cell_type": "code",
   "execution_count": 201,
   "id": "89e640e9-9dfe-4edb-b1a4-23fa6a8c6c02",
   "metadata": {},
   "outputs": [
    {
     "name": "stdout",
     "output_type": "stream",
     "text": [
      "(3971, 65) (3971, 65)\n"
     ]
    }
   ],
   "source": [
    "cols = [col for col in df_qval_basis.columns if col in df_qval_old.columns]\n",
    "df_qval_basis = df_qval_basis[cols].copy()\n",
    "\n",
    "cols = [col for col in df_lfc_basis.columns if col in df_lfc_old.columns]\n",
    "df_lfc_basis = df_lfc_basis[cols].copy()\n",
    "\n",
    "print(df_qval_basis.shape, df_lfc_basis.shape)"
   ]
  },
  {
   "cell_type": "markdown",
   "id": "c4c6dfc0-4bfc-4b74-a84e-d1b07b0fae37",
   "metadata": {},
   "source": [
    "#### Where do the old and new lfc and qval dataframes differ? "
   ]
  },
  {
   "cell_type": "code",
   "execution_count": 202,
   "id": "7415e53c-002e-45a7-9361-f94625450bbe",
   "metadata": {},
   "outputs": [],
   "source": [
    "cols_data = df_qval_old.columns[1:]\n",
    "mat_qval_diff = np.abs(df_qval_basis[cols_data].values - df_qval_old[cols_data].values)"
   ]
  },
  {
   "cell_type": "code",
   "execution_count": 203,
   "id": "ae41597c-4244-4eb0-a417-a8f8b9e645dc",
   "metadata": {},
   "outputs": [],
   "source": [
    "cols_data = df_lfc_old.columns[1:]\n",
    "mat_lfc_diff = np.abs(df_lfc_basis[cols_data].values - df_lfc_old[cols_data].values)"
   ]
  },
  {
   "cell_type": "markdown",
   "id": "bee7d603-ef92-4e2a-9c5d-f113b518262f",
   "metadata": {},
   "source": [
    "there are many differences in the q-values: "
   ]
  },
  {
   "cell_type": "code",
   "execution_count": 204,
   "id": "97f2d9a5-9194-44c3-b692-2c1c4666f437",
   "metadata": {},
   "outputs": [
    {
     "data": {
      "text/plain": [
       "array([1.11022302e-16, 0.00000000e+00, 0.00000000e+00, 1.11022302e-16,\n",
       "       0.00000000e+00, 1.11022302e-16, 1.11022302e-16, 0.00000000e+00,\n",
       "       1.11022302e-16, 0.00000000e+00, 1.11022302e-16, 1.11022302e-16,\n",
       "       0.00000000e+00, 1.11022302e-16, 1.11022302e-16, 1.11022302e-16,\n",
       "       1.11022302e-16, 0.00000000e+00, 1.11022302e-16, 1.11022302e-16,\n",
       "       1.11022302e-16, 1.11022302e-16, 1.11022302e-16, 1.11022302e-16,\n",
       "       1.11022302e-16, 0.00000000e+00, 1.11022302e-16, 1.11022302e-16,\n",
       "       0.00000000e+00, 1.11022302e-16, 1.11022302e-16, 1.11022302e-16,\n",
       "       1.11022302e-16, 0.00000000e+00, 0.00000000e+00, 0.00000000e+00,\n",
       "       1.11022302e-16, 1.11022302e-16, 0.00000000e+00, 1.11022302e-16,\n",
       "       1.11022302e-16, 0.00000000e+00, 1.11022302e-16, 1.11022302e-16,\n",
       "       1.11022302e-16, 1.11022302e-16, 1.11022302e-16, 0.00000000e+00,\n",
       "       0.00000000e+00, 0.00000000e+00, 1.11022302e-16, 1.11022302e-16,\n",
       "       0.00000000e+00, 0.00000000e+00, 0.00000000e+00, 0.00000000e+00,\n",
       "       1.11022302e-16, 0.00000000e+00, 0.00000000e+00, 1.11022302e-16,\n",
       "       0.00000000e+00, 1.11022302e-16, 1.11022302e-16, 1.11022302e-16])"
      ]
     },
     "execution_count": 204,
     "metadata": {},
     "output_type": "execute_result"
    }
   ],
   "source": [
    "mat_qval_diff.max(0)"
   ]
  },
  {
   "cell_type": "markdown",
   "id": "010eff4d-c567-45be-b0f2-154d11327823",
   "metadata": {},
   "source": [
    "There are no differences in the log2FC values: "
   ]
  },
  {
   "cell_type": "code",
   "execution_count": 205,
   "id": "b4d71219-fa27-40c4-baac-eaf0b02cfa73",
   "metadata": {},
   "outputs": [
    {
     "data": {
      "text/plain": [
       "array([0., 0., 0., 0., 0., 0., 0., 0., 0., 0., 0., 0., 0., 0., 0., 0., 0.,\n",
       "       0., 0., 0., 0., 0., 0., 0., 0., 0., 0., 0., 0., 0., 0., 0., 0., 0.,\n",
       "       0., 0., 0., 0., 0., 0., 0., 0., 0., 0., 0., 0., 0., 0., 0., 0., 0.,\n",
       "       0., 0., 0., 0., 0., 0., 0., 0., 0., 0., 0., 0., 0.])"
      ]
     },
     "execution_count": 205,
     "metadata": {},
     "output_type": "execute_result"
    }
   ],
   "source": [
    "mat_lfc_diff.max(0)"
   ]
  },
  {
   "cell_type": "code",
   "execution_count": 206,
   "id": "72e00bb9-a282-4ec6-bb89-56fd2331e3cb",
   "metadata": {},
   "outputs": [
    {
     "data": {
      "image/png": "[encoded data removed]",
      "text/plain": [
       "<Figure size 1152x576 with 2 Axes>"
      ]
     },
     "metadata": {
      "needs_background": "light"
     },
     "output_type": "display_data"
    }
   ],
   "source": [
    "fig, ax = plt.subplots(figsize = (16, 8))\n",
    "shw = ax.matshow(mat_qval_diff, aspect='auto', cmap=plt.cm.Blues)\n",
    "plt.colorbar(shw)\n",
    "plt.title('abs(q-val[NEW] - q-val[OLD])', fontsize=24)\n",
    "xl = plt.xlabel('TnSeq screens common to both datasets', fontsize = 24)\n",
    "xl = plt.ylabel('M.tuberculosis genes', fontsize = 24)\n",
    "plt.tight_layout()"
   ]
  },
  {
   "cell_type": "markdown",
   "id": "4a5a7410-3838-4bae-a7f4-866824bb141f",
   "metadata": {},
   "source": [
    "### Digging deeper into the data for all the in-vitro essentials: "
   ]
  },
  {
   "cell_type": "code",
   "execution_count": 207,
   "id": "29826a6e-1667-438e-92f2-7996317868fb",
   "metadata": {},
   "outputs": [
    {
     "data": {
      "text/html": [
       "<div>\n",
       "<style scoped>\n",
       "    .dataframe tbody tr th:only-of-type {\n",
       "        vertical-align: middle;\n",
       "    }\n",
       "\n",
       "    .dataframe tbody tr th {\n",
       "        vertical-align: top;\n",
       "    }\n",
       "\n",
       "    .dataframe thead th {\n",
       "        text-align: right;\n",
       "    }\n",
       "</style>\n",
       "<table border=\"1\" class=\"dataframe\">\n",
       "  <thead>\n",
       "    <tr style=\"text-align: right;\">\n",
       "      <th></th>\n",
       "      <th>Rv_ID</th>\n",
       "      <th>Final Call</th>\n",
       "    </tr>\n",
       "  </thead>\n",
       "  <tbody>\n",
       "    <tr>\n",
       "      <th>3003</th>\n",
       "      <td>Rv2930</td>\n",
       "      <td>NE</td>\n",
       "    </tr>\n",
       "    <tr>\n",
       "      <th>3004</th>\n",
       "      <td>Rv2931</td>\n",
       "      <td>NE</td>\n",
       "    </tr>\n",
       "    <tr>\n",
       "      <th>3005</th>\n",
       "      <td>Rv2932</td>\n",
       "      <td>NE</td>\n",
       "    </tr>\n",
       "    <tr>\n",
       "      <th>3006</th>\n",
       "      <td>Rv2933</td>\n",
       "      <td>NE</td>\n",
       "    </tr>\n",
       "    <tr>\n",
       "      <th>3007</th>\n",
       "      <td>Rv2934</td>\n",
       "      <td>NE</td>\n",
       "    </tr>\n",
       "    <tr>\n",
       "      <th>3008</th>\n",
       "      <td>Rv2935</td>\n",
       "      <td>NE</td>\n",
       "    </tr>\n",
       "    <tr>\n",
       "      <th>3009</th>\n",
       "      <td>Rv2936</td>\n",
       "      <td>GA</td>\n",
       "    </tr>\n",
       "    <tr>\n",
       "      <th>3010</th>\n",
       "      <td>Rv2937</td>\n",
       "      <td>GA</td>\n",
       "    </tr>\n",
       "    <tr>\n",
       "      <th>3011</th>\n",
       "      <td>Rv2938</td>\n",
       "      <td>GA</td>\n",
       "    </tr>\n",
       "    <tr>\n",
       "      <th>3012</th>\n",
       "      <td>Rv2939</td>\n",
       "      <td>NE</td>\n",
       "    </tr>\n",
       "  </tbody>\n",
       "</table>\n",
       "</div>"
      ],
      "text/plain": [
       "       Rv_ID Final Call\n",
       "3003  Rv2930         NE\n",
       "3004  Rv2931         NE\n",
       "3005  Rv2932         NE\n",
       "3006  Rv2933         NE\n",
       "3007  Rv2934         NE\n",
       "3008  Rv2935         NE\n",
       "3009  Rv2936         GA\n",
       "3010  Rv2937         GA\n",
       "3011  Rv2938         GA\n",
       "3012  Rv2939         NE"
      ]
     },
     "execution_count": 207,
     "metadata": {},
     "output_type": "execute_result"
    }
   ],
   "source": [
    "df_mbio[df_mbio.Rv_ID.str.contains('Rv293')]"
   ]
  },
  {
   "cell_type": "code",
   "execution_count": 211,
   "id": "21674dfc-1866-4051-a15d-c613dced3545",
   "metadata": {},
   "outputs": [
    {
     "data": {
      "text/plain": [
       "461"
      ]
     },
     "execution_count": 211,
     "metadata": {},
     "output_type": "execute_result"
    }
   ],
   "source": [
    "# all the in-vitro essentials: \n",
    "list_ES = df_mbio[df_mbio['Final Call']=='ES'].Rv_ID.tolist()\n",
    "len(list_ES)"
   ]
  },
  {
   "cell_type": "code",
   "execution_count": 209,
   "id": "e1e45b21-ce74-4689-99d4-9ce5056d9ea6",
   "metadata": {},
   "outputs": [],
   "source": [
    "list_col_ess_all = []\n",
    "for rvid in list_ES:\n",
    "    list_col_ess = [col for col in df_bin.columns[1:] if df_bin[df_bin.Rv_ID==rvid][col].values[0] == 1]\n",
    "    list_col_ess_all.append(list_col_ess)\n",
    "df_col_ess = pd.DataFrame()\n",
    "df_col_ess['Rv_ID'] = list_ES\n",
    "df_col_ess['essential'] = [' | '.join(list_col_ess) for list_col_ess in list_col_ess_all]"
   ]
  },
  {
   "cell_type": "code",
   "execution_count": 212,
   "id": "441bc563-c6c8-4da9-be14-e2b8e50c845d",
   "metadata": {},
   "outputs": [
    {
     "data": {
      "text/plain": [
       "(461, 2)"
      ]
     },
     "execution_count": 212,
     "metadata": {},
     "output_type": "execute_result"
    }
   ],
   "source": [
    "df_col_ess.shape"
   ]
  },
  {
   "cell_type": "markdown",
   "id": "c3f976df-098b-4861-819c-854f38a20ee9",
   "metadata": {},
   "source": [
    "Where are we getting significant l2fc's for the in vitro essentials? "
   ]
  },
  {
   "cell_type": "code",
   "execution_count": 210,
   "id": "f2f5b950-b72f-4395-b679-9ac9bf634d8f",
   "metadata": {},
   "outputs": [
    {
     "data": {
      "text/html": [
       "<div>\n",
       "<style scoped>\n",
       "    .dataframe tbody tr th:only-of-type {\n",
       "        vertical-align: middle;\n",
       "    }\n",
       "\n",
       "    .dataframe tbody tr th {\n",
       "        vertical-align: top;\n",
       "    }\n",
       "\n",
       "    .dataframe thead th {\n",
       "        text-align: right;\n",
       "    }\n",
       "</style>\n",
       "<table border=\"1\" class=\"dataframe\">\n",
       "  <thead>\n",
       "    <tr style=\"text-align: right;\">\n",
       "      <th></th>\n",
       "      <th>essential</th>\n",
       "    </tr>\n",
       "  </thead>\n",
       "  <tbody>\n",
       "    <tr>\n",
       "      <th></th>\n",
       "      <td>362</td>\n",
       "    </tr>\n",
       "    <tr>\n",
       "      <th>minato_minimal_plate_vs_minato_rich_plate</th>\n",
       "      <td>20</td>\n",
       "    </tr>\n",
       "    <tr>\n",
       "      <th>carey_621_vs_carey_rv | carey_631_vs_carey_rv | carey_632_vs_carey_rv | carey_641_vs_carey_rv | carey_662_vs_carey_rv | carey_667_vs_carey_rv</th>\n",
       "      <td>11</td>\n",
       "    </tr>\n",
       "    <tr>\n",
       "      <th>kieser_dPonA1_vs_mbio_H37Rv</th>\n",
       "      <td>7</td>\n",
       "    </tr>\n",
       "    <tr>\n",
       "      <th>carey_621_vs_carey_rv | carey_631_vs_carey_rv | carey_632_vs_carey_rv | carey_641_vs_carey_rv | carey_662_vs_carey_rv | carey_663_vs_carey_rv | carey_667_vs_carey_rv</th>\n",
       "      <td>6</td>\n",
       "    </tr>\n",
       "    <tr>\n",
       "      <th>carey_621_vs_carey_rv | carey_630_vs_carey_rv | carey_631_vs_carey_rv | carey_632_vs_carey_rv | carey_641_vs_carey_rv | carey_662_vs_carey_rv | carey_663_vs_carey_rv | carey_667_vs_carey_rv</th>\n",
       "      <td>5</td>\n",
       "    </tr>\n",
       "    <tr>\n",
       "      <th>marP_KO_vs_marP_WT</th>\n",
       "      <td>3</td>\n",
       "    </tr>\n",
       "    <tr>\n",
       "      <th>minato_minimal_plate_vs_minato_rich_plate | zhang_wt_mouse_d10_vs_zhang_input_library | zhang_wt_mouse_d45_vs_zhang_input_library</th>\n",
       "      <td>3</td>\n",
       "    </tr>\n",
       "    <tr>\n",
       "      <th>carey_621_vs_carey_rv | carey_631_vs_carey_rv | carey_641_vs_carey_rv | carey_662_vs_carey_rv | carey_667_vs_carey_rv</th>\n",
       "      <td>2</td>\n",
       "    </tr>\n",
       "    <tr>\n",
       "      <th>carey_621_vs_carey_rv | carey_630_vs_carey_rv | carey_631_vs_carey_rv | carey_632_vs_carey_rv | carey_641_vs_carey_rv | carey_662_vs_carey_rv | carey_663_vs_carey_rv | carey_667_vs_carey_rv | kieser_dPonA1_vs_mbio_H37Rv</th>\n",
       "      <td>2</td>\n",
       "    </tr>\n",
       "    <tr>\n",
       "      <th>carey_621_vs_carey_rv | carey_631_vs_carey_rv | carey_632_vs_carey_rv | carey_641_vs_carey_rv | carey_662_vs_carey_rv | carey_667_vs_carey_rv | minato_minimal_plate_vs_minato_rich_plate</th>\n",
       "      <td>2</td>\n",
       "    </tr>\n",
       "    <tr>\n",
       "      <th>carey_621_vs_carey_rv</th>\n",
       "      <td>2</td>\n",
       "    </tr>\n",
       "    <tr>\n",
       "      <th>carey_663_vs_carey_rv</th>\n",
       "      <td>2</td>\n",
       "    </tr>\n",
       "    <tr>\n",
       "      <th>carey_630_vs_carey_rv | minato_minimal_plate_vs_minato_rich_plate</th>\n",
       "      <td>1</td>\n",
       "    </tr>\n",
       "    <tr>\n",
       "      <th>carey_621_vs_carey_rv | carey_630_vs_carey_rv | carey_631_vs_carey_rv | carey_632_vs_carey_rv | carey_641_vs_carey_rv | carey_662_vs_carey_rv | carey_663_vs_carey_rv | carey_667_vs_carey_rv | marP_KO_vs_marP_WT</th>\n",
       "      <td>1</td>\n",
       "    </tr>\n",
       "    <tr>\n",
       "      <th>carey_621_vs_carey_rv | carey_641_vs_carey_rv | carey_662_vs_carey_rv | carey_663_vs_carey_rv | carey_667_vs_carey_rv</th>\n",
       "      <td>1</td>\n",
       "    </tr>\n",
       "    <tr>\n",
       "      <th>carey_621_vs_carey_rv | minato_minimal_plate_vs_minato_rich_plate</th>\n",
       "      <td>1</td>\n",
       "    </tr>\n",
       "    <tr>\n",
       "      <th>carey_621_vs_carey_rv | carey_631_vs_carey_rv | carey_641_vs_carey_rv | carey_667_vs_carey_rv</th>\n",
       "      <td>1</td>\n",
       "    </tr>\n",
       "    <tr>\n",
       "      <th>carey_631_vs_carey_rv | carey_641_vs_carey_rv | carey_662_vs_carey_rv</th>\n",
       "      <td>1</td>\n",
       "    </tr>\n",
       "    <tr>\n",
       "      <th>carey_631_vs_carey_rv | carey_632_vs_carey_rv | carey_663_vs_carey_rv | zhang_wt_mouse_d10_vs_zhang_input_library | zhang_wt_mouse_d45_vs_zhang_input_library</th>\n",
       "      <td>1</td>\n",
       "    </tr>\n",
       "  </tbody>\n",
       "</table>\n",
       "</div>"
      ],
      "text/plain": [
       "                                                    essential\n",
       "                                                          362\n",
       "minato_minimal_plate_vs_minato_rich_plate                  20\n",
       "carey_621_vs_carey_rv | carey_631_vs_carey_rv |...         11\n",
       "kieser_dPonA1_vs_mbio_H37Rv                                 7\n",
       "carey_621_vs_carey_rv | carey_631_vs_carey_rv |...          6\n",
       "carey_621_vs_carey_rv | carey_630_vs_carey_rv |...          5\n",
       "marP_KO_vs_marP_WT                                          3\n",
       "minato_minimal_plate_vs_minato_rich_plate | zha...          3\n",
       "carey_621_vs_carey_rv | carey_631_vs_carey_rv |...          2\n",
       "carey_621_vs_carey_rv | carey_630_vs_carey_rv |...          2\n",
       "carey_621_vs_carey_rv | carey_631_vs_carey_rv |...          2\n",
       "carey_621_vs_carey_rv                                       2\n",
       "carey_663_vs_carey_rv                                       2\n",
       "carey_630_vs_carey_rv | minato_minimal_plate_vs...          1\n",
       "carey_621_vs_carey_rv | carey_630_vs_carey_rv |...          1\n",
       "carey_621_vs_carey_rv | carey_641_vs_carey_rv |...          1\n",
       "carey_621_vs_carey_rv | minato_minimal_plate_vs...          1\n",
       "carey_621_vs_carey_rv | carey_631_vs_carey_rv |...          1\n",
       "carey_631_vs_carey_rv | carey_641_vs_carey_rv |...          1\n",
       "carey_631_vs_carey_rv | carey_632_vs_carey_rv |...          1"
      ]
     },
     "execution_count": 210,
     "metadata": {},
     "output_type": "execute_result"
    }
   ],
   "source": [
    "df_col_ess.essential.value_counts().to_frame().head(20)"
   ]
  },
  {
   "cell_type": "code",
   "execution_count": 219,
   "id": "c89ca521-77d8-4769-9723-6113d0a9a960",
   "metadata": {},
   "outputs": [
    {
     "data": {
      "text/html": [
       "<div>\n",
       "<style scoped>\n",
       "    .dataframe tbody tr th:only-of-type {\n",
       "        vertical-align: middle;\n",
       "    }\n",
       "\n",
       "    .dataframe tbody tr th {\n",
       "        vertical-align: top;\n",
       "    }\n",
       "\n",
       "    .dataframe thead th {\n",
       "        text-align: right;\n",
       "    }\n",
       "</style>\n",
       "<table border=\"1\" class=\"dataframe\">\n",
       "  <thead>\n",
       "    <tr style=\"text-align: right;\">\n",
       "      <th></th>\n",
       "      <th>Rv_ID</th>\n",
       "      <th>essential</th>\n",
       "    </tr>\n",
       "  </thead>\n",
       "  <tbody>\n",
       "    <tr>\n",
       "      <th>77</th>\n",
       "      <td>Rv0667</td>\n",
       "      <td>kieser_dPonA1_vs_mbio_H37Rv</td>\n",
       "    </tr>\n",
       "    <tr>\n",
       "      <th>136</th>\n",
       "      <td>Rv1122</td>\n",
       "      <td>carey_621_vs_carey_rv | carey_630_vs_carey_rv ...</td>\n",
       "    </tr>\n",
       "    <tr>\n",
       "      <th>138</th>\n",
       "      <td>Rv1166</td>\n",
       "      <td>kieser_dPonA1_vs_mbio_H37Rv</td>\n",
       "    </tr>\n",
       "    <tr>\n",
       "      <th>215</th>\n",
       "      <td>Rv1630</td>\n",
       "      <td>kieser_dPonA1_vs_mbio_H37Rv</td>\n",
       "    </tr>\n",
       "    <tr>\n",
       "      <th>290</th>\n",
       "      <td>Rv2509</td>\n",
       "      <td>kieser_dPonA1_vs_mbio_H37Rv</td>\n",
       "    </tr>\n",
       "    <tr>\n",
       "      <th>329</th>\n",
       "      <td>Rv2846c</td>\n",
       "      <td>kieser_dPonA1_vs_mbio_H37Rv</td>\n",
       "    </tr>\n",
       "    <tr>\n",
       "      <th>375</th>\n",
       "      <td>Rv3246c</td>\n",
       "      <td>carey_621_vs_carey_rv | carey_630_vs_carey_rv ...</td>\n",
       "    </tr>\n",
       "    <tr>\n",
       "      <th>389</th>\n",
       "      <td>Rv3302c</td>\n",
       "      <td>carey_621_vs_carey_rv | carey_630_vs_carey_rv ...</td>\n",
       "    </tr>\n",
       "    <tr>\n",
       "      <th>404</th>\n",
       "      <td>Rv3460c</td>\n",
       "      <td>kieser_dPonA1_vs_mbio_H37Rv</td>\n",
       "    </tr>\n",
       "    <tr>\n",
       "      <th>443</th>\n",
       "      <td>Rv3801c</td>\n",
       "      <td>kieser_dPonA1_vs_mbio_H37Rv</td>\n",
       "    </tr>\n",
       "  </tbody>\n",
       "</table>\n",
       "</div>"
      ],
      "text/plain": [
       "       Rv_ID                                          essential\n",
       "77    Rv0667                        kieser_dPonA1_vs_mbio_H37Rv\n",
       "136   Rv1122  carey_621_vs_carey_rv | carey_630_vs_carey_rv ...\n",
       "138   Rv1166                        kieser_dPonA1_vs_mbio_H37Rv\n",
       "215   Rv1630                        kieser_dPonA1_vs_mbio_H37Rv\n",
       "290   Rv2509                        kieser_dPonA1_vs_mbio_H37Rv\n",
       "329  Rv2846c                        kieser_dPonA1_vs_mbio_H37Rv\n",
       "375  Rv3246c  carey_621_vs_carey_rv | carey_630_vs_carey_rv ...\n",
       "389  Rv3302c  carey_621_vs_carey_rv | carey_630_vs_carey_rv ...\n",
       "404  Rv3460c                        kieser_dPonA1_vs_mbio_H37Rv\n",
       "443  Rv3801c                        kieser_dPonA1_vs_mbio_H37Rv"
      ]
     },
     "execution_count": 219,
     "metadata": {},
     "output_type": "execute_result"
    }
   ],
   "source": [
    "df_col_ess[df_col_ess.essential.str.contains('kieser_dPonA1_vs_mbio_H37Rv')]"
   ]
  },
  {
   "cell_type": "code",
   "execution_count": 218,
   "id": "9ba36d80-c09e-488c-9d30-39b97e856fa3",
   "metadata": {},
   "outputs": [
    {
     "data": {
      "text/plain": [
       "(38, 2)"
      ]
     },
     "execution_count": 218,
     "metadata": {},
     "output_type": "execute_result"
    }
   ],
   "source": [
    "df_col_ess[df_col_ess.essential.str.contains('minato')].shape"
   ]
  },
  {
   "cell_type": "code",
   "execution_count": 217,
   "id": "eddc8f66-5928-4f28-9666-ae47f88ffc21",
   "metadata": {},
   "outputs": [
    {
     "data": {
      "text/plain": [
       "(59, 2)"
      ]
     },
     "execution_count": 217,
     "metadata": {},
     "output_type": "execute_result"
    }
   ],
   "source": [
    "df_col_ess[df_col_ess.essential.str.contains('carey')].shape"
   ]
  },
  {
   "cell_type": "code",
   "execution_count": 89,
   "id": "873b4dca-6b9a-4c14-abdd-190bc76c9690",
   "metadata": {},
   "outputs": [
    {
     "data": {
      "text/plain": [
       "['Rv0013',\n",
       " 'Rv0102',\n",
       " 'Rv0189c',\n",
       " 'Rv0337c',\n",
       " 'Rv0338c',\n",
       " 'Rv0363c',\n",
       " 'Rv0510',\n",
       " 'Rv0772',\n",
       " 'Rv0780',\n",
       " 'Rv0788',\n",
       " 'Rv0803',\n",
       " 'Rv0808',\n",
       " 'Rv0809',\n",
       " 'Rv0956',\n",
       " 'Rv1005c',\n",
       " 'Rv1122',\n",
       " 'Rv1133c',\n",
       " 'Rv1208',\n",
       " 'Rv1409',\n",
       " 'Rv1415',\n",
       " 'Rv1464',\n",
       " 'Rv1559',\n",
       " 'Rv1595',\n",
       " 'Rv1609',\n",
       " 'Rv1612',\n",
       " 'Rv1613',\n",
       " 'Rv1636',\n",
       " 'Rv1708',\n",
       " 'Rv1826',\n",
       " 'Rv1832',\n",
       " 'Rv2109c',\n",
       " 'Rv2186c',\n",
       " 'Rv2192c',\n",
       " 'Rv2210c',\n",
       " 'Rv2211c',\n",
       " 'Rv2225',\n",
       " 'Rv2439c',\n",
       " 'Rv2477c',\n",
       " 'Rv2747',\n",
       " 'Rv2995c',\n",
       " 'Rv3003c',\n",
       " 'Rv3031',\n",
       " 'Rv3039c',\n",
       " 'Rv3341',\n",
       " 'Rv3579c',\n",
       " 'Rv3601c',\n",
       " 'Rv3602c',\n",
       " 'Rv3710',\n",
       " 'Rv3838c',\n",
       " 'Rv3859c']"
      ]
     },
     "execution_count": 89,
     "metadata": {},
     "output_type": "execute_result"
    }
   ],
   "source": [
    "df_col_ess[df_col_ess.essential.str.contains('minato_minimal_plate_vs_minato_rich_plate')].Rv_ID.tolist()"
   ]
  },
  {
   "cell_type": "code",
   "execution_count": null,
   "id": "7980f459-9d46-4c4d-a44a-4113267c3907",
   "metadata": {},
   "outputs": [],
   "source": []
  }
 ],
 "metadata": {
  "kernelspec": {
   "display_name": "Python 3 (ipykernel)",
   "language": "python",
   "name": "python3"
  },
  "language_info": {
   "codemirror_mode": {
    "name": "ipython",
    "version": 3
   },
   "file_extension": ".py",
   "mimetype": "text/x-python",
   "name": "python",
   "nbconvert_exporter": "python",
   "pygments_lexer": "ipython3",
   "version": "3.8.10"
  }
 },
 "nbformat": 4,
 "nbformat_minor": 5
}
