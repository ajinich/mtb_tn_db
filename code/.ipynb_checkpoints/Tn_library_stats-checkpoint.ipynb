{
 "cells": [
  {
   "cell_type": "code",
   "execution_count": 1,
   "metadata": {},
   "outputs": [],
   "source": [
    "import pandas as pd\n",
    "import matplotlib.pyplot as plt\n",
    "import numpy as np"
   ]
  },
  {
   "cell_type": "markdown",
   "metadata": {},
   "source": [
    "update this function: "
   ]
  },
  {
   "cell_type": "code",
   "execution_count": 2,
   "metadata": {},
   "outputs": [],
   "source": [
    "def essentiality_calls(df, gene_id):\n",
    "# Return the columns in which a given gene is called essential:\n",
    "    \n",
    "    cols = df.columns[2:]\n",
    "    col_list = []\n",
    "    for col in cols:\n",
    "        if df[df['Rv_ID']==gene_id][col].values[0] == 1:\n",
    "            col_list.append(col)\n",
    "            \n",
    "    return col_list"
   ]
  },
  {
   "cell_type": "code",
   "execution_count": null,
   "metadata": {},
   "outputs": [],
   "source": []
  },
  {
   "cell_type": "code",
   "execution_count": 3,
   "metadata": {},
   "outputs": [],
   "source": [
    "   def essential_subset(df, subset_cols, subset_name):\n",
    "    df_temp = df[['Rv_ID', 'gene_name']+subset_cols].copy()\n",
    "    df_temp[subset_name] = df_temp.sum(numeric_only=True, axis = 1)\n",
    "    \n",
    "    df_temp.sort_values(by=subset_name, ascending=False, inplace=True)\n",
    "    df_temp.reset_index(inplace=True, drop=True)\n",
    "    df_temp = df_temp[['Rv_ID', 'gene_name', subset_name] + subset_cols]\n",
    "    \n",
    "    return df_temp"
   ]
  },
  {
   "cell_type": "code",
   "execution_count": 4,
   "metadata": {},
   "outputs": [
    {
     "data": {
      "text/plain": [
       "(3990, 60)"
      ]
     },
     "execution_count": 4,
     "metadata": {},
     "output_type": "execute_result"
    }
   ],
   "source": [
    "tn_file = 'Tn_library_DB.xlsx'\n",
    "df_tn = pd.read_excel(tn_file)\n",
    "df_tn.shape"
   ]
  },
  {
   "cell_type": "code",
   "execution_count": 5,
   "metadata": {},
   "outputs": [
    {
     "data": {
      "text/html": [
       "<div>\n",
       "<style scoped>\n",
       "    .dataframe tbody tr th:only-of-type {\n",
       "        vertical-align: middle;\n",
       "    }\n",
       "\n",
       "    .dataframe tbody tr th {\n",
       "        vertical-align: top;\n",
       "    }\n",
       "\n",
       "    .dataframe thead th {\n",
       "        text-align: right;\n",
       "    }\n",
       "</style>\n",
       "<table border=\"1\" class=\"dataframe\">\n",
       "  <thead>\n",
       "    <tr style=\"text-align: right;\">\n",
       "      <th></th>\n",
       "      <th>Rv_ID</th>\n",
       "      <th>gene_name</th>\n",
       "      <th>2003A_Sassetti</th>\n",
       "      <th>2003B_Sassetti</th>\n",
       "      <th>2005_Rengarajan</th>\n",
       "      <th>2006_Joshi_GI_1</th>\n",
       "      <th>2006_Joshi_GI_2</th>\n",
       "      <th>2011_Griffin_2</th>\n",
       "      <th>2012_Zhang</th>\n",
       "      <th>2013_DeJesus</th>\n",
       "      <th>...</th>\n",
       "      <th>Rv0950</th>\n",
       "      <th>Rv3717</th>\n",
       "      <th>Rv3594</th>\n",
       "      <th>Rv3916c</th>\n",
       "      <th>marP</th>\n",
       "      <th>Rv0954</th>\n",
       "      <th>Rv1432</th>\n",
       "      <th>Rv1096</th>\n",
       "      <th>Rv2680</th>\n",
       "      <th>Rv0307c</th>\n",
       "    </tr>\n",
       "  </thead>\n",
       "  <tbody>\n",
       "    <tr>\n",
       "      <th>0</th>\n",
       "      <td>Rv0001</td>\n",
       "      <td>dnaA</td>\n",
       "      <td>1</td>\n",
       "      <td>0</td>\n",
       "      <td>0</td>\n",
       "      <td>0</td>\n",
       "      <td>0</td>\n",
       "      <td>0</td>\n",
       "      <td>1</td>\n",
       "      <td>1</td>\n",
       "      <td>...</td>\n",
       "      <td>0</td>\n",
       "      <td>0</td>\n",
       "      <td>0</td>\n",
       "      <td>0</td>\n",
       "      <td>0</td>\n",
       "      <td>0</td>\n",
       "      <td>0</td>\n",
       "      <td>0</td>\n",
       "      <td>0</td>\n",
       "      <td>0</td>\n",
       "    </tr>\n",
       "    <tr>\n",
       "      <th>1</th>\n",
       "      <td>Rv0002</td>\n",
       "      <td>dnaN</td>\n",
       "      <td>0</td>\n",
       "      <td>0</td>\n",
       "      <td>0</td>\n",
       "      <td>0</td>\n",
       "      <td>0</td>\n",
       "      <td>0</td>\n",
       "      <td>1</td>\n",
       "      <td>1</td>\n",
       "      <td>...</td>\n",
       "      <td>0</td>\n",
       "      <td>0</td>\n",
       "      <td>0</td>\n",
       "      <td>0</td>\n",
       "      <td>0</td>\n",
       "      <td>0</td>\n",
       "      <td>0</td>\n",
       "      <td>0</td>\n",
       "      <td>0</td>\n",
       "      <td>0</td>\n",
       "    </tr>\n",
       "    <tr>\n",
       "      <th>2</th>\n",
       "      <td>Rv0003</td>\n",
       "      <td>recF</td>\n",
       "      <td>0</td>\n",
       "      <td>0</td>\n",
       "      <td>0</td>\n",
       "      <td>0</td>\n",
       "      <td>0</td>\n",
       "      <td>0</td>\n",
       "      <td>1</td>\n",
       "      <td>0</td>\n",
       "      <td>...</td>\n",
       "      <td>0</td>\n",
       "      <td>0</td>\n",
       "      <td>0</td>\n",
       "      <td>1</td>\n",
       "      <td>0</td>\n",
       "      <td>0</td>\n",
       "      <td>0</td>\n",
       "      <td>0</td>\n",
       "      <td>0</td>\n",
       "      <td>0</td>\n",
       "    </tr>\n",
       "  </tbody>\n",
       "</table>\n",
       "<p>3 rows × 60 columns</p>\n",
       "</div>"
      ],
      "text/plain": [
       "    Rv_ID gene_name  2003A_Sassetti  2003B_Sassetti  2005_Rengarajan  \\\n",
       "0  Rv0001      dnaA               1               0                0   \n",
       "1  Rv0002      dnaN               0               0                0   \n",
       "2  Rv0003      recF               0               0                0   \n",
       "\n",
       "   2006_Joshi_GI_1  2006_Joshi_GI_2  2011_Griffin_2  2012_Zhang  2013_DeJesus  \\\n",
       "0                0                0               0           1             1   \n",
       "1                0                0               0           1             1   \n",
       "2                0                0               0           1             0   \n",
       "\n",
       "    ...     Rv0950  Rv3717  Rv3594  Rv3916c  marP  Rv0954  Rv1432  Rv1096  \\\n",
       "0   ...          0       0       0        0     0       0       0       0   \n",
       "1   ...          0       0       0        0     0       0       0       0   \n",
       "2   ...          0       0       0        1     0       0       0       0   \n",
       "\n",
       "   Rv2680  Rv0307c  \n",
       "0       0        0  \n",
       "1       0        0  \n",
       "2       0        0  \n",
       "\n",
       "[3 rows x 60 columns]"
      ]
     },
     "execution_count": 5,
     "metadata": {},
     "output_type": "execute_result"
    }
   ],
   "source": [
    "df_tn.head(3)"
   ]
  },
  {
   "cell_type": "markdown",
   "metadata": {},
   "source": [
    "# interested in a particular gene? "
   ]
  },
  {
   "cell_type": "code",
   "execution_count": 6,
   "metadata": {},
   "outputs": [
    {
     "name": "stdout",
     "output_type": "stream",
     "text": [
      "Rv0812\n",
      "['2012_Zhang', '2013_DeJesus', '2017A_DeJesus', 'Rv3717', 'marP'] \n",
      "\n"
     ]
    }
   ],
   "source": [
    "gene_list = ['Rv0812']\n",
    "for gene_temp in gene_list:\n",
    "    col_list = essentiality_calls(df_tn, gene_temp)\n",
    "    print(gene_temp)\n",
    "    print(col_list, '\\n')"
   ]
  },
  {
   "cell_type": "code",
   "execution_count": 6,
   "metadata": {},
   "outputs": [
    {
     "data": {
      "text/plain": [
       "['2015_Mendum']"
      ]
     },
     "execution_count": 6,
     "metadata": {},
     "output_type": "execute_result"
    }
   ],
   "source": [
    "gene_temp = 'Rv0059' # toxin anti-toxin\n",
    "essentiality_calls(df_tn, gene_temp)"
   ]
  },
  {
   "cell_type": "code",
   "execution_count": 7,
   "metadata": {},
   "outputs": [
    {
     "data": {
      "text/plain": [
       "['2003A_Sassetti', '2012_Zhang', '2013_DeJesus', '2017A_DeJesus']"
      ]
     },
     "execution_count": 7,
     "metadata": {},
     "output_type": "execute_result"
    }
   ],
   "source": [
    "gene_temp = 'Rv0060' # toxin anti-toxin\n",
    "essentiality_calls(df_tn, gene_temp)"
   ]
  },
  {
   "cell_type": "markdown",
   "metadata": {},
   "source": [
    "For Robert: Rv0480"
   ]
  },
  {
   "cell_type": "code",
   "execution_count": 10,
   "metadata": {},
   "outputs": [
    {
     "data": {
      "text/plain": [
       "['2012_Zhang', 'Rv0307c']"
      ]
     },
     "execution_count": 10,
     "metadata": {},
     "output_type": "execute_result"
    }
   ],
   "source": [
    "gene_temp = 'Rv3565'\n",
    "essentiality_calls(df_tn, gene_temp)"
   ]
  },
  {
   "cell_type": "code",
   "execution_count": 15,
   "metadata": {},
   "outputs": [
    {
     "data": {
      "text/plain": [
       "['2013_Zhang_1',\n",
       " '2017_Xu_1C',\n",
       " '2017_Mishra_1C',\n",
       " '2018_Rittershaus_1A',\n",
       " '2018_Rittershaus_1B',\n",
       " 'marP']"
      ]
     },
     "execution_count": 15,
     "metadata": {},
     "output_type": "execute_result"
    }
   ],
   "source": [
    "gene_temp = 'Rv1178'\n",
    "essentiality_calls(df_tn, gene_temp)"
   ]
  },
  {
   "cell_type": "markdown",
   "metadata": {},
   "source": [
    "For Carl Nathan: Rv2795c"
   ]
  },
  {
   "cell_type": "code",
   "execution_count": 8,
   "metadata": {},
   "outputs": [
    {
     "data": {
      "text/plain": [
       "['2013_Zhang_1', '2016_Nambi', '2018_Rittershaus_1A', 'Rv1565c']"
      ]
     },
     "execution_count": 8,
     "metadata": {},
     "output_type": "execute_result"
    }
   ],
   "source": [
    "gene_temp = 'Rv2795c' # malate dehydrogenase\n",
    "essentiality_calls(df_tn, gene_temp)"
   ]
  },
  {
   "cell_type": "code",
   "execution_count": 7,
   "metadata": {},
   "outputs": [
    {
     "data": {
      "text/plain": [
       "['2017B_DeJesus_1B', 'Rv1565c', 'Rv1432']"
      ]
     },
     "execution_count": 7,
     "metadata": {},
     "output_type": "execute_result"
    }
   ],
   "source": [
    "gene_temp = 'Rv2852c' # MQO\n",
    "essentiality_calls(df_tn, gene_temp)"
   ]
  },
  {
   "cell_type": "markdown",
   "metadata": {},
   "source": [
    "What are these screens? \n",
    "* 2017B_DeJesus_1B - 2017B_DeJesus_Iorger/table_1B.xlsx -- genetic interaction with Rv1565c -- Aggravating\n",
    "    * comes from this paper: https://www.ncbi.nlm.nih.gov/pmc/articles/PMC5499643/\n",
    "    * The genes in this paper were selected from Nambi and Sassetti 2016 (https://www.ncbi.nlm.nih.gov/pubmed/26067605/)\n",
    "        * Looked at interactions with ctpC\n",
    "        * \"we deleted a single gene of unknown function that was previously shown to be required for optimal fitness a mouse model of infection (10): Rv1432, Rv2680 and Rv1565c (Table 1)\"\n",
    "        * But it's weird, becuase Rv1432 and Rv1565c do not appear as significant in that dataset. \n",
    "    * in this paper there was no interaction detected with Rv1432. \n",
    "* Rv1565c - Conserved hypothetical membrane protein KO \n",
    "* Rv1432 - Probable dehydrogenase"
   ]
  },
  {
   "cell_type": "code",
   "execution_count": 10,
   "metadata": {},
   "outputs": [
    {
     "data": {
      "text/plain": [
       "['2012_Zhang',\n",
       " '2013_DeJesus',\n",
       " '2013_Zhang_1',\n",
       " '2015_Mendum',\n",
       " '2015_Kieser_GI_1',\n",
       " '2015_Kieser_GI_3',\n",
       " '2017_Xu_1A',\n",
       " '2017_Xu_1D',\n",
       " '2018_Carey_1B',\n",
       " '2018_Carey_1G',\n",
       " '2018_Carey_1H',\n",
       " '2018_Rittershaus_1A',\n",
       " 'Rv3916c',\n",
       " 'marP',\n",
       " 'Rv0954']"
      ]
     },
     "execution_count": 10,
     "metadata": {},
     "output_type": "execute_result"
    }
   ],
   "source": [
    "gene_temp = 'Rv1565c' # MQO interactor\n",
    "essentiality_calls(df_tn, gene_temp)"
   ]
  },
  {
   "cell_type": "code",
   "execution_count": 11,
   "metadata": {},
   "outputs": [
    {
     "data": {
      "text/plain": [
       "['2011_Griffin_2',\n",
       " '2013_Zhang_1',\n",
       " '2013_Zhang_2',\n",
       " '2018_Carey_1A',\n",
       " '2018_Carey_1B',\n",
       " '2018_Carey_1C',\n",
       " '2018_Carey_1D',\n",
       " '2018_Carey_1F',\n",
       " '2018_Rittershaus_1A',\n",
       " '2018_Rittershaus_1B',\n",
       " 'Rv3916c',\n",
       " 'marP',\n",
       " 'Rv0307c']"
      ]
     },
     "execution_count": 11,
     "metadata": {},
     "output_type": "execute_result"
    }
   ],
   "source": [
    "gene_temp = 'Rv1432' # MQO interactor\n",
    "essentiality_calls(df_tn, gene_temp)"
   ]
  },
  {
   "cell_type": "markdown",
   "metadata": {},
   "source": [
    "# Rank columns by the number of essential genes. "
   ]
  },
  {
   "cell_type": "code",
   "execution_count": 4,
   "metadata": {},
   "outputs": [
    {
     "data": {
      "text/plain": [
       "2012_Zhang             742\n",
       "2013_DeJesus           667\n",
       "2017A_DeJesus          625\n",
       "2003A_Sassetti         614\n",
       "2013_Zhang_1           580\n",
       "Rv0307c                554\n",
       "Rv3005c                458\n",
       "2015_Mendum            380\n",
       "Rv1565c                363\n",
       "marP                   296\n",
       "Rv3916c                293\n",
       "Rv1432                 201\n",
       "2003B_Sassetti         193\n",
       "2016_Nambi             191\n",
       "2016_Korte             136\n",
       "2005_Rengarajan        126\n",
       "Rv2680                 124\n",
       "ponA1                  120\n",
       "2017_Xu_1E             110\n",
       "2018_Rittershaus_1A    101\n",
       "2011_Griffin_2          96\n",
       "2017_Xu_1C              90\n",
       "Rv3717                  90\n",
       "2017B_DeJesus_1B        90\n",
       "2017_Xu_1A              89\n",
       "2017B_DeJesus_1C        84\n",
       "2017_Xu_1B              75\n",
       "2017_Mishra_1C          70\n",
       "2017_Xu_1D              67\n",
       "2013_Zhang_2            58\n",
       "Rv0954                  52\n",
       "2018_Carey_1G           48\n",
       "2017_Mishra_1A          47\n",
       "2017B_DeJesus_1A        46\n",
       "Rv3811                  41\n",
       "2018_Carey_1C           41\n",
       "Rv3594                  35\n",
       "2006_Joshi_GI_1         35\n",
       "2018_Carey_1A           35\n",
       "2018_Carey_1B           33\n",
       "2006_Joshi_GI_2         31\n",
       "2018_Rittershaus_1B     30\n",
       "2017_Mishra_1B          23\n",
       "2013_Zhang_3B           21\n",
       "2015_Kieser_GI_1        21\n",
       "2015_Kieser_GI_3        21\n",
       "2017_Mishra_1D          21\n",
       "Rv1096                  18\n",
       "Rv0950                  18\n",
       "2018_Carey_1F           18\n",
       "2018_Carey_1D           14\n",
       "2015_Kieser_GI_2        13\n",
       "2018_Carey_1H           13\n",
       "2013_Zhang_3C           12\n",
       "2013_Zhang_3D           12\n",
       "2018_Carey_1E           12\n",
       "2013_Zhang_3A            4\n",
       "Rv3684                   3\n",
       "dtype: int64"
      ]
     },
     "execution_count": 4,
     "metadata": {},
     "output_type": "execute_result"
    }
   ],
   "source": [
    "df_tn.sum(numeric_only=True).sort_values(ascending = False)"
   ]
  },
  {
   "cell_type": "code",
   "execution_count": 34,
   "metadata": {},
   "outputs": [
    {
     "data": {
      "image/png": "[encoded data removed]",
      "text/plain": [
       "<Figure size 1152x432 with 1 Axes>"
      ]
     },
     "metadata": {
      "needs_background": "light"
     },
     "output_type": "display_data"
    }
   ],
   "source": [
    "df_Tn_screen_stats = df_tn.sum(numeric_only=True).sort_values(ascending = False)\n",
    "vals = df_Tn_screen_stats.values\n",
    "labels = df_Tn_screen_stats.keys()\n",
    "xvals = np.arange(len(vals))\n",
    "plt.figure(figsize = (16,6))\n",
    "plt.bar(xvals, vals)\n",
    "plt.ylabel('No. essential gene calls', fontsize = 24)\n",
    "xt = plt.xticks(xvals, np.array(labels), rotation = 90)\n",
    "plt.xlabel('Transposon screen name', fontsize = 24)\n",
    "plt.tight_layout()\n",
    "plt.savefig('Tn_screen_stats.png', dpi = 300)\n"
   ]
  },
  {
   "cell_type": "markdown",
   "metadata": {},
   "source": [
    "### Same thing, but only the Flute GI datasets: "
   ]
  },
  {
   "cell_type": "code",
   "execution_count": 159,
   "metadata": {},
   "outputs": [
    {
     "data": {
      "text/plain": [
       "Rv0307c    554\n",
       "Rv3005c    458\n",
       "Rv1565c    363\n",
       "marP       296\n",
       "Rv3916c    293\n",
       "Rv1432     201\n",
       "Rv2680     124\n",
       "ponA1      120\n",
       "Rv3717      90\n",
       "Rv0954      52\n",
       "Rv3811      41\n",
       "Rv3594      35\n",
       "Rv1096      18\n",
       "Rv0950      18\n",
       "Rv3684       3\n",
       "dtype: int64"
      ]
     },
     "execution_count": 159,
     "metadata": {},
     "output_type": "execute_result"
    }
   ],
   "source": [
    "df_flute = pd.read_excel('Tn_library_studies/FLUTE_KO_TnSeq/col_name_to_file.xlsx')\n",
    "flute_col = df_flute['column_name']\n",
    "df_tn[flute_col].sum(numeric_only=True).sort_values(ascending = False)"
   ]
  },
  {
   "cell_type": "markdown",
   "metadata": {},
   "source": [
    "# Rank genes by the number of times they're essential across conditions: "
   ]
  },
  {
   "cell_type": "code",
   "execution_count": 35,
   "metadata": {},
   "outputs": [],
   "source": [
    "df_tn['sum_all'] = df_tn.sum(numeric_only=True, axis = 1)"
   ]
  },
  {
   "cell_type": "code",
   "execution_count": 37,
   "metadata": {},
   "outputs": [
    {
     "data": {
      "text/html": [
       "<div>\n",
       "<style scoped>\n",
       "    .dataframe tbody tr th:only-of-type {\n",
       "        vertical-align: middle;\n",
       "    }\n",
       "\n",
       "    .dataframe tbody tr th {\n",
       "        vertical-align: top;\n",
       "    }\n",
       "\n",
       "    .dataframe thead th {\n",
       "        text-align: right;\n",
       "    }\n",
       "</style>\n",
       "<table border=\"1\" class=\"dataframe\">\n",
       "  <thead>\n",
       "    <tr style=\"text-align: right;\">\n",
       "      <th></th>\n",
       "      <th>Rv_ID</th>\n",
       "      <th>gene_name</th>\n",
       "      <th>sum_all</th>\n",
       "    </tr>\n",
       "  </thead>\n",
       "  <tbody>\n",
       "    <tr>\n",
       "      <th>0</th>\n",
       "      <td>Rv2931</td>\n",
       "      <td>ppsA</td>\n",
       "      <td>22</td>\n",
       "    </tr>\n",
       "    <tr>\n",
       "      <th>1</th>\n",
       "      <td>Rv2935</td>\n",
       "      <td>ppsE</td>\n",
       "      <td>21</td>\n",
       "    </tr>\n",
       "    <tr>\n",
       "      <th>2</th>\n",
       "      <td>Rv0806c</td>\n",
       "      <td>cpsY</td>\n",
       "      <td>21</td>\n",
       "    </tr>\n",
       "    <tr>\n",
       "      <th>3</th>\n",
       "      <td>Rv2932</td>\n",
       "      <td>ppsB</td>\n",
       "      <td>20</td>\n",
       "    </tr>\n",
       "    <tr>\n",
       "      <th>4</th>\n",
       "      <td>Rv1836c</td>\n",
       "      <td>-</td>\n",
       "      <td>20</td>\n",
       "    </tr>\n",
       "    <tr>\n",
       "      <th>5</th>\n",
       "      <td>Rv0066c</td>\n",
       "      <td>icd2</td>\n",
       "      <td>19</td>\n",
       "    </tr>\n",
       "    <tr>\n",
       "      <th>6</th>\n",
       "      <td>Rv2933</td>\n",
       "      <td>ppsC</td>\n",
       "      <td>19</td>\n",
       "    </tr>\n",
       "    <tr>\n",
       "      <th>7</th>\n",
       "      <td>Rv1821</td>\n",
       "      <td>secA2</td>\n",
       "      <td>18</td>\n",
       "    </tr>\n",
       "    <tr>\n",
       "      <th>8</th>\n",
       "      <td>Rv2940c</td>\n",
       "      <td>mas</td>\n",
       "      <td>18</td>\n",
       "    </tr>\n",
       "    <tr>\n",
       "      <th>9</th>\n",
       "      <td>Rv2934</td>\n",
       "      <td>ppsD</td>\n",
       "      <td>17</td>\n",
       "    </tr>\n",
       "    <tr>\n",
       "      <th>10</th>\n",
       "      <td>Rv2224c</td>\n",
       "      <td>-</td>\n",
       "      <td>17</td>\n",
       "    </tr>\n",
       "    <tr>\n",
       "      <th>11</th>\n",
       "      <td>Rv1908c</td>\n",
       "      <td>katG</td>\n",
       "      <td>17</td>\n",
       "    </tr>\n",
       "    <tr>\n",
       "      <th>12</th>\n",
       "      <td>Rv3193c</td>\n",
       "      <td>-</td>\n",
       "      <td>16</td>\n",
       "    </tr>\n",
       "    <tr>\n",
       "      <th>13</th>\n",
       "      <td>Rv2051c</td>\n",
       "      <td>ppm1</td>\n",
       "      <td>16</td>\n",
       "    </tr>\n",
       "    <tr>\n",
       "      <th>14</th>\n",
       "      <td>Rv0450c</td>\n",
       "      <td>mmpL4</td>\n",
       "      <td>16</td>\n",
       "    </tr>\n",
       "    <tr>\n",
       "      <th>15</th>\n",
       "      <td>Rv0757</td>\n",
       "      <td>phoP</td>\n",
       "      <td>16</td>\n",
       "    </tr>\n",
       "    <tr>\n",
       "      <th>16</th>\n",
       "      <td>Rv2241</td>\n",
       "      <td>aceE</td>\n",
       "      <td>16</td>\n",
       "    </tr>\n",
       "    <tr>\n",
       "      <th>17</th>\n",
       "      <td>Rv1339</td>\n",
       "      <td>-</td>\n",
       "      <td>16</td>\n",
       "    </tr>\n",
       "    <tr>\n",
       "      <th>18</th>\n",
       "      <td>Rv3682</td>\n",
       "      <td>ponA2</td>\n",
       "      <td>15</td>\n",
       "    </tr>\n",
       "    <tr>\n",
       "      <th>19</th>\n",
       "      <td>Rv1565c</td>\n",
       "      <td>-</td>\n",
       "      <td>15</td>\n",
       "    </tr>\n",
       "    <tr>\n",
       "      <th>20</th>\n",
       "      <td>Rv1640c</td>\n",
       "      <td>lysS</td>\n",
       "      <td>15</td>\n",
       "    </tr>\n",
       "    <tr>\n",
       "      <th>21</th>\n",
       "      <td>Rv2710</td>\n",
       "      <td>sigB</td>\n",
       "      <td>14</td>\n",
       "    </tr>\n",
       "    <tr>\n",
       "      <th>22</th>\n",
       "      <td>Rv3283</td>\n",
       "      <td>sseA</td>\n",
       "      <td>14</td>\n",
       "    </tr>\n",
       "    <tr>\n",
       "      <th>23</th>\n",
       "      <td>Rv0204c</td>\n",
       "      <td>-</td>\n",
       "      <td>14</td>\n",
       "    </tr>\n",
       "    <tr>\n",
       "      <th>24</th>\n",
       "      <td>Rv0248c</td>\n",
       "      <td>sdhA</td>\n",
       "      <td>14</td>\n",
       "    </tr>\n",
       "    <tr>\n",
       "      <th>25</th>\n",
       "      <td>Rv0410c</td>\n",
       "      <td>pknG</td>\n",
       "      <td>14</td>\n",
       "    </tr>\n",
       "    <tr>\n",
       "      <th>26</th>\n",
       "      <td>Rv2930</td>\n",
       "      <td>fadD26</td>\n",
       "      <td>14</td>\n",
       "    </tr>\n",
       "    <tr>\n",
       "      <th>27</th>\n",
       "      <td>Rv2400c</td>\n",
       "      <td>subI</td>\n",
       "      <td>14</td>\n",
       "    </tr>\n",
       "    <tr>\n",
       "      <th>28</th>\n",
       "      <td>Rv2476c</td>\n",
       "      <td>gdh</td>\n",
       "      <td>14</td>\n",
       "    </tr>\n",
       "    <tr>\n",
       "      <th>29</th>\n",
       "      <td>Rv0805</td>\n",
       "      <td>-</td>\n",
       "      <td>14</td>\n",
       "    </tr>\n",
       "    <tr>\n",
       "      <th>30</th>\n",
       "      <td>Rv0820</td>\n",
       "      <td>phoT</td>\n",
       "      <td>14</td>\n",
       "    </tr>\n",
       "    <tr>\n",
       "      <th>31</th>\n",
       "      <td>Rv1592c</td>\n",
       "      <td>-</td>\n",
       "      <td>14</td>\n",
       "    </tr>\n",
       "    <tr>\n",
       "      <th>32</th>\n",
       "      <td>Rv0758</td>\n",
       "      <td>phoR</td>\n",
       "      <td>13</td>\n",
       "    </tr>\n",
       "    <tr>\n",
       "      <th>33</th>\n",
       "      <td>Rv2131c</td>\n",
       "      <td>cysQ</td>\n",
       "      <td>13</td>\n",
       "    </tr>\n",
       "    <tr>\n",
       "      <th>34</th>\n",
       "      <td>Rv2115c</td>\n",
       "      <td>-</td>\n",
       "      <td>13</td>\n",
       "    </tr>\n",
       "    <tr>\n",
       "      <th>35</th>\n",
       "      <td>Rv0412c</td>\n",
       "      <td>-</td>\n",
       "      <td>13</td>\n",
       "    </tr>\n",
       "    <tr>\n",
       "      <th>36</th>\n",
       "      <td>Rv0127</td>\n",
       "      <td>-</td>\n",
       "      <td>13</td>\n",
       "    </tr>\n",
       "    <tr>\n",
       "      <th>37</th>\n",
       "      <td>Rv2941</td>\n",
       "      <td>fadD28</td>\n",
       "      <td>13</td>\n",
       "    </tr>\n",
       "    <tr>\n",
       "      <th>38</th>\n",
       "      <td>Rv1432</td>\n",
       "      <td>-</td>\n",
       "      <td>13</td>\n",
       "    </tr>\n",
       "    <tr>\n",
       "      <th>39</th>\n",
       "      <td>Rv1206</td>\n",
       "      <td>fadD6</td>\n",
       "      <td>13</td>\n",
       "    </tr>\n",
       "  </tbody>\n",
       "</table>\n",
       "</div>"
      ],
      "text/plain": [
       "      Rv_ID gene_name  sum_all\n",
       "0    Rv2931      ppsA       22\n",
       "1    Rv2935      ppsE       21\n",
       "2   Rv0806c      cpsY       21\n",
       "3    Rv2932      ppsB       20\n",
       "4   Rv1836c         -       20\n",
       "5   Rv0066c      icd2       19\n",
       "6    Rv2933      ppsC       19\n",
       "7    Rv1821     secA2       18\n",
       "8   Rv2940c       mas       18\n",
       "9    Rv2934      ppsD       17\n",
       "10  Rv2224c         -       17\n",
       "11  Rv1908c      katG       17\n",
       "12  Rv3193c         -       16\n",
       "13  Rv2051c      ppm1       16\n",
       "14  Rv0450c     mmpL4       16\n",
       "15   Rv0757      phoP       16\n",
       "16   Rv2241      aceE       16\n",
       "17   Rv1339         -       16\n",
       "18   Rv3682     ponA2       15\n",
       "19  Rv1565c         -       15\n",
       "20  Rv1640c      lysS       15\n",
       "21   Rv2710      sigB       14\n",
       "22   Rv3283      sseA       14\n",
       "23  Rv0204c         -       14\n",
       "24  Rv0248c      sdhA       14\n",
       "25  Rv0410c      pknG       14\n",
       "26   Rv2930    fadD26       14\n",
       "27  Rv2400c      subI       14\n",
       "28  Rv2476c       gdh       14\n",
       "29   Rv0805         -       14\n",
       "30   Rv0820      phoT       14\n",
       "31  Rv1592c         -       14\n",
       "32   Rv0758      phoR       13\n",
       "33  Rv2131c      cysQ       13\n",
       "34  Rv2115c         -       13\n",
       "35  Rv0412c         -       13\n",
       "36   Rv0127         -       13\n",
       "37   Rv2941    fadD28       13\n",
       "38   Rv1432         -       13\n",
       "39   Rv1206     fadD6       13"
      ]
     },
     "execution_count": 37,
     "metadata": {},
     "output_type": "execute_result"
    }
   ],
   "source": [
    "df_tn_top = df_tn[df_tn.sum_all > 12][['Rv_ID', 'gene_name', 'sum_all']].sort_values(by='sum_all', ascending=False)\n",
    "df_tn_top.reset_index(inplace=True, drop=True)\n",
    "df_tn_top"
   ]
  },
  {
   "cell_type": "markdown",
   "metadata": {},
   "source": [
    "How big was the effect?"
   ]
  },
  {
   "cell_type": "code",
   "execution_count": 167,
   "metadata": {},
   "outputs": [
    {
     "data": {
      "text/plain": [
       "['2013_DeJesus',\n",
       " '2013_Zhang_1',\n",
       " '2015_Mendum',\n",
       " '2015_Kieser_GI_3',\n",
       " '2016_Korte',\n",
       " '2017_Xu_1B',\n",
       " '2017_Xu_1C',\n",
       " '2017_Xu_1D',\n",
       " '2017_Xu_1E',\n",
       " 'Rv3005c',\n",
       " 'ponA1',\n",
       " 'Rv3811',\n",
       " 'Rv0950',\n",
       " 'Rv3717',\n",
       " 'Rv3594',\n",
       " 'Rv3916c',\n",
       " 'marP',\n",
       " 'Rv0954',\n",
       " 'Rv1432',\n",
       " 'Rv0307c']"
      ]
     },
     "execution_count": 167,
     "metadata": {},
     "output_type": "execute_result"
    }
   ],
   "source": [
    "gene_id = 'Rv1836c'\n",
    "essentiality_calls(df_tn, gene_id)"
   ]
  },
  {
   "cell_type": "markdown",
   "metadata": {},
   "source": [
    "Why do I have an essentiality call? Because the .dat files are the results of a conditional essentiality run (relative to a WT library, in each individual experiment).\n",
    "\n",
    "Why do I sometimes see a \"hit\" in both e.g. 2013 DeJesus and a \"conditional\" screen like the FLUTE? \n",
    "1. different reference conditions\n",
    "2. different models \n",
    "3. could be \"rescue\" interactions\n",
    "\n",
    "Add a column with the number of insertion sites.  a rule of thumb to threshold could be ~ >5\n",
    "\n",
    "You could also annotate each column with a \"quality control\" measure (density/coverage, or total read counts)"
   ]
  },
  {
   "cell_type": "markdown",
   "metadata": {},
   "source": [
    "## The questions arise: \n",
    "* How many of these are genetic interactions? \n",
    "* Why does this gene appear in all those GI Flute datasets, if those are supposed to be \"condition\n",
    "\n"
   ]
  },
  {
   "cell_type": "markdown",
   "metadata": {},
   "source": [
    "## How many genes are essential in none of the columns? "
   ]
  },
  {
   "cell_type": "code",
   "execution_count": 38,
   "metadata": {},
   "outputs": [
    {
     "data": {
      "text/plain": [
       "(1178, 61)"
      ]
     },
     "execution_count": 38,
     "metadata": {},
     "output_type": "execute_result"
    }
   ],
   "source": [
    "df_tn[df_tn.sum_all == 0].shape"
   ]
  },
  {
   "cell_type": "markdown",
   "metadata": {},
   "source": [
    "only one condition:"
   ]
  },
  {
   "cell_type": "code",
   "execution_count": 39,
   "metadata": {},
   "outputs": [
    {
     "data": {
      "text/plain": [
       "(965, 61)"
      ]
     },
     "execution_count": 39,
     "metadata": {},
     "output_type": "execute_result"
    }
   ],
   "source": [
    "df_tn[df_tn.sum_all == 1].shape"
   ]
  },
  {
   "cell_type": "markdown",
   "metadata": {},
   "source": [
    "two conditions: "
   ]
  },
  {
   "cell_type": "code",
   "execution_count": 40,
   "metadata": {},
   "outputs": [
    {
     "data": {
      "text/plain": [
       "(568, 61)"
      ]
     },
     "execution_count": 40,
     "metadata": {},
     "output_type": "execute_result"
    }
   ],
   "source": [
    "df_tn[df_tn.sum_all == 2].shape"
   ]
  },
  {
   "cell_type": "markdown",
   "metadata": {},
   "source": [
    "### Distribution of essentiality counts across genes: "
   ]
  },
  {
   "cell_type": "code",
   "execution_count": 53,
   "metadata": {},
   "outputs": [],
   "source": [
    "import seaborn as sns"
   ]
  },
  {
   "cell_type": "code",
   "execution_count": 58,
   "metadata": {},
   "outputs": [
    {
     "data": {
      "image/png": "[encoded data removed]",
      "text/plain": [
       "<Figure size 864x432 with 1 Axes>"
      ]
     },
     "metadata": {
      "needs_background": "light"
     },
     "output_type": "display_data"
    }
   ],
   "source": [
    "plt.figure(figsize = (12,6))\n",
    "hist = plt.hist(df_tn['sum_all'].values, bins = np.arange(-0.5, 21), edgecolor='black', linewidth=2)\n",
    "# sns.distplot(df_tn['sum_all'].values, bins = np.arange(-0.5, 21))\n",
    "plt.xlabel('Number of essentiality calls', fontsize = 24)\n",
    "plt.ylabel('Number of genes', fontsize = 24)\n",
    "plt.xticks(fontsize = 15)\n",
    "yt = plt.yticks(fontsize = 15)\n",
    "# plt.savefig('gene_stats.png', dpi = 300)"
   ]
  },
  {
   "cell_type": "markdown",
   "metadata": {},
   "source": [
    "## Understanding the Sassetti (2013A, 2013B) datasets: "
   ]
  },
  {
   "cell_type": "code",
   "execution_count": 136,
   "metadata": {},
   "outputs": [
    {
     "data": {
      "text/html": [
       "<div>\n",
       "<style scoped>\n",
       "    .dataframe tbody tr th:only-of-type {\n",
       "        vertical-align: middle;\n",
       "    }\n",
       "\n",
       "    .dataframe tbody tr th {\n",
       "        vertical-align: top;\n",
       "    }\n",
       "\n",
       "    .dataframe thead th {\n",
       "        text-align: right;\n",
       "    }\n",
       "</style>\n",
       "<table border=\"1\" class=\"dataframe\">\n",
       "  <thead>\n",
       "    <tr style=\"text-align: right;\">\n",
       "      <th></th>\n",
       "      <th>Rv_ID</th>\n",
       "      <th>gene_name</th>\n",
       "      <th>2003A_Sassetti</th>\n",
       "      <th>2003B_Sassetti</th>\n",
       "    </tr>\n",
       "  </thead>\n",
       "  <tbody>\n",
       "    <tr>\n",
       "      <th>647</th>\n",
       "      <td>Rv0636</td>\n",
       "      <td>-</td>\n",
       "      <td>1</td>\n",
       "      <td>1</td>\n",
       "    </tr>\n",
       "    <tr>\n",
       "      <th>1110</th>\n",
       "      <td>Rv1092c</td>\n",
       "      <td>coaA</td>\n",
       "      <td>1</td>\n",
       "      <td>1</td>\n",
       "    </tr>\n",
       "    <tr>\n",
       "      <th>1147</th>\n",
       "      <td>Rv1128c</td>\n",
       "      <td>-</td>\n",
       "      <td>1</td>\n",
       "      <td>1</td>\n",
       "    </tr>\n",
       "    <tr>\n",
       "      <th>1304</th>\n",
       "      <td>Rv1284</td>\n",
       "      <td>-</td>\n",
       "      <td>1</td>\n",
       "      <td>1</td>\n",
       "    </tr>\n",
       "    <tr>\n",
       "      <th>1488</th>\n",
       "      <td>Rv1465</td>\n",
       "      <td>-</td>\n",
       "      <td>1</td>\n",
       "      <td>1</td>\n",
       "    </tr>\n",
       "    <tr>\n",
       "      <th>1682</th>\n",
       "      <td>Rv1653</td>\n",
       "      <td>argJ</td>\n",
       "      <td>1</td>\n",
       "      <td>1</td>\n",
       "    </tr>\n",
       "    <tr>\n",
       "      <th>2243</th>\n",
       "      <td>Rv2211c</td>\n",
       "      <td>gcvT</td>\n",
       "      <td>1</td>\n",
       "      <td>1</td>\n",
       "    </tr>\n",
       "    <tr>\n",
       "      <th>2264</th>\n",
       "      <td>Rv2231c</td>\n",
       "      <td>cobC</td>\n",
       "      <td>1</td>\n",
       "      <td>1</td>\n",
       "    </tr>\n",
       "    <tr>\n",
       "      <th>2430</th>\n",
       "      <td>Rv2391</td>\n",
       "      <td>nirA</td>\n",
       "      <td>1</td>\n",
       "      <td>1</td>\n",
       "    </tr>\n",
       "    <tr>\n",
       "      <th>2477</th>\n",
       "      <td>Rv2437</td>\n",
       "      <td>-</td>\n",
       "      <td>1</td>\n",
       "      <td>1</td>\n",
       "    </tr>\n",
       "    <tr>\n",
       "      <th>2746</th>\n",
       "      <td>Rv2702</td>\n",
       "      <td>ppgK</td>\n",
       "      <td>1</td>\n",
       "      <td>1</td>\n",
       "    </tr>\n",
       "    <tr>\n",
       "      <th>2858</th>\n",
       "      <td>Rv2813</td>\n",
       "      <td>-</td>\n",
       "      <td>1</td>\n",
       "      <td>1</td>\n",
       "    </tr>\n",
       "    <tr>\n",
       "      <th>2890</th>\n",
       "      <td>Rv2845c</td>\n",
       "      <td>proS</td>\n",
       "      <td>1</td>\n",
       "      <td>1</td>\n",
       "    </tr>\n",
       "    <tr>\n",
       "      <th>3029</th>\n",
       "      <td>Rv2981c</td>\n",
       "      <td>ddl</td>\n",
       "      <td>1</td>\n",
       "      <td>1</td>\n",
       "    </tr>\n",
       "    <tr>\n",
       "      <th>3093</th>\n",
       "      <td>Rv3042c</td>\n",
       "      <td>serB2</td>\n",
       "      <td>1</td>\n",
       "      <td>1</td>\n",
       "    </tr>\n",
       "    <tr>\n",
       "      <th>3846</th>\n",
       "      <td>Rv3781</td>\n",
       "      <td>rfbE</td>\n",
       "      <td>1</td>\n",
       "      <td>1</td>\n",
       "    </tr>\n",
       "    <tr>\n",
       "      <th>3870</th>\n",
       "      <td>Rv3805c</td>\n",
       "      <td>-</td>\n",
       "      <td>1</td>\n",
       "      <td>1</td>\n",
       "    </tr>\n",
       "  </tbody>\n",
       "</table>\n",
       "</div>"
      ],
      "text/plain": [
       "        Rv_ID gene_name  2003A_Sassetti  2003B_Sassetti\n",
       "647    Rv0636         -               1               1\n",
       "1110  Rv1092c      coaA               1               1\n",
       "1147  Rv1128c         -               1               1\n",
       "1304   Rv1284         -               1               1\n",
       "1488   Rv1465         -               1               1\n",
       "1682   Rv1653      argJ               1               1\n",
       "2243  Rv2211c      gcvT               1               1\n",
       "2264  Rv2231c      cobC               1               1\n",
       "2430   Rv2391      nirA               1               1\n",
       "2477   Rv2437         -               1               1\n",
       "2746   Rv2702      ppgK               1               1\n",
       "2858   Rv2813         -               1               1\n",
       "2890  Rv2845c      proS               1               1\n",
       "3029  Rv2981c       ddl               1               1\n",
       "3093  Rv3042c     serB2               1               1\n",
       "3846   Rv3781      rfbE               1               1\n",
       "3870  Rv3805c         -               1               1"
      ]
     },
     "execution_count": 136,
     "metadata": {},
     "output_type": "execute_result"
    }
   ],
   "source": [
    "col_1 = '2003A_Sassetti'\n",
    "col_2 = '2003B_Sassetti'\n",
    "df_tn[ (df_tn[col_1] == 1) & (df_tn[col_2] == 1)][['Rv_ID', 'gene_name', col_1, col_2]]"
   ]
  },
  {
   "cell_type": "code",
   "execution_count": null,
   "metadata": {},
   "outputs": [],
   "source": [
    "col_1 = '2003A_Sassetti'\n",
    "df_tn[ (df_tn[col_1] == 1) & (df_tn[col_2] == 1)][['Rv_ID', 'gene_name', col_1, col_2]]"
   ]
  },
  {
   "cell_type": "markdown",
   "metadata": {},
   "source": [
    "# The genes in Victor's thesis: "
   ]
  },
  {
   "cell_type": "code",
   "execution_count": 13,
   "metadata": {},
   "outputs": [
    {
     "data": {
      "text/plain": [
       "[]"
      ]
     },
     "execution_count": 13,
     "metadata": {},
     "output_type": "execute_result"
    }
   ],
   "source": [
    "gene_id = 'Rv3010c' #pfkA\n",
    "essentiality_calls(df_tn, gene_id)"
   ]
  },
  {
   "cell_type": "code",
   "execution_count": 15,
   "metadata": {},
   "outputs": [
    {
     "data": {
      "text/plain": [
       "['Rv2680']"
      ]
     },
     "execution_count": 15,
     "metadata": {},
     "output_type": "execute_result"
    }
   ],
   "source": [
    "gene_id = 'Rv2029c' #pfkB\n",
    "essentiality_calls(df_tn, gene_id)"
   ]
  },
  {
   "cell_type": "code",
   "execution_count": 16,
   "metadata": {},
   "outputs": [
    {
     "data": {
      "text/plain": [
       "['2003B_Sassetti', '2013_DeJesus', '2013_Zhang_1', '2018_Carey_1G']"
      ]
     },
     "execution_count": 16,
     "metadata": {},
     "output_type": "execute_result"
    }
   ],
   "source": [
    "gene_id = 'Rv1099c' #glpX bisphosphatase\n",
    "essentiality_calls(df_tn, gene_id)"
   ]
  },
  {
   "cell_type": "markdown",
   "metadata": {},
   "source": [
    "# Start playing around with the genes in your CRISPRi library"
   ]
  },
  {
   "cell_type": "markdown",
   "metadata": {},
   "source": [
    "mdh"
   ]
  },
  {
   "cell_type": "code",
   "execution_count": 168,
   "metadata": {},
   "outputs": [
    {
     "data": {
      "text/plain": [
       "[]"
      ]
     },
     "execution_count": 168,
     "metadata": {},
     "output_type": "execute_result"
    }
   ],
   "source": [
    "gene_id = 'Rv1240'\n",
    "essentiality_calls(df_tn, gene_id)"
   ]
  },
  {
   "cell_type": "markdown",
   "metadata": {},
   "source": [
    "### PEP-node"
   ]
  },
  {
   "cell_type": "markdown",
   "metadata": {},
   "source": [
    "pckA"
   ]
  },
  {
   "cell_type": "code",
   "execution_count": 152,
   "metadata": {},
   "outputs": [
    {
     "data": {
      "text/plain": [
       "['2012_Zhang',\n",
       " '2013_DeJesus',\n",
       " '2013_Zhang_1',\n",
       " '2013_Zhang_2',\n",
       " '2017_Xu_1E',\n",
       " '2017_Mishra_1D',\n",
       " 'Rv3717',\n",
       " 'Rv3916c',\n",
       " 'marP',\n",
       " 'Rv0954',\n",
       " 'Rv0307c']"
      ]
     },
     "execution_count": 152,
     "metadata": {},
     "output_type": "execute_result"
    }
   ],
   "source": [
    "gene_id = 'Rv0211'\n",
    "essentiality_calls(df_tn, gene_id)"
   ]
  },
  {
   "cell_type": "markdown",
   "metadata": {},
   "source": [
    "### Shikimate pathway"
   ]
  },
  {
   "cell_type": "markdown",
   "metadata": {},
   "source": [
    "aroE --> look at the primary data!\n",
    "\n",
    "Is this really interesting?  Are the other steps essential? "
   ]
  },
  {
   "cell_type": "code",
   "execution_count": 169,
   "metadata": {},
   "outputs": [
    {
     "data": {
      "text/plain": [
       "['2003A_Sassetti', 'Rv0954']"
      ]
     },
     "execution_count": 169,
     "metadata": {},
     "output_type": "execute_result"
    }
   ],
   "source": [
    "gene_id = 'Rv2552c'\n",
    "essentiality_calls(df_tn, gene_id)"
   ]
  },
  {
   "cell_type": "markdown",
   "metadata": {},
   "source": [
    "### More global approach: "
   ]
  },
  {
   "cell_type": "code",
   "execution_count": 184,
   "metadata": {},
   "outputs": [
    {
     "data": {
      "text/plain": [
       "128"
      ]
     },
     "execution_count": 184,
     "metadata": {},
     "output_type": "execute_result"
    }
   ],
   "source": [
    "df_cloned = pd.read_excel('cloned_genes_DB.xlsx', sheet_name='selected')\n",
    "df_cloned.dropna(subset=['Rv_ID'], inplace=True)\n",
    "cloned_genes = [''.join(rv.split('_')) for rv in df_cloned.Rv_ID.unique()]\n",
    "len(cloned_genes)"
   ]
  },
  {
   "cell_type": "code",
   "execution_count": 185,
   "metadata": {},
   "outputs": [],
   "source": [
    "df_tn_cloned = df_tn[df_tn.Rv_ID.isin(cloned_genes)]"
   ]
  },
  {
   "cell_type": "code",
   "execution_count": 201,
   "metadata": {},
   "outputs": [],
   "source": [
    "cols_data = df_tn_cloned.columns[2:-1]"
   ]
  },
  {
   "cell_type": "code",
   "execution_count": 204,
   "metadata": {},
   "outputs": [],
   "source": [
    "df_tn_cloned.sort_values(by='sum_all', ascending=False)\n",
    "df_tn_cloned.reset_index(inplace=True, drop=True)\n",
    "df_tn_cloned = df_tn_cloned[['Rv_ID', 'gene_name', 'sum_all']+list(cols_data)]"
   ]
  },
  {
   "cell_type": "code",
   "execution_count": 205,
   "metadata": {},
   "outputs": [],
   "source": [
    "df_tn_cloned.to_excel('Tn_data_CRISPRi_cloned.xlsx', index = False)"
   ]
  },
  {
   "cell_type": "code",
   "execution_count": 206,
   "metadata": {},
   "outputs": [
    {
     "data": {
      "text/html": [
       "<div>\n",
       "<style scoped>\n",
       "    .dataframe tbody tr th:only-of-type {\n",
       "        vertical-align: middle;\n",
       "    }\n",
       "\n",
       "    .dataframe tbody tr th {\n",
       "        vertical-align: top;\n",
       "    }\n",
       "\n",
       "    .dataframe thead th {\n",
       "        text-align: right;\n",
       "    }\n",
       "</style>\n",
       "<table border=\"1\" class=\"dataframe\">\n",
       "  <thead>\n",
       "    <tr style=\"text-align: right;\">\n",
       "      <th></th>\n",
       "      <th>Rv_ID</th>\n",
       "      <th>gene_name</th>\n",
       "      <th>sum_all</th>\n",
       "      <th>2003A_Sassetti</th>\n",
       "      <th>2003B_Sassetti</th>\n",
       "      <th>2005_Rengarajan</th>\n",
       "      <th>2006_Joshi_GI_1</th>\n",
       "      <th>2006_Joshi_GI_2</th>\n",
       "      <th>2011_Griffin_2</th>\n",
       "      <th>2012_Zhang</th>\n",
       "      <th>...</th>\n",
       "      <th>Rv0950</th>\n",
       "      <th>Rv3717</th>\n",
       "      <th>Rv3594</th>\n",
       "      <th>Rv3916c</th>\n",
       "      <th>marP</th>\n",
       "      <th>Rv0954</th>\n",
       "      <th>Rv1432</th>\n",
       "      <th>Rv1096</th>\n",
       "      <th>Rv2680</th>\n",
       "      <th>Rv0307c</th>\n",
       "    </tr>\n",
       "  </thead>\n",
       "  <tbody>\n",
       "    <tr>\n",
       "      <th>0</th>\n",
       "      <td>Rv3283</td>\n",
       "      <td>sseA</td>\n",
       "      <td>14</td>\n",
       "      <td>0</td>\n",
       "      <td>0</td>\n",
       "      <td>1</td>\n",
       "      <td>0</td>\n",
       "      <td>0</td>\n",
       "      <td>0</td>\n",
       "      <td>0</td>\n",
       "      <td>...</td>\n",
       "      <td>0</td>\n",
       "      <td>1</td>\n",
       "      <td>0</td>\n",
       "      <td>0</td>\n",
       "      <td>1</td>\n",
       "      <td>0</td>\n",
       "      <td>0</td>\n",
       "      <td>0</td>\n",
       "      <td>0</td>\n",
       "      <td>1</td>\n",
       "    </tr>\n",
       "    <tr>\n",
       "      <th>1</th>\n",
       "      <td>Rv1432</td>\n",
       "      <td>-</td>\n",
       "      <td>13</td>\n",
       "      <td>0</td>\n",
       "      <td>0</td>\n",
       "      <td>0</td>\n",
       "      <td>0</td>\n",
       "      <td>0</td>\n",
       "      <td>1</td>\n",
       "      <td>0</td>\n",
       "      <td>...</td>\n",
       "      <td>0</td>\n",
       "      <td>0</td>\n",
       "      <td>0</td>\n",
       "      <td>1</td>\n",
       "      <td>1</td>\n",
       "      <td>0</td>\n",
       "      <td>0</td>\n",
       "      <td>0</td>\n",
       "      <td>0</td>\n",
       "      <td>1</td>\n",
       "    </tr>\n",
       "    <tr>\n",
       "      <th>2</th>\n",
       "      <td>Rv0244c</td>\n",
       "      <td>fadE5</td>\n",
       "      <td>12</td>\n",
       "      <td>0</td>\n",
       "      <td>0</td>\n",
       "      <td>0</td>\n",
       "      <td>0</td>\n",
       "      <td>0</td>\n",
       "      <td>1</td>\n",
       "      <td>0</td>\n",
       "      <td>...</td>\n",
       "      <td>0</td>\n",
       "      <td>0</td>\n",
       "      <td>0</td>\n",
       "      <td>0</td>\n",
       "      <td>1</td>\n",
       "      <td>0</td>\n",
       "      <td>0</td>\n",
       "      <td>0</td>\n",
       "      <td>0</td>\n",
       "      <td>0</td>\n",
       "    </tr>\n",
       "    <tr>\n",
       "      <th>3</th>\n",
       "      <td>Rv0211</td>\n",
       "      <td>pckA</td>\n",
       "      <td>11</td>\n",
       "      <td>0</td>\n",
       "      <td>0</td>\n",
       "      <td>0</td>\n",
       "      <td>0</td>\n",
       "      <td>0</td>\n",
       "      <td>0</td>\n",
       "      <td>1</td>\n",
       "      <td>...</td>\n",
       "      <td>0</td>\n",
       "      <td>1</td>\n",
       "      <td>0</td>\n",
       "      <td>1</td>\n",
       "      <td>1</td>\n",
       "      <td>1</td>\n",
       "      <td>0</td>\n",
       "      <td>0</td>\n",
       "      <td>0</td>\n",
       "      <td>1</td>\n",
       "    </tr>\n",
       "    <tr>\n",
       "      <th>4</th>\n",
       "      <td>Rv2684</td>\n",
       "      <td>arsA</td>\n",
       "      <td>8</td>\n",
       "      <td>0</td>\n",
       "      <td>0</td>\n",
       "      <td>0</td>\n",
       "      <td>0</td>\n",
       "      <td>0</td>\n",
       "      <td>1</td>\n",
       "      <td>0</td>\n",
       "      <td>...</td>\n",
       "      <td>0</td>\n",
       "      <td>1</td>\n",
       "      <td>0</td>\n",
       "      <td>0</td>\n",
       "      <td>1</td>\n",
       "      <td>0</td>\n",
       "      <td>1</td>\n",
       "      <td>0</td>\n",
       "      <td>0</td>\n",
       "      <td>0</td>\n",
       "    </tr>\n",
       "  </tbody>\n",
       "</table>\n",
       "<p>5 rows × 61 columns</p>\n",
       "</div>"
      ],
      "text/plain": [
       "     Rv_ID gene_name  sum_all  2003A_Sassetti  2003B_Sassetti  \\\n",
       "0   Rv3283      sseA       14               0               0   \n",
       "1   Rv1432         -       13               0               0   \n",
       "2  Rv0244c     fadE5       12               0               0   \n",
       "3   Rv0211      pckA       11               0               0   \n",
       "4   Rv2684      arsA        8               0               0   \n",
       "\n",
       "   2005_Rengarajan  2006_Joshi_GI_1  2006_Joshi_GI_2  2011_Griffin_2  \\\n",
       "0                1                0                0               0   \n",
       "1                0                0                0               1   \n",
       "2                0                0                0               1   \n",
       "3                0                0                0               0   \n",
       "4                0                0                0               1   \n",
       "\n",
       "   2012_Zhang   ...     Rv0950  Rv3717  Rv3594  Rv3916c  marP  Rv0954  Rv1432  \\\n",
       "0           0   ...          0       1       0        0     1       0       0   \n",
       "1           0   ...          0       0       0        1     1       0       0   \n",
       "2           0   ...          0       0       0        0     1       0       0   \n",
       "3           1   ...          0       1       0        1     1       1       0   \n",
       "4           0   ...          0       1       0        0     1       0       1   \n",
       "\n",
       "   Rv1096  Rv2680  Rv0307c  \n",
       "0       0       0        1  \n",
       "1       0       0        1  \n",
       "2       0       0        0  \n",
       "3       0       0        1  \n",
       "4       0       0        0  \n",
       "\n",
       "[5 rows x 61 columns]"
      ]
     },
     "execution_count": 206,
     "metadata": {},
     "output_type": "execute_result"
    }
   ],
   "source": [
    "df_tn_cloned.head()"
   ]
  },
  {
   "cell_type": "markdown",
   "metadata": {},
   "source": [
    "Looking at individual genes: "
   ]
  },
  {
   "cell_type": "code",
   "execution_count": 212,
   "metadata": {},
   "outputs": [
    {
     "data": {
      "text/plain": [
       "['2003A_Sassetti',\n",
       " '2012_Zhang',\n",
       " '2013_DeJesus',\n",
       " '2016_Nambi',\n",
       " '2017A_DeJesus',\n",
       " 'Rv3916c']"
      ]
     },
     "execution_count": 212,
     "metadata": {},
     "output_type": "execute_result"
    }
   ],
   "source": [
    "gene_id = 'Rv0697'\n",
    "essentiality_calls(df_tn, gene_id)"
   ]
  },
  {
   "cell_type": "markdown",
   "metadata": {},
   "source": [
    "Goal: I want to ask if a gene is (or which genes are) likely to be essential in vitro. \n",
    "\n",
    "Therefore, you need a way to pick the columns are that correspond to in vitro, glycerol experiments. "
   ]
  },
  {
   "cell_type": "code",
   "execution_count": 234,
   "metadata": {},
   "outputs": [],
   "source": [
    "in_vitro_growth_cols = [\"2003A_Sassetti\", \"2012_Zhang\", \"2013_DeJesus\", \"2017A_DeJesus\", \"2018_Rittershaus_1A\"]\n",
    "df_tn_cloned_invitro = essential_subset(df_tn_cloned, in_vitro_growth_cols, 'essential_invitro_score')\n",
    "df_tn_cloned_invitro.to_excel('Tn_invitro_CRISPRi_cloned.xlsx', index=False)"
   ]
  },
  {
   "cell_type": "markdown",
   "metadata": {},
   "source": [
    "# IDEA: \n",
    "Have an \"unknown function\" score, that tells you how much is a gene really of unknown function. "
   ]
  },
  {
   "cell_type": "code",
   "execution_count": 235,
   "metadata": {},
   "outputs": [],
   "source": []
  }
 ],
 "metadata": {
  "kernelspec": {
   "display_name": "Python 3",
   "language": "python",
   "name": "python3"
  },
  "language_info": {
   "codemirror_mode": {
    "name": "ipython",
    "version": 3
   },
   "file_extension": ".py",
   "mimetype": "text/x-python",
   "name": "python",
   "nbconvert_exporter": "python",
   "pygments_lexer": "ipython3",
   "version": "3.6.6"
  }
 },
 "nbformat": 4,
 "nbformat_minor": 2
}
