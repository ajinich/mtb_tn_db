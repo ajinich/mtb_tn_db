{
 "cells": [
  {
   "cell_type": "code",
   "execution_count": null,
   "metadata": {},
   "outputs": [],
   "source": [
    "import pandas as pd\n",
    "import os\n",
    "import matplotlib.pyplot as plt\n",
    "from random import random\n",
    "import seaborn as sns\n",
    "import numpy as np"
   ]
  },
  {
   "cell_type": "markdown",
   "metadata": {},
   "source": [
    "# Function definitions:"
   ]
  },
  {
   "cell_type": "code",
   "execution_count": null,
   "metadata": {},
   "outputs": [],
   "source": [
    "def discretize_q_values(row, col_q_val):\n",
    "    q_val = row[col_q_val]\n",
    "    if q_val < 0.01:\n",
    "        q_val_d = 3\n",
    "    elif q_val < 0.05:\n",
    "        q_val_d = 2\n",
    "    else:\n",
    "        q_val_d = 1\n",
    "    return q_val_d"
   ]
  },
  {
   "cell_type": "code",
   "execution_count": null,
   "metadata": {},
   "outputs": [],
   "source": [
    "def unknown_essential_xy(TnSeq_screen, df_data, df_uk, rand_param = 0.85):\n",
    "\n",
    "    # Grab data for a single TnSeq screen\n",
    "    cols = [col for col in df_data.columns if TnSeq_screen in col]\n",
    "    df_data_test = df_data[['Rv_ID', 'gene_name'] + cols].copy()\n",
    "    \n",
    "    # Discretize q-values: \n",
    "    col_q_val = [col for col in df_data_test.columns if 'q_val' in col][0]\n",
    "    df_data_test['q_val_D'] = df_data_test.apply(discretize_q_values, 1, args=[col_q_val])\n",
    "    \n",
    "    # Merge with unknowns: \n",
    "    df_vis = df_data_test.merge(df_uk, on = ['Rv_ID', 'gene_name'], how = 'inner')\n",
    "    \n",
    "    # Get x-y datasets: \n",
    "    rv_ids = df_vis.Rv_ID.values\n",
    "    uk_list = np.array(df_vis.UK_score_4)\n",
    "    q_list = np.array(df_vis.q_val_D)\n",
    "    \n",
    "    # randomize: \n",
    "    uk_rd = np.array([uk + rand_param*random()-rand_param/2 for uk in uk_list])\n",
    "    q_rd = np.array([q + rand_param*random()-rand_param/2 for q in q_list])\n",
    "    \n",
    "    # color the unknown-essentials differently: \n",
    "    current_palette = sns.color_palette()\n",
    "    # all genes are gray by default. \n",
    "    color_list = np.array([(0.85,0.85,0.85)]*df_vis.shape[0])\n",
    "    # Unknown essentials in a different color. \n",
    "    ind_temp = list(df_vis[(df_vis.q_val_D == 3) & (df_vis.UK_score_4 == 4)].index)\n",
    "    color_list[ind_temp] = current_palette[0]\n",
    "    \n",
    "    return uk_rd, q_rd, color_list, rv_ids"
   ]
  },
  {
   "cell_type": "markdown",
   "metadata": {},
   "source": [
    "### Load Tn-seq data:"
   ]
  },
  {
   "cell_type": "code",
   "execution_count": null,
   "metadata": {},
   "outputs": [],
   "source": [
    "path_data = '../../data/'\n",
    "df_data = pd.read_excel(os.path.join(path_data, 'Tn_library_DB_qval_log2FC.xlsx'))"
   ]
  },
  {
   "cell_type": "markdown",
   "metadata": {},
   "source": [
    "### Load unknown score data:"
   ]
  },
  {
   "cell_type": "code",
   "execution_count": null,
   "metadata": {},
   "outputs": [],
   "source": [
    "df_uk = pd.read_csv(os.path.join(path_data, 'unknown_essentials/unknown_ALL_levels_essential_scores.csv'))\n",
    "df_uk = df_uk[['Rv_ID', 'gene_name', 'UK_score_4']]"
   ]
  },
  {
   "cell_type": "markdown",
   "metadata": {},
   "source": [
    "### Grab essentiality data for single TnSeq screen:"
   ]
  },
  {
   "cell_type": "code",
   "execution_count": null,
   "metadata": {},
   "outputs": [],
   "source": [
    "TnSeq_screen = '2012_Zhang'\n",
    "uk_rd, q_rd, color_list, rv_ids = unknown_essential_xy(TnSeq_screen, df_data, df_uk)"
   ]
  },
  {
   "cell_type": "code",
   "execution_count": null,
   "metadata": {},
   "outputs": [],
   "source": [
    "color_list_rgb = ['rgb(' + ', '.join([str(np.round(rgb,2)) for rgb in col]) + ')' for col in color_list]"
   ]
  },
  {
   "cell_type": "code",
   "execution_count": null,
   "metadata": {},
   "outputs": [],
   "source": [
    "for col in color_list:\n",
    "    col_rgb = \n",
    "col_rgb"
   ]
  },
  {
   "cell_type": "markdown",
   "metadata": {},
   "source": [
    "### Scatter plot"
   ]
  },
  {
   "cell_type": "code",
   "execution_count": null,
   "metadata": {},
   "outputs": [],
   "source": [
    "plt.figure(figsize = (20,14))\n",
    "plt.scatter(uk_rd, q_rd, s = 400, edgecolors='k', alpha = 0.75, color = color_list, linewidths=3)\n",
    "plt.xlabel('Annotation', fontsize = 44)\n",
    "plt.ylabel('Essentiality', fontsize = 44)\n",
    "plt.xticks([0, 1, 2, 3, 4], ['most well\\ncharacterized','' , '', '', 'least\\ncharacterized'], fontsize = 30)\n",
    "plt.yticks([1.25, 2.25, 3.25], ['non-essential' ,'q-val < 0.05', 'q-val < 0.01'], fontsize = 30, rotation = 90)\n",
    "\n",
    "for x in np.arange(0.5, 4.5, 1):\n",
    "    yvals = np.arange(0, 4, 0.01)\n",
    "    xvals = len(yvals)*[x]\n",
    "    plt.plot(xvals, yvals, '--', color = \"k\")\n",
    "    \n",
    "for y in np.arange(1.5, 3.5, 1):\n",
    "    xvals = np.arange(-0.5, 4.5, 0.01)\n",
    "    yvals = len(xvals)*[y]\n",
    "    plt.plot(xvals, yvals, '--', color = \"k\")\n",
    "    \n",
    "plt.xlim(-0.5, 4.5)\n",
    "plt.ylim(0.5, 3.5)\n",
    "\n",
    "plt.tight_layout()\n"
   ]
  },
  {
   "cell_type": "code",
   "execution_count": null,
   "metadata": {},
   "outputs": [],
   "source": [
    "plt.figure(figsize = (20,14))\n",
    "plt.scatter(uk_rd, q_rd_2, s = 400, edgecolors='k', alpha = 0.75, color = color_list, linewidths=3)\n",
    "# plt.scatter(uk_rd_2[ind_temp], q_rd_2[ind_temp], s = 400, edgecolors='k', alpha = 0.75, color = color_list[ind_temp], linewidths=3)\n",
    "plt.xlabel('Annotation', fontsize = 44)\n",
    "plt.ylabel('Essentiality', fontsize = 44)\n",
    "plt.xticks([0, 1, 2, 3, 4], ['most well\\ncharacterized','' , '', '', 'least\\ncharacterized'], fontsize = 30)\n",
    "plt.yticks([1.25, 2.25, 3.25], ['non-essential' ,'q-val < 0.05', 'q-val < 0.01'], fontsize = 30, rotation = 90)\n",
    "\n",
    "for x in np.arange(0.5, 4.5, 1):\n",
    "    yvals = np.arange(0, 4, 0.01)\n",
    "    xvals = len(yvals)*[x]\n",
    "    plt.plot(xvals, yvals, '--', color = \"k\")\n",
    "    \n",
    "for y in np.arange(1.5, 3.5, 1):\n",
    "    xvals = np.arange(-0.5, 4.5, 0.01)\n",
    "    yvals = len(xvals)*[y]\n",
    "    plt.plot(xvals, yvals, '--', color = \"k\")\n",
    "    \n",
    "plt.xlim(-0.5, 4.5)\n",
    "plt.ylim(0.5, 3.5)\n",
    "\n",
    "plt.tight_layout()\n",
    "\n",
    "# fig_path = '../../figures/genome_visualizations/q_discretized.png'\n",
    "# plt.savefig(fig_path, dpi = 150)"
   ]
  },
  {
   "cell_type": "code",
   "execution_count": null,
   "metadata": {},
   "outputs": [],
   "source": [
    "def fig_function(uk, q, color_list):    \n",
    "    plt.figure(figsize = (25,14))\n",
    "\n",
    "    plt.scatter(uk, q, s = 900, edgecolors='k', alpha = 0.75, color = color_list, linewidths=3)\n",
    "    plt.xlabel('Annotation', fontsize = 44)\n",
    "    plt.ylabel('Essentiality\\n', fontsize = 44)\n",
    "    plt.xticks([0, 1, 2, 3, 4], ['most well\\ncharacterized','' , '', '', 'least\\ncharacterized'], fontsize = 30)\n",
    "    plt.yticks([1.25, 2.25, 3.25], ['non-essential' ,'', 'essential'], fontsize = 30, rotation = 90)\n",
    "\n",
    "    for x in np.arange(0.5, 4.5, 1):\n",
    "        yvals = np.arange(0, 4, 0.01)\n",
    "        xvals = len(yvals)*[x]\n",
    "        plt.plot(xvals, yvals, '--', color = \"k\")\n",
    "\n",
    "\n",
    "    for y in np.arange(1.5, 3.5, 1):\n",
    "        xvals = np.arange(-0.5, 4.5, 0.01)\n",
    "        yvals = len(xvals)*[y]\n",
    "        plt.plot(xvals, yvals, '--', color = \"k\")\n",
    "\n",
    "    plt.xlim(-0.5, 4.5)\n",
    "    plt.ylim(0.5, 3.5)\n"
   ]
  },
  {
   "cell_type": "code",
   "execution_count": null,
   "metadata": {},
   "outputs": [],
   "source": [
    "text_str_1 = 'unknown essentials\\nin condition 1\\n\\ncarbon source:\\nglycerol'\n",
    "text_str_2 = 'unknown essentials\\nin condition 2\\n\\nisoniazid'"
   ]
  },
  {
   "cell_type": "code",
   "execution_count": null,
   "metadata": {},
   "outputs": [],
   "source": [
    "counter = 0\n",
    "fig_function(uk_rd, q_rd, color_list)\n",
    "# plt.scatter(uk_rd[ind_temp_2], q_rd[ind_temp_2], s = 900, edgecolors='k', alpha = 0.75, color = color_list[ind_temp_2], linewidths=3)\n",
    "ax = plt.gca()\n",
    "plt.text(1.05, 0.7, text_str_1, transform=ax.transAxes, fontsize = 40)\n",
    "plt.tight_layout()\n",
    "fig_path = '../../figures/genome_visualizations/q_discretized_C1.png'\n",
    "plt.savefig(fig_path, dpi = 100)"
   ]
  },
  {
   "cell_type": "code",
   "execution_count": null,
   "metadata": {},
   "outputs": [],
   "source": [
    "counter = 0\n",
    "fig_function(uk_rd, q_rd, color_list)\n",
    "plt.scatter(uk_rd[ind_temp_2], q_rd[ind_temp_2], s = 900, edgecolors='k', alpha = 0.75, color = color_list[ind_temp_2], linewidths=3)\n",
    "ax = plt.gca()\n",
    "plt.text(1.05, 0.7, text_str_1, transform=ax.transAxes, fontsize = 40)\n",
    "plt.tight_layout()\n",
    "fig_path = '../../figures/genome_visualizations/q_discretized_both.png'\n",
    "plt.savefig(fig_path, dpi = 100)"
   ]
  },
  {
   "cell_type": "code",
   "execution_count": null,
   "metadata": {},
   "outputs": [],
   "source": [
    "fig_function(uk_rd_2, q_rd_2, color_list)\n",
    "ax = plt.gca()\n",
    "plt.text(1.05, 0.7, text_str_2, transform=ax.transAxes, fontsize = 40, color = current_palette[3])\n",
    "plt.tight_layout()\n",
    "fig_path = '../../figures/genome_visualizations/q_discretized_C2.png'\n",
    "plt.savefig(fig_path, dpi = 150)"
   ]
  },
  {
   "cell_type": "code",
   "execution_count": null,
   "metadata": {},
   "outputs": [],
   "source": [
    "for counter in range(15):\n",
    "    fig_function(uk_rd, q_rd, color_list)\n",
    "    \n",
    "#     plt.title(text_str, fontsize = 44)\n",
    "    ax = plt.gca()\n",
    "    plt.text(1.05, 0.7, text_str_1, transform=ax.transAxes, fontsize = 40, color = current_palette[0])\n",
    "    plt.tight_layout()\n",
    "    fig_path = '../../figures/genome_visualizations/q_discretized_'+str(counter)+'.png'\n",
    "    plt.savefig(fig_path, dpi = 100)"
   ]
  },
  {
   "cell_type": "code",
   "execution_count": null,
   "metadata": {},
   "outputs": [],
   "source": [
    "counter = 15\n",
    "t_range = np.arange(0,1.05,0.05)\n",
    "for t in t_range:\n",
    "    uk_rd_t = t*uk_rd_2 + (1-t)*uk_rd\n",
    "    q_rd_t = t*q_rd_2 + (1-t)*q_rd\n",
    "    \n",
    "    fig_function(uk_rd_t, q_rd_t, color_list)\n",
    "    ax = plt.gca()\n",
    "    if counter <= 20:    \n",
    "        plt.text(1.05, 0.7, text_str_1, transform=ax.transAxes, fontsize = 40)\n",
    "    elif counter >= 30:\n",
    "        plt.text(1.05, 0.7, text_str_2, transform=ax.transAxes, fontsize = 40)\n",
    "    else:\n",
    "        plt.text(1.05, 0.7, text_str_1, transform=ax.transAxes, fontsize = 40, color='white')\n",
    "    plt.tight_layout()\n",
    "    \n",
    "    fig_path = '../../figures/genome_visualizations/q_discretized_'+str(counter)+'.png'\n",
    "    plt.savefig(fig_path, dpi = 150)\n",
    "    counter += 1"
   ]
  },
  {
   "cell_type": "code",
   "execution_count": null,
   "metadata": {},
   "outputs": [],
   "source": [
    "for counter in range(35, 50):\n",
    "    fig_function(uk_rd_2, q_rd_2, color_list)\n",
    "    ax = plt.gca()\n",
    "    plt.text(1.05, 0.7, text_str_2, transform=ax.transAxes, fontsize = 40, color = current_palette[3])\n",
    "    plt.tight_layout()\n",
    "    fig_path = '../../figures/genome_visualizations/q_discretized_'+str(counter)+'.png'\n",
    "    plt.savefig(fig_path, dpi = 150)"
   ]
  },
  {
   "cell_type": "code",
   "execution_count": null,
   "metadata": {},
   "outputs": [],
   "source": []
  }
 ],
 "metadata": {
  "kernelspec": {
   "display_name": "Python 3",
   "language": "python",
   "name": "python3"
  },
  "language_info": {
   "codemirror_mode": {
    "name": "ipython",
    "version": 3
   },
   "file_extension": ".py",
   "mimetype": "text/x-python",
   "name": "python",
   "nbconvert_exporter": "python",
   "pygments_lexer": "ipython3",
   "version": "3.7.4"
  }
 },
 "nbformat": 4,
 "nbformat_minor": 4
}
