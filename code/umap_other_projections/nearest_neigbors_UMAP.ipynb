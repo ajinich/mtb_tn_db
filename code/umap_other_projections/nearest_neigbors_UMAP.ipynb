{
 "cells": [
  {
   "cell_type": "markdown",
   "metadata": {},
   "source": [
    "### Objective: \n",
    "\n",
    "for a given gene, get the set of N nearest neighbors in UMAP space. "
   ]
  },
  {
   "cell_type": "markdown",
   "metadata": {},
   "source": [
    "### Imports: "
   ]
  },
  {
   "cell_type": "code",
   "execution_count": 1,
   "metadata": {},
   "outputs": [],
   "source": [
    "import pandas as pd\n",
    "from sklearn.neighbors import NearestNeighbors"
   ]
  },
  {
   "cell_type": "markdown",
   "metadata": {},
   "source": [
    "### Files: "
   ]
  },
  {
   "cell_type": "code",
   "execution_count": 2,
   "metadata": {},
   "outputs": [],
   "source": [
    "# Review how you generated this file:\n",
    "file_umap = '../../data/tests/df_umap_lfc.csv'"
   ]
  },
  {
   "cell_type": "markdown",
   "metadata": {},
   "source": [
    "### Functions: "
   ]
  },
  {
   "cell_type": "code",
   "execution_count": 3,
   "metadata": {},
   "outputs": [],
   "source": [
    "def get_neighbors(data, n_neighbors = 5, ix = None, **kwargs): \n",
    "    \"\"\"\n",
    "    Given an input dataframe with a given coordinate system, \n",
    "    the function returns the indices of the nearest neighbors\n",
    "    of a dataset or a specific data point. \n",
    "\n",
    "    Params \n",
    "    ------\n",
    "    data (pd.DataFrame)\n",
    "        Dataframe whose columns represent a given coordinate system where distances\n",
    "        can be calculated.\n",
    "\n",
    "    n_neighbors(int, default = 5)\n",
    "        Number of nearest neighbors. \n",
    "        \n",
    "    ix (int, default = None)\n",
    "        Index of data point for which to find the nearest neighbors.\n",
    "        Defaults to None, to return the indices of all data points. \n",
    "\n",
    "    Returns \n",
    "    -------\n",
    "    neighbor_ixs (np.array)\n",
    "        Array of the indices of the nearest neighbors of shape (n_datapoints, n_neighbors).\n",
    "    \"\"\"\n",
    "\n",
    "    # Initalize Nearest Neighbors object\n",
    "    knn = NearestNeighbors(n_neighbors = n_neighbors).fit(data)\n",
    "\n",
    "    neighbors = knn.kneighbors()\n",
    "\n",
    "    neighbor_ixs = neighbors[1]\n",
    "\n",
    "    # Loop to return ixs of a specific point.\n",
    "    if ix is not None: \n",
    "        return neighbor_ixs[ix]\n",
    "\n",
    "    return neighbor_ixs\n",
    "\n",
    "\n",
    "def get_neighbor_subdataset(neighbors, data, col_name, id_): \n",
    "\n",
    "    \"\"\"\n",
    "    Using the precomputed neighbor indices, returns a subsdataset \n",
    "    for an input datapoint with index id. \n",
    "\n",
    "    Params \n",
    "    ------\n",
    "\n",
    "    neighbors (np.array)\n",
    "        Neighbor indices of size (n_datapoints, n_neighbors). \n",
    "\n",
    "    data (pd.DataFrame)\n",
    "        Pandas dataframe to be filtered.\n",
    "\n",
    "    col_name (str)\n",
    "        Column name for filtering. \n",
    "\n",
    "    id_ (str)\n",
    "        Identifier to use for getting \n",
    "    \n",
    "    Returns \n",
    "    -------\n",
    "    sub_df (pd.DataFrame)\n",
    "        Subset of data of the point's neighbors.\n",
    "    \"\"\"\n",
    "\n",
    "    # Extract index of desired data point \n",
    "    target_ix = data[data[col_name].values == id_].index.values[0]\n",
    "\n",
    "    # Get the neighbors indices of desired data point\n",
    "    neighbor_ixs = neighbors[target_ix]\n",
    "    \n",
    "    # Get subdataset using iloc method\n",
    "    sub_df = data.iloc[neighbor_ixs]\n",
    "    \n",
    "    return sub_df "
   ]
  },
  {
   "cell_type": "markdown",
   "metadata": {},
   "source": [
    "### Example: "
   ]
  },
  {
   "cell_type": "markdown",
   "metadata": {},
   "source": [
    "load UMAP dataframe: "
   ]
  },
  {
   "cell_type": "code",
   "execution_count": 4,
   "metadata": {},
   "outputs": [
    {
     "data": {
      "text/html": [
       "<div>\n",
       "<style scoped>\n",
       "    .dataframe tbody tr th:only-of-type {\n",
       "        vertical-align: middle;\n",
       "    }\n",
       "\n",
       "    .dataframe tbody tr th {\n",
       "        vertical-align: top;\n",
       "    }\n",
       "\n",
       "    .dataframe thead th {\n",
       "        text-align: right;\n",
       "    }\n",
       "</style>\n",
       "<table border=\"1\" class=\"dataframe\">\n",
       "  <thead>\n",
       "    <tr style=\"text-align: right;\">\n",
       "      <th></th>\n",
       "      <th>Rv_ID</th>\n",
       "      <th>gene_name</th>\n",
       "      <th>Annotation</th>\n",
       "      <th>func_tuberculist</th>\n",
       "      <th>u1</th>\n",
       "      <th>u2</th>\n",
       "      <th>u3</th>\n",
       "    </tr>\n",
       "  </thead>\n",
       "  <tbody>\n",
       "    <tr>\n",
       "      <th>0</th>\n",
       "      <td>Rv0001</td>\n",
       "      <td>dnaA</td>\n",
       "      <td>4.0</td>\n",
       "      <td>information pathways</td>\n",
       "      <td>20.734426</td>\n",
       "      <td>18.285404</td>\n",
       "      <td>6.110508</td>\n",
       "    </tr>\n",
       "    <tr>\n",
       "      <th>1</th>\n",
       "      <td>Rv0002</td>\n",
       "      <td>dnaN</td>\n",
       "      <td>4.0</td>\n",
       "      <td>information pathways</td>\n",
       "      <td>21.292060</td>\n",
       "      <td>18.294655</td>\n",
       "      <td>6.440992</td>\n",
       "    </tr>\n",
       "    <tr>\n",
       "      <th>2</th>\n",
       "      <td>Rv0003</td>\n",
       "      <td>recF</td>\n",
       "      <td>2.0</td>\n",
       "      <td>information pathways</td>\n",
       "      <td>19.921270</td>\n",
       "      <td>16.089220</td>\n",
       "      <td>4.477440</td>\n",
       "    </tr>\n",
       "  </tbody>\n",
       "</table>\n",
       "</div>"
      ],
      "text/plain": [
       "    Rv_ID gene_name  Annotation      func_tuberculist         u1         u2  \\\n",
       "0  Rv0001      dnaA         4.0  information pathways  20.734426  18.285404   \n",
       "1  Rv0002      dnaN         4.0  information pathways  21.292060  18.294655   \n",
       "2  Rv0003      recF         2.0  information pathways  19.921270  16.089220   \n",
       "\n",
       "         u3  \n",
       "0  6.110508  \n",
       "1  6.440992  \n",
       "2  4.477440  "
      ]
     },
     "execution_count": 4,
     "metadata": {},
     "output_type": "execute_result"
    }
   ],
   "source": [
    "df_lfc_annot = pd.read_csv(file_umap)\n",
    "df_lfc_annot = df_lfc_annot[['Rv_ID', 'gene_name', 'Annotation', 'func_tuberculist', 'u1', 'u2', 'u3']]\n",
    "df_lfc_annot.head(3)"
   ]
  },
  {
   "cell_type": "markdown",
   "metadata": {},
   "source": [
    "This function pre-computes N nearest neighbors for all genes and stores in a list of index lists."
   ]
  },
  {
   "cell_type": "code",
   "execution_count": 54,
   "metadata": {},
   "outputs": [],
   "source": [
    "neighbors = get_neighbors( df_lfc_annot[['u1', 'u2', 'u3']], n_neighbors = 60, ix = None )"
   ]
  },
  {
   "cell_type": "code",
   "execution_count": 55,
   "metadata": {},
   "outputs": [
    {
     "data": {
      "text/plain": [
       "array([[ 554, 1833, 3006, ..., 1420,  233, 1040],\n",
       "       [3719, 2789, 3004, ..., 2435,  233, 3881],\n",
       "       [3505, 1256,  834, ..., 3605, 3511, 1745],\n",
       "       ...,\n",
       "       [3393, 3785, 2980, ..., 2938, 2286, 1756],\n",
       "       [2755, 1945,  688, ...,   65, 2430, 1979],\n",
       "       [1521, 3090, 3767, ..., 2769,  657, 3703]])"
      ]
     },
     "execution_count": 55,
     "metadata": {},
     "output_type": "execute_result"
    }
   ],
   "source": [
    "neighbors"
   ]
  },
  {
   "cell_type": "markdown",
   "metadata": {},
   "source": [
    "And here we select the N nearest neighbors for a given query gene: "
   ]
  },
  {
   "cell_type": "code",
   "execution_count": 56,
   "metadata": {},
   "outputs": [],
   "source": [
    "rvid = 'Rv3502c'\n",
    "df_subset = get_neighbor_subdataset(neighbors, df_lfc_annot, col_name = 'Rv_ID', id_ = rvid)"
   ]
  },
  {
   "cell_type": "markdown",
   "metadata": {},
   "source": [
    "If we only want to display the ones with high uniprot annotation score, we could do this: "
   ]
  },
  {
   "cell_type": "code",
   "execution_count": 37,
   "metadata": {},
   "outputs": [
    {
     "data": {
      "text/html": [
       "<div>\n",
       "<style scoped>\n",
       "    .dataframe tbody tr th:only-of-type {\n",
       "        vertical-align: middle;\n",
       "    }\n",
       "\n",
       "    .dataframe tbody tr th {\n",
       "        vertical-align: top;\n",
       "    }\n",
       "\n",
       "    .dataframe thead th {\n",
       "        text-align: right;\n",
       "    }\n",
       "</style>\n",
       "<table border=\"1\" class=\"dataframe\">\n",
       "  <thead>\n",
       "    <tr style=\"text-align: right;\">\n",
       "      <th></th>\n",
       "      <th>Rv_ID</th>\n",
       "      <th>gene_name</th>\n",
       "      <th>Annotation</th>\n",
       "      <th>func_tuberculist</th>\n",
       "      <th>u1</th>\n",
       "      <th>u2</th>\n",
       "      <th>u3</th>\n",
       "    </tr>\n",
       "  </thead>\n",
       "  <tbody>\n",
       "    <tr>\n",
       "      <th>3666</th>\n",
       "      <td>Rv3544c</td>\n",
       "      <td>fadE28</td>\n",
       "      <td>5.0</td>\n",
       "      <td>lipid metabolism</td>\n",
       "      <td>18.459980</td>\n",
       "      <td>16.051607</td>\n",
       "      <td>4.671244</td>\n",
       "    </tr>\n",
       "    <tr>\n",
       "      <th>3665</th>\n",
       "      <td>Rv3543c</td>\n",
       "      <td>fadE29</td>\n",
       "      <td>5.0</td>\n",
       "      <td>lipid metabolism</td>\n",
       "      <td>18.492285</td>\n",
       "      <td>16.031841</td>\n",
       "      <td>4.676585</td>\n",
       "    </tr>\n",
       "    <tr>\n",
       "      <th>3694</th>\n",
       "      <td>Rv3571</td>\n",
       "      <td>hmp</td>\n",
       "      <td>5.0</td>\n",
       "      <td>intermediary metabolism and respiration</td>\n",
       "      <td>18.380219</td>\n",
       "      <td>16.044460</td>\n",
       "      <td>4.769896</td>\n",
       "    </tr>\n",
       "    <tr>\n",
       "      <th>498</th>\n",
       "      <td>Rv0485</td>\n",
       "      <td>-</td>\n",
       "      <td>3.0</td>\n",
       "      <td>regulatory proteins</td>\n",
       "      <td>18.539738</td>\n",
       "      <td>16.065975</td>\n",
       "      <td>4.694098</td>\n",
       "    </tr>\n",
       "    <tr>\n",
       "      <th>3648</th>\n",
       "      <td>Rv3526</td>\n",
       "      <td>-</td>\n",
       "      <td>5.0</td>\n",
       "      <td>intermediary metabolism and respiration</td>\n",
       "      <td>18.441978</td>\n",
       "      <td>15.953450</td>\n",
       "      <td>4.800039</td>\n",
       "    </tr>\n",
       "    <tr>\n",
       "      <th>3692</th>\n",
       "      <td>Rv3569c</td>\n",
       "      <td>bphD</td>\n",
       "      <td>5.0</td>\n",
       "      <td>intermediary metabolism and respiration</td>\n",
       "      <td>18.531462</td>\n",
       "      <td>15.931683</td>\n",
       "      <td>4.766030</td>\n",
       "    </tr>\n",
       "    <tr>\n",
       "      <th>208</th>\n",
       "      <td>Rv0202c</td>\n",
       "      <td>mmpL11</td>\n",
       "      <td>3.0</td>\n",
       "      <td>cell wall and cell processes</td>\n",
       "      <td>18.348436</td>\n",
       "      <td>16.226667</td>\n",
       "      <td>4.718264</td>\n",
       "    </tr>\n",
       "    <tr>\n",
       "      <th>195</th>\n",
       "      <td>Rv0190</td>\n",
       "      <td>-</td>\n",
       "      <td>5.0</td>\n",
       "      <td>conserved hypotheticals</td>\n",
       "      <td>18.481443</td>\n",
       "      <td>16.256952</td>\n",
       "      <td>4.554314</td>\n",
       "    </tr>\n",
       "    <tr>\n",
       "      <th>4000</th>\n",
       "      <td>Rv3868</td>\n",
       "      <td>-</td>\n",
       "      <td>5.0</td>\n",
       "      <td>cell wall and cell processes</td>\n",
       "      <td>18.330515</td>\n",
       "      <td>16.150555</td>\n",
       "      <td>4.826209</td>\n",
       "    </tr>\n",
       "    <tr>\n",
       "      <th>460</th>\n",
       "      <td>Rv0450c</td>\n",
       "      <td>mmpL4</td>\n",
       "      <td>4.0</td>\n",
       "      <td>cell wall and cell processes</td>\n",
       "      <td>18.609772</td>\n",
       "      <td>16.179726</td>\n",
       "      <td>4.747845</td>\n",
       "    </tr>\n",
       "  </tbody>\n",
       "</table>\n",
       "</div>"
      ],
      "text/plain": [
       "        Rv_ID gene_name  Annotation                         func_tuberculist  \\\n",
       "3666  Rv3544c    fadE28         5.0                         lipid metabolism   \n",
       "3665  Rv3543c    fadE29         5.0                         lipid metabolism   \n",
       "3694   Rv3571       hmp         5.0  intermediary metabolism and respiration   \n",
       "498    Rv0485         -         3.0                      regulatory proteins   \n",
       "3648   Rv3526         -         5.0  intermediary metabolism and respiration   \n",
       "3692  Rv3569c      bphD         5.0  intermediary metabolism and respiration   \n",
       "208   Rv0202c    mmpL11         3.0             cell wall and cell processes   \n",
       "195    Rv0190         -         5.0                  conserved hypotheticals   \n",
       "4000   Rv3868         -         5.0             cell wall and cell processes   \n",
       "460   Rv0450c     mmpL4         4.0             cell wall and cell processes   \n",
       "\n",
       "             u1         u2        u3  \n",
       "3666  18.459980  16.051607  4.671244  \n",
       "3665  18.492285  16.031841  4.676585  \n",
       "3694  18.380219  16.044460  4.769896  \n",
       "498   18.539738  16.065975  4.694098  \n",
       "3648  18.441978  15.953450  4.800039  \n",
       "3692  18.531462  15.931683  4.766030  \n",
       "208   18.348436  16.226667  4.718264  \n",
       "195   18.481443  16.256952  4.554314  \n",
       "4000  18.330515  16.150555  4.826209  \n",
       "460   18.609772  16.179726  4.747845  "
      ]
     },
     "execution_count": 37,
     "metadata": {},
     "output_type": "execute_result"
    }
   ],
   "source": [
    "df_subset[df_subset.Annotation.values>=3]"
   ]
  },
  {
   "cell_type": "markdown",
   "metadata": {},
   "source": [
    "#### Reformat data for Anisha's dash app:"
   ]
  },
  {
   "cell_type": "code",
   "execution_count": 67,
   "metadata": {},
   "outputs": [
    {
     "name": "stdout",
     "output_type": "stream",
     "text": [
      "0 out of 4058\n",
      "250 out of 4058\n",
      "500 out of 4058\n",
      "750 out of 4058\n",
      "1000 out of 4058\n",
      "1250 out of 4058\n",
      "1500 out of 4058\n",
      "1750 out of 4058\n",
      "2000 out of 4058\n",
      "2250 out of 4058\n",
      "2500 out of 4058\n",
      "2750 out of 4058\n",
      "3000 out of 4058\n",
      "3250 out of 4058\n",
      "3500 out of 4058\n",
      "3750 out of 4058\n",
      "4000 out of 4058\n"
     ]
    }
   ],
   "source": [
    "# initialize NN dataframe: \n",
    "cols = ['Rv_ID']+['NN_'+str(i) for i in range(1, 11)]\n",
    "df_NN_dash = pd.DataFrame(columns=cols)\n",
    "\n",
    "list_rvid = df_lfc_annot.Rv_ID.to_list()\n",
    "counter = 0\n",
    "for rvid in list_rvid:\n",
    "    if counter%250==0:\n",
    "        print(counter, 'out of', len(list_rvid))\n",
    "    # get neighbors: \n",
    "    df_NN = get_neighbor_subdataset(neighbors, df_lfc_annot, col_name = 'Rv_ID', id_ = rvid)\n",
    "    df_NN_annot = df_NN[df_NN.Annotation.values>=3].copy()\n",
    "    row_to_append = [rvid]+df_NN_annot.iloc[:10, 0].to_list() # 10 annotated NN's\n",
    "    \n",
    "    if len(row_to_append)<11:\n",
    "        size_pad = 11 - len(row_to_append)\n",
    "        row_to_append = row_to_append + size_pad*['NONE']\n",
    "    \n",
    "    df_NN_dash.loc[len(df_NN_dash)] = row_to_append\n",
    "    counter += 1"
   ]
  },
  {
   "cell_type": "code",
   "execution_count": 72,
   "metadata": {},
   "outputs": [],
   "source": [
    "file_out = '../../data/NN_for_dash.csv'\n",
    "df_NN_dash.to_csv(file_out, index = False)"
   ]
  },
  {
   "cell_type": "code",
   "execution_count": 71,
   "metadata": {},
   "outputs": [
    {
     "data": {
      "text/html": [
       "<div>\n",
       "<style scoped>\n",
       "    .dataframe tbody tr th:only-of-type {\n",
       "        vertical-align: middle;\n",
       "    }\n",
       "\n",
       "    .dataframe tbody tr th {\n",
       "        vertical-align: top;\n",
       "    }\n",
       "\n",
       "    .dataframe thead th {\n",
       "        text-align: right;\n",
       "    }\n",
       "</style>\n",
       "<table border=\"1\" class=\"dataframe\">\n",
       "  <thead>\n",
       "    <tr style=\"text-align: right;\">\n",
       "      <th></th>\n",
       "      <th>Rv_ID</th>\n",
       "      <th>NN_1</th>\n",
       "      <th>NN_2</th>\n",
       "      <th>NN_3</th>\n",
       "      <th>NN_4</th>\n",
       "      <th>NN_5</th>\n",
       "      <th>NN_6</th>\n",
       "      <th>NN_7</th>\n",
       "      <th>NN_8</th>\n",
       "      <th>NN_9</th>\n",
       "      <th>NN_10</th>\n",
       "    </tr>\n",
       "  </thead>\n",
       "  <tbody>\n",
       "    <tr>\n",
       "      <th>3522</th>\n",
       "      <td>Rv3400</td>\n",
       "      <td>Rv3876</td>\n",
       "      <td>Rv3869</td>\n",
       "      <td>Rv3877</td>\n",
       "      <td>Rv3870</td>\n",
       "      <td>Rv3883c</td>\n",
       "      <td>Rv2069</td>\n",
       "      <td>Rv3882c</td>\n",
       "      <td>Rv1236</td>\n",
       "      <td>Rv3871</td>\n",
       "      <td>Rv0450c</td>\n",
       "    </tr>\n",
       "  </tbody>\n",
       "</table>\n",
       "</div>"
      ],
      "text/plain": [
       "       Rv_ID    NN_1    NN_2    NN_3    NN_4     NN_5    NN_6     NN_7  \\\n",
       "3522  Rv3400  Rv3876  Rv3869  Rv3877  Rv3870  Rv3883c  Rv2069  Rv3882c   \n",
       "\n",
       "        NN_8    NN_9    NN_10  \n",
       "3522  Rv1236  Rv3871  Rv0450c  "
      ]
     },
     "execution_count": 71,
     "metadata": {},
     "output_type": "execute_result"
    }
   ],
   "source": [
    "df_NN_dash[df_NN_dash.Rv_ID.values == 'Rv3400']"
   ]
  },
  {
   "cell_type": "code",
   "execution_count": null,
   "metadata": {},
   "outputs": [],
   "source": []
  }
 ],
 "metadata": {
  "kernelspec": {
   "display_name": "Python 3 (ipykernel)",
   "language": "python",
   "name": "python3"
  },
  "language_info": {
   "codemirror_mode": {
    "name": "ipython",
    "version": 3
   },
   "file_extension": ".py",
   "mimetype": "text/x-python",
   "name": "python",
   "nbconvert_exporter": "python",
   "pygments_lexer": "ipython3",
   "version": "3.12.2"
  },
  "toc": {
   "base_numbering": 1,
   "nav_menu": {},
   "number_sections": true,
   "sideBar": true,
   "skip_h1_title": false,
   "title_cell": "Table of Contents",
   "title_sidebar": "Contents",
   "toc_cell": false,
   "toc_position": {},
   "toc_section_display": true,
   "toc_window_display": false
  }
 },
 "nbformat": 4,
 "nbformat_minor": 4
}
