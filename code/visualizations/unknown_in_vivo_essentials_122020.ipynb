{
 "cells": [
  {
   "cell_type": "code",
   "execution_count": 1,
   "metadata": {},
   "outputs": [],
   "source": [
    "import pandas as pd\n",
    "import numpy as np\n",
    "import re"
   ]
  },
  {
   "cell_type": "markdown",
   "metadata": {},
   "source": [
    "q-values and log2FC:"
   ]
  },
  {
   "cell_type": "code",
   "execution_count": 2,
   "metadata": {},
   "outputs": [],
   "source": [
    "file_log2FC = '../../data/standardized_data/result_logfc_matrix_2020_08_27.csv'\n",
    "df_lfc = pd.read_csv(file_log2FC)\n",
    "\n",
    "file_qval = '../../data/standardized_data/result_qval_matrix_2020_08_27.csv'\n",
    "df_qval = pd.read_csv(file_qval)"
   ]
  },
  {
   "cell_type": "markdown",
   "metadata": {},
   "source": [
    "UniProt annotations:"
   ]
  },
  {
   "cell_type": "code",
   "execution_count": 3,
   "metadata": {},
   "outputs": [],
   "source": [
    "file_annotation = '../../data/annotations/uniprot_annotation_scores.csv'\n",
    "df_UNP = pd.read_csv(file_annotation)"
   ]
  },
  {
   "cell_type": "markdown",
   "metadata": {},
   "source": [
    "CRISPRi: "
   ]
  },
  {
   "cell_type": "code",
   "execution_count": 39,
   "metadata": {},
   "outputs": [],
   "source": [
    "file_crispri = '/Users/ajinich/Documents/git_repos/tbredox/data/cloned_genes.xlsx'\n",
    "df_crispri = pd.read_excel(file_crispri)\n",
    "df_crispri.rename(columns = {'gene\\nname':'gene_name'}, inplace=True)\n",
    "df_crispri['gene_name'].fillna('', inplace=True)\n",
    "\n",
    "df_crispri['Rv_ID'] = [''.join(gn.split('_')) for gn in df_crispri.gene_name]\n",
    "df_crispri = df_crispri[df_crispri['BSL-3_Freezer'].values == True]"
   ]
  },
  {
   "cell_type": "markdown",
   "metadata": {},
   "source": [
    "InterPro:"
   ]
  },
  {
   "cell_type": "code",
   "execution_count": 5,
   "metadata": {},
   "outputs": [],
   "source": [
    "## get annotation according to UniProt:\n",
    "file_UNP_1 = '../../data/annotations/uniprot_Mtb.tab'\n",
    "df_UNP_1 = pd.read_csv(file_UNP_1, sep='\\t')\n",
    "df_UNP_1 = df_UNP_1[['Entry', 'Gene names']]\n",
    "\n",
    "file_UNP_2 = '../../data/annotations/UP000001584.csv'\n",
    "df_UNP_2 = pd.read_csv(file_UNP_2, sep='\\t')\n",
    "df_UNP_2 = df_UNP_2[['Entry', 'InterPro']]\n",
    "\n",
    "df_UNP_12 = df_UNP_1.merge(df_UNP_2, how = 'inner', on = 'Entry')\n",
    "\n",
    "rvid = [re.findall('Rv\\d\\d\\d\\d[a-zA-Z]?', gn)[0] for gn in df_UNP_12['Gene names']]\n",
    "df_UNP_12['Rv_ID'] = rvid\n",
    "df_UNP_12 = df_UNP_12[['Rv_ID', 'InterPro']]\n",
    "\n",
    "file_IPR = '../../data/annotations/IPR_listing.xlsx'\n",
    "df_IPR = pd.read_excel(file_IPR)"
   ]
  },
  {
   "cell_type": "markdown",
   "metadata": {},
   "source": [
    "#### mouse in-vivo screens of interest:"
   ]
  },
  {
   "cell_type": "code",
   "execution_count": 6,
   "metadata": {},
   "outputs": [],
   "source": [
    "screen_1 = 'dejesus_H37Rv_day32_vs_dejesus_H37Rv_day0'\n",
    "screen_2 = 'zhang_wt_mouse_d10_vs_zhang_input_library'\n",
    "screen_3 = 'zhang_wt_mouse_d45_vs_zhang_input_library'"
   ]
  },
  {
   "cell_type": "markdown",
   "metadata": {},
   "source": [
    "#### Genes that are conditionally essential in 2 or 3 of the screens: "
   ]
  },
  {
   "cell_type": "code",
   "execution_count": 7,
   "metadata": {},
   "outputs": [],
   "source": [
    "q_val_th = 0.05\n",
    "lfc_th = 1"
   ]
  },
  {
   "cell_type": "code",
   "execution_count": 8,
   "metadata": {},
   "outputs": [],
   "source": [
    "rvids_screen_1 = df_qval[ (df_qval[screen_1].values <= q_val_th) ].Rv_ID.to_list()\n",
    "rvids_screen_2 = df_qval[ (df_qval[screen_2].values <= q_val_th) ].Rv_ID.to_list()\n",
    "rvids_screen_3 = df_qval[ (df_qval[screen_3].values <= q_val_th) ].Rv_ID.to_list()"
   ]
  },
  {
   "cell_type": "code",
   "execution_count": 9,
   "metadata": {},
   "outputs": [],
   "source": [
    "rvids_screen_ANY = list(set(rvids_screen_1).union(set(rvids_screen_2)).union(set(rvids_screen_3)))\n",
    "rvids_screen_ANY.sort()"
   ]
  },
  {
   "cell_type": "code",
   "execution_count": 10,
   "metadata": {},
   "outputs": [],
   "source": [
    "rvids_screen_12 = list(set(rvids_screen_1).intersection(set(rvids_screen_2)))\n",
    "rvids_screen_13 = list(set(rvids_screen_1).intersection(set(rvids_screen_3)))\n",
    "rvids_screen_23 = list(set(rvids_screen_2).intersection(set(rvids_screen_3)))\n",
    "rvids_screen_123 = list(set(rvids_screen_12).intersection(set(rvids_screen_3)))"
   ]
  },
  {
   "cell_type": "code",
   "execution_count": 11,
   "metadata": {},
   "outputs": [],
   "source": [
    "rvids_screen_12.sort()\n",
    "rvids_screen_13.sort()\n",
    "rvids_screen_23.sort()\n",
    "rvids_screen_123.sort()"
   ]
  },
  {
   "cell_type": "markdown",
   "metadata": {},
   "source": [
    "#### Subset of these that are unknows:"
   ]
  },
  {
   "cell_type": "code",
   "execution_count": 123,
   "metadata": {},
   "outputs": [],
   "source": [
    "rvids_screen_ANY_orphans = df_UNP[ (df_UNP.Rv_ID.isin(rvids_screen_ANY)) & (df_UNP.Annotation.values<=3)].Rv_ID.to_list()"
   ]
  },
  {
   "cell_type": "markdown",
   "metadata": {},
   "source": [
    "Add UniProt annotation score:"
   ]
  },
  {
   "cell_type": "code",
   "execution_count": 124,
   "metadata": {},
   "outputs": [],
   "source": [
    "df_orphan_iv_essentials = pd.DataFrame()\n",
    "df_orphan_iv_essentials['Rv_ID'] = rvids_screen_ANY_orphans\n",
    "df_orphan_iv_essentials = df_orphan_iv_essentials.merge(df_UNP, on = 'Rv_ID', how = 'left')"
   ]
  },
  {
   "cell_type": "markdown",
   "metadata": {},
   "source": [
    "Annotate with which in vivo screens show a hit"
   ]
  },
  {
   "cell_type": "code",
   "execution_count": 125,
   "metadata": {},
   "outputs": [],
   "source": [
    "df_orphan_iv_essentials['dejesus_d32'] = [df_qval[df_qval.Rv_ID.values == rvid][screen_1].values[0] <= q_val_th for rvid in df_orphan_iv_essentials['Rv_ID']]\n",
    "df_orphan_iv_essentials['zhang_d10'] = [df_qval[df_qval.Rv_ID.values == rvid][screen_2].values[0] <= q_val_th for rvid in df_orphan_iv_essentials['Rv_ID']]\n",
    "df_orphan_iv_essentials['zhang_d45'] = [df_qval[df_qval.Rv_ID.values == rvid][screen_3].values[0] <= q_val_th for rvid in df_orphan_iv_essentials['Rv_ID']]"
   ]
  },
  {
   "cell_type": "markdown",
   "metadata": {},
   "source": [
    "Generate an in-vivo essentiality score: "
   ]
  },
  {
   "cell_type": "code",
   "execution_count": 126,
   "metadata": {},
   "outputs": [],
   "source": [
    "int1 = np.array([int(bit) for bit in df_orphan_iv_essentials.dejesus_d32.values])\n",
    "int2 = np.array([int(bit) for bit in df_orphan_iv_essentials.zhang_d10.values])\n",
    "int3 = np.array([int(bit) for bit in df_orphan_iv_essentials.zhang_d45.values])\n",
    "\n",
    "score = int1 + int2 + int3\n",
    "df_orphan_iv_essentials['score'] = score\n",
    "df_orphan_iv_essentials.sort_values(by = ['score', 'Rv_ID'], ascending=False, inplace=True)"
   ]
  },
  {
   "cell_type": "markdown",
   "metadata": {},
   "source": [
    "Add CRISPRi library information: "
   ]
  },
  {
   "cell_type": "code",
   "execution_count": 127,
   "metadata": {},
   "outputs": [],
   "source": [
    "df_orphan_iv_essentials['CRISPRi'] = df_orphan_iv_essentials.Rv_ID.isin(df_crispri.Rv_ID)\n",
    "df_orphan_iv_essentials.reset_index(inplace=True, drop = True)\n",
    "\n",
    "df_crispri_ID = df_crispri[['Rv_ID', 'ID']]\n",
    "df_orphan_iv_essentials = df_orphan_iv_essentials.merge(df_crispri_ID, on = 'Rv_ID', how = 'left')"
   ]
  },
  {
   "cell_type": "code",
   "execution_count": 128,
   "metadata": {},
   "outputs": [],
   "source": [
    "df_orphan_iv_essentials.drop_duplicates(subset=['Rv_ID'], inplace=True)"
   ]
  },
  {
   "cell_type": "markdown",
   "metadata": {},
   "source": [
    "Add other Tn-Seq information:"
   ]
  },
  {
   "cell_type": "code",
   "execution_count": 130,
   "metadata": {},
   "outputs": [],
   "source": [
    "screens_123 = [screen_1, screen_2, screen_3]\n",
    "\n",
    "list_cols_string = []\n",
    "list_cols_noGI_string = []\n",
    "\n",
    "for rvid in df_orphan_iv_essentials.Rv_ID.values:\n",
    "    cols_qval = [col for col in df_qval.columns[1:] if df_qval[df_qval.Rv_ID==rvid][col].values[0] <= q_val_th] \n",
    "    cols_lfc = [col for col in df_lfc.columns[1:] if np.abs(df_lfc[df_lfc.Rv_ID==rvid][col].values[0]) >= lfc_th] \n",
    "    cols_sig = list(set(cols_qval).intersection(set(cols_lfc)))\n",
    "    # ignore carey screens\n",
    "    cols_sig = [col for col in cols_sig if not('carey' in col)]\n",
    "    # ignore mouse in vivo screens\n",
    "    cols_sig = [col for col in cols_sig if not(col in screens_123)]\n",
    "    cols_sig.sort()\n",
    "    # ignore genetic interaction / gene-KO screens\n",
    "    cols_sig_noGI = [col for col in cols_sig if  len(re.findall('Rv\\d\\d\\d\\d', col))==0 and not('KO' in col)]\n",
    "    cols_string = ' | '.join(cols_sig)\n",
    "    cols_noGI_string = ' | '.join(cols_sig_noGI)\n",
    "    list_cols_string.append(cols_string)\n",
    "    list_cols_noGI_string.append(cols_noGI_string)"
   ]
  },
  {
   "cell_type": "code",
   "execution_count": 131,
   "metadata": {},
   "outputs": [],
   "source": [
    "df_orphan_iv_essentials['MtbTnDB'] = list_cols_string\n",
    "df_orphan_iv_essentials['MtbTnDB_noGI'] = list_cols_noGI_string"
   ]
  },
  {
   "cell_type": "markdown",
   "metadata": {},
   "source": [
    "Add InterPro protein domains information:"
   ]
  },
  {
   "cell_type": "code",
   "execution_count": 132,
   "metadata": {},
   "outputs": [],
   "source": [
    "df_orphan_iv_essentials = df_orphan_iv_essentials.merge(df_UNP_12, on='Rv_ID', how = 'left')\n",
    "df_orphan_iv_essentials['InterPro'] = df_orphan_iv_essentials['InterPro'].fillna('NA')"
   ]
  },
  {
   "cell_type": "code",
   "execution_count": 133,
   "metadata": {},
   "outputs": [],
   "source": [
    "list_ip_domains_str = []\n",
    "for rvid in df_orphan_iv_essentials.Rv_ID.values:\n",
    "    ip = df_orphan_iv_essentials[df_orphan_iv_essentials.Rv_ID.values == rvid].InterPro.values[0]\n",
    "    if not ip == 'NA':\n",
    "        list_ip = [iipp.strip() for iipp in ip.split(';') if 'IPR' in iipp]\n",
    "        ip_domains_str = ' | '.join(df_IPR[df_IPR.ENTRY_AC.isin(list_ip)].ENTRY_NAME.to_list())\n",
    "    else:\n",
    "        ip_domains_str = 'NA'\n",
    "    list_ip_domains_str.append(ip_domains_str)\n",
    "df_orphan_iv_essentials['InterPro_Name'] = list_ip_domains_str"
   ]
  },
  {
   "cell_type": "markdown",
   "metadata": {},
   "source": [
    "Final clean-up:"
   ]
  },
  {
   "cell_type": "code",
   "execution_count": 134,
   "metadata": {},
   "outputs": [],
   "source": [
    "df_orphan_iv_essentials.drop_duplicates(subset='Rv_ID', inplace=True)\n",
    "df_orphan_iv_essentials.replace('', 'NONE', inplace=True)"
   ]
  },
  {
   "cell_type": "markdown",
   "metadata": {},
   "source": [
    "Write to file: "
   ]
  },
  {
   "cell_type": "code",
   "execution_count": 135,
   "metadata": {},
   "outputs": [],
   "source": [
    "# ALL \n",
    "file_out = '../../data/annotations/orphan_invivo_essentials.xlsx'\n",
    "df_orphan_iv_essentials.to_excel(file_out, index = False)\n",
    "\n",
    "# Tier I: Essential in 2 invivo screens, and in our CRISPRi library:\n",
    "df_orphan_iv_essentials_TierI = df_orphan_iv_essentials[ (df_orphan_iv_essentials.score.values>=2) & \n",
    "                                                        (df_orphan_iv_essentials.dejesus_d32.values) & \n",
    "                                                        (df_orphan_iv_essentials.CRISPRi.values)]\n",
    "file_out = '../../data/annotations/orphan_invivo_essentials_TierI.xlsx'\n",
    "df_orphan_iv_essentials_TierI.to_excel(file_out, index = False)\n",
    "\n",
    "# Tier II: In our CRISPRi library:\n",
    "df_orphan_iv_essentials_TierII = df_orphan_iv_essentials[(df_orphan_iv_essentials.CRISPRi.values)]\n",
    "file_out = '../../data/annotations/orphan_invivo_essentials_TierII.xlsx'\n",
    "df_orphan_iv_essentials_TierII.to_excel(file_out, index = False)\n",
    "\n",
    "# Tier III: Essential in the Minato et al. in vitro (minimal media) screen:\n",
    "df_orphan_iv_essentials_TierIII = df_orphan_iv_essentials[df_orphan_iv_essentials.MtbTnDB_noGI.str.contains('minato')]\n",
    "file_out = '../../data/annotations/orphan_invivo_essentials_TierIII.xlsx'\n",
    "df_orphan_iv_essentials_TierIII.to_excel(file_out, index = False)"
   ]
  },
  {
   "cell_type": "markdown",
   "metadata": {},
   "source": [
    "### Other ways to do this: "
   ]
  },
  {
   "cell_type": "code",
   "execution_count": null,
   "metadata": {},
   "outputs": [],
   "source": [
    "rvids_screen_1_orphans = df_UNP[ (df_UNP.Rv_ID.isin(rvids_screen_1)) & (df_UNP.Annotation.values<=3)].Rv_ID.to_list()"
   ]
  },
  {
   "cell_type": "code",
   "execution_count": 35,
   "metadata": {},
   "outputs": [],
   "source": [
    "rvids_screen_12_orphans = df_UNP[ (df_UNP.Rv_ID.isin(rvids_screen_12)) & (df_UNP.Annotation.values<=3)].Rv_ID.to_list()\n",
    "rvids_screen_13_orphans = df_UNP[ (df_UNP.Rv_ID.isin(rvids_screen_13)) & (df_UNP.Annotation.values<=3)].Rv_ID.to_list()\n",
    "rvids_screen_23_orphans = df_UNP[ (df_UNP.Rv_ID.isin(rvids_screen_23)) & (df_UNP.Annotation.values<=3)].Rv_ID.to_list()\n",
    "rvids_screen_123_orphans = df_UNP[ (df_UNP.Rv_ID.isin(rvids_screen_123)) & (df_UNP.Annotation.values<=3)].Rv_ID.to_list()"
   ]
  },
  {
   "cell_type": "code",
   "execution_count": 72,
   "metadata": {},
   "outputs": [
    {
     "data": {
      "text/plain": [
       "(19, 83, 51, 14)"
      ]
     },
     "execution_count": 72,
     "metadata": {},
     "output_type": "execute_result"
    }
   ],
   "source": [
    "len(rvids_screen_12_orphans), len(rvids_screen_13_orphans), len(rvids_screen_23_orphans), len(rvids_screen_123_orphans)"
   ]
  },
  {
   "cell_type": "code",
   "execution_count": 73,
   "metadata": {},
   "outputs": [
    {
     "data": {
      "text/plain": [
       "['Rv0238',\n",
       " 'Rv0242c',\n",
       " 'Rv0988',\n",
       " 'Rv1078',\n",
       " 'Rv1159',\n",
       " 'Rv1432',\n",
       " 'Rv1829',\n",
       " 'Rv2198c',\n",
       " 'Rv2379c',\n",
       " 'Rv2381c',\n",
       " 'Rv2553c',\n",
       " 'Rv2563',\n",
       " 'Rv3267',\n",
       " 'Rv3682']"
      ]
     },
     "execution_count": 73,
     "metadata": {},
     "output_type": "execute_result"
    }
   ],
   "source": [
    "rvids_screen_123_orphans"
   ]
  },
  {
   "cell_type": "markdown",
   "metadata": {},
   "source": [
    "#### Subset of these in our CRISPRi database:"
   ]
  },
  {
   "cell_type": "code",
   "execution_count": 65,
   "metadata": {},
   "outputs": [],
   "source": [
    "rvids_screen_12_orphans_CRISPRi = df_crispri[df_crispri.Rv_ID.isin(rvids_screen_12_orphans)].Rv_ID.to_list()\n",
    "rvids_screen_12_orphans_CRISPRi.sort()\n",
    "\n",
    "rvids_screen_13_orphans_CRISPRi = df_crispri[df_crispri.Rv_ID.isin(rvids_screen_13_orphans)].Rv_ID.to_list()\n",
    "rvids_screen_13_orphans_CRISPRi.sort()\n",
    "\n",
    "rvids_screen_23_orphans_CRISPRi = df_crispri[df_crispri.Rv_ID.isin(rvids_screen_23_orphans)].Rv_ID.to_list()\n",
    "rvids_screen_23_orphans_CRISPRi.sort()\n",
    "\n",
    "rvids_screen_123_orphans_CRISPRi = df_crispri[df_crispri.Rv_ID.isin(rvids_screen_123_orphans)].Rv_ID.to_list()\n",
    "rvids_screen_123_orphans_CRISPRi.sort()"
   ]
  },
  {
   "cell_type": "code",
   "execution_count": 67,
   "metadata": {},
   "outputs": [
    {
     "data": {
      "text/plain": [
       "['Rv1432', 'Rv2500c']"
      ]
     },
     "execution_count": 67,
     "metadata": {},
     "output_type": "execute_result"
    }
   ],
   "source": [
    "rvids_screen_12_orphans_CRISPRi"
   ]
  },
  {
   "cell_type": "code",
   "execution_count": 68,
   "metadata": {},
   "outputs": [
    {
     "data": {
      "text/plain": [
       "['Rv0244c', 'Rv1272c', 'Rv1405c', 'Rv1432', 'Rv3283', 'Rv3400', 'Rv3502c']"
      ]
     },
     "execution_count": 68,
     "metadata": {},
     "output_type": "execute_result"
    }
   ],
   "source": [
    "rvids_screen_13_orphans_CRISPRi"
   ]
  },
  {
   "cell_type": "code",
   "execution_count": 69,
   "metadata": {},
   "outputs": [
    {
     "data": {
      "text/plain": [
       "['Rv1193', 'Rv1432', 'Rv3032']"
      ]
     },
     "execution_count": 69,
     "metadata": {},
     "output_type": "execute_result"
    }
   ],
   "source": [
    "rvids_screen_23_orphans_CRISPRi"
   ]
  },
  {
   "cell_type": "code",
   "execution_count": 66,
   "metadata": {},
   "outputs": [
    {
     "data": {
      "text/plain": [
       "['Rv1432']"
      ]
     },
     "execution_count": 66,
     "metadata": {},
     "output_type": "execute_result"
    }
   ],
   "source": [
    "rvids_screen_123_orphans_CRISPRi"
   ]
  },
  {
   "cell_type": "code",
   "execution_count": null,
   "metadata": {},
   "outputs": [],
   "source": []
  }
 ],
 "metadata": {
  "kernelspec": {
   "display_name": "Python 3",
   "language": "python",
   "name": "python3"
  },
  "language_info": {
   "codemirror_mode": {
    "name": "ipython",
    "version": 3
   },
   "file_extension": ".py",
   "mimetype": "text/x-python",
   "name": "python",
   "nbconvert_exporter": "python",
   "pygments_lexer": "ipython3",
   "version": "3.6.6"
  }
 },
 "nbformat": 4,
 "nbformat_minor": 2
}
