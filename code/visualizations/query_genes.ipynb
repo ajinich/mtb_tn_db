{
 "cells": [
  {
   "cell_type": "markdown",
   "metadata": {},
   "source": [
    "## Import modules:"
   ]
  },
  {
   "cell_type": "code",
   "execution_count": 1,
   "metadata": {},
   "outputs": [],
   "source": [
    "import pandas as pd\n",
    "import matplotlib.pyplot as plt\n",
    "import numpy as np\n",
    "import os\n",
    "import seaborn as sns"
   ]
  },
  {
   "cell_type": "markdown",
   "metadata": {},
   "source": [
    "## Function definitions: "
   ]
  },
  {
   "cell_type": "code",
   "execution_count": 2,
   "metadata": {},
   "outputs": [],
   "source": [
    "def essentiality_calls(df, gene_id):\n",
    "# Return the columns in which a given gene is called essential:\n",
    "    cols = df.columns[2:]\n",
    "    col_list = []\n",
    "    for col in cols:\n",
    "        if df[df['Rv_ID']==gene_id][col].values[0] == 1:\n",
    "            col_list.append(col)\n",
    "            \n",
    "    return col_list"
   ]
  },
  {
   "cell_type": "markdown",
   "metadata": {},
   "source": [
    "## Load datasets:"
   ]
  },
  {
   "cell_type": "markdown",
   "metadata": {},
   "source": [
    "Screen condition descriptions:"
   ]
  },
  {
   "cell_type": "code",
   "execution_count": 3,
   "metadata": {},
   "outputs": [],
   "source": [
    "dir_data = '../../data'\n",
    "column_file = os.path.join(dir_data, 'column_descriptors_standardized_092321.xlsx')\n",
    "df_column = pd.read_excel(column_file)"
   ]
  },
  {
   "cell_type": "markdown",
   "metadata": {},
   "source": [
    "TnSeq matrix:"
   ]
  },
  {
   "cell_type": "code",
   "execution_count": 4,
   "metadata": {},
   "outputs": [
    {
     "data": {
      "text/html": [
       "<div>\n",
       "<style scoped>\n",
       "    .dataframe tbody tr th:only-of-type {\n",
       "        vertical-align: middle;\n",
       "    }\n",
       "\n",
       "    .dataframe tbody tr th {\n",
       "        vertical-align: top;\n",
       "    }\n",
       "\n",
       "    .dataframe thead th {\n",
       "        text-align: right;\n",
       "    }\n",
       "</style>\n",
       "<table border=\"1\" class=\"dataframe\">\n",
       "  <thead>\n",
       "    <tr style=\"text-align: right;\">\n",
       "      <th></th>\n",
       "      <th>Rv_ID</th>\n",
       "      <th>PE35_KO_vs_mbio_H37Rv</th>\n",
       "      <th>PPE68_KO_vs_mbio_H37Rv</th>\n",
       "      <th>Rv0950c_KO_vs_CB_WT</th>\n",
       "      <th>Rv0954_KO_vs_RJ_WT</th>\n",
       "      <th>Rv1096_KO_vs_CB_WT</th>\n",
       "      <th>Rv3005c_KO_day32_vs_dejesus_H37Rv_day32</th>\n",
       "      <th>Rv3594_KO_vs_Rubin_FLUTE_WT</th>\n",
       "      <th>Rv3684_KO_vs_CB_WT</th>\n",
       "      <th>Rv3717_KO_vs_Rubin_FLUTE_WT</th>\n",
       "      <th>...</th>\n",
       "      <th>Cast.EiJ_vs_C57BL.6J</th>\n",
       "      <th>IFNG_vs_C57BL.6J</th>\n",
       "      <th>NOD.ShiLtJ_vs_C57BL.6J</th>\n",
       "      <th>NOS_vs_C57BL.6J</th>\n",
       "      <th>NZO.H1LtJ_vs_C57BL.6J</th>\n",
       "      <th>PWK.PhJ_vs_C57BL.6J</th>\n",
       "      <th>Phox_vs_C57BL.6J</th>\n",
       "      <th>Rag_vs_C57BL.6J</th>\n",
       "      <th>Wsb.Eij_vs_C57BL.6J</th>\n",
       "      <th>in_vitro_vs_C57BL.6J</th>\n",
       "    </tr>\n",
       "  </thead>\n",
       "  <tbody>\n",
       "    <tr>\n",
       "      <th>0</th>\n",
       "      <td>Rv0001</td>\n",
       "      <td>0.0</td>\n",
       "      <td>0.0</td>\n",
       "      <td>0.0</td>\n",
       "      <td>0.0</td>\n",
       "      <td>0.0</td>\n",
       "      <td>0.0</td>\n",
       "      <td>0.0</td>\n",
       "      <td>0.0</td>\n",
       "      <td>0.0</td>\n",
       "      <td>...</td>\n",
       "      <td>0.0</td>\n",
       "      <td>0.0</td>\n",
       "      <td>0.0</td>\n",
       "      <td>0.0</td>\n",
       "      <td>0.0</td>\n",
       "      <td>0.0</td>\n",
       "      <td>0.0</td>\n",
       "      <td>0.0</td>\n",
       "      <td>0.0</td>\n",
       "      <td>0.0</td>\n",
       "    </tr>\n",
       "    <tr>\n",
       "      <th>1</th>\n",
       "      <td>Rv0002</td>\n",
       "      <td>0.0</td>\n",
       "      <td>0.0</td>\n",
       "      <td>0.0</td>\n",
       "      <td>0.0</td>\n",
       "      <td>0.0</td>\n",
       "      <td>0.0</td>\n",
       "      <td>0.0</td>\n",
       "      <td>0.0</td>\n",
       "      <td>0.0</td>\n",
       "      <td>...</td>\n",
       "      <td>0.0</td>\n",
       "      <td>0.0</td>\n",
       "      <td>0.0</td>\n",
       "      <td>0.0</td>\n",
       "      <td>0.0</td>\n",
       "      <td>0.0</td>\n",
       "      <td>0.0</td>\n",
       "      <td>0.0</td>\n",
       "      <td>0.0</td>\n",
       "      <td>0.0</td>\n",
       "    </tr>\n",
       "  </tbody>\n",
       "</table>\n",
       "<p>2 rows × 126 columns</p>\n",
       "</div>"
      ],
      "text/plain": [
       "    Rv_ID  PE35_KO_vs_mbio_H37Rv  PPE68_KO_vs_mbio_H37Rv  Rv0950c_KO_vs_CB_WT  \\\n",
       "0  Rv0001                    0.0                     0.0                  0.0   \n",
       "1  Rv0002                    0.0                     0.0                  0.0   \n",
       "\n",
       "   Rv0954_KO_vs_RJ_WT  Rv1096_KO_vs_CB_WT  \\\n",
       "0                 0.0                 0.0   \n",
       "1                 0.0                 0.0   \n",
       "\n",
       "   Rv3005c_KO_day32_vs_dejesus_H37Rv_day32  Rv3594_KO_vs_Rubin_FLUTE_WT  \\\n",
       "0                                      0.0                          0.0   \n",
       "1                                      0.0                          0.0   \n",
       "\n",
       "   Rv3684_KO_vs_CB_WT  Rv3717_KO_vs_Rubin_FLUTE_WT  ...  Cast.EiJ_vs_C57BL.6J  \\\n",
       "0                 0.0                          0.0  ...                   0.0   \n",
       "1                 0.0                          0.0  ...                   0.0   \n",
       "\n",
       "   IFNG_vs_C57BL.6J  NOD.ShiLtJ_vs_C57BL.6J  NOS_vs_C57BL.6J  \\\n",
       "0               0.0                     0.0              0.0   \n",
       "1               0.0                     0.0              0.0   \n",
       "\n",
       "   NZO.H1LtJ_vs_C57BL.6J  PWK.PhJ_vs_C57BL.6J  Phox_vs_C57BL.6J  \\\n",
       "0                    0.0                  0.0               0.0   \n",
       "1                    0.0                  0.0               0.0   \n",
       "\n",
       "   Rag_vs_C57BL.6J  Wsb.Eij_vs_C57BL.6J  in_vitro_vs_C57BL.6J  \n",
       "0              0.0                  0.0                   0.0  \n",
       "1              0.0                  0.0                   0.0  \n",
       "\n",
       "[2 rows x 126 columns]"
      ]
     },
     "execution_count": 4,
     "metadata": {},
     "output_type": "execute_result"
    }
   ],
   "source": [
    "tn_file = os.path.join(dir_data, 'standardized_data/result_bin_matrix_2021_08_27_BASIS.csv')\n",
    "df_tn = pd.read_csv(tn_file)\n",
    "df_tn.head(2)"
   ]
  },
  {
   "cell_type": "code",
   "execution_count": 12,
   "metadata": {},
   "outputs": [
    {
     "data": {
      "text/html": [
       "<div>\n",
       "<style scoped>\n",
       "    .dataframe tbody tr th:only-of-type {\n",
       "        vertical-align: middle;\n",
       "    }\n",
       "\n",
       "    .dataframe tbody tr th {\n",
       "        vertical-align: top;\n",
       "    }\n",
       "\n",
       "    .dataframe thead th {\n",
       "        text-align: right;\n",
       "    }\n",
       "</style>\n",
       "<table border=\"1\" class=\"dataframe\">\n",
       "  <thead>\n",
       "    <tr style=\"text-align: right;\">\n",
       "      <th></th>\n",
       "      <th>Rv_ID</th>\n",
       "      <th>PE35_KO_vs_mbio_H37Rv</th>\n",
       "      <th>PPE68_KO_vs_mbio_H37Rv</th>\n",
       "      <th>Rv0950c_KO_vs_CB_WT</th>\n",
       "      <th>Rv0954_KO_vs_RJ_WT</th>\n",
       "      <th>Rv1096_KO_vs_CB_WT</th>\n",
       "      <th>Rv3005c_KO_day32_vs_dejesus_H37Rv_day32</th>\n",
       "      <th>Rv3594_KO_vs_Rubin_FLUTE_WT</th>\n",
       "      <th>Rv3684_KO_vs_CB_WT</th>\n",
       "      <th>Rv3717_KO_vs_Rubin_FLUTE_WT</th>\n",
       "      <th>...</th>\n",
       "      <th>Cast.EiJ_vs_C57BL.6J</th>\n",
       "      <th>IFNG_vs_C57BL.6J</th>\n",
       "      <th>NOD.ShiLtJ_vs_C57BL.6J</th>\n",
       "      <th>NOS_vs_C57BL.6J</th>\n",
       "      <th>NZO.H1LtJ_vs_C57BL.6J</th>\n",
       "      <th>PWK.PhJ_vs_C57BL.6J</th>\n",
       "      <th>Phox_vs_C57BL.6J</th>\n",
       "      <th>Rag_vs_C57BL.6J</th>\n",
       "      <th>Wsb.Eij_vs_C57BL.6J</th>\n",
       "      <th>in_vitro_vs_C57BL.6J</th>\n",
       "    </tr>\n",
       "  </thead>\n",
       "  <tbody>\n",
       "    <tr>\n",
       "      <th>0</th>\n",
       "      <td>Rv0001</td>\n",
       "      <td>-0.41</td>\n",
       "      <td>0.01</td>\n",
       "      <td>0.0</td>\n",
       "      <td>0.0</td>\n",
       "      <td>0.0</td>\n",
       "      <td>3.12</td>\n",
       "      <td>-0.06</td>\n",
       "      <td>0.0</td>\n",
       "      <td>-0.06</td>\n",
       "      <td>...</td>\n",
       "      <td>0.0</td>\n",
       "      <td>0.0</td>\n",
       "      <td>0.0</td>\n",
       "      <td>0.0</td>\n",
       "      <td>0.0</td>\n",
       "      <td>0.22</td>\n",
       "      <td>0.0</td>\n",
       "      <td>0.0</td>\n",
       "      <td>0.00</td>\n",
       "      <td>0.0</td>\n",
       "    </tr>\n",
       "    <tr>\n",
       "      <th>1</th>\n",
       "      <td>Rv0002</td>\n",
       "      <td>3.28</td>\n",
       "      <td>2.38</td>\n",
       "      <td>0.0</td>\n",
       "      <td>0.0</td>\n",
       "      <td>0.0</td>\n",
       "      <td>0.00</td>\n",
       "      <td>0.00</td>\n",
       "      <td>0.0</td>\n",
       "      <td>0.00</td>\n",
       "      <td>...</td>\n",
       "      <td>0.0</td>\n",
       "      <td>0.0</td>\n",
       "      <td>0.0</td>\n",
       "      <td>0.0</td>\n",
       "      <td>0.0</td>\n",
       "      <td>0.00</td>\n",
       "      <td>0.0</td>\n",
       "      <td>0.0</td>\n",
       "      <td>0.27</td>\n",
       "      <td>0.0</td>\n",
       "    </tr>\n",
       "  </tbody>\n",
       "</table>\n",
       "<p>2 rows × 126 columns</p>\n",
       "</div>"
      ],
      "text/plain": [
       "    Rv_ID  PE35_KO_vs_mbio_H37Rv  PPE68_KO_vs_mbio_H37Rv  Rv0950c_KO_vs_CB_WT  \\\n",
       "0  Rv0001                  -0.41                    0.01                  0.0   \n",
       "1  Rv0002                   3.28                    2.38                  0.0   \n",
       "\n",
       "   Rv0954_KO_vs_RJ_WT  Rv1096_KO_vs_CB_WT  \\\n",
       "0                 0.0                 0.0   \n",
       "1                 0.0                 0.0   \n",
       "\n",
       "   Rv3005c_KO_day32_vs_dejesus_H37Rv_day32  Rv3594_KO_vs_Rubin_FLUTE_WT  \\\n",
       "0                                     3.12                        -0.06   \n",
       "1                                     0.00                         0.00   \n",
       "\n",
       "   Rv3684_KO_vs_CB_WT  Rv3717_KO_vs_Rubin_FLUTE_WT  ...  Cast.EiJ_vs_C57BL.6J  \\\n",
       "0                 0.0                        -0.06  ...                   0.0   \n",
       "1                 0.0                         0.00  ...                   0.0   \n",
       "\n",
       "   IFNG_vs_C57BL.6J  NOD.ShiLtJ_vs_C57BL.6J  NOS_vs_C57BL.6J  \\\n",
       "0               0.0                     0.0              0.0   \n",
       "1               0.0                     0.0              0.0   \n",
       "\n",
       "   NZO.H1LtJ_vs_C57BL.6J  PWK.PhJ_vs_C57BL.6J  Phox_vs_C57BL.6J  \\\n",
       "0                    0.0                 0.22               0.0   \n",
       "1                    0.0                 0.00               0.0   \n",
       "\n",
       "   Rag_vs_C57BL.6J  Wsb.Eij_vs_C57BL.6J  in_vitro_vs_C57BL.6J  \n",
       "0              0.0                 0.00                   0.0  \n",
       "1              0.0                 0.27                   0.0  \n",
       "\n",
       "[2 rows x 126 columns]"
      ]
     },
     "execution_count": 12,
     "metadata": {},
     "output_type": "execute_result"
    }
   ],
   "source": [
    "lfc_file = os.path.join(dir_data, 'standardized_data/result_logfc_matrix_2021_08_27_BASIS.csv')\n",
    "df_lfc = pd.read_csv(lfc_file)\n",
    "df_lfc.head(2)"
   ]
  },
  {
   "cell_type": "markdown",
   "metadata": {},
   "source": [
    "## Read in list of genes to query:"
   ]
  },
  {
   "cell_type": "markdown",
   "metadata": {},
   "source": [
    "File names: "
   ]
  },
  {
   "cell_type": "code",
   "execution_count": null,
   "metadata": {},
   "outputs": [],
   "source": [
    "# gene_list_file = '../../data/other_data/orphan_redox_wet_lab.xlsx'\n",
    "gene_list_file = '../../data/other_data/SDR_mtb.xlsx'\n",
    "xls_name = gene_list_file.split('.xlsx')[0] + '_TnMat.xlsx'\n",
    "\n",
    "# Create a Pandas Excel output writer:\n",
    "excel_output = os.path.join(dir_data, 'other_data', xls_name)\n",
    "writer = pd.ExcelWriter(excel_output, engine='xlsxwriter')"
   ]
  },
  {
   "cell_type": "markdown",
   "metadata": {},
   "source": [
    "Using excel file: "
   ]
  },
  {
   "cell_type": "code",
   "execution_count": 7,
   "metadata": {},
   "outputs": [],
   "source": [
    "df_gene_list = pd.read_excel(os.path.join(dir_data, 'other_data', gene_list_file))\n",
    "gene_list = df_gene_list.Rv_ID.values"
   ]
  },
  {
   "cell_type": "markdown",
   "metadata": {},
   "source": [
    "Using python list:"
   ]
  },
  {
   "cell_type": "code",
   "execution_count": 6,
   "metadata": {},
   "outputs": [],
   "source": [
    "gene_list = ['Rv3696c']\n",
    "\n",
    "# Create a Pandas Excel output writer:\n",
    "xls_name = 'Rv3696c.xlsx'\n",
    "excel_output = os.path.join(dir_data, 'tests', xls_name)\n",
    "writer = pd.ExcelWriter(excel_output, engine='xlsxwriter')"
   ]
  },
  {
   "cell_type": "markdown",
   "metadata": {},
   "source": [
    "## Query genes:\n",
    "\n",
    "output results to excel sheets:"
   ]
  },
  {
   "cell_type": "code",
   "execution_count": 7,
   "metadata": {},
   "outputs": [],
   "source": [
    "save_to_xls = True"
   ]
  },
  {
   "cell_type": "code",
   "execution_count": 8,
   "metadata": {},
   "outputs": [
    {
     "name": "stdout",
     "output_type": "stream",
     "text": [
      "Rv3696c\n"
     ]
    }
   ],
   "source": [
    "essential_dict = {}\n",
    "for gene in gene_list:\n",
    "    print( gene )\n",
    "    hits = essentiality_calls(df_tn, gene)\n",
    "    df_temp = df_column[df_column.column_ID_2.isin(hits)]\n",
    "    essential_dict[gene] = hits\n",
    "    if save_to_xls:\n",
    "        df_temp.to_excel(writer, sheet_name=gene, index = False)\n",
    "\n",
    "if save_to_xls:\n",
    "    writer.save()"
   ]
  },
  {
   "cell_type": "code",
   "execution_count": 31,
   "metadata": {},
   "outputs": [],
   "source": [
    "df_T = df_lfc[df_lfc.Rv_ID==gene][hits].T\n",
    "df_T['column_ID_2'] = df_T.index\n",
    "df_T.rename(columns = {3818:'log2FC'}, inplace=True)\n",
    "df_T.reset_index(drop=True, inplace=True)\n",
    "df_T = df_T[['column_ID_2', 'log2FC']]\n",
    "df_T.sort_values(by = 'log2FC', inplace = True)"
   ]
  },
  {
   "cell_type": "code",
   "execution_count": 33,
   "metadata": {},
   "outputs": [],
   "source": [
    "df_temp_w_lfc = df_T.merge(df_temp, how = 'left', on = 'column_ID_2')"
   ]
  },
  {
   "cell_type": "code",
   "execution_count": 34,
   "metadata": {},
   "outputs": [],
   "source": [
    "fout = '../../data/tests/Rv3696c_w_lfc.xlsx'\n",
    "df_temp_w_lfc.to_excel(fout, index = False)"
   ]
  },
  {
   "cell_type": "code",
   "execution_count": 14,
   "metadata": {},
   "outputs": [
    {
     "data": {
      "text/plain": [
       "3818    2.89\n",
       "Name: C57BL.6J_vs_mbio_H37Rv, dtype: float64"
      ]
     },
     "execution_count": 14,
     "metadata": {},
     "output_type": "execute_result"
    }
   ],
   "source": [
    "gene = gene_list[0]\n",
    "screen = 'C57TL.6J_vs_mbio_H37Rv'\n",
    "df_lfc[df_lfc.Rv_ID==gene][screen]"
   ]
  },
  {
   "cell_type": "markdown",
   "metadata": {},
   "source": [
    "### This is a simple format in which to save the dataframe:"
   ]
  },
  {
   "cell_type": "code",
   "execution_count": 10,
   "metadata": {},
   "outputs": [],
   "source": [
    "df_by_genes = pd.DataFrame()\n",
    "df_by_genes['Rv_ID'] = essential_dict.keys()\n",
    "df_by_genes['TnSeq_calls'] = essential_dict.values()\n",
    "df_by_genes['num_TnSeq'] = [len(TnSeq) for TnSeq in df_by_genes.TnSeq_calls.values]\n",
    "df_by_genes.sort_values(by='num_TnSeq', ascending=False, inplace=True)\n",
    "\n",
    "df_by_genes = df_by_genes[['Rv_ID', 'num_TnSeq', 'TnSeq_calls']]"
   ]
  },
  {
   "cell_type": "code",
   "execution_count": 11,
   "metadata": {},
   "outputs": [
    {
     "data": {
      "text/html": [
       "<div>\n",
       "<style scoped>\n",
       "    .dataframe tbody tr th:only-of-type {\n",
       "        vertical-align: middle;\n",
       "    }\n",
       "\n",
       "    .dataframe tbody tr th {\n",
       "        vertical-align: top;\n",
       "    }\n",
       "\n",
       "    .dataframe thead th {\n",
       "        text-align: right;\n",
       "    }\n",
       "</style>\n",
       "<table border=\"1\" class=\"dataframe\">\n",
       "  <thead>\n",
       "    <tr style=\"text-align: right;\">\n",
       "      <th></th>\n",
       "      <th>Rv_ID</th>\n",
       "      <th>num_TnSeq</th>\n",
       "      <th>TnSeq_calls</th>\n",
       "    </tr>\n",
       "  </thead>\n",
       "  <tbody>\n",
       "    <tr>\n",
       "      <th>37</th>\n",
       "      <td>Rv2263</td>\n",
       "      <td>1</td>\n",
       "      <td>[Rv3916c]</td>\n",
       "    </tr>\n",
       "    <tr>\n",
       "      <th>35</th>\n",
       "      <td>Rv0303</td>\n",
       "      <td>1</td>\n",
       "      <td>[Rv3005c]</td>\n",
       "    </tr>\n",
       "    <tr>\n",
       "      <th>41</th>\n",
       "      <td>Rv0439c</td>\n",
       "      <td>0</td>\n",
       "      <td>[]</td>\n",
       "    </tr>\n",
       "    <tr>\n",
       "      <th>4</th>\n",
       "      <td>Rv3085</td>\n",
       "      <td>0</td>\n",
       "      <td>[]</td>\n",
       "    </tr>\n",
       "    <tr>\n",
       "      <th>20</th>\n",
       "      <td>Rv3485c</td>\n",
       "      <td>1</td>\n",
       "      <td>[Rv3005c]</td>\n",
       "    </tr>\n",
       "  </tbody>\n",
       "</table>\n",
       "</div>"
      ],
      "text/plain": [
       "      Rv_ID  num_TnSeq TnSeq_calls\n",
       "37   Rv2263          1   [Rv3916c]\n",
       "35   Rv0303          1   [Rv3005c]\n",
       "41  Rv0439c          0          []\n",
       "4    Rv3085          0          []\n",
       "20  Rv3485c          1   [Rv3005c]"
      ]
     },
     "execution_count": 11,
     "metadata": {},
     "output_type": "execute_result"
    }
   ],
   "source": [
    "df_by_genes.sample(5)"
   ]
  },
  {
   "cell_type": "code",
   "execution_count": 12,
   "metadata": {},
   "outputs": [],
   "source": [
    "xls_out_name = 'SDR_Mtb_TnSeq_by_genes.xlsx'\n",
    "excel_output = os.path.join(dir_data, 'other_data', xls_out_name)\n",
    "df_by_genes.to_excel(excel_output, index = False)\n"
   ]
  },
  {
   "cell_type": "markdown",
   "metadata": {},
   "source": [
    "## For a list of genes, make an inverse mapping of TnSeq screens --> to --> genes"
   ]
  },
  {
   "cell_type": "code",
   "execution_count": 13,
   "metadata": {},
   "outputs": [],
   "source": [
    "TnSeq_screens = []\n",
    "for val in essential_dict.values():\n",
    "    TnSeq_screens += val\n",
    "TnSeq_screens = list(set(TnSeq_screens))\n",
    "TnSeq_screens.sort()"
   ]
  },
  {
   "cell_type": "code",
   "execution_count": 14,
   "metadata": {},
   "outputs": [],
   "source": [
    "TnSeq_dict = {}\n",
    "for TnSeq in TnSeq_screens:\n",
    "    genes_in_TnSeq = [ gene for gene in essential_dict.keys() if TnSeq in essential_dict[gene]]\n",
    "    genes_in_TnSeq.sort()\n",
    "    TnSeq_dict[TnSeq] = genes_in_TnSeq\n",
    "    \n",
    "df_TnSeq = pd.DataFrame()\n",
    "df_TnSeq['TnSeq_screen'] = TnSeq_dict.keys()\n",
    "df_TnSeq['genes'] = TnSeq_dict.values()\n",
    "df_TnSeq['num_genes'] = [len(gs) for gs in df_TnSeq.genes.values]\n",
    "df_TnSeq.sort_values(by='num_genes', ascending=False, inplace=True)\n",
    "\n",
    "df_TnSeq = df_TnSeq[['TnSeq_screen', 'num_genes', 'genes']]\n"
   ]
  },
  {
   "cell_type": "code",
   "execution_count": 15,
   "metadata": {},
   "outputs": [],
   "source": [
    "xls_out_name = 'SDR_Mtb_genes_by_TnSeq.xlsx'\n",
    "excel_output = os.path.join(dir_data, 'other_data', xls_out_name)\n",
    "\n",
    "df_TnSeq.to_excel(excel_output, index = False)\n"
   ]
  },
  {
   "cell_type": "code",
   "execution_count": 51,
   "metadata": {},
   "outputs": [],
   "source": []
  },
  {
   "cell_type": "code",
   "execution_count": null,
   "metadata": {},
   "outputs": [],
   "source": []
  }
 ],
 "metadata": {
  "kernelspec": {
   "display_name": "Python 3 (ipykernel)",
   "language": "python",
   "name": "python3"
  },
  "language_info": {
   "codemirror_mode": {
    "name": "ipython",
    "version": 3
   },
   "file_extension": ".py",
   "mimetype": "text/x-python",
   "name": "python",
   "nbconvert_exporter": "python",
   "pygments_lexer": "ipython3",
   "version": "3.8.10"
  }
 },
 "nbformat": 4,
 "nbformat_minor": 4
}
