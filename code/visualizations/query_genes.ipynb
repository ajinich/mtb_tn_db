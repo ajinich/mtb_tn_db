{
 "cells": [
  {
   "cell_type": "markdown",
   "metadata": {},
   "source": [
    "## Import modules:"
   ]
  },
  {
   "cell_type": "code",
   "execution_count": 2,
   "metadata": {},
   "outputs": [],
   "source": [
    "import pandas as pd\n",
    "import matplotlib.pyplot as plt\n",
    "import numpy as np\n",
    "import os\n",
    "import seaborn as sns"
   ]
  },
  {
   "cell_type": "markdown",
   "metadata": {},
   "source": [
    "## Function definitions: "
   ]
  },
  {
   "cell_type": "code",
   "execution_count": 3,
   "metadata": {},
   "outputs": [],
   "source": [
    "def essentiality_calls(df, gene_id):\n",
    "# Return the columns in which a given gene is called essential:\n",
    "    cols = df.columns[2:]\n",
    "    col_list = []\n",
    "    for col in cols:\n",
    "        if df[df['Rv_ID']==gene_id][col].values[0] == 1:\n",
    "            col_list.append(col)\n",
    "            \n",
    "    return col_list"
   ]
  },
  {
   "cell_type": "markdown",
   "metadata": {},
   "source": [
    "## Load datasets:"
   ]
  },
  {
   "cell_type": "markdown",
   "metadata": {},
   "source": [
    "Screen condition descriptions:"
   ]
  },
  {
   "cell_type": "code",
   "execution_count": 4,
   "metadata": {},
   "outputs": [],
   "source": [
    "dir_data = '../../data'\n",
    "column_file = os.path.join(dir_data, 'column_descriptors.csv')\n",
    "df_column = pd.read_csv(column_file)"
   ]
  },
  {
   "cell_type": "markdown",
   "metadata": {},
   "source": [
    "TnSeq matrix:"
   ]
  },
  {
   "cell_type": "code",
   "execution_count": 5,
   "metadata": {},
   "outputs": [
    {
     "data": {
      "text/plain": [
       "(3990, 60)"
      ]
     },
     "execution_count": 5,
     "metadata": {},
     "output_type": "execute_result"
    }
   ],
   "source": [
    "tn_file = os.path.join(dir_data, 'Tn_library_DB.xlsx')\n",
    "df_tn = pd.read_excel(tn_file)\n",
    "df_tn.shape"
   ]
  },
  {
   "cell_type": "markdown",
   "metadata": {},
   "source": [
    "## Read in list of genes to query:"
   ]
  },
  {
   "cell_type": "markdown",
   "metadata": {},
   "source": [
    "File names: "
   ]
  },
  {
   "cell_type": "code",
   "execution_count": 6,
   "metadata": {},
   "outputs": [],
   "source": [
    "gene_list_file = 'redox_uniprot_myco_orphan.xlsx'\n",
    "xls_name = gene_list_file.split('.')[0] + '_TnMat.xlsx'\n",
    "\n",
    "# Create a Pandas Excel output writer:\n",
    "excel_output = os.path.join(dir_data, 'other_data', xls_name)\n",
    "writer = pd.ExcelWriter(excel_output, engine='xlsxwriter')"
   ]
  },
  {
   "cell_type": "markdown",
   "metadata": {},
   "source": [
    "Using excel file: "
   ]
  },
  {
   "cell_type": "code",
   "execution_count": 8,
   "metadata": {},
   "outputs": [],
   "source": [
    "df_gene_list = pd.read_excel(os.path.join(dir_data, 'other_data', gene_list_file))\n",
    "gene_list = df_gene_list.Rv_ID.values"
   ]
  },
  {
   "cell_type": "markdown",
   "metadata": {},
   "source": [
    "Using python list:"
   ]
  },
  {
   "cell_type": "code",
   "execution_count": 10,
   "metadata": {},
   "outputs": [],
   "source": [
    "gene_list = ['Rv0733', 'Rv1565c']\n",
    "\n",
    "# Create a Pandas Excel output writer:\n",
    "xls_name = 'gene_kyu.xlsx'\n",
    "excel_output = os.path.join(dir_data, 'other_data', xls_name)\n",
    "writer = pd.ExcelWriter(excel_output, engine='xlsxwriter')"
   ]
  },
  {
   "cell_type": "markdown",
   "metadata": {},
   "source": [
    "## Query genes:\n",
    "\n",
    "output results to excel sheets:"
   ]
  },
  {
   "cell_type": "code",
   "execution_count": 9,
   "metadata": {},
   "outputs": [],
   "source": [
    "save_to_xls = False"
   ]
  },
  {
   "cell_type": "code",
   "execution_count": 10,
   "metadata": {},
   "outputs": [],
   "source": [
    "essential_dict = {}\n",
    "for gene in gene_list:\n",
    "    hits = essentiality_calls(df_tn, gene)\n",
    "    df_temp = df_column[df_column.column_ID.isin(hits)]\n",
    "    essential_dict[gene] = hits\n",
    "    if save_to_xls:\n",
    "        df_temp.to_excel(writer, sheet_name=gene, index = False)\n",
    "\n",
    "if save_to_xls:\n",
    "    writer.save()"
   ]
  },
  {
   "cell_type": "markdown",
   "metadata": {},
   "source": [
    "### This is a simple format in which to save the dataframe:"
   ]
  },
  {
   "cell_type": "code",
   "execution_count": 11,
   "metadata": {},
   "outputs": [],
   "source": [
    "df_by_genes = pd.DataFrame()\n",
    "df_by_genes['Rv_ID'] = essential_dict.keys()\n",
    "df_by_genes['TnSeq_calls'] = essential_dict.values()\n",
    "df_by_genes['num_TnSeq'] = [len(TnSeq) for TnSeq in df_by_genes.TnSeq_calls.values]\n",
    "df_by_genes.sort_values(by='num_TnSeq', ascending=False, inplace=True)\n",
    "\n",
    "df_by_genes = df_by_genes[['Rv_ID', 'num_TnSeq', 'TnSeq_calls']]"
   ]
  },
  {
   "cell_type": "code",
   "execution_count": 15,
   "metadata": {},
   "outputs": [
    {
     "data": {
      "text/html": [
       "<div>\n",
       "<style scoped>\n",
       "    .dataframe tbody tr th:only-of-type {\n",
       "        vertical-align: middle;\n",
       "    }\n",
       "\n",
       "    .dataframe tbody tr th {\n",
       "        vertical-align: top;\n",
       "    }\n",
       "\n",
       "    .dataframe thead th {\n",
       "        text-align: right;\n",
       "    }\n",
       "</style>\n",
       "<table border=\"1\" class=\"dataframe\">\n",
       "  <thead>\n",
       "    <tr style=\"text-align: right;\">\n",
       "      <th></th>\n",
       "      <th>Rv_ID</th>\n",
       "      <th>num_TnSeq</th>\n",
       "      <th>TnSeq_calls</th>\n",
       "    </tr>\n",
       "  </thead>\n",
       "  <tbody>\n",
       "    <tr>\n",
       "      <th>62</th>\n",
       "      <td>Rv3530c</td>\n",
       "      <td>1</td>\n",
       "      <td>[2012_Zhang]</td>\n",
       "    </tr>\n",
       "    <tr>\n",
       "      <th>82</th>\n",
       "      <td>Rv1059</td>\n",
       "      <td>3</td>\n",
       "      <td>[2013_Zhang_1, Rv1565c, Rv0307c]</td>\n",
       "    </tr>\n",
       "    <tr>\n",
       "      <th>91</th>\n",
       "      <td>Rv0082</td>\n",
       "      <td>2</td>\n",
       "      <td>[2005_Rengarajan, 2016_Nambi]</td>\n",
       "    </tr>\n",
       "    <tr>\n",
       "      <th>83</th>\n",
       "      <td>Rv1138c</td>\n",
       "      <td>1</td>\n",
       "      <td>[2015_Mendum]</td>\n",
       "    </tr>\n",
       "    <tr>\n",
       "      <th>126</th>\n",
       "      <td>Rv1865c</td>\n",
       "      <td>0</td>\n",
       "      <td>[]</td>\n",
       "    </tr>\n",
       "  </tbody>\n",
       "</table>\n",
       "</div>"
      ],
      "text/plain": [
       "       Rv_ID  num_TnSeq                       TnSeq_calls\n",
       "62   Rv3530c          1                      [2012_Zhang]\n",
       "82    Rv1059          3  [2013_Zhang_1, Rv1565c, Rv0307c]\n",
       "91    Rv0082          2     [2005_Rengarajan, 2016_Nambi]\n",
       "83   Rv1138c          1                     [2015_Mendum]\n",
       "126  Rv1865c          0                                []"
      ]
     },
     "execution_count": 15,
     "metadata": {},
     "output_type": "execute_result"
    }
   ],
   "source": [
    "df_by_genes.sample(5)"
   ]
  },
  {
   "cell_type": "code",
   "execution_count": 13,
   "metadata": {},
   "outputs": [],
   "source": [
    "xls_out_name = 'redox_TnSeq_by_genes.xlsx'\n",
    "excel_output = os.path.join(dir_data, 'other_data', xls_out_name)\n",
    "df_by_genes.to_excel(excel_output, index = False)\n"
   ]
  },
  {
   "cell_type": "markdown",
   "metadata": {},
   "source": [
    "## For a list of genes, make an inverse mapping of TnSeq screens --> to --> genes"
   ]
  },
  {
   "cell_type": "code",
   "execution_count": 48,
   "metadata": {},
   "outputs": [],
   "source": [
    "TnSeq_screens = []\n",
    "for val in essential_dict.values():\n",
    "    TnSeq_screens += val\n",
    "TnSeq_screens = list(set(TnSeq_screens))\n",
    "TnSeq_screens.sort()"
   ]
  },
  {
   "cell_type": "code",
   "execution_count": 58,
   "metadata": {},
   "outputs": [],
   "source": [
    "TnSeq_dict = {}\n",
    "for TnSeq in TnSeq_screens:\n",
    "    genes_in_TnSeq = [ gene for gene in essential_dict.keys() if TnSeq in essential_dict[gene]]\n",
    "    genes_in_TnSeq.sort()\n",
    "    TnSeq_dict[TnSeq] = genes_in_TnSeq\n",
    "    \n",
    "df_TnSeq = pd.DataFrame()\n",
    "df_TnSeq['TnSeq_screen'] = TnSeq_dict.keys()\n",
    "df_TnSeq['genes'] = TnSeq_dict.values()\n",
    "df_TnSeq['num_genes'] = [len(gs) for gs in df_TnSeq.genes.values]\n",
    "df_TnSeq.sort_values(by='num_genes', ascending=False, inplace=True)\n",
    "\n",
    "df_TnSeq = df_TnSeq[['TnSeq_screen', 'num_genes', 'genes']]\n"
   ]
  },
  {
   "cell_type": "code",
   "execution_count": 56,
   "metadata": {},
   "outputs": [],
   "source": [
    "xls_out_name = 'redox_genes_by_TnSeq.xlsx'\n",
    "excel_output = os.path.join(dir_data, 'other_data', xls_out_name)\n",
    "\n",
    "df_TnSeq.to_excel(excel_output, index = False)\n"
   ]
  },
  {
   "cell_type": "code",
   "execution_count": 51,
   "metadata": {},
   "outputs": [],
   "source": []
  },
  {
   "cell_type": "code",
   "execution_count": null,
   "metadata": {},
   "outputs": [],
   "source": []
  }
 ],
 "metadata": {
  "kernelspec": {
   "display_name": "Python 3",
   "language": "python",
   "name": "python3"
  },
  "language_info": {
   "codemirror_mode": {
    "name": "ipython",
    "version": 3
   },
   "file_extension": ".py",
   "mimetype": "text/x-python",
   "name": "python",
   "nbconvert_exporter": "python",
   "pygments_lexer": "ipython3",
   "version": "3.6.6"
  }
 },
 "nbformat": 4,
 "nbformat_minor": 2
}
