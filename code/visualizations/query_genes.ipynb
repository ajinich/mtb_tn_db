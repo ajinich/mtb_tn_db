{
 "cells": [
  {
   "cell_type": "code",
   "execution_count": 1,
   "metadata": {},
   "outputs": [],
   "source": [
    "import pandas as pd\n",
    "import matplotlib.pyplot as plt\n",
    "import numpy as np\n",
    "import os\n",
    "import seaborn as sns"
   ]
  },
  {
   "cell_type": "code",
   "execution_count": 18,
   "metadata": {},
   "outputs": [],
   "source": [
    "def essentiality_calls(df, gene_id):\n",
    "# Return the columns in which a given gene is called essential:\n",
    "    cols = df.columns[2:]\n",
    "    col_list = []\n",
    "    for col in cols:\n",
    "        if df[df['Rv_ID']==gene_id][col].values[0] == 1:\n",
    "            col_list.append(col)\n",
    "            \n",
    "    return col_list"
   ]
  },
  {
   "cell_type": "code",
   "execution_count": 4,
   "metadata": {},
   "outputs": [],
   "source": [
    "dir_data = '../../data'\n",
    "column_file = os.path.join(dir_data, 'column_descriptors.csv')"
   ]
  },
  {
   "cell_type": "code",
   "execution_count": 5,
   "metadata": {},
   "outputs": [
    {
     "data": {
      "text/html": [
       "<div>\n",
       "<style scoped>\n",
       "    .dataframe tbody tr th:only-of-type {\n",
       "        vertical-align: middle;\n",
       "    }\n",
       "\n",
       "    .dataframe tbody tr th {\n",
       "        vertical-align: top;\n",
       "    }\n",
       "\n",
       "    .dataframe thead th {\n",
       "        text-align: right;\n",
       "    }\n",
       "</style>\n",
       "<table border=\"1\" class=\"dataframe\">\n",
       "  <thead>\n",
       "    <tr style=\"text-align: right;\">\n",
       "      <th></th>\n",
       "      <th>column_ID</th>\n",
       "      <th>year</th>\n",
       "      <th>paper_title</th>\n",
       "      <th>paper_URL</th>\n",
       "      <th>journal</th>\n",
       "      <th>first_author</th>\n",
       "      <th>last_author</th>\n",
       "      <th>in_vitro_cell_vivo</th>\n",
       "      <th>in_vitro_media</th>\n",
       "      <th>carbon_source</th>\n",
       "      <th>stress_description</th>\n",
       "      <th>GI_ID</th>\n",
       "      <th>GI_name</th>\n",
       "      <th>MicArr_or_TnSeq</th>\n",
       "      <th>stat_analysis</th>\n",
       "      <th>mouse_strain</th>\n",
       "      <th>cell_type</th>\n",
       "      <th>Mtb_strain</th>\n",
       "    </tr>\n",
       "  </thead>\n",
       "  <tbody>\n",
       "    <tr>\n",
       "      <th>0</th>\n",
       "      <td>2005_Rengarajan</td>\n",
       "      <td>2005.0</td>\n",
       "      <td>Genome-wide requirements for Mycobacterium tub...</td>\n",
       "      <td>https://www.ncbi.nlm.nih.gov/pmc/articles/PMC1...</td>\n",
       "      <td>PNAS</td>\n",
       "      <td>Rengarajan</td>\n",
       "      <td>Rubin</td>\n",
       "      <td>in_cell</td>\n",
       "      <td>-</td>\n",
       "      <td>-</td>\n",
       "      <td>-</td>\n",
       "      <td>NaN</td>\n",
       "      <td>NaN</td>\n",
       "      <td>microarray</td>\n",
       "      <td>NaN</td>\n",
       "      <td>NaN</td>\n",
       "      <td>NaN</td>\n",
       "      <td>NaN</td>\n",
       "    </tr>\n",
       "    <tr>\n",
       "      <th>1</th>\n",
       "      <td>2015_Mendum</td>\n",
       "      <td>2015.0</td>\n",
       "      <td>Lipid metabolism and Type VII secretion system...</td>\n",
       "      <td>https://www.ncbi.nlm.nih.gov/pmc/articles/PMC4...</td>\n",
       "      <td>BMC_genomics</td>\n",
       "      <td>Mendum</td>\n",
       "      <td>Stewart</td>\n",
       "      <td>in_cell</td>\n",
       "      <td>-</td>\n",
       "      <td>-</td>\n",
       "      <td>-</td>\n",
       "      <td>NaN</td>\n",
       "      <td>NaN</td>\n",
       "      <td>TnSeq</td>\n",
       "      <td>NaN</td>\n",
       "      <td>NaN</td>\n",
       "      <td>DC</td>\n",
       "      <td>NaN</td>\n",
       "    </tr>\n",
       "  </tbody>\n",
       "</table>\n",
       "</div>"
      ],
      "text/plain": [
       "         column_ID    year                                        paper_title  \\\n",
       "0  2005_Rengarajan  2005.0  Genome-wide requirements for Mycobacterium tub...   \n",
       "1      2015_Mendum  2015.0  Lipid metabolism and Type VII secretion system...   \n",
       "\n",
       "                                           paper_URL       journal  \\\n",
       "0  https://www.ncbi.nlm.nih.gov/pmc/articles/PMC1...          PNAS   \n",
       "1  https://www.ncbi.nlm.nih.gov/pmc/articles/PMC4...  BMC_genomics   \n",
       "\n",
       "  first_author last_author in_vitro_cell_vivo in_vitro_media carbon_source  \\\n",
       "0   Rengarajan       Rubin            in_cell              -             -   \n",
       "1       Mendum     Stewart            in_cell              -             -   \n",
       "\n",
       "  stress_description GI_ID GI_name MicArr_or_TnSeq stat_analysis mouse_strain  \\\n",
       "0                  -   NaN     NaN      microarray           NaN          NaN   \n",
       "1                  -   NaN     NaN           TnSeq           NaN          NaN   \n",
       "\n",
       "  cell_type Mtb_strain  \n",
       "0       NaN        NaN  \n",
       "1        DC        NaN  "
      ]
     },
     "execution_count": 5,
     "metadata": {},
     "output_type": "execute_result"
    }
   ],
   "source": [
    "df_column = pd.read_csv(column_file)\n",
    "df_column.head(2)"
   ]
  },
  {
   "cell_type": "code",
   "execution_count": 6,
   "metadata": {},
   "outputs": [
    {
     "data": {
      "text/plain": [
       "(3990, 60)"
      ]
     },
     "execution_count": 6,
     "metadata": {},
     "output_type": "execute_result"
    }
   ],
   "source": [
    "tn_file = os.path.join(dir_data, 'Tn_library_DB.xlsx')\n",
    "df_tn = pd.read_excel(tn_file)\n",
    "df_tn.shape"
   ]
  },
  {
   "cell_type": "code",
   "execution_count": 7,
   "metadata": {},
   "outputs": [],
   "source": [
    "xls_name = \"CRISPRi_v1.xlsx\"\n",
    "df_crispri = pd.read_excel(os.path.join(dir_data, 'other_data/transformed_with_phenotype.xlsx'))\n",
    "gene_list = df_crispri.Rv_ID.values"
   ]
  },
  {
   "cell_type": "code",
   "execution_count": 24,
   "metadata": {},
   "outputs": [],
   "source": [
    "gene_list = ['Rv0250c', 'Rv0249c', 'Rv0248c', 'Rv0247c', \n",
    "             'Rv3316', 'Rv3317', 'Rv3318', 'Rv3319', \n",
    "             'Rv1552', 'Rv1553', 'Rv1554', 'Rv1555']\n",
    "xls_name = \"sdh_frd.xlsx\""
   ]
  },
  {
   "cell_type": "code",
   "execution_count": 25,
   "metadata": {},
   "outputs": [],
   "source": [
    "# Create a Pandas Excel writer using XlsxWriter as the engine.\n",
    "excel_name = os.path.join(dir_data, 'other_data', xls_name)\n",
    "writer = pd.ExcelWriter(excel_name, engine='xlsxwriter')"
   ]
  },
  {
   "cell_type": "code",
   "execution_count": 14,
   "metadata": {},
   "outputs": [],
   "source": [
    "# df_crispri.to_excel(writer, sheet_name = 'CRISPRi_phenotypes', index = False)"
   ]
  },
  {
   "cell_type": "code",
   "execution_count": 26,
   "metadata": {},
   "outputs": [
    {
     "name": "stdout",
     "output_type": "stream",
     "text": [
      "Rv0250c\n",
      "Rv0249c\n",
      "Rv0248c\n",
      "Rv0247c\n",
      "Rv3316\n",
      "Rv3317\n",
      "Rv3318\n",
      "Rv3319\n",
      "Rv1552\n",
      "Rv1553\n",
      "Rv1554\n",
      "Rv1555\n"
     ]
    }
   ],
   "source": [
    "essential_dict = {}\n",
    "for gene in gene_list:\n",
    "    print(gene)\n",
    "    hits = essentiality_calls(df_tn, gene)\n",
    "    df_temp = df_column[df_column.column_ID.isin(hits)]\n",
    "    df_temp.to_excel(writer, sheet_name=gene, index = False)\n",
    "writer.save()"
   ]
  },
  {
   "cell_type": "markdown",
   "metadata": {},
   "source": [
    "Temp"
   ]
  },
  {
   "cell_type": "code",
   "execution_count": null,
   "metadata": {},
   "outputs": [],
   "source": []
  }
 ],
 "metadata": {
  "kernelspec": {
   "display_name": "Python 3",
   "language": "python",
   "name": "python3"
  },
  "language_info": {
   "codemirror_mode": {
    "name": "ipython",
    "version": 3
   },
   "file_extension": ".py",
   "mimetype": "text/x-python",
   "name": "python",
   "nbconvert_exporter": "python",
   "pygments_lexer": "ipython3",
   "version": "3.6.6"
  }
 },
 "nbformat": 4,
 "nbformat_minor": 2
}
