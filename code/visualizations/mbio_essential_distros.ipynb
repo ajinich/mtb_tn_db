{
 "cells": [
  {
   "cell_type": "code",
   "execution_count": 1,
   "id": "395dc477-d655-414e-a57b-c6701cdb56cc",
   "metadata": {},
   "outputs": [],
   "source": [
    "import pandas as pd\n",
    "import matplotlib.pyplot as plt\n"
   ]
  },
  {
   "cell_type": "code",
   "execution_count": 4,
   "id": "48ec3c4b-c0b1-4582-85de-a30a4f485e41",
   "metadata": {},
   "outputs": [
    {
     "data": {
      "text/html": [
       "<div>\n",
       "<style scoped>\n",
       "    .dataframe tbody tr th:only-of-type {\n",
       "        vertical-align: middle;\n",
       "    }\n",
       "\n",
       "    .dataframe tbody tr th {\n",
       "        vertical-align: top;\n",
       "    }\n",
       "\n",
       "    .dataframe thead th {\n",
       "        text-align: right;\n",
       "    }\n",
       "</style>\n",
       "<table border=\"1\" class=\"dataframe\">\n",
       "  <thead>\n",
       "    <tr style=\"text-align: right;\">\n",
       "      <th></th>\n",
       "      <th>Rv_ID</th>\n",
       "      <th>PE35_KO_vs_mbio_H37Rv</th>\n",
       "      <th>PPE68_KO_vs_mbio_H37Rv</th>\n",
       "      <th>Rv0950c_KO_vs_CB_WT</th>\n",
       "      <th>Rv0954_KO_vs_RJ_WT</th>\n",
       "      <th>Rv1096_KO_vs_CB_WT</th>\n",
       "      <th>Rv3005c_KO_day32_vs_dejesus_H37Rv_day32</th>\n",
       "      <th>Rv3594_KO_vs_Rubin_FLUTE_WT</th>\n",
       "      <th>Rv3684_KO_vs_CB_WT</th>\n",
       "      <th>Rv3717_KO_vs_Rubin_FLUTE_WT</th>\n",
       "      <th>...</th>\n",
       "      <th>Cast.EiJ_vs_C57BL.6J</th>\n",
       "      <th>IFNG_vs_C57BL.6J</th>\n",
       "      <th>NOD.ShiLtJ_vs_C57BL.6J</th>\n",
       "      <th>NOS_vs_C57BL.6J</th>\n",
       "      <th>NZO.H1LtJ_vs_C57BL.6J</th>\n",
       "      <th>PWK.PhJ_vs_C57BL.6J</th>\n",
       "      <th>Phox_vs_C57BL.6J</th>\n",
       "      <th>Rag_vs_C57BL.6J</th>\n",
       "      <th>Wsb.Eij_vs_C57BL.6J</th>\n",
       "      <th>in_vitro_vs_C57BL.6J</th>\n",
       "    </tr>\n",
       "  </thead>\n",
       "  <tbody>\n",
       "    <tr>\n",
       "      <th>0</th>\n",
       "      <td>Rv0001</td>\n",
       "      <td>-0.41</td>\n",
       "      <td>0.01</td>\n",
       "      <td>0.0</td>\n",
       "      <td>0.0</td>\n",
       "      <td>0.0</td>\n",
       "      <td>3.12</td>\n",
       "      <td>-0.06</td>\n",
       "      <td>0.0</td>\n",
       "      <td>-0.06</td>\n",
       "      <td>...</td>\n",
       "      <td>0.0</td>\n",
       "      <td>0.0</td>\n",
       "      <td>0.0</td>\n",
       "      <td>0.0</td>\n",
       "      <td>0.0</td>\n",
       "      <td>0.22</td>\n",
       "      <td>0.0</td>\n",
       "      <td>0.0</td>\n",
       "      <td>0.00</td>\n",
       "      <td>0.0</td>\n",
       "    </tr>\n",
       "    <tr>\n",
       "      <th>1</th>\n",
       "      <td>Rv0002</td>\n",
       "      <td>3.28</td>\n",
       "      <td>2.38</td>\n",
       "      <td>0.0</td>\n",
       "      <td>0.0</td>\n",
       "      <td>0.0</td>\n",
       "      <td>0.00</td>\n",
       "      <td>0.00</td>\n",
       "      <td>0.0</td>\n",
       "      <td>0.00</td>\n",
       "      <td>...</td>\n",
       "      <td>0.0</td>\n",
       "      <td>0.0</td>\n",
       "      <td>0.0</td>\n",
       "      <td>0.0</td>\n",
       "      <td>0.0</td>\n",
       "      <td>0.00</td>\n",
       "      <td>0.0</td>\n",
       "      <td>0.0</td>\n",
       "      <td>0.27</td>\n",
       "      <td>0.0</td>\n",
       "    </tr>\n",
       "  </tbody>\n",
       "</table>\n",
       "<p>2 rows × 126 columns</p>\n",
       "</div>"
      ],
      "text/plain": [
       "    Rv_ID  PE35_KO_vs_mbio_H37Rv  PPE68_KO_vs_mbio_H37Rv  Rv0950c_KO_vs_CB_WT  \\\n",
       "0  Rv0001                  -0.41                    0.01                  0.0   \n",
       "1  Rv0002                   3.28                    2.38                  0.0   \n",
       "\n",
       "   Rv0954_KO_vs_RJ_WT  Rv1096_KO_vs_CB_WT  \\\n",
       "0                 0.0                 0.0   \n",
       "1                 0.0                 0.0   \n",
       "\n",
       "   Rv3005c_KO_day32_vs_dejesus_H37Rv_day32  Rv3594_KO_vs_Rubin_FLUTE_WT  \\\n",
       "0                                     3.12                        -0.06   \n",
       "1                                     0.00                         0.00   \n",
       "\n",
       "   Rv3684_KO_vs_CB_WT  Rv3717_KO_vs_Rubin_FLUTE_WT  ...  Cast.EiJ_vs_C57BL.6J  \\\n",
       "0                 0.0                        -0.06  ...                   0.0   \n",
       "1                 0.0                         0.00  ...                   0.0   \n",
       "\n",
       "   IFNG_vs_C57BL.6J  NOD.ShiLtJ_vs_C57BL.6J  NOS_vs_C57BL.6J  \\\n",
       "0               0.0                     0.0              0.0   \n",
       "1               0.0                     0.0              0.0   \n",
       "\n",
       "   NZO.H1LtJ_vs_C57BL.6J  PWK.PhJ_vs_C57BL.6J  Phox_vs_C57BL.6J  \\\n",
       "0                    0.0                 0.22               0.0   \n",
       "1                    0.0                 0.00               0.0   \n",
       "\n",
       "   Rag_vs_C57BL.6J  Wsb.Eij_vs_C57BL.6J  in_vitro_vs_C57BL.6J  \n",
       "0              0.0                 0.00                   0.0  \n",
       "1              0.0                 0.27                   0.0  \n",
       "\n",
       "[2 rows x 126 columns]"
      ]
     },
     "execution_count": 4,
     "metadata": {},
     "output_type": "execute_result"
    }
   ],
   "source": [
    "fn_lfc = '../../data/standardized_data/result_logfc_matrix_2021_08_27_BASIS.csv'\n",
    "fn_qval = '../../data/standardized_data/result_qval_matrix_2021_08_27_BASIS.csv'\n",
    "fn_bin = '../../data/standardized_data/result_bin_matrix_2021_08_27_BASIS.csv'\n",
    "\n",
    "df_lfc = pd.read_csv(fn_lfc)\n",
    "df_qval = pd.read_csv(fn_qval)\n",
    "df_bin = pd.read_csv(fn_bin)\n",
    "\n",
    "df_lfc.head(2)"
   ]
  },
  {
   "cell_type": "code",
   "execution_count": 10,
   "id": "7d3b2416-13ae-4ece-856b-cfcc2dc3dfc4",
   "metadata": {},
   "outputs": [
    {
     "data": {
      "text/plain": [
       "array([-0.44, 3.11, 0.98, 0.0, -0.84, 0.0, 1.94, 1.2, 0.0, 0.0, 0.0, 0.0,\n",
       "       0.0, 5.03, 1.85, 7.76, 5.91, 5.91, 6.07, 2.58, 6.24, 0.0, 0.0, 0.0,\n",
       "       0.0, 0.0, 0.0, 0.0, 0.0, 0.0, 0.0, 0.0, 0.0, 1.56, 1.77, 0.0,\n",
       "       -0.44, -0.44, 0.0, -1.09, 0.0, 0.0, 0.0, 0.0, 1.53, 0.0, 0.0, -0.6,\n",
       "       1.02, -1.51, -1.11, -0.05, -1.38, -1.36, 0.0, 0.0, 0.0, 0.0, 0.88,\n",
       "       0.88, 0.0, 0.0, 0.0, 0.0, 0.0, 0.0, -0.44, 0.0, 0.0, 0.92, 0.0,\n",
       "       0.0, 0.0, 0.0, 0.0, 0.0, 0.0, 0.0, 0.0, 0.0, 0.0, 0.0, 0.0, 0.0,\n",
       "       0.0, 0.0, 0.0, 0.0, 0.0, 0.0, 0.0, 0.0, 0.0, 0.0, 0.0, 0.0, 0.0,\n",
       "       0.0, 0.0, 0.0, 0.0, 0.0, 0.0, 0.0, 0.0, 0.0, 0.0, 0.0, 0.0, 0.0,\n",
       "       0.0, 0.0, 0.0, 0.0, 0.0, 0.0, 0.0, 0.0, 0.0, 0.0, 0.0, 0.0, 0.0,\n",
       "       0.0, 0.0], dtype=object)"
      ]
     },
     "execution_count": 10,
     "metadata": {},
     "output_type": "execute_result"
    }
   ],
   "source": [
    "rvid = 'Rv3219'\n",
    "df_lfc[df_lfc.Rv_ID==rvid].values[0][1:]"
   ]
  },
  {
   "cell_type": "code",
   "execution_count": 11,
   "id": "2daec4c6-4c54-488f-a6b8-be3b508e4c8e",
   "metadata": {},
   "outputs": [
    {
     "data": {
      "text/plain": [
       "array([1.0, 0.1305, 1.0, 1.0, 1.0, 1.0, 1.0, 1.0, 1.0, 1.0, 1.0, 1.0, 1.0,\n",
       "       0.0002, 0.1649, 0.0002, 0.0492, 0.0049, 0.004, 0.0516, 0.0034, 1.0,\n",
       "       1.0, 1.0, 1.0, 1.0, 1.0, 1.0, 1.0, 1.0, 1.0, 1.0, 1.0, 0.1299,\n",
       "       0.126, 1.0, 1.0, 1.0, 1.0, 1.0, 1.0, 1.0, 1.0, 1.0, 1.0, 1.0, 1.0,\n",
       "       0.6457, 0.562, 0.0996, 0.4203, 1.0, 0.4723, 0.5305, 1.0, 1.0, 1.0,\n",
       "       1.0, 1.0, 1.0, 1.0, 1.0, 1.0, 1.0, 1.0, 1.0, 1.0, 1.0, 1.0, 0.3973,\n",
       "       1.0, 1.0, 1.0, 1.0, 1.0, 1.0, 1.0, 1.0, 1.0, 1.0, 1.0, 1.0, 1.0,\n",
       "       1.0, 1.0, 1.0, 1.0, 1.0, 1.0, 1.0, 1.0, 1.0, 1.0, 1.0, 1.0, 1.0,\n",
       "       1.0, 1.0, 1.0, 1.0, 1.0, 1.0, 1.0, 1.0, 1.0, 1.0, 1.0, 1.0, 1.0,\n",
       "       1.0, 1.0, 1.0, 1.0, 1.0, 1.0, 1.0, 1.0, 1.0, 1.0, 1.0, 1.0, 1.0,\n",
       "       1.0, 1.0, 1.0], dtype=object)"
      ]
     },
     "execution_count": 11,
     "metadata": {},
     "output_type": "execute_result"
    }
   ],
   "source": [
    "df_qval[df_qval.Rv_ID==rvid].values[0][1:]"
   ]
  },
  {
   "cell_type": "code",
   "execution_count": 9,
   "id": "147a6fb3-14d5-4c34-af01-a36b17720f53",
   "metadata": {},
   "outputs": [
    {
     "data": {
      "text/plain": [
       "array([0.0, 0.0, 0.0, 0.0, 0.0, 0.0, 0.0, 0.0, 0.0, 0.0, 0.0, 0.0, 0.0,\n",
       "       1.0, 0.0, 1.0, 1.0, 1.0, 1.0, 0.0, 1.0, 0.0, 0.0, 0.0, 0.0, 0.0,\n",
       "       0.0, 0.0, 0.0, 0.0, 0.0, 0.0, 0.0, 0.0, 0.0, 0.0, 0.0, 0.0, 0.0,\n",
       "       0.0, 0.0, 0.0, 0.0, 0.0, 0.0, 0.0, 0.0, 0.0, 0.0, 0.0, 0.0, 0.0,\n",
       "       0.0, 0.0, 0.0, 0.0, 0.0, 0.0, 0.0, 0.0, 0.0, 0.0, 0.0, 0.0, 0.0,\n",
       "       0.0, 0.0, 0.0, 0.0, 0.0, 0.0, 0.0, 0.0, 0.0, 0.0, 0.0, 0.0, 0.0,\n",
       "       0.0, 0.0, 0.0, 0.0, 0.0, 0.0, 0.0, 0.0, 0.0, 0.0, 0.0, 0.0, 0.0,\n",
       "       0.0, 0.0, 0.0, 0.0, 0.0, 0.0, 0.0, 0.0, 0.0, 0.0, 0.0, 0.0, 0.0,\n",
       "       0.0, 0.0, 0.0, 0.0, 0.0, 0.0, 0.0, 0.0, 0.0, 0.0, 0.0, 0.0, 0.0,\n",
       "       0.0, 0.0, 0.0, 0.0, 0.0, 0.0, 0.0, 0.0], dtype=object)"
      ]
     },
     "execution_count": 9,
     "metadata": {},
     "output_type": "execute_result"
    }
   ],
   "source": [
    "df_bin[df_bin.Rv_ID==rvid].values[0][1:]"
   ]
  },
  {
   "cell_type": "code",
   "execution_count": 17,
   "id": "a1f07e6d-3021-413d-a5dc-51325c7df99b",
   "metadata": {},
   "outputs": [
    {
     "data": {
      "text/plain": [
       "['carey_621_vs_carey_rv',\n",
       " 'carey_631_vs_carey_rv',\n",
       " 'carey_632_vs_carey_rv',\n",
       " 'carey_641_vs_carey_rv',\n",
       " 'carey_662_vs_carey_rv',\n",
       " 'carey_667_vs_carey_rv']"
      ]
     },
     "execution_count": 17,
     "metadata": {},
     "output_type": "execute_result"
    }
   ],
   "source": [
    "rivd = 'Rv3219'\n",
    "[col for col in df_bin.columns[1:] if df_bin[df_bin.Rv_ID==rvid][col].values[0] == 1]"
   ]
  },
  {
   "cell_type": "code",
   "execution_count": null,
   "id": "c9b1a4a6-aefc-4aec-b852-d5abf41e898b",
   "metadata": {},
   "outputs": [],
   "source": []
  }
 ],
 "metadata": {
  "kernelspec": {
   "display_name": "Python 3 (ipykernel)",
   "language": "python",
   "name": "python3"
  },
  "language_info": {
   "codemirror_mode": {
    "name": "ipython",
    "version": 3
   },
   "file_extension": ".py",
   "mimetype": "text/x-python",
   "name": "python",
   "nbconvert_exporter": "python",
   "pygments_lexer": "ipython3",
   "version": "3.8.10"
  }
 },
 "nbformat": 4,
 "nbformat_minor": 5
}
