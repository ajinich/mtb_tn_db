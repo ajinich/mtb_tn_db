{
 "cells": [
  {
   "cell_type": "code",
   "execution_count": 1,
   "metadata": {},
   "outputs": [],
   "source": [
    "import pandas as pd"
   ]
  },
  {
   "cell_type": "code",
   "execution_count": 18,
   "metadata": {},
   "outputs": [
    {
     "data": {
      "text/plain": [
       "(64, 25)"
      ]
     },
     "execution_count": 18,
     "metadata": {},
     "output_type": "execute_result"
    }
   ],
   "source": [
    "file_data = '../../data/column_descriptors_standardized.xlsx'\n",
    "df_data = pd.read_excel(file_data)\n",
    "df_data.shape"
   ]
  },
  {
   "cell_type": "markdown",
   "metadata": {},
   "source": [
    "How many unique papers are there:"
   ]
  },
  {
   "cell_type": "code",
   "execution_count": 19,
   "metadata": {},
   "outputs": [],
   "source": [
    "papers_uniq = list(df_data.paper_title.unique())"
   ]
  },
  {
   "cell_type": "code",
   "execution_count": 20,
   "metadata": {},
   "outputs": [
    {
     "name": "stdout",
     "output_type": "stream",
     "text": [
      "0 High-Resolution Phenotypic Profiling Defines Genes Essential for Mycobacterial Growth and Cholesterol Catabolism\n",
      "1 A Hidden Markov Model for identifying essential and growth-defect regions in bacterial genomes from transposon insertion sequencing data.\n",
      "2 Tryptophan biosynthesis protects mycobacteria from CD4 T cell-mediated killing\n",
      "3 Peptidoglycan synthesis in Mycobacterium tuberculosis is organized into networks with varying drug susceptibility\n",
      "4 The oxidative stress network of Mycobacterium tuberculosis reveals coordination between radical detoxification systems\n",
      "5 Trehalose-6-Phosphate-Mediated Toxicity Determines Essentiality of OtsB2 in Mycobacterium tuberculosis In Vitro and in Mice\n",
      "6 Statistical analysis of genetic interactions in Tn-Seq data\n",
      "7 Chemical Genetic Interaction Profiling Reveals Determinants of Intrinsic Antibiotic Resistance in Mycobacterium tuberculosis\n",
      "8 Nitric oxide prevents a pathogen-permissive granulocytic inflammation during tuberculosis\n",
      "9 TnSeq of Mycobacterium tuberculosis clinical isolates reveals strain-specific antibiotic liabilities\n",
      "10 A Lysine Acetyltransferase Contributes to the Metabolic Adaptation to Hypoxia in Mycobacterium tuberculosis\n",
      "11 Common Variants in the Glycerol Kinase Gene Reduce Tuberculosis Drug Efficacy\n",
      "12 Genomewide Assessment of Mycobacterium tuberculosis Conditionally Essential Metabolic Pathways\n",
      "13 nan\n"
     ]
    }
   ],
   "source": [
    "for num, p in enumerate(papers_uniq):\n",
    "    print(num, p)"
   ]
  },
  {
   "cell_type": "markdown",
   "metadata": {},
   "source": [
    "How many datasets come from FLUTE? "
   ]
  },
  {
   "cell_type": "code",
   "execution_count": 21,
   "metadata": {},
   "outputs": [
    {
     "data": {
      "text/plain": [
       "(49, 25)"
      ]
     },
     "execution_count": 21,
     "metadata": {},
     "output_type": "execute_result"
    }
   ],
   "source": [
    "df_data[~df_data.column_ID.str.contains('flute')].shape"
   ]
  },
  {
   "cell_type": "markdown",
   "metadata": {},
   "source": [
    "How many in vitro vs. in vivo?"
   ]
  },
  {
   "cell_type": "code",
   "execution_count": 22,
   "metadata": {},
   "outputs": [
    {
     "data": {
      "text/plain": [
       "in_vitro    43\n",
       "in_vivo     21\n",
       "Name: in_vitro_cell_vivo, dtype: int64"
      ]
     },
     "execution_count": 22,
     "metadata": {},
     "output_type": "execute_result"
    }
   ],
   "source": [
    "df_data.in_vitro_cell_vivo.value_counts()"
   ]
  },
  {
   "cell_type": "markdown",
   "metadata": {},
   "source": [
    "How many genetic interaction screens? "
   ]
  },
  {
   "cell_type": "code",
   "execution_count": 29,
   "metadata": {},
   "outputs": [
    {
     "data": {
      "text/plain": [
       "(22, 25)"
      ]
     },
     "execution_count": 29,
     "metadata": {},
     "output_type": "execute_result"
    }
   ],
   "source": [
    "df_data[~df_data.GI_RvID.isna()].shape"
   ]
  },
  {
   "cell_type": "markdown",
   "metadata": {},
   "source": [
    "How many unique Mtb strains?"
   ]
  },
  {
   "cell_type": "code",
   "execution_count": 31,
   "metadata": {},
   "outputs": [
    {
     "data": {
      "text/plain": [
       "H37Rv    24\n",
       "621       1\n",
       "667       1\n",
       "662       1\n",
       "632       1\n",
       "631       1\n",
       "630       1\n",
       "663       1\n",
       "641       1\n",
       "Name: Mtb_strain, dtype: int64"
      ]
     },
     "execution_count": 31,
     "metadata": {},
     "output_type": "execute_result"
    }
   ],
   "source": [
    "df_data.Mtb_strain.value_counts()"
   ]
  },
  {
   "cell_type": "markdown",
   "metadata": {},
   "source": [
    "How many mouse strains?"
   ]
  },
  {
   "cell_type": "code",
   "execution_count": 33,
   "metadata": {},
   "outputs": [
    {
     "data": {
      "text/plain": [
       "BALB/cJ              3\n",
       "WT                   2\n",
       "MHCII−/−             2\n",
       "Nos2-/-              1\n",
       "C3HeB                1\n",
       "Nos2-/- AND C3HeB    1\n",
       "Name: mouse_strain, dtype: int64"
      ]
     },
     "execution_count": 33,
     "metadata": {},
     "output_type": "execute_result"
    }
   ],
   "source": [
    "df_data.mouse_strain.value_counts()"
   ]
  },
  {
   "cell_type": "markdown",
   "metadata": {},
   "source": [
    "Which background knockout strains? "
   ]
  },
  {
   "cell_type": "code",
   "execution_count": 43,
   "metadata": {},
   "outputs": [
    {
     "data": {
      "text/plain": [
       "['Rv0050',\n",
       " 'Rv0307c',\n",
       " 'Rv0950c',\n",
       " 'Rv0954',\n",
       " 'Rv1096',\n",
       " 'Rv1432',\n",
       " 'Rv1565c',\n",
       " 'Rv2680',\n",
       " 'Rv3005c',\n",
       " 'Rv3270',\n",
       " 'Rv3490',\n",
       " 'Rv3594',\n",
       " 'Rv3684',\n",
       " 'Rv3717',\n",
       " 'Rv3811',\n",
       " 'Rv3916c']"
      ]
     },
     "execution_count": 43,
     "metadata": {},
     "output_type": "execute_result"
    }
   ],
   "source": [
    "sorted([rvid for rvid in df_data.GI_RvID.unique() if type(rvid)==str])"
   ]
  },
  {
   "cell_type": "markdown",
   "metadata": {},
   "source": [
    "For how many did we get .wig files? "
   ]
  },
  {
   "cell_type": "code",
   "execution_count": 45,
   "metadata": {},
   "outputs": [
    {
     "data": {
      "text/plain": [
       "1    64\n",
       "Name: wig_files, dtype: int64"
      ]
     },
     "execution_count": 45,
     "metadata": {},
     "output_type": "execute_result"
    }
   ],
   "source": [
    "df_data.wig_files.value_counts()"
   ]
  },
  {
   "cell_type": "code",
   "execution_count": null,
   "metadata": {},
   "outputs": [],
   "source": []
  }
 ],
 "metadata": {
  "kernelspec": {
   "display_name": "Python 3 (ipykernel)",
   "language": "python",
   "name": "python3"
  },
  "language_info": {
   "codemirror_mode": {
    "name": "ipython",
    "version": 3
   },
   "file_extension": ".py",
   "mimetype": "text/x-python",
   "name": "python",
   "nbconvert_exporter": "python",
   "pygments_lexer": "ipython3",
   "version": "3.8.12"
  }
 },
 "nbformat": 4,
 "nbformat_minor": 4
}
