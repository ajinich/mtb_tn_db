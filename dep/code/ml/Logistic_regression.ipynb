{
 "cells": [
  {
   "cell_type": "code",
   "execution_count": 1,
   "metadata": {
    "ExecuteTime": {
     "end_time": "2019-05-25T23:56:40.613887Z",
     "start_time": "2019-05-25T23:56:29.537459Z"
    }
   },
   "outputs": [],
   "source": [
    "import pandas as pd\n",
    "import pathlib\n",
    "from sklearn.linear_model import LogisticRegression\n",
    "from sklearn.model_selection import KFold, StratifiedKFold\n",
    "from sklearn.metrics import confusion_matrix\n",
    "from sklearn.metrics import balanced_accuracy_score, accuracy_score\n",
    "from sklearn.preprocessing import normalize\n",
    "from collections import defaultdict\n",
    "from imblearn.over_sampling import SMOTE\n",
    "import seaborn as sns\n",
    "import matplotlib.pyplot as plt"
   ]
  },
  {
   "cell_type": "code",
   "execution_count": 2,
   "metadata": {
    "ExecuteTime": {
     "end_time": "2019-05-25T23:56:41.435785Z",
     "start_time": "2019-05-25T23:56:40.616282Z"
    }
   },
   "outputs": [],
   "source": [
    "rawdata=pd.read_csv(pathlib.Path.cwd().parents[0].joinpath('data','Tn_library_DB_qval_log2FC_imputed.csv'))\n",
    "mcbwser=pd.read_excel(pathlib.Path.cwd().parents[0].joinpath('data','annotations','Mycobacterium_tuberculosis_H37Rv_txt_v3.xlsx'))"
   ]
  },
  {
   "cell_type": "code",
   "execution_count": 3,
   "metadata": {
    "ExecuteTime": {
     "end_time": "2019-05-25T23:56:41.467445Z",
     "start_time": "2019-05-25T23:56:41.437191Z"
    }
   },
   "outputs": [
    {
     "data": {
      "text/html": [
       "<div>\n",
       "<style scoped>\n",
       "    .dataframe tbody tr th:only-of-type {\n",
       "        vertical-align: middle;\n",
       "    }\n",
       "\n",
       "    .dataframe tbody tr th {\n",
       "        vertical-align: top;\n",
       "    }\n",
       "\n",
       "    .dataframe thead th {\n",
       "        text-align: right;\n",
       "    }\n",
       "</style>\n",
       "<table border=\"1\" class=\"dataframe\">\n",
       "  <thead>\n",
       "    <tr style=\"text-align: right;\">\n",
       "      <th></th>\n",
       "      <th>Refseq_ID</th>\n",
       "      <th>Feature</th>\n",
       "      <th>Rv_ID</th>\n",
       "      <th>Name</th>\n",
       "      <th>Function</th>\n",
       "      <th>Product</th>\n",
       "      <th>Comments</th>\n",
       "      <th>Functional_Category</th>\n",
       "    </tr>\n",
       "  </thead>\n",
       "  <tbody>\n",
       "    <tr>\n",
       "      <th>0</th>\n",
       "      <td>NC_000962.3</td>\n",
       "      <td>CDS</td>\n",
       "      <td>Rv3728</td>\n",
       "      <td>Rv3728</td>\n",
       "      <td>Unknown, but seems involved in efflux system (...</td>\n",
       "      <td>Probable conserved two-domain membrane protein</td>\n",
       "      <td>Rv3728, (MTV025.076), len: 1065 aa. Probable c...</td>\n",
       "      <td>cell wall and cell processes</td>\n",
       "    </tr>\n",
       "    <tr>\n",
       "      <th>1</th>\n",
       "      <td>NC_000962.3</td>\n",
       "      <td>CDS</td>\n",
       "      <td>Rv3729</td>\n",
       "      <td>Rv3729</td>\n",
       "      <td>Function unknown; probably involved in cellula...</td>\n",
       "      <td>Possible transferase</td>\n",
       "      <td>Rv3729, (MTV025.077), len: 776 aa. Conserved h...</td>\n",
       "      <td>intermediary metabolism and respiration</td>\n",
       "    </tr>\n",
       "    <tr>\n",
       "      <th>2</th>\n",
       "      <td>NC_000962.3</td>\n",
       "      <td>CDS</td>\n",
       "      <td>Rv3730c</td>\n",
       "      <td>Rv3730c</td>\n",
       "      <td>Function unknown</td>\n",
       "      <td>Conserved hypothetical protein</td>\n",
       "      <td>Rv3730c, (MTV025.078c), len: 346 aa. Conserved...</td>\n",
       "      <td>conserved hypotheticals</td>\n",
       "    </tr>\n",
       "    <tr>\n",
       "      <th>3</th>\n",
       "      <td>NC_000962.3</td>\n",
       "      <td>CDS</td>\n",
       "      <td>Rv3760</td>\n",
       "      <td>Rv3760</td>\n",
       "      <td>Unknown</td>\n",
       "      <td>Possible conserved membrane protein</td>\n",
       "      <td>Rv3760, (MTV025.108), len: 100 aa. Possible co...</td>\n",
       "      <td>cell wall and cell processes</td>\n",
       "    </tr>\n",
       "    <tr>\n",
       "      <th>4</th>\n",
       "      <td>NC_000962.3</td>\n",
       "      <td>CDS</td>\n",
       "      <td>Rv3732</td>\n",
       "      <td>Rv3732</td>\n",
       "      <td>Function unknown</td>\n",
       "      <td>Conserved protein</td>\n",
       "      <td>Rv3732, (MTV025.080), len: 352 aa. Conserved p...</td>\n",
       "      <td>conserved hypotheticals</td>\n",
       "    </tr>\n",
       "  </tbody>\n",
       "</table>\n",
       "</div>"
      ],
      "text/plain": [
       "     Refseq_ID Feature    Rv_ID     Name  \\\n",
       "0  NC_000962.3     CDS   Rv3728   Rv3728   \n",
       "1  NC_000962.3     CDS   Rv3729   Rv3729   \n",
       "2  NC_000962.3     CDS  Rv3730c  Rv3730c   \n",
       "3  NC_000962.3     CDS   Rv3760   Rv3760   \n",
       "4  NC_000962.3     CDS   Rv3732   Rv3732   \n",
       "\n",
       "                                            Function  \\\n",
       "0  Unknown, but seems involved in efflux system (...   \n",
       "1  Function unknown; probably involved in cellula...   \n",
       "2                                   Function unknown   \n",
       "3                                            Unknown   \n",
       "4                                   Function unknown   \n",
       "\n",
       "                                          Product  \\\n",
       "0  Probable conserved two-domain membrane protein   \n",
       "1                            Possible transferase   \n",
       "2                  Conserved hypothetical protein   \n",
       "3             Possible conserved membrane protein   \n",
       "4                               Conserved protein   \n",
       "\n",
       "                                            Comments  \\\n",
       "0  Rv3728, (MTV025.076), len: 1065 aa. Probable c...   \n",
       "1  Rv3729, (MTV025.077), len: 776 aa. Conserved h...   \n",
       "2  Rv3730c, (MTV025.078c), len: 346 aa. Conserved...   \n",
       "3  Rv3760, (MTV025.108), len: 100 aa. Possible co...   \n",
       "4  Rv3732, (MTV025.080), len: 352 aa. Conserved p...   \n",
       "\n",
       "                       Functional_Category  \n",
       "0             cell wall and cell processes  \n",
       "1  intermediary metabolism and respiration  \n",
       "2                  conserved hypotheticals  \n",
       "3             cell wall and cell processes  \n",
       "4                  conserved hypotheticals  "
      ]
     },
     "execution_count": 3,
     "metadata": {},
     "output_type": "execute_result"
    }
   ],
   "source": [
    "mcbwser.head()"
   ]
  },
  {
   "cell_type": "code",
   "execution_count": 4,
   "metadata": {
    "ExecuteTime": {
     "end_time": "2019-05-25T23:56:41.482324Z",
     "start_time": "2019-05-25T23:56:41.470917Z"
    }
   },
   "outputs": [],
   "source": [
    "lfc_cols=list(rawdata.filter(regex='log2FC').columns)\n",
    "qval_cols=list(rawdata.filter(regex='q_val').columns)"
   ]
  },
  {
   "cell_type": "code",
   "execution_count": 5,
   "metadata": {
    "ExecuteTime": {
     "end_time": "2019-05-25T23:56:41.497730Z",
     "start_time": "2019-05-25T23:56:41.486788Z"
    }
   },
   "outputs": [
    {
     "data": {
      "text/plain": [
       "(3990, 114)"
      ]
     },
     "execution_count": 5,
     "metadata": {},
     "output_type": "execute_result"
    }
   ],
   "source": [
    "rawdata.shape"
   ]
  },
  {
   "cell_type": "code",
   "execution_count": 6,
   "metadata": {
    "ExecuteTime": {
     "end_time": "2019-05-25T23:56:41.543333Z",
     "start_time": "2019-05-25T23:56:41.500180Z"
    }
   },
   "outputs": [
    {
     "data": {
      "text/html": [
       "<div>\n",
       "<style scoped>\n",
       "    .dataframe tbody tr th:only-of-type {\n",
       "        vertical-align: middle;\n",
       "    }\n",
       "\n",
       "    .dataframe tbody tr th {\n",
       "        vertical-align: top;\n",
       "    }\n",
       "\n",
       "    .dataframe thead th {\n",
       "        text-align: right;\n",
       "    }\n",
       "</style>\n",
       "<table border=\"1\" class=\"dataframe\">\n",
       "  <thead>\n",
       "    <tr style=\"text-align: right;\">\n",
       "      <th></th>\n",
       "      <th>Rv_ID</th>\n",
       "      <th>2003A_Sassetti_log2FC</th>\n",
       "      <th>2003B_Sassetti_log2FC</th>\n",
       "      <th>2005_Rengarajan_log2FC</th>\n",
       "      <th>2006_Joshi_GI_1_log2FC</th>\n",
       "      <th>2006_Joshi_GI_2_log2FC</th>\n",
       "      <th>2011_Griffin_2_log2FC</th>\n",
       "      <th>2013_Zhang_1_log2FC</th>\n",
       "      <th>2013_Zhang_2_log2FC</th>\n",
       "      <th>2013_Zhang_3A_log2FC</th>\n",
       "      <th>...</th>\n",
       "      <th>ponA1_log2FC</th>\n",
       "      <th>Rv1565c_log2FC</th>\n",
       "      <th>Rv3684_log2FC</th>\n",
       "      <th>Rv0954_log2FC</th>\n",
       "      <th>Rv3811_log2FC</th>\n",
       "      <th>Rv1096_log2FC</th>\n",
       "      <th>Rv2680_log2FC</th>\n",
       "      <th>Rv1432_log2FC</th>\n",
       "      <th>Rv3594_log2FC</th>\n",
       "      <th>Rv3005c_log2FC</th>\n",
       "    </tr>\n",
       "  </thead>\n",
       "  <tbody>\n",
       "    <tr>\n",
       "      <th>0</th>\n",
       "      <td>Rv0001</td>\n",
       "      <td>-3.378401</td>\n",
       "      <td>0.0</td>\n",
       "      <td>0</td>\n",
       "      <td>0</td>\n",
       "      <td>0</td>\n",
       "      <td>0.0</td>\n",
       "      <td>0.000000</td>\n",
       "      <td>0.0</td>\n",
       "      <td>0.0</td>\n",
       "      <td>...</td>\n",
       "      <td>2.21</td>\n",
       "      <td>3.83</td>\n",
       "      <td>0.00</td>\n",
       "      <td>0.00</td>\n",
       "      <td>1.18</td>\n",
       "      <td>0.00</td>\n",
       "      <td>-0.10</td>\n",
       "      <td>3.83</td>\n",
       "      <td>0.00</td>\n",
       "      <td>3.37</td>\n",
       "    </tr>\n",
       "    <tr>\n",
       "      <th>1</th>\n",
       "      <td>Rv0002</td>\n",
       "      <td>0.000000</td>\n",
       "      <td>0.0</td>\n",
       "      <td>0</td>\n",
       "      <td>0</td>\n",
       "      <td>0</td>\n",
       "      <td>0.0</td>\n",
       "      <td>0.000000</td>\n",
       "      <td>0.0</td>\n",
       "      <td>0.0</td>\n",
       "      <td>...</td>\n",
       "      <td>2.21</td>\n",
       "      <td>0.00</td>\n",
       "      <td>0.00</td>\n",
       "      <td>0.00</td>\n",
       "      <td>0.00</td>\n",
       "      <td>0.00</td>\n",
       "      <td>0.00</td>\n",
       "      <td>0.00</td>\n",
       "      <td>0.00</td>\n",
       "      <td>0.00</td>\n",
       "    </tr>\n",
       "    <tr>\n",
       "      <th>2</th>\n",
       "      <td>Rv0003</td>\n",
       "      <td>0.000000</td>\n",
       "      <td>0.0</td>\n",
       "      <td>0</td>\n",
       "      <td>0</td>\n",
       "      <td>0</td>\n",
       "      <td>0.0</td>\n",
       "      <td>3.223423</td>\n",
       "      <td>0.0</td>\n",
       "      <td>0.0</td>\n",
       "      <td>...</td>\n",
       "      <td>-0.40</td>\n",
       "      <td>2.81</td>\n",
       "      <td>0.17</td>\n",
       "      <td>-1.20</td>\n",
       "      <td>0.48</td>\n",
       "      <td>0.39</td>\n",
       "      <td>-1.93</td>\n",
       "      <td>1.50</td>\n",
       "      <td>0.31</td>\n",
       "      <td>3.45</td>\n",
       "    </tr>\n",
       "    <tr>\n",
       "      <th>3</th>\n",
       "      <td>Rv0004</td>\n",
       "      <td>0.000000</td>\n",
       "      <td>0.0</td>\n",
       "      <td>0</td>\n",
       "      <td>0</td>\n",
       "      <td>0</td>\n",
       "      <td>0.0</td>\n",
       "      <td>0.000000</td>\n",
       "      <td>0.0</td>\n",
       "      <td>0.0</td>\n",
       "      <td>...</td>\n",
       "      <td>-2.66</td>\n",
       "      <td>0.00</td>\n",
       "      <td>1.08</td>\n",
       "      <td>-6.83</td>\n",
       "      <td>2.61</td>\n",
       "      <td>1.54</td>\n",
       "      <td>0.00</td>\n",
       "      <td>0.00</td>\n",
       "      <td>1.79</td>\n",
       "      <td>0.00</td>\n",
       "    </tr>\n",
       "    <tr>\n",
       "      <th>4</th>\n",
       "      <td>Rv0005</td>\n",
       "      <td>-5.919522</td>\n",
       "      <td>0.0</td>\n",
       "      <td>0</td>\n",
       "      <td>0</td>\n",
       "      <td>0</td>\n",
       "      <td>0.0</td>\n",
       "      <td>0.000000</td>\n",
       "      <td>0.0</td>\n",
       "      <td>0.0</td>\n",
       "      <td>...</td>\n",
       "      <td>-0.97</td>\n",
       "      <td>-0.52</td>\n",
       "      <td>-0.71</td>\n",
       "      <td>-0.08</td>\n",
       "      <td>0.04</td>\n",
       "      <td>0.27</td>\n",
       "      <td>-2.30</td>\n",
       "      <td>-5.08</td>\n",
       "      <td>0.70</td>\n",
       "      <td>-5.19</td>\n",
       "    </tr>\n",
       "  </tbody>\n",
       "</table>\n",
       "<p>5 rows × 57 columns</p>\n",
       "</div>"
      ],
      "text/plain": [
       "    Rv_ID  2003A_Sassetti_log2FC  2003B_Sassetti_log2FC  \\\n",
       "0  Rv0001              -3.378401                    0.0   \n",
       "1  Rv0002               0.000000                    0.0   \n",
       "2  Rv0003               0.000000                    0.0   \n",
       "3  Rv0004               0.000000                    0.0   \n",
       "4  Rv0005              -5.919522                    0.0   \n",
       "\n",
       "   2005_Rengarajan_log2FC  2006_Joshi_GI_1_log2FC  2006_Joshi_GI_2_log2FC  \\\n",
       "0                       0                       0                       0   \n",
       "1                       0                       0                       0   \n",
       "2                       0                       0                       0   \n",
       "3                       0                       0                       0   \n",
       "4                       0                       0                       0   \n",
       "\n",
       "   2011_Griffin_2_log2FC  2013_Zhang_1_log2FC  2013_Zhang_2_log2FC  \\\n",
       "0                    0.0             0.000000                  0.0   \n",
       "1                    0.0             0.000000                  0.0   \n",
       "2                    0.0             3.223423                  0.0   \n",
       "3                    0.0             0.000000                  0.0   \n",
       "4                    0.0             0.000000                  0.0   \n",
       "\n",
       "   2013_Zhang_3A_log2FC  ...  ponA1_log2FC  Rv1565c_log2FC  Rv3684_log2FC  \\\n",
       "0                   0.0  ...          2.21            3.83           0.00   \n",
       "1                   0.0  ...          2.21            0.00           0.00   \n",
       "2                   0.0  ...         -0.40            2.81           0.17   \n",
       "3                   0.0  ...         -2.66            0.00           1.08   \n",
       "4                   0.0  ...         -0.97           -0.52          -0.71   \n",
       "\n",
       "   Rv0954_log2FC  Rv3811_log2FC  Rv1096_log2FC  Rv2680_log2FC  Rv1432_log2FC  \\\n",
       "0           0.00           1.18           0.00          -0.10           3.83   \n",
       "1           0.00           0.00           0.00           0.00           0.00   \n",
       "2          -1.20           0.48           0.39          -1.93           1.50   \n",
       "3          -6.83           2.61           1.54           0.00           0.00   \n",
       "4          -0.08           0.04           0.27          -2.30          -5.08   \n",
       "\n",
       "   Rv3594_log2FC  Rv3005c_log2FC  \n",
       "0           0.00            3.37  \n",
       "1           0.00            0.00  \n",
       "2           0.31            3.45  \n",
       "3           1.79            0.00  \n",
       "4           0.70           -5.19  \n",
       "\n",
       "[5 rows x 57 columns]"
      ]
     },
     "execution_count": 6,
     "metadata": {},
     "output_type": "execute_result"
    }
   ],
   "source": [
    "lfc=rawdata[['Rv_ID']+lfc_cols]\n",
    "lfc.head()"
   ]
  },
  {
   "cell_type": "code",
   "execution_count": 7,
   "metadata": {
    "ExecuteTime": {
     "end_time": "2019-05-25T23:56:41.588964Z",
     "start_time": "2019-05-25T23:56:41.546309Z"
    }
   },
   "outputs": [
    {
     "data": {
      "text/html": [
       "<div>\n",
       "<style scoped>\n",
       "    .dataframe tbody tr th:only-of-type {\n",
       "        vertical-align: middle;\n",
       "    }\n",
       "\n",
       "    .dataframe tbody tr th {\n",
       "        vertical-align: top;\n",
       "    }\n",
       "\n",
       "    .dataframe thead th {\n",
       "        text-align: right;\n",
       "    }\n",
       "</style>\n",
       "<table border=\"1\" class=\"dataframe\">\n",
       "  <thead>\n",
       "    <tr style=\"text-align: right;\">\n",
       "      <th></th>\n",
       "      <th>Rv_ID</th>\n",
       "      <th>2003A_Sassetti_q_val</th>\n",
       "      <th>2003B_Sassetti_q_val</th>\n",
       "      <th>2005_Rengarajan_q_val</th>\n",
       "      <th>2006_Joshi_GI_1_q_val</th>\n",
       "      <th>2006_Joshi_GI_2_q_val</th>\n",
       "      <th>2011_Griffin_2_q_val</th>\n",
       "      <th>2013_Zhang_1_q_val</th>\n",
       "      <th>2013_Zhang_2_q_val</th>\n",
       "      <th>2013_Zhang_3A_q_val</th>\n",
       "      <th>...</th>\n",
       "      <th>ponA1_q_val</th>\n",
       "      <th>Rv1565c_q_val</th>\n",
       "      <th>Rv3684_q_val</th>\n",
       "      <th>Rv0954_q_val</th>\n",
       "      <th>Rv3811_q_val</th>\n",
       "      <th>Rv1096_q_val</th>\n",
       "      <th>Rv2680_q_val</th>\n",
       "      <th>Rv1432_q_val</th>\n",
       "      <th>Rv3594_q_val</th>\n",
       "      <th>Rv3005c_q_val</th>\n",
       "    </tr>\n",
       "  </thead>\n",
       "  <tbody>\n",
       "    <tr>\n",
       "      <th>0</th>\n",
       "      <td>Rv0001</td>\n",
       "      <td>0.004064</td>\n",
       "      <td>1.0</td>\n",
       "      <td>1.0</td>\n",
       "      <td>1.0</td>\n",
       "      <td>1.0</td>\n",
       "      <td>1.0</td>\n",
       "      <td>1.000000</td>\n",
       "      <td>1.0</td>\n",
       "      <td>1.0</td>\n",
       "      <td>...</td>\n",
       "      <td>1.0</td>\n",
       "      <td>1.00000</td>\n",
       "      <td>1.0</td>\n",
       "      <td>1.00000</td>\n",
       "      <td>1.0</td>\n",
       "      <td>1.0</td>\n",
       "      <td>1.00000</td>\n",
       "      <td>1.00000</td>\n",
       "      <td>1.0</td>\n",
       "      <td>0.75078</td>\n",
       "    </tr>\n",
       "    <tr>\n",
       "      <th>1</th>\n",
       "      <td>Rv0002</td>\n",
       "      <td>1.000000</td>\n",
       "      <td>1.0</td>\n",
       "      <td>1.0</td>\n",
       "      <td>1.0</td>\n",
       "      <td>1.0</td>\n",
       "      <td>1.0</td>\n",
       "      <td>1.000000</td>\n",
       "      <td>1.0</td>\n",
       "      <td>1.0</td>\n",
       "      <td>...</td>\n",
       "      <td>1.0</td>\n",
       "      <td>1.00000</td>\n",
       "      <td>1.0</td>\n",
       "      <td>1.00000</td>\n",
       "      <td>1.0</td>\n",
       "      <td>1.0</td>\n",
       "      <td>1.00000</td>\n",
       "      <td>1.00000</td>\n",
       "      <td>1.0</td>\n",
       "      <td>1.00000</td>\n",
       "    </tr>\n",
       "    <tr>\n",
       "      <th>2</th>\n",
       "      <td>Rv0003</td>\n",
       "      <td>1.000000</td>\n",
       "      <td>1.0</td>\n",
       "      <td>1.0</td>\n",
       "      <td>1.0</td>\n",
       "      <td>1.0</td>\n",
       "      <td>1.0</td>\n",
       "      <td>0.000087</td>\n",
       "      <td>1.0</td>\n",
       "      <td>1.0</td>\n",
       "      <td>...</td>\n",
       "      <td>1.0</td>\n",
       "      <td>0.00001</td>\n",
       "      <td>1.0</td>\n",
       "      <td>0.38260</td>\n",
       "      <td>1.0</td>\n",
       "      <td>1.0</td>\n",
       "      <td>0.42468</td>\n",
       "      <td>0.69974</td>\n",
       "      <td>1.0</td>\n",
       "      <td>0.49222</td>\n",
       "    </tr>\n",
       "    <tr>\n",
       "      <th>3</th>\n",
       "      <td>Rv0004</td>\n",
       "      <td>1.000000</td>\n",
       "      <td>1.0</td>\n",
       "      <td>1.0</td>\n",
       "      <td>1.0</td>\n",
       "      <td>1.0</td>\n",
       "      <td>1.0</td>\n",
       "      <td>1.000000</td>\n",
       "      <td>1.0</td>\n",
       "      <td>1.0</td>\n",
       "      <td>...</td>\n",
       "      <td>1.0</td>\n",
       "      <td>1.00000</td>\n",
       "      <td>1.0</td>\n",
       "      <td>0.98049</td>\n",
       "      <td>1.0</td>\n",
       "      <td>1.0</td>\n",
       "      <td>1.00000</td>\n",
       "      <td>1.00000</td>\n",
       "      <td>1.0</td>\n",
       "      <td>1.00000</td>\n",
       "    </tr>\n",
       "    <tr>\n",
       "      <th>4</th>\n",
       "      <td>Rv0005</td>\n",
       "      <td>0.000004</td>\n",
       "      <td>1.0</td>\n",
       "      <td>1.0</td>\n",
       "      <td>1.0</td>\n",
       "      <td>1.0</td>\n",
       "      <td>1.0</td>\n",
       "      <td>1.000000</td>\n",
       "      <td>1.0</td>\n",
       "      <td>1.0</td>\n",
       "      <td>...</td>\n",
       "      <td>1.0</td>\n",
       "      <td>1.00000</td>\n",
       "      <td>1.0</td>\n",
       "      <td>1.00000</td>\n",
       "      <td>1.0</td>\n",
       "      <td>1.0</td>\n",
       "      <td>0.39119</td>\n",
       "      <td>0.46795</td>\n",
       "      <td>1.0</td>\n",
       "      <td>0.38872</td>\n",
       "    </tr>\n",
       "  </tbody>\n",
       "</table>\n",
       "<p>5 rows × 57 columns</p>\n",
       "</div>"
      ],
      "text/plain": [
       "    Rv_ID  2003A_Sassetti_q_val  2003B_Sassetti_q_val  2005_Rengarajan_q_val  \\\n",
       "0  Rv0001              0.004064                   1.0                    1.0   \n",
       "1  Rv0002              1.000000                   1.0                    1.0   \n",
       "2  Rv0003              1.000000                   1.0                    1.0   \n",
       "3  Rv0004              1.000000                   1.0                    1.0   \n",
       "4  Rv0005              0.000004                   1.0                    1.0   \n",
       "\n",
       "   2006_Joshi_GI_1_q_val  2006_Joshi_GI_2_q_val  2011_Griffin_2_q_val  \\\n",
       "0                    1.0                    1.0                   1.0   \n",
       "1                    1.0                    1.0                   1.0   \n",
       "2                    1.0                    1.0                   1.0   \n",
       "3                    1.0                    1.0                   1.0   \n",
       "4                    1.0                    1.0                   1.0   \n",
       "\n",
       "   2013_Zhang_1_q_val  2013_Zhang_2_q_val  2013_Zhang_3A_q_val  ...  \\\n",
       "0            1.000000                 1.0                  1.0  ...   \n",
       "1            1.000000                 1.0                  1.0  ...   \n",
       "2            0.000087                 1.0                  1.0  ...   \n",
       "3            1.000000                 1.0                  1.0  ...   \n",
       "4            1.000000                 1.0                  1.0  ...   \n",
       "\n",
       "   ponA1_q_val  Rv1565c_q_val  Rv3684_q_val  Rv0954_q_val  Rv3811_q_val  \\\n",
       "0          1.0        1.00000           1.0       1.00000           1.0   \n",
       "1          1.0        1.00000           1.0       1.00000           1.0   \n",
       "2          1.0        0.00001           1.0       0.38260           1.0   \n",
       "3          1.0        1.00000           1.0       0.98049           1.0   \n",
       "4          1.0        1.00000           1.0       1.00000           1.0   \n",
       "\n",
       "   Rv1096_q_val  Rv2680_q_val  Rv1432_q_val  Rv3594_q_val  Rv3005c_q_val  \n",
       "0           1.0       1.00000       1.00000           1.0        0.75078  \n",
       "1           1.0       1.00000       1.00000           1.0        1.00000  \n",
       "2           1.0       0.42468       0.69974           1.0        0.49222  \n",
       "3           1.0       1.00000       1.00000           1.0        1.00000  \n",
       "4           1.0       0.39119       0.46795           1.0        0.38872  \n",
       "\n",
       "[5 rows x 57 columns]"
      ]
     },
     "execution_count": 7,
     "metadata": {},
     "output_type": "execute_result"
    }
   ],
   "source": [
    "qval=rawdata[['Rv_ID']+qval_cols]\n",
    "qval.head()"
   ]
  },
  {
   "cell_type": "code",
   "execution_count": 8,
   "metadata": {
    "ExecuteTime": {
     "end_time": "2019-05-25T23:56:41.620244Z",
     "start_time": "2019-05-25T23:56:41.591940Z"
    }
   },
   "outputs": [],
   "source": [
    "mcbwser=mcbwser[['Rv_ID', 'Functional_Category']]\n",
    "mcbwser=mcbwser.drop_duplicates()\n",
    "lfc_mb=lfc.merge(mcbwser, on='Rv_ID', how='left')\n",
    "lfc_mb['Functional_Category']=lfc_mb['Functional_Category'].fillna('unknown')"
   ]
  },
  {
   "cell_type": "code",
   "execution_count": 9,
   "metadata": {
    "ExecuteTime": {
     "end_time": "2019-05-25T23:56:41.631621Z",
     "start_time": "2019-05-25T23:56:41.622694Z"
    }
   },
   "outputs": [
    {
     "data": {
      "text/plain": [
       "conserved hypotheticals                    1025\n",
       "intermediary metabolism and respiration     934\n",
       "cell wall and cell processes                771\n",
       "lipid metabolism                            271\n",
       "information pathways                        242\n",
       "virulence, detoxification, adaptation       220\n",
       "regulatory proteins                         198\n",
       "PE/PPE                                      166\n",
       "insertion seqs and phages                   146\n",
       "unknown                                      17\n",
       "Name: Functional_Category, dtype: int64"
      ]
     },
     "execution_count": 9,
     "metadata": {},
     "output_type": "execute_result"
    }
   ],
   "source": [
    "lfc_mb['Functional_Category'].value_counts()"
   ]
  },
  {
   "cell_type": "code",
   "execution_count": 10,
   "metadata": {
    "ExecuteTime": {
     "end_time": "2019-05-25T23:56:41.644516Z",
     "start_time": "2019-05-25T23:56:41.634597Z"
    }
   },
   "outputs": [],
   "source": [
    "assert (lfc_mb['Rv_ID']==qval['Rv_ID']).all()"
   ]
  },
  {
   "cell_type": "code",
   "execution_count": 12,
   "metadata": {
    "ExecuteTime": {
     "end_time": "2019-05-25T23:56:56.612966Z",
     "start_time": "2019-05-25T23:56:56.599080Z"
    }
   },
   "outputs": [],
   "source": [
    "qval_mb_filt=qval[~lfc_mb['Functional_Category'].isin(['conserved hypotheticals', 'unknown'])]\n",
    "lfc_mb_filt=lfc_mb[~lfc_mb['Functional_Category'].isin(['conserved hypotheticals', 'unknown'])]"
   ]
  },
  {
   "cell_type": "code",
   "execution_count": 13,
   "metadata": {
    "ExecuteTime": {
     "end_time": "2019-05-25T23:57:00.457823Z",
     "start_time": "2019-05-25T23:57:00.453856Z"
    }
   },
   "outputs": [
    {
     "name": "stdout",
     "output_type": "stream",
     "text": [
      "(2948, 58) (2948, 57)\n"
     ]
    }
   ],
   "source": [
    "print(lfc_mb_filt.shape, qval_mb_filt.shape)"
   ]
  },
  {
   "cell_type": "code",
   "execution_count": 64,
   "metadata": {
    "ExecuteTime": {
     "end_time": "2019-05-26T01:10:58.535489Z",
     "start_time": "2019-05-26T01:10:58.025103Z"
    }
   },
   "outputs": [],
   "source": [
    "lfc_mb_filt.to_csv(pathlib.Path.cwd().joinpath('cleaned_data','lfc_mb_filt.csv'), index=False)\n",
    "qval_mb_filt.to_csv(pathlib.Path.cwd().joinpath('cleaned_data','qval_mb_filt.csv'), index=False)"
   ]
  },
  {
   "cell_type": "code",
   "execution_count": 14,
   "metadata": {
    "ExecuteTime": {
     "end_time": "2019-05-25T23:57:03.952535Z",
     "start_time": "2019-05-25T23:57:03.941623Z"
    }
   },
   "outputs": [],
   "source": [
    "def lasso_inv_p(betas, Cs, lfc, qval):\n",
    "    X=lfc[lfc_cols].values\n",
    "    y=lfc['Functional_Category'].values\n",
    "    #replace values lower than 0.05 with 0.05\n",
    "    qval=qval[qval_cols].apply(lambda x: np.where(x<0.05, 0.05,x))\n",
    "    qval=qval[qval_cols].values\n",
    "    #print(X,y)\n",
    "    accuracy=pd.DataFrame(index=betas, columns=Cs, dtype='float')\n",
    "    for b in betas:\n",
    "        X=X/np.power(qval,b)\n",
    "        for C in Cs:\n",
    "        #print(b)\n",
    "            skf = StratifiedKFold(n_splits=3, shuffle=True)\n",
    "            accuracy_per_fold=[]\n",
    "            for train_index, test_index in skf.split(X, y):                \n",
    "                X_train, X_test = X[train_index], X[test_index]\n",
    "                y_train, y_test = y[train_index], y[test_index]\n",
    "                X_train, y_train=SMOTE().fit_resample(X_train, y_train)\n",
    "                clf=LogisticRegression(penalty='l1', solver='liblinear', multi_class='ovr', C=C)\n",
    "                clf.fit(X_train,y_train)\n",
    "                y_hat=clf.predict(X_test)\n",
    "                accuracy_per_fold.append(accuracy_score(y_test, y_hat))\n",
    "            accuracy.loc[b,C]=sum(accuracy_per_fold)/len(accuracy_per_fold)\n",
    "    plt.figure()\n",
    "    sns.heatmap(accuracy, annot=True, linewidths=.1, fmt='1.2f')\n",
    "    return None"
   ]
  },
  {
   "cell_type": "code",
   "execution_count": 15,
   "metadata": {
    "ExecuteTime": {
     "end_time": "2019-05-25T23:57:06.431531Z",
     "start_time": "2019-05-25T23:57:06.427066Z"
    }
   },
   "outputs": [],
   "source": [
    "betas=[0, 0.02, 0.05, 0.1, 0.2, 0.3, 0.4]\n",
    "Cs=[0.005,0.05, 0.1, 0.5, 1, 5, 10, 50, 100]"
   ]
  },
  {
   "cell_type": "code",
   "execution_count": 16,
   "metadata": {
    "ExecuteTime": {
     "end_time": "2019-05-25T23:58:40.360057Z",
     "start_time": "2019-05-25T23:57:07.741772Z"
    }
   },
   "outputs": [
    {
     "data": {
      "image/png": "[encoded data removed]",
      "text/plain": [
       "<Figure size 432x288 with 2 Axes>"
      ]
     },
     "metadata": {
      "needs_background": "light"
     },
     "output_type": "display_data"
    }
   ],
   "source": [
    "lasso_inv_p(betas,Cs, lfc_mb_filt,qval_mb_filt)"
   ]
  },
  {
   "cell_type": "code",
   "execution_count": 18,
   "metadata": {
    "ExecuteTime": {
     "end_time": "2019-05-25T23:59:09.670140Z",
     "start_time": "2019-05-25T23:59:09.656286Z"
    }
   },
   "outputs": [],
   "source": [
    "def lasso_min_p(lfc, qval, C):\n",
    "    X=lfc[lfc_cols].values\n",
    "    y=lfc['Functional_Category'].values\n",
    "    #replace values lower than 0.05 with 0.05\n",
    "    qval=qval[qval_cols].apply(lambda x: np.where(x<0.05, 0.05,x))\n",
    "    qval=qval[qval_cols].values\n",
    "    #print(X,y)\n",
    "    accuracy=[]\n",
    "    X=X*(1-qval)\n",
    "    skf = StratifiedKFold(n_splits=3, shuffle=True)\n",
    "    for train_index, test_index in skf.split(X, y):\n",
    "        X_train, X_test = X[train_index], X[test_index]\n",
    "        y_train, y_test = y[train_index], y[test_index]\n",
    "        X_train, y_train=SMOTE().fit_resample(X_train, y_train)\n",
    "        clf=LogisticRegression(penalty='l1', solver='liblinear', multi_class='ovr', C=C)\n",
    "        clf.fit(X_train,y_train)\n",
    "        y_hat=clf.predict(X_test)\n",
    "        accuracy.append(accuracy_score(y_test, y_hat))\n",
    "    print (accuracy)\n",
    "    #return accuracy"
   ]
  },
  {
   "cell_type": "code",
   "execution_count": 19,
   "metadata": {
    "ExecuteTime": {
     "end_time": "2019-05-25T23:59:11.286313Z",
     "start_time": "2019-05-25T23:59:10.539835Z"
    }
   },
   "outputs": [
    {
     "name": "stdout",
     "output_type": "stream",
     "text": [
      "[0.24746450304259635, 0.1985743380855397, 0.19387755102040816]\n"
     ]
    }
   ],
   "source": [
    "lasso_min_p(lfc_mb_filt,qval_mb_filt, C=10)"
   ]
  },
  {
   "cell_type": "code",
   "execution_count": 59,
   "metadata": {
    "ExecuteTime": {
     "end_time": "2019-05-26T00:59:28.308641Z",
     "start_time": "2019-05-26T00:59:28.293267Z"
    }
   },
   "outputs": [],
   "source": [
    "def lasso_confusion(lfc,C, figsize=(7,7)):\n",
    "    X=lfc[lfc_cols].values\n",
    "    y=lfc['Functional_Category'].values\n",
    "    n_classes=lfc['Functional_Category'].nunique()\n",
    "    #print(X,y)\n",
    "    accuracy=[]\n",
    "    confusion=np.zeros((n_classes, n_classes))\n",
    "    skf = StratifiedKFold(n_splits=3, shuffle=True)\n",
    "    for train_index, test_index in skf.split(X, y):\n",
    "        X_train, X_test = X[train_index], X[test_index]\n",
    "        y_train, y_test = y[train_index], y[test_index]\n",
    "        X_train, y_train=SMOTE().fit_resample(X_train, y_train)\n",
    "        clf=LogisticRegression(penalty='l1', solver='liblinear', multi_class='ovr', C=C)\n",
    "        clf.fit(X_train,y_train)\n",
    "        y_hat=clf.predict(X_test)\n",
    "        confusion+=confusion_matrix(y_test, y_hat)\n",
    "        accuracy.append(accuracy_score(y_test, y_hat))\n",
    "    confusion=confusion/3\n",
    "    confusion=normalize(confusion, axis=1, norm='l1')\n",
    "    print (accuracy)\n",
    "    confusion=pd.DataFrame(confusion, columns=clf.classes_, index=clf.classes_)\n",
    "    plt.figure(figsize=figsize)\n",
    "    sns.heatmap(confusion, annot=True, linewidths=.1, fmt='1.2f', square=True)\n",
    "    return None\n",
    "            \n",
    "            \n",
    "    "
   ]
  },
  {
   "cell_type": "code",
   "execution_count": 66,
   "metadata": {
    "ExecuteTime": {
     "end_time": "2019-05-26T01:45:25.812395Z",
     "start_time": "2019-05-26T01:45:23.212332Z"
    },
    "scrolled": true
   },
   "outputs": [
    {
     "name": "stdout",
     "output_type": "stream",
     "text": [
      "[0.21703853955375255, 0.20061099796334012, 0.22346938775510203]\n"
     ]
    },
    {
     "data": {
      "image/png": "[encoded data removed]",
      "text/plain": [
       "<Figure size 504x504 with 2 Axes>"
      ]
     },
     "metadata": {
      "needs_background": "light"
     },
     "output_type": "display_data"
    }
   ],
   "source": [
    "lasso_confusion(lfc_mb_filt, C=10)"
   ]
  },
  {
   "cell_type": "code",
   "execution_count": 23,
   "metadata": {
    "ExecuteTime": {
     "end_time": "2019-05-25T23:59:56.486752Z",
     "start_time": "2019-05-25T23:59:56.476831Z"
    }
   },
   "outputs": [],
   "source": [
    "def lasso_coefs(lfc, C):\n",
    "    X=lfc[lfc_cols].values\n",
    "    y=lfc['Functional_Category'].values\n",
    "    #print(X,y)\n",
    "    skf = StratifiedKFold(n_splits=3, shuffle=True)\n",
    "    X_train, y_train=SMOTE().fit_resample(X, y)\n",
    "    clf=LogisticRegression(penalty='l1', solver='liblinear', multi_class='ovr', C=C)\n",
    "    clf.fit(X_train,y_train)\n",
    "    coefs=clf.coef_\n",
    "    coefs=np.transpose(coefs)\n",
    "    coefs=pd.DataFrame(coefs, columns=clf.classes_, index=lfc_cols)\n",
    "    #print(clf.coef_)\n",
    "    return coefs\n",
    "            \n",
    "            \n",
    "    "
   ]
  },
  {
   "cell_type": "code",
   "execution_count": 24,
   "metadata": {
    "ExecuteTime": {
     "end_time": "2019-05-26T00:00:25.628420Z",
     "start_time": "2019-05-26T00:00:24.489692Z"
    }
   },
   "outputs": [],
   "source": [
    "lasso_coefs(lfc_mb_filt, C=10).to_csv(pathlib.Path.cwd().joinpath('results','LR_mb_coefs.csv'))"
   ]
  },
  {
   "cell_type": "code",
   "execution_count": 25,
   "metadata": {
    "ExecuteTime": {
     "end_time": "2019-05-26T00:00:28.200220Z",
     "start_time": "2019-05-26T00:00:28.190799Z"
    }
   },
   "outputs": [],
   "source": [
    "def lfc_add_features(lfc):\n",
    "    lfc = lfc.copy(deep=True)\n",
    "    col_indexes=range(len(lfc_cols))\n",
    "    for n1 in col_indexes:\n",
    "        for n2 in col_indexes[n1+1:]:\n",
    "            new_name=lfc_cols[n1]+'_minus_'+lfc_cols[n2]\n",
    "            #print (new_name)\n",
    "            lfc[new_name]=lfc[lfc_cols[n1]]-lfc[lfc_cols[n2]]\n",
    "    return lfc"
   ]
  },
  {
   "cell_type": "code",
   "execution_count": 26,
   "metadata": {
    "ExecuteTime": {
     "end_time": "2019-05-26T00:00:32.528087Z",
     "start_time": "2019-05-26T00:00:30.885829Z"
    }
   },
   "outputs": [],
   "source": [
    "lfc_mb_expanded=lfc_add_features(lfc_mb_filt)"
   ]
  },
  {
   "cell_type": "code",
   "execution_count": 27,
   "metadata": {
    "ExecuteTime": {
     "end_time": "2019-05-26T00:00:33.717771Z",
     "start_time": "2019-05-26T00:00:33.707234Z"
    }
   },
   "outputs": [],
   "source": [
    "def lasso_vanilla(lfc, Cs):\n",
    "    X=lfc[lfc_cols].values\n",
    "    y=lfc['Functional_Category'].values\n",
    "    #print(X,y)\n",
    "    accuracy={}\n",
    "    for C in Cs:        \n",
    "        skf = StratifiedKFold(n_splits=3, shuffle=True)\n",
    "        accuracy_per_fold=[]\n",
    "        for train_index, test_index in skf.split(X, y):\n",
    "            X_train, X_test = X[train_index], X[test_index]\n",
    "            y_train, y_test = y[train_index], y[test_index]\n",
    "            X_train, y_train=SMOTE().fit_resample(X_train, y_train)\n",
    "            clf=LogisticRegression(penalty='l1', solver='liblinear', multi_class='ovr', C=C)\n",
    "            clf.fit(X_train,y_train)\n",
    "            y_hat=clf.predict(X_test)\n",
    "            accuracy_per_fold.append(accuracy_score(y_test, y_hat))\n",
    "        accuracy[C]=sum(accuracy_per_fold)/len(accuracy_per_fold)\n",
    "    print (accuracy)\n",
    "    #return accuracy\n",
    "    "
   ]
  },
  {
   "cell_type": "code",
   "execution_count": 28,
   "metadata": {
    "ExecuteTime": {
     "end_time": "2019-05-26T00:00:50.638706Z",
     "start_time": "2019-05-26T00:00:35.623796Z"
    }
   },
   "outputs": [
    {
     "name": "stdout",
     "output_type": "stream",
     "text": [
      "{0.005: 0.15126632013856178, 0.05: 0.21642113689355227, 0.1: 0.222839546662123, 1: 0.22692528517833147, 10: 0.2180928990740899, 50: 0.22218893597188857, 100: 0.21437830135917, 500: 0.22255669737520686}\n"
     ]
    }
   ],
   "source": [
    "lasso_vanilla(lfc_mb_expanded, Cs=[0.005,0.05,0.1,1,10,50,100,500])"
   ]
  },
  {
   "cell_type": "code",
   "execution_count": null,
   "metadata": {},
   "outputs": [],
   "source": [
    "## With COG Categories"
   ]
  },
  {
   "cell_type": "code",
   "execution_count": 30,
   "metadata": {
    "ExecuteTime": {
     "end_time": "2019-05-26T00:38:09.560219Z",
     "start_time": "2019-05-26T00:38:09.546332Z"
    }
   },
   "outputs": [],
   "source": [
    "cogs=pd.read_csv(pathlib.Path.cwd().parents[0].joinpath('dash','all_cogs.csv'))"
   ]
  },
  {
   "cell_type": "code",
   "execution_count": 38,
   "metadata": {
    "ExecuteTime": {
     "end_time": "2019-05-26T00:40:49.608381Z",
     "start_time": "2019-05-26T00:40:49.601935Z"
    }
   },
   "outputs": [
    {
     "data": {
      "text/plain": [
       "(158, 2)"
      ]
     },
     "execution_count": 38,
     "metadata": {},
     "output_type": "execute_result"
    }
   ],
   "source": [
    "cogs[cogs['X.Orf'].duplicated()].shape"
   ]
  },
  {
   "cell_type": "code",
   "execution_count": 39,
   "metadata": {
    "ExecuteTime": {
     "end_time": "2019-05-26T00:41:17.790771Z",
     "start_time": "2019-05-26T00:41:17.779365Z"
    }
   },
   "outputs": [],
   "source": [
    "lfc_cog=pd.merge(lfc,cogs, left_on='Rv_ID', right_on='X.Orf')"
   ]
  },
  {
   "cell_type": "code",
   "execution_count": 40,
   "metadata": {
    "ExecuteTime": {
     "end_time": "2019-05-26T00:41:28.243117Z",
     "start_time": "2019-05-26T00:41:28.238522Z"
    }
   },
   "outputs": [
    {
     "name": "stdout",
     "output_type": "stream",
     "text": [
      "(3990, 57) (4145, 59)\n"
     ]
    }
   ],
   "source": [
    "print(lfc.shape, lfc_cog.shape)"
   ]
  },
  {
   "cell_type": "code",
   "execution_count": 44,
   "metadata": {
    "ExecuteTime": {
     "end_time": "2019-05-26T00:49:37.159779Z",
     "start_time": "2019-05-26T00:49:37.152338Z"
    }
   },
   "outputs": [
    {
     "data": {
      "text/plain": [
       "0"
      ]
     },
     "execution_count": 44,
     "metadata": {},
     "output_type": "execute_result"
    }
   ],
   "source": [
    "sum(lfc_cog['COG'].isna())"
   ]
  },
  {
   "cell_type": "code",
   "execution_count": 46,
   "metadata": {
    "ExecuteTime": {
     "end_time": "2019-05-26T00:50:34.804243Z",
     "start_time": "2019-05-26T00:50:34.790851Z"
    }
   },
   "outputs": [],
   "source": [
    "lfc_cog=lfc_cog.drop(columns='X.Orf')\n",
    "lfc_cog=lfc_cog.rename(columns={'COG': 'Functional_Category'})"
   ]
  },
  {
   "cell_type": "code",
   "execution_count": 48,
   "metadata": {
    "ExecuteTime": {
     "end_time": "2019-05-26T00:51:56.502091Z",
     "start_time": "2019-05-26T00:51:56.491676Z"
    }
   },
   "outputs": [
    {
     "data": {
      "text/plain": [
       "S    1372\n",
       "R     521\n",
       "C     222\n",
       "L     218\n",
       "K     201\n",
       "Q     197\n",
       "I     189\n",
       "E     182\n",
       "J     160\n",
       "H     141\n",
       "P     135\n",
       "G     120\n",
       "M     114\n",
       "T      99\n",
       "O      88\n",
       "F      65\n",
       "V      49\n",
       "D      44\n",
       "U      27\n",
       "A       1\n",
       "Name: Functional_Category, dtype: int64"
      ]
     },
     "execution_count": 48,
     "metadata": {},
     "output_type": "execute_result"
    }
   ],
   "source": [
    "lfc_cog['Functional_Category'].value_counts()"
   ]
  },
  {
   "cell_type": "code",
   "execution_count": 50,
   "metadata": {
    "ExecuteTime": {
     "end_time": "2019-05-26T00:52:48.830610Z",
     "start_time": "2019-05-26T00:52:48.824163Z"
    }
   },
   "outputs": [],
   "source": [
    "lfc_cog_filt=lfc_cog[~lfc_cog['Functional_Category'].isin(['A', 'U', 'D', 'V', 'S'])]"
   ]
  },
  {
   "cell_type": "code",
   "execution_count": 52,
   "metadata": {
    "ExecuteTime": {
     "end_time": "2019-05-26T00:54:00.462388Z",
     "start_time": "2019-05-26T00:53:23.050121Z"
    }
   },
   "outputs": [
    {
     "name": "stdout",
     "output_type": "stream",
     "text": [
      "{0.05: 0.12823258428397633, 0.1: 0.14292969584635454, 0.2: 0.13761423301866235, 0.5: 0.13836763001964691, 1.0: 0.1474293601947281, 50: 0.1478060080290031, 100: 0.13576948087104204}\n"
     ]
    }
   ],
   "source": [
    "lasso_vanilla(lfc_cog_filt, Cs=[0.05,0.1, 0.2, 0.5, 1.0, 50, 100])"
   ]
  },
  {
   "cell_type": "code",
   "execution_count": 61,
   "metadata": {
    "ExecuteTime": {
     "end_time": "2019-05-26T00:59:51.986894Z",
     "start_time": "2019-05-26T00:59:48.821026Z"
    }
   },
   "outputs": [
    {
     "name": "stdout",
     "output_type": "stream",
     "text": [
      "[0.13416009019165728, 0.1310734463276836, 0.14204545454545456]\n"
     ]
    },
    {
     "data": {
      "image/png": "[encoded data removed]",
      "text/plain": [
       "<Figure size 720x720 with 2 Axes>"
      ]
     },
     "metadata": {
      "needs_background": "light"
     },
     "output_type": "display_data"
    }
   ],
   "source": [
    "lasso_confusion(lfc_cog_filt, C=0.1, figsize=(10,10))"
   ]
  },
  {
   "cell_type": "code",
   "execution_count": 65,
   "metadata": {
    "ExecuteTime": {
     "end_time": "2019-05-26T01:11:06.126254Z",
     "start_time": "2019-05-26T01:11:05.691261Z"
    }
   },
   "outputs": [],
   "source": [
    "lfc_cog_filt.to_csv(pathlib.Path.cwd().joinpath('cleaned_data','lfc_cog_filt.csv'), index=False)"
   ]
  }
 ],
 "metadata": {
  "kernelspec": {
   "display_name": "Python 3",
   "language": "python",
   "name": "python3"
  },
  "toc": {
   "base_numbering": 1,
   "nav_menu": {},
   "number_sections": true,
   "sideBar": true,
   "skip_h1_title": false,
   "title_cell": "Table of Contents",
   "title_sidebar": "Contents",
   "toc_cell": false,
   "toc_position": {},
   "toc_section_display": true,
   "toc_window_display": false
  },
  "varInspector": {
   "cols": {
    "lenName": 16,
    "lenType": 16,
    "lenVar": 40
   },
   "kernels_config": {
    "python": {
     "delete_cmd_postfix": "",
     "delete_cmd_prefix": "del ",
     "library": "var_list.py",
     "varRefreshCmd": "print(var_dic_list())"
    },
    "r": {
     "delete_cmd_postfix": ") ",
     "delete_cmd_prefix": "rm(",
     "library": "var_list.r",
     "varRefreshCmd": "cat(var_dic_list()) "
    }
   },
   "types_to_exclude": [
    "module",
    "function",
    "builtin_function_or_method",
    "instance",
    "_Feature"
   ],
   "window_display": false
  }
 },
 "nbformat": 4,
 "nbformat_minor": 2
}
