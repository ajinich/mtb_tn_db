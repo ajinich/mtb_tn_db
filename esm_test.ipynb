{
 "cells": [
  {
   "cell_type": "markdown",
   "metadata": {
    "colab_type": "text",
    "id": "view-in-github"
   },
   "source": [
    "<a href=\"https://colab.research.google.com/github/ajinich/mtb_tn_db/blob/master/esm_test.ipynb\" target=\"_parent\"><img src=\"https://colab.research.google.com/assets/colab-badge.svg\" alt=\"Open In Colab\"/></a>"
   ]
  },
  {
   "cell_type": "code",
   "execution_count": 1,
   "metadata": {
    "colab": {
     "base_uri": "https://localhost:8080/"
    },
    "id": "CakDcK5RGQZJ",
    "outputId": "87fd889d-8349-48eb-fbc2-c78fff037030"
   },
   "outputs": [
    {
     "name": "stdout",
     "output_type": "stream",
     "text": [
      "Collecting git+https://github.com/facebookresearch/esm.git\n",
      "  Cloning https://github.com/facebookresearch/esm.git to /tmp/pip-req-build-0l4c2b45\n",
      "  Running command git clone -q https://github.com/facebookresearch/esm.git /tmp/pip-req-build-0l4c2b45\n",
      "  Installing build dependencies ... \u001b[?25l\u001b[?25hdone\n",
      "  Getting requirements to build wheel ... \u001b[?25l\u001b[?25hdone\n",
      "    Preparing wheel metadata ... \u001b[?25l\u001b[?25hdone\n",
      "Building wheels for collected packages: fair-esm\n",
      "  Building wheel for fair-esm (PEP 517) ... \u001b[?25l\u001b[?25hdone\n",
      "  Created wheel for fair-esm: filename=fair_esm-0.3.1-cp37-none-any.whl size=35777 sha256=4c5c3d42015a0042ceda7cdc601ec01bebe626d1d9374d394289b4df56583488\n",
      "  Stored in directory: /tmp/pip-ephem-wheel-cache-kfs_18fo/wheels/68/f1/02/8c8e4fea902cc926d482415aa393f6dc1eb1a41d2d78e1ec75\n",
      "Successfully built fair-esm\n",
      "Installing collected packages: fair-esm\n",
      "Successfully installed fair-esm-0.3.1\n"
     ]
    }
   ],
   "source": [
    "!pip install git+https://github.com/facebookresearch/esm.git"
   ]
  },
  {
   "cell_type": "code",
   "execution_count": 2,
   "metadata": {
    "id": "YjhkpUuSGnQg"
   },
   "outputs": [],
   "source": [
    "import torch"
   ]
  },
  {
   "cell_type": "code",
   "execution_count": null,
   "metadata": {
    "id": "cIfOGgtPGwhj"
   },
   "outputs": [],
   "source": []
  }
 ],
 "metadata": {
  "colab": {
   "authorship_tag": "ABX9TyPVCOGVITTTAExI7uUB9R7T",
   "include_colab_link": true,
   "name": "esm_test.ipynb",
   "provenance": []
  },
  "kernelspec": {
   "display_name": "Python 3 (ipykernel)",
   "language": "python",
   "name": "python3"
  },
  "language_info": {
   "codemirror_mode": {
    "name": "ipython",
    "version": 3
   },
   "file_extension": ".py",
   "mimetype": "text/x-python",
   "name": "python",
   "nbconvert_exporter": "python",
   "pygments_lexer": "ipython3",
   "version": "3.8.10"
  }
 },
 "nbformat": 4,
 "nbformat_minor": 4
}
